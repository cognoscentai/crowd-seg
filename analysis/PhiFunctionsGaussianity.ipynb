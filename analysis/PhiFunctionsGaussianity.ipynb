{
 "cells": [
  {
   "cell_type": "code",
   "execution_count": 1,
   "metadata": {
    "collapsed": false
   },
   "outputs": [
    {
     "name": "stdout",
     "output_type": "stream",
     "text": [
      "Populating the interactive namespace from numpy and matplotlib\n"
     ]
    }
   ],
   "source": [
    "%pylab inline "
   ]
  },
  {
   "cell_type": "code",
   "execution_count": 2,
   "metadata": {
    "collapsed": false
   },
   "outputs": [],
   "source": [
    "%load_ext autoreload\n",
    "%autoreload 2\n",
    "from analysis_toolbox import *"
   ]
  },
  {
   "cell_type": "code",
   "execution_count": 92,
   "metadata": {
    "collapsed": false,
    "scrolled": true
   },
   "outputs": [],
   "source": [
    "import ast\n",
    "from qualityBaseline import * \n",
    "from pycocotools.coco import COCO\n",
    "import matplotlib.image as mpimg\n",
    "save_db_as_csv(connect=False)\n",
    "img_info,object_tbl,bb_info,hit_info = load_info()"
   ]
  },
  {
   "cell_type": "code",
   "execution_count": 4,
   "metadata": {
    "collapsed": false
   },
   "outputs": [],
   "source": [
    "all_x_locs = bb_info[\"x_locs\"]\n",
    "all_y_locs = bb_info[\"y_locs\"]"
   ]
  },
  {
   "cell_type": "code",
   "execution_count": 7,
   "metadata": {
    "collapsed": false
   },
   "outputs": [
    {
     "name": "stdout",
     "output_type": "stream",
     "text": [
      "loading annotations into memory...\n",
      "Done (t=15.76s)\n",
      "creating index...\n",
      "index created!\n"
     ]
    }
   ],
   "source": [
    "dataDir='../../coco/'\n",
    "dataType='train2014'\n",
    "annFile='%s/annotations/instances_%s.json'%(dataDir,dataType)\n",
    "# initialize COCO api for instance annotations\n",
    "coco=COCO(annFile)"
   ]
  },
  {
   "cell_type": "code",
   "execution_count": 9,
   "metadata": {
    "collapsed": true
   },
   "outputs": [],
   "source": [
    "ground_truth = pd.read_csv(\"../../data/object_ground_truth.csv\")"
   ]
  },
  {
   "cell_type": "code",
   "execution_count": 10,
   "metadata": {
    "collapsed": false
   },
   "outputs": [],
   "source": [
    "def process_raw_locs(segmentation,COCO=False):\n",
    "    '''\n",
    "    Given a raw string of x and y coordinates, process it\n",
    "    return a list of x_locs and y_locs\n",
    "    '''\n",
    "    x_locs=[]\n",
    "    y_locs=[]\n",
    "    if COCO:\n",
    "        #COCO\n",
    "#         print \"Process COCO\"\n",
    "        poly = np.array(segmentation).reshape((len(segmentation)/2, 2))\n",
    "        x_locs = list(poly[:,0])\n",
    "        y_locs = list(poly[:,1])\n",
    "    else: \n",
    "        bbx_path,bby_path = segmentation\n",
    "        x_locs = [x for x in ast.literal_eval(bbx_path) if x is not None]\n",
    "        y_locs = [y for y in ast.literal_eval(bby_path) if y is not None]\n",
    "\n",
    "\n",
    "    # Append the starting point again in the end to close the BB\n",
    "    x_locs.append(x_locs[0])\n",
    "    y_locs.append(y_locs[0])\n",
    "    return x_locs,y_locs"
   ]
  },
  {
   "cell_type": "code",
   "execution_count": 11,
   "metadata": {
    "collapsed": true
   },
   "outputs": [],
   "source": [
    "bb_info['COCO Majority Vote'] = pd.Series(np.zeros(len(bb_info)), index=bb_info.index)"
   ]
  },
  {
   "cell_type": "code",
   "execution_count": 32,
   "metadata": {
    "collapsed": false
   },
   "outputs": [
    {
     "data": {
      "text/plain": [
       "object_id                                                             8\n",
       "worker_id                                                             3\n",
       "x_locs                [302, 264, 254, 250, 250, 250, 248, 247, 247, ...\n",
       "y_locs                [124, 131, 137, 145, 152, 160, 167, 173, 188, ...\n",
       "COCO Majority Vote                                                    0\n",
       "Name: 0, dtype: object"
      ]
     },
     "execution_count": 32,
     "metadata": {},
     "output_type": "execute_result"
    }
   ],
   "source": [
    "bb_info.ix[bb[0]]"
   ]
  },
  {
   "cell_type": "code",
   "execution_count": 93,
   "metadata": {
    "collapsed": false,
    "scrolled": true
   },
   "outputs": [],
   "source": [
    "for i in np.arange(len(img_info)):\n",
    "    img_name = img_info[\"filename\"][i]\n",
    "    if 'COCO' in img_name:\n",
    "        fname = \"../web-app/app/static/\"+img_name+\".png\"\n",
    "        img=mpimg.imread(fname)\n",
    "        width,height = get_size(fname)\n",
    "        img_id = int(img_name.split('_')[-1])\n",
    "        filtered_object_tbl = object_tbl[object_tbl[\"image_id\"]==i+1]\n",
    "        annIds = coco.getAnnIds(imgIds=img_id, iscrowd=None)\n",
    "        anns = coco.loadAnns(annIds)\n",
    "        #for oid,bbx_path,bby_path in zip(bb_info[\"object_id\"],bb_info[\"x_locs\"],bb_info[\"y_locs\"]):\n",
    "        for bb in bb_info.iterrows():\n",
    "            oid = bb[1][\"object_id\"]\n",
    "            bbx_path= bb[1][\"x_locs\"]\n",
    "            bby_path= bb[1][\"y_locs\"]\n",
    "            if int(object_tbl[object_tbl.object_id==oid].image_id) ==i+1:\n",
    "                worker_x_locs,worker_y_locs= process_raw_locs([bbx_path,bby_path])\n",
    "                ground_truth_match = ground_truth[ground_truth.id==str(oid)]\n",
    "                COCO_id = int(ground_truth_match[\"COCO_annIds\"])\n",
    "                \n",
    "                #COCO-Annotations\n",
    "                for ann in anns:\n",
    "                    if COCO_id==-1:\n",
    "                        #No BB for this object collected by MSCOCO\n",
    "                        pass\n",
    "                    elif ann['id'] == COCO_id: \n",
    "#                         print COCO_id\n",
    "                        for annBB in ann[\"segmentation\"]:\n",
    "                            bbg_x_locs,bbg_y_locs = process_raw_locs(annBB,COCO=True)\n",
    "    #                         print ann[\"segmentation\"]\n",
    "#                             print majority_vote([worker_x_locs,bbg_x_locs],[worker_y_locs,bbg_y_locs],width,height)                \n",
    "                            obj_x_locs = [worker_x_locs,bbg_x_locs]\n",
    "                            obj_y_locs = [worker_y_locs,bbg_y_locs]\n",
    "                            bb_info = bb_info.set_value(bb[0],\"COCO Majority Vote\",majority_vote(obj_x_locs,obj_y_locs,width,height))                \n",
    "                            #bb_info = bb_info.set_value(bb[0],\"Munkres Euclidean\",DistAllWorkers(obj_x_locs,obj_y_locs))\n",
    "                            bb_info = bb_info.set_value(bb[0],\"COCO Precision\",precision(obj_x_locs,obj_y_locs,width,height))                \n",
    "                            bb_info = bb_info.set_value(bb[0],\"COCO Recall\",recall(obj_x_locs,obj_y_locs,width,height))                "
   ]
  },
  {
   "cell_type": "markdown",
   "metadata": {},
   "source": [
    "- Work on debugging Munkres Euclidean later "
   ]
  },
  {
   "cell_type": "markdown",
   "metadata": {},
   "source": [
    "### Precision and recall "
   ]
  },
  {
   "cell_type": "code",
   "execution_count": 59,
   "metadata": {
    "collapsed": true
   },
   "outputs": [],
   "source": [
    "def make_iou_mask(obj_x_locs,obj_y_locs,width,height):\n",
    "    '''\n",
    "    Returns a mask that has all the worker's responses overlaid on top of each other\n",
    "    '''\n",
    "    iou_mask = np.zeros((height,width))\n",
    "    img = Image.new('L', (width, height), 0)\n",
    "    for x_locs, y_locs in zip(obj_x_locs,obj_y_locs):\n",
    "        ImageDraw.Draw(img).polygon(zip(x_locs,y_locs), outline=1, fill=1)\n",
    "        mask = np.array(img)==1\n",
    "        iou_mask+=mask\n",
    "    return iou_mask"
   ]
  },
  {
   "cell_type": "code",
   "execution_count": 60,
   "metadata": {
    "collapsed": true
   },
   "outputs": [],
   "source": [
    "from PIL import Image, ImageDraw\n",
    "def majority_vote(obj_x_locs,obj_y_locs,width,height): \n",
    "    '''\n",
    "    Jaccard Simmilarity or Overlap Method\n",
    "    used for PASCAL VOC challenge\n",
    "    '''\n",
    "    iou_mask  = make_iou_mask(obj_x_locs,obj_y_locs,width,height) \n",
    "    # Compute Jaccard Simmilarity \n",
    "    intersection = len(np.where(iou_mask == iou_mask.max())[0])\n",
    "    union  =len(np.where(iou_mask !=0)[0])\n",
    "    return float(union)/intersection"
   ]
  },
  {
   "cell_type": "code",
   "execution_count": 62,
   "metadata": {
    "collapsed": true
   },
   "outputs": [],
   "source": [
    "import qualityBaseline"
   ]
  },
  {
   "cell_type": "code",
   "execution_count": 64,
   "metadata": {
    "collapsed": false
   },
   "outputs": [
    {
     "data": {
      "text/plain": [
       "True"
      ]
     },
     "execution_count": 64,
     "metadata": {},
     "output_type": "execute_result"
    }
   ],
   "source": [
    "majority_vote(obj_x_locs,obj_y_locs,width,height) == qualityBaseline.majority_vote(obj_x_locs,obj_y_locs,width,height)"
   ]
  },
  {
   "cell_type": "code",
   "execution_count": 85,
   "metadata": {
    "collapsed": true
   },
   "outputs": [],
   "source": [
    "def area(obj_x_loc,obj_y_loc,width,height,debug = False):\n",
    "    iou_mask = np.zeros((height,width))\n",
    "    img = Image.new('L', (width, height), 0)\n",
    "    ImageDraw.Draw(img).polygon(zip(obj_x_loc,obj_y_loc), outline=1, fill=1)\n",
    "    iou_mask = np.array(img)==1\n",
    "    if debug: \n",
    "        plt.imshow(iou_mask)\n",
    "        plt.colorbar()\n",
    "    area = len(np.where(iou_mask==1)[0])\n",
    "    return area"
   ]
  },
  {
   "cell_type": "code",
   "execution_count": 86,
   "metadata": {
    "collapsed": true
   },
   "outputs": [],
   "source": [
    "def recall(obj_x_locs,obj_y_locs,width,height):\n",
    "    iou_mask  = make_iou_mask(obj_x_locs,obj_y_locs,width,height) \n",
    "    intersection = len(np.where(iou_mask == iou_mask.max())[0])\n",
    "    worker_bb_area  = area(obj_x_locs[0],obj_y_locs[0],width,height)\n",
    "    return intersection/float(worker_bb_area)"
   ]
  },
  {
   "cell_type": "code",
   "execution_count": 87,
   "metadata": {
    "collapsed": true
   },
   "outputs": [],
   "source": [
    "def precision(obj_x_locs,obj_y_locs,width,height):\n",
    "    iou_mask  = make_iou_mask(obj_x_locs,obj_y_locs,width,height) \n",
    "    intersection = len(np.where(iou_mask == iou_mask.max())[0])\n",
    "    truth_bb_area  = area(obj_x_locs[1],obj_y_locs[1],width,height)\n",
    "    return intersection/float(truth_bb_area)"
   ]
  },
  {
   "cell_type": "code",
   "execution_count": 88,
   "metadata": {
    "collapsed": false
   },
   "outputs": [
    {
     "data": {
      "text/plain": [
       "2.084280303030303"
      ]
     },
     "execution_count": 88,
     "metadata": {},
     "output_type": "execute_result"
    }
   ],
   "source": [
    "precision(obj_x_locs,obj_y_locs,width,height)"
   ]
  },
  {
   "cell_type": "code",
   "execution_count": 89,
   "metadata": {
    "collapsed": false
   },
   "outputs": [
    {
     "data": {
      "text/plain": [
       "1.0"
      ]
     },
     "execution_count": 89,
     "metadata": {},
     "output_type": "execute_result"
    }
   ],
   "source": [
    "recall(obj_x_locs,obj_y_locs,width,height)"
   ]
  },
  {
   "cell_type": "markdown",
   "metadata": {},
   "source": [
    "if total recall, that means the BB is overbounding, or maybe our ground truth is just not very good"
   ]
  },
  {
   "cell_type": "code",
   "execution_count": 98,
   "metadata": {
    "collapsed": false
   },
   "outputs": [],
   "source": [
    "# replace all NAN values with -1, these are entries for which we don't have COCO ground truth\n",
    "bb_info = bb_info.fillna(-1)"
   ]
  },
  {
   "cell_type": "code",
   "execution_count": null,
   "metadata": {
    "collapsed": true
   },
   "outputs": [],
   "source": []
  }
 ],
 "metadata": {
  "kernelspec": {
   "display_name": "Python 2",
   "language": "python",
   "name": "python2"
  },
  "language_info": {
   "codemirror_mode": {
    "name": "ipython",
    "version": 2
   },
   "file_extension": ".py",
   "mimetype": "text/x-python",
   "name": "python",
   "nbconvert_exporter": "python",
   "pygments_lexer": "ipython2",
   "version": "2.7.10"
  }
 },
 "nbformat": 4,
 "nbformat_minor": 0
}
