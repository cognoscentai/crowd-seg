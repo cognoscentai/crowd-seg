{
 "cells": [
  {
   "cell_type": "code",
   "execution_count": 1,
   "metadata": {
    "collapsed": false
   },
   "outputs": [
    {
     "name": "stdout",
     "output_type": "stream",
     "text": [
      "Populating the interactive namespace from numpy and matplotlib\n"
     ]
    }
   ],
   "source": [
    "%pylab inline "
   ]
  },
  {
   "cell_type": "code",
   "execution_count": 2,
   "metadata": {
    "collapsed": false
   },
   "outputs": [
    {
     "data": {
      "text/plain": [
       "0.047150670955882656"
      ]
     },
     "execution_count": 2,
     "metadata": {},
     "output_type": "execute_result"
    }
   ],
   "source": [
    "from shapely.geometry import box,Polygon\n",
    "# Example polygon \n",
    "xy = [[130.21001, 27.200001], [129.52, 27.34], [129.45, 27.1], [130.13, 26.950001]]\n",
    "polygon_shape = Polygon(xy)\n",
    "# Example grid cell\n",
    "gridcell_shape = box(129.5, -27.0, 129.75, 27.25)\n",
    "# The intersection\n",
    "polygon_shape.intersection(gridcell_shape).area"
   ]
  },
  {
   "cell_type": "code",
   "execution_count": 3,
   "metadata": {
    "collapsed": false
   },
   "outputs": [],
   "source": [
    "%load_ext autoreload\n",
    "%autoreload 2\n",
    "from analysis_toolbox import *"
   ]
  },
  {
   "cell_type": "code",
   "execution_count": 4,
   "metadata": {
    "collapsed": false,
    "scrolled": false
   },
   "outputs": [
    {
     "name": "stderr",
     "output_type": "stream",
     "text": [
      "/Users/dorislee/.virtualenvs/py27dev/lib/python2.7/site-packages/pandas/io/parsers.py:648: ParserWarning: Falling back to the 'python' engine because the 'c' engine does not support skip_footer; you can avoid this warning by specifying engine='python'.\n",
      "  ParserWarning)\n"
     ]
    }
   ],
   "source": [
    "import ast\n",
    "from qualityBaseline import * \n",
    "from pycocotools.coco import COCO\n",
    "import matplotlib.image as mpimg\n",
    "save_db_as_csv(connect=False)\n",
    "img_info,object_tbl,bb_info,hit_info = load_info()"
   ]
  },
  {
   "cell_type": "code",
   "execution_count": 5,
   "metadata": {
    "collapsed": false
   },
   "outputs": [],
   "source": [
    "all_x_locs = bb_info[\"x_locs\"]\n",
    "all_y_locs = bb_info[\"y_locs\"]"
   ]
  },
  {
   "cell_type": "code",
   "execution_count": 6,
   "metadata": {
    "collapsed": false
   },
   "outputs": [
    {
     "name": "stdout",
     "output_type": "stream",
     "text": [
      "loading annotations into memory...\n",
      "Done (t=23.77s)\n",
      "creating index...\n",
      "index created!\n"
     ]
    }
   ],
   "source": [
    "dataDir='../../coco/'\n",
    "dataType='train2014'\n",
    "annFile='%s/annotations/instances_%s.json'%(dataDir,dataType)\n",
    "# initialize COCO api for instance annotations\n",
    "coco=COCO(annFile)"
   ]
  },
  {
   "cell_type": "code",
   "execution_count": 7,
   "metadata": {
    "collapsed": false
   },
   "outputs": [],
   "source": [
    "ground_truth = pd.read_csv(\"../../data/object_ground_truth.csv\")"
   ]
  },
  {
   "cell_type": "code",
   "execution_count": 8,
   "metadata": {
    "collapsed": false
   },
   "outputs": [],
   "source": [
    "def process_raw_locs(segmentation,COCO=False):\n",
    "    '''\n",
    "    Given a raw string of x and y coordinates, process it\n",
    "    return a list of x_locs and y_locs\n",
    "    '''\n",
    "    x_locs=[]\n",
    "    y_locs=[]\n",
    "    if COCO:\n",
    "        #COCO\n",
    "#         print \"Process COCO\"\n",
    "        poly = np.array(segmentation).reshape((len(segmentation)/2, 2))\n",
    "        x_locs = list(poly[:,0])\n",
    "        y_locs = list(poly[:,1])\n",
    "    else: \n",
    "        bbx_path,bby_path = segmentation\n",
    "        x_locs = [x for x in ast.literal_eval(bbx_path) if x is not None]\n",
    "        y_locs = [y for y in ast.literal_eval(bby_path) if y is not None]\n",
    "\n",
    "\n",
    "    # Append the starting point again in the end to close the BB\n",
    "    x_locs.append(x_locs[0])\n",
    "    y_locs.append(y_locs[0])\n",
    "    return x_locs,y_locs"
   ]
  },
  {
   "cell_type": "markdown",
   "metadata": {},
   "source": [
    "#Installing shapely\n",
    "``\n",
    "pip install shapely==1.6b2\n",
    "export DYLD_FALLBACK_LIBRARY_PATH=/usr/local/lib:/lib:/usr/lib\n",
    "``"
   ]
  },
  {
   "cell_type": "code",
   "execution_count": 16,
   "metadata": {
    "collapsed": false
   },
   "outputs": [
    {
     "data": {
      "text/plain": [
       "0.047150670955882656"
      ]
     },
     "execution_count": 16,
     "metadata": {},
     "output_type": "execute_result"
    }
   ],
   "source": [
    "# Example polygon \n",
    "xy = [[130.21001, 27.200001], [129.52, 27.34], [129.45, 27.1], [130.13, 26.950001]]\n",
    "polygon_shape = Polygon(xy)\n",
    "# Example grid cell\n",
    "gridcell_shape = box(129.5, -27.0, 129.75, 27.25)\n",
    "# The intersection\n",
    "polygon_shape.intersection(gridcell_shape).area"
   ]
  },
  {
   "cell_type": "code",
   "execution_count": 34,
   "metadata": {
    "collapsed": false
   },
   "outputs": [
    {
     "data": {
      "text/plain": [
       "1.0"
      ]
     },
     "execution_count": 34,
     "metadata": {},
     "output_type": "execute_result"
    }
   ],
   "source": [
    "obj_x_locs=[[1,3,3,1],[2,5,5,2]]\n",
    "obj_y_locs=[[3,3,1,1],[2,2,0,0]]\n",
    "polygon1 = Polygon(zip(obj_x_locs[0],obj_y_locs[0]))\n",
    "polygon2 = Polygon(zip(obj_x_locs[1],obj_y_locs[1]))\n",
    "polygon1.intersection(polygon2).area"
   ]
  },
  {
   "cell_type": "code",
   "execution_count": 109,
   "metadata": {
    "collapsed": true
   },
   "outputs": [],
   "source": [
    "from shapely.geometry import box,Polygon\n",
    "def intersection(obj_x_locs,obj_y_locs,debug=False):\n",
    "    # Compute intersecting area\n",
    "    polygon1 = Polygon(zip(obj_x_locs[0],obj_y_locs[0])).buffer(0)\n",
    "    polygon2 = Polygon(zip(obj_x_locs[1],obj_y_locs[1])).buffer(0)\n",
    "    if debug : plt.imshow(polygon1.intersection(polygon2),interpolation=\"None\")\n",
    "    return polygon1.intersection(polygon2).area"
   ]
  },
  {
   "cell_type": "code",
   "execution_count": 110,
   "metadata": {
    "collapsed": false
   },
   "outputs": [],
   "source": [
    "def union(obj_x_locs,obj_y_locs,debug=False):\n",
    "    # Compute union area of two given polygon \n",
    "    polygon1 = Polygon(zip(obj_x_locs[0],obj_y_locs[0])).buffer(0)\n",
    "    polygon2 = Polygon(zip(obj_x_locs[1],obj_y_locs[1])).buffer(0)\n",
    "    if debug : plt.imshow(polygon1.union(polygon2),interpolation=\"None\")\n",
    "    return polygon1.union(polygon2).area"
   ]
  },
  {
   "cell_type": "code",
   "execution_count": 111,
   "metadata": {
    "collapsed": true
   },
   "outputs": [],
   "source": [
    "def majority_vote(obj_x_locs,obj_y_locs): \n",
    "    '''\n",
    "    Jaccard Simmilarity or Overlap Method\n",
    "    used for PASCAL VOC challenge\n",
    "    ''' \n",
    "    return intersection(obj_x_locs,obj_y_locs)/union(obj_x_locs,obj_y_locs)"
   ]
  },
  {
   "cell_type": "code",
   "execution_count": 112,
   "metadata": {
    "collapsed": false
   },
   "outputs": [],
   "source": [
    "def precision(obj_x_locs,obj_y_locs):\n",
    "    worker_bb = Polygon(zip(obj_x_locs[0],obj_y_locs[0]))\n",
    "    worker_bb_area  = worker_bb.area\n",
    "#     print \"Intersection: \", intersection(obj_x_locs,obj_y_locs)\n",
    "#     print \"Worker BB area: \",worker_bb_area\n",
    "    return intersection(obj_x_locs,obj_y_locs)/float(worker_bb_area)"
   ]
  },
  {
   "cell_type": "code",
   "execution_count": 113,
   "metadata": {
    "collapsed": true
   },
   "outputs": [],
   "source": [
    "def recall(obj_x_locs,obj_y_locs):\n",
    "    truth_bb = Polygon(zip(obj_x_locs[1],obj_y_locs[1]))\n",
    "    truth_bb_area  = truth_bb.area\n",
    "    return intersection(obj_x_locs,obj_y_locs)/float(truth_bb_area)"
   ]
  },
  {
   "cell_type": "code",
   "execution_count": 114,
   "metadata": {
    "collapsed": false
   },
   "outputs": [
    {
     "name": "stdout",
     "output_type": "stream",
     "text": [
      "Check ``union``:  True\n",
      "Check ``intersection``:  True\n",
      "Check ``majority_vote``:  True\n",
      "Check ``precision``:  True\n",
      "Check ``recall``:  True\n"
     ]
    }
   ],
   "source": [
    "# 2 simple overlapping rectangle test example \n",
    "obj_x_locs=[[1,3,3,1],[2,5,5,2]]\n",
    "obj_y_locs=[[3,3,1,1],[2,2,0,0]]\n",
    "print \"Check ``union``: \", union(obj_x_locs,obj_y_locs) == 9\n",
    "print \"Check ``intersection``: \", intersection(obj_x_locs,obj_y_locs) == 1.\n",
    "print \"Check ``majority_vote``: \", majority_vote(obj_x_locs,obj_y_locs) == 1./9\n",
    "print \"Check ``precision``: \", precision(obj_x_locs,obj_y_locs) == 1./4\n",
    "print \"Check ``recall``: \", recall(obj_x_locs,obj_y_locs) == 1./6"
   ]
  },
  {
   "cell_type": "markdown",
   "metadata": {},
   "source": [
    "### Visualize all bounding boxes drawn by me , see which one is bad and redraw BBG "
   ]
  },
  {
   "cell_type": "code",
   "execution_count": 73,
   "metadata": {
    "collapsed": true
   },
   "outputs": [],
   "source": [
    "ground_truth = pd.read_csv(\"../../data/object_ground_truth.csv\")\n",
    "worker_info = pd.read_csv(\"../../data/worker.csv\",skipfooter=1)\n",
    "my_BBG  = pd.read_csv(\"my_ground_truth.csv\")"
   ]
  },
  {
   "cell_type": "markdown",
   "metadata": {},
   "source": [
    "### Computing measures against my BBG and COCO"
   ]
  },
  {
   "cell_type": "code",
   "execution_count": 105,
   "metadata": {
    "collapsed": true
   },
   "outputs": [],
   "source": [
    "polygon1 = Polygon(zip(obj_x_locs[0],obj_y_locs[0])).buffer(0)\n",
    "polygon2 = Polygon(zip(obj_x_locs[1],obj_y_locs[1])).buffer(0)"
   ]
  },
  {
   "cell_type": "code",
   "execution_count": 107,
   "metadata": {
    "collapsed": false
   },
   "outputs": [
    {
     "data": {
      "image/svg+xml": [
       "<svg xmlns=\"http://www.w3.org/2000/svg\" xmlns:xlink=\"http://www.w3.org/1999/xlink\" width=\"100.0\" height=\"100.0\" viewBox=\"357.84 118.84 69.32 85.32\" preserveAspectRatio=\"xMinYMin meet\"><g transform=\"matrix(1,0,0,-1,0,323.0)\"><path fill-rule=\"evenodd\" fill=\"#66cc99\" stroke=\"#555555\" stroke-width=\"1.7064\" opacity=\"0.6\" d=\"M 406.2,145.4 L 405.0,128.0 L 397.0,124.0 L 384.0,122.0 L 374.0,131.0 L 367.0,146.0 L 368.0,157.0 L 361.0,161.0 L 363.0,169.0 L 365.0,181.0 L 406.0,187.0 L 412.0,190.0 L 417.0,201.0 L 421.0,191.0 L 424.0,185.0 L 417.0,171.0 L 413.0,161.0 L 407.0,159.0 L 406.2,145.4 z\" /></g></svg>"
      ],
      "text/plain": [
       "<shapely.geometry.polygon.Polygon at 0x11613fd10>"
      ]
     },
     "execution_count": 107,
     "metadata": {},
     "output_type": "execute_result"
    }
   ],
   "source": [
    "polygon1"
   ]
  },
  {
   "cell_type": "code",
   "execution_count": 108,
   "metadata": {
    "collapsed": false
   },
   "outputs": [
    {
     "data": {
      "image/svg+xml": [
       "<svg xmlns=\"http://www.w3.org/2000/svg\" xmlns:xlink=\"http://www.w3.org/1999/xlink\" width=\"100.0\" height=\"100.0\" viewBox=\"357.5652 118.7452 65.5296 78.9696\" preserveAspectRatio=\"xMinYMin meet\"><g transform=\"matrix(1,0,0,-1,0,316.46)\"><path fill-rule=\"evenodd\" fill=\"#66cc99\" stroke=\"#555555\" stroke-width=\"1.579392\" opacity=\"0.6\" d=\"M 360.49,162.85 L 361.33,172.93 L 367.22,186.38 L 375.62,186.38 L 393.27,185.54 L 416.8,194.79 L 420.17,193.95 L 419.33,180.5 L 411.76,167.89 L 406.72,157.81 L 405.04,146.04 L 402.52,130.07 L 394.11,123.35 L 378.98,121.67 L 371.42,133.43 L 367.22,149.4 L 360.49,162.85 z\" /></g></svg>"
      ],
      "text/plain": [
       "<shapely.geometry.polygon.Polygon at 0x1160fbfd0>"
      ]
     },
     "execution_count": 108,
     "metadata": {},
     "output_type": "execute_result"
    }
   ],
   "source": [
    "polygon2"
   ]
  },
  {
   "cell_type": "code",
   "execution_count": 106,
   "metadata": {
    "collapsed": false
   },
   "outputs": [
    {
     "data": {
      "image/svg+xml": [
       "<svg xmlns=\"http://www.w3.org/2000/svg\" xmlns:xlink=\"http://www.w3.org/1999/xlink\" width=\"100.0\" height=\"100.0\" viewBox=\"358.234991284 119.298931163 64.791244483 78.3945714846\" preserveAspectRatio=\"xMinYMin meet\"><g transform=\"matrix(1,0,0,-1,0,316.992433811)\"><path fill-rule=\"evenodd\" fill=\"#66cc99\" stroke=\"#555555\" stroke-width=\"1.56789142969\" opacity=\"0.6\" d=\"M 394.428325773,123.604357811 L 389.312244656,122.817268409 L 383.775073544,122.202433811 L 374.0,131.0 L 369.552855093,140.529596229 L 367.286205565,149.148261219 L 368.0,157.0 L 361.582135951,160.667350885 L 361.138493931,161.553975725 L 363.0,169.0 L 365.0,181.0 L 406.0,187.0 L 412.0,190.0 L 413.60665867,193.534649073 L 416.8,194.79 L 419.781239288,194.04690178 L 420.122733119,193.193167203 L 419.33,180.5 L 411.76,167.89 L 407.378,159.126 L 407.0,159.0 L 406.958,158.286 L 406.72,157.81 L 405.04,146.04 L 402.52,130.07 L 394.428325773,123.604357811 z\" /></g></svg>"
      ],
      "text/plain": [
       "<shapely.geometry.polygon.Polygon at 0x1196c1650>"
      ]
     },
     "execution_count": 106,
     "metadata": {},
     "output_type": "execute_result"
    }
   ],
   "source": [
    "polygon1.intersection(polygon2)"
   ]
  },
  {
   "cell_type": "code",
   "execution_count": 147,
   "metadata": {
    "collapsed": false
   },
   "outputs": [
    {
     "data": {
      "image/svg+xml": [
       "<svg xmlns=\"http://www.w3.org/2000/svg\" xmlns:xlink=\"http://www.w3.org/1999/xlink\" width=\"100.0\" height=\"100.0\" viewBox=\"357.3168 118.4968 69.8564 85.6764\" preserveAspectRatio=\"xMinYMin meet\"><g transform=\"matrix(1,0,0,-1,0,322.67)\"><path fill-rule=\"evenodd\" fill=\"#66cc99\" stroke=\"#555555\" stroke-width=\"1.713528\" opacity=\"0.6\" d=\"M 406.2,145.4 L 405.0,128.0 L 397.0,124.0 L 394.428325773,123.604357811 L 394.11,123.35 L 389.312244656,122.817268409 L 384.0,122.0 L 383.775073544,122.202433811 L 378.98,121.67 L 371.42,133.43 L 369.552855093,140.529596229 L 367.0,146.0 L 367.286205565,149.148261219 L 367.22,149.4 L 361.582135951,160.667350885 L 361.0,161.0 L 361.138493931,161.553975725 L 360.49,162.85 L 361.33,172.93 L 367.22,186.38 L 375.62,186.38 L 393.27,185.54 L 413.60665867,193.534649073 L 417.0,201.0 L 419.781239288,194.04690178 L 420.17,193.95 L 420.122733119,193.193167203 L 421.0,191.0 L 424.0,185.0 L 417.0,171.0 L 413.0,161.0 L 407.378,159.126 L 406.958,158.286 L 406.2,145.4 z\" /></g></svg>"
      ],
      "text/plain": [
       "<shapely.geometry.polygon.Polygon at 0x11c994a10>"
      ]
     },
     "execution_count": 147,
     "metadata": {},
     "output_type": "execute_result"
    }
   ],
   "source": [
    "polygon1.union(polygon2)"
   ]
  },
  {
   "cell_type": "code",
   "execution_count": 116,
   "metadata": {
    "collapsed": false,
    "scrolled": false
   },
   "outputs": [],
   "source": [
    "for i in np.arange(len(img_info)):\n",
    "    img_name = img_info[\"filename\"][i]\n",
    "    if 'COCO' in img_name:\n",
    "        img_id = int(img_name.split('_')[-1])\n",
    "        filtered_object_tbl = object_tbl[object_tbl[\"image_id\"]==i+1]\n",
    "        annIds = coco.getAnnIds(imgIds=img_id, iscrowd=None)\n",
    "        anns = coco.loadAnns(annIds)\n",
    "        #for oid,bbx_path,bby_path in zip(bb_info[\"object_id\"],bb_info[\"x_locs\"],bb_info[\"y_locs\"]):\n",
    "        for bb in bb_info.iterrows():\n",
    "            oid = bb[1][\"object_id\"]\n",
    "            bbx_path= bb[1][\"x_locs\"]\n",
    "            bby_path= bb[1][\"y_locs\"]\n",
    "            if int(object_tbl[object_tbl.object_id==oid].image_id) ==i+1:\n",
    "                worker_x_locs,worker_y_locs= process_raw_locs([bbx_path,bby_path])\n",
    "                ground_truth_match = ground_truth[ground_truth.id==str(oid)]\n",
    "                COCO_id = int(ground_truth_match[\"COCO_annIds\"])\n",
    "                \n",
    "                #COCO-Annotations\n",
    "                for ann in anns:\n",
    "                    if COCO_id==-1:\n",
    "                        #No BB for this object collected by MSCOCO\n",
    "                        pass\n",
    "                    elif ann['id'] == COCO_id: \n",
    "#                         print COCO_id\n",
    "                        for annBB in ann[\"segmentation\"]:\n",
    "                            coco_x_locs,coco_y_locs = process_raw_locs(annBB,COCO=True)\n",
    "                            obj_x_locs = [worker_x_locs,coco_x_locs]\n",
    "                            obj_y_locs = [worker_y_locs,coco_y_locs]\n",
    "                            bb_info = bb_info.set_value(bb[0],\"COCO Majority Vote\",majority_vote(obj_x_locs,obj_y_locs))\n",
    "                            #bb_info = bb_info.set_value(bb[0],\"Munkres Euclidean\",DistAllWorkers(obj_x_locs,obj_y_locs))\n",
    "                            bb_info = bb_info.set_value(bb[0],\"COCO Precision\",precision(obj_x_locs,obj_y_locs))\n",
    "                            bb_info = bb_info.set_value(bb[0],\"COCO Recall\",recall(obj_x_locs,obj_y_locs))                \n",
    "                my_ground_truth_match = my_BBG[my_BBG.object_id==oid]\n",
    "                my_x_locs,my_y_locs =  process_raw_locs([my_ground_truth_match[\"x_locs\"].iloc[0],my_ground_truth_match[\"y_locs\"].iloc[0]])\n",
    "                obj_x_locs = [worker_x_locs,my_x_locs]\n",
    "                obj_y_locs = [worker_y_locs,my_y_locs]\n",
    "                bb_info = bb_info.set_value(bb[0],\"My Majority Vote\",majority_vote(obj_x_locs,obj_y_locs))   \n",
    "                bb_info = bb_info.set_value(bb[0],\"My Precision\",precision(obj_x_locs,obj_y_locs))\n",
    "                bb_info = bb_info.set_value(bb[0],\"My Recall\",recall(obj_x_locs,obj_y_locs))\n",
    "# replace all NAN values with -1, these are entries for which we don't have COCO ground truth\n",
    "bb_info = bb_info.fillna(-1)"
   ]
  },
  {
   "cell_type": "code",
   "execution_count": 149,
   "metadata": {
    "collapsed": false
   },
   "outputs": [],
   "source": [
    "bb_info.to_csv(\"computed_my_COCO_BBvals.csv\")"
   ]
  },
  {
   "cell_type": "markdown",
   "metadata": {},
   "source": [
    "### Use Kolmogorov-Smirnov test to see how well the distributions fit a Gaussian \n"
   ]
  },
  {
   "cell_type": "code",
   "execution_count": 124,
   "metadata": {
    "collapsed": false
   },
   "outputs": [],
   "source": [
    "from scipy import stats"
   ]
  },
  {
   "cell_type": "code",
   "execution_count": 159,
   "metadata": {
    "collapsed": false
   },
   "outputs": [
    {
     "data": {
      "text/plain": [
       "(0, 1.05)"
      ]
     },
     "execution_count": 159,
     "metadata": {},
     "output_type": "execute_result"
    },
    {
     "data": {
      "image/png": "[encoded data removed]",
      "text/plain": [
       "<matplotlib.figure.Figure at 0x11798ca10>"
      ]
     },
     "metadata": {},
     "output_type": "display_data"
    }
   ],
   "source": [
    "my_precision = np.array(bb_info[\"My Precision\"][bb_info[\"My Precision\"]!=-1])\n",
    "plt.figure()\n",
    "plt.title(\"Precision Distribution [Self-drawn BB]\")\n",
    "plt.hist(my_precision,bins=1000)\n",
    "plt.xlim(0,1.05)"
   ]
  },
  {
   "cell_type": "code",
   "execution_count": 160,
   "metadata": {
    "collapsed": false
   },
   "outputs": [
    {
     "data": {
      "text/plain": [
       "(0, 1.05)"
      ]
     },
     "execution_count": 160,
     "metadata": {},
     "output_type": "execute_result"
    },
    {
     "data": {
      "image/png": "[encoded data removed]",
      "text/plain": [
       "<matplotlib.figure.Figure at 0x1183152d0>"
      ]
     },
     "metadata": {},
     "output_type": "display_data"
    }
   ],
   "source": [
    "my_recall = np.array(bb_info[\"My Recall\"][bb_info[\"My Recall\"]!=-1])\n",
    "plt.figure()\n",
    "plt.title(\"Recall Distribution [Self-drawn BB]\")\n",
    "plt.hist(my_recall,bins=50)\n",
    "plt.xlim(0,1.05)"
   ]
  },
  {
   "cell_type": "code",
   "execution_count": 161,
   "metadata": {
    "collapsed": false
   },
   "outputs": [
    {
     "name": "stdout",
     "output_type": "stream",
     "text": [
      "(0.63390175005377802, 0.0)\n",
      "(0.66631878187717508, 0.0)\n"
     ]
    }
   ],
   "source": [
    "print  stats.kstest(my_precision, 'norm')\n",
    "print stats.kstest(my_recall, 'norm')"
   ]
  },
  {
   "cell_type": "code",
   "execution_count": 162,
   "metadata": {
    "collapsed": false
   },
   "outputs": [
    {
     "name": "stdout",
     "output_type": "stream",
     "text": [
      "(0.38691067457919365, 0.0)\n",
      "(0.41326489697122637, 0.0)\n"
     ]
    }
   ],
   "source": [
    "print stats.kstest(my_precision, 'expon')\n",
    "print stats.kstest(my_recall, 'expon')"
   ]
  },
  {
   "cell_type": "code",
   "execution_count": 172,
   "metadata": {
    "collapsed": false
   },
   "outputs": [
    {
     "data": {
      "text/plain": [
       "(0, 1.1)"
      ]
     },
     "execution_count": 172,
     "metadata": {},
     "output_type": "execute_result"
    },
    {
     "data": {
      "image/png": "[encoded data removed]",
      "text/plain": [
       "<matplotlib.figure.Figure at 0x116f67250>"
      ]
     },
     "metadata": {},
     "output_type": "display_data"
    }
   ],
   "source": [
    "coco_precision = np.array(bb_info[\"COCO Precision\"][bb_info[\"COCO Precision\"]!=-1])\n",
    "coco_recall = np.array(bb_info[\"COCO Recall\"][bb_info[\"COCO Recall\"]!=-1])\n",
    "plt.hist(coco_precision,bins=200)\n",
    "plt.xlim(0,1.1)"
   ]
  },
  {
   "cell_type": "markdown",
   "metadata": {},
   "source": [
    "# MLE Fitting "
   ]
  },
  {
   "cell_type": "code",
   "execution_count": 284,
   "metadata": {
    "collapsed": false
   },
   "outputs": [
    {
     "data": {
      "image/png": "[encoded data removed]",
      "text/plain": [
       "<matplotlib.figure.Figure at 0x112ad14d0>"
      ]
     },
     "metadata": {},
     "output_type": "display_data"
    }
   ],
   "source": [
    "# Based on MLE estimate for fitting\n",
    "params = stats.expon.fit(1-coco_precision)\n",
    "n, bins, patches = plt.hist(1-coco_precision, 60, normed=1, facecolor='green', alpha=0.75)\n",
    "plt.xlim(0,1)\n",
    "y = stats.expon.pdf( bins, *params)\n",
    "l = plt.plot(bins, y, 'r--', linewidth=2)"
   ]
  },
  {
   "cell_type": "code",
   "execution_count": 291,
   "metadata": {
    "collapsed": false
   },
   "outputs": [
    {
     "data": {
      "image/png": "[encoded data removed]",
      "text/plain": [
       "<matplotlib.figure.Figure at 0x11636f210>"
      ]
     },
     "metadata": {},
     "output_type": "display_data"
    }
   ],
   "source": [
    "# Based on MLE estimate for fitting\n",
    "params = stats.powerlaw.fit(1-coco_precision)\n",
    "n, bins, patches = plt.hist(1-coco_precision, 60, normed=1, facecolor='green', alpha=0.75)\n",
    "plt.xlim(0,1)\n",
    "y = stats.powerlaw.pdf( bins, *params)\n",
    "l = plt.plot(bins, y, 'r--', linewidth=2)"
   ]
  },
  {
   "cell_type": "code",
   "execution_count": 294,
   "metadata": {
    "collapsed": false
   },
   "outputs": [],
   "source": [
    "# dir(stats)"
   ]
  },
  {
   "cell_type": "code",
   "execution_count": 286,
   "metadata": {
    "collapsed": false
   },
   "outputs": [
    {
     "data": {
      "image/png": "[encoded data removed]",
      "text/plain": [
       "<matplotlib.figure.Figure at 0x119bc44d0>"
      ]
     },
     "metadata": {},
     "output_type": "display_data"
    }
   ],
   "source": [
    "# Based on MLE estimate for fitting\n",
    "params = stats.pareto.fit(1-coco_precision)\n",
    "n, bins, patches = plt.hist(1-coco_precision, 60, normed=1, facecolor='green', alpha=0.75)\n",
    "plt.xlim(0,1)\n",
    "y = stats.pareto.pdf(bins, *params)\n",
    "l = plt.plot(bins, y, 'r--', linewidth=2)"
   ]
  },
  {
   "cell_type": "markdown",
   "metadata": {},
   "source": [
    "#### It's easier to fit f in 1-f(x) form for this dataset , not really "
   ]
  },
  {
   "cell_type": "code",
   "execution_count": 174,
   "metadata": {
    "collapsed": false
   },
   "outputs": [
    {
     "data": {
      "text/plain": [
       "(0, 1.1)"
      ]
     },
     "execution_count": 174,
     "metadata": {},
     "output_type": "execute_result"
    },
    {
     "data": {
      "image/png": "[encoded data removed]",
      "text/plain": [
       "<matplotlib.figure.Figure at 0x118e79190>"
      ]
     },
     "metadata": {},
     "output_type": "display_data"
    }
   ],
   "source": [
    "coco_precision = np.array(bb_info[\"COCO Precision\"][bb_info[\"COCO Precision\"]!=-1])\n",
    "coco_recall = np.array(bb_info[\"COCO Recall\"][bb_info[\"COCO Recall\"]!=-1])\n",
    "plt.hist(1-coco_precision,bins=200)\n",
    "plt.xlim(0,1.1)"
   ]
  },
  {
   "cell_type": "code",
   "execution_count": 302,
   "metadata": {
    "collapsed": false
   },
   "outputs": [
    {
     "data": {
      "image/png": "[encoded data removed]",
      "text/plain": [
       "<matplotlib.figure.Figure at 0x117e00310>"
      ]
     },
     "metadata": {},
     "output_type": "display_data"
    }
   ],
   "source": [
    "my_jaccard = np.array(bb_info[\"COCO Majority Vote\"][bb_info[\"COCO Majority Vote\"]!=0])\n",
    "coco_jaccard = np.array(bb_info[\"My Majority Vote\"][bb_info[\"My Majority Vote\"]!=-1])\n",
    "a = plt.hist(my_jaccard,bins=100)\n",
    "# plt.xlim(0,1.1)"
   ]
  },
  {
   "cell_type": "code",
   "execution_count": 301,
   "metadata": {
    "collapsed": false
   },
   "outputs": [
    {
     "data": {
      "image/png": "[encoded data removed]",
      "text/plain": [
       "<matplotlib.figure.Figure at 0x119d90a50>"
      ]
     },
     "metadata": {},
     "output_type": "display_data"
    }
   ],
   "source": [
    "b = plt.hist(coco_jaccard,bins=100)"
   ]
  },
  {
   "cell_type": "markdown",
   "metadata": {},
   "source": [
    "#### The null hypothesis is that the sample is not drawn from the reference distribution, so if p>0.05 then reject null hypothesis, they are drawn from that distribution. [see stats_helper.py]"
   ]
  },
  {
   "cell_type": "code",
   "execution_count": 232,
   "metadata": {
    "collapsed": false
   },
   "outputs": [
    {
     "data": {
      "text/plain": [
       "(0.055054505094351391, 0.92226833701059863)"
      ]
     },
     "execution_count": 232,
     "metadata": {},
     "output_type": "execute_result"
    }
   ],
   "source": [
    "stats.kstest(stats.norm.rvs(size=100), 'norm')"
   ]
  },
  {
   "cell_type": "code",
   "execution_count": 236,
   "metadata": {
    "collapsed": true
   },
   "outputs": [],
   "source": [
    "def pcheck(p,null_hyp):\n",
    "    '''\n",
    "    if p>0.05 then reject null hypothesis\n",
    "    '''\n",
    "    if p>0.05:\n",
    "        return  null_hyp\n",
    "    else:\n",
    "        return \"NOT \"+null_hyp"
   ]
  },
  {
   "cell_type": "code",
   "execution_count": 237,
   "metadata": {
    "collapsed": true
   },
   "outputs": [],
   "source": [
    "def one_way_kolmogorov_smirnov(data,name,distr_name):\n",
    "\t'''\n",
    "\tSee if data come from the reference distribution\n",
    "\t'''\n",
    "\tresult = stats.kstest(data,distr_name)\n",
    "\tprint \"{0} : D = {1} ; p ={2} ---> {3}\".format(name,np.around(result[0],2),np.around(result[1],2),pcheck(result[1],\"from {} distribution\".format(distr_name)))"
   ]
  },
  {
   "cell_type": "code",
   "execution_count": 244,
   "metadata": {
    "collapsed": false
   },
   "outputs": [
    {
     "name": "stdout",
     "output_type": "stream",
     "text": [
      "------------------------expon------------------------\n",
      "COCO Precision : D = 0.4 ; p =0.0 ---> NOT from expon distribution\n",
      "COCO Recall : D = 0.43 ; p =0.0 ---> NOT from expon distribution\n",
      "Self Precision : D = 0.39 ; p =0.0 ---> NOT from expon distribution\n",
      "Self Recall : D = 0.41 ; p =0.0 ---> NOT from expon distribution\n",
      "------------------------norm------------------------\n",
      "COCO Precision : D = 0.64 ; p =0.0 ---> NOT from norm distribution\n",
      "COCO Recall : D = 0.67 ; p =0.0 ---> NOT from norm distribution\n",
      "Self Precision : D = 0.63 ; p =0.0 ---> NOT from norm distribution\n",
      "Self Recall : D = 0.67 ; p =0.0 ---> NOT from norm distribution\n"
     ]
    }
   ],
   "source": [
    "for test_distr in ['expon','norm']:\n",
    "    print '------------------------{}------------------------'.format(test_distr)\n",
    "    one_way_kolmogorov_smirnov(coco_precision,'COCO Precision',test_distr)\n",
    "    one_way_kolmogorov_smirnov(coco_recall,'COCO Recall',test_distr)\n",
    "    one_way_kolmogorov_smirnov(my_precision,'Self Precision',test_distr)\n",
    "    one_way_kolmogorov_smirnov(my_recall,'Self Recall',test_distr)"
   ]
  },
  {
   "cell_type": "code",
   "execution_count": 189,
   "metadata": {
    "collapsed": false
   },
   "outputs": [
    {
     "name": "stdout",
     "output_type": "stream",
     "text": [
      "(1.0, 0.0)\n",
      "(1.0, 0.0)\n"
     ]
    }
   ],
   "source": [
    "print stats.kstest(1-coco_precision, 'pareto',args=[2])\n",
    "print stats.kstest(1-coco_recall, 'pareto',args=[2])"
   ]
  },
  {
   "cell_type": "code",
   "execution_count": 178,
   "metadata": {
    "collapsed": false
   },
   "outputs": [
    {
     "name": "stdout",
     "output_type": "stream",
     "text": [
      "(0.8090654868653665, 0.0)\n",
      "(0.83643491334040732, 0.0)\n"
     ]
    }
   ],
   "source": [
    "print stats.kstest(1-coco_precision, 'powerlaw',args=[2])\n",
    "print stats.kstest(1-coco_recall, 'powerlaw',args=[2])"
   ]
  },
  {
   "cell_type": "code",
   "execution_count": 143,
   "metadata": {
    "collapsed": false
   },
   "outputs": [
    {
     "data": {
      "text/plain": [
       "(0, 5)"
      ]
     },
     "execution_count": 143,
     "metadata": {},
     "output_type": "execute_result"
    },
    {
     "data": {
      "image/png": "[encoded data removed]",
      "text/plain": [
       "<matplotlib.figure.Figure at 0x112aa4850>"
      ]
     },
     "metadata": {},
     "output_type": "display_data"
    }
   ],
   "source": [
    "fig = plt.figure()\n",
    "ax = fig.add_subplot(111)\n",
    "res = stats.probplot(my_precision, dist=stats.norm, sparams=(2.5,), plot=ax)\n",
    "ax.set_title(\"Quantile-Quantile  plot [Normal]\")\n",
    "ax.set_ylim(0,5)"
   ]
  },
  {
   "cell_type": "code",
   "execution_count": 303,
   "metadata": {
    "collapsed": false,
    "scrolled": true
   },
   "outputs": [],
   "source": [
    "# fig = plt.figure()\n",
    "# ax = fig.add_subplot(111)\n",
    "# res = stats.probplot(1-my_precision, dist=stats.expon, sparams=(2.5,), plot=ax)\n",
    "# ax.set_title(\"Quantile-Quantile  plot [Exponential]\")\n",
    "# ax.set_ylim(0,5)"
   ]
  },
  {
   "cell_type": "code",
   "execution_count": 295,
   "metadata": {
    "collapsed": true
   },
   "outputs": [],
   "source": [
    "def basic_stats(data1,data2,mode=\"double\"):\n",
    "\tprint \"Precision: mu = {0}; std = {1}\".format(np.around(mean(data1),3),np.around(std(data1),3))\n",
    "\tif mode==\"double\": print \"Recall: mu = {0}; std = {1}\".format(np.around(mean(data2),3),np.around(std(data2),3))"
   ]
  },
  {
   "cell_type": "code",
   "execution_count": 296,
   "metadata": {
    "collapsed": false
   },
   "outputs": [
    {
     "name": "stdout",
     "output_type": "stream",
     "text": [
      "Precision: mu = 0.866; std = 1.272\n",
      "Recall: mu = 0.871; std = 0.214\n"
     ]
    }
   ],
   "source": [
    "basic_stats(my_precision,my_recall)"
   ]
  },
  {
   "cell_type": "code",
   "execution_count": 297,
   "metadata": {
    "collapsed": false
   },
   "outputs": [
    {
     "name": "stdout",
     "output_type": "stream",
     "text": [
      "Precision: mu = 0.843; std = 0.275\n",
      "Recall: mu = 0.868; std = 0.204\n"
     ]
    }
   ],
   "source": [
    "basic_stats(coco_precision,coco_recall)"
   ]
  },
  {
   "cell_type": "markdown",
   "metadata": {},
   "source": [
    "These distributions are very far from a normal or even an exponential distribution, even when you filter out the outliers "
   ]
  },
  {
   "cell_type": "markdown",
   "metadata": {},
   "source": [
    "Other quantities: boundary complexity, comparison with color mixture and hues from CV "
   ]
  },
  {
   "cell_type": "code",
   "execution_count": 312,
   "metadata": {
    "collapsed": true
   },
   "outputs": [],
   "source": [
    "bb_info.hist?"
   ]
  },
  {
   "cell_type": "code",
   "execution_count": 314,
   "metadata": {
    "collapsed": false
   },
   "outputs": [
    {
     "data": {
      "text/plain": [
       "array([[<matplotlib.axes.AxesSubplot object at 0x11c419910>,\n",
       "        <matplotlib.axes.AxesSubplot object at 0x118057cd0>],\n",
       "       [<matplotlib.axes.AxesSubplot object at 0x11835c6d0>,\n",
       "        <matplotlib.axes.AxesSubplot object at 0x1185c24d0>],\n",
       "       [<matplotlib.axes.AxesSubplot object at 0x118702290>,\n",
       "        <matplotlib.axes.AxesSubplot object at 0x11874df50>]], dtype=object)"
      ]
     },
     "execution_count": 314,
     "metadata": {},
     "output_type": "execute_result"
    },
    {
     "data": {
      "image/png": "[encoded data removed]",
      "text/plain": [
       "<matplotlib.figure.Figure at 0x11b2c0f90>"
      ]
     },
     "metadata": {},
     "output_type": "display_data"
    }
   ],
   "source": [
    "bb_info.hist(column=['COCO Precision','COCO Recall','COCO Majority Vote','My Precision','My Recall','My Majority Vote'],bins=100)"
   ]
  },
  {
   "cell_type": "code",
   "execution_count": 361,
   "metadata": {
    "collapsed": false
   },
   "outputs": [],
   "source": [
    "def basic_stat(data1,name):\n",
    "\tprint \"{0}: mu = {1}; std = {2}\".format(name,np.around(mean(data1),3),np.around(std(data1),3))\n",
    "\treturn [name,np.around(mean(data1),3),np.around(std(data1),3)]"
   ]
  },
  {
   "cell_type": "code",
   "execution_count": 399,
   "metadata": {
    "collapsed": false
   },
   "outputs": [
    {
     "name": "stdout",
     "output_type": "stream",
     "text": [
      "Precision [COCO]: mu = 0.869; std = 0.227\n",
      "Recall [COCO]: mu = 0.897; std = 0.132\n",
      "Jaccard [COCO]: mu = 0.789; std = 0.227\n",
      "Precision [Self]: mu = 0.864; std = 0.206\n",
      "Recall [Self]: mu = 0.901; std = 0.145\n",
      "Jaccard [Self]: mu = 0.785; std = 0.219\n"
     ]
    },
    {
     "data": {
      "image/png": "[encoded data removed]",
      "text/plain": [
       "<matplotlib.figure.Figure at 0x155c57ad0>"
      ]
     },
     "metadata": {},
     "output_type": "display_data"
    }
   ],
   "source": [
    "bb_info = pd.read_csv('computed_my_COCO_BBvals.csv')\n",
    "metrics_lst = ['Precision [COCO]','Recall [COCO]','Jaccard [COCO]',\\\n",
    "               'Precision [Self]','Recall [Self]','Jaccard [Self]']\n",
    "\n",
    "NUM_COL = 3\n",
    "NUM_ROW = 2\n",
    "NUM_PLOTS = NUM_COL*NUM_ROW\n",
    "\n",
    "fig, axs = plt.subplots(NUM_ROW,NUM_COL, figsize=(NUM_ROW*3,NUM_COL*1.5), sharex='col')\n",
    "fig.suptitle(\"All Worker Metric Distribution \".format(FILTER_CRITERION),fontsize=16,y=1.05)\n",
    "\n",
    "axs = axs.ravel()\n",
    "table_data = []\n",
    "for i,metric in zip(range(len(metrics_lst)),metrics_lst):\n",
    "    metric_value = np.array(bb_info[metric][bb_info[metric]>0][bb_info[metric]<=1]) \n",
    "    table_data.append(basic_stat(metric_value,metric))\n",
    "    ax = axs[i]\n",
    "    ax.set_title(metric)\n",
    "    ax.hist(metric_value,bins=50)\n",
    "    ax.set_xlim(0,1.03)\n",
    "fig.tight_layout()\n",
    "fig.savefig('metric_histogram.pdf')"
   ]
  },
  {
   "cell_type": "code",
   "execution_count": 400,
   "metadata": {
    "collapsed": true
   },
   "outputs": [],
   "source": [
    "from tabulate import tabulate"
   ]
  },
  {
   "cell_type": "code",
   "execution_count": 401,
   "metadata": {
    "collapsed": false
   },
   "outputs": [
    {
     "name": "stdout",
     "output_type": "stream",
     "text": [
      "\\begin{tabular}{lrr}\n",
      "\\hline\n",
      " All              &   Mean &    SD \\\\\n",
      "\\hline\n",
      " Precision [COCO] &  0.869 & 0.227 \\\\\n",
      " Recall [COCO]    &  0.897 & 0.132 \\\\\n",
      " Jaccard [COCO]   &  0.789 & 0.227 \\\\\n",
      " Precision [Self] &  0.864 & 0.206 \\\\\n",
      " Recall [Self]    &  0.901 & 0.145 \\\\\n",
      " Jaccard [Self]   &  0.785 & 0.219 \\\\\n",
      "\\hline\n",
      "\\end{tabular}\n"
     ]
    }
   ],
   "source": [
    "print tabulate(table_data,headers=[\"All\",\"Mean\",\"SD\"],tablefmt='latex')"
   ]
  },
  {
   "cell_type": "code",
   "execution_count": 356,
   "metadata": {
    "collapsed": false
   },
   "outputs": [
    {
     "data": {
      "image/png": "[encoded data removed]",
      "text/plain": [
       "<matplotlib.figure.Figure at 0x125d52450>"
      ]
     },
     "metadata": {},
     "output_type": "display_data"
    }
   ],
   "source": [
    "a = bb_info.boxplot(column=['Precision [COCO]','Recall [COCO]','Jaccard [COCO]',\\\n",
    "               'Precision [Self]','Recall [Self]','Jaccard [Self]'])"
   ]
  },
  {
   "cell_type": "markdown",
   "metadata": {},
   "source": [
    "# Good Worker's Measures "
   ]
  },
  {
   "cell_type": "code",
   "execution_count": 419,
   "metadata": {
    "collapsed": false
   },
   "outputs": [
    {
     "name": "stdout",
     "output_type": "stream",
     "text": [
      "Precision [COCO]: mu = 0.931; std = 0.068\n",
      "COCO Precision : D = 0.5 ; p =0.0 ---> NOT from expon distribution\n",
      "COCO Precision : D = 0.75 ; p =0.0 ---> NOT from norm distribution\n",
      "COCO Precision : D = 0.69 ; p =0.0 ---> NOT from cauchy distribution\n",
      "Recall [COCO]: mu = 0.917; std = 0.07\n",
      "COCO Precision : D = 0.49 ; p =0.0 ---> NOT from expon distribution\n",
      "COCO Precision : D = 0.74 ; p =0.0 ---> NOT from norm distribution\n",
      "COCO Precision : D = 0.68 ; p =0.0 ---> NOT from cauchy distribution\n",
      "Jaccard [COCO]: mu = 0.858; std = 0.082\n",
      "COCO Precision : D = 0.46 ; p =0.0 ---> NOT from expon distribution\n",
      "COCO Precision : D = 0.73 ; p =0.0 ---> NOT from norm distribution\n",
      "COCO Precision : D = 0.67 ; p =0.0 ---> NOT from cauchy distribution\n",
      "Precision [Self]: mu = 0.918; std = 0.076\n",
      "COCO Precision : D = 0.49 ; p =0.0 ---> NOT from expon distribution\n",
      "COCO Precision : D = 0.74 ; p =0.0 ---> NOT from norm distribution\n",
      "COCO Precision : D = 0.67 ; p =0.0 ---> NOT from cauchy distribution\n",
      "Recall [Self]: mu = 0.925; std = 0.073\n",
      "COCO Precision : D = 0.48 ; p =0.0 ---> NOT from expon distribution\n",
      "COCO Precision : D = 0.74 ; p =0.0 ---> NOT from norm distribution\n",
      "COCO Precision : D = 0.68 ; p =0.0 ---> NOT from cauchy distribution\n",
      "Jaccard [Self]: mu = 0.858; std = 0.086\n",
      "COCO Precision : D = 0.46 ; p =0.0 ---> NOT from expon distribution\n",
      "COCO Precision : D = 0.73 ; p =0.0 ---> NOT from norm distribution\n",
      "COCO Precision : D = 0.67 ; p =0.0 ---> NOT from cauchy distribution\n"
     ]
    },
    {
     "data": {
      "image/png": "[encoded data removed]",
      "text/plain": [
       "<matplotlib.figure.Figure at 0x14fc8dbd0>"
      ]
     },
     "metadata": {},
     "output_type": "display_data"
    }
   ],
   "source": [
    "bb_info = pd.read_csv('computed_my_COCO_BBvals.csv')\n",
    "metrics_lst = ['Precision [COCO]','Recall [COCO]','Jaccard [COCO]',\\\n",
    "               'Precision [Self]','Recall [Self]','Jaccard [Self]']\n",
    "FILTER_CRITERION = 0.6\n",
    "NUM_COL = 3\n",
    "NUM_ROW = 2\n",
    "NUM_PLOTS = NUM_COL*NUM_ROW\n",
    "\n",
    "fig, axs = plt.subplots(NUM_ROW,NUM_COL, figsize=(NUM_ROW*3,NUM_COL*1.5), sharex='col')\n",
    "fig.suptitle(\"Good Worker [metric >{}]\".format(FILTER_CRITERION),fontsize=16,y=1.05)\n",
    "# fig.subplots_adjust(hspace = .5, wspace=.001)\n",
    "axs = axs.ravel()\n",
    "\n",
    "table_data = []\n",
    "for i,metric in zip(range(len(metrics_lst)),metrics_lst):\n",
    "    metric_value = np.array(bb_info[metric][bb_info[metric]>FILTER_CRITERION][bb_info[metric]<=1]) \n",
    "    table_data.append(basic_stat(metric_value,metric))\n",
    "    ax = axs[i]\n",
    "    ax.set_title(metric)\n",
    "    ax.hist(metric_value,bins=30)\n",
    "    ax.set_xlim(FILTER_CRITERION,1.03)\n",
    "    #Testing against various distributions \n",
    "    for test_distr in ['expon','norm','cauchy']:\n",
    "        one_way_kolmogorov_smirnov(metric_value,'COCO Precision',test_distr)\n",
    "fig.tight_layout()\n",
    "fig.savefig('good_worker_metric_histogram.pdf')"
   ]
  },
  {
   "cell_type": "code",
   "execution_count": 397,
   "metadata": {
    "collapsed": false
   },
   "outputs": [
    {
     "name": "stdout",
     "output_type": "stream",
     "text": [
      "\\begin{tabular}{lrr}\n",
      "\\hline\n",
      "                  &   Mean &    SD \\\\\n",
      "\\hline\n",
      " Precision [COCO] &  0.931 & 0.068 \\\\\n",
      " Recall [COCO]    &  0.917 & 0.07  \\\\\n",
      " Jaccard [COCO]   &  0.858 & 0.082 \\\\\n",
      " Precision [Self] &  0.918 & 0.076 \\\\\n",
      " Recall [Self]    &  0.925 & 0.073 \\\\\n",
      " Jaccard [Self]   &  0.858 & 0.086 \\\\\n",
      "\\hline\n",
      "\\end{tabular}\n"
     ]
    }
   ],
   "source": [
    "print tabulate(table_data,headers=[\"Mean\",\"SD\"],tablefmt='latex')"
   ]
  },
  {
   "cell_type": "code",
   "execution_count": 424,
   "metadata": {
    "collapsed": true
   },
   "outputs": [],
   "source": [
    "shape, loc, scale  "
   ]
  },
  {
   "cell_type": "code",
   "execution_count": 443,
   "metadata": {
    "collapsed": true
   },
   "outputs": [],
   "source": [
    "from scipy.stats import *"
   ]
  },
  {
   "cell_type": "code",
   "execution_count": 448,
   "metadata": {
    "collapsed": false
   },
   "outputs": [
    {
     "name": "stdout",
     "output_type": "stream",
     "text": [
      "275.030534621\n",
      "-0.939287772358\n",
      "Jaccard [Self] : D = 1.0 ; p =0.0 ---> NOT from same distribution\n"
     ]
    },
    {
     "data": {
      "image/png": "[encoded data removed]",
      "text/plain": [
       "<matplotlib.figure.Figure at 0x119b1a1d0>"
      ]
     },
     "metadata": {},
     "output_type": "display_data"
    }
   ],
   "source": [
    "# Based on MLE estimate for fitting\n",
    "fcn = expon\n",
    "params = fcn.fit(1-metric_value)\n",
    "n, bins, patches = plt.hist(1-metric_value, 30, normed=1, facecolor='green', alpha=0.75)\n",
    "plt.xlim(0,1)\n",
    "y = fcn.pdf( bins, *params)\n",
    "RSS =sum((bins-y)**2)\n",
    "R = np.corrcoef(bins,y)[0][1]\n",
    "kolmogorov_smirnov(bins,y,metric)\n",
    "l = plt.plot(bins, y, 'r--', linewidth=2)"
   ]
  },
  {
   "cell_type": "code",
   "execution_count": 455,
   "metadata": {
    "collapsed": true
   },
   "outputs": [],
   "source": [
    "np.histogram?"
   ]
  },
  {
   "cell_type": "code",
   "execution_count": 462,
   "metadata": {
    "collapsed": false
   },
   "outputs": [
    {
     "name": "stdout",
     "output_type": "stream",
     "text": [
      "Jaccard [Self] : D = 1.0 ; p =0.0 ---> NOT from same distribution\n"
     ]
    },
    {
     "data": {
      "image/png": "[encoded data removed]",
      "text/plain": [
       "<matplotlib.figure.Figure at 0x1574e9cd0>"
      ]
     },
     "metadata": {},
     "output_type": "display_data"
    }
   ],
   "source": [
    "# Based on MLE estimate for fitting\n",
    "fcn = expon\n",
    "params = fcn.fit(1-metric_value)\n",
    "n, bins, patches = plt.hist(1-metric_value, 30, normed=1)\n",
    "y = fcn.pdf( bins, *params)\n",
    "RSS =sum((bins-y)**2)\n",
    "R = np.corrcoef(bins,y)[0][1]\n",
    "kolmogorov_smirnov(bins,y,metric)\n",
    "l = plt.plot(bins, y, 'r--', linewidth=2)"
   ]
  },
  {
   "cell_type": "code",
   "execution_count": 493,
   "metadata": {
    "collapsed": false
   },
   "outputs": [],
   "source": [
    "def kolmogorov_smirnov(data1,data2,name):\n",
    "\t'''\n",
    "\tSee if data come from the same distribution\n",
    "\t'''\n",
    "\tresult = stats.ks_2samp(data1,data2)\n",
    "\tif result[1]>0.05: print \"{0} : D = {1} ; p ={2} ---> {3}\".format(name,np.around(result[0],2),np.around(result[1],2),pcheck(result[1],\"from same distribution\"))"
   ]
  },
  {
   "cell_type": "code",
   "execution_count": 468,
   "metadata": {
    "collapsed": false
   },
   "outputs": [
    {
     "name": "stdout",
     "output_type": "stream",
     "text": [
      "['alpha', 'anglit', 'arcsine', 'bernoulli', 'beta', 'betaprime', 'binom', 'boltzmann', 'bradford', 'burr', 'cauchy', 'chi', 'chi2', 'cosine', 'dgamma', 'division', 'dlaplace', 'dweibull', 'entropy', 'erlang', 'expon', 'exponpow', 'exponweib', 'f', 'fatiguelife', 'fisk', 'foldcauchy', 'foldnorm', 'frechet_l', 'frechet_r', 'gamma', 'gausshyper', 'genexpon', 'genextreme', 'gengamma', 'genhalflogistic', 'genlogistic', 'genpareto', 'geom', 'gilbrat', 'gompertz', 'gumbel_l', 'gumbel_r', 'halfcauchy', 'halflogistic', 'halfnorm', 'hypergeom', 'hypsecant', 'invgamma', 'invgauss', 'invweibull', 'johnsonsb', 'johnsonsu', 'ksone', 'kstwobign', 'laplace', 'levy', 'levy_l', 'levy_stable', 'loggamma', 'logistic', 'loglaplace', 'lognorm', 'logser', 'lomax', 'maxwell', 'mielke', 'nakagami', 'nbinom', 'ncf', 'nct', 'ncx2', 'norm', 'pareto', 'pearson3', 'planck', 'poisson', 'powerlaw', 'powerlognorm', 'powernorm', 'print_function', 'randint', 'rayleigh', 'rdist', 'recipinvgauss', 'reciprocal', 'rice', 'rv_continuous', 'rv_discrete', 'rv_frozen', 'semicircular', 'skellam', 't', 'triang', 'truncexpon', 'truncnorm', 'tukeylambda', 'uniform', 'vonmises', 'vonmises_line', 'wald', 'weibull_max', 'weibull_min', 'wrapcauchy', 'zipf']\n"
     ]
    }
   ],
   "source": [
    "print dir(stats.distributions)[9:]"
   ]
  },
  {
   "cell_type": "code",
   "execution_count": 483,
   "metadata": {
    "collapsed": true
   },
   "outputs": [],
   "source": [
    "import scipy.stats"
   ]
  },
  {
   "cell_type": "code",
   "execution_count": 510,
   "metadata": {
    "collapsed": false
   },
   "outputs": [],
   "source": [
    "exclude= ['division', 'skellam', 'nbinom', 'logser', 'erlang','dlaplace', 'hypergeom', 'bernoulli', 'levy_stable', 'zipf', 'rv_discrete', 'rv_frozen', 'boltzmann', 'rv_continuous', 'entropy', 'randint', 'poisson', 'geom', 'binom', 'planck', 'print_function']"
   ]
  },
  {
   "cell_type": "code",
   "execution_count": 511,
   "metadata": {
    "collapsed": false
   },
   "outputs": [
    {
     "name": "stdout",
     "output_type": "stream",
     "text": [
      "['alpha', 'anglit', 'arcsine', 'beta', 'betaprime', 'bradford', 'burr', 'cauchy', 'chi', 'chi2', 'cosine', 'dgamma', 'dweibull', 'expon', 'exponpow', 'exponweib', 'f', 'fatiguelife', 'fisk', 'foldcauchy', 'foldnorm', 'frechet_l', 'frechet_r', 'gamma', 'gausshyper', 'genexpon', 'genextreme', 'gengamma', 'genhalflogistic', 'genlogistic', 'genpareto', 'gilbrat', 'gompertz', 'gumbel_l', 'gumbel_r', 'halfcauchy', 'halflogistic', 'halfnorm', 'hypsecant', 'invgamma', 'invgauss', 'invweibull', 'johnsonsb', 'johnsonsu', 'ksone', 'kstwobign', 'laplace', 'levy', 'levy_l', 'loggamma', 'logistic', 'loglaplace', 'lognorm', 'lomax', 'maxwell', 'mielke', 'nakagami', 'ncf', 'nct', 'ncx2', 'norm', 'pareto', 'pearson3', 'powerlaw', 'powerlognorm', 'powernorm', 'rayleigh', 'rdist', 'recipinvgauss', 'reciprocal', 'rice', 'semicircular', 't', 'triang', 'truncexpon', 'truncnorm', 'tukeylambda', 'uniform', 'vonmises', 'vonmises_line', 'wald', 'weibull_max', 'weibull_min', 'wrapcauchy']\n"
     ]
    }
   ],
   "source": [
    "print filter(lambda x: x not in exclude,dir(stats.distributions)[9:])"
   ]
  },
  {
   "cell_type": "markdown",
   "metadata": {},
   "source": [
    "Pearson's R tests strength of a linear association between two variables. It is probably not the best test for this application "
   ]
  },
  {
   "cell_type": "code",
   "execution_count": 514,
   "metadata": {
    "collapsed": false
   },
   "outputs": [
    {
     "name": "stdout",
     "output_type": "stream",
     "text": [
      "Precision [COCO]: mu = 0.869; std = 0.227\n",
      "alpha : D = 0.29 ; p =0.12 ---> from same distribution\n",
      "beta : D = 0.29 ; p =0.12 ---> from same distribution\n",
      "burr : D = 0.19 ; p =0.56 ---> from same distribution\n",
      "chi : D = 0.29 ; p =0.12 ---> from same distribution\n",
      "chi2 : D = 0.23 ; p =0.36 ---> from same distribution\n",
      "exponpow : D = 0.23 ; p =0.36 ---> from same distribution\n",
      "exponweib : D = 0.29 ; p =0.12 ---> from same distribution\n",
      "fatiguelife : D = 0.29 ; p =0.12 ---> from same distribution\n",
      "fisk : D = 0.32 ; p =0.06 ---> from same distribution\n",
      "frechet_r : D = 0.32 ; p =0.06 ---> from same distribution\n",
      "gamma : D = 0.29 ; p =0.12 ---> from same distribution\n",
      "gumbel_l : D = 0.32 ; p =0.06 ---> from same distribution\n",
      "mielke : D = 0.16 ; p =0.78 ---> from same distribution\n",
      "nakagami : D = 0.26 ; p =0.22 ---> from same distribution\n",
      "ncx2 : D = 0.23 ; p =0.36 ---> from same distribution\n",
      "pearson3 : D = 0.32 ; p =0.06 ---> from same distribution\n",
      "recipinvgauss : D = 0.29 ; p =0.12 ---> from same distribution\n",
      "weibull_min : D = 0.32 ; p =0.06 ---> from same distribution\n",
      "Recall [COCO]: mu = 0.897; std = 0.132\n",
      "betaprime : D = 0.19 ; p =0.56 ---> from same distribution\n",
      "burr : D = 0.16 ; p =0.78 ---> from same distribution\n",
      "fisk : D = 0.32 ; p =0.06 ---> from same distribution\n",
      "gausshyper : D = 0.29 ; p =0.12 ---> from same distribution\n",
      "mielke : D = 0.16 ; p =0.78 ---> from same distribution\n",
      "Jaccard [COCO]: mu = 0.789; std = 0.227\n",
      "alpha : D = 0.29 ; p =0.12 ---> from same distribution\n",
      "beta : D = 0.26 ; p =0.22 ---> from same distribution\n",
      "betaprime : D = 0.26 ; p =0.22 ---> from same distribution\n",
      "burr : D = 0.29 ; p =0.12 ---> from same distribution\n",
      "chi2 : D = 0.32 ; p =0.06 ---> from same distribution\n",
      "dgamma : D = 0.32 ; p =0.06 ---> from same distribution\n",
      "expon : D = 0.32 ; p =0.06 ---> from same distribution\n",
      "exponweib : D = 0.26 ; p =0.22 ---> from same distribution\n",
      "f : D = 0.26 ; p =0.22 ---> from same distribution\n",
      "fatiguelife : D = 0.29 ; p =0.12 ---> from same distribution\n",
      "fisk : D = 0.29 ; p =0.12 ---> from same distribution\n",
      "foldcauchy : D = 0.32 ; p =0.06 ---> from same distribution\n",
      "frechet_r : D = 0.32 ; p =0.06 ---> from same distribution\n",
      "genexpon : D = 0.32 ; p =0.06 ---> from same distribution\n",
      "genextreme : D = 0.26 ; p =0.22 ---> from same distribution\n",
      "gengamma : D = 0.26 ; p =0.22 ---> from same distribution\n",
      "genpareto : D = 0.29 ; p =0.12 ---> from same distribution\n",
      "gilbrat : D = 0.26 ; p =0.22 ---> from same distribution\n",
      "halfcauchy : D = 0.26 ; p =0.22 ---> from same distribution\n",
      "hypsecant : D = 0.32 ; p =0.06 ---> from same distribution\n",
      "invgamma : D = 0.26 ; p =0.22 ---> from same distribution\n",
      "invgauss : D = 0.26 ; p =0.22 ---> from same distribution\n",
      "invweibull : D = 0.26 ; p =0.22 ---> from same distribution\n",
      "johnsonsb : D = 0.26 ; p =0.22 ---> from same distribution\n",
      "johnsonsu : D = 0.26 ; p =0.22 ---> from same distribution\n",
      "laplace : D = 0.32 ; p =0.06 ---> from same distribution\n",
      "levy : D = 0.23 ; p =0.36 ---> from same distribution\n",
      "loglaplace : D = 0.32 ; p =0.06 ---> from same distribution\n",
      "lognorm : D = 0.26 ; p =0.22 ---> from same distribution\n",
      "lomax : D = 0.29 ; p =0.12 ---> from same distribution\n",
      "mielke : D = 0.29 ; p =0.12 ---> from same distribution\n",
      "ncf : D = 0.29 ; p =0.12 ---> from same distribution\n",
      "nct : D = 0.29 ; p =0.12 ---> from same distribution\n",
      "ncx2 : D = 0.32 ; p =0.06 ---> from same distribution\n",
      "pearson3 : D = 0.32 ; p =0.06 ---> from same distribution\n",
      "powerlognorm : D = 0.26 ; p =0.22 ---> from same distribution\n",
      "recipinvgauss : D = 0.29 ; p =0.12 ---> from same distribution\n",
      "reciprocal : D = 0.23 ; p =0.36 ---> from same distribution\n",
      "wald : D = 0.26 ; p =0.22 ---> from same distribution\n",
      "weibull_min : D = 0.32 ; p =0.06 ---> from same distribution\n",
      "Precision [Self]: mu = 0.864; std = 0.206\n",
      "beta : D = 0.29 ; p =0.12 ---> from same distribution\n",
      "betaprime : D = 0.23 ; p =0.36 ---> from same distribution\n",
      "burr : D = 0.16 ; p =0.78 ---> from same distribution\n",
      "chi : D = 0.32 ; p =0.06 ---> from same distribution\n",
      "expon : D = 0.32 ; p =0.06 ---> from same distribution\n",
      "exponpow : D = 0.26 ; p =0.22 ---> from same distribution\n",
      "exponweib : D = 0.32 ; p =0.06 ---> from same distribution\n",
      "f : D = 0.32 ; p =0.06 ---> from same distribution\n",
      "fatiguelife : D = 0.29 ; p =0.12 ---> from same distribution\n",
      "fisk : D = 0.32 ; p =0.06 ---> from same distribution\n",
      "frechet_r : D = 0.26 ; p =0.22 ---> from same distribution\n",
      "gamma : D = 0.29 ; p =0.12 ---> from same distribution\n",
      "gausshyper : D = 0.23 ; p =0.36 ---> from same distribution\n",
      "genexpon : D = 0.32 ; p =0.06 ---> from same distribution\n",
      "gengamma : D = 0.32 ; p =0.06 ---> from same distribution\n",
      "gompertz : D = 0.32 ; p =0.06 ---> from same distribution\n",
      "invgauss : D = 0.32 ; p =0.06 ---> from same distribution\n",
      "kstwobign : D = 0.32 ; p =0.06 ---> from same distribution\n",
      "lomax : D = 0.32 ; p =0.06 ---> from same distribution\n",
      "mielke : D = 0.16 ; p =0.78 ---> from same distribution\n",
      "nakagami : D = 0.29 ; p =0.12 ---> from same distribution\n",
      "ncf : D = 0.32 ; p =0.06 ---> from same distribution\n",
      "ncx2 : D = 0.29 ; p =0.12 ---> from same distribution\n",
      "powerlaw : D = 0.32 ; p =0.06 ---> from same distribution\n",
      "recipinvgauss : D = 0.29 ; p =0.12 ---> from same distribution\n",
      "reciprocal : D = 0.32 ; p =0.06 ---> from same distribution\n",
      "weibull_min : D = 0.26 ; p =0.22 ---> from same distribution\n",
      "Recall [Self]: mu = 0.901; std = 0.145\n",
      "betaprime : D = 0.19 ; p =0.56 ---> from same distribution\n",
      "bradford : D = 0.23 ; p =0.36 ---> from same distribution\n",
      "burr : D = 0.26 ; p =0.22 ---> from same distribution\n",
      "exponpow : D = 0.26 ; p =0.22 ---> from same distribution\n",
      "gamma : D = 0.26 ; p =0.22 ---> from same distribution\n",
      "gausshyper : D = 0.23 ; p =0.36 ---> from same distribution\n",
      "mielke : D = 0.19 ; p =0.56 ---> from same distribution\n",
      "powerlaw : D = 0.29 ; p =0.12 ---> from same distribution\n",
      "reciprocal : D = 0.32 ; p =0.06 ---> from same distribution\n",
      "Jaccard [Self]: mu = 0.785; std = 0.219\n",
      "alpha : D = 0.26 ; p =0.22 ---> from same distribution\n",
      "betaprime : D = 0.29 ; p =0.12 ---> from same distribution\n",
      "burr : D = 0.19 ; p =0.56 ---> from same distribution\n",
      "dgamma : D = 0.29 ; p =0.12 ---> from same distribution\n",
      "dweibull : D = 0.29 ; p =0.12 ---> from same distribution\n",
      "expon : D = 0.32 ; p =0.06 ---> from same distribution\n",
      "exponweib : D = 0.29 ; p =0.12 ---> from same distribution\n",
      "f : D = 0.29 ; p =0.12 ---> from same distribution\n",
      "fatiguelife : D = 0.32 ; p =0.06 ---> from same distribution\n",
      "fisk : D = 0.26 ; p =0.22 ---> from same distribution\n",
      "foldcauchy : D = 0.29 ; p =0.12 ---> from same distribution\n",
      "frechet_l : D = 0.23 ; p =0.36 ---> from same distribution\n",
      "gamma : D = 0.32 ; p =0.06 ---> from same distribution\n",
      "gausshyper : D = 0.29 ; p =0.12 ---> from same distribution\n",
      "genextreme : D = 0.29 ; p =0.12 ---> from same distribution\n",
      "gengamma : D = 0.29 ; p =0.12 ---> from same distribution\n",
      "genpareto : D = 0.29 ; p =0.12 ---> from same distribution\n",
      "gilbrat : D = 0.29 ; p =0.12 ---> from same distribution\n",
      "gompertz : D = 0.32 ; p =0.06 ---> from same distribution\n",
      "halfcauchy : D = 0.26 ; p =0.22 ---> from same distribution\n",
      "invgamma : D = 0.29 ; p =0.12 ---> from same distribution\n",
      "invgauss : D = 0.29 ; p =0.12 ---> from same distribution\n",
      "invweibull : D = 0.29 ; p =0.12 ---> from same distribution\n",
      "johnsonsb : D = 0.29 ; p =0.12 ---> from same distribution\n",
      "johnsonsu : D = 0.26 ; p =0.22 ---> from same distribution\n",
      "laplace : D = 0.32 ; p =0.06 ---> from same distribution\n",
      "levy : D = 0.23 ; p =0.36 ---> from same distribution\n",
      "loglaplace : D = 0.29 ; p =0.12 ---> from same distribution\n",
      "lognorm : D = 0.29 ; p =0.12 ---> from same distribution\n",
      "lomax : D = 0.32 ; p =0.06 ---> from same distribution\n",
      "mielke : D = 0.29 ; p =0.12 ---> from same distribution\n",
      "ncf : D = 0.29 ; p =0.12 ---> from same distribution\n",
      "nct : D = 0.26 ; p =0.22 ---> from same distribution\n",
      "ncx2 : D = 0.32 ; p =0.06 ---> from same distribution\n",
      "pareto : D = 0.26 ; p =0.22 ---> from same distribution\n",
      "powerlognorm : D = 0.29 ; p =0.12 ---> from same distribution\n",
      "recipinvgauss : D = 0.32 ; p =0.06 ---> from same distribution\n",
      "reciprocal : D = 0.23 ; p =0.36 ---> from same distribution\n",
      "wald : D = 0.29 ; p =0.12 ---> from same distribution\n",
      "weibull_max : D = 0.23 ; p =0.36 ---> from same distribution\n"
     ]
    },
    {
     "data": {
      "image/png": "[encoded data removed]",
      "text/plain": [
       "<matplotlib.figure.Figure at 0x155723850>"
      ]
     },
     "metadata": {},
     "output_type": "display_data"
    }
   ],
   "source": [
    "bb_info = pd.read_csv('computed_my_COCO_BBvals.csv')\n",
    "metrics_lst = ['Precision [COCO]','Recall [COCO]','Jaccard [COCO]',\\\n",
    "               'Precision [Self]','Recall [Self]','Jaccard [Self]']\n",
    "FILTER_CRITERION = 0\n",
    "NUM_COL = 3\n",
    "NUM_ROW = 2\n",
    "NUM_PLOTS = NUM_COL*NUM_ROW\n",
    "\n",
    "fig, axs = plt.subplots(NUM_ROW,NUM_COL, figsize=(NUM_ROW*3,NUM_COL*1.5), sharex='col')\n",
    "fig.suptitle(\"Good Worker [metric >{}]\".format(FILTER_CRITERION),fontsize=16,y=1.05)\n",
    "# fig.subplots_adjust(hspace = .5, wspace=.001)\n",
    "axs = axs.ravel()\n",
    "\n",
    "table_data = []\n",
    "for i,metric in zip(range(len(metrics_lst)),metrics_lst):\n",
    "    metric_value = np.array(bb_info[metric][bb_info[metric]>FILTER_CRITERION][bb_info[metric]<=1]) \n",
    "    table_data.append(basic_stat(metric_value,metric))\n",
    "    ax = axs[i]\n",
    "    ax.set_title(metric)\n",
    "    ax.hist(metric_value,bins=30)\n",
    "    ax.set_xlim(FILTER_CRITERION,1.03)\n",
    "    #Testing against various distributions \n",
    "    \n",
    "    for fcn_name in filter(lambda x: x not in exclude,dir(stats.distributions)[9:]):\n",
    "        # Based on MLE estimate for fitting\n",
    "        try:\n",
    "            fcn = getattr(scipy.stats,fcn_name)\n",
    "            params = fcn.fit(1-metric_value)\n",
    "            histo,bins = np.histogram(1-metric_value, 30, normed=1)\n",
    "            y = fcn.pdf(bins, *params)\n",
    "            RSS =sum((bins-y)**2)\n",
    "            R = np.corrcoef(bins,y)[0][1]\n",
    "#             print \"RSS:\",RSS\n",
    "#             print \"R: \",R\n",
    "            kolmogorov_smirnov(bins,y,fcn_name)\n",
    "        except(AttributeError,NotImplementedError,TypeError):\n",
    "            #function has no fitting\n",
    "            print \"Skipped\", fcn_name\n",
    "fig.tight_layout()\n",
    "fig.savefig('good_worker_metric_histogram.pdf')"
   ]
  },
  {
   "cell_type": "code",
   "execution_count": 512,
   "metadata": {
    "collapsed": false,
    "scrolled": false
   },
   "outputs": [
    {
     "name": "stdout",
     "output_type": "stream",
     "text": [
      "Precision [COCO]: mu = 0.931; std = 0.068\n",
      "RSS: 55.2710138862\n",
      "R:  0.49947367802\n",
      "RSS: 142.637493015\n",
      "R:  -0.787330268869\n",
      "RSS: 1.49644493524e+27\n",
      "R:  -0.306186217848\n",
      "RSS: 612003792.603\n",
      "R:  -0.306723289464\n",
      "RSS: 825.458385251\n",
      "R:  -0.774117283746\n",
      "RSS: 192.945094788\n",
      "R:  -0.967688941986\n",
      "RSS: 3.26638068962e+47\n",
      "R:  -0.306186217848\n",
      "RSS: 386.983908706\n",
      "R:  -0.747678425197\n",
      "RSS: 1.15172452336e+16\n",
      "R:  -0.306186337944\n",
      "RSS: 3.32547168588e+12\n",
      "R:  -0.306192706736\n",
      "RSS: 161.269840078\n",
      "R:  -0.89012497155\n",
      "RSS: 354.577519284\n",
      "R:  -0.849792821886\n",
      "RSS: 345.776455401\n",
      "R:  -0.843930502156\n",
      "RSS: 462.278693209\n",
      "R:  -0.744141818705\n",
      "RSS: 6.72928464266e+16\n",
      "R:  -0.306186267513\n",
      "RSS: 470.495423131\n",
      "R:  -0.743411442695\n",
      "RSS: 776.427835357\n",
      "R:  -0.782944278589\n",
      "RSS: 545.108320958\n",
      "R:  -0.77243864345\n",
      "RSS: 1.6276949456e+25\n",
      "R:  -0.30618621785\n",
      "RSS: 582.659978958\n",
      "R:  -0.794690048137\n",
      "RSS: 465.635469696\n",
      "R:  -0.924083601436\n",
      "RSS: 8.14995628975e+21\n",
      "R:  0.30618621791\n",
      "RSS: 463.510456327\n",
      "R:  -0.746670658459\n",
      "RSS: 18597.7702492\n",
      "R:  -0.405697120781\n",
      "RSS: 1.80101315273e+22\n",
      "R:  -0.306186217921\n",
      "RSS: 641.05650669\n",
      "R:  -0.829153828518\n",
      "RSS: 558.859380276\n",
      "R:  -0.769384284864\n",
      "RSS: 471.670525641\n",
      "R:  -0.74282821206\n",
      "RSS: 534.465591228\n",
      "R:  -0.886296820206\n",
      "RSS: 428.537144833\n",
      "R:  -0.860646122758\n",
      "RSS: 642.475459554\n",
      "R:  -0.832418909322\n",
      "RSS: 553.63541254\n",
      "R:  -0.765089131591\n",
      "RSS: 663.667380362\n",
      "R:  -0.822727352146\n",
      "RSS: 169.595116691\n",
      "R:  -0.87855251297\n",
      "RSS: 429.267009723\n",
      "R:  -0.860212708345\n",
      "RSS: 633.401620727\n",
      "R:  -0.764346554493\n",
      "RSS: 534.894293264\n",
      "R:  -0.886073479584\n",
      "RSS: 465.699300931\n",
      "R:  -0.924056741914\n",
      "RSS: 351.320174113\n",
      "R:  -0.845290563096\n",
      "RSS: 558.537310806\n",
      "R:  -0.773289420228\n",
      "RSS: 559.728272762\n",
      "R:  -0.771078973502\n",
      "RSS: nan\n",
      "R:  nan\n",
      "invweibull : D = 0.29 ; p =0.12 ---> from same distribution\n",
      "RSS: 510.332254621\n",
      "R:  -0.794183713213\n",
      "RSS: 554.660190671\n",
      "R:  -0.770206874067\n",
      "RSS: 168.511629822\n",
      "R:  -0.435908439855\n",
      "RSS: 395.975808618\n",
      "R:  -0.886951192161\n",
      "RSS: 363.358873773\n",
      "R:  -0.811660381033\n",
      "RSS: nan\n",
      "R:  nan\n",
      "RSS: nan\n",
      "R:  nan\n",
      "RSS: 284.478985844\n",
      "R:  -0.894663864189\n",
      "RSS: 339.022070607\n",
      "R:  -0.860196434491\n",
      "RSS: 2.41999224977e+38\n",
      "R:  -0.306186217848\n",
      "RSS: 554.534255317\n",
      "R:  -0.770337754273\n",
      "RSS: 861.321916046\n",
      "R:  -0.696520344072\n",
      "RSS: 345.364262706\n",
      "R:  -0.894270336875\n",
      "RSS: 5.05130526687e+22\n",
      "R:  -0.3061862179\n",
      "RSS: 1.82429269604e+16\n",
      "R:  -0.306186310943\n",
      "RSS: 3409.31065748\n",
      "R:  -0.459337750477\n",
      "RSS: 558.910887988\n",
      "R:  -0.772788139327\n",
      "RSS: 6.02120991012e+12\n",
      "R:  -0.306191666278\n",
      "RSS: 288.234592675\n",
      "R:  -0.893616528071\n",
      "RSS: 1.64580283273\n",
      "R:  nan\n",
      "RSS: inf\n",
      "R:  nan\n",
      "RSS: 1.72233294068e+27\n",
      "R:  -0.306186217848\n",
      "RSS: 530.235302388\n",
      "R:  -0.809289923715\n",
      "RSS: nan\n",
      "R:  nan\n",
      "RSS: 368.90419664\n",
      "R:  -0.896375094682\n",
      "RSS: 2.6068386056e+13\n",
      "R:  0.306182895739\n",
      "RSS: 518.67799819\n",
      "R:  -0.789814373934\n",
      "RSS: 1.64580283273\n",
      "R:  nan\n",
      "RSS: 368.817988499\n",
      "R:  -0.896425841126\n",
      "RSS: 143.816892718\n",
      "R:  -0.567172122322\n",
      "RSS: 390.735418752\n",
      "R:  -0.811806664065\n",
      "RSS: 249.376443743\n",
      "R:  -1.0\n",
      "RSS: 211.109359229\n",
      "R:  -0.983534930227\n",
      "RSS: 1.64580283273\n",
      "R:  nan\n",
      "RSS: 262.272191476\n",
      "R:  -0.866025403784\n",
      "RSS: 168.526190343\n",
      "R:  1.51745356634e-16\n",
      "RSS: 2.76112406477e+60\n",
      "R:  0.053669766424\n",
      "RSS: 401.134528345\n",
      "R:  -0.829852225085\n",
      "RSS: 558.999037028\n",
      "R:  -0.772461275809\n",
      "RSS: 8.14995628975e+21\n",
      "R:  0.30618621791\n",
      "RSS: 463.510456327\n",
      "R:  -0.746670658459\n",
      "RSS: nan\n",
      "R:  nan\n",
      "Recall [COCO]: mu = 0.917; std = 0.07\n",
      "RSS: 1006.26500311\n",
      "R:  -0.586739841565\n",
      "RSS: 157.924164297\n",
      "R:  -0.730655791449\n",
      "RSS: 7.85544687765e+29\n",
      "R:  -0.306186217848\n",
      "RSS: 417.261079056\n",
      "R:  -0.885967295595\n",
      "RSS: 420.644934516\n",
      "R:  -0.878410460167\n",
      "RSS: 216.858551841\n",
      "R:  -0.881621072513\n",
      "RSS: 2.93891049996e+42\n",
      "R:  -0.306186217848\n",
      "RSS: 332.079946087\n",
      "R:  -0.747620644712\n",
      "RSS: 1.99739656811e+12\n",
      "R:  -0.306194922563\n",
      "RSS: 1251.01551679\n",
      "R:  -0.678168310498\n",
      "RSS: 179.082564118\n",
      "R:  -0.845687158783\n",
      "RSS: 349.34923058\n",
      "R:  -0.822651839628\n",
      "RSS: 343.897094847\n",
      "R:  -0.822846665445\n",
      "RSS: 527.308962986\n",
      "R:  -0.865487320461\n",
      "RSS: 6.55626236731e+13\n",
      "R:  -0.306187700274\n",
      "RSS: 416.671122719\n",
      "R:  -0.896687243912\n",
      "RSS: 420.146044391\n",
      "R:  -0.878284170025\n",
      "RSS: 438.917101919\n",
      "R:  -0.836780544823\n",
      "RSS: 9.41259256465e+16\n",
      "R:  -0.306186244892\n",
      "RSS: 400.959999711\n",
      "R:  -0.861993660354\n",
      "RSS: 414.461556915\n",
      "R:  -0.95057118081\n",
      "RSS: 397.322196333\n",
      "R:  -0.857987611855\n",
      "RSS: 416.482086332\n",
      "R:  -0.901443097217\n",
      "RSS: 420.139807635\n",
      "R:  -0.878292656609\n",
      "RSS: 7.8352187917e+14\n",
      "R:  -0.306186539126\n",
      "RSS: 419.318907876\n",
      "R:  -0.803412479382\n",
      "RSS: 438.995801506\n",
      "R:  -0.826874241982\n",
      "RSS: 416.489011872\n",
      "R:  -0.898997338576\n",
      "RSS: 447.631548886\n",
      "R:  -0.925705074428\n",
      "RSS: 396.397342383\n",
      "R:  -0.858756988283\n",
      "RSS: 478.826682221\n",
      "R:  -0.905999703986\n",
      "RSS: 431.932430556\n",
      "R:  -0.799541786308\n",
      "RSS: 469.72061036\n",
      "R:  -0.914416634692\n",
      "RSS: 171.284303095\n",
      "R:  -0.837211743877\n",
      "RSS: 396.938027968\n",
      "R:  -0.858233201918\n",
      "RSS: 443.660568184\n",
      "R:  -0.833745396044\n",
      "RSS: 405.57843223\n",
      "R:  -0.81224260993\n",
      "RSS: 414.388188809\n",
      "R:  -0.950599205346\n",
      "RSS: 343.176269375\n",
      "R:  -0.829106521262\n",
      "RSS: 440.316862223\n",
      "R:  -0.828953428647\n",
      "RSS: 440.934625079\n",
      "R:  -0.834308247199\n",
      "RSS: 439.107511886\n",
      "R:  -0.826815294531\n",
      "RSS: 425.162179296\n",
      "R:  -0.850256787873\n",
      "RSS: 441.696594933\n",
      "R:  -0.831752577133\n",
      "RSS: 174.751139807\n",
      "R:  -0.54079899765\n",
      "RSS: 373.422190023\n",
      "R:  -0.880862954998\n",
      "RSS: 359.139429569\n",
      "R:  -0.786313937336\n",
      "RSS: 360.888944026\n",
      "R:  -0.636742686771\n",
      "RSS: nan\n",
      "R:  nan\n",
      "RSS: 283.838698168\n",
      "R:  -0.874734393035\n",
      "RSS: 335.102426814\n",
      "R:  -0.843189829234\n",
      "RSS: 1.6207200983e+35\n",
      "R:  -0.306186217848\n",
      "RSS: 441.407969045\n",
      "R:  -0.831607160762\n",
      "RSS: 518.101441401\n",
      "R:  -0.868282949406\n",
      "RSS: 337.484932371\n",
      "R:  -0.880167645259\n",
      "RSS: 6.29271874486e+40\n",
      "R:  -0.306186217848\n",
      "RSS: 2.13290958233e+16\n",
      "R:  -0.306186298061\n",
      "RSS: 430.593053405\n",
      "R:  -0.765795618697\n",
      "RSS: 439.790028823\n",
      "R:  -0.828480944497\n",
      "RSS: 3.38162790546e+20\n",
      "R:  -0.306186218423\n",
      "RSS: 287.784922456\n",
      "R:  -0.873146037526\n",
      "RSS: 1.59390441331\n",
      "R:  nan\n",
      "RSS: 420.123482331\n",
      "R:  -0.878307527311\n",
      "RSS: 1.50300138749e+19\n",
      "R:  -0.306186218911\n",
      "RSS: 429.012491174\n",
      "R:  -0.85866941565\n",
      "RSS: nan\n",
      "R:  nan\n",
      "RSS: 355.724766921\n",
      "R:  -0.885285979981\n",
      "RSS: 2.91124568161e+18\n",
      "R:  -0.306186219064\n",
      "RSS: 435.616168046\n",
      "R:  -0.840690114806\n",
      "RSS: 1.59390441331\n",
      "R:  nan\n",
      "RSS: 355.813851679\n",
      "R:  -0.885199464223\n",
      "RSS: 157.494435424\n",
      "R:  -0.493839804646\n",
      "RSS: 362.595293508\n",
      "R:  -0.815479352329\n",
      "RSS: 257.552557538\n",
      "R:  -1.0\n",
      "RSS: 203.198638035\n",
      "R:  -0.976407394502\n",
      "RSS: 1.59390441331\n",
      "R:  nan\n",
      "RSS: 260.756740799\n",
      "R:  -0.866025403784\n",
      "RSS: 174.907931065\n",
      "R:  -6.16784098013e-17\n",
      "RSS: 1.26554798277e+59\n",
      "R:  -0.0426537635158\n",
      "RSS: 324.241021348\n",
      "R:  -0.853011009011\n",
      "RSS: 446.378455488\n",
      "R:  -0.797264596954\n",
      "RSS: 397.322196333\n",
      "R:  -0.857987611855\n",
      "RSS: 416.482086332\n",
      "R:  -0.901443097217\n",
      "RSS: nan\n",
      "R:  nan\n",
      "Jaccard [COCO]: mu = 0.858; std = 0.082\n",
      "RSS: 289.715988103\n",
      "R:  -0.760452964074\n",
      "RSS: 187.184051554\n",
      "R:  -0.511019919829\n",
      "RSS: 6.24718336605e+15\n",
      "R:  0.306186019725\n",
      "RSS: 271.26216878\n",
      "R:  -0.859548834565\n",
      "RSS: 288.020001593\n",
      "R:  -0.80161510237\n",
      "RSS: 193.367656319\n",
      "R:  -0.975532726566\n",
      "RSS: 275.332964295\n",
      "R:  -0.861316039366\n",
      "RSS: 256.352537508\n",
      "R:  -0.634689923704\n",
      "RSS: 274.012413551\n",
      "R:  -0.858206664123\n",
      "RSS: 286.372550066\n",
      "R:  -0.807857393978\n",
      "RSS: 209.618646624\n",
      "R:  -0.641613584209\n",
      "RSS: 271.134582252\n",
      "R:  -0.660474564076\n",
      "RSS: 263.578254405\n",
      "R:  -0.684422653384\n",
      "RSS: 330.014394297\n",
      "R:  -0.930402897091\n",
      "RSS: 262.540933276\n",
      "R:  -0.926201745037\n",
      "RSS: 272.600520979\n",
      "R:  -0.861722231223\n",
      "RSS: 286.376204439\n",
      "R:  -0.807866063549\n",
      "RSS: 288.396092733\n",
      "R:  -0.785925189107\n",
      "RSS: 293.667490096\n",
      "R:  -0.746891113386\n",
      "RSS: 276.737152585\n",
      "R:  -0.782517479857\n",
      "RSS: 275.868511685\n",
      "R:  -0.968766942195\n",
      "RSS: 1.47291412901e+13\n",
      "R:  0.306188753683\n",
      "RSS: 281.072327527\n",
      "R:  -0.832776072914\n",
      "RSS: 286.371222106\n",
      "R:  -0.807858936993\n",
      "RSS: 254.633261669\n",
      "R:  -0.911310980971\n",
      "RSS: 279.055693157\n",
      "R:  -0.889476549988\n",
      "RSS: 290.098474431\n",
      "R:  -0.763095249635\n",
      "RSS: 272.798336747\n",
      "R:  -0.861739776095\n",
      "RSS: 285.646135025\n",
      "R:  -0.986516221415\n",
      "RSS: 288.620624906\n",
      "R:  -0.759187062438\n",
      "RSS: 280.659191579\n",
      "R:  -0.997235291083\n",
      "RSS: 265.372829045\n",
      "R:  -0.826144808681\n",
      "RSS: 273.679911534\n",
      "R:  -0.988474917306\n",
      "RSS: 180.907661893\n",
      "R:  -0.571690948926\n",
      "RSS: 288.668079481\n",
      "R:  -0.760103822294\n",
      "RSS: 245.937217164\n",
      "R:  -0.927301213044\n",
      "RSS: 297.148564685\n",
      "R:  -0.979776381148\n",
      "RSS: 291.937247028\n",
      "R:  -0.989449729441\n",
      "RSS: 268.241975786\n",
      "R:  -0.695185723363\n",
      "RSS: 289.808726446\n",
      "R:  -0.768859337523\n",
      "RSS: 288.650715902\n",
      "R:  -0.783347285051\n",
      "RSS: 290.087147692\n",
      "R:  -0.763098442879\n",
      "RSS: 274.320687166\n",
      "R:  -0.837146081275\n",
      "RSS: 289.030601047\n",
      "R:  -0.777188412438\n",
      "RSS: 164.882497579\n",
      "R:  -0.252168350876\n",
      "RSS: 282.515085692\n",
      "R:  -0.777727393394\n",
      "RSS: 284.81593092\n",
      "R:  -0.666299754215\n",
      "RSS: 173.361201692\n",
      "R:  -0.749534819581\n",
      "RSS: 1.74850158442\n",
      "R:  nan\n",
      "RSS: 243.721000482\n",
      "R:  -0.696442317853\n",
      "RSS: 261.845902513\n",
      "R:  -0.702544986045\n",
      "RSS: 309.615679144\n",
      "R:  -0.70305825451\n",
      "RSS: 289.345845978\n",
      "R:  -0.776920334168\n",
      "RSS: 330.175071153\n",
      "R:  -0.930354917308\n",
      "RSS: 271.154574429\n",
      "R:  -0.744553373673\n",
      "RSS: 275.334068491\n",
      "R:  -0.861320885172\n",
      "RSS: 274.010927913\n",
      "R:  -0.858307499142\n",
      "RSS: 147.224560192\n",
      "R:  -0.971619746276\n",
      "RSS: 290.273939005\n",
      "R:  -0.766207306329\n",
      "RSS: 360.884032901\n",
      "R:  -0.892581072481\n",
      "RSS: 247.201115534\n",
      "R:  -0.701404402213\n",
      "RSS: 1.74850158442\n",
      "R:  nan\n",
      "RSS: 286.370169518\n",
      "R:  -0.807868652564\n",
      "RSS: 161.292518049\n",
      "R:  -0.8952269562\n",
      "RSS: inf\n",
      "R:  nan\n",
      "RSS: nan\n",
      "R:  nan\n",
      "RSS: 277.018600105\n",
      "R:  -0.770867788397\n",
      "RSS: 246.917098692\n",
      "R:  -0.701165194935\n",
      "RSS: 288.267498421\n",
      "R:  -0.787622430948\n",
      "RSS: 1.74850158442\n",
      "R:  nan\n",
      "RSS: 277.023450637\n",
      "R:  -0.770950022578\n",
      "RSS: 179.411313092\n",
      "R:  -0.271396024757\n",
      "RSS: 255.092748903\n",
      "R:  -0.704320735621\n",
      "RSS: 239.803929308\n",
      "R:  -0.888176973604\n",
      "RSS: 212.935114497\n",
      "R:  -0.988399118071\n",
      "RSS: 1.74850158442\n",
      "R:  nan\n",
      "RSS: 242.379244297\n",
      "R:  -0.810092587301\n",
      "RSS: 180.239859858\n",
      "R:  -2.20048758105e-16\n",
      "RSS: 4.76402343056e+58\n",
      "R:  0.136150961863\n",
      "RSS: 264.297984427\n",
      "R:  -0.700330199026\n",
      "RSS: 274.530001481\n",
      "R:  -0.821065648249\n",
      "RSS: 1.47291412901e+13\n",
      "R:  0.306188753683\n",
      "RSS: 281.072327527\n",
      "R:  -0.832776072914\n",
      "RSS: nan\n",
      "R:  nan\n",
      "Precision [Self]: mu = 0.918; std = 0.076\n",
      "RSS: 100.822119893\n",
      "R:  -0.317203313701\n",
      "RSS: 146.626704761\n",
      "R:  -0.753411062032\n",
      "RSS: 4.24353547732e+27\n",
      "R:  -0.306186217848\n",
      "RSS: 401132765618.0\n",
      "R:  -0.30620568861\n",
      "RSS: 1.46340718065e+43\n",
      "R:  -0.306186217848\n",
      "RSS: 251.014602231\n",
      "R:  -0.891816498469\n",
      "RSS: 4.70497912532e+41\n",
      "R:  -0.306186217848\n",
      "RSS: 359.022320404\n",
      "R:  -0.750817030943\n",
      "RSS: 288667656.213\n",
      "R:  -0.306938667376\n",
      "RSS: 1.42033594431e+12\n",
      "R:  -0.306195573373\n",
      "RSS: 166.621022204\n",
      "R:  -0.863197661206\n",
      "RSS: 320.552397254\n",
      "R:  -0.832522775024\n",
      "RSS: 332.164013678\n",
      "R:  -0.811048510464\n",
      "RSS: 529.293191683\n",
      "R:  -0.857313349449\n",
      "RSS: 1.73449757462e+17\n",
      "R:  -0.306186245438\n",
      "RSS: inf\n",
      "R:  nan\n",
      "RSS: 1.03680993204e+17\n",
      "R:  -0.306186245412\n",
      "RSS: 433.300267124\n",
      "R:  -0.84819754194\n",
      "RSS: 2.79101256099e+31\n",
      "R:  -0.306186217848\n",
      "RSS: 461.069494367\n",
      "R:  -0.839539659514\n",
      "RSS: 395.776693223\n",
      "R:  -0.950434743026\n",
      "RSS: 2.0304031649e+17\n",
      "R:  0.306186235701\n",
      "RSS: 40321631.9811\n",
      "R:  -0.307787828606\n",
      "RSS: 2.25280334598e+32\n",
      "R:  -0.306186217848\n",
      "RSS: 7.43005388865e+24\n",
      "R:  -0.306186217851\n",
      "RSS: 490.507936761\n",
      "R:  -0.88640241161\n",
      "RSS: 441.402039374\n",
      "R:  -0.824988583248\n",
      "RSS: 789884200641.0\n",
      "R:  -0.306198081824\n",
      "RSS: 297.478331136\n",
      "R:  -0.971951555369\n",
      "RSS: 370.708081105\n",
      "R:  -0.877136872952\n",
      "RSS: 496.483358008\n",
      "R:  -0.882325104523\n",
      "RSS: 439.471977699\n",
      "R:  -0.821089577577\n",
      "RSS: 397.212845729\n",
      "R:  -0.952706339127\n",
      "RSS: 157.517737736\n",
      "R:  -0.845677121328\n",
      "RSS: 370.591112797\n",
      "R:  -0.877023709412\n",
      "RSS: 487.945468795\n",
      "R:  -0.808931142152\n",
      "RSS: 445.105752837\n",
      "R:  -0.918570591056\n",
      "RSS: 395.805048759\n",
      "R:  -0.950423393696\n",
      "RSS: 307.479194859\n",
      "R:  -0.857883343293\n",
      "RSS: 440.222846308\n",
      "R:  -0.83003873167\n",
      "RSS: 437.084662778\n",
      "R:  -0.841748711761\n",
      "RSS: nan\n",
      "R:  nan\n",
      "invweibull : D = 0.29 ; p =0.12 ---> from same distribution\n",
      "RSS: 420.390168165\n",
      "R:  -0.867038632376\n",
      "RSS: 438.734999588\n",
      "R:  -0.838706593567\n",
      "RSS: 165.82101231\n",
      "R:  -0.407268656478\n",
      "RSS: 345.108524602\n",
      "R:  -0.900073680627\n",
      "RSS: 323.550852336\n",
      "R:  -0.823152756076\n",
      "RSS: nan\n",
      "R:  nan\n",
      "RSS: nan\n",
      "R:  nan\n",
      "RSS: 248.390985411\n",
      "R:  -0.897528628019\n",
      "RSS: 295.313876428\n",
      "R:  -0.87113135694\n",
      "RSS: 1.31823973805e+28\n",
      "R:  -0.306186217848\n",
      "RSS: 438.387954375\n",
      "R:  -0.838803606951\n",
      "RSS: 650.26508211\n",
      "R:  -0.737152610622\n",
      "RSS: 304.195551485\n",
      "R:  -0.900620735404\n",
      "RSS: 7.49750909347e+44\n",
      "R:  -0.306186217848\n",
      "RSS: 3.06162432363e+21\n",
      "R:  -0.306186218037\n",
      "RSS: 1871.35908475\n",
      "R:  -0.582263893443\n",
      "RSS: 439.866901315\n",
      "R:  -0.828325227414\n",
      "RSS: 1.92851552645e+20\n",
      "R:  -0.306186218604\n",
      "RSS: 256.160495191\n",
      "R:  -0.893057492153\n",
      "RSS: 1.66868726345\n",
      "R:  nan\n",
      "RSS: inf\n",
      "R:  nan\n",
      "RSS: 1.79084871202e+29\n",
      "R:  -0.306186217848\n",
      "RSS: 434.662891041\n",
      "R:  -0.865983253443\n",
      "RSS: nan\n",
      "R:  nan\n",
      "RSS: 323.444751038\n",
      "R:  -0.904939062502\n",
      "RSS: 1.63258298531e+18\n",
      "R:  -0.306186216925\n",
      "RSS: 430.347065317\n",
      "R:  -0.856322446454\n",
      "RSS: 1.66868726345\n",
      "R:  nan\n",
      "RSS: 323.399068274\n",
      "R:  -0.90494544446\n",
      "RSS: 146.296372057\n",
      "R:  -0.525718657536\n",
      "RSS: 341.995646255\n",
      "R:  -0.825699613269\n",
      "RSS: 245.596935887\n",
      "R:  -1.0\n",
      "RSS: 197.571686969\n",
      "R:  -0.987906663635\n",
      "RSS: 1.66868726345\n",
      "R:  nan\n",
      "RSS: 223.372420423\n",
      "R:  -0.866025403784\n",
      "RSS: 165.835381073\n",
      "R:  -3.01402488363e-17\n",
      "RSS: 7.23631939845e+59\n",
      "R:  0.225860591722\n",
      "RSS: 286.530482276\n",
      "R:  -0.876803285485\n",
      "RSS: 444.155410542\n",
      "R:  -0.821879544302\n",
      "RSS: 2.0304031649e+17\n",
      "R:  0.306186235701\n",
      "RSS: 40321631.9811\n",
      "R:  -0.307787828606\n",
      "RSS: nan\n",
      "R:  nan\n",
      "Recall [Self]: mu = 0.925; std = 0.073\n",
      "RSS: 1.87565299807\n",
      "R:  -0.340240223767\n",
      "RSS: 157.364641106\n",
      "R:  -0.768184358321\n",
      "RSS: 3.07687497562e+28\n",
      "R:  -0.306186217848\n",
      "RSS: 7.90041220439e+19\n",
      "R:  -0.306186219166\n",
      "RSS: 2.03325179564e+41\n",
      "R:  -0.306186217848\n",
      "RSS: 348.012298954\n",
      "R:  -0.7842235176\n",
      "RSS: 1.02305015737e+45\n",
      "R:  -0.306186217848\n",
      "RSS: 392.078820855\n",
      "R:  -0.750832296466\n",
      "RSS: 2.60960939879e+20\n",
      "R:  -0.306186218624\n",
      "RSS: 1.01332393909e+12\n",
      "R:  -0.306197664731\n",
      "RSS: 178.248267086\n",
      "R:  -0.874786043341\n",
      "RSS: 355.028163191\n",
      "R:  -0.830724539344\n",
      "RSS: 373.482131476\n",
      "R:  -0.804747829136\n",
      "RSS: 434.048208394\n",
      "R:  -0.766186720587\n",
      "RSS: 6.45910474589e+16\n",
      "R:  -0.306186267556\n",
      "RSS: 456.310408069\n",
      "R:  -0.774706279801\n",
      "RSS: 3.26712686249e+49\n",
      "R:  -0.306186217848\n",
      "RSS: 501.222914225\n",
      "R:  -0.837720182563\n",
      "RSS: 8.04974814463e+37\n",
      "R:  -0.306186217848\n",
      "RSS: 522.28530297\n",
      "R:  -0.831495569962\n",
      "RSS: 438.120144326\n",
      "R:  -0.94697772169\n",
      "RSS: 409.868013349\n",
      "R:  -0.878386508039\n",
      "RSS: 437.996940531\n",
      "R:  -0.783143752055\n",
      "RSS: 1.60227933925e+24\n",
      "R:  -0.306186217856\n",
      "RSS: 5.42024807393e+23\n",
      "R:  -0.306186217856\n",
      "RSS: 597.425044058\n",
      "R:  -0.853423675699\n",
      "RSS: 498.538013854\n",
      "R:  -0.821973243937\n",
      "RSS: 455.724583625\n",
      "R:  -0.774907871037\n",
      "RSS: 505.34890237\n",
      "R:  -0.910014854603\n",
      "RSS: 410.971776462\n",
      "R:  -0.877900149989\n",
      "RSS: 595.456257747\n",
      "R:  -0.854612901772\n",
      "RSS: 510.517855071\n",
      "R:  -0.815933253977\n",
      "RSS: 443.836013086\n",
      "R:  -0.947456834441\n",
      "RSS: 163.658626675\n",
      "R:  -0.858035861885\n",
      "RSS: 410.414337462\n",
      "R:  -0.87809370348\n",
      "RSS: 574.68330566\n",
      "R:  -0.793865860358\n",
      "RSS: 505.659395556\n",
      "R:  -0.909900965616\n",
      "RSS: 438.285815524\n",
      "R:  -0.946915351991\n",
      "RSS: 341.930450912\n",
      "R:  -0.857662564136\n",
      "RSS: 499.249689107\n",
      "R:  -0.825877038294\n",
      "RSS: 502.059147047\n",
      "R:  -0.833353943158\n",
      "RSS: nan\n",
      "R:  nan\n",
      "invweibull : D = 0.29 ; p =0.12 ---> from same distribution\n",
      "RSS: 493.236896228\n",
      "R:  -0.84988236681\n",
      "RSS: 504.28479815\n",
      "R:  -0.830052787349\n",
      "RSS: 181.605787663\n",
      "R:  -0.172755726159\n",
      "RSS: 375.224937508\n",
      "R:  -0.904928908274\n",
      "RSS: 361.032298384\n",
      "R:  -0.818759614893\n",
      "RSS: nan\n",
      "R:  nan\n",
      "RSS: nan\n",
      "R:  nan\n",
      "RSS: 260.714392697\n",
      "R:  -0.907500803912\n",
      "RSS: 327.340129705\n",
      "R:  -0.873055790186\n",
      "RSS: 1.13761337777e+41\n",
      "R:  -0.306186217848\n",
      "RSS: 503.783816692\n",
      "R:  -0.830363475931\n",
      "RSS: 783.825256049\n",
      "R:  -0.72090914582\n",
      "RSS: 327.466315315\n",
      "R:  -0.907592914895\n",
      "RSS: 1.499271636e+45\n",
      "R:  -0.306186217848\n",
      "RSS: 5.67079422016e+17\n",
      "R:  -0.306186233321\n",
      "RSS: 29211901.6363\n",
      "R:  -0.307815303461\n",
      "RSS: 499.542257529\n",
      "R:  -0.823217426351\n",
      "RSS: 3.79340274962e+21\n",
      "R:  -0.306186218021\n",
      "RSS: 272.159085823\n",
      "R:  -0.902795203161\n",
      "RSS: 1.54289580318\n",
      "R:  nan\n",
      "RSS: inf\n",
      "R:  nan\n",
      "RSS: 1.85412188572e+26\n",
      "R:  -0.306186217848\n",
      "RSS: 517.547878128\n",
      "R:  -0.851921564922\n",
      "RSS: nan\n",
      "R:  nan\n",
      "RSS: 348.989606947\n",
      "R:  -0.911351120352\n",
      "RSS: 1.16835174183e+21\n",
      "R:  -0.306186217835\n",
      "RSS: 504.985917832\n",
      "R:  -0.843592335766\n",
      "RSS: 1.54289580318\n",
      "R:  nan\n",
      "RSS: 349.016094738\n",
      "R:  -0.911322406301\n",
      "RSS: 157.818124295\n",
      "R:  -0.544477346256\n",
      "RSS: 396.119690085\n",
      "R:  -0.811195392847\n",
      "RSS: 266.618806194\n",
      "R:  -1.0\n",
      "RSS: 231.111041637\n",
      "R:  -0.972503120401\n",
      "RSS: 1.54289580318\n",
      "R:  nan\n",
      "RSS: 236.789038855\n",
      "R:  -0.866025403784\n",
      "RSS: 181.621424962\n",
      "R:  0.0\n",
      "RSS: 3.4675909809e+61\n",
      "R:  -0.0829898981677\n",
      "RSS: 309.382173742\n",
      "R:  -0.884072691591\n",
      "RSS: 510.625929603\n",
      "R:  -0.81997768205\n",
      "RSS: 409.868013349\n",
      "R:  -0.878386508039\n",
      "RSS: 437.996940531\n",
      "R:  -0.783143752055\n",
      "RSS: nan\n",
      "R:  nan\n",
      "Jaccard [Self]: mu = 0.858; std = 0.086\n",
      "RSS: 256.276483319\n",
      "R:  -0.681577051124\n",
      "RSS: 177.894988935\n",
      "R:  -0.428622759247\n",
      "RSS: 1860.76930673\n",
      "R:  0.315842236234\n",
      "RSS: 260.703030101\n",
      "R:  -0.626483967954\n",
      "RSS: 251.201113865\n",
      "R:  -0.710807127264\n",
      "RSS: 176.425318949\n",
      "R:  -0.509753512393\n",
      "RSS: 238.878365038\n",
      "R:  -0.776515246023\n",
      "RSS: 215.107642562\n",
      "R:  -0.610626372937\n",
      "RSS: 260.441726439\n",
      "R:  -0.62673424389\n",
      "RSS: 6435329823.95\n",
      "R:  -0.306301822145\n",
      "RSS: 199.958756634\n",
      "R:  -0.562722995621\n",
      "RSS: 237.475660095\n",
      "R:  -0.587127149376\n",
      "RSS: 232.506105331\n",
      "R:  -0.6211976433\n",
      "RSS: 275.030534621\n",
      "R:  -0.939287772358\n",
      "RSS: 247.767063127\n",
      "R:  -0.64158319574\n",
      "RSS: 242.407004676\n",
      "R:  -0.747942312576\n",
      "RSS: 250.234706653\n",
      "R:  -0.715761238272\n",
      "RSS: 253.545412684\n",
      "R:  -0.70070996305\n",
      "RSS: 282.751631159\n",
      "R:  -0.592102357601\n",
      "RSS: 244.229783445\n",
      "R:  -0.621629089102\n",
      "RSS: 252.2273409\n",
      "R:  -0.671088902772\n",
      "RSS: 256.520016468\n",
      "R:  -0.682389358381\n",
      "RSS: 241.345976393\n",
      "R:  -0.753288507908\n",
      "RSS: 250.270686552\n",
      "R:  -0.71395992179\n",
      "RSS: 260.702963014\n",
      "R:  -0.626482446043\n",
      "RSS: 235.453395079\n",
      "R:  -0.879310417902\n",
      "RSS: 256.750291937\n",
      "R:  -0.683043879258\n",
      "RSS: 242.750314626\n",
      "R:  -0.745980225674\n",
      "RSS: 233.225343465\n",
      "R:  -0.945559375411\n",
      "RSS: 256.627344883\n",
      "R:  -0.682196871111\n",
      "RSS: 249.195947348\n",
      "R:  -0.675101994493\n",
      "RSS: 207.902146021\n",
      "R:  -0.853470364202\n",
      "RSS: 249.3822951\n",
      "R:  -0.665130648956\n",
      "RSS: 170.801301818\n",
      "R:  -0.47862293821\n",
      "RSS: 256.480482061\n",
      "R:  -0.682536909817\n",
      "RSS: 221.630997565\n",
      "R:  -0.678113313467\n",
      "RSS: 250.521257946\n",
      "R:  -0.9852697937\n",
      "RSS: 261.985667518\n",
      "R:  -0.693330266824\n",
      "RSS: 236.505562391\n",
      "R:  -0.630002399058\n",
      "RSS: 255.900388349\n",
      "R:  -0.688228694543\n",
      "RSS: 253.865372649\n",
      "R:  -0.699254249468\n",
      "RSS: 256.753912695\n",
      "R:  -0.683093997596\n",
      "RSS: 240.239892088\n",
      "R:  -0.742016880971\n",
      "RSS: 254.971649087\n",
      "R:  -0.694945573261\n",
      "RSS: 164.545388185\n",
      "R:  -0.439307191114\n",
      "RSS: 251.044858838\n",
      "R:  -0.69841850489\n",
      "RSS: 250.082478283\n",
      "R:  -0.611033470793\n",
      "RSS: 162.99375769\n",
      "R:  -0.61493321751\n",
      "RSS: nan\n",
      "R:  nan\n",
      "RSS: 220.719101488\n",
      "R:  -0.619243100128\n",
      "RSS: 232.692138721\n",
      "R:  -0.629571786614\n",
      "RSS: 274.061286536\n",
      "R:  -0.640997410697\n",
      "RSS: 254.839956082\n",
      "R:  -0.694325312112\n",
      "RSS: 259.546525246\n",
      "R:  -0.944181675636\n",
      "RSS: 242.735478397\n",
      "R:  -0.665616388081\n",
      "RSS: 258.76583765\n",
      "R:  -0.627194502943\n",
      "RSS: 239.184286114\n",
      "R:  -0.762247742141\n",
      "RSS: 1772424.33251\n",
      "R:  -0.311765869593\n",
      "RSS: 256.304718375\n",
      "R:  -0.687873143074\n",
      "RSS: 7.73269646216e+20\n",
      "R:  -0.306186218177\n",
      "RSS: 224.100201363\n",
      "R:  -0.619478103904\n",
      "RSS: 1.67976254596\n",
      "R:  nan\n",
      "RSS: 250.271029877\n",
      "R:  -0.713964985775\n",
      "RSS: 167.424356728\n",
      "R:  -0.833359716347\n",
      "RSS: 251.821719635\n",
      "R:  -0.706136636434\n",
      "RSS: nan\n",
      "R:  nan\n",
      "RSS: 242.952854018\n",
      "R:  -0.709440009752\n",
      "RSS: 4.35440951404e+16\n",
      "R:  -0.30618617371\n",
      "RSS: 253.361364332\n",
      "R:  -0.701522064302\n",
      "RSS: 1.67976254596\n",
      "R:  nan\n",
      "RSS: 242.951401498\n",
      "R:  -0.709370992155\n",
      "RSS: 167.364560791\n",
      "R:  -0.207479121921\n",
      "RSS: 224.091023912\n",
      "R:  -0.619473167843\n",
      "RSS: 219.378121774\n",
      "R:  -0.709180206693\n",
      "RSS: 200.243071499\n",
      "R:  -0.494704885231\n",
      "RSS: 1.67976254596\n",
      "R:  nan\n",
      "RSS: 228.085087714\n",
      "R:  -0.786606636128\n",
      "RSS: 163.323347572\n",
      "R:  -2.403257738e-16\n",
      "RSS: 1.2465579069e+58\n",
      "R:  0.0684472980888\n",
      "RSS: 234.127994775\n",
      "R:  -0.626631945382\n",
      "RSS: 214.792458799\n",
      "R:  -0.827355752135\n",
      "RSS: 256.520016468\n",
      "R:  -0.682389358381\n",
      "RSS: 241.345976393\n",
      "R:  -0.753288507908\n",
      "RSS: nan\n",
      "R:  nan\n"
     ]
    },
    {
     "data": {
      "image/png": "[encoded data removed]",
      "text/plain": [
       "<matplotlib.figure.Figure at 0x155845850>"
      ]
     },
     "metadata": {},
     "output_type": "display_data"
    }
   ],
   "source": [
    "bb_info = pd.read_csv('computed_my_COCO_BBvals.csv')\n",
    "metrics_lst = ['Precision [COCO]','Recall [COCO]','Jaccard [COCO]',\\\n",
    "               'Precision [Self]','Recall [Self]','Jaccard [Self]']\n",
    "FILTER_CRITERION = 0.6\n",
    "NUM_COL = 3\n",
    "NUM_ROW = 2\n",
    "NUM_PLOTS = NUM_COL*NUM_ROW\n",
    "\n",
    "fig, axs = plt.subplots(NUM_ROW,NUM_COL, figsize=(NUM_ROW*3,NUM_COL*1.5), sharex='col')\n",
    "fig.suptitle(\"Good Worker [metric >{}]\".format(FILTER_CRITERION),fontsize=16,y=1.05)\n",
    "# fig.subplots_adjust(hspace = .5, wspace=.001)\n",
    "axs = axs.ravel()\n",
    "\n",
    "table_data = []\n",
    "for i,metric in zip(range(len(metrics_lst)),metrics_lst):\n",
    "    metric_value = np.array(bb_info[metric][bb_info[metric]>FILTER_CRITERION][bb_info[metric]<=1]) \n",
    "    table_data.append(basic_stat(metric_value,metric))\n",
    "    ax = axs[i]\n",
    "    ax.set_title(metric)\n",
    "    ax.hist(metric_value,bins=30)\n",
    "    ax.set_xlim(FILTER_CRITERION,1.03)\n",
    "    #Testing against various distributions \n",
    "    \n",
    "    for fcn_name in filter(lambda x: x not in exclude,dir(stats.distributions)[9:]):\n",
    "        # Based on MLE estimate for fitting\n",
    "        try:\n",
    "            fcn = getattr(scipy.stats,fcn_name)\n",
    "            params = fcn.fit(1-metric_value)\n",
    "            histo,bins = np.histogram(1-metric_value, 30, normed=1)\n",
    "            y = fcn.pdf(bins, *params)\n",
    "            RSS =sum((bins-y)**2)\n",
    "            R = np.corrcoef(bins,y)[0][1]\n",
    "            print \"RSS:\",RSS\n",
    "            print \"R: \",R\n",
    "            kolmogorov_smirnov(bins,y,fcn_name)\n",
    "        except(AttributeError,NotImplementedError,TypeError):\n",
    "            #function has no fitting\n",
    "            print \"Skipped\", fcn_name\n",
    "fig.tight_layout()\n",
    "fig.savefig('good_worker_metric_histogram.pdf')"
   ]
  },
  {
   "cell_type": "markdown",
   "metadata": {},
   "source": [
    "- Good Worker's Measures (filtered precision, recall >0.6)\n",
    "- see if timing correlated with precision recall\n",
    "- average time for a task for worker and good worker\n",
    "- majority vote score statistics"
   ]
  },
  {
   "cell_type": "code",
   "execution_count": null,
   "metadata": {
    "collapsed": true
   },
   "outputs": [],
   "source": []
  }
 ],
 "metadata": {
  "kernelspec": {
   "display_name": "Python 2",
   "language": "python",
   "name": "python2"
  },
  "language_info": {
   "codemirror_mode": {
    "name": "ipython",
    "version": 2
   },
   "file_extension": ".py",
   "mimetype": "text/x-python",
   "name": "python",
   "nbconvert_exporter": "python",
   "pygments_lexer": "ipython2",
   "version": "2.7.10"
  }
 },
 "nbformat": 4,
 "nbformat_minor": 0
}
