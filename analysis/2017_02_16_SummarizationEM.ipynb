{
 "cells": [
  {
   "cell_type": "code",
   "execution_count": 1,
   "metadata": {
    "collapsed": false
   },
   "outputs": [
    {
     "name": "stdout",
     "output_type": "stream",
     "text": [
      "Populating the interactive namespace from numpy and matplotlib\n"
     ]
    }
   ],
   "source": [
    "%pylab inline\n",
    "from analysis_toolbox import *\n",
    "from qualityBaseline import *\n",
    "import pandas as pd "
   ]
  },
  {
   "cell_type": "code",
   "execution_count": 2,
   "metadata": {
    "collapsed": false
   },
   "outputs": [],
   "source": [
    "bb_info = pd.read_csv('../../crowd-seg/analysis/computed_my_COCO_BBvals.csv')\n",
    "obj_sorted_tbl =  bb_info[bb_info['Jaccard [COCO]']!=-1][bb_info['Jaccard [COCO]']!=0][bb_info['Jaccard [Self]']!=0].sort('object_id')\n",
    "object_id_lst  = list(set(obj_sorted_tbl.object_id))\n",
    "\n",
    "for objid in object_id_lst:\n",
    "\n",
    "    # Ji_tbl (bb_info) is the set of all workers that annotated object i \n",
    "    bb_objects  = obj_sorted_tbl[obj_sorted_tbl[\"object_id\"]==objid]"
   ]
  },
  {
   "cell_type": "code",
   "execution_count": 3,
   "metadata": {
    "collapsed": true
   },
   "outputs": [],
   "source": [
    "xylocs = [list(zip(*process_raw_locs([x,y]))) for x,y in zip(bb_objects[\"x_locs\"],bb_objects[\"y_locs\"])]"
   ]
  },
  {
   "cell_type": "code",
   "execution_count": 4,
   "metadata": {
    "collapsed": false
   },
   "outputs": [],
   "source": [
    "polygon_lst = []\n",
    "for xyloc in xylocs:\n",
    "    polygon_lst.append(Polygon(xyloc))"
   ]
  },
  {
   "cell_type": "code",
   "execution_count": 5,
   "metadata": {
    "collapsed": false
   },
   "outputs": [
    {
     "data": {
      "image/svg+xml": [
       "<svg xmlns=\"http://www.w3.org/2000/svg\" xmlns:xlink=\"http://www.w3.org/1999/xlink\" width=\"100.0\" height=\"172.8\" viewBox=\"78.6 265.6 96.8 172.8\" preserveAspectRatio=\"xMinYMin meet\"><g transform=\"matrix(1,0,0,-1,0,704.0)\"><path fill-rule=\"evenodd\" fill=\"#66cc99\" stroke=\"#555555\" stroke-width=\"2.0\" opacity=\"0.6\" d=\"M 164.0,334.0 L 169.0,352.0 L 152.0,360.0 L 135.0,371.0 L 124.0,394.0 L 112.0,414.0 L 107.0,432.0 L 93.0,428.0 L 95.0,411.0 L 97.0,398.0 L 88.0,392.0 L 85.0,368.0 L 87.0,351.0 L 89.0,339.0 L 97.0,328.0 L 111.0,318.0 L 113.0,298.0 L 116.0,284.0 L 125.0,274.0 L 136.0,272.0 L 144.0,276.0 L 148.0,282.0 L 151.0,300.0 L 145.0,312.0 L 147.0,318.0 L 151.0,324.0 L 164.0,334.0 z\" /></g></svg>"
      ],
      "text/plain": [
       "<shapely.geometry.polygon.Polygon at 0x1083aac90>"
      ]
     },
     "execution_count": 5,
     "metadata": {},
     "output_type": "execute_result"
    }
   ],
   "source": [
    "Polygon(xyloc)"
   ]
  },
  {
   "cell_type": "code",
   "execution_count": 6,
   "metadata": {
    "collapsed": false
   },
   "outputs": [],
   "source": [
    "from shapely.geometry import MultiPolygon"
   ]
  },
  {
   "cell_type": "code",
   "execution_count": 7,
   "metadata": {
    "collapsed": false
   },
   "outputs": [],
   "source": [
    "Ji_polygons = MultiPolygon(polygon_lst)\n",
    "Ji_polygons_buffered = Ji_polygons.buffer(0.001)"
   ]
  },
  {
   "cell_type": "code",
   "execution_count": 8,
   "metadata": {
    "collapsed": true
   },
   "outputs": [],
   "source": [
    "img_info,object_tbl,bb_info,hit_info = load_info()"
   ]
  },
  {
   "cell_type": "code",
   "execution_count": 52,
   "metadata": {
    "collapsed": false
   },
   "outputs": [],
   "source": [
    "# T = total number of tasks\n",
    "# n = number of points in bounding box\n",
    "# m = number of metric functions of interest\n",
    "# W = total number of workers \n",
    "#metric functions of interest \n",
    "metrics_lst = ['Precision [COCO]','Recall [COCO]','Jaccard [COCO]',\"NME [COCO]\",\"Num Points\",\\\n",
    "               'Precision [Self]','Recall [Self]','Jaccard [Self]',\"NME [Self]\",\"Area Ratio\"]\n",
    "# metrics_lst = ['Precision [COCO]']\n",
    "worker_lst = unique(bb_info.worker_id)\n",
    "#Parameters: Priors\n",
    "beta = 1\n",
    "gamma = 1\n",
    "theta = 1\n",
    "# Hidden variables \n",
    "m = len(metrics_lst)\n",
    "T = len(img_info)\n",
    "W = len(worker_lst)\n",
    "z = np.ones((50,T))# n x T\n",
    "D = np.zeros((m,T))# m x T\n",
    "b = np.zeros((m,W))# m x W\n",
    "c = np.zeros((m,W))# m x W"
   ]
  },
  {
   "cell_type": "code",
   "execution_count": 53,
   "metadata": {
    "collapsed": true
   },
   "outputs": [],
   "source": [
    "def abslogN(param):\n",
    "    '''\n",
    "    Drawing from normal distribution with prior (std) as param, with mean centered at 0\n",
    "    log without nan; nan if value <0\n",
    "    '''\n",
    "    return log(abs(random.normal(0,param)))"
   ]
  },
  {
   "cell_type": "code",
   "execution_count": 61,
   "metadata": {
    "collapsed": false
   },
   "outputs": [],
   "source": [
    "def compute_phii(metric):\n",
    "    '''\n",
    "    phi value compared to ground truth \n",
    "    '''\n",
    "    if metric in ['Precision [COCO]','Recall [COCO]','Jaccard [COCO]',\"NME [COCO]\",\\\n",
    "       'Precision [Self]','Recall [Self]','Jaccard [Self]',\"NME [Self]\"]:\n",
    "        return 1\n",
    "    elif metric in [\"Num Points\",\"Area Ratio\"]:\n",
    "        return 0"
   ]
  },
  {
   "cell_type": "code",
   "execution_count": 68,
   "metadata": {
    "collapsed": false
   },
   "outputs": [],
   "source": [
    "def Q(beta,gamma,theta):\n",
    "    w1=0.5\n",
    "    w2=0.5\n",
    "    loglikelihood=[]\n",
    "    # Loop through all metrics \n",
    "    for k in range(m):\n",
    "        #Loop through all task\n",
    "        logpD_lst =[]\n",
    "        for j in range(W):\n",
    "            logpD_lst.append(abslogN(theta))\n",
    "        logpD =sum(logpD_lst)\n",
    "        #Loop through all workers\n",
    "        worker_quality_prob=[]\n",
    "        for i in range(T):\n",
    "            worker_quality_prob.append(abslogN(beta)+ abslogN(gamma))\n",
    "            logphiij_lst = []\n",
    "            # Ji is the list of workers that annotated object i\n",
    "            Ji = list(obj_sorted_tbl[obj_sorted_tbl[\"object_id\"]==i].worker_id)\n",
    "            for j in Ji : \n",
    "                j = int(np.where(worker_lst==j)[0])\n",
    "                phii=compute_phii(metrics_lst[k])\n",
    "                mu = phii-b[k][j]\n",
    "                sig = sqrt(w1*D[k][i]**2+w2*c[k][j]**2)\n",
    "                if sig==0: sig=1e-5\n",
    "                logphiij_lst.append(log(abs(random.normal(mu,sig))))\n",
    "        logphiij = sum(logphiij_lst)\n",
    "        loglikelihood.append(sum(worker_quality_prob)+logphiij+logpD)\n",
    "    return loglikelihood"
   ]
  },
  {
   "cell_type": "code",
   "execution_count": 70,
   "metadata": {
    "collapsed": false
   },
   "outputs": [
    {
     "data": {
      "text/plain": [
       "[-154.97509350668449,\n",
       " -98.394975540288428,\n",
       " -139.32461870090896,\n",
       " -120.69006673540238,\n",
       " -672.04269576762817,\n",
       " -147.11081637527056,\n",
       " -153.13556397127766,\n",
       " -135.38650743772632,\n",
       " -144.0030059962391,\n",
       " -650.64347679946468]"
      ]
     },
     "execution_count": 70,
     "metadata": {},
     "output_type": "execute_result"
    }
   ],
   "source": [
    "Q(beta,gamma,theta)"
   ]
  },
  {
   "cell_type": "code",
   "execution_count": null,
   "metadata": {
    "collapsed": true
   },
   "outputs": [],
   "source": []
  }
 ],
 "metadata": {
  "kernelspec": {
   "display_name": "Python 2",
   "language": "python",
   "name": "python2"
  },
  "language_info": {
   "codemirror_mode": {
    "name": "ipython",
    "version": 2
   },
   "file_extension": ".py",
   "mimetype": "text/x-python",
   "name": "python",
   "nbconvert_exporter": "python",
   "pygments_lexer": "ipython2",
   "version": "2.7.10"
  }
 },
 "nbformat": 4,
 "nbformat_minor": 0
}
