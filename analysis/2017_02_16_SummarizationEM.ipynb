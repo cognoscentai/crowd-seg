{
 "cells": [
  {
   "cell_type": "code",
   "execution_count": 1,
   "metadata": {
    "collapsed": false
   },
   "outputs": [
    {
     "name": "stdout",
     "output_type": "stream",
     "text": [
      "Populating the interactive namespace from numpy and matplotlib\n"
     ]
    }
   ],
   "source": [
    "%pylab inline\n",
    "from analysis_toolbox import *\n",
    "from qualityBaseline import *\n",
    "import pandas as pd "
   ]
  },
  {
   "cell_type": "code",
   "execution_count": 2,
   "metadata": {
    "collapsed": false
   },
   "outputs": [],
   "source": [
    "bb_info = pd.read_csv('../../crowd-seg/analysis/computed_my_COCO_BBvals.csv')\n",
    "obj_sorted_tbl =  bb_info[bb_info['Jaccard [COCO]']!=-1][bb_info['Jaccard [COCO]']!=0][bb_info['Jaccard [Self]']!=0].sort('object_id')\n",
    "object_id_lst  = list(set(obj_sorted_tbl.object_id))\n",
    "\n",
    "for objid in object_id_lst:\n",
    "\n",
    "    # Ji_tbl (bb_info) is the set of all workers that annotated object i \n",
    "    bb_objects  = obj_sorted_tbl[obj_sorted_tbl[\"object_id\"]==objid]"
   ]
  },
  {
   "cell_type": "code",
   "execution_count": 3,
   "metadata": {
    "collapsed": true
   },
   "outputs": [],
   "source": [
    "xylocs = [list(zip(*process_raw_locs([x,y]))) for x,y in zip(bb_objects[\"x_locs\"],bb_objects[\"y_locs\"])]"
   ]
  },
  {
   "cell_type": "code",
   "execution_count": 4,
   "metadata": {
    "collapsed": false
   },
   "outputs": [],
   "source": [
    "polygon_lst = []\n",
    "for xyloc in xylocs:\n",
    "    polygon_lst.append(Polygon(xyloc))"
   ]
  },
  {
   "cell_type": "code",
   "execution_count": 5,
   "metadata": {
    "collapsed": false
   },
   "outputs": [
    {
     "data": {
      "image/svg+xml": [
       "<svg xmlns=\"http://www.w3.org/2000/svg\" xmlns:xlink=\"http://www.w3.org/1999/xlink\" width=\"100.0\" height=\"172.8\" viewBox=\"78.6 265.6 96.8 172.8\" preserveAspectRatio=\"xMinYMin meet\"><g transform=\"matrix(1,0,0,-1,0,704.0)\"><path fill-rule=\"evenodd\" fill=\"#66cc99\" stroke=\"#555555\" stroke-width=\"2.0\" opacity=\"0.6\" d=\"M 164.0,334.0 L 169.0,352.0 L 152.0,360.0 L 135.0,371.0 L 124.0,394.0 L 112.0,414.0 L 107.0,432.0 L 93.0,428.0 L 95.0,411.0 L 97.0,398.0 L 88.0,392.0 L 85.0,368.0 L 87.0,351.0 L 89.0,339.0 L 97.0,328.0 L 111.0,318.0 L 113.0,298.0 L 116.0,284.0 L 125.0,274.0 L 136.0,272.0 L 144.0,276.0 L 148.0,282.0 L 151.0,300.0 L 145.0,312.0 L 147.0,318.0 L 151.0,324.0 L 164.0,334.0 z\" /></g></svg>"
      ],
      "text/plain": [
       "<shapely.geometry.polygon.Polygon at 0x1083aac90>"
      ]
     },
     "execution_count": 5,
     "metadata": {},
     "output_type": "execute_result"
    }
   ],
   "source": [
    "Polygon(xyloc)"
   ]
  },
  {
   "cell_type": "code",
   "execution_count": 6,
   "metadata": {
    "collapsed": false
   },
   "outputs": [],
   "source": [
    "from shapely.geometry import MultiPolygon"
   ]
  },
  {
   "cell_type": "code",
   "execution_count": 7,
   "metadata": {
    "collapsed": false
   },
   "outputs": [],
   "source": [
    "Ji_polygons = MultiPolygon(polygon_lst)\n",
    "Ji_polygons_buffered = Ji_polygons.buffer(0.001)"
   ]
  },
  {
   "cell_type": "code",
   "execution_count": 8,
   "metadata": {
    "collapsed": true
   },
   "outputs": [],
   "source": [
    "img_info,object_tbl,bb_info,hit_info = load_info()"
   ]
  },
  {
   "cell_type": "code",
   "execution_count": 9,
   "metadata": {
    "collapsed": false
   },
   "outputs": [],
   "source": [
    "worker_lst = unique(bb_info.worker_id)\n",
    "#Parameters: Priors\n",
    "beta = 1\n",
    "gamma = 1\n",
    "theta = 1\n",
    "# Hidden variables \n",
    "z = np.ones((len(img_info),50))# * x number of tasks, where * = 50 (number of coordinates in BB)\n",
    "D = np.zeros((1,len(img_info)))# 1 x number of tasks\n",
    "b = np.zeros((1,len(worker_lst)))# 1 x number of workers\n",
    "c = np.zeros((1,len(worker_lst)))# 1 x number of workers"
   ]
  },
  {
   "cell_type": "code",
   "execution_count": 12,
   "metadata": {
    "collapsed": true
   },
   "outputs": [],
   "source": [
    "def abslogN(param):\n",
    "    '''\n",
    "    Drawing from normal distribution with prior (std) as param, with mean centered at 0\n",
    "    log without nan; nan if value <0\n",
    "    '''\n",
    "    return log(abs(random.normal(0,param)))"
   ]
  },
  {
   "cell_type": "code",
   "execution_count": 24,
   "metadata": {
    "collapsed": false
   },
   "outputs": [
    {
     "ename": "IndexError",
     "evalue": "index 199 is out of bounds for axis 0 with size 1",
     "output_type": "error",
     "traceback": [
      "\u001b[0;31m---------------------------------------------------------------------------\u001b[0m",
      "\u001b[0;31mIndexError\u001b[0m                                Traceback (most recent call last)",
      "\u001b[0;32m<ipython-input-24-c0c2a0d39278>\u001b[0m in \u001b[0;36m<module>\u001b[0;34m()\u001b[0m\n\u001b[1;32m     15\u001b[0m     \u001b[0;32mfor\u001b[0m \u001b[0mj\u001b[0m \u001b[0;32min\u001b[0m \u001b[0mJi\u001b[0m \u001b[0;34m:\u001b[0m\u001b[0;34m\u001b[0m\u001b[0m\n\u001b[1;32m     16\u001b[0m         \u001b[0mphii\u001b[0m\u001b[0;34m=\u001b[0m\u001b[0;36m1\u001b[0m\u001b[0;34m\u001b[0m\u001b[0m\n\u001b[0;32m---> 17\u001b[0;31m         \u001b[0mmu\u001b[0m \u001b[0;34m=\u001b[0m \u001b[0mphii\u001b[0m\u001b[0;34m-\u001b[0m\u001b[0mb\u001b[0m\u001b[0;34m[\u001b[0m\u001b[0mj\u001b[0m\u001b[0;34m]\u001b[0m\u001b[0;34m\u001b[0m\u001b[0m\n\u001b[0m\u001b[1;32m     18\u001b[0m         \u001b[0msig\u001b[0m \u001b[0;34m=\u001b[0m \u001b[0msqrt\u001b[0m\u001b[0;34m(\u001b[0m\u001b[0mw1\u001b[0m\u001b[0;34m*\u001b[0m\u001b[0mD\u001b[0m\u001b[0;34m[\u001b[0m\u001b[0mi\u001b[0m\u001b[0;34m]\u001b[0m\u001b[0;34m**\u001b[0m\u001b[0;36m2\u001b[0m\u001b[0;34m+\u001b[0m\u001b[0mw2\u001b[0m\u001b[0;34m*\u001b[0m\u001b[0mc\u001b[0m\u001b[0;34m**\u001b[0m\u001b[0;36m2\u001b[0m\u001b[0;34m)\u001b[0m\u001b[0;34m\u001b[0m\u001b[0m\n\u001b[1;32m     19\u001b[0m         \u001b[0mlogphiij_lst\u001b[0m\u001b[0;34m.\u001b[0m\u001b[0mappend\u001b[0m\u001b[0;34m(\u001b[0m\u001b[0mlog\u001b[0m\u001b[0;34m(\u001b[0m\u001b[0mabs\u001b[0m\u001b[0;34m(\u001b[0m\u001b[0mrandom\u001b[0m\u001b[0;34m.\u001b[0m\u001b[0mnormal\u001b[0m\u001b[0;34m(\u001b[0m\u001b[0mmu\u001b[0m\u001b[0;34m,\u001b[0m\u001b[0msig\u001b[0m\u001b[0;34m)\u001b[0m\u001b[0;34m)\u001b[0m\u001b[0;34m)\u001b[0m\u001b[0;34m)\u001b[0m\u001b[0;34m\u001b[0m\u001b[0m\n",
      "\u001b[0;31mIndexError\u001b[0m: index 199 is out of bounds for axis 0 with size 1"
     ]
    }
   ],
   "source": [
    "loglikelihood=[]\n",
    "logpD_lst =[]\n",
    "#Loop through all task\n",
    "for i in range(len(img_info)):\n",
    "    #Loop through all workers\n",
    "    worker_quality_prob=[]\n",
    "    for j in range(len(worker_lst)):\n",
    "        worker_quality_prob.append(abslogN(beta)+ abslogN(gamma))\n",
    "    logpD = abslogN(theta)\n",
    "    logpD_lst.append(logpD)\n",
    "    logphiij_lst = []\n",
    "    \n",
    "    # Ji is the list of workers that annotated object i\n",
    "    Ji = list(obj_sorted_tbl[obj_sorted_tbl[\"object_id\"]==i].worker_id)\n",
    "    for j in Ji : \n",
    "        phii=1\n",
    "        mu = phii-b[j]\n",
    "        sig = sqrt(w1*D[i]**2+w2*c**2)\n",
    "        logphiij_lst.append(log(abs(random.normal(mu,sig))))\n",
    "    logphiij = sum(logphiij_lst)\n",
    "    loglikelihood.append(sum(worker_quality_prob)+logpD)\n",
    "    "
   ]
  },
  {
   "cell_type": "code",
   "execution_count": null,
   "metadata": {
    "collapsed": true
   },
   "outputs": [],
   "source": [
    "#E step \n",
    "\n"
   ]
  }
 ],
 "metadata": {
  "kernelspec": {
   "display_name": "Python 2",
   "language": "python",
   "name": "python2"
  },
  "language_info": {
   "codemirror_mode": {
    "name": "ipython",
    "version": 2
   },
   "file_extension": ".py",
   "mimetype": "text/x-python",
   "name": "python",
   "nbconvert_exporter": "python",
   "pygments_lexer": "ipython2",
   "version": "2.7.10"
  }
 },
 "nbformat": 4,
 "nbformat_minor": 0
}
