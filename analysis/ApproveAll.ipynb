{
 "cells": [
  {
   "cell_type": "code",
   "execution_count": 13,
   "metadata": {
    "collapsed": true
   },
   "outputs": [],
   "source": [
    "all_hits = [hit for hit in connection.get_all_hits()]"
   ]
  },
  {
   "cell_type": "code",
   "execution_count": 14,
   "metadata": {
    "collapsed": false
   },
   "outputs": [
    {
     "data": {
      "text/plain": [
       "52"
      ]
     },
     "execution_count": 14,
     "metadata": {},
     "output_type": "execute_result"
    }
   ],
   "source": [
    "len(all_hits)"
   ]
  },
  {
   "cell_type": "code",
   "execution_count": 20,
   "metadata": {
    "collapsed": false
   },
   "outputs": [],
   "source": [
    "# all_hits = [hit for hit in connection.get_reviewable_hits(page_size=500)]"
   ]
  },
  {
   "cell_type": "code",
   "execution_count": 17,
   "metadata": {
    "collapsed": false
   },
   "outputs": [
    {
     "data": {
      "text/plain": [
       "10"
      ]
     },
     "execution_count": 17,
     "metadata": {},
     "output_type": "execute_result"
    }
   ],
   "source": [
    "len(all_hits)"
   ]
  },
  {
   "cell_type": "code",
   "execution_count": 35,
   "metadata": {
    "collapsed": false
   },
   "outputs": [
    {
     "name": "stdout",
     "output_type": "stream",
     "text": [
      "Connected to AMT\n"
     ]
    }
   ],
   "source": [
    "import numpy as np\n",
    "import pandas as pd\n",
    "from analysis_toolbox import *\n",
    "import ast\n",
    "from boto.mturk.connection import MTurkRequestError\n",
    "from boto.mturk.connection import MTurkConnection\n",
    "import datetime\n",
    "from secret import SECRET_KEY,ACCESS_KEY,AMAZON_HOST\n",
    "\n",
    "#Start Configuration Variables\n",
    "AWS_ACCESS_KEY_ID = ACCESS_KEY\n",
    "AWS_SECRET_ACCESS_KEY = SECRET_KEY\n",
    "\n",
    "connection = MTurkConnection(aws_access_key_id=AWS_ACCESS_KEY_ID,\n",
    "                             aws_secret_access_key=AWS_SECRET_ACCESS_KEY,\n",
    "                             host=AMAZON_HOST)\n",
    "print 'Connected to AMT'\n",
    "\n",
    "all_hits = [hit for hit in connection.get_all_hits()] #connection.get_reviewable_hits\n",
    "for hit in all_hits:\n",
    "    assignments = connection.get_assignments(hit.HITId)\n",
    "    for assignment in assignments:\n",
    "        try: \n",
    "            connection.approve_assignment(assignment.AssignmentId)\n",
    "            print 'approved ', assignment.AssignmentId\n",
    "        except MTurkRequestError:\n",
    "            #Problably already approved or rejected this assignment previously\n",
    "            pass"
   ]
  },
  {
   "cell_type": "code",
   "execution_count": 22,
   "metadata": {
    "collapsed": false
   },
   "outputs": [
    {
     "data": {
      "text/plain": [
       "52"
      ]
     },
     "execution_count": 22,
     "metadata": {},
     "output_type": "execute_result"
    }
   ],
   "source": [
    "len(hits_lst)"
   ]
  },
  {
   "cell_type": "code",
   "execution_count": 26,
   "metadata": {
    "collapsed": false
   },
   "outputs": [
    {
     "name": "stdout",
     "output_type": "stream",
     "text": [
      "Total results to fetch 52 \n",
      "Request hits page 1\n",
      "Request hits page 2\n"
     ]
    }
   ],
   "source": [
    "all_hits = get_all_reviewable_hits(connection)"
   ]
  },
  {
   "cell_type": "code",
   "execution_count": 27,
   "metadata": {
    "collapsed": false
   },
   "outputs": [
    {
     "data": {
      "text/plain": [
       "52"
      ]
     },
     "execution_count": 27,
     "metadata": {},
     "output_type": "execute_result"
    }
   ],
   "source": [
    "len(all_hits)"
   ]
  },
  {
   "cell_type": "code",
   "execution_count": 31,
   "metadata": {
    "collapsed": false
   },
   "outputs": [],
   "source": [
    "for hit in all_hits:\n",
    "    assignments = connection.get_assignments(hit.HITId)\n",
    "    for assignment in assignments:\n",
    "        try: \n",
    "            connection.approve_assignment(assignment.AssignmentId)\n",
    "            print \"--------------------\"\n",
    "        except(MTurkRequestError):\n",
    "            pass\n",
    "\n",
    "    #connection.expire_hit(hit.HITId)"
   ]
  },
  {
   "cell_type": "code",
   "execution_count": 23,
   "metadata": {
    "collapsed": true
   },
   "outputs": [],
   "source": [
    "def get_all_reviewable_hits(mtc):\n",
    "    page_size = 50\n",
    "    hits = mtc.get_reviewable_hits(page_size=page_size)\n",
    "    print \"Total results to fetch %s \" % hits.TotalNumResults\n",
    "    print \"Request hits page %i\" % 1\n",
    "    total_pages = float(hits.TotalNumResults)/page_size\n",
    "    int_total= int(total_pages)\n",
    "    if(total_pages-int_total>0):\n",
    "        total_pages = int_total+1\n",
    "    else:\n",
    "        total_pages = int_total\n",
    "    pn = 1\n",
    "    while pn < total_pages:\n",
    "        pn = pn + 1\n",
    "        print \"Request hits page %i\" % pn\n",
    "        temp_hits = mtc.get_reviewable_hits(page_size=page_size,page_number=pn)\n",
    "        hits.extend(temp_hits)\n",
    "    return hits"
   ]
  },
  {
   "cell_type": "code",
   "execution_count": 32,
   "metadata": {
    "collapsed": false
   },
   "outputs": [
    {
     "name": "stdout",
     "output_type": "stream",
     "text": [
      "3SR6AEG6W5LCFOM8QDY8C0FKSC4YHB\n",
      "386T3MLZLNNMPIPUF1TT7VS1DG008Y\n",
      "341YLJU21IRMAY4L3A9Y38FUDAP2IS\n",
      "34F34TZU7WRI59ORLSUYF9UUQPE2J4\n",
      "3IQ9O0AYW6RGUXYYMPTU4VOKDN1TIA\n",
      "3UDTAB6HH6RM3N84KTZ77RNCXMI09N\n",
      "3HA5ODM5KAKK135JWWNN9FISJ6JVSK\n",
      "3IKMEYR0LWNDGTU93DUAGOU75EE2K3\n",
      "31D0ZWOD0AR086I9CZD73MYW3400A2\n",
      "31KPKEKW4A55RGN1IDD3YXI2LML0BX\n",
      "3D5G8J4N5AWLG3IYLWSDJKEELPXVT9\n",
      "3N3WJQXELSIO0ZCROD6BVO7MUEJ2L6\n",
      "3WRKFXQBOBZCBJXSWVGTCCGZSPJYI4\n",
      "38G0E1M85MX0GGXNL1INOG0G434VU0\n",
      "36D1BWBEHNT86HUCOP7QV1MBUJ92M8\n",
      "39XCQ6V3KYWYGBS7JS274CS1OTL562\n",
      "3I4E7AFQ2KRCP8I447EUGW3KQ2QTJM\n",
      "3SZYX62S5GSHKB6C227ZAQSXJ45571\n",
      "3W9XHF7WGKN70SOMMSE6HB3X5RQTKL\n",
      "31S7M7DAGGIIKY647SQ7WBGCURVTLO\n",
      "389A2A304OAO1LF7WD9Y9HOK37L0C4\n",
      "3J06WJ78HNC0TVMNQRSSK22ZIADVVP\n",
      "3UL5XDRDNCBLKPBVC7Z5OQOSUOB58O\n",
      "3GS542CVJVFLYUU5HZ5JOMJ3EUT59D\n",
      "3NSCTNUR2ZFZ3D4A95JJKHUNKCB5AS\n",
      "3XUSYT70ITTY6DLLW949TN62O7X0D4\n",
      "336OE47KI2CD8KMSG1XO64LDPJFVWZ\n",
      "39O6Z4JLX2PSXKRIQ6TA8NZKYLLVXS\n",
      "3GITHABACYDEOZFC0QMQ8GBBZ9J2N8\n",
      "3K2CEDRACBT2QGOP74RMWOV1UWLTMQ\n",
      "3R6RZGK0XF4HXPHSV2FCR16T0RFVYY\n",
      "3NZ1E5QA6ZT4MN92FJJFFSET2UW5BN\n",
      "3X0EMNLXEPHNOBPR4FJTEADHWMPVPH\n",
      "3XEDXEGFX3G6KJRVOQQWX01S8G6K0D\n",
      "3DGDV62G7O1ERKRPG5ZIC5G6ZOWP23\n",
      "3BA7SXOG1JIAPC9T9EC8RRTOM6CR80\n",
      "3TLFH2L6Y9GCJCKWXM82HFH3ORHT2C\n",
      "3X55NP42EO83C2N8K5DNVFLY52WP3E\n",
      "3MXX6RQ9EVXOUY6CKJI65KD4J2SP4Z\n",
      "3EPG8DX9LKI6QHACYO1GACJIJYNP54\n",
      "3DA79LNS59N14UGF1MM70PMVU5HT3N\n",
      "3ZC62PVYDH2K19WDQLUSW8W5EW6XXA\n",
      "3HUR21WDDUH91EMNVHGUFM3EG20XYG\n",
      "33EEIIWHK7Z8ONQ64SYIEF3R1IBVQ8\n",
      "3HEADTGN2PK80O56H7NIJ5DWX4DVR9\n",
      "3ZFRE2BDQ96964WSR3IDTTCGMW4XZ7\n",
      "3MGHRFQY2LH14OGCS5RN68G36VFY0M\n",
      "3XH7ZM9YX2MA3HS3E6IMRNOZ6CUR9P\n",
      "3HA5ODM5KAKK135JWWNN9FISJ6WVSX\n",
      "322ZSN9Z5GCMMQZJ10RQAUE185DT48\n",
      "304QEQWKZPCPAACAMIIP4HI1SO50O8\n",
      "308KJXFUJRY1OFF0A11HNX010IXTAD\n"
     ]
    }
   ],
   "source": [
    "hits_lst = list(connection.get_all_hits())\n",
    "for hit in hits_lst:\n",
    "\tprint hit.HITId\n",
    "\tconnection.expire_hit(hit.HITId)"
   ]
  },
  {
   "cell_type": "code",
   "execution_count": null,
   "metadata": {
    "collapsed": true
   },
   "outputs": [],
   "source": []
  }
 ],
 "metadata": {
  "kernelspec": {
   "display_name": "Python 2",
   "language": "python",
   "name": "python2"
  },
  "language_info": {
   "codemirror_mode": {
    "name": "ipython",
    "version": 2
   },
   "file_extension": ".py",
   "mimetype": "text/x-python",
   "name": "python",
   "nbconvert_exporter": "python",
   "pygments_lexer": "ipython2",
   "version": "2.7.10"
  }
 },
 "nbformat": 4,
 "nbformat_minor": 0
}
