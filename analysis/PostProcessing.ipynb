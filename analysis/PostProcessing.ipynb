{
 "cells": [
  {
   "cell_type": "markdown",
   "metadata": {},
   "source": [
    "```\n",
    "cd /Users/dorislee/Desktop/Fall2016/Research/seg/crowd-seg/analysis\n",
    "bash herokuDBupdate.sh\n",
    "```"
   ]
  },
  {
   "cell_type": "code",
   "execution_count": 1,
   "metadata": {
    "collapsed": false
   },
   "outputs": [
    {
     "name": "stdout",
     "output_type": "stream",
     "text": [
      "/Users/dorislee/Desktop/Fall2016/Research/seg/crowd-seg/web-app\n"
     ]
    }
   ],
   "source": [
    "cd ../web-app/"
   ]
  },
  {
   "cell_type": "code",
   "execution_count": 2,
   "metadata": {
    "collapsed": false,
    "scrolled": true
   },
   "outputs": [
    {
     "name": "stdout",
     "output_type": "stream",
     "text": [
      "Populating the interactive namespace from numpy and matplotlib\n"
     ]
    }
   ],
   "source": [
    "%pylab inline \n",
    "%load_ext autoreload\n",
    "%autoreload 2\n",
    "from analysis_toolbox import *\n",
    "import ast"
   ]
  },
  {
   "cell_type": "code",
   "execution_count": 3,
   "metadata": {
    "collapsed": false
   },
   "outputs": [
    {
     "name": "stdout",
     "output_type": "stream",
     "text": [
      "/Users/dorislee/Desktop/Fall2016/Research/seg/data\n"
     ]
    },
    {
     "name": "stderr",
     "output_type": "stream",
     "text": [
      "/Users/dorislee/.virtualenvs/py27dev/lib/python2.7/site-packages/pandas/io/parsers.py:648: ParserWarning: Falling back to the 'python' engine because the 'c' engine does not support skip_footer; you can avoid this warning by specifying engine='python'.\n",
      "  ParserWarning)\n"
     ]
    }
   ],
   "source": [
    "save_db_as_csv()\n",
    "img_info,object_tbl,bb_info,hit_info = load_info()"
   ]
  },
  {
   "cell_type": "markdown",
   "metadata": {},
   "source": [
    "Add a new ``status`` column to hit_info"
   ]
  },
  {
   "cell_type": "code",
   "execution_count": 97,
   "metadata": {
    "collapsed": false
   },
   "outputs": [],
   "source": [
    "hit_info['status'] = pd.Series(['undetermined' for _i in range(len(hit_info))], index=hit_info.index)"
   ]
  },
  {
   "cell_type": "code",
   "execution_count": 4,
   "metadata": {
    "collapsed": false
   },
   "outputs": [
    {
     "name": "stdout",
     "output_type": "stream",
     "text": [
      "/Users/dorislee/Desktop/Fall2016/Research/seg/crowd-seg/web-app\n"
     ]
    }
   ],
   "source": [
    "cd ../crowd-seg/web-app/"
   ]
  },
  {
   "cell_type": "code",
   "execution_count": 111,
   "metadata": {
    "collapsed": true
   },
   "outputs": [],
   "source": [
    "from boto.mturk.connection import MTurkRequestError\n",
    "from boto.mturk.connection import MTurkConnection\n",
    "from secret import SECRET_KEY,ACCESS_KEY\n",
    "DEV_ENVIROMENT_BOOLEAN = True\n",
    "#This allows us to specify whether we are pushing to the sandbox or live site.\n",
    "if DEV_ENVIROMENT_BOOLEAN:\n",
    "    AMAZON_HOST = 'mechanicalturk.sandbox.amazonaws.com'\n",
    "    MastersQualID = '2F1KVCNHMVHV8E9PBUB2A4J79LU20F'\n",
    "else:\n",
    "    AMAZON_HOST = 'mechanicalturk.amazonaws.com'\n",
    "    MastersQualID = '2NDP2L92HECWY8NS8H3CK0CP5L9GHO'\n",
    "\n",
    "#Start Configuration Variables\n",
    "AWS_ACCESS_KEY_ID = ACCESS_KEY\n",
    "AWS_SECRET_ACCESS_KEY = SECRET_KEY\n",
    "\n",
    "connection = MTurkConnection(aws_access_key_id=AWS_ACCESS_KEY_ID,\n",
    "\t\t\t\t\t\t\t aws_secret_access_key=AWS_SECRET_ACCESS_KEY,\n",
    "\t\t\t\t\t\t\t host=AMAZON_HOST)\n"
   ]
  },
  {
   "cell_type": "code",
   "execution_count": 139,
   "metadata": {
    "collapsed": false
   },
   "outputs": [],
   "source": [
    "all_hits = [hit for hit in connection.get_all_hits()]\n",
    "error_log = open(\"error.log\",'w')\n",
    "object_tbl['approvedBB_count'] = pd.Series(np.zeros(len(object_tbl)), index=object_tbl.index)"
   ]
  },
  {
   "cell_type": "code",
   "execution_count": 142,
   "metadata": {
    "collapsed": false
   },
   "outputs": [
    {
     "name": "stdout",
     "output_type": "stream",
     "text": [
      "Problem with rejecting/approving:  3ZAK8W07I56NAZT186Z0R766NVD0UR\n",
      "Problem with rejecting/approving:  3XXU1SWE8NN3VQF321I9R6UCGSL0AF\n",
      "Problem with rejecting/approving:  3G5F9DBFOQPYYEOXB4GQTL76NJNVHC\n",
      "Problem with rejecting/approving:  3AUQQEL7U6LNNEI1DW95NT8P12M0VG\n",
      "Problem with rejecting/approving:  3DYGAII7PM0Y6NQ48IULW7APSIIPQH\n",
      "Problem with rejecting/approving:  33LKR6A5KFC8HBZU4KDQ0G3E99BT1V\n",
      "Problem with rejecting/approving:  3FPRZHYEPZZJ46HYWJROPR6W4E5V35\n",
      "Problem with rejecting/approving:  34Z02EIMIT58AMEC819QMBK44H60T0\n",
      "Problem with rejecting/approving:  34Z02EIMIT58AMEC819QMBK44H5T0S\n",
      "Problem with rejecting/approving:  31IBVUNM9TREKIXRGESQQ0VT74ZFVN\n"
     ]
    }
   ],
   "source": [
    "for hit in all_hits:\n",
    "    assignments = connection.get_assignments(hit.HITId)\n",
    "    for assignment in assignments:\n",
    "        task = hit_info[hit_info.hit_id==assignment.HITId]\n",
    "        if len(task)>0:\n",
    "            actions = ast.literal_eval(task.actions.get_values()[0])\n",
    "            numClicks = actions.count(\"addClick\")\n",
    "            try: \n",
    "                if numClicks >3:\n",
    "                    hit_info = hit_info.set_value(task.index[0],'status',\"approved\")\n",
    "                    #Add additional counts to object table \n",
    "                    object_tbl = object_tbl.set_value(task.object_id,'approvedBB_count', \\\n",
    "                    object_tbl._iloc[task.object_id].approvedBB_count.get_values()[0]+1)                    \n",
    "                    connection.approve_assignment(assignment.AssignmentId)\n",
    "                else:\n",
    "                    hit_info = hit_info.set_value(task.index[0],'status',\"rejected\")\n",
    "                    connection.reject_assignment(assignment.AssignmentId)\n",
    "            except:#(MTurkRequestError):\n",
    "                print \"Problem with rejecting/approving: \", assignment.AssignmentId\n",
    "                error_log.write(assignment.AssignmentId+'\\n')\n",
    "error_log.close()"
   ]
  },
  {
   "cell_type": "code",
   "execution_count": 144,
   "metadata": {
    "collapsed": true
   },
   "outputs": [],
   "source": [
    "object_tbl.to_csv('../../data/object_tbl_mturk.csv')"
   ]
  },
  {
   "cell_type": "code",
   "execution_count": 145,
   "metadata": {
    "collapsed": false
   },
   "outputs": [],
   "source": [
    "hit_info.to_csv('../../data/hit_mturk.csv')"
   ]
  },
  {
   "cell_type": "code",
   "execution_count": null,
   "metadata": {
    "collapsed": false
   },
   "outputs": [],
   "source": [
    "# if assignment.HITId in list(hit_info.hit_id):\n",
    "#     hit_info.hit_id==assignment.HITId"
   ]
  }
 ],
 "metadata": {
  "kernelspec": {
   "display_name": "Python 2",
   "language": "python",
   "name": "python2"
  },
  "language_info": {
   "codemirror_mode": {
    "name": "ipython",
    "version": 2
   },
   "file_extension": ".py",
   "mimetype": "text/x-python",
   "name": "python",
   "nbconvert_exporter": "python",
   "pygments_lexer": "ipython2",
   "version": "2.7.10"
  }
 },
 "nbformat": 4,
 "nbformat_minor": 0
}
