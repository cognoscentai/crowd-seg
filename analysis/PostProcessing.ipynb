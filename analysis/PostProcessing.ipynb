{
 "cells": [
  {
   "cell_type": "markdown",
   "metadata": {},
   "source": [
    "```\n",
    "cd /Users/dorislee/Desktop/Fall2016/Research/seg/crowd-seg/analysis\n",
    "bash herokuDBupdate.sh\n",
    "```"
   ]
  },
  {
   "cell_type": "code",
   "execution_count": 2,
   "metadata": {
    "collapsed": false
   },
   "outputs": [
    {
     "name": "stdout",
     "output_type": "stream",
     "text": [
      "/Users/dorislee/Desktop/Fall2016/Research/seg/crowd-seg/web-app\n"
     ]
    }
   ],
   "source": [
    "cd ../web-app/"
   ]
  },
  {
   "cell_type": "code",
   "execution_count": 3,
   "metadata": {
    "collapsed": false,
    "scrolled": true
   },
   "outputs": [
    {
     "name": "stdout",
     "output_type": "stream",
     "text": [
      "Populating the interactive namespace from numpy and matplotlib\n"
     ]
    }
   ],
   "source": [
    "%pylab inline \n",
    "%load_ext autoreload\n",
    "%autoreload 2\n",
    "from analysis_toolbox import *\n",
    "import ast"
   ]
  },
  {
   "cell_type": "code",
   "execution_count": 4,
   "metadata": {
    "collapsed": false
   },
   "outputs": [
    {
     "name": "stderr",
     "output_type": "stream",
     "text": [
      "/Users/dorislee/.virtualenvs/py27dev/lib/python2.7/site-packages/pandas/io/parsers.py:648: ParserWarning: Falling back to the 'python' engine because the 'c' engine does not support skip_footer; you can avoid this warning by specifying engine='python'.\n",
      "  ParserWarning)\n"
     ]
    }
   ],
   "source": [
    "save_db_as_csv()\n",
    "img_info,object_tbl,bb_info,hit_info = load_info()"
   ]
  },
  {
   "cell_type": "markdown",
   "metadata": {},
   "source": [
    "Add a new ``status`` column to hit_info"
   ]
  },
  {
   "cell_type": "code",
   "execution_count": 4,
   "metadata": {
    "collapsed": false
   },
   "outputs": [],
   "source": [
    "hit_info['status'] = pd.Series(['undetermined' for _i in range(len(hit_info))], index=hit_info.index)"
   ]
  },
  {
   "cell_type": "code",
   "execution_count": 111,
   "metadata": {
    "collapsed": true
   },
   "outputs": [],
   "source": [
    "from boto.mturk.connection import MTurkRequestError\n",
    "from boto.mturk.connection import MTurkConnection\n",
    "from secret import SECRET_KEY,ACCESS_KEY\n",
    "DEV_ENVIROMENT_BOOLEAN = True\n",
    "#This allows us to specify whether we are pushing to the sandbox or live site.\n",
    "if DEV_ENVIROMENT_BOOLEAN:\n",
    "    AMAZON_HOST = 'mechanicalturk.sandbox.amazonaws.com'\n",
    "    MastersQualID = '2F1KVCNHMVHV8E9PBUB2A4J79LU20F'\n",
    "else:\n",
    "    AMAZON_HOST = 'mechanicalturk.amazonaws.com'\n",
    "    MastersQualID = '2NDP2L92HECWY8NS8H3CK0CP5L9GHO'\n",
    "\n",
    "#Start Configuration Variables\n",
    "AWS_ACCESS_KEY_ID = ACCESS_KEY\n",
    "AWS_SECRET_ACCESS_KEY = SECRET_KEY\n",
    "\n",
    "connection = MTurkConnection(aws_access_key_id=AWS_ACCESS_KEY_ID,\n",
    "\t\t\t\t\t\t\t aws_secret_access_key=AWS_SECRET_ACCESS_KEY,\n",
    "\t\t\t\t\t\t\t host=AMAZON_HOST)\n"
   ]
  },
  {
   "cell_type": "code",
   "execution_count": 139,
   "metadata": {
    "collapsed": false
   },
   "outputs": [],
   "source": [
    "all_hits = [hit for hit in connection.get_all_hits()]\n",
    "error_log = open(\"error.log\",'w')\n",
    "object_tbl['approvedBB_count'] = pd.Series(np.zeros(len(object_tbl)), index=object_tbl.index)"
   ]
  },
  {
   "cell_type": "code",
   "execution_count": 142,
   "metadata": {
    "collapsed": false
   },
   "outputs": [
    {
     "name": "stdout",
     "output_type": "stream",
     "text": [
      "Problem with rejecting/approving:  3ZAK8W07I56NAZT186Z0R766NVD0UR\n",
      "Problem with rejecting/approving:  3XXU1SWE8NN3VQF321I9R6UCGSL0AF\n",
      "Problem with rejecting/approving:  3G5F9DBFOQPYYEOXB4GQTL76NJNVHC\n",
      "Problem with rejecting/approving:  3AUQQEL7U6LNNEI1DW95NT8P12M0VG\n",
      "Problem with rejecting/approving:  3DYGAII7PM0Y6NQ48IULW7APSIIPQH\n",
      "Problem with rejecting/approving:  33LKR6A5KFC8HBZU4KDQ0G3E99BT1V\n",
      "Problem with rejecting/approving:  3FPRZHYEPZZJ46HYWJROPR6W4E5V35\n",
      "Problem with rejecting/approving:  34Z02EIMIT58AMEC819QMBK44H60T0\n",
      "Problem with rejecting/approving:  34Z02EIMIT58AMEC819QMBK44H5T0S\n",
      "Problem with rejecting/approving:  31IBVUNM9TREKIXRGESQQ0VT74ZFVN\n"
     ]
    }
   ],
   "source": [
    "for hit in all_hits:\n",
    "    assignments = connection.get_assignments(hit.HITId)\n",
    "    for assignment in assignments:\n",
    "        task = hit_info[hit_info.hit_id==assignment.HITId]\n",
    "        if len(task)>0:\n",
    "            actions = ast.literal_eval(task.actions.get_values()[0])\n",
    "            numClicks = actions.count(\"addClick\")\n",
    "            try: \n",
    "                if numClicks >3:\n",
    "                    hit_info = hit_info.set_value(task.index[0],'status',\"approved\")\n",
    "                    #Add additional counts to object table \n",
    "                    object_tbl = object_tbl.set_value(task.object_id,'approvedBB_count', \\\n",
    "                    object_tbl._iloc[task.object_id].approvedBB_count.get_values()[0]+1)                    \n",
    "                    connection.approve_assignment(assignment.AssignmentId)\n",
    "                else:\n",
    "                    hit_info = hit_info.set_value(task.index[0],'status',\"rejected\")\n",
    "                    connection.reject_assignment(assignment.AssignmentId)\n",
    "            except:#(MTurkRequestError):\n",
    "                print \"Problem with rejecting/approving: \", assignment.AssignmentId\n",
    "                error_log.write(assignment.AssignmentId+'\\n')\n",
    "error_log.close()"
   ]
  },
  {
   "cell_type": "code",
   "execution_count": 144,
   "metadata": {
    "collapsed": true
   },
   "outputs": [],
   "source": [
    "object_tbl.to_csv('../../data/object_tbl_mturk.csv')"
   ]
  },
  {
   "cell_type": "code",
   "execution_count": 145,
   "metadata": {
    "collapsed": false
   },
   "outputs": [],
   "source": [
    "hit_info.to_csv('../../data/hit_mturk.csv')"
   ]
  },
  {
   "cell_type": "code",
   "execution_count": null,
   "metadata": {
    "collapsed": false
   },
   "outputs": [],
   "source": [
    "# if assignment.HITId in list(hit_info.hit_id):\n",
    "#     hit_info.hit_id==assignment.HITId"
   ]
  },
  {
   "cell_type": "code",
   "execution_count": 33,
   "metadata": {
    "collapsed": false
   },
   "outputs": [
    {
     "name": "stdout",
     "output_type": "stream",
     "text": [
      "Updated DB info\n",
      "Connected to AMT\n",
      "Putting into rejecting list : 33LKR6A5KFC8HBZU4KDQ0G3E9DS1TS\n",
      "3\n",
      "8\n",
      "33LKR6A5KFC8HBZU4KDQ0G3E9DS1TS,56,\"[302, 264, 254, 250, 250, 250, 248, 247, 247, 253, 267, 275, 290, 312, 337, 353, 363, 411, 435, 449, 462, 470, 478, 480, 494, 503, 511, 529, 532, 529, 522, 521, 516, 514, 506, 495, 493, 485, 483, 468, 453, 428, 371, 358, 334]\",8,3\n",
      "\n",
      "Putting into rejecting list : 3MD9PLUKKJ67HUFIFZ06JBHYXAIZND\n",
      "3\n",
      "11\n",
      "3MD9PLUKKJ67HUFIFZ06JBHYXAIZND,13,\"[347, 383, 385, 380, 393, 414, 429, 429, 408, 400, 395, 394, 354]\",11,3\n",
      "\n",
      "Putting into rejecting list : 3M23Y66PO3Z29XNCLQKHL7Y9F5U6S6\n",
      "3\n",
      "9\n",
      "3M23Y66PO3Z29XNCLQKHL7Y9F5U6S6,14,\"[258, 258, 291, 303, 355, 349, 357, 363, 388, 385, 379, 386, 356]\",9,3\n",
      "\n",
      "Putting into rejecting list : 3L6L49WXW1PNO8LNQ6EUVY435UG45H\n",
      "3\n",
      "13\n",
      "3L6L49WXW1PNO8LNQ6EUVY435UG45H,13,\"[243, 181, 190, 224, 238, 247, 254, 268, 272, 299, 306, 292]\",13,3\n",
      "\n",
      "Putting into rejecting list : 3R5F3LQFV3CPZFFUGE0JY0H3NKNZOS\n",
      "3\n",
      "16\n",
      "3R5F3LQFV3CPZFFUGE0JY0H3NKNZOS,14,\"[354, 353, 353, 361, 378, 390, 402, 409, 413, 419, 419, 419, 356]\",16,3\n",
      "\n",
      "Putting into rejecting list : 38JBBYETQP2NKREG177XZSAGINF4EI\n",
      "3\n",
      "19\n",
      "38JBBYETQP2NKREG177XZSAGINF4EI,13,\"[81, 72, 75, 67, 70, 91, 114, 115, 107, 107, 98, 97, 91]\",19,3\n",
      "\n",
      "Putting into rejecting list : 3J2UYBXQQM428O30CO1XB1SQKDB06D\n",
      "3\n",
      "20\n",
      "3J2UYBXQQM428O30CO1XB1SQKDB06D,15,\"[348, 350, 356, 361, 365, 373, 382, 412, 401, 497, 494, 487, 455, 368]\",20,3\n",
      "\n",
      "Putting into rejecting list : 3PM8NZGV8Z83FWSVU942QKWSUL7XQ1\n",
      "3\n",
      "18\n",
      "3PM8NZGV8Z83FWSVU942QKWSUL7XQ1,10,\"[108, 110, 151, 159, 216, 267, 264, 312, 311, 132]\",18,3\n",
      "\n",
      "Putting into rejecting list : 33M4IA01QHT3RX7V7OT2VA6XQ79XR2\n",
      "3\n",
      "17\n",
      "33M4IA01QHT3RX7V7OT2VA6XQ79XR2,17,\"[123, 109, 101, 90, 99, 90, 110, 134, 132, 151, 163, 171, 193, 171, 165, 151, 141]\",17,3\n",
      "\n",
      "Putting into rejecting list : 308Q0PEVB950X2MEELTF1FJOW809IS\n",
      "3\n",
      "21\n",
      "308Q0PEVB950X2MEELTF1FJOW809IS,5,\"[230, 231, 297, 297]\",21,3\n",
      "\n",
      "Putting into rejecting list : 3PH3VY7DJMPX4OOW70RTFUUPQMMZW4\n",
      "3\n",
      "3\n",
      "3PH3VY7DJMPX4OOW70RTFUUPQMMZW4,7,\"[47, 90, 97, 90, 86, 47, 52]\",3,3\n",
      "\n",
      "Putting into rejecting list : 3QFUFYSY9Z7FQ5ECWIR3HAVGUOU4F0\n",
      "3\n",
      "2\n",
      "3QFUFYSY9Z7FQ5ECWIR3HAVGUOU4F0,6,\"[187, 210, 242, 251, 227, 187]\",2,3\n",
      "\n",
      "Putting into rejecting list : 3JAOYWH7VJW2N3UKZOQSTVBGDCU9L6\n",
      "3\n",
      "22\n",
      "3JAOYWH7VJW2N3UKZOQSTVBGDCU9L6,10,\"[374, 385, 396, 399, 386, 377, 371]\",22,3\n",
      "\n",
      "Putting into rejecting list : 3MYYFCXHJ4ZL45A772XLZVVSV3U4GZ\n",
      "3\n",
      "1\n",
      "3MYYFCXHJ4ZL45A772XLZVVSV3U4GZ,10,\"[316, 300, 295, 304, 316, 331, 363, 366, 354, 340]\",1,3\n",
      "\n",
      "Putting into rejecting list : 3EG49X351V4A5E9BF0Q4KFF1UKW6XE\n",
      "3\n",
      "4\n",
      "3EG49X351V4A5E9BF0Q4KFF1UKW6XE,17,\"[91, 96, 93, 88, 85, 88, 108, 124, 134, 134, 125, 116, 116, 105]\",4,3\n",
      "\n",
      "Putting into rejecting list : 3GU1KF0O4JTB2HOFP0XV1IFQ6MYBPG\n",
      "3\n",
      "23\n",
      "3GU1KF0O4JTB2HOFP0XV1IFQ6MYBPG,22,\"[400, 400, 410, 422, 439, 462, 476, 488, 502, 524, 538, 533, 520, 496, 474, 458, 450]\",23,3\n",
      "\n",
      "Putting into rejecting list : 38YMOXR4MVRVGE4L5VUIIW1ULIQ6WL\n",
      "3\n",
      "5\n",
      "38YMOXR4MVRVGE4L5VUIIW1ULIQ6WL,20,\"[432, 437, 443, 456, 454, 474, 483, 483, 486, 480, 480, 495, 501, 504, 499, 482, 466, 465, 453, 431]\",5,3\n",
      "\n",
      "Putting into rejecting list : 3ERET4BTVN1R3XC2EOEREVY1OCP9K3\n",
      "3\n",
      "7\n",
      "3ERET4BTVN1R3XC2EOEREVY1OCP9K3,20,\"[361, 368, 368, 380, 402, 405, 405, 404, 410, 423, 424, 419, 415, 416, 408, 397, 381, 370, 365]\",7,3\n",
      "\n",
      "Putting into rejecting list : 3OJSZ2ATDTOK7V36S4C1YAODWW6754\n",
      "3\n",
      "6\n",
      "3OJSZ2ATDTOK7V36S4C1YAODWW6754,9,\"[502, 497, 497, 506, 512, 512, 512, 509, 508]\",6,3\n",
      "\n",
      "Putting into rejecting list : 3CP1TO84PUTDLU60MSV62J75LGK25J\n",
      "3\n",
      "26\n",
      "3CP1TO84PUTDLU60MSV62J75LGK25J,17,\"[3, 15, 23, 102, 113, 132, 136, 136, 134, 89, 91, 80, 76, 48, 15, 1]\",26,3\n",
      "\n",
      "Putting into rejecting list : 39GHHAVOMGJVV708F8IOW8N8NVB4J3\n",
      "3\n",
      "24\n",
      "39GHHAVOMGJVV708F8IOW8N8NVB4J3,6,\"[340, 352, 369, 411, 393, 378]\",24,3\n",
      "\n",
      "Putting into rejecting list : 3E7TUJ2EGDEJPR6SM7S4AI3B43S9DQ\n",
      "3\n",
      "25\n",
      "3E7TUJ2EGDEJPR6SM7S4AI3B43S9DQ,10,\"[357, 430, 440, 628, 634, 583, 639, 638, 556, 482]\",25,3\n",
      "\n",
      "Putting into rejecting list : 33IZTU6J82TFSC78MDT7LKBTC9SXSQ\n",
      "3\n",
      "27\n",
      "33IZTU6J82TFSC78MDT7LKBTC9SXSQ,4,\"[56, 52, 223, 240]\",27,3\n",
      "\n",
      "Putting into rejecting list : 3AZHRG4CU5C3B5GITM3Z4YG6AM9037\n",
      "3\n",
      "28\n",
      "3AZHRG4CU5C3B5GITM3Z4YG6AM9037,48,\"[251, 236, 230, 229, 237, 256, 253, 261, 270, 284, 283, 303, 280, 285, 314, 304, 316, 330, 341, 352, 374, 358, 365, 373, 378, 390, 380, 383, 409, 387, 400, 378, 361, 373, 361, 345, 333, 345, 318, 307, 293, 282, 285, 262, 270, 262]\",28,3\n",
      "\n",
      "Putting into rejecting list : 3QXNC7EIPJNPQ75YAV49VBJSAEJ09O\n",
      "3\n",
      "31\n",
      "3QXNC7EIPJNPQ75YAV49VBJSAEJ09O,18,\"[73, 71, 41, 37, 29, 31, 48, 64, 103, 130, 148, 160, 160, 159, 141, 141, 114, 114]\",31,3\n",
      "\n",
      "Putting into rejecting list : 3NAPMVF0ZX7S8YKJALA303L1CMF723\n",
      "3\n",
      "29\n",
      "3NAPMVF0ZX7S8YKJALA303L1CMF723,38,\"[497, 480, 477, 478, 489, 492, 506, 515, 520, 532, 543, 549, 549, 554, 585, 559, 558, 561, 552, 545, 538, 524, 524, 516, 505, 493, 497, 492, 460, 453, 466, 441, 479, 426, 476, 465, 480]\",29,3\n",
      "\n",
      "Putting into rejecting list : 3Z4GS9HPNW2ZUZHPGXRYWU29N2177J\n",
      "3\n",
      "33\n",
      "3Z4GS9HPNW2ZUZHPGXRYWU29N2177J,23,\"[481, 494, 492, 498, 511, 528, 531, 559, 592, 607, 607, 599, 580, 550, 515, 484, 465, 440, 422, 421, 437, 469, 480]\",33,3\n",
      "\n",
      "Putting into rejecting list : 3ZPPDN2SLWOOHXKSI23OG0LW4FT9EJ\n",
      "3\n",
      "34\n",
      "3ZPPDN2SLWOOHXKSI23OG0LW4FT9EJ,50,\"[64, 132, 152, 170, 192, 206, 211, 210, 192, 181, 180, 267, 298, 310, 317, 315, 321, 308, 312, 298, 277, 286, 313, 325, 339, 353, 352, 343, 384, 394, 396, 396, 374, 353, 332, 325, 315, 307, 299, 279, 261, 232, 185, 152, 122, 98, 80, 71]\",34,3\n",
      "\n",
      "Putting into rejecting list : 37ZHEEHM6XEHTGG2ELO8JDQTI0F73E\n",
      "3\n",
      "30\n",
      "37ZHEEHM6XEHTGG2ELO8JDQTI0F73E,22,\"[20, 60, 23, 51, 69, 85, 103, 108, 132, 139, 118, 165, 169, 151, 164, 115, 95, 82, 67, 42]\",30,3\n",
      "\n",
      "Putting into rejecting list : 3R2UR8A0IB80UKFFFWCY1F1SFKPXOT\n",
      "3\n",
      "32\n",
      "3R2UR8A0IB80UKFFFWCY1F1SFKPXOT,29,\"[234, 276, 299, 326, 347, 360, 366, 362, 359, 365, 372, 378, 387, 391, 391, 389, 382, 371, 362, 323, 282, 258, 241, 229, 220, 214, 216]\",32,3\n",
      "\n",
      "Putting into rejecting list : 3MAOD8E57R2ICZF3EHCLMQ1NPAKXNE\n",
      "3\n",
      "35\n",
      "3MAOD8E57R2ICZF3EHCLMQ1NPAKXNE,29,\"[196, 226, 272, 299, 314, 314, 314, 320, 318, 308, 312, 305, 289, 275, 269, 243, 220, 208, 199, 134, 160, 180, 190, 199, 208, 212, 208]\",35,3\n",
      "\n",
      "Putting into rejecting list : 3HL8HNGX46TGNBKODDNUYI6WGG89F1\n",
      "3\n",
      "36\n",
      "3HL8HNGX46TGNBKODDNUYI6WGG89F1,14,\"[1, 197, 195, 253, 285, 234, 228, 5]\",36,3\n",
      "\n",
      "Putting into rejecting list : 3YDGXNSEO0M6BQ4PO4LX7IEU7KH48J\n",
      "3\n",
      "37\n",
      "3YDGXNSEO0M6BQ4PO4LX7IEU7KH48J,61,\"[522, 522, 517, 517, 528, 536, 544, 544, 541, 548, 556, 561, 563, 570, 569, 569, 563, 558, 553, 549, 553, 555, 557, 557, 549, 543, 540, 537, 533, 530, 526, 522, 510, 506, 511, 511, 512, 510, 514, 510, 512, 495, 496, 493, 496, 504, 509]\",37,3\n",
      "\n",
      "Putting into rejecting list : 3RKNTXVS3NQKUEX4L25B39KPX8H4AN\n",
      "3\n",
      "38\n",
      "3RKNTXVS3NQKUEX4L25B39KPX8H4AN,27,\"[297, 288, 295, 291, 296, 322, 329, 335, 379, 381, 421, 422, 454, 489, 490, 494, 499, 454, 453, 433, 429, 415, 395, 392, 321, 320, 295]\",38,3\n",
      "\n",
      "Putting into rejecting list : 31Q0U3WYDQ7LJD2NRHAPVKBWKG171M\n",
      "3\n",
      "40\n",
      "31Q0U3WYDQ7LJD2NRHAPVKBWKG171M,20,\"[164, 156, 155, 157, 155, 140, 131, 141, 193, 196, 204, 204, 196, 194, 183, 173, 173, 175]\",40,3\n",
      "\n",
      "Putting into rejecting list : 3483FV8BEFB94Y6ERB5BUPL5HBV26Z\n",
      "3\n",
      "42\n",
      "3483FV8BEFB94Y6ERB5BUPL5HBV26Z,25,\"[114, 118, 124, 128, 141, 151, 180, 184, 193, 205, 218, 241, 248, 249, 233, 233, 222, 215, 189, 184, 172, 158, 144, 134]\",42,3\n",
      "\n",
      "Putting into rejecting list : 3D4CH1LGEBLM1BGJOXTCG368HV89G0\n",
      "3\n",
      "41\n",
      "3D4CH1LGEBLM1BGJOXTCG368HV89G0,8,\"[272, 276, 289, 293, 295, 289]\",41,3\n",
      "\n",
      "Putting into rejecting list : 3EJPLAJKEN8ZA99QGIEPH0VC2KU6ZB\n",
      "3\n",
      "39\n",
      "3EJPLAJKEN8ZA99QGIEPH0VC2KU6ZB,27,\"[1, 16, 17, 27, 49, 58, 78, 105, 108, 167, 171, 192, 204, 232, 243, 252, 271, 280, 295, 292, 281, 254, 243, 222, 44, 35, 2]\",39,3\n",
      "\n",
      "Putting into rejecting list : 34QN5IT0T0JPC2MO53YVVFOHQ8108Z\n",
      "3\n",
      "45\n",
      "34QN5IT0T0JPC2MO53YVVFOHQ8108Z,5,\"[46, 105, 112, 75, 42]\",45,3\n",
      "\n",
      "Putting into rejecting list : 35BLDD71I7PKPZORHQMXTSBBJDKZVU\n",
      "3\n",
      "43\n",
      "35BLDD71I7PKPZORHQMXTSBBJDKZVU,44,\"[103, 94, 89, 96, 106, 118, 128, 136, 125, 137, 147, 156, 168, 175, 218, 217, 220, 236, 239, 235, 224, 211, 206, 212, 213, 197, 180, 173, 169, 169, 169, 172, 173, 168, 159, 138, 139, 132]\",43,3\n",
      "\n",
      "Putting into rejecting list : 3VZLGYJEYM2CTOTMH5NFHD8WZOSZXX\n",
      "3\n",
      "44\n",
      "3VZLGYJEYM2CTOTMH5NFHD8WZOSZXX,36,\"[219, 222, 233, 230, 228, 228, 228, 236, 245, 253, 257, 257, 257, 268, 277, 284, 291, 292, 297, 298, 295, 292, 295, 287, 287, 284, 279, 265, 258, 231, 240, 233, 228, 229]\",44,3\n",
      "\n",
      "Putting into rejecting list : 352YTHGROW5Z415IR8F3KV7TA374HY\n",
      "3\n",
      "46\n",
      "352YTHGROW5Z415IR8F3KV7TA374HY,22,\"[111, 112, 117, 143, 149, 150, 145, 152, 159, 167, 168, 142, 139, 109, 109, 95, 99, 90, 85, 97]\",46,3\n",
      "\n",
      "Putting into rejecting list : 3ZR9AIQJUC1OT1ZMT08IE38COM504S\n",
      "3\n",
      "47\n",
      "3ZR9AIQJUC1OT1ZMT08IE38COM504S,6,\"[168, 167, 205, 212, 211]\",47,3\n",
      "\n"
     ]
    }
   ],
   "source": [
    "import numpy as np\n",
    "import pandas as pd\n",
    "from analysis_toolbox import *\n",
    "import ast\n",
    "from boto.mturk.connection import MTurkRequestError\n",
    "from boto.mturk.connection import MTurkConnection\n",
    "from secret import SECRET_KEY,ACCESS_KEY\n",
    "DEV_ENVIROMENT_BOOLEAN = True\n",
    "\n",
    "save_db_as_csv()\n",
    "img_info,object_tbl,bb_info,hit_info = load_info()\n",
    "print 'Updated DB info'\n",
    "\n",
    "\n",
    "#This allows us to specify whether we are pushing to the sandbox or live site.\n",
    "if DEV_ENVIROMENT_BOOLEAN:\n",
    "    AMAZON_HOST = 'mechanicalturk.sandbox.amazonaws.com'\n",
    "    MastersQualID = '2F1KVCNHMVHV8E9PBUB2A4J79LU20F'\n",
    "else:\n",
    "    AMAZON_HOST = 'mechanicalturk.amazonaws.com'\n",
    "    MastersQualID = '2NDP2L92HECWY8NS8H3CK0CP5L9GHO'\n",
    "\n",
    "#Start Configuration Variables\n",
    "AWS_ACCESS_KEY_ID = ACCESS_KEY\n",
    "AWS_SECRET_ACCESS_KEY = SECRET_KEY\n",
    "\n",
    "connection = MTurkConnection(aws_access_key_id=AWS_ACCESS_KEY_ID,\n",
    "                             aws_secret_access_key=AWS_SECRET_ACCESS_KEY,\n",
    "                             host=AMAZON_HOST)\n",
    "print 'Connected to AMT'\n",
    "\n",
    "all_hits = [hit for hit in connection.get_all_hits()]\n",
    "error_log = open(\"error.log\",'w')\n",
    "if os.path.isfile('reject.log') :\n",
    "    reject_log = open(\"reject.log\",'a')\n",
    "else:\n",
    "    print \"here\"\n",
    "    reject_log = open(\"reject.log\",'w')\n",
    "    reject_log.write(\"AssignmentId,numClicks,BBbox,object_id,worker_id\")\n",
    "\n",
    "hit_info['status'] = pd.Series(['undetermined' for _i in range(len(hit_info))], index=hit_info.index)\n",
    "object_tbl['approvedBB_count'] = pd.Series(np.zeros(len(object_tbl)), index=object_tbl.index)\n",
    "for hit in all_hits:\n",
    "    assignments = connection.get_assignments(hit.HITId)\n",
    "    for assignment in assignments:\n",
    "        task = hit_info[hit_info.hit_id==assignment.HITId]\n",
    "        if len(task)>0:\n",
    "            actions = ast.literal_eval(task.actions.get_values()[0])\n",
    "            numClicks = actions.count(\"addClick\")\n",
    "#             try:\n",
    "#                 if numClicks >=3:\n",
    "#                     print 'approving ', assignment.AssignmentId\n",
    "# #                     hit_info = hit_info.set_value(task.index[0],'status',\"approved\")\n",
    "# #                     #Add additional counts to object table\n",
    "# #                     object_tbl = object_tbl.set_value(task.object_id,'approvedBB_count', \\\n",
    "# #                     object_tbl._iloc[task.object_id].approvedBB_count.get_values()[0]+1)\n",
    "# #                     connection.approve_assignment(assignment.AssignmentId)\n",
    "#                 else:\n",
    "            print 'Putting into rejecting list :', assignment.AssignmentId\n",
    "            print int(task.worker_id)\n",
    "            print int(task.object_id)\n",
    "            bb = bb_info[(bb_info.worker_id==int(task.worker_id)) & (bb_info.object_id==int(task.object_id))]\n",
    "            BB ='\"'+ bb.x_locs.get_values()[0]+'\"'\n",
    "            reject_log.write('{0},{1},{2},{3},{4}\\n'.format(assignment.AssignmentId,numClicks,BB,int(task.object_id),int(task.worker_id)))\n",
    "            print '{0},{1},{2},{3},{4}\\n'.format(assignment.AssignmentId,numClicks,BB,int(task.object_id),int(task.worker_id))\n",
    "                    #hit_info = hit_info.set_value(task.index[0],'status',\"rejected\")\n",
    "                    #connection.reject_assignment(assignment.AssignmentId)\n",
    "#             except:#(MTurkRequestError):\n",
    "#                 print \"Problem with rejecting/approving: \", assignment.AssignmentId\n",
    "#                 error_log.write(assignment.AssignmentId+'\\n')\n",
    "# error_log.close()\n",
    "# object_tbl.to_csv('../../data/object_tbl_mturk.csv')\n",
    "# hit_info.to_csv('../../data/hit_mturk.csv')\n"
   ]
  },
  {
   "cell_type": "code",
   "execution_count": 36,
   "metadata": {
    "collapsed": false
   },
   "outputs": [],
   "source": [
    "import datetime"
   ]
  },
  {
   "cell_type": "code",
   "execution_count": 40,
   "metadata": {
    "collapsed": false
   },
   "outputs": [
    {
     "name": "stdout",
     "output_type": "stream",
     "text": [
      "2016-11-27 10:26:15.259324\n"
     ]
    }
   ],
   "source": [
    "print datetime.datetime.now()"
   ]
  },
  {
   "cell_type": "markdown",
   "metadata": {
    "collapsed": true
   },
   "source": [
    "# Count the number of objects annotated "
   ]
  },
  {
   "cell_type": "code",
   "execution_count": 5,
   "metadata": {
    "collapsed": false
   },
   "outputs": [],
   "source": [
    "import pandas as pd\n",
    "save_db_as_csv()\n",
    "img_info,object_tbl,bb_info,hit_info = load_info()"
   ]
  },
  {
   "cell_type": "code",
   "execution_count": 47,
   "metadata": {
    "collapsed": true
   },
   "outputs": [],
   "source": [
    "object_tbl['BB_count'] = pd.Series(np.zeros(len(object_tbl)), index=object_tbl.index)"
   ]
  },
  {
   "cell_type": "code",
   "execution_count": 48,
   "metadata": {
    "collapsed": false
   },
   "outputs": [],
   "source": [
    "for hit in hit_info.iterrows():\n",
    "    objIdx = hit[1]['object_id']-1\n",
    "    object_tbl = object_tbl.set_value(objIdx,'BB_count', object_tbl._iloc[objIdx].BB_count+1)                    "
   ]
  },
  {
   "cell_type": "code",
   "execution_count": 49,
   "metadata": {
    "collapsed": false
   },
   "outputs": [
    {
     "data": {
      "text/plain": [
       "868.0"
      ]
     },
     "execution_count": 49,
     "metadata": {},
     "output_type": "execute_result"
    }
   ],
   "source": [
    "sum(object_tbl['BB_count'])"
   ]
  },
  {
   "cell_type": "code",
   "execution_count": 67,
   "metadata": {
    "collapsed": true
   },
   "outputs": [],
   "source": [
    "objId=1"
   ]
  },
  {
   "cell_type": "code",
   "execution_count": 61,
   "metadata": {
    "collapsed": true
   },
   "outputs": [],
   "source": [
    "object_tbl.to_csv(\"BB_count_tbl.csv\")"
   ]
  },
  {
   "cell_type": "code",
   "execution_count": 68,
   "metadata": {
    "collapsed": true
   },
   "outputs": [],
   "source": [
    "BB_count_info = pd.read_csv(\"BB_count_tbl.csv\")"
   ]
  },
  {
   "cell_type": "code",
   "execution_count": 71,
   "metadata": {
    "collapsed": false
   },
   "outputs": [
    {
     "data": {
      "text/plain": [
       "u'/Users/dorislee/Desktop/Fall2016/Research/seg/crowd-seg/web-app'"
      ]
     },
     "execution_count": 71,
     "metadata": {},
     "output_type": "execute_result"
    }
   ],
   "source": [
    "pwd"
   ]
  },
  {
   "cell_type": "code",
   "execution_count": 69,
   "metadata": {
    "collapsed": false
   },
   "outputs": [],
   "source": [
    "maxAssignment = 40-int(BB_count_info[BB_count_info.id ==objId][\"BB_count\"])"
   ]
  },
  {
   "cell_type": "code",
   "execution_count": 70,
   "metadata": {
    "collapsed": false
   },
   "outputs": [
    {
     "data": {
      "text/plain": [
       "23"
      ]
     },
     "execution_count": 70,
     "metadata": {},
     "output_type": "execute_result"
    }
   ],
   "source": [
    "maxAssignment"
   ]
  },
  {
   "cell_type": "code",
   "execution_count": null,
   "metadata": {
    "collapsed": true
   },
   "outputs": [],
   "source": [
    "object_tbl[object_tbl.id ==objId][\"BB_count\"].get_value"
   ]
  },
  {
   "cell_type": "code",
   "execution_count": null,
   "metadata": {
    "collapsed": true
   },
   "outputs": [],
   "source": []
  }
 ],
 "metadata": {
  "kernelspec": {
   "display_name": "Python 2",
   "language": "python",
   "name": "python2"
  },
  "language_info": {
   "codemirror_mode": {
    "name": "ipython",
    "version": 2
   },
   "file_extension": ".py",
   "mimetype": "text/x-python",
   "name": "python",
   "nbconvert_exporter": "python",
   "pygments_lexer": "ipython2",
   "version": "2.7.10"
  }
 },
 "nbformat": 4,
 "nbformat_minor": 0
}
