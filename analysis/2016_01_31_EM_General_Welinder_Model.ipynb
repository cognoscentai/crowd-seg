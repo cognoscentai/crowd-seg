{
 "cells": [
  {
   "cell_type": "code",
   "execution_count": 4,
   "metadata": {
    "collapsed": false
   },
   "outputs": [
    {
     "name": "stdout",
     "output_type": "stream",
     "text": [
      "Populating the interactive namespace from numpy and matplotlib\n"
     ]
    }
   ],
   "source": [
    "%pylab inline\n",
    "from qualityBaseline import *\n",
    "from analysis_toolbox import *"
   ]
  },
  {
   "cell_type": "markdown",
   "metadata": {},
   "source": [
    "#### Variable defintions\n",
    "\n",
    "|Math notation  | Variable name | Meaning|\n",
    "|:-------------: |:-------------:| -----|\n",
    "|$\\mathcal{I}$ | I|set of all images seen |\n",
    "|$\\mathcal{U}$ | U|set of all images |\n",
    "|$\\mathcal{E}$ | E|expert list|\n",
    "|$\\mathcal{B}$ | B|'bot' (bad workers) list|\n",
    "|$\\mathcal{A_i}$ | Ai|set of all workers that have provided labels for that image|\n",
    "|$\\mathcal{A'}$ | A_all|set of all workers|\n",
    "|$p(l_{ij}|z_i)$ | plij|posterior on worker annotation|\n",
    "|$\\hat{p}(z_i)$ | pzi,phat(Lij,a)|posterior on target value (i.e. what we think BB is objectively)|\n",
    "|$p(a_j)$ | pa| prob of honest worker|\n",
    "|$\\mathcal{L}_{ij}$|Lij |set of all labels ij provided so far |\n",
    "|$\\tau$|tau|confidence threshold s.t. the zi estimate is \"good enough\" that we can stop requesting labels|\n",
    "|m|m|max cutoff for number of labels we can request (for now lets set this as all the labels available in $\\mathcal{U}$)|\n",
    "|$\\theta_v$|var_thres|threshold on variance (how much evidence we need to determine if someone is a expert or bot)|"
   ]
  },
  {
   "cell_type": "code",
   "execution_count": 5,
   "metadata": {
    "collapsed": false
   },
   "outputs": [],
   "source": [
    "img_info,object_tbl,bb_info,hit_info = load_info()\n",
    "ai_tbl= pd.read_csv(\"interpolated_aligned_bb_info.csv\",index_col=0)"
   ]
  },
  {
   "cell_type": "code",
   "execution_count": 6,
   "metadata": {
    "collapsed": false
   },
   "outputs": [],
   "source": [
    "U = list(img_info.id)"
   ]
  },
  {
   "cell_type": "code",
   "execution_count": 7,
   "metadata": {
    "collapsed": false
   },
   "outputs": [],
   "source": [
    "def set_union(a, b):\n",
    "    \"\"\" return the union of two lists \"\"\"\n",
    "    return list(set(a) | set(b))"
   ]
  },
  {
   "cell_type": "code",
   "execution_count": 85,
   "metadata": {
    "collapsed": false
   },
   "outputs": [],
   "source": [
    "A_all = list(set(bb_info.worker_id))\n",
    "U = img_info.id.values\n",
    "tau =  0.8\n",
    "m = len(U)\n",
    "\n",
    "I = []\n",
    "L = [[] for x in range(len(U)+1)] # L is a *-by-|U| list\n",
    "E = []\n",
    "B = []\n",
    "\n",
    "while len(I)<len(U): \n",
    "    # add a image in U but not in I (pick randomly)\n",
    "    I.append(random.choice([u for u in U if u not in I ]))\n",
    "    # Looping through all the seen images \n",
    "    for i in I: \n",
    "        Li = L[i]\n",
    "        Ai = [] \n",
    "        # Compute posterior\n",
    "        phatzi = [10,10]#delta(x,zi)\n",
    "        while max(phatzi)<tau and len(L)<m: \n",
    "            #Obtain label from some annotator \n",
    "            # first chose from expert list \n",
    "            try:\n",
    "                j = random.choice([j for j in E ])\n",
    "            except (ValueError):\n",
    "                # due to empty E list \n",
    "                # then just pick something from A_all that's not a bot\n",
    "                j = random.choice([j for j in A_all if j not in B ])\n",
    "            lij = ai_tbl[(ai_tbl.object_id==i)&(ai_tbl.worker_id==j)]\n",
    "            Li.append(set_union(Li,lij))\n",
    "            Ai.append(set_union(Ai,j))\n",
    "            #Recompute phatzi from updated Li and a \n",
    "            phatzi = [10,10]#delta(x,zi)\n",
    "    E = [] \n",
    "    B = []\n",
    "    for j in Ai: \n",
    "        # Estimate aj from phatzi by max aj Qj\n",
    "        Q = -----\n",
    "        a = np.argmax(Q)"
   ]
  },
  {
   "cell_type": "code",
   "execution_count": 9,
   "metadata": {
    "collapsed": true
   },
   "outputs": [],
   "source": [
    "def area(image_id,wh=False):\n",
    "    '''\n",
    "    Given area of image , lambda_i\n",
    "    '''\n",
    "    img_name = img_info[img_info[\"id\"]==image_id].filename.values[0]\n",
    "    fname = \"../web-app/app/static/\"+img_name+\".png\"\n",
    "    width,height = get_size(fname)\n",
    "    img_area = width*height\n",
    "    if wh: \n",
    "        return float(img_area),width,height\n",
    "    else:\n",
    "        return float(img_area)"
   ]
  },
  {
   "cell_type": "code",
   "execution_count": 10,
   "metadata": {
    "collapsed": false
   },
   "outputs": [
    {
     "data": {
      "text/plain": [
       "307200.0"
      ]
     },
     "execution_count": 10,
     "metadata": {},
     "output_type": "execute_result"
    }
   ],
   "source": [
    "area(1)"
   ]
  },
  {
   "cell_type": "code",
   "execution_count": 11,
   "metadata": {
    "collapsed": true
   },
   "outputs": [],
   "source": [
    "def phat(i,Li,a):\n",
    "    '''\n",
    "    Compute the posterior on the target value \n",
    "    given worker annotations (Lij) and best estimates on the worker accuracy (a)\n",
    "    i : image id \n",
    "    Ai : list of worker ids that have provided responses\n",
    "    Li : *-by-|A| vector containing all worker annotations for image i \n",
    "    a : 1-by-|A| vector containing all worker accuracies \n",
    "    |A| : the total numebr of workers (workers who have not provided response denoted by -1, so we can index with id)\n",
    "    '''\n",
    "    img_area = area(i)\n",
    "    prod_plij =1\n",
    "    #loop through all the workers that have provided responses\n",
    "    for j in Ai: \n",
    "        prod_plij *= a[j]*scipy.stats.multivariate_normal(zi,a)+(1-a[j])/(img_area**2)\n",
    "    return prod_plij/img_area"
   ]
  },
  {
   "cell_type": "code",
   "execution_count": 12,
   "metadata": {
    "collapsed": false
   },
   "outputs": [],
   "source": [
    "bb = ai_tbl.ix[0]\n",
    "bbx , bby = process_raw_locs([bb[\"aix_locs\"],bb[\"aiy_locs\"]])"
   ]
  },
  {
   "cell_type": "code",
   "execution_count": 13,
   "metadata": {
    "collapsed": false,
    "scrolled": true
   },
   "outputs": [],
   "source": [
    "# we represent lij as a flattened 1x100 vector \n",
    "lij = np.array(list(flatten(zip(bbx,bby))))"
   ]
  },
  {
   "cell_type": "code",
   "execution_count": 14,
   "metadata": {
    "collapsed": true
   },
   "outputs": [],
   "source": [
    "zi = np.zeros_like(lij)"
   ]
  },
  {
   "cell_type": "code",
   "execution_count": 15,
   "metadata": {
    "collapsed": false
   },
   "outputs": [],
   "source": [
    "a,w,h=area(1,wh=True)"
   ]
  },
  {
   "cell_type": "code",
   "execution_count": 17,
   "metadata": {
    "collapsed": true
   },
   "outputs": [],
   "source": [
    "# 4d mgrid will crash, we need 100-d mgrid \n",
    "# np.mgrid[0:w,0:h,0:w,0:h]\n",
    "# we could do interpolation on smaller number of points, but that would not be enough "
   ]
  },
  {
   "cell_type": "code",
   "execution_count": 21,
   "metadata": {
    "collapsed": false
   },
   "outputs": [],
   "source": [
    "# scipy.stats.multivariate_normal.pdf(x,zi,cov=4)"
   ]
  },
  {
   "cell_type": "code",
   "execution_count": 20,
   "metadata": {
    "collapsed": true
   },
   "outputs": [],
   "source": [
    "def delta(x,zi):\n",
    "    '''\n",
    "    Approximate the posterior on zi by a delta function \n",
    "    '''\n",
    "    if x==zi: \n",
    "        return np.inf\n",
    "    else: \n",
    "        return 0 "
   ]
  },
  {
   "cell_type": "code",
   "execution_count": null,
   "metadata": {
    "collapsed": true
   },
   "outputs": [],
   "source": []
  }
 ],
 "metadata": {
  "kernelspec": {
   "display_name": "Python 2",
   "language": "python",
   "name": "python2"
  },
  "language_info": {
   "codemirror_mode": {
    "name": "ipython",
    "version": 2
   },
   "file_extension": ".py",
   "mimetype": "text/x-python",
   "name": "python",
   "nbconvert_exporter": "python",
   "pygments_lexer": "ipython2",
   "version": "2.7.10"
  }
 },
 "nbformat": 4,
 "nbformat_minor": 0
}
