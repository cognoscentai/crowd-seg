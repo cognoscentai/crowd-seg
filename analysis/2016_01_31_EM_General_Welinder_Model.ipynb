{
 "cells": [
  {
   "cell_type": "code",
   "execution_count": 1,
   "metadata": {
    "collapsed": false
   },
   "outputs": [
    {
     "name": "stdout",
     "output_type": "stream",
     "text": [
      "Populating the interactive namespace from numpy and matplotlib\n"
     ]
    },
    {
     "name": "stderr",
     "output_type": "stream",
     "text": [
      "qualityBaseline.py:219: SyntaxWarning: import * only allowed at module level\n",
      "  def compute_my_COCO_BBvals(compute_metrics=['simple','area','dist']):\n"
     ]
    }
   ],
   "source": [
    "%pylab inline\n",
    "from qualityBaseline import *\n",
    "from analysis_toolbox import *"
   ]
  },
  {
   "cell_type": "markdown",
   "metadata": {},
   "source": [
    "#### Variable defintions\n",
    "\n",
    "|Math notation  | Variable name | Meaning|\n",
    "| ------------- |:-------------:| -----|\n",
    "|$\\mathcal{I}$ | I|set of all images seen |\n",
    "|$\\mathcal{U}$ | U|set of all images |\n",
    "|$\\mathcal{E}$ | E|expert list|\n",
    "|$\\mathcal{B}$ | B|'bot' (bad workers) list|\n",
    "|$p(l_{ij}|z_i)$ | plij|posterior|\n",
    "|$p(a_j)$ | pa| prob of honest worker|"
   ]
  },
  {
   "cell_type": "code",
   "execution_count": 133,
   "metadata": {
    "collapsed": false
   },
   "outputs": [],
   "source": [
    "img_info,object_tbl,bb_info,hit_info = load_info()\n",
    "ai_tbl= pd.read_csv(\"interpolated_aligned_bb_info.csv\",index_col=0)"
   ]
  },
  {
   "cell_type": "code",
   "execution_count": 145,
   "metadata": {
    "collapsed": false
   },
   "outputs": [],
   "source": [
    "U = list(img_info.id)"
   ]
  },
  {
   "cell_type": "code",
   "execution_count": 141,
   "metadata": {
    "collapsed": true
   },
   "outputs": [],
   "source": [
    "I = []\n",
    "L = []\n",
    "E = []\n",
    "B = []\n",
    "U=[]\n",
    "while len(I)<len(U): \n",
    "    # add a image in U but not in I (pick randomly)\n",
    "    I.append(random.choice([u for u in U if u not in I ]))\n",
    "    # Looping through all the seen images \n",
    "    for i in I: \n",
    "    "
   ]
  }
 ],
 "metadata": {
  "kernelspec": {
   "display_name": "Python 2",
   "language": "python",
   "name": "python2"
  },
  "language_info": {
   "codemirror_mode": {
    "name": "ipython",
    "version": 2
   },
   "file_extension": ".py",
   "mimetype": "text/x-python",
   "name": "python",
   "nbconvert_exporter": "python",
   "pygments_lexer": "ipython2",
   "version": "2.7.10"
  }
 },
 "nbformat": 4,
 "nbformat_minor": 0
}
