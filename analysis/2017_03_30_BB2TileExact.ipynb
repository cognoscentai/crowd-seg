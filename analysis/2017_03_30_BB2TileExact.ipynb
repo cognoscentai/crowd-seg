{
 "cells": [
  {
   "cell_type": "code",
   "execution_count": 1,
   "metadata": {
    "collapsed": false
   },
   "outputs": [
    {
     "name": "stdout",
     "output_type": "stream",
     "text": [
      "/Users/dorislee/Desktop/Research/seg/crowd-seg/analysis/TileEM\n"
     ]
    }
   ],
   "source": [
    "cd TileEM/"
   ]
  },
  {
   "cell_type": "code",
   "execution_count": 2,
   "metadata": {
    "collapsed": false
   },
   "outputs": [
    {
     "name": "stdout",
     "output_type": "stream",
     "text": [
      "Populating the interactive namespace from numpy and matplotlib\n"
     ]
    }
   ],
   "source": [
    "%pylab inline\n",
    "%load_ext autoreload\n",
    "%autoreload 2\n",
    "from TileEM_plot_toolbox import *"
   ]
  },
  {
   "cell_type": "code",
   "execution_count": 3,
   "metadata": {
    "collapsed": false
   },
   "outputs": [],
   "source": [
    "img_info,object_tbl,bb_info,hit_info = load_info()"
   ]
  },
  {
   "cell_type": "code",
   "execution_count": 113,
   "metadata": {
    "collapsed": false
   },
   "outputs": [
    {
     "data": {
      "image/svg+xml": [
       "<svg xmlns=\"http://www.w3.org/2000/svg\" xmlns:xlink=\"http://www.w3.org/1999/xlink\" width=\"187.8\" height=\"199.8\" viewBox=\"396.6 190.6 187.8 199.8\" preserveAspectRatio=\"xMinYMin meet\"><g transform=\"matrix(1,0,0,-1,0,581.0)\"><g><path fill-rule=\"evenodd\" fill=\"#66cc99\" stroke=\"#555555\" stroke-width=\"2.0\" opacity=\"0.6\" d=\"M 488.428571429,203.428571429 L 483.0,198.0 L 478.777777778,198.0 L 488.428571429,203.428571429 z\" /><path fill-rule=\"evenodd\" fill=\"#66cc99\" stroke=\"#555555\" stroke-width=\"2.0\" opacity=\"0.6\" d=\"M 573.222222222,258.888888889 L 572.0,254.0 L 568.0,233.0 L 565.6,230.066666667 L 566.0,231.0 L 566.0,237.0 L 571.0,254.0 L 573.222222222,258.888888889 z\" /><path fill-rule=\"evenodd\" fill=\"#66cc99\" stroke=\"#555555\" stroke-width=\"2.0\" opacity=\"0.6\" d=\"M 576.857142857,284.571428571 L 577.0,282.0 L 576.0,275.333333333 L 576.0,276.0 L 576.857142857,284.571428571 z\" /><path fill-rule=\"evenodd\" fill=\"#66cc99\" stroke=\"#555555\" stroke-width=\"2.0\" opacity=\"0.6\" d=\"M 564.0,335.818181818 L 569.0,334.0 L 564.0,332.888888889 L 564.0,335.818181818 z\" /><path fill-rule=\"evenodd\" fill=\"#66cc99\" stroke=\"#555555\" stroke-width=\"2.0\" opacity=\"0.6\" d=\"M 498.0,362.0 L 495.0,373.0 L 495.0,383.0 L 509.0,376.0 L 512.174193548,367.270967742 L 511.0,367.0 L 503.0,367.0 L 498.0,362.0 z\" /><path fill-rule=\"evenodd\" fill=\"#66cc99\" stroke=\"#555555\" stroke-width=\"2.0\" opacity=\"0.6\" d=\"M 470.5,360.75 L 471.0,362.0 L 478.0,374.0 L 480.0,367.0 L 481.0,361.0 L 498.0,362.0 L 497.0,361.0 L 484.0,361.0 L 481.0,354.0 L 471.0,352.0 L 472.0,360.0 L 470.5,360.75 z\" /><path fill-rule=\"evenodd\" fill=\"#66cc99\" stroke=\"#555555\" stroke-width=\"2.0\" opacity=\"0.6\" d=\"M 451.0,372.166666667 L 452.0,372.0 L 451.0,367.0 L 451.0,372.166666667 z\" /><path fill-rule=\"evenodd\" fill=\"#66cc99\" stroke=\"#555555\" stroke-width=\"2.0\" opacity=\"0.6\" d=\"M 438.142857143,364.714285714 L 440.0,374.0 L 446.576923077,372.903846154 L 441.0,369.0 L 438.142857143,364.714285714 z\" /><path fill-rule=\"evenodd\" fill=\"#66cc99\" stroke=\"#555555\" stroke-width=\"2.0\" opacity=\"0.6\" d=\"M 435.517241379,285.965517241 L 438.571428571,288.714285714 L 438.0,287.0 L 435.517241379,285.965517241 z\" /><path fill-rule=\"evenodd\" fill=\"#66cc99\" stroke=\"#555555\" stroke-width=\"2.0\" opacity=\"0.6\" d=\"M 415.6875,266.0625 L 418.0,273.0 L 421.827586207,275.551724138 L 415.6875,266.0625 z\" /><path fill-rule=\"evenodd\" fill=\"#66cc99\" stroke=\"#555555\" stroke-width=\"2.0\" opacity=\"0.6\" d=\"M 406.5,230.5 L 404.0,238.0 L 412.0,255.0 L 414.555555556,262.666666667 L 411.0,244.0 L 406.5,230.5 z\" /><path fill-rule=\"evenodd\" fill=\"#66cc99\" stroke=\"#555555\" stroke-width=\"2.0\" opacity=\"0.6\" d=\"M 424.25,227.8125 L 416.0,223.0 L 408.0,226.0 L 418.0,226.0 L 423.0,230.0 L 424.25,227.8125 z\" /><path fill-rule=\"evenodd\" fill=\"#66cc99\" stroke=\"#555555\" stroke-width=\"2.0\" opacity=\"0.6\" d=\"M 433.379310345,216.206896552 L 432.0,215.0 L 431.512195122,216.829268293 L 433.379310345,216.206896552 z\" /></g></g></svg>"
      ],
      "text/plain": [
       "<shapely.geometry.multipolygon.MultiPolygon at 0x107df6050>"
      ]
     },
     "execution_count": 113,
     "metadata": {},
     "output_type": "execute_result"
    }
   ],
   "source": [
    "nonoverlap = (polygon.symmetric_difference(polygon2)).difference(polygon2)\n",
    "nonoverlap==polygon.difference(polygon2)\n",
    "nonoverlap"
   ]
  },
  {
   "cell_type": "code",
   "execution_count": 15,
   "metadata": {
    "collapsed": false
   },
   "outputs": [],
   "source": [
    "objid=14\n",
    "bb_objects = bb_info[bb_info[\"object_id\"]==objid]\n",
    "bb_objects =  bb_objects[bb_objects.worker_id!=3]"
   ]
  },
  {
   "cell_type": "code",
   "execution_count": 16,
   "metadata": {
    "collapsed": false
   },
   "outputs": [],
   "source": [
    "obj_x_locs = [process_raw_locs([x,y])[0] for x,y in zip(bb_objects[\"x_locs\"],bb_objects[\"y_locs\"])]\n",
    "obj_y_locs = [process_raw_locs([x,y])[1] for x,y in zip(bb_objects[\"x_locs\"],bb_objects[\"y_locs\"])]"
   ]
  },
  {
   "cell_type": "code",
   "execution_count": 17,
   "metadata": {
    "collapsed": true
   },
   "outputs": [],
   "source": [
    "xylocs = [list(zip(*process_raw_locs([x,y]))) for x,y in zip(bb_objects[\"x_locs\"],bb_objects[\"y_locs\"])]"
   ]
  },
  {
   "cell_type": "code",
   "execution_count": 18,
   "metadata": {
    "collapsed": false
   },
   "outputs": [],
   "source": [
    "BB = []\n",
    "for xyloc in xylocs:\n",
    "    BB.append(Polygon(xyloc).buffer(0))"
   ]
  },
  {
   "cell_type": "code",
   "execution_count": 21,
   "metadata": {
    "collapsed": false
   },
   "outputs": [],
   "source": [
    "# xj=tj.intersection(bi)"
   ]
  },
  {
   "cell_type": "code",
   "execution_count": 82,
   "metadata": {
    "collapsed": false
   },
   "outputs": [
    {
     "data": {
      "text/plain": [
       "True"
      ]
     },
     "execution_count": 82,
     "metadata": {},
     "output_type": "execute_result"
    }
   ],
   "source": []
  },
  {
   "cell_type": "code",
   "execution_count": 137,
   "metadata": {
    "collapsed": true
   },
   "outputs": [],
   "source": [
    "def add_object_to_tiles(tiles,obj):\n",
    "    if obj==[]:\n",
    "        return\n",
    "    if obj.area>1e-10 and obj.is_valid:\n",
    "        if type(obj)==shapely.geometry.polygon.Polygon:\n",
    "            tiles.append(obj)\n",
    "        elif type(obj)==shapely.geometry.MultiPolygon or type(obj)==shapely.geometry.collection:\n",
    "            for region in obj:\n",
    "                if type(region)!=shapely.geometry.LineString:\n",
    "                    tiles.append(region)        "
   ]
  },
  {
   "cell_type": "code",
   "execution_count": 104,
   "metadata": {
    "collapsed": false
   },
   "outputs": [
    {
     "data": {
      "text/plain": [
       "True"
      ]
     },
     "execution_count": 104,
     "metadata": {},
     "output_type": "execute_result"
    }
   ],
   "source": [
    "bi.is_valid"
   ]
  },
  {
   "cell_type": "code",
   "execution_count": 114,
   "metadata": {
    "collapsed": false
   },
   "outputs": [
    {
     "name": "stderr",
     "output_type": "stream",
     "text": [
      "WARNING:shapely.geos:Self-intersection at or near point 564.5 326.79999999999995\n"
     ]
    },
    {
     "data": {
      "image/svg+xml": [
       "<svg xmlns=\"http://www.w3.org/2000/svg\" xmlns:xlink=\"http://www.w3.org/1999/xlink\" width=\"184.68\" height=\"178.68\" viewBox=\"400.16 195.16 184.68 178.68\" preserveAspectRatio=\"xMinYMin meet\"><g transform=\"matrix(1,0,0,-1,0,569.0)\"><g><path fill-rule=\"evenodd\" fill=\"#ff3333\" stroke=\"#555555\" stroke-width=\"2.0\" opacity=\"0.6\" d=\"M 506.777777778,210.888888889 L 506.77,210.89 L 506.636363636,210.909090909 L 507.666666667,210.222222222 L 497.133333333,211.977777778 L 498.0625,212.984375 L 499.0,214.0 L 506.5,211.0 L 506.777777778,210.888888889 z\" /><path fill-rule=\"evenodd\" fill=\"#ff3333\" stroke=\"#555555\" stroke-width=\"2.0\" opacity=\"0.6\" d=\"M 535.796610169,213.525423729 L 533.0,212.0 L 532.262295082,213.967213115 L 530.0,220.0 L 521.0,208.0 L 519.909090909,208.181818182 L 514.142857143,209.142857143 L 513.0,210.0 L 511.326086957,210.239130435 L 511.0,211.0 L 506.5,211.0 L 499.627906977,215.581395349 L 495.636363636,211.090909091 L 482.0,202.0 L 477.5,203.0 L 477.136645963,203.080745342 L 477.016839743,203.107368946 L 473.0,204.0 L 467.0,210.0 L 464.0,218.0 L 462.5,220.25 L 453.7,233.45 L 452.275862069,235.586206897 L 452.0,236.0 L 423.225352113,229.605633803 L 422.230769231,229.384615385 L 413.612244898,227.469387755 L 455.0,241.0 L 413.612244898,227.469387755 L 411.05,226.9 L 407.931034483,226.206896552 L 407.0,226.0 L 407.447761194,227.656716418 L 407.447761194,227.656716418 L 407.493962678,227.82766191 L 409.564102564,235.487179487 L 417.0,263.0 L 421.384615385,273.961538462 L 426.0,278.0 L 421.384615385,273.961538462 L 422.090909091,275.727272727 L 423.929881198,276.953254132 L 422.090909091,275.727272727 L 422.333333333,276.333333333 L 423.658415842,278.381188119 L 423.658415842,278.381188119 L 431.866666667,283.133333333 L 433.278688525,283.950819672 L 433.278688525,283.950819672 L 435.514105903,285.245008681 L 437.777777778,286.555555556 L 437.777777778,286.555555556 L 438.086567164,286.734328358 L 435.0,280.0 L 438.086567164,286.734328358 L 442.0,289.0 L 442.0,293.2 L 444.21875,298.96875 L 444.384180791,300.457627119 L 442.0,295.230769231 L 442.0,295.272727273 L 442.0,295.28358209 L 442.0,296.0 L 442.181818182,297.272727273 L 446.0,310.0 L 445.404958678,308.016528926 L 445.52293578,307.220183486 L 448.0,313.0 L 444.218487395,316.025210084 L 444.194960212,316.04403183 L 444.3,315.3 L 444.19047619,316.047619048 L 443.516030043,316.587175965 L 443.175438596,316.859649123 L 443.0,317.0 L 443.0,317.285714286 L 443.0,323.0 L 442.537815126,324.571428571 L 439.547619048,334.738095238 L 441.0,342.0 L 440.384615385,354.307692308 L 441.0,358.0 L 441.157480315,357.960629921 L 441.049443758,361.417799753 L 440.047151277,361.05697446 L 440.0,362.0 L 441.034482759,361.896551724 L 442.086956522,361.791304348 L 442.086956522,361.791304348 L 443.345327336,361.665467266 L 445.862068966,361.413793103 L 450.0,361.0 L 451.090909091,358.454545455 L 455.7,347.7 L 454.0,349.0 L 455.714285714,347.666666667 L 458.4,341.4 L 459.0,340.0 L 462.458646617,342.421052632 L 462.458646617,342.421052632 L 463.444444444,343.111111111 L 467.211894587,345.748326211 L 469.0,347.0 L 475.0,350.0 L 481.0,350.0 L 482.0,350.0 L 481.610738255,354.281879195 L 494.0,360.0 L 516.12371134,359.237113402 L 510.0,364.0 L 500.0,364.0 L 498.0,362.0 L 497.0,361.0 L 485.555555556,361.0 L 483.023255814,358.720930233 L 482.780187716,358.153771338 L 481.525,355.225 L 481.344537815,357.210084034 L 481.302691702,357.670391282 L 481.0,361.0 L 482.525641026,361.08974359 L 482.944444444,361.388888889 L 486.857142857,362.171428571 L 491.0,363.0 L 494.695652174,364.47826087 L 495.880612972,364.952245189 L 497.06557377,365.426229508 L 501.0,367.0 L 502.555555556,366.555555556 L 508.0,365.0 L 510.117647059,364.470588235 L 516.0,363.0 L 520.568862275,359.083832335 L 520.568862275,359.083832335 L 520.585,359.07 L 523.0,357.0 L 524.0,357.0 L 524.666666667,357.0 L 535.0,357.0 L 537.0,357.0 L 547.442622951,355.393442623 L 549.528497409,355.07253886 L 550.0,355.0 L 550.344262295,354.081967213 L 550.344262295,354.081967213 L 553.0,347.0 L 555.146341463,344.658536585 L 562.875,336.227272727 L 564.0,335.0 L 565.0,333.111111111 L 564.0,332.888888889 L 561.097560976,332.243902439 L 560.140625,332.03125 L 564.5,326.8 L 564.5,326.8 L 564.5,326.8 L 564.5,326.8 L 564.923913043,326.291304348 L 565.347826087,325.782608696 L 570.626373626,322.483516484 L 570.991304348,321.794202899 L 573.0,318.0 L 573.597285068,315.162895928 L 573.640105949,314.959496744 L 573.682926829,314.756097561 L 575.0,308.5 L 577.0,299.0 L 577.302325581,291.139534884 L 578.0,273.0 L 575.581967213,259.297814208 L 575.581967213,259.297814208 L 575.0,256.0 L 574.797619048,255.271428571 L 574.797619048,255.271428571 L 574.122381604,252.840573774 L 573.856221508,251.882397427 L 573.551587579,250.785715283 L 573.10536251,249.179305035 L 572.445343807,246.803237704 L 571.153846154,242.153846154 L 569.583333333,237.666666667 L 568.764044944,237.011235955 L 568.057335566,236.445868452 L 566.789865068,235.431892055 L 566.0,234.8 L 560.0,230.0 L 544.0,218.0 L 537.771084337,214.602409639 L 537.031775822,214.199150448 L 535.796610169,213.525423729 z M 444.384180791,300.457627119 L 444.384180791,300.457627119 L 444.384180791,300.457627119 L 444.384180791,300.457627119 z M 481.344537815,357.210084034 L 481.344537815,357.210084034 L 481.344537815,357.210084034 L 481.344537815,357.210084034 z M 576.0,276.0 L 576.756097561,283.56097561 L 576.756097561,283.56097561 L 576.756097561,283.56097561 L 576.756097561,283.56097561 L 576.0,276.0 z M 576.756097561,283.56097561 L 576.857142857,284.571428571 L 576.0,300.0 L 575.0,305.0 L 575.0,302.0 L 575.918918919,292.351351351 L 575.918918919,292.351351351 L 576.756097561,283.56097561 z M 573.666666667,260.666666667 L 574.0,262.0 L 573.666666667,260.666666667 L 573.666666667,260.666666667 z M 573.666666667,260.666666667 L 573.666666667,260.666666667 L 573.666666667,260.666666667 L 573.666666667,260.666666667 z M 443.104411765,323.76875 L 443.104411765,323.76875 L 450.0,314.0 L 443.104411765,323.76875 L 443.104411765,323.76875 z M 576.0,275.333333333 L 576.0,269.25 L 577.0,281.0 L 576.941747573,281.611650485 L 576.0,275.333333333 z M 458.627345844,234.73458445 L 458.620831932,234.731110364 L 458.627301399,234.734560746 L 458.627345844,234.73458445 z M 453.0,238.0 L 456.213114754,233.868852459 L 456.213114754,233.868852459 L 456.213114754,233.868852459 L 453.0,238.0 z M 573.222222222,258.888888889 L 573.222222222,258.888888889 L 573.626262626,259.777777778 L 573.666666667,260.666666667 L 573.439702567,259.758810268 L 573.222222222,258.888888889 z M 575.107929515,263.037444934 L 575.325318246,261.322489392 L 575.554973822,264.020942408 L 575.107929515,263.037444934 z M 431.253333333,282.596666667 L 427.6,279.4 L 427.6,279.4 L 431.253333333,282.596666667 z M 430.0,281.0 L 432.0,282.8 L 436.655647383,285.826170799 L 432.0,282.8 L 430.0,281.0 z M 482.366935664,358.130242098 L 482.39944061,358.159496549 L 483.023255814,358.720930233 L 482.366935664,358.130242098 z\" /></g></g></svg>"
      ],
      "text/plain": [
       "<shapely.geometry.multipolygon.MultiPolygon at 0x112209050>"
      ]
     },
     "execution_count": 114,
     "metadata": {},
     "output_type": "execute_result"
    }
   ],
   "source": [
    "cascaded_union(xj_lst)"
   ]
  },
  {
   "cell_type": "code",
   "execution_count": 112,
   "metadata": {
    "collapsed": false
   },
   "outputs": [
    {
     "data": {
      "image/svg+xml": [
       "<svg xmlns=\"http://www.w3.org/2000/svg\" xmlns:xlink=\"http://www.w3.org/1999/xlink\" width=\"184.68\" height=\"178.68\" viewBox=\"400.16 195.16 184.68 178.68\" preserveAspectRatio=\"xMinYMin meet\"><g transform=\"matrix(1,0,0,-1,0,569.0)\"><path fill-rule=\"evenodd\" fill=\"#66cc99\" stroke=\"#555555\" stroke-width=\"2.0\" opacity=\"0.6\" d=\"M 482.0,202.0 L 473.0,204.0 L 467.0,210.0 L 464.0,218.0 L 452.0,236.0 L 407.0,226.0 L 417.0,263.0 L 423.0,278.0 L 442.0,289.0 L 442.0,296.0 L 444.0,310.0 L 438.0,327.0 L 441.0,342.0 L 440.0,362.0 L 450.0,361.0 L 459.0,340.0 L 469.0,347.0 L 475.0,350.0 L 482.0,350.0 L 481.0,361.0 L 491.0,363.0 L 501.0,367.0 L 508.0,365.0 L 516.0,363.0 L 523.0,357.0 L 537.0,357.0 L 550.0,355.0 L 553.0,347.0 L 564.0,335.0 L 573.0,318.0 L 577.0,299.0 L 578.0,273.0 L 575.0,256.0 L 570.0,238.0 L 560.0,230.0 L 544.0,218.0 L 533.0,212.0 L 530.0,220.0 L 521.0,208.0 L 497.0,212.0 L 482.0,202.0 z\" /></g></svg>"
      ],
      "text/plain": [
       "<shapely.geometry.polygon.Polygon at 0x11150dc50>"
      ]
     },
     "execution_count": 112,
     "metadata": {},
     "output_type": "execute_result"
    }
   ],
   "source": [
    "bi"
   ]
  },
  {
   "cell_type": "code",
   "execution_count": 107,
   "metadata": {
    "collapsed": false
   },
   "outputs": [],
   "source": [
    "shapely."
   ]
  },
  {
   "cell_type": "code",
   "execution_count": 125,
   "metadata": {
    "collapsed": false
   },
   "outputs": [
    {
     "name": "stderr",
     "output_type": "stream",
     "text": [
      "ERROR:shapely.geos:TopologyException: Input geom 1 is invalid: Self-intersection at or near point 564.5 326.79999999999995 at 564.5 326.79999999999995\n",
      "WARNING:shapely.geos:Self-intersection at or near point 564.5 326.79999999999995\n"
     ]
    },
    {
     "ename": "TopologicalError",
     "evalue": "The operation 'GEOSDifference_r' could not be performed. Likely cause is invalidity of the geometry <shapely.geometry.multipolygon.MultiPolygon object at 0x111a04ed0>",
     "output_type": "error",
     "traceback": [
      "\u001b[0;31m---------------------------------------------------------------------------\u001b[0m",
      "\u001b[0;31mTopologicalError\u001b[0m                          Traceback (most recent call last)",
      "\u001b[0;32m<ipython-input-125-0cb2c9dae991>\u001b[0m in \u001b[0;36m<module>\u001b[0;34m()\u001b[0m\n\u001b[0;32m----> 1\u001b[0;31m \u001b[0mbi\u001b[0m\u001b[0;34m.\u001b[0m\u001b[0mdifference\u001b[0m\u001b[0;34m(\u001b[0m\u001b[0mcascaded_union\u001b[0m\u001b[0;34m(\u001b[0m\u001b[0mxj_lst\u001b[0m\u001b[0;34m)\u001b[0m\u001b[0;34m)\u001b[0m\u001b[0;34m\u001b[0m\u001b[0m\n\u001b[0m",
      "\u001b[0;32m/Users/dorislee/.virtualenvs/py27dev/lib/python2.7/site-packages/shapely/geometry/base.pyc\u001b[0m in \u001b[0;36mdifference\u001b[0;34m(self, other)\u001b[0m\n\u001b[1;32m    614\u001b[0m     \u001b[0;32mdef\u001b[0m \u001b[0mdifference\u001b[0m\u001b[0;34m(\u001b[0m\u001b[0mself\u001b[0m\u001b[0;34m,\u001b[0m \u001b[0mother\u001b[0m\u001b[0;34m)\u001b[0m\u001b[0;34m:\u001b[0m\u001b[0;34m\u001b[0m\u001b[0m\n\u001b[1;32m    615\u001b[0m         \u001b[0;34m\"\"\"Returns the difference of the geometries\"\"\"\u001b[0m\u001b[0;34m\u001b[0m\u001b[0m\n\u001b[0;32m--> 616\u001b[0;31m         \u001b[0;32mreturn\u001b[0m \u001b[0mgeom_factory\u001b[0m\u001b[0;34m(\u001b[0m\u001b[0mself\u001b[0m\u001b[0;34m.\u001b[0m\u001b[0mimpl\u001b[0m\u001b[0;34m[\u001b[0m\u001b[0;34m'difference'\u001b[0m\u001b[0;34m]\u001b[0m\u001b[0;34m(\u001b[0m\u001b[0mself\u001b[0m\u001b[0;34m,\u001b[0m \u001b[0mother\u001b[0m\u001b[0;34m)\u001b[0m\u001b[0;34m)\u001b[0m\u001b[0;34m\u001b[0m\u001b[0m\n\u001b[0m\u001b[1;32m    617\u001b[0m \u001b[0;34m\u001b[0m\u001b[0m\n\u001b[1;32m    618\u001b[0m     \u001b[0;32mdef\u001b[0m \u001b[0mintersection\u001b[0m\u001b[0;34m(\u001b[0m\u001b[0mself\u001b[0m\u001b[0;34m,\u001b[0m \u001b[0mother\u001b[0m\u001b[0;34m)\u001b[0m\u001b[0;34m:\u001b[0m\u001b[0;34m\u001b[0m\u001b[0m\n",
      "\u001b[0;32m/Users/dorislee/.virtualenvs/py27dev/lib/python2.7/site-packages/shapely/topology.pyc\u001b[0m in \u001b[0;36m__call__\u001b[0;34m(self, this, other, *args)\u001b[0m\n\u001b[1;32m     68\u001b[0m             err = TopologicalError(\n\u001b[1;32m     69\u001b[0m                     \"This operation could not be performed. Reason: unknown\")\n\u001b[0;32m---> 70\u001b[0;31m             \u001b[0mself\u001b[0m\u001b[0;34m.\u001b[0m\u001b[0m_check_topology\u001b[0m\u001b[0;34m(\u001b[0m\u001b[0merr\u001b[0m\u001b[0;34m,\u001b[0m \u001b[0mthis\u001b[0m\u001b[0;34m,\u001b[0m \u001b[0mother\u001b[0m\u001b[0;34m)\u001b[0m\u001b[0;34m\u001b[0m\u001b[0m\n\u001b[0m\u001b[1;32m     71\u001b[0m         \u001b[0;32mreturn\u001b[0m \u001b[0mproduct\u001b[0m\u001b[0;34m\u001b[0m\u001b[0m\n\u001b[1;32m     72\u001b[0m \u001b[0;34m\u001b[0m\u001b[0m\n",
      "\u001b[0;32m/Users/dorislee/.virtualenvs/py27dev/lib/python2.7/site-packages/shapely/topology.pyc\u001b[0m in \u001b[0;36m_check_topology\u001b[0;34m(self, err, *geoms)\u001b[0m\n\u001b[1;32m     36\u001b[0m                     \u001b[0;34m\"The operation '%s' could not be performed. \"\u001b[0m\u001b[0;34m\u001b[0m\u001b[0m\n\u001b[1;32m     37\u001b[0m                     \"Likely cause is invalidity of the geometry %s\" % (\n\u001b[0;32m---> 38\u001b[0;31m                         self.fn.__name__, repr(geom)))\n\u001b[0m\u001b[1;32m     39\u001b[0m         \u001b[0;32mraise\u001b[0m \u001b[0merr\u001b[0m\u001b[0;34m\u001b[0m\u001b[0m\n\u001b[1;32m     40\u001b[0m \u001b[0;34m\u001b[0m\u001b[0m\n",
      "\u001b[0;31mTopologicalError\u001b[0m: The operation 'GEOSDifference_r' could not be performed. Likely cause is invalidity of the geometry <shapely.geometry.multipolygon.MultiPolygon object at 0x111a04ed0>"
     ]
    }
   ],
   "source": [
    "bi.difference(cascaded_union(xj_lst).buffer(1e-10))"
   ]
  },
  {
   "cell_type": "code",
   "execution_count": 108,
   "metadata": {
    "collapsed": false
   },
   "outputs": [],
   "source": [
    "join = cascaded_union(xj_lst)"
   ]
  },
  {
   "cell_type": "code",
   "execution_count": 117,
   "metadata": {
    "collapsed": false
   },
   "outputs": [
    {
     "data": {
      "text/plain": [
       "True"
      ]
     },
     "execution_count": 117,
     "metadata": {},
     "output_type": "execute_result"
    }
   ],
   "source": [
    "join.buffer(0).is_valid"
   ]
  },
  {
   "cell_type": "code",
   "execution_count": 109,
   "metadata": {
    "collapsed": false
   },
   "outputs": [
    {
     "data": {
      "image/svg+xml": [
       "<svg xmlns=\"http://www.w3.org/2000/svg\" xmlns:xlink=\"http://www.w3.org/1999/xlink\" width=\"184.68\" height=\"178.68\" viewBox=\"400.16 195.16 184.68 178.68\" preserveAspectRatio=\"xMinYMin meet\"><g transform=\"matrix(1,0,0,-1,0,569.0)\"><g><path fill-rule=\"evenodd\" fill=\"#66cc99\" stroke=\"#555555\" stroke-width=\"2.0\" opacity=\"0.6\" d=\"M 535.796610169,213.525423729 L 533.0,212.0 L 532.262295082,213.967213115 L 530.0,220.0 L 521.0,208.0 L 519.909090909,208.181818182 L 514.142857143,209.142857143 L 513.0,210.0 L 511.326086957,210.239130435 L 511.0,211.0 L 506.5,211.0 L 499.627906977,215.581395349 L 495.636363636,211.090909091 L 482.0,202.0 L 477.5,203.0 L 477.136645963,203.080745342 L 477.016839743,203.107368946 L 473.0,204.0 L 467.0,210.0 L 464.0,218.0 L 462.5,220.25 L 453.7,233.45 L 452.275862069,235.586206897 L 452.0,236.0 L 423.225352113,229.605633803 L 422.230769231,229.384615385 L 413.612244898,227.469387755 L 455.0,241.0 L 413.612244898,227.469387755 L 411.05,226.9 L 407.931034483,226.206896552 L 407.0,226.0 L 407.447761194,227.656716418 L 407.447761194,227.656716418 L 407.493962678,227.82766191 L 409.564102564,235.487179487 L 417.0,263.0 L 421.384615385,273.961538462 L 426.0,278.0 L 421.384615385,273.961538462 L 422.090909091,275.727272727 L 423.929881198,276.953254132 L 422.090909091,275.727272727 L 422.333333333,276.333333333 L 423.658415842,278.381188119 L 423.658415842,278.381188119 L 431.866666667,283.133333333 L 433.278688525,283.950819672 L 433.278688525,283.950819672 L 435.514105903,285.245008681 L 437.777777778,286.555555556 L 437.777777778,286.555555556 L 438.086567164,286.734328358 L 435.0,280.0 L 438.086567164,286.734328358 L 442.0,289.0 L 442.0,293.2 L 444.21875,298.96875 L 444.384180791,300.457627119 L 442.0,295.230769231 L 442.0,295.272727273 L 442.0,295.28358209 L 442.0,296.0 L 442.181818182,297.272727273 L 446.0,310.0 L 445.404958678,308.016528926 L 445.52293578,307.220183486 L 448.0,313.0 L 444.218487395,316.025210084 L 444.194960212,316.04403183 L 444.3,315.3 L 444.19047619,316.047619048 L 443.516030043,316.587175965 L 443.175438596,316.859649123 L 443.0,317.0 L 443.0,317.285714286 L 443.0,323.0 L 442.537815126,324.571428571 L 439.547619048,334.738095238 L 441.0,342.0 L 440.384615385,354.307692308 L 441.0,358.0 L 441.157480315,357.960629921 L 441.049443758,361.417799753 L 440.047151277,361.05697446 L 440.0,362.0 L 441.034482759,361.896551724 L 442.086956522,361.791304348 L 442.086956522,361.791304348 L 443.345327336,361.665467266 L 445.862068966,361.413793103 L 450.0,361.0 L 451.090909091,358.454545455 L 455.7,347.7 L 454.0,349.0 L 455.714285714,347.666666667 L 458.4,341.4 L 459.0,340.0 L 462.458646617,342.421052632 L 462.458646617,342.421052632 L 463.444444444,343.111111111 L 467.211894587,345.748326211 L 469.0,347.0 L 475.0,350.0 L 481.0,350.0 L 482.0,350.0 L 481.610738255,354.281879195 L 494.0,360.0 L 516.12371134,359.237113402 L 510.0,364.0 L 500.0,364.0 L 498.0,362.0 L 497.0,361.0 L 485.555555556,361.0 L 483.023255814,358.720930233 L 482.780187716,358.153771338 L 481.525,355.225 L 481.344537815,357.210084034 L 481.302691702,357.670391282 L 481.0,361.0 L 482.525641026,361.08974359 L 482.944444444,361.388888889 L 486.857142857,362.171428571 L 491.0,363.0 L 494.695652174,364.47826087 L 495.880612972,364.952245189 L 497.06557377,365.426229508 L 501.0,367.0 L 502.555555556,366.555555556 L 508.0,365.0 L 510.117647059,364.470588235 L 516.0,363.0 L 520.568862275,359.083832335 L 520.568862275,359.083832335 L 520.585,359.07 L 523.0,357.0 L 524.0,357.0 L 524.666666667,357.0 L 535.0,357.0 L 537.0,357.0 L 547.442622951,355.393442623 L 549.528497409,355.07253886 L 550.0,355.0 L 550.344262295,354.081967213 L 550.344262295,354.081967213 L 553.0,347.0 L 555.146341463,344.658536585 L 562.875,336.227272727 L 564.0,335.0 L 565.0,333.111111111 L 564.0,332.888888889 L 561.097560976,332.243902439 L 560.140625,332.03125 L 564.5,326.8 L 564.5,326.8 L 564.923913043,326.291304348 L 565.347826087,325.782608696 L 570.626373626,322.483516484 L 570.991304348,321.794202899 L 573.0,318.0 L 573.597285068,315.162895928 L 573.640105949,314.959496744 L 573.682926829,314.756097561 L 575.0,308.5 L 577.0,299.0 L 577.302325581,291.139534884 L 578.0,273.0 L 575.581967213,259.297814208 L 575.581967213,259.297814208 L 575.0,256.0 L 574.797619048,255.271428571 L 574.797619048,255.271428571 L 574.122381604,252.840573774 L 573.856221508,251.882397427 L 573.551587579,250.785715283 L 573.10536251,249.179305035 L 572.445343807,246.803237704 L 571.153846154,242.153846154 L 569.583333333,237.666666667 L 568.764044944,237.011235955 L 568.057335566,236.445868452 L 566.789865068,235.431892055 L 566.0,234.8 L 560.0,230.0 L 544.0,218.0 L 537.771084337,214.602409639 L 537.031775822,214.199150448 L 535.796610169,213.525423729 z M 444.384180791,300.457627119 L 444.384180791,300.457627119 L 444.384180791,300.457627119 L 444.384180791,300.457627119 z M 481.344537815,357.210084034 L 481.344537815,357.210084034 L 481.344537815,357.210084034 L 481.344537815,357.210084034 z M 576.0,276.0 L 576.756097561,283.56097561 L 576.756097561,283.56097561 L 576.0,276.0 z M 576.756097561,283.56097561 L 576.857142857,284.571428571 L 576.0,300.0 L 575.0,305.0 L 575.0,302.0 L 575.918918919,292.351351351 L 575.918918919,292.351351351 L 576.756097561,283.56097561 z M 573.666666667,260.666666667 L 574.0,262.0 L 573.666666667,260.666666667 L 573.666666667,260.666666667 z M 573.666666667,260.666666667 L 573.666666667,260.666666667 L 573.666666667,260.666666667 L 573.666666667,260.666666667 z M 443.104411765,323.76875 L 443.104411765,323.76875 L 450.0,314.0 L 443.104411765,323.76875 L 443.104411765,323.76875 z M 576.0,275.333333333 L 576.0,269.25 L 577.0,281.0 L 576.941747573,281.611650485 L 576.0,275.333333333 z M 458.627345844,234.73458445 L 458.620831932,234.731110364 L 458.627301399,234.734560746 L 458.627345844,234.73458445 z M 453.0,238.0 L 456.213114754,233.868852459 L 456.213114754,233.868852459 L 456.213114754,233.868852459 L 453.0,238.0 z M 573.222222222,258.888888889 L 573.222222222,258.888888889 L 573.626262626,259.777777778 L 573.666666667,260.666666667 L 573.439702567,259.758810268 L 573.222222222,258.888888889 z M 575.107929515,263.037444934 L 575.325318246,261.322489392 L 575.554973822,264.020942408 L 575.107929515,263.037444934 z M 431.253333333,282.596666667 L 427.6,279.4 L 427.6,279.4 L 431.253333333,282.596666667 z M 430.0,281.0 L 432.0,282.8 L 436.655647383,285.826170799 L 432.0,282.8 L 430.0,281.0 z M 482.366935664,358.130242098 L 482.39944061,358.159496549 L 483.023255814,358.720930233 L 482.366935664,358.130242098 z\" /><path fill-rule=\"evenodd\" fill=\"#66cc99\" stroke=\"#555555\" stroke-width=\"2.0\" opacity=\"0.6\" d=\"M 506.777777778,210.888888889 L 506.77,210.89 L 506.636363636,210.909090909 L 507.666666667,210.222222222 L 497.133333333,211.977777778 L 498.0625,212.984375 L 499.0,214.0 L 506.5,211.0 L 506.777777778,210.888888889 z\" /></g></g></svg>"
      ],
      "text/plain": [
       "<shapely.geometry.multipolygon.MultiPolygon at 0x111e14c10>"
      ]
     },
     "execution_count": 109,
     "metadata": {},
     "output_type": "execute_result"
    }
   ],
   "source": [
    "join.union(join)"
   ]
  },
  {
   "cell_type": "code",
   "execution_count": 132,
   "metadata": {
    "collapsed": false
   },
   "outputs": [
    {
     "data": {
      "text/plain": [
       "[<shapely.geometry.polygon.Polygon at 0x1120b7f50>,\n",
       " <shapely.geometry.polygon.Polygon at 0x1120b77d0>,\n",
       " <shapely.geometry.polygon.Polygon at 0x111a48990>,\n",
       " <shapely.geometry.polygon.Polygon at 0x111d98190>,\n",
       " <shapely.geometry.polygon.Polygon at 0x111e0db50>,\n",
       " <shapely.geometry.polygon.Polygon at 0x1120b7410>,\n",
       " <shapely.geometry.polygon.Polygon at 0x111d922d0>,\n",
       " <shapely.geometry.polygon.Polygon at 0x111786590>,\n",
       " <shapely.geometry.multipolygon.MultiPolygon at 0x111dfb410>,\n",
       " <shapely.geometry.polygon.Polygon at 0x111e08e90>,\n",
       " <shapely.geometry.polygon.Polygon at 0x111d92cd0>,\n",
       " <shapely.geometry.polygon.Polygon at 0x111d92dd0>,\n",
       " <shapely.geometry.polygon.Polygon at 0x111e08710>,\n",
       " <shapely.geometry.polygon.Polygon at 0x111dfb390>,\n",
       " <shapely.geometry.polygon.Polygon at 0x111e08910>,\n",
       " <shapely.geometry.polygon.Polygon at 0x111e14690>,\n",
       " <shapely.geometry.polygon.Polygon at 0x111e0d9d0>,\n",
       " <shapely.geometry.polygon.Polygon at 0x1116f49d0>,\n",
       " <shapely.geometry.polygon.Polygon at 0x111e01650>,\n",
       " <shapely.geometry.polygon.Polygon at 0x112209190>,\n",
       " <shapely.geometry.polygon.Polygon at 0x111e08490>,\n",
       " <shapely.geometry.polygon.Polygon at 0x1121d1650>,\n",
       " <shapely.geometry.polygon.Polygon at 0x111d927d0>,\n",
       " <shapely.geometry.polygon.Polygon at 0x1116f4bd0>,\n",
       " <shapely.geometry.polygon.Polygon at 0x1121d1290>,\n",
       " <shapely.geometry.polygon.Polygon at 0x1120dd1d0>,\n",
       " <shapely.geometry.polygon.Polygon at 0x1121d1e10>,\n",
       " <shapely.geometry.polygon.Polygon at 0x1120dd290>,\n",
       " <shapely.geometry.polygon.Polygon at 0x1112f3350>,\n",
       " <shapely.geometry.polygon.Polygon at 0x1117ab950>,\n",
       " <shapely.geometry.polygon.Polygon at 0x1121d1790>,\n",
       " <shapely.geometry.polygon.Polygon at 0x1117ab3d0>,\n",
       " <shapely.geometry.polygon.Polygon at 0x1114abed0>,\n",
       " <shapely.geometry.polygon.Polygon at 0x111a48f10>,\n",
       " <shapely.geometry.polygon.Polygon at 0x1121d17d0>,\n",
       " <shapely.geometry.polygon.Polygon at 0x111dfb050>,\n",
       " <shapely.geometry.polygon.Polygon at 0x111e012d0>,\n",
       " <shapely.geometry.polygon.Polygon at 0x1120b7190>,\n",
       " <shapely.geometry.polygon.Polygon at 0x111e08510>,\n",
       " <shapely.geometry.collection.GeometryCollection at 0x112209850>,\n",
       " <shapely.geometry.polygon.Polygon at 0x111e011d0>,\n",
       " <shapely.geometry.polygon.Polygon at 0x1119d9810>,\n",
       " <shapely.geometry.polygon.Polygon at 0x1116f4dd0>,\n",
       " <shapely.geometry.polygon.Polygon at 0x111eaefd0>,\n",
       " <shapely.geometry.polygon.Polygon at 0x111d98490>,\n",
       " <shapely.geometry.multipolygon.MultiPolygon at 0x111e0d2d0>,\n",
       " <shapely.geometry.polygon.Polygon at 0x1120fe150>,\n",
       " <shapely.geometry.polygon.Polygon at 0x1120fe690>,\n",
       " <shapely.geometry.multipolygon.MultiPolygon at 0x1120fedd0>,\n",
       " <shapely.geometry.polygon.Polygon at 0x1120fe710>,\n",
       " <shapely.geometry.polygon.Polygon at 0x1120feb90>,\n",
       " <shapely.geometry.multipolygon.MultiPolygon at 0x1120fecd0>,\n",
       " <shapely.geometry.polygon.Polygon at 0x1114d2610>,\n",
       " <shapely.geometry.polygon.Polygon at 0x111ea8710>,\n",
       " <shapely.geometry.polygon.Polygon at 0x1121d1050>,\n",
       " <shapely.geometry.polygon.Polygon at 0x11210fd50>,\n",
       " <shapely.geometry.polygon.Polygon at 0x1121d1950>,\n",
       " <shapely.geometry.collection.GeometryCollection at 0x11210f150>,\n",
       " <shapely.geometry.polygon.Polygon at 0x11210f9d0>,\n",
       " <shapely.geometry.polygon.Polygon at 0x11210fcd0>,\n",
       " <shapely.geometry.polygon.Polygon at 0x10df92350>,\n",
       " <shapely.geometry.polygon.Polygon at 0x111e08290>,\n",
       " <shapely.geometry.polygon.Polygon at 0x1112f3710>,\n",
       " <shapely.geometry.polygon.Polygon at 0x1112f3590>,\n",
       " <shapely.geometry.polygon.Polygon at 0x1117ab390>,\n",
       " <shapely.geometry.polygon.Polygon at 0x1117abb90>,\n",
       " <shapely.geometry.polygon.Polygon at 0x1114abb50>,\n",
       " <shapely.geometry.polygon.Polygon at 0x111d8cb10>,\n",
       " <shapely.geometry.polygon.Polygon at 0x111eae7d0>,\n",
       " <shapely.geometry.polygon.Polygon at 0x111eae5d0>,\n",
       " <shapely.geometry.polygon.Polygon at 0x111eae3d0>,\n",
       " <shapely.geometry.polygon.Polygon at 0x111eaee50>,\n",
       " <shapely.geometry.polygon.Polygon at 0x1114d2890>,\n",
       " <shapely.geometry.polygon.Polygon at 0x1124f04d0>,\n",
       " <shapely.geometry.polygon.Polygon at 0x111ea8110>,\n",
       " <shapely.geometry.polygon.Polygon at 0x111ea8790>,\n",
       " <shapely.geometry.polygon.Polygon at 0x111ea8b90>,\n",
       " <shapely.geometry.polygon.Polygon at 0x111ea8d10>,\n",
       " <shapely.geometry.polygon.Polygon at 0x111ea8f50>,\n",
       " <shapely.geometry.polygon.Polygon at 0x1120b7dd0>,\n",
       " <shapely.geometry.multipolygon.MultiPolygon at 0x111e01350>,\n",
       " <shapely.geometry.polygon.Polygon at 0x111dfbf50>,\n",
       " <shapely.geometry.polygon.Polygon at 0x111e0ddd0>,\n",
       " <shapely.geometry.polygon.Polygon at 0x111253310>,\n",
       " <shapely.geometry.collection.GeometryCollection at 0x111dfb310>,\n",
       " <shapely.geometry.multipolygon.MultiPolygon at 0x111e08810>,\n",
       " <shapely.geometry.polygon.Polygon at 0x111e08110>,\n",
       " <shapely.geometry.multipolygon.MultiPolygon at 0x1120dd990>,\n",
       " <shapely.geometry.polygon.Polygon at 0x111d92c50>,\n",
       " <shapely.geometry.polygon.Polygon at 0x1124f0b10>,\n",
       " <shapely.geometry.polygon.Polygon at 0x11210fc90>,\n",
       " <shapely.geometry.polygon.Polygon at 0x111e0d850>,\n",
       " <shapely.geometry.polygon.Polygon at 0x1120ddb90>,\n",
       " <shapely.geometry.polygon.Polygon at 0x111e14fd0>,\n",
       " <shapely.geometry.polygon.Polygon at 0x11210fa10>,\n",
       " <shapely.geometry.polygon.Polygon at 0x1121d1150>,\n",
       " <shapely.geometry.polygon.Polygon at 0x111d92250>,\n",
       " <shapely.geometry.multipolygon.MultiPolygon at 0x1120fe250>,\n",
       " <shapely.geometry.polygon.Polygon at 0x111d8c610>,\n",
       " <shapely.geometry.polygon.Polygon at 0x111a48290>,\n",
       " <shapely.geometry.polygon.Polygon at 0x1112f3810>,\n",
       " <shapely.geometry.polygon.Polygon at 0x111e0dc50>,\n",
       " <shapely.geometry.polygon.Polygon at 0x1124175d0>,\n",
       " <shapely.geometry.multipolygon.MultiPolygon at 0x1112f3790>,\n",
       " <shapely.geometry.collection.GeometryCollection at 0x1124174d0>,\n",
       " <shapely.geometry.polygon.Polygon at 0x111d926d0>,\n",
       " <shapely.geometry.polygon.Polygon at 0x11210f750>,\n",
       " <shapely.geometry.polygon.Polygon at 0x11210fad0>,\n",
       " <shapely.geometry.polygon.Polygon at 0x111d8c910>,\n",
       " <shapely.geometry.polygon.Polygon at 0x112417250>,\n",
       " <shapely.geometry.polygon.Polygon at 0x1121d1e50>,\n",
       " <shapely.geometry.polygon.Polygon at 0x112417e50>,\n",
       " <shapely.geometry.polygon.Polygon at 0x1120fe610>,\n",
       " <shapely.geometry.polygon.Polygon at 0x1121d1f10>,\n",
       " <shapely.geometry.polygon.Polygon at 0x112417110>,\n",
       " <shapely.geometry.multipolygon.MultiPolygon at 0x112417650>,\n",
       " <shapely.geometry.polygon.Polygon at 0x112417390>,\n",
       " <shapely.geometry.polygon.Polygon at 0x1124f9290>,\n",
       " <shapely.geometry.polygon.Polygon at 0x112417850>,\n",
       " <shapely.geometry.polygon.Polygon at 0x112417b90>,\n",
       " <shapely.geometry.polygon.Polygon at 0x111eaedd0>,\n",
       " <shapely.geometry.polygon.Polygon at 0x111eae1d0>,\n",
       " <shapely.geometry.polygon.Polygon at 0x111eaed50>,\n",
       " <shapely.geometry.polygon.Polygon at 0x1114d2250>,\n",
       " <shapely.geometry.polygon.Polygon at 0x1117ab690>,\n",
       " <shapely.geometry.polygon.Polygon at 0x1114ab550>,\n",
       " <shapely.geometry.multipolygon.MultiPolygon at 0x1114d2210>,\n",
       " <shapely.geometry.polygon.Polygon at 0x111ea8490>,\n",
       " <shapely.geometry.polygon.Polygon at 0x1124f90d0>,\n",
       " <shapely.geometry.polygon.Polygon at 0x111eae950>,\n",
       " <shapely.geometry.polygon.Polygon at 0x111ea8290>,\n",
       " <shapely.geometry.polygon.Polygon at 0x1124f9050>,\n",
       " <shapely.geometry.polygon.Polygon at 0x1124f05d0>,\n",
       " <shapely.geometry.multipolygon.MultiPolygon at 0x111ea8e90>,\n",
       " <shapely.geometry.polygon.Polygon at 0x111dfb790>,\n",
       " <shapely.geometry.polygon.Polygon at 0x1124f0510>,\n",
       " <shapely.geometry.polygon.Polygon at 0x111e9c310>,\n",
       " <shapely.geometry.polygon.Polygon at 0x1124f0910>,\n",
       " <shapely.geometry.polygon.Polygon at 0x1124f0d90>,\n",
       " <shapely.geometry.polygon.Polygon at 0x1124f0ed0>,\n",
       " <shapely.geometry.polygon.Polygon at 0x1124f0690>,\n",
       " <shapely.geometry.polygon.Polygon at 0x1120febd0>,\n",
       " <shapely.geometry.polygon.Polygon at 0x1124f0050>,\n",
       " <shapely.geometry.polygon.Polygon at 0x1124f02d0>,\n",
       " <shapely.geometry.polygon.Polygon at 0x1112f3b50>,\n",
       " <shapely.geometry.polygon.Polygon at 0x1124f0390>,\n",
       " <shapely.geometry.polygon.Polygon at 0x1124f0890>,\n",
       " <shapely.geometry.polygon.Polygon at 0x1124f0a10>,\n",
       " <shapely.geometry.polygon.Polygon at 0x1124f0e50>,\n",
       " <shapely.geometry.polygon.Polygon at 0x112417150>,\n",
       " <shapely.geometry.polygon.Polygon at 0x1124f0cd0>,\n",
       " <shapely.geometry.polygon.Polygon at 0x111eaec50>,\n",
       " <shapely.geometry.polygon.Polygon at 0x1124f9490>,\n",
       " <shapely.geometry.polygon.Polygon at 0x1124f9650>,\n",
       " <shapely.geometry.polygon.Polygon at 0x1124f98d0>,\n",
       " <shapely.geometry.polygon.Polygon at 0x1124f9910>,\n",
       " <shapely.geometry.polygon.Polygon at 0x1124f9a10>,\n",
       " <shapely.geometry.polygon.Polygon at 0x1124f9ad0>,\n",
       " <shapely.geometry.polygon.Polygon at 0x1124f9c10>,\n",
       " <shapely.geometry.polygon.Polygon at 0x111e9c790>,\n",
       " <shapely.geometry.polygon.Polygon at 0x1124f9350>,\n",
       " <shapely.geometry.multipolygon.MultiPolygon at 0x111e9c610>,\n",
       " <shapely.geometry.polygon.Polygon at 0x111e9c490>,\n",
       " <shapely.geometry.polygon.Polygon at 0x111e9cc90>,\n",
       " <shapely.geometry.polygon.Polygon at 0x111e95ad0>,\n",
       " <shapely.geometry.polygon.Polygon at 0x111e9c690>,\n",
       " <shapely.geometry.polygon.Polygon at 0x111e9c110>,\n",
       " <shapely.geometry.polygon.Polygon at 0x111e9cfd0>,\n",
       " <shapely.geometry.polygon.Polygon at 0x111e9ca90>,\n",
       " <shapely.geometry.polygon.Polygon at 0x111e95dd0>,\n",
       " <shapely.geometry.polygon.Polygon at 0x111e956d0>,\n",
       " <shapely.geometry.polygon.Polygon at 0x111e95850>,\n",
       " <shapely.geometry.polygon.Polygon at 0x111e95150>,\n",
       " <shapely.geometry.polygon.Polygon at 0x111e951d0>,\n",
       " <shapely.geometry.polygon.Polygon at 0x111e95ed0>,\n",
       " <shapely.geometry.polygon.Polygon at 0x111e95c50>,\n",
       " <shapely.geometry.polygon.Polygon at 0x111e7d1d0>,\n",
       " <shapely.geometry.polygon.Polygon at 0x111e7dad0>,\n",
       " <shapely.geometry.polygon.Polygon at 0x111e7dcd0>,\n",
       " <shapely.geometry.polygon.Polygon at 0x111e7d6d0>,\n",
       " <shapely.geometry.polygon.Polygon at 0x111e7d250>,\n",
       " <shapely.geometry.polygon.Polygon at 0x111e7ddd0>,\n",
       " <shapely.geometry.polygon.Polygon at 0x111e7d350>,\n",
       " <shapely.geometry.polygon.Polygon at 0x111e7dc50>,\n",
       " <shapely.geometry.polygon.Polygon at 0x111ea2090>,\n",
       " <shapely.geometry.polygon.Polygon at 0x111e7de50>,\n",
       " <shapely.geometry.polygon.Polygon at 0x111ea25d0>,\n",
       " <shapely.geometry.polygon.Polygon at 0x111ea2ed0>,\n",
       " <shapely.geometry.polygon.Polygon at 0x111ea2ad0>,\n",
       " <shapely.geometry.polygon.Polygon at 0x111ea2bd0>,\n",
       " <shapely.geometry.polygon.Polygon at 0x111ea28d0>,\n",
       " <shapely.geometry.polygon.Polygon at 0x111ea26d0>,\n",
       " <shapely.geometry.polygon.Polygon at 0x111ea27d0>,\n",
       " <shapely.geometry.polygon.Polygon at 0x111ea2d50>,\n",
       " <shapely.geometry.polygon.Polygon at 0x111dfbd10>,\n",
       " <shapely.geometry.polygon.Polygon at 0x111ea2750>,\n",
       " <shapely.geometry.polygon.Polygon at 0x111dfbc90>,\n",
       " <shapely.geometry.polygon.Polygon at 0x111ea23d0>,\n",
       " <shapely.geometry.polygon.Polygon at 0x111ea24d0>,\n",
       " <shapely.geometry.polygon.Polygon at 0x111ea2e50>,\n",
       " <shapely.geometry.polygon.Polygon at 0x111ea2cd0>,\n",
       " <shapely.geometry.polygon.Polygon at 0x111ea2650>,\n",
       " <shapely.geometry.polygon.Polygon at 0x111ea21d0>,\n",
       " <shapely.geometry.polygon.Polygon at 0x111ea2850>,\n",
       " <shapely.geometry.polygon.Polygon at 0x111ea2250>,\n",
       " <shapely.geometry.polygon.Polygon at 0x112400bd0>,\n",
       " <shapely.geometry.polygon.Polygon at 0x112400c10>,\n",
       " <shapely.geometry.polygon.Polygon at 0x112400c90>,\n",
       " <shapely.geometry.polygon.Polygon at 0x112400950>,\n",
       " <shapely.geometry.polygon.Polygon at 0x112400fd0>,\n",
       " <shapely.geometry.polygon.Polygon at 0x112400750>,\n",
       " <shapely.geometry.polygon.Polygon at 0x112400f90>,\n",
       " <shapely.geometry.polygon.Polygon at 0x112400650>,\n",
       " <shapely.geometry.polygon.Polygon at 0x112400590>,\n",
       " <shapely.geometry.polygon.Polygon at 0x112400990>,\n",
       " <shapely.geometry.polygon.Polygon at 0x112400ad0>,\n",
       " <shapely.geometry.polygon.Polygon at 0x1124003d0>,\n",
       " <shapely.geometry.polygon.Polygon at 0x112400a10>,\n",
       " <shapely.geometry.polygon.Polygon at 0x112400310>,\n",
       " <shapely.geometry.polygon.Polygon at 0x112400050>,\n",
       " <shapely.geometry.polygon.Polygon at 0x1120fe410>,\n",
       " <shapely.geometry.polygon.Polygon at 0x112400d90>,\n",
       " <shapely.geometry.polygon.Polygon at 0x1120fe5d0>,\n",
       " <shapely.geometry.polygon.Polygon at 0x1124005d0>,\n",
       " <shapely.geometry.polygon.Polygon at 0x1120fec50>,\n",
       " <shapely.geometry.polygon.Polygon at 0x112400350>,\n",
       " <shapely.geometry.polygon.Polygon at 0x112400610>,\n",
       " <shapely.geometry.polygon.Polygon at 0x112400cd0>,\n",
       " <shapely.geometry.polygon.Polygon at 0x112400710>,\n",
       " <shapely.geometry.polygon.Polygon at 0x112400c50>,\n",
       " <shapely.geometry.polygon.Polygon at 0x112400490>,\n",
       " <shapely.geometry.polygon.Polygon at 0x112400d50>,\n",
       " <shapely.geometry.polygon.Polygon at 0x112400550>,\n",
       " <shapely.geometry.polygon.Polygon at 0x112400510>,\n",
       " <shapely.geometry.polygon.Polygon at 0x112400690>,\n",
       " <shapely.geometry.polygon.Polygon at 0x112400450>,\n",
       " <shapely.geometry.polygon.Polygon at 0x1124004d0>,\n",
       " <shapely.geometry.polygon.Polygon at 0x112400290>,\n",
       " <shapely.geometry.polygon.Polygon at 0x112400110>,\n",
       " <shapely.geometry.polygon.Polygon at 0x1124002d0>,\n",
       " <shapely.geometry.polygon.Polygon at 0x112400410>,\n",
       " <shapely.geometry.polygon.Polygon at 0x112400190>,\n",
       " <shapely.geometry.polygon.Polygon at 0x1124000d0>,\n",
       " <shapely.geometry.polygon.Polygon at 0x112400b10>,\n",
       " <shapely.geometry.polygon.Polygon at 0x1124f01d0>,\n",
       " <shapely.geometry.polygon.Polygon at 0x1124f0290>,\n",
       " <shapely.geometry.polygon.Polygon at 0x112400a50>,\n",
       " <shapely.geometry.polygon.Polygon at 0x1124f0490>,\n",
       " <shapely.geometry.polygon.Polygon at 0x112400390>,\n",
       " <shapely.geometry.polygon.Polygon at 0x1124009d0>,\n",
       " <shapely.geometry.polygon.Polygon at 0x112400890>,\n",
       " <shapely.geometry.polygon.Polygon at 0x1124007d0>,\n",
       " <shapely.geometry.polygon.Polygon at 0x112400910>,\n",
       " <shapely.geometry.polygon.Polygon at 0x112400f10>,\n",
       " <shapely.geometry.polygon.Polygon at 0x112400250>,\n",
       " <shapely.geometry.polygon.Polygon at 0x1124f0110>,\n",
       " <shapely.geometry.polygon.Polygon at 0x112400b50>,\n",
       " <shapely.geometry.polygon.Polygon at 0x1124008d0>,\n",
       " <shapely.geometry.polygon.Polygon at 0x112400dd0>,\n",
       " <shapely.geometry.polygon.Polygon at 0x1124171d0>,\n",
       " <shapely.geometry.polygon.Polygon at 0x112400a90>,\n",
       " <shapely.geometry.polygon.Polygon at 0x112400850>,\n",
       " <shapely.geometry.polygon.Polygon at 0x112400e90>,\n",
       " <shapely.geometry.polygon.Polygon at 0x112400ed0>,\n",
       " <shapely.geometry.polygon.Polygon at 0x112400150>,\n",
       " <shapely.geometry.polygon.Polygon at 0x112400e10>,\n",
       " <shapely.geometry.polygon.Polygon at 0x1124f9210>,\n",
       " <shapely.geometry.polygon.Polygon at 0x112400e50>,\n",
       " <shapely.geometry.polygon.Polygon at 0x112400790>,\n",
       " <shapely.geometry.polygon.Polygon at 0x112400d10>,\n",
       " <shapely.geometry.polygon.Polygon at 0x1124001d0>,\n",
       " <shapely.geometry.polygon.Polygon at 0x1117ab210>,\n",
       " <shapely.geometry.polygon.Polygon at 0x112400090>,\n",
       " <shapely.geometry.polygon.Polygon at 0x112400810>,\n",
       " <shapely.geometry.polygon.Polygon at 0x112400210>,\n",
       " <shapely.geometry.polygon.Polygon at 0x112400f50>,\n",
       " <shapely.geometry.polygon.Polygon at 0x111eae4d0>,\n",
       " <shapely.geometry.polygon.Polygon at 0x1124006d0>,\n",
       " <shapely.geometry.polygon.Polygon at 0x111e9cd90>,\n",
       " <shapely.geometry.polygon.Polygon at 0x112247c50>,\n",
       " <shapely.geometry.polygon.Polygon at 0x1122476d0>,\n",
       " <shapely.geometry.polygon.Polygon at 0x112247850>,\n",
       " <shapely.geometry.polygon.Polygon at 0x112247750>,\n",
       " <shapely.geometry.polygon.Polygon at 0x1122472d0>,\n",
       " <shapely.geometry.polygon.Polygon at 0x112247d90>,\n",
       " <shapely.geometry.polygon.Polygon at 0x112247dd0>,\n",
       " <shapely.geometry.polygon.Polygon at 0x112247f50>,\n",
       " <shapely.geometry.polygon.Polygon at 0x112247ad0>,\n",
       " <shapely.geometry.polygon.Polygon at 0x112247810>,\n",
       " <shapely.geometry.polygon.Polygon at 0x112247410>,\n",
       " <shapely.geometry.polygon.Polygon at 0x112247bd0>,\n",
       " <shapely.geometry.polygon.Polygon at 0x112247110>,\n",
       " <shapely.geometry.polygon.Polygon at 0x112247390>,\n",
       " <shapely.geometry.polygon.Polygon at 0x112247a10>,\n",
       " <shapely.geometry.polygon.Polygon at 0x112247e10>,\n",
       " <shapely.geometry.polygon.Polygon at 0x1124f92d0>,\n",
       " <shapely.geometry.polygon.Polygon at 0x1122479d0>,\n",
       " <shapely.geometry.polygon.Polygon at 0x112247fd0>,\n",
       " <shapely.geometry.polygon.Polygon at 0x111e954d0>,\n",
       " <shapely.geometry.polygon.Polygon at 0x112247990>,\n",
       " <shapely.geometry.polygon.Polygon at 0x112247890>,\n",
       " <shapely.geometry.polygon.Polygon at 0x112247f10>,\n",
       " <shapely.geometry.polygon.Polygon at 0x112247150>,\n",
       " <shapely.geometry.polygon.Polygon at 0x112247050>,\n",
       " <shapely.geometry.polygon.Polygon at 0x112247250>,\n",
       " <shapely.geometry.polygon.Polygon at 0x112247d50>,\n",
       " <shapely.geometry.polygon.Polygon at 0x112247f90>,\n",
       " <shapely.geometry.polygon.Polygon at 0x112247e90>,\n",
       " <shapely.geometry.polygon.Polygon at 0x112247e50>,\n",
       " <shapely.geometry.polygon.Polygon at 0x112247b50>,\n",
       " <shapely.geometry.polygon.Polygon at 0x112247ed0>,\n",
       " <shapely.geometry.polygon.Polygon at 0x112247910>,\n",
       " <shapely.geometry.polygon.Polygon at 0x112247b10>,\n",
       " <shapely.geometry.polygon.Polygon at 0x112247cd0>,\n",
       " <shapely.geometry.polygon.Polygon at 0x112247190>,\n",
       " <shapely.geometry.polygon.Polygon at 0x112247590>,\n",
       " <shapely.geometry.polygon.Polygon at 0x112247210>,\n",
       " <shapely.geometry.polygon.Polygon at 0x1122470d0>,\n",
       " <shapely.geometry.polygon.Polygon at 0x112247310>,\n",
       " <shapely.geometry.polygon.Polygon at 0x112247510>,\n",
       " <shapely.geometry.polygon.Polygon at 0x112247490>,\n",
       " <shapely.geometry.polygon.Polygon at 0x112247710>,\n",
       " <shapely.geometry.polygon.Polygon at 0x112247c90>,\n",
       " <shapely.geometry.polygon.Polygon at 0x112247a50>,\n",
       " <shapely.geometry.polygon.Polygon at 0x112247550>,\n",
       " <shapely.geometry.polygon.Polygon at 0x112247950>,\n",
       " <shapely.geometry.polygon.Polygon at 0x1122478d0>,\n",
       " <shapely.geometry.polygon.Polygon at 0x1122477d0>,\n",
       " <shapely.geometry.polygon.Polygon at 0x1122475d0>,\n",
       " <shapely.geometry.polygon.Polygon at 0x112247650>,\n",
       " <shapely.geometry.polygon.Polygon at 0x1122473d0>,\n",
       " <shapely.geometry.polygon.Polygon at 0x1122474d0>,\n",
       " <shapely.geometry.polygon.Polygon at 0x112247350>,\n",
       " <shapely.geometry.polygon.Polygon at 0x112247450>,\n",
       " <shapely.geometry.polygon.Polygon at 0x112247d10>,\n",
       " <shapely.geometry.polygon.Polygon at 0x1122471d0>,\n",
       " <shapely.geometry.polygon.Polygon at 0x112247690>,\n",
       " <shapely.geometry.polygon.Polygon at 0x112247610>,\n",
       " <shapely.geometry.polygon.Polygon at 0x112247790>,\n",
       " <shapely.geometry.polygon.Polygon at 0x112247090>,\n",
       " <shapely.geometry.polygon.Polygon at 0x112247290>,\n",
       " <shapely.geometry.polygon.Polygon at 0x112247c10>,\n",
       " <shapely.geometry.polygon.Polygon at 0x11138fdd0>,\n",
       " <shapely.geometry.polygon.Polygon at 0x11138fad0>,\n",
       " <shapely.geometry.polygon.Polygon at 0x11138fbd0>,\n",
       " <shapely.geometry.polygon.Polygon at 0x11138fb90>,\n",
       " <shapely.geometry.polygon.Polygon at 0x11138fc10>,\n",
       " <shapely.geometry.polygon.Polygon at 0x11138f250>,\n",
       " <shapely.geometry.polygon.Polygon at 0x11138fa50>,\n",
       " <shapely.geometry.polygon.Polygon at 0x11138f590>,\n",
       " <shapely.geometry.polygon.Polygon at 0x11138f750>,\n",
       " <shapely.geometry.polygon.Polygon at 0x11138f7d0>,\n",
       " <shapely.geometry.polygon.Polygon at 0x11138f690>,\n",
       " <shapely.geometry.polygon.Polygon at 0x11138f410>,\n",
       " <shapely.geometry.polygon.Polygon at 0x11138f8d0>,\n",
       " <shapely.geometry.polygon.Polygon at 0x11138f310>,\n",
       " <shapely.geometry.polygon.Polygon at 0x11138f5d0>,\n",
       " <shapely.geometry.polygon.Polygon at 0x11138f9d0>,\n",
       " <shapely.geometry.polygon.Polygon at 0x11138f710>,\n",
       " <shapely.geometry.polygon.Polygon at 0x11138f510>,\n",
       " <shapely.geometry.polygon.Polygon at 0x11138fc90>,\n",
       " <shapely.geometry.polygon.Polygon at 0x11138f850>,\n",
       " <shapely.geometry.polygon.Polygon at 0x111501450>,\n",
       " <shapely.geometry.polygon.Polygon at 0x111501050>,\n",
       " <shapely.geometry.polygon.Polygon at 0x111501090>,\n",
       " <shapely.geometry.polygon.Polygon at 0x111501690>,\n",
       " <shapely.geometry.polygon.Polygon at 0x1115013d0>,\n",
       " <shapely.geometry.polygon.Polygon at 0x111501350>,\n",
       " <shapely.geometry.polygon.Polygon at 0x111501310>,\n",
       " <shapely.geometry.polygon.Polygon at 0x111501550>,\n",
       " <shapely.geometry.polygon.Polygon at 0x111501c10>,\n",
       " <shapely.geometry.polygon.Polygon at 0x1115010d0>,\n",
       " <shapely.geometry.polygon.Polygon at 0x111501750>,\n",
       " <shapely.geometry.polygon.Polygon at 0x111501910>,\n",
       " <shapely.geometry.polygon.Polygon at 0x111501dd0>,\n",
       " <shapely.geometry.polygon.Polygon at 0x111501b10>,\n",
       " <shapely.geometry.polygon.Polygon at 0x111501d90>,\n",
       " <shapely.geometry.polygon.Polygon at 0x111501d10>,\n",
       " <shapely.geometry.polygon.Polygon at 0x111501650>,\n",
       " <shapely.geometry.polygon.Polygon at 0x111501ad0>,\n",
       " <shapely.geometry.polygon.Polygon at 0x111501c50>,\n",
       " <shapely.geometry.polygon.Polygon at 0x111501b90>,\n",
       " <shapely.geometry.polygon.Polygon at 0x111501ed0>,\n",
       " <shapely.geometry.polygon.Polygon at 0x111501490>,\n",
       " <shapely.geometry.polygon.Polygon at 0x1115015d0>,\n",
       " <shapely.geometry.polygon.Polygon at 0x111501a90>,\n",
       " <shapely.geometry.polygon.Polygon at 0x111501e90>,\n",
       " <shapely.geometry.polygon.Polygon at 0x111501890>,\n",
       " <shapely.geometry.polygon.Polygon at 0x112225290>,\n",
       " <shapely.geometry.polygon.Polygon at 0x112225450>,\n",
       " <shapely.geometry.polygon.Polygon at 0x112225810>,\n",
       " <shapely.geometry.polygon.Polygon at 0x1122258d0>,\n",
       " <shapely.geometry.polygon.Polygon at 0x112225390>,\n",
       " <shapely.geometry.polygon.Polygon at 0x112225f50>,\n",
       " <shapely.geometry.polygon.Polygon at 0x112225d90>,\n",
       " <shapely.geometry.polygon.Polygon at 0x1122253d0>,\n",
       " <shapely.geometry.polygon.Polygon at 0x1122250d0>,\n",
       " <shapely.geometry.polygon.Polygon at 0x112225a50>,\n",
       " <shapely.geometry.polygon.Polygon at 0x112225b10>,\n",
       " <shapely.geometry.polygon.Polygon at 0x1122259d0>,\n",
       " <shapely.geometry.polygon.Polygon at 0x112225990>,\n",
       " <shapely.geometry.polygon.Polygon at 0x112225410>,\n",
       " <shapely.geometry.polygon.Polygon at 0x112225d50>,\n",
       " <shapely.geometry.polygon.Polygon at 0x112225b50>,\n",
       " <shapely.geometry.polygon.Polygon at 0x112225bd0>,\n",
       " <shapely.geometry.polygon.Polygon at 0x112225650>,\n",
       " <shapely.geometry.polygon.Polygon at 0x112225210>,\n",
       " <shapely.geometry.polygon.Polygon at 0x112225850>,\n",
       " <shapely.geometry.polygon.Polygon at 0x112225a90>,\n",
       " <shapely.geometry.polygon.Polygon at 0x112225690>,\n",
       " <shapely.geometry.polygon.Polygon at 0x112225350>,\n",
       " <shapely.geometry.polygon.Polygon at 0x112225a10>,\n",
       " <shapely.geometry.polygon.Polygon at 0x1122252d0>,\n",
       " <shapely.geometry.polygon.Polygon at 0x112225490>,\n",
       " <shapely.geometry.polygon.Polygon at 0x112225910>,\n",
       " <shapely.geometry.polygon.Polygon at 0x112225950>,\n",
       " <shapely.geometry.polygon.Polygon at 0x112225710>,\n",
       " <shapely.geometry.polygon.Polygon at 0x112225590>,\n",
       " <shapely.geometry.polygon.Polygon at 0x112225510>,\n",
       " <shapely.geometry.polygon.Polygon at 0x112225fd0>,\n",
       " <shapely.geometry.polygon.Polygon at 0x1122254d0>,\n",
       " <shapely.geometry.polygon.Polygon at 0x112225310>,\n",
       " <shapely.geometry.polygon.Polygon at 0x112225250>,\n",
       " <shapely.geometry.polygon.Polygon at 0x112225f10>,\n",
       " <shapely.geometry.polygon.Polygon at 0x112225f90>,\n",
       " <shapely.geometry.polygon.Polygon at 0x112225ed0>,\n",
       " <shapely.geometry.polygon.Polygon at 0x112225190>,\n",
       " <shapely.geometry.polygon.Polygon at 0x1122251d0>,\n",
       " <shapely.geometry.polygon.Polygon at 0x112225090>,\n",
       " <shapely.geometry.polygon.Polygon at 0x1122255d0>,\n",
       " <shapely.geometry.polygon.Polygon at 0x112225110>,\n",
       " <shapely.geometry.polygon.Polygon at 0x1122257d0>,\n",
       " <shapely.geometry.polygon.Polygon at 0x112225e90>,\n",
       " <shapely.geometry.polygon.Polygon at 0x112225e50>,\n",
       " <shapely.geometry.polygon.Polygon at 0x112225610>,\n",
       " <shapely.geometry.polygon.Polygon at 0x112225550>,\n",
       " <shapely.geometry.polygon.Polygon at 0x112225e10>,\n",
       " <shapely.geometry.polygon.Polygon at 0x1122256d0>,\n",
       " <shapely.geometry.polygon.Polygon at 0x112225750>,\n",
       " <shapely.geometry.polygon.Polygon at 0x112225ad0>,\n",
       " <shapely.geometry.polygon.Polygon at 0x112225dd0>,\n",
       " <shapely.geometry.polygon.Polygon at 0x112225150>]"
      ]
     },
     "execution_count": 132,
     "metadata": {},
     "output_type": "execute_result"
    }
   ],
   "source": [
    "xj_lst"
   ]
  },
  {
   "cell_type": "code",
   "execution_count": 133,
   "metadata": {
    "collapsed": false
   },
   "outputs": [
    {
     "name": "stderr",
     "output_type": "stream",
     "text": [
      "ERROR:shapely.geos:TopologyException: no outgoing dirEdge found at 523.94117647058818 206.94117647058826\n"
     ]
    },
    {
     "ename": "ValueError",
     "evalue": "No Shapely geometry can be created from null value",
     "output_type": "error",
     "traceback": [
      "\u001b[0;31m---------------------------------------------------------------------------\u001b[0m",
      "\u001b[0;31mValueError\u001b[0m                                Traceback (most recent call last)",
      "\u001b[0;32m<ipython-input-133-1dd16d096477>\u001b[0m in \u001b[0;36m<module>\u001b[0;34m()\u001b[0m\n\u001b[0;32m----> 1\u001b[0;31m \u001b[0mcascaded_union\u001b[0m\u001b[0;34m(\u001b[0m\u001b[0mxj_lst\u001b[0m\u001b[0;34m)\u001b[0m\u001b[0;34m\u001b[0m\u001b[0m\n\u001b[0m",
      "\u001b[0;32m/Users/dorislee/.virtualenvs/py27dev/lib/python2.7/site-packages/shapely/ops.pyc\u001b[0m in \u001b[0;36mcascaded_union\u001b[0;34m(self, geoms)\u001b[0m\n\u001b[1;32m    130\u001b[0m             \u001b[0msubs\u001b[0m\u001b[0;34m[\u001b[0m\u001b[0mi\u001b[0m\u001b[0;34m]\u001b[0m \u001b[0;34m=\u001b[0m \u001b[0mg\u001b[0m\u001b[0;34m.\u001b[0m\u001b[0m_geom\u001b[0m\u001b[0;34m\u001b[0m\u001b[0m\n\u001b[1;32m    131\u001b[0m         \u001b[0mcollection\u001b[0m \u001b[0;34m=\u001b[0m \u001b[0mlgeos\u001b[0m\u001b[0;34m.\u001b[0m\u001b[0mGEOSGeom_createCollection\u001b[0m\u001b[0;34m(\u001b[0m\u001b[0;36m6\u001b[0m\u001b[0;34m,\u001b[0m \u001b[0msubs\u001b[0m\u001b[0;34m,\u001b[0m \u001b[0mL\u001b[0m\u001b[0;34m)\u001b[0m\u001b[0;34m\u001b[0m\u001b[0m\n\u001b[0;32m--> 132\u001b[0;31m         \u001b[0;32mreturn\u001b[0m \u001b[0mgeom_factory\u001b[0m\u001b[0;34m(\u001b[0m\u001b[0mlgeos\u001b[0m\u001b[0;34m.\u001b[0m\u001b[0mmethods\u001b[0m\u001b[0;34m[\u001b[0m\u001b[0;34m'cascaded_union'\u001b[0m\u001b[0;34m]\u001b[0m\u001b[0;34m(\u001b[0m\u001b[0mcollection\u001b[0m\u001b[0;34m)\u001b[0m\u001b[0;34m)\u001b[0m\u001b[0;34m\u001b[0m\u001b[0m\n\u001b[0m\u001b[1;32m    133\u001b[0m \u001b[0;34m\u001b[0m\u001b[0m\n\u001b[1;32m    134\u001b[0m     \u001b[0;32mdef\u001b[0m \u001b[0munary_union\u001b[0m\u001b[0;34m(\u001b[0m\u001b[0mself\u001b[0m\u001b[0;34m,\u001b[0m \u001b[0mgeoms\u001b[0m\u001b[0;34m)\u001b[0m\u001b[0;34m:\u001b[0m\u001b[0;34m\u001b[0m\u001b[0m\n",
      "\u001b[0;32m/Users/dorislee/.virtualenvs/py27dev/lib/python2.7/site-packages/shapely/geometry/base.pyc\u001b[0m in \u001b[0;36mgeom_factory\u001b[0;34m(g, parent)\u001b[0m\n\u001b[1;32m     74\u001b[0m     \u001b[0;31m# Abstract geometry factory for use with topological methods below\u001b[0m\u001b[0;34m\u001b[0m\u001b[0;34m\u001b[0m\u001b[0m\n\u001b[1;32m     75\u001b[0m     \u001b[0;32mif\u001b[0m \u001b[0;32mnot\u001b[0m \u001b[0mg\u001b[0m\u001b[0;34m:\u001b[0m\u001b[0;34m\u001b[0m\u001b[0m\n\u001b[0;32m---> 76\u001b[0;31m         \u001b[0;32mraise\u001b[0m \u001b[0mValueError\u001b[0m\u001b[0;34m(\u001b[0m\u001b[0;34m\"No Shapely geometry can be created from null value\"\u001b[0m\u001b[0;34m)\u001b[0m\u001b[0;34m\u001b[0m\u001b[0m\n\u001b[0m\u001b[1;32m     77\u001b[0m     \u001b[0mob\u001b[0m \u001b[0;34m=\u001b[0m \u001b[0mBaseGeometry\u001b[0m\u001b[0;34m(\u001b[0m\u001b[0;34m)\u001b[0m\u001b[0;34m\u001b[0m\u001b[0m\n\u001b[1;32m     78\u001b[0m     \u001b[0mgeom_type\u001b[0m \u001b[0;34m=\u001b[0m \u001b[0mgeometry_type_name\u001b[0m\u001b[0;34m(\u001b[0m\u001b[0mg\u001b[0m\u001b[0;34m)\u001b[0m\u001b[0;34m\u001b[0m\u001b[0m\n",
      "\u001b[0;31mValueError\u001b[0m: No Shapely geometry can be created from null value"
     ]
    }
   ],
   "source": [
    "cascaded_union(xj_lst)"
   ]
  },
  {
   "cell_type": "code",
   "execution_count": null,
   "metadata": {
    "collapsed": false,
    "scrolled": true
   },
   "outputs": [
    {
     "name": "stderr",
     "output_type": "stream",
     "text": [
      "  8%|▊         | 3/39 [00:00<00:03, 10.30it/s]ERROR:shapely.geos:TopologyException: found non-noded intersection between LINESTRING (439 327, 444.612 313.372) and LINESTRING (444.612 313.372, 444.612 313.372) at 444.61157024793391 313.37190082644616\n",
      " 15%|█▌        | 6/39 [00:03<00:21,  1.51it/s]ERROR:shapely.geos:TopologyException: Input geom 1 is invalid: Self-intersection at or near point 564.5 326.79999999999995 at 564.5 326.79999999999995\n",
      "WARNING:shapely.geos:Self-intersection at or near point 564.5 326.79999999999995\n",
      "ERROR:shapely.geos:TopologyException: found non-noded intersection between LINESTRING (414.556 262.667, 413.5 259.5) and LINESTRING (413.5 259.5, 412 255) at 413.50000000000011 259.50000000000023\n"
     ]
    },
    {
     "name": "stdout",
     "output_type": "stream",
     "text": [
      "error\n",
      "error"
     ]
    },
    {
     "name": "stderr",
     "output_type": "stream",
     "text": [
      "ERROR:shapely.geos:TopologyException: Input geom 1 is invalid: Self-intersection at or near point 411.05000000000007 226.90000000000001 at 411.05000000000007 226.90000000000001\n",
      "WARNING:shapely.geos:Self-intersection at or near point 411.05000000000007 226.90000000000001\n",
      "ERROR:shapely.geos:TopologyException: no outgoing dirEdge found at 523.94117647058818 206.94117647058826\n",
      " 23%|██▎       | 9/39 [00:24<01:23,  0.36it/s]ERROR:shapely.geos:TopologyException: found non-noded intersection between LINESTRING (481.443 198.619, 481.053 199.053) and LINESTRING (481.053 199.053, 480 198) at 481.05263157885565 199.05263157885565\n",
      "ERROR:shapely.geos:TopologyException: found non-noded intersection between LINESTRING (573.85 272.895, 573.85 272.895) and LINESTRING (573.85 272.895, 573.85 272.895) at 573.84967320261444 272.89542483660125\n"
     ]
    },
    {
     "name": "stdout",
     "output_type": "stream",
     "text": [
      "\n",
      "error"
     ]
    },
    {
     "name": "stderr",
     "output_type": "stream",
     "text": [
      "ERROR:shapely.geos:TopologyException: Input geom 1 is invalid: Self-intersection at or near point 573.64010594857075 314.95949674428874 at 573.64010594857075 314.95949674428874\n",
      "ERROR:shapely.geos:TopologyException: found non-noded intersection between LINESTRING (443.041 370.429, 441 369) and LINESTRING (442.892 370.324, 442.6 371.2) at 442.89189189189187 370.32432432432432\n"
     ]
    },
    {
     "name": "stdout",
     "output_type": "stream",
     "text": [
      "\n",
      "error"
     ]
    },
    {
     "name": "stderr",
     "output_type": "stream",
     "text": [
      "ERROR:shapely.geos:TopologyException: found non-noded intersection between LINESTRING (424.82 231.133, 411.417 226.752) and LINESTRING (448.045 238.726, 410.491 226.449) at 415.54720198941743 228.1019698811557\n"
     ]
    },
    {
     "name": "stdout",
     "output_type": "stream",
     "text": [
      "\n",
      "error"
     ]
    },
    {
     "name": "stderr",
     "output_type": "stream",
     "text": [
      "ERROR:shapely.geos:TopologyException: found non-noded intersection between LINESTRING (435.266 232.281, 437.559 232.791) and LINESTRING (446 234.667, 423.225 229.606) at 436.30413139140467 232.51202919808992\n"
     ]
    },
    {
     "name": "stdout",
     "output_type": "stream",
     "text": [
      "\n",
      "error"
     ]
    },
    {
     "name": "stderr",
     "output_type": "stream",
     "text": [
      "ERROR:shapely.geos:TopologyException: found non-noded intersection between LINESTRING (521.107 208.143, 530 220) and LINESTRING (521.107 208.143, 521.107 208.143) at 521.10714285714289 208.14285714285714\n",
      " 31%|███       | 12/39 [01:34<03:33,  0.13it/s]ERROR:shapely.geos:TopologyException: found non-noded intersection between LINESTRING (439.701 328.591, 439.895 326.263) and LINESTRING (439.895 326.263, 438 331) at 439.89473684210526 326.26315789473688\n"
     ]
    },
    {
     "name": "stdout",
     "output_type": "stream",
     "text": [
      "\n",
      "error"
     ]
    },
    {
     "name": "stderr",
     "output_type": "stream",
     "text": [
      "ERROR:shapely.geos:TopologyException: found non-noded intersection between LINESTRING (556.163 342.286, 557.4 339.4) and LINESTRING (557 341, 557.466 339.135) at 557.39999999999998 339.40000000000003\n",
      "ERROR:shapely.geos:TopologyException: side location conflict at 520 206\n",
      "ERROR:shapely.geos:TopologyException: found non-noded intersection between LINESTRING (511.884 206.808, 511.885 206.807) and LINESTRING (511.889 206.802, 510.8 208.133) at 511.88419940271524 206.8082007300147\n",
      " 38%|███▊      | 15/39 [04:35<07:21,  0.05it/s]ERROR:shapely.geos:TopologyException: found non-noded intersection between LINESTRING (420.034 272.78, 421.324 273.909) and LINESTRING (420.197 272.923, 421.345 273.927) at 421.24885898317962 273.84275161028211\n",
      "ERROR:shapely.geos:TopologyException: found non-noded intersection between LINESTRING (510.8 208.133, 510.832 208.112) and LINESTRING (511.214 207.857, 510.8 208.133) at 510.80000000000001 208.1333333333333\n"
     ]
    },
    {
     "name": "stdout",
     "output_type": "stream",
     "text": [
      "\n",
      "error"
     ]
    },
    {
     "name": "stderr",
     "output_type": "stream",
     "text": [
      "ERROR:shapely.geos:TopologyException: found non-noded intersection between LINESTRING (520.75 207.923, 522.726 207.315) and LINESTRING (520.052 207.494, 520.75 207.923) at 520.75 207.92307692307691\n",
      "ERROR:shapely.geos:TopologyException: found non-noded intersection between LINESTRING (576.463 291.659, 576.672 287.91) and LINESTRING (576.668 287.984, 576.667 287.995) at 576.66718581134751 287.99065539574633\n"
     ]
    },
    {
     "name": "stdout",
     "output_type": "stream",
     "text": [
      "\n",
      "error"
     ]
    },
    {
     "name": "stderr",
     "output_type": "stream",
     "text": [
      "ERROR:shapely.geos:TopologyException: found non-noded intersection between LINESTRING (485.66 356.151, 485.436 356.047) and LINESTRING (485.66 356.151, 485.352 356.008) at 485.46552931964436 356.06101353214348\n"
     ]
    },
    {
     "name": "stdout",
     "output_type": "stream",
     "text": [
      "\n",
      "error"
     ]
    },
    {
     "name": "stderr",
     "output_type": "stream",
     "text": [
      "ERROR:shapely.geos:TopologyException: no outgoing dirEdge found at 469.24679750759105 209.16880166160595\n"
     ]
    },
    {
     "name": "stdout",
     "output_type": "stream",
     "text": [
      "\n",
      "error"
     ]
    },
    {
     "name": "stderr",
     "output_type": "stream",
     "text": [
      "ERROR:shapely.geos:TopologyException: Input geom 0 is invalid: Self-intersection at or near point 476.62457337883967 203.19453924914671 at 476.62457337883967 203.19453924914671\n",
      " 46%|████▌     | 18/39 [10:10<11:51,  0.03it/s]ERROR:shapely.geos:TopologyException: found non-noded intersection between LINESTRING (470.754 206.803, 471.842 205.632) and LINESTRING (471.842 205.632, 471.842 205.632) at 471.84210526315786 205.63157894736847\n"
     ]
    },
    {
     "name": "stdout",
     "output_type": "stream",
     "text": [
      "\n",
      "error"
     ]
    },
    {
     "name": "stderr",
     "output_type": "stream",
     "text": [
      "ERROR:shapely.geos:TopologyException: found non-noded intersection between LINESTRING (513.898 204.238, 512.8 206.8) and LINESTRING (513.8 204.467, 513.989 204.236) at 513.79999999923132 204.46666666760615\n"
     ]
    },
    {
     "name": "stdout",
     "output_type": "stream",
     "text": [
      "\n",
      "error"
     ]
    },
    {
     "name": "stderr",
     "output_type": "stream",
     "text": [
      "ERROR:shapely.geos:TopologyException: found non-noded intersection between LINESTRING (411 245, 411.015 245.168) and LINESTRING (410.869 244.836, 411.015 245.168) at 411.01526717557249 245.16793893129753\n"
     ]
    },
    {
     "name": "stdout",
     "output_type": "stream",
     "text": [
      "\n",
      "error"
     ]
    },
    {
     "name": "stderr",
     "output_type": "stream",
     "text": [
      "ERROR:shapely.geos:TopologyException: found non-noded intersection between LINESTRING (455.7 232.6, 456.2 231.6) and LINESTRING (456.147 231.971, 456.366 230.439) at 456.19999999999999 231.59999999999999\n"
     ]
    },
    {
     "name": "stdout",
     "output_type": "stream",
     "text": [
      "\n",
      "error"
     ]
    },
    {
     "name": "stderr",
     "output_type": "stream",
     "text": [
      "ERROR:shapely.geos:TopologyException: found non-noded intersection between LINESTRING (520.9 204.032, 520.89 204.033) and LINESTRING (520.921 204.032, 520.889 204.033) at 520.89320854240998 204.0325526899291\n",
      "ERROR:shapely.geos:TopologyException: found non-noded intersection between LINESTRING (444 314, 441.771 299.143) and LINESTRING (441.771 299.143, 441.771 299.143) at 441.77142857142854 299.14285714285711\n"
     ]
    },
    {
     "name": "stdout",
     "output_type": "stream",
     "text": [
      "\n",
      "error"
     ]
    },
    {
     "name": "stderr",
     "output_type": "stream",
     "text": [
      "ERROR:shapely.geos:TopologyException: found non-noded intersection between LINESTRING (412 242, 411.869 239.772) and LINESTRING (411.869 239.772, 411.869 239.772) at 411.86896551724141 239.77241379310362\n"
     ]
    },
    {
     "name": "stdout",
     "output_type": "stream",
     "text": [
      "\n",
      "error"
     ]
    },
    {
     "name": "stderr",
     "output_type": "stream",
     "text": [
      "ERROR:shapely.geos:TopologyException: found non-noded intersection between LINESTRING (520.536 204.348, 520.536 204.348) and LINESTRING (520.937 204.048, 520.536 204.348) at 520.53624263732013 204.34781802200987\n",
      "ERROR:shapely.geos:TopologyException: found non-noded intersection between LINESTRING (521 366, 527.318 364.005) and LINESTRING (525.622 364.541, 528.816 363.532) at 526.47907588622331 364.26976550961371\n"
     ]
    },
    {
     "name": "stdout",
     "output_type": "stream",
     "text": [
      "\n",
      "error"
     ]
    },
    {
     "name": "stderr",
     "output_type": "stream",
     "text": [
      "ERROR:shapely.geos:TopologyException: found non-noded intersection between LINESTRING (456.545 229.182, 457.314 228.03) and LINESTRING (457.716 227.426, 456.545 229.182) at 456.54545454545456 229.18181818181816\n"
     ]
    },
    {
     "name": "stdout",
     "output_type": "stream",
     "text": [
      "\n",
      "error"
     ]
    },
    {
     "name": "stderr",
     "output_type": "stream",
     "text": [
      "ERROR:shapely.geos:TopologyException: found non-noded intersection between LINESTRING (406.4 230.8, 406.4 230.8) and LINESTRING (406.4 230.8, 406.4 230.8) at 406.40000000000003 230.79999999999981\n"
     ]
    },
    {
     "name": "stdout",
     "output_type": "stream",
     "text": [
      "\n",
      "error"
     ]
    },
    {
     "name": "stderr",
     "output_type": "stream",
     "text": [
      "ERROR:shapely.geos:TopologyException: found non-noded intersection between LINESTRING (520.937 204.048, 520.959 204.031) and LINESTRING (520.937 204.048, 521.021 204.063) at 520.93650793650795 204.04761904761901\n",
      " 54%|█████▍    | 21/39 [23:00<19:43,  0.02it/s]ERROR:shapely.geos:TopologyException: found non-noded intersection between LINESTRING (520.921 204.032, 520.959 204.031) and LINESTRING (520.937 204.048, 521 204) at 520.9591836734694 204.03061224489795\n",
      "ERROR:shapely.geos:TopologyException: found non-noded intersection between LINESTRING (426.235 223.059, 426.4 223) and LINESTRING (426.4 223, 426.4 223) at 426.40000000000009 222.99999999999997\n"
     ]
    },
    {
     "name": "stdout",
     "output_type": "stream",
     "text": [
      "\n",
      "error"
     ]
    },
    {
     "name": "stderr",
     "output_type": "stream",
     "text": [
      "ERROR:shapely.geos:TopologyException: found non-noded intersection between LINESTRING (499.589 211.329, 499.75 211.396) and LINESTRING (499.751 211.396, 497 211.167) at 499.74999999999994 211.39583333333331\n",
      "ERROR:shapely.geos:TopologyException: found non-noded intersection between LINESTRING (436.391 221.42, 433.079 220.684) and LINESTRING (433.452 220.481, 433.079 220.684) at 433.0789473684211 220.68421052631578\n"
     ]
    },
    {
     "name": "stdout",
     "output_type": "stream",
     "text": [
      "\n",
      "error"
     ]
    },
    {
     "name": "stderr",
     "output_type": "stream",
     "text": [
      "ERROR:shapely.geos:TopologyException: side location conflict at 505.78760683196401 360.60857988556336\n"
     ]
    },
    {
     "name": "stdout",
     "output_type": "stream",
     "text": [
      "\n",
      "error"
     ]
    },
    {
     "name": "stderr",
     "output_type": "stream",
     "text": [
      "ERROR:shapely.geos:TopologyException: Input geom 1 is invalid: Self-intersection at or near point 528.56527550715555 209.13055101431121 at 528.56527550715555 209.13055101431121\n",
      " 62%|██████▏   | 24/39 [44:14<27:39,  0.01it/s]ERROR:shapely.geos:TopologyException: found non-noded intersection between LINESTRING (479.308 199.743, 479.29 199.721) and LINESTRING (479.244 199.659, 479.304 199.738) at 479.29681493238792 199.72908657651718\n"
     ]
    },
    {
     "name": "stdout",
     "output_type": "stream",
     "text": [
      "\n",
      "error"
     ]
    },
    {
     "name": "stderr",
     "output_type": "stream",
     "text": [
      "ERROR:shapely.geos:TopologyException: found non-noded intersection between LINESTRING (466.019 217.457, 468.304 212.316) and LINESTRING (468.304 212.316, 467.8 213) at 468.30401833494773 212.31595874636747\n"
     ]
    },
    {
     "name": "stdout",
     "output_type": "stream",
     "text": [
      "\n",
      "error"
     ]
    },
    {
     "name": "stderr",
     "output_type": "stream",
     "text": [
      "ERROR:shapely.geos:TopologyException: found non-noded intersection between LINESTRING (564.533 232.533, 564.143 232.143) and LINESTRING (564.684 233.105, 563.503 231.005) at 564.14285714285711 232.14285714285708\n"
     ]
    },
    {
     "name": "stdout",
     "output_type": "stream",
     "text": [
      "\n",
      "error"
     ]
    },
    {
     "name": "stderr",
     "output_type": "stream",
     "text": [
      "ERROR:shapely.geos:TopologyException: found non-noded intersection between LINESTRING (460 223.429, 460.163 223.289) and LINESTRING (460.163 223.289, 460.163 223.289) at 460.16292637259352 223.28892025206267\n"
     ]
    },
    {
     "name": "stdout",
     "output_type": "stream",
     "text": [
      "\n",
      "error"
     ]
    },
    {
     "name": "stderr",
     "output_type": "stream",
     "text": [
      "ERROR:shapely.geos:TopologyException: found non-noded intersection between LINESTRING (554.185 222.441, 553.973 222.246) and LINESTRING (549.176 217.838, 564.08 231.535) at 554.0319987409315 222.30083693809425\n"
     ]
    },
    {
     "name": "stdout",
     "output_type": "stream",
     "text": [
      "\n",
      "error"
     ]
    },
    {
     "name": "stderr",
     "output_type": "stream",
     "text": [
      "ERROR:shapely.geos:TopologyException: found non-noded intersection between LINESTRING (486.802 361.341, 481 361) and LINESTRING (485.874 361.287, 486.604 361.33) at 486.3889178273659 361.31699516631568\n"
     ]
    },
    {
     "name": "stdout",
     "output_type": "stream",
     "text": [
      "\n",
      "error"
     ]
    },
    {
     "name": "stderr",
     "output_type": "stream",
     "text": [
      "ERROR:shapely.geos:TopologyException: found non-noded intersection between LINESTRING (486.561 361.327, 498 362) and LINESTRING (492.375 361.669, 492.264 361.663) at 492.30634855311257 361.66507932665365\n"
     ]
    },
    {
     "name": "stdout",
     "output_type": "stream",
     "text": [
      "\n",
      "error"
     ]
    },
    {
     "name": "stderr",
     "output_type": "stream",
     "text": [
      "ERROR:shapely.geos:TopologyException: found non-noded intersection between LINESTRING (441.495 294.908, 441.495 294.908) and LINESTRING (441.495 294.908, 441.495 294.908) at 441.49539894274506 294.90823139503266\n"
     ]
    },
    {
     "name": "stdout",
     "output_type": "stream",
     "text": [
      "\n",
      "error"
     ]
    },
    {
     "name": "stderr",
     "output_type": "stream",
     "text": [
      "ERROR:shapely.geos:TopologyException: found non-noded intersection between LINESTRING (572.2 312.6, 573.301 304.89) and LINESTRING (574 300, 572.51 310.429) at 572.85059441390308 308.04583910267837\n"
     ]
    },
    {
     "name": "stdout",
     "output_type": "stream",
     "text": [
      "\n",
      "error"
     ]
    },
    {
     "name": "stderr",
     "output_type": "stream",
     "text": [
      "ERROR:shapely.geos:TopologyException: found non-noded intersection between LINESTRING (482.491 201.695, 483.5 202.3) and LINESTRING (483.5 202.3, 481.676 201.206) at 482.89229615522964 201.93537769313775\n",
      "ERROR:shapely.geos:TopologyException: found non-noded intersection between LINESTRING (475.667 201.333, 475.7 201.3) and LINESTRING (475.676 201.321, 475.667 201.333) at 475.66666666666674 201.33333333333329\n",
      "ERROR:shapely.geos:TopologyException: found non-noded intersection between LINESTRING (575.04 263.964, 575.04 263.964) and LINESTRING (575.04 263.964, 575.04 263.964) at 575.04035874439455 263.96412556053639\n"
     ]
    },
    {
     "name": "stdout",
     "output_type": "stream",
     "text": [
      "\n",
      "error"
     ]
    },
    {
     "name": "stderr",
     "output_type": "stream",
     "text": [
      "ERROR:shapely.geos:TopologyException: found non-noded intersection between LINESTRING (515.059 205.294, 515.059 205.294) and LINESTRING (515.059 205.294, 515.56 204.96) at 515.0588235294116 205.29411764705893\n",
      " 69%|██████▉   | 27/39 [1:19:17<35:14,  0.01it/s]ERROR:shapely.geos:TopologyException: found non-noded intersection between LINESTRING (519.696 358.957, 521.061 358.336) and LINESTRING (521.45 358.159, 519.947 358.842) at 520.93332362301703 358.39394380771949\n"
     ]
    },
    {
     "name": "stdout",
     "output_type": "stream",
     "text": [
      "\n",
      "error"
     ]
    },
    {
     "name": "stderr",
     "output_type": "stream",
     "text": [
      "ERROR:shapely.geos:TopologyException: found non-noded intersection between LINESTRING (520.435 358.62, 520.806 358.452) and LINESTRING (520.623 358.535, 519.947 358.842) at 520.4408518891438 358.61779459584369\n"
     ]
    },
    {
     "name": "stdout",
     "output_type": "stream",
     "text": [
      "\n",
      "error"
     ]
    },
    {
     "name": "stderr",
     "output_type": "stream",
     "text": [
      "ERROR:shapely.geos:TopologyException: found non-noded intersection between LINESTRING (436 343.5, 436.091 343) and LINESTRING (436.091 343, 436.091 343) at 436.09090909090901 343.00000000000091\n"
     ]
    },
    {
     "name": "stdout",
     "output_type": "stream",
     "text": [
      "\n",
      "error"
     ]
    },
    {
     "name": "stderr",
     "output_type": "stream",
     "text": [
      "ERROR:shapely.geos:TopologyException: found non-noded intersection between LINESTRING (550.724 345.207, 550.5 345.5) and LINESTRING (550.364 348.091, 550.724 345.207) at 550.72413793103442 345.2068965517243\n"
     ]
    },
    {
     "name": "stdout",
     "output_type": "stream",
     "text": [
      "\n",
      "error"
     ]
    }
   ],
   "source": [
    "tiles=[]\n",
    "\n",
    "for i in tqdm(range(len(BB))):\n",
    "    bi = BB[i]\n",
    "    # base case, when i=0, only 2 polygon intersecting\n",
    "    if i==0:\n",
    "        tiles.append(bi)\n",
    "    else: \n",
    "        xj_lst = []\n",
    "        for tj in tiles:\n",
    "            try:\n",
    "                xj=tj.intersection(bi)\n",
    "                if xj.area>1e-10: #eliminating spurious LineString-looking Polygons \n",
    "                    tiles.remove(tj)\n",
    "                    add_object_to_tiles(tiles,xj)\n",
    "                    diff_region = (tj.symmetric_difference(xj)).difference(xj)#.buffer(0)\n",
    "                    add_object_to_tiles(tiles,diff_region)       \n",
    "                    xj_lst.append(xj)\n",
    "            except(shapely.errors.TopologicalError):\n",
    "                print \"error\"\n",
    "                xj_lst=xj_lst[:-1]\n",
    "                pass\n",
    "        try:\n",
    "            leftovers = bi.difference(cascaded_union(xj_lst))\n",
    "        except(shapely.errors.TopologicalError):\n",
    "            leftovers = bi.difference(cascaded_union(xj_lst).buffer(1e-10))\n",
    "        except(ValueError):\n",
    "            #ERROR:shapely.geos:TopologyException: no outgoing dirEdge \n",
    "            leftovers=[]\n",
    "        add_object_to_tiles(tiles,leftovers)"
   ]
  },
  {
   "cell_type": "code",
   "execution_count": 127,
   "metadata": {
    "collapsed": false
   },
   "outputs": [
    {
     "name": "stdout",
     "output_type": "stream",
     "text": [
      "585\n"
     ]
    }
   ],
   "source": [
    "print len(tiles)"
   ]
  },
  {
   "cell_type": "code",
   "execution_count": null,
   "metadata": {
    "collapsed": false
   },
   "outputs": [],
   "source": [
    "tiles[30].area==0"
   ]
  },
  {
   "cell_type": "code",
   "execution_count": 129,
   "metadata": {
    "collapsed": false,
    "scrolled": false
   },
   "outputs": [
    {
     "data": {
      "image/png": "[encoded data removed]",
      "text/plain": [
       "<matplotlib.figure.Figure at 0x111709710>"
      ]
     },
     "metadata": {},
     "output_type": "display_data"
    }
   ],
   "source": [
    "for t in tiles: \n",
    "#     plt.figure()\n",
    "#     plt.title(tiles.index(t))\n",
    "    if t.area>0:\n",
    "        if type(t)==shapely.geometry.polygon.Polygon:\n",
    "            plot_coords(t,color=\"lime\",reverse_xy=True)\n",
    "        elif type(t)==shapely.geometry.MultiPolygon or type(t)==shapely.geometry.collection:\n",
    "            for region in t:\n",
    "                if type(t)!=shapely.geometry.LineString :\n",
    "                    plot_coords(region,color=\"lime\",reverse_xy=True)"
   ]
  },
  {
   "cell_type": "markdown",
   "metadata": {},
   "source": [
    "# Production"
   ]
  },
  {
   "cell_type": "code",
   "execution_count": 12,
   "metadata": {
    "collapsed": true
   },
   "outputs": [],
   "source": [
    "img_info,object_tbl,bb_info,hit_info = load_info()\n",
    "def add_object_to_tiles(tiles,obj):\n",
    "    if type(obj)==shapely.geometry.polygon.Polygon:\n",
    "        tiles.append(obj)\n",
    "    elif type(obj)==shapely.geometry.MultiPolygon or type(obj)==shapely.geometry.collection:\n",
    "        for region in obj:\n",
    "            if type(obj)!=shapely.geometry.LineString:\n",
    "                tiles.append(region)        \n",
    "def BB2TileExact(objid):\n",
    "    bb_objects = bb_info[bb_info[\"object_id\"]==objid]\n",
    "    bb_objects =  bb_objects[bb_objects.worker_id!=3]\n",
    "    xylocs = [list(zip(*process_raw_locs([x,y]))) for x,y in zip(bb_objects[\"x_locs\"],bb_objects[\"y_locs\"])]\n",
    "    BB = []\n",
    "    for xyloc in xylocs:\n",
    "        BB.append(Polygon(xyloc).buffer(0))\n",
    "    tiles=[]\n",
    "    for i in range(len(BB)):\n",
    "        bi = BB[i]\n",
    "        # base case, when i=0, only 2 polygon intersecting\n",
    "        if i==0:\n",
    "            tiles.append(bi)\n",
    "        else: \n",
    "            xj_lst = []\n",
    "            for tj in tiles:\n",
    "                xj=tj.intersection(bi)\n",
    "                if xj.area>1e-10: #eliminating spurious LineString-looking Polygons \n",
    "                    tiles.remove(tj)\n",
    "                    add_object_to_tiles(tiles,xj)\n",
    "                    diff_region = (tj.symmetric_difference(xj)).difference(xj) \n",
    "                    add_object_to_tiles(tiles,diff_region)       \n",
    "                    xj_lst.append(xj)\n",
    "            leftovers = bi.difference(cascaded_union(xj_lst))\n",
    "            add_object_to_tiles(tiles,leftovers)\n",
    "    return tiles\n",
    "def visualizeTiles(tiles):\n",
    "    plt.figure()\n",
    "    for t in tiles: \n",
    "#     plt.title(tiles.index(t))\n",
    "        if type(t)==shapely.geometry.polygon.Polygon:\n",
    "            plot_coords(t,color=\"lime\",reverse_xy=True)\n",
    "        elif type(t)==shapely.geometry.MultiPolygon or type(t)==shapely.geometry.collection:\n",
    "            for region in t:\n",
    "                if type(t)!=shapely.geometry.LineString:\n",
    "                    plot_coords(region,color=\"lime\",reverse_xy=True)"
   ]
  },
  {
   "cell_type": "code",
   "execution_count": 14,
   "metadata": {
    "collapsed": false
   },
   "outputs": [
    {
     "name": "stderr",
     "output_type": "stream",
     "text": [
      "ERROR:shapely.geos:TopologyException: found non-noded intersection between LINESTRING (439 327, 444.612 313.372) and LINESTRING (444.612 313.372, 444.612 313.372) at 444.61157024793391 313.37190082644616\n"
     ]
    },
    {
     "ename": "TopologicalError",
     "evalue": "This operation could not be performed. Reason: unknown",
     "output_type": "error",
     "traceback": [
      "\u001b[0;31m---------------------------------------------------------------------------\u001b[0m",
      "\u001b[0;31mTopologicalError\u001b[0m                          Traceback (most recent call last)",
      "\u001b[0;32m<ipython-input-14-2354aa2e4c9d>\u001b[0m in \u001b[0;36m<module>\u001b[0;34m()\u001b[0m\n\u001b[0;32m----> 1\u001b[0;31m \u001b[0mtiles\u001b[0m \u001b[0;34m=\u001b[0m \u001b[0mBB2TileExact\u001b[0m\u001b[0;34m(\u001b[0m\u001b[0;36m14\u001b[0m\u001b[0;34m)\u001b[0m\u001b[0;34m\u001b[0m\u001b[0m\n\u001b[0m",
      "\u001b[0;32m<ipython-input-12-914fae1f7c3d>\u001b[0m in \u001b[0;36mBB2TileExact\u001b[0;34m(objid)\u001b[0m\n\u001b[1;32m     27\u001b[0m                     \u001b[0mtiles\u001b[0m\u001b[0;34m.\u001b[0m\u001b[0mremove\u001b[0m\u001b[0;34m(\u001b[0m\u001b[0mtj\u001b[0m\u001b[0;34m)\u001b[0m\u001b[0;34m\u001b[0m\u001b[0m\n\u001b[1;32m     28\u001b[0m                     \u001b[0madd_object_to_tiles\u001b[0m\u001b[0;34m(\u001b[0m\u001b[0mtiles\u001b[0m\u001b[0;34m,\u001b[0m\u001b[0mxj\u001b[0m\u001b[0;34m)\u001b[0m\u001b[0;34m\u001b[0m\u001b[0m\n\u001b[0;32m---> 29\u001b[0;31m                     \u001b[0mdiff_region\u001b[0m \u001b[0;34m=\u001b[0m \u001b[0;34m(\u001b[0m\u001b[0mtj\u001b[0m\u001b[0;34m.\u001b[0m\u001b[0msymmetric_difference\u001b[0m\u001b[0;34m(\u001b[0m\u001b[0mxj\u001b[0m\u001b[0;34m)\u001b[0m\u001b[0;34m)\u001b[0m\u001b[0;34m.\u001b[0m\u001b[0mdifference\u001b[0m\u001b[0;34m(\u001b[0m\u001b[0mxj\u001b[0m\u001b[0;34m)\u001b[0m\u001b[0;34m\u001b[0m\u001b[0m\n\u001b[0m\u001b[1;32m     30\u001b[0m                     \u001b[0madd_object_to_tiles\u001b[0m\u001b[0;34m(\u001b[0m\u001b[0mtiles\u001b[0m\u001b[0;34m,\u001b[0m\u001b[0mdiff_region\u001b[0m\u001b[0;34m)\u001b[0m\u001b[0;34m\u001b[0m\u001b[0m\n\u001b[1;32m     31\u001b[0m                     \u001b[0mxj_lst\u001b[0m\u001b[0;34m.\u001b[0m\u001b[0mappend\u001b[0m\u001b[0;34m(\u001b[0m\u001b[0mxj\u001b[0m\u001b[0;34m)\u001b[0m\u001b[0;34m\u001b[0m\u001b[0m\n",
      "\u001b[0;32m/Users/dorislee/.virtualenvs/py27dev/lib/python2.7/site-packages/shapely/geometry/base.pyc\u001b[0m in \u001b[0;36mdifference\u001b[0;34m(self, other)\u001b[0m\n\u001b[1;32m    614\u001b[0m     \u001b[0;32mdef\u001b[0m \u001b[0mdifference\u001b[0m\u001b[0;34m(\u001b[0m\u001b[0mself\u001b[0m\u001b[0;34m,\u001b[0m \u001b[0mother\u001b[0m\u001b[0;34m)\u001b[0m\u001b[0;34m:\u001b[0m\u001b[0;34m\u001b[0m\u001b[0m\n\u001b[1;32m    615\u001b[0m         \u001b[0;34m\"\"\"Returns the difference of the geometries\"\"\"\u001b[0m\u001b[0;34m\u001b[0m\u001b[0m\n\u001b[0;32m--> 616\u001b[0;31m         \u001b[0;32mreturn\u001b[0m \u001b[0mgeom_factory\u001b[0m\u001b[0;34m(\u001b[0m\u001b[0mself\u001b[0m\u001b[0;34m.\u001b[0m\u001b[0mimpl\u001b[0m\u001b[0;34m[\u001b[0m\u001b[0;34m'difference'\u001b[0m\u001b[0;34m]\u001b[0m\u001b[0;34m(\u001b[0m\u001b[0mself\u001b[0m\u001b[0;34m,\u001b[0m \u001b[0mother\u001b[0m\u001b[0;34m)\u001b[0m\u001b[0;34m)\u001b[0m\u001b[0;34m\u001b[0m\u001b[0m\n\u001b[0m\u001b[1;32m    617\u001b[0m \u001b[0;34m\u001b[0m\u001b[0m\n\u001b[1;32m    618\u001b[0m     \u001b[0;32mdef\u001b[0m \u001b[0mintersection\u001b[0m\u001b[0;34m(\u001b[0m\u001b[0mself\u001b[0m\u001b[0;34m,\u001b[0m \u001b[0mother\u001b[0m\u001b[0;34m)\u001b[0m\u001b[0;34m:\u001b[0m\u001b[0;34m\u001b[0m\u001b[0m\n",
      "\u001b[0;32m/Users/dorislee/.virtualenvs/py27dev/lib/python2.7/site-packages/shapely/topology.pyc\u001b[0m in \u001b[0;36m__call__\u001b[0;34m(self, this, other, *args)\u001b[0m\n\u001b[1;32m     68\u001b[0m             err = TopologicalError(\n\u001b[1;32m     69\u001b[0m                     \"This operation could not be performed. Reason: unknown\")\n\u001b[0;32m---> 70\u001b[0;31m             \u001b[0mself\u001b[0m\u001b[0;34m.\u001b[0m\u001b[0m_check_topology\u001b[0m\u001b[0;34m(\u001b[0m\u001b[0merr\u001b[0m\u001b[0;34m,\u001b[0m \u001b[0mthis\u001b[0m\u001b[0;34m,\u001b[0m \u001b[0mother\u001b[0m\u001b[0;34m)\u001b[0m\u001b[0;34m\u001b[0m\u001b[0m\n\u001b[0m\u001b[1;32m     71\u001b[0m         \u001b[0;32mreturn\u001b[0m \u001b[0mproduct\u001b[0m\u001b[0;34m\u001b[0m\u001b[0m\n\u001b[1;32m     72\u001b[0m \u001b[0;34m\u001b[0m\u001b[0m\n",
      "\u001b[0;32m/Users/dorislee/.virtualenvs/py27dev/lib/python2.7/site-packages/shapely/topology.pyc\u001b[0m in \u001b[0;36m_check_topology\u001b[0;34m(self, err, *geoms)\u001b[0m\n\u001b[1;32m     37\u001b[0m                     \"Likely cause is invalidity of the geometry %s\" % (\n\u001b[1;32m     38\u001b[0m                         self.fn.__name__, repr(geom)))\n\u001b[0;32m---> 39\u001b[0;31m         \u001b[0;32mraise\u001b[0m \u001b[0merr\u001b[0m\u001b[0;34m\u001b[0m\u001b[0m\n\u001b[0m\u001b[1;32m     40\u001b[0m \u001b[0;34m\u001b[0m\u001b[0m\n\u001b[1;32m     41\u001b[0m \u001b[0;34m\u001b[0m\u001b[0m\n",
      "\u001b[0;31mTopologicalError\u001b[0m: This operation could not be performed. Reason: unknown"
     ]
    }
   ],
   "source": [
    "tiles = BB2TileExact(14)"
   ]
  },
  {
   "cell_type": "code",
   "execution_count": 13,
   "metadata": {
    "collapsed": false
   },
   "outputs": [
    {
     "name": "stderr",
     "output_type": "stream",
     "text": [
      "  0%|          | 0/48 [00:00<?, ?it/s]ERROR:shapely.geos:TopologyException: Input geom 1 is invalid: Self-intersection at or near point 307.77777777777828 368.18518518518522 at 307.77777777777828 368.18518518518522\n",
      "WARNING:shapely.geos:Self-intersection at or near point 307.77777777777828 368.18518518518522\n",
      "  4%|▍         | 2/48 [00:01<00:23,  1.99it/s]ERROR:shapely.geos:TopologyException: found non-noded intersection between LINESTRING (223.249 428.801, 194.378 416.216) and LINESTRING (205.754 421.175, 208.413 422.334) at 207.92785108757749 422.12239662791836\n"
     ]
    },
    {
     "name": "stdout",
     "output_type": "stream",
     "text": [
      "topological error:  1\n",
      "topological error: "
     ]
    },
    {
     "name": "stderr",
     "output_type": "stream",
     "text": [
      "ERROR:shapely.geos:TopologyException: found non-noded intersection between LINESTRING (84.6264 336.44, 73.5 331) and LINESTRING (73.5 331, 73.5 331) at 73.500000000000128 331.00000000000006\n"
     ]
    },
    {
     "name": "stdout",
     "output_type": "stream",
     "text": [
      " 2\n",
      "bad"
     ]
    },
    {
     "name": "stderr",
     "output_type": "stream",
     "text": [
      "  8%|▊         | 4/48 [00:02<00:30,  1.45it/s]ERROR:shapely.geos:TopologyException: found non-noded intersection between LINESTRING (107.778 370.118, 107.746 369.704) and LINESTRING (107.773 370.048, 107.746 369.704) at 107.76950710803544 370.00359240446073\n"
     ]
    },
    {
     "name": "stdout",
     "output_type": "stream",
     "text": [
      " 3\n",
      "bad"
     ]
    },
    {
     "name": "stderr",
     "output_type": "stream",
     "text": [
      "ERROR:shapely.geos:TopologyException: found non-noded intersection between LINESTRING (454.824 168.118, 454.824 168.118) and LINESTRING (454.824 168.118, 454.824 168.118) at 454.82352941176475 168.11764705882368\n"
     ]
    },
    {
     "name": "stdout",
     "output_type": "stream",
     "text": [
      " 4\n",
      "topological error: "
     ]
    },
    {
     "name": "stderr",
     "output_type": "stream",
     "text": [
      " 12%|█▎        | 6/48 [00:04<00:29,  1.44it/s]ERROR:shapely.geos:TopologyException: found non-noded intersection between LINESTRING (509.853 221.265, 509.853 221.265) and LINESTRING (509.853 221.265, 509.853 221.265) at 509.85294117647055 221.2647058823535\n"
     ]
    },
    {
     "name": "stdout",
     "output_type": "stream",
     "text": [
      " 5\n",
      "topological error: "
     ]
    },
    {
     "name": "stderr",
     "output_type": "stream",
     "text": [
      "ERROR:shapely.geos:TopologyException: found non-noded intersection between LINESTRING (401.947 128.789, 401.947 128.789) and LINESTRING (401.947 128.789, 401.947 128.789) at 401.9473684210526 128.78947368421044\n"
     ]
    },
    {
     "name": "stdout",
     "output_type": "stream",
     "text": [
      " 6\n",
      "topological error: "
     ]
    },
    {
     "name": "stderr",
     "output_type": "stream",
     "text": [
      " 17%|█▋        | 8/48 [00:05<00:27,  1.47it/s]ERROR:shapely.geos:TopologyException: found non-noded intersection between LINESTRING (240.462 256.385, 240.462 256.385) and LINESTRING (240.462 256.385, 237 256) at 240.46153846153797 256.3846153846153\n"
     ]
    },
    {
     "name": "stdout",
     "output_type": "stream",
     "text": [
      " 7\n",
      "topological error: "
     ]
    },
    {
     "name": "stderr",
     "output_type": "stream",
     "text": [
      "ERROR:shapely.geos:TopologyException: found non-noded intersection between LINESTRING (380.688 238.396, 382.04 235.24) and LINESTRING (382.04 235.24, 381 237.667) at 381.09588815789471 237.44292763157895\n"
     ]
    },
    {
     "name": "stdout",
     "output_type": "stream",
     "text": [
      " 8\n",
      "bad"
     ]
    },
    {
     "name": "stderr",
     "output_type": "stream",
     "text": [
      " 21%|██        | 10/48 [00:07<00:28,  1.33it/s]ERROR:shapely.geos:TopologyException: found non-noded intersection between LINESTRING (538.421 269.643, 538.143 270.143) and LINESTRING (538.143 270.143, 538.543 266.343) at 538.14285714285711 270.14285714285722\n"
     ]
    },
    {
     "name": "stdout",
     "output_type": "stream",
     "text": [
      " 9\n",
      "bad"
     ]
    },
    {
     "name": "stderr",
     "output_type": "stream",
     "text": [
      "ERROR:shapely.geos:TopologyException: found non-noded intersection between LINESTRING (424.057 340.343, 424.2 341.2) and LINESTRING (424.912 341.732, 424.057 340.343) at 424.05714285714288 340.34285714285721\n"
     ]
    },
    {
     "name": "stdout",
     "output_type": "stream",
     "text": [
      " 10\n",
      "topological error: "
     ]
    },
    {
     "name": "stderr",
     "output_type": "stream",
     "text": [
      " 25%|██▌       | 12/48 [00:09<00:27,  1.33it/s]ERROR:shapely.geos:TopologyException: found non-noded intersection between LINESTRING (311.647 327.882, 316.667 336.667) and LINESTRING (316.667 336.667, 311.647 327.882) at 313.31340405014464 330.79845708775315\n"
     ]
    },
    {
     "name": "stdout",
     "output_type": "stream",
     "text": [
      " 11\n",
      "topological error: "
     ]
    },
    {
     "name": "stderr",
     "output_type": "stream",
     "text": [
      "ERROR:shapely.geos:TopologyException: Input geom 1 is invalid: Ring Self-intersection at or near point 220.46853146853144 390.23076923076923 at 220.46853146853144 390.23076923076923\n"
     ]
    },
    {
     "name": "stdout",
     "output_type": "stream",
     "text": [
      " 12\n",
      "bad"
     ]
    },
    {
     "name": "stderr",
     "output_type": "stream",
     "text": [
      " 29%|██▉       | 14/48 [00:10<00:25,  1.32it/s]ERROR:shapely.geos:TopologyException: found non-noded intersection between LINESTRING (439 327, 444.612 313.372) and LINESTRING (444.612 313.372, 444.612 313.372) at 444.61157024793391 313.37190082644616\n"
     ]
    },
    {
     "name": "stdout",
     "output_type": "stream",
     "text": [
      " 13\n",
      "topological error: "
     ]
    },
    {
     "name": "stderr",
     "output_type": "stream",
     "text": [
      "ERROR:shapely.geos:TopologyException: found non-noded intersection between LINESTRING (397.5 52.5, 397.5 52.5) and LINESTRING (397.5 52.5, 397.5 52.5) at 397.49999999999994 52.500000000000064\n"
     ]
    },
    {
     "name": "stdout",
     "output_type": "stream",
     "text": [
      " 14\n",
      "bad"
     ]
    },
    {
     "name": "stderr",
     "output_type": "stream",
     "text": [
      " 33%|███▎      | 16/48 [00:11<00:23,  1.36it/s]ERROR:shapely.geos:TopologyException: Input geom 0 is invalid: Self-intersection at or near point 355.86552567237163 477.0146699266503 at 355.86552567237163 477.0146699266503\n"
     ]
    },
    {
     "name": "stdout",
     "output_type": "stream",
     "text": [
      " 15\n",
      "bad"
     ]
    },
    {
     "name": "stderr",
     "output_type": "stream",
     "text": [
      "ERROR:shapely.geos:TopologyException: found non-noded intersection between LINESTRING (93.0081 177.878, 90.1401 183.102) and LINESTRING (96 179, 90.1401 183.102) at 90.140127388535035 183.10191082802547\n"
     ]
    },
    {
     "name": "stdout",
     "output_type": "stream",
     "text": [
      " 16\n",
      "topological error: "
     ]
    },
    {
     "name": "stderr",
     "output_type": "stream",
     "text": [
      " 38%|███▊      | 18/48 [00:12<00:20,  1.45it/s]ERROR:shapely.geos:TopologyException: found non-noded intersection between LINESTRING (252.422 338.857, 250.972 338.934) and LINESTRING (250.972 338.934, 252.858 338.731) at 250.97205346294089 338.93438639125151\n"
     ]
    },
    {
     "name": "stdout",
     "output_type": "stream",
     "text": [
      " 17\n",
      "topological error: "
     ]
    },
    {
     "name": "stderr",
     "output_type": "stream",
     "text": [
      "ERROR:shapely.geos:TopologyException: side location conflict at 75.299999999999997 261.89999999999998\n"
     ]
    },
    {
     "name": "stdout",
     "output_type": "stream",
     "text": [
      " 18\n",
      "topological error: "
     ]
    },
    {
     "name": "stderr",
     "output_type": "stream",
     "text": [
      " 42%|████▏     | 20/48 [00:14<00:19,  1.42it/s]ERROR:shapely.geos:TopologyException: found non-noded intersection between LINESTRING (490.476 234.904, 490.476 234.904) and LINESTRING (490.476 234.904, 490.476 234.904) at 490.47592738752957 234.90449881609996\n"
     ]
    },
    {
     "name": "stdout",
     "output_type": "stream",
     "text": [
      " 19\n",
      "topological error: "
     ]
    },
    {
     "name": "stderr",
     "output_type": "stream",
     "text": [
      "ERROR:shapely.geos:TopologyException: found non-noded intersection between LINESTRING (296 112, 295.688 102.798) and LINESTRING (295.794 105.921, 295.785 105.647) at 295.79047347145104 105.81896740780493\n"
     ]
    },
    {
     "name": "stdout",
     "output_type": "stream",
     "text": [
      " 20\n",
      "topological error: "
     ]
    },
    {
     "name": "stderr",
     "output_type": "stream",
     "text": [
      " 46%|████▌     | 22/48 [00:15<00:17,  1.46it/s]ERROR:shapely.geos:TopologyException: found non-noded intersection between LINESTRING (396.296 132.535, 396.176 130.706) and LINESTRING (395.727 130.545, 396.296 132.535) at 396.2957746478873 132.5352112676054\n"
     ]
    },
    {
     "name": "stdout",
     "output_type": "stream",
     "text": [
      " 21\n",
      "bad"
     ]
    },
    {
     "name": "stderr",
     "output_type": "stream",
     "text": [
      "ERROR:shapely.geos:TopologyException: found non-noded intersection between LINESTRING (517.177 124.58, 516.669 124.351) and LINESTRING (517.177 124.58, 516.669 124.351) at 516.78605977365737 124.40372689814578\n"
     ]
    },
    {
     "name": "stdout",
     "output_type": "stream",
     "text": [
      " 22\n",
      "topological error: "
     ]
    },
    {
     "name": "stderr",
     "output_type": "stream",
     "text": [
      " 50%|█████     | 24/48 [00:20<00:20,  1.19it/s]ERROR:shapely.geos:TopologyException: found non-noded intersection between LINESTRING (347.228 257.485, 347.228 257.485) and LINESTRING (347.228 257.485, 347.228 257.485) at 347.22772277227716 257.48514851485123\n"
     ]
    },
    {
     "name": "stdout",
     "output_type": "stream",
     "text": [
      " 23\n",
      "topological error: "
     ]
    },
    {
     "name": "stderr",
     "output_type": "stream",
     "text": [
      "ERROR:shapely.geos:TopologyException: found non-noded intersection between LINESTRING (596.366 349.849, 596.366 349.849) and LINESTRING (596.366 349.849, 596.366 349.849) at 596.36559139785084 349.84946236559324\n"
     ]
    },
    {
     "name": "stdout",
     "output_type": "stream",
     "text": [
      " 24\n",
      "bad"
     ]
    },
    {
     "name": "stderr",
     "output_type": "stream",
     "text": [
      " 54%|█████▍    | 26/48 [00:21<00:18,  1.20it/s]ERROR:shapely.geos:TopologyException: Input geom 1 is invalid: Self-intersection at or near point 89 285 at 89 285\n",
      "WARNING:shapely.geos:Self-intersection at or near point 89 285\n"
     ]
    },
    {
     "name": "stdout",
     "output_type": "stream",
     "text": [
      " 25\n",
      "topological error: "
     ]
    },
    {
     "name": "stderr",
     "output_type": "stream",
     "text": [
      "ERROR:shapely.geos:TopologyException: found non-noded intersection between LINESTRING (50.5517 485.517, 51.89 484.346) and LINESTRING (50.5517 485.517, 50.5517 485.517) at 50.551724137931096 485.51724137931024\n"
     ]
    },
    {
     "name": "stdout",
     "output_type": "stream",
     "text": [
      " 26\n",
      "bad"
     ]
    },
    {
     "name": "stderr",
     "output_type": "stream",
     "text": [
      " 58%|█████▊    | 28/48 [00:23<00:16,  1.19it/s]ERROR:shapely.geos:TopologyException: found non-noded intersection between LINESTRING (352.099 63.0514, 352.634 62.554) and LINESTRING (350.84 64.22, 362.353 53.5294) at 352.13049407876792 63.021684069715484\n"
     ]
    },
    {
     "name": "stdout",
     "output_type": "stream",
     "text": [
      " 27\n",
      "topological error: "
     ]
    },
    {
     "name": "stderr",
     "output_type": "stream",
     "text": [
      "ERROR:shapely.geos:TopologyException: found non-noded intersection between LINESTRING (494 187, 487.593 176.475) and LINESTRING (489 180, 489.229 179.161) at 489.22869955156949 179.16143497757847\n"
     ]
    },
    {
     "name": "stdout",
     "output_type": "stream",
     "text": [
      " 28\n",
      "topological error: "
     ]
    },
    {
     "name": "stderr",
     "output_type": "stream",
     "text": [
      " 62%|██████▎   | 30/48 [00:25<00:15,  1.17it/s]ERROR:shapely.geos:TopologyException: found non-noded intersection between LINESTRING (60 114, 42 118) and LINESTRING (55.236 115.059, 57.25 114.611) at 55.236048780487806 115.05865582655827\n"
     ]
    },
    {
     "name": "stdout",
     "output_type": "stream",
     "text": [
      " 29\n",
      "topological error: "
     ]
    },
    {
     "name": "stderr",
     "output_type": "stream",
     "text": [
      "ERROR:shapely.geos:TopologyException: found non-noded intersection between LINESTRING (26.3705 337.113, 27.4667 355.2) and LINESTRING (27.2593 351.778, 27.2593 351.778) at 27.25925925925926 351.77777777777777\n"
     ]
    },
    {
     "name": "stdout",
     "output_type": "stream",
     "text": [
      " 30\n",
      "bad"
     ]
    },
    {
     "name": "stderr",
     "output_type": "stream",
     "text": [
      " 67%|██████▋   | 32/48 [00:26<00:13,  1.21it/s]ERROR:shapely.geos:TopologyException: found non-noded intersection between LINESTRING (362 380, 371.994 357.706) and LINESTRING (374.846 347.513, 371.372 359.093) at 371.37209302325584 359.09302325581388\n"
     ]
    },
    {
     "name": "stdout",
     "output_type": "stream",
     "text": [
      " 31\n",
      "topological error: "
     ]
    },
    {
     "name": "stderr",
     "output_type": "stream",
     "text": [
      "ERROR:shapely.geos:TopologyException: found non-noded intersection between LINESTRING (418.587 277.806, 418.357 274.357) and LINESTRING (418.357 274.357, 418.357 274.357) at 418.35714285711782 274.35714285746798\n"
     ]
    },
    {
     "name": "stdout",
     "output_type": "stream",
     "text": [
      " 32\n",
      "topological error: "
     ]
    },
    {
     "name": "stderr",
     "output_type": "stream",
     "text": [
      " 71%|███████   | 34/48 [00:27<00:11,  1.26it/s]ERROR:shapely.geos:TopologyException: found non-noded intersection between LINESTRING (64 151, 109.319 249.191) and LINESTRING (65.2397 153.686, 109.319 249.191) at 75.329787234042357 175.54787234042507\n"
     ]
    },
    {
     "name": "stdout",
     "output_type": "stream",
     "text": [
      " 33\n",
      "topological error: "
     ]
    },
    {
     "name": "stderr",
     "output_type": "stream",
     "text": [
      "ERROR:shapely.geos:TopologyException: side location conflict at 261 75\n"
     ]
    },
    {
     "name": "stdout",
     "output_type": "stream",
     "text": [
      " 34\n",
      "topological error: "
     ]
    },
    {
     "name": "stderr",
     "output_type": "stream",
     "text": [
      " 75%|███████▌  | 36/48 [00:29<00:09,  1.20it/s]ERROR:shapely.geos:TopologyException: found non-noded intersection between LINESTRING (277.5 591.472, 280.038 597.253) and LINESTRING (280.528 597.046, 280.038 597.253) at 280.03797461234188 597.25316439477842\n"
     ]
    },
    {
     "name": "stdout",
     "output_type": "stream",
     "text": [
      " 35\n",
      "bad"
     ]
    },
    {
     "name": "stderr",
     "output_type": "stream",
     "text": [
      "ERROR:shapely.geos:TopologyException: found non-noded intersection between LINESTRING (557.836 234.131, 556 230) and LINESTRING (557.836 234.131, 556.167 230.375) at 556.94840935730429 232.1339210539347\n"
     ]
    },
    {
     "name": "stdout",
     "output_type": "stream",
     "text": [
      " 36\n",
      "topological error: "
     ]
    },
    {
     "name": "stderr",
     "output_type": "stream",
     "text": [
      " 79%|███████▉  | 38/48 [00:32<00:08,  1.16it/s]ERROR:shapely.geos:TopologyException: found non-noded intersection between LINESTRING (493.133 198.773, 493.714 254.571) and LINESTRING (493.714 254.571, 492 222) at 493.71428571428555 254.57142857141503\n"
     ]
    },
    {
     "name": "stdout",
     "output_type": "stream",
     "text": [
      " 37\n",
      "topological error: "
     ]
    },
    {
     "name": "stderr",
     "output_type": "stream",
     "text": [
      "ERROR:shapely.geos:TopologyException: found non-noded intersection between LINESTRING (78.234 360.915, 78.234 360.915) and LINESTRING (78.234 360.915, 78.234 360.915) at 78.234042553191443 360.91489361702122\n"
     ]
    },
    {
     "name": "stdout",
     "output_type": "stream",
     "text": [
      " 38\n",
      "topological error: "
     ]
    },
    {
     "name": "stderr",
     "output_type": "stream",
     "text": [
      " 83%|████████▎ | 40/48 [00:33<00:06,  1.18it/s]ERROR:shapely.geos:TopologyException: Input geom 1 is invalid: Self-intersection at or near point 169.03864205575152 157.75186312638732 at 169.03864205575152 157.75186312638732\n",
      "WARNING:shapely.geos:Self-intersection at or near point 169.03864205575152 157.75186312638732\n"
     ]
    },
    {
     "name": "stdout",
     "output_type": "stream",
     "text": [
      " 39\n",
      "topological error: "
     ]
    },
    {
     "name": "stderr",
     "output_type": "stream",
     "text": [
      "ERROR:shapely.geos:TopologyException: found non-noded intersection between LINESTRING (394.136 535.682, 394.136 535.682) and LINESTRING (394.136 535.682, 394.136 535.682) at 394.13636363636459 535.68181818181824\n"
     ]
    },
    {
     "name": "stdout",
     "output_type": "stream",
     "text": [
      " 40\n",
      "topological error: "
     ]
    },
    {
     "name": "stderr",
     "output_type": "stream",
     "text": [
      " 88%|████████▊ | 42/48 [00:36<00:05,  1.16it/s]ERROR:shapely.geos:TopologyException: found non-noded intersection between LINESTRING (170 491, 175 488.727) and LINESTRING (175 488.727, 175 488.727) at 174.99999999999983 488.72727272727275\n"
     ]
    },
    {
     "name": "stdout",
     "output_type": "stream",
     "text": [
      " 41\n",
      "bad"
     ]
    },
    {
     "name": "stderr",
     "output_type": "stream",
     "text": [
      "ERROR:shapely.geos:TopologyException: side location conflict at 184 299\n",
      " 92%|█████████▏| 44/48 [00:36<00:03,  1.20it/s]ERROR:shapely.geos:TopologyException: found non-noded intersection between LINESTRING (272 299, 261.523 298.345) and LINESTRING (262.027 298.441, 261.871 298.367) at 261.87050359712237 298.36690647482015\n"
     ]
    },
    {
     "name": "stdout",
     "output_type": "stream",
     "text": [
      " 42\n",
      "topological error:  43\n",
      "topological error: "
     ]
    },
    {
     "name": "stderr",
     "output_type": "stream",
     "text": [
      "ERROR:shapely.geos:TopologyException: side location conflict at 102 142\n"
     ]
    },
    {
     "name": "stdout",
     "output_type": "stream",
     "text": [
      " 44\n",
      "topological error: "
     ]
    },
    {
     "name": "stderr",
     "output_type": "stream",
     "text": [
      " 96%|█████████▌| 46/48 [00:38<00:01,  1.21it/s]ERROR:shapely.geos:TopologyException: found non-noded intersection between LINESTRING (108.545 425.663, 110 424) and LINESTRING (108.86 425.302, 109.826 421.826) at 108.86046511627907 425.30232558139534\n"
     ]
    },
    {
     "name": "stdout",
     "output_type": "stream",
     "text": [
      " 45\n",
      "topological error: "
     ]
    },
    {
     "name": "stderr",
     "output_type": "stream",
     "text": [
      "ERROR:shapely.geos:TopologyException: found non-noded intersection between LINESTRING (207.545 171.182, 208.816 155.296) and LINESTRING (208.861 154.737, 208.432 160.099) at 208.80523055348155 155.43461808148064\n"
     ]
    },
    {
     "name": "stdout",
     "output_type": "stream",
     "text": [
      " 46\n",
      "bad"
     ]
    },
    {
     "name": "stderr",
     "output_type": "stream",
     "text": [
      "                                               "
     ]
    },
    {
     "name": "stdout",
     "output_type": "stream",
     "text": [
      " 47\n"
     ]
    },
    {
     "name": "stderr",
     "output_type": "stream",
     "text": [
      "\r"
     ]
    },
    {
     "data": {
      "image/png": "[encoded data removed]",
      "text/plain": [
       "<matplotlib.figure.Figure at 0x1115843d0>"
      ]
     },
     "metadata": {},
     "output_type": "display_data"
    }
   ],
   "source": [
    "for objid in tqdm(range(48)):\n",
    "    try: \n",
    "        tiles = BB2TileExact(objid) \n",
    "        visualizeTiles(tiles)\n",
    "        plt.title(objid)\n",
    "    except(shapely.errors.TopologicalError):\n",
    "        #TopologicalError: The operation 'GEOSDifference_r' could not be performed. Likely cause is invalidity of the geometry <shapely.geometry.multipolygon.MultiPolygon object at 0x10ae127d0>\n",
    "        print \"topological error: \" , objid\n",
    "        pass\n",
    "    except:\n",
    "        print \"bad\",objid\n",
    "        pass"
   ]
  },
  {
   "cell_type": "code",
   "execution_count": 179,
   "metadata": {
    "collapsed": false
   },
   "outputs": [
    {
     "data": {
      "text/plain": [
       "1.2523315717771766e-13"
      ]
     },
     "execution_count": 179,
     "metadata": {},
     "output_type": "execute_result"
    }
   ],
   "source": [
    "tiles[0].area"
   ]
  },
  {
   "cell_type": "code",
   "execution_count": null,
   "metadata": {
    "collapsed": true
   },
   "outputs": [],
   "source": []
  }
 ],
 "metadata": {
  "kernelspec": {
   "display_name": "Python 2",
   "language": "python",
   "name": "python2"
  },
  "language_info": {
   "codemirror_mode": {
    "name": "ipython",
    "version": 2
   },
   "file_extension": ".py",
   "mimetype": "text/x-python",
   "name": "python",
   "nbconvert_exporter": "python",
   "pygments_lexer": "ipython2",
   "version": "2.7.10"
  }
 },
 "nbformat": 4,
 "nbformat_minor": 0
}
