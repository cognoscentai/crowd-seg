{
 "cells": [
  {
   "cell_type": "code",
   "execution_count": 1,
   "metadata": {
    "collapsed": false
   },
   "outputs": [
    {
     "name": "stdout",
     "output_type": "stream",
     "text": [
      "/Users/dorislee/Desktop/Research/seg/crowd-seg/analysis/TileEM\n"
     ]
    }
   ],
   "source": [
    "cd TileEM/"
   ]
  },
  {
   "cell_type": "code",
   "execution_count": 2,
   "metadata": {
    "collapsed": false
   },
   "outputs": [
    {
     "name": "stdout",
     "output_type": "stream",
     "text": [
      "Populating the interactive namespace from numpy and matplotlib\n"
     ]
    }
   ],
   "source": [
    "%pylab inline\n",
    "%load_ext autoreload\n",
    "%autoreload 2\n",
    "from TileEM_plot_toolbox import *"
   ]
  },
  {
   "cell_type": "code",
   "execution_count": 3,
   "metadata": {
    "collapsed": false
   },
   "outputs": [],
   "source": [
    "img_info,object_tbl,bb_info,hit_info = load_info()"
   ]
  },
  {
   "cell_type": "code",
   "execution_count": 113,
   "metadata": {
    "collapsed": false
   },
   "outputs": [
    {
     "data": {
      "image/svg+xml": [
       "<svg xmlns=\"http://www.w3.org/2000/svg\" xmlns:xlink=\"http://www.w3.org/1999/xlink\" width=\"187.8\" height=\"199.8\" viewBox=\"396.6 190.6 187.8 199.8\" preserveAspectRatio=\"xMinYMin meet\"><g transform=\"matrix(1,0,0,-1,0,581.0)\"><g><path fill-rule=\"evenodd\" fill=\"#66cc99\" stroke=\"#555555\" stroke-width=\"2.0\" opacity=\"0.6\" d=\"M 488.428571429,203.428571429 L 483.0,198.0 L 478.777777778,198.0 L 488.428571429,203.428571429 z\" /><path fill-rule=\"evenodd\" fill=\"#66cc99\" stroke=\"#555555\" stroke-width=\"2.0\" opacity=\"0.6\" d=\"M 573.222222222,258.888888889 L 572.0,254.0 L 568.0,233.0 L 565.6,230.066666667 L 566.0,231.0 L 566.0,237.0 L 571.0,254.0 L 573.222222222,258.888888889 z\" /><path fill-rule=\"evenodd\" fill=\"#66cc99\" stroke=\"#555555\" stroke-width=\"2.0\" opacity=\"0.6\" d=\"M 576.857142857,284.571428571 L 577.0,282.0 L 576.0,275.333333333 L 576.0,276.0 L 576.857142857,284.571428571 z\" /><path fill-rule=\"evenodd\" fill=\"#66cc99\" stroke=\"#555555\" stroke-width=\"2.0\" opacity=\"0.6\" d=\"M 564.0,335.818181818 L 569.0,334.0 L 564.0,332.888888889 L 564.0,335.818181818 z\" /><path fill-rule=\"evenodd\" fill=\"#66cc99\" stroke=\"#555555\" stroke-width=\"2.0\" opacity=\"0.6\" d=\"M 498.0,362.0 L 495.0,373.0 L 495.0,383.0 L 509.0,376.0 L 512.174193548,367.270967742 L 511.0,367.0 L 503.0,367.0 L 498.0,362.0 z\" /><path fill-rule=\"evenodd\" fill=\"#66cc99\" stroke=\"#555555\" stroke-width=\"2.0\" opacity=\"0.6\" d=\"M 470.5,360.75 L 471.0,362.0 L 478.0,374.0 L 480.0,367.0 L 481.0,361.0 L 498.0,362.0 L 497.0,361.0 L 484.0,361.0 L 481.0,354.0 L 471.0,352.0 L 472.0,360.0 L 470.5,360.75 z\" /><path fill-rule=\"evenodd\" fill=\"#66cc99\" stroke=\"#555555\" stroke-width=\"2.0\" opacity=\"0.6\" d=\"M 451.0,372.166666667 L 452.0,372.0 L 451.0,367.0 L 451.0,372.166666667 z\" /><path fill-rule=\"evenodd\" fill=\"#66cc99\" stroke=\"#555555\" stroke-width=\"2.0\" opacity=\"0.6\" d=\"M 438.142857143,364.714285714 L 440.0,374.0 L 446.576923077,372.903846154 L 441.0,369.0 L 438.142857143,364.714285714 z\" /><path fill-rule=\"evenodd\" fill=\"#66cc99\" stroke=\"#555555\" stroke-width=\"2.0\" opacity=\"0.6\" d=\"M 435.517241379,285.965517241 L 438.571428571,288.714285714 L 438.0,287.0 L 435.517241379,285.965517241 z\" /><path fill-rule=\"evenodd\" fill=\"#66cc99\" stroke=\"#555555\" stroke-width=\"2.0\" opacity=\"0.6\" d=\"M 415.6875,266.0625 L 418.0,273.0 L 421.827586207,275.551724138 L 415.6875,266.0625 z\" /><path fill-rule=\"evenodd\" fill=\"#66cc99\" stroke=\"#555555\" stroke-width=\"2.0\" opacity=\"0.6\" d=\"M 406.5,230.5 L 404.0,238.0 L 412.0,255.0 L 414.555555556,262.666666667 L 411.0,244.0 L 406.5,230.5 z\" /><path fill-rule=\"evenodd\" fill=\"#66cc99\" stroke=\"#555555\" stroke-width=\"2.0\" opacity=\"0.6\" d=\"M 424.25,227.8125 L 416.0,223.0 L 408.0,226.0 L 418.0,226.0 L 423.0,230.0 L 424.25,227.8125 z\" /><path fill-rule=\"evenodd\" fill=\"#66cc99\" stroke=\"#555555\" stroke-width=\"2.0\" opacity=\"0.6\" d=\"M 433.379310345,216.206896552 L 432.0,215.0 L 431.512195122,216.829268293 L 433.379310345,216.206896552 z\" /></g></g></svg>"
      ],
      "text/plain": [
       "<shapely.geometry.multipolygon.MultiPolygon at 0x107df6050>"
      ]
     },
     "execution_count": 113,
     "metadata": {},
     "output_type": "execute_result"
    }
   ],
   "source": [
    "nonoverlap = (polygon.symmetric_difference(polygon2)).difference(polygon2)\n",
    "nonoverlap==polygon.difference(polygon2)\n",
    "nonoverlap"
   ]
  },
  {
   "cell_type": "code",
   "execution_count": 15,
   "metadata": {
    "collapsed": false
   },
   "outputs": [],
   "source": [
    "objid=14\n",
    "bb_objects = bb_info[bb_info[\"object_id\"]==objid]\n",
    "bb_objects =  bb_objects[bb_objects.worker_id!=3]"
   ]
  },
  {
   "cell_type": "code",
   "execution_count": 16,
   "metadata": {
    "collapsed": false
   },
   "outputs": [],
   "source": [
    "obj_x_locs = [process_raw_locs([x,y])[0] for x,y in zip(bb_objects[\"x_locs\"],bb_objects[\"y_locs\"])]\n",
    "obj_y_locs = [process_raw_locs([x,y])[1] for x,y in zip(bb_objects[\"x_locs\"],bb_objects[\"y_locs\"])]"
   ]
  },
  {
   "cell_type": "code",
   "execution_count": 17,
   "metadata": {
    "collapsed": true
   },
   "outputs": [],
   "source": [
    "xylocs = [list(zip(*process_raw_locs([x,y]))) for x,y in zip(bb_objects[\"x_locs\"],bb_objects[\"y_locs\"])]"
   ]
  },
  {
   "cell_type": "code",
   "execution_count": 18,
   "metadata": {
    "collapsed": false
   },
   "outputs": [],
   "source": [
    "BB = []\n",
    "for xyloc in xylocs:\n",
    "    BB.append(Polygon(xyloc).buffer(0))"
   ]
  },
  {
   "cell_type": "code",
   "execution_count": 147,
   "metadata": {
    "collapsed": true
   },
   "outputs": [],
   "source": [
    "def add_object_to_tiles(tiles,obj):\n",
    "    if obj==[]:\n",
    "        return\n",
    "    if  obj.is_valid:\n",
    "        if type(obj)==shapely.geometry.polygon.Polygon and obj.area>1e-10:\n",
    "            tiles.append(obj)\n",
    "        elif type(obj)==shapely.geometry.MultiPolygon or type(obj)==shapely.geometry.collection:\n",
    "            for region in obj:\n",
    "                if type(region)!=shapely.geometry.LineString and obj.area>1e-10:\n",
    "                    tiles.append(region)        "
   ]
  },
  {
   "cell_type": "code",
   "execution_count": 148,
   "metadata": {
    "collapsed": false,
    "scrolled": true
   },
   "outputs": [
    {
     "name": "stderr",
     "output_type": "stream",
     "text": [
      "  8%|▊         | 3/39 [00:00<00:04,  8.70it/s]ERROR:shapely.geos:TopologyException: found non-noded intersection between LINESTRING (439 327, 444.612 313.372) and LINESTRING (444.612 313.372, 444.612 313.372) at 444.61157024793391 313.37190082644616\n",
      " 15%|█▌        | 6/39 [00:04<00:24,  1.37it/s]ERROR:shapely.geos:TopologyException: Input geom 1 is invalid: Self-intersection at or near point 564.5 326.79999999999995 at 564.5 326.79999999999995\n",
      "WARNING:shapely.geos:Self-intersection at or near point 564.5 326.79999999999995\n",
      "ERROR:shapely.geos:TopologyException: found non-noded intersection between LINESTRING (414.556 262.667, 413.5 259.5) and LINESTRING (413.5 259.5, 412 255) at 413.50000000000011 259.50000000000023\n"
     ]
    },
    {
     "name": "stdout",
     "output_type": "stream",
     "text": [
      "error\n",
      "error"
     ]
    },
    {
     "name": "stderr",
     "output_type": "stream",
     "text": [
      "ERROR:shapely.geos:TopologyException: Input geom 1 is invalid: Self-intersection at or near point 411.05000000000007 226.90000000000001 at 411.05000000000007 226.90000000000001\n",
      "WARNING:shapely.geos:Self-intersection at or near point 411.05000000000007 226.90000000000001\n"
     ]
    },
    {
     "name": "stdout",
     "output_type": "stream",
     "text": [
      "\n"
     ]
    },
    {
     "ename": "KeyboardInterrupt",
     "evalue": "",
     "output_type": "error",
     "traceback": [
      "\u001b[0;31m---------------------------------------------------------------------------\u001b[0m",
      "\u001b[0;31mKeyboardInterrupt\u001b[0m                         Traceback (most recent call last)",
      "\u001b[0;32m<ipython-input-148-37ed896a43a7>\u001b[0m in \u001b[0;36m<module>\u001b[0;34m()\u001b[0m\n\u001b[1;32m     12\u001b[0m                 \u001b[0mxj\u001b[0m\u001b[0;34m=\u001b[0m\u001b[0mtj\u001b[0m\u001b[0;34m.\u001b[0m\u001b[0mintersection\u001b[0m\u001b[0;34m(\u001b[0m\u001b[0mbi\u001b[0m\u001b[0;34m)\u001b[0m\u001b[0;34m\u001b[0m\u001b[0m\n\u001b[1;32m     13\u001b[0m                 \u001b[0;32mif\u001b[0m \u001b[0mxj\u001b[0m\u001b[0;34m.\u001b[0m\u001b[0marea\u001b[0m\u001b[0;34m>\u001b[0m\u001b[0;36m1e-10\u001b[0m\u001b[0;34m:\u001b[0m \u001b[0;31m#eliminating spurious LineString-looking Polygons\u001b[0m\u001b[0;34m\u001b[0m\u001b[0m\n\u001b[0;32m---> 14\u001b[0;31m                     \u001b[0mtiles\u001b[0m\u001b[0;34m.\u001b[0m\u001b[0mremove\u001b[0m\u001b[0;34m(\u001b[0m\u001b[0mtj\u001b[0m\u001b[0;34m)\u001b[0m\u001b[0;34m\u001b[0m\u001b[0m\n\u001b[0m\u001b[1;32m     15\u001b[0m                     \u001b[0madd_object_to_tiles\u001b[0m\u001b[0;34m(\u001b[0m\u001b[0mtiles\u001b[0m\u001b[0;34m,\u001b[0m\u001b[0mxj\u001b[0m\u001b[0;34m)\u001b[0m\u001b[0;34m\u001b[0m\u001b[0m\n\u001b[1;32m     16\u001b[0m                     \u001b[0mdiff_region\u001b[0m \u001b[0;34m=\u001b[0m \u001b[0;34m(\u001b[0m\u001b[0mtj\u001b[0m\u001b[0;34m.\u001b[0m\u001b[0msymmetric_difference\u001b[0m\u001b[0;34m(\u001b[0m\u001b[0mxj\u001b[0m\u001b[0;34m)\u001b[0m\u001b[0;34m)\u001b[0m\u001b[0;34m.\u001b[0m\u001b[0mdifference\u001b[0m\u001b[0;34m(\u001b[0m\u001b[0mxj\u001b[0m\u001b[0;34m)\u001b[0m\u001b[0;31m#.buffer(0)\u001b[0m\u001b[0;34m\u001b[0m\u001b[0m\n",
      "\u001b[0;32m/Users/dorislee/.virtualenvs/py27dev/lib/python2.7/site-packages/shapely/geometry/polygon.pyc\u001b[0m in \u001b[0;36m__eq__\u001b[0;34m(self, other)\u001b[0m\n\u001b[1;32m    265\u001b[0m         my_coords = [\n\u001b[1;32m    266\u001b[0m             \u001b[0mtuple\u001b[0m\u001b[0;34m(\u001b[0m\u001b[0mself\u001b[0m\u001b[0;34m.\u001b[0m\u001b[0mexterior\u001b[0m\u001b[0;34m.\u001b[0m\u001b[0mcoords\u001b[0m\u001b[0;34m)\u001b[0m\u001b[0;34m,\u001b[0m\u001b[0;34m\u001b[0m\u001b[0m\n\u001b[0;32m--> 267\u001b[0;31m             \u001b[0;34m[\u001b[0m\u001b[0mtuple\u001b[0m\u001b[0;34m(\u001b[0m\u001b[0minterior\u001b[0m\u001b[0;34m.\u001b[0m\u001b[0mcoords\u001b[0m\u001b[0;34m)\u001b[0m \u001b[0;32mfor\u001b[0m \u001b[0minterior\u001b[0m \u001b[0;32min\u001b[0m \u001b[0mself\u001b[0m\u001b[0;34m.\u001b[0m\u001b[0minteriors\u001b[0m\u001b[0;34m]\u001b[0m\u001b[0;34m\u001b[0m\u001b[0m\n\u001b[0m\u001b[1;32m    268\u001b[0m         ]\n\u001b[1;32m    269\u001b[0m         other_coords = [\n",
      "\u001b[0;32m/Users/dorislee/.virtualenvs/py27dev/lib/python2.7/site-packages/shapely/geometry/polygon.pyc\u001b[0m in \u001b[0;36minteriors\u001b[0;34m(self)\u001b[0m\n\u001b[1;32m    249\u001b[0m         \u001b[0;32mreturn\u001b[0m \u001b[0mself\u001b[0m\u001b[0;34m.\u001b[0m\u001b[0m_exterior\u001b[0m\u001b[0;34m(\u001b[0m\u001b[0;34m)\u001b[0m\u001b[0;34m\u001b[0m\u001b[0m\n\u001b[1;32m    250\u001b[0m \u001b[0;34m\u001b[0m\u001b[0m\n\u001b[0;32m--> 251\u001b[0;31m     \u001b[0;34m@\u001b[0m\u001b[0mproperty\u001b[0m\u001b[0;34m\u001b[0m\u001b[0m\n\u001b[0m\u001b[1;32m    252\u001b[0m     \u001b[0;32mdef\u001b[0m \u001b[0minteriors\u001b[0m\u001b[0;34m(\u001b[0m\u001b[0mself\u001b[0m\u001b[0;34m)\u001b[0m\u001b[0;34m:\u001b[0m\u001b[0;34m\u001b[0m\u001b[0m\n\u001b[1;32m    253\u001b[0m         \u001b[0;32mif\u001b[0m \u001b[0mself\u001b[0m\u001b[0;34m.\u001b[0m\u001b[0mis_empty\u001b[0m\u001b[0;34m:\u001b[0m\u001b[0;34m\u001b[0m\u001b[0m\n",
      "\u001b[0;31mKeyboardInterrupt\u001b[0m: "
     ]
    }
   ],
   "source": [
    "tiles=[]\n",
    "\n",
    "for i in tqdm(range(len(BB))):\n",
    "    bi = BB[i]\n",
    "    # base case, when i=0, only 2 polygon intersecting\n",
    "    if i==0:\n",
    "        tiles.append(bi)\n",
    "    else: \n",
    "        xj_lst = []\n",
    "        for tj in tiles:\n",
    "            try:\n",
    "                xj=tj.intersection(bi)\n",
    "                if xj.area>1e-10: #eliminating spurious LineString-looking Polygons \n",
    "                    tiles.remove(tj)\n",
    "                    add_object_to_tiles(tiles,xj)\n",
    "                    diff_region = (tj.symmetric_difference(xj)).difference(xj)#.buffer(0)\n",
    "                    add_object_to_tiles(tiles,diff_region)       \n",
    "                    xj_lst.append(xj)\n",
    "            except(shapely.errors.TopologicalError):\n",
    "                print \"error\"\n",
    "                xj_lst=xj_lst[:-1]\n",
    "                pass\n",
    "        try:\n",
    "            leftovers = bi.difference(cascaded_union(xj_lst))\n",
    "        except(shapely.errors.TopologicalError):\n",
    "            leftovers = bi.difference(cascaded_union(xj_lst).buffer(1e-10))\n",
    "        except(ValueError):\n",
    "            #ERROR:shapely.geos:TopologyException: no outgoing dirEdge \n",
    "            leftovers=[]\n",
    "        add_object_to_tiles(tiles,leftovers)"
   ]
  },
  {
   "cell_type": "code",
   "execution_count": 149,
   "metadata": {
    "collapsed": false
   },
   "outputs": [
    {
     "name": "stdout",
     "output_type": "stream",
     "text": [
      "585\n"
     ]
    }
   ],
   "source": [
    "print len(tiles)"
   ]
  },
  {
   "cell_type": "code",
   "execution_count": 152,
   "metadata": {
    "collapsed": false
   },
   "outputs": [
    {
     "data": {
      "text/plain": [
       "8.0779356694631609e-28"
      ]
     },
     "execution_count": 152,
     "metadata": {},
     "output_type": "execute_result"
    }
   ],
   "source": [
    "np.min([t.area for t in tiles])"
   ]
  },
  {
   "cell_type": "code",
   "execution_count": 150,
   "metadata": {
    "collapsed": false,
    "scrolled": false
   },
   "outputs": [
    {
     "data": {
      "image/png": "[encoded data removed]",
      "text/plain": [
       "<matplotlib.figure.Figure at 0x10df042d0>"
      ]
     },
     "metadata": {},
     "output_type": "display_data"
    }
   ],
   "source": [
    "for t in tiles: \n",
    "#     plt.figure()\n",
    "#     plt.title(tiles.index(t))\n",
    "    if t.area>0:\n",
    "        if type(t)==shapely.geometry.polygon.Polygon:\n",
    "            plot_coords(t,color=\"lime\",reverse_xy=True)\n",
    "        elif type(t)==shapely.geometry.MultiPolygon or type(t)==shapely.geometry.collection:\n",
    "            for region in t:\n",
    "                if type(t)!=shapely.geometry.LineString :\n",
    "                    plot_coords(region,color=\"lime\",reverse_xy=True)"
   ]
  },
  {
   "cell_type": "markdown",
   "metadata": {},
   "source": [
    "### Testing for containment "
   ]
  },
  {
   "cell_type": "code",
   "execution_count": 145,
   "metadata": {
    "collapsed": false
   },
   "outputs": [
    {
     "data": {
      "text/plain": [
       "9.325873406851315e-15"
      ]
     },
     "execution_count": 145,
     "metadata": {},
     "output_type": "execute_result"
    }
   ],
   "source": [
    "tiles[101].area"
   ]
  },
  {
   "cell_type": "markdown",
   "metadata": {},
   "source": [
    "# Production"
   ]
  },
  {
   "cell_type": "code",
   "execution_count": 12,
   "metadata": {
    "collapsed": true
   },
   "outputs": [],
   "source": [
    "img_info,object_tbl,bb_info,hit_info = load_info()\n",
    "def add_object_to_tiles(tiles,obj):\n",
    "    if type(obj)==shapely.geometry.polygon.Polygon:\n",
    "        tiles.append(obj)\n",
    "    elif type(obj)==shapely.geometry.MultiPolygon or type(obj)==shapely.geometry.collection:\n",
    "        for region in obj:\n",
    "            if type(obj)!=shapely.geometry.LineString:\n",
    "                tiles.append(region)        \n",
    "def BB2TileExact(objid):\n",
    "    bb_objects = bb_info[bb_info[\"object_id\"]==objid]\n",
    "    bb_objects =  bb_objects[bb_objects.worker_id!=3]\n",
    "    xylocs = [list(zip(*process_raw_locs([x,y]))) for x,y in zip(bb_objects[\"x_locs\"],bb_objects[\"y_locs\"])]\n",
    "    BB = []\n",
    "    for xyloc in xylocs:\n",
    "        BB.append(Polygon(xyloc).buffer(0))\n",
    "    tiles=[]\n",
    "    for i in range(len(BB)):\n",
    "        bi = BB[i]\n",
    "        # base case, when i=0, only 2 polygon intersecting\n",
    "        if i==0:\n",
    "            tiles.append(bi)\n",
    "        else: \n",
    "            xj_lst = []\n",
    "            for tj in tiles:\n",
    "                xj=tj.intersection(bi)\n",
    "                if xj.area>1e-10: #eliminating spurious LineString-looking Polygons \n",
    "                    tiles.remove(tj)\n",
    "                    add_object_to_tiles(tiles,xj)\n",
    "                    diff_region = (tj.symmetric_difference(xj)).difference(xj) \n",
    "                    add_object_to_tiles(tiles,diff_region)       \n",
    "                    xj_lst.append(xj)\n",
    "            leftovers = bi.difference(cascaded_union(xj_lst))\n",
    "            add_object_to_tiles(tiles,leftovers)\n",
    "    return tiles\n",
    "def visualizeTiles(tiles):\n",
    "    plt.figure()\n",
    "    for t in tiles: \n",
    "#     plt.title(tiles.index(t))\n",
    "        if type(t)==shapely.geometry.polygon.Polygon:\n",
    "            plot_coords(t,color=\"lime\",reverse_xy=True)\n",
    "        elif type(t)==shapely.geometry.MultiPolygon or type(t)==shapely.geometry.collection:\n",
    "            for region in t:\n",
    "                if type(t)!=shapely.geometry.LineString:\n",
    "                    plot_coords(region,color=\"lime\",reverse_xy=True)"
   ]
  },
  {
   "cell_type": "code",
   "execution_count": 14,
   "metadata": {
    "collapsed": false
   },
   "outputs": [
    {
     "name": "stderr",
     "output_type": "stream",
     "text": [
      "ERROR:shapely.geos:TopologyException: found non-noded intersection between LINESTRING (439 327, 444.612 313.372) and LINESTRING (444.612 313.372, 444.612 313.372) at 444.61157024793391 313.37190082644616\n"
     ]
    },
    {
     "ename": "TopologicalError",
     "evalue": "This operation could not be performed. Reason: unknown",
     "output_type": "error",
     "traceback": [
      "\u001b[0;31m---------------------------------------------------------------------------\u001b[0m",
      "\u001b[0;31mTopologicalError\u001b[0m                          Traceback (most recent call last)",
      "\u001b[0;32m<ipython-input-14-2354aa2e4c9d>\u001b[0m in \u001b[0;36m<module>\u001b[0;34m()\u001b[0m\n\u001b[0;32m----> 1\u001b[0;31m \u001b[0mtiles\u001b[0m \u001b[0;34m=\u001b[0m \u001b[0mBB2TileExact\u001b[0m\u001b[0;34m(\u001b[0m\u001b[0;36m14\u001b[0m\u001b[0;34m)\u001b[0m\u001b[0;34m\u001b[0m\u001b[0m\n\u001b[0m",
      "\u001b[0;32m<ipython-input-12-914fae1f7c3d>\u001b[0m in \u001b[0;36mBB2TileExact\u001b[0;34m(objid)\u001b[0m\n\u001b[1;32m     27\u001b[0m                     \u001b[0mtiles\u001b[0m\u001b[0;34m.\u001b[0m\u001b[0mremove\u001b[0m\u001b[0;34m(\u001b[0m\u001b[0mtj\u001b[0m\u001b[0;34m)\u001b[0m\u001b[0;34m\u001b[0m\u001b[0m\n\u001b[1;32m     28\u001b[0m                     \u001b[0madd_object_to_tiles\u001b[0m\u001b[0;34m(\u001b[0m\u001b[0mtiles\u001b[0m\u001b[0;34m,\u001b[0m\u001b[0mxj\u001b[0m\u001b[0;34m)\u001b[0m\u001b[0;34m\u001b[0m\u001b[0m\n\u001b[0;32m---> 29\u001b[0;31m                     \u001b[0mdiff_region\u001b[0m \u001b[0;34m=\u001b[0m \u001b[0;34m(\u001b[0m\u001b[0mtj\u001b[0m\u001b[0;34m.\u001b[0m\u001b[0msymmetric_difference\u001b[0m\u001b[0;34m(\u001b[0m\u001b[0mxj\u001b[0m\u001b[0;34m)\u001b[0m\u001b[0;34m)\u001b[0m\u001b[0;34m.\u001b[0m\u001b[0mdifference\u001b[0m\u001b[0;34m(\u001b[0m\u001b[0mxj\u001b[0m\u001b[0;34m)\u001b[0m\u001b[0;34m\u001b[0m\u001b[0m\n\u001b[0m\u001b[1;32m     30\u001b[0m                     \u001b[0madd_object_to_tiles\u001b[0m\u001b[0;34m(\u001b[0m\u001b[0mtiles\u001b[0m\u001b[0;34m,\u001b[0m\u001b[0mdiff_region\u001b[0m\u001b[0;34m)\u001b[0m\u001b[0;34m\u001b[0m\u001b[0m\n\u001b[1;32m     31\u001b[0m                     \u001b[0mxj_lst\u001b[0m\u001b[0;34m.\u001b[0m\u001b[0mappend\u001b[0m\u001b[0;34m(\u001b[0m\u001b[0mxj\u001b[0m\u001b[0;34m)\u001b[0m\u001b[0;34m\u001b[0m\u001b[0m\n",
      "\u001b[0;32m/Users/dorislee/.virtualenvs/py27dev/lib/python2.7/site-packages/shapely/geometry/base.pyc\u001b[0m in \u001b[0;36mdifference\u001b[0;34m(self, other)\u001b[0m\n\u001b[1;32m    614\u001b[0m     \u001b[0;32mdef\u001b[0m \u001b[0mdifference\u001b[0m\u001b[0;34m(\u001b[0m\u001b[0mself\u001b[0m\u001b[0;34m,\u001b[0m \u001b[0mother\u001b[0m\u001b[0;34m)\u001b[0m\u001b[0;34m:\u001b[0m\u001b[0;34m\u001b[0m\u001b[0m\n\u001b[1;32m    615\u001b[0m         \u001b[0;34m\"\"\"Returns the difference of the geometries\"\"\"\u001b[0m\u001b[0;34m\u001b[0m\u001b[0m\n\u001b[0;32m--> 616\u001b[0;31m         \u001b[0;32mreturn\u001b[0m \u001b[0mgeom_factory\u001b[0m\u001b[0;34m(\u001b[0m\u001b[0mself\u001b[0m\u001b[0;34m.\u001b[0m\u001b[0mimpl\u001b[0m\u001b[0;34m[\u001b[0m\u001b[0;34m'difference'\u001b[0m\u001b[0;34m]\u001b[0m\u001b[0;34m(\u001b[0m\u001b[0mself\u001b[0m\u001b[0;34m,\u001b[0m \u001b[0mother\u001b[0m\u001b[0;34m)\u001b[0m\u001b[0;34m)\u001b[0m\u001b[0;34m\u001b[0m\u001b[0m\n\u001b[0m\u001b[1;32m    617\u001b[0m \u001b[0;34m\u001b[0m\u001b[0m\n\u001b[1;32m    618\u001b[0m     \u001b[0;32mdef\u001b[0m \u001b[0mintersection\u001b[0m\u001b[0;34m(\u001b[0m\u001b[0mself\u001b[0m\u001b[0;34m,\u001b[0m \u001b[0mother\u001b[0m\u001b[0;34m)\u001b[0m\u001b[0;34m:\u001b[0m\u001b[0;34m\u001b[0m\u001b[0m\n",
      "\u001b[0;32m/Users/dorislee/.virtualenvs/py27dev/lib/python2.7/site-packages/shapely/topology.pyc\u001b[0m in \u001b[0;36m__call__\u001b[0;34m(self, this, other, *args)\u001b[0m\n\u001b[1;32m     68\u001b[0m             err = TopologicalError(\n\u001b[1;32m     69\u001b[0m                     \"This operation could not be performed. Reason: unknown\")\n\u001b[0;32m---> 70\u001b[0;31m             \u001b[0mself\u001b[0m\u001b[0;34m.\u001b[0m\u001b[0m_check_topology\u001b[0m\u001b[0;34m(\u001b[0m\u001b[0merr\u001b[0m\u001b[0;34m,\u001b[0m \u001b[0mthis\u001b[0m\u001b[0;34m,\u001b[0m \u001b[0mother\u001b[0m\u001b[0;34m)\u001b[0m\u001b[0;34m\u001b[0m\u001b[0m\n\u001b[0m\u001b[1;32m     71\u001b[0m         \u001b[0;32mreturn\u001b[0m \u001b[0mproduct\u001b[0m\u001b[0;34m\u001b[0m\u001b[0m\n\u001b[1;32m     72\u001b[0m \u001b[0;34m\u001b[0m\u001b[0m\n",
      "\u001b[0;32m/Users/dorislee/.virtualenvs/py27dev/lib/python2.7/site-packages/shapely/topology.pyc\u001b[0m in \u001b[0;36m_check_topology\u001b[0;34m(self, err, *geoms)\u001b[0m\n\u001b[1;32m     37\u001b[0m                     \"Likely cause is invalidity of the geometry %s\" % (\n\u001b[1;32m     38\u001b[0m                         self.fn.__name__, repr(geom)))\n\u001b[0;32m---> 39\u001b[0;31m         \u001b[0;32mraise\u001b[0m \u001b[0merr\u001b[0m\u001b[0;34m\u001b[0m\u001b[0m\n\u001b[0m\u001b[1;32m     40\u001b[0m \u001b[0;34m\u001b[0m\u001b[0m\n\u001b[1;32m     41\u001b[0m \u001b[0;34m\u001b[0m\u001b[0m\n",
      "\u001b[0;31mTopologicalError\u001b[0m: This operation could not be performed. Reason: unknown"
     ]
    }
   ],
   "source": [
    "tiles = BB2TileExact(14)"
   ]
  },
  {
   "cell_type": "code",
   "execution_count": 13,
   "metadata": {
    "collapsed": false
   },
   "outputs": [
    {
     "name": "stderr",
     "output_type": "stream",
     "text": [
      "  0%|          | 0/48 [00:00<?, ?it/s]ERROR:shapely.geos:TopologyException: Input geom 1 is invalid: Self-intersection at or near point 307.77777777777828 368.18518518518522 at 307.77777777777828 368.18518518518522\n",
      "WARNING:shapely.geos:Self-intersection at or near point 307.77777777777828 368.18518518518522\n",
      "  4%|▍         | 2/48 [00:01<00:23,  1.99it/s]ERROR:shapely.geos:TopologyException: found non-noded intersection between LINESTRING (223.249 428.801, 194.378 416.216) and LINESTRING (205.754 421.175, 208.413 422.334) at 207.92785108757749 422.12239662791836\n"
     ]
    },
    {
     "name": "stdout",
     "output_type": "stream",
     "text": [
      "topological error:  1\n",
      "topological error: "
     ]
    },
    {
     "name": "stderr",
     "output_type": "stream",
     "text": [
      "ERROR:shapely.geos:TopologyException: found non-noded intersection between LINESTRING (84.6264 336.44, 73.5 331) and LINESTRING (73.5 331, 73.5 331) at 73.500000000000128 331.00000000000006\n"
     ]
    },
    {
     "name": "stdout",
     "output_type": "stream",
     "text": [
      " 2\n",
      "bad"
     ]
    },
    {
     "name": "stderr",
     "output_type": "stream",
     "text": [
      "  8%|▊         | 4/48 [00:02<00:30,  1.45it/s]ERROR:shapely.geos:TopologyException: found non-noded intersection between LINESTRING (107.778 370.118, 107.746 369.704) and LINESTRING (107.773 370.048, 107.746 369.704) at 107.76950710803544 370.00359240446073\n"
     ]
    },
    {
     "name": "stdout",
     "output_type": "stream",
     "text": [
      " 3\n",
      "bad"
     ]
    },
    {
     "name": "stderr",
     "output_type": "stream",
     "text": [
      "ERROR:shapely.geos:TopologyException: found non-noded intersection between LINESTRING (454.824 168.118, 454.824 168.118) and LINESTRING (454.824 168.118, 454.824 168.118) at 454.82352941176475 168.11764705882368\n"
     ]
    },
    {
     "name": "stdout",
     "output_type": "stream",
     "text": [
      " 4\n",
      "topological error: "
     ]
    },
    {
     "name": "stderr",
     "output_type": "stream",
     "text": [
      " 12%|█▎        | 6/48 [00:04<00:29,  1.44it/s]ERROR:shapely.geos:TopologyException: found non-noded intersection between LINESTRING (509.853 221.265, 509.853 221.265) and LINESTRING (509.853 221.265, 509.853 221.265) at 509.85294117647055 221.2647058823535\n"
     ]
    },
    {
     "name": "stdout",
     "output_type": "stream",
     "text": [
      " 5\n",
      "topological error: "
     ]
    },
    {
     "name": "stderr",
     "output_type": "stream",
     "text": [
      "ERROR:shapely.geos:TopologyException: found non-noded intersection between LINESTRING (401.947 128.789, 401.947 128.789) and LINESTRING (401.947 128.789, 401.947 128.789) at 401.9473684210526 128.78947368421044\n"
     ]
    },
    {
     "name": "stdout",
     "output_type": "stream",
     "text": [
      " 6\n",
      "topological error: "
     ]
    },
    {
     "name": "stderr",
     "output_type": "stream",
     "text": [
      " 17%|█▋        | 8/48 [00:05<00:27,  1.47it/s]ERROR:shapely.geos:TopologyException: found non-noded intersection between LINESTRING (240.462 256.385, 240.462 256.385) and LINESTRING (240.462 256.385, 237 256) at 240.46153846153797 256.3846153846153\n"
     ]
    },
    {
     "name": "stdout",
     "output_type": "stream",
     "text": [
      " 7\n",
      "topological error: "
     ]
    },
    {
     "name": "stderr",
     "output_type": "stream",
     "text": [
      "ERROR:shapely.geos:TopologyException: found non-noded intersection between LINESTRING (380.688 238.396, 382.04 235.24) and LINESTRING (382.04 235.24, 381 237.667) at 381.09588815789471 237.44292763157895\n"
     ]
    },
    {
     "name": "stdout",
     "output_type": "stream",
     "text": [
      " 8\n",
      "bad"
     ]
    },
    {
     "name": "stderr",
     "output_type": "stream",
     "text": [
      " 21%|██        | 10/48 [00:07<00:28,  1.33it/s]ERROR:shapely.geos:TopologyException: found non-noded intersection between LINESTRING (538.421 269.643, 538.143 270.143) and LINESTRING (538.143 270.143, 538.543 266.343) at 538.14285714285711 270.14285714285722\n"
     ]
    },
    {
     "name": "stdout",
     "output_type": "stream",
     "text": [
      " 9\n",
      "bad"
     ]
    },
    {
     "name": "stderr",
     "output_type": "stream",
     "text": [
      "ERROR:shapely.geos:TopologyException: found non-noded intersection between LINESTRING (424.057 340.343, 424.2 341.2) and LINESTRING (424.912 341.732, 424.057 340.343) at 424.05714285714288 340.34285714285721\n"
     ]
    },
    {
     "name": "stdout",
     "output_type": "stream",
     "text": [
      " 10\n",
      "topological error: "
     ]
    },
    {
     "name": "stderr",
     "output_type": "stream",
     "text": [
      " 25%|██▌       | 12/48 [00:09<00:27,  1.33it/s]ERROR:shapely.geos:TopologyException: found non-noded intersection between LINESTRING (311.647 327.882, 316.667 336.667) and LINESTRING (316.667 336.667, 311.647 327.882) at 313.31340405014464 330.79845708775315\n"
     ]
    },
    {
     "name": "stdout",
     "output_type": "stream",
     "text": [
      " 11\n",
      "topological error: "
     ]
    },
    {
     "name": "stderr",
     "output_type": "stream",
     "text": [
      "ERROR:shapely.geos:TopologyException: Input geom 1 is invalid: Ring Self-intersection at or near point 220.46853146853144 390.23076923076923 at 220.46853146853144 390.23076923076923\n"
     ]
    },
    {
     "name": "stdout",
     "output_type": "stream",
     "text": [
      " 12\n",
      "bad"
     ]
    },
    {
     "name": "stderr",
     "output_type": "stream",
     "text": [
      " 29%|██▉       | 14/48 [00:10<00:25,  1.32it/s]ERROR:shapely.geos:TopologyException: found non-noded intersection between LINESTRING (439 327, 444.612 313.372) and LINESTRING (444.612 313.372, 444.612 313.372) at 444.61157024793391 313.37190082644616\n"
     ]
    },
    {
     "name": "stdout",
     "output_type": "stream",
     "text": [
      " 13\n",
      "topological error: "
     ]
    },
    {
     "name": "stderr",
     "output_type": "stream",
     "text": [
      "ERROR:shapely.geos:TopologyException: found non-noded intersection between LINESTRING (397.5 52.5, 397.5 52.5) and LINESTRING (397.5 52.5, 397.5 52.5) at 397.49999999999994 52.500000000000064\n"
     ]
    },
    {
     "name": "stdout",
     "output_type": "stream",
     "text": [
      " 14\n",
      "bad"
     ]
    },
    {
     "name": "stderr",
     "output_type": "stream",
     "text": [
      " 33%|███▎      | 16/48 [00:11<00:23,  1.36it/s]ERROR:shapely.geos:TopologyException: Input geom 0 is invalid: Self-intersection at or near point 355.86552567237163 477.0146699266503 at 355.86552567237163 477.0146699266503\n"
     ]
    },
    {
     "name": "stdout",
     "output_type": "stream",
     "text": [
      " 15\n",
      "bad"
     ]
    },
    {
     "name": "stderr",
     "output_type": "stream",
     "text": [
      "ERROR:shapely.geos:TopologyException: found non-noded intersection between LINESTRING (93.0081 177.878, 90.1401 183.102) and LINESTRING (96 179, 90.1401 183.102) at 90.140127388535035 183.10191082802547\n"
     ]
    },
    {
     "name": "stdout",
     "output_type": "stream",
     "text": [
      " 16\n",
      "topological error: "
     ]
    },
    {
     "name": "stderr",
     "output_type": "stream",
     "text": [
      " 38%|███▊      | 18/48 [00:12<00:20,  1.45it/s]ERROR:shapely.geos:TopologyException: found non-noded intersection between LINESTRING (252.422 338.857, 250.972 338.934) and LINESTRING (250.972 338.934, 252.858 338.731) at 250.97205346294089 338.93438639125151\n"
     ]
    },
    {
     "name": "stdout",
     "output_type": "stream",
     "text": [
      " 17\n",
      "topological error: "
     ]
    },
    {
     "name": "stderr",
     "output_type": "stream",
     "text": [
      "ERROR:shapely.geos:TopologyException: side location conflict at 75.299999999999997 261.89999999999998\n"
     ]
    },
    {
     "name": "stdout",
     "output_type": "stream",
     "text": [
      " 18\n",
      "topological error: "
     ]
    },
    {
     "name": "stderr",
     "output_type": "stream",
     "text": [
      " 42%|████▏     | 20/48 [00:14<00:19,  1.42it/s]ERROR:shapely.geos:TopologyException: found non-noded intersection between LINESTRING (490.476 234.904, 490.476 234.904) and LINESTRING (490.476 234.904, 490.476 234.904) at 490.47592738752957 234.90449881609996\n"
     ]
    },
    {
     "name": "stdout",
     "output_type": "stream",
     "text": [
      " 19\n",
      "topological error: "
     ]
    },
    {
     "name": "stderr",
     "output_type": "stream",
     "text": [
      "ERROR:shapely.geos:TopologyException: found non-noded intersection between LINESTRING (296 112, 295.688 102.798) and LINESTRING (295.794 105.921, 295.785 105.647) at 295.79047347145104 105.81896740780493\n"
     ]
    },
    {
     "name": "stdout",
     "output_type": "stream",
     "text": [
      " 20\n",
      "topological error: "
     ]
    },
    {
     "name": "stderr",
     "output_type": "stream",
     "text": [
      " 46%|████▌     | 22/48 [00:15<00:17,  1.46it/s]ERROR:shapely.geos:TopologyException: found non-noded intersection between LINESTRING (396.296 132.535, 396.176 130.706) and LINESTRING (395.727 130.545, 396.296 132.535) at 396.2957746478873 132.5352112676054\n"
     ]
    },
    {
     "name": "stdout",
     "output_type": "stream",
     "text": [
      " 21\n",
      "bad"
     ]
    },
    {
     "name": "stderr",
     "output_type": "stream",
     "text": [
      "ERROR:shapely.geos:TopologyException: found non-noded intersection between LINESTRING (517.177 124.58, 516.669 124.351) and LINESTRING (517.177 124.58, 516.669 124.351) at 516.78605977365737 124.40372689814578\n"
     ]
    },
    {
     "name": "stdout",
     "output_type": "stream",
     "text": [
      " 22\n",
      "topological error: "
     ]
    },
    {
     "name": "stderr",
     "output_type": "stream",
     "text": [
      " 50%|█████     | 24/48 [00:20<00:20,  1.19it/s]ERROR:shapely.geos:TopologyException: found non-noded intersection between LINESTRING (347.228 257.485, 347.228 257.485) and LINESTRING (347.228 257.485, 347.228 257.485) at 347.22772277227716 257.48514851485123\n"
     ]
    },
    {
     "name": "stdout",
     "output_type": "stream",
     "text": [
      " 23\n",
      "topological error: "
     ]
    },
    {
     "name": "stderr",
     "output_type": "stream",
     "text": [
      "ERROR:shapely.geos:TopologyException: found non-noded intersection between LINESTRING (596.366 349.849, 596.366 349.849) and LINESTRING (596.366 349.849, 596.366 349.849) at 596.36559139785084 349.84946236559324\n"
     ]
    },
    {
     "name": "stdout",
     "output_type": "stream",
     "text": [
      " 24\n",
      "bad"
     ]
    },
    {
     "name": "stderr",
     "output_type": "stream",
     "text": [
      " 54%|█████▍    | 26/48 [00:21<00:18,  1.20it/s]ERROR:shapely.geos:TopologyException: Input geom 1 is invalid: Self-intersection at or near point 89 285 at 89 285\n",
      "WARNING:shapely.geos:Self-intersection at or near point 89 285\n"
     ]
    },
    {
     "name": "stdout",
     "output_type": "stream",
     "text": [
      " 25\n",
      "topological error: "
     ]
    },
    {
     "name": "stderr",
     "output_type": "stream",
     "text": [
      "ERROR:shapely.geos:TopologyException: found non-noded intersection between LINESTRING (50.5517 485.517, 51.89 484.346) and LINESTRING (50.5517 485.517, 50.5517 485.517) at 50.551724137931096 485.51724137931024\n"
     ]
    },
    {
     "name": "stdout",
     "output_type": "stream",
     "text": [
      " 26\n",
      "bad"
     ]
    },
    {
     "name": "stderr",
     "output_type": "stream",
     "text": [
      " 58%|█████▊    | 28/48 [00:23<00:16,  1.19it/s]ERROR:shapely.geos:TopologyException: found non-noded intersection between LINESTRING (352.099 63.0514, 352.634 62.554) and LINESTRING (350.84 64.22, 362.353 53.5294) at 352.13049407876792 63.021684069715484\n"
     ]
    },
    {
     "name": "stdout",
     "output_type": "stream",
     "text": [
      " 27\n",
      "topological error: "
     ]
    },
    {
     "name": "stderr",
     "output_type": "stream",
     "text": [
      "ERROR:shapely.geos:TopologyException: found non-noded intersection between LINESTRING (494 187, 487.593 176.475) and LINESTRING (489 180, 489.229 179.161) at 489.22869955156949 179.16143497757847\n"
     ]
    },
    {
     "name": "stdout",
     "output_type": "stream",
     "text": [
      " 28\n",
      "topological error: "
     ]
    },
    {
     "name": "stderr",
     "output_type": "stream",
     "text": [
      " 62%|██████▎   | 30/48 [00:25<00:15,  1.17it/s]ERROR:shapely.geos:TopologyException: found non-noded intersection between LINESTRING (60 114, 42 118) and LINESTRING (55.236 115.059, 57.25 114.611) at 55.236048780487806 115.05865582655827\n"
     ]
    },
    {
     "name": "stdout",
     "output_type": "stream",
     "text": [
      " 29\n",
      "topological error: "
     ]
    },
    {
     "name": "stderr",
     "output_type": "stream",
     "text": [
      "ERROR:shapely.geos:TopologyException: found non-noded intersection between LINESTRING (26.3705 337.113, 27.4667 355.2) and LINESTRING (27.2593 351.778, 27.2593 351.778) at 27.25925925925926 351.77777777777777\n"
     ]
    },
    {
     "name": "stdout",
     "output_type": "stream",
     "text": [
      " 30\n",
      "bad"
     ]
    },
    {
     "name": "stderr",
     "output_type": "stream",
     "text": [
      " 67%|██████▋   | 32/48 [00:26<00:13,  1.21it/s]ERROR:shapely.geos:TopologyException: found non-noded intersection between LINESTRING (362 380, 371.994 357.706) and LINESTRING (374.846 347.513, 371.372 359.093) at 371.37209302325584 359.09302325581388\n"
     ]
    },
    {
     "name": "stdout",
     "output_type": "stream",
     "text": [
      " 31\n",
      "topological error: "
     ]
    },
    {
     "name": "stderr",
     "output_type": "stream",
     "text": [
      "ERROR:shapely.geos:TopologyException: found non-noded intersection between LINESTRING (418.587 277.806, 418.357 274.357) and LINESTRING (418.357 274.357, 418.357 274.357) at 418.35714285711782 274.35714285746798\n"
     ]
    },
    {
     "name": "stdout",
     "output_type": "stream",
     "text": [
      " 32\n",
      "topological error: "
     ]
    },
    {
     "name": "stderr",
     "output_type": "stream",
     "text": [
      " 71%|███████   | 34/48 [00:27<00:11,  1.26it/s]ERROR:shapely.geos:TopologyException: found non-noded intersection between LINESTRING (64 151, 109.319 249.191) and LINESTRING (65.2397 153.686, 109.319 249.191) at 75.329787234042357 175.54787234042507\n"
     ]
    },
    {
     "name": "stdout",
     "output_type": "stream",
     "text": [
      " 33\n",
      "topological error: "
     ]
    },
    {
     "name": "stderr",
     "output_type": "stream",
     "text": [
      "ERROR:shapely.geos:TopologyException: side location conflict at 261 75\n"
     ]
    },
    {
     "name": "stdout",
     "output_type": "stream",
     "text": [
      " 34\n",
      "topological error: "
     ]
    },
    {
     "name": "stderr",
     "output_type": "stream",
     "text": [
      " 75%|███████▌  | 36/48 [00:29<00:09,  1.20it/s]ERROR:shapely.geos:TopologyException: found non-noded intersection between LINESTRING (277.5 591.472, 280.038 597.253) and LINESTRING (280.528 597.046, 280.038 597.253) at 280.03797461234188 597.25316439477842\n"
     ]
    },
    {
     "name": "stdout",
     "output_type": "stream",
     "text": [
      " 35\n",
      "bad"
     ]
    },
    {
     "name": "stderr",
     "output_type": "stream",
     "text": [
      "ERROR:shapely.geos:TopologyException: found non-noded intersection between LINESTRING (557.836 234.131, 556 230) and LINESTRING (557.836 234.131, 556.167 230.375) at 556.94840935730429 232.1339210539347\n"
     ]
    },
    {
     "name": "stdout",
     "output_type": "stream",
     "text": [
      " 36\n",
      "topological error: "
     ]
    },
    {
     "name": "stderr",
     "output_type": "stream",
     "text": [
      " 79%|███████▉  | 38/48 [00:32<00:08,  1.16it/s]ERROR:shapely.geos:TopologyException: found non-noded intersection between LINESTRING (493.133 198.773, 493.714 254.571) and LINESTRING (493.714 254.571, 492 222) at 493.71428571428555 254.57142857141503\n"
     ]
    },
    {
     "name": "stdout",
     "output_type": "stream",
     "text": [
      " 37\n",
      "topological error: "
     ]
    },
    {
     "name": "stderr",
     "output_type": "stream",
     "text": [
      "ERROR:shapely.geos:TopologyException: found non-noded intersection between LINESTRING (78.234 360.915, 78.234 360.915) and LINESTRING (78.234 360.915, 78.234 360.915) at 78.234042553191443 360.91489361702122\n"
     ]
    },
    {
     "name": "stdout",
     "output_type": "stream",
     "text": [
      " 38\n",
      "topological error: "
     ]
    },
    {
     "name": "stderr",
     "output_type": "stream",
     "text": [
      " 83%|████████▎ | 40/48 [00:33<00:06,  1.18it/s]ERROR:shapely.geos:TopologyException: Input geom 1 is invalid: Self-intersection at or near point 169.03864205575152 157.75186312638732 at 169.03864205575152 157.75186312638732\n",
      "WARNING:shapely.geos:Self-intersection at or near point 169.03864205575152 157.75186312638732\n"
     ]
    },
    {
     "name": "stdout",
     "output_type": "stream",
     "text": [
      " 39\n",
      "topological error: "
     ]
    },
    {
     "name": "stderr",
     "output_type": "stream",
     "text": [
      "ERROR:shapely.geos:TopologyException: found non-noded intersection between LINESTRING (394.136 535.682, 394.136 535.682) and LINESTRING (394.136 535.682, 394.136 535.682) at 394.13636363636459 535.68181818181824\n"
     ]
    },
    {
     "name": "stdout",
     "output_type": "stream",
     "text": [
      " 40\n",
      "topological error: "
     ]
    },
    {
     "name": "stderr",
     "output_type": "stream",
     "text": [
      " 88%|████████▊ | 42/48 [00:36<00:05,  1.16it/s]ERROR:shapely.geos:TopologyException: found non-noded intersection between LINESTRING (170 491, 175 488.727) and LINESTRING (175 488.727, 175 488.727) at 174.99999999999983 488.72727272727275\n"
     ]
    },
    {
     "name": "stdout",
     "output_type": "stream",
     "text": [
      " 41\n",
      "bad"
     ]
    },
    {
     "name": "stderr",
     "output_type": "stream",
     "text": [
      "ERROR:shapely.geos:TopologyException: side location conflict at 184 299\n",
      " 92%|█████████▏| 44/48 [00:36<00:03,  1.20it/s]ERROR:shapely.geos:TopologyException: found non-noded intersection between LINESTRING (272 299, 261.523 298.345) and LINESTRING (262.027 298.441, 261.871 298.367) at 261.87050359712237 298.36690647482015\n"
     ]
    },
    {
     "name": "stdout",
     "output_type": "stream",
     "text": [
      " 42\n",
      "topological error:  43\n",
      "topological error: "
     ]
    },
    {
     "name": "stderr",
     "output_type": "stream",
     "text": [
      "ERROR:shapely.geos:TopologyException: side location conflict at 102 142\n"
     ]
    },
    {
     "name": "stdout",
     "output_type": "stream",
     "text": [
      " 44\n",
      "topological error: "
     ]
    },
    {
     "name": "stderr",
     "output_type": "stream",
     "text": [
      " 96%|█████████▌| 46/48 [00:38<00:01,  1.21it/s]ERROR:shapely.geos:TopologyException: found non-noded intersection between LINESTRING (108.545 425.663, 110 424) and LINESTRING (108.86 425.302, 109.826 421.826) at 108.86046511627907 425.30232558139534\n"
     ]
    },
    {
     "name": "stdout",
     "output_type": "stream",
     "text": [
      " 45\n",
      "topological error: "
     ]
    },
    {
     "name": "stderr",
     "output_type": "stream",
     "text": [
      "ERROR:shapely.geos:TopologyException: found non-noded intersection between LINESTRING (207.545 171.182, 208.816 155.296) and LINESTRING (208.861 154.737, 208.432 160.099) at 208.80523055348155 155.43461808148064\n"
     ]
    },
    {
     "name": "stdout",
     "output_type": "stream",
     "text": [
      " 46\n",
      "bad"
     ]
    },
    {
     "name": "stderr",
     "output_type": "stream",
     "text": [
      "                                               "
     ]
    },
    {
     "name": "stdout",
     "output_type": "stream",
     "text": [
      " 47\n"
     ]
    },
    {
     "name": "stderr",
     "output_type": "stream",
     "text": [
      "\r"
     ]
    },
    {
     "data": {
      "image/png": "[encoded data removed]",
      "text/plain": [
       "<matplotlib.figure.Figure at 0x1115843d0>"
      ]
     },
     "metadata": {},
     "output_type": "display_data"
    }
   ],
   "source": [
    "for objid in tqdm(range(48)):\n",
    "    try: \n",
    "        tiles = BB2TileExact(objid) \n",
    "        visualizeTiles(tiles)\n",
    "        plt.title(objid)\n",
    "    except(shapely.errors.TopologicalError):\n",
    "        #TopologicalError: The operation 'GEOSDifference_r' could not be performed. Likely cause is invalidity of the geometry <shapely.geometry.multipolygon.MultiPolygon object at 0x10ae127d0>\n",
    "        print \"topological error: \" , objid\n",
    "        pass\n",
    "    except:\n",
    "        print \"bad\",objid\n",
    "        pass"
   ]
  },
  {
   "cell_type": "code",
   "execution_count": 179,
   "metadata": {
    "collapsed": false
   },
   "outputs": [
    {
     "data": {
      "text/plain": [
       "1.2523315717771766e-13"
      ]
     },
     "execution_count": 179,
     "metadata": {},
     "output_type": "execute_result"
    }
   ],
   "source": [
    "tiles[0].area"
   ]
  },
  {
   "cell_type": "code",
   "execution_count": null,
   "metadata": {
    "collapsed": true
   },
   "outputs": [],
   "source": []
  }
 ],
 "metadata": {
  "kernelspec": {
   "display_name": "Python 2",
   "language": "python",
   "name": "python2"
  },
  "language_info": {
   "codemirror_mode": {
    "name": "ipython",
    "version": 2
   },
   "file_extension": ".py",
   "mimetype": "text/x-python",
   "name": "python",
   "nbconvert_exporter": "python",
   "pygments_lexer": "ipython2",
   "version": "2.7.10"
  }
 },
 "nbformat": 4,
 "nbformat_minor": 0
}
