{
 "cells": [
  {
   "cell_type": "code",
   "execution_count": 1,
   "metadata": {
    "collapsed": false
   },
   "outputs": [
    {
     "name": "stdout",
     "output_type": "stream",
     "text": [
      "Populating the interactive namespace from numpy and matplotlib\n"
     ]
    }
   ],
   "source": [
    "%pylab inline "
   ]
  },
  {
   "cell_type": "code",
   "execution_count": 2,
   "metadata": {
    "collapsed": false
   },
   "outputs": [],
   "source": [
    "%load_ext autoreload\n",
    "%autoreload 2\n",
    "from analysis_toolbox import *"
   ]
  },
  {
   "cell_type": "code",
   "execution_count": 11,
   "metadata": {
    "collapsed": true
   },
   "outputs": [],
   "source": [
    "from qualityBaseline import * "
   ]
  },
  {
   "cell_type": "code",
   "execution_count": 16,
   "metadata": {
    "collapsed": false
   },
   "outputs": [
    {
     "name": "stdout",
     "output_type": "stream",
     "text": [
      "loading annotations into memory...\n",
      "Done (t=23.65s)\n",
      "creating index...\n",
      "index created!\n"
     ]
    },
    {
     "name": "stderr",
     "output_type": "stream",
     "text": [
      "/Users/dorislee/.virtualenvs/py27dev/lib/python2.7/site-packages/munkres.py:430: MaskedArrayFutureWarning: setting an item on a masked array which has a shared mask will not copy the mask and also change the original mask array in the future.\n",
      "Check the NumPy 1.11 release notes for more information.\n",
      "  self.C[i][j] -= minval\n"
     ]
    },
    {
     "ename": "KeyboardInterrupt",
     "evalue": "",
     "output_type": "error",
     "traceback": [
      "\u001b[0;31m---------------------------------------------------------------------------\u001b[0m",
      "\u001b[0;31mKeyboardInterrupt\u001b[0m                         Traceback (most recent call last)",
      "\u001b[0;32m<ipython-input-16-94a026ef3e52>\u001b[0m in \u001b[0;36m<module>\u001b[0;34m()\u001b[0m\n\u001b[1;32m     53\u001b[0m                 \u001b[0mbb_info\u001b[0m \u001b[0;34m=\u001b[0m \u001b[0mbb_info\u001b[0m\u001b[0;34m.\u001b[0m\u001b[0mset_value\u001b[0m\u001b[0;34m(\u001b[0m\u001b[0mbb\u001b[0m\u001b[0;34m[\u001b[0m\u001b[0;36m0\u001b[0m\u001b[0;34m]\u001b[0m\u001b[0;34m,\u001b[0m\u001b[0;34m\"My Precision\"\u001b[0m\u001b[0;34m,\u001b[0m\u001b[0mprecision\u001b[0m\u001b[0;34m(\u001b[0m\u001b[0mobj_x_locs\u001b[0m\u001b[0;34m,\u001b[0m\u001b[0mobj_y_locs\u001b[0m\u001b[0;34m)\u001b[0m\u001b[0;34m)\u001b[0m\u001b[0;34m\u001b[0m\u001b[0m\n\u001b[1;32m     54\u001b[0m                 \u001b[0mbb_info\u001b[0m \u001b[0;34m=\u001b[0m \u001b[0mbb_info\u001b[0m\u001b[0;34m.\u001b[0m\u001b[0mset_value\u001b[0m\u001b[0;34m(\u001b[0m\u001b[0mbb\u001b[0m\u001b[0;34m[\u001b[0m\u001b[0;36m0\u001b[0m\u001b[0;34m]\u001b[0m\u001b[0;34m,\u001b[0m\u001b[0;34m\"My Recall\"\u001b[0m\u001b[0;34m,\u001b[0m\u001b[0mrecall\u001b[0m\u001b[0;34m(\u001b[0m\u001b[0mobj_x_locs\u001b[0m\u001b[0;34m,\u001b[0m\u001b[0mobj_y_locs\u001b[0m\u001b[0;34m)\u001b[0m\u001b[0;34m)\u001b[0m\u001b[0;34m\u001b[0m\u001b[0m\n\u001b[0;32m---> 55\u001b[0;31m                 \u001b[0mbb_info\u001b[0m \u001b[0;34m=\u001b[0m \u001b[0mbb_info\u001b[0m\u001b[0;34m.\u001b[0m\u001b[0mset_value\u001b[0m\u001b[0;34m(\u001b[0m\u001b[0mbb\u001b[0m\u001b[0;34m[\u001b[0m\u001b[0;36m0\u001b[0m\u001b[0;34m]\u001b[0m\u001b[0;34m,\u001b[0m\u001b[0;34m\"My Munkres Euclidean\"\u001b[0m\u001b[0;34m,\u001b[0m\u001b[0mDistAllWorkers\u001b[0m\u001b[0;34m(\u001b[0m\u001b[0mobj_x_locs\u001b[0m\u001b[0;34m,\u001b[0m\u001b[0mobj_y_locs\u001b[0m\u001b[0;34m)\u001b[0m\u001b[0;34m)\u001b[0m\u001b[0;34m\u001b[0m\u001b[0m\n\u001b[0m\u001b[1;32m     56\u001b[0m \u001b[0;31m# replace all NAN values with -1, these are entries for which we don't have COCO ground truth\u001b[0m\u001b[0;34m\u001b[0m\u001b[0;34m\u001b[0m\u001b[0m\n\u001b[1;32m     57\u001b[0m \u001b[0mbb_info\u001b[0m \u001b[0;34m=\u001b[0m \u001b[0mbb_info\u001b[0m\u001b[0;34m.\u001b[0m\u001b[0mfillna\u001b[0m\u001b[0;34m(\u001b[0m\u001b[0;34m-\u001b[0m\u001b[0;36m1\u001b[0m\u001b[0;34m)\u001b[0m\u001b[0;34m\u001b[0m\u001b[0m\n",
      "\u001b[0;32m/Users/dorislee/Desktop/Fall2016/Research/seg/crowd-seg/analysis/qualityBaseline.py\u001b[0m in \u001b[0;36mDistAllWorkers\u001b[0;34m(obj_x_locs, obj_y_locs, dist)\u001b[0m\n\u001b[1;32m     52\u001b[0m         \u001b[0;31m# print bb2\u001b[0m\u001b[0;34m\u001b[0m\u001b[0;34m\u001b[0m\u001b[0m\n\u001b[1;32m     53\u001b[0m         \u001b[0;31m# print dist(bb1,bb2)\u001b[0m\u001b[0;34m\u001b[0m\u001b[0;34m\u001b[0m\u001b[0m\n\u001b[0;32m---> 54\u001b[0;31m         \u001b[0mminDistList\u001b[0m\u001b[0;34m.\u001b[0m\u001b[0mappend\u001b[0m\u001b[0;34m(\u001b[0m\u001b[0mdist\u001b[0m\u001b[0;34m(\u001b[0m\u001b[0mbb1\u001b[0m\u001b[0;34m,\u001b[0m\u001b[0mbb2\u001b[0m\u001b[0;34m)\u001b[0m\u001b[0;34m)\u001b[0m\u001b[0;34m\u001b[0m\u001b[0m\n\u001b[0m\u001b[1;32m     55\u001b[0m     \u001b[0;31m#worker's scores\u001b[0m\u001b[0;34m\u001b[0m\u001b[0;34m\u001b[0m\u001b[0m\n\u001b[1;32m     56\u001b[0m     \u001b[0;32mreturn\u001b[0m \u001b[0mnp\u001b[0m\u001b[0;34m.\u001b[0m\u001b[0marray\u001b[0m\u001b[0;34m(\u001b[0m\u001b[0mminDistList\u001b[0m\u001b[0;34m)\u001b[0m\u001b[0;34m/\u001b[0m\u001b[0mmax\u001b[0m\u001b[0;34m(\u001b[0m\u001b[0mminDistList\u001b[0m\u001b[0;34m)\u001b[0m\u001b[0;34m\u001b[0m\u001b[0m\n",
      "\u001b[0;32m/Users/dorislee/Desktop/Fall2016/Research/seg/crowd-seg/analysis/qualityBaseline.py\u001b[0m in \u001b[0;36mMunkresEuclidean\u001b[0;34m(bb1, bb2)\u001b[0m\n\u001b[1;32m     27\u001b[0m     \u001b[0mm\u001b[0m \u001b[0;34m=\u001b[0m \u001b[0mMunkres\u001b[0m\u001b[0;34m(\u001b[0m\u001b[0;34m)\u001b[0m\u001b[0;34m\u001b[0m\u001b[0m\n\u001b[1;32m     28\u001b[0m     \u001b[0;32mtry\u001b[0m\u001b[0;34m:\u001b[0m\u001b[0;34m\u001b[0m\u001b[0m\n\u001b[0;32m---> 29\u001b[0;31m         \u001b[0mindexes\u001b[0m \u001b[0;34m=\u001b[0m \u001b[0mm\u001b[0m\u001b[0;34m.\u001b[0m\u001b[0mcompute\u001b[0m\u001b[0;34m(\u001b[0m\u001b[0mnp\u001b[0m\u001b[0;34m.\u001b[0m\u001b[0mma\u001b[0m\u001b[0;34m.\u001b[0m\u001b[0mmasked_equal\u001b[0m\u001b[0;34m(\u001b[0m\u001b[0mmatrix\u001b[0m\u001b[0;34m,\u001b[0m\u001b[0;36m0\u001b[0m\u001b[0;34m)\u001b[0m\u001b[0;34m)\u001b[0m\u001b[0;34m\u001b[0m\u001b[0m\n\u001b[0m\u001b[1;32m     30\u001b[0m         \u001b[0mtotal\u001b[0m \u001b[0;34m=\u001b[0m \u001b[0;36m0\u001b[0m\u001b[0;34m\u001b[0m\u001b[0m\n\u001b[1;32m     31\u001b[0m         \u001b[0;32mfor\u001b[0m \u001b[0mrow\u001b[0m\u001b[0;34m,\u001b[0m \u001b[0mcolumn\u001b[0m \u001b[0;32min\u001b[0m \u001b[0mindexes\u001b[0m\u001b[0;34m:\u001b[0m\u001b[0;34m\u001b[0m\u001b[0m\n",
      "\u001b[0;32m/Users/dorislee/.virtualenvs/py27dev/lib/python2.7/site-packages/munkres.pyc\u001b[0m in \u001b[0;36mcompute\u001b[0;34m(self, cost_matrix)\u001b[0m\n\u001b[1;32m    392\u001b[0m             \u001b[0;32mtry\u001b[0m\u001b[0;34m:\u001b[0m\u001b[0;34m\u001b[0m\u001b[0m\n\u001b[1;32m    393\u001b[0m                 \u001b[0mfunc\u001b[0m \u001b[0;34m=\u001b[0m \u001b[0msteps\u001b[0m\u001b[0;34m[\u001b[0m\u001b[0mstep\u001b[0m\u001b[0;34m]\u001b[0m\u001b[0;34m\u001b[0m\u001b[0m\n\u001b[0;32m--> 394\u001b[0;31m                 \u001b[0mstep\u001b[0m \u001b[0;34m=\u001b[0m \u001b[0mfunc\u001b[0m\u001b[0;34m(\u001b[0m\u001b[0;34m)\u001b[0m\u001b[0;34m\u001b[0m\u001b[0m\n\u001b[0m\u001b[1;32m    395\u001b[0m             \u001b[0;32mexcept\u001b[0m \u001b[0mKeyError\u001b[0m\u001b[0;34m:\u001b[0m\u001b[0;34m\u001b[0m\u001b[0m\n\u001b[1;32m    396\u001b[0m                 \u001b[0mdone\u001b[0m \u001b[0;34m=\u001b[0m \u001b[0mTrue\u001b[0m\u001b[0;34m\u001b[0m\u001b[0m\n",
      "\u001b[0;32m/Users/dorislee/.virtualenvs/py27dev/lib/python2.7/site-packages/munkres.pyc\u001b[0m in \u001b[0;36m__step6\u001b[0;34m(self)\u001b[0m\n\u001b[1;32m    554\u001b[0m                     \u001b[0mself\u001b[0m\u001b[0;34m.\u001b[0m\u001b[0mC\u001b[0m\u001b[0;34m[\u001b[0m\u001b[0mi\u001b[0m\u001b[0;34m]\u001b[0m\u001b[0;34m[\u001b[0m\u001b[0mj\u001b[0m\u001b[0;34m]\u001b[0m \u001b[0;34m+=\u001b[0m \u001b[0mminval\u001b[0m\u001b[0;34m\u001b[0m\u001b[0m\n\u001b[1;32m    555\u001b[0m                 \u001b[0;32mif\u001b[0m \u001b[0;32mnot\u001b[0m \u001b[0mself\u001b[0m\u001b[0;34m.\u001b[0m\u001b[0mcol_covered\u001b[0m\u001b[0;34m[\u001b[0m\u001b[0mj\u001b[0m\u001b[0;34m]\u001b[0m\u001b[0;34m:\u001b[0m\u001b[0;34m\u001b[0m\u001b[0m\n\u001b[0;32m--> 556\u001b[0;31m                     \u001b[0mself\u001b[0m\u001b[0;34m.\u001b[0m\u001b[0mC\u001b[0m\u001b[0;34m[\u001b[0m\u001b[0mi\u001b[0m\u001b[0;34m]\u001b[0m\u001b[0;34m[\u001b[0m\u001b[0mj\u001b[0m\u001b[0;34m]\u001b[0m \u001b[0;34m-=\u001b[0m \u001b[0mminval\u001b[0m\u001b[0;34m\u001b[0m\u001b[0m\n\u001b[0m\u001b[1;32m    557\u001b[0m         \u001b[0;32mreturn\u001b[0m \u001b[0;36m4\u001b[0m\u001b[0;34m\u001b[0m\u001b[0m\n\u001b[1;32m    558\u001b[0m \u001b[0;34m\u001b[0m\u001b[0m\n",
      "\u001b[0;32m/Users/dorislee/.virtualenvs/py27dev/lib/python2.7/site-packages/numpy/ma/core.pyc\u001b[0m in \u001b[0;36m__setitem__\u001b[0;34m(self, indx, value)\u001b[0m\n\u001b[1;32m   3188\u001b[0m             \u001b[0;32mraise\u001b[0m \u001b[0mMaskError\u001b[0m\u001b[0;34m(\u001b[0m\u001b[0;34m'Cannot alter the masked element.'\u001b[0m\u001b[0;34m)\u001b[0m\u001b[0;34m\u001b[0m\u001b[0m\n\u001b[1;32m   3189\u001b[0m         \u001b[0m_data\u001b[0m \u001b[0;34m=\u001b[0m \u001b[0mself\u001b[0m\u001b[0;34m.\u001b[0m\u001b[0m_data\u001b[0m\u001b[0;34m\u001b[0m\u001b[0m\n\u001b[0;32m-> 3190\u001b[0;31m         \u001b[0m_mask\u001b[0m \u001b[0;34m=\u001b[0m \u001b[0mself\u001b[0m\u001b[0;34m.\u001b[0m\u001b[0m_mask\u001b[0m\u001b[0;34m\u001b[0m\u001b[0m\n\u001b[0m\u001b[1;32m   3191\u001b[0m         \u001b[0;32mif\u001b[0m \u001b[0misinstance\u001b[0m\u001b[0;34m(\u001b[0m\u001b[0mindx\u001b[0m\u001b[0;34m,\u001b[0m \u001b[0mbasestring\u001b[0m\u001b[0;34m)\u001b[0m\u001b[0;34m:\u001b[0m\u001b[0;34m\u001b[0m\u001b[0m\n\u001b[1;32m   3192\u001b[0m             \u001b[0m_data\u001b[0m\u001b[0;34m[\u001b[0m\u001b[0mindx\u001b[0m\u001b[0;34m]\u001b[0m \u001b[0;34m=\u001b[0m \u001b[0mvalue\u001b[0m\u001b[0;34m\u001b[0m\u001b[0m\n",
      "\u001b[0;31mKeyboardInterrupt\u001b[0m: "
     ]
    }
   ],
   "source": [
    "\n",
    "from pycocotools.coco import COCO \n",
    "save_db_as_csv(connect=False)\n",
    "img_info,object_tbl,bb_info,hit_info = load_info()\n",
    "#Load COCO annotations \n",
    "dataDir='../../coco/'\n",
    "dataType='train2014'\n",
    "annFile='%s/annotations/instances_%s.json'%(dataDir,dataType)\n",
    "# initialize COCO api for instance annotations\n",
    "coco=COCO(annFile)\n",
    "ground_truth = pd.read_csv(\"../../data/object_ground_truth.csv\")\n",
    "worker_info = pd.read_csv(\"../../data/worker.csv\",skipfooter=1)\n",
    "my_BBG  = pd.read_csv(\"my_ground_truth.csv\")\n",
    "\n",
    "for i in np.arange(len(img_info)):\n",
    "    img_name = img_info[\"filename\"][i]\n",
    "    if 'COCO' in img_name:\n",
    "        img_id = int(img_name.split('_')[-1])\n",
    "        filtered_object_tbl = object_tbl[object_tbl[\"image_id\"]==i+1]\n",
    "        annIds = coco.getAnnIds(imgIds=img_id, iscrowd=None)\n",
    "        anns = coco.loadAnns(annIds)\n",
    "        #for oid,bbx_path,bby_path in zip(bb_info[\"object_id\"],bb_info[\"x_locs\"],bb_info[\"y_locs\"]):\n",
    "        for bb in bb_info.iterrows():\n",
    "            oid = bb[1][\"object_id\"]\n",
    "            bbx_path= bb[1][\"x_locs\"]\n",
    "            bby_path= bb[1][\"y_locs\"]\n",
    "            if int(object_tbl[object_tbl.object_id==oid].image_id) ==i+1:\n",
    "                worker_x_locs,worker_y_locs= process_raw_locs([bbx_path,bby_path])\n",
    "                ground_truth_match = ground_truth[ground_truth.id==str(oid)]\n",
    "                COCO_id = int(ground_truth_match[\"COCO_annIds\"])\n",
    "\n",
    "                #COCO-Annotations\n",
    "                for ann in anns:\n",
    "                    if COCO_id==-1:\n",
    "                        #No BB for this object collected by MSCOCO\n",
    "                        pass\n",
    "                    elif ann['id'] == COCO_id: \n",
    "#                         print COCO_id\n",
    "                        for annBB in ann[\"segmentation\"]:\n",
    "                            coco_x_locs,coco_y_locs = process_raw_locs(annBB,COCO=True)\n",
    "                            obj_x_locs = [worker_x_locs,coco_x_locs]\n",
    "                            obj_y_locs = [worker_y_locs,coco_y_locs]\n",
    "                            bb_info = bb_info.set_value(bb[0],\"COCO Majority Vote\",majority_vote(obj_x_locs,obj_y_locs))\n",
    "                            #bb_info = bb_info.set_value(bb[0],\"Munkres Euclidean\",DistAllWorkers(obj_x_locs,obj_y_locs))\n",
    "                            bb_info = bb_info.set_value(bb[0],\"COCO Precision\",precision(obj_x_locs,obj_y_locs))\n",
    "                            bb_info = bb_info.set_value(bb[0],\"COCO Recall\",recall(obj_x_locs,obj_y_locs))                \n",
    "                            bb_info = bb_info.set_value(bb[0],\"COCO Munkres Euclidean\",DistAllWorkers(obj_x_locs,obj_y_locs))\n",
    "                my_ground_truth_match = my_BBG[my_BBG.object_id==oid]\n",
    "                my_x_locs,my_y_locs =  process_raw_locs([my_ground_truth_match[\"x_locs\"].iloc[0],my_ground_truth_match[\"y_locs\"].iloc[0]])\n",
    "                obj_x_locs = [worker_x_locs,my_x_locs]\n",
    "                obj_y_locs = [worker_y_locs,my_y_locs]\n",
    "                bb_info = bb_info.set_value(bb[0],\"My Majority Vote\",majority_vote(obj_x_locs,obj_y_locs))   \n",
    "                bb_info = bb_info.set_value(bb[0],\"My Precision\",precision(obj_x_locs,obj_y_locs))\n",
    "                bb_info = bb_info.set_value(bb[0],\"My Recall\",recall(obj_x_locs,obj_y_locs))\n",
    "                bb_info = bb_info.set_value(bb[0],\"My Munkres Euclidean\",DistAllWorkers(obj_x_locs,obj_y_locs))\n",
    "# replace all NAN values with -1, these are entries for which we don't have COCO ground truth\n",
    "bb_info = bb_info.fillna(-1)\n",
    "bb_info.to_csv(\"computed_my_COCO_BBvals.csv\")"
   ]
  },
  {
   "cell_type": "code",
   "execution_count": 4,
   "metadata": {
    "collapsed": true
   },
   "outputs": [],
   "source": [
    "from munkres import Munkres, print_matrix\n",
    "def MunkresEuclidean(bb1,bb2):\n",
    "    '''\n",
    "    Given two worker's responses, \n",
    "    Compares Euclidean distances of all points in the polygon, \n",
    "    then find the best matching (min dist) config via Kuhn-Munkres\n",
    "    '''\n",
    "    matrix = spatial.distance.cdist(bb1,bb2,'euclidean')\n",
    "    # print \"Mat: \" \n",
    "    # print np.ma.masked_equal(matrix,0)\n",
    "    # print np.shape(np.ma.masked_equal(matrix,0))\n",
    "    m = Munkres()\n",
    "    try:\n",
    "        indexes = m.compute(np.ma.masked_equal(matrix,0))\n",
    "        total = 0\n",
    "        for row, column in indexes:\n",
    "            value = matrix[row][column]\n",
    "            total += value\n",
    "    #         print '(%d, %d) -> %d' % (row, column, value)\n",
    "        return total         \n",
    "    except(ValueError):\n",
    "        print \"bad\"\n",
    "        return 0\n",
    "def DistAllWorkers(obj_x_locs,obj_y_locs,dist = MunkresEuclidean):\n",
    "    '''\n",
    "    Given all worker's responses,\n",
    "    Perform pairwise distance comparison with all other workers\n",
    "    returns quality for each worker\n",
    "    #NOTE THIS NEEDS TO BE CHANGED TO INCORPORATE ALL PAIRWISE COMPARISONS\n",
    "    '''\n",
    "    minDistList=[]\n",
    "    for i in np.arange(len(obj_x_locs)-1):\n",
    "        # Compare worker with another worker\n",
    "        bb1 = np.array([obj_x_locs[i],obj_y_locs[i]]).T\n",
    "        bb2  = np.array([obj_x_locs[i+1],obj_y_locs[i+1]]).T\n",
    "        # print bb1\n",
    "        # print bb2\n",
    "        # print dist(bb1,bb2)\n",
    "        minDistList.append(dist(bb1,bb2))\n",
    "    #worker's scores\n",
    "    return np.array(minDistList)/max(minDistList)\n"
   ]
  },
  {
   "cell_type": "markdown",
   "metadata": {},
   "source": [
    "---------------------------------------------------------------------------------------------------"
   ]
  },
  {
   "cell_type": "code",
   "execution_count": 4,
   "metadata": {
    "collapsed": false,
    "scrolled": true
   },
   "outputs": [
    {
     "name": "stderr",
     "output_type": "stream",
     "text": [
      "/Users/dorislee/.virtualenvs/py27dev/lib/python2.7/site-packages/pandas/io/parsers.py:648: ParserWarning: Falling back to the 'python' engine because the 'c' engine does not support skip_footer; you can avoid this warning by specifying engine='python'.\n",
      "  ParserWarning)\n"
     ]
    }
   ],
   "source": [
    "import ast\n",
    "from qualityBaseline import * \n",
    "from pycocotools.coco import COCO\n",
    "import matplotlib.image as mpimg\n",
    "save_db_as_csv(connect=False)\n",
    "img_info,object_tbl,bb_info,hit_info = load_info()"
   ]
  },
  {
   "cell_type": "code",
   "execution_count": 5,
   "metadata": {
    "collapsed": false
   },
   "outputs": [],
   "source": [
    "all_x_locs = bb_info[\"x_locs\"]\n",
    "all_y_locs = bb_info[\"y_locs\"]"
   ]
  },
  {
   "cell_type": "code",
   "execution_count": 6,
   "metadata": {
    "collapsed": false
   },
   "outputs": [
    {
     "name": "stdout",
     "output_type": "stream",
     "text": [
      "loading annotations into memory...\n",
      "Done (t=23.77s)\n",
      "creating index...\n",
      "index created!\n"
     ]
    }
   ],
   "source": [
    "dataDir='../../coco/'\n",
    "dataType='train2014'\n",
    "annFile='%s/annotations/instances_%s.json'%(dataDir,dataType)\n",
    "# initialize COCO api for instance annotations\n",
    "coco=COCO(annFile)"
   ]
  },
  {
   "cell_type": "code",
   "execution_count": 7,
   "metadata": {
    "collapsed": false
   },
   "outputs": [],
   "source": [
    "ground_truth = pd.read_csv(\"../../data/object_ground_truth.csv\")"
   ]
  },
  {
   "cell_type": "code",
   "execution_count": 8,
   "metadata": {
    "collapsed": false
   },
   "outputs": [],
   "source": [
    "def process_raw_locs(segmentation,COCO=False):\n",
    "    '''\n",
    "    Given a raw string of x and y coordinates, process it\n",
    "    return a list of x_locs and y_locs\n",
    "    '''\n",
    "    x_locs=[]\n",
    "    y_locs=[]\n",
    "    if COCO:\n",
    "        #COCO\n",
    "#         print \"Process COCO\"\n",
    "        poly = np.array(segmentation).reshape((len(segmentation)/2, 2))\n",
    "        x_locs = list(poly[:,0])\n",
    "        y_locs = list(poly[:,1])\n",
    "    else: \n",
    "        bbx_path,bby_path = segmentation\n",
    "        x_locs = [x for x in ast.literal_eval(bbx_path) if x is not None]\n",
    "        y_locs = [y for y in ast.literal_eval(bby_path) if y is not None]\n",
    "\n",
    "\n",
    "    # Append the starting point again in the end to close the BB\n",
    "    x_locs.append(x_locs[0])\n",
    "    y_locs.append(y_locs[0])\n",
    "    return x_locs,y_locs"
   ]
  },
  {
   "cell_type": "code",
   "execution_count": 10,
   "metadata": {
    "collapsed": true
   },
   "outputs": [],
   "source": [
    "bb_info['COCO Majority Vote'] = pd.Series(np.zeros(len(bb_info)), index=bb_info.index)"
   ]
  },
  {
   "cell_type": "markdown",
   "metadata": {},
   "source": [
    "#Installing shapely\n",
    "``\n",
    "pip install shapely==1.6b2\n",
    "``"
   ]
  },
  {
   "cell_type": "code",
   "execution_count": 16,
   "metadata": {
    "collapsed": false
   },
   "outputs": [
    {
     "data": {
      "text/plain": [
       "0.047150670955882656"
      ]
     },
     "execution_count": 16,
     "metadata": {},
     "output_type": "execute_result"
    }
   ],
   "source": [
    "# Example polygon \n",
    "xy = [[130.21001, 27.200001], [129.52, 27.34], [129.45, 27.1], [130.13, 26.950001]]\n",
    "polygon_shape = Polygon(xy)\n",
    "# Example grid cell\n",
    "gridcell_shape = box(129.5, -27.0, 129.75, 27.25)\n",
    "# The intersection\n",
    "polygon_shape.intersection(gridcell_shape).area"
   ]
  },
  {
   "cell_type": "code",
   "execution_count": 34,
   "metadata": {
    "collapsed": false
   },
   "outputs": [
    {
     "data": {
      "text/plain": [
       "1.0"
      ]
     },
     "execution_count": 34,
     "metadata": {},
     "output_type": "execute_result"
    }
   ],
   "source": [
    "obj_x_locs=[[1,3,3,1],[2,5,5,2]]\n",
    "obj_y_locs=[[3,3,1,1],[2,2,0,0]]\n",
    "polygon1 = Polygon(zip(obj_x_locs[0],obj_y_locs[0]))\n",
    "polygon2 = Polygon(zip(obj_x_locs[1],obj_y_locs[1]))\n",
    "polygon1.intersection(polygon2).area"
   ]
  },
  {
   "cell_type": "code",
   "execution_count": 109,
   "metadata": {
    "collapsed": true
   },
   "outputs": [],
   "source": [
    "from shapely.geometry import box,Polygon\n",
    "def intersection(obj_x_locs,obj_y_locs,debug=False):\n",
    "    # Compute intersecting area\n",
    "    polygon1 = Polygon(zip(obj_x_locs[0],obj_y_locs[0])).buffer(0)\n",
    "    polygon2 = Polygon(zip(obj_x_locs[1],obj_y_locs[1])).buffer(0)\n",
    "    if debug : plt.imshow(polygon1.intersection(polygon2),interpolation=\"None\")\n",
    "    return polygon1.intersection(polygon2).area"
   ]
  },
  {
   "cell_type": "code",
   "execution_count": 110,
   "metadata": {
    "collapsed": false
   },
   "outputs": [],
   "source": [
    "def union(obj_x_locs,obj_y_locs,debug=False):\n",
    "    # Compute union area of two given polygon \n",
    "    polygon1 = Polygon(zip(obj_x_locs[0],obj_y_locs[0])).buffer(0)\n",
    "    polygon2 = Polygon(zip(obj_x_locs[1],obj_y_locs[1])).buffer(0)\n",
    "    if debug : plt.imshow(polygon1.union(polygon2),interpolation=\"None\")\n",
    "    return polygon1.union(polygon2).area"
   ]
  },
  {
   "cell_type": "code",
   "execution_count": 111,
   "metadata": {
    "collapsed": true
   },
   "outputs": [],
   "source": [
    "def majority_vote(obj_x_locs,obj_y_locs): \n",
    "    '''\n",
    "    Jaccard Simmilarity or Overlap Method\n",
    "    used for PASCAL VOC challenge\n",
    "    ''' \n",
    "    return intersection(obj_x_locs,obj_y_locs)/union(obj_x_locs,obj_y_locs)"
   ]
  },
  {
   "cell_type": "code",
   "execution_count": 112,
   "metadata": {
    "collapsed": false
   },
   "outputs": [],
   "source": [
    "def precision(obj_x_locs,obj_y_locs):\n",
    "    worker_bb = Polygon(zip(obj_x_locs[0],obj_y_locs[0]))\n",
    "    worker_bb_area  = worker_bb.area\n",
    "#     print \"Intersection: \", intersection(obj_x_locs,obj_y_locs)\n",
    "#     print \"Worker BB area: \",worker_bb_area\n",
    "    return intersection(obj_x_locs,obj_y_locs)/float(worker_bb_area)"
   ]
  },
  {
   "cell_type": "code",
   "execution_count": 113,
   "metadata": {
    "collapsed": true
   },
   "outputs": [],
   "source": [
    "def recall(obj_x_locs,obj_y_locs):\n",
    "    truth_bb = Polygon(zip(obj_x_locs[1],obj_y_locs[1]))\n",
    "    truth_bb_area  = truth_bb.area\n",
    "    return intersection(obj_x_locs,obj_y_locs)/float(truth_bb_area)"
   ]
  },
  {
   "cell_type": "code",
   "execution_count": 114,
   "metadata": {
    "collapsed": false
   },
   "outputs": [
    {
     "name": "stdout",
     "output_type": "stream",
     "text": [
      "Check ``union``:  True\n",
      "Check ``intersection``:  True\n",
      "Check ``majority_vote``:  True\n",
      "Check ``precision``:  True\n",
      "Check ``recall``:  True\n"
     ]
    }
   ],
   "source": [
    "# 2 simple overlapping rectangle test example \n",
    "obj_x_locs=[[1,3,3,1],[2,5,5,2]]\n",
    "obj_y_locs=[[3,3,1,1],[2,2,0,0]]\n",
    "print \"Check ``union``: \", union(obj_x_locs,obj_y_locs) == 9\n",
    "print \"Check ``intersection``: \", intersection(obj_x_locs,obj_y_locs) == 1.\n",
    "print \"Check ``majority_vote``: \", majority_vote(obj_x_locs,obj_y_locs) == 1./9\n",
    "print \"Check ``precision``: \", precision(obj_x_locs,obj_y_locs) == 1./4\n",
    "print \"Check ``recall``: \", recall(obj_x_locs,obj_y_locs) == 1./6"
   ]
  },
  {
   "cell_type": "markdown",
   "metadata": {},
   "source": [
    "### Visualize all bounding boxes drawn by me , see which one is bad and redraw BBG "
   ]
  },
  {
   "cell_type": "code",
   "execution_count": 73,
   "metadata": {
    "collapsed": true
   },
   "outputs": [],
   "source": [
    "ground_truth = pd.read_csv(\"../../data/object_ground_truth.csv\")\n",
    "worker_info = pd.read_csv(\"../../data/worker.csv\",skipfooter=1)\n",
    "my_BBG  = pd.read_csv(\"my_ground_truth.csv\")"
   ]
  },
  {
   "cell_type": "markdown",
   "metadata": {},
   "source": [
    "### Computing measures against my BBG and COCO"
   ]
  },
  {
   "cell_type": "code",
   "execution_count": 105,
   "metadata": {
    "collapsed": true
   },
   "outputs": [],
   "source": [
    "polygon1 = Polygon(zip(obj_x_locs[0],obj_y_locs[0])).buffer(0)\n",
    "polygon2 = Polygon(zip(obj_x_locs[1],obj_y_locs[1])).buffer(0)"
   ]
  },
  {
   "cell_type": "code",
   "execution_count": 107,
   "metadata": {
    "collapsed": false
   },
   "outputs": [
    {
     "data": {
      "image/svg+xml": [
       "<svg xmlns=\"http://www.w3.org/2000/svg\" xmlns:xlink=\"http://www.w3.org/1999/xlink\" width=\"100.0\" height=\"100.0\" viewBox=\"357.84 118.84 69.32 85.32\" preserveAspectRatio=\"xMinYMin meet\"><g transform=\"matrix(1,0,0,-1,0,323.0)\"><path fill-rule=\"evenodd\" fill=\"#66cc99\" stroke=\"#555555\" stroke-width=\"1.7064\" opacity=\"0.6\" d=\"M 406.2,145.4 L 405.0,128.0 L 397.0,124.0 L 384.0,122.0 L 374.0,131.0 L 367.0,146.0 L 368.0,157.0 L 361.0,161.0 L 363.0,169.0 L 365.0,181.0 L 406.0,187.0 L 412.0,190.0 L 417.0,201.0 L 421.0,191.0 L 424.0,185.0 L 417.0,171.0 L 413.0,161.0 L 407.0,159.0 L 406.2,145.4 z\" /></g></svg>"
      ],
      "text/plain": [
       "<shapely.geometry.polygon.Polygon at 0x11613fd10>"
      ]
     },
     "execution_count": 107,
     "metadata": {},
     "output_type": "execute_result"
    }
   ],
   "source": [
    "polygon1"
   ]
  },
  {
   "cell_type": "code",
   "execution_count": 108,
   "metadata": {
    "collapsed": false
   },
   "outputs": [
    {
     "data": {
      "image/svg+xml": [
       "<svg xmlns=\"http://www.w3.org/2000/svg\" xmlns:xlink=\"http://www.w3.org/1999/xlink\" width=\"100.0\" height=\"100.0\" viewBox=\"357.5652 118.7452 65.5296 78.9696\" preserveAspectRatio=\"xMinYMin meet\"><g transform=\"matrix(1,0,0,-1,0,316.46)\"><path fill-rule=\"evenodd\" fill=\"#66cc99\" stroke=\"#555555\" stroke-width=\"1.579392\" opacity=\"0.6\" d=\"M 360.49,162.85 L 361.33,172.93 L 367.22,186.38 L 375.62,186.38 L 393.27,185.54 L 416.8,194.79 L 420.17,193.95 L 419.33,180.5 L 411.76,167.89 L 406.72,157.81 L 405.04,146.04 L 402.52,130.07 L 394.11,123.35 L 378.98,121.67 L 371.42,133.43 L 367.22,149.4 L 360.49,162.85 z\" /></g></svg>"
      ],
      "text/plain": [
       "<shapely.geometry.polygon.Polygon at 0x1160fbfd0>"
      ]
     },
     "execution_count": 108,
     "metadata": {},
     "output_type": "execute_result"
    }
   ],
   "source": [
    "polygon2"
   ]
  },
  {
   "cell_type": "code",
   "execution_count": 106,
   "metadata": {
    "collapsed": false
   },
   "outputs": [
    {
     "data": {
      "image/svg+xml": [
       "<svg xmlns=\"http://www.w3.org/2000/svg\" xmlns:xlink=\"http://www.w3.org/1999/xlink\" width=\"100.0\" height=\"100.0\" viewBox=\"358.234991284 119.298931163 64.791244483 78.3945714846\" preserveAspectRatio=\"xMinYMin meet\"><g transform=\"matrix(1,0,0,-1,0,316.992433811)\"><path fill-rule=\"evenodd\" fill=\"#66cc99\" stroke=\"#555555\" stroke-width=\"1.56789142969\" opacity=\"0.6\" d=\"M 394.428325773,123.604357811 L 389.312244656,122.817268409 L 383.775073544,122.202433811 L 374.0,131.0 L 369.552855093,140.529596229 L 367.286205565,149.148261219 L 368.0,157.0 L 361.582135951,160.667350885 L 361.138493931,161.553975725 L 363.0,169.0 L 365.0,181.0 L 406.0,187.0 L 412.0,190.0 L 413.60665867,193.534649073 L 416.8,194.79 L 419.781239288,194.04690178 L 420.122733119,193.193167203 L 419.33,180.5 L 411.76,167.89 L 407.378,159.126 L 407.0,159.0 L 406.958,158.286 L 406.72,157.81 L 405.04,146.04 L 402.52,130.07 L 394.428325773,123.604357811 z\" /></g></svg>"
      ],
      "text/plain": [
       "<shapely.geometry.polygon.Polygon at 0x1196c1650>"
      ]
     },
     "execution_count": 106,
     "metadata": {},
     "output_type": "execute_result"
    }
   ],
   "source": [
    "polygon1.intersection(polygon2)"
   ]
  },
  {
   "cell_type": "code",
   "execution_count": 147,
   "metadata": {
    "collapsed": false
   },
   "outputs": [
    {
     "data": {
      "image/svg+xml": [
       "<svg xmlns=\"http://www.w3.org/2000/svg\" xmlns:xlink=\"http://www.w3.org/1999/xlink\" width=\"100.0\" height=\"100.0\" viewBox=\"357.3168 118.4968 69.8564 85.6764\" preserveAspectRatio=\"xMinYMin meet\"><g transform=\"matrix(1,0,0,-1,0,322.67)\"><path fill-rule=\"evenodd\" fill=\"#66cc99\" stroke=\"#555555\" stroke-width=\"1.713528\" opacity=\"0.6\" d=\"M 406.2,145.4 L 405.0,128.0 L 397.0,124.0 L 394.428325773,123.604357811 L 394.11,123.35 L 389.312244656,122.817268409 L 384.0,122.0 L 383.775073544,122.202433811 L 378.98,121.67 L 371.42,133.43 L 369.552855093,140.529596229 L 367.0,146.0 L 367.286205565,149.148261219 L 367.22,149.4 L 361.582135951,160.667350885 L 361.0,161.0 L 361.138493931,161.553975725 L 360.49,162.85 L 361.33,172.93 L 367.22,186.38 L 375.62,186.38 L 393.27,185.54 L 413.60665867,193.534649073 L 417.0,201.0 L 419.781239288,194.04690178 L 420.17,193.95 L 420.122733119,193.193167203 L 421.0,191.0 L 424.0,185.0 L 417.0,171.0 L 413.0,161.0 L 407.378,159.126 L 406.958,158.286 L 406.2,145.4 z\" /></g></svg>"
      ],
      "text/plain": [
       "<shapely.geometry.polygon.Polygon at 0x11c994a10>"
      ]
     },
     "execution_count": 147,
     "metadata": {},
     "output_type": "execute_result"
    }
   ],
   "source": [
    "polygon1.union(polygon2)"
   ]
  },
  {
   "cell_type": "code",
   "execution_count": 116,
   "metadata": {
    "collapsed": false,
    "scrolled": false
   },
   "outputs": [],
   "source": [
    "for i in np.arange(len(img_info)):\n",
    "    img_name = img_info[\"filename\"][i]\n",
    "    if 'COCO' in img_name:\n",
    "        img_id = int(img_name.split('_')[-1])\n",
    "        filtered_object_tbl = object_tbl[object_tbl[\"image_id\"]==i+1]\n",
    "        annIds = coco.getAnnIds(imgIds=img_id, iscrowd=None)\n",
    "        anns = coco.loadAnns(annIds)\n",
    "        #for oid,bbx_path,bby_path in zip(bb_info[\"object_id\"],bb_info[\"x_locs\"],bb_info[\"y_locs\"]):\n",
    "        for bb in bb_info.iterrows():\n",
    "            oid = bb[1][\"object_id\"]\n",
    "            bbx_path= bb[1][\"x_locs\"]\n",
    "            bby_path= bb[1][\"y_locs\"]\n",
    "            if int(object_tbl[object_tbl.object_id==oid].image_id) ==i+1:\n",
    "                worker_x_locs,worker_y_locs= process_raw_locs([bbx_path,bby_path])\n",
    "                ground_truth_match = ground_truth[ground_truth.id==str(oid)]\n",
    "                COCO_id = int(ground_truth_match[\"COCO_annIds\"])\n",
    "                \n",
    "                #COCO-Annotations\n",
    "                for ann in anns:\n",
    "                    if COCO_id==-1:\n",
    "                        #No BB for this object collected by MSCOCO\n",
    "                        pass\n",
    "                    elif ann['id'] == COCO_id: \n",
    "#                         print COCO_id\n",
    "                        for annBB in ann[\"segmentation\"]:\n",
    "                            coco_x_locs,coco_y_locs = process_raw_locs(annBB,COCO=True)\n",
    "                            obj_x_locs = [worker_x_locs,coco_x_locs]\n",
    "                            obj_y_locs = [worker_y_locs,coco_y_locs]\n",
    "                            bb_info = bb_info.set_value(bb[0],\"COCO Majority Vote\",majority_vote(obj_x_locs,obj_y_locs))\n",
    "                            #bb_info = bb_info.set_value(bb[0],\"Munkres Euclidean\",DistAllWorkers(obj_x_locs,obj_y_locs))\n",
    "                            bb_info = bb_info.set_value(bb[0],\"COCO Precision\",precision(obj_x_locs,obj_y_locs))\n",
    "                            bb_info = bb_info.set_value(bb[0],\"COCO Recall\",recall(obj_x_locs,obj_y_locs))                \n",
    "                my_ground_truth_match = my_BBG[my_BBG.object_id==oid]\n",
    "                my_x_locs,my_y_locs =  process_raw_locs([my_ground_truth_match[\"x_locs\"].iloc[0],my_ground_truth_match[\"y_locs\"].iloc[0]])\n",
    "                obj_x_locs = [worker_x_locs,my_x_locs]\n",
    "                obj_y_locs = [worker_y_locs,my_y_locs]\n",
    "                bb_info = bb_info.set_value(bb[0],\"My Majority Vote\",majority_vote(obj_x_locs,obj_y_locs))   \n",
    "                bb_info = bb_info.set_value(bb[0],\"My Precision\",precision(obj_x_locs,obj_y_locs))\n",
    "                bb_info = bb_info.set_value(bb[0],\"My Recall\",recall(obj_x_locs,obj_y_locs))\n",
    "# replace all NAN values with -1, these are entries for which we don't have COCO ground truth\n",
    "bb_info = bb_info.fillna(-1)"
   ]
  },
  {
   "cell_type": "code",
   "execution_count": 149,
   "metadata": {
    "collapsed": false
   },
   "outputs": [],
   "source": [
    "bb_info.to_csv(\"computed_my_COCO_BBvals.csv\")"
   ]
  },
  {
   "cell_type": "markdown",
   "metadata": {},
   "source": [
    "### Use Kolmogorov-Smirnov test to see how well the distributions fit a Gaussian \n"
   ]
  },
  {
   "cell_type": "code",
   "execution_count": 124,
   "metadata": {
    "collapsed": false
   },
   "outputs": [],
   "source": [
    "from scipy import stats"
   ]
  },
  {
   "cell_type": "code",
   "execution_count": 120,
   "metadata": {
    "collapsed": false
   },
   "outputs": [
    {
     "data": {
      "text/plain": [
       "(0, 1.1)"
      ]
     },
     "execution_count": 120,
     "metadata": {},
     "output_type": "execute_result"
    },
    {
     "data": {
      "image/png": "[encoded data removed]",
      "text/plain": [
       "<matplotlib.figure.Figure at 0x11c994f10>"
      ]
     },
     "metadata": {},
     "output_type": "display_data"
    }
   ],
   "source": [
    "my_precision = np.array(bb_info[\"My Precision\"][bb_info[\"My Precision\"]!=-1])\n",
    "my_recall = np.array(bb_info[\"My Recall\"][bb_info[\"My Recall\"]!=-1])\n",
    "plt.figure()\n",
    "plt.hist(my_precision,bins=1000)\n",
    "plt.xlim(0,1.1)"
   ]
  },
  {
   "cell_type": "code",
   "execution_count": 131,
   "metadata": {
    "collapsed": false
   },
   "outputs": [
    {
     "name": "stdout",
     "output_type": "stream",
     "text": [
      "(0.63390175005377802, 0.0)\n",
      "(0.66631878187717508, 0.0)\n"
     ]
    }
   ],
   "source": [
    "print  stats.kstest(my_precision, 'norm')\n",
    "print stats.kstest(my_recall, 'norm')"
   ]
  },
  {
   "cell_type": "code",
   "execution_count": 135,
   "metadata": {
    "collapsed": false
   },
   "outputs": [
    {
     "name": "stdout",
     "output_type": "stream",
     "text": [
      "(0.38691067457919365, 0.0)\n",
      "(0.41326489697122637, 0.0)\n"
     ]
    }
   ],
   "source": [
    "print stats.kstest(my_precision, 'expon')\n",
    "print stats.kstest(my_recall, 'expon')"
   ]
  },
  {
   "cell_type": "code",
   "execution_count": 132,
   "metadata": {
    "collapsed": false
   },
   "outputs": [
    {
     "data": {
      "text/plain": [
       "(0, 1.1)"
      ]
     },
     "execution_count": 132,
     "metadata": {},
     "output_type": "execute_result"
    },
    {
     "data": {
      "image/png": "[encoded data removed]",
      "text/plain": [
       "<matplotlib.figure.Figure at 0x117682910>"
      ]
     },
     "metadata": {},
     "output_type": "display_data"
    }
   ],
   "source": [
    "coco_precision = np.array(bb_info[\"COCO Precision\"][bb_info[\"COCO Precision\"]!=-1])\n",
    "coco_recall = np.array(bb_info[\"COCO Recall\"][bb_info[\"COCO Recall\"]!=-1])\n",
    "plt.hist(coco_precision,bins=200)\n",
    "plt.xlim(0,1.1)"
   ]
  },
  {
   "cell_type": "code",
   "execution_count": 133,
   "metadata": {
    "collapsed": false
   },
   "outputs": [
    {
     "name": "stdout",
     "output_type": "stream",
     "text": [
      "(0.64479018753305417, 0.0)\n",
      "(0.67499745698052038, 0.0)\n"
     ]
    }
   ],
   "source": [
    "print stats.kstest(coco_precision, 'norm')\n",
    "print stats.kstest(coco_recall, 'norm')"
   ]
  },
  {
   "cell_type": "code",
   "execution_count": 134,
   "metadata": {
    "collapsed": false
   },
   "outputs": [
    {
     "name": "stdout",
     "output_type": "stream",
     "text": [
      "(0.39899709391605803, 0.0)\n",
      "(0.42637866891821607, 0.0)\n"
     ]
    }
   ],
   "source": [
    "print stats.kstest(coco_precision, 'expon')\n",
    "print stats.kstest(coco_recall, 'expon')"
   ]
  },
  {
   "cell_type": "code",
   "execution_count": 143,
   "metadata": {
    "collapsed": false
   },
   "outputs": [
    {
     "data": {
      "text/plain": [
       "(0, 5)"
      ]
     },
     "execution_count": 143,
     "metadata": {},
     "output_type": "execute_result"
    },
    {
     "data": {
      "image/png": "[encoded data removed]",
      "text/plain": [
       "<matplotlib.figure.Figure at 0x112aa4850>"
      ]
     },
     "metadata": {},
     "output_type": "display_data"
    }
   ],
   "source": [
    "fig = plt.figure()\n",
    "ax = fig.add_subplot(111)\n",
    "res = stats.probplot(my_precision, dist=stats.norm, sparams=(2.5,), plot=ax)\n",
    "ax.set_title(\"Quantile-Quantile  plot [Normal]\")\n",
    "ax.set_ylim(0,5)"
   ]
  },
  {
   "cell_type": "code",
   "execution_count": 144,
   "metadata": {
    "collapsed": false
   },
   "outputs": [
    {
     "data": {
      "text/plain": [
       "(0, 5)"
      ]
     },
     "execution_count": 144,
     "metadata": {},
     "output_type": "execute_result"
    },
    {
     "data": {
      "image/png": "[encoded data removed]",
      "text/plain": [
       "<matplotlib.figure.Figure at 0x11b27f910>"
      ]
     },
     "metadata": {},
     "output_type": "display_data"
    }
   ],
   "source": [
    "fig = plt.figure()\n",
    "ax = fig.add_subplot(111)\n",
    "res = stats.probplot(my_precision, dist=stats.expon, sparams=(2.5,), plot=ax)\n",
    "ax.set_title(\"Quantile-Quantile  plot [Exponential]\")\n",
    "ax.set_ylim(0,5)"
   ]
  },
  {
   "cell_type": "markdown",
   "metadata": {},
   "source": [
    "These distributions are very far from a normal or even an exponential distribution, even when you filter out the outliers "
   ]
  },
  {
   "cell_type": "markdown",
   "metadata": {},
   "source": [
    "Other quantities: boundary complexity, comparison with color mixture and hues from CV "
   ]
  },
  {
   "cell_type": "code",
   "execution_count": null,
   "metadata": {
    "collapsed": true
   },
   "outputs": [],
   "source": []
  }
 ],
 "metadata": {
  "kernelspec": {
   "display_name": "Python 2",
   "language": "python",
   "name": "python2"
  },
  "language_info": {
   "codemirror_mode": {
    "name": "ipython",
    "version": 2
   },
   "file_extension": ".py",
   "mimetype": "text/x-python",
   "name": "python",
   "nbconvert_exporter": "python",
   "pygments_lexer": "ipython2",
   "version": "2.7.10"
  }
 },
 "nbformat": 4,
 "nbformat_minor": 0
}
