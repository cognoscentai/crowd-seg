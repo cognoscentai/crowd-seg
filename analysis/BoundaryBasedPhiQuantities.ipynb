{
 "cells": [
  {
   "cell_type": "code",
   "execution_count": 1,
   "metadata": {
    "collapsed": false
   },
   "outputs": [
    {
     "name": "stdout",
     "output_type": "stream",
     "text": [
      "Populating the interactive namespace from numpy and matplotlib\n"
     ]
    }
   ],
   "source": [
    "%pylab inline "
   ]
  },
  {
   "cell_type": "code",
   "execution_count": 2,
   "metadata": {
    "collapsed": false
   },
   "outputs": [],
   "source": [
    "%load_ext autoreload\n",
    "%autoreload 2\n",
    "from analysis_toolbox import *\n",
    "from qualityBaseline import * "
   ]
  },
  {
   "cell_type": "code",
   "execution_count": 3,
   "metadata": {
    "collapsed": false
   },
   "outputs": [],
   "source": [
    "from munkres import Munkres, print_matrix\n",
    "def MunkresEuclidean(bb1,bb2):\n",
    "    '''\n",
    "    Given two worker's responses, \n",
    "    Compares Euclidean distances of all points in the polygon, \n",
    "    then find the best matching (min dist) config via Kuhn-Munkres\n",
    "    '''\n",
    "    matrix = spatial.distance.cdist(bb1,bb2,'euclidean')\n",
    "    # print \"Mat: \" \n",
    "    # print np.ma.masked_equal(matrix,0)\n",
    "    # print np.shape(np.ma.masked_equal(matrix,0))\n",
    "    m = Munkres()\n",
    "    try:\n",
    "        indexes = m.compute(np.ma.masked_equal(matrix,0))\n",
    "        total = 0\n",
    "        for row, column in indexes:\n",
    "            value = matrix[row][column]\n",
    "            total += value\n",
    "    #         print '(%d, %d) -> %d' % (row, column, value)\n",
    "        return total         \n",
    "    except(ValueError):\n",
    "        print \"bad\"\n",
    "        return 0"
   ]
  },
  {
   "cell_type": "code",
   "execution_count": 6,
   "metadata": {
    "collapsed": true
   },
   "outputs": [],
   "source": [
    "bb_info = pd.read_csv('computed_my_COCO_BBvals.csv')\n",
    "bbg_info = pd.read_csv('my_ground_truth.csv')"
   ]
  },
  {
   "cell_type": "code",
   "execution_count": 20,
   "metadata": {
    "collapsed": true
   },
   "outputs": [],
   "source": [
    "from shapely.geometry import box,Polygon"
   ]
  },
  {
   "cell_type": "code",
   "execution_count": null,
   "metadata": {
    "collapsed": true
   },
   "outputs": [],
   "source": [
    "Polygon(zip(obj_x_locs[0],obj_y_locs[0])).buffer(0)"
   ]
  },
  {
   "cell_type": "code",
   "execution_count": 178,
   "metadata": {
    "collapsed": false
   },
   "outputs": [],
   "source": [
    "oid = 8\n",
    "worker =  bb_info[bb_info[\"object_id\"]==oid].ix[73]\n",
    "bbg = bbg_info[bb_info[\"object_id\"]==oid].ix[0]\n",
    "obj_x_locs = [ast.literal_eval(worker[\"x_locs\"]),ast.literal_eval(bbg[\"x_locs\"])]\n",
    "obj_y_locs = [ast.literal_eval(worker[\"y_locs\"]),ast.literal_eval(bbg[\"y_locs\"])]\n",
    "polygon1 = Polygon(zip(obj_x_locs[0],obj_y_locs[0])).buffer(0)\n",
    "polygon2 = Polygon(zip(obj_x_locs[1],obj_y_locs[1])).buffer(0)"
   ]
  },
  {
   "cell_type": "code",
   "execution_count": 70,
   "metadata": {
    "collapsed": false
   },
   "outputs": [],
   "source": [
    "from scipy.spatial.distance import cdist,pdist"
   ]
  },
  {
   "cell_type": "code",
   "execution_count": 89,
   "metadata": {
    "collapsed": false
   },
   "outputs": [
    {
     "ename": "TypeError",
     "evalue": "list indices must be integers, not str",
     "output_type": "error",
     "traceback": [
      "\u001b[0;31m---------------------------------------------------------------------------\u001b[0m",
      "\u001b[0;31mTypeError\u001b[0m                                 Traceback (most recent call last)",
      "\u001b[0;32m<ipython-input-89-95d6f8584f70>\u001b[0m in \u001b[0;36m<module>\u001b[0;34m()\u001b[0m\n\u001b[1;32m      1\u001b[0m \u001b[0mworker_bb\u001b[0m \u001b[0;34m=\u001b[0m \u001b[0mnp\u001b[0m\u001b[0;34m.\u001b[0m\u001b[0marray\u001b[0m\u001b[0;34m(\u001b[0m\u001b[0;34m[\u001b[0m\u001b[0mast\u001b[0m\u001b[0;34m.\u001b[0m\u001b[0mliteral_eval\u001b[0m\u001b[0;34m(\u001b[0m\u001b[0mworker\u001b[0m\u001b[0;34m[\u001b[0m\u001b[0;34m\"x_locs\"\u001b[0m\u001b[0;34m]\u001b[0m\u001b[0;34m)\u001b[0m\u001b[0;34m,\u001b[0m\u001b[0mast\u001b[0m\u001b[0;34m.\u001b[0m\u001b[0mliteral_eval\u001b[0m\u001b[0;34m(\u001b[0m\u001b[0mworker\u001b[0m\u001b[0;34m[\u001b[0m\u001b[0;34m\"y_locs\"\u001b[0m\u001b[0;34m]\u001b[0m\u001b[0;34m)\u001b[0m\u001b[0;34m]\u001b[0m\u001b[0;34m)\u001b[0m\u001b[0;34m\u001b[0m\u001b[0m\n\u001b[0;32m----> 2\u001b[0;31m \u001b[0mbbg\u001b[0m \u001b[0;34m=\u001b[0m \u001b[0;34m[\u001b[0m\u001b[0mast\u001b[0m\u001b[0;34m.\u001b[0m\u001b[0mliteral_eval\u001b[0m\u001b[0;34m(\u001b[0m\u001b[0mbbg\u001b[0m\u001b[0;34m[\u001b[0m\u001b[0;34m\"x_locs\"\u001b[0m\u001b[0;34m]\u001b[0m\u001b[0;34m)\u001b[0m\u001b[0;34m,\u001b[0m\u001b[0mast\u001b[0m\u001b[0;34m.\u001b[0m\u001b[0mliteral_eval\u001b[0m\u001b[0;34m(\u001b[0m\u001b[0mbbg\u001b[0m\u001b[0;34m[\u001b[0m\u001b[0;34m\"y_locs\"\u001b[0m\u001b[0;34m]\u001b[0m\u001b[0;34m)\u001b[0m\u001b[0;34m]\u001b[0m\u001b[0;34m\u001b[0m\u001b[0m\n\u001b[0m",
      "\u001b[0;31mTypeError\u001b[0m: list indices must be integers, not str"
     ]
    }
   ],
   "source": [
    "worker_bb = np.array([ast.literal_eval(worker[\"x_locs\"]),ast.literal_eval(worker[\"y_locs\"])])\n",
    "bbg = [ast.literal_eval(bbg[\"x_locs\"]),ast.literal_eval(bbg[\"y_locs\"])]"
   ]
  },
  {
   "cell_type": "code",
   "execution_count": 93,
   "metadata": {
    "collapsed": false
   },
   "outputs": [],
   "source": [
    "worker_bb = zip(ast.literal_eval(worker[\"x_locs\"]),ast.literal_eval(worker[\"y_locs\"]))"
   ]
  },
  {
   "cell_type": "code",
   "execution_count": 103,
   "metadata": {
    "collapsed": true
   },
   "outputs": [],
   "source": [
    "from scipy import interpolate"
   ]
  },
  {
   "cell_type": "code",
   "execution_count": null,
   "metadata": {
    "collapsed": true
   },
   "outputs": [],
   "source": [
    "griddata(worker_bb)"
   ]
  },
  {
   "cell_type": "code",
   "execution_count": 105,
   "metadata": {
    "collapsed": true
   },
   "outputs": [],
   "source": [
    "phi = np.linspace(0, 2.*np.pi, 40)\n",
    "r = 0.5 + np.cos(phi)         # polar coords\n",
    "x, y = r * np.cos(phi), r * np.sin(phi)    # "
   ]
  },
  {
   "cell_type": "code",
   "execution_count": 108,
   "metadata": {
    "collapsed": false
   },
   "outputs": [
    {
     "data": {
      "text/plain": [
       "array([  1.50000000e+00,   1.46779335e+00,   1.37398960e+00,\n",
       "         1.22676039e+00,   1.03883011e+00,   8.26229207e-01,\n",
       "         6.06729930e-01,   3.98123593e-01,   2.16513689e-01,\n",
       "         7.47974314e-02,  -1.85116241e-02,  -6.00025687e-02,\n",
       "        -5.15578176e-02,  -1.11022302e-16,   8.37644653e-02,\n",
       "         1.86012966e-01,   2.91751238e-01,   3.86372455e-01,\n",
       "         4.57257104e-01,   4.95146477e-01,   4.95146477e-01,\n",
       "         4.57257104e-01,   3.86372455e-01,   2.91751238e-01,\n",
       "         1.86012966e-01,   8.37644653e-02,   2.22044605e-16,\n",
       "        -5.15578176e-02,  -6.00025687e-02,  -1.85116241e-02,\n",
       "         7.47974314e-02,   2.16513689e-01,   3.98123593e-01,\n",
       "         6.06729930e-01,   8.26229207e-01,   1.03883011e+00,\n",
       "         1.22676039e+00,   1.37398960e+00,   1.46779335e+00,\n",
       "         1.50000000e+00])"
      ]
     },
     "execution_count": 108,
     "metadata": {},
     "output_type": "execute_result"
    }
   ],
   "source": [
    "x"
   ]
  },
  {
   "cell_type": "code",
   "execution_count": 121,
   "metadata": {
    "collapsed": false
   },
   "outputs": [
    {
     "name": "stdout",
     "output_type": "stream",
     "text": [
      "Warning: Setting x[0][25]=x[0][0]\n",
      "Warning: Setting x[1][25]=x[1][0]\n"
     ]
    }
   ],
   "source": [
    "from scipy.interpolate import splprep,splev\n",
    "x= ast.literal_eval(worker[\"x_locs\"])\n",
    "y= ast.literal_eval(worker[\"y_locs\"])\n",
    "tck, u =splprep([x,y],s=0,per=1)\n",
    "u_new = np.linspace(u.min(),u.max(),3000)\n",
    "new_points = splev(u_new, tck,der=0)"
   ]
  },
  {
   "cell_type": "code",
   "execution_count": 122,
   "metadata": {
    "collapsed": false
   },
   "outputs": [
    {
     "data": {
      "image/png": "[encoded data removed]",
      "text/plain": [
       "<matplotlib.figure.Figure at 0x10e9865d0>"
      ]
     },
     "metadata": {},
     "output_type": "display_data"
    }
   ],
   "source": [
    "fig, ax = plt.subplots()\n",
    "ax.plot(x, y, 'ro')\n",
    "ax.plot(new_points[0], new_points[1], 'r-')\n",
    "plt.show()"
   ]
  },
  {
   "cell_type": "code",
   "execution_count": 127,
   "metadata": {
    "collapsed": false
   },
   "outputs": [
    {
     "name": "stdout",
     "output_type": "stream",
     "text": [
      "[[383, 354, 318, 287, 274, 256, 258, 310, 343, 363, 368, 422, 449, 466, 480, 498, 518, 521, 509, 498, 482, 472, 450, 426, 405], [302, 264, 254, 250, 250, 250, 248, 247, 247, 253, 267, 275, 290, 312, 337, 353, 363, 411, 435, 449, 462, 470, 478, 480, 494, 503, 511, 529, 532, 529, 522, 521, 516, 514, 506, 495, 493, 485, 483, 468, 453, 428, 371, 358, 334]]\n"
     ]
    }
   ],
   "source": [
    "print obj_x_locs[0]"
   ]
  },
  {
   "cell_type": "code",
   "execution_count": 128,
   "metadata": {
    "collapsed": true
   },
   "outputs": [],
   "source": [
    "from scipy.interpolate import splprep,splev\n",
    "\n",
    "def parametric_interpolate(obj_x_locs,obj_y_locs,numPts,PLOT=False):\n",
    "    '''\n",
    "    Parametric interpolation of points between polygon boundaries\n",
    "    Given obj_x_locs,obj_y_locs\n",
    "    return a new set of interpolated obj_x_locs,obj_y_locs interpolated on numPts \n",
    "    '''\n",
    "    interpolated_obj_x_locs = []\n",
    "    interpolated_obj_y_locs = []\n",
    "    for i in range(len(obj_x_locs)):\n",
    "        x = obj_x_locs[i]\n",
    "        y = obj_y_locs[i]\n",
    "        tck, u =splprep([x,y],s=0,per=1)\n",
    "        u_new = np.linspace(u.min(),u.max(),numPts)\n",
    "        new_points = splev(u_new, tck,der=0)\n",
    "        if PLOT: \n",
    "            plt.figure()\n",
    "            plt.plot(x, y, 'ro')\n",
    "            plt.plot(new_points[0], new_points[1], 'r-')\n",
    "        interpolated_obj_x_locs.append(new_points[0])\n",
    "        interpolated_obj_y_locs.append(new_points[1])\n",
    "    return interpolated_obj_x_locs,interpolated_obj_y_locs\n"
   ]
  },
  {
   "cell_type": "code",
   "execution_count": 144,
   "metadata": {
    "collapsed": false
   },
   "outputs": [
    {
     "name": "stdout",
     "output_type": "stream",
     "text": [
      "Warning: Setting x[0][25]=x[0][0]\n",
      "Warning: Setting x[1][25]=x[1][0]\n",
      "Warning: Setting x[0][45]=x[0][0]\n",
      "Warning: Setting x[1][45]=x[1][0]\n"
     ]
    },
    {
     "data": {
      "image/png": "[encoded data removed]",
      "text/plain": [
       "<matplotlib.figure.Figure at 0x10e9ba490>"
      ]
     },
     "metadata": {},
     "output_type": "display_data"
    },
    {
     "data": {
      "image/png": "[encoded data removed]",
      "text/plain": [
       "<matplotlib.figure.Figure at 0x10eb829d0>"
      ]
     },
     "metadata": {},
     "output_type": "display_data"
    }
   ],
   "source": [
    "interpolated_obj_x_locs,interpolated_obj_y_locs = parametric_interpolate(obj_x_locs,obj_y_locs,20,True)"
   ]
  },
  {
   "cell_type": "markdown",
   "metadata": {},
   "source": [
    "such operation is called a \"parametric interpolation\", we use a parametric B_spline to do the interpolation"
   ]
  },
  {
   "cell_type": "code",
   "execution_count": null,
   "metadata": {
    "collapsed": true
   },
   "outputs": [],
   "source": [
    "interpolated_obj_x_locs,interpolated_obj_y_locs"
   ]
  },
  {
   "cell_type": "code",
   "execution_count": 27,
   "metadata": {
    "collapsed": false
   },
   "outputs": [
    {
     "name": "stdout",
     "output_type": "stream",
     "text": [
      "0.621613376145\n",
      "0.954158717771\n",
      "0.640749081612\n"
     ]
    }
   ],
   "source": [
    "print majority_vote(obj_x_locs,obj_y_locs)\n",
    "print precision(obj_x_locs,obj_y_locs)\n",
    "print recall(obj_x_locs,obj_y_locs)"
   ]
  },
  {
   "cell_type": "code",
   "execution_count": 145,
   "metadata": {
    "collapsed": true
   },
   "outputs": [],
   "source": [
    "polygon1 = zip(interpolated_obj_x_locs[0],interpolated_obj_y_locs[0])\n",
    "polygon2 = zip(interpolated_obj_x_locs[1],interpolated_obj_y_locs[1])"
   ]
  },
  {
   "cell_type": "code",
   "execution_count": 230,
   "metadata": {
    "collapsed": true
   },
   "outputs": [],
   "source": [
    "def MunkresEuclidean(bb1,bb2):\n",
    "    '''\n",
    "    Given two worker's responses, \n",
    "    Compares Euclidean distances of all points in the polygon, \n",
    "    then find the best matching (min dist) config via Kuhn-Munkres\n",
    "    '''\n",
    "    matrix = spatial.distance.cdist(bb1,bb2,'euclidean')\n",
    "    # print \"Mat: \" \n",
    "    # print np.ma.masked_equal(matrix,0)\n",
    "    # print np.shape(np.ma.masked_equal(matrix,0))\n",
    "    m = Munkres()\n",
    "    try:\n",
    "        indexes = m.compute(np.ma.masked_equal(matrix,0))\n",
    "        total = 0\n",
    "        for row, column in indexes:\n",
    "            value = matrix[row][column]\n",
    "            total += value\n",
    "#             print '(%d, %d) -> %d' % (row, column, value)\n",
    "        return total         \n",
    "    except(ValueError):\n",
    "        print \"bad\"\n",
    "        return 0"
   ]
  },
  {
   "cell_type": "code",
   "execution_count": 150,
   "metadata": {
    "collapsed": false
   },
   "outputs": [
    {
     "name": "stdout",
     "output_type": "stream",
     "text": [
      "(0, 17) -> 11\n",
      "(1, 0) -> 53\n",
      "(2, 19) -> 39\n",
      "(3, 1) -> 41\n",
      "(4, 2) -> 19\n",
      "(5, 3) -> 14\n",
      "(6, 4) -> 15\n",
      "(7, 5) -> 11\n",
      "(8, 6) -> 8\n",
      "(9, 7) -> 16\n",
      "(10, 8) -> 27\n",
      "(11, 9) -> 22\n",
      "(12, 10) -> 11\n",
      "(13, 11) -> 24\n",
      "(14, 12) -> 19\n",
      "(15, 13) -> 14\n",
      "(16, 14) -> 9\n",
      "(17, 15) -> 1\n",
      "(18, 16) -> 12\n",
      "(19, 18) -> 44\n"
     ]
    },
    {
     "data": {
      "text/plain": [
       "419.61888993442659"
      ]
     },
     "execution_count": 150,
     "metadata": {},
     "output_type": "execute_result"
    }
   ],
   "source": [
    "MunkresEuclidean(polygon1,polygon2)"
   ]
  },
  {
   "cell_type": "markdown",
   "metadata": {},
   "source": [
    "try using a low-rank approx for the matrix to find the \"gap\" and apply that to everything. The gap is fixed because we know the points are ordered. For ex, \n",
    "```\n",
    "(14, 12) -> 19\n",
    "(15, 13) -> 14\n",
    "(16, 14) -> 9\n",
    "(17, 15) -> 1\n",
    "(18, 16) -> 12\n",
    "(19, 18) -> 44\n",
    "```"
   ]
  },
  {
   "cell_type": "code",
   "execution_count": 152,
   "metadata": {
    "collapsed": false
   },
   "outputs": [
    {
     "name": "stdout",
     "output_type": "stream",
     "text": [
      "Warning: Setting x[0][25]=x[0][0]\n",
      "Warning: Setting x[1][25]=x[1][0]\n",
      "Warning: Setting x[0][45]=x[0][0]\n",
      "Warning: Setting x[1][45]=x[1][0]\n",
      "(0, 43) -> 5\n",
      "(1, 44) -> 2\n",
      "(2, 47) -> 34\n",
      "(3, 48) -> 38\n",
      "(4, 0) -> 43\n",
      "(5, 49) -> 39\n",
      "(6, 1) -> 42\n",
      "(7, 2) -> 42\n",
      "(8, 3) -> 42\n",
      "(9, 4) -> 37\n",
      "(10, 5) -> 22\n",
      "(11, 6) -> 12\n",
      "(12, 7) -> 12\n",
      "(13, 8) -> 12\n",
      "(14, 9) -> 10\n",
      "(15, 10) -> 11\n",
      "(16, 11) -> 15\n",
      "(17, 12) -> 14\n",
      "(18, 13) -> 9\n",
      "(19, 14) -> 5\n",
      "(20, 15) -> 6\n",
      "(21, 16) -> 9\n",
      "(22, 17) -> 11\n",
      "(23, 18) -> 16\n",
      "(24, 19) -> 21\n",
      "(25, 20) -> 26\n",
      "(26, 21) -> 27\n",
      "(27, 22) -> 23\n",
      "(28, 23) -> 23\n",
      "(29, 24) -> 22\n",
      "(30, 25) -> 9\n",
      "(31, 26) -> 14\n",
      "(32, 27) -> 15\n",
      "(33, 28) -> 23\n",
      "(34, 30) -> 7\n",
      "(35, 29) -> 32\n",
      "(36, 31) -> 17\n",
      "(37, 32) -> 14\n",
      "(38, 33) -> 13\n",
      "(39, 34) -> 12\n",
      "(40, 35) -> 8\n",
      "(41, 36) -> 7\n",
      "(42, 37) -> 9\n",
      "(43, 38) -> 3\n",
      "(44, 39) -> 1\n",
      "(45, 40) -> 6\n",
      "(46, 41) -> 12\n",
      "(47, 42) -> 16\n",
      "(48, 46) -> 49\n",
      "(49, 45) -> 25\n"
     ]
    },
    {
     "data": {
      "text/plain": [
       "946.39056232163682"
      ]
     },
     "execution_count": 152,
     "metadata": {},
     "output_type": "execute_result"
    },
    {
     "data": {
      "image/png": "[encoded data removed]",
      "text/plain": [
       "<matplotlib.figure.Figure at 0x10e122750>"
      ]
     },
     "metadata": {},
     "output_type": "display_data"
    },
    {
     "data": {
      "image/png": "[encoded data removed]",
      "text/plain": [
       "<matplotlib.figure.Figure at 0x125130b50>"
      ]
     },
     "metadata": {},
     "output_type": "display_data"
    }
   ],
   "source": [
    "interpolated_obj_x_locs,interpolated_obj_y_locs = parametric_interpolate(obj_x_locs,obj_y_locs,50,True)\n",
    "polygon1 = zip(interpolated_obj_x_locs[0],interpolated_obj_y_locs[0])\n",
    "polygon2 = zip(interpolated_obj_x_locs[1],interpolated_obj_y_locs[1])\n",
    "MunkresEuclidean(polygon1,polygon2)"
   ]
  },
  {
   "cell_type": "code",
   "execution_count": 231,
   "metadata": {
    "collapsed": true
   },
   "outputs": [],
   "source": [
    "def MunkresEuclidean(bb1,bb2):\n",
    "    '''\n",
    "    Given two worker's responses, \n",
    "    Compares Euclidean distances of all points in the polygon, \n",
    "    then find the best matching (min dist) config via Kuhn-Munkres\n",
    "    '''\n",
    "    matrix = spatial.distance.cdist(bb1,bb2,'euclidean')\n",
    "    shape(matrix)\n",
    "    \n",
    "    # print \"Mat: \" \n",
    "    # print np.ma.masked_equal(matrix,0)\n",
    "    # print np.shape(np.ma.masked_equal(matrix,0))\n",
    "    m = Munkres()\n",
    "    try:\n",
    "        indexes = m.compute(np.ma.masked_equal(matrix,0))\n",
    "        total = 0\n",
    "        for row, column in indexes:\n",
    "            value = matrix[row][column]\n",
    "            total += value\n",
    "#             print '(%d, %d) -> %d' % (row, column, value)\n",
    "        return total         \n",
    "    except(ValueError):\n",
    "        print \"bad\"\n",
    "        return 0"
   ]
  },
  {
   "cell_type": "code",
   "execution_count": 192,
   "metadata": {
    "collapsed": false
   },
   "outputs": [
    {
     "ename": "KeyboardInterrupt",
     "evalue": "",
     "output_type": "error",
     "traceback": [
      "\u001b[0;31m---------------------------------------------------------------------------\u001b[0m",
      "\u001b[0;31mKeyboardInterrupt\u001b[0m                         Traceback (most recent call last)",
      "\u001b[0;32m<ipython-input-192-59f565251fdb>\u001b[0m in \u001b[0;36m<module>\u001b[0;34m()\u001b[0m\n\u001b[1;32m      2\u001b[0m \u001b[0mpolygon1\u001b[0m \u001b[0;34m=\u001b[0m \u001b[0mzip\u001b[0m\u001b[0;34m(\u001b[0m\u001b[0minterpolated_obj_x_locs\u001b[0m\u001b[0;34m[\u001b[0m\u001b[0;36m0\u001b[0m\u001b[0;34m]\u001b[0m\u001b[0;34m,\u001b[0m\u001b[0minterpolated_obj_y_locs\u001b[0m\u001b[0;34m[\u001b[0m\u001b[0;36m0\u001b[0m\u001b[0;34m]\u001b[0m\u001b[0;34m)\u001b[0m\u001b[0;34m\u001b[0m\u001b[0m\n\u001b[1;32m      3\u001b[0m \u001b[0mpolygon2\u001b[0m \u001b[0;34m=\u001b[0m \u001b[0mzip\u001b[0m\u001b[0;34m(\u001b[0m\u001b[0minterpolated_obj_x_locs\u001b[0m\u001b[0;34m[\u001b[0m\u001b[0;36m1\u001b[0m\u001b[0;34m]\u001b[0m\u001b[0;34m,\u001b[0m\u001b[0minterpolated_obj_y_locs\u001b[0m\u001b[0;34m[\u001b[0m\u001b[0;36m1\u001b[0m\u001b[0;34m]\u001b[0m\u001b[0;34m)\u001b[0m\u001b[0;34m\u001b[0m\u001b[0m\n\u001b[0;32m----> 4\u001b[0;31m \u001b[0mMunkresEuclidean\u001b[0m\u001b[0;34m(\u001b[0m\u001b[0mpolygon1\u001b[0m\u001b[0;34m,\u001b[0m\u001b[0mpolygon2\u001b[0m\u001b[0;34m)\u001b[0m\u001b[0;34m\u001b[0m\u001b[0m\n\u001b[0m",
      "\u001b[0;32m<ipython-input-191-5e8add5e0ee1>\u001b[0m in \u001b[0;36mMunkresEuclidean\u001b[0;34m(bb1, bb2)\u001b[0m\n\u001b[1;32m     13\u001b[0m     \u001b[0mm\u001b[0m \u001b[0;34m=\u001b[0m \u001b[0mMunkres\u001b[0m\u001b[0;34m(\u001b[0m\u001b[0;34m)\u001b[0m\u001b[0;34m\u001b[0m\u001b[0m\n\u001b[1;32m     14\u001b[0m     \u001b[0;32mtry\u001b[0m\u001b[0;34m:\u001b[0m\u001b[0;34m\u001b[0m\u001b[0m\n\u001b[0;32m---> 15\u001b[0;31m         \u001b[0mindexes\u001b[0m \u001b[0;34m=\u001b[0m \u001b[0mm\u001b[0m\u001b[0;34m.\u001b[0m\u001b[0mcompute\u001b[0m\u001b[0;34m(\u001b[0m\u001b[0mnp\u001b[0m\u001b[0;34m.\u001b[0m\u001b[0mma\u001b[0m\u001b[0;34m.\u001b[0m\u001b[0mmasked_equal\u001b[0m\u001b[0;34m(\u001b[0m\u001b[0mmatrix\u001b[0m\u001b[0;34m,\u001b[0m\u001b[0;36m0\u001b[0m\u001b[0;34m)\u001b[0m\u001b[0;34m)\u001b[0m\u001b[0;34m\u001b[0m\u001b[0m\n\u001b[0m\u001b[1;32m     16\u001b[0m         \u001b[0mtotal\u001b[0m \u001b[0;34m=\u001b[0m \u001b[0;36m0\u001b[0m\u001b[0;34m\u001b[0m\u001b[0m\n\u001b[1;32m     17\u001b[0m         \u001b[0;32mfor\u001b[0m \u001b[0mrow\u001b[0m\u001b[0;34m,\u001b[0m \u001b[0mcolumn\u001b[0m \u001b[0;32min\u001b[0m \u001b[0mindexes\u001b[0m\u001b[0;34m:\u001b[0m\u001b[0;34m\u001b[0m\u001b[0m\n",
      "\u001b[0;32m/Users/dorislee/.virtualenvs/py27dev/lib/python2.7/site-packages/munkres.pyc\u001b[0m in \u001b[0;36mcompute\u001b[0;34m(self, cost_matrix)\u001b[0m\n\u001b[1;32m    392\u001b[0m             \u001b[0;32mtry\u001b[0m\u001b[0;34m:\u001b[0m\u001b[0;34m\u001b[0m\u001b[0m\n\u001b[1;32m    393\u001b[0m                 \u001b[0mfunc\u001b[0m \u001b[0;34m=\u001b[0m \u001b[0msteps\u001b[0m\u001b[0;34m[\u001b[0m\u001b[0mstep\u001b[0m\u001b[0;34m]\u001b[0m\u001b[0;34m\u001b[0m\u001b[0m\n\u001b[0;32m--> 394\u001b[0;31m                 \u001b[0mstep\u001b[0m \u001b[0;34m=\u001b[0m \u001b[0mfunc\u001b[0m\u001b[0;34m(\u001b[0m\u001b[0;34m)\u001b[0m\u001b[0;34m\u001b[0m\u001b[0m\n\u001b[0m\u001b[1;32m    395\u001b[0m             \u001b[0;32mexcept\u001b[0m \u001b[0mKeyError\u001b[0m\u001b[0;34m:\u001b[0m\u001b[0;34m\u001b[0m\u001b[0m\n\u001b[1;32m    396\u001b[0m                 \u001b[0mdone\u001b[0m \u001b[0;34m=\u001b[0m \u001b[0mTrue\u001b[0m\u001b[0;34m\u001b[0m\u001b[0m\n",
      "\u001b[0;32m/Users/dorislee/.virtualenvs/py27dev/lib/python2.7/site-packages/munkres.pyc\u001b[0m in \u001b[0;36m__step6\u001b[0;34m(self)\u001b[0m\n\u001b[1;32m    552\u001b[0m             \u001b[0;32mfor\u001b[0m \u001b[0mj\u001b[0m \u001b[0;32min\u001b[0m \u001b[0mrange\u001b[0m\u001b[0;34m(\u001b[0m\u001b[0mself\u001b[0m\u001b[0;34m.\u001b[0m\u001b[0mn\u001b[0m\u001b[0;34m)\u001b[0m\u001b[0;34m:\u001b[0m\u001b[0;34m\u001b[0m\u001b[0m\n\u001b[1;32m    553\u001b[0m                 \u001b[0;32mif\u001b[0m \u001b[0mself\u001b[0m\u001b[0;34m.\u001b[0m\u001b[0mrow_covered\u001b[0m\u001b[0;34m[\u001b[0m\u001b[0mi\u001b[0m\u001b[0;34m]\u001b[0m\u001b[0;34m:\u001b[0m\u001b[0;34m\u001b[0m\u001b[0m\n\u001b[0;32m--> 554\u001b[0;31m                     \u001b[0mself\u001b[0m\u001b[0;34m.\u001b[0m\u001b[0mC\u001b[0m\u001b[0;34m[\u001b[0m\u001b[0mi\u001b[0m\u001b[0;34m]\u001b[0m\u001b[0;34m[\u001b[0m\u001b[0mj\u001b[0m\u001b[0;34m]\u001b[0m \u001b[0;34m+=\u001b[0m \u001b[0mminval\u001b[0m\u001b[0;34m\u001b[0m\u001b[0m\n\u001b[0m\u001b[1;32m    555\u001b[0m                 \u001b[0;32mif\u001b[0m \u001b[0;32mnot\u001b[0m \u001b[0mself\u001b[0m\u001b[0;34m.\u001b[0m\u001b[0mcol_covered\u001b[0m\u001b[0;34m[\u001b[0m\u001b[0mj\u001b[0m\u001b[0;34m]\u001b[0m\u001b[0;34m:\u001b[0m\u001b[0;34m\u001b[0m\u001b[0m\n\u001b[1;32m    556\u001b[0m                     \u001b[0mself\u001b[0m\u001b[0;34m.\u001b[0m\u001b[0mC\u001b[0m\u001b[0;34m[\u001b[0m\u001b[0mi\u001b[0m\u001b[0;34m]\u001b[0m\u001b[0;34m[\u001b[0m\u001b[0mj\u001b[0m\u001b[0;34m]\u001b[0m \u001b[0;34m-=\u001b[0m \u001b[0mminval\u001b[0m\u001b[0;34m\u001b[0m\u001b[0m\n",
      "\u001b[0;32m/Users/dorislee/.virtualenvs/py27dev/lib/python2.7/site-packages/numpy/ma/core.pyc\u001b[0m in \u001b[0;36m__setitem__\u001b[0;34m(self, indx, value)\u001b[0m\n\u001b[1;32m   3197\u001b[0m \u001b[0;34m\u001b[0m\u001b[0m\n\u001b[1;32m   3198\u001b[0m         \u001b[0m_dtype\u001b[0m \u001b[0;34m=\u001b[0m \u001b[0m_data\u001b[0m\u001b[0;34m.\u001b[0m\u001b[0mdtype\u001b[0m\u001b[0;34m\u001b[0m\u001b[0m\n\u001b[0;32m-> 3199\u001b[0;31m         \u001b[0mnbfields\u001b[0m \u001b[0;34m=\u001b[0m \u001b[0mlen\u001b[0m\u001b[0;34m(\u001b[0m\u001b[0m_dtype\u001b[0m\u001b[0;34m.\u001b[0m\u001b[0mnames\u001b[0m \u001b[0;32mor\u001b[0m \u001b[0;34m(\u001b[0m\u001b[0;34m)\u001b[0m\u001b[0;34m)\u001b[0m\u001b[0;34m\u001b[0m\u001b[0m\n\u001b[0m\u001b[1;32m   3200\u001b[0m \u001b[0;34m\u001b[0m\u001b[0m\n\u001b[1;32m   3201\u001b[0m         \u001b[0;32mif\u001b[0m \u001b[0mvalue\u001b[0m \u001b[0;32mis\u001b[0m \u001b[0mmasked\u001b[0m\u001b[0;34m:\u001b[0m\u001b[0;34m\u001b[0m\u001b[0m\n",
      "\u001b[0;31mKeyboardInterrupt\u001b[0m: "
     ]
    },
    {
     "data": {
      "image/png": "[encoded data removed]",
      "text/plain": [
       "<matplotlib.figure.Figure at 0x10e122ed0>"
      ]
     },
     "metadata": {},
     "output_type": "display_data"
    },
    {
     "data": {
      "image/png": "[encoded data removed]",
      "text/plain": [
       "<matplotlib.figure.Figure at 0x10edcc650>"
      ]
     },
     "metadata": {},
     "output_type": "display_data"
    }
   ],
   "source": [
    "interpolated_obj_x_locs,interpolated_obj_y_locs = parametric_interpolate(obj_x_locs,obj_y_locs,50,True)\n",
    "polygon1 = zip(interpolated_obj_x_locs[0],interpolated_obj_y_locs[0])\n",
    "polygon2 = zip(interpolated_obj_x_locs[1],interpolated_obj_y_locs[1])\n",
    "MunkresEuclidean(polygon1,polygon2)"
   ]
  },
  {
   "cell_type": "code",
   "execution_count": 155,
   "metadata": {
    "collapsed": false
   },
   "outputs": [
    {
     "name": "stdout",
     "output_type": "stream",
     "text": [
      "(0, 43) -> 5\n",
      "(1, 44) -> 2\n",
      "(2, 47) -> 34\n",
      "(3, 48) -> 38\n",
      "(4, 0) -> 43\n",
      "(5, 49) -> 39\n",
      "(6, 1) -> 42\n",
      "(7, 2) -> 42\n",
      "(8, 3) -> 42\n",
      "(9, 4) -> 37\n",
      "(10, 5) -> 22\n",
      "(11, 6) -> 12\n",
      "(12, 7) -> 12\n",
      "(13, 8) -> 12\n",
      "(14, 9) -> 10\n",
      "(15, 10) -> 11\n",
      "(16, 11) -> 15\n",
      "(17, 12) -> 14\n",
      "(18, 13) -> 9\n",
      "(19, 14) -> 5\n",
      "(20, 15) -> 6\n",
      "(21, 16) -> 9\n",
      "(22, 17) -> 11\n",
      "(23, 18) -> 16\n",
      "(24, 19) -> 21\n",
      "(25, 20) -> 26\n",
      "(26, 21) -> 27\n",
      "(27, 22) -> 23\n",
      "(28, 23) -> 23\n",
      "(29, 24) -> 22\n",
      "(30, 25) -> 9\n",
      "(31, 26) -> 14\n",
      "(32, 27) -> 15\n",
      "(33, 28) -> 23\n",
      "(34, 30) -> 7\n",
      "(35, 29) -> 32\n",
      "(36, 31) -> 17\n",
      "(37, 32) -> 14\n",
      "(38, 33) -> 13\n",
      "(39, 34) -> 12\n",
      "(40, 35) -> 8\n",
      "(41, 36) -> 7\n",
      "(42, 37) -> 9\n",
      "(43, 38) -> 3\n",
      "(44, 39) -> 1\n",
      "(45, 40) -> 6\n",
      "(46, 41) -> 12\n",
      "(47, 42) -> 16\n",
      "(48, 46) -> 49\n",
      "(49, 45) -> 25\n"
     ]
    }
   ],
   "source": [
    "bb1 = polygon1\n",
    "bb2 = polygon2\n",
    "matrix = spatial.distance.cdist(bb1,bb2,'euclidean')\n",
    "m = Munkres()\n",
    "\n",
    "indexes = m.compute(np.ma.masked_equal(matrix,0))\n",
    "total = 0\n",
    "for row, column in indexes:\n",
    "    value = matrix[row][column]\n",
    "    total += value\n",
    "    print '(%d, %d) -> %d' % (row, column, value)"
   ]
  },
  {
   "cell_type": "code",
   "execution_count": 159,
   "metadata": {
    "collapsed": false
   },
   "outputs": [
    {
     "name": "stdout",
     "output_type": "stream",
     "text": [
      "(0, 0) -> 81\n",
      "(1, 1) -> 84\n",
      "(2, 2) -> 86\n",
      "(3, 3) -> 89\n",
      "(4, 4) -> 87\n",
      "(5, 9) -> 73\n",
      "(6, 8) -> 72\n",
      "(7, 5) -> 51\n",
      "(8, 6) -> 43\n",
      "(9, 7) -> 37\n"
     ]
    }
   ],
   "source": [
    "bb1 = polygon1\n",
    "bb2 = polygon2\n",
    "matrix = spatial.distance.cdist(bb1,bb2,'euclidean')[:10,:10]\n",
    "m = Munkres()\n",
    "\n",
    "indexes = m.compute(np.ma.masked_equal(matrix,0))\n",
    "total = 0\n",
    "for row, column in indexes:\n",
    "    value = matrix[row][column]\n",
    "    total += value\n",
    "    print '(%d, %d) -> %d' % (row, column, value)"
   ]
  },
  {
   "cell_type": "markdown",
   "metadata": {},
   "source": [
    "no you can not just crop it because this is a combinatorial optimization problem, it wont work "
   ]
  },
  {
   "cell_type": "code",
   "execution_count": 162,
   "metadata": {
    "collapsed": false
   },
   "outputs": [
    {
     "name": "stdout",
     "output_type": "stream",
     "text": [
      "Warning: Setting x[0][25]=x[0][0]\n",
      "Warning: Setting x[1][25]=x[1][0]\n",
      "Warning: Setting x[0][45]=x[0][0]\n",
      "Warning: Setting x[1][45]=x[1][0]\n",
      "(0, 43) -> 5\n",
      "(1, 44) -> 2\n",
      "(2, 47) -> 34\n",
      "(3, 48) -> 38\n",
      "(4, 0) -> 43\n",
      "(5, 49) -> 39\n",
      "(6, 1) -> 42\n",
      "(7, 2) -> 42\n",
      "(8, 3) -> 42\n",
      "(9, 4) -> 37\n",
      "(10, 5) -> 22\n",
      "(11, 6) -> 12\n",
      "(12, 7) -> 12\n",
      "(13, 8) -> 12\n",
      "(14, 9) -> 10\n",
      "(15, 10) -> 11\n",
      "(16, 11) -> 15\n",
      "(17, 12) -> 14\n",
      "(18, 13) -> 9\n",
      "(19, 14) -> 5\n",
      "(20, 15) -> 6\n",
      "(21, 16) -> 9\n",
      "(22, 17) -> 11\n",
      "(23, 18) -> 16\n",
      "(24, 19) -> 21\n",
      "(25, 20) -> 26\n",
      "(26, 21) -> 27\n",
      "(27, 22) -> 23\n",
      "(28, 23) -> 23\n",
      "(29, 24) -> 22\n",
      "(30, 25) -> 9\n",
      "(31, 26) -> 14\n",
      "(32, 27) -> 15\n",
      "(33, 28) -> 23\n",
      "(34, 30) -> 7\n",
      "(35, 29) -> 32\n",
      "(36, 31) -> 17\n",
      "(37, 32) -> 14\n",
      "(38, 33) -> 13\n",
      "(39, 34) -> 12\n",
      "(40, 35) -> 8\n",
      "(41, 36) -> 7\n",
      "(42, 37) -> 9\n",
      "(43, 38) -> 3\n",
      "(44, 39) -> 1\n",
      "(45, 40) -> 6\n",
      "(46, 41) -> 12\n",
      "(47, 42) -> 16\n",
      "(48, 46) -> 49\n",
      "(49, 45) -> 25\n"
     ]
    },
    {
     "data": {
      "text/plain": [
       "946.39056232163682"
      ]
     },
     "execution_count": 162,
     "metadata": {},
     "output_type": "execute_result"
    },
    {
     "data": {
      "image/png": "[encoded data removed]",
      "text/plain": [
       "<matplotlib.figure.Figure at 0x10ecf65d0>"
      ]
     },
     "metadata": {},
     "output_type": "display_data"
    },
    {
     "data": {
      "image/png": "[encoded data removed]",
      "text/plain": [
       "<matplotlib.figure.Figure at 0x10e953310>"
      ]
     },
     "metadata": {},
     "output_type": "display_data"
    }
   ],
   "source": [
    "interpolated_obj_x_locs,interpolated_obj_y_locs = parametric_interpolate(obj_x_locs,obj_y_locs,50,True)\n",
    "polygon1 = zip(interpolated_obj_x_locs[0],interpolated_obj_y_locs[0])\n",
    "polygon2 = zip(interpolated_obj_x_locs[1],interpolated_obj_y_locs[1])\n",
    "MunkresEuclidean(polygon1,polygon2)"
   ]
  },
  {
   "cell_type": "markdown",
   "metadata": {},
   "source": [
    "compute max(dist)"
   ]
  },
  {
   "cell_type": "code",
   "execution_count": 166,
   "metadata": {
    "collapsed": false
   },
   "outputs": [
    {
     "name": "stderr",
     "output_type": "stream",
     "text": [
      "/Users/dorislee/.virtualenvs/py27dev/lib/python2.7/site-packages/pandas/io/parsers.py:648: ParserWarning: Falling back to the 'python' engine because the 'c' engine does not support skip_footer; you can avoid this warning by specifying engine='python'.\n",
      "  ParserWarning)\n"
     ]
    }
   ],
   "source": [
    "img_info,object_tbl,bb_info,hit_info = load_info()"
   ]
  },
  {
   "cell_type": "code",
   "execution_count": 187,
   "metadata": {
    "collapsed": true
   },
   "outputs": [],
   "source": [
    "worker_info = pd.read_csv(\"../../data/worker.csv\",skipfooter=1)\n",
    "my_BBG  = pd.read_csv(\"my_ground_truth.csv\")"
   ]
  },
  {
   "cell_type": "code",
   "execution_count": 214,
   "metadata": {
    "collapsed": false
   },
   "outputs": [
    {
     "data": {
      "image/svg+xml": [
       "<svg xmlns=\"http://www.w3.org/2000/svg\" xmlns:xlink=\"http://www.w3.org/1999/xlink\" width=\"300\" height=\"133.316231287\" viewBox=\"235.342489797 111.034106591 308.121481496 133.316231287\" preserveAspectRatio=\"xMinYMin meet\"><g transform=\"matrix(1,0,0,-1,0,355.38444447)\"><path fill-rule=\"evenodd\" fill=\"#66cc99\" stroke=\"#555555\" stroke-width=\"2.05414320997\" opacity=\"0.6\" d=\"M 302.0,124.0 L 287.631013247,124.490255438 L 273.324608843,127.689839077 L 259.485537905,133.018200363 L 250.270941578,143.751144646 L 250.209290797,158.250997642 L 247.078728676,172.355103205 L 246.754396519,186.847034348 L 254.379016099,198.874704084 L 268.900202195,200.948712189 L 283.042416334,202.794368438 L 297.307345,206.665894004 L 311.730428886,207.037353821 L 325.23605033,203.273749469 L 339.59638135,198.217348785 L 353.711884825,198.414253721 L 362.406275788,210.137959114 L 373.11874867,220.051767869 L 387.033023118,225.094211228 L 402.410586917,226.854726007 L 417.548718183,226.886034705 L 431.8745568,225.568529075 L 446.134145877,223.01964264 L 460.67703084,224.190662241 L 475.39984828,222.677100245 L 481.372848663,213.393359505 L 494.99830342,223.37565599 L 508.915461846,225.915406233 L 523.740824414,232.938431156 L 532.052064571,224.448534217 L 523.347192977,213.432053471 L 519.867431193,199.822392152 L 514.169733247,186.532261722 L 507.029832323,173.883081839 L 495.446461623,164.905162163 L 487.031376893,153.93115163 L 480.981133748,142.083987496 L 465.663912662,139.166887684 L 454.363825052,130.041020432 L 441.336250045,124.98717053 L 425.746719638,126.528924666 L 409.806459299,131.951805176 L 394.542000633,137.510097619 L 380.786031928,139.291007508 L 369.366359347,133.399427256 L 359.252600418,122.672072177 L 345.947696474,122.446013313 L 330.811711604,126.519328905 L 316.246522963,125.968847574 L 302.0,124.0 L 302.0,124.0 z\" /></g></svg>"
      ],
      "text/plain": [
       "<shapely.geometry.polygon.Polygon at 0x10eba0250>"
      ]
     },
     "execution_count": 214,
     "metadata": {},
     "output_type": "execute_result"
    }
   ],
   "source": [
    "Polygon(polygon1)"
   ]
  },
  {
   "cell_type": "code",
   "execution_count": 215,
   "metadata": {
    "collapsed": false
   },
   "outputs": [
    {
     "data": {
      "image/svg+xml": [
       "<svg xmlns=\"http://www.w3.org/2000/svg\" xmlns:xlink=\"http://www.w3.org/1999/xlink\" width=\"300\" height=\"133.316231287\" viewBox=\"235.342489797 111.034106591 308.121481496 133.316231287\" preserveAspectRatio=\"xMinYMin meet\"><g transform=\"matrix(1,0,0,-1,0,355.38444447)\"><path fill-rule=\"evenodd\" fill=\"#66cc99\" stroke=\"#555555\" stroke-width=\"2.05414320997\" opacity=\"0.6\" d=\"M 302.0,124.0 L 287.631013247,124.490255438 L 273.324608843,127.689839077 L 259.485537905,133.018200363 L 250.270941578,143.751144646 L 250.209290797,158.250997642 L 247.078728676,172.355103205 L 246.754396519,186.847034348 L 254.379016099,198.874704084 L 268.900202195,200.948712189 L 283.042416334,202.794368438 L 297.307345,206.665894004 L 311.730428886,207.037353821 L 325.23605033,203.273749469 L 339.59638135,198.217348785 L 353.711884825,198.414253721 L 362.406275788,210.137959114 L 373.11874867,220.051767869 L 387.033023118,225.094211228 L 402.410586917,226.854726007 L 417.548718183,226.886034705 L 431.8745568,225.568529075 L 446.134145877,223.01964264 L 460.67703084,224.190662241 L 475.39984828,222.677100245 L 481.372848663,213.393359505 L 494.99830342,223.37565599 L 508.915461846,225.915406233 L 523.740824414,232.938431156 L 532.052064571,224.448534217 L 523.347192977,213.432053471 L 519.867431193,199.822392152 L 514.169733247,186.532261722 L 507.029832323,173.883081839 L 495.446461623,164.905162163 L 487.031376893,153.93115163 L 480.981133748,142.083987496 L 465.663912662,139.166887684 L 454.363825052,130.041020432 L 441.336250045,124.98717053 L 425.746719638,126.528924666 L 409.806459299,131.951805176 L 394.542000633,137.510097619 L 380.786031928,139.291007508 L 369.366359347,133.399427256 L 359.252600418,122.672072177 L 345.947696474,122.446013313 L 330.811711604,126.519328905 L 316.246522963,125.968847574 L 302.0,124.0 L 302.0,124.0 z\" /></g></svg>"
      ],
      "text/plain": [
       "<shapely.geometry.polygon.Polygon at 0x11c710790>"
      ]
     },
     "execution_count": 215,
     "metadata": {},
     "output_type": "execute_result"
    }
   ],
   "source": [
    "Polygon(polygon2)"
   ]
  },
  {
   "cell_type": "code",
   "execution_count": 220,
   "metadata": {
    "collapsed": false
   },
   "outputs": [
    {
     "data": {
      "text/plain": [
       "True"
      ]
     },
     "execution_count": 220,
     "metadata": {},
     "output_type": "execute_result"
    }
   ],
   "source": [
    "obj_x_locs[0]==obj_x_locs[1]"
   ]
  },
  {
   "cell_type": "code",
   "execution_count": 233,
   "metadata": {
    "collapsed": false
   },
   "outputs": [
    {
     "data": {
      "text/plain": [
       "1889"
      ]
     },
     "execution_count": 233,
     "metadata": {},
     "output_type": "execute_result"
    }
   ],
   "source": [
    "len(bb_info)"
   ]
  },
  {
   "cell_type": "code",
   "execution_count": 229,
   "metadata": {
    "collapsed": false,
    "scrolled": true
   },
   "outputs": [
    {
     "name": "stdout",
     "output_type": "stream",
     "text": [
      "same entry\n",
      "same entry\n",
      "same entry\n",
      "same entry\n",
      "same entry\n",
      "same entry\n",
      "same entry\n",
      "same entry\n",
      "same entry\n",
      "same entry\n",
      "same entry\n",
      "same entry\n",
      "same entry\n",
      "same entry\n",
      "same entry\n",
      "same entry\n",
      "same entry\n",
      "same entry\n",
      "same entry\n",
      "same entry\n",
      "same entry\n",
      "same entry\n",
      "same entry\n",
      "same entry\n",
      "same entry\n",
      "same entry\n",
      "same entry\n",
      "same entry\n",
      "same entry\n",
      "same entry\n",
      "same entry\n",
      "same entry\n",
      "same entry\n",
      "(0, 21) -> 11\n",
      "(1, 20) -> 14\n",
      "(2, 19) -> 15\n",
      "(3, 18) -> 15\n",
      "(4, 17) -> 14\n",
      "(5, 16) -> 13\n",
      "(6, 15) -> 11\n",
      "(7, 14) -> 10\n",
      "(8, 13) -> 9\n",
      "(9, 12) -> 9\n",
      "(10, 11) -> 9\n",
      "(11, 10) -> 10\n",
      "(12, 9) -> 10\n",
      "(13, 8) -> 12\n",
      "(14, 7) -> 13\n",
      "(15, 6) -> 15\n",
      "(16, 5) -> 16\n",
      "(17, 4) -> 16\n",
      "(18, 3) -> 15\n",
      "(19, 2) -> 13\n",
      "(20, 1) -> 11\n",
      "(21, 49) -> 9\n",
      "(22, 0) -> 8\n",
      "(23, 48) -> 8\n",
      "(24, 47) -> 9\n",
      "(25, 46) -> 9\n",
      "(26, 45) -> 9\n",
      "(27, 44) -> 9\n",
      "(28, 43) -> 8\n",
      "(29, 42) -> 7\n",
      "(30, 41) -> 6\n",
      "(31, 40) -> 5\n",
      "(32, 39) -> 4\n",
      "(33, 38) -> 3\n",
      "(34, 37) -> 2\n",
      "(35, 36) -> 1\n",
      "(36, 35) -> 0\n",
      "(37, 34) -> 0\n",
      "(38, 33) -> 1\n",
      "(39, 32) -> 2\n",
      "(40, 31) -> 3\n",
      "(41, 30) -> 4\n",
      "(42, 29) -> 4\n",
      "(43, 28) -> 5\n",
      "(44, 27) -> 4\n",
      "(45, 26) -> 2\n",
      "(46, 25) -> 1\n",
      "(47, 24) -> 1\n",
      "(48, 23) -> 3\n",
      "(49, 22) -> 7\n",
      "418.810411715\n",
      "same entry\n",
      "same entry\n",
      "same entry\n",
      "same entry\n",
      "(0, 39) -> 0\n",
      "(1, 38) -> 3\n",
      "(2, 37) -> 6\n",
      "(3, 36) -> 10\n",
      "(4, 35) -> 13\n",
      "(5, 34) -> 16\n",
      "(6, 33) -> 19\n",
      "(7, 32) -> 21\n",
      "(8, 31) -> 22\n",
      "(9, 30) -> 23\n",
      "(10, 29) -> 23\n",
      "(11, 28) -> 22\n",
      "(12, 27) -> 21\n",
      "(13, 26) -> 18\n",
      "(14, 25) -> 17\n",
      "(15, 24) -> 17\n",
      "(16, 23) -> 20\n",
      "(17, 22) -> 23\n",
      "(18, 16) -> 49\n",
      "(19, 21) -> 15\n",
      "(20, 20) -> 14\n",
      "(21, 19) -> 8\n",
      "(22, 18) -> 5\n",
      "(23, 17) -> 22\n",
      "(24, 15) -> 49\n",
      "(25, 11) -> 28\n",
      "(26, 10) -> 14\n",
      "(27, 9) -> 13\n",
      "(28, 12) -> 40\n",
      "(29, 8) -> 26\n",
      "(30, 7) -> 30\n",
      "(31, 6) -> 25\n",
      "(32, 5) -> 21\n",
      "(33, 4) -> 18\n",
      "(34, 3) -> 12\n",
      "(35, 2) -> 6\n",
      "(36, 1) -> 3\n",
      "(37, 49) -> 6\n",
      "(38, 0) -> 4\n",
      "(39, 48) -> 3\n",
      "(40, 47) -> 4\n",
      "(41, 46) -> 5\n",
      "(42, 45) -> 5\n",
      "(43, 44) -> 5\n",
      "(44, 13) -> 120\n",
      "(45, 43) -> 12\n",
      "(46, 42) -> 11\n",
      "(47, 41) -> 8\n",
      "(48, 40) -> 3\n",
      "(49, 14) -> 147\n",
      "1049.70638834\n",
      "(0, 0) -> 11\n",
      "(1, 48) -> 15\n",
      "(2, 47) -> 20\n",
      "(3, 46) -> 23\n",
      "(4, 45) -> 23\n",
      "(5, 44) -> 22\n",
      "(6, 43) -> 20\n",
      "(7, 42) -> 16\n",
      "(8, 41) -> 13\n",
      "(9, 40) -> 9\n",
      "(10, 39) -> 6\n",
      "(11, 38) -> 3\n",
      "(12, 37) -> 2\n",
      "(13, 36) -> 1\n",
      "(14, 35) -> 1\n",
      "(15, 34) -> 3\n",
      "(16, 33) -> 7\n",
      "(17, 32) -> 11\n",
      "(18, 31) -> 16\n",
      "(19, 30) -> 19\n",
      "(20, 29) -> 21\n",
      "(21, 28) -> 20\n",
      "(22, 27) -> 17\n",
      "(23, 26) -> 10\n",
      "(24, 25) -> 0\n",
      "(25, 24) -> 14\n",
      "(26, 23) -> 26\n",
      "(27, 21) -> 16\n",
      "(28, 20) -> 10\n",
      "(29, 19) -> 10\n",
      "(30, 22) -> 53\n",
      "(31, 18) -> 20\n",
      "(32, 17) -> 16\n",
      "(33, 16) -> 13\n",
      "(34, 15) -> 14\n",
      "(35, 14) -> 18\n",
      "(36, 13) -> 24\n",
      "(37, 12) -> 24\n",
      "(38, 10) -> 5\n",
      "(39, 9) -> 1\n",
      "(40, 8) -> 2\n",
      "(41, 7) -> 2\n",
      "(42, 6) -> 2\n",
      "(43, 11) -> 88\n",
      "(44, 5) -> 15\n",
      "(45, 4) -> 12\n",
      "(46, 3) -> 10\n",
      "(47, 2) -> 8\n",
      "(48, 1) -> 8\n",
      "(49, 49) -> 11\n",
      "754.411039016\n",
      "(0, 0) -> 1\n",
      "(1, 1) -> 1\n",
      "(2, 2) -> 1\n",
      "(3, 3) -> 0\n",
      "(4, 4) -> 0\n",
      "(5, 5) -> 1\n",
      "(6, 6) -> 1\n",
      "(7, 7) -> 3\n",
      "(8, 8) -> 4\n",
      "(9, 9) -> 5\n",
      "(10, 10) -> 5\n",
      "(11, 11) -> 4\n",
      "(12, 12) -> 4\n",
      "(13, 13) -> 6\n",
      "(14, 14) -> 8\n",
      "(15, 15) -> 9\n",
      "(16, 16) -> 9\n",
      "(17, 17) -> 7\n",
      "(18, 18) -> 5\n",
      "(19, 19) -> 1\n",
      "(20, 20) -> 2\n",
      "(21, 21) -> 6\n",
      "(22, 22) -> 6\n",
      "(23, 23) -> 6\n",
      "(24, 24) -> 6\n",
      "(25, 25) -> 6\n",
      "(26, 26) -> 5\n",
      "(27, 27) -> 4\n",
      "(28, 28) -> 4\n",
      "(29, 29) -> 3\n",
      "(30, 30) -> 3\n",
      "(31, 31) -> 2\n",
      "(32, 32) -> 2\n",
      "(33, 33) -> 2\n",
      "(34, 34) -> 2\n",
      "(35, 35) -> 1\n",
      "(36, 36) -> 1\n",
      "(37, 37) -> 2\n",
      "(38, 38) -> 2\n",
      "(39, 39) -> 2\n",
      "(40, 40) -> 1\n",
      "(41, 41) -> 1\n",
      "(42, 42) -> 1\n",
      "(43, 43) -> 0\n",
      "(44, 44) -> 0\n",
      "(45, 45) -> 0\n",
      "(46, 46) -> 0\n",
      "(47, 47) -> 1\n",
      "(48, 48) -> 1\n",
      "(49, 49) -> 1\n",
      "173.470153935\n",
      "(0, 47) -> 6\n",
      "(1, 46) -> 7\n",
      "(2, 45) -> 6\n",
      "(3, 44) -> 5\n",
      "(4, 43) -> 3\n",
      "(5, 42) -> 2\n",
      "(6, 41) -> 1\n",
      "(7, 40) -> 3\n",
      "(8, 39) -> 2\n",
      "(9, 38) -> 2\n",
      "(10, 37) -> 4\n",
      "(11, 36) -> 4\n",
      "(12, 35) -> 9\n",
      "(13, 34) -> 17\n",
      "(14, 33) -> 20\n",
      "(15, 30) -> 35\n",
      "(16, 32) -> 8\n",
      "(17, 31) -> 4\n",
      "(18, 29) -> 10\n",
      "(19, 28) -> 9\n",
      "(20, 27) -> 9\n",
      "(21, 26) -> 6\n",
      "(22, 25) -> 5\n",
      "(23, 24) -> 5\n",
      "(24, 23) -> 5\n",
      "(25, 22) -> 4\n",
      "(26, 21) -> 5\n",
      "(27, 20) -> 4\n",
      "(28, 19) -> 7\n",
      "(29, 18) -> 13\n",
      "(30, 17) -> 13\n",
      "(31, 16) -> 9\n",
      "(32, 15) -> 6\n",
      "(33, 14) -> 5\n",
      "(34, 13) -> 6\n",
      "(35, 12) -> 5\n",
      "(36, 11) -> 4\n",
      "(37, 10) -> 2\n",
      "(38, 9) -> 0\n",
      "(39, 8) -> 1\n",
      "(40, 7) -> 3\n",
      "(41, 6) -> 5\n",
      "(42, 5) -> 6\n",
      "(43, 4) -> 7\n",
      "(44, 3) -> 8\n",
      "(45, 2) -> 8\n",
      "(46, 1) -> 7\n",
      "(47, 0) -> 6\n",
      "(48, 49) -> 6\n",
      "(49, 48) -> 3\n",
      "354.667422733\n",
      "(0, 35) -> 422\n",
      "(1, 49) -> 231\n",
      "(2, 48) -> 233\n",
      "(3, 47) -> 234\n",
      "(4, 45) -> 247\n",
      "(5, 44) -> 246\n",
      "(6, 43) -> 244\n",
      "(7, 38) -> 294\n",
      "(8, 40) -> 251\n",
      "(9, 39) -> 248\n",
      "(10, 41) -> 204\n",
      "(11, 42) -> 174\n",
      "(12, 37) -> 225\n",
      "(13, 46) -> 91\n",
      "(14, 0) -> 37\n",
      "(15, 1) -> 18\n",
      "(16, 2) -> 6\n",
      "(17, 34) -> 201\n",
      "(18, 33) -> 203\n",
      "(19, 32) -> 205\n",
      "(20, 31) -> 206\n",
      "(21, 13) -> 58\n",
      "(22, 14) -> 77\n",
      "(23, 30) -> 217\n",
      "(24, 29) -> 222\n",
      "(25, 28) -> 227\n",
      "(26, 17) -> 115\n",
      "(27, 18) -> 124\n",
      "(28, 19) -> 140\n",
      "(29, 20) -> 164\n",
      "(30, 24) -> 247\n",
      "(31, 23) -> 245\n",
      "(32, 22) -> 243\n",
      "(33, 21) -> 243\n",
      "(34, 25) -> 331\n",
      "(35, 26) -> 361\n",
      "(36, 27) -> 387\n",
      "(37, 16) -> 291\n",
      "(38, 15) -> 304\n",
      "(39, 10) -> 266\n",
      "(40, 11) -> 285\n",
      "(41, 9) -> 273\n",
      "(42, 12) -> 298\n",
      "(43, 8) -> 282\n",
      "(44, 7) -> 282\n",
      "(45, 6) -> 272\n",
      "(46, 5) -> 258\n",
      "(47, 4) -> 247\n",
      "(48, 3) -> 236\n",
      "(49, 36) -> 413\n",
      "11353.621557\n",
      "(0, 5) -> 12\n",
      "(1, 1) -> 13\n",
      "(2, 49) -> 12\n",
      "(3, 0) -> 2\n",
      "(4, 48) -> 1\n",
      "(5, 47) -> 3\n",
      "(6, 46) -> 7\n",
      "(7, 45) -> 7\n",
      "(8, 43) -> 2\n",
      "(9, 42) -> 1\n",
      "(10, 41) -> 4\n",
      "(11, 40) -> 5\n",
      "(12, 39) -> 7\n",
      "(13, 38) -> 9\n",
      "(14, 37) -> 11\n",
      "(15, 35) -> 2\n",
      "(16, 36) -> 16\n",
      "(17, 44) -> 108\n",
      "(18, 34) -> 5\n",
      "(19, 33) -> 5\n",
      "(20, 32) -> 7\n",
      "(21, 31) -> 2\n",
      "(22, 30) -> 7\n",
      "(23, 29) -> 6\n",
      "(24, 28) -> 11\n",
      "(25, 27) -> 16\n",
      "(26, 3) -> 133\n",
      "(27, 26) -> 2\n",
      "(28, 25) -> 20\n",
      "(29, 24) -> 19\n",
      "(30, 4) -> 102\n",
      "(31, 17) -> 40\n",
      "(32, 23) -> 11\n",
      "(33, 22) -> 9\n",
      "(34, 21) -> 9\n",
      "(35, 20) -> 5\n",
      "(36, 19) -> 3\n",
      "(37, 18) -> 2\n",
      "(38, 16) -> 9\n",
      "(39, 15) -> 7\n",
      "(40, 14) -> 5\n",
      "(41, 13) -> 4\n",
      "(42, 12) -> 1\n",
      "(43, 11) -> 6\n",
      "(44, 10) -> 0\n",
      "(45, 9) -> 4\n",
      "(46, 8) -> 5\n",
      "(47, 7) -> 5\n",
      "(48, 6) -> 9\n",
      "(49, 2) -> 15\n",
      "730.23986977\n",
      "(0, 1) -> 9\n",
      "(1, 0) -> 15\n",
      "(2, 48) -> 27\n",
      "(3, 47) -> 39\n",
      "(4, 45) -> 56\n",
      "(5, 43) -> 69\n",
      "(6, 42) -> 71\n",
      "(7, 41) -> 71\n",
      "(8, 40) -> 68\n",
      "(9, 39) -> 64\n",
      "(10, 38) -> 59\n",
      "(11, 37) -> 53\n",
      "(12, 36) -> 47\n",
      "(13, 35) -> 40\n",
      "(14, 34) -> 34\n",
      "(15, 33) -> 29\n",
      "(16, 32) -> 24\n",
      "(17, 31) -> 21\n",
      "(18, 30) -> 18\n",
      "(19, 29) -> 15\n",
      "(20, 28) -> 12\n",
      "(21, 27) -> 7\n",
      "(22, 26) -> 0\n",
      "(23, 25) -> 4\n",
      "(24, 24) -> 4\n",
      "(25, 23) -> 5\n",
      "(26, 22) -> 5\n",
      "(27, 21) -> 6\n",
      "(28, 20) -> 6\n",
      "(29, 19) -> 8\n",
      "(30, 18) -> 11\n",
      "(31, 17) -> 14\n",
      "(32, 16) -> 17\n",
      "(33, 15) -> 19\n",
      "(34, 14) -> 21\n",
      "(35, 13) -> 21\n",
      "(36, 12) -> 21\n",
      "(37, 11) -> 19\n",
      "(38, 10) -> 15\n",
      "(39, 9) -> 12\n",
      "(40, 8) -> 11\n",
      "(41, 7) -> 13\n",
      "(42, 44) -> 21\n",
      "(43, 46) -> 10\n",
      "(44, 3) -> 2\n",
      "(45, 4) -> 1\n",
      "(46, 6) -> 16\n",
      "(47, 5) -> 17\n",
      "(48, 2) -> 7\n",
      "(49, 49) -> 6\n",
      "1186.14597959\n",
      "(0, 48) -> 14\n",
      "(1, 46) -> 3\n",
      "(2, 45) -> 5\n",
      "(3, 44) -> 11\n",
      "(4, 43) -> 18\n",
      "(5, 42) -> 23\n",
      "(6, 41) -> 27\n",
      "(7, 40) -> 27\n",
      "(8, 39) -> 25\n",
      "(9, 38) -> 20\n",
      "(10, 37) -> 12\n",
      "(11, 36) -> 5\n",
      "(12, 35) -> 9\n",
      "(13, 34) -> 18\n",
      "(14, 33) -> 27\n",
      "(15, 32) -> 36\n",
      "(16, 31) -> 44\n",
      "(17, 30) -> 48\n",
      "(18, 29) -> 48\n",
      "(19, 28) -> 43\n",
      "(20, 27) -> 34\n",
      "(21, 26) -> 22\n",
      "(22, 25) -> 9\n",
      "(23, 24) -> 7\n",
      "(24, 23) -> 14\n",
      "(25, 21) -> 14\n",
      "(26, 22) -> 4\n",
      "(27, 20) -> 14\n",
      "(28, 19) -> 9\n",
      "(29, 18) -> 6\n",
      "(30, 17) -> 6\n",
      "(31, 16) -> 8\n",
      "(32, 15) -> 8\n",
      "(33, 14) -> 6\n",
      "(34, 13) -> 2\n",
      "(35, 12) -> 5\n",
      "(36, 11) -> 5\n",
      "(37, 10) -> 0\n",
      "(38, 9) -> 8\n",
      "(39, 8) -> 17\n",
      "(40, 7) -> 26\n",
      "(41, 6) -> 31\n",
      "(42, 5) -> 32\n",
      "(43, 4) -> 29\n",
      "(44, 3) -> 22\n",
      "(45, 2) -> 15\n",
      "(46, 1) -> 8\n",
      "(47, 0) -> 3\n",
      "(48, 49) -> 14\n",
      "(49, 47) -> 3\n",
      "870.769755624\n",
      "(0, 44) -> 10\n",
      "(1, 49) -> 24\n",
      "(2, 47) -> 12\n",
      "(3, 43) -> 16\n",
      "(4, 42) -> 16\n",
      "(5, 41) -> 14\n",
      "(6, 40) -> 12\n",
      "(7, 39) -> 8\n",
      "(8, 38) -> 5\n",
      "(9, 37) -> 1\n",
      "(10, 36) -> 1\n",
      "(11, 35) -> 2\n",
      "(12, 34) -> 2\n",
      "(13, 33) -> 2\n",
      "(14, 32) -> 1\n",
      "(15, 31) -> 1\n",
      "(16, 30) -> 2\n",
      "(17, 29) -> 2\n",
      "(18, 28) -> 2\n",
      "(19, 27) -> 2\n",
      "(20, 26) -> 3\n",
      "(21, 25) -> 2\n",
      "(22, 24) -> 1\n",
      "(23, 23) -> 1\n",
      "(24, 22) -> 1\n",
      "(25, 21) -> 1\n",
      "(26, 20) -> 0\n",
      "(27, 19) -> 1\n",
      "(28, 18) -> 2\n",
      "(29, 17) -> 2\n",
      "(30, 16) -> 3\n",
      "(31, 15) -> 3\n",
      "(32, 14) -> 3\n",
      "(33, 13) -> 5\n",
      "(34, 12) -> 5\n",
      "(35, 11) -> 5\n",
      "(36, 10) -> 5\n",
      "(37, 9) -> 6\n",
      "(38, 8) -> 6\n",
      "(39, 7) -> 6\n",
      "(40, 6) -> 6\n",
      "(41, 5) -> 6\n",
      "(42, 4) -> 6\n",
      "(43, 3) -> 7\n",
      "(44, 2) -> 7\n",
      "(45, 1) -> 7\n",
      "(46, 0) -> 7\n",
      "(47, 48) -> 6\n",
      "(48, 46) -> 1\n",
      "(49, 45) -> 4\n",
      "277.345299829\n",
      "(0, 0) -> 2\n",
      "(1, 48) -> 2\n",
      "(2, 47) -> 7\n",
      "(3, 46) -> 11\n",
      "(4, 45) -> 15\n",
      "(5, 44) -> 17\n",
      "(6, 43) -> 18\n",
      "(7, 42) -> 17\n",
      "(8, 41) -> 16\n",
      "(9, 20) -> 83\n",
      "(10, 40) -> 13\n",
      "(11, 39) -> 8\n",
      "(12, 38) -> 3\n",
      "(13, 37) -> 1\n",
      "(14, 36) -> 6\n",
      "(15, 35) -> 12\n",
      "(16, 34) -> 15\n",
      "(17, 33) -> 14\n",
      "(18, 32) -> 10\n",
      "(19, 31) -> 4\n",
      "(20, 30) -> 2\n",
      "(21, 29) -> 1\n",
      "(22, 28) -> 3\n",
      "(23, 27) -> 6\n",
      "(24, 26) -> 7\n",
      "(25, 25) -> 6\n",
      "(26, 24) -> 5\n",
      "(27, 23) -> 4\n",
      "(28, 22) -> 2\n",
      "(29, 21) -> 4\n",
      "(30, 19) -> 5\n",
      "(31, 18) -> 17\n",
      "(32, 17) -> 22\n",
      "(33, 16) -> 21\n",
      "(34, 15) -> 17\n",
      "(35, 14) -> 11\n",
      "(36, 13) -> 5\n",
      "(37, 12) -> 4\n",
      "(38, 11) -> 8\n",
      "(39, 10) -> 9\n",
      "(40, 9) -> 6\n",
      "(41, 8) -> 3\n",
      "(42, 7) -> 4\n",
      "(43, 6) -> 6\n",
      "(44, 5) -> 7\n",
      "(45, 4) -> 8\n",
      "(46, 3) -> 8\n",
      "(47, 2) -> 7\n",
      "(48, 1) -> 5\n",
      "(49, 49) -> 2\n",
      "510.753600144\n",
      "(0, 5) -> 389\n",
      "(1, 12) -> 347\n",
      "(2, 4) -> 398\n",
      "(3, 3) -> 405\n",
      "(4, 2) -> 413\n",
      "(5, 1) -> 421\n",
      "(6, 16) -> 331\n",
      "(7, 0) -> 430\n",
      "(8, 49) -> 432\n",
      "(9, 48) -> 438\n",
      "(10, 18) -> 329\n",
      "(11, 19) -> 326\n",
      "(12, 20) -> 324\n",
      "(13, 45) -> 445\n",
      "(14, 44) -> 445\n",
      "(15, 43) -> 443\n",
      "(16, 24) -> 339\n",
      "(17, 42) -> 441\n",
      "(18, 26) -> 350\n",
      "(19, 27) -> 355\n",
      "(20, 29) -> 366\n",
      "(21, 40) -> 432\n",
      "(22, 31) -> 377\n",
      "(23, 39) -> 424\n",
      "(24, 34) -> 392\n",
      "(25, 35) -> 396\n",
      "(26, 37) -> 406\n",
      "(27, 36) -> 397\n",
      "(28, 38) -> 408\n",
      "(29, 33) -> 375\n",
      "(30, 32) -> 367\n",
      "(31, 30) -> 354\n",
      "(32, 28) -> 340\n",
      "(33, 41) -> 416\n",
      "(34, 25) -> 322\n",
      "(35, 23) -> 311\n",
      "(36, 22) -> 306\n",
      "(37, 21) -> 302\n",
      "(38, 46) -> 421\n",
      "(39, 47) -> 419\n",
      "(40, 17) -> 311\n",
      "(41, 15) -> 322\n",
      "(42, 14) -> 328\n",
      "(43, 13) -> 335\n",
      "(44, 8) -> 366\n",
      "(45, 7) -> 373\n",
      "(46, 6) -> 380\n",
      "(47, 10) -> 356\n",
      "(48, 11) -> 351\n",
      "(49, 9) -> 365\n",
      "18846.9824684\n",
      "(0, 49) -> 5\n",
      "(1, 0) -> 8\n",
      "(2, 48) -> 9\n",
      "(3, 47) -> 13\n",
      "(4, 46) -> 12\n",
      "(5, 45) -> 6\n",
      "(6, 44) -> 13\n",
      "(7, 43) -> 12\n",
      "(8, 42) -> 7\n",
      "(9, 41) -> 11\n",
      "(10, 40) -> 10\n",
      "(11, 39) -> 10\n",
      "(12, 38) -> 11\n",
      "(13, 37) -> 11\n",
      "(14, 3) -> 139\n",
      "(15, 36) -> 17\n",
      "(16, 35) -> 7\n",
      "(17, 34) -> 0\n",
      "(18, 33) -> 12\n",
      "(19, 32) -> 13\n",
      "(20, 31) -> 12\n",
      "(21, 30) -> 21\n",
      "(22, 29) -> 17\n",
      "(23, 28) -> 11\n",
      "(24, 27) -> 11\n",
      "(25, 26) -> 7\n",
      "(26, 25) -> 5\n",
      "(27, 17) -> 52\n",
      "(28, 24) -> 16\n",
      "(29, 23) -> 0\n",
      "(30, 18) -> 50\n",
      "(31, 22) -> 9\n",
      "(32, 21) -> 5\n",
      "(33, 20) -> 7\n",
      "(34, 19) -> 6\n",
      "(35, 15) -> 33\n",
      "(36, 4) -> 71\n",
      "(37, 16) -> 3\n",
      "(38, 5) -> 57\n",
      "(39, 14) -> 3\n",
      "(40, 13) -> 2\n",
      "(41, 12) -> 2\n",
      "(42, 11) -> 3\n",
      "(43, 10) -> 3\n",
      "(44, 9) -> 4\n",
      "(45, 8) -> 4\n",
      "(46, 7) -> 11\n",
      "(47, 6) -> 6\n",
      "(48, 2) -> 19\n",
      "(49, 1) -> 12\n",
      "816.871104443\n"
     ]
    },
    {
     "data": {
      "image/png": "[encoded data removed]",
      "text/plain": [
       "<matplotlib.figure.Figure at 0x10ec21f50>"
      ]
     },
     "metadata": {},
     "output_type": "display_data"
    },
    {
     "data": {
      "image/png": "[encoded data removed]",
      "text/plain": [
       "<matplotlib.figure.Figure at 0x126a74510>"
      ]
     },
     "metadata": {},
     "output_type": "display_data"
    },
    {
     "data": {
      "image/png": "[encoded data removed]",
      "text/plain": [
       "<matplotlib.figure.Figure at 0x126879850>"
      ]
     },
     "metadata": {},
     "output_type": "display_data"
    },
    {
     "data": {
      "image/png": "[encoded data removed]",
      "text/plain": [
       "<matplotlib.figure.Figure at 0x126744610>"
      ]
     },
     "metadata": {},
     "output_type": "display_data"
    },
    {
     "data": {
      "image/png": "[encoded data removed]",
      "text/plain": [
       "<matplotlib.figure.Figure at 0x11c673490>"
      ]
     },
     "metadata": {},
     "output_type": "display_data"
    },
    {
     "data": {
      "image/png": "[encoded data removed]",
      "text/plain": [
       "<matplotlib.figure.Figure at 0x1269c9650>"
      ]
     },
     "metadata": {},
     "output_type": "display_data"
    },
    {
     "data": {
      "image/png": "[encoded data removed]",
      "text/plain": [
       "<matplotlib.figure.Figure at 0x10eda9490>"
      ]
     },
     "metadata": {},
     "output_type": "display_data"
    },
    {
     "data": {
      "image/png": "[encoded data removed]",
      "text/plain": [
       "<matplotlib.figure.Figure at 0x10e840790>"
      ]
     },
     "metadata": {},
     "output_type": "display_data"
    },
    {
     "data": {
      "image/png": "[encoded data removed]",
      "text/plain": [
       "<matplotlib.figure.Figure at 0x10e702ad0>"
      ]
     },
     "metadata": {},
     "output_type": "display_data"
    },
    {
     "data": {
      "image/png": "[encoded data removed]",
      "text/plain": [
       "<matplotlib.figure.Figure at 0x10ec5c690>"
      ]
     },
     "metadata": {},
     "output_type": "display_data"
    },
    {
     "data": {
      "image/png": "[encoded data removed]",
      "text/plain": [
       "<matplotlib.figure.Figure at 0x125e2a410>"
      ]
     },
     "metadata": {},
     "output_type": "display_data"
    },
    {
     "data": {
      "image/png": "[encoded data removed]",
      "text/plain": [
       "<matplotlib.figure.Figure at 0x1265acb10>"
      ]
     },
     "metadata": {},
     "output_type": "display_data"
    },
    {
     "data": {
      "image/png": "[encoded data removed]",
      "text/plain": [
       "<matplotlib.figure.Figure at 0x125cd6310>"
      ]
     },
     "metadata": {},
     "output_type": "display_data"
    },
    {
     "data": {
      "image/png": "[encoded data removed]",
      "text/plain": [
       "<matplotlib.figure.Figure at 0x126501ed0>"
      ]
     },
     "metadata": {},
     "output_type": "display_data"
    },
    {
     "data": {
      "image/png": "[encoded data removed]",
      "text/plain": [
       "<matplotlib.figure.Figure at 0x125f81650>"
      ]
     },
     "metadata": {},
     "output_type": "display_data"
    },
    {
     "data": {
      "image/png": "[encoded data removed]",
      "text/plain": [
       "<matplotlib.figure.Figure at 0x1263e82d0>"
      ]
     },
     "metadata": {},
     "output_type": "display_data"
    },
    {
     "data": {
      "image/png": "[encoded data removed]",
      "text/plain": [
       "<matplotlib.figure.Figure at 0x125d03a10>"
      ]
     },
     "metadata": {},
     "output_type": "display_data"
    },
    {
     "data": {
      "image/png": "[encoded data removed]",
      "text/plain": [
       "<matplotlib.figure.Figure at 0x126326690>"
      ]
     },
     "metadata": {},
     "output_type": "display_data"
    },
    {
     "data": {
      "image/png": "[encoded data removed]",
      "text/plain": [
       "<matplotlib.figure.Figure at 0x125777e10>"
      ]
     },
     "metadata": {},
     "output_type": "display_data"
    },
    {
     "data": {
      "image/png": "[encoded data removed]",
      "text/plain": [
       "<matplotlib.figure.Figure at 0x125a9fa50>"
      ]
     },
     "metadata": {},
     "output_type": "display_data"
    },
    {
     "data": {
      "image/png": "[encoded data removed]",
      "text/plain": [
       "<matplotlib.figure.Figure at 0x125b8b1d0>"
      ]
     },
     "metadata": {},
     "output_type": "display_data"
    },
    {
     "data": {
      "image/png": "[encoded data removed]",
      "text/plain": [
       "<matplotlib.figure.Figure at 0x1257b9e10>"
      ]
     },
     "metadata": {},
     "output_type": "display_data"
    },
    {
     "data": {
      "image/png": "[encoded data removed]",
      "text/plain": [
       "<matplotlib.figure.Figure at 0x1269dfb50>"
      ]
     },
     "metadata": {},
     "output_type": "display_data"
    },
    {
     "data": {
      "image/png": "[encoded data removed]",
      "text/plain": [
       "<matplotlib.figure.Figure at 0x125efd6d0>"
      ]
     },
     "metadata": {},
     "output_type": "display_data"
    },
    {
     "data": {
      "image/png": "[encoded data removed]",
      "text/plain": [
       "<matplotlib.figure.Figure at 0x125861990>"
      ]
     },
     "metadata": {},
     "output_type": "display_data"
    },
    {
     "data": {
      "image/png": "[encoded data removed]",
      "text/plain": [
       "<matplotlib.figure.Figure at 0x12592c590>"
      ]
     },
     "metadata": {},
     "output_type": "display_data"
    }
   ],
   "source": [
    "img_info,object_tbl,bb_info,hit_info = load_info()\n",
    "i=0\n",
    "for bb in bb_info.iterrows():\n",
    "    #print bb\n",
    "    if i<50:\n",
    "        oid = bb[1][\"object_id\"]\n",
    "        bbx_path= bb[1][\"x_locs\"]\n",
    "        bby_path= bb[1][\"y_locs\"]\n",
    "        my_ground_truth_match = my_BBG[my_BBG.object_id==oid]\n",
    "        #print my_ground_truth_match\n",
    "        worker_x_locs,worker_y_locs= process_raw_locs([bbx_path,bby_path])\n",
    "        my_x_locs,my_y_locs =  process_raw_locs([my_ground_truth_match[\"x_locs\"].iloc[0],my_ground_truth_match[\"y_locs\"].iloc[0]])\n",
    "        if my_x_locs!=worker_x_locs:\n",
    "            obj_x_locs = [worker_x_locs,my_x_locs]\n",
    "            obj_y_locs = [worker_y_locs,my_y_locs]\n",
    "            interpolated_obj_x_locs,interpolated_obj_y_locs = parametric_interpolate(obj_x_locs,obj_y_locs,50,True)\n",
    "            polygon1 = zip(interpolated_obj_x_locs[0],interpolated_obj_y_locs[0])\n",
    "            polygon2 = zip(interpolated_obj_x_locs[1],interpolated_obj_y_locs[1])\n",
    "            print  MunkresEuclidean(polygon1,polygon2)\n",
    "            bb_info = bb_info.set_value(bb[0],\"MunkresEuclidean [Self]\",MunkresEuclidean(polygon1,polygon2))\n",
    "        else:\n",
    "            #The first few BB are bound to be the same entry as the ground truth BB\n",
    "            #print \"same entry\"\n",
    "            pass\n",
    "        i+=1\n",
    "    else:\n",
    "        break\n",
    "        "
   ]
  },
  {
   "cell_type": "code",
   "execution_count": 189,
   "metadata": {
    "collapsed": false
   },
   "outputs": [
    {
     "ename": "KeyboardInterrupt",
     "evalue": "",
     "output_type": "error",
     "traceback": [
      "\u001b[0;31m---------------------------------------------------------------------------\u001b[0m",
      "\u001b[0;31mKeyboardInterrupt\u001b[0m                         Traceback (most recent call last)",
      "\u001b[0;32m<ipython-input-189-2bdd94d8b3a2>\u001b[0m in \u001b[0;36m<module>\u001b[0;34m()\u001b[0m\n\u001b[0;32m----> 1\u001b[0;31m \u001b[0mMunkresEuclidean\u001b[0m\u001b[0;34m(\u001b[0m\u001b[0mpolygon1\u001b[0m\u001b[0;34m,\u001b[0m\u001b[0mpolygon2\u001b[0m\u001b[0;34m)\u001b[0m\u001b[0;34m\u001b[0m\u001b[0m\n\u001b[0m",
      "\u001b[0;32m<ipython-input-149-28b48a7b2607>\u001b[0m in \u001b[0;36mMunkresEuclidean\u001b[0;34m(bb1, bb2)\u001b[0m\n\u001b[1;32m     11\u001b[0m     \u001b[0mm\u001b[0m \u001b[0;34m=\u001b[0m \u001b[0mMunkres\u001b[0m\u001b[0;34m(\u001b[0m\u001b[0;34m)\u001b[0m\u001b[0;34m\u001b[0m\u001b[0m\n\u001b[1;32m     12\u001b[0m     \u001b[0;32mtry\u001b[0m\u001b[0;34m:\u001b[0m\u001b[0;34m\u001b[0m\u001b[0m\n\u001b[0;32m---> 13\u001b[0;31m         \u001b[0mindexes\u001b[0m \u001b[0;34m=\u001b[0m \u001b[0mm\u001b[0m\u001b[0;34m.\u001b[0m\u001b[0mcompute\u001b[0m\u001b[0;34m(\u001b[0m\u001b[0mnp\u001b[0m\u001b[0;34m.\u001b[0m\u001b[0mma\u001b[0m\u001b[0;34m.\u001b[0m\u001b[0mmasked_equal\u001b[0m\u001b[0;34m(\u001b[0m\u001b[0mmatrix\u001b[0m\u001b[0;34m,\u001b[0m\u001b[0;36m0\u001b[0m\u001b[0;34m)\u001b[0m\u001b[0;34m)\u001b[0m\u001b[0;34m\u001b[0m\u001b[0m\n\u001b[0m\u001b[1;32m     14\u001b[0m         \u001b[0mtotal\u001b[0m \u001b[0;34m=\u001b[0m \u001b[0;36m0\u001b[0m\u001b[0;34m\u001b[0m\u001b[0m\n\u001b[1;32m     15\u001b[0m         \u001b[0;32mfor\u001b[0m \u001b[0mrow\u001b[0m\u001b[0;34m,\u001b[0m \u001b[0mcolumn\u001b[0m \u001b[0;32min\u001b[0m \u001b[0mindexes\u001b[0m\u001b[0;34m:\u001b[0m\u001b[0;34m\u001b[0m\u001b[0m\n",
      "\u001b[0;32m/Users/dorislee/.virtualenvs/py27dev/lib/python2.7/site-packages/munkres.pyc\u001b[0m in \u001b[0;36mcompute\u001b[0;34m(self, cost_matrix)\u001b[0m\n\u001b[1;32m    392\u001b[0m             \u001b[0;32mtry\u001b[0m\u001b[0;34m:\u001b[0m\u001b[0;34m\u001b[0m\u001b[0m\n\u001b[1;32m    393\u001b[0m                 \u001b[0mfunc\u001b[0m \u001b[0;34m=\u001b[0m \u001b[0msteps\u001b[0m\u001b[0;34m[\u001b[0m\u001b[0mstep\u001b[0m\u001b[0;34m]\u001b[0m\u001b[0;34m\u001b[0m\u001b[0m\n\u001b[0;32m--> 394\u001b[0;31m                 \u001b[0mstep\u001b[0m \u001b[0;34m=\u001b[0m \u001b[0mfunc\u001b[0m\u001b[0;34m(\u001b[0m\u001b[0;34m)\u001b[0m\u001b[0;34m\u001b[0m\u001b[0m\n\u001b[0m\u001b[1;32m    395\u001b[0m             \u001b[0;32mexcept\u001b[0m \u001b[0mKeyError\u001b[0m\u001b[0;34m:\u001b[0m\u001b[0;34m\u001b[0m\u001b[0m\n\u001b[1;32m    396\u001b[0m                 \u001b[0mdone\u001b[0m \u001b[0;34m=\u001b[0m \u001b[0mTrue\u001b[0m\u001b[0;34m\u001b[0m\u001b[0m\n",
      "\u001b[0;32m/Users/dorislee/.virtualenvs/py27dev/lib/python2.7/site-packages/munkres.pyc\u001b[0m in \u001b[0;36m__step6\u001b[0;34m(self)\u001b[0m\n\u001b[1;32m    552\u001b[0m             \u001b[0;32mfor\u001b[0m \u001b[0mj\u001b[0m \u001b[0;32min\u001b[0m \u001b[0mrange\u001b[0m\u001b[0;34m(\u001b[0m\u001b[0mself\u001b[0m\u001b[0;34m.\u001b[0m\u001b[0mn\u001b[0m\u001b[0;34m)\u001b[0m\u001b[0;34m:\u001b[0m\u001b[0;34m\u001b[0m\u001b[0m\n\u001b[1;32m    553\u001b[0m                 \u001b[0;32mif\u001b[0m \u001b[0mself\u001b[0m\u001b[0;34m.\u001b[0m\u001b[0mrow_covered\u001b[0m\u001b[0;34m[\u001b[0m\u001b[0mi\u001b[0m\u001b[0;34m]\u001b[0m\u001b[0;34m:\u001b[0m\u001b[0;34m\u001b[0m\u001b[0m\n\u001b[0;32m--> 554\u001b[0;31m                     \u001b[0mself\u001b[0m\u001b[0;34m.\u001b[0m\u001b[0mC\u001b[0m\u001b[0;34m[\u001b[0m\u001b[0mi\u001b[0m\u001b[0;34m]\u001b[0m\u001b[0;34m[\u001b[0m\u001b[0mj\u001b[0m\u001b[0;34m]\u001b[0m \u001b[0;34m+=\u001b[0m \u001b[0mminval\u001b[0m\u001b[0;34m\u001b[0m\u001b[0m\n\u001b[0m\u001b[1;32m    555\u001b[0m                 \u001b[0;32mif\u001b[0m \u001b[0;32mnot\u001b[0m \u001b[0mself\u001b[0m\u001b[0;34m.\u001b[0m\u001b[0mcol_covered\u001b[0m\u001b[0;34m[\u001b[0m\u001b[0mj\u001b[0m\u001b[0;34m]\u001b[0m\u001b[0;34m:\u001b[0m\u001b[0;34m\u001b[0m\u001b[0m\n\u001b[1;32m    556\u001b[0m                     \u001b[0mself\u001b[0m\u001b[0;34m.\u001b[0m\u001b[0mC\u001b[0m\u001b[0;34m[\u001b[0m\u001b[0mi\u001b[0m\u001b[0;34m]\u001b[0m\u001b[0;34m[\u001b[0m\u001b[0mj\u001b[0m\u001b[0;34m]\u001b[0m \u001b[0;34m-=\u001b[0m \u001b[0mminval\u001b[0m\u001b[0;34m\u001b[0m\u001b[0m\n",
      "\u001b[0;32m/Users/dorislee/.virtualenvs/py27dev/lib/python2.7/site-packages/numpy/ma/core.pyc\u001b[0m in \u001b[0;36m__getitem__\u001b[0;34m(self, indx)\u001b[0m\n\u001b[1;32m   3115\u001b[0m \u001b[0;34m\u001b[0m\u001b[0m\n\u001b[1;32m   3116\u001b[0m         \"\"\"\n\u001b[0;32m-> 3117\u001b[0;31m         \u001b[0mdout\u001b[0m \u001b[0;34m=\u001b[0m \u001b[0mself\u001b[0m\u001b[0;34m.\u001b[0m\u001b[0mdata\u001b[0m\u001b[0;34m[\u001b[0m\u001b[0mindx\u001b[0m\u001b[0;34m]\u001b[0m\u001b[0;34m\u001b[0m\u001b[0m\n\u001b[0m\u001b[1;32m   3118\u001b[0m         \u001b[0;31m# We could directly use ndarray.__getitem__ on self.\u001b[0m\u001b[0;34m\u001b[0m\u001b[0;34m\u001b[0m\u001b[0m\n\u001b[1;32m   3119\u001b[0m         \u001b[0;31m# But then we would have to modify __array_finalize__ to prevent the\u001b[0m\u001b[0;34m\u001b[0m\u001b[0;34m\u001b[0m\u001b[0m\n",
      "\u001b[0;32m/Users/dorislee/.virtualenvs/py27dev/lib/python2.7/site-packages/numpy/ma/core.pyc\u001b[0m in \u001b[0;36m_get_data\u001b[0;34m(self)\u001b[0m\n\u001b[1;32m   3485\u001b[0m                          doc=\"Class of the underlying data (read-only).\")\n\u001b[1;32m   3486\u001b[0m \u001b[0;34m\u001b[0m\u001b[0m\n\u001b[0;32m-> 3487\u001b[0;31m     \u001b[0;32mdef\u001b[0m \u001b[0m_get_data\u001b[0m\u001b[0;34m(\u001b[0m\u001b[0mself\u001b[0m\u001b[0;34m)\u001b[0m\u001b[0;34m:\u001b[0m\u001b[0;34m\u001b[0m\u001b[0m\n\u001b[0m\u001b[1;32m   3488\u001b[0m         \"\"\"Return the current data, as a view of the original\n\u001b[1;32m   3489\u001b[0m         \u001b[0munderlying\u001b[0m \u001b[0mdata\u001b[0m\u001b[0;34m.\u001b[0m\u001b[0;34m\u001b[0m\u001b[0m\n",
      "\u001b[0;31mKeyboardInterrupt\u001b[0m: "
     ]
    }
   ],
   "source": [
    "MunkresEuclidean(polygon1,polygon2)"
   ]
  },
  {
   "cell_type": "code",
   "execution_count": 249,
   "metadata": {
    "collapsed": false,
    "scrolled": true
   },
   "outputs": [
    {
     "name": "stdout",
     "output_type": "stream",
     "text": [
      "CPU times: user 991 µs, sys: 573 µs, total: 1.56 ms\n",
      "Wall time: 1.19 ms\n"
     ]
    },
    {
     "data": {
      "text/html": [
       "<div>\n",
       "<table border=\"1\" class=\"dataframe\">\n",
       "  <thead>\n",
       "    <tr style=\"text-align: right;\">\n",
       "      <th></th>\n",
       "      <th>object_id</th>\n",
       "      <th>worker_id</th>\n",
       "      <th>x_locs</th>\n",
       "      <th>y_locs</th>\n",
       "      <th>MunkresEuclidean [Self]</th>\n",
       "    </tr>\n",
       "  </thead>\n",
       "  <tbody>\n",
       "    <tr>\n",
       "      <th>33</th>\n",
       "      <td>45</td>\n",
       "      <td>68</td>\n",
       "      <td>[103, 105, 98, 71, 50, 44, 44, 72, 91, 98, 104]</td>\n",
       "      <td>[152, 204, 208, 208, 208, 200, 145, 135, 139, ...</td>\n",
       "      <td>418.810412</td>\n",
       "    </tr>\n",
       "    <tr>\n",
       "      <th>38</th>\n",
       "      <td>20</td>\n",
       "      <td>4</td>\n",
       "      <td>[488, 492, 413, 361, 347, 410]</td>\n",
       "      <td>[178, 354, 360, 331, 179, 177]</td>\n",
       "      <td>1049.706388</td>\n",
       "    </tr>\n",
       "    <tr>\n",
       "      <th>39</th>\n",
       "      <td>18</td>\n",
       "      <td>6</td>\n",
       "      <td>[107, 309, 312, 107]</td>\n",
       "      <td>[173, 170, 337, 343]</td>\n",
       "      <td>754.411039</td>\n",
       "    </tr>\n",
       "    <tr>\n",
       "      <th>40</th>\n",
       "      <td>9</td>\n",
       "      <td>7</td>\n",
       "      <td>[259, 258, 288, 299, 305, 352, 348, 354, 362, ...</td>\n",
       "      <td>[217, 268, 269, 284, 287, 282, 276, 273, 279, ...</td>\n",
       "      <td>173.470154</td>\n",
       "    </tr>\n",
       "    <tr>\n",
       "      <th>41</th>\n",
       "      <td>13</td>\n",
       "      <td>7</td>\n",
       "      <td>[255, 289, 296, 301, 301, 305, 302, 301, 307, ...</td>\n",
       "      <td>[269, 272, 278, 286, 294, 303, 318, 325, 328, ...</td>\n",
       "      <td>354.667423</td>\n",
       "    </tr>\n",
       "    <tr>\n",
       "      <th>42</th>\n",
       "      <td>20</td>\n",
       "      <td>8</td>\n",
       "      <td>[106, 305, 309, 114]</td>\n",
       "      <td>[172, 171, 333, 340]</td>\n",
       "      <td>11353.621557</td>\n",
       "    </tr>\n",
       "    <tr>\n",
       "      <th>43</th>\n",
       "      <td>14</td>\n",
       "      <td>9</td>\n",
       "      <td>[457, 463, 469, 477, 483, 492, 500, 514, 527, ...</td>\n",
       "      <td>[234, 219, 209, 198, 198, 207, 216, 210, 206, ...</td>\n",
       "      <td>730.239870</td>\n",
       "    </tr>\n",
       "    <tr>\n",
       "      <th>44</th>\n",
       "      <td>12</td>\n",
       "      <td>8</td>\n",
       "      <td>[300, 402, 387, 381, 333, 311, 309, 307]</td>\n",
       "      <td>[287, 436, 441, 439, 357, 327, 309, 320]</td>\n",
       "      <td>1186.145980</td>\n",
       "    </tr>\n",
       "    <tr>\n",
       "      <th>45</th>\n",
       "      <td>18</td>\n",
       "      <td>9</td>\n",
       "      <td>[134, 196, 258, 308, 313, 306, 274, 264, 252, ...</td>\n",
       "      <td>[170, 170, 170, 169, 258, 330, 338, 337, 352, ...</td>\n",
       "      <td>870.769756</td>\n",
       "    </tr>\n",
       "    <tr>\n",
       "      <th>46</th>\n",
       "      <td>16</td>\n",
       "      <td>10</td>\n",
       "      <td>[353, 420, 421, 421, 421, 419, 417, 414, 411, ...</td>\n",
       "      <td>[479, 479, 460, 452, 440, 428, 416, 406, 396, ...</td>\n",
       "      <td>277.345300</td>\n",
       "    </tr>\n",
       "    <tr>\n",
       "      <th>47</th>\n",
       "      <td>9</td>\n",
       "      <td>11</td>\n",
       "      <td>[257, 284, 305, 321, 344, 352, 360, 372, 383, ...</td>\n",
       "      <td>[216, 207, 203, 200, 194, 194, 205, 218, 233, ...</td>\n",
       "      <td>510.753600</td>\n",
       "    </tr>\n",
       "    <tr>\n",
       "      <th>48</th>\n",
       "      <td>15</td>\n",
       "      <td>12</td>\n",
       "      <td>[383, 392, 402, 413, 426, 432, 432]</td>\n",
       "      <td>[60, 55, 46, 47, 49, 55, 62]</td>\n",
       "      <td>18846.982468</td>\n",
       "    </tr>\n",
       "    <tr>\n",
       "      <th>49</th>\n",
       "      <td>14</td>\n",
       "      <td>12</td>\n",
       "      <td>[477, 493, 498, 511, 514, 523, 532, 532, 544, ...</td>\n",
       "      <td>[197, 206, 211, 211, 204, 204, 204, 212, 209, ...</td>\n",
       "      <td>816.871104</td>\n",
       "    </tr>\n",
       "    <tr>\n",
       "      <th>50</th>\n",
       "      <td>21</td>\n",
       "      <td>13</td>\n",
       "      <td>[232, 291, 293, 236]</td>\n",
       "      <td>[55, 53, 110, 110]</td>\n",
       "      <td>214.191973</td>\n",
       "    </tr>\n",
       "    <tr>\n",
       "      <th>57</th>\n",
       "      <td>12</td>\n",
       "      <td>6</td>\n",
       "      <td>[302, 305, 371, 393, 406]</td>\n",
       "      <td>[287, 320, 433, 447, 432]</td>\n",
       "      <td>814.248569</td>\n",
       "    </tr>\n",
       "    <tr>\n",
       "      <th>58</th>\n",
       "      <td>22</td>\n",
       "      <td>6</td>\n",
       "      <td>[370, 385, 396, 399, 385, 370]</td>\n",
       "      <td>[127, 124, 128, 174, 178, 175]</td>\n",
       "      <td>187.534805</td>\n",
       "    </tr>\n",
       "    <tr>\n",
       "      <th>59</th>\n",
       "      <td>13</td>\n",
       "      <td>6</td>\n",
       "      <td>[308, 285, 272, 271, 251, 228, 204, 186, 180, ...</td>\n",
       "      <td>[329, 359, 386, 400, 397, 398, 379, 371, 343, ...</td>\n",
       "      <td>302.703349</td>\n",
       "    </tr>\n",
       "    <tr>\n",
       "      <th>60</th>\n",
       "      <td>9</td>\n",
       "      <td>15</td>\n",
       "      <td>[259, 274, 291, 301, 274, 294, 307, 302, 317, ...</td>\n",
       "      <td>[269, 267, 264, 260, 270, 274, 289, 287, 288, ...</td>\n",
       "      <td>841.809189</td>\n",
       "    </tr>\n",
       "    <tr>\n",
       "      <th>61</th>\n",
       "      <td>16</td>\n",
       "      <td>15</td>\n",
       "      <td>[356, 353, 352, 350, 350, 350, 350, 351, 353, ...</td>\n",
       "      <td>[478, 466, 457, 449, 441, 434, 427, 418, 410, ...</td>\n",
       "      <td>176.621599</td>\n",
       "    </tr>\n",
       "    <tr>\n",
       "      <th>62</th>\n",
       "      <td>20</td>\n",
       "      <td>16</td>\n",
       "      <td>[108, 309, 309, 267, 236, 207, 166, 153, 110]</td>\n",
       "      <td>[172, 172, 332, 341, 361, 361, 356, 348, 340]</td>\n",
       "      <td>11346.544696</td>\n",
       "    </tr>\n",
       "    <tr>\n",
       "      <th>63</th>\n",
       "      <td>15</td>\n",
       "      <td>16</td>\n",
       "      <td>[384, 396, 424, 429, 431, 391]</td>\n",
       "      <td>[58, 49, 51, 58, 65, 62]</td>\n",
       "      <td>18835.600911</td>\n",
       "    </tr>\n",
       "    <tr>\n",
       "      <th>64</th>\n",
       "      <td>16</td>\n",
       "      <td>8</td>\n",
       "      <td>[369, 414, 364, 356, 425, 414, 375, 420, 366, ...</td>\n",
       "      <td>[368, 475, 478, 391, 416, 469, 374, 412, 379, ...</td>\n",
       "      <td>1074.303167</td>\n",
       "    </tr>\n",
       "    <tr>\n",
       "      <th>65</th>\n",
       "      <td>13</td>\n",
       "      <td>17</td>\n",
       "      <td>[270, 282, 299, 310, 305, 292, 254, 180, 189, ...</td>\n",
       "      <td>[393, 362, 340, 332, 279, 272, 264, 335, 369, ...</td>\n",
       "      <td>287.585440</td>\n",
       "    </tr>\n",
       "    <tr>\n",
       "      <th>66</th>\n",
       "      <td>19</td>\n",
       "      <td>18</td>\n",
       "      <td>[73, 91, 109, 110, 113, 88, 65, 66]</td>\n",
       "      <td>[259, 253, 259, 288, 357, 363, 358, 279]</td>\n",
       "      <td>399.746370</td>\n",
       "    </tr>\n",
       "    <tr>\n",
       "      <th>67</th>\n",
       "      <td>11</td>\n",
       "      <td>19</td>\n",
       "      <td>[391, 402, 411, 422, 430, 430, 423, 416, 407, ...</td>\n",
       "      <td>[350, 353, 356, 356, 348, 341, 335, 331, 327, ...</td>\n",
       "      <td>215.842138</td>\n",
       "    </tr>\n",
       "    <tr>\n",
       "      <th>68</th>\n",
       "      <td>11</td>\n",
       "      <td>20</td>\n",
       "      <td>[347, 353, 387, 396, 417, 427, 429, 410, 381, ...</td>\n",
       "      <td>[275, 273, 307, 327, 334, 344, 356, 362, 347, ...</td>\n",
       "      <td>202.428297</td>\n",
       "    </tr>\n",
       "    <tr>\n",
       "      <th>69</th>\n",
       "      <td>22</td>\n",
       "      <td>24</td>\n",
       "      <td>[81, 67, 66, 68, 68, 68, 74, 73, 76, 84, 92, 1...</td>\n",
       "      <td>[364, 356, 332, 313, 293, 282, 274, 267, 260, ...</td>\n",
       "      <td>16922.691555</td>\n",
       "    </tr>\n",
       "    <tr>\n",
       "      <th>70</th>\n",
       "      <td>12</td>\n",
       "      <td>23</td>\n",
       "      <td>[309, 392, 393, 395, 397, 394, 391, 307, 309, ...</td>\n",
       "      <td>[289, 416, 441, 439, 428, 428, 416, 287, 322, ...</td>\n",
       "      <td>1011.041241</td>\n",
       "    </tr>\n",
       "    <tr>\n",
       "      <th>71</th>\n",
       "      <td>11</td>\n",
       "      <td>22</td>\n",
       "      <td>[350, 357, 367, 377, 383, 384, 392, 402, 415, ...</td>\n",
       "      <td>[278, 289, 297, 313, 324, 336, 346, 349, 354, ...</td>\n",
       "      <td>350.280175</td>\n",
       "    </tr>\n",
       "    <tr>\n",
       "      <th>72</th>\n",
       "      <td>16</td>\n",
       "      <td>25</td>\n",
       "      <td>[419, 420, 418, 418, 418, 412, 410, 407, 394, ...</td>\n",
       "      <td>[479, 470, 459, 443, 427, 410, 398, 389, 378, ...</td>\n",
       "      <td>200.172216</td>\n",
       "    </tr>\n",
       "    <tr>\n",
       "      <th>...</th>\n",
       "      <td>...</td>\n",
       "      <td>...</td>\n",
       "      <td>...</td>\n",
       "      <td>...</td>\n",
       "      <td>...</td>\n",
       "    </tr>\n",
       "    <tr>\n",
       "      <th>127</th>\n",
       "      <td>21</td>\n",
       "      <td>57</td>\n",
       "      <td>[231, 296, 300, 231]</td>\n",
       "      <td>[54, 55, 112, 111]</td>\n",
       "      <td>90.410946</td>\n",
       "    </tr>\n",
       "    <tr>\n",
       "      <th>128</th>\n",
       "      <td>9</td>\n",
       "      <td>59</td>\n",
       "      <td>[260, 258, 309, 383, 385, 355]</td>\n",
       "      <td>[213, 266, 286, 278, 233, 191]</td>\n",
       "      <td>440.586098</td>\n",
       "    </tr>\n",
       "    <tr>\n",
       "      <th>129</th>\n",
       "      <td>13</td>\n",
       "      <td>59</td>\n",
       "      <td>[255, 179, 191, 225, 270, 314, 290, 301]</td>\n",
       "      <td>[265, 343, 373, 399, 401, 330, 271, 285]</td>\n",
       "      <td>666.895059</td>\n",
       "    </tr>\n",
       "    <tr>\n",
       "      <th>130</th>\n",
       "      <td>15</td>\n",
       "      <td>60</td>\n",
       "      <td>[429, 418, 404, 392, 383, 393, 403, 417, 429, ...</td>\n",
       "      <td>[53, 46, 45, 52, 59, 63, 64, 64, 65, 61]</td>\n",
       "      <td>18936.855468</td>\n",
       "    </tr>\n",
       "    <tr>\n",
       "      <th>131</th>\n",
       "      <td>8</td>\n",
       "      <td>59</td>\n",
       "      <td>[311, 374, 444, 484, 505, 526, 533, 546, 388, ...</td>\n",
       "      <td>[175, 126, 120, 134, 165, 205, 214, 245, 210, ...</td>\n",
       "      <td>3542.795885</td>\n",
       "    </tr>\n",
       "    <tr>\n",
       "      <th>132</th>\n",
       "      <td>17</td>\n",
       "      <td>59</td>\n",
       "      <td>[116, 156, 174, 186, 201, 205, 163, 134, 115, ...</td>\n",
       "      <td>[136, 137, 146, 155, 167, 172, 177, 180, 191, ...</td>\n",
       "      <td>592.955685</td>\n",
       "    </tr>\n",
       "    <tr>\n",
       "      <th>133</th>\n",
       "      <td>14</td>\n",
       "      <td>59</td>\n",
       "      <td>[505, 555, 575, 581, 583, 571, 543, 516, 504, ...</td>\n",
       "      <td>[190, 216, 234, 268, 305, 329, 363, 368, 384, ...</td>\n",
       "      <td>1041.416189</td>\n",
       "    </tr>\n",
       "    <tr>\n",
       "      <th>134</th>\n",
       "      <td>8</td>\n",
       "      <td>54</td>\n",
       "      <td>[352, 190, 184, 129, 126, 146, 195, 232, 254, ...</td>\n",
       "      <td>[191, 252, 246, 252, 260, 262, 259, 256, 257, ...</td>\n",
       "      <td>4432.281620</td>\n",
       "    </tr>\n",
       "    <tr>\n",
       "      <th>135</th>\n",
       "      <td>14</td>\n",
       "      <td>65</td>\n",
       "      <td>[482, 497, 521, 530, 533, 544, 560, 570, 575, ...</td>\n",
       "      <td>[202, 212, 208, 220, 212, 218, 230, 238, 256, ...</td>\n",
       "      <td>419.461257</td>\n",
       "    </tr>\n",
       "    <tr>\n",
       "      <th>136</th>\n",
       "      <td>19</td>\n",
       "      <td>63</td>\n",
       "      <td>[73, 80, 87, 98, 107, 113, 112, 113, 111, 110,...</td>\n",
       "      <td>[358, 365, 365, 364, 362, 357, 349, 343, 337, ...</td>\n",
       "      <td>633.930008</td>\n",
       "    </tr>\n",
       "    <tr>\n",
       "      <th>137</th>\n",
       "      <td>44</td>\n",
       "      <td>66</td>\n",
       "      <td>[243, 226, 226, 237, 216, 216, 233, 233, 233, ...</td>\n",
       "      <td>[263, 273, 292, 306, 318, 338, 343, 364, 400, ...</td>\n",
       "      <td>686.674408</td>\n",
       "    </tr>\n",
       "    <tr>\n",
       "      <th>138</th>\n",
       "      <td>43</td>\n",
       "      <td>66</td>\n",
       "      <td>[184, 166, 167, 172, 156, 142, 130, 112, 110, ...</td>\n",
       "      <td>[299, 314, 335, 349, 369, 372, 391, 424, 433, ...</td>\n",
       "      <td>695.984569</td>\n",
       "    </tr>\n",
       "    <tr>\n",
       "      <th>139</th>\n",
       "      <td>23</td>\n",
       "      <td>66</td>\n",
       "      <td>[453, 395, 473, 537, 504]</td>\n",
       "      <td>[112, 254, 287, 142, 113]</td>\n",
       "      <td>608.034761</td>\n",
       "    </tr>\n",
       "    <tr>\n",
       "      <th>140</th>\n",
       "      <td>32</td>\n",
       "      <td>66</td>\n",
       "      <td>[271, 363, 393, 363, 250, 221, 224]</td>\n",
       "      <td>[131, 132, 287, 387, 386, 312, 235]</td>\n",
       "      <td>595.999025</td>\n",
       "    </tr>\n",
       "    <tr>\n",
       "      <th>141</th>\n",
       "      <td>38</td>\n",
       "      <td>68</td>\n",
       "      <td>[492, 491, 485, 292, 288, 313, 323, 388, 408, ...</td>\n",
       "      <td>[172, 283, 323, 331, 145, 139, 121, 121, 136, ...</td>\n",
       "      <td>1099.912429</td>\n",
       "    </tr>\n",
       "    <tr>\n",
       "      <th>142</th>\n",
       "      <td>45</td>\n",
       "      <td>73</td>\n",
       "      <td>[44, 92, 103, 53]</td>\n",
       "      <td>[140, 136, 195, 205]</td>\n",
       "      <td>557.258149</td>\n",
       "    </tr>\n",
       "    <tr>\n",
       "      <th>143</th>\n",
       "      <td>29</td>\n",
       "      <td>76</td>\n",
       "      <td>[529, 530, 587, 604, 611, 606, 580, 558, 477, ...</td>\n",
       "      <td>[136, 166, 234, 267, 301, 333, 379, 397, 391, ...</td>\n",
       "      <td>5240.442003</td>\n",
       "    </tr>\n",
       "    <tr>\n",
       "      <th>144</th>\n",
       "      <td>42</td>\n",
       "      <td>75</td>\n",
       "      <td>[184, 178, 173, 170, 163, 152, 157, 163, 174]</td>\n",
       "      <td>[487, 495, 514, 523, 528, 525, 506, 494, 487]</td>\n",
       "      <td>1762.735537</td>\n",
       "    </tr>\n",
       "    <tr>\n",
       "      <th>145</th>\n",
       "      <td>7</td>\n",
       "      <td>71</td>\n",
       "      <td>[406, 407, 405, 397, 384, 374, 367, 368, 361, ...</td>\n",
       "      <td>[142, 157, 128, 124, 122, 131, 146, 157, 161, ...</td>\n",
       "      <td>858.657550</td>\n",
       "    </tr>\n",
       "    <tr>\n",
       "      <th>146</th>\n",
       "      <td>30</td>\n",
       "      <td>68</td>\n",
       "      <td>[109, 132, 165, 159, 123, 167, 164, 120, 134, ...</td>\n",
       "      <td>[123, 126, 127, 119, 120, 106, 98, 112, 99, 85...</td>\n",
       "      <td>601.967861</td>\n",
       "    </tr>\n",
       "    <tr>\n",
       "      <th>147</th>\n",
       "      <td>32</td>\n",
       "      <td>76</td>\n",
       "      <td>[390, 382, 364, 358, 307, 278, 251, 222, 210, ...</td>\n",
       "      <td>[277, 334, 368, 384, 390, 390, 380, 325, 289, ...</td>\n",
       "      <td>2533.966699</td>\n",
       "    </tr>\n",
       "    <tr>\n",
       "      <th>148</th>\n",
       "      <td>27</td>\n",
       "      <td>68</td>\n",
       "      <td>[234, 224, 50, 55]</td>\n",
       "      <td>[637, 469, 482, 635]</td>\n",
       "      <td>338.987993</td>\n",
       "    </tr>\n",
       "    <tr>\n",
       "      <th>149</th>\n",
       "      <td>33</td>\n",
       "      <td>72</td>\n",
       "      <td>[476, 490, 508, 529, 547, 565, 576, 594, 606, ...</td>\n",
       "      <td>[389, 392, 394, 395, 393, 391, 383, 363, 342, ...</td>\n",
       "      <td>3612.266002</td>\n",
       "    </tr>\n",
       "    <tr>\n",
       "      <th>150</th>\n",
       "      <td>38</td>\n",
       "      <td>82</td>\n",
       "      <td>[297, 292, 293, 294, 292, 291, 295, 309, 323, ...</td>\n",
       "      <td>[140, 188, 240, 278, 307, 319, 331, 328, 324, ...</td>\n",
       "      <td>875.888388</td>\n",
       "    </tr>\n",
       "    <tr>\n",
       "      <th>151</th>\n",
       "      <td>26</td>\n",
       "      <td>83</td>\n",
       "      <td>[22, 39, 62, 85, 90, 98, 114, 135, 134, 120, 1...</td>\n",
       "      <td>[295, 328, 384, 431, 436, 449, 447, 439, 428, ...</td>\n",
       "      <td>538.847072</td>\n",
       "    </tr>\n",
       "    <tr>\n",
       "      <th>152</th>\n",
       "      <td>29</td>\n",
       "      <td>84</td>\n",
       "      <td>[498, 410, 515, 564, 588, 543]</td>\n",
       "      <td>[191, 105, 57, 60, 93, 164]</td>\n",
       "      <td>1544.718389</td>\n",
       "    </tr>\n",
       "    <tr>\n",
       "      <th>153</th>\n",
       "      <td>32</td>\n",
       "      <td>90</td>\n",
       "      <td>[366, 377, 385, 390, 389, 383, 371, 361, 353, ...</td>\n",
       "      <td>[129, 182, 217, 253, 290, 322, 355, 375, 385, ...</td>\n",
       "      <td>1122.489712</td>\n",
       "    </tr>\n",
       "    <tr>\n",
       "      <th>154</th>\n",
       "      <td>40</td>\n",
       "      <td>92</td>\n",
       "      <td>[127, 145, 158, 156, 154, 161, 173, 172, 176, ...</td>\n",
       "      <td>[199, 183, 182, 171, 160, 153, 159, 173, 179, ...</td>\n",
       "      <td>538.808638</td>\n",
       "    </tr>\n",
       "    <tr>\n",
       "      <th>155</th>\n",
       "      <td>36</td>\n",
       "      <td>93</td>\n",
       "      <td>[10, 21, 30, 47, 59, 78, 98, 118, 127, 144, 16...</td>\n",
       "      <td>[60, 72, 92, 122, 145, 183, 224, 268, 289, 325...</td>\n",
       "      <td>1552.621057</td>\n",
       "    </tr>\n",
       "    <tr>\n",
       "      <th>156</th>\n",
       "      <td>7</td>\n",
       "      <td>92</td>\n",
       "      <td>[360, 364, 368, 379, 390, 399, 407, 406, 402, ...</td>\n",
       "      <td>[162, 156, 137, 125, 123, 124, 137, 146, 159, ...</td>\n",
       "      <td>613.164053</td>\n",
       "    </tr>\n",
       "  </tbody>\n",
       "</table>\n",
       "<p>114 rows × 5 columns</p>\n",
       "</div>"
      ],
      "text/plain": [
       "     object_id  worker_id                                             x_locs  \\\n",
       "33          45         68    [103, 105, 98, 71, 50, 44, 44, 72, 91, 98, 104]   \n",
       "38          20          4                     [488, 492, 413, 361, 347, 410]   \n",
       "39          18          6                               [107, 309, 312, 107]   \n",
       "40           9          7  [259, 258, 288, 299, 305, 352, 348, 354, 362, ...   \n",
       "41          13          7  [255, 289, 296, 301, 301, 305, 302, 301, 307, ...   \n",
       "42          20          8                               [106, 305, 309, 114]   \n",
       "43          14          9  [457, 463, 469, 477, 483, 492, 500, 514, 527, ...   \n",
       "44          12          8           [300, 402, 387, 381, 333, 311, 309, 307]   \n",
       "45          18          9  [134, 196, 258, 308, 313, 306, 274, 264, 252, ...   \n",
       "46          16         10  [353, 420, 421, 421, 421, 419, 417, 414, 411, ...   \n",
       "47           9         11  [257, 284, 305, 321, 344, 352, 360, 372, 383, ...   \n",
       "48          15         12                [383, 392, 402, 413, 426, 432, 432]   \n",
       "49          14         12  [477, 493, 498, 511, 514, 523, 532, 532, 544, ...   \n",
       "50          21         13                               [232, 291, 293, 236]   \n",
       "57          12          6                          [302, 305, 371, 393, 406]   \n",
       "58          22          6                     [370, 385, 396, 399, 385, 370]   \n",
       "59          13          6  [308, 285, 272, 271, 251, 228, 204, 186, 180, ...   \n",
       "60           9         15  [259, 274, 291, 301, 274, 294, 307, 302, 317, ...   \n",
       "61          16         15  [356, 353, 352, 350, 350, 350, 350, 351, 353, ...   \n",
       "62          20         16      [108, 309, 309, 267, 236, 207, 166, 153, 110]   \n",
       "63          15         16                     [384, 396, 424, 429, 431, 391]   \n",
       "64          16          8  [369, 414, 364, 356, 425, 414, 375, 420, 366, ...   \n",
       "65          13         17  [270, 282, 299, 310, 305, 292, 254, 180, 189, ...   \n",
       "66          19         18                [73, 91, 109, 110, 113, 88, 65, 66]   \n",
       "67          11         19  [391, 402, 411, 422, 430, 430, 423, 416, 407, ...   \n",
       "68          11         20  [347, 353, 387, 396, 417, 427, 429, 410, 381, ...   \n",
       "69          22         24  [81, 67, 66, 68, 68, 68, 74, 73, 76, 84, 92, 1...   \n",
       "70          12         23  [309, 392, 393, 395, 397, 394, 391, 307, 309, ...   \n",
       "71          11         22  [350, 357, 367, 377, 383, 384, 392, 402, 415, ...   \n",
       "72          16         25  [419, 420, 418, 418, 418, 412, 410, 407, 394, ...   \n",
       "..         ...        ...                                                ...   \n",
       "127         21         57                               [231, 296, 300, 231]   \n",
       "128          9         59                     [260, 258, 309, 383, 385, 355]   \n",
       "129         13         59           [255, 179, 191, 225, 270, 314, 290, 301]   \n",
       "130         15         60  [429, 418, 404, 392, 383, 393, 403, 417, 429, ...   \n",
       "131          8         59  [311, 374, 444, 484, 505, 526, 533, 546, 388, ...   \n",
       "132         17         59  [116, 156, 174, 186, 201, 205, 163, 134, 115, ...   \n",
       "133         14         59  [505, 555, 575, 581, 583, 571, 543, 516, 504, ...   \n",
       "134          8         54  [352, 190, 184, 129, 126, 146, 195, 232, 254, ...   \n",
       "135         14         65  [482, 497, 521, 530, 533, 544, 560, 570, 575, ...   \n",
       "136         19         63  [73, 80, 87, 98, 107, 113, 112, 113, 111, 110,...   \n",
       "137         44         66  [243, 226, 226, 237, 216, 216, 233, 233, 233, ...   \n",
       "138         43         66  [184, 166, 167, 172, 156, 142, 130, 112, 110, ...   \n",
       "139         23         66                          [453, 395, 473, 537, 504]   \n",
       "140         32         66                [271, 363, 393, 363, 250, 221, 224]   \n",
       "141         38         68  [492, 491, 485, 292, 288, 313, 323, 388, 408, ...   \n",
       "142         45         73                                  [44, 92, 103, 53]   \n",
       "143         29         76  [529, 530, 587, 604, 611, 606, 580, 558, 477, ...   \n",
       "144         42         75      [184, 178, 173, 170, 163, 152, 157, 163, 174]   \n",
       "145          7         71  [406, 407, 405, 397, 384, 374, 367, 368, 361, ...   \n",
       "146         30         68  [109, 132, 165, 159, 123, 167, 164, 120, 134, ...   \n",
       "147         32         76  [390, 382, 364, 358, 307, 278, 251, 222, 210, ...   \n",
       "148         27         68                                 [234, 224, 50, 55]   \n",
       "149         33         72  [476, 490, 508, 529, 547, 565, 576, 594, 606, ...   \n",
       "150         38         82  [297, 292, 293, 294, 292, 291, 295, 309, 323, ...   \n",
       "151         26         83  [22, 39, 62, 85, 90, 98, 114, 135, 134, 120, 1...   \n",
       "152         29         84                     [498, 410, 515, 564, 588, 543]   \n",
       "153         32         90  [366, 377, 385, 390, 389, 383, 371, 361, 353, ...   \n",
       "154         40         92  [127, 145, 158, 156, 154, 161, 173, 172, 176, ...   \n",
       "155         36         93  [10, 21, 30, 47, 59, 78, 98, 118, 127, 144, 16...   \n",
       "156          7         92  [360, 364, 368, 379, 390, 399, 407, 406, 402, ...   \n",
       "\n",
       "                                                y_locs  \\\n",
       "33   [152, 204, 208, 208, 208, 200, 145, 135, 139, ...   \n",
       "38                      [178, 354, 360, 331, 179, 177]   \n",
       "39                                [173, 170, 337, 343]   \n",
       "40   [217, 268, 269, 284, 287, 282, 276, 273, 279, ...   \n",
       "41   [269, 272, 278, 286, 294, 303, 318, 325, 328, ...   \n",
       "42                                [172, 171, 333, 340]   \n",
       "43   [234, 219, 209, 198, 198, 207, 216, 210, 206, ...   \n",
       "44            [287, 436, 441, 439, 357, 327, 309, 320]   \n",
       "45   [170, 170, 170, 169, 258, 330, 338, 337, 352, ...   \n",
       "46   [479, 479, 460, 452, 440, 428, 416, 406, 396, ...   \n",
       "47   [216, 207, 203, 200, 194, 194, 205, 218, 233, ...   \n",
       "48                        [60, 55, 46, 47, 49, 55, 62]   \n",
       "49   [197, 206, 211, 211, 204, 204, 204, 212, 209, ...   \n",
       "50                                  [55, 53, 110, 110]   \n",
       "57                           [287, 320, 433, 447, 432]   \n",
       "58                      [127, 124, 128, 174, 178, 175]   \n",
       "59   [329, 359, 386, 400, 397, 398, 379, 371, 343, ...   \n",
       "60   [269, 267, 264, 260, 270, 274, 289, 287, 288, ...   \n",
       "61   [478, 466, 457, 449, 441, 434, 427, 418, 410, ...   \n",
       "62       [172, 172, 332, 341, 361, 361, 356, 348, 340]   \n",
       "63                            [58, 49, 51, 58, 65, 62]   \n",
       "64   [368, 475, 478, 391, 416, 469, 374, 412, 379, ...   \n",
       "65   [393, 362, 340, 332, 279, 272, 264, 335, 369, ...   \n",
       "66            [259, 253, 259, 288, 357, 363, 358, 279]   \n",
       "67   [350, 353, 356, 356, 348, 341, 335, 331, 327, ...   \n",
       "68   [275, 273, 307, 327, 334, 344, 356, 362, 347, ...   \n",
       "69   [364, 356, 332, 313, 293, 282, 274, 267, 260, ...   \n",
       "70   [289, 416, 441, 439, 428, 428, 416, 287, 322, ...   \n",
       "71   [278, 289, 297, 313, 324, 336, 346, 349, 354, ...   \n",
       "72   [479, 470, 459, 443, 427, 410, 398, 389, 378, ...   \n",
       "..                                                 ...   \n",
       "127                                 [54, 55, 112, 111]   \n",
       "128                     [213, 266, 286, 278, 233, 191]   \n",
       "129           [265, 343, 373, 399, 401, 330, 271, 285]   \n",
       "130           [53, 46, 45, 52, 59, 63, 64, 64, 65, 61]   \n",
       "131  [175, 126, 120, 134, 165, 205, 214, 245, 210, ...   \n",
       "132  [136, 137, 146, 155, 167, 172, 177, 180, 191, ...   \n",
       "133  [190, 216, 234, 268, 305, 329, 363, 368, 384, ...   \n",
       "134  [191, 252, 246, 252, 260, 262, 259, 256, 257, ...   \n",
       "135  [202, 212, 208, 220, 212, 218, 230, 238, 256, ...   \n",
       "136  [358, 365, 365, 364, 362, 357, 349, 343, 337, ...   \n",
       "137  [263, 273, 292, 306, 318, 338, 343, 364, 400, ...   \n",
       "138  [299, 314, 335, 349, 369, 372, 391, 424, 433, ...   \n",
       "139                          [112, 254, 287, 142, 113]   \n",
       "140                [131, 132, 287, 387, 386, 312, 235]   \n",
       "141  [172, 283, 323, 331, 145, 139, 121, 121, 136, ...   \n",
       "142                               [140, 136, 195, 205]   \n",
       "143  [136, 166, 234, 267, 301, 333, 379, 397, 391, ...   \n",
       "144      [487, 495, 514, 523, 528, 525, 506, 494, 487]   \n",
       "145  [142, 157, 128, 124, 122, 131, 146, 157, 161, ...   \n",
       "146  [123, 126, 127, 119, 120, 106, 98, 112, 99, 85...   \n",
       "147  [277, 334, 368, 384, 390, 390, 380, 325, 289, ...   \n",
       "148                               [637, 469, 482, 635]   \n",
       "149  [389, 392, 394, 395, 393, 391, 383, 363, 342, ...   \n",
       "150  [140, 188, 240, 278, 307, 319, 331, 328, 324, ...   \n",
       "151  [295, 328, 384, 431, 436, 449, 447, 439, 428, ...   \n",
       "152                        [191, 105, 57, 60, 93, 164]   \n",
       "153  [129, 182, 217, 253, 290, 322, 355, 375, 385, ...   \n",
       "154  [199, 183, 182, 171, 160, 153, 159, 173, 179, ...   \n",
       "155  [60, 72, 92, 122, 145, 183, 224, 268, 289, 325...   \n",
       "156  [162, 156, 137, 125, 123, 124, 137, 146, 159, ...   \n",
       "\n",
       "     MunkresEuclidean [Self]  \n",
       "33                418.810412  \n",
       "38               1049.706388  \n",
       "39                754.411039  \n",
       "40                173.470154  \n",
       "41                354.667423  \n",
       "42              11353.621557  \n",
       "43                730.239870  \n",
       "44               1186.145980  \n",
       "45                870.769756  \n",
       "46                277.345300  \n",
       "47                510.753600  \n",
       "48              18846.982468  \n",
       "49                816.871104  \n",
       "50                214.191973  \n",
       "57                814.248569  \n",
       "58                187.534805  \n",
       "59                302.703349  \n",
       "60                841.809189  \n",
       "61                176.621599  \n",
       "62              11346.544696  \n",
       "63              18835.600911  \n",
       "64               1074.303167  \n",
       "65                287.585440  \n",
       "66                399.746370  \n",
       "67                215.842138  \n",
       "68                202.428297  \n",
       "69              16922.691555  \n",
       "70               1011.041241  \n",
       "71                350.280175  \n",
       "72                200.172216  \n",
       "..                       ...  \n",
       "127                90.410946  \n",
       "128               440.586098  \n",
       "129               666.895059  \n",
       "130             18936.855468  \n",
       "131              3542.795885  \n",
       "132               592.955685  \n",
       "133              1041.416189  \n",
       "134              4432.281620  \n",
       "135               419.461257  \n",
       "136               633.930008  \n",
       "137               686.674408  \n",
       "138               695.984569  \n",
       "139               608.034761  \n",
       "140               595.999025  \n",
       "141              1099.912429  \n",
       "142               557.258149  \n",
       "143              5240.442003  \n",
       "144              1762.735537  \n",
       "145               858.657550  \n",
       "146               601.967861  \n",
       "147              2533.966699  \n",
       "148               338.987993  \n",
       "149              3612.266002  \n",
       "150               875.888388  \n",
       "151               538.847072  \n",
       "152              1544.718389  \n",
       "153              1122.489712  \n",
       "154               538.808638  \n",
       "155              1552.621057  \n",
       "156               613.164053  \n",
       "\n",
       "[114 rows x 5 columns]"
      ]
     },
     "execution_count": 249,
     "metadata": {},
     "output_type": "execute_result"
    }
   ],
   "source": [
    "%%time\n",
    "bb_info[~bb_info[\"MunkresEuclidean [Self]\"].isnull()]"
   ]
  },
  {
   "cell_type": "code",
   "execution_count": 246,
   "metadata": {
    "collapsed": true
   },
   "outputs": [],
   "source": [
    "from tqdm import tqdm"
   ]
  },
  {
   "cell_type": "code",
   "execution_count": null,
   "metadata": {
    "collapsed": false,
    "scrolled": true
   },
   "outputs": [
    {
     "name": "stderr",
     "output_type": "stream",
     "text": [
      "34it [00:01, 25.01it/s]"
     ]
    }
   ],
   "source": [
    "%%time\n",
    "img_info,object_tbl,bb_info,hit_info = load_info()\n",
    "for bb in tqdm(bb_info.iterrows()):\n",
    "    try:\n",
    "        oid = bb[1][\"object_id\"]\n",
    "        bbx_path= bb[1][\"x_locs\"]\n",
    "        bby_path= bb[1][\"y_locs\"]\n",
    "        my_ground_truth_match = my_BBG[my_BBG.object_id==oid]\n",
    "        #print my_ground_truth_match\n",
    "        worker_x_locs,worker_y_locs= process_raw_locs([bbx_path,bby_path])\n",
    "        my_x_locs,my_y_locs =  process_raw_locs([my_ground_truth_match[\"x_locs\"].iloc[0],my_ground_truth_match[\"y_locs\"].iloc[0]])\n",
    "        if my_x_locs!=worker_x_locs:\n",
    "            obj_x_locs = [worker_x_locs,my_x_locs]\n",
    "            obj_y_locs = [worker_y_locs,my_y_locs]\n",
    "            interpolated_obj_x_locs,interpolated_obj_y_locs = parametric_interpolate(obj_x_locs,obj_y_locs,50,False)\n",
    "            polygon1 = zip(interpolated_obj_x_locs[0],interpolated_obj_y_locs[0])\n",
    "            polygon2 = zip(interpolated_obj_x_locs[1],interpolated_obj_y_locs[1])\n",
    "            #print  MunkresEuclidean(polygon1,polygon2)\n",
    "            bb_info = bb_info.set_value(bb[0],\"MunkresEuclidean [Self]\",MunkresEuclidean(polygon1,polygon2))\n",
    "        else:\n",
    "            #The first few BB are bound to be the same entry as the ground truth BB\n",
    "            pass\n",
    "    except(SystemError):\n",
    "        pass"
   ]
  },
  {
   "cell_type": "code",
   "execution_count": 163,
   "metadata": {
    "collapsed": true
   },
   "outputs": [],
   "source": [
    "def DistAllWorkers(obj_x_locs,obj_y_locs,dist = MunkresEuclidean):\n",
    "    '''\n",
    "    Given all worker's responses,\n",
    "    Perform pairwise distance comparison with all other workers\n",
    "    returns quality for each worker\n",
    "    '''\n",
    "    interpolated_obj_x_locs,interpolated_obj_y_locs = parametric_interpolate(obj_x_locs,obj_y_locs,50,True)\n",
    "\n",
    "    minDistList=[]\n",
    "    for i in np.arange(len(obj_x_locs)-1):\n",
    "        # Compare worker with another worker\n",
    "#         bb1 = np.array([obj_x_locs[i],obj_y_locs[i]]).T\n",
    "#         bb2  = np.array([obj_x_locs[i+1],obj_y_locs[i+1]]).T\n",
    "        bb1 = zip(interpolated_obj_x_locs[i],interpolated_obj_y_locs[i])\n",
    "        bb2 = zip(interpolated_obj_x_locs[i+1],interpolated_obj_y_locs[i+1])\n",
    "\n",
    "        minDistList.append(dist(bb1,bb2))\n",
    "    #worker's scores\n",
    "    return np.array(minDistList)/max(minDistList)"
   ]
  },
  {
   "cell_type": "code",
   "execution_count": 207,
   "metadata": {
    "collapsed": false
   },
   "outputs": [
    {
     "name": "stdout",
     "output_type": "stream",
     "text": [
      "Warning: Setting x[0][21]=x[0][0]\n",
      "Warning: Setting x[1][21]=x[1][0]\n",
      "Warning: Setting x[0][13]=x[0][0]\n",
      "Warning: Setting x[1][13]=x[1][0]\n"
     ]
    },
    {
     "data": {
      "image/png": "[encoded data removed]",
      "text/plain": [
       "<matplotlib.figure.Figure at 0x11c673510>"
      ]
     },
     "metadata": {},
     "output_type": "display_data"
    },
    {
     "data": {
      "image/png": "[encoded data removed]",
      "text/plain": [
       "<matplotlib.figure.Figure at 0x10edcfcd0>"
      ]
     },
     "metadata": {},
     "output_type": "display_data"
    }
   ],
   "source": [
    "oid = 9\n",
    "bb_info = pd.read_csv('computed_my_COCO_BBvals.csv')\n",
    "bbg_info = pd.read_csv('my_ground_truth.csv')\n",
    "worker =  bb_info[bb_info[\"object_id\"]==oid].ix[47]\n",
    "bbg = bbg_info[bb_info[\"object_id\"]==oid].ix[3]\n",
    "obj_x_locs = [ast.literal_eval(worker[\"x_locs\"]),ast.literal_eval(bbg[\"x_locs\"])]\n",
    "obj_y_locs = [ast.literal_eval(worker[\"y_locs\"]),ast.literal_eval(bbg[\"y_locs\"])]\n",
    "\n",
    "interpolated_obj_x_locs,interpolated_obj_y_locs = parametric_interpolate(obj_x_locs,obj_y_locs,50,True)\n",
    "polygon1 = zip(interpolated_obj_x_locs[0],interpolated_obj_y_locs[0])\n",
    "polygon2 = zip(interpolated_obj_x_locs[1],interpolated_obj_y_locs[1])"
   ]
  },
  {
   "cell_type": "code",
   "execution_count": 208,
   "metadata": {
    "collapsed": false
   },
   "outputs": [
    {
     "name": "stdout",
     "output_type": "stream",
     "text": [
      "(0, 49) -> 2\n",
      "(1, 48) -> 2\n",
      "(2, 10) -> 64\n",
      "(3, 47) -> 4\n",
      "(4, 46) -> 5\n",
      "(5, 45) -> 7\n",
      "(6, 21) -> 89\n",
      "(7, 44) -> 5\n",
      "(8, 22) -> 87\n",
      "(9, 43) -> 3\n",
      "(10, 42) -> 3\n",
      "(11, 41) -> 8\n",
      "(12, 40) -> 13\n",
      "(13, 38) -> 26\n",
      "(14, 39) -> 10\n",
      "(15, 37) -> 22\n",
      "(16, 36) -> 22\n",
      "(17, 35) -> 19\n",
      "(18, 34) -> 13\n",
      "(19, 33) -> 6\n",
      "(20, 32) -> 1\n",
      "(21, 31) -> 0\n",
      "(22, 30) -> 1\n",
      "(23, 29) -> 3\n",
      "(24, 28) -> 6\n",
      "(25, 27) -> 6\n",
      "(26, 26) -> 6\n",
      "(27, 25) -> 7\n",
      "(28, 24) -> 6\n",
      "(29, 23) -> 5\n",
      "(30, 20) -> 4\n",
      "(31, 19) -> 15\n",
      "(32, 18) -> 20\n",
      "(33, 17) -> 20\n",
      "(34, 16) -> 17\n",
      "(35, 15) -> 12\n",
      "(36, 14) -> 6\n",
      "(37, 13) -> 3\n",
      "(38, 12) -> 8\n",
      "(39, 11) -> 12\n",
      "(40, 9) -> 8\n",
      "(41, 8) -> 3\n",
      "(42, 7) -> 4\n",
      "(43, 6) -> 8\n",
      "(44, 5) -> 10\n",
      "(45, 4) -> 11\n",
      "(46, 3) -> 10\n",
      "(47, 2) -> 7\n",
      "(48, 1) -> 5\n",
      "(49, 0) -> 2\n"
     ]
    },
    {
     "data": {
      "text/plain": [
       "659.39823160209471"
      ]
     },
     "execution_count": 208,
     "metadata": {},
     "output_type": "execute_result"
    }
   ],
   "source": [
    "MunkresEuclidean(polygon1,polygon2)"
   ]
  },
  {
   "cell_type": "code",
   "execution_count": 181,
   "metadata": {
    "collapsed": false
   },
   "outputs": [
    {
     "name": "stdout",
     "output_type": "stream",
     "text": [
      "Warning: Setting x[0][25]=x[0][0]\n",
      "Warning: Setting x[1][25]=x[1][0]\n",
      "Warning: Setting x[0][45]=x[0][0]\n",
      "Warning: Setting x[1][45]=x[1][0]\n",
      "(0, 43) -> 5\n",
      "(1, 44) -> 2\n",
      "(2, 47) -> 34\n",
      "(3, 48) -> 38\n",
      "(4, 0) -> 43\n",
      "(5, 49) -> 39\n",
      "(6, 1) -> 42\n",
      "(7, 2) -> 42\n",
      "(8, 3) -> 42\n",
      "(9, 4) -> 37\n",
      "(10, 5) -> 22\n",
      "(11, 6) -> 12\n",
      "(12, 7) -> 12\n",
      "(13, 8) -> 12\n",
      "(14, 9) -> 10\n",
      "(15, 10) -> 11\n",
      "(16, 11) -> 15\n",
      "(17, 12) -> 14\n",
      "(18, 13) -> 9\n",
      "(19, 14) -> 5\n",
      "(20, 15) -> 6\n",
      "(21, 16) -> 9\n",
      "(22, 17) -> 11\n",
      "(23, 18) -> 16\n",
      "(24, 19) -> 21\n",
      "(25, 20) -> 26\n",
      "(26, 21) -> 27\n",
      "(27, 22) -> 23\n",
      "(28, 23) -> 23\n",
      "(29, 24) -> 22\n",
      "(30, 25) -> 9\n",
      "(31, 26) -> 14\n",
      "(32, 27) -> 15\n",
      "(33, 28) -> 23\n",
      "(34, 30) -> 7\n",
      "(35, 29) -> 32\n",
      "(36, 31) -> 17\n",
      "(37, 32) -> 14\n",
      "(38, 33) -> 13\n",
      "(39, 34) -> 12\n",
      "(40, 35) -> 8\n",
      "(41, 36) -> 7\n",
      "(42, 37) -> 9\n",
      "(43, 38) -> 3\n",
      "(44, 39) -> 1\n",
      "(45, 40) -> 6\n",
      "(46, 41) -> 12\n",
      "(47, 42) -> 16\n",
      "(48, 46) -> 49\n",
      "(49, 45) -> 25\n"
     ]
    },
    {
     "data": {
      "text/plain": [
       "array([ 1.])"
      ]
     },
     "execution_count": 181,
     "metadata": {},
     "output_type": "execute_result"
    }
   ],
   "source": [
    "DistAllWorkers(obj_x_locs,obj_y_locs)"
   ]
  },
  {
   "cell_type": "markdown",
   "metadata": {},
   "source": [
    "---------------------------------------------------------------------------------------------------"
   ]
  },
  {
   "cell_type": "code",
   "execution_count": 4,
   "metadata": {
    "collapsed": false,
    "scrolled": true
   },
   "outputs": [
    {
     "name": "stderr",
     "output_type": "stream",
     "text": [
      "/Users/dorislee/.virtualenvs/py27dev/lib/python2.7/site-packages/pandas/io/parsers.py:648: ParserWarning: Falling back to the 'python' engine because the 'c' engine does not support skip_footer; you can avoid this warning by specifying engine='python'.\n",
      "  ParserWarning)\n"
     ]
    }
   ],
   "source": [
    "import ast\n",
    "from qualityBaseline import * \n",
    "from pycocotools.coco import COCO\n",
    "import matplotlib.image as mpimg\n",
    "save_db_as_csv(connect=False)\n",
    "img_info,object_tbl,bb_info,hit_info = load_info()"
   ]
  },
  {
   "cell_type": "code",
   "execution_count": 5,
   "metadata": {
    "collapsed": false
   },
   "outputs": [],
   "source": [
    "all_x_locs = bb_info[\"x_locs\"]\n",
    "all_y_locs = bb_info[\"y_locs\"]"
   ]
  },
  {
   "cell_type": "code",
   "execution_count": 6,
   "metadata": {
    "collapsed": false
   },
   "outputs": [
    {
     "name": "stdout",
     "output_type": "stream",
     "text": [
      "loading annotations into memory...\n",
      "Done (t=23.77s)\n",
      "creating index...\n",
      "index created!\n"
     ]
    }
   ],
   "source": [
    "dataDir='../../coco/'\n",
    "dataType='train2014'\n",
    "annFile='%s/annotations/instances_%s.json'%(dataDir,dataType)\n",
    "# initialize COCO api for instance annotations\n",
    "coco=COCO(annFile)"
   ]
  },
  {
   "cell_type": "code",
   "execution_count": 7,
   "metadata": {
    "collapsed": false
   },
   "outputs": [],
   "source": [
    "ground_truth = pd.read_csv(\"../../data/object_ground_truth.csv\")"
   ]
  },
  {
   "cell_type": "code",
   "execution_count": 8,
   "metadata": {
    "collapsed": false
   },
   "outputs": [],
   "source": [
    "def process_raw_locs(segmentation,COCO=False):\n",
    "    '''\n",
    "    Given a raw string of x and y coordinates, process it\n",
    "    return a list of x_locs and y_locs\n",
    "    '''\n",
    "    x_locs=[]\n",
    "    y_locs=[]\n",
    "    if COCO:\n",
    "        #COCO\n",
    "#         print \"Process COCO\"\n",
    "        poly = np.array(segmentation).reshape((len(segmentation)/2, 2))\n",
    "        x_locs = list(poly[:,0])\n",
    "        y_locs = list(poly[:,1])\n",
    "    else: \n",
    "        bbx_path,bby_path = segmentation\n",
    "        x_locs = [x for x in ast.literal_eval(bbx_path) if x is not None]\n",
    "        y_locs = [y for y in ast.literal_eval(bby_path) if y is not None]\n",
    "\n",
    "\n",
    "    # Append the starting point again in the end to close the BB\n",
    "    x_locs.append(x_locs[0])\n",
    "    y_locs.append(y_locs[0])\n",
    "    return x_locs,y_locs"
   ]
  },
  {
   "cell_type": "code",
   "execution_count": 10,
   "metadata": {
    "collapsed": true
   },
   "outputs": [],
   "source": [
    "bb_info['COCO Majority Vote'] = pd.Series(np.zeros(len(bb_info)), index=bb_info.index)"
   ]
  },
  {
   "cell_type": "markdown",
   "metadata": {},
   "source": [
    "#Installing shapely\n",
    "``\n",
    "pip install shapely==1.6b2\n",
    "``"
   ]
  },
  {
   "cell_type": "code",
   "execution_count": 16,
   "metadata": {
    "collapsed": false
   },
   "outputs": [
    {
     "data": {
      "text/plain": [
       "0.047150670955882656"
      ]
     },
     "execution_count": 16,
     "metadata": {},
     "output_type": "execute_result"
    }
   ],
   "source": [
    "# Example polygon \n",
    "xy = [[130.21001, 27.200001], [129.52, 27.34], [129.45, 27.1], [130.13, 26.950001]]\n",
    "polygon_shape = Polygon(xy)\n",
    "# Example grid cell\n",
    "gridcell_shape = box(129.5, -27.0, 129.75, 27.25)\n",
    "# The intersection\n",
    "polygon_shape.intersection(gridcell_shape).area"
   ]
  },
  {
   "cell_type": "code",
   "execution_count": 34,
   "metadata": {
    "collapsed": false
   },
   "outputs": [
    {
     "data": {
      "text/plain": [
       "1.0"
      ]
     },
     "execution_count": 34,
     "metadata": {},
     "output_type": "execute_result"
    }
   ],
   "source": [
    "obj_x_locs=[[1,3,3,1],[2,5,5,2]]\n",
    "obj_y_locs=[[3,3,1,1],[2,2,0,0]]\n",
    "polygon1 = Polygon(zip(obj_x_locs[0],obj_y_locs[0]))\n",
    "polygon2 = Polygon(zip(obj_x_locs[1],obj_y_locs[1]))\n",
    "polygon1.intersection(polygon2).area"
   ]
  },
  {
   "cell_type": "code",
   "execution_count": 109,
   "metadata": {
    "collapsed": true
   },
   "outputs": [],
   "source": [
    "from shapely.geometry import box,Polygon\n",
    "def intersection(obj_x_locs,obj_y_locs,debug=False):\n",
    "    # Compute intersecting area\n",
    "    polygon1 = Polygon(zip(obj_x_locs[0],obj_y_locs[0])).buffer(0)\n",
    "    polygon2 = Polygon(zip(obj_x_locs[1],obj_y_locs[1])).buffer(0)\n",
    "    if debug : plt.imshow(polygon1.intersection(polygon2),interpolation=\"None\")\n",
    "    return polygon1.intersection(polygon2).area"
   ]
  },
  {
   "cell_type": "code",
   "execution_count": 110,
   "metadata": {
    "collapsed": false
   },
   "outputs": [],
   "source": [
    "def union(obj_x_locs,obj_y_locs,debug=False):\n",
    "    # Compute union area of two given polygon \n",
    "    polygon1 = Polygon(zip(obj_x_locs[0],obj_y_locs[0])).buffer(0)\n",
    "    polygon2 = Polygon(zip(obj_x_locs[1],obj_y_locs[1])).buffer(0)\n",
    "    if debug : plt.imshow(polygon1.union(polygon2),interpolation=\"None\")\n",
    "    return polygon1.union(polygon2).area"
   ]
  },
  {
   "cell_type": "code",
   "execution_count": 111,
   "metadata": {
    "collapsed": true
   },
   "outputs": [],
   "source": [
    "def majority_vote(obj_x_locs,obj_y_locs): \n",
    "    '''\n",
    "    Jaccard Simmilarity or Overlap Method\n",
    "    used for PASCAL VOC challenge\n",
    "    ''' \n",
    "    return intersection(obj_x_locs,obj_y_locs)/union(obj_x_locs,obj_y_locs)"
   ]
  },
  {
   "cell_type": "code",
   "execution_count": 112,
   "metadata": {
    "collapsed": false
   },
   "outputs": [],
   "source": [
    "def precision(obj_x_locs,obj_y_locs):\n",
    "    worker_bb = Polygon(zip(obj_x_locs[0],obj_y_locs[0]))\n",
    "    worker_bb_area  = worker_bb.area\n",
    "#     print \"Intersection: \", intersection(obj_x_locs,obj_y_locs)\n",
    "#     print \"Worker BB area: \",worker_bb_area\n",
    "    return intersection(obj_x_locs,obj_y_locs)/float(worker_bb_area)"
   ]
  },
  {
   "cell_type": "code",
   "execution_count": 113,
   "metadata": {
    "collapsed": true
   },
   "outputs": [],
   "source": [
    "def recall(obj_x_locs,obj_y_locs):\n",
    "    truth_bb = Polygon(zip(obj_x_locs[1],obj_y_locs[1]))\n",
    "    truth_bb_area  = truth_bb.area\n",
    "    return intersection(obj_x_locs,obj_y_locs)/float(truth_bb_area)"
   ]
  },
  {
   "cell_type": "code",
   "execution_count": 114,
   "metadata": {
    "collapsed": false
   },
   "outputs": [
    {
     "name": "stdout",
     "output_type": "stream",
     "text": [
      "Check ``union``:  True\n",
      "Check ``intersection``:  True\n",
      "Check ``majority_vote``:  True\n",
      "Check ``precision``:  True\n",
      "Check ``recall``:  True\n"
     ]
    }
   ],
   "source": [
    "# 2 simple overlapping rectangle test example \n",
    "obj_x_locs=[[1,3,3,1],[2,5,5,2]]\n",
    "obj_y_locs=[[3,3,1,1],[2,2,0,0]]\n",
    "print \"Check ``union``: \", union(obj_x_locs,obj_y_locs) == 9\n",
    "print \"Check ``intersection``: \", intersection(obj_x_locs,obj_y_locs) == 1.\n",
    "print \"Check ``majority_vote``: \", majority_vote(obj_x_locs,obj_y_locs) == 1./9\n",
    "print \"Check ``precision``: \", precision(obj_x_locs,obj_y_locs) == 1./4\n",
    "print \"Check ``recall``: \", recall(obj_x_locs,obj_y_locs) == 1./6"
   ]
  },
  {
   "cell_type": "markdown",
   "metadata": {},
   "source": [
    "### Visualize all bounding boxes drawn by me , see which one is bad and redraw BBG "
   ]
  },
  {
   "cell_type": "code",
   "execution_count": 73,
   "metadata": {
    "collapsed": true
   },
   "outputs": [],
   "source": [
    "ground_truth = pd.read_csv(\"../../data/object_ground_truth.csv\")\n",
    "worker_info = pd.read_csv(\"../../data/worker.csv\",skipfooter=1)\n",
    "my_BBG  = pd.read_csv(\"my_ground_truth.csv\")"
   ]
  },
  {
   "cell_type": "markdown",
   "metadata": {},
   "source": [
    "### Computing measures against my BBG and COCO"
   ]
  },
  {
   "cell_type": "code",
   "execution_count": 105,
   "metadata": {
    "collapsed": true
   },
   "outputs": [],
   "source": [
    "polygon1 = Polygon(zip(obj_x_locs[0],obj_y_locs[0])).buffer(0)\n",
    "polygon2 = Polygon(zip(obj_x_locs[1],obj_y_locs[1])).buffer(0)"
   ]
  },
  {
   "cell_type": "code",
   "execution_count": 107,
   "metadata": {
    "collapsed": false
   },
   "outputs": [
    {
     "data": {
      "image/svg+xml": [
       "<svg xmlns=\"http://www.w3.org/2000/svg\" xmlns:xlink=\"http://www.w3.org/1999/xlink\" width=\"100.0\" height=\"100.0\" viewBox=\"357.84 118.84 69.32 85.32\" preserveAspectRatio=\"xMinYMin meet\"><g transform=\"matrix(1,0,0,-1,0,323.0)\"><path fill-rule=\"evenodd\" fill=\"#66cc99\" stroke=\"#555555\" stroke-width=\"1.7064\" opacity=\"0.6\" d=\"M 406.2,145.4 L 405.0,128.0 L 397.0,124.0 L 384.0,122.0 L 374.0,131.0 L 367.0,146.0 L 368.0,157.0 L 361.0,161.0 L 363.0,169.0 L 365.0,181.0 L 406.0,187.0 L 412.0,190.0 L 417.0,201.0 L 421.0,191.0 L 424.0,185.0 L 417.0,171.0 L 413.0,161.0 L 407.0,159.0 L 406.2,145.4 z\" /></g></svg>"
      ],
      "text/plain": [
       "<shapely.geometry.polygon.Polygon at 0x11613fd10>"
      ]
     },
     "execution_count": 107,
     "metadata": {},
     "output_type": "execute_result"
    }
   ],
   "source": [
    "polygon1"
   ]
  },
  {
   "cell_type": "code",
   "execution_count": 108,
   "metadata": {
    "collapsed": false
   },
   "outputs": [
    {
     "data": {
      "image/svg+xml": [
       "<svg xmlns=\"http://www.w3.org/2000/svg\" xmlns:xlink=\"http://www.w3.org/1999/xlink\" width=\"100.0\" height=\"100.0\" viewBox=\"357.5652 118.7452 65.5296 78.9696\" preserveAspectRatio=\"xMinYMin meet\"><g transform=\"matrix(1,0,0,-1,0,316.46)\"><path fill-rule=\"evenodd\" fill=\"#66cc99\" stroke=\"#555555\" stroke-width=\"1.579392\" opacity=\"0.6\" d=\"M 360.49,162.85 L 361.33,172.93 L 367.22,186.38 L 375.62,186.38 L 393.27,185.54 L 416.8,194.79 L 420.17,193.95 L 419.33,180.5 L 411.76,167.89 L 406.72,157.81 L 405.04,146.04 L 402.52,130.07 L 394.11,123.35 L 378.98,121.67 L 371.42,133.43 L 367.22,149.4 L 360.49,162.85 z\" /></g></svg>"
      ],
      "text/plain": [
       "<shapely.geometry.polygon.Polygon at 0x1160fbfd0>"
      ]
     },
     "execution_count": 108,
     "metadata": {},
     "output_type": "execute_result"
    }
   ],
   "source": [
    "polygon2"
   ]
  },
  {
   "cell_type": "code",
   "execution_count": 106,
   "metadata": {
    "collapsed": false
   },
   "outputs": [
    {
     "data": {
      "image/svg+xml": [
       "<svg xmlns=\"http://www.w3.org/2000/svg\" xmlns:xlink=\"http://www.w3.org/1999/xlink\" width=\"100.0\" height=\"100.0\" viewBox=\"358.234991284 119.298931163 64.791244483 78.3945714846\" preserveAspectRatio=\"xMinYMin meet\"><g transform=\"matrix(1,0,0,-1,0,316.992433811)\"><path fill-rule=\"evenodd\" fill=\"#66cc99\" stroke=\"#555555\" stroke-width=\"1.56789142969\" opacity=\"0.6\" d=\"M 394.428325773,123.604357811 L 389.312244656,122.817268409 L 383.775073544,122.202433811 L 374.0,131.0 L 369.552855093,140.529596229 L 367.286205565,149.148261219 L 368.0,157.0 L 361.582135951,160.667350885 L 361.138493931,161.553975725 L 363.0,169.0 L 365.0,181.0 L 406.0,187.0 L 412.0,190.0 L 413.60665867,193.534649073 L 416.8,194.79 L 419.781239288,194.04690178 L 420.122733119,193.193167203 L 419.33,180.5 L 411.76,167.89 L 407.378,159.126 L 407.0,159.0 L 406.958,158.286 L 406.72,157.81 L 405.04,146.04 L 402.52,130.07 L 394.428325773,123.604357811 z\" /></g></svg>"
      ],
      "text/plain": [
       "<shapely.geometry.polygon.Polygon at 0x1196c1650>"
      ]
     },
     "execution_count": 106,
     "metadata": {},
     "output_type": "execute_result"
    }
   ],
   "source": [
    "polygon1.intersection(polygon2)"
   ]
  },
  {
   "cell_type": "code",
   "execution_count": 147,
   "metadata": {
    "collapsed": false
   },
   "outputs": [
    {
     "data": {
      "image/svg+xml": [
       "<svg xmlns=\"http://www.w3.org/2000/svg\" xmlns:xlink=\"http://www.w3.org/1999/xlink\" width=\"100.0\" height=\"100.0\" viewBox=\"357.3168 118.4968 69.8564 85.6764\" preserveAspectRatio=\"xMinYMin meet\"><g transform=\"matrix(1,0,0,-1,0,322.67)\"><path fill-rule=\"evenodd\" fill=\"#66cc99\" stroke=\"#555555\" stroke-width=\"1.713528\" opacity=\"0.6\" d=\"M 406.2,145.4 L 405.0,128.0 L 397.0,124.0 L 394.428325773,123.604357811 L 394.11,123.35 L 389.312244656,122.817268409 L 384.0,122.0 L 383.775073544,122.202433811 L 378.98,121.67 L 371.42,133.43 L 369.552855093,140.529596229 L 367.0,146.0 L 367.286205565,149.148261219 L 367.22,149.4 L 361.582135951,160.667350885 L 361.0,161.0 L 361.138493931,161.553975725 L 360.49,162.85 L 361.33,172.93 L 367.22,186.38 L 375.62,186.38 L 393.27,185.54 L 413.60665867,193.534649073 L 417.0,201.0 L 419.781239288,194.04690178 L 420.17,193.95 L 420.122733119,193.193167203 L 421.0,191.0 L 424.0,185.0 L 417.0,171.0 L 413.0,161.0 L 407.378,159.126 L 406.958,158.286 L 406.2,145.4 z\" /></g></svg>"
      ],
      "text/plain": [
       "<shapely.geometry.polygon.Polygon at 0x11c994a10>"
      ]
     },
     "execution_count": 147,
     "metadata": {},
     "output_type": "execute_result"
    }
   ],
   "source": [
    "polygon1.union(polygon2)"
   ]
  },
  {
   "cell_type": "code",
   "execution_count": 116,
   "metadata": {
    "collapsed": false,
    "scrolled": false
   },
   "outputs": [],
   "source": [
    "for i in np.arange(len(img_info)):\n",
    "    img_name = img_info[\"filename\"][i]\n",
    "    if 'COCO' in img_name:\n",
    "        img_id = int(img_name.split('_')[-1])\n",
    "        filtered_object_tbl = object_tbl[object_tbl[\"image_id\"]==i+1]\n",
    "        annIds = coco.getAnnIds(imgIds=img_id, iscrowd=None)\n",
    "        anns = coco.loadAnns(annIds)\n",
    "        #for oid,bbx_path,bby_path in zip(bb_info[\"object_id\"],bb_info[\"x_locs\"],bb_info[\"y_locs\"]):\n",
    "        for bb in bb_info.iterrows():\n",
    "            oid = bb[1][\"object_id\"]\n",
    "            bbx_path= bb[1][\"x_locs\"]\n",
    "            bby_path= bb[1][\"y_locs\"]\n",
    "            if int(object_tbl[object_tbl.object_id==oid].image_id) ==i+1:\n",
    "                worker_x_locs,worker_y_locs= process_raw_locs([bbx_path,bby_path])\n",
    "                ground_truth_match = ground_truth[ground_truth.id==str(oid)]\n",
    "                COCO_id = int(ground_truth_match[\"COCO_annIds\"])\n",
    "                \n",
    "                #COCO-Annotations\n",
    "                for ann in anns:\n",
    "                    if COCO_id==-1:\n",
    "                        #No BB for this object collected by MSCOCO\n",
    "                        pass\n",
    "                    elif ann['id'] == COCO_id: \n",
    "#                         print COCO_id\n",
    "                        for annBB in ann[\"segmentation\"]:\n",
    "                            coco_x_locs,coco_y_locs = process_raw_locs(annBB,COCO=True)\n",
    "                            obj_x_locs = [worker_x_locs,coco_x_locs]\n",
    "                            obj_y_locs = [worker_y_locs,coco_y_locs]\n",
    "                            bb_info = bb_info.set_value(bb[0],\"COCO Majority Vote\",majority_vote(obj_x_locs,obj_y_locs))\n",
    "                            #bb_info = bb_info.set_value(bb[0],\"Munkres Euclidean\",DistAllWorkers(obj_x_locs,obj_y_locs))\n",
    "                            bb_info = bb_info.set_value(bb[0],\"COCO Precision\",precision(obj_x_locs,obj_y_locs))\n",
    "                            bb_info = bb_info.set_value(bb[0],\"COCO Recall\",recall(obj_x_locs,obj_y_locs))                \n",
    "                my_ground_truth_match = my_BBG[my_BBG.object_id==oid]\n",
    "                my_x_locs,my_y_locs =  process_raw_locs([my_ground_truth_match[\"x_locs\"].iloc[0],my_ground_truth_match[\"y_locs\"].iloc[0]])\n",
    "                obj_x_locs = [worker_x_locs,my_x_locs]\n",
    "                obj_y_locs = [worker_y_locs,my_y_locs]\n",
    "                bb_info = bb_info.set_value(bb[0],\"My Majority Vote\",majority_vote(obj_x_locs,obj_y_locs))   \n",
    "                bb_info = bb_info.set_value(bb[0],\"My Precision\",precision(obj_x_locs,obj_y_locs))\n",
    "                bb_info = bb_info.set_value(bb[0],\"My Recall\",recall(obj_x_locs,obj_y_locs))\n",
    "# replace all NAN values with -1, these are entries for which we don't have COCO ground truth\n",
    "bb_info = bb_info.fillna(-1)"
   ]
  },
  {
   "cell_type": "code",
   "execution_count": 149,
   "metadata": {
    "collapsed": false
   },
   "outputs": [],
   "source": [
    "bb_info.to_csv(\"computed_my_COCO_BBvals.csv\")"
   ]
  },
  {
   "cell_type": "markdown",
   "metadata": {},
   "source": [
    "### Use Kolmogorov-Smirnov test to see how well the distributions fit a Gaussian \n"
   ]
  },
  {
   "cell_type": "code",
   "execution_count": 124,
   "metadata": {
    "collapsed": false
   },
   "outputs": [],
   "source": [
    "from scipy import stats"
   ]
  },
  {
   "cell_type": "code",
   "execution_count": 120,
   "metadata": {
    "collapsed": false
   },
   "outputs": [
    {
     "data": {
      "text/plain": [
       "(0, 1.1)"
      ]
     },
     "execution_count": 120,
     "metadata": {},
     "output_type": "execute_result"
    },
    {
     "data": {
      "image/png": "[encoded data removed]",
      "text/plain": [
       "<matplotlib.figure.Figure at 0x11c994f10>"
      ]
     },
     "metadata": {},
     "output_type": "display_data"
    }
   ],
   "source": [
    "my_precision = np.array(bb_info[\"My Precision\"][bb_info[\"My Precision\"]!=-1])\n",
    "my_recall = np.array(bb_info[\"My Recall\"][bb_info[\"My Recall\"]!=-1])\n",
    "plt.figure()\n",
    "plt.hist(my_precision,bins=1000)\n",
    "plt.xlim(0,1.1)"
   ]
  },
  {
   "cell_type": "code",
   "execution_count": 131,
   "metadata": {
    "collapsed": false
   },
   "outputs": [
    {
     "name": "stdout",
     "output_type": "stream",
     "text": [
      "(0.63390175005377802, 0.0)\n",
      "(0.66631878187717508, 0.0)\n"
     ]
    }
   ],
   "source": [
    "print  stats.kstest(my_precision, 'norm')\n",
    "print stats.kstest(my_recall, 'norm')"
   ]
  },
  {
   "cell_type": "code",
   "execution_count": 135,
   "metadata": {
    "collapsed": false
   },
   "outputs": [
    {
     "name": "stdout",
     "output_type": "stream",
     "text": [
      "(0.38691067457919365, 0.0)\n",
      "(0.41326489697122637, 0.0)\n"
     ]
    }
   ],
   "source": [
    "print stats.kstest(my_precision, 'expon')\n",
    "print stats.kstest(my_recall, 'expon')"
   ]
  },
  {
   "cell_type": "code",
   "execution_count": 132,
   "metadata": {
    "collapsed": false
   },
   "outputs": [
    {
     "data": {
      "text/plain": [
       "(0, 1.1)"
      ]
     },
     "execution_count": 132,
     "metadata": {},
     "output_type": "execute_result"
    },
    {
     "data": {
      "image/png": "[encoded data removed]",
      "text/plain": [
       "<matplotlib.figure.Figure at 0x117682910>"
      ]
     },
     "metadata": {},
     "output_type": "display_data"
    }
   ],
   "source": [
    "coco_precision = np.array(bb_info[\"COCO Precision\"][bb_info[\"COCO Precision\"]!=-1])\n",
    "coco_recall = np.array(bb_info[\"COCO Recall\"][bb_info[\"COCO Recall\"]!=-1])\n",
    "plt.hist(coco_precision,bins=200)\n",
    "plt.xlim(0,1.1)"
   ]
  },
  {
   "cell_type": "code",
   "execution_count": 133,
   "metadata": {
    "collapsed": false
   },
   "outputs": [
    {
     "name": "stdout",
     "output_type": "stream",
     "text": [
      "(0.64479018753305417, 0.0)\n",
      "(0.67499745698052038, 0.0)\n"
     ]
    }
   ],
   "source": [
    "print stats.kstest(coco_precision, 'norm')\n",
    "print stats.kstest(coco_recall, 'norm')"
   ]
  },
  {
   "cell_type": "code",
   "execution_count": 134,
   "metadata": {
    "collapsed": false
   },
   "outputs": [
    {
     "name": "stdout",
     "output_type": "stream",
     "text": [
      "(0.39899709391605803, 0.0)\n",
      "(0.42637866891821607, 0.0)\n"
     ]
    }
   ],
   "source": [
    "print stats.kstest(coco_precision, 'expon')\n",
    "print stats.kstest(coco_recall, 'expon')"
   ]
  },
  {
   "cell_type": "code",
   "execution_count": 143,
   "metadata": {
    "collapsed": false
   },
   "outputs": [
    {
     "data": {
      "text/plain": [
       "(0, 5)"
      ]
     },
     "execution_count": 143,
     "metadata": {},
     "output_type": "execute_result"
    },
    {
     "data": {
      "image/png": "[encoded data removed]",
      "text/plain": [
       "<matplotlib.figure.Figure at 0x112aa4850>"
      ]
     },
     "metadata": {},
     "output_type": "display_data"
    }
   ],
   "source": [
    "fig = plt.figure()\n",
    "ax = fig.add_subplot(111)\n",
    "res = stats.probplot(my_precision, dist=stats.norm, sparams=(2.5,), plot=ax)\n",
    "ax.set_title(\"Quantile-Quantile  plot [Normal]\")\n",
    "ax.set_ylim(0,5)"
   ]
  },
  {
   "cell_type": "code",
   "execution_count": 144,
   "metadata": {
    "collapsed": false
   },
   "outputs": [
    {
     "data": {
      "text/plain": [
       "(0, 5)"
      ]
     },
     "execution_count": 144,
     "metadata": {},
     "output_type": "execute_result"
    },
    {
     "data": {
      "image/png": "[encoded data removed]",
      "text/plain": [
       "<matplotlib.figure.Figure at 0x11b27f910>"
      ]
     },
     "metadata": {},
     "output_type": "display_data"
    }
   ],
   "source": [
    "fig = plt.figure()\n",
    "ax = fig.add_subplot(111)\n",
    "res = stats.probplot(my_precision, dist=stats.expon, sparams=(2.5,), plot=ax)\n",
    "ax.set_title(\"Quantile-Quantile  plot [Exponential]\")\n",
    "ax.set_ylim(0,5)"
   ]
  },
  {
   "cell_type": "markdown",
   "metadata": {},
   "source": [
    "These distributions are very far from a normal or even an exponential distribution, even when you filter out the outliers "
   ]
  },
  {
   "cell_type": "markdown",
   "metadata": {},
   "source": [
    "Other quantities: boundary complexity, comparison with color mixture and hues from CV "
   ]
  },
  {
   "cell_type": "code",
   "execution_count": null,
   "metadata": {
    "collapsed": true
   },
   "outputs": [],
   "source": []
  }
 ],
 "metadata": {
  "kernelspec": {
   "display_name": "Python 2",
   "language": "python",
   "name": "python2"
  },
  "language_info": {
   "codemirror_mode": {
    "name": "ipython",
    "version": 2
   },
   "file_extension": ".py",
   "mimetype": "text/x-python",
   "name": "python",
   "nbconvert_exporter": "python",
   "pygments_lexer": "ipython2",
   "version": "2.7.10"
  }
 },
 "nbformat": 4,
 "nbformat_minor": 0
}
