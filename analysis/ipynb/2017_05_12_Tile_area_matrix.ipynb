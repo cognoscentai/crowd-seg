{
 "cells": [
  {
   "cell_type": "code",
   "execution_count": 2,
   "metadata": {},
   "outputs": [
    {
     "name": "stdout",
     "output_type": "stream",
     "text": [
      "Populating the interactive namespace from numpy and matplotlib\n"
     ]
    }
   ],
   "source": [
    "%pylab inline\n",
    "import pickle as pkl"
   ]
  },
  {
   "cell_type": "code",
   "execution_count": 1,
   "metadata": {},
   "outputs": [
    {
     "name": "stdout",
     "output_type": "stream",
     "text": [
      "/home/jlee782/crowd-seg/analysis/TileEM\n"
     ]
    }
   ],
   "source": [
    "cd ../TileEM/"
   ]
  },
  {
   "cell_type": "code",
   "execution_count": 37,
   "metadata": {
    "collapsed": true
   },
   "outputs": [],
   "source": [
    "tiles = pkl.load(open(\"uniqueTiles/10workers_rand0/vtiles1.pkl\"))\n",
    "mask = pkl.load(open(\"pixel_em/10workers_rand0/obj1/MV_mask.pkl\"))"
   ]
  },
  {
   "cell_type": "code",
   "execution_count": 33,
   "metadata": {},
   "outputs": [
    {
     "data": {
      "text/plain": [
       "<matplotlib.colorbar.Colorbar at 0x5e14890>"
      ]
     },
     "execution_count": 33,
     "metadata": {},
     "output_type": "execute_result"
    },
    {
     "data": {
      "image/png": "[encoded data removed]",
      "text/plain": [
       "<matplotlib.figure.Figure at 0x550c810>"
      ]
     },
     "metadata": {},
     "output_type": "display_data"
    }
   ],
   "source": [
    "plt.imshow(mask)\n",
    "plt.colorbar()"
   ]
  },
  {
   "cell_type": "code",
   "execution_count": 12,
   "metadata": {
    "collapsed": true
   },
   "outputs": [],
   "source": [
    "area_mask = np.zeros_like(mask)\n",
    "tile=tiles[0]\n",
    "x,y = tile.exterior.xy"
   ]
  },
  {
   "cell_type": "code",
   "execution_count": null,
   "metadata": {
    "collapsed": true
   },
   "outputs": [],
   "source": [
    "from PIL import Image, ImageDraw\n",
    "obj_x_locs = [process_raw_locs([x,y])[0] for x,y in zip(bb_objects[\"x_locs\"],bb_objects[\"y_locs\"])]\n",
    "obj_y_locs = [process_raw_locs([x,y])[1] for x,y in zip(bb_objects[\"x_locs\"],bb_objects[\"y_locs\"])]\n",
    "for x_locs, y_locs in zip(obj_x_locs,obj_y_locs):\n",
    "    img = Image.new('L', (width, height), 0)\n",
    "    ImageDraw.Draw(img).polygon(zip(x_locs,y_locs), outline=1, fill=1)\n",
    "    mask = np.array(img)==1\n",
    "    mega_mask+=mask"
   ]
  },
  {
   "cell_type": "code",
   "execution_count": 92,
   "metadata": {},
   "outputs": [],
   "source": [
    "from PIL import Image, ImageDraw\n",
    "x,y = tile.exterior.xy\n",
    "img = Image.new('L', (shape(mask)[0], shape(mask)[1]), 0)\n",
    "ImageDraw.Draw(img).polygon(zip(x,y), outline=2, fill=2)\n",
    "mask = np.array(img)#==1\n",
    "# mega_mask+=mask"
   ]
  },
  {
   "cell_type": "code",
   "execution_count": 93,
   "metadata": {},
   "outputs": [
    {
     "data": {
      "text/plain": [
       "<matplotlib.colorbar.Colorbar at 0x8a4fc10>"
      ]
     },
     "execution_count": 93,
     "metadata": {},
     "output_type": "execute_result"
    },
    {
     "data": {
      "image/png": "[encoded data removed]",
      "text/plain": [
       "<matplotlib.figure.Figure at 0x7f50a10>"
      ]
     },
     "metadata": {},
     "output_type": "display_data"
    }
   ],
   "source": [
    "plt.imshow(mask)\n",
    "plt.colorbar()"
   ]
  },
  {
   "cell_type": "code",
   "execution_count": 127,
   "metadata": {},
   "outputs": [],
   "source": [
    "from PIL import Image, ImageDraw\n",
    "tiles = pkl.load(open(\"uniqueTiles/10workers_rand0/vtiles1.pkl\"))\n",
    "MV = pkl.load(open(\"pixel_em/10workers_rand0/obj1/MV_mask.pkl\"))\n",
    "mega_mask= np.zeros_like(MV)\n",
    "t_area = np.array([t.area for t in tiles])\n",
    "# sorted by largest to smallest area \n",
    "#so that small area assignments for a pixel overrides the large area assignments\n",
    "ordered_tiles = np.array(tiles)[np.argsort(t_area)[::-1]]\n",
    "for tile in ordered_tiles:\n",
    "    x,y = tile.exterior.xy\n",
    "    tarea = tile.area\n",
    "    img = Image.new('L', ( shape(MV)[1],shape(MV)[0]), 0)\n",
    "    ImageDraw.Draw(img).polygon(zip(x,y), outline=1, fill=1)\n",
    "    mask = np.array(img)*tarea\n",
    "#     plt.figure()\n",
    "#     plt.imshow(mask)\n",
    "#     plt.colorbar()\n",
    "    mega_mask+=mask"
   ]
  },
  {
   "cell_type": "code",
   "execution_count": 133,
   "metadata": {},
   "outputs": [
    {
     "data": {
      "text/plain": [
       "<matplotlib.colorbar.Colorbar at 0xeac0c10>"
      ]
     },
     "execution_count": 133,
     "metadata": {},
     "output_type": "execute_result"
    },
    {
     "data": {
      "image/png": "[encoded data removed]",
      "text/plain": [
       "<matplotlib.figure.Figure at 0x8fcb5d0>"
      ]
     },
     "metadata": {},
     "output_type": "display_data"
    }
   ],
   "source": [
    "from matplotlib.colors import LogNorm\n",
    "plt.imshow(mega_mask, norm=LogNorm(vmin=1, vmax=3e4))\n",
    "plt.colorbar()"
   ]
  },
  {
   "cell_type": "code",
   "execution_count": 115,
   "metadata": {},
   "outputs": [
    {
     "data": {
      "text/plain": [
       "<matplotlib.colorbar.Colorbar at 0x9e546d0>"
      ]
     },
     "execution_count": 115,
     "metadata": {},
     "output_type": "execute_result"
    },
    {
     "data": {
      "image/png": "[encoded data removed]",
      "text/plain": [
       "<matplotlib.figure.Figure at 0x9c16590>"
      ]
     },
     "metadata": {},
     "output_type": "display_data"
    }
   ],
   "source": [
    "plt.imshow(mega_mask)\n",
    "plt.colorbar()"
   ]
  },
  {
   "cell_type": "code",
   "execution_count": null,
   "metadata": {
    "collapsed": true
   },
   "outputs": [],
   "source": [
    "import pickle as pkl"
   ]
  },
  {
   "cell_type": "code",
   "execution_count": 142,
   "metadata": {
    "collapsed": true
   },
   "outputs": [],
   "source": [
    "from PIL import Image, ImageDraw\n",
    "sample = '10workers_rand0'\n",
    "def tarea_mask(sample, objid):\n",
    "    tiles = pkl.load(open(\"uniqueTiles/{}/vtiles{}.pkl\".format(sample,objid)))\n",
    "    MV = pkl.load(open(\"pixel_em/{}/obj{}/MV_mask.pkl\".format(sample,objid)))\n",
    "    mega_mask= np.zeros_like(MV)\n",
    "    t_area = np.array([t.area for t in tiles])\n",
    "    # sorted by largest to smallest area \n",
    "    #so that small area assignments for a pixel overrides the large area assignments\n",
    "    ordered_tiles = np.array(tiles)[np.argsort(t_area)[::-1]]\n",
    "    for tile in ordered_tiles:\n",
    "        x,y = tile.exterior.xy\n",
    "        tarea = tile.area\n",
    "        img = Image.new('L', ( shape(MV)[1],shape(MV)[0]), 0)\n",
    "        ImageDraw.Draw(img).polygon(zip(x,y), outline=1, fill=1)\n",
    "        mask = np.array(img)*tarea\n",
    "        mega_mask+=mask\n",
    "    pkl.dump(mega_mask,open(\"pixel_em/{}/obj{}/tarea_mask.pkl\".format(sample,objid),'w'))"
   ]
  },
  {
   "cell_type": "code",
   "execution_count": 143,
   "metadata": {
    "collapsed": true
   },
   "outputs": [],
   "source": [
    "from sample_worker_seeds import sample_specs"
   ]
  },
  {
   "cell_type": "code",
   "execution_count": 145,
   "metadata": {
    "collapsed": true
   },
   "outputs": [],
   "source": [
    "from tqdm import tqdm"
   ]
  },
  {
   "cell_type": "code",
   "execution_count": null,
   "metadata": {},
   "outputs": [
    {
     "name": "stderr",
     "output_type": "stream",
     "text": [
      " 32%|███▏      | 10/31 [11:19<23:46,  0.01it/s] "
     ]
    }
   ],
   "source": [
    "for sample in tqdm(sample_specs.keys()):\n",
    "    for objid in range(1,48):\n",
    "        tarea_mask(sample,objid)"
   ]
  }
 ],
 "metadata": {
  "kernelspec": {
   "display_name": "Python 2",
   "language": "python",
   "name": "python2"
  },
  "language_info": {
   "codemirror_mode": {
    "name": "ipython",
    "version": 2
   },
   "file_extension": ".py",
   "mimetype": "text/x-python",
   "name": "python",
   "nbconvert_exporter": "python",
   "pygments_lexer": "ipython2",
   "version": "2.7.6"
  }
 },
 "nbformat": 4,
 "nbformat_minor": 2
}
