{
 "cells": [
  {
   "cell_type": "code",
   "execution_count": 1,
   "metadata": {
    "collapsed": false
   },
   "outputs": [
    {
     "name": "stdout",
     "output_type": "stream",
     "text": [
      "Populating the interactive namespace from numpy and matplotlib\n"
     ]
    }
   ],
   "source": [
    "%pylab inline"
   ]
  },
  {
   "cell_type": "code",
   "execution_count": 2,
   "metadata": {
    "collapsed": false
   },
   "outputs": [
    {
     "name": "stdout",
     "output_type": "stream",
     "text": [
      "/Users/dorislee/Desktop/Research/seg/crowd-seg/analysis/TileEM/problematic_tiles\n"
     ]
    }
   ],
   "source": [
    "cd ../TileEM/problematic_tiles/"
   ]
  },
  {
   "cell_type": "code",
   "execution_count": 6,
   "metadata": {
    "collapsed": false
   },
   "outputs": [],
   "source": [
    "from glob import glob "
   ]
  },
  {
   "cell_type": "code",
   "execution_count": 12,
   "metadata": {
    "collapsed": false
   },
   "outputs": [],
   "source": [
    "import pickle as pkl"
   ]
  },
  {
   "cell_type": "code",
   "execution_count": 20,
   "metadata": {
    "collapsed": false
   },
   "outputs": [],
   "source": [
    "Tprime = pkl.load(open('problematic_Tprime_0.pkl'))\n",
    "tk = pkl.load(open('problematic_tk_0.pkl'))"
   ]
  },
  {
   "cell_type": "code",
   "execution_count": 23,
   "metadata": {
    "collapsed": false
   },
   "outputs": [
    {
     "data": {
      "image/svg+xml": [
       "<svg xmlns=\"http://www.w3.org/2000/svg\" xmlns:xlink=\"http://www.w3.org/1999/xlink\" width=\"100.0\" height=\"100.0\" viewBox=\"76.4143456543 329.414345654 5.99448551449 3.58789210789\" preserveAspectRatio=\"xMinYMin meet\"><g transform=\"matrix(1,0,0,-1,0,662.416583417)\"><path fill-rule=\"evenodd\" fill=\"#66cc99\" stroke=\"#555555\" stroke-width=\"0.11988971029\" opacity=\"0.6\" d=\"M 76.6363636364,329.636363636 L 77.4782608696,330.47826087 L 82.1868131868,332.78021978 L 81.0,331.0 L 76.6363636364,329.636363636 z\" /></g></svg>"
      ],
      "text/plain": [
       "<shapely.geometry.polygon.Polygon at 0x10c091250>"
      ]
     },
     "execution_count": 23,
     "metadata": {},
     "output_type": "execute_result"
    }
   ],
   "source": [
    "tk"
   ]
  },
  {
   "cell_type": "code",
   "execution_count": 21,
   "metadata": {
    "collapsed": false
   },
   "outputs": [
    {
     "data": {
      "image/svg+xml": [
       "<svg xmlns=\"http://www.w3.org/2000/svg\" xmlns:xlink=\"http://www.w3.org/1999/xlink\" width=\"100.0\" height=\"100.0\" viewBox=\"46.2975261362 318.325423132 46.4049477275 99.9667943216\" preserveAspectRatio=\"xMinYMin meet\"><g transform=\"matrix(1,0,0,-1,0,736.617640585)\"><g><path fill-rule=\"evenodd\" fill=\"#66cc99\" stroke=\"#555555\" stroke-width=\"1.99933588643\" opacity=\"0.6\" d=\"M 53.8540772532,322.027896996 L 53.8350803634,322.42208246 L 52.5109821672,349.897120031 L 50.0155642023,401.677042802 L 50.0,402.0 L 50.8571428571,402.238095238 L 51.842364532,402.894909688 L 52.8275862069,403.551724138 L 80.0547008547,414.58974359 L 80.3573667712,412.319749216 L 70.7887323944,407.774647887 L 80.6,410.5 L 82.0,400.0 L 87.4480369515,379.76443418 L 86.2672064777,408.497975709 L 86.3829787234,408.063829787 L 87.2127427961,388.70266809 L 87.6237864078,379.111650485 L 87.4480369572,379.764434042 L 87.8244040061,370.606169184 L 87.9822377567,366.765547919 L 88.7468879668,348.159059474 L 87.9747048904,346.271500843 L 54.8141263941,322.710037175 L 53.8540772532,322.027896996 z\" /><path fill-rule=\"evenodd\" fill=\"#66cc99\" stroke=\"#555555\" stroke-width=\"1.99933588643\" opacity=\"0.6\" d=\"M 80.6,410.5 L 80.3573667712,412.319749216 L 84.3838383838,414.232323232 L 84.3838383838,414.232323232 L 84.3838383838,414.232323232 L 85.1428571428,412.714285714 L 85.3793103448,411.827586207 L 80.6961498565,410.526708294 L 80.6,410.5 z\" /><path fill-rule=\"evenodd\" fill=\"#66cc99\" stroke=\"#555555\" stroke-width=\"1.99933588643\" opacity=\"0.6\" d=\"M 87.6237864078,379.111650485 L 89.0,374.0 L 88.6705882,375.2235294 L 89.0,366.0 L 89.0,361.0 L 89.0,353.0 L 89.0,350.714285714 L 88.8619469027,350.221238938 L 87.6237864139,379.111650342 L 87.6237864078,379.111650485 z\" /><path fill-rule=\"evenodd\" fill=\"#66cc99\" stroke=\"#555555\" stroke-width=\"1.99933588643\" opacity=\"0.6\" d=\"M 85.3793103448,411.827586207 L 85.5609756098,411.87804878 L 86.28125,410.4375 L 86.3829787234,408.063829787 L 85.3793103448,411.827586207 z\" /><path fill-rule=\"evenodd\" fill=\"#66cc99\" stroke=\"#555555\" stroke-width=\"1.99933588643\" opacity=\"0.6\" d=\"M 63.9629629632,326.592592593 L 63.9629629629,326.592592593 L 62.9265516411,326.385310328 L 62.7647058826,326.352941177 L 77.8235294118,335.764705882 L 86.2020547945,341.938356164 L 80.0879957314,337.433260013 L 77.4494005132,335.489031957 L 73.9262190343,332.893003499 L 72.5333333333,331.866666667 L 67.3333333333,328.666666667 L 66.0,328.0 L 64.8571428571,327.142857143 L 63.9629629632,326.592592593 z\" /><path fill-rule=\"evenodd\" fill=\"#66cc99\" stroke=\"#555555\" stroke-width=\"1.99933588643\" opacity=\"0.6\" d=\"M 85.1560693642,341.167630058 L 84.5,339.9375 L 80.1543840284,337.221490018 L 77.8235294118,335.764705882 L 85.3911761811,341.34086666 L 85.1560693642,341.167630058 z\" /><path fill-rule=\"evenodd\" fill=\"#66cc99\" stroke=\"#555555\" stroke-width=\"1.99933588643\" opacity=\"0.6\" d=\"M 50.8974358974,349.384615385 L 50.0,379.0 L 50.0,381.0 L 50.0,383.666666667 L 51.0,374.0 L 50.4042553191,365.659574468 L 50.8974358974,349.384615385 z\" /><path fill-rule=\"evenodd\" fill=\"#66cc99\" stroke=\"#555555\" stroke-width=\"1.99933588643\" opacity=\"0.6\" d=\"M 51.0,333.0 L 50.5357142857,339.035714286 L 50.5229357798,339.559633028 L 51.0,346.0 L 51.0,333.0 z\" /></g></g></svg>"
      ],
      "text/plain": [
       "<shapely.geometry.multipolygon.MultiPolygon at 0x10bed3d90>"
      ]
     },
     "execution_count": 21,
     "metadata": {},
     "output_type": "execute_result"
    }
   ],
   "source": [
    "Tprime.buffer(0)"
   ]
  },
  {
   "cell_type": "code",
   "execution_count": 22,
   "metadata": {
    "collapsed": false
   },
   "outputs": [
    {
     "name": "stderr",
     "output_type": "stream",
     "text": [
      "WARNING:shapely.geos:Self-intersection at or near point 87.448036957159772 379.76443404244583\n"
     ]
    },
    {
     "data": {
      "image/svg+xml": [
       "<svg xmlns=\"http://www.w3.org/2000/svg\" xmlns:xlink=\"http://www.w3.org/1999/xlink\" width=\"100.0\" height=\"100.0\" viewBox=\"46.2975261362 318.325423132 46.4049477275 99.9667943216\" preserveAspectRatio=\"xMinYMin meet\"><g transform=\"matrix(1,0,0,-1,0,736.617640585)\"><g><path fill-rule=\"evenodd\" fill=\"#ff3333\" stroke=\"#555555\" stroke-width=\"1.99933588643\" opacity=\"0.6\" d=\"M 85.3793103448,411.827586207 L 85.5609756098,411.87804878 L 86.28125,410.4375 L 86.3829787234,408.063829787 L 85.3793103448,411.827586207 z\" /><path fill-rule=\"evenodd\" fill=\"#ff3333\" stroke=\"#555555\" stroke-width=\"1.99933588643\" opacity=\"0.6\" d=\"M 84.3838383838,414.232323232 L 84.3838383838,414.232323232 L 85.1428571428,412.714285714 L 85.3793103448,411.827586207 L 80.6961498565,410.526708294 L 80.6,410.5 L 80.3573667712,412.319749216 L 84.3838383838,414.232323232 L 84.3838383838,414.232323232 z\" /><path fill-rule=\"evenodd\" fill=\"#ff3333\" stroke=\"#555555\" stroke-width=\"1.99933588643\" opacity=\"0.6\" d=\"M 51.0,333.0 L 50.5357142857,339.035714286 L 50.5229357798,339.559633028 L 51.0,346.0 L 51.0,333.0 z\" /><path fill-rule=\"evenodd\" fill=\"#ff3333\" stroke=\"#555555\" stroke-width=\"1.99933588643\" opacity=\"0.6\" d=\"M 88.6705882,375.2235294 L 89.0,366.0 L 89.0,361.0 L 89.0,353.0 L 89.0,350.714285714 L 88.8619469027,350.221238938 L 87.6237864139,379.111650342 L 87.4480369572,379.764434042 L 87.6237864139,379.111650342 L 87.6237864078,379.111650485 L 89.0,374.0 L 88.6705882,375.2235294 z\" /><path fill-rule=\"evenodd\" fill=\"#ff3333\" stroke=\"#555555\" stroke-width=\"1.99933588643\" opacity=\"0.6\" d=\"M 63.9629629632,326.592592593 L 63.9629629629,326.592592593 L 62.9265516411,326.385310328 L 62.7647058826,326.352941177 L 77.8235294118,335.764705882 L 86.2020547945,341.938356164 L 80.0879957314,337.433260013 L 77.4494005132,335.489031957 L 73.9262190343,332.893003499 L 72.5333333333,331.866666667 L 67.3333333333,328.666666667 L 66.0,328.0 L 64.8571428571,327.142857143 L 63.9629629632,326.592592593 z\" /><path fill-rule=\"evenodd\" fill=\"#ff3333\" stroke=\"#555555\" stroke-width=\"1.99933588643\" opacity=\"0.6\" d=\"M 85.1560693642,341.167630058 L 84.5,339.9375 L 80.1543840284,337.221490018 L 77.8235294118,335.764705882 L 85.3911761811,341.34086666 L 85.1560693642,341.167630058 z\" /><path fill-rule=\"evenodd\" fill=\"#ff3333\" stroke=\"#555555\" stroke-width=\"1.99933588643\" opacity=\"0.6\" d=\"M 53.8540772532,322.027896996 L 53.8350803634,322.42208246 L 52.5109821672,349.897120031 L 50.0155642023,401.677042802 L 50.0,402.0 L 50.8571428571,402.238095238 L 51.842364532,402.894909688 L 52.8275862069,403.551724138 L 80.0547008547,414.58974359 L 80.3573667712,412.319749216 L 70.7887323944,407.774647887 L 80.6,410.5 L 82.0,400.0 L 87.4480369515,379.76443418 L 86.2672064777,408.497975709 L 86.3829787234,408.063829787 L 87.2127427961,388.70266809 L 87.6237864078,379.111650485 L 87.4480369572,379.764434042 L 87.8244040061,370.606169184 L 87.9822377567,366.765547919 L 88.7468879668,348.159059474 L 87.9747048904,346.271500843 L 54.8141263941,322.710037175 L 53.8540772532,322.027896996 z\" /><path fill-rule=\"evenodd\" fill=\"#ff3333\" stroke=\"#555555\" stroke-width=\"1.99933588643\" opacity=\"0.6\" d=\"M 50.8974358974,349.384615385 L 50.0,379.0 L 50.0,381.0 L 50.0,383.666666667 L 51.0,374.0 L 50.4042553191,365.659574468 L 50.8974358974,349.384615385 z\" /></g></g></svg>"
      ],
      "text/plain": [
       "<shapely.geometry.multipolygon.MultiPolygon at 0x10c091290>"
      ]
     },
     "execution_count": 22,
     "metadata": {},
     "output_type": "execute_result"
    }
   ],
   "source": [
    "Tprime"
   ]
  },
  {
   "cell_type": "code",
   "execution_count": 25,
   "metadata": {
    "collapsed": true
   },
   "outputs": [],
   "source": [
    "i = 2444\n",
    "Tprime = pkl.load(open('problematic_Tprime_{}.pkl'.format(i)))\n",
    "tk = pkl.load(open('problematic_tk_{}.pkl'.format(i)))"
   ]
  },
  {
   "cell_type": "code",
   "execution_count": 27,
   "metadata": {
    "collapsed": false
   },
   "outputs": [
    {
     "name": "stderr",
     "output_type": "stream",
     "text": [
      "WARNING:shapely.geos:Self-intersection at or near point 87.448036957159772 379.76443404244583\n"
     ]
    },
    {
     "data": {
      "image/svg+xml": [
       "<svg xmlns=\"http://www.w3.org/2000/svg\" xmlns:xlink=\"http://www.w3.org/1999/xlink\" width=\"100.0\" height=\"100.0\" viewBox=\"46.2975261362 318.325423132 46.4049477275 99.9667943216\" preserveAspectRatio=\"xMinYMin meet\"><g transform=\"matrix(1,0,0,-1,0,736.617640585)\"><g><path fill-rule=\"evenodd\" fill=\"#ff3333\" stroke=\"#555555\" stroke-width=\"1.99933588643\" opacity=\"0.6\" d=\"M 85.3793103448,411.827586207 L 85.5609756098,411.87804878 L 86.28125,410.4375 L 86.3829787234,408.063829787 L 85.3793103448,411.827586207 z\" /><path fill-rule=\"evenodd\" fill=\"#ff3333\" stroke=\"#555555\" stroke-width=\"1.99933588643\" opacity=\"0.6\" d=\"M 84.3838383838,414.232323232 L 84.3838383838,414.232323232 L 85.1428571428,412.714285714 L 85.3793103448,411.827586207 L 80.6961498565,410.526708294 L 80.6,410.5 L 80.3573667712,412.319749216 L 84.3838383838,414.232323232 L 84.3838383838,414.232323232 z\" /><path fill-rule=\"evenodd\" fill=\"#ff3333\" stroke=\"#555555\" stroke-width=\"1.99933588643\" opacity=\"0.6\" d=\"M 51.0,333.0 L 50.5357142857,339.035714286 L 50.5229357798,339.559633028 L 51.0,346.0 L 51.0,333.0 z\" /><path fill-rule=\"evenodd\" fill=\"#ff3333\" stroke=\"#555555\" stroke-width=\"1.99933588643\" opacity=\"0.6\" d=\"M 88.6705882,375.2235294 L 89.0,366.0 L 89.0,361.0 L 89.0,353.0 L 89.0,350.714285714 L 88.8619469027,350.221238938 L 87.6237864139,379.111650342 L 87.4480369572,379.764434042 L 87.6237864139,379.111650342 L 87.6237864078,379.111650485 L 89.0,374.0 L 88.6705882,375.2235294 z\" /><path fill-rule=\"evenodd\" fill=\"#ff3333\" stroke=\"#555555\" stroke-width=\"1.99933588643\" opacity=\"0.6\" d=\"M 63.9629629632,326.592592593 L 63.9629629629,326.592592593 L 62.9265516411,326.385310328 L 62.7647058826,326.352941177 L 77.8235294118,335.764705882 L 86.2020547945,341.938356164 L 80.0879957314,337.433260013 L 77.4494005132,335.489031957 L 73.9262190343,332.893003499 L 72.5333333333,331.866666667 L 67.3333333333,328.666666667 L 66.0,328.0 L 64.8571428571,327.142857143 L 63.9629629632,326.592592593 z\" /><path fill-rule=\"evenodd\" fill=\"#ff3333\" stroke=\"#555555\" stroke-width=\"1.99933588643\" opacity=\"0.6\" d=\"M 85.1560693642,341.167630058 L 84.5,339.9375 L 80.1543840284,337.221490018 L 77.8235294118,335.764705882 L 85.3911761811,341.34086666 L 85.1560693642,341.167630058 z\" /><path fill-rule=\"evenodd\" fill=\"#ff3333\" stroke=\"#555555\" stroke-width=\"1.99933588643\" opacity=\"0.6\" d=\"M 53.8540772532,322.027896996 L 53.8350803634,322.42208246 L 52.5109821672,349.897120031 L 50.0155642023,401.677042802 L 50.0,402.0 L 50.8571428571,402.238095238 L 51.842364532,402.894909688 L 52.8275862069,403.551724138 L 80.0547008547,414.58974359 L 80.3573667712,412.319749216 L 70.7887323944,407.774647887 L 80.6,410.5 L 82.0,400.0 L 87.4480369515,379.76443418 L 86.2672064777,408.497975709 L 86.3829787234,408.063829787 L 87.2127427961,388.70266809 L 87.6237864078,379.111650485 L 87.4480369572,379.764434042 L 87.8244040061,370.606169184 L 87.9822377567,366.765547919 L 88.7468879668,348.159059474 L 87.9747048904,346.271500843 L 54.8141263941,322.710037175 L 53.8540772532,322.027896996 z\" /><path fill-rule=\"evenodd\" fill=\"#ff3333\" stroke=\"#555555\" stroke-width=\"1.99933588643\" opacity=\"0.6\" d=\"M 50.8974358974,349.384615385 L 50.0,379.0 L 50.0,381.0 L 50.0,383.666666667 L 51.0,374.0 L 50.4042553191,365.659574468 L 50.8974358974,349.384615385 z\" /></g></g></svg>"
      ],
      "text/plain": [
       "<shapely.geometry.multipolygon.MultiPolygon at 0x10c0915d0>"
      ]
     },
     "execution_count": 27,
     "metadata": {},
     "output_type": "execute_result"
    }
   ],
   "source": [
    "Tprime"
   ]
  },
  {
   "cell_type": "code",
   "execution_count": 28,
   "metadata": {
    "collapsed": false
   },
   "outputs": [
    {
     "data": {
      "image/svg+xml": [
       "<svg xmlns=\"http://www.w3.org/2000/svg\" xmlns:xlink=\"http://www.w3.org/1999/xlink\" width=\"100.0\" height=\"100.0\" viewBox=\"86.7964133473 403.706747031 1.05323281664 5.49683962196\" preserveAspectRatio=\"xMinYMin meet\"><g transform=\"matrix(1,0,0,-1,0,812.910333683)\"><path fill-rule=\"evenodd\" fill=\"#66cc99\" stroke=\"#555555\" stroke-width=\"0.109936792439\" opacity=\"0.6\" d=\"M 87.6460595113,403.910333683 L 87.5951527139,405.33572401 L 87.0043522135,407.952125651 L 87.0043522135,407.952125651 L 87.0043522135,407.952125651 L 87.0,408.0 L 87.0,409.0 L 87.3333333333,408.333333333 L 87.5080645161,407.774193548 L 87.6460595113,403.910333683 z\" /></g></svg>"
      ],
      "text/plain": [
       "<shapely.geometry.polygon.Polygon at 0x10c091590>"
      ]
     },
     "execution_count": 28,
     "metadata": {},
     "output_type": "execute_result"
    }
   ],
   "source": [
    "tk"
   ]
  },
  {
   "cell_type": "code",
   "execution_count": 29,
   "metadata": {
    "collapsed": true
   },
   "outputs": [],
   "source": [
    "i = 485\n",
    "Tprime = pkl.load(open('problematic_Tprime_{}.pkl'.format(i)))\n",
    "tk = pkl.load(open('problematic_tk_{}.pkl'.format(i)))"
   ]
  },
  {
   "cell_type": "code",
   "execution_count": 18,
   "metadata": {
    "collapsed": false
   },
   "outputs": [],
   "source": [
    "# for glob in glob(\"problematic_Tprime_*.pkl\"):\n",
    "#     .split(\"_\")[-1].split(\".\")[0]"
   ]
  },
  {
   "cell_type": "code",
   "execution_count": 31,
   "metadata": {
    "collapsed": false
   },
   "outputs": [
    {
     "name": "stdout",
     "output_type": "stream",
     "text": [
      "/Users/dorislee/Desktop/Research/seg/crowd-seg/analysis/TileEM/sample\n"
     ]
    }
   ],
   "source": [
    "cd ../sample/"
   ]
  },
  {
   "cell_type": "code",
   "execution_count": 32,
   "metadata": {
    "collapsed": false
   },
   "outputs": [
    {
     "name": "stdout",
     "output_type": "stream",
     "text": [
      "TileEM_plot_toolbox.py   main.pyc                 \u001b[1m\u001b[34moutput_1\u001b[m\u001b[m/                \u001b[1m\u001b[34moutput_4\u001b[m\u001b[m/                sampling.sh\r\n",
      "TileEM_plot_toolbox.pyc  \u001b[1m\u001b[34moutput\u001b[m\u001b[m/                  \u001b[1m\u001b[34moutput_2\u001b[m\u001b[m/                \u001b[1m\u001b[34moutput_5\u001b[m\u001b[m/\r\n",
      "main.py                  \u001b[1m\u001b[34moutput_0\u001b[m\u001b[m/                \u001b[1m\u001b[34moutput_3\u001b[m\u001b[m/                runIndicatorMat.py\r\n"
     ]
    }
   ],
   "source": [
    "ls"
   ]
  },
  {
   "cell_type": "code",
   "execution_count": null,
   "metadata": {
    "collapsed": true
   },
   "outputs": [],
   "source": []
  }
 ],
 "metadata": {
  "kernelspec": {
   "display_name": "Python 2",
   "language": "python",
   "name": "python2"
  },
  "language_info": {
   "codemirror_mode": {
    "name": "ipython",
    "version": 2
   },
   "file_extension": ".py",
   "mimetype": "text/x-python",
   "name": "python",
   "nbconvert_exporter": "python",
   "pygments_lexer": "ipython2",
   "version": "2.7.10"
  }
 },
 "nbformat": 4,
 "nbformat_minor": 0
}
