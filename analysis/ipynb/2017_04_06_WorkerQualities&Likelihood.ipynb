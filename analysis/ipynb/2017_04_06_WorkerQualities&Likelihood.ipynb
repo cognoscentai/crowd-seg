{
 "cells": [
  {
   "cell_type": "code",
   "execution_count": 3,
   "metadata": {
    "collapsed": false
   },
   "outputs": [
    {
     "name": "stdout",
     "output_type": "stream",
     "text": [
      "/Users/dorislee/Desktop/Research/seg/crowd-seg/analysis/TileEM\n"
     ]
    }
   ],
   "source": [
    "cd ../TileEM/"
   ]
  },
  {
   "cell_type": "code",
   "execution_count": 4,
   "metadata": {
    "collapsed": false
   },
   "outputs": [
    {
     "name": "stdout",
     "output_type": "stream",
     "text": [
      "Populating the interactive namespace from numpy and matplotlib\n",
      "The autoreload extension is already loaded. To reload it, use:\n",
      "  %reload_ext autoreload\n"
     ]
    }
   ],
   "source": [
    "%pylab inline\n",
    "%load_ext autoreload\n",
    "%autoreload 2\n",
    "from TileEM_plot_toolbox import *"
   ]
  },
  {
   "cell_type": "markdown",
   "metadata": {},
   "source": [
    "```\n",
    "python -i  runRandTileTraining.py\n",
    "```"
   ]
  },
  {
   "cell_type": "markdown",
   "metadata": {},
   "source": [
    "if pick 10k tiles combo then takes around 3.5 hrs \n",
    "\n",
    "3000 tiles combo takes about 2 hrs\n"
   ]
  },
  {
   "cell_type": "code",
   "execution_count": 9,
   "metadata": {
    "collapsed": false
   },
   "outputs": [],
   "source": [
    "df = pd.read_csv(\"output/tile_combo_metric_area.csv\",index_col=0)"
   ]
  },
  {
   "cell_type": "code",
   "execution_count": 10,
   "metadata": {
    "collapsed": false
   },
   "outputs": [
    {
     "data": {
      "text/html": [
       "<div>\n",
       "<table border=\"1\" class=\"dataframe\">\n",
       "  <thead>\n",
       "    <tr style=\"text-align: right;\">\n",
       "      <th></th>\n",
       "      <th>objid</th>\n",
       "      <th>T prime</th>\n",
       "      <th>Total Votes</th>\n",
       "      <th>Average Votes</th>\n",
       "      <th>Total gamma value</th>\n",
       "      <th>Average gamma value</th>\n",
       "      <th>Total area</th>\n",
       "      <th>Average area</th>\n",
       "      <th>pTprime</th>\n",
       "      <th>Precision</th>\n",
       "      <th>Recall</th>\n",
       "    </tr>\n",
       "  </thead>\n",
       "  <tbody>\n",
       "    <tr>\n",
       "      <th>0</th>\n",
       "      <td>1</td>\n",
       "      <td>[3301 2707 3291 2163  308 3265 2563 3262  185 ...</td>\n",
       "      <td>330</td>\n",
       "      <td>18.333333</td>\n",
       "      <td>0</td>\n",
       "      <td>0</td>\n",
       "      <td>4937.730507</td>\n",
       "      <td>274.318362</td>\n",
       "      <td>8.115292e-10</td>\n",
       "      <td>0.876060</td>\n",
       "      <td>0.850978</td>\n",
       "    </tr>\n",
       "    <tr>\n",
       "      <th>1</th>\n",
       "      <td>1</td>\n",
       "      <td>[3112 3263   80 3178 1899 2600 3141  402 2043 ...</td>\n",
       "      <td>615</td>\n",
       "      <td>19.218750</td>\n",
       "      <td>0</td>\n",
       "      <td>0</td>\n",
       "      <td>9781.725465</td>\n",
       "      <td>305.678921</td>\n",
       "      <td>2.089219e-10</td>\n",
       "      <td>0.895784</td>\n",
       "      <td>1.000000</td>\n",
       "    </tr>\n",
       "    <tr>\n",
       "      <th>2</th>\n",
       "      <td>1</td>\n",
       "      <td>[2299 3538 2163 1318 3291 2462 3390 1671  180 ...</td>\n",
       "      <td>576</td>\n",
       "      <td>21.333333</td>\n",
       "      <td>0</td>\n",
       "      <td>0</td>\n",
       "      <td>28012.544110</td>\n",
       "      <td>1037.501634</td>\n",
       "      <td>4.440012e-10</td>\n",
       "      <td>0.192433</td>\n",
       "      <td>0.905442</td>\n",
       "    </tr>\n",
       "    <tr>\n",
       "      <th>3</th>\n",
       "      <td>1</td>\n",
       "      <td>[2043 3141 2563 2134 2482 1835 1671 1318 3112 ...</td>\n",
       "      <td>416</td>\n",
       "      <td>20.800000</td>\n",
       "      <td>0</td>\n",
       "      <td>0</td>\n",
       "      <td>934.619418</td>\n",
       "      <td>46.730971</td>\n",
       "      <td>8.115292e-10</td>\n",
       "      <td>0.190255</td>\n",
       "      <td>0.034236</td>\n",
       "    </tr>\n",
       "    <tr>\n",
       "      <th>4</th>\n",
       "      <td>1</td>\n",
       "      <td>[ 401  180 2134 1558 3396 3301   80 2462 2554 ...</td>\n",
       "      <td>213</td>\n",
       "      <td>17.750000</td>\n",
       "      <td>0</td>\n",
       "      <td>0</td>\n",
       "      <td>396.312214</td>\n",
       "      <td>33.026018</td>\n",
       "      <td>3.818599e-10</td>\n",
       "      <td>0.300040</td>\n",
       "      <td>0.020974</td>\n",
       "    </tr>\n",
       "  </tbody>\n",
       "</table>\n",
       "</div>"
      ],
      "text/plain": [
       "   objid                                            T prime  Total Votes  \\\n",
       "0      1  [3301 2707 3291 2163  308 3265 2563 3262  185 ...          330   \n",
       "1      1  [3112 3263   80 3178 1899 2600 3141  402 2043 ...          615   \n",
       "2      1  [2299 3538 2163 1318 3291 2462 3390 1671  180 ...          576   \n",
       "3      1  [2043 3141 2563 2134 2482 1835 1671 1318 3112 ...          416   \n",
       "4      1  [ 401  180 2134 1558 3396 3301   80 2462 2554 ...          213   \n",
       "\n",
       "   Average Votes  Total gamma value  Average gamma value    Total area  \\\n",
       "0      18.333333                  0                    0   4937.730507   \n",
       "1      19.218750                  0                    0   9781.725465   \n",
       "2      21.333333                  0                    0  28012.544110   \n",
       "3      20.800000                  0                    0    934.619418   \n",
       "4      17.750000                  0                    0    396.312214   \n",
       "\n",
       "   Average area       pTprime  Precision    Recall  \n",
       "0    274.318362  8.115292e-10   0.876060  0.850978  \n",
       "1    305.678921  2.089219e-10   0.895784  1.000000  \n",
       "2   1037.501634  4.440012e-10   0.192433  0.905442  \n",
       "3     46.730971  8.115292e-10   0.190255  0.034236  \n",
       "4     33.026018  3.818599e-10   0.300040  0.020974  "
      ]
     },
     "execution_count": 10,
     "metadata": {},
     "output_type": "execute_result"
    }
   ],
   "source": [
    "df.head()"
   ]
  },
  {
   "cell_type": "markdown",
   "metadata": {},
   "source": [
    "### Compare subset results with individual worker PR "
   ]
  },
  {
   "cell_type": "code",
   "execution_count": 64,
   "metadata": {
    "collapsed": false
   },
   "outputs": [
    {
     "name": "stderr",
     "output_type": "stream",
     "text": []
    }
   ],
   "source": [
    "mega_wlst=[]\n",
    "mega_plst=[]\n",
    "mega_rlst=[]\n",
    "mega_objid=[]\n",
    "for objid in tqdm(object_lst):\n",
    "    wlst,plst,rlst = compute_worker_PR_obj(objid,return_worker_id=True)\n",
    "    mega_objid.extend(objid*np.ones_like(wlst))\n",
    "    mega_wlst.extend(wlst)\n",
    "    mega_plst.extend(plst)\n",
    "    mega_rlst.extend(rlst)"
   ]
  },
  {
   "cell_type": "code",
   "execution_count": 65,
   "metadata": {
    "collapsed": false
   },
   "outputs": [],
   "source": [
    "workerPR = pd.DataFrame(zip(mega_objid,mega_wlst,mega_plst,mega_rlst),columns=[\"objid\",\"worker_id\",\"Precision\",\"Recall\"])"
   ]
  },
  {
   "cell_type": "code",
   "execution_count": 70,
   "metadata": {
    "collapsed": true
   },
   "outputs": [],
   "source": [
    "for obj in list(set(workerPR.objid)):\n",
    "    wR = workerPR[workerPR[\"objid\"]==objid].sort(columns=[\"Recall\"])[\"Recall\"]\n",
    "    rR =  df[df[\"objid\"]==objid].sort(columns=[\"Recall\"])[\"Recall\"]\n",
    "    list3 = [item1 for w,r in zip(wR,rR) if r>w]"
   ]
  },
  {
   "cell_type": "code",
   "execution_count": 98,
   "metadata": {
    "collapsed": false
   },
   "outputs": [],
   "source": [
    "Ppercentage=[]\n",
    "Rpercentage=[]\n",
    "for objid in list(set(workerPR.objid)):\n",
    "    wR = workerPR[workerPR[\"objid\"]==objid].sort(columns=[\"Recall\"])[\"Recall\"]\n",
    "    rR =  df[df[\"objid\"]==objid].sort(columns=[\"Recall\"])[\"Recall\"]\n",
    "    Rcount= len([r for r in rR if r>max(wR)])\n",
    "    Rpercentage.append(Rcount/float(len(rR))*100)\n",
    "    wP = workerPR[workerPR[\"objid\"]==objid].sort(columns=[\"Precision\"])[\"Precision\"]\n",
    "    rP =  df[df[\"objid\"]==objid].sort(columns=[\"Precision\"])[\"Precision\"]\n",
    "    Pcount= len([r for r in rP if r>max(wP)])\n",
    "    Ppercentage.append(Pcount/float(len(rP))*100)"
   ]
  },
  {
   "cell_type": "code",
   "execution_count": 102,
   "metadata": {
    "collapsed": false
   },
   "outputs": [
    {
     "name": "stdout",
     "output_type": "stream",
     "text": [
      "14.2957446809\n",
      "2.54822695035\n"
     ]
    }
   ],
   "source": [
    "print mean(Ppercentage)\n",
    "print mean(Rpercentage)"
   ]
  },
  {
   "cell_type": "code",
   "execution_count": 19,
   "metadata": {
    "collapsed": false
   },
   "outputs": [
    {
     "data": {
      "text/html": [
       "<div>\n",
       "<table border=\"1\" class=\"dataframe\">\n",
       "  <thead>\n",
       "    <tr style=\"text-align: right;\">\n",
       "      <th></th>\n",
       "      <th>objid</th>\n",
       "      <th>worker_id</th>\n",
       "      <th>Precision</th>\n",
       "      <th>Recall</th>\n",
       "    </tr>\n",
       "  </thead>\n",
       "  <tbody>\n",
       "    <tr>\n",
       "      <th>178</th>\n",
       "      <td>5</td>\n",
       "      <td>238</td>\n",
       "      <td>0.937722</td>\n",
       "      <td>0.950324</td>\n",
       "    </tr>\n",
       "    <tr>\n",
       "      <th>155</th>\n",
       "      <td>5</td>\n",
       "      <td>146</td>\n",
       "      <td>0.937226</td>\n",
       "      <td>0.939745</td>\n",
       "    </tr>\n",
       "    <tr>\n",
       "      <th>179</th>\n",
       "      <td>5</td>\n",
       "      <td>240</td>\n",
       "      <td>0.944078</td>\n",
       "      <td>0.933686</td>\n",
       "    </tr>\n",
       "    <tr>\n",
       "      <th>170</th>\n",
       "      <td>5</td>\n",
       "      <td>199</td>\n",
       "      <td>0.858543</td>\n",
       "      <td>0.927441</td>\n",
       "    </tr>\n",
       "    <tr>\n",
       "      <th>151</th>\n",
       "      <td>5</td>\n",
       "      <td>133</td>\n",
       "      <td>0.893055</td>\n",
       "      <td>0.924260</td>\n",
       "    </tr>\n",
       "  </tbody>\n",
       "</table>\n",
       "</div>"
      ],
      "text/plain": [
       "     objid  worker_id  Precision    Recall\n",
       "178      5        238   0.937722  0.950324\n",
       "155      5        146   0.937226  0.939745\n",
       "179      5        240   0.944078  0.933686\n",
       "170      5        199   0.858543  0.927441\n",
       "151      5        133   0.893055  0.924260"
      ]
     },
     "execution_count": 19,
     "metadata": {},
     "output_type": "execute_result"
    }
   ],
   "source": [
    "workerPR[workerPR[\"objid\"]==5].sort(columns=[\"Recall\",\"Precision\"],ascending=False).head()"
   ]
  },
  {
   "cell_type": "code",
   "execution_count": 20,
   "metadata": {
    "collapsed": false
   },
   "outputs": [
    {
     "data": {
      "text/html": [
       "<div>\n",
       "<table border=\"1\" class=\"dataframe\">\n",
       "  <thead>\n",
       "    <tr style=\"text-align: right;\">\n",
       "      <th></th>\n",
       "      <th>objid</th>\n",
       "      <th>T prime</th>\n",
       "      <th>Total Votes</th>\n",
       "      <th>Average Votes</th>\n",
       "      <th>Total gamma value</th>\n",
       "      <th>Average gamma value</th>\n",
       "      <th>Total area</th>\n",
       "      <th>Average area</th>\n",
       "      <th>Precision</th>\n",
       "      <th>Recall</th>\n",
       "    </tr>\n",
       "  </thead>\n",
       "  <tbody>\n",
       "    <tr>\n",
       "      <th>14578</th>\n",
       "      <td>5</td>\n",
       "      <td>[1574 1823  954 3198 1702 2890 3103 1626 1604 ...</td>\n",
       "      <td>1282</td>\n",
       "      <td>35.611111</td>\n",
       "      <td>34.209592</td>\n",
       "      <td>0.950266</td>\n",
       "      <td>5504.311643</td>\n",
       "      <td>152.897546</td>\n",
       "      <td>0.996564</td>\n",
       "      <td>1</td>\n",
       "    </tr>\n",
       "    <tr>\n",
       "      <th>12412</th>\n",
       "      <td>5</td>\n",
       "      <td>[ 954 2711 1781 3048 2880 1394 2992 2961 1877 ...</td>\n",
       "      <td>1333</td>\n",
       "      <td>36.027027</td>\n",
       "      <td>35.205228</td>\n",
       "      <td>0.951493</td>\n",
       "      <td>5511.561788</td>\n",
       "      <td>148.961129</td>\n",
       "      <td>0.996484</td>\n",
       "      <td>1</td>\n",
       "    </tr>\n",
       "    <tr>\n",
       "      <th>13090</th>\n",
       "      <td>5</td>\n",
       "      <td>[1794 3179 2824 2992 2961 1432 1867 3198 2890 ...</td>\n",
       "      <td>1138</td>\n",
       "      <td>35.562500</td>\n",
       "      <td>30.298149</td>\n",
       "      <td>0.946817</td>\n",
       "      <td>5219.164445</td>\n",
       "      <td>163.098889</td>\n",
       "      <td>0.996474</td>\n",
       "      <td>1</td>\n",
       "    </tr>\n",
       "    <tr>\n",
       "      <th>12081</th>\n",
       "      <td>5</td>\n",
       "      <td>[2946 2824 2394 1794 1557 1823 2711 2890 2992 ...</td>\n",
       "      <td>925</td>\n",
       "      <td>35.576923</td>\n",
       "      <td>24.281738</td>\n",
       "      <td>0.933913</td>\n",
       "      <td>5262.286656</td>\n",
       "      <td>202.395641</td>\n",
       "      <td>0.996450</td>\n",
       "      <td>1</td>\n",
       "    </tr>\n",
       "    <tr>\n",
       "      <th>13385</th>\n",
       "      <td>5</td>\n",
       "      <td>[3182 2711 2487 1001 2573 1823 1394 2992 3242 ...</td>\n",
       "      <td>1210</td>\n",
       "      <td>35.588235</td>\n",
       "      <td>32.223851</td>\n",
       "      <td>0.947760</td>\n",
       "      <td>5457.648058</td>\n",
       "      <td>160.519061</td>\n",
       "      <td>0.996445</td>\n",
       "      <td>1</td>\n",
       "    </tr>\n",
       "  </tbody>\n",
       "</table>\n",
       "</div>"
      ],
      "text/plain": [
       "       objid                                            T prime  Total Votes  \\\n",
       "14578      5  [1574 1823  954 3198 1702 2890 3103 1626 1604 ...         1282   \n",
       "12412      5  [ 954 2711 1781 3048 2880 1394 2992 2961 1877 ...         1333   \n",
       "13090      5  [1794 3179 2824 2992 2961 1432 1867 3198 2890 ...         1138   \n",
       "12081      5  [2946 2824 2394 1794 1557 1823 2711 2890 2992 ...          925   \n",
       "13385      5  [3182 2711 2487 1001 2573 1823 1394 2992 3242 ...         1210   \n",
       "\n",
       "       Average Votes  Total gamma value  Average gamma value   Total area  \\\n",
       "14578      35.611111          34.209592             0.950266  5504.311643   \n",
       "12412      36.027027          35.205228             0.951493  5511.561788   \n",
       "13090      35.562500          30.298149             0.946817  5219.164445   \n",
       "12081      35.576923          24.281738             0.933913  5262.286656   \n",
       "13385      35.588235          32.223851             0.947760  5457.648058   \n",
       "\n",
       "       Average area  Precision  Recall  \n",
       "14578    152.897546   0.996564       1  \n",
       "12412    148.961129   0.996484       1  \n",
       "13090    163.098889   0.996474       1  \n",
       "12081    202.395641   0.996450       1  \n",
       "13385    160.519061   0.996445       1  "
      ]
     },
     "execution_count": 20,
     "metadata": {},
     "output_type": "execute_result"
    }
   ],
   "source": [
    "df.sort(columns=[\"Recall\",\"Precision\"],ascending=False).head()"
   ]
  },
  {
   "cell_type": "code",
   "execution_count": 25,
   "metadata": {
    "collapsed": false
   },
   "outputs": [
    {
     "data": {
      "text/html": [
       "<div>\n",
       "<table border=\"1\" class=\"dataframe\">\n",
       "  <thead>\n",
       "    <tr style=\"text-align: right;\">\n",
       "      <th></th>\n",
       "      <th>objid</th>\n",
       "      <th>worker_id</th>\n",
       "      <th>Precision</th>\n",
       "      <th>Recall</th>\n",
       "    </tr>\n",
       "  </thead>\n",
       "  <tbody>\n",
       "    <tr>\n",
       "      <th>456</th>\n",
       "      <td>12</td>\n",
       "      <td>2</td>\n",
       "      <td>1.000000</td>\n",
       "      <td>1.000000</td>\n",
       "    </tr>\n",
       "    <tr>\n",
       "      <th>420</th>\n",
       "      <td>12</td>\n",
       "      <td>6</td>\n",
       "      <td>0.754620</td>\n",
       "      <td>0.997418</td>\n",
       "    </tr>\n",
       "    <tr>\n",
       "      <th>429</th>\n",
       "      <td>12</td>\n",
       "      <td>133</td>\n",
       "      <td>0.834533</td>\n",
       "      <td>0.989076</td>\n",
       "    </tr>\n",
       "    <tr>\n",
       "      <th>453</th>\n",
       "      <td>12</td>\n",
       "      <td>233</td>\n",
       "      <td>0.866979</td>\n",
       "      <td>0.981572</td>\n",
       "    </tr>\n",
       "    <tr>\n",
       "      <th>425</th>\n",
       "      <td>12</td>\n",
       "      <td>54</td>\n",
       "      <td>0.926036</td>\n",
       "      <td>0.981140</td>\n",
       "    </tr>\n",
       "  </tbody>\n",
       "</table>\n",
       "</div>"
      ],
      "text/plain": [
       "     objid  worker_id  Precision    Recall\n",
       "456     12          2   1.000000  1.000000\n",
       "420     12          6   0.754620  0.997418\n",
       "429     12        133   0.834533  0.989076\n",
       "453     12        233   0.866979  0.981572\n",
       "425     12         54   0.926036  0.981140"
      ]
     },
     "execution_count": 25,
     "metadata": {},
     "output_type": "execute_result"
    }
   ],
   "source": [
    "workerPR[workerPR[\"objid\"]==12].sort(columns=[\"Recall\",\"Precision\"],ascending=False).head()"
   ]
  },
  {
   "cell_type": "code",
   "execution_count": 24,
   "metadata": {
    "collapsed": false
   },
   "outputs": [
    {
     "data": {
      "text/html": [
       "<div>\n",
       "<table border=\"1\" class=\"dataframe\">\n",
       "  <thead>\n",
       "    <tr style=\"text-align: right;\">\n",
       "      <th></th>\n",
       "      <th>objid</th>\n",
       "      <th>T prime</th>\n",
       "      <th>Total Votes</th>\n",
       "      <th>Average Votes</th>\n",
       "      <th>Total gamma value</th>\n",
       "      <th>Average gamma value</th>\n",
       "      <th>Total area</th>\n",
       "      <th>Average area</th>\n",
       "      <th>Precision</th>\n",
       "      <th>Recall</th>\n",
       "    </tr>\n",
       "  </thead>\n",
       "  <tbody>\n",
       "    <tr>\n",
       "      <th>35332</th>\n",
       "      <td>12</td>\n",
       "      <td>[1471 2258 1375 3287 2932 2729 3000 3237 1341 ...</td>\n",
       "      <td>881</td>\n",
       "      <td>38.304348</td>\n",
       "      <td>21.334367</td>\n",
       "      <td>0.927581</td>\n",
       "      <td>4305.369444</td>\n",
       "      <td>187.189976</td>\n",
       "      <td>0.994579</td>\n",
       "      <td>1</td>\n",
       "    </tr>\n",
       "    <tr>\n",
       "      <th>33163</th>\n",
       "      <td>12</td>\n",
       "      <td>[2777 2809 3287 3052 2942 1212 1016 2840 2877 ...</td>\n",
       "      <td>1202</td>\n",
       "      <td>37.562500</td>\n",
       "      <td>28.495182</td>\n",
       "      <td>0.890474</td>\n",
       "      <td>6494.298063</td>\n",
       "      <td>202.946814</td>\n",
       "      <td>0.990707</td>\n",
       "      <td>1</td>\n",
       "    </tr>\n",
       "    <tr>\n",
       "      <th>34093</th>\n",
       "      <td>12</td>\n",
       "      <td>[3000 3237 3248 2942 3257 3106 2840  174  543 ...</td>\n",
       "      <td>1095</td>\n",
       "      <td>36.500000</td>\n",
       "      <td>25.524699</td>\n",
       "      <td>0.850823</td>\n",
       "      <td>6441.237484</td>\n",
       "      <td>214.707916</td>\n",
       "      <td>0.989595</td>\n",
       "      <td>1</td>\n",
       "    </tr>\n",
       "    <tr>\n",
       "      <th>35795</th>\n",
       "      <td>12</td>\n",
       "      <td>[1375 2901 3287 2932 2809 3185 2942 3257 1187 ...</td>\n",
       "      <td>1015</td>\n",
       "      <td>37.592593</td>\n",
       "      <td>23.529049</td>\n",
       "      <td>0.871446</td>\n",
       "      <td>6391.852677</td>\n",
       "      <td>236.735284</td>\n",
       "      <td>0.989493</td>\n",
       "      <td>1</td>\n",
       "    </tr>\n",
       "    <tr>\n",
       "      <th>34491</th>\n",
       "      <td>12</td>\n",
       "      <td>[1187 3000 2942 2729 2901  184 3185 1212 1876 ...</td>\n",
       "      <td>737</td>\n",
       "      <td>36.850000</td>\n",
       "      <td>17.355011</td>\n",
       "      <td>0.867751</td>\n",
       "      <td>4276.053831</td>\n",
       "      <td>213.802692</td>\n",
       "      <td>0.989081</td>\n",
       "      <td>1</td>\n",
       "    </tr>\n",
       "  </tbody>\n",
       "</table>\n",
       "</div>"
      ],
      "text/plain": [
       "       objid                                            T prime  Total Votes  \\\n",
       "35332     12  [1471 2258 1375 3287 2932 2729 3000 3237 1341 ...          881   \n",
       "33163     12  [2777 2809 3287 3052 2942 1212 1016 2840 2877 ...         1202   \n",
       "34093     12  [3000 3237 3248 2942 3257 3106 2840  174  543 ...         1095   \n",
       "35795     12  [1375 2901 3287 2932 2809 3185 2942 3257 1187 ...         1015   \n",
       "34491     12  [1187 3000 2942 2729 2901  184 3185 1212 1876 ...          737   \n",
       "\n",
       "       Average Votes  Total gamma value  Average gamma value   Total area  \\\n",
       "35332      38.304348          21.334367             0.927581  4305.369444   \n",
       "33163      37.562500          28.495182             0.890474  6494.298063   \n",
       "34093      36.500000          25.524699             0.850823  6441.237484   \n",
       "35795      37.592593          23.529049             0.871446  6391.852677   \n",
       "34491      36.850000          17.355011             0.867751  4276.053831   \n",
       "\n",
       "       Average area  Precision  Recall  \n",
       "35332    187.189976   0.994579       1  \n",
       "33163    202.946814   0.990707       1  \n",
       "34093    214.707916   0.989595       1  \n",
       "35795    236.735284   0.989493       1  \n",
       "34491    213.802692   0.989081       1  "
      ]
     },
     "execution_count": 24,
     "metadata": {},
     "output_type": "execute_result"
    }
   ],
   "source": [
    "df[df[\"objid\"]==12].sort(columns=[\"Recall\",\"Precision\"],ascending=False).head()"
   ]
  },
  {
   "cell_type": "markdown",
   "metadata": {},
   "source": [
    "# Correlation between variables"
   ]
  },
  {
   "cell_type": "code",
   "execution_count": 11,
   "metadata": {
    "collapsed": true
   },
   "outputs": [],
   "source": [
    "df = df[df[\"Total gamma value\"]!=0]"
   ]
  },
  {
   "cell_type": "code",
   "execution_count": 12,
   "metadata": {
    "collapsed": false
   },
   "outputs": [],
   "source": [
    "df[\"N tiles\"] = df[\"T prime\"].apply(lambda x:len(x))"
   ]
  },
  {
   "cell_type": "code",
   "execution_count": 13,
   "metadata": {
    "collapsed": false
   },
   "outputs": [
    {
     "data": {
      "text/html": [
       "<div>\n",
       "<table border=\"1\" class=\"dataframe\">\n",
       "  <thead>\n",
       "    <tr style=\"text-align: right;\">\n",
       "      <th></th>\n",
       "      <th>Total Votes</th>\n",
       "      <th>Average Votes</th>\n",
       "      <th>Total gamma value</th>\n",
       "      <th>Average gamma value</th>\n",
       "      <th>Total area</th>\n",
       "      <th>Average area</th>\n",
       "      <th>pTprime</th>\n",
       "      <th>Precision</th>\n",
       "      <th>Recall</th>\n",
       "      <th>N tiles</th>\n",
       "    </tr>\n",
       "  </thead>\n",
       "  <tbody>\n",
       "    <tr>\n",
       "      <th>Total Votes</th>\n",
       "      <td>1.000000</td>\n",
       "      <td>0.430161</td>\n",
       "      <td>0.963644</td>\n",
       "      <td>0.351308</td>\n",
       "      <td>0.308626</td>\n",
       "      <td>-0.069693</td>\n",
       "      <td>-0.351208</td>\n",
       "      <td>0.353476</td>\n",
       "      <td>0.665830</td>\n",
       "      <td>0.857602</td>\n",
       "    </tr>\n",
       "    <tr>\n",
       "      <th>Average Votes</th>\n",
       "      <td>0.430161</td>\n",
       "      <td>1.000000</td>\n",
       "      <td>0.365509</td>\n",
       "      <td>0.838335</td>\n",
       "      <td>-0.200948</td>\n",
       "      <td>-0.147188</td>\n",
       "      <td>-0.552292</td>\n",
       "      <td>0.730186</td>\n",
       "      <td>0.174105</td>\n",
       "      <td>0.011355</td>\n",
       "    </tr>\n",
       "    <tr>\n",
       "      <th>Total gamma value</th>\n",
       "      <td>0.963644</td>\n",
       "      <td>0.365509</td>\n",
       "      <td>1.000000</td>\n",
       "      <td>0.405739</td>\n",
       "      <td>0.350402</td>\n",
       "      <td>-0.055503</td>\n",
       "      <td>-0.290224</td>\n",
       "      <td>0.305146</td>\n",
       "      <td>0.634076</td>\n",
       "      <td>0.864060</td>\n",
       "    </tr>\n",
       "    <tr>\n",
       "      <th>Average gamma value</th>\n",
       "      <td>0.351308</td>\n",
       "      <td>0.838335</td>\n",
       "      <td>0.405739</td>\n",
       "      <td>1.000000</td>\n",
       "      <td>-0.154358</td>\n",
       "      <td>-0.166572</td>\n",
       "      <td>-0.408713</td>\n",
       "      <td>0.598474</td>\n",
       "      <td>0.039065</td>\n",
       "      <td>0.009135</td>\n",
       "    </tr>\n",
       "    <tr>\n",
       "      <th>Total area</th>\n",
       "      <td>0.308626</td>\n",
       "      <td>-0.200948</td>\n",
       "      <td>0.350402</td>\n",
       "      <td>-0.154358</td>\n",
       "      <td>1.000000</td>\n",
       "      <td>0.553916</td>\n",
       "      <td>0.022607</td>\n",
       "      <td>-0.338283</td>\n",
       "      <td>0.496475</td>\n",
       "      <td>0.512550</td>\n",
       "    </tr>\n",
       "    <tr>\n",
       "      <th>Average area</th>\n",
       "      <td>-0.069693</td>\n",
       "      <td>-0.147188</td>\n",
       "      <td>-0.055503</td>\n",
       "      <td>-0.166572</td>\n",
       "      <td>0.553916</td>\n",
       "      <td>1.000000</td>\n",
       "      <td>0.053782</td>\n",
       "      <td>-0.230480</td>\n",
       "      <td>0.165609</td>\n",
       "      <td>-0.000313</td>\n",
       "    </tr>\n",
       "    <tr>\n",
       "      <th>pTprime</th>\n",
       "      <td>-0.351208</td>\n",
       "      <td>-0.552292</td>\n",
       "      <td>-0.290224</td>\n",
       "      <td>-0.408713</td>\n",
       "      <td>0.022607</td>\n",
       "      <td>0.053782</td>\n",
       "      <td>1.000000</td>\n",
       "      <td>-0.437092</td>\n",
       "      <td>-0.174756</td>\n",
       "      <td>-0.102559</td>\n",
       "    </tr>\n",
       "    <tr>\n",
       "      <th>Precision</th>\n",
       "      <td>0.353476</td>\n",
       "      <td>0.730186</td>\n",
       "      <td>0.305146</td>\n",
       "      <td>0.598474</td>\n",
       "      <td>-0.338283</td>\n",
       "      <td>-0.230480</td>\n",
       "      <td>-0.437092</td>\n",
       "      <td>1.000000</td>\n",
       "      <td>0.233947</td>\n",
       "      <td>0.029946</td>\n",
       "    </tr>\n",
       "    <tr>\n",
       "      <th>Recall</th>\n",
       "      <td>0.665830</td>\n",
       "      <td>0.174105</td>\n",
       "      <td>0.634076</td>\n",
       "      <td>0.039065</td>\n",
       "      <td>0.496475</td>\n",
       "      <td>0.165609</td>\n",
       "      <td>-0.174756</td>\n",
       "      <td>0.233947</td>\n",
       "      <td>1.000000</td>\n",
       "      <td>0.688909</td>\n",
       "    </tr>\n",
       "    <tr>\n",
       "      <th>N tiles</th>\n",
       "      <td>0.857602</td>\n",
       "      <td>0.011355</td>\n",
       "      <td>0.864060</td>\n",
       "      <td>0.009135</td>\n",
       "      <td>0.512550</td>\n",
       "      <td>-0.000313</td>\n",
       "      <td>-0.102559</td>\n",
       "      <td>0.029946</td>\n",
       "      <td>0.688909</td>\n",
       "      <td>1.000000</td>\n",
       "    </tr>\n",
       "  </tbody>\n",
       "</table>\n",
       "</div>"
      ],
      "text/plain": [
       "                     Total Votes  Average Votes  Total gamma value  \\\n",
       "Total Votes             1.000000       0.430161           0.963644   \n",
       "Average Votes           0.430161       1.000000           0.365509   \n",
       "Total gamma value       0.963644       0.365509           1.000000   \n",
       "Average gamma value     0.351308       0.838335           0.405739   \n",
       "Total area              0.308626      -0.200948           0.350402   \n",
       "Average area           -0.069693      -0.147188          -0.055503   \n",
       "pTprime                -0.351208      -0.552292          -0.290224   \n",
       "Precision               0.353476       0.730186           0.305146   \n",
       "Recall                  0.665830       0.174105           0.634076   \n",
       "N tiles                 0.857602       0.011355           0.864060   \n",
       "\n",
       "                     Average gamma value  Total area  Average area   pTprime  \\\n",
       "Total Votes                     0.351308    0.308626     -0.069693 -0.351208   \n",
       "Average Votes                   0.838335   -0.200948     -0.147188 -0.552292   \n",
       "Total gamma value               0.405739    0.350402     -0.055503 -0.290224   \n",
       "Average gamma value             1.000000   -0.154358     -0.166572 -0.408713   \n",
       "Total area                     -0.154358    1.000000      0.553916  0.022607   \n",
       "Average area                   -0.166572    0.553916      1.000000  0.053782   \n",
       "pTprime                        -0.408713    0.022607      0.053782  1.000000   \n",
       "Precision                       0.598474   -0.338283     -0.230480 -0.437092   \n",
       "Recall                          0.039065    0.496475      0.165609 -0.174756   \n",
       "N tiles                         0.009135    0.512550     -0.000313 -0.102559   \n",
       "\n",
       "                     Precision    Recall   N tiles  \n",
       "Total Votes           0.353476  0.665830  0.857602  \n",
       "Average Votes         0.730186  0.174105  0.011355  \n",
       "Total gamma value     0.305146  0.634076  0.864060  \n",
       "Average gamma value   0.598474  0.039065  0.009135  \n",
       "Total area           -0.338283  0.496475  0.512550  \n",
       "Average area         -0.230480  0.165609 -0.000313  \n",
       "pTprime              -0.437092 -0.174756 -0.102559  \n",
       "Precision             1.000000  0.233947  0.029946  \n",
       "Recall                0.233947  1.000000  0.688909  \n",
       "N tiles               0.029946  0.688909  1.000000  "
      ]
     },
     "execution_count": 13,
     "metadata": {},
     "output_type": "execute_result"
    }
   ],
   "source": [
    "correlation = df[df.keys()[2:]].corr('pearson')\n",
    "correlation"
   ]
  },
  {
   "cell_type": "code",
   "execution_count": 15,
   "metadata": {
    "collapsed": false
   },
   "outputs": [
    {
     "data": {
      "text/plain": [
       "<matplotlib.colorbar.Colorbar instance at 0x112ca6638>"
      ]
     },
     "execution_count": 15,
     "metadata": {},
     "output_type": "execute_result"
    },
    {
     "data": {
      "image/png": "[encoded data removed]",
      "text/plain": [
       "<matplotlib.figure.Figure at 0x113a96b90>"
      ]
     },
     "metadata": {},
     "output_type": "display_data"
    }
   ],
   "source": [
    "plt.imshow(correlation.as_matrix(),interpolation=\"None\")\n",
    "ticks=np.arange(0,10)\n",
    "plt.xticks(ticks, df.keys()[2:], rotation='vertical')\n",
    "plt.yticks(ticks, df.keys()[2:], rotation='horizontal')\n",
    "plt.colorbar()"
   ]
  },
  {
   "cell_type": "markdown",
   "metadata": {},
   "source": [
    "# Regression for ground truth PR"
   ]
  },
  {
   "cell_type": "code",
   "execution_count": 16,
   "metadata": {
    "collapsed": false
   },
   "outputs": [
    {
     "name": "stdout",
     "output_type": "stream",
     "text": [
      "['Average Votes', 'Average gamma value', 'Total area', 'Average area', 'pTprime']\n",
      "['Precision', 'Recall']\n"
     ]
    }
   ],
   "source": [
    "x_attr = [\"Average Votes\",\"Average gamma value\",\"Total area\", \"Average area\",\"pTprime\"]\n",
    "# x_attr=df.keys()[2:-2]\n",
    "print x_attr\n",
    "y_attr = [\"Precision\",\"Recall\"]\n",
    "print y_attr"
   ]
  },
  {
   "cell_type": "code",
   "execution_count": 17,
   "metadata": {
    "collapsed": false
   },
   "outputs": [],
   "source": [
    "from sklearn import linear_model\n",
    "regr = linear_model.LinearRegression()"
   ]
  },
  {
   "cell_type": "code",
   "execution_count": 18,
   "metadata": {
    "collapsed": false
   },
   "outputs": [],
   "source": [
    "msk = np.random.rand(len(df)) < 0.8\n",
    "Xtrain = df[x_attr][msk].as_matrix()\n",
    "Xtest = df[x_attr][~msk].as_matrix()\n",
    "Ytrain = df[y_attr][msk].as_matrix()\n",
    "Ytest = df[y_attr][~msk].as_matrix()"
   ]
  },
  {
   "cell_type": "code",
   "execution_count": 19,
   "metadata": {
    "collapsed": false
   },
   "outputs": [
    {
     "data": {
      "text/plain": [
       "LinearRegression(copy_X=True, fit_intercept=True, n_jobs=1, normalize=False)"
      ]
     },
     "execution_count": 19,
     "metadata": {},
     "output_type": "execute_result"
    }
   ],
   "source": [
    "regr.fit(Xtrain,Ytrain)"
   ]
  },
  {
   "cell_type": "code",
   "execution_count": 20,
   "metadata": {
    "collapsed": false
   },
   "outputs": [
    {
     "name": "stdout",
     "output_type": "stream",
     "text": [
      "('Coefficients: \\n', array([[  2.69822798e-02,  -3.98519821e-02,  -1.48523471e-05,\n",
      "         -5.11429726e-05,  -1.42541311e+09],\n",
      "       [  2.35903031e-02,  -6.00653489e-01,   5.22500075e-05,\n",
      "         -2.51873890e-04,   1.71437477e+07]]))\n",
      "Mean squared error: 0.06\n",
      "R^2: 0.47\n"
     ]
    }
   ],
   "source": [
    "# The coefficients\n",
    "print('Coefficients: \\n', regr.coef_)\n",
    "# The mean squared error\n",
    "print(\"Mean squared error: %.2f\"\n",
    "      % np.mean((regr.predict(Xtest) - Ytest) ** 2))\n",
    "print('R^2: %.2f' % regr.score(Xtest, Ytest))"
   ]
  },
  {
   "cell_type": "code",
   "execution_count": 21,
   "metadata": {
    "collapsed": true
   },
   "outputs": [],
   "source": [
    "X = df[x_attr].as_matrix()\n",
    "Y = df[y_attr].as_matrix()"
   ]
  },
  {
   "cell_type": "code",
   "execution_count": 22,
   "metadata": {
    "collapsed": false
   },
   "outputs": [
    {
     "name": "stdout",
     "output_type": "stream",
     "text": [
      "('Coefficients: \\n', array([[  2.70029741e-02,  -4.21170281e-02,  -1.58187494e-05,\n",
      "         -3.02420685e-05,  -1.42984298e+09],\n",
      "       [  2.31077111e-02,  -5.81614653e-01,   4.96523558e-05,\n",
      "         -1.82840412e-04,  -7.88152418e+07]]))\n"
     ]
    }
   ],
   "source": [
    "regr.fit(X,Y)\n",
    "print('Coefficients: \\n', regr.coef_)"
   ]
  },
  {
   "cell_type": "code",
   "execution_count": 23,
   "metadata": {
    "collapsed": false,
    "scrolled": true
   },
   "outputs": [
    {
     "name": "stdout",
     "output_type": "stream",
     "text": [
      "0.717713602393\n",
      "0.511573837494\n"
     ]
    }
   ],
   "source": [
    "print np.mean(df[\"Precision\"])\n",
    "print np.mean(df[\"Recall\"])"
   ]
  },
  {
   "cell_type": "markdown",
   "metadata": {},
   "source": [
    "#### $\\therefore$ Average gamma value more important in determining actual PR compared to average area or average votes of the selected tiles , results qualitatively agree with our lossy BB2Tile algorithm"
   ]
  },
  {
   "cell_type": "markdown",
   "metadata": {},
   "source": [
    "### Regression on Precision and Recall Separately\n"
   ]
  },
  {
   "cell_type": "code",
   "execution_count": 53,
   "metadata": {
    "collapsed": true
   },
   "outputs": [],
   "source": [
    "def regression_results(x_attr,y_attr,PLOT=False):\n",
    "    regr = linear_model.LinearRegression()\n",
    "    msk = np.random.rand(len(df)) < 0.8\n",
    "    Xtrain = df[x_attr][msk].as_matrix()\n",
    "    Xtest = df[x_attr][~msk].as_matrix()\n",
    "    Ytrain = df[y_attr][msk].as_matrix()\n",
    "    Ytest = df[y_attr][~msk].as_matrix()\n",
    "    regr.fit(Xtrain,Ytrain)\n",
    "    # The coefficients\n",
    "    print('Coefficients: \\n', regr.coef_)\n",
    "    # The mean squared error\n",
    "    print(\"Mean squared error: %.2f\"\n",
    "          % np.mean((regr.predict(Xtest) - Ytest) ** 2))\n",
    "    print('R^2: %.2f' % regr.score(Xtest, Ytest))\n",
    "    if PLOT:\n",
    "        plt.plot(Xtest,Ytest,'o')\n",
    "        plt.plot(Xtest,regr.predict(Xtest),'r-')\n",
    "        plt.ylim(0,1)"
   ]
  },
  {
   "cell_type": "code",
   "execution_count": 29,
   "metadata": {
    "collapsed": false,
    "scrolled": true
   },
   "outputs": [
    {
     "name": "stdout",
     "output_type": "stream",
     "text": [
      "('Coefficients: \\n', array([[  2.69105812e-02,  -3.96526564e-02,  -1.56336120e-05,\n",
      "         -3.18086181e-05,  -1.45246459e+09]]))\n",
      "Mean squared error: 0.05\n",
      "R^2: 0.57\n"
     ]
    }
   ],
   "source": [
    "x_attr = [\"Average Votes\",\"Average gamma value\",\"Total area\", \"Average area\",\"pTprime\"]\n",
    "y_attr = [\"Precision\"]\n",
    "regression_results(x_attr,y_attr)"
   ]
  },
  {
   "cell_type": "code",
   "execution_count": 30,
   "metadata": {
    "collapsed": false
   },
   "outputs": [
    {
     "name": "stdout",
     "output_type": "stream",
     "text": [
      "('Coefficients: \\n', array([[  2.32691348e-02,  -5.86667998e-01,   4.99124225e-05,\n",
      "         -1.94343447e-04,  -4.88625058e+07]]))\n",
      "Mean squared error: 0.06\n",
      "R^2: 0.38\n"
     ]
    }
   ],
   "source": [
    "x_attr = [\"Average Votes\",\"Average gamma value\",\"Total area\", \"Average area\",\"pTprime\"]\n",
    "y_attr = [\"Recall\"]\n",
    "regression_results(x_attr,y_attr)"
   ]
  },
  {
   "cell_type": "markdown",
   "metadata": {},
   "source": [
    "# Regression on single x variables separately"
   ]
  },
  {
   "cell_type": "code",
   "execution_count": 49,
   "metadata": {
    "collapsed": false
   },
   "outputs": [
    {
     "name": "stdout",
     "output_type": "stream",
     "text": [
      "('Coefficients: \\n', array([[ -3.22319310e+09]]))\n",
      "Mean squared error: 0.09\n",
      "R^2: 0.03\n"
     ]
    },
    {
     "data": {
      "image/png": "[encoded data removed]",
      "text/plain": [
       "<matplotlib.figure.Figure at 0x11636dbd0>"
      ]
     },
     "metadata": {},
     "output_type": "display_data"
    }
   ],
   "source": [
    "x_attr = [\"pTprime\"]\n",
    "y_attr = [\"Recall\"]\n",
    "regression_results(x_attr,y_attr,PLOT=True)"
   ]
  },
  {
   "cell_type": "code",
   "execution_count": 51,
   "metadata": {
    "collapsed": false
   },
   "outputs": [
    {
     "name": "stdout",
     "output_type": "stream",
     "text": [
      "('Coefficients: \\n', array([[ -8.67219810e+09]]))\n",
      "Mean squared error: 0.09\n",
      "R^2: 0.19\n"
     ]
    },
    {
     "data": {
      "image/png": "[encoded data removed]",
      "text/plain": [
       "<matplotlib.figure.Figure at 0x1161fab10>"
      ]
     },
     "metadata": {},
     "output_type": "display_data"
    }
   ],
   "source": [
    "x_attr = [\"pTprime\"]\n",
    "y_attr = [\"Precision\"]\n",
    "regression_results(x_attr,y_attr,PLOT=True)"
   ]
  },
  {
   "cell_type": "code",
   "execution_count": 54,
   "metadata": {
    "collapsed": false
   },
   "outputs": [
    {
     "name": "stdout",
     "output_type": "stream",
     "text": [
      "('Coefficients: \\n', array([[ 0.02941926]]))\n",
      "Mean squared error: 0.05\n",
      "R^2: 0.53\n"
     ]
    },
    {
     "data": {
      "image/png": "[encoded data removed]",
      "text/plain": [
       "<matplotlib.figure.Figure at 0x1157c8fd0>"
      ]
     },
     "metadata": {},
     "output_type": "display_data"
    }
   ],
   "source": [
    "x_attr = [\"Average Votes\"]\n",
    "y_attr = [\"Precision\"]\n",
    "regression_results(x_attr,y_attr,PLOT=True)"
   ]
  },
  {
   "cell_type": "markdown",
   "metadata": {},
   "source": [
    "You can't really compare the fitting coefficients because the data attributes are unnormalized, so comparing votes to pTprime is like comparing apples to oranges. You need to somehow use normalized attributes scaled in the same way or just look at the R^2 results"
   ]
  },
  {
   "cell_type": "code",
   "execution_count": null,
   "metadata": {
    "collapsed": true
   },
   "outputs": [],
   "source": []
  }
 ],
 "metadata": {
  "kernelspec": {
   "display_name": "Python 2",
   "language": "python",
   "name": "python2"
  },
  "language_info": {
   "codemirror_mode": {
    "name": "ipython",
    "version": 2
   },
   "file_extension": ".py",
   "mimetype": "text/x-python",
   "name": "python",
   "nbconvert_exporter": "python",
   "pygments_lexer": "ipython2",
   "version": "2.7.10"
  }
 },
 "nbformat": 4,
 "nbformat_minor": 0
}
