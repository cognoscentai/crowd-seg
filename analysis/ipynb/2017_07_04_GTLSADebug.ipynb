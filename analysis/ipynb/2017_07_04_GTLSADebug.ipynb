{
 "cells": [
  {
   "cell_type": "code",
   "execution_count": 6,
   "metadata": {},
   "outputs": [
    {
     "name": "stdout",
     "output_type": "stream",
     "text": [
      "Populating the interactive namespace from numpy and matplotlib\n"
     ]
    }
   ],
   "source": [
    "%pylab inline"
   ]
  },
  {
   "cell_type": "code",
   "execution_count": 7,
   "metadata": {},
   "outputs": [
    {
     "name": "stdout",
     "output_type": "stream",
     "text": [
      "/srv/data/home/jlee782/crowd-seg/analysis/TileEM\n"
     ]
    }
   ],
   "source": [
    "cd ../TileEM/"
   ]
  },
  {
   "cell_type": "code",
   "execution_count": 8,
   "metadata": {},
   "outputs": [
    {
     "name": "stdout",
     "output_type": "stream",
     "text": [
      "The autoreload extension is already loaded. To reload it, use:\n",
      "  %reload_ext autoreload\n"
     ]
    }
   ],
   "source": [
    "%load_ext autoreload\n",
    "%autoreload 2\n",
    "from paper_visualizations import * \n",
    "from PixelEM import * \n",
    "from test_sample import test_sample_obj\n",
    "import json"
   ]
  },
  {
   "cell_type": "code",
   "execution_count": 17,
   "metadata": {
    "collapsed": true
   },
   "outputs": [],
   "source": [
    "final_df=pd.read_csv(\"cleaned_ground_truth_rerun_full_PRJ_table_invariant_fixed.csv\",index_col=0)\n",
    "keys=['num_workers','objid','thresh','J [MV]', u'J [GT]', u'J [basic]', u'J [GTLSA]', u'J [isoGT]','J [isoGTLSA]']"
   ]
  },
  {
   "cell_type": "markdown",
   "metadata": {},
   "source": [
    "#### Result from best performing parameter for each algo"
   ]
  },
  {
   "cell_type": "code",
   "execution_count": 19,
   "metadata": {},
   "outputs": [
    {
     "name": "stdout",
     "output_type": "stream",
     "text": [
      "basic : 0.893\n",
      "MV : 0.882\n",
      "GT : 0.898\n",
      "GTLSA : 0.884\n",
      "isoGT : 0.911\n",
      "isoGTLSA : 0.912\n"
     ]
    }
   ],
   "source": [
    "for algo in ['basic','MV','GT','GTLSA','isoGT','isoGTLSA']:\n",
    "    print algo,\": %.3f\" %newdf.groupby([\"num_workers\",\"sample_num\",\"objid\"])[\"J [{}]\".format(algo)].max().mean()"
   ]
  },
  {
   "cell_type": "markdown",
   "metadata": {},
   "source": [
    "### Objects where GTLSA performs badly "
   ]
  },
  {
   "cell_type": "code",
   "execution_count": 20,
   "metadata": {},
   "outputs": [
    {
     "data": {
      "image/png": "[encoded data removed]",
      "text/plain": [
       "<matplotlib.figure.Figure at 0x5a0a710>"
      ]
     },
     "metadata": {},
     "output_type": "display_data"
    },
    {
     "data": {
      "image/png": "[encoded data removed]",
      "text/plain": [
       "<matplotlib.figure.Figure at 0x5a0ad90>"
      ]
     },
     "metadata": {},
     "output_type": "display_data"
    }
   ],
   "source": [
    "compare_PRJ_fixed_attr(final_df,\"thresh\",\"GTLSA\",\"basic\",'J')\n",
    "compare_PRJ_fixed_attr(final_df,\"num_workers\",\"GTLSA\",\"basic\",'J')"
   ]
  },
  {
   "cell_type": "code",
   "execution_count": 23,
   "metadata": {},
   "outputs": [
    {
     "data": {
      "text/html": [
       "<div>\n",
       "<table border=\"1\" class=\"dataframe\">\n",
       "  <thead>\n",
       "    <tr style=\"text-align: right;\">\n",
       "      <th></th>\n",
       "      <th>num_workers</th>\n",
       "      <th>objid</th>\n",
       "      <th>thresh</th>\n",
       "      <th>J [MV]</th>\n",
       "      <th>J [GT]</th>\n",
       "      <th>J [basic]</th>\n",
       "      <th>J [GTLSA]</th>\n",
       "      <th>J [isoGT]</th>\n",
       "      <th>J [isoGTLSA]</th>\n",
       "    </tr>\n",
       "  </thead>\n",
       "  <tbody>\n",
       "    <tr>\n",
       "      <th>87</th>\n",
       "      <td>5</td>\n",
       "      <td>7</td>\n",
       "      <td>-2</td>\n",
       "      <td>0.529387</td>\n",
       "      <td>0.536744</td>\n",
       "      <td>0.529387</td>\n",
       "      <td>0.014117</td>\n",
       "      <td>0.554982</td>\n",
       "      <td>0.558377</td>\n",
       "    </tr>\n",
       "    <tr>\n",
       "      <th>88</th>\n",
       "      <td>5</td>\n",
       "      <td>7</td>\n",
       "      <td>-1</td>\n",
       "      <td>0.529387</td>\n",
       "      <td>0.536744</td>\n",
       "      <td>0.529387</td>\n",
       "      <td>0.014117</td>\n",
       "      <td>0.559589</td>\n",
       "      <td>0.559941</td>\n",
       "    </tr>\n",
       "    <tr>\n",
       "      <th>91</th>\n",
       "      <td>5</td>\n",
       "      <td>7</td>\n",
       "      <td>2</td>\n",
       "      <td>0.529387</td>\n",
       "      <td>0.536744</td>\n",
       "      <td>0.529387</td>\n",
       "      <td>0.054795</td>\n",
       "      <td>0.524335</td>\n",
       "      <td>0.516338</td>\n",
       "    </tr>\n",
       "    <tr>\n",
       "      <th>132</th>\n",
       "      <td>5</td>\n",
       "      <td>2</td>\n",
       "      <td>2</td>\n",
       "      <td>0.928316</td>\n",
       "      <td>0.917808</td>\n",
       "      <td>0.928316</td>\n",
       "      <td>0.033390</td>\n",
       "      <td>0.920753</td>\n",
       "      <td>0.822462</td>\n",
       "    </tr>\n",
       "    <tr>\n",
       "      <th>157</th>\n",
       "      <td>5</td>\n",
       "      <td>10</td>\n",
       "      <td>2</td>\n",
       "      <td>0.941518</td>\n",
       "      <td>0.943766</td>\n",
       "      <td>0.941518</td>\n",
       "      <td>0.039686</td>\n",
       "      <td>0.948033</td>\n",
       "      <td>0.894728</td>\n",
       "    </tr>\n",
       "    <tr>\n",
       "      <th>183</th>\n",
       "      <td>5</td>\n",
       "      <td>19</td>\n",
       "      <td>-2</td>\n",
       "      <td>0.846169</td>\n",
       "      <td>0.871913</td>\n",
       "      <td>0.846169</td>\n",
       "      <td>0.025171</td>\n",
       "      <td>0.857520</td>\n",
       "      <td>0.877196</td>\n",
       "    </tr>\n",
       "    <tr>\n",
       "      <th>193</th>\n",
       "      <td>5</td>\n",
       "      <td>21</td>\n",
       "      <td>-2</td>\n",
       "      <td>0.912607</td>\n",
       "      <td>0.935452</td>\n",
       "      <td>0.912607</td>\n",
       "      <td>0.021104</td>\n",
       "      <td>0.937921</td>\n",
       "      <td>0.936441</td>\n",
       "    </tr>\n",
       "    <tr>\n",
       "      <th>207</th>\n",
       "      <td>5</td>\n",
       "      <td>23</td>\n",
       "      <td>2</td>\n",
       "      <td>0.890073</td>\n",
       "      <td>0.911436</td>\n",
       "      <td>0.890073</td>\n",
       "      <td>0.072951</td>\n",
       "      <td>0.882835</td>\n",
       "      <td>0.887907</td>\n",
       "    </tr>\n",
       "    <tr>\n",
       "      <th>242</th>\n",
       "      <td>5</td>\n",
       "      <td>30</td>\n",
       "      <td>2</td>\n",
       "      <td>0.866914</td>\n",
       "      <td>0.866914</td>\n",
       "      <td>0.881969</td>\n",
       "      <td>0.042034</td>\n",
       "      <td>0.857201</td>\n",
       "      <td>0.816340</td>\n",
       "    </tr>\n",
       "    <tr>\n",
       "      <th>282</th>\n",
       "      <td>5</td>\n",
       "      <td>39</td>\n",
       "      <td>2</td>\n",
       "      <td>0.973194</td>\n",
       "      <td>0.973194</td>\n",
       "      <td>0.973194</td>\n",
       "      <td>0.016331</td>\n",
       "      <td>0.971443</td>\n",
       "      <td>0.978188</td>\n",
       "    </tr>\n",
       "    <tr>\n",
       "      <th>283</th>\n",
       "      <td>5</td>\n",
       "      <td>42</td>\n",
       "      <td>-2</td>\n",
       "      <td>0.839864</td>\n",
       "      <td>0.865608</td>\n",
       "      <td>0.839864</td>\n",
       "      <td>0.023189</td>\n",
       "      <td>0.839864</td>\n",
       "      <td>0.856834</td>\n",
       "    </tr>\n",
       "    <tr>\n",
       "      <th>286</th>\n",
       "      <td>5</td>\n",
       "      <td>42</td>\n",
       "      <td>1</td>\n",
       "      <td>0.839864</td>\n",
       "      <td>0.860522</td>\n",
       "      <td>0.839864</td>\n",
       "      <td>0.143405</td>\n",
       "      <td>0.791114</td>\n",
       "      <td>0.102146</td>\n",
       "    </tr>\n",
       "    <tr>\n",
       "      <th>287</th>\n",
       "      <td>5</td>\n",
       "      <td>42</td>\n",
       "      <td>2</td>\n",
       "      <td>0.839864</td>\n",
       "      <td>0.860522</td>\n",
       "      <td>0.839864</td>\n",
       "      <td>0.141128</td>\n",
       "      <td>0.079730</td>\n",
       "      <td>0.085390</td>\n",
       "    </tr>\n",
       "    <tr>\n",
       "      <th>298</th>\n",
       "      <td>5</td>\n",
       "      <td>45</td>\n",
       "      <td>-2</td>\n",
       "      <td>0.845460</td>\n",
       "      <td>0.865018</td>\n",
       "      <td>0.845460</td>\n",
       "      <td>0.017403</td>\n",
       "      <td>0.870392</td>\n",
       "      <td>0.876148</td>\n",
       "    </tr>\n",
       "    <tr>\n",
       "      <th>766</th>\n",
       "      <td>10</td>\n",
       "      <td>29</td>\n",
       "      <td>-2</td>\n",
       "      <td>0.843378</td>\n",
       "      <td>0.808541</td>\n",
       "      <td>0.828303</td>\n",
       "      <td>0.180898</td>\n",
       "      <td>0.808562</td>\n",
       "      <td>0.721073</td>\n",
       "    </tr>\n",
       "  </tbody>\n",
       "</table>\n",
       "</div>"
      ],
      "text/plain": [
       "     num_workers  objid  thresh    J [MV]    J [GT]  J [basic]  J [GTLSA]  \\\n",
       "87             5      7      -2  0.529387  0.536744   0.529387   0.014117   \n",
       "88             5      7      -1  0.529387  0.536744   0.529387   0.014117   \n",
       "91             5      7       2  0.529387  0.536744   0.529387   0.054795   \n",
       "132            5      2       2  0.928316  0.917808   0.928316   0.033390   \n",
       "157            5     10       2  0.941518  0.943766   0.941518   0.039686   \n",
       "183            5     19      -2  0.846169  0.871913   0.846169   0.025171   \n",
       "193            5     21      -2  0.912607  0.935452   0.912607   0.021104   \n",
       "207            5     23       2  0.890073  0.911436   0.890073   0.072951   \n",
       "242            5     30       2  0.866914  0.866914   0.881969   0.042034   \n",
       "282            5     39       2  0.973194  0.973194   0.973194   0.016331   \n",
       "283            5     42      -2  0.839864  0.865608   0.839864   0.023189   \n",
       "286            5     42       1  0.839864  0.860522   0.839864   0.143405   \n",
       "287            5     42       2  0.839864  0.860522   0.839864   0.141128   \n",
       "298            5     45      -2  0.845460  0.865018   0.845460   0.017403   \n",
       "766           10     29      -2  0.843378  0.808541   0.828303   0.180898   \n",
       "\n",
       "     J [isoGT]  J [isoGTLSA]  \n",
       "87    0.554982      0.558377  \n",
       "88    0.559589      0.559941  \n",
       "91    0.524335      0.516338  \n",
       "132   0.920753      0.822462  \n",
       "157   0.948033      0.894728  \n",
       "183   0.857520      0.877196  \n",
       "193   0.937921      0.936441  \n",
       "207   0.882835      0.887907  \n",
       "242   0.857201      0.816340  \n",
       "282   0.971443      0.978188  \n",
       "283   0.839864      0.856834  \n",
       "286   0.791114      0.102146  \n",
       "287   0.079730      0.085390  \n",
       "298   0.870392      0.876148  \n",
       "766   0.808562      0.721073  "
      ]
     },
     "execution_count": 23,
     "metadata": {},
     "output_type": "execute_result"
    }
   ],
   "source": [
    "final_df[final_df[\"J [GTLSA]\"]<0.3][keys]"
   ]
  },
  {
   "cell_type": "code",
   "execution_count": 22,
   "metadata": {},
   "outputs": [
    {
     "data": {
      "text/html": [
       "<div>\n",
       "<table border=\"1\" class=\"dataframe\">\n",
       "  <thead>\n",
       "    <tr style=\"text-align: right;\">\n",
       "      <th></th>\n",
       "      <th>num_workers</th>\n",
       "      <th>objid</th>\n",
       "      <th>thresh</th>\n",
       "      <th>J [MV]</th>\n",
       "      <th>J [GT]</th>\n",
       "      <th>J [basic]</th>\n",
       "      <th>J [GTLSA]</th>\n",
       "      <th>J [isoGT]</th>\n",
       "      <th>J [isoGTLSA]</th>\n",
       "    </tr>\n",
       "  </thead>\n",
       "  <tbody>\n",
       "    <tr>\n",
       "      <th>766</th>\n",
       "      <td>10</td>\n",
       "      <td>29</td>\n",
       "      <td>-2</td>\n",
       "      <td>0.843378</td>\n",
       "      <td>0.808541</td>\n",
       "      <td>0.828303</td>\n",
       "      <td>0.180898</td>\n",
       "      <td>0.808562</td>\n",
       "      <td>0.721073</td>\n",
       "    </tr>\n",
       "  </tbody>\n",
       "</table>\n",
       "</div>"
      ],
      "text/plain": [
       "     num_workers  objid  thresh    J [MV]    J [GT]  J [basic]  J [GTLSA]  \\\n",
       "766           10     29      -2  0.843378  0.808541   0.828303   0.180898   \n",
       "\n",
       "     J [isoGT]  J [isoGTLSA]  \n",
       "766   0.808562      0.721073  "
      ]
     },
     "execution_count": 22,
     "metadata": {},
     "output_type": "execute_result"
    }
   ],
   "source": [
    "final_df[(final_df[\"num_workers\"]==10)&(final_df[\"objid\"]==29)&(final_df[\"thresh\"]==-2)][keys]"
   ]
  },
  {
   "cell_type": "markdown",
   "metadata": {},
   "source": [
    "task is to circle around the flower"
   ]
  },
  {
   "cell_type": "code",
   "execution_count": 46,
   "metadata": {},
   "outputs": [
    {
     "data": {
      "image/png": "[encoded data removed]",
      "text/plain": [
       "<matplotlib.figure.Figure at 0x924b1d0>"
      ]
     },
     "metadata": {},
     "output_type": "display_data"
    },
    {
     "data": {
      "image/png": "[encoded data removed]",
      "text/plain": [
       "<matplotlib.figure.Figure at 0x64ba510>"
      ]
     },
     "metadata": {},
     "output_type": "display_data"
    },
    {
     "data": {
      "image/png": "[encoded data removed]",
      "text/plain": [
       "<matplotlib.figure.Figure at 0x9409490>"
      ]
     },
     "metadata": {},
     "output_type": "display_data"
    },
    {
     "data": {
      "image/png": "[encoded data removed]",
      "text/plain": [
       "<matplotlib.figure.Figure at 0xa1fc650>"
      ]
     },
     "metadata": {},
     "output_type": "display_data"
    }
   ],
   "source": [
    "mega_mask,result, gt_mask,pInT,pNotInT =  plot_masks(\"5workers_rand0\",7,2,\"GTLSA\",returnMatrix=True)"
   ]
  },
  {
   "cell_type": "code",
   "execution_count": 28,
   "metadata": {
    "collapsed": true
   },
   "outputs": [],
   "source": [
    "def load_qn1_qp1_qn2_qp2(batch,objid,thresh):\n",
    "    algo=\"GTLSA\"\n",
    "    qn1 = pkl.load(open(\"pixel_em/{}/obj{}/{}_qn1_ground_truth_thresh{}.pkl\".format(batch,objid,algo,thresh)))\n",
    "    qp1 = pkl.load(open(\"pixel_em/{}/obj{}/{}_qp1_ground_truth_thresh{}.pkl\".format(batch,objid,algo,thresh)))\n",
    "    qn2 = pkl.load(open(\"pixel_em/{}/obj{}/{}_qn2_ground_truth_thresh{}.pkl\".format(batch,objid,algo,thresh)))\n",
    "    qp2 = pkl.load(open(\"pixel_em/{}/obj{}/{}_qp2_ground_truth_thresh{}.pkl\".format(batch,objid,algo,thresh)))\n",
    "    return qn1,qp1,qn2,qp2"
   ]
  },
  {
   "cell_type": "code",
   "execution_count": 29,
   "metadata": {},
   "outputs": [],
   "source": [
    "qn1,qp1,qn2,qp2=load_qn1_qp1_qn2_qp2(\"5workers_rand0\",7,2)"
   ]
  },
  {
   "cell_type": "markdown",
   "metadata": {},
   "source": [
    "### Why is the qn1 so low for all workers?"
   ]
  },
  {
   "cell_type": "code",
   "execution_count": 30,
   "metadata": {},
   "outputs": [
    {
     "data": {
      "text/plain": [
       "{9: 0.2872340425531915,\n",
       " 140: 0.3546099290780142,\n",
       " 187: 0.20212765957446807,\n",
       " 249: 0.20567375886524822,\n",
       " 267: 0.2907801418439716}"
      ]
     },
     "execution_count": 30,
     "metadata": {},
     "output_type": "execute_result"
    }
   ],
   "source": [
    "qn1"
   ]
  },
  {
   "cell_type": "code",
   "execution_count": 31,
   "metadata": {},
   "outputs": [
    {
     "data": {
      "text/plain": [
       "{9: 0.9634722819080361,\n",
       " 140: 0.9974215728405672,\n",
       " 187: 0.9626128061882252,\n",
       " 249: 1.0,\n",
       " 267: 0.99054576708208}"
      ]
     },
     "execution_count": 31,
     "metadata": {},
     "output_type": "execute_result"
    }
   ],
   "source": [
    "qp1"
   ]
  },
  {
   "cell_type": "code",
   "execution_count": 32,
   "metadata": {},
   "outputs": [
    {
     "data": {
      "text/plain": [
       "{9: 0.9995205391124352,\n",
       " 140: 0.9998677349275683,\n",
       " 187: 0.9993882740400035,\n",
       " 249: 0.9996627240652992,\n",
       " 267: 0.999841281913082}"
      ]
     },
     "execution_count": 32,
     "metadata": {},
     "output_type": "execute_result"
    }
   ],
   "source": [
    "qn2"
   ]
  },
  {
   "cell_type": "code",
   "execution_count": 33,
   "metadata": {},
   "outputs": [
    {
     "data": {
      "text/plain": [
       "{9: 0.09178966789667897,\n",
       " 140: 0.15129151291512916,\n",
       " 187: 0.04981549815498155,\n",
       " 249: 0.117619926199262,\n",
       " 267: 0.07564575645756458}"
      ]
     },
     "execution_count": 33,
     "metadata": {},
     "output_type": "execute_result"
    }
   ],
   "source": [
    "qp2"
   ]
  },
  {
   "cell_type": "markdown",
   "metadata": {},
   "source": [
    "Let's look at the distribution of tile area mask and see if it looks accurate"
   ]
  },
  {
   "cell_type": "code",
   "execution_count": 36,
   "metadata": {},
   "outputs": [
    {
     "data": {
      "text/plain": [
       "<matplotlib.colorbar.Colorbar at 0x653f390>"
      ]
     },
     "execution_count": 36,
     "metadata": {},
     "output_type": "execute_result"
    },
    {
     "data": {
      "image/png": "[encoded data removed]",
      "text/plain": [
       "<matplotlib.figure.Figure at 0x5f62a50>"
      ]
     },
     "metadata": {},
     "output_type": "display_data"
    }
   ],
   "source": [
    "tarea_mask = pkl.load(open(\"pixel_em/5workers_rand0/obj7/tarea_mask.pkl\"))\n",
    "\n",
    "plt.imshow(tarea_mask)\n",
    "plt.colorbar()"
   ]
  },
  {
   "cell_type": "code",
   "execution_count": 48,
   "metadata": {},
   "outputs": [],
   "source": [
    "gt_areas = tarea_mask[np.where(gt_mask == True)]\n",
    "ngt_areas = tarea_mask[np.where(gt_mask == False)]\n",
    "area_thresh_gt = np.median(list(set(gt_areas)))\n",
    "area_thresh_ngt = np.median(list(set(ngt_areas)))"
   ]
  },
  {
   "cell_type": "code",
   "execution_count": 49,
   "metadata": {},
   "outputs": [
    {
     "name": "stdout",
     "output_type": "stream",
     "text": [
      "98.543017954\n",
      "48.1880610161\n"
     ]
    }
   ],
   "source": [
    "print area_thresh_gt\n",
    "print area_thresh_ngt"
   ]
  },
  {
   "cell_type": "code",
   "execution_count": 53,
   "metadata": {},
   "outputs": [
    {
     "name": "stdout",
     "output_type": "stream",
     "text": [
      "2168\n",
      "2327\n"
     ]
    }
   ],
   "source": [
    "print len(np.where(gt_areas<area_thresh_gt)[0])\n",
    "print len(np.where(gt_areas>=area_thresh_gt)[0])"
   ]
  },
  {
   "cell_type": "code",
   "execution_count": 54,
   "metadata": {},
   "outputs": [
    {
     "name": "stdout",
     "output_type": "stream",
     "text": [
      "302423\n",
      "282\n"
     ]
    }
   ],
   "source": [
    "print len(np.where(ngt_areas<area_thresh_ngt)[0])\n",
    "print len(np.where(ngt_areas>=area_thresh_ngt)[0])"
   ]
  },
  {
   "cell_type": "code",
   "execution_count": 75,
   "metadata": {
    "collapsed": true
   },
   "outputs": [],
   "source": [
    "area_thresh_gt = np.median(gt_areas)\n",
    "area_thresh_ngt = np.median(ngt_areas)"
   ]
  },
  {
   "cell_type": "code",
   "execution_count": 78,
   "metadata": {},
   "outputs": [
    {
     "name": "stdout",
     "output_type": "stream",
     "text": [
      "171.872457742\n",
      "0.0\n"
     ]
    }
   ],
   "source": [
    "print area_thresh_gt\n",
    "print area_thresh_ngt"
   ]
  },
  {
   "cell_type": "code",
   "execution_count": 76,
   "metadata": {},
   "outputs": [
    {
     "name": "stdout",
     "output_type": "stream",
     "text": [
      "2246\n",
      "2249\n"
     ]
    }
   ],
   "source": [
    "print len(np.where(gt_areas<area_thresh_gt)[0])\n",
    "print len(np.where(gt_areas>=area_thresh_gt)[0])"
   ]
  },
  {
   "cell_type": "code",
   "execution_count": 77,
   "metadata": {},
   "outputs": [
    {
     "name": "stdout",
     "output_type": "stream",
     "text": [
      "0\n",
      "302705\n"
     ]
    }
   ],
   "source": [
    "print len(np.where(ngt_areas<area_thresh_ngt)[0])\n",
    "print len(np.where(ngt_areas>=area_thresh_ngt)[0])"
   ]
  },
  {
   "cell_type": "code",
   "execution_count": 55,
   "metadata": {},
   "outputs": [],
   "source": [
    "# list(set(tarea_mask.flatten()))"
   ]
  },
  {
   "cell_type": "code",
   "execution_count": 56,
   "metadata": {},
   "outputs": [
    {
     "data": {
      "image/png": "[encoded data removed]",
      "text/plain": [
       "<matplotlib.figure.Figure at 0x5f7df50>"
      ]
     },
     "metadata": {},
     "output_type": "display_data"
    }
   ],
   "source": [
    "worker_mask = pkl.load(open(\"pixel_em/obj7/mask140.pkl\"))\n",
    "plt.imshow(worker_mask)\n",
    "plot_coords(ground_truth_T(7,reverse_xy=True),'cyan')"
   ]
  },
  {
   "cell_type": "code",
   "execution_count": 79,
   "metadata": {},
   "outputs": [
    {
     "data": {
      "image/png": "[encoded data removed]",
      "text/plain": [
       "<matplotlib.figure.Figure at 0x174f96d0>"
      ]
     },
     "metadata": {},
     "output_type": "display_data"
    }
   ],
   "source": [
    "worker_mask = pkl.load(open(\"pixel_em/obj7/mask9.pkl\"))\n",
    "plt.imshow(worker_mask)\n",
    "plot_coords(ground_truth_T(7,reverse_xy=True),'cyan')"
   ]
  },
  {
   "cell_type": "code",
   "execution_count": 81,
   "metadata": {},
   "outputs": [
    {
     "data": {
      "image/png": "[encoded data removed]",
      "text/plain": [
       "<matplotlib.figure.Figure at 0x177bcd50>"
      ]
     },
     "metadata": {},
     "output_type": "display_data"
    }
   ],
   "source": [
    "worker_mask = pkl.load(open(\"pixel_em/obj7/mask247.pkl\"))\n",
    "plt.imshow(worker_mask)\n",
    "plot_coords(ground_truth_T(7,reverse_xy=True),'cyan')"
   ]
  },
  {
   "cell_type": "code",
   "execution_count": 80,
   "metadata": {},
   "outputs": [
    {
     "data": {
      "image/png": "[encoded data removed]",
      "text/plain": [
       "<matplotlib.figure.Figure at 0x17790810>"
      ]
     },
     "metadata": {},
     "output_type": "display_data"
    }
   ],
   "source": [
    "worker_mask = pkl.load(open(\"pixel_em/obj7/mask187.pkl\"))\n",
    "plt.imshow(worker_mask)\n",
    "plot_coords(ground_truth_T(7,reverse_xy=True),'cyan')"
   ]
  },
  {
   "cell_type": "code",
   "execution_count": 82,
   "metadata": {},
   "outputs": [
    {
     "data": {
      "image/png": "[encoded data removed]",
      "text/plain": [
       "<matplotlib.figure.Figure at 0x17be37d0>"
      ]
     },
     "metadata": {},
     "output_type": "display_data"
    }
   ],
   "source": [
    "worker_mask = pkl.load(open(\"pixel_em/obj7/mask249.pkl\"))\n",
    "plt.imshow(worker_mask)\n",
    "plot_coords(ground_truth_T(7,reverse_xy=True),'cyan')"
   ]
  }
 ],
 "metadata": {
  "kernelspec": {
   "display_name": "Python 2",
   "language": "python",
   "name": "python2"
  },
  "language_info": {
   "codemirror_mode": {
    "name": "ipython",
    "version": 2
   },
   "file_extension": ".py",
   "mimetype": "text/x-python",
   "name": "python",
   "nbconvert_exporter": "python",
   "pygments_lexer": "ipython2",
   "version": "2.7.6"
  }
 },
 "nbformat": 4,
 "nbformat_minor": 2
}
