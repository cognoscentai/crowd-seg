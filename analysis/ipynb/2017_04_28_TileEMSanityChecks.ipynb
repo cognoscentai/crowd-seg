{
 "cells": [
  {
   "cell_type": "code",
   "execution_count": 1,
   "metadata": {
    "collapsed": false
   },
   "outputs": [
    {
     "name": "stdout",
     "output_type": "stream",
     "text": [
      "Populating the interactive namespace from numpy and matplotlib\n"
     ]
    }
   ],
   "source": [
    "%pylab inline"
   ]
  },
  {
   "cell_type": "code",
   "execution_count": 1,
   "metadata": {
    "collapsed": false
   },
   "outputs": [
    {
     "name": "stdout",
     "output_type": "stream",
     "text": [
      "/Users/dorislee/Desktop/Research/seg/crowd-seg/analysis/TileEM\n"
     ]
    }
   ],
   "source": [
    "cd ../TileEM/"
   ]
  },
  {
   "cell_type": "markdown",
   "metadata": {},
   "source": [
    "# Check worker qualities close to the Qjs derived from GT. "
   ]
  },
  {
   "cell_type": "code",
   "execution_count": 3,
   "metadata": {
    "collapsed": true
   },
   "outputs": [],
   "source": [
    "from Qj_pTprime_models import *"
   ]
  },
  {
   "cell_type": "code",
   "execution_count": 4,
   "metadata": {
    "collapsed": true
   },
   "outputs": [],
   "source": [
    "my_BBG  = pd.read_csv(\"my_ground_truth.csv\")\n",
    "os.chdir(\"sample/5worker_rand0\")"
   ]
  },
  {
   "cell_type": "code",
   "execution_count": 5,
   "metadata": {
    "collapsed": true
   },
   "outputs": [],
   "source": [
    "Qj=[]\n",
    "iteration=-1\n",
    "for objid in range(1,48):\n",
    "    ground_truth_match = my_BBG[my_BBG.object_id==objid]\n",
    "    x_locs,y_locs =  process_raw_locs([ground_truth_match[\"x_locs\"].iloc[0],ground_truth_match[\"y_locs\"].iloc[0]])\n",
    "    T = shapely.geometry.Polygon(zip(x_locs,y_locs))\n",
    "    tiles = pkl.load(open(\"vtiles{}.pkl\".format(objid)))\n",
    "    workers =pkl.load(open(\"worker{}.pkl\".format(objid)))\n",
    "    indMat =pkl.load(open(\"indMat{}.pkl\".format(objid)))\n",
    "    \n",
    "    Tstar_idx_lst = pkl.load(open(\"Tstar_idx_obj{}.pkl\".format(objid)))\n",
    "    tile_area = np.array(indMat[-1])\n",
    "    A_thres = np.median(tile_area[Tstar_idx_lst[iteration-1]])\n",
    "\n",
    "    for wid in workers:\n",
    "        j = workers.index(wid)\n",
    "        qn1,qn2,qp1,qp2 = QjGTLSA(tiles,indMat,T,j,A_thres)\n",
    "        Qj.append([objid,wid,j,qn1,qn2,qp1,qp2])\n",
    "\n",
    "Qj_tbl = pd.DataFrame(Qj,columns=[\"object_id\",\"worker_id\",\"j\",\"Qn1\",\"Qn2\",\"Qp1\",\"Qp2\"])"
   ]
  },
  {
   "cell_type": "code",
   "execution_count": 11,
   "metadata": {
    "collapsed": true
   },
   "outputs": [],
   "source": [
    "area = indMat[-1]"
   ]
  },
  {
   "cell_type": "code",
   "execution_count": 14,
   "metadata": {
    "collapsed": true
   },
   "outputs": [],
   "source": [
    "large_idx = np.where(area>=A_thres)[0]\n",
    "small_idx = np.where(area<A_thres)[0]"
   ]
  },
  {
   "cell_type": "code",
   "execution_count": null,
   "metadata": {
    "collapsed": true
   },
   "outputs": [],
   "source": [
    "Tstar_lst = pkl.load(open(\"Tstar_idx_obj{}.pkl\".format(objid)))"
   ]
  },
  {
   "cell_type": "markdown",
   "metadata": {},
   "source": [
    "check median is ~50%50% area tiles "
   ]
  },
  {
   "cell_type": "code",
   "execution_count": null,
   "metadata": {
    "collapsed": true
   },
   "outputs": [],
   "source": [
    "p_idx = "
   ]
  },
  {
   "cell_type": "code",
   "execution_count": 6,
   "metadata": {
    "collapsed": false
   },
   "outputs": [
    {
     "data": {
      "text/html": [
       "<div>\n",
       "<table border=\"1\" class=\"dataframe\">\n",
       "  <thead>\n",
       "    <tr style=\"text-align: right;\">\n",
       "      <th></th>\n",
       "      <th>Qn1</th>\n",
       "      <th>Qn2</th>\n",
       "      <th>Qp1</th>\n",
       "      <th>Qp2</th>\n",
       "    </tr>\n",
       "  </thead>\n",
       "  <tbody>\n",
       "    <tr>\n",
       "      <th>0</th>\n",
       "      <td>0.250</td>\n",
       "      <td>0.545455</td>\n",
       "      <td>0.714286</td>\n",
       "      <td>0.50</td>\n",
       "    </tr>\n",
       "    <tr>\n",
       "      <th>1</th>\n",
       "      <td>0.500</td>\n",
       "      <td>0.590909</td>\n",
       "      <td>0.857143</td>\n",
       "      <td>0.50</td>\n",
       "    </tr>\n",
       "    <tr>\n",
       "      <th>2</th>\n",
       "      <td>0.750</td>\n",
       "      <td>0.545455</td>\n",
       "      <td>0.714286</td>\n",
       "      <td>0.50</td>\n",
       "    </tr>\n",
       "    <tr>\n",
       "      <th>3</th>\n",
       "      <td>0.375</td>\n",
       "      <td>0.318182</td>\n",
       "      <td>1.000000</td>\n",
       "      <td>0.75</td>\n",
       "    </tr>\n",
       "    <tr>\n",
       "      <th>4</th>\n",
       "      <td>0.625</td>\n",
       "      <td>0.727273</td>\n",
       "      <td>1.000000</td>\n",
       "      <td>1.00</td>\n",
       "    </tr>\n",
       "  </tbody>\n",
       "</table>\n",
       "</div>"
      ],
      "text/plain": [
       "     Qn1       Qn2       Qp1   Qp2\n",
       "0  0.250  0.545455  0.714286  0.50\n",
       "1  0.500  0.590909  0.857143  0.50\n",
       "2  0.750  0.545455  0.714286  0.50\n",
       "3  0.375  0.318182  1.000000  0.75\n",
       "4  0.625  0.727273  1.000000  1.00"
      ]
     },
     "execution_count": 6,
     "metadata": {},
     "output_type": "execute_result"
    }
   ],
   "source": [
    "objid=47\n",
    "Qj=pkl.load(open(\"Qj_obj{}.pkl\".format(objid)))\n",
    "pd.DataFrame(Qj[iteration],columns=[\"Qn1\",\"Qn2\",\"Qp1\",\"Qp2\"])"
   ]
  },
  {
   "cell_type": "code",
   "execution_count": 7,
   "metadata": {
    "collapsed": false
   },
   "outputs": [
    {
     "data": {
      "text/html": [
       "<div>\n",
       "<table border=\"1\" class=\"dataframe\">\n",
       "  <thead>\n",
       "    <tr style=\"text-align: right;\">\n",
       "      <th></th>\n",
       "      <th>Qn1</th>\n",
       "      <th>Qn2</th>\n",
       "      <th>Qp1</th>\n",
       "      <th>Qp2</th>\n",
       "    </tr>\n",
       "  </thead>\n",
       "  <tbody>\n",
       "    <tr>\n",
       "      <th>230</th>\n",
       "      <td>0.3</td>\n",
       "      <td>0.555556</td>\n",
       "      <td>0.8</td>\n",
       "      <td>0.470588</td>\n",
       "    </tr>\n",
       "    <tr>\n",
       "      <th>231</th>\n",
       "      <td>0.3</td>\n",
       "      <td>0.555556</td>\n",
       "      <td>0.6</td>\n",
       "      <td>0.411765</td>\n",
       "    </tr>\n",
       "    <tr>\n",
       "      <th>232</th>\n",
       "      <td>0.7</td>\n",
       "      <td>0.666667</td>\n",
       "      <td>0.8</td>\n",
       "      <td>0.529412</td>\n",
       "    </tr>\n",
       "    <tr>\n",
       "      <th>233</th>\n",
       "      <td>0.3</td>\n",
       "      <td>0.666667</td>\n",
       "      <td>1.0</td>\n",
       "      <td>0.882353</td>\n",
       "    </tr>\n",
       "    <tr>\n",
       "      <th>234</th>\n",
       "      <td>0.5</td>\n",
       "      <td>0.444444</td>\n",
       "      <td>1.0</td>\n",
       "      <td>0.294118</td>\n",
       "    </tr>\n",
       "  </tbody>\n",
       "</table>\n",
       "</div>"
      ],
      "text/plain": [
       "     Qn1       Qn2  Qp1       Qp2\n",
       "230  0.3  0.555556  0.8  0.470588\n",
       "231  0.3  0.555556  0.6  0.411765\n",
       "232  0.7  0.666667  0.8  0.529412\n",
       "233  0.3  0.666667  1.0  0.882353\n",
       "234  0.5  0.444444  1.0  0.294118"
      ]
     },
     "execution_count": 7,
     "metadata": {},
     "output_type": "execute_result"
    }
   ],
   "source": [
    "Qj_tbl[Qj_tbl[\"object_id\"]==objid][['Qn1','Qn2','Qp1','Qp2']]"
   ]
  },
  {
   "cell_type": "code",
   "execution_count": 8,
   "metadata": {
    "collapsed": false
   },
   "outputs": [
    {
     "data": {
      "text/html": [
       "<div>\n",
       "<table border=\"1\" class=\"dataframe\">\n",
       "  <thead>\n",
       "    <tr style=\"text-align: right;\">\n",
       "      <th></th>\n",
       "      <th>Qn1</th>\n",
       "      <th>Qn2</th>\n",
       "      <th>Qp1</th>\n",
       "      <th>Qp2</th>\n",
       "    </tr>\n",
       "  </thead>\n",
       "  <tbody>\n",
       "    <tr>\n",
       "      <th>0</th>\n",
       "      <td>0.416667</td>\n",
       "      <td>0.142857</td>\n",
       "      <td>1.0</td>\n",
       "      <td>1.0</td>\n",
       "    </tr>\n",
       "    <tr>\n",
       "      <th>1</th>\n",
       "      <td>0.916667</td>\n",
       "      <td>0.785714</td>\n",
       "      <td>1.0</td>\n",
       "      <td>0.6</td>\n",
       "    </tr>\n",
       "    <tr>\n",
       "      <th>2</th>\n",
       "      <td>0.500000</td>\n",
       "      <td>0.357143</td>\n",
       "      <td>0.8</td>\n",
       "      <td>1.0</td>\n",
       "    </tr>\n",
       "    <tr>\n",
       "      <th>3</th>\n",
       "      <td>0.500000</td>\n",
       "      <td>0.642857</td>\n",
       "      <td>0.6</td>\n",
       "      <td>0.8</td>\n",
       "    </tr>\n",
       "    <tr>\n",
       "      <th>4</th>\n",
       "      <td>0.583333</td>\n",
       "      <td>0.500000</td>\n",
       "      <td>1.0</td>\n",
       "      <td>1.0</td>\n",
       "    </tr>\n",
       "  </tbody>\n",
       "</table>\n",
       "</div>"
      ],
      "text/plain": [
       "        Qn1       Qn2  Qp1  Qp2\n",
       "0  0.416667  0.142857  1.0  1.0\n",
       "1  0.916667  0.785714  1.0  0.6\n",
       "2  0.500000  0.357143  0.8  1.0\n",
       "3  0.500000  0.642857  0.6  0.8\n",
       "4  0.583333  0.500000  1.0  1.0"
      ]
     },
     "execution_count": 8,
     "metadata": {},
     "output_type": "execute_result"
    }
   ],
   "source": [
    "objid=12\n",
    "Qj=pkl.load(open(\"Qj_obj{}.pkl\".format(objid)))\n",
    "pd.DataFrame(Qj[iteration],columns=[\"Qn1\",\"Qn2\",\"Qp1\",\"Qp2\"])"
   ]
  },
  {
   "cell_type": "code",
   "execution_count": 9,
   "metadata": {
    "collapsed": false
   },
   "outputs": [
    {
     "data": {
      "text/html": [
       "<div>\n",
       "<table border=\"1\" class=\"dataframe\">\n",
       "  <thead>\n",
       "    <tr style=\"text-align: right;\">\n",
       "      <th></th>\n",
       "      <th>Qn1</th>\n",
       "      <th>Qn2</th>\n",
       "      <th>Qp1</th>\n",
       "      <th>Qp2</th>\n",
       "    </tr>\n",
       "  </thead>\n",
       "  <tbody>\n",
       "    <tr>\n",
       "      <th>55</th>\n",
       "      <td>0.3125</td>\n",
       "      <td>0.000000</td>\n",
       "      <td>1</td>\n",
       "      <td>0.8</td>\n",
       "    </tr>\n",
       "    <tr>\n",
       "      <th>56</th>\n",
       "      <td>0.6875</td>\n",
       "      <td>0.888889</td>\n",
       "      <td>1</td>\n",
       "      <td>0.5</td>\n",
       "    </tr>\n",
       "    <tr>\n",
       "      <th>57</th>\n",
       "      <td>0.4375</td>\n",
       "      <td>0.444444</td>\n",
       "      <td>1</td>\n",
       "      <td>0.9</td>\n",
       "    </tr>\n",
       "    <tr>\n",
       "      <th>58</th>\n",
       "      <td>0.5000</td>\n",
       "      <td>0.777778</td>\n",
       "      <td>1</td>\n",
       "      <td>0.7</td>\n",
       "    </tr>\n",
       "    <tr>\n",
       "      <th>59</th>\n",
       "      <td>0.4375</td>\n",
       "      <td>0.222222</td>\n",
       "      <td>1</td>\n",
       "      <td>0.5</td>\n",
       "    </tr>\n",
       "  </tbody>\n",
       "</table>\n",
       "</div>"
      ],
      "text/plain": [
       "       Qn1       Qn2  Qp1  Qp2\n",
       "55  0.3125  0.000000    1  0.8\n",
       "56  0.6875  0.888889    1  0.5\n",
       "57  0.4375  0.444444    1  0.9\n",
       "58  0.5000  0.777778    1  0.7\n",
       "59  0.4375  0.222222    1  0.5"
      ]
     },
     "execution_count": 9,
     "metadata": {},
     "output_type": "execute_result"
    }
   ],
   "source": [
    "Qj_tbl[Qj_tbl[\"object_id\"]==objid][['Qn1','Qn2','Qp1','Qp2']]"
   ]
  },
  {
   "cell_type": "markdown",
   "metadata": {},
   "source": [
    "##### $\\therefore$ worker qualities looks pretty close to the Qjs derived from GT. "
   ]
  },
  {
   "cell_type": "markdown",
   "metadata": {},
   "source": [
    "# Check if T' for sampled bounding box has any PR or p(T') better than individual workers "
   ]
  },
  {
   "cell_type": "markdown",
   "metadata": {
    "collapsed": true
   },
   "source": [
    "# Check if vtiles looks good for every object in every iteration "
   ]
  },
  {
   "cell_type": "code",
   "execution_count": 2,
   "metadata": {
    "collapsed": true
   },
   "outputs": [],
   "source": [
    "from BB2TileExact import *"
   ]
  },
  {
   "cell_type": "code",
   "execution_count": 9,
   "metadata": {
    "collapsed": false
   },
   "outputs": [
    {
     "data": {
      "text/plain": [
       "1410"
      ]
     },
     "execution_count": 9,
     "metadata": {},
     "output_type": "execute_result"
    }
   ],
   "source": [
    "len(sampleN_lst)*5*len(range(1,48))"
   ]
  },
  {
   "cell_type": "code",
   "execution_count": 4,
   "metadata": {
    "collapsed": false
   },
   "outputs": [
    {
     "name": "stdout",
     "output_type": "stream",
     "text": [
      "[Errno 2] No such file or directory: 'analysis/TileEM/'\n",
      "/Users/dorislee/Desktop/Research/seg/crowd-seg/analysis/TileEM\n"
     ]
    }
   ],
   "source": [
    "cd analysis/TileEM/"
   ]
  },
  {
   "cell_type": "code",
   "execution_count": 5,
   "metadata": {
    "collapsed": true
   },
   "outputs": [],
   "source": [
    "from BB2TileExact import *"
   ]
  },
  {
   "cell_type": "code",
   "execution_count": 8,
   "metadata": {
    "collapsed": false
   },
   "outputs": [],
   "source": [
    "mkdir vtile_plots"
   ]
  },
  {
   "cell_type": "code",
   "execution_count": 4,
   "metadata": {
    "collapsed": false
   },
   "outputs": [],
   "source": [
    "worker_Nbatches={5:10,10:8,15:6,20:4,25:2,30:1}\n",
    "sampleN_lst=worker_Nbatches.keys()\n",
    "#for Nworker in sampleN_lst:\n",
    "Nworker=15\n",
    "for batch_num in range(worker_Nbatches[Nworker]):\n",
    "    dir_name = \"sample/{0}worker_rand{1}\".format(Nworker,batch_num)\n",
    "    for objid in range(1,48):\n",
    "        tiles = pkl.load(open(dir_name+\"/vtiles{}.pkl\".format(objid)))\n",
    "        visualizeTilesSeparate(tiles)\n",
    "        plt.title(dir_name+\";Obj{}\".format(objid))\n",
    "        plt.savefig(\"vtile_plots/{0}worker_rand{1}_obj{2}.png\".format(Nworker,batch_num,objid))"
   ]
  },
  {
   "cell_type": "code",
   "execution_count": 5,
   "metadata": {
    "collapsed": true
   },
   "outputs": [],
   "source": [
    "worker_Nbatches={5:10,10:8,15:6,20:4,25:2,30:1}\n",
    "sampleN_lst=worker_Nbatches.keys()\n",
    "for Nworker in sampleN_lst[3:]:\n",
    "    for batch_num in range(worker_Nbatches[Nworker]):\n",
    "        dir_name = \"sample/{0}worker_rand{1}\".format(Nworker,batch_num)\n",
    "        for objid in range(1,48):\n",
    "            tiles = pkl.load(open(dir_name+\"/vtiles{}.pkl\".format(objid)))\n",
    "            visualizeTilesSeparate(tiles)\n",
    "            plt.title(dir_name+\";Obj{}\".format(objid))\n",
    "            plt.savefig(\"vtile_plots/{0}worker_rand{1}_obj{2}.png\".format(Nworker,batch_num,objid))"
   ]
  },
  {
   "cell_type": "code",
   "execution_count": 15,
   "metadata": {
    "collapsed": true
   },
   "outputs": [],
   "source": [
    "#sampleN,batch_num,objid\n",
    "problematic_vtiles=[[5,0,13],[5,1,10],[5,1,36],[5,1,43],[5,1,44],[5,2,1],[5,2,10],\\\n",
    "                    [5,2,32],[5,3,8],[5,3,20],[5,3,6],[5,5,13],[5,6,30],[5,8,2],\\\n",
    "                    [5,8,25],[5,9,41],[10,0,25],[10,0,37],[10,0,41],[10,1,18],\\\n",
    "                   [10,1,28],[10,1,34],[10,1,35],[10,1,42],[10,2,8],[10,2,25],\\\n",
    "                   [10,2,28],[10,2,37],[10,2,38],[10,3,20],[10,4,42],[10,5,7],\\\n",
    "                   [10,5,41],[10,6,17],[10,6,32],[10,7,34],[10,7,35],[10,7,43]]\n",
    "medium_severity=[[5,1,3],[5,2,4],[5,2,7],[5,2,11],[5,2,14],[5,2,19],[5,2,22],\\\n",
    "                 [5,3,13],[5,3,40],[5,3,2],[5,3,5],[5,3,19],[5,5,7],\\\n",
    "                 [5,6,22],[5,6,25],[5,6,39],[5,7,28],[5,8,28],[5,8,32],\\\n",
    "                [10,0,7],[10,0,14],[10,0,18],[10,1,19],[10,1,30],[10,1,44],\\\n",
    "                 [10,1,45],[10,3,13],[10,3,37],[10,5,19],[10,6,6],[10,7,3],[10,7,37]]\n",
    "\n",
    "# ?? = [5,3,22],[5,7,22],[5,9,15],[10,1,22],[10,2,15],[10,3,15],[10,3,22],[10,4,22],[10,5,22]#only 1 BB?"
   ]
  },
  {
   "cell_type": "code",
   "execution_count": null,
   "metadata": {
    "collapsed": true
   },
   "outputs": [],
   "source": []
  }
 ],
 "metadata": {
  "kernelspec": {
   "display_name": "Python 2",
   "language": "python",
   "name": "python2"
  },
  "language_info": {
   "codemirror_mode": {
    "name": "ipython",
    "version": 2
   },
   "file_extension": ".py",
   "mimetype": "text/x-python",
   "name": "python",
   "nbconvert_exporter": "python",
   "pygments_lexer": "ipython2",
   "version": "2.7.10"
  }
 },
 "nbformat": 4,
 "nbformat_minor": 1
}
