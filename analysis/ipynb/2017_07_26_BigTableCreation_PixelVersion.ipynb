{
 "cells": [
  {
   "cell_type": "code",
   "execution_count": 1,
   "metadata": {},
   "outputs": [
    {
     "name": "stdout",
     "output_type": "stream",
     "text": [
      "/srv/data/home/jlee782/crowd-seg/analysis/TileEM\n"
     ]
    }
   ],
   "source": [
    "cd ../TileEM/"
   ]
  },
  {
   "cell_type": "code",
   "execution_count": 2,
   "metadata": {},
   "outputs": [
    {
     "name": "stdout",
     "output_type": "stream",
     "text": [
      "Populating the interactive namespace from numpy and matplotlib\n"
     ]
    }
   ],
   "source": [
    "%pylab inline\n",
    "%load_ext autoreload\n",
    "%autoreload 2\n",
    "from paper_visualizations import * \n",
    "from PixelEM import * \n",
    "from test_sample import test_sample_obj\n",
    "import json\n",
    "import pandas as pd\n",
    "object_lst = [1, 2, 3, 4, 5, 6, 7, 8, 9, 10, 11, 12, 13, 14, 15, 16, 17, 18, 19, 20, 21, 22, 23, 24, 25, 26, 27, 28, 29, 30, 31, 32, 33, 34, 36, 37, 38, 39, 42, 43, 44, 45, 46, 47]"
   ]
  },
  {
   "cell_type": "markdown",
   "metadata": {},
   "source": [
    "### Create Indicator Matrix for Pixel-based tiles"
   ]
  },
  {
   "cell_type": "markdown",
   "metadata": {},
   "source": [
    "Generated voted_workers_mask.pkl which is a image map containing a list of values , since indMat is too large to store since too many pixels, we won't try to store it, instead we will use the voted_workers_mask.pkl as a lookup table"
   ]
  },
  {
   "cell_type": "markdown",
   "metadata": {},
   "source": [
    "# all_tile_info.csv\n",
    "- [batch, objid, workerID, tileID, tile area, tile overlap with GT]"
   ]
  },
  {
   "cell_type": "code",
   "execution_count": 3,
   "metadata": {
    "collapsed": true
   },
   "outputs": [],
   "source": [
    "from runAreaMask import * \n",
    "from skimage import measure\n",
    "from matplotlib import _cntr as cntr"
   ]
  },
  {
   "cell_type": "code",
   "execution_count": 4,
   "metadata": {
    "collapsed": true
   },
   "outputs": [],
   "source": [
    "def pix_intersection_area(mask1,mask2):\n",
    "    return len(np.where((mask1==mask2)&(mask1==1)&(mask2==1))[0])"
   ]
  },
  {
   "cell_type": "code",
   "execution_count": 53,
   "metadata": {},
   "outputs": [
    {
     "name": "stderr",
     "output_type": "stream",
     "text": [
      "                                             \r"
     ]
    }
   ],
   "source": [
    "tile_tbl =[]\n",
    "for batch in tqdm(['5workers_rand0','10workers_rand0','15workers_rand0','20workers_rand0','25workers_rand0','30workers_rand0']):\n",
    "    for objid in object_lst:\n",
    "#         print \"batch: {}; obj{}\".format(batch,objid)\n",
    "        gt = get_gt_mask(objid)\n",
    "        mega_mask = pkl.load(open('pixel_em/{}/obj{}/mega_mask.pkl'.format(batch,objid)))\n",
    "        unique_tile_values = np.unique(mega_mask)\n",
    "        # Tile loop \n",
    "        tarea_lst = []\n",
    "        tidx=0\n",
    "        for tile_value in unique_tile_values[1:]: #exclude 0\n",
    "            blobs = mega_mask==tile_value\n",
    "            blobs_labels = measure.label(blobs,background=0)\n",
    "            for bidx in np.unique(blobs_labels)[1:]:\n",
    "                tile = blobs_labels==bidx\n",
    "                tarea = mask_area(tile)\n",
    "                tarea_lst.append(tarea)\n",
    "                overlap_area  = pix_intersection_area(tile,gt)\n",
    "                tile_tbl.append([batch,objid,tidx,tarea,overlap_area])\n",
    "                tidx+=1\n",
    "        outside_area  = np.product(np.shape(gt))-sum(tarea_lst)\n",
    "        tile_tbl.append([batch,objid,tidx+1,outside_area,0])"
   ]
  },
  {
   "cell_type": "code",
   "execution_count": 57,
   "metadata": {
    "collapsed": true
   },
   "outputs": [],
   "source": [
    "tile_tbl = pd.DataFrame(tile_tbl,columns=[\"batch\",\"objid\",\"tile id\",\"tile area\", \"gt overlap area\"])\n",
    "dedup_tile_tbl = tile_tbl.drop_duplicates()\n",
    "dedup_tile_tbl.to_csv(\"all_pixel_tile_info.csv\")"
   ]
  },
  {
   "cell_type": "markdown",
   "metadata": {},
   "source": [
    "# Worker Tile Table "
   ]
  },
  {
   "cell_type": "code",
   "execution_count": null,
   "metadata": {
    "collapsed": true
   },
   "outputs": [],
   "source": [
    "worker_tile_tbl = []\n",
    "for batch in ['5workers_rand0','10workers_rand0','15workers_rand0','20workers_rand0','25workers_rand0','30workers_rand0']:\n",
    "#     batch='30workers_rand0'\n",
    "    Nworker = int(batch.split('workers')[0])\n",
    "    batch_num = int(batch.split('rand')[-1])\n",
    "    for objid in object_lst:\n",
    "        print \"batch: {}; obj{}\".format(batch,objid)\n",
    "        mega_mask = pkl.load(open('pixel_em/{}/obj{}/mega_mask.pkl'.format(batch,objid)))\n",
    "        voted_workers_mask = pkl.load(open('pixel_em/{}/obj{}/voted_workers_mask.pkl'.format(batch,objid)))\n",
    "        unique_tile_values = np.unique(mega_mask)\n",
    "        # Tile loop \n",
    "        for tile_value in unique_tile_values[1:]: #exclude 0\n",
    "            blobs = mega_mask==tile_value\n",
    "            blobs_labels = measure.label(blobs,background=0)\n",
    "            for tidx in np.unique(blobs_labels)[1:]:\n",
    "                tile = blobs_labels==tidx\n",
    "                worker_lst = list(set([item for sublist in voted_workers_mask[tile] if sublist!=0 for item in sublist]))\n",
    "                for worker_id in worker_lst:\n",
    "                    worker_tile_tbl.append([batch,objid,worker_id,tidx])"
   ]
  },
  {
   "cell_type": "code",
   "execution_count": 14,
   "metadata": {
    "collapsed": true
   },
   "outputs": [],
   "source": [
    "worker_tile_tbl = pd.DataFrame(worker_tile_tbl,columns=[\"batch\",\"objid\",\"worker id\",\"tile id\"])\n",
    "dedup_worker_tile_tbl = worker_tile_tbl.drop_duplicates()\n",
    "dedup_worker_tile_tbl.to_csv(\"all_pixel_worker_tile_info.csv\")"
   ]
  },
  {
   "cell_type": "markdown",
   "metadata": {},
   "source": [
    "``all_worker_response_info.csv`` and ``all_object_info.csv`` unchanged, ``all_object_batch_info.csv`` is only slightly affected"
   ]
  }
 ],
 "metadata": {
  "kernelspec": {
   "display_name": "Python 2",
   "language": "python",
   "name": "python2"
  },
  "language_info": {
   "codemirror_mode": {
    "name": "ipython",
    "version": 2
   },
   "file_extension": ".py",
   "mimetype": "text/x-python",
   "name": "python",
   "nbconvert_exporter": "python",
   "pygments_lexer": "ipython2",
   "version": "2.7.6"
  }
 },
 "nbformat": 4,
 "nbformat_minor": 2
}
