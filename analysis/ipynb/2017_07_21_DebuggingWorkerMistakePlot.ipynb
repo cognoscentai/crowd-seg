{
 "cells": [
  {
   "cell_type": "code",
   "execution_count": 1,
   "metadata": {},
   "outputs": [
    {
     "name": "stdout",
     "output_type": "stream",
     "text": [
      "/srv/data/home/jlee782/crowd-seg/analysis/TileEM\n"
     ]
    }
   ],
   "source": [
    "cd ../TileEM/"
   ]
  },
  {
   "cell_type": "code",
   "execution_count": 2,
   "metadata": {},
   "outputs": [
    {
     "name": "stdout",
     "output_type": "stream",
     "text": [
      "Populating the interactive namespace from numpy and matplotlib\n"
     ]
    }
   ],
   "source": [
    "%pylab inline\n",
    "%load_ext autoreload\n",
    "%autoreload 2\n",
    "from paper_visualizations import * \n",
    "from PixelEM import * \n",
    "from test_sample import test_sample_obj\n",
    "import json\n",
    "import pandas as pd"
   ]
  },
  {
   "cell_type": "code",
   "execution_count": 3,
   "metadata": {
    "collapsed": true
   },
   "outputs": [],
   "source": [
    "# df = pd.read_csv(\"all_info.csv\",index_col=0)\n",
    "df_object_batch = pd.read_csv(\"all_object_batch_info.csv\",index_col=0)\n",
    "df_worker = pd.read_csv(\"all_worker_response_info.csv\",index_col=0)\n",
    "df_object = pd.read_csv(\"all_object_info.csv\",index_col=0)\n",
    "df_tile = pd.read_csv(\"all_tile_info.csv\",index_col=0)\n",
    "df_worker_tile = pd.read_csv(\"all_worker_tile_info.csv\",index_col=0)\n",
    "df_tile[\"gt overlap norm tarea\"]=df_tile[\"gt overlap area\"]/df_tile[\"tile area\"]\n",
    "df = df_worker.merge(df_tile)"
   ]
  },
  {
   "cell_type": "markdown",
   "metadata": {
    "collapsed": true
   },
   "source": [
    "# Histogram of mistakes: \n",
    "- treat if overlap fraction >0.5 then we pick it, what is the accumlated area of mistake (of the external area) that we would make \n",
    "- start off by saying that > 0.5 overlap we pick, so \"error area\" = outside area of the tile, and <= 0.5 overlap we discard the tile in which case \"error area\" = intersection area."
   ]
  },
  {
   "cell_type": "code",
   "execution_count": 97,
   "metadata": {},
   "outputs": [
    {
     "data": {
      "text/plain": [
       "array([  5.69800570e-03,   2.37775192e+02,   4.75544687e+02,\n",
       "         7.13314181e+02,   9.51083675e+02,   1.18885317e+03,\n",
       "         1.42662266e+03,   1.66439216e+03,   1.90216165e+03,\n",
       "         2.13993115e+03,   2.37770064e+03])"
      ]
     },
     "execution_count": 97,
     "metadata": {},
     "output_type": "execute_result"
    }
   ],
   "source": [
    "bin_edges"
   ]
  },
  {
   "cell_type": "code",
   "execution_count": 166,
   "metadata": {
    "collapsed": true
   },
   "outputs": [],
   "source": [
    "from math import log10, floor\n",
    "def round_to_1(x):\n",
    "    return str(int(round(x, -int(floor(log10(abs(x))))+1)))"
   ]
  },
  {
   "cell_type": "code",
   "execution_count": 211,
   "metadata": {
    "collapsed": true
   },
   "outputs": [],
   "source": [
    "def two_bars(dataA,dataB,bin_edges):\n",
    "    ind = np.arange(len(dataA))   \n",
    "    width = 0.35        \n",
    "    fig, ax = plt.subplots()\n",
    "    rects1 = ax.bar(ind, dataA, width, color='r')\n",
    "    rects2 = ax.bar(ind + width, dataB, width, color='b')\n",
    "    ax.set_xticks(ind + width / 2)\n",
    "    ax.legend((rects1[0], rects2[0]), ('Overselect', 'Underselect'))\n",
    "    labels = []\n",
    "    for i in range(len(dataA)):\n",
    "        #labels.append(str(round(bin_edges[i],2))+'-'+str(round(bin_edges[i+1],2)))\n",
    "        labels.append(round_to_1(bin_edges[i])+'~'+round_to_1(bin_edges[i+1]))\n",
    "            \n",
    "    ax.set_xticklabels(labels, rotation='vertical')\n",
    "    def autolabel(rects):\n",
    "        \"\"\"\n",
    "        Attach a text label above each bar displaying its height\n",
    "        \"\"\"\n",
    "        for rect in rects:\n",
    "            height = rect.get_height()\n",
    "            ax.text(rect.get_x() + rect.get_width()/2., 1.05*height,\n",
    "                    '%d' % int(height),\n",
    "                    ha='center', va='bottom')\n",
    "\n",
    "#     autolabel(rects1)\n",
    "#     autolabel(rects2)\n",
    "\n"
   ]
  },
  {
   "cell_type": "code",
   "execution_count": 219,
   "metadata": {
    "collapsed": true
   },
   "outputs": [],
   "source": [
    "def plot_mistake_area(batch,objid,small_tiles,N):\n",
    "    df_tile[\"tile overlap frac\"]=df_tile[\"gt overlap area\"]/df_tile[\"tile area\"]\n",
    "    df_tile[\"outside area\"]=df_tile[\"tile area\"]-df_tile[\"gt overlap area\"]\n",
    "    df_tile_subset = df_tile[(df_tile[\"batch\"]==batch)&(df_tile[\"objid\"]==objid)]\n",
    "    tile_lst = np.array(list(set(df_tile_subset[\"tile id\"])))\n",
    "    tile_areas = list(df_tile_subset[\"tile area\"])\n",
    "    if (small_tiles): \n",
    "        hist,bin_edges = np.histogram(tile_areas,bins=N,range=(0.01,mean(tile_areas)))\n",
    "    else: \n",
    "        hist,bin_edges = np.histogram(tile_areas,bins=N)\n",
    "    bin_idx = np.digitize(tile_area,bin_edges)\n",
    "\n",
    "    mistake_area_overselect = []\n",
    "    mistake_area_discard = []\n",
    "\n",
    "    for i in range(N):\n",
    "        tidxs =  np.where(bin_idx==i)[0]\n",
    "        area_overselect = 0\n",
    "        area_discard = 0\n",
    "        for tidx in tidxs: \n",
    "            df_selected = df_tile_subset[df_tile_subset[\"tile id\"]==tidx]\n",
    "            if float(df_selected[\"tile overlap frac\"])>=0.5:\n",
    "                # If we pick this tile then we should penalize the outside \n",
    "                area_overselect += float(df_selected[\"outside area\"])\n",
    "                #mistake_area_overselect.append(float(df_selected[\"outside area\"]))\n",
    "            else: \n",
    "                area_discard += float(df_selected[\"gt overlap area\"])\n",
    "                #mistake_area_discard.append(float(df_selected[\"gt overlap area\"]))\n",
    "        mistake_area_overselect.append(area_overselect)\n",
    "        mistake_area_discard.append(area_discard)\n",
    "    two_bars(mistake_area_overselect,mistake_area_discard,bin_edges)\n",
    "    \n",
    "    # add some text for labels, title and axes ticks\n",
    "    plt.ylabel('Sum (Mistake Area)')\n",
    "    if smal_area:\n",
    "        plt.title('Total Mistake area by area bins [Small]',fontsize=12)\n",
    "    else: \n",
    "        plt.title('Total Mistake area by area bins',fontsize=12)\n",
    "\n"
   ]
  },
  {
   "cell_type": "code",
   "execution_count": 220,
   "metadata": {},
   "outputs": [
    {
     "data": {
      "image/png": "[encoded data removed]",
      "text/plain": [
       "<matplotlib.figure.Figure at 0x70aae50>"
      ]
     },
     "metadata": {},
     "output_type": "display_data"
    }
   ],
   "source": [
    "plot_mistake_area('5workers_rand0',12,False,10)"
   ]
  },
  {
   "cell_type": "code",
   "execution_count": 218,
   "metadata": {},
   "outputs": [
    {
     "data": {
      "image/png": "[encoded data removed]",
      "text/plain": [
       "<matplotlib.figure.Figure at 0x709bc90>"
      ]
     },
     "metadata": {},
     "output_type": "display_data"
    }
   ],
   "source": [
    "plot_mistake_area('5workers_rand0',12,True,10)"
   ]
  },
  {
   "cell_type": "code",
   "execution_count": 168,
   "metadata": {
    "collapsed": true
   },
   "outputs": [],
   "source": [
    "batch='5workers_rand0'\n",
    "objid=12\n",
    "small_tiles=True\n",
    "df_tile[\"tile overlap frac\"]=df_tile[\"gt overlap area\"]/df_tile[\"tile area\"]\n",
    "df_tile[\"outside area\"]=df_tile[\"tile area\"]-df_tile[\"gt overlap area\"]\n",
    "df_tile_subset = df_tile[(df_tile[\"batch\"]==batch)&(df_tile[\"objid\"]==objid)]\n",
    "tile_lst = np.array(list(set(df_tile_subset[\"tile id\"])))"
   ]
  },
  {
   "cell_type": "code",
   "execution_count": 189,
   "metadata": {},
   "outputs": [
    {
     "data": {
      "image/png": "[encoded data removed]",
      "text/plain": [
       "<matplotlib.figure.Figure at 0x695e3d0>"
      ]
     },
     "metadata": {},
     "output_type": "display_data"
    }
   ],
   "source": [
    "small_area=True\n",
    "N=10\n",
    "tile_areas = list(df_tile_subset[\"tile area\"])\n",
    "if (small_tiles): \n",
    "    hist,bin_edges = np.histogram(tile_areas,bins=N,range=(0.01,mean(tile_areas)))\n",
    "else: \n",
    "    hist,bin_edges = np.histogram(tile_areas,bins=N)\n",
    "bin_idx = np.digitize(tile_area,bin_edges)\n",
    "\n",
    "mistake_area_overselect = []\n",
    "mistake_area_discard = []\n",
    "\n",
    "for i in range(N):\n",
    "    tidxs =  np.where(bin_idx==i)[0]\n",
    "    area_overselect = 0\n",
    "    area_discard = 0\n",
    "    for tidx in tidxs: \n",
    "        df_selected = df_tile_subset[df_tile_subset[\"tile id\"]==tidx]\n",
    "        if float(df_selected[\"tile overlap frac\"])>=0.5:\n",
    "            # If we pick this tile then we should penalize the outside \n",
    "            area_overselect += float(df_selected[\"outside area\"])\n",
    "            #mistake_area_overselect.append(float(df_selected[\"outside area\"]))\n",
    "        else: \n",
    "            area_discard += float(df_selected[\"gt overlap area\"])\n",
    "            #mistake_area_discard.append(float(df_selected[\"gt overlap area\"]))\n",
    "    mistake_area_overselect.append(area_overselect)\n",
    "    mistake_area_discard.append(area_discard)\n",
    "two_bars(mistake_area_overselect,mistake_area_discard,bin_edges)"
   ]
  }
 ],
 "metadata": {
  "kernelspec": {
   "display_name": "Python 2",
   "language": "python",
   "name": "python2"
  },
  "language_info": {
   "codemirror_mode": {
    "name": "ipython",
    "version": 2
   },
   "file_extension": ".py",
   "mimetype": "text/x-python",
   "name": "python",
   "nbconvert_exporter": "python",
   "pygments_lexer": "ipython2",
   "version": "2.7.6"
  }
 },
 "nbformat": 4,
 "nbformat_minor": 2
}
