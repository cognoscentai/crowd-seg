{
 "cells": [
  {
   "cell_type": "code",
   "execution_count": 1,
   "metadata": {},
   "outputs": [
    {
     "name": "stdout",
     "output_type": "stream",
     "text": [
      "Populating the interactive namespace from numpy and matplotlib\n"
     ]
    }
   ],
   "source": [
    "%pylab inline"
   ]
  },
  {
   "cell_type": "code",
   "execution_count": 2,
   "metadata": {},
   "outputs": [
    {
     "name": "stdout",
     "output_type": "stream",
     "text": [
      "/srv/data/home/jlee782/crowd-seg/analysis/TileEM\n"
     ]
    }
   ],
   "source": [
    "cd ../TileEM/"
   ]
  },
  {
   "cell_type": "code",
   "execution_count": 3,
   "metadata": {},
   "outputs": [],
   "source": [
    "%load_ext autoreload\n",
    "%autoreload 2\n",
    "from paper_visualizations import * \n",
    "from PixelEM import * \n",
    "from test_sample import test_sample_obj\n",
    "import json"
   ]
  },
  {
   "cell_type": "code",
   "execution_count": 98,
   "metadata": {
    "collapsed": true
   },
   "outputs": [],
   "source": [
    "df = pd.read_csv(\"ground_truth_experiment.csv\")"
   ]
  },
  {
   "cell_type": "markdown",
   "metadata": {},
   "source": [
    "# Investivate cases where GTLSA does worse than basic"
   ]
  },
  {
   "cell_type": "code",
   "execution_count": 99,
   "metadata": {},
   "outputs": [
    {
     "data": {
      "text/plain": [
       "Index([u'num_workers', u'sample_num', u'objid', u'P [MV]', u'R [MV]',\n",
       "       u'J [MV]', u'thresh', u'P [GT]', u'R [GT]', u'J [GT]', u'P [isoGT]',\n",
       "       u'R [isoGT]', u'J [isoGT]', u'P [GTLSA]', u'R [GTLSA]', u'J [GTLSA]',\n",
       "       u'P [isoGTLSA]', u'R [isoGTLSA]', u'J [isoGTLSA]', u'P [basic]',\n",
       "       u'R [basic]', u'J [basic]'],\n",
       "      dtype='object')"
      ]
     },
     "execution_count": 99,
     "metadata": {},
     "output_type": "execute_result"
    }
   ],
   "source": [
    "df.keys()"
   ]
  },
  {
   "cell_type": "code",
   "execution_count": 100,
   "metadata": {},
   "outputs": [
    {
     "data": {
      "text/plain": [
       "<matplotlib.text.Text at 0x870a310>"
      ]
     },
     "execution_count": 100,
     "metadata": {},
     "output_type": "execute_result"
    },
    {
     "data": {
      "image/png": "[encoded data removed]",
      "text/plain": [
       "<matplotlib.figure.Figure at 0x9b61350>"
      ]
     },
     "metadata": {},
     "output_type": "display_data"
    }
   ],
   "source": [
    "deltaJ = df[\"J [GTLSA]\"]-df[\"J [basic]\"]\n",
    "plt.hist(deltaJ,bins=50)\n",
    "plt.title(\"Delta J (GTLSA-basic)\")"
   ]
  },
  {
   "cell_type": "code",
   "execution_count": 101,
   "metadata": {},
   "outputs": [
    {
     "name": "stdout",
     "output_type": "stream",
     "text": [
      "[ 39  64  90 100 114 149 189 190 205]\n"
     ]
    }
   ],
   "source": [
    "# samples where GTLSA performs much worse than basic \n",
    "bad_idx = np.where(deltaJ<-0.7)[0]\n",
    "print bad_idx"
   ]
  },
  {
   "cell_type": "markdown",
   "metadata": {},
   "source": [
    "Note that all of these are for the sample 5worker_rand0, also these are all for cases where threshold is 2 and -2 "
   ]
  },
  {
   "cell_type": "markdown",
   "metadata": {},
   "source": [
    "# Plot independent J values for each threshold separately and for each N_workers separately "
   ]
  },
  {
   "cell_type": "code",
   "execution_count": 102,
   "metadata": {
    "collapsed": true
   },
   "outputs": [],
   "source": [
    "def plot_comparison(x_attr,y1_attr,y2_attr):\n",
    "    if x_attr==\"index\":\n",
    "        a = plt.plot(df.index,df[y1_attr],'.',label=y1_attr)\n",
    "        a = plt.plot(df.index,df[y2_attr],'x',label=y2_attr )\n",
    "    else:\n",
    "        a = plt.plot(df[x_attr],df[y1_attr],'.',label=y1_attr)\n",
    "        a = plt.plot(df[x_attr],df[y2_attr],'x',label=y2_attr )\n",
    "    plt.legend(bbox_to_anchor=(1.04,1), loc=\"upper left\")\n",
    "    plt.xlabel(x_attr)\n",
    "\n",
    "def compare_PRJ_fixed_attr(attr,y1,y2,plot_metric='PRJ'):\n",
    "    attr_lst = list(set(df[attr]))\n",
    "    if 'P' in plot_metric:\n",
    "        plt.figure()\n",
    "        plt.title('Precision')\n",
    "        plot_comparison(attr,\"P [{}]\".format(y1),\"P [{}]\".format(y2))\n",
    "        plt.xticks(attr_lst)\n",
    "    if 'R' in plot_metric: \n",
    "        plt.figure()\n",
    "        plt.title('Recall')\n",
    "        plot_comparison(attr,\"R [{}]\".format(y1),\"R [{}]\".format(y2))\n",
    "        plt.xticks(attr_lst)\n",
    "    if 'J' in plot_metric:\n",
    "        plt.figure()\n",
    "        plt.title('Jaccard')\n",
    "        plot_comparison(attr,\"J [{}]\".format(y1),\"J [{}]\".format(y2))\n",
    "        plt.xticks(attr_lst)\n",
    "def compare_PRJ_fixed_sample_object(y1,y2):\n",
    "    plt.figure()\n",
    "    plot_comparison(\"index\",\"P [{}]\".format(y1),\"P [{}]\".format(y2))\n",
    "    plt.figure()\n",
    "    plot_comparison(\"index\",\"R [{}]\".format(y1),\"R [{}]\".format(y2))\n",
    "    plt.figure()\n",
    "    plot_comparison(\"index\",\"J [{}]\".format(y1),\"J [{}]\".format(y2))"
   ]
  },
  {
   "cell_type": "code",
   "execution_count": 103,
   "metadata": {},
   "outputs": [
    {
     "data": {
      "image/png": "[encoded data removed]",
      "text/plain": [
       "<matplotlib.figure.Figure at 0x9731150>"
      ]
     },
     "metadata": {},
     "output_type": "display_data"
    },
    {
     "data": {
      "image/png": "[encoded data removed]",
      "text/plain": [
       "<matplotlib.figure.Figure at 0x9731550>"
      ]
     },
     "metadata": {},
     "output_type": "display_data"
    }
   ],
   "source": [
    "compare_PRJ_fixed_attr(\"thresh\",\"GTLSA\",\"basic\",'J')\n",
    "\n",
    "compare_PRJ_fixed_attr(\"num_workers\",\"GTLSA\",\"basic\",'J')"
   ]
  },
  {
   "cell_type": "markdown",
   "metadata": {},
   "source": [
    "It looks like GTLSA performs badly when Nworkers is low and for threshold = -2 and 2"
   ]
  },
  {
   "cell_type": "code",
   "execution_count": 104,
   "metadata": {},
   "outputs": [],
   "source": [
    "# compare_PRJ_fixed_attr(\"thresh\",\"isoGTLSA\",\"basic\",'J')\n",
    "# compare_PRJ_fixed_attr(\"num_workers\",\"isoGTLSA\",\"basic\",'J')"
   ]
  },
  {
   "cell_type": "markdown",
   "metadata": {},
   "source": [
    "# Look at what happens for these bad objects "
   ]
  },
  {
   "cell_type": "code",
   "execution_count": 105,
   "metadata": {},
   "outputs": [
    {
     "data": {
      "text/html": [
       "<div>\n",
       "<table border=\"1\" class=\"dataframe\">\n",
       "  <thead>\n",
       "    <tr style=\"text-align: right;\">\n",
       "      <th></th>\n",
       "      <th>num_workers</th>\n",
       "      <th>sample_num</th>\n",
       "      <th>objid</th>\n",
       "      <th>P [MV]</th>\n",
       "      <th>R [MV]</th>\n",
       "      <th>J [MV]</th>\n",
       "      <th>thresh</th>\n",
       "      <th>P [GT]</th>\n",
       "      <th>R [GT]</th>\n",
       "      <th>J [GT]</th>\n",
       "      <th>...</th>\n",
       "      <th>J [isoGT]</th>\n",
       "      <th>P [GTLSA]</th>\n",
       "      <th>R [GTLSA]</th>\n",
       "      <th>J [GTLSA]</th>\n",
       "      <th>P [isoGTLSA]</th>\n",
       "      <th>R [isoGTLSA]</th>\n",
       "      <th>J [isoGTLSA]</th>\n",
       "      <th>P [basic]</th>\n",
       "      <th>R [basic]</th>\n",
       "      <th>J [basic]</th>\n",
       "    </tr>\n",
       "  </thead>\n",
       "  <tbody>\n",
       "    <tr>\n",
       "      <th>39</th>\n",
       "      <td>5</td>\n",
       "      <td>0</td>\n",
       "      <td>2</td>\n",
       "      <td>0.949744</td>\n",
       "      <td>0.976273</td>\n",
       "      <td>0.928316</td>\n",
       "      <td>2</td>\n",
       "      <td>0.929897</td>\n",
       "      <td>0.986034</td>\n",
       "      <td>0.917808</td>\n",
       "      <td>...</td>\n",
       "      <td>0.112100</td>\n",
       "      <td>0.350592</td>\n",
       "      <td>0.035591</td>\n",
       "      <td>0.033390</td>\n",
       "      <td>0.861538</td>\n",
       "      <td>0.008410</td>\n",
       "      <td>0.008398</td>\n",
       "      <td>0.949744</td>\n",
       "      <td>0.976273</td>\n",
       "      <td>0.928316</td>\n",
       "    </tr>\n",
       "    <tr>\n",
       "      <th>64</th>\n",
       "      <td>5</td>\n",
       "      <td>0</td>\n",
       "      <td>10</td>\n",
       "      <td>0.970109</td>\n",
       "      <td>0.969648</td>\n",
       "      <td>0.941518</td>\n",
       "      <td>2</td>\n",
       "      <td>0.961366</td>\n",
       "      <td>0.980971</td>\n",
       "      <td>0.943766</td>\n",
       "      <td>...</td>\n",
       "      <td>0.053203</td>\n",
       "      <td>0.352884</td>\n",
       "      <td>0.042800</td>\n",
       "      <td>0.039686</td>\n",
       "      <td>0.001201</td>\n",
       "      <td>0.020630</td>\n",
       "      <td>0.001136</td>\n",
       "      <td>0.970109</td>\n",
       "      <td>0.969648</td>\n",
       "      <td>0.941518</td>\n",
       "    </tr>\n",
       "    <tr>\n",
       "      <th>90</th>\n",
       "      <td>5</td>\n",
       "      <td>0</td>\n",
       "      <td>19</td>\n",
       "      <td>0.953104</td>\n",
       "      <td>0.882929</td>\n",
       "      <td>0.846169</td>\n",
       "      <td>-2</td>\n",
       "      <td>0.934346</td>\n",
       "      <td>0.928819</td>\n",
       "      <td>0.871913</td>\n",
       "      <td>...</td>\n",
       "      <td>0.025888</td>\n",
       "      <td>0.025196</td>\n",
       "      <td>0.961656</td>\n",
       "      <td>0.025171</td>\n",
       "      <td>0.026128</td>\n",
       "      <td>0.998572</td>\n",
       "      <td>0.026127</td>\n",
       "      <td>0.953104</td>\n",
       "      <td>0.882929</td>\n",
       "      <td>0.846169</td>\n",
       "    </tr>\n",
       "    <tr>\n",
       "      <th>100</th>\n",
       "      <td>5</td>\n",
       "      <td>0</td>\n",
       "      <td>21</td>\n",
       "      <td>1.000000</td>\n",
       "      <td>0.912607</td>\n",
       "      <td>0.912607</td>\n",
       "      <td>-2</td>\n",
       "      <td>0.987939</td>\n",
       "      <td>0.946258</td>\n",
       "      <td>0.935452</td>\n",
       "      <td>...</td>\n",
       "      <td>0.937921</td>\n",
       "      <td>0.021107</td>\n",
       "      <td>0.993722</td>\n",
       "      <td>0.021104</td>\n",
       "      <td>0.021194</td>\n",
       "      <td>0.997238</td>\n",
       "      <td>0.021192</td>\n",
       "      <td>1.000000</td>\n",
       "      <td>0.912607</td>\n",
       "      <td>0.912607</td>\n",
       "    </tr>\n",
       "    <tr>\n",
       "      <th>114</th>\n",
       "      <td>5</td>\n",
       "      <td>0</td>\n",
       "      <td>23</td>\n",
       "      <td>0.945923</td>\n",
       "      <td>0.937791</td>\n",
       "      <td>0.890073</td>\n",
       "      <td>2</td>\n",
       "      <td>0.943552</td>\n",
       "      <td>0.964000</td>\n",
       "      <td>0.911436</td>\n",
       "      <td>...</td>\n",
       "      <td>0.002507</td>\n",
       "      <td>0.691676</td>\n",
       "      <td>0.075403</td>\n",
       "      <td>0.072951</td>\n",
       "      <td>0.970370</td>\n",
       "      <td>0.007821</td>\n",
       "      <td>0.007819</td>\n",
       "      <td>0.945923</td>\n",
       "      <td>0.937791</td>\n",
       "      <td>0.890073</td>\n",
       "    </tr>\n",
       "    <tr>\n",
       "      <th>149</th>\n",
       "      <td>5</td>\n",
       "      <td>0</td>\n",
       "      <td>30</td>\n",
       "      <td>0.879012</td>\n",
       "      <td>0.984373</td>\n",
       "      <td>0.866914</td>\n",
       "      <td>2</td>\n",
       "      <td>0.879012</td>\n",
       "      <td>0.984373</td>\n",
       "      <td>0.866914</td>\n",
       "      <td>...</td>\n",
       "      <td>0.857201</td>\n",
       "      <td>0.315229</td>\n",
       "      <td>0.046257</td>\n",
       "      <td>0.042034</td>\n",
       "      <td>0.349713</td>\n",
       "      <td>0.066729</td>\n",
       "      <td>0.059363</td>\n",
       "      <td>0.905344</td>\n",
       "      <td>0.971558</td>\n",
       "      <td>0.881969</td>\n",
       "    </tr>\n",
       "    <tr>\n",
       "      <th>189</th>\n",
       "      <td>5</td>\n",
       "      <td>0</td>\n",
       "      <td>39</td>\n",
       "      <td>0.984364</td>\n",
       "      <td>0.988475</td>\n",
       "      <td>0.973194</td>\n",
       "      <td>2</td>\n",
       "      <td>0.984364</td>\n",
       "      <td>0.988475</td>\n",
       "      <td>0.973194</td>\n",
       "      <td>...</td>\n",
       "      <td>0.016684</td>\n",
       "      <td>0.457849</td>\n",
       "      <td>0.016653</td>\n",
       "      <td>0.016331</td>\n",
       "      <td>0.948912</td>\n",
       "      <td>0.021210</td>\n",
       "      <td>0.021186</td>\n",
       "      <td>0.984364</td>\n",
       "      <td>0.988475</td>\n",
       "      <td>0.973194</td>\n",
       "    </tr>\n",
       "    <tr>\n",
       "      <th>190</th>\n",
       "      <td>5</td>\n",
       "      <td>0</td>\n",
       "      <td>42</td>\n",
       "      <td>0.955421</td>\n",
       "      <td>0.874118</td>\n",
       "      <td>0.839864</td>\n",
       "      <td>-2</td>\n",
       "      <td>0.919855</td>\n",
       "      <td>0.936216</td>\n",
       "      <td>0.865608</td>\n",
       "      <td>...</td>\n",
       "      <td>0.839864</td>\n",
       "      <td>0.023205</td>\n",
       "      <td>0.971328</td>\n",
       "      <td>0.023189</td>\n",
       "      <td>0.023262</td>\n",
       "      <td>0.973628</td>\n",
       "      <td>0.023247</td>\n",
       "      <td>0.955421</td>\n",
       "      <td>0.874118</td>\n",
       "      <td>0.839864</td>\n",
       "    </tr>\n",
       "    <tr>\n",
       "      <th>205</th>\n",
       "      <td>5</td>\n",
       "      <td>0</td>\n",
       "      <td>45</td>\n",
       "      <td>0.959945</td>\n",
       "      <td>0.876376</td>\n",
       "      <td>0.845460</td>\n",
       "      <td>-2</td>\n",
       "      <td>0.932591</td>\n",
       "      <td>0.922709</td>\n",
       "      <td>0.865018</td>\n",
       "      <td>...</td>\n",
       "      <td>0.017450</td>\n",
       "      <td>0.017407</td>\n",
       "      <td>0.987326</td>\n",
       "      <td>0.017403</td>\n",
       "      <td>0.017618</td>\n",
       "      <td>0.999584</td>\n",
       "      <td>0.017617</td>\n",
       "      <td>0.959945</td>\n",
       "      <td>0.876376</td>\n",
       "      <td>0.845460</td>\n",
       "    </tr>\n",
       "  </tbody>\n",
       "</table>\n",
       "<p>9 rows × 22 columns</p>\n",
       "</div>"
      ],
      "text/plain": [
       "     num_workers  sample_num  objid    P [MV]    R [MV]    J [MV]  thresh  \\\n",
       "39             5           0      2  0.949744  0.976273  0.928316       2   \n",
       "64             5           0     10  0.970109  0.969648  0.941518       2   \n",
       "90             5           0     19  0.953104  0.882929  0.846169      -2   \n",
       "100            5           0     21  1.000000  0.912607  0.912607      -2   \n",
       "114            5           0     23  0.945923  0.937791  0.890073       2   \n",
       "149            5           0     30  0.879012  0.984373  0.866914       2   \n",
       "189            5           0     39  0.984364  0.988475  0.973194       2   \n",
       "190            5           0     42  0.955421  0.874118  0.839864      -2   \n",
       "205            5           0     45  0.959945  0.876376  0.845460      -2   \n",
       "\n",
       "       P [GT]    R [GT]    J [GT]    ...      J [isoGT]  P [GTLSA]  R [GTLSA]  \\\n",
       "39   0.929897  0.986034  0.917808    ...       0.112100   0.350592   0.035591   \n",
       "64   0.961366  0.980971  0.943766    ...       0.053203   0.352884   0.042800   \n",
       "90   0.934346  0.928819  0.871913    ...       0.025888   0.025196   0.961656   \n",
       "100  0.987939  0.946258  0.935452    ...       0.937921   0.021107   0.993722   \n",
       "114  0.943552  0.964000  0.911436    ...       0.002507   0.691676   0.075403   \n",
       "149  0.879012  0.984373  0.866914    ...       0.857201   0.315229   0.046257   \n",
       "189  0.984364  0.988475  0.973194    ...       0.016684   0.457849   0.016653   \n",
       "190  0.919855  0.936216  0.865608    ...       0.839864   0.023205   0.971328   \n",
       "205  0.932591  0.922709  0.865018    ...       0.017450   0.017407   0.987326   \n",
       "\n",
       "     J [GTLSA]  P [isoGTLSA]  R [isoGTLSA]  J [isoGTLSA]  P [basic]  \\\n",
       "39    0.033390      0.861538      0.008410      0.008398   0.949744   \n",
       "64    0.039686      0.001201      0.020630      0.001136   0.970109   \n",
       "90    0.025171      0.026128      0.998572      0.026127   0.953104   \n",
       "100   0.021104      0.021194      0.997238      0.021192   1.000000   \n",
       "114   0.072951      0.970370      0.007821      0.007819   0.945923   \n",
       "149   0.042034      0.349713      0.066729      0.059363   0.905344   \n",
       "189   0.016331      0.948912      0.021210      0.021186   0.984364   \n",
       "190   0.023189      0.023262      0.973628      0.023247   0.955421   \n",
       "205   0.017403      0.017618      0.999584      0.017617   0.959945   \n",
       "\n",
       "     R [basic]  J [basic]  \n",
       "39    0.976273   0.928316  \n",
       "64    0.969648   0.941518  \n",
       "90    0.882929   0.846169  \n",
       "100   0.912607   0.912607  \n",
       "114   0.937791   0.890073  \n",
       "149   0.971558   0.881969  \n",
       "189   0.988475   0.973194  \n",
       "190   0.874118   0.839864  \n",
       "205   0.876376   0.845460  \n",
       "\n",
       "[9 rows x 22 columns]"
      ]
     },
     "execution_count": 105,
     "metadata": {},
     "output_type": "execute_result"
    }
   ],
   "source": [
    "df.ix[bad_idx]"
   ]
  },
  {
   "cell_type": "code",
   "execution_count": 108,
   "metadata": {},
   "outputs": [
    {
     "name": "stdout",
     "output_type": "stream",
     "text": [
      "pixel_em/5workers_rand0/obj2/GTLSA_gt_est_ground_truth_mask_thresh2.pkl\r\n",
      "pixel_em/5workers_rand0/obj2/GTLSA_p_in_mask_ground_truth_thresh2.pkl\r\n",
      "pixel_em/5workers_rand0/obj2/GTLSA_p_not_in_ground_truth_thresh2.pkl\r\n",
      "pixel_em/5workers_rand0/obj2/GTLSA_qn1_ground_truth_thresh2.pkl\r\n",
      "pixel_em/5workers_rand0/obj2/GTLSA_qn2_ground_truth_thresh2.pkl\r\n",
      "pixel_em/5workers_rand0/obj2/GTLSA_qp1_ground_truth_thresh2.pkl\r\n",
      "pixel_em/5workers_rand0/obj2/GTLSA_qp2_ground_truth_thresh2.pkl\r\n"
     ]
    }
   ],
   "source": [
    "ls pixel_em/5workers_rand0/obj2/GTLSA*ground_truth*thresh2*"
   ]
  },
  {
   "cell_type": "code",
   "execution_count": 127,
   "metadata": {},
   "outputs": [
    {
     "data": {
      "text/plain": [
       "<matplotlib.colorbar.Colorbar at 0xcd61210>"
      ]
     },
     "execution_count": 127,
     "metadata": {},
     "output_type": "execute_result"
    },
    {
     "data": {
      "image/png": "[encoded data removed]",
      "text/plain": [
       "<matplotlib.figure.Figure at 0xb99f690>"
      ]
     },
     "metadata": {},
     "output_type": "display_data"
    },
    {
     "data": {
      "image/png": "[encoded data removed]",
      "text/plain": [
       "<matplotlib.figure.Figure at 0xc94eb90>"
      ]
     },
     "metadata": {},
     "output_type": "display_data"
    },
    {
     "data": {
      "image/png": "[encoded data removed]",
      "text/plain": [
       "<matplotlib.figure.Figure at 0xcb3c290>"
      ]
     },
     "metadata": {},
     "output_type": "display_data"
    }
   ],
   "source": [
    "objid=2\n",
    "thresh=2\n",
    "gt_est=pkl.load(open('pixel_em/5workers_rand0/obj{}/GTLSA_gt_est_ground_truth_mask_thresh{}.pkl'.format(objid,thresh)))\n",
    "plt.imshow(gt_est)\n",
    "plt.colorbar()\n",
    "\n",
    "img=pkl.load(open('pixel_em/5workers_rand0/obj{}/GTLSA_p_in_mask_ground_truth_thresh{}.pkl'.format(objid,thresh)))\n",
    "plt.figure()\n",
    "plt.imshow(img)\n",
    "plt.colorbar()\n",
    "\n",
    "img=pkl.load(open('pixel_em/5workers_rand0/obj{}/GTLSA_p_not_in_ground_truth_thresh{}.pkl'.format(objid,thresh)))\n",
    "plt.figure()\n",
    "plt.imshow(img)\n",
    "plt.colorbar()"
   ]
  },
  {
   "cell_type": "code",
   "execution_count": 128,
   "metadata": {},
   "outputs": [
    {
     "data": {
      "text/plain": [
       "<matplotlib.colorbar.Colorbar at 0xcd750d0>"
      ]
     },
     "execution_count": 128,
     "metadata": {},
     "output_type": "execute_result"
    },
    {
     "data": {
      "image/png": "[encoded data removed]",
      "text/plain": [
       "<matplotlib.figure.Figure at 0xd717d50>"
      ]
     },
     "metadata": {},
     "output_type": "display_data"
    },
    {
     "data": {
      "image/png": "[encoded data removed]",
      "text/plain": [
       "<matplotlib.figure.Figure at 0xc800e10>"
      ]
     },
     "metadata": {},
     "output_type": "display_data"
    },
    {
     "data": {
      "image/png": "[encoded data removed]",
      "text/plain": [
       "<matplotlib.figure.Figure at 0xbcc2d90>"
      ]
     },
     "metadata": {},
     "output_type": "display_data"
    }
   ],
   "source": [
    "objid=21\n",
    "thresh=-2\n",
    "gt_est=pkl.load(open('pixel_em/5workers_rand0/obj{}/GTLSA_gt_est_ground_truth_mask_thresh{}.pkl'.format(objid,thresh)))\n",
    "plt.imshow(gt_est)\n",
    "plt.colorbar()\n",
    "\n",
    "img=pkl.load(open('pixel_em/5workers_rand0/obj{}/GTLSA_p_in_mask_ground_truth_thresh{}.pkl'.format(objid,thresh)))\n",
    "plt.figure()\n",
    "plt.imshow(img)\n",
    "plt.colorbar()\n",
    "\n",
    "img=pkl.load(open('pixel_em/5workers_rand0/obj{}/GTLSA_p_not_in_ground_truth_thresh{}.pkl'.format(objid,thresh)))\n",
    "plt.figure()\n",
    "plt.imshow(img)\n",
    "plt.colorbar()"
   ]
  },
  {
   "cell_type": "code",
   "execution_count": 130,
   "metadata": {},
   "outputs": [
    {
     "data": {
      "text/plain": [
       "<matplotlib.colorbar.Colorbar at 0xe939e50>"
      ]
     },
     "execution_count": 130,
     "metadata": {},
     "output_type": "execute_result"
    },
    {
     "data": {
      "image/png": "[encoded data removed]",
      "text/plain": [
       "<matplotlib.figure.Figure at 0xe322590>"
      ]
     },
     "metadata": {},
     "output_type": "display_data"
    },
    {
     "data": {
      "image/png": "[encoded data removed]",
      "text/plain": [
       "<matplotlib.figure.Figure at 0xe823690>"
      ]
     },
     "metadata": {},
     "output_type": "display_data"
    },
    {
     "data": {
      "image/png": "[encoded data removed]",
      "text/plain": [
       "<matplotlib.figure.Figure at 0xdededd0>"
      ]
     },
     "metadata": {},
     "output_type": "display_data"
    }
   ],
   "source": [
    "objid=45\n",
    "thresh=-2\n",
    "gt_est=pkl.load(open('pixel_em/5workers_rand0/obj{}/GTLSA_gt_est_ground_truth_mask_thresh{}.pkl'.format(objid,thresh)))\n",
    "plt.imshow(gt_est)\n",
    "plt.colorbar()\n",
    "\n",
    "img=pkl.load(open('pixel_em/5workers_rand0/obj{}/GTLSA_p_in_mask_ground_truth_thresh{}.pkl'.format(objid,thresh)))\n",
    "plt.figure()\n",
    "plt.imshow(img)\n",
    "plt.colorbar()\n",
    "\n",
    "img=pkl.load(open('pixel_em/5workers_rand0/obj{}/GTLSA_p_not_in_ground_truth_thresh{}.pkl'.format(objid,thresh)))\n",
    "plt.figure()\n",
    "plt.imshow(img)\n",
    "plt.colorbar()"
   ]
  },
  {
   "cell_type": "markdown",
   "metadata": {},
   "source": [
    "looks like some regions have the -inf problem"
   ]
  },
  {
   "cell_type": "markdown",
   "metadata": {},
   "source": [
    "included in GT if pinT>thresh+pNotInT"
   ]
  },
  {
   "cell_type": "markdown",
   "metadata": {},
   "source": [
    "So this just looks like an inappropriate choice of threshold, I wonder what the average PRJ is like if we exclude these  and just look at threshold 0 "
   ]
  },
  {
   "cell_type": "code",
   "execution_count": 121,
   "metadata": {},
   "outputs": [
    {
     "data": {
      "text/plain": [
       "J [MV]          0.882326\n",
       "J [GT]          0.894644\n",
       "J [isoGT]       0.895458\n",
       "J [GTLSA]       0.876464\n",
       "J [isoGTLSA]    0.889516\n",
       "J [basic]       0.890103\n",
       "dtype: float64"
      ]
     },
     "execution_count": 121,
     "metadata": {},
     "output_type": "execute_result"
    }
   ],
   "source": [
    "df[df[\"thresh\"]==0].filter(regex=\"J\").mean()"
   ]
  },
  {
   "cell_type": "markdown",
   "metadata": {},
   "source": [
    "and maybe with large sample of workers "
   ]
  },
  {
   "cell_type": "code",
   "execution_count": 123,
   "metadata": {},
   "outputs": [
    {
     "data": {
      "text/plain": [
       "J [MV]          0.891173\n",
       "J [GT]          0.901618\n",
       "J [isoGT]       0.910802\n",
       "J [GTLSA]       0.893208\n",
       "J [isoGTLSA]    0.903682\n",
       "J [basic]       0.901588\n",
       "dtype: float64"
      ]
     },
     "execution_count": 123,
     "metadata": {},
     "output_type": "execute_result"
    }
   ],
   "source": [
    "df[(df[\"thresh\"]==0)&(df[\"num_workers\"]==30)].filter(regex=\"J\").mean()"
   ]
  },
  {
   "cell_type": "markdown",
   "metadata": {},
   "source": [
    "the numbers are very close but its good that the iso are better than the GT and GTLSA each, and that isoGT seems to be doing the best, and that advanced model>basic > MV, but again this is only over 45 objects"
   ]
  },
  {
   "cell_type": "markdown",
   "metadata": {},
   "source": [
    "# Does advanced model do when when objects are harder ? "
   ]
  },
  {
   "cell_type": "code",
   "execution_count": 144,
   "metadata": {
    "collapsed": true
   },
   "outputs": [],
   "source": [
    "task_ambiguity = [1,4,35,40,41,42]\n",
    "small_area = [1,15,22]\n",
    "high_numPts=[5,7,9,10,11,12,28,29,30,37]\n",
    "\n",
    "#all_hard_tasks = list(set(np.concatenate((task_ambiguity,small_area,high_numPts))))\n",
    "easy_tasks = [objid  for objid in object_lst if objid not in all_hard_tasks]\n",
    "selected_objids = [objid  for objid in easy_tasks if objid not in lossless_vtiles]"
   ]
  },
  {
   "cell_type": "code",
   "execution_count": 136,
   "metadata": {},
   "outputs": [],
   "source": [
    "easy_obj = df[df.objid.isin(easy_tasks)]"
   ]
  },
  {
   "cell_type": "code",
   "execution_count": 139,
   "metadata": {},
   "outputs": [
    {
     "data": {
      "text/plain": [
       "J [MV]          0.909812\n",
       "J [GT]          0.916430\n",
       "J [isoGT]       0.901502\n",
       "J [GTLSA]       0.889944\n",
       "J [isoGTLSA]    0.884045\n",
       "J [basic]       0.914825\n",
       "dtype: float64"
      ]
     },
     "execution_count": 139,
     "metadata": {},
     "output_type": "execute_result"
    }
   ],
   "source": [
    "easy_obj.filter(regex=\"J\").mean()"
   ]
  },
  {
   "cell_type": "code",
   "execution_count": 145,
   "metadata": {
    "collapsed": true
   },
   "outputs": [],
   "source": [
    "# hard_obj = df[df.objid.isin(all_hard_tasks)]\n",
    "all_hard_tasks = list(set(np.concatenate((small_area,high_numPts))))\n",
    "hard_obj = df[df.objid.isin(all_hard_tasks)]"
   ]
  },
  {
   "cell_type": "code",
   "execution_count": 146,
   "metadata": {},
   "outputs": [
    {
     "data": {
      "text/plain": [
       "J [MV]          0.846190\n",
       "J [GT]          0.847119\n",
       "J [isoGT]       0.842062\n",
       "J [GTLSA]       0.824643\n",
       "J [isoGTLSA]    0.823399\n",
       "J [basic]       0.851070\n",
       "dtype: float64"
      ]
     },
     "execution_count": 146,
     "metadata": {},
     "output_type": "execute_result"
    }
   ],
   "source": [
    "hard_obj.filter(regex=\"J\").mean()"
   ]
  },
  {
   "cell_type": "markdown",
   "metadata": {},
   "source": [
    "there's no clear distinction showing that advanced model performs better in hard cases"
   ]
  },
  {
   "cell_type": "markdown",
   "metadata": {},
   "source": [
    "------------------------------------------------------------------------"
   ]
  }
 ],
 "metadata": {
  "kernelspec": {
   "display_name": "Python 2",
   "language": "python",
   "name": "python2"
  },
  "language_info": {
   "codemirror_mode": {
    "name": "ipython",
    "version": 2
   },
   "file_extension": ".py",
   "mimetype": "text/x-python",
   "name": "python",
   "nbconvert_exporter": "python",
   "pygments_lexer": "ipython2",
   "version": "2.7.6"
  }
 },
 "nbformat": 4,
 "nbformat_minor": 2
}
