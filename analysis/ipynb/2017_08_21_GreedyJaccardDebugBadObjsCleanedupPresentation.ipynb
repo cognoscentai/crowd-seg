{
 "cells": [
  {
   "cell_type": "code",
   "execution_count": 1,
   "metadata": {
    "collapsed": false
   },
   "outputs": [
    {
     "name": "stdout",
     "output_type": "stream",
     "text": [
      "/Users/dorislee/Desktop/Research/seg/crowd-seg/analysis/TileEM\n"
     ]
    }
   ],
   "source": [
    "cd ../TileEM/"
   ]
  },
  {
   "cell_type": "code",
   "execution_count": 2,
   "metadata": {
    "collapsed": false
   },
   "outputs": [
    {
     "name": "stdout",
     "output_type": "stream",
     "text": [
      "Populating the interactive namespace from numpy and matplotlib\n"
     ]
    },
    {
     "name": "stderr",
     "output_type": "stream",
     "text": [
      "/Users/dorislee/.virtualenvs/py27dev/lib/python2.7/site-packages/matplotlib/__init__.py:1405: UserWarning: \n",
      "This call to matplotlib.use() has no effect because the backend has already\n",
      "been chosen; matplotlib.use() must be called *before* pylab, matplotlib.pyplot,\n",
      "or matplotlib.backends is imported for the first time.\n",
      "\n",
      "  warnings.warn(_use_error_msg)\n"
     ]
    }
   ],
   "source": [
    "%pylab inline\n",
    "%load_ext autoreload\n",
    "%autoreload 2\n",
    "from PixelEM import * \n",
    "from test_sample import test_sample_obj\n",
    "import json\n",
    "import pandas as pd\n",
    "object_lst = [1, 2, 3, 4, 5, 6, 7, 8, 9, 10, 11, 12, 13, 14, 15, 16, 17, 18, 19, 20, 21, 22, 23, 24, 25, 26, 27, 28, 29, 30, 31, 32, 33, 34, 36, 37, 38, 39, 42, 43, 44, 45, 46, 47]"
   ]
  },
  {
   "cell_type": "code",
   "execution_count": 8,
   "metadata": {
    "collapsed": true
   },
   "outputs": [],
   "source": [
    "performance_df = pd.read_csv(\"../../data/greedy_algos_performance.csv\")\n",
    "tile_picked_df = pd.read_csv(\"../../data/all_tile_plus_greedy_algo_info.csv\")\n",
    "prob_df = pd.read_csv(\"../../data/all_tile_plus_probability_info.csv\")\n",
    "tile_info =pd.read_csv(\"../../data/all_pixel_tile_info.csv\",index_col=0)\n",
    "obj_info = pd.read_csv(\"../../data/all_object_info.csv\",index_col=0)\n",
    "approved_obj_info = pd.read_csv(\"../../data/approved_object_tbl.csv\",index_col=0)\n",
    "objinfo_tbl = pd.merge(obj_info,approved_obj_info,left_on=\"objid\",right_on=\"id\")[['objid', u'GT area', u'GT num Points', u'is_hard',\n",
    "       u'is_task_ambiguity', u'is_small_area', u'is_high_numPts', 'image_id', u'name']]"
   ]
  },
  {
   "cell_type": "markdown",
   "metadata": {},
   "source": [
    "We want to find objects whose gt_aware is high, but the other algos is not doing well. "
   ]
  },
  {
   "cell_type": "code",
   "execution_count": 9,
   "metadata": {
    "collapsed": false
   },
   "outputs": [],
   "source": [
    "performance_df['gt aware - isoGT']=performance_df['act_jacc (gt_aware,i_by_o)']-performance_df['act_jacc (isoGT,i_by_o)']"
   ]
  },
  {
   "cell_type": "code",
   "execution_count": 10,
   "metadata": {
    "collapsed": false
   },
   "outputs": [
    {
     "data": {
      "text/plain": [
       "<matplotlib.axes._subplots.AxesSubplot at 0x10a95c990>"
      ]
     },
     "execution_count": 10,
     "metadata": {},
     "output_type": "execute_result"
    },
    {
     "data": {
      "image/png": "[encoded data removed]",
      "text/plain": [
       "<matplotlib.figure.Figure at 0x109e33d90>"
      ]
     },
     "metadata": {},
     "output_type": "display_data"
    }
   ],
   "source": [
    "performance_df[\"gt aware - isoGT\"].hist()"
   ]
  },
  {
   "cell_type": "code",
   "execution_count": 25,
   "metadata": {
    "collapsed": false
   },
   "outputs": [
    {
     "data": {
      "text/html": [
       "<div>\n",
       "<style>\n",
       "    .dataframe thead tr:only-child th {\n",
       "        text-align: right;\n",
       "    }\n",
       "\n",
       "    .dataframe thead th {\n",
       "        text-align: left;\n",
       "    }\n",
       "\n",
       "    .dataframe tbody tr th {\n",
       "        vertical-align: top;\n",
       "    }\n",
       "</style>\n",
       "<table border=\"1\" class=\"dataframe\">\n",
       "  <thead>\n",
       "    <tr style=\"text-align: right;\">\n",
       "      <th></th>\n",
       "      <th>batch</th>\n",
       "      <th>objid</th>\n",
       "      <th>est_jacc (gt_aware,i_by_o)</th>\n",
       "      <th>act_jacc (gt_aware,i_by_o)</th>\n",
       "      <th>est_jacc (adj_gt_aware,i_by_o)</th>\n",
       "      <th>act_jacc (adj_gt_aware,i_by_o)</th>\n",
       "      <th>est_jacc (mv,i_by_o)</th>\n",
       "      <th>act_jacc (mv,i_by_o)</th>\n",
       "      <th>est_jacc (adj_mv,i_by_o)</th>\n",
       "      <th>act_jacc (adj_mv,i_by_o)</th>\n",
       "      <th>...</th>\n",
       "      <th>act_jacc (adj_mv_weighted,i_by_o)</th>\n",
       "      <th>est_jacc (GT,i_by_o)</th>\n",
       "      <th>act_jacc (GT,i_by_o)</th>\n",
       "      <th>est_jacc (adj_GT,i_by_o)</th>\n",
       "      <th>act_jacc (adj_GT,i_by_o)</th>\n",
       "      <th>est_jacc (isoGT,i_by_o)</th>\n",
       "      <th>act_jacc (isoGT,i_by_o)</th>\n",
       "      <th>est_jacc (adj_isoGT,i_by_o)</th>\n",
       "      <th>act_jacc (adj_isoGT,i_by_o)</th>\n",
       "      <th>gt aware - isoGT</th>\n",
       "    </tr>\n",
       "  </thead>\n",
       "  <tbody>\n",
       "    <tr>\n",
       "      <th>58</th>\n",
       "      <td>15workers_rand0</td>\n",
       "      <td>15</td>\n",
       "      <td>0.948767</td>\n",
       "      <td>0.948767</td>\n",
       "      <td>0.948767</td>\n",
       "      <td>0.948767</td>\n",
       "      <td>1.0</td>\n",
       "      <td>0.806709</td>\n",
       "      <td>1.0</td>\n",
       "      <td>0.806709</td>\n",
       "      <td>...</td>\n",
       "      <td>0.647134</td>\n",
       "      <td>0.999994</td>\n",
       "      <td>0.735166</td>\n",
       "      <td>0.999994</td>\n",
       "      <td>0.735166</td>\n",
       "      <td>0.999102</td>\n",
       "      <td>0.740146</td>\n",
       "      <td>0.999102</td>\n",
       "      <td>0.740146</td>\n",
       "      <td>0.208621</td>\n",
       "    </tr>\n",
       "    <tr>\n",
       "      <th>142</th>\n",
       "      <td>25workers_rand0</td>\n",
       "      <td>11</td>\n",
       "      <td>0.979817</td>\n",
       "      <td>0.979817</td>\n",
       "      <td>0.979817</td>\n",
       "      <td>0.979817</td>\n",
       "      <td>1.0</td>\n",
       "      <td>0.814773</td>\n",
       "      <td>1.0</td>\n",
       "      <td>0.814773</td>\n",
       "      <td>...</td>\n",
       "      <td>0.816575</td>\n",
       "      <td>0.994514</td>\n",
       "      <td>0.780390</td>\n",
       "      <td>0.994514</td>\n",
       "      <td>0.780390</td>\n",
       "      <td>0.985171</td>\n",
       "      <td>0.819921</td>\n",
       "      <td>0.985171</td>\n",
       "      <td>0.819921</td>\n",
       "      <td>0.159895</td>\n",
       "    </tr>\n",
       "    <tr>\n",
       "      <th>146</th>\n",
       "      <td>25workers_rand0</td>\n",
       "      <td>15</td>\n",
       "      <td>0.984436</td>\n",
       "      <td>0.984436</td>\n",
       "      <td>0.984436</td>\n",
       "      <td>0.984436</td>\n",
       "      <td>1.0</td>\n",
       "      <td>0.810147</td>\n",
       "      <td>1.0</td>\n",
       "      <td>0.810147</td>\n",
       "      <td>...</td>\n",
       "      <td>0.790476</td>\n",
       "      <td>0.995552</td>\n",
       "      <td>0.764706</td>\n",
       "      <td>0.995552</td>\n",
       "      <td>0.764706</td>\n",
       "      <td>0.995285</td>\n",
       "      <td>0.809756</td>\n",
       "      <td>0.995285</td>\n",
       "      <td>0.809756</td>\n",
       "      <td>0.174680</td>\n",
       "    </tr>\n",
       "    <tr>\n",
       "      <th>190</th>\n",
       "      <td>20workers_rand0</td>\n",
       "      <td>15</td>\n",
       "      <td>0.960076</td>\n",
       "      <td>0.960076</td>\n",
       "      <td>0.960076</td>\n",
       "      <td>0.960076</td>\n",
       "      <td>1.0</td>\n",
       "      <td>0.809370</td>\n",
       "      <td>1.0</td>\n",
       "      <td>0.809370</td>\n",
       "      <td>...</td>\n",
       "      <td>0.676431</td>\n",
       "      <td>0.997790</td>\n",
       "      <td>0.741176</td>\n",
       "      <td>0.997790</td>\n",
       "      <td>0.741176</td>\n",
       "      <td>0.998032</td>\n",
       "      <td>0.752239</td>\n",
       "      <td>0.998032</td>\n",
       "      <td>0.752239</td>\n",
       "      <td>0.207837</td>\n",
       "    </tr>\n",
       "    <tr>\n",
       "      <th>230</th>\n",
       "      <td>30workers_rand0</td>\n",
       "      <td>11</td>\n",
       "      <td>0.974638</td>\n",
       "      <td>0.974638</td>\n",
       "      <td>0.974638</td>\n",
       "      <td>0.974638</td>\n",
       "      <td>1.0</td>\n",
       "      <td>0.814467</td>\n",
       "      <td>1.0</td>\n",
       "      <td>0.814467</td>\n",
       "      <td>...</td>\n",
       "      <td>0.813596</td>\n",
       "      <td>0.995346</td>\n",
       "      <td>0.792596</td>\n",
       "      <td>0.995346</td>\n",
       "      <td>0.792596</td>\n",
       "      <td>0.991071</td>\n",
       "      <td>0.817930</td>\n",
       "      <td>0.991071</td>\n",
       "      <td>0.817930</td>\n",
       "      <td>0.156707</td>\n",
       "    </tr>\n",
       "    <tr>\n",
       "      <th>234</th>\n",
       "      <td>30workers_rand0</td>\n",
       "      <td>15</td>\n",
       "      <td>0.980658</td>\n",
       "      <td>0.980658</td>\n",
       "      <td>0.980658</td>\n",
       "      <td>0.980658</td>\n",
       "      <td>1.0</td>\n",
       "      <td>0.832203</td>\n",
       "      <td>1.0</td>\n",
       "      <td>0.832203</td>\n",
       "      <td>...</td>\n",
       "      <td>0.681879</td>\n",
       "      <td>0.998392</td>\n",
       "      <td>0.751118</td>\n",
       "      <td>0.998392</td>\n",
       "      <td>0.751118</td>\n",
       "      <td>0.998040</td>\n",
       "      <td>0.773846</td>\n",
       "      <td>0.998040</td>\n",
       "      <td>0.773846</td>\n",
       "      <td>0.206811</td>\n",
       "    </tr>\n",
       "    <tr>\n",
       "      <th>236</th>\n",
       "      <td>30workers_rand0</td>\n",
       "      <td>17</td>\n",
       "      <td>0.977768</td>\n",
       "      <td>0.977768</td>\n",
       "      <td>0.977768</td>\n",
       "      <td>0.977768</td>\n",
       "      <td>1.0</td>\n",
       "      <td>0.836804</td>\n",
       "      <td>1.0</td>\n",
       "      <td>0.836804</td>\n",
       "      <td>...</td>\n",
       "      <td>0.831895</td>\n",
       "      <td>0.999568</td>\n",
       "      <td>0.806626</td>\n",
       "      <td>0.999568</td>\n",
       "      <td>0.806626</td>\n",
       "      <td>0.996423</td>\n",
       "      <td>0.822616</td>\n",
       "      <td>0.996423</td>\n",
       "      <td>0.822616</td>\n",
       "      <td>0.155152</td>\n",
       "    </tr>\n",
       "  </tbody>\n",
       "</table>\n",
       "<p>7 rows × 23 columns</p>\n",
       "</div>"
      ],
      "text/plain": [
       "               batch  objid  est_jacc (gt_aware,i_by_o)  \\\n",
       "58   15workers_rand0     15                    0.948767   \n",
       "142  25workers_rand0     11                    0.979817   \n",
       "146  25workers_rand0     15                    0.984436   \n",
       "190  20workers_rand0     15                    0.960076   \n",
       "230  30workers_rand0     11                    0.974638   \n",
       "234  30workers_rand0     15                    0.980658   \n",
       "236  30workers_rand0     17                    0.977768   \n",
       "\n",
       "     act_jacc (gt_aware,i_by_o)  est_jacc (adj_gt_aware,i_by_o)  \\\n",
       "58                     0.948767                        0.948767   \n",
       "142                    0.979817                        0.979817   \n",
       "146                    0.984436                        0.984436   \n",
       "190                    0.960076                        0.960076   \n",
       "230                    0.974638                        0.974638   \n",
       "234                    0.980658                        0.980658   \n",
       "236                    0.977768                        0.977768   \n",
       "\n",
       "     act_jacc (adj_gt_aware,i_by_o)  est_jacc (mv,i_by_o)  \\\n",
       "58                         0.948767                   1.0   \n",
       "142                        0.979817                   1.0   \n",
       "146                        0.984436                   1.0   \n",
       "190                        0.960076                   1.0   \n",
       "230                        0.974638                   1.0   \n",
       "234                        0.980658                   1.0   \n",
       "236                        0.977768                   1.0   \n",
       "\n",
       "     act_jacc (mv,i_by_o)  est_jacc (adj_mv,i_by_o)  act_jacc (adj_mv,i_by_o)  \\\n",
       "58               0.806709                       1.0                  0.806709   \n",
       "142              0.814773                       1.0                  0.814773   \n",
       "146              0.810147                       1.0                  0.810147   \n",
       "190              0.809370                       1.0                  0.809370   \n",
       "230              0.814467                       1.0                  0.814467   \n",
       "234              0.832203                       1.0                  0.832203   \n",
       "236              0.836804                       1.0                  0.836804   \n",
       "\n",
       "           ...         act_jacc (adj_mv_weighted,i_by_o)  \\\n",
       "58         ...                                  0.647134   \n",
       "142        ...                                  0.816575   \n",
       "146        ...                                  0.790476   \n",
       "190        ...                                  0.676431   \n",
       "230        ...                                  0.813596   \n",
       "234        ...                                  0.681879   \n",
       "236        ...                                  0.831895   \n",
       "\n",
       "     est_jacc (GT,i_by_o)  act_jacc (GT,i_by_o)  est_jacc (adj_GT,i_by_o)  \\\n",
       "58               0.999994              0.735166                  0.999994   \n",
       "142              0.994514              0.780390                  0.994514   \n",
       "146              0.995552              0.764706                  0.995552   \n",
       "190              0.997790              0.741176                  0.997790   \n",
       "230              0.995346              0.792596                  0.995346   \n",
       "234              0.998392              0.751118                  0.998392   \n",
       "236              0.999568              0.806626                  0.999568   \n",
       "\n",
       "     act_jacc (adj_GT,i_by_o)  est_jacc (isoGT,i_by_o)  \\\n",
       "58                   0.735166                 0.999102   \n",
       "142                  0.780390                 0.985171   \n",
       "146                  0.764706                 0.995285   \n",
       "190                  0.741176                 0.998032   \n",
       "230                  0.792596                 0.991071   \n",
       "234                  0.751118                 0.998040   \n",
       "236                  0.806626                 0.996423   \n",
       "\n",
       "     act_jacc (isoGT,i_by_o)  est_jacc (adj_isoGT,i_by_o)  \\\n",
       "58                  0.740146                     0.999102   \n",
       "142                 0.819921                     0.985171   \n",
       "146                 0.809756                     0.995285   \n",
       "190                 0.752239                     0.998032   \n",
       "230                 0.817930                     0.991071   \n",
       "234                 0.773846                     0.998040   \n",
       "236                 0.822616                     0.996423   \n",
       "\n",
       "     act_jacc (adj_isoGT,i_by_o)  gt aware - isoGT  \n",
       "58                      0.740146          0.208621  \n",
       "142                     0.819921          0.159895  \n",
       "146                     0.809756          0.174680  \n",
       "190                     0.752239          0.207837  \n",
       "230                     0.817930          0.156707  \n",
       "234                     0.773846          0.206811  \n",
       "236                     0.822616          0.155152  \n",
       "\n",
       "[7 rows x 23 columns]"
      ]
     },
     "execution_count": 25,
     "metadata": {},
     "output_type": "execute_result"
    }
   ],
   "source": [
    "performance_df[performance_df[\"gt aware - isoGT\"]>0.15]"
   ]
  },
  {
   "cell_type": "code",
   "execution_count": 12,
   "metadata": {
    "collapsed": true
   },
   "outputs": [],
   "source": [
    "def debug_bad_objs(batch,objid):\n",
    "    print '------------------------'\n",
    "    print \"Object info: \\n\", \n",
    "    print objinfo_tbl[objinfo_tbl[\"objid\"]==objid][['name','GT area','is_hard','is_task_ambiguity', u'is_small_area', u'is_high_numPts']]\n",
    "    print '------------------------'\n",
    "    tile_picked_selected_df = tile_picked_df[(tile_picked_df[\"batch\"]==batch)&(tile_picked_df[\"objid\"]==objid)]\n",
    "    print \"Min tile areas:\\n\" , tile_picked_selected_df[[\"real_int_area\",\"tile_area\"]].min()\n",
    "    print '------------------------'\n",
    "    print \"Max tile areas:\\n\" , tile_picked_selected_df[[\"real_int_area\",\"tile_area\"]].max()\n",
    "    tile_info_selected_df  = tile_info[(tile_info[\"batch\"]==batch)&(tile_info[\"objid\"]==objid)]\n",
    "    tile_info_selected_df[\"i_by_o\"]=tile_info_selected_df[\"gt overlap area\"]/tile_info_selected_df[\"tile area\"]\n",
    "\n",
    "    incorrect_tiles = tile_picked_selected_df[tile_picked_selected_df[\"tile picked (gt_aware,i_by_o)\"]!=tile_picked_selected_df[\"tile picked (isoGT,i_by_o)\"]][\"tile id\"]\n",
    "    a = tile_info_selected_df[tile_info_selected_df[\"tile id\"].isin(incorrect_tiles)][[\"gt overlap area\",\"tile area\",\"i_by_o\"]]\\\n",
    "            .hist(layout=(1,3),figsize=(8,2))\n",
    "    plt.suptitle(\"All mistakes\",y=1.2,fontsize=13)\n",
    "\n",
    "    false_positive = tile_picked_selected_df[\\\n",
    "                (tile_picked_selected_df[\"tile picked (gt_aware,i_by_o)\"]==\"no\") & \\\n",
    "                (tile_picked_selected_df[\"tile picked (isoGT,i_by_o)\"]==\"yes\")][\"tile id\"]\n",
    "    a = tile_info_selected_df[tile_info_selected_df[\"tile id\"].isin(false_positive)][[\"gt overlap area\",\"tile area\",\"i_by_o\"]]\\\n",
    "            .hist(layout=(1,3),figsize=(8,2))\n",
    "    plt.suptitle(\"False positive\",y=1.2,fontsize=13)\n",
    "    print \"Number of false positives:\", len(false_positive)\n",
    "    \n",
    "    true_negative = tile_picked_selected_df[\\\n",
    "                (tile_picked_selected_df[\"tile picked (gt_aware,i_by_o)\"]==\"yes\") & \\\n",
    "                (tile_picked_selected_df[\"tile picked (isoGT,i_by_o)\"]==\"no\")][\"tile id\"]\n",
    "    a = tile_info_selected_df[tile_info_selected_df[\"tile id\"].isin(true_negative)][[\"gt overlap area\",\"tile area\",\"i_by_o\"]]\\\n",
    "            .hist(layout=(1,3),figsize=(8,2))\n",
    "    plt.suptitle(\"True negatives\",y=1.2,fontsize=13)\n",
    "    print \"Number of true negatives:\",len(true_negative)\n",
    "    "
   ]
  },
  {
   "cell_type": "code",
   "execution_count": 13,
   "metadata": {
    "collapsed": false
   },
   "outputs": [
    {
     "name": "stdout",
     "output_type": "stream",
     "text": [
      "------------------------\n",
      "Object info: \n",
      "     name  GT area  is_hard  is_task_ambiguity  is_small_area  is_high_numPts\n",
      "10  spoon   1504.5     True              False          False            True\n",
      "------------------------\n",
      "Min tile areas:\n",
      "real_int_area    0.0\n",
      "tile_area        1.0\n",
      "dtype: float64\n",
      "------------------------\n",
      "Max tile areas:\n",
      "real_int_area       799.0\n",
      "tile_area        305382.0\n",
      "dtype: float64\n",
      "Number of false positives: 122\n",
      "Number of true negatives: 139\n"
     ]
    },
    {
     "data": {
      "image/png": "[encoded data removed]",
      "text/plain": [
       "<matplotlib.figure.Figure at 0x1107c5ad0>"
      ]
     },
     "metadata": {},
     "output_type": "display_data"
    },
    {
     "data": {
      "image/png": "[encoded data removed]",
      "text/plain": [
       "<matplotlib.figure.Figure at 0x1110967d0>"
      ]
     },
     "metadata": {},
     "output_type": "display_data"
    },
    {
     "data": {
      "image/png": "[encoded data removed]",
      "text/plain": [
       "<matplotlib.figure.Figure at 0x111d5d810>"
      ]
     },
     "metadata": {},
     "output_type": "display_data"
    }
   ],
   "source": [
    "debug_bad_objs(\"25workers_rand0\",11)"
   ]
  },
  {
   "cell_type": "markdown",
   "metadata": {},
   "source": [
    "again most mistakes are on small tiles "
   ]
  },
  {
   "cell_type": "code",
   "execution_count": 163,
   "metadata": {
    "collapsed": false
   },
   "outputs": [
    {
     "name": "stdout",
     "output_type": "stream",
     "text": [
      "------------------------\n",
      "Object info: \n",
      "   name  GT area  is_hard  is_task_ambiguity  is_small_area  is_high_numPts\n",
      "14  car    460.5     True              False           True           False\n",
      "------------------------\n",
      "Min tile areas:\n",
      "real_int_area    0.0\n",
      "tile_area        1.0\n",
      "dtype: float64\n",
      "------------------------\n",
      "Max tile areas:\n",
      "real_int_area       268.0\n",
      "tile_area        284079.0\n",
      "dtype: float64\n",
      "Number of false positives: 96\n",
      "Number of true negatives: 2\n"
     ]
    },
    {
     "data": {
      "image/png": "[encoded data removed]",
      "text/plain": [
       "<matplotlib.figure.Figure at 0x10bd2f190>"
      ]
     },
     "metadata": {},
     "output_type": "display_data"
    },
    {
     "data": {
      "image/png": "[encoded data removed]",
      "text/plain": [
       "<matplotlib.figure.Figure at 0x1106fd410>"
      ]
     },
     "metadata": {},
     "output_type": "display_data"
    },
    {
     "data": {
      "image/png": "[encoded data removed]",
      "text/plain": [
       "<matplotlib.figure.Figure at 0x10c33bc50>"
      ]
     },
     "metadata": {},
     "output_type": "display_data"
    }
   ],
   "source": [
    "debug_bad_objs(\"30workers_rand0\",15)"
   ]
  },
  {
   "cell_type": "markdown",
   "metadata": {},
   "source": [
    "This is an interesting one because it is not a hard object, has a pretty large area, but there were still a lot of false positives"
   ]
  },
  {
   "cell_type": "code",
   "execution_count": 26,
   "metadata": {
    "collapsed": false
   },
   "outputs": [
    {
     "name": "stdout",
     "output_type": "stream",
     "text": [
      "------------------------\n",
      "Object info: \n",
      "      name  GT area  is_hard  is_task_ambiguity  is_small_area  is_high_numPts\n",
      "16  turtle   2203.5    False              False          False           False\n",
      "------------------------\n",
      "Min tile areas:\n",
      "real_int_area    0.0\n",
      "tile_area        1.0\n",
      "dtype: float64\n",
      "------------------------\n",
      "Max tile areas:\n",
      "real_int_area      1643.0\n",
      "tile_area        179966.0\n",
      "dtype: float64\n",
      "Number of false positives: 286\n",
      "Number of true negatives: 45\n"
     ]
    },
    {
     "data": {
      "image/png": "[encoded data removed]",
      "text/plain": [
       "<matplotlib.figure.Figure at 0x11274e890>"
      ]
     },
     "metadata": {},
     "output_type": "display_data"
    },
    {
     "data": {
      "image/png": "[encoded data removed]",
      "text/plain": [
       "<matplotlib.figure.Figure at 0x111d356d0>"
      ]
     },
     "metadata": {},
     "output_type": "display_data"
    },
    {
     "data": {
      "image/png": "[encoded data removed]",
      "text/plain": [
       "<matplotlib.figure.Figure at 0x112724e10>"
      ]
     },
     "metadata": {},
     "output_type": "display_data"
    }
   ],
   "source": [
    "debug_bad_objs(\"30workers_rand0\",17)"
   ]
  },
  {
   "cell_type": "markdown",
   "metadata": {},
   "source": [
    "------------------------------------------------------------------------------------"
   ]
  }
 ],
 "metadata": {
  "kernelspec": {
   "display_name": "Python 2",
   "language": "python",
   "name": "python2"
  },
  "language_info": {
   "codemirror_mode": {
    "name": "ipython",
    "version": 2
   },
   "file_extension": ".py",
   "mimetype": "text/x-python",
   "name": "python",
   "nbconvert_exporter": "python",
   "pygments_lexer": "ipython2",
   "version": "2.7.10"
  }
 },
 "nbformat": 4,
 "nbformat_minor": 2
}
