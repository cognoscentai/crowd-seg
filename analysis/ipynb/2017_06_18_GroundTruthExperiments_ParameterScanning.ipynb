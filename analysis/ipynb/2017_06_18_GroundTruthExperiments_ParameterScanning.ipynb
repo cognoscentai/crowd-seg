{
 "cells": [
  {
   "cell_type": "code",
   "execution_count": 1,
   "metadata": {},
   "outputs": [
    {
     "name": "stdout",
     "output_type": "stream",
     "text": [
      "Populating the interactive namespace from numpy and matplotlib\n"
     ]
    }
   ],
   "source": [
    "%pylab inline"
   ]
  },
  {
   "cell_type": "code",
   "execution_count": 2,
   "metadata": {},
   "outputs": [
    {
     "name": "stdout",
     "output_type": "stream",
     "text": [
      "/srv/data/home/jlee782/crowd-seg/analysis/TileEM\n"
     ]
    }
   ],
   "source": [
    "cd ../TileEM/"
   ]
  },
  {
   "cell_type": "code",
   "execution_count": 3,
   "metadata": {
    "collapsed": true
   },
   "outputs": [],
   "source": [
    "%load_ext autoreload\n",
    "%autoreload 2\n",
    "from paper_visualizations import * \n",
    "from PixelEM import * \n",
    "from test_sample import test_sample_obj\n",
    "import json"
   ]
  },
  {
   "cell_type": "markdown",
   "metadata": {},
   "source": [
    "ls pixel_em/10workers_rand0/obj1/GT_p_in_mask_ground_truth_thresh0.0.pkl"
   ]
  },
  {
   "cell_type": "code",
   "execution_count": 32,
   "metadata": {
    "collapsed": true
   },
   "outputs": [],
   "source": [
    "full = pd.read_csv(\"../TileEM/pixel_em/full_PRJ_table.csv\") #Pixel EM basic + MV \n",
    "\n",
    "MV = full[['num_workers', u'sample_num', u'objid', u'thresh', u'MV_precision',\n",
    "       u'MV_recall', u'MV_jaccard']]\n",
    "# basic = pd.read_csv(\"../TileEM/pixel_em/basic_ground_truth_full_PRJ_table.csv\")\n",
    "# GT = pd.read_csv(\"../TileEM/pixel_em/GT_ground_truth_full_PRJ_table.csv\")\n",
    "# isoGT = pd.read_csv(\"../TileEM/pixel_em/isoGT_ground_truth_full_PRJ_table.csv\")\n",
    "# GTLSA = pd.read_csv(\"../TileEM/pixel_em/GTLSA_ground_truth_full_PRJ_table.csv\")\n",
    "# isoGTLSA = pd.read_csv(\"../TileEM/pixel_em/isoGTLSA_ground_truth_full_PRJ_table.csv\")\n",
    "# mode = 'MV'\n",
    "# df = full[['num_workers', u'sample_num', u'objid', u'thresh', u'MV_precision',\n",
    "#        u'MV_recall', u'MV_jaccard']]\n",
    "df = pd.read_csv(\"pixel_em/MV_PRJ_table.csv\")\n",
    "df = df.rename(columns={\"MV_precision\":\"P [MV]\",\n",
    "                       \"MV_recall\":\"R [MV]\",\n",
    "                       \"MV_jaccard\":\"J [MV]\"})\n",
    "# df = df.drop(['thresh'],axis=1)\n",
    "for mode in  [\"GT\",\"isoGT\",\"GTLSA\",\"isoGTLSA\",\"basic\"]:\n",
    "    data =  pd.read_csv(\"../TileEM/pixel_em/{}_ground_truth_full_PRJ_table.csv\".format(mode))\n",
    "    data = data.rename(columns={\"EM_precision\":\"P [{}]\".format(mode),\n",
    "                       \"EM_recall\":\"R [{}]\".format(mode),\n",
    "                       \"EM_jaccard\":\"J [{}]\".format(mode),})\n",
    "    df = df.merge(data)\n",
    "df.to_csv(\"ground_truth_experiment_refined.csv\",index=None)"
   ]
  },
  {
   "cell_type": "code",
   "execution_count": 24,
   "metadata": {
    "collapsed": true
   },
   "outputs": [],
   "source": [
    "df = pd.read_csv(\"ground_truth_experiment_refined.csv\")"
   ]
  },
  {
   "cell_type": "markdown",
   "metadata": {},
   "source": [
    "# Investivate cases where GTLSA does worse than basic"
   ]
  },
  {
   "cell_type": "code",
   "execution_count": 50,
   "metadata": {},
   "outputs": [],
   "source": [
    "thresh_lst = np.linspace(-2,2,21)"
   ]
  },
  {
   "cell_type": "code",
   "execution_count": 51,
   "metadata": {},
   "outputs": [
    {
     "data": {
      "text/plain": [
       "<matplotlib.text.Text at 0x62bc390>"
      ]
     },
     "execution_count": 51,
     "metadata": {},
     "output_type": "execute_result"
    },
    {
     "data": {
      "image/png": "[encoded data removed]",
      "text/plain": [
       "<matplotlib.figure.Figure at 0x6420fd0>"
      ]
     },
     "metadata": {},
     "output_type": "display_data"
    }
   ],
   "source": [
    "deltaJ = df[\"J [GTLSA]\"]-df[\"J [basic]\"]\n",
    "plt.hist(deltaJ,bins=50)\n",
    "plt.title(\"Delta J (GTLSA-basic)\")"
   ]
  },
  {
   "cell_type": "code",
   "execution_count": 52,
   "metadata": {},
   "outputs": [
    {
     "name": "stdout",
     "output_type": "stream",
     "text": [
      "[147 148 149]\n"
     ]
    }
   ],
   "source": [
    "# samples where GTLSA performs much worse than basic \n",
    "bad_idx = np.where(deltaJ<-0.7)[0]\n",
    "print bad_idx"
   ]
  },
  {
   "cell_type": "markdown",
   "metadata": {},
   "source": [
    "Note that all of these are for the sample 5worker_rand0, also these are all for cases where threshold is 2 and -2 "
   ]
  },
  {
   "cell_type": "code",
   "execution_count": 53,
   "metadata": {},
   "outputs": [
    {
     "data": {
      "text/plain": [
       "J [MV]          0.947225\n",
       "J [GT]          0.945375\n",
       "J [isoGT]       0.941466\n",
       "J [GTLSA]       0.909301\n",
       "J [isoGTLSA]    0.859220\n",
       "J [basic]       0.948824\n",
       "dtype: float64"
      ]
     },
     "execution_count": 53,
     "metadata": {},
     "output_type": "execute_result"
    }
   ],
   "source": [
    "df.filter(regex=\"J\").mean()"
   ]
  },
  {
   "cell_type": "code",
   "execution_count": 160,
   "metadata": {},
   "outputs": [
    {
     "data": {
      "text/plain": [
       "J [MV]          0.882326\n",
       "J [GT]          0.894644\n",
       "J [isoGT]       0.895458\n",
       "J [GTLSA]       0.876464\n",
       "J [isoGTLSA]    0.889516\n",
       "J [basic]       0.890103\n",
       "dtype: float64"
      ]
     },
     "execution_count": 160,
     "metadata": {},
     "output_type": "execute_result"
    }
   ],
   "source": [
    "df[df[\"thresh\"]==0].filter(regex=\"J\").mean()"
   ]
  },
  {
   "cell_type": "code",
   "execution_count": 161,
   "metadata": {},
   "outputs": [
    {
     "data": {
      "text/plain": [
       "J [MV]          0.889874\n",
       "J [GT]          0.898624\n",
       "J [isoGT]       0.908579\n",
       "J [GTLSA]       0.887038\n",
       "J [isoGTLSA]    0.900980\n",
       "J [basic]       0.896631\n",
       "dtype: float64"
      ]
     },
     "execution_count": 161,
     "metadata": {},
     "output_type": "execute_result"
    }
   ],
   "source": [
    "df[(df[\"thresh\"]==0)&(df[\"num_workers\"]>20)].filter(regex=\"J\").mean()"
   ]
  },
  {
   "cell_type": "markdown",
   "metadata": {},
   "source": [
    "# Plot independent J values for each threshold separately and for each N_workers separately "
   ]
  },
  {
   "cell_type": "code",
   "execution_count": 74,
   "metadata": {
    "collapsed": true
   },
   "outputs": [],
   "source": [
    "def plot_comparison(x_attr,y1_attr,y2_attr):\n",
    "    if x_attr==\"index\":\n",
    "        a = plt.plot(df.index,df[y1_attr],'.',label=y1_attr)\n",
    "        a = plt.plot(df.index,df[y2_attr],'x',label=y2_attr )\n",
    "    else:\n",
    "        a = plt.plot(df[x_attr],df[y1_attr],'.',label=y1_attr)\n",
    "        a = plt.plot(df[x_attr],df[y2_attr],'x',label=y2_attr )\n",
    "    plt.legend(bbox_to_anchor=(1.04,1), loc=\"upper left\")\n",
    "    plt.xlabel(x_attr)\n",
    "\n",
    "def compare_PRJ_fixed_attr(attr,y1,y2,plot_metric='PRJ'):\n",
    "    attr_lst = list(set(df[attr]))\n",
    "    print attr_lst\n",
    "    if 'P' in plot_metric:\n",
    "        plt.figure()\n",
    "        plt.title('Precision')\n",
    "        plot_comparison(attr,\"P [{}]\".format(y1),\"P [{}]\".format(y2))\n",
    "        plt.xticks(attr_lst)\n",
    "    if 'R' in plot_metric: \n",
    "        plt.figure()\n",
    "        plt.title('Recall')\n",
    "        plot_comparison(attr,\"R [{}]\".format(y1),\"R [{}]\".format(y2))\n",
    "        plt.xticks(attr_lst)\n",
    "    if 'J' in plot_metric:\n",
    "        plt.figure()\n",
    "        plt.title('Jaccard')\n",
    "        plot_comparison(attr,\"J [{}]\".format(y1),\"J [{}]\".format(y2))\n",
    "        plt.xticks(attr_lst)\n",
    "def compare_PRJ_fixed_sample_object(y1,y2):\n",
    "    plt.figure()\n",
    "    plot_comparison(\"index\",\"P [{}]\".format(y1),\"P [{}]\".format(y2))\n",
    "    plt.figure()\n",
    "    plot_comparison(\"index\",\"R [{}]\".format(y1),\"R [{}]\".format(y2))\n",
    "    plt.figure()\n",
    "    plot_comparison(\"index\",\"J [{}]\".format(y1),\"J [{}]\".format(y2))"
   ]
  },
  {
   "cell_type": "markdown",
   "metadata": {},
   "source": [
    "It looks like GTLSA performs badly when Nworkers is low and for threshold = -2 and 2"
   ]
  },
  {
   "cell_type": "code",
   "execution_count": 56,
   "metadata": {},
   "outputs": [
    {
     "data": {
      "image/png": "[encoded data removed]",
      "text/plain": [
       "<matplotlib.figure.Figure at 0x6534c10>"
      ]
     },
     "metadata": {},
     "output_type": "display_data"
    },
    {
     "data": {
      "image/png": "[encoded data removed]",
      "text/plain": [
       "<matplotlib.figure.Figure at 0x6534950>"
      ]
     },
     "metadata": {},
     "output_type": "display_data"
    }
   ],
   "source": [
    "compare_PRJ_fixed_attr(\"thresh\",\"isoGTLSA\",\"basic\",'J')\n",
    "compare_PRJ_fixed_attr(\"num_workers\",\"isoGTLSA\",\"basic\",'J')"
   ]
  },
  {
   "cell_type": "code",
   "execution_count": 57,
   "metadata": {},
   "outputs": [
    {
     "data": {
      "image/png": "[encoded data removed]",
      "text/plain": [
       "<matplotlib.figure.Figure at 0x7018110>"
      ]
     },
     "metadata": {},
     "output_type": "display_data"
    },
    {
     "data": {
      "image/png": "[encoded data removed]",
      "text/plain": [
       "<matplotlib.figure.Figure at 0x7015b90>"
      ]
     },
     "metadata": {},
     "output_type": "display_data"
    }
   ],
   "source": [
    "compare_PRJ_fixed_attr(\"thresh\",\"GT\",\"basic\",'J')\n",
    "compare_PRJ_fixed_attr(\"num_workers\",\"GT\",\"basic\",'J')"
   ]
  },
  {
   "cell_type": "code",
   "execution_count": 58,
   "metadata": {},
   "outputs": [
    {
     "data": {
      "image/png": "[encoded data removed]",
      "text/plain": [
       "<matplotlib.figure.Figure at 0x73984d0>"
      ]
     },
     "metadata": {},
     "output_type": "display_data"
    },
    {
     "data": {
      "image/png": "[encoded data removed]",
      "text/plain": [
       "<matplotlib.figure.Figure at 0x7398090>"
      ]
     },
     "metadata": {},
     "output_type": "display_data"
    }
   ],
   "source": [
    "compare_PRJ_fixed_attr(\"thresh\",\"isoGT\",\"basic\",'J')\n",
    "compare_PRJ_fixed_attr(\"num_workers\",\"isoGT\",\"basic\",'J')"
   ]
  },
  {
   "cell_type": "markdown",
   "metadata": {},
   "source": [
    "# Look at what happens for these bad objects "
   ]
  },
  {
   "cell_type": "code",
   "execution_count": 59,
   "metadata": {},
   "outputs": [
    {
     "data": {
      "text/html": [
       "<div>\n",
       "<table border=\"1\" class=\"dataframe\">\n",
       "  <thead>\n",
       "    <tr style=\"text-align: right;\">\n",
       "      <th></th>\n",
       "      <th>num_workers</th>\n",
       "      <th>sample_num</th>\n",
       "      <th>objid</th>\n",
       "      <th>P [MV]</th>\n",
       "      <th>R [MV]</th>\n",
       "      <th>J [MV]</th>\n",
       "      <th>thresh</th>\n",
       "      <th>P [GT]</th>\n",
       "      <th>R [GT]</th>\n",
       "      <th>J [GT]</th>\n",
       "      <th>...</th>\n",
       "      <th>J [isoGT]</th>\n",
       "      <th>P [GTLSA]</th>\n",
       "      <th>R [GTLSA]</th>\n",
       "      <th>J [GTLSA]</th>\n",
       "      <th>P [isoGTLSA]</th>\n",
       "      <th>R [isoGTLSA]</th>\n",
       "      <th>J [isoGTLSA]</th>\n",
       "      <th>P [basic]</th>\n",
       "      <th>R [basic]</th>\n",
       "      <th>J [basic]</th>\n",
       "    </tr>\n",
       "  </thead>\n",
       "  <tbody>\n",
       "    <tr>\n",
       "      <th>147</th>\n",
       "      <td>5</td>\n",
       "      <td>0</td>\n",
       "      <td>2</td>\n",
       "      <td>0.949744</td>\n",
       "      <td>0.976273</td>\n",
       "      <td>0.928316</td>\n",
       "      <td>1.4</td>\n",
       "      <td>0.929897</td>\n",
       "      <td>0.986034</td>\n",
       "      <td>0.917808</td>\n",
       "      <td>...</td>\n",
       "      <td>0.920753</td>\n",
       "      <td>0.350592</td>\n",
       "      <td>0.035591</td>\n",
       "      <td>0.03339</td>\n",
       "      <td>0.666667</td>\n",
       "      <td>0.015618</td>\n",
       "      <td>0.015497</td>\n",
       "      <td>0.949744</td>\n",
       "      <td>0.976273</td>\n",
       "      <td>0.928316</td>\n",
       "    </tr>\n",
       "    <tr>\n",
       "      <th>148</th>\n",
       "      <td>5</td>\n",
       "      <td>0</td>\n",
       "      <td>2</td>\n",
       "      <td>0.949744</td>\n",
       "      <td>0.976273</td>\n",
       "      <td>0.928316</td>\n",
       "      <td>1.6</td>\n",
       "      <td>0.929897</td>\n",
       "      <td>0.986034</td>\n",
       "      <td>0.917808</td>\n",
       "      <td>...</td>\n",
       "      <td>0.920753</td>\n",
       "      <td>0.350592</td>\n",
       "      <td>0.035591</td>\n",
       "      <td>0.03339</td>\n",
       "      <td>0.800000</td>\n",
       "      <td>0.015017</td>\n",
       "      <td>0.014961</td>\n",
       "      <td>0.949744</td>\n",
       "      <td>0.976273</td>\n",
       "      <td>0.928316</td>\n",
       "    </tr>\n",
       "    <tr>\n",
       "      <th>149</th>\n",
       "      <td>5</td>\n",
       "      <td>0</td>\n",
       "      <td>2</td>\n",
       "      <td>0.949744</td>\n",
       "      <td>0.976273</td>\n",
       "      <td>0.928316</td>\n",
       "      <td>1.8</td>\n",
       "      <td>0.929897</td>\n",
       "      <td>0.986034</td>\n",
       "      <td>0.917808</td>\n",
       "      <td>...</td>\n",
       "      <td>0.920753</td>\n",
       "      <td>0.350592</td>\n",
       "      <td>0.035591</td>\n",
       "      <td>0.03339</td>\n",
       "      <td>0.879518</td>\n",
       "      <td>0.010963</td>\n",
       "      <td>0.010946</td>\n",
       "      <td>0.949744</td>\n",
       "      <td>0.976273</td>\n",
       "      <td>0.928316</td>\n",
       "    </tr>\n",
       "  </tbody>\n",
       "</table>\n",
       "<p>3 rows × 22 columns</p>\n",
       "</div>"
      ],
      "text/plain": [
       "     num_workers  sample_num  objid    P [MV]    R [MV]    J [MV]  thresh  \\\n",
       "147            5           0      2  0.949744  0.976273  0.928316     1.4   \n",
       "148            5           0      2  0.949744  0.976273  0.928316     1.6   \n",
       "149            5           0      2  0.949744  0.976273  0.928316     1.8   \n",
       "\n",
       "       P [GT]    R [GT]    J [GT]    ...      J [isoGT]  P [GTLSA]  R [GTLSA]  \\\n",
       "147  0.929897  0.986034  0.917808    ...       0.920753   0.350592   0.035591   \n",
       "148  0.929897  0.986034  0.917808    ...       0.920753   0.350592   0.035591   \n",
       "149  0.929897  0.986034  0.917808    ...       0.920753   0.350592   0.035591   \n",
       "\n",
       "     J [GTLSA]  P [isoGTLSA]  R [isoGTLSA]  J [isoGTLSA]  P [basic]  \\\n",
       "147    0.03339      0.666667      0.015618      0.015497   0.949744   \n",
       "148    0.03339      0.800000      0.015017      0.014961   0.949744   \n",
       "149    0.03339      0.879518      0.010963      0.010946   0.949744   \n",
       "\n",
       "     R [basic]  J [basic]  \n",
       "147   0.976273   0.928316  \n",
       "148   0.976273   0.928316  \n",
       "149   0.976273   0.928316  \n",
       "\n",
       "[3 rows x 22 columns]"
      ]
     },
     "execution_count": 59,
     "metadata": {},
     "output_type": "execute_result"
    }
   ],
   "source": [
    "df.ix[bad_idx]"
   ]
  },
  {
   "cell_type": "code",
   "execution_count": 61,
   "metadata": {},
   "outputs": [
    {
     "data": {
      "text/plain": [
       "<matplotlib.colorbar.Colorbar at 0x674b910>"
      ]
     },
     "execution_count": 61,
     "metadata": {},
     "output_type": "execute_result"
    },
    {
     "data": {
      "image/png": "[encoded data removed]",
      "text/plain": [
       "<matplotlib.figure.Figure at 0x8d2f610>"
      ]
     },
     "metadata": {},
     "output_type": "display_data"
    },
    {
     "data": {
      "image/png": "[encoded data removed]",
      "text/plain": [
       "<matplotlib.figure.Figure at 0x8074c50>"
      ]
     },
     "metadata": {},
     "output_type": "display_data"
    },
    {
     "data": {
      "image/png": "[encoded data removed]",
      "text/plain": [
       "<matplotlib.figure.Figure at 0x75f7910>"
      ]
     },
     "metadata": {},
     "output_type": "display_data"
    }
   ],
   "source": [
    "objid=2\n",
    "thresh=1.4\n",
    "gt_est=pkl.load(open('pixel_em/5workers_rand0/obj{}/GTLSA_gt_est_ground_truth_mask_thresh{}.pkl'.format(objid,thresh)))\n",
    "plt.imshow(gt_est)\n",
    "plt.colorbar()\n",
    "\n",
    "img=pkl.load(open('pixel_em/5workers_rand0/obj{}/GTLSA_p_in_mask_ground_truth_thresh{}.pkl'.format(objid,thresh)))\n",
    "plt.figure()\n",
    "plt.imshow(img)\n",
    "plt.colorbar()\n",
    "\n",
    "img=pkl.load(open('pixel_em/5workers_rand0/obj{}/GTLSA_p_not_in_ground_truth_thresh{}.pkl'.format(objid,thresh)))\n",
    "plt.figure()\n",
    "plt.imshow(img)\n",
    "plt.colorbar()"
   ]
  },
  {
   "cell_type": "markdown",
   "metadata": {},
   "source": [
    "So this just looks like an inappropriate choice of threshold, I wonder what the average PRJ is like if we exclude these  and just look at threshold 0 "
   ]
  },
  {
   "cell_type": "code",
   "execution_count": 73,
   "metadata": {},
   "outputs": [
    {
     "data": {
      "text/plain": [
       "J [MV]          0.948345\n",
       "J [GT]          0.947422\n",
       "J [isoGT]       0.948741\n",
       "J [GTLSA]       0.914792\n",
       "J [isoGTLSA]    0.862681\n",
       "J [basic]       0.950013\n",
       "dtype: float64"
      ]
     },
     "execution_count": 73,
     "metadata": {},
     "output_type": "execute_result"
    }
   ],
   "source": [
    "df[df[\"thresh\"]==0].filter(regex=\"J\").mean()"
   ]
  },
  {
   "cell_type": "markdown",
   "metadata": {},
   "source": [
    "and maybe with large sample of workers "
   ]
  },
  {
   "cell_type": "code",
   "execution_count": 72,
   "metadata": {},
   "outputs": [
    {
     "data": {
      "text/plain": [
       "J [MV]          0.923062\n",
       "J [GT]          0.919350\n",
       "J [isoGT]       0.921809\n",
       "J [GTLSA]       0.871439\n",
       "J [isoGTLSA]    0.664171\n",
       "J [basic]       0.923062\n",
       "dtype: float64"
      ]
     },
     "execution_count": 72,
     "metadata": {},
     "output_type": "execute_result"
    }
   ],
   "source": [
    "df[(df[\"thresh\"]==0)&(df[\"num_workers\"]==5)].filter(regex=\"J\").mean()"
   ]
  },
  {
   "cell_type": "code",
   "execution_count": 63,
   "metadata": {},
   "outputs": [
    {
     "data": {
      "text/plain": [
       "J [MV]          0.966952\n",
       "J [GT]          0.966473\n",
       "J [isoGT]       0.965265\n",
       "J [GTLSA]       0.945564\n",
       "J [isoGTLSA]    0.962191\n",
       "J [basic]       0.968207\n",
       "dtype: float64"
      ]
     },
     "execution_count": 63,
     "metadata": {},
     "output_type": "execute_result"
    }
   ],
   "source": [
    "df[(df[\"thresh\"]==0)&(df[\"num_workers\"]==30)].filter(regex=\"J\").mean()"
   ]
  },
  {
   "cell_type": "markdown",
   "metadata": {},
   "source": [
    "the numbers are very close but its good that the iso are better than the GT and GTLSA each, and that isoGT seems to be doing the best, and that advanced model>basic > MV, but again this is only over 45 objects"
   ]
  },
  {
   "cell_type": "markdown",
   "metadata": {},
   "source": [
    "# Does advanced model do when when objects are harder ? "
   ]
  },
  {
   "cell_type": "code",
   "execution_count": 67,
   "metadata": {},
   "outputs": [],
   "source": [
    "task_ambiguity = [1,4,35,40,41,42]\n",
    "small_area = [1,15,22]\n",
    "high_numPts=[5,7,9,10,11,12,28,29,30,37]\n",
    "\n",
    "all_hard_tasks = list(set(np.concatenate((task_ambiguity,small_area,high_numPts))))\n",
    "easy_tasks = [objid  for objid in object_lst if objid not in all_hard_tasks]\n",
    "# selected_objids = [objid  for objid in easy_tasks if objid not in lossless_vtiles]"
   ]
  },
  {
   "cell_type": "code",
   "execution_count": 68,
   "metadata": {},
   "outputs": [],
   "source": [
    "easy_obj = df[df.objid.isin(easy_tasks)]"
   ]
  },
  {
   "cell_type": "code",
   "execution_count": 69,
   "metadata": {},
   "outputs": [
    {
     "data": {
      "text/plain": [
       "J [MV]          0.915712\n",
       "J [GT]          0.912322\n",
       "J [isoGT]       0.919031\n",
       "J [GTLSA]       0.832133\n",
       "J [isoGTLSA]    0.664798\n",
       "J [basic]       0.916992\n",
       "dtype: float64"
      ]
     },
     "execution_count": 69,
     "metadata": {},
     "output_type": "execute_result"
    }
   ],
   "source": [
    "easy_obj.filter(regex=\"J\").mean()"
   ]
  },
  {
   "cell_type": "code",
   "execution_count": 70,
   "metadata": {
    "collapsed": true
   },
   "outputs": [],
   "source": [
    "# hard_obj = df[df.objid.isin(all_hard_tasks)]\n",
    "all_hard_tasks = list(set(np.concatenate((small_area,high_numPts))))\n",
    "hard_obj = df[df.objid.isin(all_hard_tasks)]"
   ]
  },
  {
   "cell_type": "code",
   "execution_count": 71,
   "metadata": {},
   "outputs": [
    {
     "data": {
      "text/plain": [
       "J [MV]          0.964301\n",
       "J [GT]          0.963297\n",
       "J [isoGT]       0.962985\n",
       "J [GTLSA]       0.949607\n",
       "J [isoGTLSA]    0.962935\n",
       "J [basic]       0.966083\n",
       "dtype: float64"
      ]
     },
     "execution_count": 71,
     "metadata": {},
     "output_type": "execute_result"
    }
   ],
   "source": [
    "hard_obj.filter(regex=\"J\").mean()"
   ]
  },
  {
   "cell_type": "markdown",
   "metadata": {},
   "source": [
    "there's no clear distinction showing that advanced model performs better in hard cases"
   ]
  },
  {
   "cell_type": "markdown",
   "metadata": {},
   "source": [
    "------------------------------------------------------------------------"
   ]
  }
 ],
 "metadata": {
  "kernelspec": {
   "display_name": "Python 2",
   "language": "python",
   "name": "python2"
  },
  "language_info": {
   "codemirror_mode": {
    "name": "ipython",
    "version": 2
   },
   "file_extension": ".py",
   "mimetype": "text/x-python",
   "name": "python",
   "nbconvert_exporter": "python",
   "pygments_lexer": "ipython2",
   "version": "2.7.6"
  }
 },
 "nbformat": 4,
 "nbformat_minor": 2
}
