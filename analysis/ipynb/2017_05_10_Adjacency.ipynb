{
 "cells": [
  {
   "cell_type": "code",
   "execution_count": 2,
   "metadata": {},
   "outputs": [
    {
     "name": "stdout",
     "output_type": "stream",
     "text": [
      "Populating the interactive namespace from numpy and matplotlib\n"
     ]
    }
   ],
   "source": [
    "%pylab inline"
   ]
  },
  {
   "cell_type": "code",
   "execution_count": 3,
   "metadata": {},
   "outputs": [
    {
     "name": "stdout",
     "output_type": "stream",
     "text": [
      "/home/jlee782/crowd-seg/analysis/TileEM\n"
     ]
    }
   ],
   "source": [
    "cd ../TileEM/"
   ]
  },
  {
   "cell_type": "code",
   "execution_count": 4,
   "metadata": {
    "collapsed": true
   },
   "outputs": [],
   "source": [
    "from scipy import misc\n",
    "image = misc.imread(\"pixel_em/10workers_rand0/obj1/EM_mask_thresh0.png\")"
   ]
  },
  {
   "cell_type": "code",
   "execution_count": 7,
   "metadata": {
    "collapsed": true
   },
   "outputs": [],
   "source": [
    "import pickle as pkl"
   ]
  },
  {
   "cell_type": "code",
   "execution_count": 19,
   "metadata": {},
   "outputs": [],
   "source": [
    "mega_mask = pkl.load(open(\"pixel_em/10workers_rand0/obj10/gt_est_mask_2_thresh-10.pkl\"))"
   ]
  },
  {
   "cell_type": "code",
   "execution_count": 26,
   "metadata": {
    "collapsed": true
   },
   "outputs": [],
   "source": [
    "from shapely import geometry"
   ]
  },
  {
   "cell_type": "code",
   "execution_count": 29,
   "metadata": {
    "collapsed": true
   },
   "outputs": [],
   "source": [
    "def mask_to_tiles(mega_mask):\n",
    "    # Create masks for single valued tiles (so that they are more disconnected)\n",
    "    from matplotlib import _cntr as cntr\n",
    "    tiles = [] # list of coordinates of all the tiles extracted\n",
    "    unique_tile_values = np.unique(mega_mask)\n",
    "    # print unique_tile_values\n",
    "    for tile_value in unique_tile_values[1:]: #exclude 0\n",
    "        singly_masked_img = np.zeros_like(mega_mask)\n",
    "        for x,y in zip(*np.where(mega_mask==tile_value)):\n",
    "            singly_masked_img[x][y]=1\n",
    "        #Extract a set of contours from these masks\n",
    "        x, y = np.mgrid[:singly_masked_img.shape[0], :singly_masked_img.shape[1]]\n",
    "        c = cntr.Cntr(x, y, singly_masked_img)\n",
    "        # trace a contour at z ~= 1\n",
    "        res = c.trace(0.9)\n",
    "        #if PLOT: plot_trace_contours(singly_masked_img,res)\n",
    "        for segment in res:\n",
    "            if segment.dtype!=np.uint8 and len(segment)>2:\n",
    "                #Take the transpose of the tile graph polygon because during the tile creation process the xy was flipped\n",
    "                tile= Polygon(zip(segment[:,1],segment[:,0]))\n",
    "                # print tile.area\n",
    "                # if tile.area>=1: #FOR DEBUGGING PURPOSES\n",
    "                tiles.append(shapely.geometry.Polygon(segment))\n",
    "    return tiles"
   ]
  },
  {
   "cell_type": "code",
   "execution_count": 27,
   "metadata": {},
   "outputs": [
    {
     "data": {
      "image/svg+xml": [
       "<svg xmlns=\"http://www.w3.org/2000/svg\" xmlns:xlink=\"http://www.w3.org/1999/xlink\" width=\"136.776\" height=\"196.776\" viewBox=\"215.612 374.612 136.776 196.776\" preserveAspectRatio=\"xMinYMin meet\"><g transform=\"matrix(1,0,0,-1,0,946.0)\"><path fill-rule=\"evenodd\" fill=\"#66cc99\" stroke=\"#555555\" stroke-width=\"2.0\" opacity=\"0.6\" d=\"M 222.9,436.0 L 222.9,437.0 L 222.9,438.0 L 222.9,439.0 L 222.9,440.0 L 222.9,441.0 L 222.9,442.0 L 222.9,443.0 L 222.9,444.0 L 222.9,445.0 L 222.9,446.0 L 222.9,447.0 L 222.9,448.0 L 222.9,449.0 L 222.9,450.0 L 222.9,451.0 L 222.9,452.0 L 222.9,453.0 L 222.9,454.0 L 222.9,455.0 L 222.9,456.0 L 222.9,457.0 L 222.9,458.0 L 222.9,459.0 L 223.0,459.1 L 223.9,460.0 L 223.9,461.0 L 223.9,462.0 L 223.9,463.0 L 223.9,464.0 L 223.9,465.0 L 223.9,466.0 L 223.9,467.0 L 223.9,468.0 L 223.9,469.0 L 224.0,469.1 L 224.9,470.0 L 224.9,471.0 L 224.9,472.0 L 224.9,473.0 L 224.9,474.0 L 224.9,475.0 L 224.9,476.0 L 224.9,477.0 L 225.0,477.1 L 225.9,478.0 L 225.9,479.0 L 225.9,480.0 L 225.9,481.0 L 225.9,482.0 L 225.9,483.0 L 225.9,484.0 L 226.0,484.1 L 226.9,485.0 L 226.9,486.0 L 226.9,487.0 L 226.9,488.0 L 227.0,488.1 L 227.9,489.0 L 227.9,490.0 L 227.9,491.0 L 227.9,492.0 L 227.9,493.0 L 228.0,493.1 L 228.9,494.0 L 228.9,495.0 L 228.9,496.0 L 228.9,497.0 L 229.0,497.1 L 229.9,498.0 L 229.9,499.0 L 229.9,500.0 L 229.9,501.0 L 230.0,501.1 L 230.9,502.0 L 230.9,503.0 L 231.0,503.1 L 231.9,504.0 L 231.9,505.0 L 231.9,506.0 L 232.0,506.1 L 232.9,507.0 L 232.9,508.0 L 232.9,509.0 L 232.9,510.0 L 233.0,510.1 L 233.9,511.0 L 233.9,512.0 L 233.9,513.0 L 234.0,513.1 L 234.9,514.0 L 234.9,515.0 L 234.9,516.0 L 235.0,516.1 L 235.9,517.0 L 235.9,518.0 L 236.0,518.1 L 236.9,519.0 L 236.9,520.0 L 237.0,520.1 L 237.9,521.0 L 237.9,522.0 L 238.0,522.1 L 238.9,523.0 L 239.0,523.1 L 239.9,524.0 L 240.0,524.1 L 240.9,525.0 L 240.9,526.0 L 241.0,526.1 L 241.9,527.0 L 242.0,527.1 L 242.9,528.0 L 243.0,528.1 L 243.9,529.0 L 244.0,529.1 L 244.9,530.0 L 245.0,530.1 L 245.9,531.0 L 246.0,531.1 L 246.9,532.0 L 247.0,532.1 L 247.9,533.0 L 248.0,533.1 L 248.9,534.0 L 249.0,534.1 L 249.9,535.0 L 250.0,535.1 L 251.0,535.1 L 251.9,536.0 L 252.0,536.1 L 252.9,537.0 L 253.0,537.1 L 253.9,538.0 L 254.0,538.1 L 255.0,538.1 L 256.0,538.1 L 256.9,539.0 L 257.0,539.1 L 258.0,539.1 L 259.0,539.1 L 260.0,539.1 L 260.9,540.0 L 261.0,540.1 L 262.0,540.1 L 263.0,540.1 L 264.0,540.1 L 264.1,540.0 L 265.0,539.1 L 266.0,539.1 L 267.0,539.1 L 268.0,539.1 L 268.1,539.0 L 269.0,538.1 L 270.0,538.1 L 271.0,538.1 L 272.0,538.1 L 273.0,538.1 L 274.0,538.1 L 275.0,538.1 L 275.1,538.0 L 276.0,537.1 L 277.0,537.1 L 278.0,537.1 L 279.0,537.1 L 280.0,537.1 L 280.9,538.0 L 281.0,538.1 L 281.9,539.0 L 281.9,540.0 L 281.9,541.0 L 282.0,541.1 L 282.9,542.0 L 282.9,543.0 L 282.9,544.0 L 283.0,544.1 L 283.9,545.0 L 283.9,546.0 L 283.9,547.0 L 284.0,547.1 L 284.9,548.0 L 284.9,549.0 L 284.9,550.0 L 285.0,550.1 L 285.9,551.0 L 285.9,552.0 L 286.0,552.1 L 286.9,553.0 L 286.9,554.0 L 286.9,555.0 L 286.9,556.0 L 287.0,556.1 L 288.0,556.1 L 288.9,557.0 L 288.9,558.0 L 289.0,558.1 L 290.0,558.1 L 290.9,559.0 L 291.0,559.1 L 291.9,560.0 L 292.0,560.1 L 293.0,560.1 L 293.9,561.0 L 294.0,561.1 L 294.9,562.0 L 295.0,562.1 L 295.9,563.0 L 296.0,563.1 L 296.9,564.0 L 297.0,564.1 L 298.0,564.1 L 299.0,564.1 L 300.0,564.1 L 301.0,564.1 L 302.0,564.1 L 303.0,564.1 L 304.0,564.1 L 305.0,564.1 L 306.0,564.1 L 307.0,564.1 L 308.0,564.1 L 309.0,564.1 L 310.0,564.1 L 311.0,564.1 L 312.0,564.1 L 312.1,564.0 L 313.0,563.1 L 314.0,563.1 L 314.1,563.0 L 315.0,562.1 L 316.0,562.1 L 316.1,562.0 L 317.0,561.1 L 317.1,561.0 L 318.0,560.1 L 318.1,560.0 L 319.0,559.1 L 319.1,559.0 L 320.0,558.1 L 321.0,558.1 L 321.1,558.0 L 322.0,557.1 L 322.1,557.0 L 322.1,556.0 L 323.0,555.1 L 323.1,555.0 L 324.0,554.1 L 324.1,554.0 L 325.0,553.1 L 325.1,553.0 L 325.1,552.0 L 326.0,551.1 L 326.1,551.0 L 327.0,550.1 L 327.1,550.0 L 327.1,549.0 L 328.0,548.1 L 328.1,548.0 L 328.1,547.0 L 329.0,546.1 L 329.1,546.0 L 329.1,545.0 L 330.0,544.1 L 330.1,544.0 L 330.1,543.0 L 331.0,542.1 L 331.1,542.0 L 331.1,541.0 L 331.1,540.0 L 332.0,539.1 L 332.1,539.0 L 332.1,538.0 L 333.0,537.1 L 333.1,537.0 L 333.1,536.0 L 334.0,535.1 L 334.1,535.0 L 334.1,534.0 L 334.1,533.0 L 334.1,532.0 L 334.1,531.0 L 335.0,530.1 L 335.1,530.0 L 335.1,529.0 L 335.1,528.0 L 335.1,527.0 L 336.0,526.1 L 336.1,526.0 L 336.1,525.0 L 336.1,524.0 L 336.1,523.0 L 336.1,522.0 L 336.1,521.0 L 336.1,520.0 L 336.1,519.0 L 337.0,518.1 L 337.1,518.0 L 337.1,517.0 L 337.1,516.0 L 337.1,515.0 L 337.1,514.0 L 337.1,513.0 L 337.1,512.0 L 337.1,511.0 L 337.1,510.0 L 337.1,509.0 L 337.1,508.0 L 337.1,507.0 L 337.1,506.0 L 337.1,505.0 L 337.1,504.0 L 337.1,503.0 L 337.1,502.0 L 337.1,501.0 L 337.1,500.0 L 337.1,499.0 L 337.1,498.0 L 337.1,497.0 L 337.1,496.0 L 337.1,495.0 L 337.1,494.0 L 337.1,493.0 L 337.1,492.0 L 337.1,491.0 L 338.0,490.1 L 338.1,490.0 L 338.1,489.0 L 338.1,488.0 L 338.1,487.0 L 339.0,486.1 L 339.1,486.0 L 339.1,485.0 L 340.0,484.1 L 340.1,484.0 L 340.1,483.0 L 341.0,482.1 L 341.1,482.0 L 341.1,481.0 L 341.1,480.0 L 342.0,479.1 L 342.1,479.0 L 342.1,478.0 L 342.1,477.0 L 342.1,476.0 L 342.1,475.0 L 343.0,474.1 L 343.1,474.0 L 343.1,473.0 L 343.1,472.0 L 343.1,471.0 L 343.1,470.0 L 343.1,469.0 L 343.1,468.0 L 344.0,467.1 L 344.1,467.0 L 344.1,466.0 L 344.1,465.0 L 344.1,464.0 L 344.1,463.0 L 344.1,462.0 L 344.1,461.0 L 344.1,460.0 L 344.1,459.0 L 345.0,458.1 L 345.1,458.0 L 345.1,457.0 L 345.1,456.0 L 345.0,455.9 L 344.1,455.0 L 344.1,454.0 L 344.1,453.0 L 344.1,452.0 L 344.1,451.0 L 344.0,450.9 L 343.1,450.0 L 343.1,449.0 L 343.1,448.0 L 343.1,447.0 L 343.1,446.0 L 343.0,445.9 L 342.1,445.0 L 342.1,444.0 L 342.1,443.0 L 342.1,442.0 L 342.0,441.9 L 341.1,441.0 L 341.1,440.0 L 341.1,439.0 L 341.1,438.0 L 341.1,437.0 L 341.0,436.9 L 340.1,436.0 L 340.1,435.0 L 340.1,434.0 L 340.1,433.0 L 340.1,432.0 L 340.0,431.9 L 339.1,431.0 L 339.0,430.9 L 338.1,430.0 L 338.1,429.0 L 338.0,428.9 L 337.1,428.0 L 337.1,427.0 L 337.0,426.9 L 336.1,426.0 L 336.0,425.9 L 335.1,425.0 L 335.1,424.0 L 335.0,423.9 L 334.1,423.0 L 334.0,422.9 L 333.1,422.0 L 333.1,421.0 L 333.0,420.9 L 332.1,420.0 L 332.1,419.0 L 332.0,418.9 L 331.1,418.0 L 331.0,417.9 L 330.1,417.0 L 330.0,416.9 L 329.1,416.0 L 329.0,415.9 L 328.1,415.0 L 328.0,414.9 L 327.1,414.0 L 327.0,413.9 L 326.1,413.0 L 326.0,412.9 L 325.1,412.0 L 325.0,411.9 L 324.1,411.0 L 324.0,410.9 L 323.1,410.0 L 323.0,409.9 L 322.0,409.9 L 321.1,409.0 L 321.0,408.9 L 320.1,408.0 L 320.0,407.9 L 319.1,407.0 L 319.0,406.9 L 318.1,406.0 L 318.0,405.9 L 317.1,405.0 L 317.0,404.9 L 316.1,404.0 L 316.0,403.9 L 315.1,403.0 L 315.0,402.9 L 314.1,402.0 L 314.0,401.9 L 313.0,401.9 L 312.1,401.0 L 312.0,400.9 L 311.1,400.0 L 311.0,399.9 L 310.1,399.0 L 310.0,398.9 L 309.1,398.0 L 309.0,397.9 L 308.0,397.9 L 307.1,397.0 L 307.0,396.9 L 306.1,396.0 L 306.0,395.9 L 305.1,395.0 L 305.0,394.9 L 304.0,394.9 L 303.1,394.0 L 303.0,393.9 L 302.0,393.9 L 301.0,393.9 L 300.1,393.0 L 300.0,392.9 L 299.1,392.0 L 299.0,391.9 L 298.0,391.9 L 297.1,391.0 L 297.0,390.9 L 296.0,390.9 L 295.1,390.0 L 295.0,389.9 L 294.0,389.9 L 293.0,389.9 L 292.1,389.0 L 292.0,388.9 L 291.0,388.9 L 290.0,388.9 L 289.1,388.0 L 289.0,387.9 L 288.0,387.9 L 287.0,387.9 L 286.0,387.9 L 285.1,387.0 L 285.0,386.9 L 284.0,386.9 L 283.0,386.9 L 282.0,386.9 L 281.1,386.0 L 281.0,385.9 L 280.0,385.9 L 279.0,385.9 L 278.1,385.0 L 278.0,384.9 L 277.0,384.9 L 276.0,384.9 L 275.0,384.9 L 274.0,384.9 L 273.1,384.0 L 273.0,383.9 L 272.0,383.9 L 271.0,383.9 L 270.0,383.9 L 269.0,383.9 L 268.0,383.9 L 267.0,383.9 L 266.0,383.9 L 265.1,383.0 L 265.0,382.9 L 264.0,382.9 L 263.0,382.9 L 262.0,382.9 L 261.0,382.9 L 260.0,382.9 L 259.0,382.9 L 258.0,382.9 L 257.0,382.9 L 256.0,382.9 L 255.0,382.9 L 254.0,382.9 L 253.0,382.9 L 252.0,382.9 L 251.0,382.9 L 250.0,382.9 L 249.1,382.0 L 249.0,381.9 L 248.0,381.9 L 247.0,381.9 L 246.9,382.0 L 246.0,382.9 L 245.9,383.0 L 245.0,383.9 L 244.0,383.9 L 243.9,384.0 L 243.0,384.9 L 242.9,385.0 L 242.0,385.9 L 241.9,386.0 L 241.0,386.9 L 240.9,387.0 L 240.0,387.9 L 239.0,387.9 L 238.9,388.0 L 238.0,388.9 L 237.9,389.0 L 237.0,389.9 L 236.9,390.0 L 236.0,390.9 L 235.9,391.0 L 235.0,391.9 L 234.9,392.0 L 234.9,393.0 L 234.0,393.9 L 233.9,394.0 L 233.9,395.0 L 233.0,395.9 L 232.9,396.0 L 232.0,396.9 L 231.9,397.0 L 231.0,397.9 L 230.9,398.0 L 230.0,398.9 L 229.9,399.0 L 229.9,400.0 L 229.9,401.0 L 229.9,402.0 L 229.0,402.9 L 228.9,403.0 L 228.9,404.0 L 228.9,405.0 L 228.9,406.0 L 228.9,407.0 L 228.9,408.0 L 228.0,408.9 L 227.9,409.0 L 227.9,410.0 L 227.9,411.0 L 227.9,412.0 L 227.9,413.0 L 227.0,413.9 L 226.9,414.0 L 226.9,415.0 L 226.9,416.0 L 226.9,417.0 L 226.9,418.0 L 226.0,418.9 L 225.9,419.0 L 225.9,420.0 L 225.9,421.0 L 225.9,422.0 L 225.0,422.9 L 224.9,423.0 L 224.9,424.0 L 224.9,425.0 L 224.9,426.0 L 224.9,427.0 L 224.9,428.0 L 224.9,429.0 L 224.0,429.9 L 223.9,430.0 L 223.9,431.0 L 223.9,432.0 L 223.9,433.0 L 223.9,434.0 L 223.9,435.0 L 223.0,435.9 L 222.9,436.0 z\" /></g></svg>"
      ],
      "text/plain": [
       "<shapely.geometry.polygon.Polygon at 0x8ca1210>"
      ]
     },
     "execution_count": 27,
     "metadata": {},
     "output_type": "execute_result"
    }
   ],
   "source": [
    "shapely.geometry.Polygon(tiles[0])"
   ]
  },
  {
   "cell_type": "code",
   "execution_count": 15,
   "metadata": {},
   "outputs": [
    {
     "data": {
      "text/plain": [
       "<matplotlib.colorbar.Colorbar at 0x642c450>"
      ]
     },
     "execution_count": 15,
     "metadata": {},
     "output_type": "execute_result"
    },
    {
     "data": {
      "image/png": "[encoded data removed]",
      "text/plain": [
       "<matplotlib.figure.Figure at 0x62edbd0>"
      ]
     },
     "metadata": {},
     "output_type": "display_data"
    }
   ],
   "source": [
    "plt.imshow(img)\n",
    "plt.colorbar()"
   ]
  },
  {
   "cell_type": "code",
   "execution_count": 31,
   "metadata": {},
   "outputs": [],
   "source": [
    "tiles = mask_to_tiles(mega_mask)"
   ]
  },
  {
   "cell_type": "code",
   "execution_count": 33,
   "metadata": {
    "collapsed": true
   },
   "outputs": [],
   "source": [
    "import glob"
   ]
  },
  {
   "cell_type": "code",
   "execution_count": 37,
   "metadata": {
    "collapsed": true
   },
   "outputs": [],
   "source": [
    "from tqdm import tqdm"
   ]
  },
  {
   "cell_type": "code",
   "execution_count": 42,
   "metadata": {
    "scrolled": true
   },
   "outputs": [
    {
     "name": "stderr",
     "output_type": "stream",
     "text": [
      "  0%|          | 8/10199 [00:00<11:43, 14.48it/s]"
     ]
    },
    {
     "name": "stdout",
     "output_type": "stream",
     "text": [
      "2\n",
      "pixel_em/5workers_rand0/obj1/gt_est_mask_4_thresh4.pkl\n",
      "5\n",
      "pixel_em/5workers_rand0/obj1/gt_est_mask_4_thresh10.pkl\n"
     ]
    },
    {
     "name": "stderr",
     "output_type": "stream",
     "text": [
      "  0%|          | 22/10199 [00:01<10:56, 15.50it/s]"
     ]
    },
    {
     "name": "stdout",
     "output_type": "stream",
     "text": [
      "2\n",
      "pixel_em/5workers_rand0/obj13/gt_est_mask_4_thresh10.pkl\n",
      "2\n",
      "pixel_em/5workers_rand0/obj14/gt_est_mask_4_thresh2.pkl\n"
     ]
    },
    {
     "name": "stderr",
     "output_type": "stream",
     "text": [
      "  0%|          | 26/10199 [00:01<11:03, 15.33it/s]"
     ]
    },
    {
     "name": "stdout",
     "output_type": "stream",
     "text": [
      "2\n",
      "pixel_em/5workers_rand0/obj14/gt_est_mask_4_thresh-2.pkl\n",
      "2\n",
      "pixel_em/5workers_rand0/obj14/gt_est_mask_4_thresh0.pkl\n"
     ]
    },
    {
     "name": "stderr",
     "output_type": "stream",
     "text": [
      "  0%|          | 50/10199 [00:03<10:44, 15.75it/s]"
     ]
    },
    {
     "name": "stdout",
     "output_type": "stream",
     "text": [
      "0\n",
      "pixel_em/5workers_rand0/obj8/gt_est_mask_4_thresh10.pkl\n",
      "0\n",
      "pixel_em/5workers_rand0/obj8/gt_est_mask_4_thresh-10.pkl\n"
     ]
    },
    {
     "name": "stderr",
     "output_type": "stream",
     "text": [
      "  1%|          | 94/10199 [00:06<11:02, 15.26it/s]"
     ]
    },
    {
     "name": "stdout",
     "output_type": "stream",
     "text": [
      "2\n",
      "pixel_em/5workers_rand0/obj12/gt_est_mask_4_thresh2.pkl\n",
      "2\n",
      "pixel_em/5workers_rand0/obj12/gt_est_mask_4_thresh-2.pkl\n"
     ]
    },
    {
     "name": "stderr",
     "output_type": "stream",
     "text": [
      "\r",
      "  1%|          | 96/10199 [00:06<11:07, 15.14it/s]"
     ]
    },
    {
     "name": "stdout",
     "output_type": "stream",
     "text": [
      "2\n",
      "pixel_em/5workers_rand0/obj12/gt_est_mask_4_thresh0.pkl\n"
     ]
    },
    {
     "name": "stderr",
     "output_type": "stream",
     "text": [
      "  1%|          | 112/10199 [00:07<11:49, 14.22it/s]"
     ]
    },
    {
     "name": "stdout",
     "output_type": "stream",
     "text": [
      "2\n",
      "pixel_em/5workers_rand0/obj16/gt_est_mask_4_thresh10.pkl\n"
     ]
    },
    {
     "name": "stderr",
     "output_type": "stream",
     "text": [
      "  1%|▏         | 141/10199 [00:09<11:49, 14.17it/s]"
     ]
    },
    {
     "name": "stdout",
     "output_type": "stream",
     "text": [
      "0\n",
      "pixel_em/5workers_rand0/obj20/gt_est_mask_4_thresh10.pkl\n",
      "0\n",
      "pixel_em/5workers_rand0/obj20/gt_est_mask_4_thresh-10.pkl\n"
     ]
    },
    {
     "name": "stderr",
     "output_type": "stream",
     "text": [
      "  2%|▏         | 171/10199 [00:13<13:25, 12.45it/s]"
     ]
    },
    {
     "name": "stdout",
     "output_type": "stream",
     "text": [
      "2\n",
      "pixel_em/5workers_rand0/obj25/gt_est_mask_4_thresh-4.pkl\n",
      "2\n",
      "pixel_em/5workers_rand0/obj25/gt_est_mask_4_thresh-2.pkl\n"
     ]
    },
    {
     "name": "stderr",
     "output_type": "stream",
     "text": [
      "\r",
      "  2%|▏         | 174/10199 [00:14<13:34, 12.30it/s]"
     ]
    },
    {
     "name": "stdout",
     "output_type": "stream",
     "text": [
      "2\n",
      "pixel_em/5workers_rand0/obj25/gt_est_mask_4_thresh4.pkl\n",
      "0\n",
      "pixel_em/5workers_rand0/obj25/gt_est_mask_4_thresh10.pkl\n",
      "0\n",
      "pixel_em/5workers_rand0/obj25/gt_est_mask_4_thresh-10.pkl\n"
     ]
    },
    {
     "name": "stderr",
     "output_type": "stream",
     "text": [
      "  2%|▏         | 192/10199 [00:18<16:02, 10.39it/s]"
     ]
    },
    {
     "name": "stdout",
     "output_type": "stream",
     "text": [
      "3\n",
      "pixel_em/5workers_rand0/obj28/gt_est_mask_4_thresh-4.pkl\n",
      "2\n",
      "pixel_em/5workers_rand0/obj28/gt_est_mask_4_thresh-2.pkl\n"
     ]
    },
    {
     "name": "stderr",
     "output_type": "stream",
     "text": [
      "\r",
      "  2%|▏         | 195/10199 [00:18<16:02, 10.39it/s]"
     ]
    },
    {
     "name": "stdout",
     "output_type": "stream",
     "text": [
      "2\n",
      "pixel_em/5workers_rand0/obj28/gt_est_mask_4_thresh4.pkl\n"
     ]
    },
    {
     "name": "stderr",
     "output_type": "stream",
     "text": [
      "\r",
      "  2%|▏         | 198/10199 [00:19<16:04, 10.37it/s]"
     ]
    },
    {
     "name": "stdout",
     "output_type": "stream",
     "text": [
      "2\n",
      "pixel_em/5workers_rand0/obj28/gt_est_mask_4_thresh-10.pkl\n",
      "3\n",
      "pixel_em/5workers_rand0/obj29/gt_est_mask_4_thresh2.pkl\n",
      "2\n",
      "pixel_em/5workers_rand0/obj29/gt_est_mask_4_thresh-4.pkl\n"
     ]
    },
    {
     "name": "stderr",
     "output_type": "stream",
     "text": [
      "\r",
      "  2%|▏         | 201/10199 [00:19<16:05, 10.35it/s]"
     ]
    },
    {
     "name": "stdout",
     "output_type": "stream",
     "text": [
      "2\n",
      "pixel_em/5workers_rand0/obj29/gt_est_mask_4_thresh-2.pkl\n",
      "3\n",
      "pixel_em/5workers_rand0/obj29/gt_est_mask_4_thresh0.pkl\n",
      "2\n",
      "pixel_em/5workers_rand0/obj29/gt_est_mask_4_thresh4.pkl\n",
      "0\n",
      "pixel_em/5workers_rand0/obj29/gt_est_mask_4_thresh10.pkl\n",
      "0\n",
      "pixel_em/5workers_rand0/obj29/gt_est_mask_4_thresh-10.pkl\n"
     ]
    },
    {
     "name": "stderr",
     "output_type": "stream",
     "text": [
      "\r",
      "  2%|▏         | 204/10199 [00:19<16:05, 10.36it/s]"
     ]
    },
    {
     "name": "stdout",
     "output_type": "stream",
     "text": [
      "2\n",
      "pixel_em/5workers_rand0/obj30/gt_est_mask_4_thresh2.pkl\n"
     ]
    },
    {
     "name": "stderr",
     "output_type": "stream",
     "text": [
      "\r",
      "  2%|▏         | 207/10199 [00:19<16:04, 10.36it/s]"
     ]
    },
    {
     "name": "stdout",
     "output_type": "stream",
     "text": [
      "2\n",
      "pixel_em/5workers_rand0/obj30/gt_est_mask_4_thresh0.pkl\n",
      "2\n",
      "pixel_em/5workers_rand0/obj30/gt_est_mask_4_thresh4.pkl\n"
     ]
    },
    {
     "name": "stderr",
     "output_type": "stream",
     "text": [
      "\r",
      "  2%|▏         | 210/10199 [00:20<16:18, 10.21it/s]"
     ]
    },
    {
     "name": "stdout",
     "output_type": "stream",
     "text": [
      "2\n",
      "pixel_em/5workers_rand0/obj30/gt_est_mask_4_thresh-10.pkl\n"
     ]
    },
    {
     "name": "stderr",
     "output_type": "stream",
     "text": [
      "  2%|▏         | 234/10199 [00:23<16:28, 10.08it/s]"
     ]
    },
    {
     "name": "stdout",
     "output_type": "stream",
     "text": [
      "2\n",
      "pixel_em/5workers_rand0/obj34/gt_est_mask_4_thresh-4.pkl\n",
      "2\n",
      "pixel_em/5workers_rand0/obj34/gt_est_mask_4_thresh-2.pkl\n"
     ]
    },
    {
     "name": "stderr",
     "output_type": "stream",
     "text": [
      "  2%|▏         | 246/10199 [00:24<16:45,  9.90it/s]"
     ]
    },
    {
     "name": "stdout",
     "output_type": "stream",
     "text": [
      "0\n",
      "pixel_em/5workers_rand0/obj35/gt_est_mask_4_thresh10.pkl\n",
      "0\n",
      "pixel_em/5workers_rand0/obj35/gt_est_mask_4_thresh-10.pkl\n"
     ]
    },
    {
     "name": "stderr",
     "output_type": "stream",
     "text": [
      "  3%|▎         | 264/10199 [00:26<16:40,  9.93it/s]"
     ]
    },
    {
     "name": "stdout",
     "output_type": "stream",
     "text": [
      "2\n",
      "pixel_em/5workers_rand0/obj38/gt_est_mask_4_thresh4.pkl\n"
     ]
    },
    {
     "name": "stderr",
     "output_type": "stream",
     "text": [
      "  4%|▍         | 387/10199 [00:36<15:19, 10.67it/s]"
     ]
    },
    {
     "name": "stdout",
     "output_type": "stream",
     "text": [
      "0\n",
      "pixel_em/5workers_rand8/obj8/gt_est_mask_4_thresh-10.pkl\n",
      "0\n",
      "pixel_em/5workers_rand8/obj8/gt_est_mask_4_thresh10.pkl\n"
     ]
    },
    {
     "name": "stderr",
     "output_type": "stream",
     "text": [
      "  4%|▍         | 441/10199 [00:40<14:46, 11.01it/s]"
     ]
    },
    {
     "name": "stdout",
     "output_type": "stream",
     "text": [
      "2\n",
      "pixel_em/5workers_rand8/obj16/gt_est_mask_4_thresh10.pkl\n"
     ]
    },
    {
     "name": "stderr",
     "output_type": "stream",
     "text": [
      "  4%|▍         | 456/10199 [00:41<14:45, 11.00it/s]"
     ]
    },
    {
     "name": "stdout",
     "output_type": "stream",
     "text": [
      "0\n",
      "pixel_em/5workers_rand8/obj18/gt_est_mask_4_thresh-10.pkl\n",
      "0\n",
      "pixel_em/5workers_rand8/obj18/gt_est_mask_4_thresh10.pkl\n"
     ]
    },
    {
     "name": "stderr",
     "output_type": "stream",
     "text": [
      "  5%|▍         | 471/10199 [00:42<14:37, 11.09it/s]"
     ]
    },
    {
     "name": "stdout",
     "output_type": "stream",
     "text": [
      "0\n",
      "pixel_em/5workers_rand8/obj20/gt_est_mask_4_thresh-10.pkl\n",
      "0\n",
      "pixel_em/5workers_rand8/obj20/gt_est_mask_4_thresh10.pkl\n"
     ]
    },
    {
     "name": "stderr",
     "output_type": "stream",
     "text": [
      "  5%|▍         | 504/10199 [00:46<14:58, 10.79it/s]"
     ]
    },
    {
     "name": "stdout",
     "output_type": "stream",
     "text": [
      "0\n",
      "pixel_em/5workers_rand8/obj25/gt_est_mask_4_thresh-10.pkl\n",
      "0\n",
      "pixel_em/5workers_rand8/obj25/gt_est_mask_4_thresh10.pkl\n"
     ]
    },
    {
     "name": "stderr",
     "output_type": "stream",
     "text": [
      "  5%|▌         | 522/10199 [00:49<15:08, 10.65it/s]"
     ]
    },
    {
     "name": "stdout",
     "output_type": "stream",
     "text": [
      "2\n",
      "pixel_em/5workers_rand8/obj28/gt_est_mask_4_thresh-2.pkl\n",
      "2\n",
      "pixel_em/5workers_rand8/obj28/gt_est_mask_4_thresh0.pkl\n"
     ]
    },
    {
     "name": "stderr",
     "output_type": "stream",
     "text": [
      "\r",
      "  5%|▌         | 525/10199 [00:49<15:08, 10.65it/s]"
     ]
    },
    {
     "name": "stdout",
     "output_type": "stream",
     "text": [
      "2\n",
      "pixel_em/5workers_rand8/obj29/gt_est_mask_4_thresh2.pkl\n"
     ]
    },
    {
     "name": "stderr",
     "output_type": "stream",
     "text": [
      "  5%|▌         | 531/10199 [00:49<15:10, 10.62it/s]"
     ]
    },
    {
     "name": "stdout",
     "output_type": "stream",
     "text": [
      "3\n",
      "pixel_em/5workers_rand8/obj29/gt_est_mask_4_thresh-10.pkl\n",
      "0\n",
      "pixel_em/5workers_rand8/obj29/gt_est_mask_4_thresh10.pkl\n"
     ]
    },
    {
     "name": "stderr",
     "output_type": "stream",
     "text": [
      "\r",
      "  5%|▌         | 534/10199 [00:50<15:11, 10.61it/s]"
     ]
    },
    {
     "name": "stdout",
     "output_type": "stream",
     "text": [
      "2\n",
      "pixel_em/5workers_rand8/obj30/gt_est_mask_4_thresh2.pkl\n"
     ]
    },
    {
     "name": "stderr",
     "output_type": "stream",
     "text": [
      "\r",
      "  5%|▌         | 537/10199 [00:50<15:12, 10.59it/s]"
     ]
    },
    {
     "name": "stdout",
     "output_type": "stream",
     "text": [
      "2\n",
      "pixel_em/5workers_rand8/obj30/gt_est_mask_4_thresh0.pkl\n"
     ]
    },
    {
     "name": "stderr",
     "output_type": "stream",
     "text": [
      "\r",
      "  5%|▌         | 540/10199 [00:51<15:12, 10.58it/s]"
     ]
    },
    {
     "name": "stdout",
     "output_type": "stream",
     "text": [
      "2\n",
      "pixel_em/5workers_rand8/obj30/gt_est_mask_4_thresh10.pkl\n"
     ]
    },
    {
     "name": "stderr",
     "output_type": "stream",
     "text": [
      "  6%|▌         | 561/10199 [00:53<15:17, 10.51it/s]"
     ]
    },
    {
     "name": "stdout",
     "output_type": "stream",
     "text": [
      "2\n",
      "pixel_em/5workers_rand8/obj34/gt_est_mask_4_thresh2.pkl\n"
     ]
    },
    {
     "name": "stderr",
     "output_type": "stream",
     "text": [
      "  6%|▌         | 567/10199 [00:54<15:18, 10.49it/s]"
     ]
    },
    {
     "name": "stdout",
     "output_type": "stream",
     "text": [
      "2\n",
      "pixel_em/5workers_rand8/obj34/gt_est_mask_4_thresh4.pkl\n",
      "0\n",
      "pixel_em/5workers_rand8/obj34/gt_est_mask_4_thresh-10.pkl\n",
      "0\n",
      "pixel_em/5workers_rand8/obj34/gt_est_mask_4_thresh10.pkl\n"
     ]
    },
    {
     "name": "stderr",
     "output_type": "stream",
     "text": [
      "\r",
      "  6%|▌         | 570/10199 [00:54<15:20, 10.46it/s]"
     ]
    },
    {
     "name": "stdout",
     "output_type": "stream",
     "text": [
      "4\n",
      "pixel_em/5workers_rand8/obj35/gt_est_mask_4_thresh-2.pkl\n"
     ]
    },
    {
     "name": "stderr",
     "output_type": "stream",
     "text": [
      "\r",
      "  6%|▌         | 573/10199 [00:54<15:22, 10.44it/s]"
     ]
    },
    {
     "name": "stdout",
     "output_type": "stream",
     "text": [
      "0\n",
      "pixel_em/5workers_rand8/obj35/gt_est_mask_4_thresh-10.pkl\n",
      "0\n",
      "pixel_em/5workers_rand8/obj35/gt_est_mask_4_thresh10.pkl\n"
     ]
    },
    {
     "name": "stderr",
     "output_type": "stream",
     "text": [
      "\r",
      "  6%|▌         | 576/10199 [00:55<15:22, 10.43it/s]"
     ]
    },
    {
     "name": "stdout",
     "output_type": "stream",
     "text": [
      "2\n",
      "pixel_em/5workers_rand8/obj36/gt_est_mask_4_thresh-4.pkl\n"
     ]
    },
    {
     "name": "stderr",
     "output_type": "stream",
     "text": [
      "  6%|▌         | 603/10199 [00:58<15:24, 10.37it/s]"
     ]
    },
    {
     "name": "stdout",
     "output_type": "stream",
     "text": [
      "2\n",
      "pixel_em/5workers_rand8/obj39/gt_est_mask_4_thresh-10.pkl\n"
     ]
    },
    {
     "name": "stderr",
     "output_type": "stream",
     "text": [
      "  6%|▌         | 630/10199 [01:00<15:19, 10.40it/s]"
     ]
    },
    {
     "name": "stdout",
     "output_type": "stream",
     "text": [
      "2\n",
      "pixel_em/5workers_rand8/obj43/gt_est_mask_4_thresh10.pkl\n"
     ]
    },
    {
     "name": "stderr",
     "output_type": "stream",
     "text": [
      "  7%|▋         | 666/10199 [01:03<15:15, 10.41it/s]"
     ]
    },
    {
     "name": "stdout",
     "output_type": "stream",
     "text": [
      "2\n",
      "pixel_em/5workers_rand9/obj1/gt_est_mask_4_thresh10.pkl\n"
     ]
    },
    {
     "name": "stderr",
     "output_type": "stream",
     "text": [
      "  7%|▋         | 687/10199 [01:05<15:11, 10.44it/s]"
     ]
    },
    {
     "name": "stdout",
     "output_type": "stream",
     "text": [
      "2\n",
      "pixel_em/5workers_rand9/obj4/gt_est_mask_4_thresh10.pkl\n"
     ]
    },
    {
     "name": "stderr",
     "output_type": "stream",
     "text": [
      "  7%|▋         | 714/10199 [01:08<15:07, 10.45it/s]"
     ]
    },
    {
     "name": "stdout",
     "output_type": "stream",
     "text": [
      "0\n",
      "pixel_em/5workers_rand9/obj8/gt_est_mask_4_thresh-10.pkl\n",
      "0\n",
      "pixel_em/5workers_rand9/obj8/gt_est_mask_4_thresh10.pkl\n"
     ]
    },
    {
     "name": "stderr",
     "output_type": "stream",
     "text": [
      "  7%|▋         | 735/10199 [01:10<15:06, 10.44it/s]"
     ]
    },
    {
     "name": "stdout",
     "output_type": "stream",
     "text": [
      "2\n",
      "pixel_em/5workers_rand9/obj11/gt_est_mask_4_thresh-10.pkl\n"
     ]
    },
    {
     "name": "stderr",
     "output_type": "stream",
     "text": [
      "  7%|▋         | 750/10199 [01:12<15:07, 10.42it/s]"
     ]
    },
    {
     "name": "stdout",
     "output_type": "stream",
     "text": [
      "2\n",
      "pixel_em/5workers_rand9/obj14/gt_est_mask_4_thresh2.pkl\n",
      "2\n",
      "pixel_em/5workers_rand9/obj14/gt_est_mask_4_thresh-2.pkl\n"
     ]
    },
    {
     "name": "stderr",
     "output_type": "stream",
     "text": [
      "\r",
      "  7%|▋         | 753/10199 [01:12<15:06, 10.41it/s]"
     ]
    },
    {
     "name": "stdout",
     "output_type": "stream",
     "text": [
      "2\n",
      "pixel_em/5workers_rand9/obj14/gt_est_mask_4_thresh0.pkl\n"
     ]
    },
    {
     "name": "stderr",
     "output_type": "stream",
     "text": [
      "  8%|▊         | 783/10199 [01:14<15:01, 10.45it/s]"
     ]
    },
    {
     "name": "stdout",
     "output_type": "stream",
     "text": [
      "0\n",
      "pixel_em/5workers_rand9/obj18/gt_est_mask_4_thresh-10.pkl\n",
      "0\n",
      "pixel_em/5workers_rand9/obj18/gt_est_mask_4_thresh10.pkl\n"
     ]
    },
    {
     "name": "stderr",
     "output_type": "stream",
     "text": [
      "  8%|▊         | 834/10199 [01:21<15:15, 10.23it/s]"
     ]
    },
    {
     "name": "stdout",
     "output_type": "stream",
     "text": [
      "2\n",
      "pixel_em/5workers_rand9/obj26/gt_est_mask_4_thresh-4.pkl\n"
     ]
    },
    {
     "name": "stderr",
     "output_type": "stream",
     "text": [
      "  8%|▊         | 852/10199 [01:24<15:26, 10.09it/s]"
     ]
    },
    {
     "name": "stdout",
     "output_type": "stream",
     "text": [
      "3\n",
      "pixel_em/5workers_rand9/obj28/gt_est_mask_4_thresh4.pkl\n"
     ]
    },
    {
     "name": "stderr",
     "output_type": "stream",
     "text": [
      "\r",
      "  8%|▊         | 855/10199 [01:24<15:27, 10.07it/s]"
     ]
    },
    {
     "name": "stdout",
     "output_type": "stream",
     "text": [
      "3\n",
      "pixel_em/5workers_rand9/obj28/gt_est_mask_4_thresh10.pkl\n",
      "6\n",
      "pixel_em/5workers_rand9/obj29/gt_est_mask_4_thresh2.pkl\n"
     ]
    },
    {
     "name": "stderr",
     "output_type": "stream",
     "text": [
      "\r",
      "  8%|▊         | 858/10199 [01:25<15:27, 10.07it/s]"
     ]
    },
    {
     "name": "stdout",
     "output_type": "stream",
     "text": [
      "2\n",
      "pixel_em/5workers_rand9/obj29/gt_est_mask_4_thresh-4.pkl\n",
      "2\n",
      "pixel_em/5workers_rand9/obj29/gt_est_mask_4_thresh-2.pkl\n",
      "6\n",
      "pixel_em/5workers_rand9/obj29/gt_est_mask_4_thresh0.pkl\n"
     ]
    },
    {
     "name": "stderr",
     "output_type": "stream",
     "text": [
      "\r",
      "  8%|▊         | 861/10199 [01:25<15:26, 10.08it/s]"
     ]
    },
    {
     "name": "stdout",
     "output_type": "stream",
     "text": [
      "7\n",
      "pixel_em/5workers_rand9/obj29/gt_est_mask_4_thresh4.pkl\n",
      "3\n",
      "pixel_em/5workers_rand9/obj29/gt_est_mask_4_thresh-10.pkl\n",
      "0\n",
      "pixel_em/5workers_rand9/obj29/gt_est_mask_4_thresh10.pkl\n"
     ]
    },
    {
     "name": "stderr",
     "output_type": "stream",
     "text": [
      "  9%|▊         | 867/10199 [01:25<15:24, 10.09it/s]"
     ]
    },
    {
     "name": "stdout",
     "output_type": "stream",
     "text": [
      "3\n",
      "pixel_em/5workers_rand9/obj30/gt_est_mask_4_thresh4.pkl\n",
      "4\n",
      "pixel_em/5workers_rand9/obj30/gt_est_mask_4_thresh10.pkl\n"
     ]
    },
    {
     "name": "stderr",
     "output_type": "stream",
     "text": [
      "  9%|▊         | 876/10199 [01:26<15:23, 10.09it/s]"
     ]
    },
    {
     "name": "stdout",
     "output_type": "stream",
     "text": [
      "2\n",
      "pixel_em/5workers_rand9/obj31/gt_est_mask_4_thresh-10.pkl\n",
      "0\n",
      "pixel_em/5workers_rand9/obj31/gt_est_mask_4_thresh10.pkl\n"
     ]
    },
    {
     "name": "stderr",
     "output_type": "stream",
     "text": [
      "  9%|▉         | 903/10199 [01:29<15:24, 10.05it/s]"
     ]
    },
    {
     "name": "stdout",
     "output_type": "stream",
     "text": [
      "0\n",
      "pixel_em/5workers_rand9/obj35/gt_est_mask_4_thresh-10.pkl\n",
      "0\n",
      "pixel_em/5workers_rand9/obj35/gt_est_mask_4_thresh10.pkl\n"
     ]
    },
    {
     "name": "stderr",
     "output_type": "stream",
     "text": [
      "  9%|▉         | 927/10199 [01:32<15:22, 10.06it/s]"
     ]
    },
    {
     "name": "stdout",
     "output_type": "stream",
     "text": [
      "2\n",
      "pixel_em/5workers_rand9/obj39/gt_est_mask_4_thresh-4.pkl\n"
     ]
    },
    {
     "name": "stderr",
     "output_type": "stream",
     "text": [
      "\r",
      "  9%|▉         | 930/10199 [01:32<15:22, 10.05it/s]"
     ]
    },
    {
     "name": "stdout",
     "output_type": "stream",
     "text": [
      "0\n",
      "pixel_em/5workers_rand9/obj39/gt_est_mask_4_thresh-10.pkl\n",
      "0\n",
      "pixel_em/5workers_rand9/obj39/gt_est_mask_4_thresh10.pkl\n"
     ]
    },
    {
     "name": "stderr",
     "output_type": "stream",
     "text": [
      "  9%|▉         | 960/10199 [01:34<15:14, 10.11it/s]"
     ]
    },
    {
     "name": "stdout",
     "output_type": "stream",
     "text": [
      "2\n",
      "pixel_em/5workers_rand9/obj44/gt_est_mask_4_thresh2.pkl\n"
     ]
    },
    {
     "name": "stderr",
     "output_type": "stream",
     "text": [
      "\r",
      "  9%|▉         | 963/10199 [01:35<15:13, 10.11it/s]"
     ]
    },
    {
     "name": "stdout",
     "output_type": "stream",
     "text": [
      "2\n",
      "pixel_em/5workers_rand9/obj44/gt_est_mask_4_thresh0.pkl\n",
      "2\n",
      "pixel_em/5workers_rand9/obj44/gt_est_mask_4_thresh4.pkl\n"
     ]
    },
    {
     "name": "stderr",
     "output_type": "stream",
     "text": [
      " 10%|▉         | 999/10199 [01:38<15:08, 10.13it/s]"
     ]
    },
    {
     "name": "stdout",
     "output_type": "stream",
     "text": [
      "2\n",
      "pixel_em/5workers_rand6/obj2/gt_est_mask_4_thresh4.pkl\n"
     ]
    },
    {
     "name": "stderr",
     "output_type": "stream",
     "text": [
      " 10%|█         | 1023/10199 [01:40<15:05, 10.14it/s]"
     ]
    },
    {
     "name": "stdout",
     "output_type": "stream",
     "text": [
      "2\n",
      "pixel_em/5workers_rand6/obj5/gt_est_mask_4_thresh10.pkl\n"
     ]
    },
    {
     "name": "stderr",
     "output_type": "stream",
     "text": [
      " 10%|█         | 1044/10199 [01:42<15:02, 10.15it/s]"
     ]
    },
    {
     "name": "stdout",
     "output_type": "stream",
     "text": [
      "0\n",
      "pixel_em/5workers_rand6/obj8/gt_est_mask_4_thresh-10.pkl\n",
      "0\n",
      "pixel_em/5workers_rand6/obj8/gt_est_mask_4_thresh10.pkl\n"
     ]
    },
    {
     "name": "stderr",
     "output_type": "stream",
     "text": [
      " 12%|█▏        | 1182/10199 [01:57<14:55, 10.06it/s]"
     ]
    },
    {
     "name": "stdout",
     "output_type": "stream",
     "text": [
      "0\n",
      "pixel_em/5workers_rand6/obj28/gt_est_mask_4_thresh-10.pkl\n",
      "0\n",
      "pixel_em/5workers_rand6/obj28/gt_est_mask_4_thresh10.pkl\n"
     ]
    },
    {
     "name": "stderr",
     "output_type": "stream",
     "text": [
      "\r",
      " 12%|█▏        | 1185/10199 [01:57<14:55, 10.07it/s]"
     ]
    },
    {
     "name": "stdout",
     "output_type": "stream",
     "text": [
      "2\n",
      "pixel_em/5workers_rand6/obj29/gt_est_mask_4_thresh-4.pkl\n",
      "2\n",
      "pixel_em/5workers_rand6/obj29/gt_est_mask_4_thresh-2.pkl\n"
     ]
    },
    {
     "name": "stderr",
     "output_type": "stream",
     "text": [
      "\r",
      " 12%|█▏        | 1188/10199 [01:58<14:55, 10.06it/s]"
     ]
    },
    {
     "name": "stdout",
     "output_type": "stream",
     "text": [
      "3\n",
      "pixel_em/5workers_rand6/obj29/gt_est_mask_4_thresh4.pkl\n",
      "3\n",
      "pixel_em/5workers_rand6/obj29/gt_est_mask_4_thresh-10.pkl\n"
     ]
    },
    {
     "name": "stderr",
     "output_type": "stream",
     "text": [
      "\r",
      " 12%|█▏        | 1191/10199 [01:58<14:55, 10.06it/s]"
     ]
    },
    {
     "name": "stdout",
     "output_type": "stream",
     "text": [
      "0\n",
      "pixel_em/5workers_rand6/obj29/gt_est_mask_4_thresh10.pkl\n"
     ]
    },
    {
     "name": "stderr",
     "output_type": "stream",
     "text": [
      " 12%|█▏        | 1224/10199 [02:02<14:55, 10.02it/s]"
     ]
    },
    {
     "name": "stdout",
     "output_type": "stream",
     "text": [
      "0\n",
      "pixel_em/5workers_rand6/obj34/gt_est_mask_4_thresh-10.pkl\n",
      "0\n",
      "pixel_em/5workers_rand6/obj34/gt_est_mask_4_thresh10.pkl\n"
     ]
    },
    {
     "name": "stderr",
     "output_type": "stream",
     "text": [
      "\r",
      " 12%|█▏        | 1227/10199 [02:02<14:57, 10.00it/s]"
     ]
    },
    {
     "name": "stdout",
     "output_type": "stream",
     "text": [
      "3\n",
      "pixel_em/5workers_rand6/obj35/gt_est_mask_4_thresh-4.pkl\n",
      "2\n",
      "pixel_em/5workers_rand6/obj35/gt_est_mask_4_thresh-2.pkl\n"
     ]
    },
    {
     "name": "stderr",
     "output_type": "stream",
     "text": [
      "\r",
      " 12%|█▏        | 1230/10199 [02:03<14:58,  9.99it/s]"
     ]
    },
    {
     "name": "stdout",
     "output_type": "stream",
     "text": [
      "2\n",
      "pixel_em/5workers_rand6/obj35/gt_est_mask_4_thresh0.pkl\n",
      "0\n",
      "pixel_em/5workers_rand6/obj35/gt_est_mask_4_thresh-10.pkl\n",
      "0\n",
      "pixel_em/5workers_rand6/obj35/gt_est_mask_4_thresh10.pkl\n"
     ]
    },
    {
     "name": "stderr",
     "output_type": "stream",
     "text": [
      "\r",
      " 12%|█▏        | 1233/10199 [02:03<14:58,  9.98it/s]"
     ]
    },
    {
     "name": "stdout",
     "output_type": "stream",
     "text": [
      "2\n",
      "pixel_em/5workers_rand6/obj36/gt_est_mask_4_thresh-4.pkl\n"
     ]
    },
    {
     "name": "stderr",
     "output_type": "stream",
     "text": [
      " 12%|█▏        | 1266/10199 [02:07<14:56,  9.96it/s]"
     ]
    },
    {
     "name": "stdout",
     "output_type": "stream",
     "text": [
      "2\n",
      "pixel_em/5workers_rand6/obj40/gt_est_mask_4_thresh4.pkl\n"
     ]
    },
    {
     "name": "stderr",
     "output_type": "stream",
     "text": [
      " 13%|█▎        | 1275/10199 [02:07<14:55,  9.97it/s]"
     ]
    },
    {
     "name": "stdout",
     "output_type": "stream",
     "text": [
      "2\n",
      "pixel_em/5workers_rand6/obj41/gt_est_mask_4_thresh10.pkl\n"
     ]
    },
    {
     "name": "stderr",
     "output_type": "stream",
     "text": [
      " 13%|█▎        | 1290/10199 [02:09<14:52,  9.98it/s]"
     ]
    },
    {
     "name": "stdout",
     "output_type": "stream",
     "text": [
      "3\n",
      "pixel_em/5workers_rand6/obj44/gt_est_mask_4_thresh2.pkl\n",
      "3\n",
      "pixel_em/5workers_rand6/obj44/gt_est_mask_4_thresh-2.pkl\n"
     ]
    },
    {
     "name": "stderr",
     "output_type": "stream",
     "text": [
      "\r",
      " 13%|█▎        | 1293/10199 [02:09<14:52,  9.98it/s]"
     ]
    },
    {
     "name": "stdout",
     "output_type": "stream",
     "text": [
      "3\n",
      "pixel_em/5workers_rand6/obj44/gt_est_mask_4_thresh0.pkl\n",
      "2\n",
      "pixel_em/5workers_rand6/obj44/gt_est_mask_4_thresh4.pkl\n"
     ]
    },
    {
     "name": "stderr",
     "output_type": "stream",
     "text": [
      " 13%|█▎        | 1323/10199 [02:12<14:49,  9.98it/s]"
     ]
    },
    {
     "name": "stdout",
     "output_type": "stream",
     "text": [
      "2\n",
      "pixel_em/5workers_rand7/obj1/gt_est_mask_4_thresh10.pkl\n"
     ]
    },
    {
     "name": "stderr",
     "output_type": "stream",
     "text": [
      "\r",
      " 13%|█▎        | 1326/10199 [02:12<14:49,  9.98it/s]"
     ]
    },
    {
     "name": "stdout",
     "output_type": "stream",
     "text": [
      "2\n",
      "pixel_em/5workers_rand7/obj2/gt_est_mask_4_thresh-4.pkl\n"
     ]
    },
    {
     "name": "stderr",
     "output_type": "stream",
     "text": [
      " 13%|█▎        | 1371/10199 [02:17<14:44,  9.99it/s]"
     ]
    },
    {
     "name": "stdout",
     "output_type": "stream",
     "text": [
      "0\n",
      "pixel_em/5workers_rand7/obj8/gt_est_mask_4_thresh-10.pkl\n",
      "0\n",
      "pixel_em/5workers_rand7/obj8/gt_est_mask_4_thresh10.pkl\n"
     ]
    },
    {
     "name": "stderr",
     "output_type": "stream",
     "text": [
      " 14%|█▍        | 1425/10199 [02:22<14:38,  9.99it/s]"
     ]
    },
    {
     "name": "stdout",
     "output_type": "stream",
     "text": [
      "2\n",
      "pixel_em/5workers_rand7/obj16/gt_est_mask_4_thresh-4.pkl\n"
     ]
    },
    {
     "name": "stderr",
     "output_type": "stream",
     "text": [
      " 14%|█▍        | 1455/10199 [02:25<14:31, 10.03it/s]"
     ]
    },
    {
     "name": "stdout",
     "output_type": "stream",
     "text": [
      "0\n",
      "pixel_em/5workers_rand7/obj20/gt_est_mask_4_thresh-10.pkl\n",
      "0\n",
      "pixel_em/5workers_rand7/obj20/gt_est_mask_4_thresh10.pkl\n"
     ]
    },
    {
     "name": "stderr",
     "output_type": "stream",
     "text": [
      " 15%|█▍        | 1485/10199 [02:29<14:34,  9.96it/s]"
     ]
    },
    {
     "name": "stdout",
     "output_type": "stream",
     "text": [
      "2\n",
      "pixel_em/5workers_rand7/obj25/gt_est_mask_4_thresh-4.pkl\n"
     ]
    },
    {
     "name": "stderr",
     "output_type": "stream",
     "text": [
      " 15%|█▍        | 1494/10199 [02:30<14:36,  9.93it/s]"
     ]
    },
    {
     "name": "stdout",
     "output_type": "stream",
     "text": [
      "2\n",
      "pixel_em/5workers_rand7/obj26/gt_est_mask_4_thresh-4.pkl\n"
     ]
    },
    {
     "name": "stderr",
     "output_type": "stream",
     "text": [
      " 15%|█▍        | 1506/10199 [02:32<14:37,  9.91it/s]"
     ]
    },
    {
     "name": "stdout",
     "output_type": "stream",
     "text": [
      "2\n",
      "pixel_em/5workers_rand7/obj28/gt_est_mask_4_thresh2.pkl\n",
      "2\n",
      "pixel_em/5workers_rand7/obj28/gt_est_mask_4_thresh-2.pkl\n"
     ]
    },
    {
     "name": "stderr",
     "output_type": "stream",
     "text": [
      "\r",
      " 15%|█▍        | 1509/10199 [02:32<14:37,  9.91it/s]"
     ]
    },
    {
     "name": "stdout",
     "output_type": "stream",
     "text": [
      "2\n",
      "pixel_em/5workers_rand7/obj28/gt_est_mask_4_thresh0.pkl\n",
      "2\n",
      "pixel_em/5workers_rand7/obj28/gt_est_mask_4_thresh4.pkl\n"
     ]
    },
    {
     "name": "stderr",
     "output_type": "stream",
     "text": [
      "\r",
      " 15%|█▍        | 1512/10199 [02:32<14:36,  9.91it/s]"
     ]
    },
    {
     "name": "stdout",
     "output_type": "stream",
     "text": [
      "3\n",
      "pixel_em/5workers_rand7/obj29/gt_est_mask_4_thresh2.pkl\n",
      "8\n",
      "pixel_em/5workers_rand7/obj29/gt_est_mask_4_thresh-4.pkl\n"
     ]
    },
    {
     "name": "stderr",
     "output_type": "stream",
     "text": [
      "\r",
      " 15%|█▍        | 1515/10199 [02:32<14:36,  9.90it/s]"
     ]
    },
    {
     "name": "stdout",
     "output_type": "stream",
     "text": [
      "3\n",
      "pixel_em/5workers_rand7/obj29/gt_est_mask_4_thresh-2.pkl\n",
      "3\n",
      "pixel_em/5workers_rand7/obj29/gt_est_mask_4_thresh0.pkl\n"
     ]
    },
    {
     "name": "stderr",
     "output_type": "stream",
     "text": [
      "\r",
      " 15%|█▍        | 1518/10199 [02:33<14:36,  9.90it/s]"
     ]
    },
    {
     "name": "stdout",
     "output_type": "stream",
     "text": [
      "2\n",
      "pixel_em/5workers_rand7/obj29/gt_est_mask_4_thresh4.pkl\n"
     ]
    },
    {
     "name": "stderr",
     "output_type": "stream",
     "text": [
      "\r",
      " 15%|█▍        | 1521/10199 [02:33<14:36,  9.90it/s]"
     ]
    },
    {
     "name": "stdout",
     "output_type": "stream",
     "text": [
      "2\n",
      "pixel_em/5workers_rand7/obj30/gt_est_mask_4_thresh2.pkl\n",
      "2\n",
      "pixel_em/5workers_rand7/obj30/gt_est_mask_4_thresh-2.pkl\n"
     ]
    },
    {
     "name": "stderr",
     "output_type": "stream",
     "text": [
      "\r",
      " 15%|█▍        | 1524/10199 [02:33<14:36,  9.90it/s]"
     ]
    },
    {
     "name": "stdout",
     "output_type": "stream",
     "text": [
      "2\n",
      "pixel_em/5workers_rand7/obj30/gt_est_mask_4_thresh0.pkl\n",
      "2\n",
      "pixel_em/5workers_rand7/obj30/gt_est_mask_4_thresh4.pkl\n"
     ]
    },
    {
     "name": "stderr",
     "output_type": "stream",
     "text": [
      "\r",
      " 15%|█▍        | 1527/10199 [02:34<14:35,  9.90it/s]"
     ]
    },
    {
     "name": "stdout",
     "output_type": "stream",
     "text": [
      "2\n",
      "pixel_em/5workers_rand7/obj30/gt_est_mask_4_thresh10.pkl\n"
     ]
    },
    {
     "name": "stderr",
     "output_type": "stream",
     "text": [
      " 15%|█▌        | 1554/10199 [02:37<14:34,  9.89it/s]"
     ]
    },
    {
     "name": "stdout",
     "output_type": "stream",
     "text": [
      "0\n",
      "pixel_em/5workers_rand7/obj34/gt_est_mask_4_thresh-10.pkl\n",
      "0\n",
      "pixel_em/5workers_rand7/obj34/gt_est_mask_4_thresh10.pkl\n"
     ]
    },
    {
     "name": "stderr",
     "output_type": "stream",
     "text": [
      "\r",
      " 15%|█▌        | 1557/10199 [02:37<14:35,  9.88it/s]"
     ]
    },
    {
     "name": "stdout",
     "output_type": "stream",
     "text": [
      "3\n",
      "pixel_em/5workers_rand7/obj35/gt_est_mask_4_thresh-4.pkl\n",
      "2\n",
      "pixel_em/5workers_rand7/obj35/gt_est_mask_4_thresh-2.pkl\n"
     ]
    },
    {
     "name": "stderr",
     "output_type": "stream",
     "text": [
      "\r",
      " 15%|█▌        | 1560/10199 [02:38<14:35,  9.86it/s]"
     ]
    },
    {
     "name": "stdout",
     "output_type": "stream",
     "text": [
      "0\n",
      "pixel_em/5workers_rand7/obj35/gt_est_mask_4_thresh-10.pkl\n",
      "0\n",
      "pixel_em/5workers_rand7/obj35/gt_est_mask_4_thresh10.pkl\n"
     ]
    },
    {
     "name": "stderr",
     "output_type": "stream",
     "text": [
      "\r",
      " 15%|█▌        | 1563/10199 [02:38<14:35,  9.86it/s]"
     ]
    },
    {
     "name": "stdout",
     "output_type": "stream",
     "text": [
      "2\n",
      "pixel_em/5workers_rand7/obj36/gt_est_mask_4_thresh-4.pkl\n"
     ]
    },
    {
     "name": "stderr",
     "output_type": "stream",
     "text": [
      " 16%|█▌        | 1584/10199 [02:40<14:33,  9.86it/s]"
     ]
    },
    {
     "name": "stdout",
     "output_type": "stream",
     "text": [
      "2\n",
      "pixel_em/5workers_rand7/obj39/gt_est_mask_4_thresh-4.pkl\n"
     ]
    },
    {
     "name": "stderr",
     "output_type": "stream",
     "text": [
      " 16%|█▌        | 1596/10199 [02:41<14:32,  9.85it/s]"
     ]
    },
    {
     "name": "stdout",
     "output_type": "stream",
     "text": [
      "4\n",
      "pixel_em/5workers_rand7/obj40/gt_est_mask_4_thresh-10.pkl\n"
     ]
    },
    {
     "name": "stderr",
     "output_type": "stream",
     "text": [
      " 16%|█▌        | 1608/10199 [02:42<14:30,  9.87it/s]"
     ]
    },
    {
     "name": "stdout",
     "output_type": "stream",
     "text": [
      "2\n",
      "pixel_em/5workers_rand7/obj42/gt_est_mask_4_thresh-10.pkl\n"
     ]
    },
    {
     "name": "stderr",
     "output_type": "stream",
     "text": [
      " 16%|█▌        | 1620/10199 [02:44<14:29,  9.87it/s]"
     ]
    },
    {
     "name": "stdout",
     "output_type": "stream",
     "text": [
      "2\n",
      "pixel_em/5workers_rand7/obj44/gt_est_mask_4_thresh-4.pkl\n"
     ]
    },
    {
     "name": "stderr",
     "output_type": "stream",
     "text": [
      " 16%|█▌        | 1644/10199 [02:46<14:25,  9.88it/s]"
     ]
    },
    {
     "name": "stdout",
     "output_type": "stream",
     "text": [
      "2\n",
      "pixel_em/5workers_rand7/obj47/gt_est_mask_4_thresh-10.pkl\n",
      "0\n",
      "pixel_em/5workers_rand7/obj47/gt_est_mask_4_thresh10.pkl\n"
     ]
    },
    {
     "name": "stderr",
     "output_type": "stream",
     "text": [
      " 16%|█▌        | 1650/10199 [02:46<14:25,  9.88it/s]"
     ]
    },
    {
     "name": "stdout",
     "output_type": "stream",
     "text": [
      "2\n",
      "pixel_em/5workers_rand4/obj1/gt_est_mask_4_thresh10.pkl\n"
     ]
    },
    {
     "name": "stderr",
     "output_type": "stream",
     "text": [
      " 16%|█▌        | 1656/10199 [02:47<14:25,  9.87it/s]"
     ]
    },
    {
     "name": "stdout",
     "output_type": "stream",
     "text": [
      "3\n",
      "pixel_em/5workers_rand4/obj2/gt_est_mask_4_thresh4.pkl\n"
     ]
    },
    {
     "name": "stderr",
     "output_type": "stream",
     "text": [
      " 17%|█▋        | 1689/10199 [02:51<14:21,  9.87it/s]"
     ]
    },
    {
     "ename": "KeyboardInterrupt",
     "evalue": "",
     "output_type": "error",
     "traceback": [
      "\u001b[0;31m---------------------------------------------------------------------------\u001b[0m",
      "\u001b[0;31mKeyboardInterrupt\u001b[0m                         Traceback (most recent call last)",
      "\u001b[0;32m<ipython-input-42-c3349be934ca>\u001b[0m in \u001b[0;36m<module>\u001b[0;34m()\u001b[0m\n\u001b[1;32m      2\u001b[0m \u001b[0;32mfor\u001b[0m \u001b[0mfname\u001b[0m \u001b[0;32min\u001b[0m \u001b[0mtqdm\u001b[0m\u001b[0;34m(\u001b[0m\u001b[0mglob\u001b[0m\u001b[0;34m.\u001b[0m\u001b[0mglob\u001b[0m\u001b[0;34m(\u001b[0m\u001b[0;34m\"pixel_em/*/obj*/gt_est_mask_4_thresh*.pkl\"\u001b[0m\u001b[0;34m)\u001b[0m\u001b[0;34m)\u001b[0m\u001b[0;34m:\u001b[0m\u001b[0;34m\u001b[0m\u001b[0m\n\u001b[1;32m      3\u001b[0m     \u001b[0;31m#mega_mask = pkl.load(open(\"pixel_em/10workers_rand0/obj10/gt_est_mask_2_thresh-10.pkl\"))\u001b[0m\u001b[0;34m\u001b[0m\u001b[0;34m\u001b[0m\u001b[0m\n\u001b[0;32m----> 4\u001b[0;31m     \u001b[0mmega_mask\u001b[0m \u001b[0;34m=\u001b[0m \u001b[0mpkl\u001b[0m\u001b[0;34m.\u001b[0m\u001b[0mload\u001b[0m\u001b[0;34m(\u001b[0m\u001b[0mopen\u001b[0m\u001b[0;34m(\u001b[0m\u001b[0mfname\u001b[0m\u001b[0;34m)\u001b[0m\u001b[0;34m)\u001b[0m\u001b[0;34m\u001b[0m\u001b[0m\n\u001b[0m\u001b[1;32m      5\u001b[0m     \u001b[0mtiles\u001b[0m \u001b[0;34m=\u001b[0m \u001b[0mmask_to_tiles\u001b[0m\u001b[0;34m(\u001b[0m\u001b[0mmega_mask\u001b[0m\u001b[0;34m)\u001b[0m\u001b[0;34m\u001b[0m\u001b[0m\n\u001b[1;32m      6\u001b[0m     \u001b[0;32mif\u001b[0m \u001b[0mlen\u001b[0m\u001b[0;34m(\u001b[0m\u001b[0mtiles\u001b[0m\u001b[0;34m)\u001b[0m\u001b[0;34m!=\u001b[0m\u001b[0;36m1\u001b[0m\u001b[0;34m:\u001b[0m\u001b[0;34m\u001b[0m\u001b[0m\n",
      "\u001b[0;32m/usr/local/lib/python2.7/pickle.pyc\u001b[0m in \u001b[0;36mload\u001b[0;34m(file)\u001b[0m\n\u001b[1;32m   1376\u001b[0m \u001b[0;34m\u001b[0m\u001b[0m\n\u001b[1;32m   1377\u001b[0m \u001b[0;32mdef\u001b[0m \u001b[0mload\u001b[0m\u001b[0;34m(\u001b[0m\u001b[0mfile\u001b[0m\u001b[0;34m)\u001b[0m\u001b[0;34m:\u001b[0m\u001b[0;34m\u001b[0m\u001b[0m\n\u001b[0;32m-> 1378\u001b[0;31m     \u001b[0;32mreturn\u001b[0m \u001b[0mUnpickler\u001b[0m\u001b[0;34m(\u001b[0m\u001b[0mfile\u001b[0m\u001b[0;34m)\u001b[0m\u001b[0;34m.\u001b[0m\u001b[0mload\u001b[0m\u001b[0;34m(\u001b[0m\u001b[0;34m)\u001b[0m\u001b[0;34m\u001b[0m\u001b[0m\n\u001b[0m\u001b[1;32m   1379\u001b[0m \u001b[0;34m\u001b[0m\u001b[0m\n\u001b[1;32m   1380\u001b[0m \u001b[0;32mdef\u001b[0m \u001b[0mloads\u001b[0m\u001b[0;34m(\u001b[0m\u001b[0mstr\u001b[0m\u001b[0;34m)\u001b[0m\u001b[0;34m:\u001b[0m\u001b[0;34m\u001b[0m\u001b[0m\n",
      "\u001b[0;32m/usr/local/lib/python2.7/pickle.pyc\u001b[0m in \u001b[0;36mload\u001b[0;34m(self)\u001b[0m\n\u001b[1;32m    856\u001b[0m             \u001b[0;32mwhile\u001b[0m \u001b[0;36m1\u001b[0m\u001b[0;34m:\u001b[0m\u001b[0;34m\u001b[0m\u001b[0m\n\u001b[1;32m    857\u001b[0m                 \u001b[0mkey\u001b[0m \u001b[0;34m=\u001b[0m \u001b[0mread\u001b[0m\u001b[0;34m(\u001b[0m\u001b[0;36m1\u001b[0m\u001b[0;34m)\u001b[0m\u001b[0;34m\u001b[0m\u001b[0m\n\u001b[0;32m--> 858\u001b[0;31m                 \u001b[0mdispatch\u001b[0m\u001b[0;34m[\u001b[0m\u001b[0mkey\u001b[0m\u001b[0;34m]\u001b[0m\u001b[0;34m(\u001b[0m\u001b[0mself\u001b[0m\u001b[0;34m)\u001b[0m\u001b[0;34m\u001b[0m\u001b[0m\n\u001b[0m\u001b[1;32m    859\u001b[0m         \u001b[0;32mexcept\u001b[0m \u001b[0m_Stop\u001b[0m\u001b[0;34m,\u001b[0m \u001b[0mstopinst\u001b[0m\u001b[0;34m:\u001b[0m\u001b[0;34m\u001b[0m\u001b[0m\n\u001b[1;32m    860\u001b[0m             \u001b[0;32mreturn\u001b[0m \u001b[0mstopinst\u001b[0m\u001b[0;34m.\u001b[0m\u001b[0mvalue\u001b[0m\u001b[0;34m\u001b[0m\u001b[0m\n",
      "\u001b[0;32m/usr/local/lib/python2.7/pickle.pyc\u001b[0m in \u001b[0;36mload_string\u001b[0;34m(self)\u001b[0m\n\u001b[1;32m    960\u001b[0m \u001b[0;34m\u001b[0m\u001b[0m\n\u001b[1;32m    961\u001b[0m     \u001b[0;32mdef\u001b[0m \u001b[0mload_string\u001b[0m\u001b[0;34m(\u001b[0m\u001b[0mself\u001b[0m\u001b[0;34m)\u001b[0m\u001b[0;34m:\u001b[0m\u001b[0;34m\u001b[0m\u001b[0m\n\u001b[0;32m--> 962\u001b[0;31m         \u001b[0mrep\u001b[0m \u001b[0;34m=\u001b[0m \u001b[0mself\u001b[0m\u001b[0;34m.\u001b[0m\u001b[0mreadline\u001b[0m\u001b[0;34m(\u001b[0m\u001b[0;34m)\u001b[0m\u001b[0;34m[\u001b[0m\u001b[0;34m:\u001b[0m\u001b[0;34m-\u001b[0m\u001b[0;36m1\u001b[0m\u001b[0;34m]\u001b[0m\u001b[0;34m\u001b[0m\u001b[0m\n\u001b[0m\u001b[1;32m    963\u001b[0m         \u001b[0;32mfor\u001b[0m \u001b[0mq\u001b[0m \u001b[0;32min\u001b[0m \u001b[0;34m\"\\\"'\"\u001b[0m\u001b[0;34m:\u001b[0m \u001b[0;31m# double or single quote\u001b[0m\u001b[0;34m\u001b[0m\u001b[0m\n\u001b[1;32m    964\u001b[0m             \u001b[0;32mif\u001b[0m \u001b[0mrep\u001b[0m\u001b[0;34m.\u001b[0m\u001b[0mstartswith\u001b[0m\u001b[0;34m(\u001b[0m\u001b[0mq\u001b[0m\u001b[0;34m)\u001b[0m\u001b[0;34m:\u001b[0m\u001b[0;34m\u001b[0m\u001b[0m\n",
      "\u001b[0;31mKeyboardInterrupt\u001b[0m: "
     ]
    }
   ],
   "source": [
    "disjoint_fname  =[]\n",
    "for fname in tqdm(glob.glob(\"pixel_em/*/obj*/gt_est_mask_4_thresh*.pkl\")):\n",
    "    #mega_mask = pkl.load(open(\"pixel_em/10workers_rand0/obj10/gt_est_mask_2_thresh-10.pkl\"))\n",
    "    mega_mask = pkl.load(open(fname))\n",
    "    tiles = mask_to_tiles(mega_mask)\n",
    "    if len(tiles)!=1:\n",
    "        print len(tiles)\n",
    "        print fname\n",
    "        disjoint_fname.append(fname)"
   ]
  },
  {
   "cell_type": "code",
   "execution_count": 47,
   "metadata": {},
   "outputs": [
    {
     "data": {
      "text/plain": [
       "<matplotlib.colorbar.Colorbar at 0x7c25410>"
      ]
     },
     "execution_count": 47,
     "metadata": {},
     "output_type": "execute_result"
    },
    {
     "data": {
      "image/png": "[encoded data removed]",
      "text/plain": [
       "<matplotlib.figure.Figure at 0x88baa50>"
      ]
     },
     "metadata": {},
     "output_type": "display_data"
    }
   ],
   "source": [
    "mega_mask=pkl.load(open(\"pixel_em/5workers_rand0/obj1/gt_est_mask_4_thresh10.pkl\"))\n",
    "\n",
    "plt.imshow(mega_mask)\n",
    "plt.colorbar()\n"
   ]
  },
  {
   "cell_type": "code",
   "execution_count": 46,
   "metadata": {},
   "outputs": [
    {
     "data": {
      "text/plain": [
       "<matplotlib.colorbar.Colorbar at 0x88cc210>"
      ]
     },
     "execution_count": 46,
     "metadata": {},
     "output_type": "execute_result"
    },
    {
     "data": {
      "image/png": "[encoded data removed]",
      "text/plain": [
       "<matplotlib.figure.Figure at 0x7baf250>"
      ]
     },
     "metadata": {},
     "output_type": "display_data"
    }
   ],
   "source": [
    "mega_mask=pkl.load(open(\"pixel_em/5workers_rand7/obj36/gt_est_mask_4_thresh-4.pkl\"))\n",
    "\n",
    "plt.imshow(mega_mask)\n",
    "plt.colorbar()"
   ]
  },
  {
   "cell_type": "code",
   "execution_count": null,
   "metadata": {
    "collapsed": true
   },
   "outputs": [],
   "source": [
    "disjoint_mv_fname  =[]\n",
    "for fname in tqdm(glob.glob(\"pixel_em/*/obj*/MV_mask.pkl\")):\n",
    "    #mega_mask = pkl.load(open(\"pixel_em/10workers_rand0/obj10/gt_est_mask_2_thresh-10.pkl\"))\n",
    "    mega_mask = pkl.load(open(fname))\n",
    "    tiles = mask_to_tiles(mega_mask)\n",
    "    if len(tiles)!=1:\n",
    "        print len(tiles)\n",
    "        print fname\n",
    "        disjoint_mv_fname.append(fname)"
   ]
  },
  {
   "cell_type": "markdown",
   "metadata": {},
   "source": [
    "# PRJ for TileEM "
   ]
  },
  {
   "cell_type": "code",
   "execution_count": 58,
   "metadata": {},
   "outputs": [],
   "source": [
    "objid=1\n",
    "thresh = 2\n",
    "tiles = pkl.load(open(\"uniqueTiles/5workers_rand6/vtiles{}.pkl\".format(objid)))\n",
    "Tstar_idx_lst = list(set(pkl.load(open(\"uniqueTiles/5workers_rand6/obj25/thresh0/iter_5/tid_list.pkl\"))))"
   ]
  },
  {
   "cell_type": "code",
   "execution_count": 59,
   "metadata": {},
   "outputs": [],
   "source": [
    "Tstar_lst = [tiles[tidx] for tidx in Tstar_idx_lst]"
   ]
  },
  {
   "cell_type": "code",
   "execution_count": 56,
   "metadata": {},
   "outputs": [
    {
     "name": "stdout",
     "output_type": "stream",
     "text": [
      "[0, 1, 2, 3, 4, 5, 6, 7, 12, 13, 14, 15, 16, 18, 19, 21, 31, 32, 33, 42, 47, 48, 50, 51, 52, 53, 54, 57]\n"
     ]
    }
   ],
   "source": [
    "print Tstar_idx_lst"
   ]
  },
  {
   "cell_type": "code",
   "execution_count": 62,
   "metadata": {
    "collapsed": true
   },
   "outputs": [],
   "source": [
    "from shapely.ops import cascaded_union"
   ]
  },
  {
   "cell_type": "code",
   "execution_count": null,
   "metadata": {
    "collapsed": true
   },
   "outputs": [],
   "source": [
    "def prj_from_list(test_list, base_poly):\n",
    "    int_area = 0.0\n",
    "    test_poly_area = 0.0\n",
    "    for test_poly in test_list:\n",
    "        #print test_poly\n",
    "        #print base_poly\n",
    "        int_area += intersection_area(test_poly, base_poly)\n",
    "        test_poly_area += test_poly.area\n",
    "    precision = (int_area / test_poly_area) if (test_poly_area != 0) else 0\n",
    "    recall = (int_area / base_poly.area) if (base_poly.area != 0) else 0\n",
    "    jaccard = (int_area / (base_poly.area+test_poly_area-int_area)) if (test_poly.area != 0) else 0\n",
    "    return precision,recall,jaccard"
   ]
  },
  {
   "cell_type": "code",
   "execution_count": null,
   "metadata": {
    "collapsed": true
   },
   "outputs": [],
   "source": [
    "def jaccard(obj_x_locs,obj_y_locs):\n",
    "    return intersection(obj_x_locs,obj_y_locs)/union(obj_x_locs,obj_y_locs)\n",
    "from shapely.geometry import box,Polygon\n",
    "def intersection(obj_x_locs,obj_y_locs,debug=False):\n",
    "    # Compute intersecting area\n",
    "    polygon1 = Polygon(zip(obj_x_locs[0],obj_y_locs[0])).buffer(0)\n",
    "    polygon2 = Polygon(zip(obj_x_locs[1],obj_y_locs[1])).buffer(0)\n",
    "    if debug : plt.imshow(polygon1.intersection(polygon2),interpolation=\"None\")\n",
    "    return polygon1.intersection(polygon2).area\n",
    "def union(obj_x_locs,obj_y_locs,debug=False):\n",
    "    # Compute union area of two given polygon\n",
    "    polygon1 = Polygon(zip(obj_x_locs[0],obj_y_locs[0])).buffer(0)\n",
    "    polygon2 = Polygon(zip(obj_x_locs[1],obj_y_locs[1])).buffer(0)\n",
    "    if debug : plt.imshow(polygon1.union(polygon2),interpolation=\"None\")\n",
    "    return polygon1.union(polygon2).area\n",
    "def precision(obj_x_locs,obj_y_locs):\n",
    "    worker_bb = Polygon(zip(obj_x_locs[0],obj_y_locs[0]))\n",
    "    worker_bb_area  = worker_bb.area\n",
    "#     print \"Intersection: \", intersection(obj_x_locs,obj_y_locs)\n",
    "#     print \"Worker BB area: \",worker_bb_area\n",
    "    return intersection(obj_x_locs,obj_y_locs)/float(worker_bb_area)"
   ]
  }
 ],
 "metadata": {
  "kernelspec": {
   "display_name": "Python 2",
   "language": "python",
   "name": "python2"
  },
  "language_info": {
   "codemirror_mode": {
    "name": "ipython",
    "version": 2
   },
   "file_extension": ".py",
   "mimetype": "text/x-python",
   "name": "python",
   "nbconvert_exporter": "python",
   "pygments_lexer": "ipython2",
   "version": "2.7.6"
  }
 },
 "nbformat": 4,
 "nbformat_minor": 2
}
