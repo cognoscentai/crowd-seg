{
 "cells": [
  {
   "cell_type": "code",
   "execution_count": 2,
   "metadata": {},
   "outputs": [
    {
     "name": "stdout",
     "output_type": "stream",
     "text": [
      "/srv/data/home/jlee782/crowd-seg/analysis/TileEM\n"
     ]
    }
   ],
   "source": [
    "cd ../TileEM/"
   ]
  },
  {
   "cell_type": "code",
   "execution_count": 3,
   "metadata": {},
   "outputs": [
    {
     "name": "stdout",
     "output_type": "stream",
     "text": [
      "Populating the interactive namespace from numpy and matplotlib\n",
      "The autoreload extension is already loaded. To reload it, use:\n",
      "  %reload_ext autoreload\n"
     ]
    }
   ],
   "source": [
    "%pylab inline\n",
    "%load_ext autoreload\n",
    "%autoreload 2\n",
    "from paper_visualizations import * \n",
    "from PixelEM import * \n",
    "from test_sample import test_sample_obj\n",
    "import json\n",
    "import pandas as pd\n",
    "from analysis_toolbox import *\n",
    "from qualityBaseline import *"
   ]
  },
  {
   "cell_type": "code",
   "execution_count": 43,
   "metadata": {
    "collapsed": true
   },
   "outputs": [],
   "source": [
    "def pixel_area(mask):\n",
    "    return len(np.where(mask==1)[0])"
   ]
  },
  {
   "cell_type": "code",
   "execution_count": 115,
   "metadata": {},
   "outputs": [],
   "source": [
    "lossiness_tbl = []\n",
    "for objid in object_lst:\n",
    "    gt_exact = ground_truth_T(objid)\n",
    "    gt_pix = pkl.load(open(\"pixel_em/obj{}/gt.pkl\".format(objid)))\n",
    "    ratio = pixel_area(gt_pix)/gt_exact.area\n",
    "    lossiness_tbl.append([objid,3,ratio,gt_exact.area]) # wid=3 is GT \n",
    "\n",
    "for bb in bb_info.iterrows():\n",
    "    bb=bb[1]\n",
    "    objid  = bb[\"object_id\"]\n",
    "    wid  = bb[\"worker_id\"]\n",
    "    if wid!=3:\n",
    "        xloc,yloc =  process_raw_locs([bb[\"x_locs\"],bb[\"y_locs\"]]) \n",
    "        worker_BB_polygon=Polygon(zip(xloc,yloc))\n",
    "        ratio = pixel_area(get_worker_mask(objid,wid))/worker_BB_polygon.area\n",
    "        lossiness_tbl.append([objid,wid,ratio,worker_BB_polygon.area])"
   ]
  },
  {
   "cell_type": "code",
   "execution_count": 123,
   "metadata": {},
   "outputs": [
    {
     "name": "stdout",
     "output_type": "stream",
     "text": [
      "-0.464389808526\n",
      "-23.2558139535\n",
      "-3.1365506423\n",
      "2.37876035912\n"
     ]
    }
   ],
   "source": [
    "lossiness_tbl = pd.DataFrame(lossiness_tbl,columns=[\"objid\",\"wid\",\"ratio\",\"exact obj area\"])\n",
    "lossiness_tbl[\"lossy rate\"]=(1 - lossiness_tbl[\"ratio\"])*100.\n",
    "\n",
    "print lossiness_tbl.max()[\"lossy rate\"]\n",
    "print lossiness_tbl.min()[\"lossy rate\"]\n",
    "print lossiness_tbl.mean()[\"lossy rate\"]\n",
    "print lossiness_tbl.std()[\"lossy rate\"]"
   ]
  },
  {
   "cell_type": "code",
   "execution_count": 124,
   "metadata": {},
   "outputs": [
    {
     "data": {
      "text/plain": [
       "<matplotlib.text.Text at 0x909c790>"
      ]
     },
     "execution_count": 124,
     "metadata": {},
     "output_type": "execute_result"
    },
    {
     "data": {
      "image/png": "[encoded data removed]",
      "text/plain": [
       "<matplotlib.figure.Figure at 0x7daa350>"
      ]
     },
     "metadata": {},
     "output_type": "display_data"
    }
   ],
   "source": [
    "lossiness_tbl[\"lossy rate\"].hist()\n",
    "plt.xlabel(\"Lossy rate [%]\",fontsize=13)"
   ]
  },
  {
   "cell_type": "code",
   "execution_count": 125,
   "metadata": {},
   "outputs": [
    {
     "data": {
      "text/plain": [
       "1832"
      ]
     },
     "execution_count": 125,
     "metadata": {},
     "output_type": "execute_result"
    }
   ],
   "source": [
    "len(lossiness_tbl)"
   ]
  },
  {
   "cell_type": "markdown",
   "metadata": {},
   "source": [
    "Loss rate is defined as 1 - [GT pixel based area/GT (tile based) exact area], which quantifies how much information is lost due to the rasterization (converting from polygon coordinates of bounding box to pixel mask). This ratio is computed for all worker bounding boxes and ground truths. The max loss rate is 23.25% min is 0.46%, the average loss rate is around 3.14%."
   ]
  },
  {
   "cell_type": "markdown",
   "metadata": {},
   "source": [
    "# Visualizing overplotting Tile on pixel mask "
   ]
  },
  {
   "cell_type": "code",
   "execution_count": 106,
   "metadata": {},
   "outputs": [
    {
     "data": {
      "text/html": [
       "<div>\n",
       "<table border=\"1\" class=\"dataframe\">\n",
       "  <thead>\n",
       "    <tr style=\"text-align: right;\">\n",
       "      <th></th>\n",
       "      <th>objid</th>\n",
       "      <th>wid</th>\n",
       "      <th>ratio</th>\n",
       "      <th>lossy rate</th>\n",
       "    </tr>\n",
       "  </thead>\n",
       "  <tbody>\n",
       "    <tr>\n",
       "      <th>14</th>\n",
       "      <td>15</td>\n",
       "      <td>3</td>\n",
       "      <td>1.103149</td>\n",
       "      <td>-10.314875</td>\n",
       "    </tr>\n",
       "  </tbody>\n",
       "</table>\n",
       "</div>"
      ],
      "text/plain": [
       "    objid  wid     ratio  lossy rate\n",
       "14     15    3  1.103149  -10.314875"
      ]
     },
     "execution_count": 106,
     "metadata": {},
     "output_type": "execute_result"
    }
   ],
   "source": [
    "lossiness_tbl[(lossiness_tbl[\"wid\"]==3)&(lossiness_tbl[\"lossy rate\"]<-10)]"
   ]
  },
  {
   "cell_type": "code",
   "execution_count": 111,
   "metadata": {},
   "outputs": [
    {
     "data": {
      "text/plain": [
       "(80, 40)"
      ]
     },
     "execution_count": 111,
     "metadata": {},
     "output_type": "execute_result"
    },
    {
     "data": {
      "image/png": "[encoded data removed]",
      "text/plain": [
       "<matplotlib.figure.Figure at 0x7e5ab90>"
      ]
     },
     "metadata": {},
     "output_type": "display_data"
    }
   ],
   "source": [
    "objid=15\n",
    "gt_exact = ground_truth_T(objid,reverse_xy=True)\n",
    "gt_pix = pkl.load(open(\"pixel_em/obj{}/gt.pkl\".format(objid)))\n",
    "plt.imshow(gt_pix)\n",
    "plot_coords(gt_exact,'cyan')\n",
    "plt.xlim(375,440)\n",
    "plt.ylim(80,40)"
   ]
  },
  {
   "cell_type": "code",
   "execution_count": 112,
   "metadata": {},
   "outputs": [
    {
     "data": {
      "text/html": [
       "<div>\n",
       "<table border=\"1\" class=\"dataframe\">\n",
       "  <thead>\n",
       "    <tr style=\"text-align: right;\">\n",
       "      <th></th>\n",
       "      <th>objid</th>\n",
       "      <th>wid</th>\n",
       "      <th>ratio</th>\n",
       "      <th>lossy rate</th>\n",
       "    </tr>\n",
       "  </thead>\n",
       "  <tbody>\n",
       "    <tr>\n",
       "      <th>5</th>\n",
       "      <td>6</td>\n",
       "      <td>3</td>\n",
       "      <td>1.088785</td>\n",
       "      <td>-8.878505</td>\n",
       "    </tr>\n",
       "    <tr>\n",
       "      <th>14</th>\n",
       "      <td>15</td>\n",
       "      <td>3</td>\n",
       "      <td>1.103149</td>\n",
       "      <td>-10.314875</td>\n",
       "    </tr>\n",
       "    <tr>\n",
       "      <th>40</th>\n",
       "      <td>41</td>\n",
       "      <td>3</td>\n",
       "      <td>1.082484</td>\n",
       "      <td>-8.248378</td>\n",
       "    </tr>\n",
       "  </tbody>\n",
       "</table>\n",
       "</div>"
      ],
      "text/plain": [
       "    objid  wid     ratio  lossy rate\n",
       "5       6    3  1.088785   -8.878505\n",
       "14     15    3  1.103149  -10.314875\n",
       "40     41    3  1.082484   -8.248378"
      ]
     },
     "execution_count": 112,
     "metadata": {},
     "output_type": "execute_result"
    }
   ],
   "source": [
    "lossiness_tbl[(lossiness_tbl[\"wid\"]==3)&(lossiness_tbl[\"lossy rate\"]<-8)]"
   ]
  },
  {
   "cell_type": "code",
   "execution_count": 119,
   "metadata": {},
   "outputs": [
    {
     "data": {
      "text/plain": [
       "(260, 195)"
      ]
     },
     "execution_count": 119,
     "metadata": {},
     "output_type": "execute_result"
    },
    {
     "data": {
      "image/png": "[encoded data removed]",
      "text/plain": [
       "<matplotlib.figure.Figure at 0x7e27350>"
      ]
     },
     "metadata": {},
     "output_type": "display_data"
    }
   ],
   "source": [
    "objid=6\n",
    "gt_exact = ground_truth_T(objid,reverse_xy=True)\n",
    "gt_pix = pkl.load(open(\"pixel_em/obj{}/gt.pkl\".format(objid)))\n",
    "plt.imshow(gt_pix)\n",
    "plot_coords(gt_exact,'cyan')\n",
    "plt.xlim(490,520)\n",
    "plt.ylim(260,195)"
   ]
  },
  {
   "cell_type": "code",
   "execution_count": 127,
   "metadata": {},
   "outputs": [
    {
     "data": {
      "image/png": "[encoded data removed]",
      "text/plain": [
       "<matplotlib.figure.Figure at 0x8826cd0>"
      ]
     },
     "metadata": {},
     "output_type": "display_data"
    }
   ],
   "source": [
    "plt.plot(lossiness_tbl[\"exact obj area\"],lossiness_tbl[\"lossy rate\"],'.')\n",
    "plt.gca().invert_xaxis()\n",
    "plt.gca().invert_yaxis()"
   ]
  },
  {
   "cell_type": "markdown",
   "metadata": {},
   "source": [
    "# Smaller areas are correlated with larger lossy rates "
   ]
  },
  {
   "cell_type": "code",
   "execution_count": 132,
   "metadata": {},
   "outputs": [
    {
     "data": {
      "text/plain": [
       "<matplotlib.text.Text at 0x96830d0>"
      ]
     },
     "execution_count": 132,
     "metadata": {},
     "output_type": "execute_result"
    },
    {
     "data": {
      "image/png": "[encoded data removed]",
      "text/plain": [
       "<matplotlib.figure.Figure at 0x9a250d0>"
      ]
     },
     "metadata": {},
     "output_type": "display_data"
    }
   ],
   "source": [
    "plt.semilogx(lossiness_tbl[\"exact obj area\"],lossiness_tbl[\"lossy rate\"],'.')\n",
    "# plt.gca().invert_xaxis()\n",
    "plt.gca().invert_yaxis()\n",
    "plt.xlabel(\"Object Area\",fontsize=13)\n",
    "plt.ylabel(\"Lossy rate\",fontsize=13)"
   ]
  }
 ],
 "metadata": {
  "kernelspec": {
   "display_name": "Python 2",
   "language": "python",
   "name": "python2"
  },
  "language_info": {
   "codemirror_mode": {
    "name": "ipython",
    "version": 2
   },
   "file_extension": ".py",
   "mimetype": "text/x-python",
   "name": "python",
   "nbconvert_exporter": "python",
   "pygments_lexer": "ipython2",
   "version": "2.7.6"
  }
 },
 "nbformat": 4,
 "nbformat_minor": 2
}
