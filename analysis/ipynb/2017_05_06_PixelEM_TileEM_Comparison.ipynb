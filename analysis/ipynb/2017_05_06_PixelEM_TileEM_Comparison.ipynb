{
 "cells": [
  {
   "cell_type": "code",
   "execution_count": 28,
   "metadata": {},
   "outputs": [
    {
     "name": "stdout",
     "output_type": "stream",
     "text": [
      "Populating the interactive namespace from numpy and matplotlib\n"
     ]
    }
   ],
   "source": [
    "%pylab inline"
   ]
  },
  {
   "cell_type": "code",
   "execution_count": 3,
   "metadata": {},
   "outputs": [
    {
     "name": "stdout",
     "output_type": "stream",
     "text": [
      "/home/jlee782/crowd-seg/analysis/TileEM\n"
     ]
    }
   ],
   "source": [
    "cd ../TileEM/"
   ]
  },
  {
   "cell_type": "code",
   "execution_count": 10,
   "metadata": {},
   "outputs": [
    {
     "name": "stdout",
     "output_type": "stream",
     "text": [
      "/home/jlee782/crowd-seg/analysis/TileEM/pixel_em\n"
     ]
    }
   ],
   "source": [
    "cd ../pixel_em/"
   ]
  },
  {
   "cell_type": "code",
   "execution_count": 12,
   "metadata": {
    "collapsed": true
   },
   "outputs": [],
   "source": [
    "import pandas as pd"
   ]
  },
  {
   "cell_type": "code",
   "execution_count": 47,
   "metadata": {
    "collapsed": true
   },
   "outputs": [],
   "source": [
    "PR_tbl = pd.read_csv(\"full_PR_table.csv\")"
   ]
  },
  {
   "cell_type": "code",
   "execution_count": 15,
   "metadata": {},
   "outputs": [
    {
     "data": {
      "text/plain": [
       "num_workers     12.333333\n",
       "sample_num       2.933333\n",
       "objid           24.000000\n",
       "MV_precision     0.923356\n",
       "MV_recall        0.927232\n",
       "EM_precision     0.922656\n",
       "EM_recall        0.928828\n",
       "dtype: float64"
      ]
     },
     "execution_count": 15,
     "metadata": {},
     "output_type": "execute_result"
    }
   ],
   "source": [
    "PR_tbl.mean()"
   ]
  },
  {
   "cell_type": "code",
   "execution_count": 66,
   "metadata": {
    "collapsed": true
   },
   "outputs": [],
   "source": [
    "PR_pixelEM = pd.read_csv(\"full_PR_table.csv\")"
   ]
  },
  {
   "cell_type": "code",
   "execution_count": 67,
   "metadata": {
    "collapsed": true
   },
   "outputs": [],
   "source": [
    "thres_lst = list(set(PR_tbl.thresh))"
   ]
  },
  {
   "cell_type": "code",
   "execution_count": 73,
   "metadata": {},
   "outputs": [
    {
     "name": "stdout",
     "output_type": "stream",
     "text": [
      "Thres: -4\n",
      "0.907867744268 0.942336226818\n",
      "Thres: -2\n",
      "0.918493037599 0.933428418656\n",
      "Thres: 0\n",
      "0.922655837765 0.928828076539\n",
      "Thres: 2\n",
      "0.926256715301 0.924138549868\n",
      "Thres: 4\n",
      "0.934107514295 0.912167566261\n"
     ]
    }
   ],
   "source": [
    "for thresh in sorted(thres_lst):\n",
    "    print \"Thres:\",thresh\n",
    "\n",
    "    PR_pixelEMi =PR_pixelEM[(PR_pixelEM[\"thresh\"]==thresh)]\n",
    "    PixelEMP= PR_pixelEMi[\"EM_precision\"].mean()\n",
    "\n",
    "    PixelEMR= PR_pixelEMi[\"EM_recall\"].mean()\n",
    "    #print len(PR_pixelEMi[\"EM_recall\"])\n",
    "    print PixelEMP,PixelEMR"
   ]
  },
  {
   "cell_type": "code",
   "execution_count": 71,
   "metadata": {},
   "outputs": [
    {
     "name": "stdout",
     "output_type": "stream",
     "text": [
      "/home/jlee782/crowd-seg/analysis/TileEM\n"
     ]
    }
   ],
   "source": [
    "cd ../"
   ]
  },
  {
   "cell_type": "code",
   "execution_count": 72,
   "metadata": {},
   "outputs": [
    {
     "ename": "NameError",
     "evalue": "name 'Nworker' is not defined",
     "output_type": "error",
     "traceback": [
      "\u001b[0;31m---------------------------------------------------------------------------\u001b[0m",
      "\u001b[0;31mNameError\u001b[0m                                 Traceback (most recent call last)",
      "\u001b[0;32m<ipython-input-72-ade4aee8c40d>\u001b[0m in \u001b[0;36m<module>\u001b[0;34m()\u001b[0m\n\u001b[1;32m      1\u001b[0m \u001b[0mPR_pixelEM\u001b[0m \u001b[0;34m=\u001b[0m \u001b[0mpd\u001b[0m\u001b[0;34m.\u001b[0m\u001b[0mread_csv\u001b[0m\u001b[0;34m(\u001b[0m\u001b[0;34m\"pixel_em/full_PR_table.csv\"\u001b[0m\u001b[0;34m)\u001b[0m\u001b[0;34m\u001b[0m\u001b[0m\n\u001b[0;32m----> 2\u001b[0;31m \u001b[0mPR_pixelEMi\u001b[0m \u001b[0;34m=\u001b[0m\u001b[0mPR_pixelEM\u001b[0m\u001b[0;34m[\u001b[0m\u001b[0;34m(\u001b[0m\u001b[0mPR_pixelEM\u001b[0m\u001b[0;34m[\u001b[0m\u001b[0;34m\"num_workers\"\u001b[0m\u001b[0;34m]\u001b[0m\u001b[0;34m==\u001b[0m\u001b[0mNworker\u001b[0m\u001b[0;34m)\u001b[0m\u001b[0;34m&\u001b[0m\u001b[0;34m(\u001b[0m\u001b[0mPR_pixelEM\u001b[0m\u001b[0;34m[\u001b[0m\u001b[0;34m\"sample_num\"\u001b[0m\u001b[0;34m]\u001b[0m\u001b[0;34m==\u001b[0m\u001b[0mbatch_num\u001b[0m\u001b[0;34m)\u001b[0m\u001b[0;34m&\u001b[0m\u001b[0;34m(\u001b[0m\u001b[0mPR_pixelEM\u001b[0m\u001b[0;34m[\u001b[0m\u001b[0;34m\"objid\"\u001b[0m\u001b[0;34m]\u001b[0m\u001b[0;34m==\u001b[0m\u001b[0mobjid\u001b[0m\u001b[0;34m)\u001b[0m\u001b[0;34m&\u001b[0m\u001b[0;34m(\u001b[0m\u001b[0mPR_pixelEM\u001b[0m\u001b[0;34m[\u001b[0m\u001b[0;34m\"thresh\"\u001b[0m\u001b[0;34m]\u001b[0m\u001b[0;34m==\u001b[0m\u001b[0mthresh\u001b[0m\u001b[0;34m)\u001b[0m\u001b[0;34m]\u001b[0m\u001b[0;34m\u001b[0m\u001b[0m\n\u001b[0m\u001b[1;32m      3\u001b[0m \u001b[0mPixelEMP\u001b[0m\u001b[0;34m=\u001b[0m \u001b[0mPR_pixelEMi\u001b[0m\u001b[0;34m[\u001b[0m\u001b[0;34m\"EM_precision\"\u001b[0m\u001b[0;34m]\u001b[0m\u001b[0;34m\u001b[0m\u001b[0m\n\u001b[1;32m      4\u001b[0m \u001b[0mPixelEMR\u001b[0m\u001b[0;34m=\u001b[0m \u001b[0mPR_pixelEMi\u001b[0m\u001b[0;34m[\u001b[0m\u001b[0;34m\"EM_recall\"\u001b[0m\u001b[0;34m]\u001b[0m\u001b[0;34m\u001b[0m\u001b[0m\n\u001b[1;32m      5\u001b[0m \u001b[0;32mprint\u001b[0m \u001b[0mPixelEMP\u001b[0m\u001b[0;34m,\u001b[0m\u001b[0mPixelEMR\u001b[0m\u001b[0;34m\u001b[0m\u001b[0m\n",
      "\u001b[0;31mNameError\u001b[0m: name 'Nworker' is not defined"
     ]
    }
   ],
   "source": [
    "PR_pixelEM = pd.read_csv(\"pixel_em/full_PR_table.csv\")\n",
    "PR_pixelEMi =PR_pixelEM[(PR_pixelEM[\"num_workers\"]==Nworker)&(PR_pixelEM[\"sample_num\"]==batch_num)&\\\n",
    "(PR_pixelEM[\"objid\"]==objid)&(PR_pixelEM[\"thresh\"]==thresh)]\n",
    "PixelEMP= PR_pixelEMi[\"EM_precision\"] \n",
    "PixelEMR= PR_pixelEMi[\"EM_recall\"]\n",
    "print PixelEMP,PixelEMR"
   ]
  },
  {
   "cell_type": "code",
   "execution_count": 29,
   "metadata": {},
   "outputs": [
    {
     "data": {
      "text/plain": [
       "num_workers     11.265331\n",
       "sample_num       3.104163\n",
       "objid           23.842114\n",
       "thresh           0.108136\n",
       "MV_precision     0.924038\n",
       "MV_recall        0.925455\n",
       "EM_precision     0.921843\n",
       "EM_recall        0.926570\n",
       "dtype: float64"
      ]
     },
     "execution_count": 29,
     "metadata": {},
     "output_type": "execute_result"
    }
   ],
   "source": [
    "PR_tbl.mean()"
   ]
  },
  {
   "cell_type": "markdown",
   "metadata": {},
   "source": [
    "- compute jaccard"
   ]
  },
  {
   "cell_type": "code",
   "execution_count": null,
   "metadata": {
    "collapsed": true
   },
   "outputs": [],
   "source": []
  }
 ],
 "metadata": {
  "kernelspec": {
   "display_name": "Python 2",
   "language": "python",
   "name": "python2"
  },
  "language_info": {
   "codemirror_mode": {
    "name": "ipython",
    "version": 2
   },
   "file_extension": ".py",
   "mimetype": "text/x-python",
   "name": "python",
   "nbconvert_exporter": "python",
   "pygments_lexer": "ipython2",
   "version": "2.7.6"
  }
 },
 "nbformat": 4,
 "nbformat_minor": 2
}
