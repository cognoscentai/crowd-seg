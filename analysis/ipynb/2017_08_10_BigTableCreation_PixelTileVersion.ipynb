{
 "cells": [
  {
   "cell_type": "code",
   "execution_count": 1,
   "metadata": {},
   "outputs": [
    {
     "name": "stdout",
     "output_type": "stream",
     "text": [
      "/srv/data/home/jlee782/crowd-seg/analysis/TileEM\n"
     ]
    }
   ],
   "source": [
    "cd ../TileEM/"
   ]
  },
  {
   "cell_type": "code",
   "execution_count": 2,
   "metadata": {},
   "outputs": [
    {
     "name": "stdout",
     "output_type": "stream",
     "text": [
      "Populating the interactive namespace from numpy and matplotlib\n"
     ]
    }
   ],
   "source": [
    "%pylab inline\n",
    "%load_ext autoreload\n",
    "%autoreload 2\n",
    "from paper_visualizations import * \n",
    "from PixelEM import * \n",
    "from test_sample import test_sample_obj\n",
    "import json\n",
    "import pandas as pd\n",
    "object_lst = [1, 2, 3, 4, 5, 6, 7, 8, 9, 10, 11, 12, 13, 14, 15, 16, 17, 18, 19, 20, 21, 22, 23, 24, 25, 26, 27, 28, 29, 30, 31, 32, 33, 34, 36, 37, 38, 39, 42, 43, 44, 45, 46, 47]"
   ]
  },
  {
   "cell_type": "markdown",
   "metadata": {},
   "source": [
    "The tiles are generated from the new PixTile algorithm"
   ]
  },
  {
   "cell_type": "code",
   "execution_count": 3,
   "metadata": {
    "collapsed": true
   },
   "outputs": [],
   "source": [
    "tiles = pkl.load(open(\"pixel_em/10workers_rand0/obj1/tiles.pkl\"))"
   ]
  },
  {
   "cell_type": "markdown",
   "metadata": {},
   "source": [
    "# all_tile_info.csv\n",
    "- [batch, objid, workerID, tileID, tile area, tile overlap with GT]"
   ]
  },
  {
   "cell_type": "code",
   "execution_count": 4,
   "metadata": {
    "collapsed": true
   },
   "outputs": [],
   "source": [
    "from runAreaMask import * "
   ]
  },
  {
   "cell_type": "code",
   "execution_count": 5,
   "metadata": {
    "collapsed": true
   },
   "outputs": [],
   "source": [
    "def pix_intersection_area(mask1,mask2):\n",
    "    return len(np.where((mask1==mask2)&(mask1==1)&(mask2==1))[0])"
   ]
  },
  {
   "cell_type": "code",
   "execution_count": 49,
   "metadata": {},
   "outputs": [
    {
     "name": "stderr",
     "output_type": "stream",
     "text": [
      "                                             \r"
     ]
    }
   ],
   "source": [
    "tile_tbl =[]\n",
    "for batch in tqdm(['5workers_rand0','10workers_rand0','15workers_rand0','20workers_rand0','25workers_rand0','30workers_rand0']):\n",
    "    for objid in object_lst:\n",
    "        #print \"batch: {}; obj{}\".format(batch,objid)\n",
    "        gt = get_gt_mask(objid)\n",
    "        #try:\n",
    "        tiles = pkl.load(open(\"pixel_em/{}/obj{}/tiles.pkl\".format(batch,objid)))\n",
    "        tarea_lst = []\n",
    "        tidx=0\n",
    "        for tile in tiles:\n",
    "            tarea = len(tile)\n",
    "            tarea_lst.append(tarea)\n",
    "            tmap = np.zeros_like(gt)\n",
    "            for tid in tile: \n",
    "                tmap[tid]=1\n",
    "            overlap_area  = pix_intersection_area(tmap,gt)\n",
    "            tile_tbl.append([batch,objid,tidx,tarea,overlap_area])\n",
    "            tidx+=1\n",
    "        #outside_area  = np.product(np.shape(gt))-sum(tarea_lst)\n",
    "        #tile_tbl.append([batch,objid,tidx,outside_area,0])\n",
    "#         except(ValueError):\n",
    "#             print \"BAD\"\n",
    "#             print \"batch: {}; obj{}\".format(batch,objid)"
   ]
  },
  {
   "cell_type": "code",
   "execution_count": 54,
   "metadata": {
    "collapsed": true
   },
   "outputs": [],
   "source": [
    "tile_tbl = pd.DataFrame(tile_tbl,columns=[\"batch\",\"objid\",\"tile id\",\"tile area\", \"gt overlap area\"])\n",
    "dedup_tile_tbl = tile_tbl.drop_duplicates()\n",
    "dedup_tile_tbl.to_csv(\"all_pixel_tile_info.csv\")"
   ]
  },
  {
   "cell_type": "code",
   "execution_count": 55,
   "metadata": {},
   "outputs": [
    {
     "data": {
      "text/plain": [
       "(341371, 5)"
      ]
     },
     "execution_count": 55,
     "metadata": {},
     "output_type": "execute_result"
    }
   ],
   "source": [
    "shape(tile_tbl)"
   ]
  },
  {
   "cell_type": "markdown",
   "metadata": {},
   "source": [
    "------------------------------------------------------------------------------------------------------------------------------"
   ]
  },
  {
   "cell_type": "markdown",
   "metadata": {},
   "source": [
    "# Worker Tile Table "
   ]
  },
  {
   "cell_type": "code",
   "execution_count": 23,
   "metadata": {
    "collapsed": true
   },
   "outputs": [],
   "source": [
    "from runAreaMask import * \n",
    "from skimage import measure\n",
    "from matplotlib import _cntr as cntr"
   ]
  },
  {
   "cell_type": "code",
   "execution_count": 32,
   "metadata": {},
   "outputs": [
    {
     "name": "stderr",
     "output_type": "stream",
     "text": [
      "                                             \r"
     ]
    }
   ],
   "source": [
    "worker_tile_tbl = []\n",
    "for batch in tqdm(['5workers_rand0','10workers_rand0','15workers_rand0','20workers_rand0','25workers_rand0','30workers_rand0']):\n",
    "    Nworker = int(batch.split('workers')[0])\n",
    "    batch_num = int(batch.split('rand')[-1])\n",
    "    for objid in object_lst:\n",
    "#         print \"batch: {}; obj{}\".format(batch,objid)\n",
    "        gt = get_gt_mask(objid)\n",
    "        mega_mask = pkl.load(open('pixel_em/{}/obj{}/mega_mask.pkl'.format(batch,objid)))\n",
    "        voted_workers_mask = pkl.load(open('pixel_em/{}/obj{}/voted_workers_mask.pkl'.format(batch,objid)))\n",
    "        unique_tile_values = np.unique(mega_mask)\n",
    "        tidx=0\n",
    "        tiles = pkl.load(open(\"pixel_em/{}/obj{}/tiles.pkl\".format(batch,objid)))\n",
    "        for tile in tiles:\n",
    "            tarea = len(tile)\n",
    "            tarea_lst.append(tarea)\n",
    "            tmap = np.zeros_like(gt)\n",
    "            for tid in tile: \n",
    "                tmap[tid]=1\n",
    "            worker_lst = list(set([item for sublist in voted_workers_mask[tmap] if sublist!=0 for item in sublist]))\n",
    "            for worker_id in worker_lst:\n",
    "                worker_tile_tbl.append([batch,objid,worker_id,tidx])\n",
    "            tidx+=1"
   ]
  },
  {
   "cell_type": "code",
   "execution_count": 56,
   "metadata": {},
   "outputs": [
    {
     "data": {
      "text/plain": [
       "(3580061, 4)"
      ]
     },
     "execution_count": 56,
     "metadata": {},
     "output_type": "execute_result"
    }
   ],
   "source": [
    "shape(worker_tile_tbl)"
   ]
  },
  {
   "cell_type": "code",
   "execution_count": 57,
   "metadata": {
    "collapsed": true
   },
   "outputs": [],
   "source": [
    "worker_tile_tbl = pd.DataFrame(worker_tile_tbl,columns=[\"batch\",\"objid\",\"worker id\",\"tile id\"])\n",
    "dedup_worker_tile_tbl = worker_tile_tbl.drop_duplicates()\n",
    "dedup_worker_tile_tbl.to_csv(\"all_pixel_worker_tile_info.csv\")"
   ]
  },
  {
   "cell_type": "markdown",
   "metadata": {},
   "source": [
    "``all_worker_response_info.csv`` and ``all_object_info.csv`` unchanged, ``all_object_batch_info.csv`` is only slightly affected"
   ]
  },
  {
   "cell_type": "code",
   "execution_count": 52,
   "metadata": {},
   "outputs": [
    {
     "name": "stdout",
     "output_type": "stream",
     "text": [
      "[0, 1, 2, 3, 4, 5, 6, 7, 8, 9, 10, 11, 12, 13, 14, 15, 16, 17, 18, 19, 20, 21, 22, 23, 24, 25, 26, 27, 28, 29, 30, 31, 32, 33, 34, 35, 36, 37, 38, 39, 40, 41, 42, 43, 44, 45, 46, 47, 48, 49, 50, 51, 52, 53, 54, 55, 56, 57, 58, 59, 60, 61, 62, 63, 64, 65, 66, 67, 68, 69, 70, 71, 72, 73, 74, 75, 76, 77, 78, 79, 80, 81, 82, 83, 84, 85, 86, 87, 88, 89, 90, 91, 92, 93, 94, 95, 96, 97, 98, 99, 100, 101, 102, 103, 104, 105, 106, 107, 108, 109, 110, 111, 112, 113, 114, 115, 116, 117, 118, 119, 120, 121, 122, 123, 124, 125, 126, 127, 128, 129, 130, 131, 132, 133, 134, 135, 136, 137, 138, 139, 140, 141, 142, 143, 144, 145, 146, 147, 148, 149, 150, 151, 152, 153, 154, 155, 156, 157, 158, 159, 160, 161, 162, 163, 164, 165, 166, 167, 168, 169, 170, 171, 172, 173, 174, 175, 176, 177, 178, 179, 180, 181, 182, 183, 184, 185, 186, 187, 188, 189, 190, 191, 192, 193, 194, 195, 196, 197, 198, 199, 200, 201, 202, 203, 204, 205, 206, 207, 208, 209, 210, 211, 212, 213, 214, 215, 216, 217, 218, 219, 220, 221, 222, 223, 224, 225, 226, 227, 228, 229, 230, 231, 232, 233, 234, 235, 236, 237, 238, 239, 240, 241, 242, 243]\n"
     ]
    }
   ],
   "source": [
    "print list(set(dedup_tile_tbl[(dedup_tile_tbl[\"batch\"]=='5workers_rand0')&(dedup_tile_tbl[\"objid\"]==10)][\"tile id\"]))"
   ]
  },
  {
   "cell_type": "code",
   "execution_count": 53,
   "metadata": {},
   "outputs": [
    {
     "name": "stdout",
     "output_type": "stream",
     "text": [
      "[1, 2, 3, 4, 5, 6, 7, 8, 9, 10, 11, 12, 13, 14, 15, 16, 17, 18, 19, 20, 21, 22, 23, 24, 25, 26, 27, 28, 29, 30, 31, 32, 33, 34, 35, 36, 37, 38, 39, 40, 41, 42, 43, 44, 45, 46, 47, 48, 49, 50, 51, 52, 53, 54, 55, 56, 57, 58, 59, 60, 61, 62, 63, 64, 65, 66, 67, 68, 69, 70, 71, 72, 73, 74, 75, 76, 77, 78, 79, 80, 81, 82, 83, 84, 85, 86, 87, 88, 89, 90, 91, 92, 93, 94, 95, 96, 97, 98, 99, 100, 101, 102, 103, 104, 105, 106, 107, 108, 109, 110, 111, 112, 113, 114, 115, 116, 117, 118, 119, 120, 121, 122, 123, 124, 125, 126, 127, 128, 129, 130, 131, 132, 133, 134, 135, 136, 137, 138, 139, 140, 141, 142, 143, 144, 145, 146, 147, 148, 149, 150, 151, 152, 153, 154, 155, 156, 157, 158, 159, 160, 161, 162, 163, 164, 165, 166, 167, 168, 169, 170, 171, 172, 173, 174, 175, 176, 177, 178, 179, 180, 181, 182, 183, 184, 185, 186, 187, 188, 189, 190, 191, 192, 193, 194, 195, 196, 197, 198, 199, 200, 201, 202, 203, 204, 205, 206, 207, 208, 209, 210, 211, 212, 213, 214, 215, 216, 217, 218, 219, 220, 221, 222, 223, 224, 225, 226, 227, 228, 229, 230, 231, 232, 233, 234, 235, 236, 237, 238, 239, 240, 241, 242, 243]\n"
     ]
    }
   ],
   "source": [
    "print list(set(dedup_worker_tile_tbl[(dedup_worker_tile_tbl[\"batch\"]=='5workers_rand0')&(dedup_worker_tile_tbl[\"objid\"]==10)][\"tile id\"]))"
   ]
  },
  {
   "cell_type": "code",
   "execution_count": null,
   "metadata": {
    "collapsed": true
   },
   "outputs": [],
   "source": []
  }
 ],
 "metadata": {
  "kernelspec": {
   "display_name": "Python 2",
   "language": "python",
   "name": "python2"
  },
  "language_info": {
   "codemirror_mode": {
    "name": "ipython",
    "version": 2
   },
   "file_extension": ".py",
   "mimetype": "text/x-python",
   "name": "python",
   "nbconvert_exporter": "python",
   "pygments_lexer": "ipython2",
   "version": "2.7.6"
  }
 },
 "nbformat": 4,
 "nbformat_minor": 2
}
