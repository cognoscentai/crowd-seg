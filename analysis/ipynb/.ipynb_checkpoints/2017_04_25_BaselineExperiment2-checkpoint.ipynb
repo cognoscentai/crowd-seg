{
 "cells": [
  {
   "cell_type": "code",
   "execution_count": 1,
   "metadata": {},
   "outputs": [
    {
     "name": "stdout",
     "output_type": "stream",
     "text": [
      "Populating the interactive namespace from numpy and matplotlib\n"
     ]
    }
   ],
   "source": [
    "%pylab inline"
   ]
  },
  {
   "cell_type": "code",
   "execution_count": 2,
   "metadata": {},
   "outputs": [
    {
     "name": "stdout",
     "output_type": "stream",
     "text": [
      "/home/jlee782/crowd-seg/analysis/TileEM\n"
     ]
    }
   ],
   "source": [
    "cd ../TileEM/"
   ]
  },
  {
   "cell_type": "code",
   "execution_count": 3,
   "metadata": {
    "collapsed": true
   },
   "outputs": [],
   "source": [
    "from TileEM_plot_toolbox import *\n",
    "from qualityBaseline import *"
   ]
  },
  {
   "cell_type": "code",
   "execution_count": 12,
   "metadata": {
    "collapsed": true
   },
   "outputs": [],
   "source": [
    "from glob import glob"
   ]
  },
  {
   "cell_type": "code",
   "execution_count": 17,
   "metadata": {
    "collapsed": true
   },
   "outputs": [],
   "source": [
    "worker_Nbatches={5:10,10:8,15:6,20:4,25:2,30:1}"
   ]
  },
  {
   "cell_type": "code",
   "execution_count": 19,
   "metadata": {
    "collapsed": true
   },
   "outputs": [],
   "source": [
    "sampleN_lst=worker_Nbatches.keys()"
   ]
  },
  {
   "cell_type": "code",
   "execution_count": 22,
   "metadata": {},
   "outputs": [
    {
     "name": "stdout",
     "output_type": "stream",
     "text": [
      "5worker_rand0\n",
      "5worker_rand1\n",
      "5worker_rand2\n",
      "5worker_rand3\n",
      "5worker_rand4\n",
      "5worker_rand5\n",
      "5worker_rand6\n",
      "5worker_rand7\n",
      "5worker_rand8\n",
      "5worker_rand9\n",
      "10worker_rand0\n",
      "10worker_rand1\n",
      "10worker_rand2\n",
      "10worker_rand3\n",
      "10worker_rand4\n",
      "10worker_rand5\n",
      "10worker_rand6\n",
      "10worker_rand7\n",
      "15worker_rand0\n",
      "15worker_rand1\n",
      "15worker_rand2\n",
      "15worker_rand3\n",
      "15worker_rand4\n",
      "15worker_rand5\n",
      "20worker_rand0\n",
      "20worker_rand1\n",
      "20worker_rand2\n",
      "20worker_rand3\n",
      "25worker_rand0\n",
      "25worker_rand1\n",
      "30worker_rand0\n"
     ]
    }
   ],
   "source": [
    "for Nworker in sampleN_lst:\n",
    "    for batch_num in range(worker_Nbatches[Nworker]):\n",
    "        dir_name = \"{0}worker_rand{1}\".format(Nworker,batch_num)\n",
    "        print dir_name\n",
    "        "
   ]
  },
  {
   "cell_type": "code",
   "execution_count": 16,
   "metadata": {},
   "outputs": [
    {
     "data": {
      "text/plain": [
       "['sample/TileEM_plot_toolbox.py',\n",
       " 'sample/main.py',\n",
       " 'sample/runIndicatorMat.py',\n",
       " 'sample/main.pyc',\n",
       " 'sample/TileEM_plot_toolbox.pyc',\n",
       " 'sample/nohup.out',\n",
       " 'sample/15worker_rand3',\n",
       " 'sample/15worker_rand4',\n",
       " 'sample/20worker_rand0',\n",
       " 'sample/20worker_rand1',\n",
       " 'sample/20worker_rand2',\n",
       " 'sample/20worker_rand3',\n",
       " 'sample/25worker_rand0',\n",
       " 'sample/25worker_rand1',\n",
       " 'sample/30worker_rand0',\n",
       " 'sample/15worker_rand5',\n",
       " 'sample/sampling.sh',\n",
       " 'sample/5worker_rand0',\n",
       " 'sample/10worker_rand0',\n",
       " 'sample/10worker_rand1',\n",
       " 'sample/10worker_rand2',\n",
       " 'sample/10worker_rand3',\n",
       " 'sample/10worker_rand4',\n",
       " 'sample/10worker_rand5',\n",
       " 'sample/15worker_rand0',\n",
       " 'sample/15worker_rand1',\n",
       " 'sample/15worker_rand2',\n",
       " 'sample/sampling2.sh',\n",
       " 'sample/10worker_rand7',\n",
       " 'sample/5worker_rand2',\n",
       " 'sample/5worker_rand4',\n",
       " 'sample/5worker_rand6',\n",
       " 'sample/5worker_rand8',\n",
       " 'sample/10worker_rand6',\n",
       " 'sample/5worker_rand1',\n",
       " 'sample/5worker_rand3',\n",
       " 'sample/5worker_rand5',\n",
       " 'sample/5worker_rand7',\n",
       " 'sample/5worker_rand9']"
      ]
     },
     "execution_count": 16,
     "metadata": {},
     "output_type": "execute_result"
    }
   ],
   "source": [
    "glob(\"sample/*\")"
   ]
  },
  {
   "cell_type": "code",
   "execution_count": 7,
   "metadata": {
    "collapsed": true
   },
   "outputs": [],
   "source": [
    "# Summarization-Based Method \n",
    "# Creating 2 empty precision recall table containing P,R for each metric used \n",
    "cols = [u'Num Points',u'Area Ratio',u'Jaccard [Self]', u'Precision [Self]', u'Recall [Self]']\n",
    "index = list(set(df.object_id))\n",
    "\n",
    "precision_df = pd.DataFrame(index=index,columns=cols)\n",
    "recall_df = pd.DataFrame(index=index,columns=cols)"
   ]
  },
  {
   "cell_type": "code",
   "execution_count": 56,
   "metadata": {},
   "outputs": [
    {
     "name": "stdout",
     "output_type": "stream",
     "text": [
      "/home/jlee782/crowd-seg/analysis/TileEM\n"
     ]
    }
   ],
   "source": [
    "cd ../../"
   ]
  },
  {
   "cell_type": "code",
   "execution_count": 57,
   "metadata": {
    "collapsed": true
   },
   "outputs": [],
   "source": [
    "from collections import OrderedDict\n",
    "df = pd.read_csv(\"../computed_my_COCO_BBvals.csv\",index_col=0)"
   ]
  },
  {
   "cell_type": "code",
   "execution_count": 58,
   "metadata": {},
   "outputs": [],
   "source": [
    "os.chdir(\"sample/5worker_rand0\")"
   ]
  },
  {
   "cell_type": "code",
   "execution_count": null,
   "metadata": {},
   "outputs": [],
   "source": [
    "for objid in object_lst:\n",
    "    workers=pkl.load(open(\"worker{}.pkl\".format(objid)))\n",
    "    filtered_df = df[df[\"worker_id\"].isin(workers)] #only look at summarization scores of sampled workers\n",
    "    filtered_df.ix[filtered_df[\"Precision [Self]\"]>1,\"Precision [Self]\"]=1\n",
    "    filtered_df.ix[df[\"Recall [Self]\"]>1,\"Recall [Self]\"]=1\n",
    "    df_noBBG = filtered_df[~(filtered_df[\"worker_id\"].isin([1,2,3]))] #Filter our ground truth workers\n",
    "    #attr=\"Jaccard [Self]\"# select best BB based on the worker with the highest scoring  atttr metric\n",
    "\n",
    "#     for attr in cols: \n",
    "#         idx = df_noBBG.groupby(\"object_id\")[attr].transform(max) == df_noBBG[attr]\n",
    "#         best_BBs = df_noBBG[idx] #best BBs based on these metrics\n",
    "#     #     if len(best_BBs)!= len(workers):\n",
    "#         #Average our the percision recall of duplicate best BBs \n",
    "#         best_BBs = best_BBs.groupby(\"object_id\")[\"Recall [Self]\",\"Precision [Self]\"].mean().reset_index()\n",
    "#         best_BBs_recall = list(best_BBs[\"Recall [Self]\"])\n",
    "#         best_BBs_precision =  list(best_BBs[\"Precision [Self]\"])\n",
    "#         #try:\n",
    "#         #add it to the large table \n",
    "#         precision_df[attr] = best_BBs_precision\n",
    "#         recall_df[attr] = best_BBs_recall\n",
    "#         except(ValueError):\n",
    "#             print attr\n",
    "#             print len(best_BBs_recall)\n",
    "#             print len(best_BBs_precision)"
   ]
  },
  {
   "cell_type": "code",
   "execution_count": 55,
   "metadata": {},
   "outputs": [
    {
     "data": {
      "text/html": [
       "<div>\n",
       "<table border=\"1\" class=\"dataframe\">\n",
       "  <thead>\n",
       "    <tr style=\"text-align: right;\">\n",
       "      <th></th>\n",
       "      <th>object_id</th>\n",
       "      <th>worker_id</th>\n",
       "      <th>x_locs</th>\n",
       "      <th>y_locs</th>\n",
       "      <th>Num Points</th>\n",
       "      <th>Area Ratio</th>\n",
       "      <th>Jaccard [Self]</th>\n",
       "      <th>Precision [Self]</th>\n",
       "      <th>Recall [Self]</th>\n",
       "      <th>Munkres Euclidean [Self]</th>\n",
       "      <th>Jaccard [COCO]</th>\n",
       "      <th>Precision [COCO]</th>\n",
       "      <th>Recall [COCO]</th>\n",
       "      <th>Munkres Euclidean [COCO]</th>\n",
       "      <th>NME [COCO]</th>\n",
       "      <th>NME [Self]</th>\n",
       "    </tr>\n",
       "  </thead>\n",
       "  <tbody>\n",
       "  </tbody>\n",
       "</table>\n",
       "</div>"
      ],
      "text/plain": [
       "Empty DataFrame\n",
       "Columns: [object_id, worker_id, x_locs, y_locs, Num Points, Area Ratio, Jaccard [Self], Precision [Self], Recall [Self], Munkres Euclidean [Self], Jaccard [COCO], Precision [COCO], Recall [COCO], Munkres Euclidean [COCO], NME [COCO], NME [Self]]\n",
       "Index: []"
      ]
     },
     "execution_count": 55,
     "metadata": {},
     "output_type": "execute_result"
    }
   ],
   "source": [
    "df_noBBG"
   ]
  },
  {
   "cell_type": "code",
   "execution_count": 52,
   "metadata": {},
   "outputs": [
    {
     "data": {
      "text/plain": [
       "0"
      ]
     },
     "execution_count": 52,
     "metadata": {},
     "output_type": "execute_result"
    }
   ],
   "source": [
    "len(best_BBs_recall)"
   ]
  },
  {
   "cell_type": "code",
   "execution_count": 43,
   "metadata": {},
   "outputs": [
    {
     "data": {
      "text/plain": [
       "5"
      ]
     },
     "execution_count": 43,
     "metadata": {},
     "output_type": "execute_result"
    }
   ],
   "source": [
    "len(workers)"
   ]
  },
  {
   "cell_type": "code",
   "execution_count": 42,
   "metadata": {},
   "outputs": [
    {
     "data": {
      "text/plain": [
       "45"
      ]
     },
     "execution_count": 42,
     "metadata": {},
     "output_type": "execute_result"
    }
   ],
   "source": [
    "len(best_BBs)"
   ]
  },
  {
   "cell_type": "code",
   "execution_count": 96,
   "metadata": {
    "collapsed": true
   },
   "outputs": [],
   "source": [
    "visionPR = pd.read_csv(\"../../Image-Segmentation/Vision-stuff/vision-baseline/PR.csv\")"
   ]
  },
  {
   "cell_type": "code",
   "execution_count": 97,
   "metadata": {
    "collapsed": true
   },
   "outputs": [],
   "source": [
    "precision_df[\"Vision\"] = visionPR[\"precision\"]\n",
    "recall_df[\"Vision\"] = visionPR[\"recall\"]"
   ]
  },
  {
   "cell_type": "code",
   "execution_count": 101,
   "metadata": {},
   "outputs": [
    {
     "data": {
      "text/plain": [
       "Num Points          0.707535\n",
       "Area Ratio          0.559025\n",
       "Jaccard [Self]      0.954470\n",
       "Precision [Self]    0.979881\n",
       "Recall [Self]       0.729465\n",
       "Vision              0.905204\n",
       "dtype: float64"
      ]
     },
     "execution_count": 101,
     "metadata": {},
     "output_type": "execute_result"
    }
   ],
   "source": [
    "precision_df.mean()"
   ]
  },
  {
   "cell_type": "code",
   "execution_count": 99,
   "metadata": {},
   "outputs": [
    {
     "data": {
      "text/plain": [
       "Num Points          0.843395\n",
       "Area Ratio          0.870589\n",
       "Jaccard [Self]      0.950287\n",
       "Precision [Self]    0.757573\n",
       "Recall [Self]       0.989135\n",
       "Vision              0.736919\n",
       "dtype: float64"
      ]
     },
     "execution_count": 99,
     "metadata": {},
     "output_type": "execute_result"
    }
   ],
   "source": [
    "recall_df.mean()"
   ]
  },
  {
   "cell_type": "code",
   "execution_count": 103,
   "metadata": {
    "collapsed": true
   },
   "outputs": [],
   "source": [
    "from tabulate import tabulate"
   ]
  },
  {
   "cell_type": "code",
   "execution_count": 134,
   "metadata": {},
   "outputs": [
    {
     "name": "stdout",
     "output_type": "stream",
     "text": [
      "[[0.70753547589361709, 0.5590247110212766, 0.95446982951063797, 0.97988143444680853, 0.72946534988747957, 0.90520449921850243], [0.84339502145744694, 0.87058918721276601, 0.95028722610638316, 0.75757326877912845, 0.98913499846808495, 0.73691887132975531]]\n"
     ]
    }
   ],
   "source": [
    "print [list(precision_df.mean().as_matrix()),list(recall_df.mean().as_matrix())]"
   ]
  },
  {
   "cell_type": "code",
   "execution_count": 143,
   "metadata": {
    "collapsed": true
   },
   "outputs": [],
   "source": [
    "tbl = pd.DataFrame([list(precision_df.mean().as_matrix()),list(recall_df.mean().as_matrix())],columns=precision_df.keys(),index=[\"Precision\",\"Recall\"])"
   ]
  },
  {
   "cell_type": "code",
   "execution_count": 146,
   "metadata": {},
   "outputs": [
    {
     "data": {
      "text/html": [
       "<div>\n",
       "<table border=\"1\" class=\"dataframe\">\n",
       "  <thead>\n",
       "    <tr style=\"text-align: right;\">\n",
       "      <th></th>\n",
       "      <th>Num Points</th>\n",
       "      <th>Area Ratio</th>\n",
       "      <th>Jaccard [Self]</th>\n",
       "      <th>Precision [Self]</th>\n",
       "      <th>Recall [Self]</th>\n",
       "      <th>Vision</th>\n",
       "    </tr>\n",
       "  </thead>\n",
       "  <tbody>\n",
       "    <tr>\n",
       "      <th>Precision</th>\n",
       "      <td>0.707535</td>\n",
       "      <td>0.559025</td>\n",
       "      <td>0.954470</td>\n",
       "      <td>0.979881</td>\n",
       "      <td>0.729465</td>\n",
       "      <td>0.905204</td>\n",
       "    </tr>\n",
       "    <tr>\n",
       "      <th>Recall</th>\n",
       "      <td>0.843395</td>\n",
       "      <td>0.870589</td>\n",
       "      <td>0.950287</td>\n",
       "      <td>0.757573</td>\n",
       "      <td>0.989135</td>\n",
       "      <td>0.736919</td>\n",
       "    </tr>\n",
       "  </tbody>\n",
       "</table>\n",
       "</div>"
      ],
      "text/plain": [
       "           Num Points  Area Ratio  Jaccard [Self]  Precision [Self]  \\\n",
       "Precision    0.707535    0.559025        0.954470          0.979881   \n",
       "Recall       0.843395    0.870589        0.950287          0.757573   \n",
       "\n",
       "           Recall [Self]    Vision  \n",
       "Precision       0.729465  0.905204  \n",
       "Recall          0.989135  0.736919  "
      ]
     },
     "execution_count": 146,
     "metadata": {},
     "output_type": "execute_result"
    }
   ],
   "source": [
    "tbl"
   ]
  },
  {
   "cell_type": "code",
   "execution_count": 144,
   "metadata": {
    "collapsed": true
   },
   "outputs": [],
   "source": [
    "# keys = list(precision_df.keys())\n",
    "# keys.insert(0,\"Metric\")\n",
    "# p_lst = list(precision_df.mean().as_matrix())\n",
    "# p_lst.insert(0,\"Precision\")\n",
    "# r_lst = list(recall_df.mean().as_matrix())\n",
    "# r_lst.insert(0,\"Recall\")\n",
    "# tbl=[keys,p_lst,r_lst]\n",
    "# print tabulate(tbl,tablefmt='latex',floatfmt='.2f')"
   ]
  },
  {
   "cell_type": "code",
   "execution_count": 123,
   "metadata": {
    "collapsed": true
   },
   "outputs": [],
   "source": [
    "# tabulate(grouped_ji_fit[idx],showindex=\"False\",headers='keys',tablefmt='latex',floatfmt='.2f')"
   ]
  },
  {
   "cell_type": "code",
   "execution_count": 147,
   "metadata": {},
   "outputs": [
    {
     "name": "stdout",
     "output_type": "stream",
     "text": [
      "\\begin{tabular}{lrrrrrr}\n",
      "\\hline\n",
      "           &   Num Points &   Area Ratio &   Jaccard [Self] &   Precision [Self] &   Recall [Self] &   Vision \\\\\n",
      "\\hline\n",
      " Precision &         0.71 &         0.56 &             0.95 &               0.98 &            0.73 &     0.91 \\\\\n",
      " Recall    &         0.84 &         0.87 &             0.95 &               0.76 &            0.99 &     0.74 \\\\\n",
      "\\hline\n",
      "\\end{tabular}\n"
     ]
    }
   ],
   "source": [
    "print tabulate(tbl,tablefmt='latex',headers='keys',floatfmt='.2f')"
   ]
  },
  {
   "cell_type": "markdown",
   "metadata": {},
   "source": [
    "# Need to modify so that these are computed based on the selected sampled workers!"
   ]
  },
  {
   "cell_type": "code",
   "execution_count": null,
   "metadata": {
    "collapsed": true
   },
   "outputs": [],
   "source": []
  }
 ],
 "metadata": {
  "kernelspec": {
   "display_name": "Python 2",
   "language": "python",
   "name": "python2"
  },
  "language_info": {
   "codemirror_mode": {
    "name": "ipython",
    "version": 2
   },
   "file_extension": ".py",
   "mimetype": "text/x-python",
   "name": "python",
   "nbconvert_exporter": "python",
   "pygments_lexer": "ipython2",
   "version": "2.7.6"
  }
 },
 "nbformat": 4,
 "nbformat_minor": 1
}
