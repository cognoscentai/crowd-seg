{
 "cells": [
  {
   "cell_type": "code",
   "execution_count": 1,
   "metadata": {},
   "outputs": [
    {
     "name": "stdout",
     "output_type": "stream",
     "text": [
      "/srv/data/home/jlee782/crowd-seg/analysis/TileEM\n"
     ]
    }
   ],
   "source": [
    "cd ../TileEM/"
   ]
  },
  {
   "cell_type": "code",
   "execution_count": 2,
   "metadata": {},
   "outputs": [
    {
     "name": "stdout",
     "output_type": "stream",
     "text": [
      "Populating the interactive namespace from numpy and matplotlib\n"
     ]
    }
   ],
   "source": [
    "%pylab inline\n",
    "%load_ext autoreload\n",
    "%autoreload 2\n",
    "from paper_visualizations import * \n",
    "from PixelEM import * \n",
    "from test_sample import test_sample_obj\n",
    "import json\n",
    "import pandas as pd\n",
    "object_lst = [1, 2, 3, 4, 5, 6, 7, 8, 9, 10, 11, 12, 13, 14, 15, 16, 17, 18, 19, 20, 21, 22, 23, 24, 25, 26, 27, 28, 29, 30, 31, 32, 33, 34, 36, 37, 38, 39, 42, 43, 44, 45, 46, 47]"
   ]
  },
  {
   "cell_type": "code",
   "execution_count": 3,
   "metadata": {
    "collapsed": true
   },
   "outputs": [],
   "source": [
    "from runAreaMask import * \n",
    "from skimage import measure\n",
    "from matplotlib import _cntr as cntr"
   ]
  },
  {
   "cell_type": "code",
   "execution_count": 34,
   "metadata": {
    "collapsed": true
   },
   "outputs": [],
   "source": [
    "def read_all_tile_info():\n",
    "    print 'Reading all tile info...'\n",
    "    tile_info = dict()\n",
    "    with open( 'all_pixel_tile_info.csv', 'r') as csvfile:\n",
    "        reader = csv.DictReader(csvfile)\n",
    "        for row in reader:\n",
    "            batch = row['batch']\n",
    "            objid = int(row['objid'])\n",
    "            tid = int(row['tile id'])\n",
    "            t_area = float(row['tile area'])\n",
    "            int_area = float(row['gt overlap area'])\n",
    "            if batch not in tile_info:\n",
    "                tile_info[batch] = dict()\n",
    "            if objid not in tile_info[batch]:\n",
    "                tile_info[batch][objid] = dict()\n",
    "            if tid not in tile_info[batch][objid]:\n",
    "                tile_info[batch][objid][tid] = dict()\n",
    "            tile_info[batch][objid][tid]['t_area'] = t_area\n",
    "            tile_info[batch][objid][tid]['int_area'] = int_area\n",
    "    print 'Done'\n",
    "    return tile_info"
   ]
  },
  {
   "cell_type": "code",
   "execution_count": 35,
   "metadata": {
    "collapsed": true
   },
   "outputs": [],
   "source": [
    "def create_obj_area_info():\n",
    "    tile_info = read_all_tile_info()\n",
    "    with open( 'obj_area_info.csv', 'w') as csvfile:\n",
    "        obj_writer = csv.writer(csvfile, delimiter=',')\n",
    "        fields = ['batch', 'objid', 'num_tiles', 'sum_of_tile_areas', 'sum_of_int_areas','actual_gt_area','img_area']\n",
    "        obj_writer.writerow(fields)\n",
    "        for batch in tile_info:\n",
    "            for objid in tile_info[batch]:\n",
    "                gt_mask = get_gt_mask(objid)\n",
    "                img_area = np.product(np.shape(gt_mask))\n",
    "                actual_gt_area = len(np.where(gt_mask==True)[0])\n",
    "                sum_of_tile_areas = 0.0\n",
    "                sum_of_int_areas = 0.0\n",
    "                num_tiles = len(tile_info[batch][objid].keys())\n",
    "                for tid in tile_info[batch][objid]:\n",
    "                    sum_of_tile_areas += tile_info[batch][objid][tid]['t_area']\n",
    "                    sum_of_int_areas += tile_info[batch][objid][tid]['int_area']\n",
    "                obj_writer.writerow([batch, objid, num_tiles, sum_of_tile_areas, sum_of_int_areas,actual_gt_area,img_area])"
   ]
  },
  {
   "cell_type": "code",
   "execution_count": 36,
   "metadata": {},
   "outputs": [
    {
     "name": "stdout",
     "output_type": "stream",
     "text": [
      "Reading all tile info...\n",
      "Done\n"
     ]
    }
   ],
   "source": [
    "create_obj_area_info()"
   ]
  },
  {
   "cell_type": "code",
   "execution_count": 37,
   "metadata": {
    "collapsed": true
   },
   "outputs": [],
   "source": [
    "df = pd.read_csv(\"obj_area_info.csv\")"
   ]
  },
  {
   "cell_type": "code",
   "execution_count": 62,
   "metadata": {},
   "outputs": [
    {
     "data": {
      "text/plain": [
       "-0.0082011109531286014"
      ]
     },
     "execution_count": 62,
     "metadata": {},
     "output_type": "execute_result"
    }
   ],
   "source": [
    "df[\"gt_diff_ratio\"].mean()"
   ]
  },
  {
   "cell_type": "code",
   "execution_count": 63,
   "metadata": {},
   "outputs": [],
   "source": [
    "df[\"gt_diff_ratio\"]=((df[\"sum_of_int_areas\"] - df[\"actual_gt_area\"])/df[\"actual_gt_area\"])*100\n",
    "df[\"total_diff\"]=df[\"sum_of_tile_areas\"]-df[\"img_area\"]"
   ]
  },
  {
   "cell_type": "code",
   "execution_count": 67,
   "metadata": {},
   "outputs": [
    {
     "data": {
      "text/plain": [
       "<matplotlib.text.Text at 0xd256e90>"
      ]
     },
     "execution_count": 67,
     "metadata": {},
     "output_type": "execute_result"
    },
    {
     "data": {
      "image/png": "[encoded data removed]",
      "text/plain": [
       "<matplotlib.figure.Figure at 0xd27f090>"
      ]
     },
     "metadata": {},
     "output_type": "display_data"
    }
   ],
   "source": [
    "df[\"gt_diff_ratio\"].hist(bins=50)\n",
    "plt.xlabel(\"Percentage difference between sum(intersection area) and GT area\")\n",
    "plt.ylabel(\"{sample}x{object}\")"
   ]
  },
  {
   "cell_type": "code",
   "execution_count": 81,
   "metadata": {
    "scrolled": true
   },
   "outputs": [],
   "source": [
    "df[df[\"gt_diff_ratio\"]<-1][[\"batch\",\"objid\"]].to_csv(\"exclude_below1percent.csv\",index=None)"
   ]
  },
  {
   "cell_type": "code",
   "execution_count": 82,
   "metadata": {},
   "outputs": [
    {
     "data": {
      "text/plain": [
       "<matplotlib.axes._subplots.AxesSubplot at 0x7fe2610>"
      ]
     },
     "execution_count": 82,
     "metadata": {},
     "output_type": "execute_result"
    },
    {
     "data": {
      "image/png": "[encoded data removed]",
      "text/plain": [
       "<matplotlib.figure.Figure at 0xa5ecc50>"
      ]
     },
     "metadata": {},
     "output_type": "display_data"
    }
   ],
   "source": [
    "df[\"total_diff\"].hist(bins=50)"
   ]
  },
  {
   "cell_type": "code",
   "execution_count": null,
   "metadata": {
    "collapsed": true
   },
   "outputs": [],
   "source": []
  }
 ],
 "metadata": {
  "kernelspec": {
   "display_name": "Python 2",
   "language": "python",
   "name": "python2"
  },
  "language_info": {
   "codemirror_mode": {
    "name": "ipython",
    "version": 2
   },
   "file_extension": ".py",
   "mimetype": "text/x-python",
   "name": "python",
   "nbconvert_exporter": "python",
   "pygments_lexer": "ipython2",
   "version": "2.7.6"
  }
 },
 "nbformat": 4,
 "nbformat_minor": 2
}
