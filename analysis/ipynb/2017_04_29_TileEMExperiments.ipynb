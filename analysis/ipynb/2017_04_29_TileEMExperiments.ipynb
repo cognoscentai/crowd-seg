{
 "cells": [
  {
   "cell_type": "code",
   "execution_count": 1,
   "metadata": {
    "collapsed": false
   },
   "outputs": [
    {
     "name": "stdout",
     "output_type": "stream",
     "text": [
      "Populating the interactive namespace from numpy and matplotlib\n"
     ]
    }
   ],
   "source": [
    "%pylab inline"
   ]
  },
  {
   "cell_type": "code",
   "execution_count": 2,
   "metadata": {
    "collapsed": false
   },
   "outputs": [
    {
     "name": "stdout",
     "output_type": "stream",
     "text": [
      "/Users/dorislee/Desktop/Research/seg/crowd-seg/analysis/TileEM\n"
     ]
    }
   ],
   "source": [
    "cd ../TileEM/"
   ]
  },
  {
   "cell_type": "markdown",
   "metadata": {},
   "source": [
    "# Looking at best T' from sampled set of workers"
   ]
  },
  {
   "cell_type": "code",
   "execution_count": 3,
   "metadata": {
    "collapsed": false
   },
   "outputs": [
    {
     "name": "stdout",
     "output_type": "stream",
     "text": [
      "BB2TileExact.py                      Tstar_exp12_obj9.pkl                 adjacency.pyc                        \u001b[1m\u001b[34moutput_25\u001b[m\u001b[m/\r\n",
      "BB2TileExact.pyc                     Tstar_exp13_obj35.pkl                analysis_toolbox.py                  \u001b[1m\u001b[34moutput_26\u001b[m\u001b[m/\r\n",
      "MLConstructionExperiment.py          Tstar_exp14_obj26.pkl                analysis_toolbox.pyc                 pTprime_exp9_obj3.pkl\r\n",
      "MLConstructionExperiment.pyc         Tstar_exp14_obj3.pkl                 b.pkl                                problematic_Tstar_1173.pkl\r\n",
      "\u001b[1m\u001b[34mOldGammaTileCode\u001b[m\u001b[m/                    Tstar_exp15_obj3.pkl                 config.pyc                           problematic_Tstar_365.pkl\r\n",
      "Qj_exp12_obj9.pkl                    Tstar_exp16_obj26.pkl                dataset.pyc                          problematic_Tstar_414.pkl\r\n",
      "Qj_exp13_obj35.pkl                   Tstar_exp16_obj3.pkl                 exp9.out                             problematic_Tstar_416.pkl\r\n",
      "Qj_exp14_obj26.pkl                   Tstar_exp17_obj3.pkl                 exp9_10.out                          \u001b[1m\u001b[34mproblematic_tiles\u001b[m\u001b[m/\r\n",
      "Qj_exp14_obj3.pkl                    Tstar_exp18_obj3.pkl                 \u001b[1m\u001b[34mexperiment_result\u001b[m\u001b[m/                   problematic_tk_1173.pkl\r\n",
      "Qj_exp15_obj3.pkl                    Tstar_exp19_obj3.pkl                 \u001b[1m\u001b[34mfinal_all_tiles\u001b[m\u001b[m/                     problematic_tk_365.pkl\r\n",
      "Qj_exp16_obj26.pkl                   Tstar_exp20_obj3.pkl                 likelihood_exp13_obj35.pkl           problematic_tk_414.pkl\r\n",
      "Qj_exp16_obj3.pkl                    Tstar_exp21_obj3.pkl                 likelihood_exp14_obj26.pkl           problematic_tk_416.pkl\r\n",
      "Qj_exp17_obj3.pkl                    Tstar_exp23_obj3.pkl                 likelihood_exp14_obj3.pkl            qualityBaseline.py\r\n",
      "Qj_exp18_obj3.pkl                    Tstar_exp24_obj3.pkl                 likelihood_exp15_obj3.pkl            qualityBaseline.pyc\r\n",
      "Qj_exp19_obj3.pkl                    Tstar_idx_exp12_obj9.pkl             likelihood_exp16_obj26.pkl           runAllDownstreamAnalysis.sh\r\n",
      "Qj_exp20_obj3.pkl                    Tstar_idx_exp13_obj35.pkl            likelihood_exp16_obj3.pkl            runDualPR.py\r\n",
      "Qj_exp21_obj3.pkl                    Tstar_idx_exp14_obj26.pkl            likelihood_exp17_obj3.pkl            runExperiments.py\r\n",
      "Qj_exp23_obj3.pkl                    Tstar_idx_exp14_obj3.pkl             likelihood_exp18_obj3.pkl            runIndicatorMat.py\r\n",
      "Qj_exp24_obj3.pkl                    Tstar_idx_exp15_obj3.pkl             likelihood_exp19_obj3.pkl            runLossinessCalculation.py\r\n",
      "Qj_exp9_obj3.pkl                     Tstar_idx_exp16_obj26.pkl            likelihood_exp20_obj3.pkl            runPR.py\r\n",
      "Qj_no_overlap_exact_containment.pkl  Tstar_idx_exp16_obj3.pkl             likelihood_exp21_obj3.pkl            runQj.py\r\n",
      "Qj_pTprime_models.py                 Tstar_idx_exp17_obj3.pkl             likelihood_exp23_obj3.pkl            runRandTileTraining.py\r\n",
      "Qj_pTprime_models.pyc                Tstar_idx_exp18_obj3.pkl             likelihood_exp24_obj3.pkl            runSamplingWorkerExperiments.py\r\n",
      "T_lst_exp9_obj3.pkl                  Tstar_idx_exp19_obj3.pkl             main.py                              runTileAdjacentMLConstruction.py\r\n",
      "TileEM.py                            Tstar_idx_exp20_obj3.pkl             main.pyc                             runUniquifyTiles.py\r\n",
      "TileEM.pyc                           Tstar_idx_exp21_obj3.pkl             my_ground_truth.csv                  \u001b[1m\u001b[34msample\u001b[m\u001b[m/\r\n",
      "TileEM_Models.py                     Tstar_idx_exp23_obj3.pkl             newTileEM.py                         \u001b[1m\u001b[34msampletopworst5\u001b[m\u001b[m/\r\n",
      "TileEM_Models.pyc                    Tstar_idx_exp24_obj3.pkl             \u001b[1m\u001b[34moutput\u001b[m\u001b[m/                              scatter_toolbox.py\r\n",
      "TileEM_plot_toolbox.py               __init__.py                          \u001b[1m\u001b[34moutput_1\u001b[m\u001b[m/                            scatter_toolbox.pyc\r\n",
      "TileEM_plot_toolbox.pyc              a.pkl                                \u001b[1m\u001b[34moutput_15\u001b[m\u001b[m/                           submitSampleWorkers.sh\r\n",
      "Tprime_exp9_obj3.pkl                 addColTprimeTbl.py                   output_15.zip                        vtiles17.pkl\r\n",
      "Tstar_exp0_obj26.pkl                 adjacency.py                         \u001b[1m\u001b[34moutput_20\u001b[m\u001b[m/                           worker_obj_qualities.csv\r\n"
     ]
    }
   ],
   "source": [
    "ls"
   ]
  },
  {
   "cell_type": "code",
   "execution_count": null,
   "metadata": {
    "collapsed": true
   },
   "outputs": [],
   "source": [
    "\n"
   ]
  }
 ],
 "metadata": {
  "kernelspec": {
   "display_name": "Python 2",
   "language": "python",
   "name": "python2"
  },
  "language_info": {
   "codemirror_mode": {
    "name": "ipython",
    "version": 2
   },
   "file_extension": ".py",
   "mimetype": "text/x-python",
   "name": "python",
   "nbconvert_exporter": "python",
   "pygments_lexer": "ipython2",
   "version": "2.7.10"
  }
 },
 "nbformat": 4,
 "nbformat_minor": 0
}
