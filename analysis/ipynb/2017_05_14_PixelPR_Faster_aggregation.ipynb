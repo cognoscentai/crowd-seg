{
 "cells": [
  {
   "cell_type": "code",
   "execution_count": 1,
   "metadata": {},
   "outputs": [
    {
     "name": "stdout",
     "output_type": "stream",
     "text": [
      "Populating the interactive namespace from numpy and matplotlib\n"
     ]
    }
   ],
   "source": [
    "%pylab inline "
   ]
  },
  {
   "cell_type": "code",
   "execution_count": 2,
   "metadata": {},
   "outputs": [
    {
     "name": "stdout",
     "output_type": "stream",
     "text": [
      "/home/jlee782/crowd-seg/analysis/TileEM\n"
     ]
    }
   ],
   "source": [
    "cd ../TileEM/"
   ]
  },
  {
   "cell_type": "code",
   "execution_count": null,
   "metadata": {},
   "outputs": [
    {
     "name": "stderr",
     "output_type": "stream",
     "text": [
      "/home/jlee782/.local/lib/python2.7/site-packages/matplotlib/__init__.py:1401: UserWarning:  This call to matplotlib.use() has no effect\n",
      "because the backend has already been chosen;\n",
      "matplotlib.use() must be called *before* pylab, matplotlib.pyplot,\n",
      "or matplotlib.backends is imported for the first time.\n",
      "\n",
      "  warnings.warn(_use_error_msg)\n",
      "  0%|          | 0/44 [00:00<?, ?it/s]"
     ]
    },
    {
     "name": "stdout",
     "output_type": "stream",
     "text": [
      "Working on : 5workers_rand0\n"
     ]
    },
    {
     "name": "stderr",
     "output_type": "stream",
     "text": [
      "  0%|          | 0/44 [00:00<?, ?it/s]         "
     ]
    },
    {
     "name": "stdout",
     "output_type": "stream",
     "text": [
      "Working on : 5workers_rand1\n"
     ]
    },
    {
     "name": "stderr",
     "output_type": "stream",
     "text": [
      "  0%|          | 0/44 [00:00<?, ?it/s]         "
     ]
    },
    {
     "name": "stdout",
     "output_type": "stream",
     "text": [
      "Working on : 5workers_rand2\n"
     ]
    },
    {
     "name": "stderr",
     "output_type": "stream",
     "text": [
      "  0%|          | 0/44 [00:00<?, ?it/s]         "
     ]
    },
    {
     "name": "stdout",
     "output_type": "stream",
     "text": [
      "Working on : 5workers_rand3\n"
     ]
    },
    {
     "name": "stderr",
     "output_type": "stream",
     "text": [
      "  0%|          | 0/44 [00:00<?, ?it/s]         "
     ]
    },
    {
     "name": "stdout",
     "output_type": "stream",
     "text": [
      "Working on : 5workers_rand4\n"
     ]
    },
    {
     "name": "stderr",
     "output_type": "stream",
     "text": [
      "  0%|          | 0/44 [00:00<?, ?it/s]         "
     ]
    },
    {
     "name": "stdout",
     "output_type": "stream",
     "text": [
      "Working on : 5workers_rand5\n"
     ]
    },
    {
     "name": "stderr",
     "output_type": "stream",
     "text": [
      "  0%|          | 0/44 [00:00<?, ?it/s]         "
     ]
    },
    {
     "name": "stdout",
     "output_type": "stream",
     "text": [
      "Working on : 5workers_rand6\n"
     ]
    },
    {
     "name": "stderr",
     "output_type": "stream",
     "text": [
      "\r",
      "  2%|▏         | 1/44 [00:06<04:40,  0.15it/s]"
     ]
    }
   ],
   "source": [
    "# Run the PR calculation for PixelEM on various thresholds based on  the adjacency and the non-adjacency ML construction\n",
    "# Creates a Pixel_PR.csv in each of the base_dir/dir_name directory\n",
    "import pandas as pd\n",
    "import pickle as pkl\n",
    "from qualityBaseline import *\n",
    "from calc_Tstar import *\n",
    "import os\n",
    "import time\n",
    "from PixelEM import *\n",
    "base_dir= \"pixel_em\"\n",
    "start = time.time()\n",
    "worker_Nbatches={5:10,10:8,15:6,20:4,25:2,30:1}\n",
    "sampleN_lst=worker_Nbatches.keys()\n",
    "from TileEM_plot_toolbox import *\n",
    "start = time.time()\n",
    "PR_pixelEM = pd.read_csv(\"pixel_em/full_PRJ_table.csv\")\n",
    "PR_pixelEM_GT = pd.read_csv(\"pixel_em/GTfull_PRJ_table.csv\")\n",
    "#PR_pixelEM_GTLSA = pd.read_csv(\"pixel_em/GTLSAfull_PRJ_table.csv\")\n",
    "df = pd.read_csv(\"../computed_my_COCO_BBvals.csv\",index_col=0)\n",
    "tbl=[]\n",
    "col_lst=[]\n",
    "i=0\n",
    "cols = [u'Num Points',u'Area Ratio',u'Jaccard [Self]', u'Precision [Self]', u'Recall [Self]']\n",
    "for Nworker in sampleN_lst:\n",
    "    for batch_num in range(worker_Nbatches[Nworker]):\n",
    "        dir_name = \"{0}workers_rand{1}\".format(Nworker,batch_num)\n",
    "        print \"Working on :\", dir_name\n",
    "        #os.chdir(base_dir+\"/\"+dir_name)\n",
    "        tmp_tbl=[]\n",
    "        #for i,fname in enumerate(glob(\"obj*\")):\n",
    "        #    objid=int(fname[3:])\n",
    "        object_lst = [1, 2, 3, 4, 5, 6, 7, 8, 9, 10, 11, 12, 13, 14, 15, 16, 17, 18, 19, 20, 21, 22, 23, 24, 25, 26, 27, 28, 29, 30, 31, 32, 33, 34, 36, 37, 38, 39, 42, 43, 44, 45, 46, 47]\n",
    "        for objid in tqdm(object_lst):\n",
    "            tmp_tbl=[objid,Nworker,batch_num]\n",
    "            if i==0: col_lst = [\"object_id\",\"Nworker\",\"batch_num\"]\n",
    "            #Summarization Based metrics\n",
    "            workers = ast.literal_eval([line for line in open(\"pixel_em/\"+dir_name+\"/obj{}/worker_ids.json\".format(objid))][0])\n",
    "            filtered_df = df[(df[\"worker_id\"].isin(workers))&(df[\"object_id\"]==objid)] #only look at summarization scores of sampled workers\n",
    "            if len(filtered_df)!=0:\n",
    "                for attr in cols:\n",
    "                    if i==0:\n",
    "                        col_lst.extend([\"P [{}]\".format(attr),\"R [{}]\".format(attr),\"J [{}]\".format(attr)])\n",
    "                    best_worker_BB = filtered_df[filtered_df[attr]==filtered_df[attr].max()]\n",
    "                    best_worker_id = int(best_worker_BB[\"worker_id\"].sample(1).values)\n",
    "                    best_worker_mask = pkl.load(open(\"pixel_em/obj{}/mask{}.pkl\".format(objid,best_worker_id)))\n",
    "                    gt_mask = pkl.load(open(\"pixel_em/obj{}/gt.pkl\".format(objid)))\n",
    "                    p,r,j = get_precision_recall_jaccard(best_worker_mask, gt_mask)\n",
    "                    tmp_tbl.extend([p,r,j])\n",
    "        tbl.append(tmp_tbl)\n",
    "        i+=1"
   ]
  },
  {
   "cell_type": "code",
   "execution_count": null,
   "metadata": {
    "collapsed": true
   },
   "outputs": [],
   "source": [
    "df = pd.DataFrame(tbl,columns=col_lst)\n",
    "df.to_csv(\"pixel_em/summarization_PRJ_table.csv\")\n",
    "end = time.time()\n",
    "print \"Time Elapsed: \", end-start"
   ]
  },
  {
   "cell_type": "code",
   "execution_count": null,
   "metadata": {
    "collapsed": true
   },
   "outputs": [],
   "source": [
    "PR_pixelEM = pd.read_csv(\"pixel_em/full_PRJ_table.csv\")\n",
    "PR_pixelEM_GT = pd.read_csv(\"pixel_em/GTfull_PRJ_table.csv\")\n"
   ]
  },
  {
   "cell_type": "code",
   "execution_count": null,
   "metadata": {
    "collapsed": true
   },
   "outputs": [],
   "source": [
    "PR_pi"
   ]
  }
 ],
 "metadata": {
  "kernelspec": {
   "display_name": "Python 2",
   "language": "python",
   "name": "python2"
  },
  "language_info": {
   "codemirror_mode": {
    "name": "ipython",
    "version": 2
   },
   "file_extension": ".py",
   "mimetype": "text/x-python",
   "name": "python",
   "nbconvert_exporter": "python",
   "pygments_lexer": "ipython2",
   "version": "2.7.6"
  }
 },
 "nbformat": 4,
 "nbformat_minor": 2
}
