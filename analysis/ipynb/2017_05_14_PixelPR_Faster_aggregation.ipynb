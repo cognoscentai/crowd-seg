{
 "cells": [
  {
   "cell_type": "code",
   "execution_count": 2,
   "metadata": {},
   "outputs": [
    {
     "name": "stdout",
     "output_type": "stream",
     "text": [
      "Populating the interactive namespace from numpy and matplotlib\n"
     ]
    }
   ],
   "source": [
    "%pylab inline "
   ]
  },
  {
   "cell_type": "code",
   "execution_count": 3,
   "metadata": {},
   "outputs": [
    {
     "name": "stdout",
     "output_type": "stream",
     "text": [
      "/home/jlee782/crowd-seg/analysis/TileEM\n"
     ]
    }
   ],
   "source": [
    "cd ../TileEM/"
   ]
  },
  {
   "cell_type": "code",
   "execution_count": 4,
   "metadata": {
    "scrolled": true
   },
   "outputs": [
    {
     "name": "stderr",
     "output_type": "stream",
     "text": [
      "/home/jlee782/.local/lib/python2.7/site-packages/matplotlib/__init__.py:1401: UserWarning:  This call to matplotlib.use() has no effect\n",
      "because the backend has already been chosen;\n",
      "matplotlib.use() must be called *before* pylab, matplotlib.pyplot,\n",
      "or matplotlib.backends is imported for the first time.\n",
      "\n",
      "  warnings.warn(_use_error_msg)\n",
      "  0%|          | 0/44 [00:00<?, ?it/s]"
     ]
    },
    {
     "name": "stdout",
     "output_type": "stream",
     "text": [
      "Working on : 5workers_rand0\n"
     ]
    },
    {
     "name": "stderr",
     "output_type": "stream",
     "text": [
      "  0%|          | 0/44 [00:00<?, ?it/s]         "
     ]
    },
    {
     "name": "stdout",
     "output_type": "stream",
     "text": [
      "Working on : 5workers_rand1\n"
     ]
    },
    {
     "name": "stderr",
     "output_type": "stream",
     "text": [
      "  0%|          | 0/44 [00:00<?, ?it/s]         "
     ]
    },
    {
     "name": "stdout",
     "output_type": "stream",
     "text": [
      "Working on : 5workers_rand2\n"
     ]
    },
    {
     "name": "stderr",
     "output_type": "stream",
     "text": [
      " 27%|██▋       | 12/44 [01:16<03:24,  0.16it/s]"
     ]
    },
    {
     "ename": "KeyboardInterrupt",
     "evalue": "",
     "output_type": "error",
     "traceback": [
      "\u001b[0;31m---------------------------------------------------------------------------\u001b[0m",
      "\u001b[0;31mKeyboardInterrupt\u001b[0m                         Traceback (most recent call last)",
      "\u001b[0;32m<ipython-input-4-97a5dfba5b5b>\u001b[0m in \u001b[0;36m<module>\u001b[0;34m()\u001b[0m\n\u001b[1;32m     45\u001b[0m                     \u001b[0mbest_worker_mask\u001b[0m \u001b[0;34m=\u001b[0m \u001b[0mpkl\u001b[0m\u001b[0;34m.\u001b[0m\u001b[0mload\u001b[0m\u001b[0;34m(\u001b[0m\u001b[0mopen\u001b[0m\u001b[0;34m(\u001b[0m\u001b[0;34m\"pixel_em/obj{}/mask{}.pkl\"\u001b[0m\u001b[0;34m.\u001b[0m\u001b[0mformat\u001b[0m\u001b[0;34m(\u001b[0m\u001b[0mobjid\u001b[0m\u001b[0;34m,\u001b[0m\u001b[0mbest_worker_id\u001b[0m\u001b[0;34m)\u001b[0m\u001b[0;34m)\u001b[0m\u001b[0;34m)\u001b[0m\u001b[0;34m\u001b[0m\u001b[0m\n\u001b[1;32m     46\u001b[0m                     \u001b[0mgt_mask\u001b[0m \u001b[0;34m=\u001b[0m \u001b[0mpkl\u001b[0m\u001b[0;34m.\u001b[0m\u001b[0mload\u001b[0m\u001b[0;34m(\u001b[0m\u001b[0mopen\u001b[0m\u001b[0;34m(\u001b[0m\u001b[0;34m\"pixel_em/obj{}/gt.pkl\"\u001b[0m\u001b[0;34m.\u001b[0m\u001b[0mformat\u001b[0m\u001b[0;34m(\u001b[0m\u001b[0mobjid\u001b[0m\u001b[0;34m)\u001b[0m\u001b[0;34m)\u001b[0m\u001b[0;34m)\u001b[0m\u001b[0;34m\u001b[0m\u001b[0m\n\u001b[0;32m---> 47\u001b[0;31m                     \u001b[0mp\u001b[0m\u001b[0;34m,\u001b[0m\u001b[0mr\u001b[0m\u001b[0;34m,\u001b[0m\u001b[0mj\u001b[0m \u001b[0;34m=\u001b[0m \u001b[0mget_precision_recall_jaccard\u001b[0m\u001b[0;34m(\u001b[0m\u001b[0mbest_worker_mask\u001b[0m\u001b[0;34m,\u001b[0m \u001b[0mgt_mask\u001b[0m\u001b[0;34m)\u001b[0m\u001b[0;34m\u001b[0m\u001b[0m\n\u001b[0m\u001b[1;32m     48\u001b[0m                     \u001b[0mtmp_tbl\u001b[0m\u001b[0;34m.\u001b[0m\u001b[0mextend\u001b[0m\u001b[0;34m(\u001b[0m\u001b[0;34m[\u001b[0m\u001b[0mp\u001b[0m\u001b[0;34m,\u001b[0m\u001b[0mr\u001b[0m\u001b[0;34m,\u001b[0m\u001b[0mj\u001b[0m\u001b[0;34m]\u001b[0m\u001b[0;34m)\u001b[0m\u001b[0;34m\u001b[0m\u001b[0m\n\u001b[1;32m     49\u001b[0m         \u001b[0mtbl\u001b[0m\u001b[0;34m.\u001b[0m\u001b[0mappend\u001b[0m\u001b[0;34m(\u001b[0m\u001b[0mtmp_tbl\u001b[0m\u001b[0;34m)\u001b[0m\u001b[0;34m\u001b[0m\u001b[0m\n",
      "\u001b[0;32m/home/jlee782/crowd-seg/analysis/TileEM/PixelEM.py\u001b[0m in \u001b[0;36mget_precision_recall_jaccard\u001b[0;34m(test_mask, gt_mask)\u001b[0m\n\u001b[1;32m    181\u001b[0m             \u001b[0;32melif\u001b[0m \u001b[0mtest_mask\u001b[0m\u001b[0;34m[\u001b[0m\u001b[0mi\u001b[0m\u001b[0;34m]\u001b[0m\u001b[0;34m[\u001b[0m\u001b[0mj\u001b[0m\u001b[0;34m]\u001b[0m \u001b[0;34m==\u001b[0m \u001b[0;36m1\u001b[0m\u001b[0;34m:\u001b[0m\u001b[0;34m\u001b[0m\u001b[0m\n\u001b[1;32m    182\u001b[0m                 \u001b[0mnum_test\u001b[0m \u001b[0;34m+=\u001b[0m \u001b[0;36m1\u001b[0m\u001b[0;34m\u001b[0m\u001b[0m\n\u001b[0;32m--> 183\u001b[0;31m             \u001b[0;32melif\u001b[0m \u001b[0mgt_mask\u001b[0m\u001b[0;34m[\u001b[0m\u001b[0mi\u001b[0m\u001b[0;34m]\u001b[0m\u001b[0;34m[\u001b[0m\u001b[0mj\u001b[0m\u001b[0;34m]\u001b[0m \u001b[0;34m==\u001b[0m \u001b[0;36m1\u001b[0m\u001b[0;34m:\u001b[0m\u001b[0;34m\u001b[0m\u001b[0m\n\u001b[0m\u001b[1;32m    184\u001b[0m                 \u001b[0mnum_gt\u001b[0m \u001b[0;34m+=\u001b[0m \u001b[0;36m1\u001b[0m\u001b[0;34m\u001b[0m\u001b[0m\n\u001b[1;32m    185\u001b[0m     \u001b[0;31m#try:\u001b[0m\u001b[0;34m\u001b[0m\u001b[0;34m\u001b[0m\u001b[0m\n",
      "\u001b[0;31mKeyboardInterrupt\u001b[0m: "
     ]
    }
   ],
   "source": [
    "# Run the PR calculation for PixelEM on various thresholds based on  the adjacency and the non-adjacency ML construction\n",
    "# Creates a Pixel_PR.csv in each of the base_dir/dir_name directory\n",
    "import pandas as pd\n",
    "import pickle as pkl\n",
    "from qualityBaseline import *\n",
    "from calc_Tstar import *\n",
    "import os\n",
    "import time\n",
    "from PixelEM import *\n",
    "base_dir= \"pixel_em\"\n",
    "start = time.time()\n",
    "worker_Nbatches={5:10,10:8,15:6,20:4,25:2,30:1}\n",
    "sampleN_lst=worker_Nbatches.keys()\n",
    "from TileEM_plot_toolbox import *\n",
    "start = time.time()\n",
    "PR_pixelEM = pd.read_csv(\"pixel_em/full_PRJ_table.csv\")\n",
    "PR_pixelEM_GT = pd.read_csv(\"pixel_em/GTfull_PRJ_table.csv\")\n",
    "#PR_pixelEM_GTLSA = pd.read_csv(\"pixel_em/GTLSAfull_PRJ_table.csv\")\n",
    "df = pd.read_csv(\"../computed_my_COCO_BBvals.csv\",index_col=0)\n",
    "tbl=[]\n",
    "col_lst=[]\n",
    "i=0\n",
    "cols = [u'Num Points',u'Area Ratio',u'Jaccard [Self]', u'Precision [Self]', u'Recall [Self]']\n",
    "for Nworker in sampleN_lst:\n",
    "    for batch_num in range(worker_Nbatches[Nworker]):\n",
    "        dir_name = \"{0}workers_rand{1}\".format(Nworker,batch_num)\n",
    "        print \"Working on :\", dir_name\n",
    "        #os.chdir(base_dir+\"/\"+dir_name)\n",
    "        tmp_tbl=[]\n",
    "        #for i,fname in enumerate(glob(\"obj*\")):\n",
    "        #    objid=int(fname[3:])\n",
    "        object_lst = [1, 2, 3, 4, 5, 6, 7, 8, 9, 10, 11, 12, 13, 14, 15, 16, 17, 18, 19, 20, 21, 22, 23, 24, 25, 26, 27, 28, 29, 30, 31, 32, 33, 34, 36, 37, 38, 39, 42, 43, 44, 45, 46, 47]\n",
    "        for objid in tqdm(object_lst):\n",
    "            tmp_tbl=[objid,Nworker,batch_num]\n",
    "            if i==0: col_lst = [\"object_id\",\"Nworker\",\"batch_num\"]\n",
    "            #Summarization Based metrics\n",
    "            workers = ast.literal_eval([line for line in open(\"pixel_em/\"+dir_name+\"/obj{}/worker_ids.json\".format(objid))][0])\n",
    "            filtered_df = df[(df[\"worker_id\"].isin(workers))&(df[\"object_id\"]==objid)] #only look at summarization scores of sampled workers\n",
    "            if len(filtered_df)!=0:\n",
    "                for attr in cols:\n",
    "                    if i==0:\n",
    "                        col_lst.extend([\"P [{}]\".format(attr),\"R [{}]\".format(attr),\"J [{}]\".format(attr)])\n",
    "                    best_worker_BB = filtered_df[filtered_df[attr]==filtered_df[attr].max()]\n",
    "                    best_worker_id = int(best_worker_BB[\"worker_id\"].sample(1).values)\n",
    "                    best_worker_mask = pkl.load(open(\"pixel_em/obj{}/mask{}.pkl\".format(objid,best_worker_id)))\n",
    "                    gt_mask = pkl.load(open(\"pixel_em/obj{}/gt.pkl\".format(objid)))\n",
    "                    p,r,j = get_precision_recall_jaccard(best_worker_mask, gt_mask)\n",
    "                    tmp_tbl.extend([p,r,j])\n",
    "        tbl.append(tmp_tbl)\n",
    "        i+=1"
   ]
  },
  {
   "cell_type": "code",
   "execution_count": 76,
   "metadata": {
    "collapsed": true
   },
   "outputs": [],
   "source": [
    "# df = pd.DataFrame(tbl,columns=col_lst)\n",
    "# df.to_csv(\"pixel_em/summarization_PRJ_table.csv\")\n",
    "# end = time.time()\n",
    "# print \"Time Elapsed: \", end-start"
   ]
  },
  {
   "cell_type": "markdown",
   "metadata": {},
   "source": [
    "Summarization score takes the longest to compute "
   ]
  },
  {
   "cell_type": "code",
   "execution_count": 38,
   "metadata": {},
   "outputs": [],
   "source": [
    "# Contain PRJs for best summarization score, Basic Pixel EM, Pixel MV \n",
    "Pixel_PR =pd.read_csv(\"Pixel_PR.csv\",index_col=0)"
   ]
  },
  {
   "cell_type": "code",
   "execution_count": 14,
   "metadata": {
    "collapsed": true
   },
   "outputs": [],
   "source": [
    "# PR_pixelEM = pd.read_csv(\"pixel_em/full_PRJ_table.csv\")\n",
    "PR_pixelEM_GT = pd.read_csv(\"pixel_em/GTfull_PRJ_table.csv\")\n"
   ]
  },
  {
   "cell_type": "code",
   "execution_count": 21,
   "metadata": {
    "collapsed": true
   },
   "outputs": [],
   "source": [
    "for thresh in [-4,-2,0,2,4]:\n",
    "    PR_pixelEM_GTi =PR_pixelEM_GT[(PR_pixelEM[\"thresh\"]==thresh)]\n",
    "#                         if len(PR_pixelEMi)!=0:\n",
    "#                             PixelEMP= float(PR_pixelEMi[\"EM_precision\"])\n",
    "#                             PixelEMR= float(PR_pixelEMi[\"EM_recall\"])\n",
    "#                             PixelEMJ=float(PR_pixelEMi[\"EM_jaccard\"])\n",
    "#                             tmp_tbl.extend([PixelEMP,PixelEMR,PixelEMJ])"
   ]
  },
  {
   "cell_type": "code",
   "execution_count": 70,
   "metadata": {
    "collapsed": true
   },
   "outputs": [],
   "source": [
    "updated_Pixel_PR= Pixel_PR\n",
    "for thresh in [-4,-2,0,2,4]:\n",
    "    PR_pixelEM_GTi =PR_pixelEM_GT[PR_pixelEM_GT[\"thresh\"]==thresh]\n",
    "    PR_pixelEM_GTi = PR_pixelEM_GTi.rename(index=str,columns={'EM_precision':'P [GT Pixel EM thres={}]'.format(thresh),\\\n",
    "                       'EM_recall':'R [GT Pixel EM thres={}]'.format(thresh),\\\n",
    "                       'EM_jaccard':'J [GT Pixel EM thres={}]'.format(thresh),\n",
    "                       'objid':\"object_id\",\\\n",
    "                       'num_workers':'Nworker',\\\n",
    "                        'sample_num':'batch_num'})\n",
    "    PR_pixelEM_GTi = PR_pixelEM_GTi.drop('thresh',axis=1)\n",
    "    updated_Pixel_PR= updated_Pixel_PR.merge(PR_pixelEM_GTi)"
   ]
  },
  {
   "cell_type": "code",
   "execution_count": 71,
   "metadata": {},
   "outputs": [
    {
     "data": {
      "text/html": [
       "<div>\n",
       "<table border=\"1\" class=\"dataframe\">\n",
       "  <thead>\n",
       "    <tr style=\"text-align: right;\">\n",
       "      <th></th>\n",
       "      <th>object_id</th>\n",
       "      <th>Nworker</th>\n",
       "      <th>batch_num</th>\n",
       "      <th>P [Num Points]</th>\n",
       "      <th>R [Num Points]</th>\n",
       "      <th>J [Num Points]</th>\n",
       "      <th>P [Area Ratio]</th>\n",
       "      <th>R [Area Ratio]</th>\n",
       "      <th>J [Area Ratio]</th>\n",
       "      <th>P [Jaccard [Self]]</th>\n",
       "      <th>...</th>\n",
       "      <th>J [PixelEM thres=4]</th>\n",
       "      <th>P [PixelEM thres=10]</th>\n",
       "      <th>R [PixelEM thres=10]</th>\n",
       "      <th>J [PixelEM thres=10]</th>\n",
       "      <th>P [PixelEM thres=-10]</th>\n",
       "      <th>R [PixelEM thres=-10]</th>\n",
       "      <th>J [PixelEM thres=-10]</th>\n",
       "      <th>P [MV]</th>\n",
       "      <th>R [MV]</th>\n",
       "      <th>J [MV]</th>\n",
       "    </tr>\n",
       "  </thead>\n",
       "  <tbody>\n",
       "    <tr>\n",
       "      <th>0</th>\n",
       "      <td>1</td>\n",
       "      <td>5</td>\n",
       "      <td>0</td>\n",
       "      <td>0.905567</td>\n",
       "      <td>0.990299</td>\n",
       "      <td>0.897605</td>\n",
       "      <td>0.905567</td>\n",
       "      <td>0.990299</td>\n",
       "      <td>0.897605</td>\n",
       "      <td>0.976263</td>\n",
       "      <td>...</td>\n",
       "      <td>0.949210</td>\n",
       "      <td>0.994513</td>\n",
       "      <td>0.920677</td>\n",
       "      <td>0.916024</td>\n",
       "      <td>0.896327</td>\n",
       "      <td>0.997174</td>\n",
       "      <td>0.894056</td>\n",
       "      <td>0.977603</td>\n",
       "      <td>0.980179</td>\n",
       "      <td>0.958651</td>\n",
       "    </tr>\n",
       "    <tr>\n",
       "      <th>1</th>\n",
       "      <td>2</td>\n",
       "      <td>5</td>\n",
       "      <td>0</td>\n",
       "      <td>0.929051</td>\n",
       "      <td>0.977324</td>\n",
       "      <td>0.909447</td>\n",
       "      <td>0.929051</td>\n",
       "      <td>0.977324</td>\n",
       "      <td>0.909447</td>\n",
       "      <td>0.945597</td>\n",
       "      <td>...</td>\n",
       "      <td>0.927700</td>\n",
       "      <td>0.980922</td>\n",
       "      <td>0.833909</td>\n",
       "      <td>0.820600</td>\n",
       "      <td>0.901088</td>\n",
       "      <td>0.994594</td>\n",
       "      <td>0.896696</td>\n",
       "      <td>0.949744</td>\n",
       "      <td>0.976273</td>\n",
       "      <td>0.928316</td>\n",
       "    </tr>\n",
       "    <tr>\n",
       "      <th>2</th>\n",
       "      <td>3</td>\n",
       "      <td>5</td>\n",
       "      <td>0</td>\n",
       "      <td>0.942595</td>\n",
       "      <td>0.944328</td>\n",
       "      <td>0.892972</td>\n",
       "      <td>0.942595</td>\n",
       "      <td>0.944328</td>\n",
       "      <td>0.892972</td>\n",
       "      <td>0.942595</td>\n",
       "      <td>...</td>\n",
       "      <td>0.862237</td>\n",
       "      <td>0.975768</td>\n",
       "      <td>0.867122</td>\n",
       "      <td>0.848843</td>\n",
       "      <td>0.921957</td>\n",
       "      <td>0.964811</td>\n",
       "      <td>0.891964</td>\n",
       "      <td>0.961358</td>\n",
       "      <td>0.914653</td>\n",
       "      <td>0.882219</td>\n",
       "    </tr>\n",
       "    <tr>\n",
       "      <th>3</th>\n",
       "      <td>4</td>\n",
       "      <td>5</td>\n",
       "      <td>0</td>\n",
       "      <td>0.928049</td>\n",
       "      <td>0.961515</td>\n",
       "      <td>0.894811</td>\n",
       "      <td>0.447659</td>\n",
       "      <td>0.933030</td>\n",
       "      <td>0.433723</td>\n",
       "      <td>0.952381</td>\n",
       "      <td>...</td>\n",
       "      <td>0.883256</td>\n",
       "      <td>0.978738</td>\n",
       "      <td>0.878788</td>\n",
       "      <td>0.862325</td>\n",
       "      <td>0.881558</td>\n",
       "      <td>0.987879</td>\n",
       "      <td>0.872124</td>\n",
       "      <td>0.926200</td>\n",
       "      <td>0.946970</td>\n",
       "      <td>0.880530</td>\n",
       "    </tr>\n",
       "    <tr>\n",
       "      <th>4</th>\n",
       "      <td>5</td>\n",
       "      <td>5</td>\n",
       "      <td>0</td>\n",
       "      <td>0.935396</td>\n",
       "      <td>0.851074</td>\n",
       "      <td>0.803826</td>\n",
       "      <td>0.864442</td>\n",
       "      <td>0.927636</td>\n",
       "      <td>0.809832</td>\n",
       "      <td>0.977446</td>\n",
       "      <td>...</td>\n",
       "      <td>0.814851</td>\n",
       "      <td>0.986301</td>\n",
       "      <td>0.764633</td>\n",
       "      <td>0.756598</td>\n",
       "      <td>0.831643</td>\n",
       "      <td>0.951593</td>\n",
       "      <td>0.797888</td>\n",
       "      <td>0.959925</td>\n",
       "      <td>0.881452</td>\n",
       "      <td>0.850167</td>\n",
       "    </tr>\n",
       "  </tbody>\n",
       "</table>\n",
       "<p>5 rows × 42 columns</p>\n",
       "</div>"
      ],
      "text/plain": [
       "   object_id  Nworker  batch_num  P [Num Points]  R [Num Points]  \\\n",
       "0          1        5          0        0.905567        0.990299   \n",
       "1          2        5          0        0.929051        0.977324   \n",
       "2          3        5          0        0.942595        0.944328   \n",
       "3          4        5          0        0.928049        0.961515   \n",
       "4          5        5          0        0.935396        0.851074   \n",
       "\n",
       "   J [Num Points]  P [Area Ratio]  R [Area Ratio]  J [Area Ratio]  \\\n",
       "0        0.897605        0.905567        0.990299        0.897605   \n",
       "1        0.909447        0.929051        0.977324        0.909447   \n",
       "2        0.892972        0.942595        0.944328        0.892972   \n",
       "3        0.894811        0.447659        0.933030        0.433723   \n",
       "4        0.803826        0.864442        0.927636        0.809832   \n",
       "\n",
       "   P [Jaccard [Self]]    ...     J [PixelEM thres=4]  P [PixelEM thres=10]  \\\n",
       "0            0.976263    ...                0.949210              0.994513   \n",
       "1            0.945597    ...                0.927700              0.980922   \n",
       "2            0.942595    ...                0.862237              0.975768   \n",
       "3            0.952381    ...                0.883256              0.978738   \n",
       "4            0.977446    ...                0.814851              0.986301   \n",
       "\n",
       "   R [PixelEM thres=10]  J [PixelEM thres=10]  P [PixelEM thres=-10]  \\\n",
       "0              0.920677              0.916024               0.896327   \n",
       "1              0.833909              0.820600               0.901088   \n",
       "2              0.867122              0.848843               0.921957   \n",
       "3              0.878788              0.862325               0.881558   \n",
       "4              0.764633              0.756598               0.831643   \n",
       "\n",
       "   R [PixelEM thres=-10]  J [PixelEM thres=-10]    P [MV]    R [MV]    J [MV]  \n",
       "0               0.997174               0.894056  0.977603  0.980179  0.958651  \n",
       "1               0.994594               0.896696  0.949744  0.976273  0.928316  \n",
       "2               0.964811               0.891964  0.961358  0.914653  0.882219  \n",
       "3               0.987879               0.872124  0.926200  0.946970  0.880530  \n",
       "4               0.951593               0.797888  0.959925  0.881452  0.850167  \n",
       "\n",
       "[5 rows x 42 columns]"
      ]
     },
     "execution_count": 71,
     "metadata": {},
     "output_type": "execute_result"
    }
   ],
   "source": [
    "Pixel_PR.head()"
   ]
  },
  {
   "cell_type": "code",
   "execution_count": 72,
   "metadata": {},
   "outputs": [
    {
     "data": {
      "text/html": [
       "<div>\n",
       "<table border=\"1\" class=\"dataframe\">\n",
       "  <thead>\n",
       "    <tr style=\"text-align: right;\">\n",
       "      <th></th>\n",
       "      <th>Nworker</th>\n",
       "      <th>batch_num</th>\n",
       "      <th>object_id</th>\n",
       "      <th>P [GT Pixel EM thres=4]</th>\n",
       "      <th>R [GT Pixel EM thres=4]</th>\n",
       "      <th>J [GT Pixel EM thres=4]</th>\n",
       "    </tr>\n",
       "  </thead>\n",
       "  <tbody>\n",
       "    <tr>\n",
       "      <th>1</th>\n",
       "      <td>5</td>\n",
       "      <td>0</td>\n",
       "      <td>1</td>\n",
       "      <td>0.977603</td>\n",
       "      <td>0.980179</td>\n",
       "      <td>0.958651</td>\n",
       "    </tr>\n",
       "    <tr>\n",
       "      <th>8</th>\n",
       "      <td>5</td>\n",
       "      <td>0</td>\n",
       "      <td>11</td>\n",
       "      <td>0.869027</td>\n",
       "      <td>0.911510</td>\n",
       "      <td>0.801415</td>\n",
       "    </tr>\n",
       "    <tr>\n",
       "      <th>13</th>\n",
       "      <td>5</td>\n",
       "      <td>0</td>\n",
       "      <td>13</td>\n",
       "      <td>0.963661</td>\n",
       "      <td>0.962122</td>\n",
       "      <td>0.928437</td>\n",
       "    </tr>\n",
       "    <tr>\n",
       "      <th>18</th>\n",
       "      <td>5</td>\n",
       "      <td>0</td>\n",
       "      <td>14</td>\n",
       "      <td>0.936997</td>\n",
       "      <td>0.984495</td>\n",
       "      <td>0.923371</td>\n",
       "    </tr>\n",
       "    <tr>\n",
       "      <th>21</th>\n",
       "      <td>5</td>\n",
       "      <td>0</td>\n",
       "      <td>3</td>\n",
       "      <td>0.942751</td>\n",
       "      <td>0.934086</td>\n",
       "      <td>0.883946</td>\n",
       "    </tr>\n",
       "  </tbody>\n",
       "</table>\n",
       "</div>"
      ],
      "text/plain": [
       "    Nworker  batch_num  object_id  P [GT Pixel EM thres=4]  \\\n",
       "1         5          0          1                 0.977603   \n",
       "8         5          0         11                 0.869027   \n",
       "13        5          0         13                 0.963661   \n",
       "18        5          0         14                 0.936997   \n",
       "21        5          0          3                 0.942751   \n",
       "\n",
       "    R [GT Pixel EM thres=4]  J [GT Pixel EM thres=4]  \n",
       "1                  0.980179                 0.958651  \n",
       "8                  0.911510                 0.801415  \n",
       "13                 0.962122                 0.928437  \n",
       "18                 0.984495                 0.923371  \n",
       "21                 0.934086                 0.883946  "
      ]
     },
     "execution_count": 72,
     "metadata": {},
     "output_type": "execute_result"
    }
   ],
   "source": [
    "PR_pixelEM_GTi.head()"
   ]
  },
  {
   "cell_type": "code",
   "execution_count": 75,
   "metadata": {},
   "outputs": [
    {
     "data": {
      "text/plain": [
       "object_id                   22.895203\n",
       "Nworker                     12.140221\n",
       "batch_num                    3.084871\n",
       "P [Num Points]               0.869995\n",
       "R [Num Points]               0.900022\n",
       "J [Num Points]               0.810675\n",
       "P [Area Ratio]               0.755943\n",
       "R [Area Ratio]               0.918613\n",
       "J [Area Ratio]               0.732682\n",
       "P [Jaccard [Self]]           0.952359\n",
       "R [Jaccard [Self]]           0.954361\n",
       "J [Jaccard [Self]]           0.911212\n",
       "P [Precision [Self]]         0.972448\n",
       "R [Precision [Self]]         0.842063\n",
       "J [Precision [Self]]         0.820319\n",
       "P [Recall [Self]]            0.859022\n",
       "R [Recall [Self]]            0.974735\n",
       "J [Recall [Self]]            0.838036\n",
       "P [PixelEM thres=-4]         0.930054\n",
       "R [PixelEM thres=-4]         0.945525\n",
       "J [PixelEM thres=-4]         0.881729\n",
       "P [PixelEM thres=-2]         0.940721\n",
       "R [PixelEM thres=-2]         0.936541\n",
       "J [PixelEM thres=-2]         0.883642\n",
       "P [PixelEM thres=0]          0.944914\n",
       "R [PixelEM thres=0]          0.931887\n",
       "J [PixelEM thres=0]          0.883236\n",
       "P [PixelEM thres=2]          0.948304\n",
       "R [PixelEM thres=2]          0.927779\n",
       "J [PixelEM thres=2]          0.882500\n",
       "P [PixelEM thres=4]          0.956299\n",
       "R [PixelEM thres=4]          0.915741\n",
       "J [PixelEM thres=4]          0.878410\n",
       "P [PixelEM thres=10]         0.945542\n",
       "R [PixelEM thres=10]         0.870259\n",
       "J [PixelEM thres=10]         0.843014\n",
       "P [PixelEM thres=-10]        0.890288\n",
       "R [PixelEM thres=-10]        0.960727\n",
       "J [PixelEM thres=-10]        0.856588\n",
       "P [MV]                       0.947376\n",
       "R [MV]                       0.929552\n",
       "J [MV]                       0.883271\n",
       "P [GT Pixel EM thres=-4]     0.885790\n",
       "R [GT Pixel EM thres=-4]     0.973126\n",
       "J [GT Pixel EM thres=-4]     0.863016\n",
       "P [GT Pixel EM thres=-2]     0.897041\n",
       "R [GT Pixel EM thres=-2]     0.968473\n",
       "J [GT Pixel EM thres=-2]     0.869968\n",
       "P [GT Pixel EM thres=0]      0.907050\n",
       "R [GT Pixel EM thres=0]      0.965205\n",
       "J [GT Pixel EM thres=0]      0.876978\n",
       "P [GT Pixel EM thres=2]      0.912839\n",
       "R [GT Pixel EM thres=2]      0.961228\n",
       "J [GT Pixel EM thres=2]      0.879095\n",
       "P [GT Pixel EM thres=4]      0.918796\n",
       "R [GT Pixel EM thres=4]      0.955430\n",
       "J [GT Pixel EM thres=4]      0.879643\n",
       "dtype: float64"
      ]
     },
     "execution_count": 75,
     "metadata": {},
     "output_type": "execute_result"
    }
   ],
   "source": [
    "updated_Pixel_PR.mean()"
   ]
  },
  {
   "cell_type": "code",
   "execution_count": null,
   "metadata": {
    "collapsed": true
   },
   "outputs": [],
   "source": []
  }
 ],
 "metadata": {
  "kernelspec": {
   "display_name": "Python 2",
   "language": "python",
   "name": "python2"
  },
  "language_info": {
   "codemirror_mode": {
    "name": "ipython",
    "version": 2
   },
   "file_extension": ".py",
   "mimetype": "text/x-python",
   "name": "python",
   "nbconvert_exporter": "python",
   "pygments_lexer": "ipython2",
   "version": "2.7.6"
  }
 },
 "nbformat": 4,
 "nbformat_minor": 2
}
