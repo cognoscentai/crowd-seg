{
 "cells": [
  {
   "cell_type": "code",
   "execution_count": 1,
   "metadata": {},
   "outputs": [
    {
     "name": "stdout",
     "output_type": "stream",
     "text": [
      "/srv/data/home/jlee782/crowd-seg/analysis/TileEM\n"
     ]
    }
   ],
   "source": [
    "cd ../TileEM/"
   ]
  },
  {
   "cell_type": "code",
   "execution_count": 2,
   "metadata": {},
   "outputs": [
    {
     "name": "stdout",
     "output_type": "stream",
     "text": [
      "Populating the interactive namespace from numpy and matplotlib\n"
     ]
    }
   ],
   "source": [
    "%pylab inline\n",
    "%load_ext autoreload\n",
    "%autoreload 2\n",
    "from paper_visualizations import * \n",
    "from PixelEM import * \n",
    "from test_sample import test_sample_obj\n",
    "import json\n",
    "import pandas as pd\n",
    "object_lst = [1, 2, 3, 4, 5, 6, 7, 8, 9, 10, 11, 12, 13, 14, 15, 16, 17, 18, 19, 20, 21, 22, 23, 24, 25, 26, 27, 28, 29, 30, 31, 32, 33, 34, 36, 37, 38, 39, 42, 43, 44, 45, 46, 47]"
   ]
  },
  {
   "cell_type": "code",
   "execution_count": 33,
   "metadata": {
    "collapsed": true
   },
   "outputs": [],
   "source": [
    "tiles = pkl.load(open(\"pixel_em/5workers_rand0/obj1/tiles.pkl\"))\n",
    "mega_mask = pkl.load(open(\"pixel_em/5workers_rand0/obj1/mega_mask.pkl\"))"
   ]
  },
  {
   "cell_type": "code",
   "execution_count": 34,
   "metadata": {
    "collapsed": true
   },
   "outputs": [],
   "source": [
    "mask = np.zeros_like(mega_mask)\n",
    "for tidx in range(len(tiles)):\n",
    "    for i in list(tiles[tidx]):\n",
    "        mask[i]=tidx"
   ]
  },
  {
   "cell_type": "code",
   "execution_count": null,
   "metadata": {
    "collapsed": true
   },
   "outputs": [],
   "source": [
    "def tiles2mask(sample,objid):\n",
    "    tiles = pkl.load(open(\"pixel_em/{}/obj{}/tiles.pkl\".format(sample,objid)))\n",
    "    mega_mask = pkl.load(open(\"pixel_em/{}/obj{}/mega_mask.pkl\".format(sample,objid)))\n",
    "    mask = np.zeros_like(mega_mask)\n",
    "    for tidx in range(len(tiles)):\n",
    "        for i in list(tiles[tidx]):\n",
    "            mask[i]=tidx\n",
    "    return mask "
   ]
  },
  {
   "cell_type": "code",
   "execution_count": 5,
   "metadata": {},
   "outputs": [
    {
     "data": {
      "text/plain": [
       "<matplotlib.colorbar.Colorbar at 0x11516dd0>"
      ]
     },
     "execution_count": 5,
     "metadata": {},
     "output_type": "execute_result"
    },
    {
     "data": {
      "image/png": "[encoded data removed]",
      "text/plain": [
       "<matplotlib.figure.Figure at 0x1c89250>"
      ]
     },
     "metadata": {},
     "output_type": "display_data"
    }
   ],
   "source": [
    "plt.figure()\n",
    "plt.imshow(mask)\n",
    "plt.title(\"Tile index map\")\n",
    "plt.colorbar()"
   ]
  },
  {
   "cell_type": "code",
   "execution_count": 6,
   "metadata": {},
   "outputs": [
    {
     "data": {
      "text/plain": [
       "<matplotlib.colorbar.Colorbar at 0x114c3c50>"
      ]
     },
     "execution_count": 6,
     "metadata": {},
     "output_type": "execute_result"
    },
    {
     "data": {
      "image/png": "[encoded data removed]",
      "text/plain": [
       "<matplotlib.figure.Figure at 0x11600f50>"
      ]
     },
     "metadata": {},
     "output_type": "display_data"
    }
   ],
   "source": [
    "plt.figure()\n",
    "plt.imshow(mega_mask)\n",
    "plt.title(\"Megamask\")\n",
    "plt.colorbar()"
   ]
  },
  {
   "cell_type": "markdown",
   "metadata": {},
   "source": [
    "# PixTile sanity checks "
   ]
  },
  {
   "cell_type": "code",
   "execution_count": 21,
   "metadata": {
    "collapsed": true
   },
   "outputs": [],
   "source": [
    "def check1(tiles):\n",
    "    all_tidxs=set()\n",
    "    for tidxs in tiles:\n",
    "        all_tidxs= all_tidxs.union(tidxs)\n",
    "    print \"Set union of all index of all tiles is same as size of original image:\", len(all_tidxs)==np.prod(np.shape(mega_mask))"
   ]
  },
  {
   "cell_type": "code",
   "execution_count": 22,
   "metadata": {},
   "outputs": [
    {
     "name": "stdout",
     "output_type": "stream",
     "text": [
      "Set union of all index of all tiles is same as size of original image: True\n"
     ]
    }
   ],
   "source": [
    "check1(tiles)"
   ]
  },
  {
   "cell_type": "markdown",
   "metadata": {},
   "source": [
    "This most likely means that there should be no pixels that are in multiple tiles, and multiple tiles that have the same pixel, but we will check these independently"
   ]
  },
  {
   "cell_type": "code",
   "execution_count": 42,
   "metadata": {
    "collapsed": true
   },
   "outputs": [],
   "source": [
    "def check(tiles,mega_mask,PRINT=False):\n",
    "    all_tidxs=set()\n",
    "    check2=True\n",
    "    for tidxs in tiles:\n",
    "        if len(all_tidxs.intersection(tidxs))!=0:\n",
    "            check2=False\n",
    "        all_tidxs= all_tidxs.union(tidxs)\n",
    "    check1 =  len(all_tidxs)==np.prod(np.shape(mega_mask))\n",
    "    if PRINT: \n",
    "        print \"1. Set union of all index of all tiles is same as size of original image:\",check1\n",
    "        print \"2. None of the pixels lie in multiple tiles: \",check2\n",
    "    return check1 and check2"
   ]
  },
  {
   "cell_type": "code",
   "execution_count": 39,
   "metadata": {},
   "outputs": [
    {
     "name": "stdout",
     "output_type": "stream",
     "text": [
      "1. Set union of all index of all tiles is same as size of original image: True\n",
      "2. None of the pixels lie in multiple tiles:  True\n"
     ]
    }
   ],
   "source": [
    "chk = check(tiles,mega_mask,PRINT=True)"
   ]
  },
  {
   "cell_type": "code",
   "execution_count": 40,
   "metadata": {},
   "outputs": [
    {
     "data": {
      "text/plain": [
       "True"
      ]
     },
     "execution_count": 40,
     "metadata": {},
     "output_type": "execute_result"
    }
   ],
   "source": [
    "chk"
   ]
  },
  {
   "cell_type": "code",
   "execution_count": 55,
   "metadata": {},
   "outputs": [
    {
     "name": "stderr",
     "output_type": "stream",
     "text": [
      "\r",
      "  0%|          | 0/6 [00:00<?, ?it/s]"
     ]
    },
    {
     "name": "stdout",
     "output_type": "stream",
     "text": [
      "GOOD: 5workers_rand0 13\n",
      "GOOD: 5workers_rand0 29\n",
      "BAD: 5workers_rand0 16\n",
      "GOOD: 5workers_rand0 39\n"
     ]
    },
    {
     "name": "stderr",
     "output_type": "stream",
     "text": [
      "\r",
      " 17%|█▋        | 1/6 [01:09<05:48,  0.01it/s]"
     ]
    },
    {
     "name": "stdout",
     "output_type": "stream",
     "text": [
      "GOOD: 5workers_rand0 14\n",
      "GOOD: 10workers_rand0 45\n",
      "GOOD: 10workers_rand0 44\n",
      "GOOD: 10workers_rand0 24\n",
      "GOOD: 10workers_rand0 22\n"
     ]
    },
    {
     "name": "stderr",
     "output_type": "stream",
     "text": [
      "\r",
      " 33%|███▎      | 2/6 [02:28<04:56,  0.01it/s]"
     ]
    },
    {
     "name": "stdout",
     "output_type": "stream",
     "text": [
      "GOOD: 10workers_rand0 46\n",
      "GOOD: 15workers_rand0 19\n",
      "GOOD: 15workers_rand0 29\n",
      "GOOD: 15workers_rand0 44\n",
      "GOOD: 15workers_rand0 11\n"
     ]
    },
    {
     "name": "stderr",
     "output_type": "stream",
     "text": [
      "\r",
      " 50%|█████     | 3/6 [04:26<04:26,  0.01it/s]"
     ]
    },
    {
     "name": "stdout",
     "output_type": "stream",
     "text": [
      "GOOD: 15workers_rand0 47\n",
      "GOOD: 20workers_rand0 14\n",
      "GOOD: 20workers_rand0 23\n",
      "GOOD: 20workers_rand0 18\n",
      "GOOD: 20workers_rand0 26\n"
     ]
    },
    {
     "name": "stderr",
     "output_type": "stream",
     "text": [
      "\r",
      " 67%|██████▋   | 4/6 [08:01<04:00,  0.01it/s]"
     ]
    },
    {
     "name": "stdout",
     "output_type": "stream",
     "text": [
      "GOOD: 20workers_rand0 44\n",
      "BAD: 25workers_rand0 20\n",
      "GOOD: 25workers_rand0 31\n",
      "BAD: 25workers_rand0 2\n",
      "GOOD: 25workers_rand0 47\n"
     ]
    },
    {
     "name": "stderr",
     "output_type": "stream",
     "text": [
      "\r",
      " 83%|████████▎ | 5/6 [14:53<02:58,  0.01it/s]"
     ]
    },
    {
     "name": "stdout",
     "output_type": "stream",
     "text": [
      "GOOD: 25workers_rand0 15\n",
      "BAD: 30workers_rand0 25\n",
      "GOOD: 30workers_rand0 24\n",
      "GOOD: 30workers_rand0 22\n",
      "BAD: 30workers_rand0 20\n"
     ]
    },
    {
     "name": "stderr",
     "output_type": "stream",
     "text": [
      "                                             "
     ]
    },
    {
     "name": "stdout",
     "output_type": "stream",
     "text": [
      "GOOD: 30workers_rand0 11\n"
     ]
    },
    {
     "name": "stderr",
     "output_type": "stream",
     "text": [
      "\r"
     ]
    }
   ],
   "source": [
    "for sample in tqdm(['5workers_rand0','10workers_rand0','15workers_rand0','20workers_rand0','25workers_rand0','30workers_rand0']):\n",
    "    sampled_object_lst = np.random.choice(object_lst,5, replace=False)\n",
    "    for objid in sampled_object_lst:\n",
    "        tiles = pkl.load(open(\"pixel_em/{}/obj{}/tiles.pkl\".format(sample,objid)))\n",
    "        mega_mask = pkl.load(open(\"pixel_em/{}/obj{}/mega_mask.pkl\".format(sample,objid)))\n",
    "        chk = check(tiles,mega_mask)\n",
    "        if chk: \n",
    "            print \"GOOD:\",sample,objid\n",
    "        else:\n",
    "            print \"BAD:\",sample,objid"
   ]
  },
  {
   "cell_type": "code",
   "execution_count": null,
   "metadata": {
    "collapsed": true
   },
   "outputs": [],
   "source": []
  }
 ],
 "metadata": {
  "kernelspec": {
   "display_name": "Python 2",
   "language": "python",
   "name": "python2"
  },
  "language_info": {
   "codemirror_mode": {
    "name": "ipython",
    "version": 2
   },
   "file_extension": ".py",
   "mimetype": "text/x-python",
   "name": "python",
   "nbconvert_exporter": "python",
   "pygments_lexer": "ipython2",
   "version": "2.7.6"
  }
 },
 "nbformat": 4,
 "nbformat_minor": 2
}
