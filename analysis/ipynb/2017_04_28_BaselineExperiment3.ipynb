{
 "cells": [
  {
   "cell_type": "code",
   "execution_count": 1,
   "metadata": {},
   "outputs": [
    {
     "name": "stdout",
     "output_type": "stream",
     "text": [
      "Populating the interactive namespace from numpy and matplotlib\n"
     ]
    }
   ],
   "source": [
    "%pylab inline"
   ]
  },
  {
   "cell_type": "code",
   "execution_count": 2,
   "metadata": {},
   "outputs": [
    {
     "name": "stdout",
     "output_type": "stream",
     "text": [
      "/home/jlee782/crowd-seg/analysis/TileEM\n"
     ]
    }
   ],
   "source": [
    "cd ../TileEM/"
   ]
  },
  {
   "cell_type": "code",
   "execution_count": 3,
   "metadata": {
    "collapsed": true
   },
   "outputs": [],
   "source": [
    "from TileEM_plot_toolbox import *\n",
    "from qualityBaseline import *\n",
    "from glob import glob"
   ]
  },
  {
   "cell_type": "code",
   "execution_count": 4,
   "metadata": {
    "collapsed": true
   },
   "outputs": [],
   "source": [
    "worker_Nbatches={5:10,10:8,15:6,20:4,25:2,30:1}\n",
    "sampleN_lst=worker_Nbatches.keys()"
   ]
  },
  {
   "cell_type": "code",
   "execution_count": 5,
   "metadata": {
    "collapsed": true
   },
   "outputs": [],
   "source": [
    "from collections import OrderedDict\n",
    "df = pd.read_csv(\"../computed_my_COCO_BBvals.csv\",index_col=0)"
   ]
  },
  {
   "cell_type": "code",
   "execution_count": 201,
   "metadata": {},
   "outputs": [
    {
     "name": "stdout",
     "output_type": "stream",
     "text": [
      "/home/jlee782/crowd-seg/analysis/TileEM\n"
     ]
    }
   ],
   "source": [
    "cd ../../"
   ]
  },
  {
   "cell_type": "code",
   "execution_count": 381,
   "metadata": {},
   "outputs": [
    {
     "name": "stderr",
     "output_type": "stream",
     "text": [
      "TopologyException: found non-noded intersection between LINESTRING (312 151, 310 155) and LINESTRING (318 147, 310 155) at 310 154.99999999999994\n",
      "Self-intersection at or near point 310 154.99999999999994\n",
      "TopologyException: found non-noded intersection between LINESTRING (312 151, 310 155) and LINESTRING (318 147, 310 155) at 310 154.99999999999994\n",
     ]
    }
   ],
   "source": [
    "worker_Nbatches={5:10,10:8,15:6,20:4,25:2,30:1}\n",
    "sampleN_lst=worker_Nbatches.keys()\n",
    "for Nworker in sampleN_lst:\n",
    "    for batch_num in range(worker_Nbatches[Nworker]):\n",
    "        dir_name = \"{0}worker_rand{1}\".format(Nworker,batch_num)\n",
    "        #print dir_name\n",
    "        os.chdir(\"sample/\"+dir_name)\n",
    "        for objid in object_lst:\n",
    "            tiles = pkl.load(open(\"vtiles{}.pkl\".format(objid)))\n",
    "            indMat = pkl.load(open(\"indMat{}.pkl\".format(objid)))\n",
    "            workers = pkl.load(open(\"worker{}.pkl\".format(objid)))\n",
    "\n",
    "            area = indMat[-1]\n",
    "            votes = indMat[:-1].sum(axis=0)\n",
    "\n",
    "            tidx=np.where(votes>np.shape(indMat[:-1])[0]/2.)[0]\n",
    "            MVT_T = join_tiles(tidx,tiles)\n",
    "            pkl.dump(MVT_T,open(\"MVT{}.pkl\".format(objid),'w'))\n",
    "        os.chdir(\"../../\")"
   ]
  }
 ],
 "metadata": {
  "kernelspec": {
   "display_name": "Python 2",
   "language": "python",
   "name": "python2"
  },
  "language_info": {
   "codemirror_mode": {
    "name": "ipython",
    "version": 2
   },
   "file_extension": ".py",
   "mimetype": "text/x-python",
   "name": "python",
   "nbconvert_exporter": "python",
   "pygments_lexer": "ipython2",
   "version": "2.7.6"
  }
 },
 "nbformat": 4,
 "nbformat_minor": 1
}
