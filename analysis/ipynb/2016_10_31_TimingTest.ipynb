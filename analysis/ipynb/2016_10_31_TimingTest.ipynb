{
 "cells": [
  {
   "cell_type": "code",
   "execution_count": 1,
   "metadata": {
    "collapsed": false
   },
   "outputs": [
    {
     "name": "stdout",
     "output_type": "stream",
     "text": [
      "Populating the interactive namespace from numpy and matplotlib\n"
     ]
    }
   ],
   "source": [
    "%pylab inline "
   ]
  },
  {
   "cell_type": "code",
   "execution_count": 3,
   "metadata": {
    "collapsed": true
   },
   "outputs": [],
   "source": [
    "import pandas as pd\n",
    "hit_info  =pd.read_csv(\"HIT_Timing.csv\") #obtained from exporting postgres sql to \n",
    "import ast\n",
    "dt = [] \n",
    "for time in hit_info['times']:\n",
    "    all_t = ast.literal_eval(time)\n",
    "    dt.append(all_t[-1]-all_t[0])"
   ]
  },
  {
   "cell_type": "code",
   "execution_count": 4,
   "metadata": {
    "collapsed": false
   },
   "outputs": [
    {
     "name": "stdout",
     "output_type": "stream",
     "text": [
      "Average Annotation Time for each object :  18.3176666667 sec\n"
     ]
    }
   ],
   "source": [
    "# time is stored in milliseconds , convert to seconds\n",
    "print \"Average Annotation Time for each object : \" , np.mean(dt)/1000,\"sec\""
   ]
  },
  {
   "cell_type": "markdown",
   "metadata": {},
   "source": [
    "## Convert Postgres sql to csv "
   ]
  },
  {
   "cell_type": "code",
   "execution_count": 15,
   "metadata": {
    "collapsed": true
   },
   "outputs": [],
   "source": [
    "import os\n",
    "def save_db_as_csv(postgres=True):\n",
    "    '''\n",
    "    Create CSV file of each table from app.db\n",
    "    '''\n",
    "    path = \"/Users/dorislee/Desktop/Fall2016/Research/seg/data/\"\n",
    "    table_names = [\"bounding_box\",\"image\",\"object\",\"object_location\",\"worker\",\"hit\"]\n",
    "    for table_name in table_names :\n",
    "        if postgres:\n",
    "            os.system(\"psql segment  -F , --no-align  -c  'SELECT * FROM {0}' > {1}/{0}.csv\".format(table_name,path))\n",
    "        else:\n",
    "            # sqlite\n",
    "            conn = sqlite3.connect(glob(expanduser('../web-app/app.db'))[0])\n",
    "            cursor = conn.cursor()\n",
    "            cursor.execute(\"select * from {};\".format(table_name))\n",
    "            with open(\"{}.csv\".format(table_name), \"wb\") as csv_file:\n",
    "                csv_writer = csv.writer(csv_file)\n",
    "                csv_writer.writerow([i[0] for i in cursor.description]) # write headers\n",
    "                csv_writer.writerows(cursor)"
   ]
  },
  {
   "cell_type": "code",
   "execution_count": 16,
   "metadata": {
    "collapsed": false
   },
   "outputs": [],
   "source": [
    "save_db_as_csv()"
   ]
  }
 ],
 "metadata": {
  "kernelspec": {
   "display_name": "Python 2",
   "language": "python",
   "name": "python2"
  },
  "language_info": {
   "codemirror_mode": {
    "name": "ipython",
    "version": 2
   },
   "file_extension": ".py",
   "mimetype": "text/x-python",
   "name": "python",
   "nbconvert_exporter": "python",
   "pygments_lexer": "ipython2",
   "version": "2.7.10"
  }
 },
 "nbformat": 4,
 "nbformat_minor": 0
}
