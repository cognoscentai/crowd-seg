{
 "cells": [
  {
   "cell_type": "code",
   "execution_count": 1,
   "metadata": {},
   "outputs": [
    {
     "name": "stdout",
     "output_type": "stream",
     "text": [
      "/srv/data/home/jlee782/crowd-seg/analysis/TileEM\n"
     ]
    }
   ],
   "source": [
    "cd ../TileEM/"
   ]
  },
  {
   "cell_type": "code",
   "execution_count": 2,
   "metadata": {},
   "outputs": [
    {
     "name": "stdout",
     "output_type": "stream",
     "text": [
      "Populating the interactive namespace from numpy and matplotlib\n"
     ]
    }
   ],
   "source": [
    "%pylab inline\n",
    "%load_ext autoreload\n",
    "%autoreload 2\n",
    "from paper_visualizations import * \n",
    "from PixelEM import * \n",
    "from test_sample import test_sample_obj\n",
    "import json\n",
    "import pandas as pd\n",
    "object_lst = [1, 2, 3, 4, 5, 6, 7, 8, 9, 10, 11, 12, 13, 14, 15, 16, 17, 18, 19, 20, 21, 22, 23, 24, 25, 26, 27, 28, 29, 30, 31, 32, 33, 34, 36, 37, 38, 39, 42, 43, 44, 45, 46, 47]"
   ]
  },
  {
   "cell_type": "code",
   "execution_count": 3,
   "metadata": {
    "collapsed": true
   },
   "outputs": [],
   "source": [
    "tiles = pkl.load(open(\"pixel_em/5workers_rand0/obj1/tiles.pkl\"))"
   ]
  },
  {
   "cell_type": "code",
   "execution_count": 5,
   "metadata": {
    "collapsed": true
   },
   "outputs": [],
   "source": [
    "mega_mask = pkl.load(open(\"pixel_em/5workers_rand0/obj1/mega_mask.pkl\"))"
   ]
  },
  {
   "cell_type": "code",
   "execution_count": 4,
   "metadata": {},
   "outputs": [
    {
     "data": {
      "text/plain": [
       "565"
      ]
     },
     "execution_count": 4,
     "metadata": {},
     "output_type": "execute_result"
    }
   ],
   "source": [
    "len(tiles)"
   ]
  },
  {
   "cell_type": "code",
   "execution_count": 76,
   "metadata": {},
   "outputs": [],
   "source": [
    "mask = np.zeros_like(mega_mask)"
   ]
  },
  {
   "cell_type": "code",
   "execution_count": 11,
   "metadata": {},
   "outputs": [
    {
     "data": {
      "text/plain": [
       "array([[[ 0.,  0.,  0., ...,  0.,  0.,  0.],\n",
       "        [ 0.,  0.,  0., ...,  0.,  0.,  0.]]])"
      ]
     },
     "execution_count": 11,
     "metadata": {},
     "output_type": "execute_result"
    }
   ],
   "source": [
    "mask[idx]"
   ]
  },
  {
   "cell_type": "code",
   "execution_count": 27,
   "metadata": {},
   "outputs": [],
   "source": [
    "idx = np.array(tiles[300])"
   ]
  },
  {
   "cell_type": "code",
   "execution_count": 71,
   "metadata": {},
   "outputs": [],
   "source": [
    "idx = np.array(list(tiles[300]))\n",
    "idx2 = np.array(list(tiles[390]))"
   ]
  },
  {
   "cell_type": "code",
   "execution_count": 59,
   "metadata": {
    "collapsed": true
   },
   "outputs": [],
   "source": [
    "import numpy.ma as ma"
   ]
  },
  {
   "cell_type": "code",
   "execution_count": 78,
   "metadata": {},
   "outputs": [],
   "source": [
    "base = ma.make_mask(mask)"
   ]
  },
  {
   "cell_type": "code",
   "execution_count": 79,
   "metadata": {},
   "outputs": [
    {
     "data": {
      "text/plain": [
       "False"
      ]
     },
     "execution_count": 79,
     "metadata": {},
     "output_type": "execute_result"
    }
   ],
   "source": [
    "base"
   ]
  },
  {
   "cell_type": "code",
   "execution_count": 72,
   "metadata": {
    "collapsed": true
   },
   "outputs": [],
   "source": [
    "base = ma.masked_array(idx,fill_value=0)\n",
    "mx = ma.masked_array(idx,fill_value=1)\n",
    "mx2 = ma.masked_array(idx2,fill_value=2)"
   ]
  },
  {
   "cell_type": "code",
   "execution_count": 125,
   "metadata": {},
   "outputs": [
    {
     "data": {
      "text/plain": [
       "array([[102, 595],\n",
       "       [ 33, 440],\n",
       "       [342, 418],\n",
       "       ..., \n",
       "       [116, 548],\n",
       "       [ 63, 255],\n",
       "       [356,  75]])"
      ]
     },
     "execution_count": 125,
     "metadata": {},
     "output_type": "execute_result"
    }
   ],
   "source": [
    "np.array(list(tiles[0]))"
   ]
  },
  {
   "cell_type": "code",
   "execution_count": 127,
   "metadata": {
    "collapsed": true
   },
   "outputs": [],
   "source": [
    "ma.masked_array?"
   ]
  },
  {
   "cell_type": "code",
   "execution_count": 129,
   "metadata": {},
   "outputs": [
    {
     "data": {
      "text/plain": [
       "278070"
      ]
     },
     "execution_count": 129,
     "metadata": {},
     "output_type": "execute_result"
    }
   ],
   "source": [
    "len(np.array(list(tiles[0])))"
   ]
  },
  {
   "cell_type": "code",
   "execution_count": 133,
   "metadata": {},
   "outputs": [],
   "source": [
    "mask = np.zeros_like(mega_mask)"
   ]
  },
  {
   "cell_type": "code",
   "execution_count": 139,
   "metadata": {},
   "outputs": [
    {
     "data": {
      "text/plain": [
       "[(102, 595),\n",
       " (33, 440),\n",
       " (342, 418),\n",
       " (273, 617),\n",
       " (381, 392),\n",
       " (418, 370),\n",
       " (444, 7),\n",
       " (5, 178),\n",
       " (247, 483),\n",
       " (30, 287),\n",
       " (265, 575),\n",
       " (242, 161),\n",
       " (189, 422),\n",
       " (228, 412),\n",
       " (122, 635),\n",
       " (468, 611),\n",
       " (214, 91),\n",
       " (454, 586),\n",
       " (290, 555),\n",
       " (184, 26),\n",
       " (94, 509),\n",
       " (424, 521),\n",
       " (276, 618),\n",
       " (170, 21),\n",
       " (479, 45),\n",
       " (373, 554),\n",
       " (209, 569),\n",
       " (119, 90),\n",
       " (156, 192),\n",
       " (449, 74),\n",
       " (195, 634),\n",
       " (89, 227),\n",
       " (75, 400),\n",
       " (421, 228),\n",
       " (114, 374),\n",
       " (167, 448),\n",
       " (460, 334),\n",
       " (354, 201),\n",
       " (407, 305),\n",
       " (446, 265),\n",
       " (181, 75),\n",
       " (86, 240),\n",
       " (17, 287),\n",
       " (56, 323),\n",
       " (402, 211),\n",
       " (351, 244),\n",
       " (267, 548),\n",
       " (28, 185),\n",
       " (360, 601),\n",
       " (14, 508),\n",
       " (307, 114),\n",
       " (53, 538),\n",
       " (346, 532),\n",
       " (240, 63),\n",
       " (293, 11),\n",
       " (187, 536),\n",
       " (39, 539),\n",
       " (226, 126),\n",
       " (173, 549),\n",
       " (61, 549),\n",
       " (212, 445),\n",
       " (200, 513),\n",
       " (198, 248),\n",
       " (51, 524),\n",
       " (117, 504),\n",
       " (154, 370),\n",
       " (463, 236),\n",
       " (193, 280),\n",
       " (140, 257),\n",
       " (433, 265),\n",
       " (179, 221),\n",
       " (472, 337),\n",
       " (112, 200),\n",
       " (59, 435),\n",
       " (98, 407),\n",
       " (151, 387),\n",
       " (444, 143),\n",
       " (391, 400),\n",
       " (84, 102),\n",
       " (377, 212),\n",
       " (430, 78),\n",
       " (70, 81),\n",
       " (1, 638),\n",
       " (40, 4),\n",
       " (349, 6),\n",
       " (386, 48),\n",
       " (280, 563),\n",
       " (26, 219),\n",
       " (335, 87),\n",
       " (266, 586),\n",
       " (12, 90),\n",
       " (17, 583),\n",
       " (291, 149),\n",
       " (37, 505),\n",
       " (224, 208),\n",
       " (196, 286),\n",
       " (272, 198),\n",
       " (475, 449),\n",
       " (221, 253),\n",
       " (101, 391),\n",
       " (447, 623),\n",
       " (177, 127),\n",
       " (380, 578),\n",
       " (417, 456),\n",
       " (126, 42),\n",
       " (163, 60),\n",
       " (456, 50),\n",
       " (366, 533),\n",
       " (202, 538),\n",
       " (96, 9),\n",
       " (265, 110),\n",
       " (442, 109),\n",
       " (336, 536),\n",
       " (188, 601),\n",
       " (82, 52),\n",
       " (135, 194),\n",
       " (29, 603),\n",
       " (121, 426),\n",
       " (174, 412),\n",
       " (68, 231),\n",
       " (361, 123),\n",
       " (414, 399),\n",
       " (453, 427),\n",
       " (384, 174),\n",
       " (24, 325),\n",
       " (333, 197),\n",
       " (79, 481),\n",
       " (372, 285),\n",
       " (10, 312),\n",
       " (395, 494),\n",
       " (21, 408),\n",
       " (314, 146),\n",
       " (208, 369),\n",
       " (38, 570),\n",
       " (353, 632),\n",
       " (7, 149),\n",
       " (46, 581),\n",
       " (149, 405),\n",
       " (286, 84),\n",
       " (16, 616),\n",
       " (219, 19),\n",
       " (113, 564),\n",
       " (2, 567),\n",
       " (205, 28),\n",
       " (281, 628),\n",
       " (85, 582),\n",
       " (124, 428),\n",
       " (161, 158),\n",
       " (470, 128),\n",
       " (110, 235),\n",
       " (147, 351),\n",
       " (440, 467),\n",
       " (426, 234),\n",
       " (473, 54),\n",
       " (66, 277),\n",
       " (105, 297),\n",
       " (52, 288),\n",
       " (345, 474),\n",
       " (398, 332),\n",
       " (91, 202),\n",
       " (128, 368),\n",
       " (437, 490),\n",
       " (423, 139),\n",
       " (113, 111),\n",
       " (63, 96),\n",
       " (356, 254),\n",
       " (393, 76),\n",
       " (303, 465),\n",
       " (33, 53),\n",
       " (342, 57),\n",
       " (262, 589),\n",
       " (19, 6),\n",
       " (312, 124),\n",
       " (259, 535),\n",
       " (5, 39),\n",
       " (298, 51),\n",
       " (247, 116),\n",
       " (284, 482),\n",
       " (178, 605),\n",
       " (270, 181),\n",
       " (203, 242),\n",
       " (40, 596),\n",
       " (228, 263),\n",
       " (108, 301),\n",
       " (184, 165),\n",
       " (94, 360),\n",
       " (131, 510),\n",
       " (424, 372),\n",
       " (170, 408),\n",
       " (479, 406),\n",
       " (156, 91),\n",
       " (449, 199),\n",
       " (359, 636),\n",
       " (89, 104),\n",
       " (142, 226),\n",
       " (36, 545),\n",
       " (329, 569),\n",
       " (181, 568),\n",
       " (75, 13),\n",
       " (368, 17),\n",
       " (22, 628),\n",
       " (460, 449),\n",
       " (354, 92),\n",
       " (407, 202),\n",
       " (47, 163),\n",
       " (340, 159),\n",
       " (86, 399),\n",
       " (17, 404),\n",
       " (326, 414),\n",
       " (365, 444),\n",
       " (402, 326),\n",
       " (296, 221),\n",
       " (245, 230),\n",
       " (28, 268),\n",
       " (231, 279),\n",
       " (14, 331),\n",
       " (307, 511),\n",
       " (293, 176),\n",
       " (274, 80),\n",
       " (226, 245),\n",
       " (120, 624),\n",
       " (173, 410),\n",
       " (9, 585),\n",
       " (212, 64),\n",
       " (106, 591),\n",
       " (452, 599),\n",
       " (288, 528),\n",
       " (198, 119),\n",
       " (438, 518),\n",
       " (274, 543),\n",
       " (168, 38),\n",
       " (477, 36),\n",
       " (117, 77),\n",
       " (154, 505),\n",
       " (463, 113),\n",
       " (193, 405),\n",
       " (140, 180),\n",
       " (433, 134),\n",
       " (260, 3),\n",
       " (73, 239),\n",
       " (112, 323),\n",
       " (133, 283),\n",
       " (59, 332),\n",
       " (202, 606),\n",
       " (405, 296),\n",
       " (98, 298),\n",
       " (151, 276),\n",
       " (444, 258),\n",
       " (338, 253),\n",
       " (391, 261),\n",
       " (430, 213),\n",
       " (70, 204),\n",
       " (1, 459),\n",
       " (40, 399),\n",
       " (349, 411),\n",
       " (386, 135),\n",
       " (335, 216),\n",
       " (374, 630),\n",
       " (12, 205),\n",
       " (305, 93),\n",
       " (344, 517),\n",
       " (254, 8),\n",
       " (291, 30),\n",
       " (185, 519),\n",
       " (37, 622),\n",
       " (330, 504),\n",
       " (224, 107),\n",
       " (277, 223),\n",
       " (171, 564),\n",
       " (210, 82),\n",
       " (157, 633),\n",
       " (196, 385),\n",
       " (235, 429),\n",
       " (272, 433),\n",
       " (182, 212),\n",
       " (475, 346),\n",
       " (115, 243),\n",
       " (101, 268),\n",
       " (138, 262),\n",
       " (447, 272),\n",
       " (177, 500),\n",
       " (232, 410),\n",
       " (417, 325),\n",
       " (163, 169),\n",
       " (456, 189),\n",
       " (96, 132),\n",
       " (149, 134),\n",
       " (43, 399),\n",
       " (82, 427),\n",
       " (135, 439),\n",
       " (428, 195),\n",
       " (121, 567),\n",
       " (68, 106),\n",
       " (361, 224),\n",
       " (15, 621),\n",
       " (107, 516),\n",
       " (54, 13),\n",
       " (347, 53),\n",
       " (241, 522),\n",
       " (93, 553),\n",
       " (24, 464),\n",
       " (333, 122),\n",
       " (264, 607),\n",
       " (372, 480),\n",
       " (10, 175),\n",
       " (252, 142),\n",
       " (238, 457),\n",
       " (21, 301),\n",
       " (208, 236),\n",
       " (432, 121),\n",
       " (219, 492),\n",
       " (256, 146),\n",
       " (459, 445),\n",
       " (205, 145),\n",
       " (445, 610),\n",
       " (191, 66),\n",
       " (85, 459),\n",
       " (431, 563),\n",
       " (124, 39),\n",
       " (161, 43),\n",
       " (470, 31),\n",
       " (364, 630),\n",
       " (200, 495),\n",
       " (110, 118),\n",
       " (147, 232),\n",
       " (440, 94),\n",
       " (350, 545),\n",
       " (186, 590),\n",
       " (80, 69),\n",
       " (426, 81),\n",
       " (172, 621),\n",
       " (66, 488),\n",
       " (375, 150),\n",
       " (412, 156),\n",
       " (105, 406),\n",
       " (158, 424),\n",
       " (52, 171),\n",
       " (345, 167),\n",
       " (398, 475),\n",
       " (437, 383),\n",
       " (69, 287),\n",
       " (8, 305),\n",
       " (63, 277),\n",
       " (393, 249),\n",
       " (342, 180),\n",
       " (19, 147),\n",
       " (367, 611),\n",
       " (5, 428),\n",
       " (298, 166),\n",
       " (337, 596),\n",
       " (247, 201),\n",
       " (284, 117),\n",
       " (30, 625),\n",
       " (217, 14),\n",
       " (270, 0),\n",
       " (164, 515),\n",
       " (0, 548),\n",
       " (203, 111),\n",
       " (242, 459),\n",
       " (189, 176),\n",
       " (122, 149),\n",
       " (108, 416),\n",
       " (145, 170),\n",
       " (454, 188),\n",
       " (94, 215),\n",
       " (131, 363),\n",
       " (424, 511),\n",
       " (170, 271),\n",
       " (479, 283),\n",
       " (50, 361),\n",
       " (89, 501),\n",
       " (142, 361),\n",
       " (435, 225),\n",
       " (329, 422),\n",
       " (75, 134),\n",
       " (368, 140),\n",
       " (421, 414),\n",
       " (114, 608),\n",
       " (61, 103),\n",
       " (248, 594),\n",
       " (47, 52),\n",
       " (340, 34),\n",
       " (287, 485),\n",
       " (17, 1),\n",
       " (326, 21),\n",
       " (61, 117),\n",
       " (257, 562),\n",
       " (365, 561),\n",
       " (3, 50),\n",
       " (296, 72),\n",
       " (245, 107),\n",
       " (282, 231),\n",
       " (51, 92),\n",
       " (28, 391),\n",
       " (248, 612),\n",
       " (231, 136),\n",
       " (122, 103),\n",
       " (226, 264),\n",
       " (279, 246),\n",
       " (173, 271),\n",
       " (466, 283),\n",
       " (212, 203),\n",
       " (244, 590),\n",
       " (92, 353),\n",
       " (168, 145),\n",
       " (477, 185),\n",
       " (371, 426),\n",
       " (408, 416),\n",
       " (117, 210),\n",
       " (154, 76),\n",
       " (463, 506),\n",
       " (357, 579),\n",
       " (103, 35),\n",
       " (140, 47),\n",
       " (433, 51),\n",
       " (343, 528),\n",
       " (179, 563),\n",
       " (73, 20),\n",
       " (382, 238),\n",
       " (20, 629),\n",
       " (112, 510),\n",
       " (165, 588),\n",
       " (59, 217),\n",
       " (352, 77),\n",
       " (6, 576),\n",
       " (444, 405),\n",
       " (338, 112),\n",
       " (391, 254),\n",
       " (31, 151),\n",
       " (324, 163),\n",
       " (70, 443),\n",
       " (1, 320),\n",
       " (310, 458),\n",
       " (386, 282),\n",
       " (12, 320),\n",
       " (254, 183),\n",
       " (277, 100),\n",
       " (23, 576),\n",
       " (210, 201),\n",
       " (104, 604),\n",
       " (157, 462),\n",
       " (249, 533),\n",
       " (196, 116),\n",
       " (90, 531),\n",
       " (255, 78),\n",
       " (436, 571),\n",
       " (272, 556),\n",
       " (182, 35),\n",
       " (475, 215),\n",
       " (115, 124),\n",
       " (152, 242),\n",
       " (461, 88),\n",
       " (101, 177),\n",
       " (138, 397),\n",
       " (447, 389),\n",
       " (417, 210),\n",
       " (57, 315),\n",
       " (96, 287),\n",
       " (149, 267),\n",
       " (43, 376),\n",
       " (389, 284),\n",
       " (82, 286),\n",
       " (135, 296),\n",
       " (428, 310),\n",
       " (414, 225),\n",
       " (54, 152),\n",
       " (347, 142),\n",
       " (24, 91),\n",
       " (333, 495),\n",
       " (372, 619),\n",
       " (319, 44),\n",
       " (358, 514),\n",
       " (252, 1),\n",
       " (289, 9),\n",
       " (35, 407),\n",
       " (238, 84),\n",
       " (275, 458),\n",
       " (169, 563),\n",
       " (314, 428),\n",
       " (208, 103),\n",
       " (261, 227),\n",
       " (155, 608),\n",
       " (194, 134),\n",
       " (180, 469),\n",
       " (473, 325),\n",
       " (219, 377),\n",
       " (256, 493),\n",
       " (459, 310),\n",
       " (99, 287),\n",
       " (191, 247),\n",
       " (85, 336),\n",
       " (378, 458),\n",
       " (431, 324),\n",
       " (124, 186),\n",
       " (161, 416),\n",
       " (470, 426),\n",
       " (401, 369),\n",
       " (147, 117),\n",
       " (440, 233),\n",
       " (80, 176),\n",
       " (133, 74),\n",
       " (27, 475),\n",
       " (320, 591),\n",
       " (60, 34),\n",
       " (66, 127),\n",
       " (375, 491),\n",
       " (13, 548),\n",
       " (105, 515),\n",
       " (52, 62),\n",
       " (345, 44),\n",
       " (255, 529),\n",
       " (38, 249),\n",
       " (331, 65),\n",
       " (77, 605),\n",
       " (8, 444),\n",
       " (317, 430),\n",
       " (455, 521),\n",
       " (393, 358),\n",
       " (396, 7),\n",
       " (126, 258),\n",
       " (19, 284),\n",
       " (222, 501),\n",
       " (259, 269),\n",
       " (5, 273),\n",
       " (284, 200),\n",
       " (47, 592),\n",
       " (217, 155),\n",
       " (127, 440),\n",
       " (164, 438),\n",
       " (203, 408),\n",
       " (97, 637),\n",
       " (443, 617),\n",
       " (189, 69),\n",
       " (83, 574),\n",
       " (429, 598),\n",
       " (122, 24),\n",
       " (175, 22),\n",
       " (69, 511),\n",
       " (415, 519),\n",
       " (108, 27),\n",
       " (145, 39),\n",
       " (454, 43),\n",
       " (348, 554),\n",
       " (184, 443),\n",
       " (94, 66),\n",
       " (131, 212),\n",
       " (424, 106),\n",
       " (170, 626),\n",
       " (64, 145),\n",
       " (153, 77),\n",
       " (50, 412),\n",
       " (396, 240),\n",
       " (89, 322),\n",
       " (142, 500),\n",
       " (435, 362),\n",
       " (329, 211),\n",
       " (21, 37),\n",
       " (421, 259),\n",
       " (61, 252),\n",
       " (248, 477),\n",
       " (47, 441),\n",
       " (340, 437),\n",
       " (326, 128),\n",
       " (3, 191),\n",
       " (351, 599),\n",
       " (245, 496),\n",
       " (282, 106),\n",
       " (28, 538),\n",
       " (321, 512),\n",
       " (231, 61),\n",
       " (268, 9),\n",
       " (162, 516),\n",
       " (14, 605),\n",
       " (201, 122),\n",
       " (148, 599),\n",
       " (187, 443),\n",
       " (226, 415),\n",
       " (265, 427),\n",
       " (173, 132),\n",
       " (466, 398),\n",
       " (106, 185),\n",
       " (92, 500),\n",
       " (129, 358),\n",
       " (438, 232),\n",
       " (168, 284),\n",
       " (477, 270),\n",
       " (371, 311),\n",
       " (408, 299),\n",
       " (154, 211),\n",
       " (463, 335),\n",
       " (103, 212),\n",
       " (34, 445),\n",
       " (73, 385),\n",
       " (382, 405),\n",
       " (419, 237),\n",
       " (112, 617),\n",
       " (59, 82),\n",
       " (352, 216),\n",
       " (405, 66),\n",
       " (98, 564),\n",
       " (45, 91),\n",
       " (232, 638),\n",
       " (84, 519),\n",
       " (31, 24),\n",
       " (324, 22),\n",
       " (271, 553),\n",
       " (1, 221),\n",
       " (310, 65),\n",
       " (386, 401),\n",
       " (229, 415),\n",
       " (266, 235),\n",
       " (12, 507),\n",
       " (215, 220),\n",
       " (79, 57),\n",
       " (20, 519),\n",
       " (171, 282),\n",
       " (69, 40),\n",
       " (263, 202),\n",
       " (10, 528),\n",
       " (450, 463),\n",
       " (196, 255),\n",
       " (76, 405),\n",
       " (422, 617),\n",
       " (115, 457),\n",
       " (152, 125),\n",
       " (461, 205),\n",
       " (355, 598),\n",
       " (392, 556),\n",
       " (101, 38),\n",
       " (138, 48),\n",
       " (447, 14),\n",
       " (341, 535),\n",
       " (177, 542),\n",
       " (87, 119),\n",
       " (417, 111),\n",
       " (327, 548),\n",
       " (163, 607),\n",
       " (57, 448),\n",
       " (366, 186),\n",
       " (4, 601),\n",
       " (96, 426),\n",
       " (149, 400),\n",
       " (43, 245),\n",
       " (336, 121),\n",
       " (389, 385),\n",
       " (428, 425),\n",
       " (15, 379),\n",
       " (54, 279),\n",
       " (289, 134),\n",
       " (199, 383),\n",
       " (328, 636),\n",
       " (238, 227),\n",
       " (275, 87),\n",
       " (21, 583),\n",
       " (261, 104),\n",
       " (7, 628),\n",
       " (194, 29),\n",
       " (88, 520),\n",
       " (233, 545),\n",
       " (180, 88),\n",
       " (473, 466),\n",
       " (113, 75),\n",
       " (459, 163),\n",
       " (99, 392),\n",
       " (136, 158),\n",
       " (445, 140),\n",
       " (191, 376),\n",
       " (85, 229),\n",
       " (431, 457),\n",
       " (470, 289),\n",
       " (401, 238),\n",
       " (41, 263),\n",
       " (80, 299),\n",
       " (133, 319),\n",
       " (27, 340),\n",
       " (320, 474),\n",
       " (66, 242),\n",
       " (375, 380),\n",
       " (412, 490),\n",
       " (398, 173),\n",
       " (38, 116),\n",
       " (331, 250),\n",
       " (269, 551),\n",
       " (278, 455),\n",
       " (8, 39),\n",
       " (317, 35),\n",
       " (356, 543),\n",
       " (250, 6),\n",
       " (303, 112),\n",
       " (54, 544),\n",
       " (236, 53),\n",
       " (273, 69),\n",
       " (19, 425),\n",
       " (222, 96),\n",
       " (259, 502),\n",
       " (63, 560),\n",
       " (178, 250),\n",
       " (127, 301),\n",
       " (457, 305),\n",
       " (203, 277),\n",
       " (83, 331),\n",
       " (122, 431),\n",
       " (175, 155),\n",
       " (69, 356),\n",
       " (362, 510),\n",
       " (108, 142),\n",
       " (145, 412),\n",
       " (454, 422),\n",
       " (131, 65),\n",
       " (424, 213),\n",
       " (334, 632),\n",
       " (64, 108),\n",
       " (373, 30),\n",
       " (11, 567),\n",
       " (304, 571),\n",
       " (156, 564),\n",
       " (50, 19),\n",
       " (359, 31),\n",
       " (253, 632),\n",
       " (435, 503),\n",
       " (329, 88),\n",
       " (428, 72),\n",
       " (22, 149),\n",
       " (315, 157),\n",
       " (61, 369),\n",
       " (301, 418),\n",
       " (287, 211),\n",
       " (3, 296),\n",
       " (206, 289),\n",
       " (282, 497),\n",
       " (400, 531),\n",
       " (268, 188),\n",
       " (201, 231),\n",
       " (111, 620),\n",
       " (148, 474),\n",
       " (240, 587),\n",
       " (187, 52),\n",
       " (81, 585),\n",
       " (427, 613),\n",
       " (279, 540),\n",
       " (173, 121),\n",
       " (466, 5),\n",
       " (413, 522),\n",
       " (106, 44),\n",
       " (159, 58),\n",
       " (452, 48),\n",
       " (92, 79),\n",
       " (129, 499),\n",
       " (438, 103),\n",
       " (44, 163),\n",
       " (168, 391),\n",
       " (477, 387),\n",
       " (371, 128),\n",
       " (408, 182),\n",
       " (48, 237),\n",
       " (103, 329),\n",
       " (34, 304),\n",
       " (73, 270),\n",
       " (382, 256),\n",
       " (419, 278),\n",
       " (263, 67),\n",
       " (405, 215),\n",
       " (45, 208),\n",
       " (232, 489),\n",
       " (430, 634),\n",
       " (349, 634),\n",
       " (243, 235),\n",
       " (280, 31),\n",
       " (335, 571),\n",
       " (229, 4),\n",
       " (266, 30),\n",
       " (12, 622),\n",
       " (305, 508),\n",
       " (215, 81),\n",
       " (146, 568),\n",
       " (185, 166),\n",
       " (132, 635),\n",
       " (185, 529),\n",
       " (171, 407),\n",
       " (464, 155),\n",
       " (210, 435),\n",
       " (263, 447),\n",
       " (157, 216),\n",
       " (450, 322),\n",
       " (90, 237),\n",
       " (225, 511),\n",
       " (76, 264),\n",
       " (115, 338),\n",
       " (152, 456),\n",
       " (461, 322),\n",
       " (392, 343),\n",
       " (138, 167),\n",
       " (447, 179),\n",
       " (87, 136),\n",
       " (380, 118),\n",
       " (18, 401),\n",
       " (57, 77),\n",
       " (366, 449),\n",
       " (403, 57),\n",
       " (96, 549),\n",
       " (115, 78),\n",
       " (43, 110),\n",
       " (336, 244),\n",
       " (246, 619),\n",
       " (82, 520),\n",
       " (29, 15),\n",
       " (322, 59),\n",
       " (216, 554),\n",
       " (15, 460),\n",
       " (308, 122),\n",
       " (241, 169),\n",
       " (294, 189),\n",
       " (213, 451),\n",
       " (199, 240),\n",
       " (441, 156),\n",
       " (275, 224),\n",
       " (118, 448),\n",
       " (155, 374),\n",
       " (194, 400),\n",
       " (434, 387),\n",
       " (180, 163),\n",
       " (74, 618),\n",
       " (420, 626),\n",
       " (113, 192),\n",
       " (166, 74),\n",
       " (60, 457),\n",
       " (406, 549),\n",
       " (99, 53),\n",
       " (136, 9),\n",
       " (445, 1),\n",
       " (339, 514),\n",
       " (191, 493),\n",
       " (85, 106),\n",
       " (378, 228),\n",
       " (431, 82),\n",
       " (325, 571),\n",
       " (161, 586),\n",
       " (71, 75),\n",
       " (401, 91),\n",
       " (41, 396),\n",
       " (350, 134),\n",
       " (387, 152),\n",
       " (80, 422),\n",
       " (133, 420),\n",
       " (27, 161),\n",
       " (412, 381),\n",
       " (255, 271),\n",
       " (38, 483),\n",
       " (250, 141),\n",
       " (342, 597),\n",
       " (236, 424),\n",
       " (273, 178),\n",
       " (183, 595),\n",
       " (476, 479),\n",
       " (312, 552),\n",
       " (222, 239),\n",
       " (259, 99),\n",
       " (5, 523),\n",
       " (192, 14),\n",
       " (139, 521),\n",
       " (247, 552),\n",
       " (178, 113),\n",
       " (217, 493),\n",
       " (127, 86),\n",
       " (164, 172),\n",
       " (457, 446),\n",
       " (256, 7),\n",
       " (97, 135),\n",
       " (83, 468),\n",
       " (122, 306),\n",
       " (69, 233),\n",
       " (415, 509),\n",
       " (145, 265),\n",
       " (454, 285),\n",
       " (25, 339),\n",
       " (64, 487),\n",
       " (410, 159),\n",
       " (304, 438),\n",
       " (50, 134),\n",
       " (359, 144),\n",
       " (396, 414),\n",
       " (89, 596),\n",
       " (36, 117),\n",
       " (239, 590),\n",
       " (22, 32),\n",
       " (315, 22),\n",
       " (262, 499),\n",
       " (248, 243),\n",
       " (301, 23),\n",
       " (287, 68),\n",
       " (474, 637),\n",
       " (220, 105),\n",
       " (257, 145),\n",
       " (3, 405),\n",
       " (206, 172),\n",
       " (125, 292),\n",
       " (148, 365),\n",
       " (441, 477),\n",
       " (187, 193),\n",
       " (464, 127),\n",
       " (120, 156),\n",
       " (67, 375),\n",
       " (106, 403),\n",
       " (159, 175),\n",
       " (452, 187),\n",
       " (346, 418),\n",
       " (399, 604),\n",
       " (92, 194),\n",
       " (129, 72),\n",
       " (438, 498),\n",
       " (332, 593),\n",
       " (78, 21),\n",
       " (371, 13),\n",
       " (408, 1),\n",
       " (318, 516),\n",
       " (154, 557),\n",
       " (48, 24),\n",
       " (357, 226),\n",
       " (251, 611),\n",
       " (103, 450),\n",
       " (140, 584),\n",
       " (34, 199),\n",
       " (343, 435),\n",
       " (237, 588),\n",
       " (419, 387),\n",
       " (6, 161),\n",
       " (299, 169),\n",
       " (45, 325),\n",
       " (285, 502),\n",
       " (280, 234),\n",
       " (190, 429),\n",
       " (229, 137),\n",
       " (254, 596),\n",
       " (185, 51),\n",
       " (95, 592),\n",
       " (132, 494),\n",
       " (224, 519),\n",
       " (171, 0),\n",
       " (65, 517),\n",
       " (411, 561),\n",
       " (104, 61),\n",
       " (157, 45),\n",
       " (450, 217),\n",
       " (260, 18),\n",
       " (90, 112),\n",
       " (143, 238),\n",
       " (436, 100),\n",
       " (76, 131),\n",
       " (369, 399),\n",
       " (422, 403),\n",
       " (461, 503),\n",
       " (392, 194),\n",
       " (32, 313),\n",
       " (232, 21),\n",
       " (87, 285),\n",
       " (380, 265),\n",
       " (18, 260),\n",
       " (57, 218),\n",
       " (403, 450),\n",
       " (389, 251),\n",
       " (29, 132),\n",
       " (322, 142),\n",
       " (216, 437),\n",
       " (15, 81),\n",
       " (308, 461),\n",
       " (347, 609),\n",
       " (241, 38),\n",
       " (294, 40),\n",
       " (333, 526),\n",
       " (227, 23),\n",
       " (264, 107),\n",
       " (467, 612),\n",
       " (213, 72),\n",
       " (289, 424),\n",
       " (199, 101),\n",
       " (130, 620),\n",
       " (169, 146),\n",
       " (118, 351),\n",
       " (155, 451),\n",
       " (448, 375),\n",
       " (434, 310),\n",
       " (74, 273),\n",
       " (113, 381),\n",
       " (166, 193),\n",
       " (60, 348),\n",
       " (353, 462),\n",
       " (99, 190),\n",
       " (136, 436),\n",
       " (445, 406),\n",
       " (378, 107),\n",
       " (431, 231),\n",
       " (71, 188),\n",
       " (364, 74),\n",
       " (2, 453),\n",
       " (311, 589),\n",
       " (147, 532),\n",
       " (41, 121),\n",
       " (350, 13),\n",
       " (244, 528),\n",
       " (80, 529),\n",
       " ...]"
      ]
     },
     "execution_count": 139,
     "metadata": {},
     "output_type": "execute_result"
    }
   ],
   "source": []
  },
  {
   "cell_type": "code",
   "execution_count": 145,
   "metadata": {},
   "outputs": [
    {
     "data": {
      "text/plain": [
       "564"
      ]
     },
     "execution_count": 145,
     "metadata": {},
     "output_type": "execute_result"
    }
   ],
   "source": [
    "i"
   ]
  },
  {
   "cell_type": "code",
   "execution_count": 153,
   "metadata": {},
   "outputs": [],
   "source": [
    "mask = np.zeros_like(mega_mask)\n",
    "for tidx in range(len(tiles)):\n",
    "    for i in list(tiles[tidx]):\n",
    "        mask[i]=tidx"
   ]
  },
  {
   "cell_type": "code",
   "execution_count": 156,
   "metadata": {},
   "outputs": [
    {
     "data": {
      "text/plain": [
       "<matplotlib.colorbar.Colorbar at 0x132651d0>"
      ]
     },
     "execution_count": 156,
     "metadata": {},
     "output_type": "execute_result"
    },
    {
     "data": {
      "image/png": "[encoded data removed]",
      "text/plain": [
       "<matplotlib.figure.Figure at 0x1230bbd0>"
      ]
     },
     "metadata": {},
     "output_type": "display_data"
    }
   ],
   "source": [
    "plt.figure()\n",
    "plt.imshow(mask)\n",
    "plt.title(\"Tile index map\")\n",
    "plt.colorbar()"
   ]
  },
  {
   "cell_type": "code",
   "execution_count": 159,
   "metadata": {},
   "outputs": [
    {
     "data": {
      "text/plain": [
       "<matplotlib.colorbar.Colorbar at 0x13399150>"
      ]
     },
     "execution_count": 159,
     "metadata": {},
     "output_type": "execute_result"
    },
    {
     "data": {
      "image/png": "[encoded data removed]",
      "text/plain": [
       "<matplotlib.figure.Figure at 0x12222350>"
      ]
     },
     "metadata": {},
     "output_type": "display_data"
    }
   ],
   "source": [
    "plt.figure()\n",
    "plt.imshow(mega_mask)\n",
    "plt.title(\"Megamask\")\n",
    "plt.colorbar()"
   ]
  },
  {
   "cell_type": "code",
   "execution_count": 157,
   "metadata": {
    "scrolled": true
   },
   "outputs": [
    {
     "ename": "MaskError",
     "evalue": "Mask and data not compatible: data size is 556140, mask size is 307200.",
     "output_type": "error",
     "traceback": [
      "\u001b[0;31m---------------------------------------------------------------------------\u001b[0m",
      "\u001b[0;31mMaskError\u001b[0m                                 Traceback (most recent call last)",
      "\u001b[0;32m<ipython-input-157-7893fa4ab3a1>\u001b[0m in \u001b[0;36m<module>\u001b[0;34m()\u001b[0m\n\u001b[0;32m----> 1\u001b[0;31m \u001b[0mmx\u001b[0m \u001b[0;34m=\u001b[0m \u001b[0mma\u001b[0m\u001b[0;34m.\u001b[0m\u001b[0mmasked_array\u001b[0m\u001b[0;34m(\u001b[0m\u001b[0mnp\u001b[0m\u001b[0;34m.\u001b[0m\u001b[0marray\u001b[0m\u001b[0;34m(\u001b[0m\u001b[0mlist\u001b[0m\u001b[0;34m(\u001b[0m\u001b[0mtiles\u001b[0m\u001b[0;34m[\u001b[0m\u001b[0;36m0\u001b[0m\u001b[0;34m]\u001b[0m\u001b[0;34m)\u001b[0m\u001b[0;34m)\u001b[0m\u001b[0;34m,\u001b[0m\u001b[0mmask\u001b[0m\u001b[0;34m=\u001b[0m\u001b[0mnp\u001b[0m\u001b[0;34m.\u001b[0m\u001b[0mzeros_like\u001b[0m\u001b[0;34m(\u001b[0m\u001b[0mmega_mask\u001b[0m\u001b[0;34m)\u001b[0m\u001b[0;34m,\u001b[0m\u001b[0mfill_value\u001b[0m\u001b[0;34m=\u001b[0m\u001b[0;36m0\u001b[0m\u001b[0;34m)\u001b[0m\u001b[0;34m\u001b[0m\u001b[0m\n\u001b[0m",
      "\u001b[0;32m/home/jlee782/.local/lib/python2.7/site-packages/numpy/ma/core.pyc\u001b[0m in \u001b[0;36m__new__\u001b[0;34m(cls, data, mask, dtype, copy, subok, ndmin, fill_value, keep_mask, hard_mask, shrink, order, **options)\u001b[0m\n\u001b[1;32m   2799\u001b[0m                     \u001b[0mmsg\u001b[0m \u001b[0;34m=\u001b[0m \u001b[0;34m\"Mask and data not compatible: data size is %i, \"\u001b[0m \u001b[0;34m+\u001b[0m\u001b[0;31m \u001b[0m\u001b[0;31m\\\u001b[0m\u001b[0;34m\u001b[0m\u001b[0m\n\u001b[1;32m   2800\u001b[0m                           \u001b[0;34m\"mask size is %i.\"\u001b[0m\u001b[0;34m\u001b[0m\u001b[0m\n\u001b[0;32m-> 2801\u001b[0;31m                     \u001b[0;32mraise\u001b[0m \u001b[0mMaskError\u001b[0m\u001b[0;34m(\u001b[0m\u001b[0mmsg\u001b[0m \u001b[0;34m%\u001b[0m \u001b[0;34m(\u001b[0m\u001b[0mnd\u001b[0m\u001b[0;34m,\u001b[0m \u001b[0mnm\u001b[0m\u001b[0;34m)\u001b[0m\u001b[0;34m)\u001b[0m\u001b[0;34m\u001b[0m\u001b[0m\n\u001b[0m\u001b[1;32m   2802\u001b[0m                 \u001b[0mcopy\u001b[0m \u001b[0;34m=\u001b[0m \u001b[0mTrue\u001b[0m\u001b[0;34m\u001b[0m\u001b[0m\n\u001b[1;32m   2803\u001b[0m             \u001b[0;31m# Set the mask to the new value\u001b[0m\u001b[0;34m\u001b[0m\u001b[0;34m\u001b[0m\u001b[0m\n",
      "\u001b[0;31mMaskError\u001b[0m: Mask and data not compatible: data size is 556140, mask size is 307200."
     ]
    }
   ],
   "source": [
    "mx = ma.masked_array(np.array(list(tiles[0])),mask=np.zeros_like(mega_mask),fill_value=0)"
   ]
  },
  {
   "cell_type": "code",
   "execution_count": 126,
   "metadata": {},
   "outputs": [
    {
     "data": {
      "text/plain": [
       "masked_array(data =\n",
       " [[102 595]\n",
       " [ 33 440]\n",
       " [342 418]\n",
       " ..., \n",
       " [116 548]\n",
       " [ 63 255]\n",
       " [356  75]],\n",
       "             mask =\n",
       " False,\n",
       "       fill_value = 0)"
      ]
     },
     "execution_count": 126,
     "metadata": {},
     "output_type": "execute_result"
    }
   ],
   "source": [
    "mx"
   ]
  },
  {
   "cell_type": "code",
   "execution_count": 118,
   "metadata": {},
   "outputs": [],
   "source": [
    "mask = np.ma.filled(mx)"
   ]
  },
  {
   "cell_type": "code",
   "execution_count": 119,
   "metadata": {},
   "outputs": [
    {
     "data": {
      "text/plain": [
       "matrix([[102, 595],\n",
       "        [ 33, 440],\n",
       "        [342, 418],\n",
       "        ..., \n",
       "        [116, 548],\n",
       "        [ 63, 255],\n",
       "        [356,  75]])"
      ]
     },
     "execution_count": 119,
     "metadata": {},
     "output_type": "execute_result"
    }
   ],
   "source": [
    "mask"
   ]
  },
  {
   "cell_type": "code",
   "execution_count": 115,
   "metadata": {},
   "outputs": [
    {
     "data": {
      "text/plain": [
       "masked_array(data =\n",
       " [[318 209]\n",
       " [318 208]],\n",
       "             mask =\n",
       " False,\n",
       "       fill_value = 564)"
      ]
     },
     "execution_count": 115,
     "metadata": {},
     "output_type": "execute_result"
    }
   ],
   "source": [
    "tmp"
   ]
  },
  {
   "cell_type": "code",
   "execution_count": 111,
   "metadata": {
    "collapsed": true
   },
   "outputs": [],
   "source": [
    "mx_lst=[]\n",
    "for i,tidx in enumerate(tiles):\n",
    "    tmp = ma.masked_array(list(tidx),fill_value=i)\n",
    "    #mx = np.ma.vstack([mx,tmp])\n",
    "    mx_lst.append(tmp)"
   ]
  },
  {
   "cell_type": "code",
   "execution_count": 112,
   "metadata": {
    "collapsed": true
   },
   "outputs": [],
   "source": [
    "total_mask = np.ma.vstack(mx_lst)"
   ]
  },
  {
   "cell_type": "code",
   "execution_count": 113,
   "metadata": {},
   "outputs": [],
   "source": [
    "mask = np.ma.filled(total_mask)"
   ]
  },
  {
   "cell_type": "code",
   "execution_count": 114,
   "metadata": {},
   "outputs": [
    {
     "data": {
      "text/plain": [
       "<matplotlib.image.AxesImage at 0x1348bed0>"
      ]
     },
     "execution_count": 114,
     "metadata": {},
     "output_type": "execute_result"
    },
    {
     "data": {
      "image/png": "[encoded data removed]",
      "text/plain": [
       "<matplotlib.figure.Figure at 0x1235e050>"
      ]
     },
     "metadata": {},
     "output_type": "display_data"
    }
   ],
   "source": [
    "plt.imshow(mask)"
   ]
  },
  {
   "cell_type": "code",
   "execution_count": 101,
   "metadata": {},
   "outputs": [
    {
     "ename": "ValueError",
     "evalue": "operands could not be broadcast together with shapes (278070,2) (6,2) ",
     "output_type": "error",
     "traceback": [
      "\u001b[0;31m---------------------------------------------------------------------------\u001b[0m",
      "\u001b[0;31mValueError\u001b[0m                                Traceback (most recent call last)",
      "\u001b[0;32m<ipython-input-101-839b82a5df07>\u001b[0m in \u001b[0;36m<module>\u001b[0;34m()\u001b[0m\n\u001b[0;32m----> 1\u001b[0;31m \u001b[0mtotal_mask\u001b[0m \u001b[0;34m=\u001b[0m \u001b[0mreduce\u001b[0m\u001b[0;34m(\u001b[0m\u001b[0mnp\u001b[0m\u001b[0;34m.\u001b[0m\u001b[0mlogical_and\u001b[0m\u001b[0;34m,\u001b[0m \u001b[0mmx_lst\u001b[0m\u001b[0;34m)\u001b[0m\u001b[0;34m\u001b[0m\u001b[0m\n\u001b[0m",
      "\u001b[0;31mValueError\u001b[0m: operands could not be broadcast together with shapes (278070,2) (6,2) "
     ]
    }
   ],
   "source": [
    "total_mask = reduce(np.logical_and, mx_lst)"
   ]
  },
  {
   "cell_type": "code",
   "execution_count": 58,
   "metadata": {},
   "outputs": [
    {
     "data": {
      "text/plain": [
       "array([[374, 330],\n",
       "       [376, 334],\n",
       "       [374, 331],\n",
       "       [375, 331],\n",
       "       [376, 336],\n",
       "       [374, 329],\n",
       "       [373, 328],\n",
       "       [373, 329],\n",
       "       [375, 334],\n",
       "       [376, 333],\n",
       "       [376, 335],\n",
       "       [376, 332],\n",
       "       [375, 332],\n",
       "       [375, 333]])"
      ]
     },
     "execution_count": 58,
     "metadata": {},
     "output_type": "execute_result"
    }
   ],
   "source": [
    "idx"
   ]
  },
  {
   "cell_type": "code",
   "execution_count": 57,
   "metadata": {},
   "outputs": [
    {
     "data": {
      "text/plain": [
       "array([[[ 0.,  0.,  0., ...,  0.,  0.,  0.],\n",
       "        [ 0.,  0.,  0., ...,  0.,  0.,  0.]],\n",
       "\n",
       "       [[ 0.,  0.,  0., ...,  0.,  0.,  0.],\n",
       "        [ 0.,  0.,  0., ...,  0.,  0.,  0.]],\n",
       "\n",
       "       [[ 0.,  0.,  0., ...,  0.,  0.,  0.],\n",
       "        [ 0.,  0.,  0., ...,  0.,  0.,  0.]],\n",
       "\n",
       "       ..., \n",
       "       [[ 0.,  0.,  0., ...,  0.,  0.,  0.],\n",
       "        [ 0.,  0.,  0., ...,  0.,  0.,  0.]],\n",
       "\n",
       "       [[ 0.,  0.,  0., ...,  0.,  0.,  0.],\n",
       "        [ 0.,  0.,  0., ...,  0.,  0.,  0.]],\n",
       "\n",
       "       [[ 0.,  0.,  0., ...,  0.,  0.,  0.],\n",
       "        [ 0.,  0.,  0., ...,  0.,  0.,  0.]]])"
      ]
     },
     "execution_count": 57,
     "metadata": {},
     "output_type": "execute_result"
    }
   ],
   "source": [
    "mask[idx]"
   ]
  },
  {
   "cell_type": "code",
   "execution_count": 41,
   "metadata": {},
   "outputs": [
    {
     "data": {
      "text/plain": [
       "array([ 0.,  0.])"
      ]
     },
     "execution_count": 41,
     "metadata": {},
     "output_type": "execute_result"
    }
   ],
   "source": [
    "mask[[374, 330],[376, 334]]"
   ]
  },
  {
   "cell_type": "code",
   "execution_count": 6,
   "metadata": {},
   "outputs": [
    {
     "name": "stderr",
     "output_type": "stream",
     "text": [
      "IOPub data rate exceeded.\n",
      "The notebook server will temporarily stop sending output\n",
      "to the client in order to avoid crashing it.\n",
      "To change this limit, set the config variable\n",
      "`--NotebookApp.iopub_data_rate_limit`.\n"
     ]
    }
   ],
   "source": [
    "i=0\n",
    "for tile in tiles :\n",
    "    if i==0: \n",
    "        print tile\n",
    "    i+=1"
   ]
  },
  {
   "cell_type": "code",
   "execution_count": null,
   "metadata": {
    "collapsed": true
   },
   "outputs": [],
   "source": []
  }
 ],
 "metadata": {
  "kernelspec": {
   "display_name": "Python 2",
   "language": "python",
   "name": "python2"
  },
  "language_info": {
   "codemirror_mode": {
    "name": "ipython",
    "version": 2
   },
   "file_extension": ".py",
   "mimetype": "text/x-python",
   "name": "python",
   "nbconvert_exporter": "python",
   "pygments_lexer": "ipython2",
   "version": "2.7.6"
  }
 },
 "nbformat": 4,
 "nbformat_minor": 2
}
