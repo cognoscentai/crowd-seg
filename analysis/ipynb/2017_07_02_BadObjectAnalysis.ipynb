{
 "cells": [
  {
   "cell_type": "code",
   "execution_count": 1,
   "metadata": {},
   "outputs": [
    {
     "name": "stdout",
     "output_type": "stream",
     "text": [
      "Populating the interactive namespace from numpy and matplotlib\n"
     ]
    }
   ],
   "source": [
    "%pylab inline"
   ]
  },
  {
   "cell_type": "code",
   "execution_count": 2,
   "metadata": {},
   "outputs": [
    {
     "name": "stdout",
     "output_type": "stream",
     "text": [
      "/srv/data/home/jlee782/crowd-seg/analysis/TileEM\n"
     ]
    }
   ],
   "source": [
    "cd ../TileEM/"
   ]
  },
  {
   "cell_type": "code",
   "execution_count": 3,
   "metadata": {},
   "outputs": [],
   "source": [
    "%load_ext autoreload\n",
    "%autoreload 2\n",
    "from paper_visualizations import * \n",
    "from PixelEM import * \n",
    "from test_sample import test_sample_obj\n",
    "import json"
   ]
  },
  {
   "cell_type": "code",
   "execution_count": 16,
   "metadata": {},
   "outputs": [
    {
     "data": {
      "text/plain": [
       "u'/srv/data/home/jlee782/crowd-seg/analysis/TileEM'"
      ]
     },
     "execution_count": 16,
     "metadata": {},
     "output_type": "execute_result"
    }
   ],
   "source": [
    "pwd"
   ]
  },
  {
   "cell_type": "code",
   "execution_count": 13,
   "metadata": {
    "collapsed": true
   },
   "outputs": [],
   "source": [
    "final_df = pd.read_csv(\"cleaned_rerun_ground_truth_prj.csv\",index_col=0)\n",
    "\n",
    "keys=['num_workers','objid','thresh','J [MV]', u'J [GT]', u'J [basic]', u'J [GTLSA]', u'J [isoGT]','J [isoGTLSA]']"
   ]
  },
  {
   "cell_type": "code",
   "execution_count": 14,
   "metadata": {
    "scrolled": false
   },
   "outputs": [
    {
     "data": {
      "text/plain": [
       "J [MV]          0.897003\n",
       "J [GT]          0.905528\n",
       "J [basic]       0.903689\n",
       "J [GTLSA]       0.876710\n",
       "J [isoGT]       0.894707\n",
       "J [isoGTLSA]    0.861209\n",
       "dtype: float64"
      ]
     },
     "execution_count": 14,
     "metadata": {},
     "output_type": "execute_result"
    }
   ],
   "source": [
    "final_df.filter(regex=\"J\").mean()"
   ]
  },
  {
   "cell_type": "markdown",
   "metadata": {},
   "source": [
    "# Comparing GT with Basic"
   ]
  },
  {
   "cell_type": "code",
   "execution_count": 312,
   "metadata": {},
   "outputs": [
    {
     "data": {
      "image/png": "[encoded data removed]",
      "text/plain": [
       "<matplotlib.figure.Figure at 0x654e750>"
      ]
     },
     "metadata": {},
     "output_type": "display_data"
    },
    {
     "data": {
      "image/png": "[encoded data removed]",
      "text/plain": [
       "<matplotlib.figure.Figure at 0x654e510>"
      ]
     },
     "metadata": {},
     "output_type": "display_data"
    }
   ],
   "source": [
    "compare_PRJ_fixed_attr(final_df,\"thresh\",\"GT\",\"basic\",'J')\n",
    "\n",
    "compare_PRJ_fixed_attr(final_df,\"num_workers\",\"GT\",\"basic\",'J')"
   ]
  },
  {
   "cell_type": "code",
   "execution_count": 15,
   "metadata": {},
   "outputs": [
    {
     "data": {
      "text/html": [
       "<div>\n",
       "<table border=\"1\" class=\"dataframe\">\n",
       "  <thead>\n",
       "    <tr style=\"text-align: right;\">\n",
       "      <th></th>\n",
       "      <th>num_workers</th>\n",
       "      <th>objid</th>\n",
       "      <th>thresh</th>\n",
       "      <th>J [MV]</th>\n",
       "      <th>J [GT]</th>\n",
       "      <th>J [basic]</th>\n",
       "      <th>J [GTLSA]</th>\n",
       "      <th>J [isoGT]</th>\n",
       "      <th>J [isoGTLSA]</th>\n",
       "    </tr>\n",
       "  </thead>\n",
       "  <tbody>\n",
       "    <tr>\n",
       "      <th>268</th>\n",
       "      <td>5</td>\n",
       "      <td>29</td>\n",
       "      <td>-2</td>\n",
       "      <td>0.868662</td>\n",
       "      <td>0.161967</td>\n",
       "      <td>0.86507</td>\n",
       "      <td>0.774943</td>\n",
       "      <td>0.847832</td>\n",
       "      <td>0.851941</td>\n",
       "    </tr>\n",
       "  </tbody>\n",
       "</table>\n",
       "</div>"
      ],
      "text/plain": [
       "     num_workers  objid  thresh    J [MV]    J [GT]  J [basic]  J [GTLSA]  \\\n",
       "268            5     29      -2  0.868662  0.161967    0.86507   0.774943   \n",
       "\n",
       "     J [isoGT]  J [isoGTLSA]  \n",
       "268   0.847832      0.851941  "
      ]
     },
     "execution_count": 15,
     "metadata": {},
     "output_type": "execute_result"
    }
   ],
   "source": [
    "final_df[final_df[\"J [GT]\"]<0.5][keys]"
   ]
  },
  {
   "cell_type": "markdown",
   "metadata": {},
   "source": [
    "Even though object 29 is naturally confusing because of lots of overbounding workers, the MV and basic still does well "
   ]
  },
  {
   "cell_type": "code",
   "execution_count": 317,
   "metadata": {
    "collapsed": true
   },
   "outputs": [],
   "source": [
    "# final_df[final_df[\"objid\"]==29].filter(regex=\"J\")"
   ]
  },
  {
   "cell_type": "code",
   "execution_count": 327,
   "metadata": {},
   "outputs": [
    {
     "data": {
      "text/html": [
       "<div>\n",
       "<table border=\"1\" class=\"dataframe\">\n",
       "  <thead>\n",
       "    <tr style=\"text-align: right;\">\n",
       "      <th></th>\n",
       "      <th>num_workers</th>\n",
       "      <th>objid</th>\n",
       "      <th>thresh</th>\n",
       "      <th>J [MV]</th>\n",
       "      <th>J [GT]</th>\n",
       "      <th>J [basic]</th>\n",
       "      <th>J [GTLSA]</th>\n",
       "      <th>J [isoGT]</th>\n",
       "      <th>J [isoGTLSA]</th>\n",
       "    </tr>\n",
       "  </thead>\n",
       "  <tbody>\n",
       "    <tr>\n",
       "      <th>103</th>\n",
       "      <td>5</td>\n",
       "      <td>7</td>\n",
       "      <td>-2</td>\n",
       "      <td>0.529387</td>\n",
       "      <td>0.536744</td>\n",
       "      <td>0.529387</td>\n",
       "      <td>0.014117</td>\n",
       "      <td>0.014554</td>\n",
       "      <td>0.014534</td>\n",
       "    </tr>\n",
       "    <tr>\n",
       "      <th>104</th>\n",
       "      <td>5</td>\n",
       "      <td>7</td>\n",
       "      <td>-1</td>\n",
       "      <td>0.529387</td>\n",
       "      <td>0.536744</td>\n",
       "      <td>0.529387</td>\n",
       "      <td>0.014117</td>\n",
       "      <td>0.559589</td>\n",
       "      <td>0.559941</td>\n",
       "    </tr>\n",
       "    <tr>\n",
       "      <th>105</th>\n",
       "      <td>5</td>\n",
       "      <td>7</td>\n",
       "      <td>0</td>\n",
       "      <td>0.529387</td>\n",
       "      <td>0.536744</td>\n",
       "      <td>0.529387</td>\n",
       "      <td>0.509239</td>\n",
       "      <td>0.559932</td>\n",
       "      <td>0.091106</td>\n",
       "    </tr>\n",
       "    <tr>\n",
       "      <th>106</th>\n",
       "      <td>5</td>\n",
       "      <td>7</td>\n",
       "      <td>1</td>\n",
       "      <td>0.529387</td>\n",
       "      <td>0.536744</td>\n",
       "      <td>0.529387</td>\n",
       "      <td>0.502336</td>\n",
       "      <td>0.555437</td>\n",
       "      <td>0.086188</td>\n",
       "    </tr>\n",
       "    <tr>\n",
       "      <th>107</th>\n",
       "      <td>5</td>\n",
       "      <td>7</td>\n",
       "      <td>2</td>\n",
       "      <td>0.529387</td>\n",
       "      <td>0.536744</td>\n",
       "      <td>0.529387</td>\n",
       "      <td>0.054795</td>\n",
       "      <td>0.044518</td>\n",
       "      <td>0.037636</td>\n",
       "    </tr>\n",
       "    <tr>\n",
       "      <th>268</th>\n",
       "      <td>5</td>\n",
       "      <td>29</td>\n",
       "      <td>-2</td>\n",
       "      <td>0.868662</td>\n",
       "      <td>0.161967</td>\n",
       "      <td>0.865070</td>\n",
       "      <td>0.774943</td>\n",
       "      <td>0.847832</td>\n",
       "      <td>0.851941</td>\n",
       "    </tr>\n",
       "    <tr>\n",
       "      <th>738</th>\n",
       "      <td>10</td>\n",
       "      <td>7</td>\n",
       "      <td>0</td>\n",
       "      <td>0.517687</td>\n",
       "      <td>0.546104</td>\n",
       "      <td>0.523090</td>\n",
       "      <td>0.720190</td>\n",
       "      <td>0.762841</td>\n",
       "      <td>0.757131</td>\n",
       "    </tr>\n",
       "    <tr>\n",
       "      <th>739</th>\n",
       "      <td>10</td>\n",
       "      <td>7</td>\n",
       "      <td>1</td>\n",
       "      <td>0.517687</td>\n",
       "      <td>0.546104</td>\n",
       "      <td>0.524042</td>\n",
       "      <td>0.717346</td>\n",
       "      <td>0.532692</td>\n",
       "      <td>0.514854</td>\n",
       "    </tr>\n",
       "    <tr>\n",
       "      <th>740</th>\n",
       "      <td>10</td>\n",
       "      <td>7</td>\n",
       "      <td>2</td>\n",
       "      <td>0.517687</td>\n",
       "      <td>0.546104</td>\n",
       "      <td>0.517687</td>\n",
       "      <td>0.717748</td>\n",
       "      <td>0.070794</td>\n",
       "      <td>0.500874</td>\n",
       "    </tr>\n",
       "  </tbody>\n",
       "</table>\n",
       "</div>"
      ],
      "text/plain": [
       "     num_workers  objid  thresh    J [MV]    J [GT]  J [basic]  J [GTLSA]  \\\n",
       "103            5      7      -2  0.529387  0.536744   0.529387   0.014117   \n",
       "104            5      7      -1  0.529387  0.536744   0.529387   0.014117   \n",
       "105            5      7       0  0.529387  0.536744   0.529387   0.509239   \n",
       "106            5      7       1  0.529387  0.536744   0.529387   0.502336   \n",
       "107            5      7       2  0.529387  0.536744   0.529387   0.054795   \n",
       "268            5     29      -2  0.868662  0.161967   0.865070   0.774943   \n",
       "738           10      7       0  0.517687  0.546104   0.523090   0.720190   \n",
       "739           10      7       1  0.517687  0.546104   0.524042   0.717346   \n",
       "740           10      7       2  0.517687  0.546104   0.517687   0.717748   \n",
       "\n",
       "     J [isoGT]  J [isoGTLSA]  \n",
       "103   0.014554      0.014534  \n",
       "104   0.559589      0.559941  \n",
       "105   0.559932      0.091106  \n",
       "106   0.555437      0.086188  \n",
       "107   0.044518      0.037636  \n",
       "268   0.847832      0.851941  \n",
       "738   0.762841      0.757131  \n",
       "739   0.532692      0.514854  \n",
       "740   0.070794      0.500874  "
      ]
     },
     "execution_count": 327,
     "metadata": {},
     "output_type": "execute_result"
    }
   ],
   "source": [
    "final_df[final_df[\"J [GT]\"]<0.6][keys]"
   ]
  },
  {
   "cell_type": "code",
   "execution_count": 322,
   "metadata": {},
   "outputs": [
    {
     "data": {
      "text/html": [
       "<div>\n",
       "<table border=\"1\" class=\"dataframe\">\n",
       "  <thead>\n",
       "    <tr style=\"text-align: right;\">\n",
       "      <th></th>\n",
       "      <th>J [MV]</th>\n",
       "      <th>J [GT]</th>\n",
       "      <th>J [basic]</th>\n",
       "      <th>J [GTLSA]</th>\n",
       "      <th>J [isoGT]</th>\n",
       "      <th>J [isoGTLSA]</th>\n",
       "    </tr>\n",
       "  </thead>\n",
       "  <tbody>\n",
       "    <tr>\n",
       "      <th>303</th>\n",
       "      <td>0.767993</td>\n",
       "      <td>0.749900</td>\n",
       "      <td>0.767993</td>\n",
       "      <td>0.845083</td>\n",
       "      <td>0.726853</td>\n",
       "      <td>0.732519</td>\n",
       "    </tr>\n",
       "    <tr>\n",
       "      <th>467</th>\n",
       "      <td>0.806709</td>\n",
       "      <td>0.735166</td>\n",
       "      <td>0.806709</td>\n",
       "      <td>0.751479</td>\n",
       "      <td>0.740146</td>\n",
       "      <td>0.751479</td>\n",
       "    </tr>\n",
       "    <tr>\n",
       "      <th>468</th>\n",
       "      <td>0.806709</td>\n",
       "      <td>0.735166</td>\n",
       "      <td>0.806709</td>\n",
       "      <td>0.757079</td>\n",
       "      <td>0.740146</td>\n",
       "      <td>0.757079</td>\n",
       "    </tr>\n",
       "    <tr>\n",
       "      <th>469</th>\n",
       "      <td>0.806709</td>\n",
       "      <td>0.735166</td>\n",
       "      <td>0.806709</td>\n",
       "      <td>0.755589</td>\n",
       "      <td>0.740146</td>\n",
       "      <td>0.755589</td>\n",
       "    </tr>\n",
       "    <tr>\n",
       "      <th>470</th>\n",
       "      <td>0.806709</td>\n",
       "      <td>0.735166</td>\n",
       "      <td>0.806709</td>\n",
       "      <td>0.755589</td>\n",
       "      <td>0.740146</td>\n",
       "      <td>0.755589</td>\n",
       "    </tr>\n",
       "    <tr>\n",
       "      <th>471</th>\n",
       "      <td>0.806709</td>\n",
       "      <td>0.735166</td>\n",
       "      <td>0.806709</td>\n",
       "      <td>0.755589</td>\n",
       "      <td>0.740146</td>\n",
       "      <td>0.755589</td>\n",
       "    </tr>\n",
       "    <tr>\n",
       "      <th>736</th>\n",
       "      <td>0.517687</td>\n",
       "      <td>0.749265</td>\n",
       "      <td>0.521432</td>\n",
       "      <td>0.721636</td>\n",
       "      <td>0.014533</td>\n",
       "      <td>0.014120</td>\n",
       "    </tr>\n",
       "    <tr>\n",
       "      <th>1040</th>\n",
       "      <td>0.812914</td>\n",
       "      <td>0.744493</td>\n",
       "      <td>0.809370</td>\n",
       "      <td>0.758982</td>\n",
       "      <td>0.752239</td>\n",
       "      <td>0.769939</td>\n",
       "    </tr>\n",
       "    <tr>\n",
       "      <th>1041</th>\n",
       "      <td>0.812914</td>\n",
       "      <td>0.740088</td>\n",
       "      <td>0.809370</td>\n",
       "      <td>0.755622</td>\n",
       "      <td>0.752239</td>\n",
       "      <td>0.771121</td>\n",
       "    </tr>\n",
       "    <tr>\n",
       "      <th>1042</th>\n",
       "      <td>0.812914</td>\n",
       "      <td>0.741176</td>\n",
       "      <td>0.809370</td>\n",
       "      <td>0.755622</td>\n",
       "      <td>0.752239</td>\n",
       "      <td>0.771121</td>\n",
       "    </tr>\n",
       "    <tr>\n",
       "      <th>1043</th>\n",
       "      <td>0.812914</td>\n",
       "      <td>0.741176</td>\n",
       "      <td>0.809370</td>\n",
       "      <td>0.755622</td>\n",
       "      <td>0.754491</td>\n",
       "      <td>0.771121</td>\n",
       "    </tr>\n",
       "    <tr>\n",
       "      <th>1044</th>\n",
       "      <td>0.812914</td>\n",
       "      <td>0.741176</td>\n",
       "      <td>0.809370</td>\n",
       "      <td>0.756757</td>\n",
       "      <td>0.755622</td>\n",
       "      <td>0.772308</td>\n",
       "    </tr>\n",
       "  </tbody>\n",
       "</table>\n",
       "</div>"
      ],
      "text/plain": [
       "        J [MV]    J [GT]  J [basic]  J [GTLSA]  J [isoGT]  J [isoGTLSA]\n",
       "303   0.767993  0.749900   0.767993   0.845083   0.726853      0.732519\n",
       "467   0.806709  0.735166   0.806709   0.751479   0.740146      0.751479\n",
       "468   0.806709  0.735166   0.806709   0.757079   0.740146      0.757079\n",
       "469   0.806709  0.735166   0.806709   0.755589   0.740146      0.755589\n",
       "470   0.806709  0.735166   0.806709   0.755589   0.740146      0.755589\n",
       "471   0.806709  0.735166   0.806709   0.755589   0.740146      0.755589\n",
       "736   0.517687  0.749265   0.521432   0.721636   0.014533      0.014120\n",
       "1040  0.812914  0.744493   0.809370   0.758982   0.752239      0.769939\n",
       "1041  0.812914  0.740088   0.809370   0.755622   0.752239      0.771121\n",
       "1042  0.812914  0.741176   0.809370   0.755622   0.752239      0.771121\n",
       "1043  0.812914  0.741176   0.809370   0.755622   0.754491      0.771121\n",
       "1044  0.812914  0.741176   0.809370   0.756757   0.755622      0.772308"
      ]
     },
     "execution_count": 322,
     "metadata": {},
     "output_type": "execute_result"
    }
   ],
   "source": [
    "final_df[(final_df[\"J [GT]\"]<0.75)&(final_df[\"J [GT]\"]>0.7)].filter(regex=\"J\")"
   ]
  },
  {
   "cell_type": "markdown",
   "metadata": {},
   "source": [
    "Cases where isoGT performs badly "
   ]
  },
  {
   "cell_type": "code",
   "execution_count": 328,
   "metadata": {},
   "outputs": [
    {
     "data": {
      "image/png": "[encoded data removed]",
      "text/plain": [
       "<matplotlib.figure.Figure at 0x5ce4e10>"
      ]
     },
     "metadata": {},
     "output_type": "display_data"
    },
    {
     "data": {
      "image/png": "[encoded data removed]",
      "text/plain": [
       "<matplotlib.figure.Figure at 0x5cdd490>"
      ]
     },
     "metadata": {},
     "output_type": "display_data"
    }
   ],
   "source": [
    "compare_PRJ_fixed_attr(final_df,\"thresh\",\"isoGT\",\"basic\",'J')\n",
    "\n",
    "compare_PRJ_fixed_attr(final_df,\"num_workers\",\"isoGT\",\"basic\",'J')"
   ]
  },
  {
   "cell_type": "code",
   "execution_count": 332,
   "metadata": {},
   "outputs": [
    {
     "data": {
      "text/html": [
       "<div>\n",
       "<table border=\"1\" class=\"dataframe\">\n",
       "  <thead>\n",
       "    <tr style=\"text-align: right;\">\n",
       "      <th></th>\n",
       "      <th>num_workers</th>\n",
       "      <th>objid</th>\n",
       "      <th>thresh</th>\n",
       "      <th>J [MV]</th>\n",
       "      <th>J [GT]</th>\n",
       "      <th>J [basic]</th>\n",
       "      <th>J [GTLSA]</th>\n",
       "      <th>J [isoGT]</th>\n",
       "      <th>J [isoGTLSA]</th>\n",
       "    </tr>\n",
       "  </thead>\n",
       "  <tbody>\n",
       "    <tr>\n",
       "      <th>45</th>\n",
       "      <td>5</td>\n",
       "      <td>13</td>\n",
       "      <td>2.0</td>\n",
       "      <td>0.928437</td>\n",
       "      <td>0.935684</td>\n",
       "      <td>0.928437</td>\n",
       "      <td>0.876081</td>\n",
       "      <td>0.045499</td>\n",
       "      <td>0.051659</td>\n",
       "    </tr>\n",
       "    <tr>\n",
       "      <th>103</th>\n",
       "      <td>5</td>\n",
       "      <td>7</td>\n",
       "      <td>-2.0</td>\n",
       "      <td>0.529387</td>\n",
       "      <td>0.536744</td>\n",
       "      <td>0.529387</td>\n",
       "      <td>0.014117</td>\n",
       "      <td>0.014554</td>\n",
       "      <td>0.014534</td>\n",
       "    </tr>\n",
       "    <tr>\n",
       "      <th>107</th>\n",
       "      <td>5</td>\n",
       "      <td>7</td>\n",
       "      <td>2.0</td>\n",
       "      <td>0.529387</td>\n",
       "      <td>0.536744</td>\n",
       "      <td>0.529387</td>\n",
       "      <td>0.054795</td>\n",
       "      <td>0.044518</td>\n",
       "      <td>0.037636</td>\n",
       "    </tr>\n",
       "    <tr>\n",
       "      <th>148</th>\n",
       "      <td>5</td>\n",
       "      <td>2</td>\n",
       "      <td>2.0</td>\n",
       "      <td>0.928316</td>\n",
       "      <td>0.917808</td>\n",
       "      <td>0.928316</td>\n",
       "      <td>0.033390</td>\n",
       "      <td>0.112100</td>\n",
       "      <td>0.008398</td>\n",
       "    </tr>\n",
       "    <tr>\n",
       "      <th>165</th>\n",
       "      <td>5</td>\n",
       "      <td>4</td>\n",
       "      <td>-2.0</td>\n",
       "      <td>0.880530</td>\n",
       "      <td>0.874386</td>\n",
       "      <td>0.880530</td>\n",
       "      <td>0.888312</td>\n",
       "      <td>0.010867</td>\n",
       "      <td>0.010868</td>\n",
       "    </tr>\n",
       "    <tr>\n",
       "      <th>166</th>\n",
       "      <td>5</td>\n",
       "      <td>4</td>\n",
       "      <td>-1.0</td>\n",
       "      <td>0.880530</td>\n",
       "      <td>0.874386</td>\n",
       "      <td>0.880530</td>\n",
       "      <td>0.879781</td>\n",
       "      <td>0.010867</td>\n",
       "      <td>0.899390</td>\n",
       "    </tr>\n",
       "    <tr>\n",
       "      <th>170</th>\n",
       "      <td>5</td>\n",
       "      <td>4</td>\n",
       "      <td>-1.8</td>\n",
       "      <td>0.880530</td>\n",
       "      <td>0.874386</td>\n",
       "      <td>0.880530</td>\n",
       "      <td>0.888798</td>\n",
       "      <td>0.010867</td>\n",
       "      <td>0.010862</td>\n",
       "    </tr>\n",
       "    <tr>\n",
       "      <th>171</th>\n",
       "      <td>5</td>\n",
       "      <td>4</td>\n",
       "      <td>-1.6</td>\n",
       "      <td>0.880530</td>\n",
       "      <td>0.874386</td>\n",
       "      <td>0.880530</td>\n",
       "      <td>0.887978</td>\n",
       "      <td>0.010867</td>\n",
       "      <td>0.894318</td>\n",
       "    </tr>\n",
       "    <tr>\n",
       "      <th>172</th>\n",
       "      <td>5</td>\n",
       "      <td>4</td>\n",
       "      <td>-1.4</td>\n",
       "      <td>0.880530</td>\n",
       "      <td>0.874386</td>\n",
       "      <td>0.880530</td>\n",
       "      <td>0.887978</td>\n",
       "      <td>0.010867</td>\n",
       "      <td>0.901245</td>\n",
       "    </tr>\n",
       "    <tr>\n",
       "      <th>178</th>\n",
       "      <td>5</td>\n",
       "      <td>6</td>\n",
       "      <td>-2.0</td>\n",
       "      <td>0.843750</td>\n",
       "      <td>0.781755</td>\n",
       "      <td>0.843750</td>\n",
       "      <td>0.881735</td>\n",
       "      <td>0.002230</td>\n",
       "      <td>0.848912</td>\n",
       "    </tr>\n",
       "    <tr>\n",
       "      <th>183</th>\n",
       "      <td>5</td>\n",
       "      <td>9</td>\n",
       "      <td>-2.0</td>\n",
       "      <td>0.931053</td>\n",
       "      <td>0.934525</td>\n",
       "      <td>0.931053</td>\n",
       "      <td>0.927600</td>\n",
       "      <td>0.030400</td>\n",
       "      <td>0.030343</td>\n",
       "    </tr>\n",
       "    <tr>\n",
       "      <th>188</th>\n",
       "      <td>5</td>\n",
       "      <td>10</td>\n",
       "      <td>-2.0</td>\n",
       "      <td>0.941518</td>\n",
       "      <td>0.941781</td>\n",
       "      <td>0.941518</td>\n",
       "      <td>0.904480</td>\n",
       "      <td>0.054204</td>\n",
       "      <td>0.054628</td>\n",
       "    </tr>\n",
       "    <tr>\n",
       "      <th>189</th>\n",
       "      <td>5</td>\n",
       "      <td>10</td>\n",
       "      <td>-1.0</td>\n",
       "      <td>0.941518</td>\n",
       "      <td>0.941781</td>\n",
       "      <td>0.941518</td>\n",
       "      <td>0.861395</td>\n",
       "      <td>0.054123</td>\n",
       "      <td>0.053981</td>\n",
       "    </tr>\n",
       "    <tr>\n",
       "      <th>190</th>\n",
       "      <td>5</td>\n",
       "      <td>10</td>\n",
       "      <td>0.0</td>\n",
       "      <td>0.941518</td>\n",
       "      <td>0.941781</td>\n",
       "      <td>0.941518</td>\n",
       "      <td>0.861258</td>\n",
       "      <td>0.054123</td>\n",
       "      <td>0.004588</td>\n",
       "    </tr>\n",
       "    <tr>\n",
       "      <th>191</th>\n",
       "      <td>5</td>\n",
       "      <td>10</td>\n",
       "      <td>1.0</td>\n",
       "      <td>0.941518</td>\n",
       "      <td>0.941781</td>\n",
       "      <td>0.941518</td>\n",
       "      <td>0.857322</td>\n",
       "      <td>0.053415</td>\n",
       "      <td>0.004175</td>\n",
       "    </tr>\n",
       "    <tr>\n",
       "      <th>192</th>\n",
       "      <td>5</td>\n",
       "      <td>10</td>\n",
       "      <td>2.0</td>\n",
       "      <td>0.941518</td>\n",
       "      <td>0.943766</td>\n",
       "      <td>0.941518</td>\n",
       "      <td>0.039686</td>\n",
       "      <td>0.053203</td>\n",
       "      <td>0.001136</td>\n",
       "    </tr>\n",
       "    <tr>\n",
       "      <th>212</th>\n",
       "      <td>5</td>\n",
       "      <td>17</td>\n",
       "      <td>2.0</td>\n",
       "      <td>0.825888</td>\n",
       "      <td>0.802694</td>\n",
       "      <td>0.825888</td>\n",
       "      <td>0.751034</td>\n",
       "      <td>0.000000</td>\n",
       "      <td>0.814221</td>\n",
       "    </tr>\n",
       "    <tr>\n",
       "      <th>216</th>\n",
       "      <td>5</td>\n",
       "      <td>18</td>\n",
       "      <td>1.0</td>\n",
       "      <td>0.961428</td>\n",
       "      <td>0.967656</td>\n",
       "      <td>0.961428</td>\n",
       "      <td>0.963449</td>\n",
       "      <td>0.028779</td>\n",
       "      <td>0.031897</td>\n",
       "    </tr>\n",
       "    <tr>\n",
       "      <th>217</th>\n",
       "      <td>5</td>\n",
       "      <td>18</td>\n",
       "      <td>2.0</td>\n",
       "      <td>0.961428</td>\n",
       "      <td>0.961428</td>\n",
       "      <td>0.961428</td>\n",
       "      <td>0.963553</td>\n",
       "      <td>0.021764</td>\n",
       "      <td>0.022292</td>\n",
       "    </tr>\n",
       "    <tr>\n",
       "      <th>218</th>\n",
       "      <td>5</td>\n",
       "      <td>19</td>\n",
       "      <td>-2.0</td>\n",
       "      <td>0.846169</td>\n",
       "      <td>0.871913</td>\n",
       "      <td>0.846169</td>\n",
       "      <td>0.025171</td>\n",
       "      <td>0.025888</td>\n",
       "      <td>0.026127</td>\n",
       "    </tr>\n",
       "    <tr>\n",
       "      <th>219</th>\n",
       "      <td>5</td>\n",
       "      <td>19</td>\n",
       "      <td>-1.0</td>\n",
       "      <td>0.846169</td>\n",
       "      <td>0.849750</td>\n",
       "      <td>0.846169</td>\n",
       "      <td>0.848925</td>\n",
       "      <td>0.025888</td>\n",
       "      <td>0.885345</td>\n",
       "    </tr>\n",
       "    <tr>\n",
       "      <th>226</th>\n",
       "      <td>5</td>\n",
       "      <td>20</td>\n",
       "      <td>1.0</td>\n",
       "      <td>0.722052</td>\n",
       "      <td>0.923707</td>\n",
       "      <td>0.716427</td>\n",
       "      <td>0.706946</td>\n",
       "      <td>0.290122</td>\n",
       "      <td>0.259661</td>\n",
       "    </tr>\n",
       "    <tr>\n",
       "      <th>227</th>\n",
       "      <td>5</td>\n",
       "      <td>20</td>\n",
       "      <td>2.0</td>\n",
       "      <td>0.722052</td>\n",
       "      <td>0.923707</td>\n",
       "      <td>0.716427</td>\n",
       "      <td>0.680152</td>\n",
       "      <td>0.244632</td>\n",
       "      <td>0.224108</td>\n",
       "    </tr>\n",
       "    <tr>\n",
       "      <th>238</th>\n",
       "      <td>5</td>\n",
       "      <td>23</td>\n",
       "      <td>-2.0</td>\n",
       "      <td>0.890073</td>\n",
       "      <td>0.907747</td>\n",
       "      <td>0.890073</td>\n",
       "      <td>0.919926</td>\n",
       "      <td>0.040782</td>\n",
       "      <td>0.941892</td>\n",
       "    </tr>\n",
       "    <tr>\n",
       "      <th>240</th>\n",
       "      <td>5</td>\n",
       "      <td>23</td>\n",
       "      <td>0.0</td>\n",
       "      <td>0.890073</td>\n",
       "      <td>0.907747</td>\n",
       "      <td>0.890073</td>\n",
       "      <td>0.919349</td>\n",
       "      <td>0.075245</td>\n",
       "      <td>0.942124</td>\n",
       "    </tr>\n",
       "    <tr>\n",
       "      <th>241</th>\n",
       "      <td>5</td>\n",
       "      <td>23</td>\n",
       "      <td>1.0</td>\n",
       "      <td>0.890073</td>\n",
       "      <td>0.907747</td>\n",
       "      <td>0.890073</td>\n",
       "      <td>0.919349</td>\n",
       "      <td>0.065125</td>\n",
       "      <td>0.935538</td>\n",
       "    </tr>\n",
       "    <tr>\n",
       "      <th>242</th>\n",
       "      <td>5</td>\n",
       "      <td>23</td>\n",
       "      <td>2.0</td>\n",
       "      <td>0.890073</td>\n",
       "      <td>0.911436</td>\n",
       "      <td>0.890073</td>\n",
       "      <td>0.072951</td>\n",
       "      <td>0.002507</td>\n",
       "      <td>0.007819</td>\n",
       "    </tr>\n",
       "    <tr>\n",
       "      <th>267</th>\n",
       "      <td>5</td>\n",
       "      <td>28</td>\n",
       "      <td>2.0</td>\n",
       "      <td>0.833705</td>\n",
       "      <td>0.822738</td>\n",
       "      <td>0.833705</td>\n",
       "      <td>0.793232</td>\n",
       "      <td>0.314403</td>\n",
       "      <td>0.315135</td>\n",
       "    </tr>\n",
       "    <tr>\n",
       "      <th>278</th>\n",
       "      <td>5</td>\n",
       "      <td>31</td>\n",
       "      <td>-2.0</td>\n",
       "      <td>0.930496</td>\n",
       "      <td>0.926364</td>\n",
       "      <td>0.930496</td>\n",
       "      <td>0.935437</td>\n",
       "      <td>0.085548</td>\n",
       "      <td>0.085913</td>\n",
       "    </tr>\n",
       "    <tr>\n",
       "      <th>279</th>\n",
       "      <td>5</td>\n",
       "      <td>31</td>\n",
       "      <td>-1.0</td>\n",
       "      <td>0.930496</td>\n",
       "      <td>0.926364</td>\n",
       "      <td>0.930496</td>\n",
       "      <td>0.935437</td>\n",
       "      <td>0.085548</td>\n",
       "      <td>0.085922</td>\n",
       "    </tr>\n",
       "    <tr>\n",
       "      <th>298</th>\n",
       "      <td>5</td>\n",
       "      <td>36</td>\n",
       "      <td>-2.0</td>\n",
       "      <td>0.919357</td>\n",
       "      <td>0.935375</td>\n",
       "      <td>0.919357</td>\n",
       "      <td>0.935238</td>\n",
       "      <td>0.099507</td>\n",
       "      <td>0.941378</td>\n",
       "    </tr>\n",
       "    <tr>\n",
       "      <th>317</th>\n",
       "      <td>5</td>\n",
       "      <td>39</td>\n",
       "      <td>2.0</td>\n",
       "      <td>0.973194</td>\n",
       "      <td>0.973194</td>\n",
       "      <td>0.973194</td>\n",
       "      <td>0.016331</td>\n",
       "      <td>0.016684</td>\n",
       "      <td>0.021186</td>\n",
       "    </tr>\n",
       "    <tr>\n",
       "      <th>322</th>\n",
       "      <td>5</td>\n",
       "      <td>42</td>\n",
       "      <td>2.0</td>\n",
       "      <td>0.839864</td>\n",
       "      <td>0.860522</td>\n",
       "      <td>0.839864</td>\n",
       "      <td>0.141128</td>\n",
       "      <td>0.079730</td>\n",
       "      <td>0.085377</td>\n",
       "    </tr>\n",
       "    <tr>\n",
       "      <th>323</th>\n",
       "      <td>5</td>\n",
       "      <td>43</td>\n",
       "      <td>-2.0</td>\n",
       "      <td>0.891029</td>\n",
       "      <td>0.891494</td>\n",
       "      <td>0.891029</td>\n",
       "      <td>0.876887</td>\n",
       "      <td>0.054014</td>\n",
       "      <td>0.054007</td>\n",
       "    </tr>\n",
       "    <tr>\n",
       "      <th>333</th>\n",
       "      <td>5</td>\n",
       "      <td>45</td>\n",
       "      <td>-2.0</td>\n",
       "      <td>0.845460</td>\n",
       "      <td>0.865018</td>\n",
       "      <td>0.845460</td>\n",
       "      <td>0.017403</td>\n",
       "      <td>0.017450</td>\n",
       "      <td>0.017617</td>\n",
       "    </tr>\n",
       "    <tr>\n",
       "      <th>337</th>\n",
       "      <td>5</td>\n",
       "      <td>45</td>\n",
       "      <td>2.0</td>\n",
       "      <td>0.845460</td>\n",
       "      <td>0.861013</td>\n",
       "      <td>0.845460</td>\n",
       "      <td>0.814808</td>\n",
       "      <td>0.056830</td>\n",
       "      <td>0.851215</td>\n",
       "    </tr>\n",
       "    <tr>\n",
       "      <th>338</th>\n",
       "      <td>5</td>\n",
       "      <td>46</td>\n",
       "      <td>-2.0</td>\n",
       "      <td>0.885785</td>\n",
       "      <td>0.875474</td>\n",
       "      <td>0.885785</td>\n",
       "      <td>0.847052</td>\n",
       "      <td>0.026559</td>\n",
       "      <td>0.026560</td>\n",
       "    </tr>\n",
       "    <tr>\n",
       "      <th>427</th>\n",
       "      <td>15</td>\n",
       "      <td>7</td>\n",
       "      <td>-2.0</td>\n",
       "      <td>0.523138</td>\n",
       "      <td>0.857979</td>\n",
       "      <td>0.530253</td>\n",
       "      <td>0.563762</td>\n",
       "      <td>0.452748</td>\n",
       "      <td>0.444029</td>\n",
       "    </tr>\n",
       "    <tr>\n",
       "      <th>428</th>\n",
       "      <td>15</td>\n",
       "      <td>7</td>\n",
       "      <td>-1.0</td>\n",
       "      <td>0.523138</td>\n",
       "      <td>0.857979</td>\n",
       "      <td>0.526556</td>\n",
       "      <td>0.544749</td>\n",
       "      <td>0.430491</td>\n",
       "      <td>0.441594</td>\n",
       "    </tr>\n",
       "    <tr>\n",
       "      <th>429</th>\n",
       "      <td>15</td>\n",
       "      <td>7</td>\n",
       "      <td>0.0</td>\n",
       "      <td>0.523138</td>\n",
       "      <td>0.864647</td>\n",
       "      <td>0.523138</td>\n",
       "      <td>0.539709</td>\n",
       "      <td>0.411273</td>\n",
       "      <td>0.435097</td>\n",
       "    </tr>\n",
       "    <tr>\n",
       "      <th>430</th>\n",
       "      <td>15</td>\n",
       "      <td>7</td>\n",
       "      <td>1.0</td>\n",
       "      <td>0.523138</td>\n",
       "      <td>0.840664</td>\n",
       "      <td>0.523138</td>\n",
       "      <td>0.532580</td>\n",
       "      <td>0.408172</td>\n",
       "      <td>0.437581</td>\n",
       "    </tr>\n",
       "    <tr>\n",
       "      <th>431</th>\n",
       "      <td>15</td>\n",
       "      <td>7</td>\n",
       "      <td>2.0</td>\n",
       "      <td>0.523138</td>\n",
       "      <td>0.840664</td>\n",
       "      <td>0.523138</td>\n",
       "      <td>0.533113</td>\n",
       "      <td>0.364079</td>\n",
       "      <td>0.420494</td>\n",
       "    </tr>\n",
       "    <tr>\n",
       "      <th>736</th>\n",
       "      <td>10</td>\n",
       "      <td>7</td>\n",
       "      <td>-2.0</td>\n",
       "      <td>0.517687</td>\n",
       "      <td>0.749265</td>\n",
       "      <td>0.521432</td>\n",
       "      <td>0.721636</td>\n",
       "      <td>0.014533</td>\n",
       "      <td>0.014120</td>\n",
       "    </tr>\n",
       "    <tr>\n",
       "      <th>740</th>\n",
       "      <td>10</td>\n",
       "      <td>7</td>\n",
       "      <td>2.0</td>\n",
       "      <td>0.517687</td>\n",
       "      <td>0.546104</td>\n",
       "      <td>0.517687</td>\n",
       "      <td>0.717748</td>\n",
       "      <td>0.070794</td>\n",
       "      <td>0.500874</td>\n",
       "    </tr>\n",
       "  </tbody>\n",
       "</table>\n",
       "</div>"
      ],
      "text/plain": [
       "     num_workers  objid  thresh    J [MV]    J [GT]  J [basic]  J [GTLSA]  \\\n",
       "45             5     13     2.0  0.928437  0.935684   0.928437   0.876081   \n",
       "103            5      7    -2.0  0.529387  0.536744   0.529387   0.014117   \n",
       "107            5      7     2.0  0.529387  0.536744   0.529387   0.054795   \n",
       "148            5      2     2.0  0.928316  0.917808   0.928316   0.033390   \n",
       "165            5      4    -2.0  0.880530  0.874386   0.880530   0.888312   \n",
       "166            5      4    -1.0  0.880530  0.874386   0.880530   0.879781   \n",
       "170            5      4    -1.8  0.880530  0.874386   0.880530   0.888798   \n",
       "171            5      4    -1.6  0.880530  0.874386   0.880530   0.887978   \n",
       "172            5      4    -1.4  0.880530  0.874386   0.880530   0.887978   \n",
       "178            5      6    -2.0  0.843750  0.781755   0.843750   0.881735   \n",
       "183            5      9    -2.0  0.931053  0.934525   0.931053   0.927600   \n",
       "188            5     10    -2.0  0.941518  0.941781   0.941518   0.904480   \n",
       "189            5     10    -1.0  0.941518  0.941781   0.941518   0.861395   \n",
       "190            5     10     0.0  0.941518  0.941781   0.941518   0.861258   \n",
       "191            5     10     1.0  0.941518  0.941781   0.941518   0.857322   \n",
       "192            5     10     2.0  0.941518  0.943766   0.941518   0.039686   \n",
       "212            5     17     2.0  0.825888  0.802694   0.825888   0.751034   \n",
       "216            5     18     1.0  0.961428  0.967656   0.961428   0.963449   \n",
       "217            5     18     2.0  0.961428  0.961428   0.961428   0.963553   \n",
       "218            5     19    -2.0  0.846169  0.871913   0.846169   0.025171   \n",
       "219            5     19    -1.0  0.846169  0.849750   0.846169   0.848925   \n",
       "226            5     20     1.0  0.722052  0.923707   0.716427   0.706946   \n",
       "227            5     20     2.0  0.722052  0.923707   0.716427   0.680152   \n",
       "238            5     23    -2.0  0.890073  0.907747   0.890073   0.919926   \n",
       "240            5     23     0.0  0.890073  0.907747   0.890073   0.919349   \n",
       "241            5     23     1.0  0.890073  0.907747   0.890073   0.919349   \n",
       "242            5     23     2.0  0.890073  0.911436   0.890073   0.072951   \n",
       "267            5     28     2.0  0.833705  0.822738   0.833705   0.793232   \n",
       "278            5     31    -2.0  0.930496  0.926364   0.930496   0.935437   \n",
       "279            5     31    -1.0  0.930496  0.926364   0.930496   0.935437   \n",
       "298            5     36    -2.0  0.919357  0.935375   0.919357   0.935238   \n",
       "317            5     39     2.0  0.973194  0.973194   0.973194   0.016331   \n",
       "322            5     42     2.0  0.839864  0.860522   0.839864   0.141128   \n",
       "323            5     43    -2.0  0.891029  0.891494   0.891029   0.876887   \n",
       "333            5     45    -2.0  0.845460  0.865018   0.845460   0.017403   \n",
       "337            5     45     2.0  0.845460  0.861013   0.845460   0.814808   \n",
       "338            5     46    -2.0  0.885785  0.875474   0.885785   0.847052   \n",
       "427           15      7    -2.0  0.523138  0.857979   0.530253   0.563762   \n",
       "428           15      7    -1.0  0.523138  0.857979   0.526556   0.544749   \n",
       "429           15      7     0.0  0.523138  0.864647   0.523138   0.539709   \n",
       "430           15      7     1.0  0.523138  0.840664   0.523138   0.532580   \n",
       "431           15      7     2.0  0.523138  0.840664   0.523138   0.533113   \n",
       "736           10      7    -2.0  0.517687  0.749265   0.521432   0.721636   \n",
       "740           10      7     2.0  0.517687  0.546104   0.517687   0.717748   \n",
       "\n",
       "     J [isoGT]  J [isoGTLSA]  \n",
       "45    0.045499      0.051659  \n",
       "103   0.014554      0.014534  \n",
       "107   0.044518      0.037636  \n",
       "148   0.112100      0.008398  \n",
       "165   0.010867      0.010868  \n",
       "166   0.010867      0.899390  \n",
       "170   0.010867      0.010862  \n",
       "171   0.010867      0.894318  \n",
       "172   0.010867      0.901245  \n",
       "178   0.002230      0.848912  \n",
       "183   0.030400      0.030343  \n",
       "188   0.054204      0.054628  \n",
       "189   0.054123      0.053981  \n",
       "190   0.054123      0.004588  \n",
       "191   0.053415      0.004175  \n",
       "192   0.053203      0.001136  \n",
       "212   0.000000      0.814221  \n",
       "216   0.028779      0.031897  \n",
       "217   0.021764      0.022292  \n",
       "218   0.025888      0.026127  \n",
       "219   0.025888      0.885345  \n",
       "226   0.290122      0.259661  \n",
       "227   0.244632      0.224108  \n",
       "238   0.040782      0.941892  \n",
       "240   0.075245      0.942124  \n",
       "241   0.065125      0.935538  \n",
       "242   0.002507      0.007819  \n",
       "267   0.314403      0.315135  \n",
       "278   0.085548      0.085913  \n",
       "279   0.085548      0.085922  \n",
       "298   0.099507      0.941378  \n",
       "317   0.016684      0.021186  \n",
       "322   0.079730      0.085377  \n",
       "323   0.054014      0.054007  \n",
       "333   0.017450      0.017617  \n",
       "337   0.056830      0.851215  \n",
       "338   0.026559      0.026560  \n",
       "427   0.452748      0.444029  \n",
       "428   0.430491      0.441594  \n",
       "429   0.411273      0.435097  \n",
       "430   0.408172      0.437581  \n",
       "431   0.364079      0.420494  \n",
       "736   0.014533      0.014120  \n",
       "740   0.070794      0.500874  "
      ]
     },
     "execution_count": 332,
     "metadata": {},
     "output_type": "execute_result"
    }
   ],
   "source": [
    "final_df[(final_df[\"J [isoGT]\"]<0.5)][keys]"
   ]
  },
  {
   "cell_type": "markdown",
   "metadata": {},
   "source": [
    "5worker_rand0 object 13 is an example of where iso failes but the result does fine. "
   ]
  },
  {
   "cell_type": "code",
   "execution_count": 333,
   "metadata": {},
   "outputs": [
    {
     "data": {
      "image/png": "[encoded data removed]",
      "text/plain": [
       "<matplotlib.figure.Figure at 0xa206290>"
      ]
     },
     "metadata": {},
     "output_type": "display_data"
    },
    {
     "data": {
      "image/png": "[encoded data removed]",
      "text/plain": [
       "<matplotlib.figure.Figure at 0x5b59690>"
      ]
     },
     "metadata": {},
     "output_type": "display_data"
    },
    {
     "data": {
      "image/png": "[encoded data removed]",
      "text/plain": [
       "<matplotlib.figure.Figure at 0x6e3c290>"
      ]
     },
     "metadata": {},
     "output_type": "display_data"
    },
    {
     "data": {
      "image/png": "[encoded data removed]",
      "text/plain": [
       "<matplotlib.figure.Figure at 0x63f9290>"
      ]
     },
     "metadata": {},
     "output_type": "display_data"
    }
   ],
   "source": [
    "mega,result, gt,pInT,pNotInT =  plot_masks(\"5workers_rand0\",13,2,\"isoGT\",returnMatrix=True)\n",
    "# [result] = plot_masks(\"5workers_rand0\",1,0,\"isoGT\",include=[\"ResultOnly\"],returnMatrix=True)"
   ]
  },
  {
   "cell_type": "code",
   "execution_count": 344,
   "metadata": {
    "collapsed": true
   },
   "outputs": [],
   "source": [
    "def load_qn_qp(batch,objid,algo,thresh):\n",
    "    qn = pkl.load(open(\"pixel_em/{}/obj{}/{}_qn_ground_truth_thresh{}.pkl\".format(batch,objid,algo,thresh)))\n",
    "    qp = pkl.load(open(\"pixel_em/{}/obj{}/{}_qp_ground_truth_thresh{}.pkl\".format(batch,objid,algo,thresh)))\n",
    "    return qn,qp"
   ]
  },
  {
   "cell_type": "code",
   "execution_count": 345,
   "metadata": {},
   "outputs": [
    {
     "data": {
      "text/plain": [
       "({133: 0.33068520357497516,\n",
       "  161: 0.8917576961271102,\n",
       "  170: 0.7994041708043694,\n",
       "  239: 0.7269116186693148,\n",
       "  259: 0.6047666335650447},\n",
       " {133: 0.9636194029850746,\n",
       "  161: 0.5289179104477612,\n",
       "  170: 0.03544776119402985,\n",
       "  239: 0.5802238805970149,\n",
       "  259: 0.8376865671641791})"
      ]
     },
     "execution_count": 345,
     "metadata": {},
     "output_type": "execute_result"
    }
   ],
   "source": [
    "load_qn_qp(\"5workers_rand0\",13,\"isoGT\",2)"
   ]
  },
  {
   "cell_type": "code",
   "execution_count": 346,
   "metadata": {},
   "outputs": [
    {
     "name": "stdout",
     "output_type": "stream",
     "text": [
      "[161, 239, 170, 259, 133]"
     ]
    }
   ],
   "source": [
    "cat pixel_em/5workers_rand0/obj13/worker_ids.json"
   ]
  },
  {
   "cell_type": "code",
   "execution_count": 347,
   "metadata": {},
   "outputs": [
    {
     "data": {
      "text/plain": [
       "<matplotlib.image.AxesImage at 0x6569950>"
      ]
     },
     "execution_count": 347,
     "metadata": {},
     "output_type": "execute_result"
    },
    {
     "data": {
      "image/png": "[encoded data removed]",
      "text/plain": [
       "<matplotlib.figure.Figure at 0x5b75190>"
      ]
     },
     "metadata": {},
     "output_type": "display_data"
    }
   ],
   "source": [
    "worker_mask = pkl.load(open(\"pixel_em/obj13/mask259.pkl\"))\n",
    "\n",
    "plt.imshow(worker_mask)"
   ]
  },
  {
   "cell_type": "code",
   "execution_count": 348,
   "metadata": {},
   "outputs": [
    {
     "data": {
      "text/plain": [
       "<matplotlib.image.AxesImage at 0x9e9d790>"
      ]
     },
     "execution_count": 348,
     "metadata": {},
     "output_type": "execute_result"
    },
    {
     "data": {
      "image/png": "[encoded data removed]",
      "text/plain": [
       "<matplotlib.figure.Figure at 0x656a110>"
      ]
     },
     "metadata": {},
     "output_type": "display_data"
    }
   ],
   "source": [
    "worker_mask = pkl.load(open(\"pixel_em/obj13/mask133.pkl\"))\n",
    "\n",
    "plt.imshow(worker_mask)"
   ]
  },
  {
   "cell_type": "markdown",
   "metadata": {},
   "source": [
    "need to overlay ground truth BB on top of this otherwise it is hard to tell \n",
    "\n",
    "worker 133 didn't perform particularly poorly but I'm not sure why his quality score is so low"
   ]
  },
  {
   "cell_type": "markdown",
   "metadata": {},
   "source": [
    "# Problematic for isoGT Only "
   ]
  },
  {
   "cell_type": "code",
   "execution_count": 21,
   "metadata": {},
   "outputs": [
    {
     "data": {
      "image/png": "[encoded data removed]",
      "text/plain": [
       "<matplotlib.figure.Figure at 0x95153d0>"
      ]
     },
     "metadata": {},
     "output_type": "display_data"
    },
    {
     "data": {
      "image/png": "[encoded data removed]",
      "text/plain": [
       "<matplotlib.figure.Figure at 0xa95f1d0>"
      ]
     },
     "metadata": {},
     "output_type": "display_data"
    },
    {
     "data": {
      "image/png": "[encoded data removed]",
      "text/plain": [
       "<matplotlib.figure.Figure at 0x96ba990>"
      ]
     },
     "metadata": {},
     "output_type": "display_data"
    },
    {
     "data": {
      "image/png": "[encoded data removed]",
      "text/plain": [
       "<matplotlib.figure.Figure at 0xa834f90>"
      ]
     },
     "metadata": {},
     "output_type": "display_data"
    }
   ],
   "source": [
    "mega_mask,result, gt,pInT,pNotInT =  plot_masks(\"5workers_rand0\",23,1,\"isoGT\",returnMatrix=True)\n",
    "# [result] = plot_masks(\"5workers_rand0\",1,0,\"isoGT\",include=[\"ResultOnly\"],returnMatrix=True)"
   ]
  },
  {
   "cell_type": "code",
   "execution_count": 19,
   "metadata": {},
   "outputs": [
    {
     "data": {
      "text/plain": [
       "array([[False, False, False, ..., False, False, False],\n",
       "       [False, False, False, ..., False, False, False],\n",
       "       [False, False, False, ..., False, False, False],\n",
       "       ..., \n",
       "       [False, False, False, ..., False, False, False],\n",
       "       [False, False, False, ..., False, False, False],\n",
       "       [False, False, False, ..., False, False, False]], dtype=bool)"
      ]
     },
     "execution_count": 19,
     "metadata": {},
     "output_type": "execute_result"
    }
   ],
   "source": [
    "gt"
   ]
  },
  {
   "cell_type": "code",
   "execution_count": 66,
   "metadata": {},
   "outputs": [],
   "source": [
    "Nworkers=5\n",
    "# invariant_idx = np.where((mega_mask==0) | (mega_mask ==Nworkers))\n",
    "\n",
    "invariant_mask = np.zeros_like(mega_mask,dtype=bool)"
   ]
  },
  {
   "cell_type": "code",
   "execution_count": 67,
   "metadata": {},
   "outputs": [
    {
     "data": {
      "text/plain": [
       "<matplotlib.image.AxesImage at 0xdb5d850>"
      ]
     },
     "execution_count": 67,
     "metadata": {},
     "output_type": "execute_result"
    },
    {
     "data": {
      "image/png": "[encoded data removed]",
      "text/plain": [
       "<matplotlib.figure.Figure at 0x107dd790>"
      ]
     },
     "metadata": {},
     "output_type": "display_data"
    }
   ],
   "source": [
    "plt.imshow(invariant_mask)"
   ]
  },
  {
   "cell_type": "code",
   "execution_count": 76,
   "metadata": {},
   "outputs": [],
   "source": [
    "invariant_mask_yes = np.ma.masked_where((mega_mask==Nworkers),invariant_mask).mask\n",
    "invariant_mask_no = np.ma.masked_where((mega_mask ==0),invariant_mask).mask"
   ]
  },
  {
   "cell_type": "code",
   "execution_count": 77,
   "metadata": {},
   "outputs": [
    {
     "data": {
      "text/plain": [
       "<matplotlib.colorbar.Colorbar at 0xe52ba50>"
      ]
     },
     "execution_count": 77,
     "metadata": {},
     "output_type": "execute_result"
    },
    {
     "data": {
      "image/png": "[encoded data removed]",
      "text/plain": [
       "<matplotlib.figure.Figure at 0xe957410>"
      ]
     },
     "metadata": {},
     "output_type": "display_data"
    },
    {
     "data": {
      "image/png": "[encoded data removed]",
      "text/plain": [
       "<matplotlib.figure.Figure at 0xe50f750>"
      ]
     },
     "metadata": {},
     "output_type": "display_data"
    }
   ],
   "source": [
    "plt.figure()\n",
    "plt.imshow(invariant_mask_yes)\n",
    "plt.colorbar()\n",
    "plt.figure()\n",
    "plt.imshow(invariant_mask_no)\n",
    "plt.colorbar()"
   ]
  },
  {
   "cell_type": "code",
   "execution_count": 85,
   "metadata": {},
   "outputs": [
    {
     "data": {
      "text/plain": [
       "<matplotlib.colorbar.Colorbar at 0x10975ad0>"
      ]
     },
     "execution_count": 85,
     "metadata": {},
     "output_type": "execute_result"
    },
    {
     "data": {
      "image/png": "[encoded data removed]",
      "text/plain": [
       "<matplotlib.figure.Figure at 0x105edad0>"
      ]
     },
     "metadata": {},
     "output_type": "display_data"
    }
   ],
   "source": [
    "plt.imshow(result+invariant_mask_yes)\n",
    "plt.colorbar()"
   ]
  },
  {
   "cell_type": "code",
   "execution_count": 87,
   "metadata": {},
   "outputs": [],
   "source": [
    "invariant_mask = result+invariant_mask_yes-invariant_mask_no\n",
    "invariant_mask[invariant_mask==-1]=0"
   ]
  },
  {
   "cell_type": "code",
   "execution_count": 90,
   "metadata": {},
   "outputs": [
    {
     "data": {
      "text/plain": [
       "<matplotlib.image.AxesImage at 0x110a3290>"
      ]
     },
     "execution_count": 90,
     "metadata": {},
     "output_type": "execute_result"
    },
    {
     "data": {
      "image/png": "[encoded data removed]",
      "text/plain": [
       "<matplotlib.figure.Figure at 0x67ad110>"
      ]
     },
     "metadata": {},
     "output_type": "display_data"
    }
   ],
   "source": [
    "plt.imshow(invariant_mask)"
   ]
  },
  {
   "cell_type": "code",
   "execution_count": 91,
   "metadata": {},
   "outputs": [
    {
     "data": {
      "text/plain": [
       "array([[ True,  True,  True, ...,  True,  True,  True],\n",
       "       [ True,  True,  True, ...,  True,  True,  True],\n",
       "       [ True,  True,  True, ...,  True,  True,  True],\n",
       "       ..., \n",
       "       [ True,  True,  True, ...,  True,  True,  True],\n",
       "       [ True,  True,  True, ...,  True,  True,  True],\n",
       "       [ True,  True,  True, ...,  True,  True,  True]], dtype=bool)"
      ]
     },
     "execution_count": 91,
     "metadata": {},
     "output_type": "execute_result"
    }
   ],
   "source": [
    "result+invariant_mask_yes == invariant_mask"
   ]
  },
  {
   "cell_type": "raw",
   "metadata": {},
   "source": [
    "[jlee782@hilda TileEM]$ python2.7 -i PixelEM.py 5workers_rand0\n",
    "Doing GroundTruth_doM_once, algo=GT,exclude_isovote=True\n",
    "p,r,j: 0.875894988067 0.0657313432836 0.0651248077606\n",
    "    \n",
    "    \n",
    "[jlee782@hilda TileEM]$ python2.7 -i PixelEM.py 5workers_rand0\n",
    "Doing GroundTruth_doM_once, algo=GT,exclude_isovote=True\n",
    "p,r,j: 0.964145791286 0.969671641791 0.935922553878\n",
    "\n"
   ]
  },
  {
   "cell_type": "markdown",
   "metadata": {},
   "source": [
    "Adding in the invariant region helped the PRJ in some cases, but when I run this on bulk, it actually decreased the PRJs for even previously well behaving objects (both with -negative region and simply + all vote regions only)"
   ]
  },
  {
   "cell_type": "code",
   "execution_count": 97,
   "metadata": {},
   "outputs": [
    {
     "data": {
      "text/html": [
       "<div>\n",
       "<table border=\"1\" class=\"dataframe\">\n",
       "  <thead>\n",
       "    <tr style=\"text-align: right;\">\n",
       "      <th></th>\n",
       "      <th>num_workers</th>\n",
       "      <th>objid</th>\n",
       "      <th>thresh</th>\n",
       "      <th>J [MV]</th>\n",
       "      <th>J [GT]</th>\n",
       "      <th>J [basic]</th>\n",
       "      <th>J [GTLSA]</th>\n",
       "      <th>J [isoGT]</th>\n",
       "      <th>J [isoGTLSA]</th>\n",
       "    </tr>\n",
       "  </thead>\n",
       "  <tbody>\n",
       "    <tr>\n",
       "      <th>108</th>\n",
       "      <td>5</td>\n",
       "      <td>8</td>\n",
       "      <td>-2</td>\n",
       "      <td>0.827086</td>\n",
       "      <td>0.878300</td>\n",
       "      <td>0.864774</td>\n",
       "      <td>0.709581</td>\n",
       "      <td>0.869061</td>\n",
       "      <td>0.845774</td>\n",
       "    </tr>\n",
       "    <tr>\n",
       "      <th>109</th>\n",
       "      <td>5</td>\n",
       "      <td>8</td>\n",
       "      <td>-1</td>\n",
       "      <td>0.827086</td>\n",
       "      <td>0.863969</td>\n",
       "      <td>0.827086</td>\n",
       "      <td>0.687213</td>\n",
       "      <td>0.876302</td>\n",
       "      <td>0.844138</td>\n",
       "    </tr>\n",
       "    <tr>\n",
       "      <th>110</th>\n",
       "      <td>5</td>\n",
       "      <td>8</td>\n",
       "      <td>0</td>\n",
       "      <td>0.827086</td>\n",
       "      <td>0.863969</td>\n",
       "      <td>0.827086</td>\n",
       "      <td>0.682637</td>\n",
       "      <td>0.887905</td>\n",
       "      <td>0.864187</td>\n",
       "    </tr>\n",
       "    <tr>\n",
       "      <th>111</th>\n",
       "      <td>5</td>\n",
       "      <td>8</td>\n",
       "      <td>1</td>\n",
       "      <td>0.827086</td>\n",
       "      <td>0.861345</td>\n",
       "      <td>0.827086</td>\n",
       "      <td>0.673711</td>\n",
       "      <td>0.854636</td>\n",
       "      <td>0.307262</td>\n",
       "    </tr>\n",
       "    <tr>\n",
       "      <th>112</th>\n",
       "      <td>5</td>\n",
       "      <td>8</td>\n",
       "      <td>2</td>\n",
       "      <td>0.827086</td>\n",
       "      <td>0.861688</td>\n",
       "      <td>0.826999</td>\n",
       "      <td>0.688057</td>\n",
       "      <td>0.840232</td>\n",
       "      <td>0.154519</td>\n",
       "    </tr>\n",
       "  </tbody>\n",
       "</table>\n",
       "</div>"
      ],
      "text/plain": [
       "     num_workers  objid  thresh    J [MV]    J [GT]  J [basic]  J [GTLSA]  \\\n",
       "108            5      8      -2  0.827086  0.878300   0.864774   0.709581   \n",
       "109            5      8      -1  0.827086  0.863969   0.827086   0.687213   \n",
       "110            5      8       0  0.827086  0.863969   0.827086   0.682637   \n",
       "111            5      8       1  0.827086  0.861345   0.827086   0.673711   \n",
       "112            5      8       2  0.827086  0.861688   0.826999   0.688057   \n",
       "\n",
       "     J [isoGT]  J [isoGTLSA]  \n",
       "108   0.869061      0.845774  \n",
       "109   0.876302      0.844138  \n",
       "110   0.887905      0.864187  \n",
       "111   0.854636      0.307262  \n",
       "112   0.840232      0.154519  "
      ]
     },
     "execution_count": 97,
     "metadata": {},
     "output_type": "execute_result"
    }
   ],
   "source": [
    "final_df[final_df[\"objid\"]==8][keys].head()"
   ]
  },
  {
   "cell_type": "code",
   "execution_count": 98,
   "metadata": {},
   "outputs": [
    {
     "data": {
      "text/html": [
       "<div>\n",
       "<table border=\"1\" class=\"dataframe\">\n",
       "  <thead>\n",
       "    <tr style=\"text-align: right;\">\n",
       "      <th></th>\n",
       "      <th>num_workers</th>\n",
       "      <th>objid</th>\n",
       "      <th>thresh</th>\n",
       "      <th>J [MV]</th>\n",
       "      <th>J [GT]</th>\n",
       "      <th>J [basic]</th>\n",
       "      <th>J [GTLSA]</th>\n",
       "      <th>J [isoGT]</th>\n",
       "      <th>J [isoGTLSA]</th>\n",
       "    </tr>\n",
       "  </thead>\n",
       "  <tbody>\n",
       "    <tr>\n",
       "      <th>183</th>\n",
       "      <td>5</td>\n",
       "      <td>9</td>\n",
       "      <td>-2</td>\n",
       "      <td>0.931053</td>\n",
       "      <td>0.934525</td>\n",
       "      <td>0.931053</td>\n",
       "      <td>0.927600</td>\n",
       "      <td>0.030400</td>\n",
       "      <td>0.030343</td>\n",
       "    </tr>\n",
       "    <tr>\n",
       "      <th>184</th>\n",
       "      <td>5</td>\n",
       "      <td>9</td>\n",
       "      <td>-1</td>\n",
       "      <td>0.931053</td>\n",
       "      <td>0.934525</td>\n",
       "      <td>0.931053</td>\n",
       "      <td>0.927600</td>\n",
       "      <td>0.947100</td>\n",
       "      <td>0.951648</td>\n",
       "    </tr>\n",
       "    <tr>\n",
       "      <th>185</th>\n",
       "      <td>5</td>\n",
       "      <td>9</td>\n",
       "      <td>0</td>\n",
       "      <td>0.931053</td>\n",
       "      <td>0.934525</td>\n",
       "      <td>0.931053</td>\n",
       "      <td>0.927600</td>\n",
       "      <td>0.947704</td>\n",
       "      <td>0.929266</td>\n",
       "    </tr>\n",
       "    <tr>\n",
       "      <th>186</th>\n",
       "      <td>5</td>\n",
       "      <td>9</td>\n",
       "      <td>1</td>\n",
       "      <td>0.931053</td>\n",
       "      <td>0.934525</td>\n",
       "      <td>0.931053</td>\n",
       "      <td>0.927600</td>\n",
       "      <td>0.933235</td>\n",
       "      <td>0.920566</td>\n",
       "    </tr>\n",
       "    <tr>\n",
       "      <th>187</th>\n",
       "      <td>5</td>\n",
       "      <td>9</td>\n",
       "      <td>2</td>\n",
       "      <td>0.931053</td>\n",
       "      <td>0.934525</td>\n",
       "      <td>0.931053</td>\n",
       "      <td>0.925821</td>\n",
       "      <td>0.900383</td>\n",
       "      <td>0.912891</td>\n",
       "    </tr>\n",
       "  </tbody>\n",
       "</table>\n",
       "</div>"
      ],
      "text/plain": [
       "     num_workers  objid  thresh    J [MV]    J [GT]  J [basic]  J [GTLSA]  \\\n",
       "183            5      9      -2  0.931053  0.934525   0.931053   0.927600   \n",
       "184            5      9      -1  0.931053  0.934525   0.931053   0.927600   \n",
       "185            5      9       0  0.931053  0.934525   0.931053   0.927600   \n",
       "186            5      9       1  0.931053  0.934525   0.931053   0.927600   \n",
       "187            5      9       2  0.931053  0.934525   0.931053   0.925821   \n",
       "\n",
       "     J [isoGT]  J [isoGTLSA]  \n",
       "183   0.030400      0.030343  \n",
       "184   0.947100      0.951648  \n",
       "185   0.947704      0.929266  \n",
       "186   0.933235      0.920566  \n",
       "187   0.900383      0.912891  "
      ]
     },
     "execution_count": 98,
     "metadata": {},
     "output_type": "execute_result"
    }
   ],
   "source": [
    "final_df[final_df[\"objid\"]==9][keys].head()"
   ]
  },
  {
   "cell_type": "code",
   "execution_count": 100,
   "metadata": {},
   "outputs": [
    {
     "data": {
      "image/png": "[encoded data removed]",
      "text/plain": [
       "<matplotlib.figure.Figure at 0xaa6f690>"
      ]
     },
     "metadata": {},
     "output_type": "display_data"
    },
    {
     "data": {
      "image/png": "[encoded data removed]",
      "text/plain": [
       "<matplotlib.figure.Figure at 0xad7f990>"
      ]
     },
     "metadata": {},
     "output_type": "display_data"
    },
    {
     "data": {
      "image/png": "[encoded data removed]",
      "text/plain": [
       "<matplotlib.figure.Figure at 0x143970d0>"
      ]
     },
     "metadata": {},
     "output_type": "display_data"
    },
    {
     "data": {
      "image/png": "[encoded data removed]",
      "text/plain": [
       "<matplotlib.figure.Figure at 0x14c20410>"
      ]
     },
     "metadata": {},
     "output_type": "display_data"
    }
   ],
   "source": [
    "mega_mask,result, gt,pInT,pNotInT =  plot_masks(\"5workers_rand0\",1,1,\"isoGT\",returnMatrix=True)"
   ]
  },
  {
   "cell_type": "code",
   "execution_count": 102,
   "metadata": {},
   "outputs": [
    {
     "data": {
      "image/png": "[encoded data removed]",
      "text/plain": [
       "<matplotlib.figure.Figure at 0x126f3a90>"
      ]
     },
     "metadata": {},
     "output_type": "display_data"
    },
    {
     "data": {
      "image/png": "[encoded data removed]",
      "text/plain": [
       "<matplotlib.figure.Figure at 0x14d6de50>"
      ]
     },
     "metadata": {},
     "output_type": "display_data"
    },
    {
     "data": {
      "image/png": "[encoded data removed]",
      "text/plain": [
       "<matplotlib.figure.Figure at 0xabb88d0>"
      ]
     },
     "metadata": {},
     "output_type": "display_data"
    },
    {
     "data": {
      "image/png": "[encoded data removed]",
      "text/plain": [
       "<matplotlib.figure.Figure at 0x143aac10>"
      ]
     },
     "metadata": {},
     "output_type": "display_data"
    }
   ],
   "source": [
    "mega_mask,result, gt,pInT,pNotInT =  plot_masks(\"5workers_rand0\",2,1,\"isoGT\",returnMatrix=True)\n",
    "# [result] = plot_masks(\"5workers_rand0\",1,0,\"isoGT\",include=[\"ResultOnly\"],returnMatrix=True)"
   ]
  },
  {
   "cell_type": "markdown",
   "metadata": {},
   "source": [
    "The reason why the PRJ for everything else was lower was because this turned into a float map with max =2 and min=-1 because of overlap on our addition and substraction of matricies. After coercing this into a boolean matrix, the PRJ values became high as before. This also boosted the precision up by a couple percentage."
   ]
  },
  {
   "cell_type": "code",
   "execution_count": 111,
   "metadata": {},
   "outputs": [
    {
     "data": {
      "text/html": [
       "<div>\n",
       "<table border=\"1\" class=\"dataframe\">\n",
       "  <thead>\n",
       "    <tr style=\"text-align: right;\">\n",
       "      <th></th>\n",
       "      <th>num_workers</th>\n",
       "      <th>thresh</th>\n",
       "      <th>P [isoGT]</th>\n",
       "      <th>R [isoGT]</th>\n",
       "      <th>J [isoGT]</th>\n",
       "    </tr>\n",
       "  </thead>\n",
       "  <tbody>\n",
       "    <tr>\n",
       "      <th>0</th>\n",
       "      <td>5</td>\n",
       "      <td>-2</td>\n",
       "      <td>0.918883</td>\n",
       "      <td>0.992438</td>\n",
       "      <td>0.912494</td>\n",
       "    </tr>\n",
       "    <tr>\n",
       "      <th>1</th>\n",
       "      <td>5</td>\n",
       "      <td>-1</td>\n",
       "      <td>0.964626</td>\n",
       "      <td>0.987282</td>\n",
       "      <td>0.952786</td>\n",
       "    </tr>\n",
       "    <tr>\n",
       "      <th>2</th>\n",
       "      <td>5</td>\n",
       "      <td>0</td>\n",
       "      <td>0.973539</td>\n",
       "      <td>0.982165</td>\n",
       "      <td>0.956627</td>\n",
       "    </tr>\n",
       "    <tr>\n",
       "      <th>3</th>\n",
       "      <td>5</td>\n",
       "      <td>0</td>\n",
       "      <td>0.973539</td>\n",
       "      <td>0.982165</td>\n",
       "      <td>0.956627</td>\n",
       "    </tr>\n",
       "    <tr>\n",
       "      <th>4</th>\n",
       "      <td>5</td>\n",
       "      <td>0</td>\n",
       "      <td>0.973539</td>\n",
       "      <td>0.982165</td>\n",
       "      <td>0.956627</td>\n",
       "    </tr>\n",
       "  </tbody>\n",
       "</table>\n",
       "</div>"
      ],
      "text/plain": [
       "   num_workers  thresh  P [isoGT]  R [isoGT]  J [isoGT]\n",
       "0            5      -2   0.918883   0.992438   0.912494\n",
       "1            5      -1   0.964626   0.987282   0.952786\n",
       "2            5       0   0.973539   0.982165   0.956627\n",
       "3            5       0   0.973539   0.982165   0.956627\n",
       "4            5       0   0.973539   0.982165   0.956627"
      ]
     },
     "execution_count": 111,
     "metadata": {},
     "output_type": "execute_result"
    }
   ],
   "source": [
    "final_df[final_df[\"objid\"]==1][['num_workers','thresh','P [isoGT]','R [isoGT]','J [isoGT]']].head()"
   ]
  },
  {
   "cell_type": "code",
   "execution_count": 112,
   "metadata": {},
   "outputs": [
    {
     "data": {
      "text/html": [
       "<div>\n",
       "<table border=\"1\" class=\"dataframe\">\n",
       "  <thead>\n",
       "    <tr style=\"text-align: right;\">\n",
       "      <th></th>\n",
       "      <th>num_workers</th>\n",
       "      <th>thresh</th>\n",
       "      <th>P [isoGT]</th>\n",
       "      <th>R [isoGT]</th>\n",
       "      <th>J [isoGT]</th>\n",
       "    </tr>\n",
       "  </thead>\n",
       "  <tbody>\n",
       "    <tr>\n",
       "      <th>113</th>\n",
       "      <td>5</td>\n",
       "      <td>-2</td>\n",
       "      <td>0.943843</td>\n",
       "      <td>0.981829</td>\n",
       "      <td>0.927639</td>\n",
       "    </tr>\n",
       "    <tr>\n",
       "      <th>114</th>\n",
       "      <td>5</td>\n",
       "      <td>-1</td>\n",
       "      <td>0.948294</td>\n",
       "      <td>0.972218</td>\n",
       "      <td>0.923274</td>\n",
       "    </tr>\n",
       "    <tr>\n",
       "      <th>115</th>\n",
       "      <td>5</td>\n",
       "      <td>0</td>\n",
       "      <td>0.961527</td>\n",
       "      <td>0.953296</td>\n",
       "      <td>0.918270</td>\n",
       "    </tr>\n",
       "    <tr>\n",
       "      <th>116</th>\n",
       "      <td>5</td>\n",
       "      <td>0</td>\n",
       "      <td>0.961527</td>\n",
       "      <td>0.953296</td>\n",
       "      <td>0.918270</td>\n",
       "    </tr>\n",
       "    <tr>\n",
       "      <th>117</th>\n",
       "      <td>5</td>\n",
       "      <td>0</td>\n",
       "      <td>0.961527</td>\n",
       "      <td>0.953296</td>\n",
       "      <td>0.918270</td>\n",
       "    </tr>\n",
       "  </tbody>\n",
       "</table>\n",
       "</div>"
      ],
      "text/plain": [
       "     num_workers  thresh  P [isoGT]  R [isoGT]  J [isoGT]\n",
       "113            5      -2   0.943843   0.981829   0.927639\n",
       "114            5      -1   0.948294   0.972218   0.923274\n",
       "115            5       0   0.961527   0.953296   0.918270\n",
       "116            5       0   0.961527   0.953296   0.918270\n",
       "117            5       0   0.961527   0.953296   0.918270"
      ]
     },
     "execution_count": 112,
     "metadata": {},
     "output_type": "execute_result"
    }
   ],
   "source": [
    "final_df[final_df[\"objid\"]==2][['num_workers','thresh','P [isoGT]','R [isoGT]','J [isoGT]']].head()"
   ]
  },
  {
   "cell_type": "code",
   "execution_count": 113,
   "metadata": {},
   "outputs": [
    {
     "data": {
      "text/html": [
       "<div>\n",
       "<table border=\"1\" class=\"dataframe\">\n",
       "  <thead>\n",
       "    <tr style=\"text-align: right;\">\n",
       "      <th></th>\n",
       "      <th>num_workers</th>\n",
       "      <th>thresh</th>\n",
       "      <th>P [isoGTLSA]</th>\n",
       "      <th>R [isoGTLSA]</th>\n",
       "      <th>J [isoGTLSA]</th>\n",
       "    </tr>\n",
       "  </thead>\n",
       "  <tbody>\n",
       "    <tr>\n",
       "      <th>113</th>\n",
       "      <td>5</td>\n",
       "      <td>-2</td>\n",
       "      <td>0.021638</td>\n",
       "      <td>0.998048</td>\n",
       "      <td>0.021637</td>\n",
       "    </tr>\n",
       "    <tr>\n",
       "      <th>114</th>\n",
       "      <td>5</td>\n",
       "      <td>-1</td>\n",
       "      <td>0.928693</td>\n",
       "      <td>0.979877</td>\n",
       "      <td>0.911313</td>\n",
       "    </tr>\n",
       "    <tr>\n",
       "      <th>115</th>\n",
       "      <td>5</td>\n",
       "      <td>0</td>\n",
       "      <td>0.815358</td>\n",
       "      <td>0.141913</td>\n",
       "      <td>0.137495</td>\n",
       "    </tr>\n",
       "    <tr>\n",
       "      <th>116</th>\n",
       "      <td>5</td>\n",
       "      <td>0</td>\n",
       "      <td>0.815358</td>\n",
       "      <td>0.141913</td>\n",
       "      <td>0.137495</td>\n",
       "    </tr>\n",
       "    <tr>\n",
       "      <th>117</th>\n",
       "      <td>5</td>\n",
       "      <td>0</td>\n",
       "      <td>0.815358</td>\n",
       "      <td>0.141913</td>\n",
       "      <td>0.137495</td>\n",
       "    </tr>\n",
       "  </tbody>\n",
       "</table>\n",
       "</div>"
      ],
      "text/plain": [
       "     num_workers  thresh  P [isoGTLSA]  R [isoGTLSA]  J [isoGTLSA]\n",
       "113            5      -2      0.021638      0.998048      0.021637\n",
       "114            5      -1      0.928693      0.979877      0.911313\n",
       "115            5       0      0.815358      0.141913      0.137495\n",
       "116            5       0      0.815358      0.141913      0.137495\n",
       "117            5       0      0.815358      0.141913      0.137495"
      ]
     },
     "execution_count": 113,
     "metadata": {},
     "output_type": "execute_result"
    }
   ],
   "source": [
    "final_df[final_df[\"objid\"]==2][['num_workers','thresh','P [isoGTLSA]','R [isoGTLSA]','J [isoGTLSA]']].head()"
   ]
  },
  {
   "cell_type": "code",
   "execution_count": 114,
   "metadata": {},
   "outputs": [
    {
     "data": {
      "text/html": [
       "<div>\n",
       "<table border=\"1\" class=\"dataframe\">\n",
       "  <thead>\n",
       "    <tr style=\"text-align: right;\">\n",
       "      <th></th>\n",
       "      <th>num_workers</th>\n",
       "      <th>objid</th>\n",
       "      <th>thresh</th>\n",
       "      <th>J [MV]</th>\n",
       "      <th>J [GT]</th>\n",
       "      <th>J [basic]</th>\n",
       "      <th>J [GTLSA]</th>\n",
       "      <th>J [isoGT]</th>\n",
       "      <th>J [isoGTLSA]</th>\n",
       "    </tr>\n",
       "  </thead>\n",
       "  <tbody>\n",
       "    <tr>\n",
       "      <th>36</th>\n",
       "      <td>5</td>\n",
       "      <td>11</td>\n",
       "      <td>-2</td>\n",
       "      <td>0.80161</td>\n",
       "      <td>0.789447</td>\n",
       "      <td>0.80161</td>\n",
       "      <td>0.839822</td>\n",
       "      <td>0.811070</td>\n",
       "      <td>0.005203</td>\n",
       "    </tr>\n",
       "    <tr>\n",
       "      <th>37</th>\n",
       "      <td>5</td>\n",
       "      <td>11</td>\n",
       "      <td>-1</td>\n",
       "      <td>0.80161</td>\n",
       "      <td>0.789447</td>\n",
       "      <td>0.80161</td>\n",
       "      <td>0.839822</td>\n",
       "      <td>0.842645</td>\n",
       "      <td>0.839337</td>\n",
       "    </tr>\n",
       "    <tr>\n",
       "      <th>38</th>\n",
       "      <td>5</td>\n",
       "      <td>11</td>\n",
       "      <td>0</td>\n",
       "      <td>0.80161</td>\n",
       "      <td>0.814555</td>\n",
       "      <td>0.80161</td>\n",
       "      <td>0.822581</td>\n",
       "      <td>0.849275</td>\n",
       "      <td>0.843750</td>\n",
       "    </tr>\n",
       "    <tr>\n",
       "      <th>39</th>\n",
       "      <td>5</td>\n",
       "      <td>11</td>\n",
       "      <td>1</td>\n",
       "      <td>0.80161</td>\n",
       "      <td>0.801415</td>\n",
       "      <td>0.80161</td>\n",
       "      <td>0.752646</td>\n",
       "      <td>0.828538</td>\n",
       "      <td>0.802593</td>\n",
       "    </tr>\n",
       "    <tr>\n",
       "      <th>40</th>\n",
       "      <td>5</td>\n",
       "      <td>11</td>\n",
       "      <td>2</td>\n",
       "      <td>0.80161</td>\n",
       "      <td>0.801415</td>\n",
       "      <td>0.80161</td>\n",
       "      <td>0.751951</td>\n",
       "      <td>0.788166</td>\n",
       "      <td>0.761283</td>\n",
       "    </tr>\n",
       "  </tbody>\n",
       "</table>\n",
       "</div>"
      ],
      "text/plain": [
       "    num_workers  objid  thresh   J [MV]    J [GT]  J [basic]  J [GTLSA]  \\\n",
       "36            5     11      -2  0.80161  0.789447    0.80161   0.839822   \n",
       "37            5     11      -1  0.80161  0.789447    0.80161   0.839822   \n",
       "38            5     11       0  0.80161  0.814555    0.80161   0.822581   \n",
       "39            5     11       1  0.80161  0.801415    0.80161   0.752646   \n",
       "40            5     11       2  0.80161  0.801415    0.80161   0.751951   \n",
       "\n",
       "    J [isoGT]  J [isoGTLSA]  \n",
       "36   0.811070      0.005203  \n",
       "37   0.842645      0.839337  \n",
       "38   0.849275      0.843750  \n",
       "39   0.828538      0.802593  \n",
       "40   0.788166      0.761283  "
      ]
     },
     "execution_count": 114,
     "metadata": {},
     "output_type": "execute_result"
    }
   ],
   "source": [
    "final_df[final_df[\"objid\"]==11][keys].head()"
   ]
  },
  {
   "cell_type": "markdown",
   "metadata": {},
   "source": [
    "It also significantly improves the recall on the isoGTLSA "
   ]
  },
  {
   "cell_type": "markdown",
   "metadata": {},
   "source": [
    "### Objects where GTLSA performs badly "
   ]
  },
  {
   "cell_type": "code",
   "execution_count": 116,
   "metadata": {},
   "outputs": [
    {
     "data": {
      "image/png": "[encoded data removed]",
      "text/plain": [
       "<matplotlib.figure.Figure at 0x13185690>"
      ]
     },
     "metadata": {},
     "output_type": "display_data"
    },
    {
     "data": {
      "image/png": "[encoded data removed]",
      "text/plain": [
       "<matplotlib.figure.Figure at 0x13185590>"
      ]
     },
     "metadata": {},
     "output_type": "display_data"
    }
   ],
   "source": [
    "compare_PRJ_fixed_attr(final_df,\"thresh\",\"GTLSA\",\"basic\",'J')\n",
    "compare_PRJ_fixed_attr(final_df,\"num_workers\",\"GTLSA\",\"basic\",'J')"
   ]
  },
  {
   "cell_type": "code",
   "execution_count": 125,
   "metadata": {},
   "outputs": [],
   "source": [
    "# final_df[final_df[\"J [GTLSA]\"]<0.3][keys]"
   ]
  },
  {
   "cell_type": "code",
   "execution_count": 124,
   "metadata": {},
   "outputs": [
    {
     "data": {
      "text/html": [
       "<div>\n",
       "<table border=\"1\" class=\"dataframe\">\n",
       "  <thead>\n",
       "    <tr style=\"text-align: right;\">\n",
       "      <th></th>\n",
       "      <th>num_workers</th>\n",
       "      <th>objid</th>\n",
       "      <th>thresh</th>\n",
       "      <th>J [MV]</th>\n",
       "      <th>J [GT]</th>\n",
       "      <th>J [basic]</th>\n",
       "      <th>J [GTLSA]</th>\n",
       "      <th>J [isoGT]</th>\n",
       "      <th>J [isoGTLSA]</th>\n",
       "    </tr>\n",
       "  </thead>\n",
       "  <tbody>\n",
       "    <tr>\n",
       "      <th>846</th>\n",
       "      <td>10</td>\n",
       "      <td>29</td>\n",
       "      <td>-2</td>\n",
       "      <td>0.843378</td>\n",
       "      <td>0.808541</td>\n",
       "      <td>0.828303</td>\n",
       "      <td>0.180898</td>\n",
       "      <td>0.808562</td>\n",
       "      <td>0.721073</td>\n",
       "    </tr>\n",
       "  </tbody>\n",
       "</table>\n",
       "</div>"
      ],
      "text/plain": [
       "     num_workers  objid  thresh    J [MV]    J [GT]  J [basic]  J [GTLSA]  \\\n",
       "846           10     29      -2  0.843378  0.808541   0.828303   0.180898   \n",
       "\n",
       "     J [isoGT]  J [isoGTLSA]  \n",
       "846   0.808562      0.721073  "
      ]
     },
     "execution_count": 124,
     "metadata": {},
     "output_type": "execute_result"
    }
   ],
   "source": [
    "final_df[(final_df[\"num_workers\"]==10)&(final_df[\"objid\"]==29)&(final_df[\"thresh\"]==-2)][keys]"
   ]
  },
  {
   "cell_type": "markdown",
   "metadata": {},
   "source": [
    "task is to circle around the flower"
   ]
  },
  {
   "cell_type": "code",
   "execution_count": 128,
   "metadata": {},
   "outputs": [
    {
     "data": {
      "image/png": "[encoded data removed]",
      "text/plain": [
       "<matplotlib.figure.Figure at 0x13f81910>"
      ]
     },
     "metadata": {},
     "output_type": "display_data"
    },
    {
     "data": {
      "image/png": "[encoded data removed]",
      "text/plain": [
       "<matplotlib.figure.Figure at 0xad88a90>"
      ]
     },
     "metadata": {},
     "output_type": "display_data"
    },
    {
     "data": {
      "image/png": "[encoded data removed]",
      "text/plain": [
       "<matplotlib.figure.Figure at 0x109882d0>"
      ]
     },
     "metadata": {},
     "output_type": "display_data"
    },
    {
     "data": {
      "image/png": "[encoded data removed]",
      "text/plain": [
       "<matplotlib.figure.Figure at 0x13159990>"
      ]
     },
     "metadata": {},
     "output_type": "display_data"
    }
   ],
   "source": [
    "mega_mask,result, gt,pInT,pNotInT =  plot_masks(\"10workers_rand0\",29,-2,\"GTLSA\",returnMatrix=True)"
   ]
  },
  {
   "cell_type": "code",
   "execution_count": 129,
   "metadata": {
    "collapsed": true
   },
   "outputs": [],
   "source": [
    "def load_qn1_qp1_qn2_qp2(batch,objid,algo,thresh):\n",
    "    qn1 = pkl.load(open(\"pixel_em/{}/obj{}/{}_qn1_ground_truth_thresh{}.pkl\".format(batch,objid,algo,thresh)))\n",
    "    qp1 = pkl.load(open(\"pixel_em/{}/obj{}/{}_qp1_ground_truth_thresh{}.pkl\".format(batch,objid,algo,thresh)))\n",
    "    qn2 = pkl.load(open(\"pixel_em/{}/obj{}/{}_qn2_ground_truth_thresh{}.pkl\".format(batch,objid,algo,thresh)))\n",
    "    qp2 = pkl.load(open(\"pixel_em/{}/obj{}/{}_qp2_ground_truth_thresh{}.pkl\".format(batch,objid,algo,thresh)))\n",
    "    return qn1,qp1,qn2,qp2"
   ]
  },
  {
   "cell_type": "code",
   "execution_count": 131,
   "metadata": {},
   "outputs": [],
   "source": [
    "qn1,qp1,qn2,qp2=load_qn1_qp1_qn2_qp2('10workers_rand0',29,\"GTLSA\",-2)"
   ]
  },
  {
   "cell_type": "code",
   "execution_count": 132,
   "metadata": {},
   "outputs": [
    {
     "data": {
      "text/plain": [
       "{52: 0.9059728742827334,\n",
       " 68: 0.9564423578508086,\n",
       " 82: 0.24804381846635368,\n",
       " 105: 0.915753781950965,\n",
       " 114: 0.8676317162232655,\n",
       " 140: 0.3348982785602504,\n",
       " 147: 0.7297861241523214,\n",
       " 149: 0.9934793948878456,\n",
       " 193: 0.9237089201877934,\n",
       " 241: 0.8135106937923839}"
      ]
     },
     "execution_count": 132,
     "metadata": {},
     "output_type": "execute_result"
    }
   ],
   "source": [
    "qn1"
   ]
  },
  {
   "cell_type": "code",
   "execution_count": 135,
   "metadata": {},
   "outputs": [
    {
     "data": {
      "text/plain": [
       "{52: 0.9902172110761068,\n",
       " 68: 0.9709832531918422,\n",
       " 82: 0.9935334107113248,\n",
       " 105: 0.9819267119880617,\n",
       " 114: 0.9976786602553473,\n",
       " 140: 0.9744652628088211,\n",
       " 147: 0.9845796716962361,\n",
       " 149: 0.6247720112750788,\n",
       " 193: 0.979605372243409,\n",
       " 241: 0.9995025700547173}"
      ]
     },
     "execution_count": 135,
     "metadata": {},
     "output_type": "execute_result"
    }
   ],
   "source": [
    "qp1"
   ]
  },
  {
   "cell_type": "code",
   "execution_count": 137,
   "metadata": {},
   "outputs": [
    {
     "data": {
      "text/plain": [
       "{52: 0.9991007410305782,\n",
       " 68: 0.9994954539370038,\n",
       " 82: 0.9000621243791852,\n",
       " 105: 0.9979166023113015,\n",
       " 114: 0.996646656438454,\n",
       " 140: 0.9002028481110413,\n",
       " 147: 0.8964616562153553,\n",
       " 149: 0.9999279219910006,\n",
       " 193: 0.9984623358080117,\n",
       " 241: 0.9930702142776239}"
      ]
     },
     "execution_count": 137,
     "metadata": {},
     "output_type": "execute_result"
    }
   ],
   "source": [
    "qn2"
   ]
  },
  {
   "cell_type": "code",
   "execution_count": 138,
   "metadata": {},
   "outputs": [
    {
     "data": {
      "text/plain": [
       "{52: 0.45632183908045976,\n",
       " 68: 0.3873563218390805,\n",
       " 82: 0.7827586206896552,\n",
       " 105: 0.7459770114942529,\n",
       " 114: 0.7965517241379311,\n",
       " 140: 0.7471264367816092,\n",
       " 147: 0.8195402298850575,\n",
       " 149: 0.27011494252873564,\n",
       " 193: 0.5781609195402299,\n",
       " 241: 0.9298850574712644}"
      ]
     },
     "execution_count": 138,
     "metadata": {},
     "output_type": "execute_result"
    }
   ],
   "source": [
    "qp2"
   ]
  },
  {
   "cell_type": "markdown",
   "metadata": {},
   "source": [
    "These are examples of a bad worker,  qn1 is low, qp1,qn2 is high,qp2 is medium-ish "
   ]
  },
  {
   "cell_type": "code",
   "execution_count": 134,
   "metadata": {},
   "outputs": [
    {
     "data": {
      "text/plain": [
       "<matplotlib.image.AxesImage at 0x1401f610>"
      ]
     },
     "execution_count": 134,
     "metadata": {},
     "output_type": "execute_result"
    },
    {
     "data": {
      "image/png": "[encoded data removed]",
      "text/plain": [
       "<matplotlib.figure.Figure at 0x150e2290>"
      ]
     },
     "metadata": {},
     "output_type": "display_data"
    }
   ],
   "source": [
    "worker_mask = pkl.load(open(\"pixel_em/obj29/mask140.pkl\"))\n",
    "\n",
    "plt.imshow(worker_mask)"
   ]
  },
  {
   "cell_type": "code",
   "execution_count": 133,
   "metadata": {},
   "outputs": [
    {
     "data": {
      "text/plain": [
       "<matplotlib.image.AxesImage at 0x12bd8fd0>"
      ]
     },
     "execution_count": 133,
     "metadata": {},
     "output_type": "execute_result"
    },
    {
     "data": {
      "image/png": "[encoded data removed]",
      "text/plain": [
       "<matplotlib.figure.Figure at 0x10fbfd90>"
      ]
     },
     "metadata": {},
     "output_type": "display_data"
    }
   ],
   "source": [
    "worker_mask = pkl.load(open(\"pixel_em/obj29/mask82.pkl\"))\n",
    "\n",
    "plt.imshow(worker_mask)"
   ]
  },
  {
   "cell_type": "markdown",
   "metadata": {},
   "source": [
    "------------------------------------------------------------------------"
   ]
  },
  {
   "cell_type": "code",
   "execution_count": null,
   "metadata": {
    "collapsed": true
   },
   "outputs": [],
   "source": []
  }
 ],
 "metadata": {
  "kernelspec": {
   "display_name": "Python 2",
   "language": "python",
   "name": "python2"
  },
  "language_info": {
   "codemirror_mode": {
    "name": "ipython",
    "version": 2
   },
   "file_extension": ".py",
   "mimetype": "text/x-python",
   "name": "python",
   "nbconvert_exporter": "python",
   "pygments_lexer": "ipython2",
   "version": "2.7.6"
  }
 },
 "nbformat": 4,
 "nbformat_minor": 2
}
