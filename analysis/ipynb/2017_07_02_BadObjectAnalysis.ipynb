{
 "cells": [
  {
   "cell_type": "code",
   "execution_count": 1,
   "metadata": {},
   "outputs": [
    {
     "name": "stdout",
     "output_type": "stream",
     "text": [
      "Populating the interactive namespace from numpy and matplotlib\n"
     ]
    }
   ],
   "source": [
    "%pylab inline"
   ]
  },
  {
   "cell_type": "code",
   "execution_count": 2,
   "metadata": {},
   "outputs": [
    {
     "name": "stdout",
     "output_type": "stream",
     "text": [
      "/srv/data/home/jlee782/crowd-seg/analysis/TileEM\n"
     ]
    }
   ],
   "source": [
    "cd ../TileEM/"
   ]
  },
  {
   "cell_type": "code",
   "execution_count": 152,
   "metadata": {},
   "outputs": [
    {
     "name": "stdout",
     "output_type": "stream",
     "text": [
      "The autoreload extension is already loaded. To reload it, use:\n",
      "  %reload_ext autoreload\n"
     ]
    }
   ],
   "source": [
    "%load_ext autoreload\n",
    "%autoreload 2\n",
    "from paper_visualizations import * \n",
    "from PixelEM import * \n",
    "from test_sample import test_sample_obj\n",
    "import json"
   ]
  },
  {
   "cell_type": "code",
   "execution_count": 16,
   "metadata": {},
   "outputs": [
    {
     "data": {
      "text/plain": [
       "u'/srv/data/home/jlee782/crowd-seg/analysis/TileEM'"
      ]
     },
     "execution_count": 16,
     "metadata": {},
     "output_type": "execute_result"
    }
   ],
   "source": [
    "pwd"
   ]
  },
  {
   "cell_type": "code",
   "execution_count": 13,
   "metadata": {
    "collapsed": true
   },
   "outputs": [],
   "source": [
    "final_df = pd.read_csv(\"cleaned_rerun_ground_truth_prj.csv\",index_col=0)\n",
    "\n",
    "keys=['num_workers','objid','thresh','J [MV]', u'J [GT]', u'J [basic]', u'J [GTLSA]', u'J [isoGT]','J [isoGTLSA]']"
   ]
  },
  {
   "cell_type": "code",
   "execution_count": 14,
   "metadata": {
    "scrolled": false
   },
   "outputs": [
    {
     "data": {
      "text/plain": [
       "J [MV]          0.897003\n",
       "J [GT]          0.905528\n",
       "J [basic]       0.903689\n",
       "J [GTLSA]       0.876710\n",
       "J [isoGT]       0.894707\n",
       "J [isoGTLSA]    0.861209\n",
       "dtype: float64"
      ]
     },
     "execution_count": 14,
     "metadata": {},
     "output_type": "execute_result"
    }
   ],
   "source": [
    "final_df.filter(regex=\"J\").mean()"
   ]
  },
  {
   "cell_type": "markdown",
   "metadata": {},
   "source": [
    "# Comparing GT with Basic"
   ]
  },
  {
   "cell_type": "code",
   "execution_count": 312,
   "metadata": {},
   "outputs": [
    {
     "data": {
      "image/png": "[encoded data removed]",
      "text/plain": [
       "<matplotlib.figure.Figure at 0x654e750>"
      ]
     },
     "metadata": {},
     "output_type": "display_data"
    },
    {
     "data": {
      "image/png": "[encoded data removed]",
      "text/plain": [
       "<matplotlib.figure.Figure at 0x654e510>"
      ]
     },
     "metadata": {},
     "output_type": "display_data"
    }
   ],
   "source": [
    "compare_PRJ_fixed_attr(final_df,\"thresh\",\"GT\",\"basic\",'J')\n",
    "\n",
    "compare_PRJ_fixed_attr(final_df,\"num_workers\",\"GT\",\"basic\",'J')"
   ]
  },
  {
   "cell_type": "code",
   "execution_count": 15,
   "metadata": {},
   "outputs": [
    {
     "data": {
      "text/html": [
       "<div>\n",
       "<table border=\"1\" class=\"dataframe\">\n",
       "  <thead>\n",
       "    <tr style=\"text-align: right;\">\n",
       "      <th></th>\n",
       "      <th>num_workers</th>\n",
       "      <th>objid</th>\n",
       "      <th>thresh</th>\n",
       "      <th>J [MV]</th>\n",
       "      <th>J [GT]</th>\n",
       "      <th>J [basic]</th>\n",
       "      <th>J [GTLSA]</th>\n",
       "      <th>J [isoGT]</th>\n",
       "      <th>J [isoGTLSA]</th>\n",
       "    </tr>\n",
       "  </thead>\n",
       "  <tbody>\n",
       "    <tr>\n",
       "      <th>268</th>\n",
       "      <td>5</td>\n",
       "      <td>29</td>\n",
       "      <td>-2</td>\n",
       "      <td>0.868662</td>\n",
       "      <td>0.161967</td>\n",
       "      <td>0.86507</td>\n",
       "      <td>0.774943</td>\n",
       "      <td>0.847832</td>\n",
       "      <td>0.851941</td>\n",
       "    </tr>\n",
       "  </tbody>\n",
       "</table>\n",
       "</div>"
      ],
      "text/plain": [
       "     num_workers  objid  thresh    J [MV]    J [GT]  J [basic]  J [GTLSA]  \\\n",
       "268            5     29      -2  0.868662  0.161967    0.86507   0.774943   \n",
       "\n",
       "     J [isoGT]  J [isoGTLSA]  \n",
       "268   0.847832      0.851941  "
      ]
     },
     "execution_count": 15,
     "metadata": {},
     "output_type": "execute_result"
    }
   ],
   "source": [
    "final_df[final_df[\"J [GT]\"]<0.5][keys]"
   ]
  },
  {
   "cell_type": "markdown",
   "metadata": {},
   "source": [
    "Even though object 29 is naturally confusing because of lots of overbounding workers, the MV and basic still does well "
   ]
  },
  {
   "cell_type": "code",
   "execution_count": 317,
   "metadata": {
    "collapsed": true
   },
   "outputs": [],
   "source": [
    "# final_df[final_df[\"objid\"]==29].filter(regex=\"J\")"
   ]
  },
  {
   "cell_type": "code",
   "execution_count": 327,
   "metadata": {},
   "outputs": [
    {
     "data": {
      "text/html": [
       "<div>\n",
       "<table border=\"1\" class=\"dataframe\">\n",
       "  <thead>\n",
       "    <tr style=\"text-align: right;\">\n",
       "      <th></th>\n",
       "      <th>num_workers</th>\n",
       "      <th>objid</th>\n",
       "      <th>thresh</th>\n",
       "      <th>J [MV]</th>\n",
       "      <th>J [GT]</th>\n",
       "      <th>J [basic]</th>\n",
       "      <th>J [GTLSA]</th>\n",
       "      <th>J [isoGT]</th>\n",
       "      <th>J [isoGTLSA]</th>\n",
       "    </tr>\n",
       "  </thead>\n",
       "  <tbody>\n",
       "    <tr>\n",
       "      <th>103</th>\n",
       "      <td>5</td>\n",
       "      <td>7</td>\n",
       "      <td>-2</td>\n",
       "      <td>0.529387</td>\n",
       "      <td>0.536744</td>\n",
       "      <td>0.529387</td>\n",
       "      <td>0.014117</td>\n",
       "      <td>0.014554</td>\n",
       "      <td>0.014534</td>\n",
       "    </tr>\n",
       "    <tr>\n",
       "      <th>104</th>\n",
       "      <td>5</td>\n",
       "      <td>7</td>\n",
       "      <td>-1</td>\n",
       "      <td>0.529387</td>\n",
       "      <td>0.536744</td>\n",
       "      <td>0.529387</td>\n",
       "      <td>0.014117</td>\n",
       "      <td>0.559589</td>\n",
       "      <td>0.559941</td>\n",
       "    </tr>\n",
       "    <tr>\n",
       "      <th>105</th>\n",
       "      <td>5</td>\n",
       "      <td>7</td>\n",
       "      <td>0</td>\n",
       "      <td>0.529387</td>\n",
       "      <td>0.536744</td>\n",
       "      <td>0.529387</td>\n",
       "      <td>0.509239</td>\n",
       "      <td>0.559932</td>\n",
       "      <td>0.091106</td>\n",
       "    </tr>\n",
       "    <tr>\n",
       "      <th>106</th>\n",
       "      <td>5</td>\n",
       "      <td>7</td>\n",
       "      <td>1</td>\n",
       "      <td>0.529387</td>\n",
       "      <td>0.536744</td>\n",
       "      <td>0.529387</td>\n",
       "      <td>0.502336</td>\n",
       "      <td>0.555437</td>\n",
       "      <td>0.086188</td>\n",
       "    </tr>\n",
       "    <tr>\n",
       "      <th>107</th>\n",
       "      <td>5</td>\n",
       "      <td>7</td>\n",
       "      <td>2</td>\n",
       "      <td>0.529387</td>\n",
       "      <td>0.536744</td>\n",
       "      <td>0.529387</td>\n",
       "      <td>0.054795</td>\n",
       "      <td>0.044518</td>\n",
       "      <td>0.037636</td>\n",
       "    </tr>\n",
       "    <tr>\n",
       "      <th>268</th>\n",
       "      <td>5</td>\n",
       "      <td>29</td>\n",
       "      <td>-2</td>\n",
       "      <td>0.868662</td>\n",
       "      <td>0.161967</td>\n",
       "      <td>0.865070</td>\n",
       "      <td>0.774943</td>\n",
       "      <td>0.847832</td>\n",
       "      <td>0.851941</td>\n",
       "    </tr>\n",
       "    <tr>\n",
       "      <th>738</th>\n",
       "      <td>10</td>\n",
       "      <td>7</td>\n",
       "      <td>0</td>\n",
       "      <td>0.517687</td>\n",
       "      <td>0.546104</td>\n",
       "      <td>0.523090</td>\n",
       "      <td>0.720190</td>\n",
       "      <td>0.762841</td>\n",
       "      <td>0.757131</td>\n",
       "    </tr>\n",
       "    <tr>\n",
       "      <th>739</th>\n",
       "      <td>10</td>\n",
       "      <td>7</td>\n",
       "      <td>1</td>\n",
       "      <td>0.517687</td>\n",
       "      <td>0.546104</td>\n",
       "      <td>0.524042</td>\n",
       "      <td>0.717346</td>\n",
       "      <td>0.532692</td>\n",
       "      <td>0.514854</td>\n",
       "    </tr>\n",
       "    <tr>\n",
       "      <th>740</th>\n",
       "      <td>10</td>\n",
       "      <td>7</td>\n",
       "      <td>2</td>\n",
       "      <td>0.517687</td>\n",
       "      <td>0.546104</td>\n",
       "      <td>0.517687</td>\n",
       "      <td>0.717748</td>\n",
       "      <td>0.070794</td>\n",
       "      <td>0.500874</td>\n",
       "    </tr>\n",
       "  </tbody>\n",
       "</table>\n",
       "</div>"
      ],
      "text/plain": [
       "     num_workers  objid  thresh    J [MV]    J [GT]  J [basic]  J [GTLSA]  \\\n",
       "103            5      7      -2  0.529387  0.536744   0.529387   0.014117   \n",
       "104            5      7      -1  0.529387  0.536744   0.529387   0.014117   \n",
       "105            5      7       0  0.529387  0.536744   0.529387   0.509239   \n",
       "106            5      7       1  0.529387  0.536744   0.529387   0.502336   \n",
       "107            5      7       2  0.529387  0.536744   0.529387   0.054795   \n",
       "268            5     29      -2  0.868662  0.161967   0.865070   0.774943   \n",
       "738           10      7       0  0.517687  0.546104   0.523090   0.720190   \n",
       "739           10      7       1  0.517687  0.546104   0.524042   0.717346   \n",
       "740           10      7       2  0.517687  0.546104   0.517687   0.717748   \n",
       "\n",
       "     J [isoGT]  J [isoGTLSA]  \n",
       "103   0.014554      0.014534  \n",
       "104   0.559589      0.559941  \n",
       "105   0.559932      0.091106  \n",
       "106   0.555437      0.086188  \n",
       "107   0.044518      0.037636  \n",
       "268   0.847832      0.851941  \n",
       "738   0.762841      0.757131  \n",
       "739   0.532692      0.514854  \n",
       "740   0.070794      0.500874  "
      ]
     },
     "execution_count": 327,
     "metadata": {},
     "output_type": "execute_result"
    }
   ],
   "source": [
    "final_df[final_df[\"J [GT]\"]<0.6][keys]"
   ]
  },
  {
   "cell_type": "code",
   "execution_count": 322,
   "metadata": {},
   "outputs": [
    {
     "data": {
      "text/html": [
       "<div>\n",
       "<table border=\"1\" class=\"dataframe\">\n",
       "  <thead>\n",
       "    <tr style=\"text-align: right;\">\n",
       "      <th></th>\n",
       "      <th>J [MV]</th>\n",
       "      <th>J [GT]</th>\n",
       "      <th>J [basic]</th>\n",
       "      <th>J [GTLSA]</th>\n",
       "      <th>J [isoGT]</th>\n",
       "      <th>J [isoGTLSA]</th>\n",
       "    </tr>\n",
       "  </thead>\n",
       "  <tbody>\n",
       "    <tr>\n",
       "      <th>303</th>\n",
       "      <td>0.767993</td>\n",
       "      <td>0.749900</td>\n",
       "      <td>0.767993</td>\n",
       "      <td>0.845083</td>\n",
       "      <td>0.726853</td>\n",
       "      <td>0.732519</td>\n",
       "    </tr>\n",
       "    <tr>\n",
       "      <th>467</th>\n",
       "      <td>0.806709</td>\n",
       "      <td>0.735166</td>\n",
       "      <td>0.806709</td>\n",
       "      <td>0.751479</td>\n",
       "      <td>0.740146</td>\n",
       "      <td>0.751479</td>\n",
       "    </tr>\n",
       "    <tr>\n",
       "      <th>468</th>\n",
       "      <td>0.806709</td>\n",
       "      <td>0.735166</td>\n",
       "      <td>0.806709</td>\n",
       "      <td>0.757079</td>\n",
       "      <td>0.740146</td>\n",
       "      <td>0.757079</td>\n",
       "    </tr>\n",
       "    <tr>\n",
       "      <th>469</th>\n",
       "      <td>0.806709</td>\n",
       "      <td>0.735166</td>\n",
       "      <td>0.806709</td>\n",
       "      <td>0.755589</td>\n",
       "      <td>0.740146</td>\n",
       "      <td>0.755589</td>\n",
       "    </tr>\n",
       "    <tr>\n",
       "      <th>470</th>\n",
       "      <td>0.806709</td>\n",
       "      <td>0.735166</td>\n",
       "      <td>0.806709</td>\n",
       "      <td>0.755589</td>\n",
       "      <td>0.740146</td>\n",
       "      <td>0.755589</td>\n",
       "    </tr>\n",
       "    <tr>\n",
       "      <th>471</th>\n",
       "      <td>0.806709</td>\n",
       "      <td>0.735166</td>\n",
       "      <td>0.806709</td>\n",
       "      <td>0.755589</td>\n",
       "      <td>0.740146</td>\n",
       "      <td>0.755589</td>\n",
       "    </tr>\n",
       "    <tr>\n",
       "      <th>736</th>\n",
       "      <td>0.517687</td>\n",
       "      <td>0.749265</td>\n",
       "      <td>0.521432</td>\n",
       "      <td>0.721636</td>\n",
       "      <td>0.014533</td>\n",
       "      <td>0.014120</td>\n",
       "    </tr>\n",
       "    <tr>\n",
       "      <th>1040</th>\n",
       "      <td>0.812914</td>\n",
       "      <td>0.744493</td>\n",
       "      <td>0.809370</td>\n",
       "      <td>0.758982</td>\n",
       "      <td>0.752239</td>\n",
       "      <td>0.769939</td>\n",
       "    </tr>\n",
       "    <tr>\n",
       "      <th>1041</th>\n",
       "      <td>0.812914</td>\n",
       "      <td>0.740088</td>\n",
       "      <td>0.809370</td>\n",
       "      <td>0.755622</td>\n",
       "      <td>0.752239</td>\n",
       "      <td>0.771121</td>\n",
       "    </tr>\n",
       "    <tr>\n",
       "      <th>1042</th>\n",
       "      <td>0.812914</td>\n",
       "      <td>0.741176</td>\n",
       "      <td>0.809370</td>\n",
       "      <td>0.755622</td>\n",
       "      <td>0.752239</td>\n",
       "      <td>0.771121</td>\n",
       "    </tr>\n",
       "    <tr>\n",
       "      <th>1043</th>\n",
       "      <td>0.812914</td>\n",
       "      <td>0.741176</td>\n",
       "      <td>0.809370</td>\n",
       "      <td>0.755622</td>\n",
       "      <td>0.754491</td>\n",
       "      <td>0.771121</td>\n",
       "    </tr>\n",
       "    <tr>\n",
       "      <th>1044</th>\n",
       "      <td>0.812914</td>\n",
       "      <td>0.741176</td>\n",
       "      <td>0.809370</td>\n",
       "      <td>0.756757</td>\n",
       "      <td>0.755622</td>\n",
       "      <td>0.772308</td>\n",
       "    </tr>\n",
       "  </tbody>\n",
       "</table>\n",
       "</div>"
      ],
      "text/plain": [
       "        J [MV]    J [GT]  J [basic]  J [GTLSA]  J [isoGT]  J [isoGTLSA]\n",
       "303   0.767993  0.749900   0.767993   0.845083   0.726853      0.732519\n",
       "467   0.806709  0.735166   0.806709   0.751479   0.740146      0.751479\n",
       "468   0.806709  0.735166   0.806709   0.757079   0.740146      0.757079\n",
       "469   0.806709  0.735166   0.806709   0.755589   0.740146      0.755589\n",
       "470   0.806709  0.735166   0.806709   0.755589   0.740146      0.755589\n",
       "471   0.806709  0.735166   0.806709   0.755589   0.740146      0.755589\n",
       "736   0.517687  0.749265   0.521432   0.721636   0.014533      0.014120\n",
       "1040  0.812914  0.744493   0.809370   0.758982   0.752239      0.769939\n",
       "1041  0.812914  0.740088   0.809370   0.755622   0.752239      0.771121\n",
       "1042  0.812914  0.741176   0.809370   0.755622   0.752239      0.771121\n",
       "1043  0.812914  0.741176   0.809370   0.755622   0.754491      0.771121\n",
       "1044  0.812914  0.741176   0.809370   0.756757   0.755622      0.772308"
      ]
     },
     "execution_count": 322,
     "metadata": {},
     "output_type": "execute_result"
    }
   ],
   "source": [
    "final_df[(final_df[\"J [GT]\"]<0.75)&(final_df[\"J [GT]\"]>0.7)].filter(regex=\"J\")"
   ]
  },
  {
   "cell_type": "markdown",
   "metadata": {},
   "source": [
    "Cases where isoGT performs badly "
   ]
  },
  {
   "cell_type": "code",
   "execution_count": 328,
   "metadata": {},
   "outputs": [
    {
     "data": {
      "image/png": "[encoded data removed]",
      "text/plain": [
       "<matplotlib.figure.Figure at 0x5ce4e10>"
      ]
     },
     "metadata": {},
     "output_type": "display_data"
    },
    {
     "data": {
      "image/png": "[encoded data removed]",
      "text/plain": [
       "<matplotlib.figure.Figure at 0x5cdd490>"
      ]
     },
     "metadata": {},
     "output_type": "display_data"
    }
   ],
   "source": [
    "compare_PRJ_fixed_attr(final_df,\"thresh\",\"isoGT\",\"basic\",'J')\n",
    "\n",
    "compare_PRJ_fixed_attr(final_df,\"num_workers\",\"isoGT\",\"basic\",'J')"
   ]
  },
  {
   "cell_type": "code",
   "execution_count": 332,
   "metadata": {},
   "outputs": [
    {
     "data": {
      "text/html": [
       "<div>\n",
       "<table border=\"1\" class=\"dataframe\">\n",
       "  <thead>\n",
       "    <tr style=\"text-align: right;\">\n",
       "      <th></th>\n",
       "      <th>num_workers</th>\n",
       "      <th>objid</th>\n",
       "      <th>thresh</th>\n",
       "      <th>J [MV]</th>\n",
       "      <th>J [GT]</th>\n",
       "      <th>J [basic]</th>\n",
       "      <th>J [GTLSA]</th>\n",
       "      <th>J [isoGT]</th>\n",
       "      <th>J [isoGTLSA]</th>\n",
       "    </tr>\n",
       "  </thead>\n",
       "  <tbody>\n",
       "    <tr>\n",
       "      <th>45</th>\n",
       "      <td>5</td>\n",
       "      <td>13</td>\n",
       "      <td>2.0</td>\n",
       "      <td>0.928437</td>\n",
       "      <td>0.935684</td>\n",
       "      <td>0.928437</td>\n",
       "      <td>0.876081</td>\n",
       "      <td>0.045499</td>\n",
       "      <td>0.051659</td>\n",
       "    </tr>\n",
       "    <tr>\n",
       "      <th>103</th>\n",
       "      <td>5</td>\n",
       "      <td>7</td>\n",
       "      <td>-2.0</td>\n",
       "      <td>0.529387</td>\n",
       "      <td>0.536744</td>\n",
       "      <td>0.529387</td>\n",
       "      <td>0.014117</td>\n",
       "      <td>0.014554</td>\n",
       "      <td>0.014534</td>\n",
       "    </tr>\n",
       "    <tr>\n",
       "      <th>107</th>\n",
       "      <td>5</td>\n",
       "      <td>7</td>\n",
       "      <td>2.0</td>\n",
       "      <td>0.529387</td>\n",
       "      <td>0.536744</td>\n",
       "      <td>0.529387</td>\n",
       "      <td>0.054795</td>\n",
       "      <td>0.044518</td>\n",
       "      <td>0.037636</td>\n",
       "    </tr>\n",
       "    <tr>\n",
       "      <th>148</th>\n",
       "      <td>5</td>\n",
       "      <td>2</td>\n",
       "      <td>2.0</td>\n",
       "      <td>0.928316</td>\n",
       "      <td>0.917808</td>\n",
       "      <td>0.928316</td>\n",
       "      <td>0.033390</td>\n",
       "      <td>0.112100</td>\n",
       "      <td>0.008398</td>\n",
       "    </tr>\n",
       "    <tr>\n",
       "      <th>165</th>\n",
       "      <td>5</td>\n",
       "      <td>4</td>\n",
       "      <td>-2.0</td>\n",
       "      <td>0.880530</td>\n",
       "      <td>0.874386</td>\n",
       "      <td>0.880530</td>\n",
       "      <td>0.888312</td>\n",
       "      <td>0.010867</td>\n",
       "      <td>0.010868</td>\n",
       "    </tr>\n",
       "    <tr>\n",
       "      <th>166</th>\n",
       "      <td>5</td>\n",
       "      <td>4</td>\n",
       "      <td>-1.0</td>\n",
       "      <td>0.880530</td>\n",
       "      <td>0.874386</td>\n",
       "      <td>0.880530</td>\n",
       "      <td>0.879781</td>\n",
       "      <td>0.010867</td>\n",
       "      <td>0.899390</td>\n",
       "    </tr>\n",
       "    <tr>\n",
       "      <th>170</th>\n",
       "      <td>5</td>\n",
       "      <td>4</td>\n",
       "      <td>-1.8</td>\n",
       "      <td>0.880530</td>\n",
       "      <td>0.874386</td>\n",
       "      <td>0.880530</td>\n",
       "      <td>0.888798</td>\n",
       "      <td>0.010867</td>\n",
       "      <td>0.010862</td>\n",
       "    </tr>\n",
       "    <tr>\n",
       "      <th>171</th>\n",
       "      <td>5</td>\n",
       "      <td>4</td>\n",
       "      <td>-1.6</td>\n",
       "      <td>0.880530</td>\n",
       "      <td>0.874386</td>\n",
       "      <td>0.880530</td>\n",
       "      <td>0.887978</td>\n",
       "      <td>0.010867</td>\n",
       "      <td>0.894318</td>\n",
       "    </tr>\n",
       "    <tr>\n",
       "      <th>172</th>\n",
       "      <td>5</td>\n",
       "      <td>4</td>\n",
       "      <td>-1.4</td>\n",
       "      <td>0.880530</td>\n",
       "      <td>0.874386</td>\n",
       "      <td>0.880530</td>\n",
       "      <td>0.887978</td>\n",
       "      <td>0.010867</td>\n",
       "      <td>0.901245</td>\n",
       "    </tr>\n",
       "    <tr>\n",
       "      <th>178</th>\n",
       "      <td>5</td>\n",
       "      <td>6</td>\n",
       "      <td>-2.0</td>\n",
       "      <td>0.843750</td>\n",
       "      <td>0.781755</td>\n",
       "      <td>0.843750</td>\n",
       "      <td>0.881735</td>\n",
       "      <td>0.002230</td>\n",
       "      <td>0.848912</td>\n",
       "    </tr>\n",
       "    <tr>\n",
       "      <th>183</th>\n",
       "      <td>5</td>\n",
       "      <td>9</td>\n",
       "      <td>-2.0</td>\n",
       "      <td>0.931053</td>\n",
       "      <td>0.934525</td>\n",
       "      <td>0.931053</td>\n",
       "      <td>0.927600</td>\n",
       "      <td>0.030400</td>\n",
       "      <td>0.030343</td>\n",
       "    </tr>\n",
       "    <tr>\n",
       "      <th>188</th>\n",
       "      <td>5</td>\n",
       "      <td>10</td>\n",
       "      <td>-2.0</td>\n",
       "      <td>0.941518</td>\n",
       "      <td>0.941781</td>\n",
       "      <td>0.941518</td>\n",
       "      <td>0.904480</td>\n",
       "      <td>0.054204</td>\n",
       "      <td>0.054628</td>\n",
       "    </tr>\n",
       "    <tr>\n",
       "      <th>189</th>\n",
       "      <td>5</td>\n",
       "      <td>10</td>\n",
       "      <td>-1.0</td>\n",
       "      <td>0.941518</td>\n",
       "      <td>0.941781</td>\n",
       "      <td>0.941518</td>\n",
       "      <td>0.861395</td>\n",
       "      <td>0.054123</td>\n",
       "      <td>0.053981</td>\n",
       "    </tr>\n",
       "    <tr>\n",
       "      <th>190</th>\n",
       "      <td>5</td>\n",
       "      <td>10</td>\n",
       "      <td>0.0</td>\n",
       "      <td>0.941518</td>\n",
       "      <td>0.941781</td>\n",
       "      <td>0.941518</td>\n",
       "      <td>0.861258</td>\n",
       "      <td>0.054123</td>\n",
       "      <td>0.004588</td>\n",
       "    </tr>\n",
       "    <tr>\n",
       "      <th>191</th>\n",
       "      <td>5</td>\n",
       "      <td>10</td>\n",
       "      <td>1.0</td>\n",
       "      <td>0.941518</td>\n",
       "      <td>0.941781</td>\n",
       "      <td>0.941518</td>\n",
       "      <td>0.857322</td>\n",
       "      <td>0.053415</td>\n",
       "      <td>0.004175</td>\n",
       "    </tr>\n",
       "    <tr>\n",
       "      <th>192</th>\n",
       "      <td>5</td>\n",
       "      <td>10</td>\n",
       "      <td>2.0</td>\n",
       "      <td>0.941518</td>\n",
       "      <td>0.943766</td>\n",
       "      <td>0.941518</td>\n",
       "      <td>0.039686</td>\n",
       "      <td>0.053203</td>\n",
       "      <td>0.001136</td>\n",
       "    </tr>\n",
       "    <tr>\n",
       "      <th>212</th>\n",
       "      <td>5</td>\n",
       "      <td>17</td>\n",
       "      <td>2.0</td>\n",
       "      <td>0.825888</td>\n",
       "      <td>0.802694</td>\n",
       "      <td>0.825888</td>\n",
       "      <td>0.751034</td>\n",
       "      <td>0.000000</td>\n",
       "      <td>0.814221</td>\n",
       "    </tr>\n",
       "    <tr>\n",
       "      <th>216</th>\n",
       "      <td>5</td>\n",
       "      <td>18</td>\n",
       "      <td>1.0</td>\n",
       "      <td>0.961428</td>\n",
       "      <td>0.967656</td>\n",
       "      <td>0.961428</td>\n",
       "      <td>0.963449</td>\n",
       "      <td>0.028779</td>\n",
       "      <td>0.031897</td>\n",
       "    </tr>\n",
       "    <tr>\n",
       "      <th>217</th>\n",
       "      <td>5</td>\n",
       "      <td>18</td>\n",
       "      <td>2.0</td>\n",
       "      <td>0.961428</td>\n",
       "      <td>0.961428</td>\n",
       "      <td>0.961428</td>\n",
       "      <td>0.963553</td>\n",
       "      <td>0.021764</td>\n",
       "      <td>0.022292</td>\n",
       "    </tr>\n",
       "    <tr>\n",
       "      <th>218</th>\n",
       "      <td>5</td>\n",
       "      <td>19</td>\n",
       "      <td>-2.0</td>\n",
       "      <td>0.846169</td>\n",
       "      <td>0.871913</td>\n",
       "      <td>0.846169</td>\n",
       "      <td>0.025171</td>\n",
       "      <td>0.025888</td>\n",
       "      <td>0.026127</td>\n",
       "    </tr>\n",
       "    <tr>\n",
       "      <th>219</th>\n",
       "      <td>5</td>\n",
       "      <td>19</td>\n",
       "      <td>-1.0</td>\n",
       "      <td>0.846169</td>\n",
       "      <td>0.849750</td>\n",
       "      <td>0.846169</td>\n",
       "      <td>0.848925</td>\n",
       "      <td>0.025888</td>\n",
       "      <td>0.885345</td>\n",
       "    </tr>\n",
       "    <tr>\n",
       "      <th>226</th>\n",
       "      <td>5</td>\n",
       "      <td>20</td>\n",
       "      <td>1.0</td>\n",
       "      <td>0.722052</td>\n",
       "      <td>0.923707</td>\n",
       "      <td>0.716427</td>\n",
       "      <td>0.706946</td>\n",
       "      <td>0.290122</td>\n",
       "      <td>0.259661</td>\n",
       "    </tr>\n",
       "    <tr>\n",
       "      <th>227</th>\n",
       "      <td>5</td>\n",
       "      <td>20</td>\n",
       "      <td>2.0</td>\n",
       "      <td>0.722052</td>\n",
       "      <td>0.923707</td>\n",
       "      <td>0.716427</td>\n",
       "      <td>0.680152</td>\n",
       "      <td>0.244632</td>\n",
       "      <td>0.224108</td>\n",
       "    </tr>\n",
       "    <tr>\n",
       "      <th>238</th>\n",
       "      <td>5</td>\n",
       "      <td>23</td>\n",
       "      <td>-2.0</td>\n",
       "      <td>0.890073</td>\n",
       "      <td>0.907747</td>\n",
       "      <td>0.890073</td>\n",
       "      <td>0.919926</td>\n",
       "      <td>0.040782</td>\n",
       "      <td>0.941892</td>\n",
       "    </tr>\n",
       "    <tr>\n",
       "      <th>240</th>\n",
       "      <td>5</td>\n",
       "      <td>23</td>\n",
       "      <td>0.0</td>\n",
       "      <td>0.890073</td>\n",
       "      <td>0.907747</td>\n",
       "      <td>0.890073</td>\n",
       "      <td>0.919349</td>\n",
       "      <td>0.075245</td>\n",
       "      <td>0.942124</td>\n",
       "    </tr>\n",
       "    <tr>\n",
       "      <th>241</th>\n",
       "      <td>5</td>\n",
       "      <td>23</td>\n",
       "      <td>1.0</td>\n",
       "      <td>0.890073</td>\n",
       "      <td>0.907747</td>\n",
       "      <td>0.890073</td>\n",
       "      <td>0.919349</td>\n",
       "      <td>0.065125</td>\n",
       "      <td>0.935538</td>\n",
       "    </tr>\n",
       "    <tr>\n",
       "      <th>242</th>\n",
       "      <td>5</td>\n",
       "      <td>23</td>\n",
       "      <td>2.0</td>\n",
       "      <td>0.890073</td>\n",
       "      <td>0.911436</td>\n",
       "      <td>0.890073</td>\n",
       "      <td>0.072951</td>\n",
       "      <td>0.002507</td>\n",
       "      <td>0.007819</td>\n",
       "    </tr>\n",
       "    <tr>\n",
       "      <th>267</th>\n",
       "      <td>5</td>\n",
       "      <td>28</td>\n",
       "      <td>2.0</td>\n",
       "      <td>0.833705</td>\n",
       "      <td>0.822738</td>\n",
       "      <td>0.833705</td>\n",
       "      <td>0.793232</td>\n",
       "      <td>0.314403</td>\n",
       "      <td>0.315135</td>\n",
       "    </tr>\n",
       "    <tr>\n",
       "      <th>278</th>\n",
       "      <td>5</td>\n",
       "      <td>31</td>\n",
       "      <td>-2.0</td>\n",
       "      <td>0.930496</td>\n",
       "      <td>0.926364</td>\n",
       "      <td>0.930496</td>\n",
       "      <td>0.935437</td>\n",
       "      <td>0.085548</td>\n",
       "      <td>0.085913</td>\n",
       "    </tr>\n",
       "    <tr>\n",
       "      <th>279</th>\n",
       "      <td>5</td>\n",
       "      <td>31</td>\n",
       "      <td>-1.0</td>\n",
       "      <td>0.930496</td>\n",
       "      <td>0.926364</td>\n",
       "      <td>0.930496</td>\n",
       "      <td>0.935437</td>\n",
       "      <td>0.085548</td>\n",
       "      <td>0.085922</td>\n",
       "    </tr>\n",
       "    <tr>\n",
       "      <th>298</th>\n",
       "      <td>5</td>\n",
       "      <td>36</td>\n",
       "      <td>-2.0</td>\n",
       "      <td>0.919357</td>\n",
       "      <td>0.935375</td>\n",
       "      <td>0.919357</td>\n",
       "      <td>0.935238</td>\n",
       "      <td>0.099507</td>\n",
       "      <td>0.941378</td>\n",
       "    </tr>\n",
       "    <tr>\n",
       "      <th>317</th>\n",
       "      <td>5</td>\n",
       "      <td>39</td>\n",
       "      <td>2.0</td>\n",
       "      <td>0.973194</td>\n",
       "      <td>0.973194</td>\n",
       "      <td>0.973194</td>\n",
       "      <td>0.016331</td>\n",
       "      <td>0.016684</td>\n",
       "      <td>0.021186</td>\n",
       "    </tr>\n",
       "    <tr>\n",
       "      <th>322</th>\n",
       "      <td>5</td>\n",
       "      <td>42</td>\n",
       "      <td>2.0</td>\n",
       "      <td>0.839864</td>\n",
       "      <td>0.860522</td>\n",
       "      <td>0.839864</td>\n",
       "      <td>0.141128</td>\n",
       "      <td>0.079730</td>\n",
       "      <td>0.085377</td>\n",
       "    </tr>\n",
       "    <tr>\n",
       "      <th>323</th>\n",
       "      <td>5</td>\n",
       "      <td>43</td>\n",
       "      <td>-2.0</td>\n",
       "      <td>0.891029</td>\n",
       "      <td>0.891494</td>\n",
       "      <td>0.891029</td>\n",
       "      <td>0.876887</td>\n",
       "      <td>0.054014</td>\n",
       "      <td>0.054007</td>\n",
       "    </tr>\n",
       "    <tr>\n",
       "      <th>333</th>\n",
       "      <td>5</td>\n",
       "      <td>45</td>\n",
       "      <td>-2.0</td>\n",
       "      <td>0.845460</td>\n",
       "      <td>0.865018</td>\n",
       "      <td>0.845460</td>\n",
       "      <td>0.017403</td>\n",
       "      <td>0.017450</td>\n",
       "      <td>0.017617</td>\n",
       "    </tr>\n",
       "    <tr>\n",
       "      <th>337</th>\n",
       "      <td>5</td>\n",
       "      <td>45</td>\n",
       "      <td>2.0</td>\n",
       "      <td>0.845460</td>\n",
       "      <td>0.861013</td>\n",
       "      <td>0.845460</td>\n",
       "      <td>0.814808</td>\n",
       "      <td>0.056830</td>\n",
       "      <td>0.851215</td>\n",
       "    </tr>\n",
       "    <tr>\n",
       "      <th>338</th>\n",
       "      <td>5</td>\n",
       "      <td>46</td>\n",
       "      <td>-2.0</td>\n",
       "      <td>0.885785</td>\n",
       "      <td>0.875474</td>\n",
       "      <td>0.885785</td>\n",
       "      <td>0.847052</td>\n",
       "      <td>0.026559</td>\n",
       "      <td>0.026560</td>\n",
       "    </tr>\n",
       "    <tr>\n",
       "      <th>427</th>\n",
       "      <td>15</td>\n",
       "      <td>7</td>\n",
       "      <td>-2.0</td>\n",
       "      <td>0.523138</td>\n",
       "      <td>0.857979</td>\n",
       "      <td>0.530253</td>\n",
       "      <td>0.563762</td>\n",
       "      <td>0.452748</td>\n",
       "      <td>0.444029</td>\n",
       "    </tr>\n",
       "    <tr>\n",
       "      <th>428</th>\n",
       "      <td>15</td>\n",
       "      <td>7</td>\n",
       "      <td>-1.0</td>\n",
       "      <td>0.523138</td>\n",
       "      <td>0.857979</td>\n",
       "      <td>0.526556</td>\n",
       "      <td>0.544749</td>\n",
       "      <td>0.430491</td>\n",
       "      <td>0.441594</td>\n",
       "    </tr>\n",
       "    <tr>\n",
       "      <th>429</th>\n",
       "      <td>15</td>\n",
       "      <td>7</td>\n",
       "      <td>0.0</td>\n",
       "      <td>0.523138</td>\n",
       "      <td>0.864647</td>\n",
       "      <td>0.523138</td>\n",
       "      <td>0.539709</td>\n",
       "      <td>0.411273</td>\n",
       "      <td>0.435097</td>\n",
       "    </tr>\n",
       "    <tr>\n",
       "      <th>430</th>\n",
       "      <td>15</td>\n",
       "      <td>7</td>\n",
       "      <td>1.0</td>\n",
       "      <td>0.523138</td>\n",
       "      <td>0.840664</td>\n",
       "      <td>0.523138</td>\n",
       "      <td>0.532580</td>\n",
       "      <td>0.408172</td>\n",
       "      <td>0.437581</td>\n",
       "    </tr>\n",
       "    <tr>\n",
       "      <th>431</th>\n",
       "      <td>15</td>\n",
       "      <td>7</td>\n",
       "      <td>2.0</td>\n",
       "      <td>0.523138</td>\n",
       "      <td>0.840664</td>\n",
       "      <td>0.523138</td>\n",
       "      <td>0.533113</td>\n",
       "      <td>0.364079</td>\n",
       "      <td>0.420494</td>\n",
       "    </tr>\n",
       "    <tr>\n",
       "      <th>736</th>\n",
       "      <td>10</td>\n",
       "      <td>7</td>\n",
       "      <td>-2.0</td>\n",
       "      <td>0.517687</td>\n",
       "      <td>0.749265</td>\n",
       "      <td>0.521432</td>\n",
       "      <td>0.721636</td>\n",
       "      <td>0.014533</td>\n",
       "      <td>0.014120</td>\n",
       "    </tr>\n",
       "    <tr>\n",
       "      <th>740</th>\n",
       "      <td>10</td>\n",
       "      <td>7</td>\n",
       "      <td>2.0</td>\n",
       "      <td>0.517687</td>\n",
       "      <td>0.546104</td>\n",
       "      <td>0.517687</td>\n",
       "      <td>0.717748</td>\n",
       "      <td>0.070794</td>\n",
       "      <td>0.500874</td>\n",
       "    </tr>\n",
       "  </tbody>\n",
       "</table>\n",
       "</div>"
      ],
      "text/plain": [
       "     num_workers  objid  thresh    J [MV]    J [GT]  J [basic]  J [GTLSA]  \\\n",
       "45             5     13     2.0  0.928437  0.935684   0.928437   0.876081   \n",
       "103            5      7    -2.0  0.529387  0.536744   0.529387   0.014117   \n",
       "107            5      7     2.0  0.529387  0.536744   0.529387   0.054795   \n",
       "148            5      2     2.0  0.928316  0.917808   0.928316   0.033390   \n",
       "165            5      4    -2.0  0.880530  0.874386   0.880530   0.888312   \n",
       "166            5      4    -1.0  0.880530  0.874386   0.880530   0.879781   \n",
       "170            5      4    -1.8  0.880530  0.874386   0.880530   0.888798   \n",
       "171            5      4    -1.6  0.880530  0.874386   0.880530   0.887978   \n",
       "172            5      4    -1.4  0.880530  0.874386   0.880530   0.887978   \n",
       "178            5      6    -2.0  0.843750  0.781755   0.843750   0.881735   \n",
       "183            5      9    -2.0  0.931053  0.934525   0.931053   0.927600   \n",
       "188            5     10    -2.0  0.941518  0.941781   0.941518   0.904480   \n",
       "189            5     10    -1.0  0.941518  0.941781   0.941518   0.861395   \n",
       "190            5     10     0.0  0.941518  0.941781   0.941518   0.861258   \n",
       "191            5     10     1.0  0.941518  0.941781   0.941518   0.857322   \n",
       "192            5     10     2.0  0.941518  0.943766   0.941518   0.039686   \n",
       "212            5     17     2.0  0.825888  0.802694   0.825888   0.751034   \n",
       "216            5     18     1.0  0.961428  0.967656   0.961428   0.963449   \n",
       "217            5     18     2.0  0.961428  0.961428   0.961428   0.963553   \n",
       "218            5     19    -2.0  0.846169  0.871913   0.846169   0.025171   \n",
       "219            5     19    -1.0  0.846169  0.849750   0.846169   0.848925   \n",
       "226            5     20     1.0  0.722052  0.923707   0.716427   0.706946   \n",
       "227            5     20     2.0  0.722052  0.923707   0.716427   0.680152   \n",
       "238            5     23    -2.0  0.890073  0.907747   0.890073   0.919926   \n",
       "240            5     23     0.0  0.890073  0.907747   0.890073   0.919349   \n",
       "241            5     23     1.0  0.890073  0.907747   0.890073   0.919349   \n",
       "242            5     23     2.0  0.890073  0.911436   0.890073   0.072951   \n",
       "267            5     28     2.0  0.833705  0.822738   0.833705   0.793232   \n",
       "278            5     31    -2.0  0.930496  0.926364   0.930496   0.935437   \n",
       "279            5     31    -1.0  0.930496  0.926364   0.930496   0.935437   \n",
       "298            5     36    -2.0  0.919357  0.935375   0.919357   0.935238   \n",
       "317            5     39     2.0  0.973194  0.973194   0.973194   0.016331   \n",
       "322            5     42     2.0  0.839864  0.860522   0.839864   0.141128   \n",
       "323            5     43    -2.0  0.891029  0.891494   0.891029   0.876887   \n",
       "333            5     45    -2.0  0.845460  0.865018   0.845460   0.017403   \n",
       "337            5     45     2.0  0.845460  0.861013   0.845460   0.814808   \n",
       "338            5     46    -2.0  0.885785  0.875474   0.885785   0.847052   \n",
       "427           15      7    -2.0  0.523138  0.857979   0.530253   0.563762   \n",
       "428           15      7    -1.0  0.523138  0.857979   0.526556   0.544749   \n",
       "429           15      7     0.0  0.523138  0.864647   0.523138   0.539709   \n",
       "430           15      7     1.0  0.523138  0.840664   0.523138   0.532580   \n",
       "431           15      7     2.0  0.523138  0.840664   0.523138   0.533113   \n",
       "736           10      7    -2.0  0.517687  0.749265   0.521432   0.721636   \n",
       "740           10      7     2.0  0.517687  0.546104   0.517687   0.717748   \n",
       "\n",
       "     J [isoGT]  J [isoGTLSA]  \n",
       "45    0.045499      0.051659  \n",
       "103   0.014554      0.014534  \n",
       "107   0.044518      0.037636  \n",
       "148   0.112100      0.008398  \n",
       "165   0.010867      0.010868  \n",
       "166   0.010867      0.899390  \n",
       "170   0.010867      0.010862  \n",
       "171   0.010867      0.894318  \n",
       "172   0.010867      0.901245  \n",
       "178   0.002230      0.848912  \n",
       "183   0.030400      0.030343  \n",
       "188   0.054204      0.054628  \n",
       "189   0.054123      0.053981  \n",
       "190   0.054123      0.004588  \n",
       "191   0.053415      0.004175  \n",
       "192   0.053203      0.001136  \n",
       "212   0.000000      0.814221  \n",
       "216   0.028779      0.031897  \n",
       "217   0.021764      0.022292  \n",
       "218   0.025888      0.026127  \n",
       "219   0.025888      0.885345  \n",
       "226   0.290122      0.259661  \n",
       "227   0.244632      0.224108  \n",
       "238   0.040782      0.941892  \n",
       "240   0.075245      0.942124  \n",
       "241   0.065125      0.935538  \n",
       "242   0.002507      0.007819  \n",
       "267   0.314403      0.315135  \n",
       "278   0.085548      0.085913  \n",
       "279   0.085548      0.085922  \n",
       "298   0.099507      0.941378  \n",
       "317   0.016684      0.021186  \n",
       "322   0.079730      0.085377  \n",
       "323   0.054014      0.054007  \n",
       "333   0.017450      0.017617  \n",
       "337   0.056830      0.851215  \n",
       "338   0.026559      0.026560  \n",
       "427   0.452748      0.444029  \n",
       "428   0.430491      0.441594  \n",
       "429   0.411273      0.435097  \n",
       "430   0.408172      0.437581  \n",
       "431   0.364079      0.420494  \n",
       "736   0.014533      0.014120  \n",
       "740   0.070794      0.500874  "
      ]
     },
     "execution_count": 332,
     "metadata": {},
     "output_type": "execute_result"
    }
   ],
   "source": [
    "final_df[(final_df[\"J [isoGT]\"]<0.5)][keys]"
   ]
  },
  {
   "cell_type": "markdown",
   "metadata": {},
   "source": [
    "5worker_rand0 object 13 is an example of where iso failes but the result does fine. "
   ]
  },
  {
   "cell_type": "code",
   "execution_count": 153,
   "metadata": {},
   "outputs": [
    {
     "data": {
      "image/png": "[encoded data removed]",
      "text/plain": [
       "<matplotlib.figure.Figure at 0x671ca50>"
      ]
     },
     "metadata": {},
     "output_type": "display_data"
    },
    {
     "data": {
      "image/png": "[encoded data removed]",
      "text/plain": [
       "<matplotlib.figure.Figure at 0x124658d0>"
      ]
     },
     "metadata": {},
     "output_type": "display_data"
    },
    {
     "data": {
      "image/png": "[encoded data removed]",
      "text/plain": [
       "<matplotlib.figure.Figure at 0x10f325d0>"
      ]
     },
     "metadata": {},
     "output_type": "display_data"
    },
    {
     "data": {
      "image/png": "[encoded data removed]",
      "text/plain": [
       "<matplotlib.figure.Figure at 0xaa8a850>"
      ]
     },
     "metadata": {},
     "output_type": "display_data"
    }
   ],
   "source": [
    "mega,result, gt,pInT,pNotInT =  plot_masks(\"5workers_rand0\",13,2,\"isoGT\",returnMatrix=True)\n",
    "# [result] = plot_masks(\"5workers_rand0\",1,0,\"isoGT\",include=[\"ResultOnly\"],returnMatrix=True)"
   ]
  },
  {
   "cell_type": "code",
   "execution_count": 344,
   "metadata": {
    "collapsed": true
   },
   "outputs": [],
   "source": [
    "def load_qn_qp(batch,objid,algo,thresh):\n",
    "    qn = pkl.load(open(\"pixel_em/{}/obj{}/{}_qn_ground_truth_thresh{}.pkl\".format(batch,objid,algo,thresh)))\n",
    "    qp = pkl.load(open(\"pixel_em/{}/obj{}/{}_qp_ground_truth_thresh{}.pkl\".format(batch,objid,algo,thresh)))\n",
    "    return qn,qp"
   ]
  },
  {
   "cell_type": "code",
   "execution_count": 345,
   "metadata": {},
   "outputs": [
    {
     "data": {
      "text/plain": [
       "({133: 0.33068520357497516,\n",
       "  161: 0.8917576961271102,\n",
       "  170: 0.7994041708043694,\n",
       "  239: 0.7269116186693148,\n",
       "  259: 0.6047666335650447},\n",
       " {133: 0.9636194029850746,\n",
       "  161: 0.5289179104477612,\n",
       "  170: 0.03544776119402985,\n",
       "  239: 0.5802238805970149,\n",
       "  259: 0.8376865671641791})"
      ]
     },
     "execution_count": 345,
     "metadata": {},
     "output_type": "execute_result"
    }
   ],
   "source": [
    "load_qn_qp(\"5workers_rand0\",13,\"isoGT\",2)"
   ]
  },
  {
   "cell_type": "code",
   "execution_count": 346,
   "metadata": {},
   "outputs": [
    {
     "name": "stdout",
     "output_type": "stream",
     "text": [
      "[161, 239, 170, 259, 133]"
     ]
    }
   ],
   "source": [
    "cat pixel_em/5workers_rand0/obj13/worker_ids.json"
   ]
  },
  {
   "cell_type": "code",
   "execution_count": 154,
   "metadata": {},
   "outputs": [
    {
     "data": {
      "text/plain": [
       "<matplotlib.image.AxesImage at 0x13fb2a90>"
      ]
     },
     "execution_count": 154,
     "metadata": {},
     "output_type": "execute_result"
    },
    {
     "data": {
      "image/png": "[encoded data removed]",
      "text/plain": [
       "<matplotlib.figure.Figure at 0x13fb2ad0>"
      ]
     },
     "metadata": {},
     "output_type": "display_data"
    }
   ],
   "source": [
    "worker_mask = pkl.load(open(\"pixel_em/obj13/mask259.pkl\"))\n",
    "plot_coords(ground_truth_T(13,reverse_xy=True),'cyan')\n",
    "plt.imshow(worker_mask)"
   ]
  },
  {
   "cell_type": "code",
   "execution_count": 155,
   "metadata": {},
   "outputs": [
    {
     "data": {
      "text/plain": [
       "<matplotlib.image.AxesImage at 0xe51bf50>"
      ]
     },
     "execution_count": 155,
     "metadata": {},
     "output_type": "execute_result"
    },
    {
     "data": {
      "image/png": "[encoded data removed]",
      "text/plain": [
       "<matplotlib.figure.Figure at 0xe95e210>"
      ]
     },
     "metadata": {},
     "output_type": "display_data"
    }
   ],
   "source": [
    "worker_mask = pkl.load(open(\"pixel_em/obj13/mask133.pkl\"))\n",
    "plot_coords(ground_truth_T(13,reverse_xy=True),'cyan')\n",
    "plt.imshow(worker_mask)"
   ]
  },
  {
   "cell_type": "markdown",
   "metadata": {},
   "source": [
    "need to overlay ground truth BB on top of this otherwise it is hard to tell \n",
    "\n",
    "worker 133 didn't perform particularly poorly but I'm not sure why his quality score is so low"
   ]
  },
  {
   "cell_type": "markdown",
   "metadata": {},
   "source": [
    "# Problematic for isoGT Only "
   ]
  },
  {
   "cell_type": "code",
   "execution_count": 156,
   "metadata": {},
   "outputs": [
    {
     "data": {
      "image/png": "[encoded data removed]",
      "text/plain": [
       "<matplotlib.figure.Figure at 0x109889d0>"
      ]
     },
     "metadata": {},
     "output_type": "display_data"
    },
    {
     "data": {
      "image/png": "[encoded data removed]",
      "text/plain": [
       "<matplotlib.figure.Figure at 0x13f8fa90>"
      ]
     },
     "metadata": {},
     "output_type": "display_data"
    },
    {
     "data": {
      "image/png": "[encoded data removed]",
      "text/plain": [
       "<matplotlib.figure.Figure at 0x15275290>"
      ]
     },
     "metadata": {},
     "output_type": "display_data"
    },
    {
     "data": {
      "image/png": "[encoded data removed]",
      "text/plain": [
       "<matplotlib.figure.Figure at 0x14bfa890>"
      ]
     },
     "metadata": {},
     "output_type": "display_data"
    }
   ],
   "source": [
    "mega_mask,result, gt,pInT,pNotInT =  plot_masks(\"5workers_rand0\",23,1,\"isoGT\",returnMatrix=True)\n",
    "# [result] = plot_masks(\"5workers_rand0\",1,0,\"isoGT\",include=[\"ResultOnly\"],returnMatrix=True)"
   ]
  },
  {
   "cell_type": "code",
   "execution_count": 19,
   "metadata": {},
   "outputs": [
    {
     "data": {
      "text/plain": [
       "array([[False, False, False, ..., False, False, False],\n",
       "       [False, False, False, ..., False, False, False],\n",
       "       [False, False, False, ..., False, False, False],\n",
       "       ..., \n",
       "       [False, False, False, ..., False, False, False],\n",
       "       [False, False, False, ..., False, False, False],\n",
       "       [False, False, False, ..., False, False, False]], dtype=bool)"
      ]
     },
     "execution_count": 19,
     "metadata": {},
     "output_type": "execute_result"
    }
   ],
   "source": [
    "gt"
   ]
  },
  {
   "cell_type": "code",
   "execution_count": 66,
   "metadata": {
    "collapsed": true
   },
   "outputs": [],
   "source": [
    "Nworkers=5\n",
    "# invariant_idx = np.where((mega_mask==0) | (mega_mask ==Nworkers))\n",
    "\n",
    "invariant_mask = np.zeros_like(mega_mask,dtype=bool)"
   ]
  },
  {
   "cell_type": "code",
   "execution_count": 67,
   "metadata": {},
   "outputs": [
    {
     "data": {
      "text/plain": [
       "<matplotlib.image.AxesImage at 0xdb5d850>"
      ]
     },
     "execution_count": 67,
     "metadata": {},
     "output_type": "execute_result"
    },
    {
     "data": {
      "image/png": "[encoded data removed]",
      "text/plain": [
       "<matplotlib.figure.Figure at 0x107dd790>"
      ]
     },
     "metadata": {},
     "output_type": "display_data"
    }
   ],
   "source": [
    "plt.imshow(invariant_mask)"
   ]
  },
  {
   "cell_type": "code",
   "execution_count": 76,
   "metadata": {
    "collapsed": true
   },
   "outputs": [],
   "source": [
    "invariant_mask_yes = np.ma.masked_where((mega_mask==Nworkers),invariant_mask).mask\n",
    "invariant_mask_no = np.ma.masked_where((mega_mask ==0),invariant_mask).mask"
   ]
  },
  {
   "cell_type": "code",
   "execution_count": 77,
   "metadata": {},
   "outputs": [
    {
     "data": {
      "text/plain": [
       "<matplotlib.colorbar.Colorbar at 0xe52ba50>"
      ]
     },
     "execution_count": 77,
     "metadata": {},
     "output_type": "execute_result"
    },
    {
     "data": {
      "image/png": "[encoded data removed]",
      "text/plain": [
       "<matplotlib.figure.Figure at 0xe957410>"
      ]
     },
     "metadata": {},
     "output_type": "display_data"
    },
    {
     "data": {
      "image/png": "[encoded data removed]",
      "text/plain": [
       "<matplotlib.figure.Figure at 0xe50f750>"
      ]
     },
     "metadata": {},
     "output_type": "display_data"
    }
   ],
   "source": [
    "plt.figure()\n",
    "plt.imshow(invariant_mask_yes)\n",
    "plt.colorbar()\n",
    "plt.figure()\n",
    "plt.imshow(invariant_mask_no)\n",
    "plt.colorbar()"
   ]
  },
  {
   "cell_type": "code",
   "execution_count": 85,
   "metadata": {},
   "outputs": [
    {
     "data": {
      "text/plain": [
       "<matplotlib.colorbar.Colorbar at 0x10975ad0>"
      ]
     },
     "execution_count": 85,
     "metadata": {},
     "output_type": "execute_result"
    },
    {
     "data": {
      "image/png": "[encoded data removed]",
      "text/plain": [
       "<matplotlib.figure.Figure at 0x105edad0>"
      ]
     },
     "metadata": {},
     "output_type": "display_data"
    }
   ],
   "source": [
    "plt.imshow(result+invariant_mask_yes)\n",
    "plt.colorbar()"
   ]
  },
  {
   "cell_type": "code",
   "execution_count": 87,
   "metadata": {
    "collapsed": true
   },
   "outputs": [],
   "source": [
    "invariant_mask = result+invariant_mask_yes-invariant_mask_no\n",
    "invariant_mask[invariant_mask==-1]=0"
   ]
  },
  {
   "cell_type": "code",
   "execution_count": 90,
   "metadata": {},
   "outputs": [
    {
     "data": {
      "text/plain": [
       "<matplotlib.image.AxesImage at 0x110a3290>"
      ]
     },
     "execution_count": 90,
     "metadata": {},
     "output_type": "execute_result"
    },
    {
     "data": {
      "image/png": "[encoded data removed]",
      "text/plain": [
       "<matplotlib.figure.Figure at 0x67ad110>"
      ]
     },
     "metadata": {},
     "output_type": "display_data"
    }
   ],
   "source": [
    "plt.imshow(invariant_mask)"
   ]
  },
  {
   "cell_type": "code",
   "execution_count": 91,
   "metadata": {},
   "outputs": [
    {
     "data": {
      "text/plain": [
       "array([[ True,  True,  True, ...,  True,  True,  True],\n",
       "       [ True,  True,  True, ...,  True,  True,  True],\n",
       "       [ True,  True,  True, ...,  True,  True,  True],\n",
       "       ..., \n",
       "       [ True,  True,  True, ...,  True,  True,  True],\n",
       "       [ True,  True,  True, ...,  True,  True,  True],\n",
       "       [ True,  True,  True, ...,  True,  True,  True]], dtype=bool)"
      ]
     },
     "execution_count": 91,
     "metadata": {},
     "output_type": "execute_result"
    }
   ],
   "source": [
    "result+invariant_mask_yes == invariant_mask"
   ]
  },
  {
   "cell_type": "raw",
   "metadata": {},
   "source": [
    "[jlee782@hilda TileEM]$ python2.7 -i PixelEM.py 5workers_rand0\n",
    "Doing GroundTruth_doM_once, algo=GT,exclude_isovote=True\n",
    "p,r,j: 0.875894988067 0.0657313432836 0.0651248077606\n",
    "    \n",
    "    \n",
    "[jlee782@hilda TileEM]$ python2.7 -i PixelEM.py 5workers_rand0\n",
    "Doing GroundTruth_doM_once, algo=GT,exclude_isovote=True\n",
    "p,r,j: 0.964145791286 0.969671641791 0.935922553878\n",
    "\n"
   ]
  },
  {
   "cell_type": "markdown",
   "metadata": {},
   "source": [
    "Adding in the invariant region helped the PRJ in some cases, but when I run this on bulk, it actually decreased the PRJs for even previously well behaving objects (both with -negative region and simply + all vote regions only)"
   ]
  },
  {
   "cell_type": "code",
   "execution_count": 97,
   "metadata": {},
   "outputs": [
    {
     "data": {
      "text/html": [
       "<div>\n",
       "<table border=\"1\" class=\"dataframe\">\n",
       "  <thead>\n",
       "    <tr style=\"text-align: right;\">\n",
       "      <th></th>\n",
       "      <th>num_workers</th>\n",
       "      <th>objid</th>\n",
       "      <th>thresh</th>\n",
       "      <th>J [MV]</th>\n",
       "      <th>J [GT]</th>\n",
       "      <th>J [basic]</th>\n",
       "      <th>J [GTLSA]</th>\n",
       "      <th>J [isoGT]</th>\n",
       "      <th>J [isoGTLSA]</th>\n",
       "    </tr>\n",
       "  </thead>\n",
       "  <tbody>\n",
       "    <tr>\n",
       "      <th>108</th>\n",
       "      <td>5</td>\n",
       "      <td>8</td>\n",
       "      <td>-2</td>\n",
       "      <td>0.827086</td>\n",
       "      <td>0.878300</td>\n",
       "      <td>0.864774</td>\n",
       "      <td>0.709581</td>\n",
       "      <td>0.869061</td>\n",
       "      <td>0.845774</td>\n",
       "    </tr>\n",
       "    <tr>\n",
       "      <th>109</th>\n",
       "      <td>5</td>\n",
       "      <td>8</td>\n",
       "      <td>-1</td>\n",
       "      <td>0.827086</td>\n",
       "      <td>0.863969</td>\n",
       "      <td>0.827086</td>\n",
       "      <td>0.687213</td>\n",
       "      <td>0.876302</td>\n",
       "      <td>0.844138</td>\n",
       "    </tr>\n",
       "    <tr>\n",
       "      <th>110</th>\n",
       "      <td>5</td>\n",
       "      <td>8</td>\n",
       "      <td>0</td>\n",
       "      <td>0.827086</td>\n",
       "      <td>0.863969</td>\n",
       "      <td>0.827086</td>\n",
       "      <td>0.682637</td>\n",
       "      <td>0.887905</td>\n",
       "      <td>0.864187</td>\n",
       "    </tr>\n",
       "    <tr>\n",
       "      <th>111</th>\n",
       "      <td>5</td>\n",
       "      <td>8</td>\n",
       "      <td>1</td>\n",
       "      <td>0.827086</td>\n",
       "      <td>0.861345</td>\n",
       "      <td>0.827086</td>\n",
       "      <td>0.673711</td>\n",
       "      <td>0.854636</td>\n",
       "      <td>0.307262</td>\n",
       "    </tr>\n",
       "    <tr>\n",
       "      <th>112</th>\n",
       "      <td>5</td>\n",
       "      <td>8</td>\n",
       "      <td>2</td>\n",
       "      <td>0.827086</td>\n",
       "      <td>0.861688</td>\n",
       "      <td>0.826999</td>\n",
       "      <td>0.688057</td>\n",
       "      <td>0.840232</td>\n",
       "      <td>0.154519</td>\n",
       "    </tr>\n",
       "  </tbody>\n",
       "</table>\n",
       "</div>"
      ],
      "text/plain": [
       "     num_workers  objid  thresh    J [MV]    J [GT]  J [basic]  J [GTLSA]  \\\n",
       "108            5      8      -2  0.827086  0.878300   0.864774   0.709581   \n",
       "109            5      8      -1  0.827086  0.863969   0.827086   0.687213   \n",
       "110            5      8       0  0.827086  0.863969   0.827086   0.682637   \n",
       "111            5      8       1  0.827086  0.861345   0.827086   0.673711   \n",
       "112            5      8       2  0.827086  0.861688   0.826999   0.688057   \n",
       "\n",
       "     J [isoGT]  J [isoGTLSA]  \n",
       "108   0.869061      0.845774  \n",
       "109   0.876302      0.844138  \n",
       "110   0.887905      0.864187  \n",
       "111   0.854636      0.307262  \n",
       "112   0.840232      0.154519  "
      ]
     },
     "execution_count": 97,
     "metadata": {},
     "output_type": "execute_result"
    }
   ],
   "source": [
    "final_df[final_df[\"objid\"]==8][keys].head()"
   ]
  },
  {
   "cell_type": "code",
   "execution_count": 98,
   "metadata": {},
   "outputs": [
    {
     "data": {
      "text/html": [
       "<div>\n",
       "<table border=\"1\" class=\"dataframe\">\n",
       "  <thead>\n",
       "    <tr style=\"text-align: right;\">\n",
       "      <th></th>\n",
       "      <th>num_workers</th>\n",
       "      <th>objid</th>\n",
       "      <th>thresh</th>\n",
       "      <th>J [MV]</th>\n",
       "      <th>J [GT]</th>\n",
       "      <th>J [basic]</th>\n",
       "      <th>J [GTLSA]</th>\n",
       "      <th>J [isoGT]</th>\n",
       "      <th>J [isoGTLSA]</th>\n",
       "    </tr>\n",
       "  </thead>\n",
       "  <tbody>\n",
       "    <tr>\n",
       "      <th>183</th>\n",
       "      <td>5</td>\n",
       "      <td>9</td>\n",
       "      <td>-2</td>\n",
       "      <td>0.931053</td>\n",
       "      <td>0.934525</td>\n",
       "      <td>0.931053</td>\n",
       "      <td>0.927600</td>\n",
       "      <td>0.030400</td>\n",
       "      <td>0.030343</td>\n",
       "    </tr>\n",
       "    <tr>\n",
       "      <th>184</th>\n",
       "      <td>5</td>\n",
       "      <td>9</td>\n",
       "      <td>-1</td>\n",
       "      <td>0.931053</td>\n",
       "      <td>0.934525</td>\n",
       "      <td>0.931053</td>\n",
       "      <td>0.927600</td>\n",
       "      <td>0.947100</td>\n",
       "      <td>0.951648</td>\n",
       "    </tr>\n",
       "    <tr>\n",
       "      <th>185</th>\n",
       "      <td>5</td>\n",
       "      <td>9</td>\n",
       "      <td>0</td>\n",
       "      <td>0.931053</td>\n",
       "      <td>0.934525</td>\n",
       "      <td>0.931053</td>\n",
       "      <td>0.927600</td>\n",
       "      <td>0.947704</td>\n",
       "      <td>0.929266</td>\n",
       "    </tr>\n",
       "    <tr>\n",
       "      <th>186</th>\n",
       "      <td>5</td>\n",
       "      <td>9</td>\n",
       "      <td>1</td>\n",
       "      <td>0.931053</td>\n",
       "      <td>0.934525</td>\n",
       "      <td>0.931053</td>\n",
       "      <td>0.927600</td>\n",
       "      <td>0.933235</td>\n",
       "      <td>0.920566</td>\n",
       "    </tr>\n",
       "    <tr>\n",
       "      <th>187</th>\n",
       "      <td>5</td>\n",
       "      <td>9</td>\n",
       "      <td>2</td>\n",
       "      <td>0.931053</td>\n",
       "      <td>0.934525</td>\n",
       "      <td>0.931053</td>\n",
       "      <td>0.925821</td>\n",
       "      <td>0.900383</td>\n",
       "      <td>0.912891</td>\n",
       "    </tr>\n",
       "  </tbody>\n",
       "</table>\n",
       "</div>"
      ],
      "text/plain": [
       "     num_workers  objid  thresh    J [MV]    J [GT]  J [basic]  J [GTLSA]  \\\n",
       "183            5      9      -2  0.931053  0.934525   0.931053   0.927600   \n",
       "184            5      9      -1  0.931053  0.934525   0.931053   0.927600   \n",
       "185            5      9       0  0.931053  0.934525   0.931053   0.927600   \n",
       "186            5      9       1  0.931053  0.934525   0.931053   0.927600   \n",
       "187            5      9       2  0.931053  0.934525   0.931053   0.925821   \n",
       "\n",
       "     J [isoGT]  J [isoGTLSA]  \n",
       "183   0.030400      0.030343  \n",
       "184   0.947100      0.951648  \n",
       "185   0.947704      0.929266  \n",
       "186   0.933235      0.920566  \n",
       "187   0.900383      0.912891  "
      ]
     },
     "execution_count": 98,
     "metadata": {},
     "output_type": "execute_result"
    }
   ],
   "source": [
    "final_df[final_df[\"objid\"]==9][keys].head()"
   ]
  },
  {
   "cell_type": "code",
   "execution_count": 157,
   "metadata": {},
   "outputs": [
    {
     "data": {
      "image/png": "[encoded data removed]",
      "text/plain": [
       "<matplotlib.figure.Figure at 0x12ead490>"
      ]
     },
     "metadata": {},
     "output_type": "display_data"
    },
    {
     "data": {
      "image/png": "[encoded data removed]",
      "text/plain": [
       "<matplotlib.figure.Figure at 0x1302d850>"
      ]
     },
     "metadata": {},
     "output_type": "display_data"
    },
    {
     "data": {
      "image/png": "[encoded data removed]",
      "text/plain": [
       "<matplotlib.figure.Figure at 0x12034390>"
      ]
     },
     "metadata": {},
     "output_type": "display_data"
    },
    {
     "data": {
      "image/png": "[encoded data removed]",
      "text/plain": [
       "<matplotlib.figure.Figure at 0x1218cd50>"
      ]
     },
     "metadata": {},
     "output_type": "display_data"
    }
   ],
   "source": [
    "mega_mask,result, gt,pInT,pNotInT =  plot_masks(\"5workers_rand0\",1,1,\"isoGT\",returnMatrix=True)"
   ]
  },
  {
   "cell_type": "code",
   "execution_count": 158,
   "metadata": {},
   "outputs": [
    {
     "data": {
      "image/png": "[encoded data removed]",
      "text/plain": [
       "<matplotlib.figure.Figure at 0xad64550>"
      ]
     },
     "metadata": {},
     "output_type": "display_data"
    },
    {
     "data": {
      "image/png": "[encoded data removed]",
      "text/plain": [
       "<matplotlib.figure.Figure at 0x10facf90>"
      ]
     },
     "metadata": {},
     "output_type": "display_data"
    },
    {
     "data": {
      "image/png": "[encoded data removed]",
      "text/plain": [
       "<matplotlib.figure.Figure at 0x14441e90>"
      ]
     },
     "metadata": {},
     "output_type": "display_data"
    },
    {
     "data": {
      "image/png": "[encoded data removed]",
      "text/plain": [
       "<matplotlib.figure.Figure at 0x12455310>"
      ]
     },
     "metadata": {},
     "output_type": "display_data"
    }
   ],
   "source": [
    "mega_mask,result, gt,pInT,pNotInT =  plot_masks(\"5workers_rand0\",2,1,\"isoGT\",returnMatrix=True)\n",
    "# [result] = plot_masks(\"5workers_rand0\",1,0,\"isoGT\",include=[\"ResultOnly\"],returnMatrix=True)"
   ]
  },
  {
   "cell_type": "markdown",
   "metadata": {},
   "source": [
    "The reason why the PRJ for everything else was lower was because this turned into a float map with max =2 and min=-1 because of overlap on our addition and substraction of matricies. After coercing this into a boolean matrix, the PRJ values became high as before. This also boosted the precision up by a couple percentage."
   ]
  },
  {
   "cell_type": "code",
   "execution_count": 111,
   "metadata": {},
   "outputs": [
    {
     "data": {
      "text/html": [
       "<div>\n",
       "<table border=\"1\" class=\"dataframe\">\n",
       "  <thead>\n",
       "    <tr style=\"text-align: right;\">\n",
       "      <th></th>\n",
       "      <th>num_workers</th>\n",
       "      <th>thresh</th>\n",
       "      <th>P [isoGT]</th>\n",
       "      <th>R [isoGT]</th>\n",
       "      <th>J [isoGT]</th>\n",
       "    </tr>\n",
       "  </thead>\n",
       "  <tbody>\n",
       "    <tr>\n",
       "      <th>0</th>\n",
       "      <td>5</td>\n",
       "      <td>-2</td>\n",
       "      <td>0.918883</td>\n",
       "      <td>0.992438</td>\n",
       "      <td>0.912494</td>\n",
       "    </tr>\n",
       "    <tr>\n",
       "      <th>1</th>\n",
       "      <td>5</td>\n",
       "      <td>-1</td>\n",
       "      <td>0.964626</td>\n",
       "      <td>0.987282</td>\n",
       "      <td>0.952786</td>\n",
       "    </tr>\n",
       "    <tr>\n",
       "      <th>2</th>\n",
       "      <td>5</td>\n",
       "      <td>0</td>\n",
       "      <td>0.973539</td>\n",
       "      <td>0.982165</td>\n",
       "      <td>0.956627</td>\n",
       "    </tr>\n",
       "    <tr>\n",
       "      <th>3</th>\n",
       "      <td>5</td>\n",
       "      <td>0</td>\n",
       "      <td>0.973539</td>\n",
       "      <td>0.982165</td>\n",
       "      <td>0.956627</td>\n",
       "    </tr>\n",
       "    <tr>\n",
       "      <th>4</th>\n",
       "      <td>5</td>\n",
       "      <td>0</td>\n",
       "      <td>0.973539</td>\n",
       "      <td>0.982165</td>\n",
       "      <td>0.956627</td>\n",
       "    </tr>\n",
       "  </tbody>\n",
       "</table>\n",
       "</div>"
      ],
      "text/plain": [
       "   num_workers  thresh  P [isoGT]  R [isoGT]  J [isoGT]\n",
       "0            5      -2   0.918883   0.992438   0.912494\n",
       "1            5      -1   0.964626   0.987282   0.952786\n",
       "2            5       0   0.973539   0.982165   0.956627\n",
       "3            5       0   0.973539   0.982165   0.956627\n",
       "4            5       0   0.973539   0.982165   0.956627"
      ]
     },
     "execution_count": 111,
     "metadata": {},
     "output_type": "execute_result"
    }
   ],
   "source": [
    "final_df[final_df[\"objid\"]==1][['num_workers','thresh','P [isoGT]','R [isoGT]','J [isoGT]']].head()"
   ]
  },
  {
   "cell_type": "code",
   "execution_count": 112,
   "metadata": {},
   "outputs": [
    {
     "data": {
      "text/html": [
       "<div>\n",
       "<table border=\"1\" class=\"dataframe\">\n",
       "  <thead>\n",
       "    <tr style=\"text-align: right;\">\n",
       "      <th></th>\n",
       "      <th>num_workers</th>\n",
       "      <th>thresh</th>\n",
       "      <th>P [isoGT]</th>\n",
       "      <th>R [isoGT]</th>\n",
       "      <th>J [isoGT]</th>\n",
       "    </tr>\n",
       "  </thead>\n",
       "  <tbody>\n",
       "    <tr>\n",
       "      <th>113</th>\n",
       "      <td>5</td>\n",
       "      <td>-2</td>\n",
       "      <td>0.943843</td>\n",
       "      <td>0.981829</td>\n",
       "      <td>0.927639</td>\n",
       "    </tr>\n",
       "    <tr>\n",
       "      <th>114</th>\n",
       "      <td>5</td>\n",
       "      <td>-1</td>\n",
       "      <td>0.948294</td>\n",
       "      <td>0.972218</td>\n",
       "      <td>0.923274</td>\n",
       "    </tr>\n",
       "    <tr>\n",
       "      <th>115</th>\n",
       "      <td>5</td>\n",
       "      <td>0</td>\n",
       "      <td>0.961527</td>\n",
       "      <td>0.953296</td>\n",
       "      <td>0.918270</td>\n",
       "    </tr>\n",
       "    <tr>\n",
       "      <th>116</th>\n",
       "      <td>5</td>\n",
       "      <td>0</td>\n",
       "      <td>0.961527</td>\n",
       "      <td>0.953296</td>\n",
       "      <td>0.918270</td>\n",
       "    </tr>\n",
       "    <tr>\n",
       "      <th>117</th>\n",
       "      <td>5</td>\n",
       "      <td>0</td>\n",
       "      <td>0.961527</td>\n",
       "      <td>0.953296</td>\n",
       "      <td>0.918270</td>\n",
       "    </tr>\n",
       "  </tbody>\n",
       "</table>\n",
       "</div>"
      ],
      "text/plain": [
       "     num_workers  thresh  P [isoGT]  R [isoGT]  J [isoGT]\n",
       "113            5      -2   0.943843   0.981829   0.927639\n",
       "114            5      -1   0.948294   0.972218   0.923274\n",
       "115            5       0   0.961527   0.953296   0.918270\n",
       "116            5       0   0.961527   0.953296   0.918270\n",
       "117            5       0   0.961527   0.953296   0.918270"
      ]
     },
     "execution_count": 112,
     "metadata": {},
     "output_type": "execute_result"
    }
   ],
   "source": [
    "final_df[final_df[\"objid\"]==2][['num_workers','thresh','P [isoGT]','R [isoGT]','J [isoGT]']].head()"
   ]
  },
  {
   "cell_type": "code",
   "execution_count": 113,
   "metadata": {},
   "outputs": [
    {
     "data": {
      "text/html": [
       "<div>\n",
       "<table border=\"1\" class=\"dataframe\">\n",
       "  <thead>\n",
       "    <tr style=\"text-align: right;\">\n",
       "      <th></th>\n",
       "      <th>num_workers</th>\n",
       "      <th>thresh</th>\n",
       "      <th>P [isoGTLSA]</th>\n",
       "      <th>R [isoGTLSA]</th>\n",
       "      <th>J [isoGTLSA]</th>\n",
       "    </tr>\n",
       "  </thead>\n",
       "  <tbody>\n",
       "    <tr>\n",
       "      <th>113</th>\n",
       "      <td>5</td>\n",
       "      <td>-2</td>\n",
       "      <td>0.021638</td>\n",
       "      <td>0.998048</td>\n",
       "      <td>0.021637</td>\n",
       "    </tr>\n",
       "    <tr>\n",
       "      <th>114</th>\n",
       "      <td>5</td>\n",
       "      <td>-1</td>\n",
       "      <td>0.928693</td>\n",
       "      <td>0.979877</td>\n",
       "      <td>0.911313</td>\n",
       "    </tr>\n",
       "    <tr>\n",
       "      <th>115</th>\n",
       "      <td>5</td>\n",
       "      <td>0</td>\n",
       "      <td>0.815358</td>\n",
       "      <td>0.141913</td>\n",
       "      <td>0.137495</td>\n",
       "    </tr>\n",
       "    <tr>\n",
       "      <th>116</th>\n",
       "      <td>5</td>\n",
       "      <td>0</td>\n",
       "      <td>0.815358</td>\n",
       "      <td>0.141913</td>\n",
       "      <td>0.137495</td>\n",
       "    </tr>\n",
       "    <tr>\n",
       "      <th>117</th>\n",
       "      <td>5</td>\n",
       "      <td>0</td>\n",
       "      <td>0.815358</td>\n",
       "      <td>0.141913</td>\n",
       "      <td>0.137495</td>\n",
       "    </tr>\n",
       "  </tbody>\n",
       "</table>\n",
       "</div>"
      ],
      "text/plain": [
       "     num_workers  thresh  P [isoGTLSA]  R [isoGTLSA]  J [isoGTLSA]\n",
       "113            5      -2      0.021638      0.998048      0.021637\n",
       "114            5      -1      0.928693      0.979877      0.911313\n",
       "115            5       0      0.815358      0.141913      0.137495\n",
       "116            5       0      0.815358      0.141913      0.137495\n",
       "117            5       0      0.815358      0.141913      0.137495"
      ]
     },
     "execution_count": 113,
     "metadata": {},
     "output_type": "execute_result"
    }
   ],
   "source": [
    "final_df[final_df[\"objid\"]==2][['num_workers','thresh','P [isoGTLSA]','R [isoGTLSA]','J [isoGTLSA]']].head()"
   ]
  },
  {
   "cell_type": "code",
   "execution_count": 114,
   "metadata": {},
   "outputs": [
    {
     "data": {
      "text/html": [
       "<div>\n",
       "<table border=\"1\" class=\"dataframe\">\n",
       "  <thead>\n",
       "    <tr style=\"text-align: right;\">\n",
       "      <th></th>\n",
       "      <th>num_workers</th>\n",
       "      <th>objid</th>\n",
       "      <th>thresh</th>\n",
       "      <th>J [MV]</th>\n",
       "      <th>J [GT]</th>\n",
       "      <th>J [basic]</th>\n",
       "      <th>J [GTLSA]</th>\n",
       "      <th>J [isoGT]</th>\n",
       "      <th>J [isoGTLSA]</th>\n",
       "    </tr>\n",
       "  </thead>\n",
       "  <tbody>\n",
       "    <tr>\n",
       "      <th>36</th>\n",
       "      <td>5</td>\n",
       "      <td>11</td>\n",
       "      <td>-2</td>\n",
       "      <td>0.80161</td>\n",
       "      <td>0.789447</td>\n",
       "      <td>0.80161</td>\n",
       "      <td>0.839822</td>\n",
       "      <td>0.811070</td>\n",
       "      <td>0.005203</td>\n",
       "    </tr>\n",
       "    <tr>\n",
       "      <th>37</th>\n",
       "      <td>5</td>\n",
       "      <td>11</td>\n",
       "      <td>-1</td>\n",
       "      <td>0.80161</td>\n",
       "      <td>0.789447</td>\n",
       "      <td>0.80161</td>\n",
       "      <td>0.839822</td>\n",
       "      <td>0.842645</td>\n",
       "      <td>0.839337</td>\n",
       "    </tr>\n",
       "    <tr>\n",
       "      <th>38</th>\n",
       "      <td>5</td>\n",
       "      <td>11</td>\n",
       "      <td>0</td>\n",
       "      <td>0.80161</td>\n",
       "      <td>0.814555</td>\n",
       "      <td>0.80161</td>\n",
       "      <td>0.822581</td>\n",
       "      <td>0.849275</td>\n",
       "      <td>0.843750</td>\n",
       "    </tr>\n",
       "    <tr>\n",
       "      <th>39</th>\n",
       "      <td>5</td>\n",
       "      <td>11</td>\n",
       "      <td>1</td>\n",
       "      <td>0.80161</td>\n",
       "      <td>0.801415</td>\n",
       "      <td>0.80161</td>\n",
       "      <td>0.752646</td>\n",
       "      <td>0.828538</td>\n",
       "      <td>0.802593</td>\n",
       "    </tr>\n",
       "    <tr>\n",
       "      <th>40</th>\n",
       "      <td>5</td>\n",
       "      <td>11</td>\n",
       "      <td>2</td>\n",
       "      <td>0.80161</td>\n",
       "      <td>0.801415</td>\n",
       "      <td>0.80161</td>\n",
       "      <td>0.751951</td>\n",
       "      <td>0.788166</td>\n",
       "      <td>0.761283</td>\n",
       "    </tr>\n",
       "  </tbody>\n",
       "</table>\n",
       "</div>"
      ],
      "text/plain": [
       "    num_workers  objid  thresh   J [MV]    J [GT]  J [basic]  J [GTLSA]  \\\n",
       "36            5     11      -2  0.80161  0.789447    0.80161   0.839822   \n",
       "37            5     11      -1  0.80161  0.789447    0.80161   0.839822   \n",
       "38            5     11       0  0.80161  0.814555    0.80161   0.822581   \n",
       "39            5     11       1  0.80161  0.801415    0.80161   0.752646   \n",
       "40            5     11       2  0.80161  0.801415    0.80161   0.751951   \n",
       "\n",
       "    J [isoGT]  J [isoGTLSA]  \n",
       "36   0.811070      0.005203  \n",
       "37   0.842645      0.839337  \n",
       "38   0.849275      0.843750  \n",
       "39   0.828538      0.802593  \n",
       "40   0.788166      0.761283  "
      ]
     },
     "execution_count": 114,
     "metadata": {},
     "output_type": "execute_result"
    }
   ],
   "source": [
    "final_df[final_df[\"objid\"]==11][keys].head()"
   ]
  },
  {
   "cell_type": "markdown",
   "metadata": {},
   "source": [
    "It also significantly improves the recall on the isoGTLSA "
   ]
  },
  {
   "cell_type": "markdown",
   "metadata": {},
   "source": [
    "### Objects where GTLSA performs badly "
   ]
  },
  {
   "cell_type": "code",
   "execution_count": 116,
   "metadata": {},
   "outputs": [
    {
     "data": {
      "image/png": "[encoded data removed]",
      "text/plain": [
       "<matplotlib.figure.Figure at 0x13185690>"
      ]
     },
     "metadata": {},
     "output_type": "display_data"
    },
    {
     "data": {
      "image/png": "[encoded data removed]",
      "text/plain": [
       "<matplotlib.figure.Figure at 0x13185590>"
      ]
     },
     "metadata": {},
     "output_type": "display_data"
    }
   ],
   "source": [
    "compare_PRJ_fixed_attr(final_df,\"thresh\",\"GTLSA\",\"basic\",'J')\n",
    "compare_PRJ_fixed_attr(final_df,\"num_workers\",\"GTLSA\",\"basic\",'J')"
   ]
  },
  {
   "cell_type": "code",
   "execution_count": 125,
   "metadata": {
    "collapsed": true
   },
   "outputs": [],
   "source": [
    "# final_df[final_df[\"J [GTLSA]\"]<0.3][keys]"
   ]
  },
  {
   "cell_type": "code",
   "execution_count": 124,
   "metadata": {},
   "outputs": [
    {
     "data": {
      "text/html": [
       "<div>\n",
       "<table border=\"1\" class=\"dataframe\">\n",
       "  <thead>\n",
       "    <tr style=\"text-align: right;\">\n",
       "      <th></th>\n",
       "      <th>num_workers</th>\n",
       "      <th>objid</th>\n",
       "      <th>thresh</th>\n",
       "      <th>J [MV]</th>\n",
       "      <th>J [GT]</th>\n",
       "      <th>J [basic]</th>\n",
       "      <th>J [GTLSA]</th>\n",
       "      <th>J [isoGT]</th>\n",
       "      <th>J [isoGTLSA]</th>\n",
       "    </tr>\n",
       "  </thead>\n",
       "  <tbody>\n",
       "    <tr>\n",
       "      <th>846</th>\n",
       "      <td>10</td>\n",
       "      <td>29</td>\n",
       "      <td>-2</td>\n",
       "      <td>0.843378</td>\n",
       "      <td>0.808541</td>\n",
       "      <td>0.828303</td>\n",
       "      <td>0.180898</td>\n",
       "      <td>0.808562</td>\n",
       "      <td>0.721073</td>\n",
       "    </tr>\n",
       "  </tbody>\n",
       "</table>\n",
       "</div>"
      ],
      "text/plain": [
       "     num_workers  objid  thresh    J [MV]    J [GT]  J [basic]  J [GTLSA]  \\\n",
       "846           10     29      -2  0.843378  0.808541   0.828303   0.180898   \n",
       "\n",
       "     J [isoGT]  J [isoGTLSA]  \n",
       "846   0.808562      0.721073  "
      ]
     },
     "execution_count": 124,
     "metadata": {},
     "output_type": "execute_result"
    }
   ],
   "source": [
    "final_df[(final_df[\"num_workers\"]==10)&(final_df[\"objid\"]==29)&(final_df[\"thresh\"]==-2)][keys]"
   ]
  },
  {
   "cell_type": "markdown",
   "metadata": {},
   "source": [
    "task is to circle around the flower"
   ]
  },
  {
   "cell_type": "code",
   "execution_count": 159,
   "metadata": {},
   "outputs": [
    {
     "data": {
      "image/png": "[encoded data removed]",
      "text/plain": [
       "<matplotlib.figure.Figure at 0x124f4110>"
      ]
     },
     "metadata": {},
     "output_type": "display_data"
    },
    {
     "data": {
      "image/png": "[encoded data removed]",
      "text/plain": [
       "<matplotlib.figure.Figure at 0xaa583d0>"
      ]
     },
     "metadata": {},
     "output_type": "display_data"
    },
    {
     "data": {
      "image/png": "[encoded data removed]",
      "text/plain": [
       "<matplotlib.figure.Figure at 0x1439ead0>"
      ]
     },
     "metadata": {},
     "output_type": "display_data"
    },
    {
     "data": {
      "image/png": "[encoded data removed]",
      "text/plain": [
       "<matplotlib.figure.Figure at 0x1526a290>"
      ]
     },
     "metadata": {},
     "output_type": "display_data"
    }
   ],
   "source": [
    "mega_mask,result, gt,pInT,pNotInT =  plot_masks(\"10workers_rand0\",29,-2,\"GTLSA\",returnMatrix=True)"
   ]
  },
  {
   "cell_type": "code",
   "execution_count": 129,
   "metadata": {
    "collapsed": true
   },
   "outputs": [],
   "source": [
    "def load_qn1_qp1_qn2_qp2(batch,objid,algo,thresh):\n",
    "    qn1 = pkl.load(open(\"pixel_em/{}/obj{}/{}_qn1_ground_truth_thresh{}.pkl\".format(batch,objid,algo,thresh)))\n",
    "    qp1 = pkl.load(open(\"pixel_em/{}/obj{}/{}_qp1_ground_truth_thresh{}.pkl\".format(batch,objid,algo,thresh)))\n",
    "    qn2 = pkl.load(open(\"pixel_em/{}/obj{}/{}_qn2_ground_truth_thresh{}.pkl\".format(batch,objid,algo,thresh)))\n",
    "    qp2 = pkl.load(open(\"pixel_em/{}/obj{}/{}_qp2_ground_truth_thresh{}.pkl\".format(batch,objid,algo,thresh)))\n",
    "    return qn1,qp1,qn2,qp2"
   ]
  },
  {
   "cell_type": "code",
   "execution_count": 131,
   "metadata": {
    "collapsed": true
   },
   "outputs": [],
   "source": [
    "qn1,qp1,qn2,qp2=load_qn1_qp1_qn2_qp2('10workers_rand0',29,\"GTLSA\",-2)"
   ]
  },
  {
   "cell_type": "code",
   "execution_count": 132,
   "metadata": {},
   "outputs": [
    {
     "data": {
      "text/plain": [
       "{52: 0.9059728742827334,\n",
       " 68: 0.9564423578508086,\n",
       " 82: 0.24804381846635368,\n",
       " 105: 0.915753781950965,\n",
       " 114: 0.8676317162232655,\n",
       " 140: 0.3348982785602504,\n",
       " 147: 0.7297861241523214,\n",
       " 149: 0.9934793948878456,\n",
       " 193: 0.9237089201877934,\n",
       " 241: 0.8135106937923839}"
      ]
     },
     "execution_count": 132,
     "metadata": {},
     "output_type": "execute_result"
    }
   ],
   "source": [
    "qn1"
   ]
  },
  {
   "cell_type": "code",
   "execution_count": 135,
   "metadata": {},
   "outputs": [
    {
     "data": {
      "text/plain": [
       "{52: 0.9902172110761068,\n",
       " 68: 0.9709832531918422,\n",
       " 82: 0.9935334107113248,\n",
       " 105: 0.9819267119880617,\n",
       " 114: 0.9976786602553473,\n",
       " 140: 0.9744652628088211,\n",
       " 147: 0.9845796716962361,\n",
       " 149: 0.6247720112750788,\n",
       " 193: 0.979605372243409,\n",
       " 241: 0.9995025700547173}"
      ]
     },
     "execution_count": 135,
     "metadata": {},
     "output_type": "execute_result"
    }
   ],
   "source": [
    "qp1"
   ]
  },
  {
   "cell_type": "code",
   "execution_count": 137,
   "metadata": {},
   "outputs": [
    {
     "data": {
      "text/plain": [
       "{52: 0.9991007410305782,\n",
       " 68: 0.9994954539370038,\n",
       " 82: 0.9000621243791852,\n",
       " 105: 0.9979166023113015,\n",
       " 114: 0.996646656438454,\n",
       " 140: 0.9002028481110413,\n",
       " 147: 0.8964616562153553,\n",
       " 149: 0.9999279219910006,\n",
       " 193: 0.9984623358080117,\n",
       " 241: 0.9930702142776239}"
      ]
     },
     "execution_count": 137,
     "metadata": {},
     "output_type": "execute_result"
    }
   ],
   "source": [
    "qn2"
   ]
  },
  {
   "cell_type": "code",
   "execution_count": 138,
   "metadata": {},
   "outputs": [
    {
     "data": {
      "text/plain": [
       "{52: 0.45632183908045976,\n",
       " 68: 0.3873563218390805,\n",
       " 82: 0.7827586206896552,\n",
       " 105: 0.7459770114942529,\n",
       " 114: 0.7965517241379311,\n",
       " 140: 0.7471264367816092,\n",
       " 147: 0.8195402298850575,\n",
       " 149: 0.27011494252873564,\n",
       " 193: 0.5781609195402299,\n",
       " 241: 0.9298850574712644}"
      ]
     },
     "execution_count": 138,
     "metadata": {},
     "output_type": "execute_result"
    }
   ],
   "source": [
    "qp2"
   ]
  },
  {
   "cell_type": "markdown",
   "metadata": {},
   "source": [
    "These are examples of a bad worker,  qn1 is low, qp1,qn2 is high,qp2 is medium-ish "
   ]
  },
  {
   "cell_type": "code",
   "execution_count": 150,
   "metadata": {},
   "outputs": [
    {
     "data": {
      "image/png": "[encoded data removed]",
      "text/plain": [
       "<matplotlib.figure.Figure at 0xad735d0>"
      ]
     },
     "metadata": {},
     "output_type": "display_data"
    }
   ],
   "source": [
    "worker_mask = pkl.load(open(\"pixel_em/obj29/mask140.pkl\"))\n",
    "plt.imshow(worker_mask)\n",
    "plot_coords(ground_truth_T(29,reverse_xy=True),'cyan')"
   ]
  },
  {
   "cell_type": "code",
   "execution_count": 151,
   "metadata": {},
   "outputs": [
    {
     "data": {
      "text/plain": [
       "<matplotlib.image.AxesImage at 0x13f94d50>"
      ]
     },
     "execution_count": 151,
     "metadata": {},
     "output_type": "execute_result"
    },
    {
     "data": {
      "image/png": "[encoded data removed]",
      "text/plain": [
       "<matplotlib.figure.Figure at 0xe9721d0>"
      ]
     },
     "metadata": {},
     "output_type": "display_data"
    }
   ],
   "source": [
    "worker_mask = pkl.load(open(\"pixel_em/obj29/mask82.pkl\"))\n",
    "plot_coords(ground_truth_T(29,reverse_xy=True),'cyan')\n",
    "plt.imshow(worker_mask)"
   ]
  },
  {
   "cell_type": "markdown",
   "metadata": {},
   "source": [
    "Looking at a example of a worker who has low qp2, this makes sense, he missed a lot of the small tiles inside GT, has almost perfect qn because nothing is out of bounds. "
   ]
  },
  {
   "cell_type": "code",
   "execution_count": 140,
   "metadata": {
    "collapsed": true
   },
   "outputs": [],
   "source": [
    "from TileEM import *"
   ]
  },
  {
   "cell_type": "code",
   "execution_count": 149,
   "metadata": {},
   "outputs": [
    {
     "data": {
      "image/png": "[encoded data removed]",
      "text/plain": [
       "<matplotlib.figure.Figure at 0xe888c50>"
      ]
     },
     "metadata": {},
     "output_type": "display_data"
    }
   ],
   "source": [
    "worker_mask = pkl.load(open(\"pixel_em/obj29/mask149.pkl\"))\n",
    "plt.imshow(worker_mask)\n",
    "plot_coords(ground_truth_T(29,reverse_xy=True),'cyan')"
   ]
  },
  {
   "cell_type": "markdown",
   "metadata": {},
   "source": [
    "------------------------------------------------------------------------"
   ]
  },
  {
   "cell_type": "markdown",
   "metadata": {},
   "source": [
    "# Results from invariant fix "
   ]
  },
  {
   "cell_type": "code",
   "execution_count": 216,
   "metadata": {
    "collapsed": true
   },
   "outputs": [],
   "source": [
    "algo_df = pd.read_csv(\"pixel_em/ground_truth_rerun_full_PRJ_table_invariant_fixed.csv\",index_col=0)\n",
    "\n",
    "mv_df = pd.read_csv(\"pixel_em/MV_PRJ_table.csv\")\n",
    "\n",
    "mv_df = mv_df.rename(columns={'MV_precision':\"P [MV]\",\n",
    "              \"MV_recall\":\"R [MV]\",\n",
    "               \"MV_jaccard\":\"J [MV]\"})\n",
    "# mv_df[\"thresh\"]=0\n",
    "# mv_df[\"algorithm\"]=\"MV\"\n",
    "\n",
    "df = pd.concat([algo_df,mv_df])\n",
    "\n",
    "newdf = mv_df \n",
    "for algo in ['GT', 'basic', 'GTLSA', 'isoGT', 'isoGTLSA']:\n",
    "    data = algo_df[algo_df[\"algorithm\"]==algo].rename(columns={\"precision\":\"P [{}]\".format(algo),\n",
    "                                            \"recall\":\"R [{}]\".format(algo),\n",
    "                                            \"jaccard\":\"J [{}]\".format(algo)})\n",
    "    data = data.drop('algorithm',axis=1)\n",
    "    newdf = newdf.merge(data)\n",
    "\n",
    "newdf = newdf.drop_duplicates()\n",
    "\n",
    "newdf.to_csv(\"cleaned_ground_truth_rerun_full_PRJ_table_invariant_fixed.csv\")"
   ]
  },
  {
   "cell_type": "code",
   "execution_count": 207,
   "metadata": {},
   "outputs": [
    {
     "data": {
      "text/plain": [
       "num_workers     17.490537\n",
       "objid           22.984103\n",
       "thresh           0.000000\n",
       "J [MV]           0.882361\n",
       "J [GT]           0.893947\n",
       "J [basic]        0.890526\n",
       "J [GTLSA]        0.867502\n",
       "J [isoGT]        0.904252\n",
       "J [isoGTLSA]     0.903739\n",
       "dtype: float64"
      ]
     },
     "execution_count": 207,
     "metadata": {},
     "output_type": "execute_result"
    }
   ],
   "source": [
    "newdf[keys].mean()"
   ]
  },
  {
   "cell_type": "code",
   "execution_count": 208,
   "metadata": {},
   "outputs": [
    {
     "data": {
      "image/png": "[encoded data removed]",
      "text/plain": [
       "<matplotlib.figure.Figure at 0x14e310d0>"
      ]
     },
     "metadata": {},
     "output_type": "display_data"
    },
    {
     "data": {
      "image/png": "[encoded data removed]",
      "text/plain": [
       "<matplotlib.figure.Figure at 0x14e31150>"
      ]
     },
     "metadata": {},
     "output_type": "display_data"
    }
   ],
   "source": [
    "compare_PRJ_fixed_attr(newdf,\"thresh\",\"GTLSA\",\"basic\",'J')\n",
    "\n",
    "compare_PRJ_fixed_attr(newdf,\"num_workers\",\"GTLSA\",\"basic\",'J')"
   ]
  },
  {
   "cell_type": "code",
   "execution_count": 191,
   "metadata": {},
   "outputs": [
    {
     "data": {
      "text/html": [
       "<div>\n",
       "<table border=\"1\" class=\"dataframe\">\n",
       "  <thead>\n",
       "    <tr style=\"text-align: right;\">\n",
       "      <th></th>\n",
       "      <th>num_workers</th>\n",
       "      <th>sample_num</th>\n",
       "      <th>objid</th>\n",
       "      <th>P [MV]</th>\n",
       "      <th>R [MV]</th>\n",
       "      <th>J [MV]</th>\n",
       "      <th>thresh</th>\n",
       "      <th>P [GT]</th>\n",
       "      <th>R [GT]</th>\n",
       "      <th>J [GT]</th>\n",
       "      <th>...</th>\n",
       "      <th>J [basic]</th>\n",
       "      <th>P [GTLSA]</th>\n",
       "      <th>R [GTLSA]</th>\n",
       "      <th>J [GTLSA]</th>\n",
       "      <th>P [isoGT]</th>\n",
       "      <th>R [isoGT]</th>\n",
       "      <th>J [isoGT]</th>\n",
       "      <th>P [isoGTLSA]</th>\n",
       "      <th>R [isoGTLSA]</th>\n",
       "      <th>J [isoGTLSA]</th>\n",
       "    </tr>\n",
       "  </thead>\n",
       "  <tbody>\n",
       "    <tr>\n",
       "      <th>87</th>\n",
       "      <td>5</td>\n",
       "      <td>0</td>\n",
       "      <td>7</td>\n",
       "      <td>0.898474</td>\n",
       "      <td>0.563070</td>\n",
       "      <td>0.529387</td>\n",
       "      <td>-2</td>\n",
       "      <td>0.827345</td>\n",
       "      <td>0.604449</td>\n",
       "      <td>0.536744</td>\n",
       "      <td>...</td>\n",
       "      <td>0.529387</td>\n",
       "      <td>0.014124</td>\n",
       "      <td>0.964405</td>\n",
       "      <td>0.014117</td>\n",
       "      <td>0.884287</td>\n",
       "      <td>0.598443</td>\n",
       "      <td>0.554982</td>\n",
       "      <td>0.896425</td>\n",
       "      <td>0.596885</td>\n",
       "      <td>0.558377</td>\n",
       "    </tr>\n",
       "    <tr>\n",
       "      <th>88</th>\n",
       "      <td>5</td>\n",
       "      <td>0</td>\n",
       "      <td>7</td>\n",
       "      <td>0.898474</td>\n",
       "      <td>0.563070</td>\n",
       "      <td>0.529387</td>\n",
       "      <td>-1</td>\n",
       "      <td>0.827345</td>\n",
       "      <td>0.604449</td>\n",
       "      <td>0.536744</td>\n",
       "      <td>...</td>\n",
       "      <td>0.529387</td>\n",
       "      <td>0.014124</td>\n",
       "      <td>0.964405</td>\n",
       "      <td>0.014117</td>\n",
       "      <td>0.907760</td>\n",
       "      <td>0.593326</td>\n",
       "      <td>0.559589</td>\n",
       "      <td>0.908688</td>\n",
       "      <td>0.593326</td>\n",
       "      <td>0.559941</td>\n",
       "    </tr>\n",
       "    <tr>\n",
       "      <th>91</th>\n",
       "      <td>5</td>\n",
       "      <td>0</td>\n",
       "      <td>7</td>\n",
       "      <td>0.898474</td>\n",
       "      <td>0.563070</td>\n",
       "      <td>0.529387</td>\n",
       "      <td>2</td>\n",
       "      <td>0.827345</td>\n",
       "      <td>0.604449</td>\n",
       "      <td>0.536744</td>\n",
       "      <td>...</td>\n",
       "      <td>0.529387</td>\n",
       "      <td>0.449744</td>\n",
       "      <td>0.058732</td>\n",
       "      <td>0.054795</td>\n",
       "      <td>0.949843</td>\n",
       "      <td>0.539266</td>\n",
       "      <td>0.524335</td>\n",
       "      <td>0.949841</td>\n",
       "      <td>0.530812</td>\n",
       "      <td>0.516338</td>\n",
       "    </tr>\n",
       "    <tr>\n",
       "      <th>132</th>\n",
       "      <td>5</td>\n",
       "      <td>0</td>\n",
       "      <td>2</td>\n",
       "      <td>0.949744</td>\n",
       "      <td>0.976273</td>\n",
       "      <td>0.928316</td>\n",
       "      <td>2</td>\n",
       "      <td>0.929897</td>\n",
       "      <td>0.986034</td>\n",
       "      <td>0.917808</td>\n",
       "      <td>...</td>\n",
       "      <td>0.928316</td>\n",
       "      <td>0.350592</td>\n",
       "      <td>0.035591</td>\n",
       "      <td>0.033390</td>\n",
       "      <td>0.970317</td>\n",
       "      <td>0.947440</td>\n",
       "      <td>0.920753</td>\n",
       "      <td>0.979438</td>\n",
       "      <td>0.836912</td>\n",
       "      <td>0.822462</td>\n",
       "    </tr>\n",
       "    <tr>\n",
       "      <th>157</th>\n",
       "      <td>5</td>\n",
       "      <td>0</td>\n",
       "      <td>10</td>\n",
       "      <td>0.970109</td>\n",
       "      <td>0.969648</td>\n",
       "      <td>0.941518</td>\n",
       "      <td>2</td>\n",
       "      <td>0.961366</td>\n",
       "      <td>0.980971</td>\n",
       "      <td>0.943766</td>\n",
       "      <td>...</td>\n",
       "      <td>0.941518</td>\n",
       "      <td>0.352884</td>\n",
       "      <td>0.042800</td>\n",
       "      <td>0.039686</td>\n",
       "      <td>0.985537</td>\n",
       "      <td>0.961409</td>\n",
       "      <td>0.948033</td>\n",
       "      <td>0.989417</td>\n",
       "      <td>0.903373</td>\n",
       "      <td>0.894728</td>\n",
       "    </tr>\n",
       "    <tr>\n",
       "      <th>183</th>\n",
       "      <td>5</td>\n",
       "      <td>0</td>\n",
       "      <td>19</td>\n",
       "      <td>0.953104</td>\n",
       "      <td>0.882929</td>\n",
       "      <td>0.846169</td>\n",
       "      <td>-2</td>\n",
       "      <td>0.934346</td>\n",
       "      <td>0.928819</td>\n",
       "      <td>0.871913</td>\n",
       "      <td>...</td>\n",
       "      <td>0.846169</td>\n",
       "      <td>0.025196</td>\n",
       "      <td>0.961656</td>\n",
       "      <td>0.025171</td>\n",
       "      <td>0.918635</td>\n",
       "      <td>0.928003</td>\n",
       "      <td>0.857520</td>\n",
       "      <td>0.932400</td>\n",
       "      <td>0.936773</td>\n",
       "      <td>0.877196</td>\n",
       "    </tr>\n",
       "    <tr>\n",
       "      <th>193</th>\n",
       "      <td>5</td>\n",
       "      <td>0</td>\n",
       "      <td>21</td>\n",
       "      <td>1.000000</td>\n",
       "      <td>0.912607</td>\n",
       "      <td>0.912607</td>\n",
       "      <td>-2</td>\n",
       "      <td>0.987939</td>\n",
       "      <td>0.946258</td>\n",
       "      <td>0.935452</td>\n",
       "      <td>...</td>\n",
       "      <td>0.912607</td>\n",
       "      <td>0.021107</td>\n",
       "      <td>0.993722</td>\n",
       "      <td>0.021104</td>\n",
       "      <td>0.992350</td>\n",
       "      <td>0.944751</td>\n",
       "      <td>0.937921</td>\n",
       "      <td>0.992078</td>\n",
       "      <td>0.943496</td>\n",
       "      <td>0.936441</td>\n",
       "    </tr>\n",
       "    <tr>\n",
       "      <th>207</th>\n",
       "      <td>5</td>\n",
       "      <td>0</td>\n",
       "      <td>23</td>\n",
       "      <td>0.945923</td>\n",
       "      <td>0.937791</td>\n",
       "      <td>0.890073</td>\n",
       "      <td>2</td>\n",
       "      <td>0.943552</td>\n",
       "      <td>0.964000</td>\n",
       "      <td>0.911436</td>\n",
       "      <td>...</td>\n",
       "      <td>0.890073</td>\n",
       "      <td>0.691676</td>\n",
       "      <td>0.075403</td>\n",
       "      <td>0.072951</td>\n",
       "      <td>0.971339</td>\n",
       "      <td>0.906448</td>\n",
       "      <td>0.882835</td>\n",
       "      <td>0.971378</td>\n",
       "      <td>0.911761</td>\n",
       "      <td>0.887907</td>\n",
       "    </tr>\n",
       "    <tr>\n",
       "      <th>242</th>\n",
       "      <td>5</td>\n",
       "      <td>0</td>\n",
       "      <td>30</td>\n",
       "      <td>0.879012</td>\n",
       "      <td>0.984373</td>\n",
       "      <td>0.866914</td>\n",
       "      <td>2</td>\n",
       "      <td>0.879012</td>\n",
       "      <td>0.984373</td>\n",
       "      <td>0.866914</td>\n",
       "      <td>...</td>\n",
       "      <td>0.881969</td>\n",
       "      <td>0.315229</td>\n",
       "      <td>0.046257</td>\n",
       "      <td>0.042034</td>\n",
       "      <td>0.865645</td>\n",
       "      <td>0.988748</td>\n",
       "      <td>0.857201</td>\n",
       "      <td>0.847282</td>\n",
       "      <td>0.957181</td>\n",
       "      <td>0.816340</td>\n",
       "    </tr>\n",
       "    <tr>\n",
       "      <th>282</th>\n",
       "      <td>5</td>\n",
       "      <td>0</td>\n",
       "      <td>39</td>\n",
       "      <td>0.984364</td>\n",
       "      <td>0.988475</td>\n",
       "      <td>0.973194</td>\n",
       "      <td>2</td>\n",
       "      <td>0.984364</td>\n",
       "      <td>0.988475</td>\n",
       "      <td>0.973194</td>\n",
       "      <td>...</td>\n",
       "      <td>0.973194</td>\n",
       "      <td>0.457849</td>\n",
       "      <td>0.016653</td>\n",
       "      <td>0.016331</td>\n",
       "      <td>0.988387</td>\n",
       "      <td>0.982660</td>\n",
       "      <td>0.971443</td>\n",
       "      <td>0.991174</td>\n",
       "      <td>0.986783</td>\n",
       "      <td>0.978188</td>\n",
       "    </tr>\n",
       "    <tr>\n",
       "      <th>283</th>\n",
       "      <td>5</td>\n",
       "      <td>0</td>\n",
       "      <td>42</td>\n",
       "      <td>0.955421</td>\n",
       "      <td>0.874118</td>\n",
       "      <td>0.839864</td>\n",
       "      <td>-2</td>\n",
       "      <td>0.919855</td>\n",
       "      <td>0.936216</td>\n",
       "      <td>0.865608</td>\n",
       "      <td>...</td>\n",
       "      <td>0.839864</td>\n",
       "      <td>0.023205</td>\n",
       "      <td>0.971328</td>\n",
       "      <td>0.023189</td>\n",
       "      <td>0.955421</td>\n",
       "      <td>0.874118</td>\n",
       "      <td>0.839864</td>\n",
       "      <td>0.935845</td>\n",
       "      <td>0.910304</td>\n",
       "      <td>0.856834</td>\n",
       "    </tr>\n",
       "    <tr>\n",
       "      <th>286</th>\n",
       "      <td>5</td>\n",
       "      <td>0</td>\n",
       "      <td>42</td>\n",
       "      <td>0.955421</td>\n",
       "      <td>0.874118</td>\n",
       "      <td>0.839864</td>\n",
       "      <td>1</td>\n",
       "      <td>0.941559</td>\n",
       "      <td>0.909077</td>\n",
       "      <td>0.860522</td>\n",
       "      <td>...</td>\n",
       "      <td>0.839864</td>\n",
       "      <td>0.791531</td>\n",
       "      <td>0.149034</td>\n",
       "      <td>0.143405</td>\n",
       "      <td>0.966309</td>\n",
       "      <td>0.813554</td>\n",
       "      <td>0.791114</td>\n",
       "      <td>0.934540</td>\n",
       "      <td>0.102883</td>\n",
       "      <td>0.102146</td>\n",
       "    </tr>\n",
       "    <tr>\n",
       "      <th>287</th>\n",
       "      <td>5</td>\n",
       "      <td>0</td>\n",
       "      <td>42</td>\n",
       "      <td>0.955421</td>\n",
       "      <td>0.874118</td>\n",
       "      <td>0.839864</td>\n",
       "      <td>2</td>\n",
       "      <td>0.941559</td>\n",
       "      <td>0.909077</td>\n",
       "      <td>0.860522</td>\n",
       "      <td>...</td>\n",
       "      <td>0.839864</td>\n",
       "      <td>0.791391</td>\n",
       "      <td>0.146581</td>\n",
       "      <td>0.141128</td>\n",
       "      <td>1.000000</td>\n",
       "      <td>0.079730</td>\n",
       "      <td>0.079730</td>\n",
       "      <td>0.998208</td>\n",
       "      <td>0.085403</td>\n",
       "      <td>0.085390</td>\n",
       "    </tr>\n",
       "    <tr>\n",
       "      <th>298</th>\n",
       "      <td>5</td>\n",
       "      <td>0</td>\n",
       "      <td>45</td>\n",
       "      <td>0.959945</td>\n",
       "      <td>0.876376</td>\n",
       "      <td>0.845460</td>\n",
       "      <td>-2</td>\n",
       "      <td>0.932591</td>\n",
       "      <td>0.922709</td>\n",
       "      <td>0.865018</td>\n",
       "      <td>...</td>\n",
       "      <td>0.845460</td>\n",
       "      <td>0.017407</td>\n",
       "      <td>0.987326</td>\n",
       "      <td>0.017403</td>\n",
       "      <td>0.939272</td>\n",
       "      <td>0.922294</td>\n",
       "      <td>0.870392</td>\n",
       "      <td>0.936130</td>\n",
       "      <td>0.931851</td>\n",
       "      <td>0.876148</td>\n",
       "    </tr>\n",
       "    <tr>\n",
       "      <th>766</th>\n",
       "      <td>10</td>\n",
       "      <td>0</td>\n",
       "      <td>29</td>\n",
       "      <td>0.878215</td>\n",
       "      <td>0.955079</td>\n",
       "      <td>0.843378</td>\n",
       "      <td>-2</td>\n",
       "      <td>0.824465</td>\n",
       "      <td>0.976670</td>\n",
       "      <td>0.808541</td>\n",
       "      <td>...</td>\n",
       "      <td>0.828303</td>\n",
       "      <td>0.181268</td>\n",
       "      <td>0.988842</td>\n",
       "      <td>0.180898</td>\n",
       "      <td>0.830147</td>\n",
       "      <td>0.968845</td>\n",
       "      <td>0.808562</td>\n",
       "      <td>0.728959</td>\n",
       "      <td>0.985220</td>\n",
       "      <td>0.721073</td>\n",
       "    </tr>\n",
       "  </tbody>\n",
       "</table>\n",
       "<p>15 rows × 22 columns</p>\n",
       "</div>"
      ],
      "text/plain": [
       "     num_workers  sample_num  objid    P [MV]    R [MV]    J [MV]  thresh  \\\n",
       "87             5           0      7  0.898474  0.563070  0.529387      -2   \n",
       "88             5           0      7  0.898474  0.563070  0.529387      -1   \n",
       "91             5           0      7  0.898474  0.563070  0.529387       2   \n",
       "132            5           0      2  0.949744  0.976273  0.928316       2   \n",
       "157            5           0     10  0.970109  0.969648  0.941518       2   \n",
       "183            5           0     19  0.953104  0.882929  0.846169      -2   \n",
       "193            5           0     21  1.000000  0.912607  0.912607      -2   \n",
       "207            5           0     23  0.945923  0.937791  0.890073       2   \n",
       "242            5           0     30  0.879012  0.984373  0.866914       2   \n",
       "282            5           0     39  0.984364  0.988475  0.973194       2   \n",
       "283            5           0     42  0.955421  0.874118  0.839864      -2   \n",
       "286            5           0     42  0.955421  0.874118  0.839864       1   \n",
       "287            5           0     42  0.955421  0.874118  0.839864       2   \n",
       "298            5           0     45  0.959945  0.876376  0.845460      -2   \n",
       "766           10           0     29  0.878215  0.955079  0.843378      -2   \n",
       "\n",
       "       P [GT]    R [GT]    J [GT]      ...       J [basic]  P [GTLSA]  \\\n",
       "87   0.827345  0.604449  0.536744      ...        0.529387   0.014124   \n",
       "88   0.827345  0.604449  0.536744      ...        0.529387   0.014124   \n",
       "91   0.827345  0.604449  0.536744      ...        0.529387   0.449744   \n",
       "132  0.929897  0.986034  0.917808      ...        0.928316   0.350592   \n",
       "157  0.961366  0.980971  0.943766      ...        0.941518   0.352884   \n",
       "183  0.934346  0.928819  0.871913      ...        0.846169   0.025196   \n",
       "193  0.987939  0.946258  0.935452      ...        0.912607   0.021107   \n",
       "207  0.943552  0.964000  0.911436      ...        0.890073   0.691676   \n",
       "242  0.879012  0.984373  0.866914      ...        0.881969   0.315229   \n",
       "282  0.984364  0.988475  0.973194      ...        0.973194   0.457849   \n",
       "283  0.919855  0.936216  0.865608      ...        0.839864   0.023205   \n",
       "286  0.941559  0.909077  0.860522      ...        0.839864   0.791531   \n",
       "287  0.941559  0.909077  0.860522      ...        0.839864   0.791391   \n",
       "298  0.932591  0.922709  0.865018      ...        0.845460   0.017407   \n",
       "766  0.824465  0.976670  0.808541      ...        0.828303   0.181268   \n",
       "\n",
       "     R [GTLSA]  J [GTLSA]  P [isoGT]  R [isoGT]  J [isoGT]  P [isoGTLSA]  \\\n",
       "87    0.964405   0.014117   0.884287   0.598443   0.554982      0.896425   \n",
       "88    0.964405   0.014117   0.907760   0.593326   0.559589      0.908688   \n",
       "91    0.058732   0.054795   0.949843   0.539266   0.524335      0.949841   \n",
       "132   0.035591   0.033390   0.970317   0.947440   0.920753      0.979438   \n",
       "157   0.042800   0.039686   0.985537   0.961409   0.948033      0.989417   \n",
       "183   0.961656   0.025171   0.918635   0.928003   0.857520      0.932400   \n",
       "193   0.993722   0.021104   0.992350   0.944751   0.937921      0.992078   \n",
       "207   0.075403   0.072951   0.971339   0.906448   0.882835      0.971378   \n",
       "242   0.046257   0.042034   0.865645   0.988748   0.857201      0.847282   \n",
       "282   0.016653   0.016331   0.988387   0.982660   0.971443      0.991174   \n",
       "283   0.971328   0.023189   0.955421   0.874118   0.839864      0.935845   \n",
       "286   0.149034   0.143405   0.966309   0.813554   0.791114      0.934540   \n",
       "287   0.146581   0.141128   1.000000   0.079730   0.079730      0.998208   \n",
       "298   0.987326   0.017403   0.939272   0.922294   0.870392      0.936130   \n",
       "766   0.988842   0.180898   0.830147   0.968845   0.808562      0.728959   \n",
       "\n",
       "     R [isoGTLSA]  J [isoGTLSA]  \n",
       "87       0.596885      0.558377  \n",
       "88       0.593326      0.559941  \n",
       "91       0.530812      0.516338  \n",
       "132      0.836912      0.822462  \n",
       "157      0.903373      0.894728  \n",
       "183      0.936773      0.877196  \n",
       "193      0.943496      0.936441  \n",
       "207      0.911761      0.887907  \n",
       "242      0.957181      0.816340  \n",
       "282      0.986783      0.978188  \n",
       "283      0.910304      0.856834  \n",
       "286      0.102883      0.102146  \n",
       "287      0.085403      0.085390  \n",
       "298      0.931851      0.876148  \n",
       "766      0.985220      0.721073  \n",
       "\n",
       "[15 rows x 22 columns]"
      ]
     },
     "execution_count": 191,
     "metadata": {},
     "output_type": "execute_result"
    }
   ],
   "source": [
    "newdf[newdf[\"J [GTLSA]\"]<0.2]"
   ]
  },
  {
   "cell_type": "code",
   "execution_count": 215,
   "metadata": {},
   "outputs": [
    {
     "name": "stdout",
     "output_type": "stream",
     "text": [
      "basic : 0.893\n",
      "MV : 0.882\n",
      "GT : 0.898\n",
      "GTLSA : 0.884\n",
      "isoGT : 0.911\n",
      "isoGTLSA : 0.912\n"
     ]
    }
   ],
   "source": [
    "for algo in ['basic','MV','GT','GTLSA','isoGT','isoGTLSA']:\n",
    "    print algo,\": %.3f\" %newdf.groupby([\"num_workers\",\"sample_num\",\"objid\"])[\"J [{}]\".format(algo)].max().mean()"
   ]
  },
  {
   "cell_type": "code",
   "execution_count": null,
   "metadata": {
    "collapsed": true
   },
   "outputs": [],
   "source": []
  }
 ],
 "metadata": {
  "kernelspec": {
   "display_name": "Python 2",
   "language": "python",
   "name": "python2"
  },
  "language_info": {
   "codemirror_mode": {
    "name": "ipython",
    "version": 2
   },
   "file_extension": ".py",
   "mimetype": "text/x-python",
   "name": "python",
   "nbconvert_exporter": "python",
   "pygments_lexer": "ipython2",
   "version": "2.7.6"
  }
 },
 "nbformat": 4,
 "nbformat_minor": 2
}
