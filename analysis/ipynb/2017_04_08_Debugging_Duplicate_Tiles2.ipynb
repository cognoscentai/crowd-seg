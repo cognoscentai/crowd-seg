{
 "cells": [
  {
   "cell_type": "code",
   "execution_count": 1,
   "metadata": {
    "collapsed": false
   },
   "outputs": [
    {
     "name": "stdout",
     "output_type": "stream",
     "text": [
      "/Users/dorislee/Desktop/Research/seg/crowd-seg/analysis/TileEM\n"
     ]
    }
   ],
   "source": [
    "cd ../TileEM/"
   ]
  },
  {
   "cell_type": "code",
   "execution_count": 2,
   "metadata": {
    "collapsed": false
   },
   "outputs": [
    {
     "name": "stdout",
     "output_type": "stream",
     "text": [
      "Populating the interactive namespace from numpy and matplotlib\n"
     ]
    }
   ],
   "source": [
    "%pylab inline\n",
    "from TileEM_plot_toolbox import *\n",
    "import warnings\n",
    "warnings.filterwarnings('ignore')"
   ]
  },
  {
   "cell_type": "code",
   "execution_count": 3,
   "metadata": {
    "collapsed": true
   },
   "outputs": [],
   "source": [
    "DATA_DIR=\"output\"\n",
    "os.chdir(DATA_DIR)"
   ]
  },
  {
   "cell_type": "markdown",
   "metadata": {},
   "source": [
    "# Problem: The tiles are not exactly non-overalpping \n",
    "\n",
    "## Debugging BB2TileExact "
   ]
  },
  {
   "cell_type": "code",
   "execution_count": 4,
   "metadata": {
    "collapsed": true
   },
   "outputs": [],
   "source": [
    "def overlap(a,b):\n",
    "    if a.area>b.area:\n",
    "        larger_area = a.area\n",
    "    else:\n",
    "        larger_area = b.area\n",
    "    return a.intersection(b).area/larger_area"
   ]
  },
  {
   "cell_type": "code",
   "execution_count": 126,
   "metadata": {
    "collapsed": true
   },
   "outputs": [],
   "source": [
    "def compute_unique_tileset(tiles,PLOT=True):\n",
    "    duplicate_count = 0\n",
    "    verified_tiles = []\n",
    "    duplicated=False\n",
    "    for tidx in tqdm(range(len(tiles))): \n",
    "        t=tiles[tidx]\n",
    "        for vtidx in range(len(verified_tiles)):\n",
    "            vt = tiles[vtidx]\n",
    "            try:\n",
    "                overlap_score=overlap(vt,t)\n",
    "                if overlap_score>0.2:\n",
    "                    print \"Duplicate tiles: \",tidx,vtidx, overlap_score\n",
    "                    if PLOT:\n",
    "                        plt.figure()\n",
    "                        plt.title(\"[{0},{1}]{2}\".format(tidx,vtidx, overlap_score))\n",
    "                        plot_coords(vt)\n",
    "                        plot_coords(t,color=\"blue\")\n",
    "                    duplicated=True\n",
    "                    if vt.area>t.area:\n",
    "                        verified_tiles.remove(vt)\n",
    "                        new_vt = vt.difference(t)\n",
    "                        verified_tiles.append(new_vt)\n",
    "                        verified_tiles.append(t)\n",
    "                    else:\n",
    "                        verified_tiles.remove(t)\n",
    "                        new_t = t.difference(vt)\n",
    "                        verified_tiles.append(new_t)\n",
    "                        verified_tiles.append(vt)\n",
    "                    duplicate_count+=1\n",
    "                    \n",
    "            except(shapely.geos.TopologicalError):\n",
    "\n",
    "                print \"Topological Error\",tidx,vtidx\n",
    "        if not duplicated:\n",
    "            verified_tiles.append(t)\n",
    "    return  duplicated, verified_tiles"
   ]
  },
  {
   "cell_type": "code",
   "execution_count": 8,
   "metadata": {
    "collapsed": true
   },
   "outputs": [],
   "source": [
    "def compute_verfied_tiles_duplication_rate(tiles):\n",
    "    duplicate_count = 0\n",
    "    verified_tiles = []\n",
    "    for tidx in tqdm(range(len(tiles))): \n",
    "        t=tiles[tidx]\n",
    "        duplicated=False\n",
    "        for vtidx in range(len(verified_tiles)):\n",
    "            vt = tiles[vtidx]\n",
    "            try:\n",
    "                overlap_score=overlap(vt,t)\n",
    "                if overlap_score>0.2:\n",
    "                    print \"Duplicate tiles: \",tidx,vtidx, overlap_score\n",
    "                    duplicate_count+=1\n",
    "                    duplicated=True\n",
    "                    break\n",
    "            except(shapely.geos.TopologicalError):\n",
    "                print \"Error\",tidx,vtidx\n",
    "        if not duplicated:\n",
    "            verified_tiles.append(t)\n",
    "    print \"Duplication rate: \", duplicate_count/float(len(tiles))\n",
    "    return verified_tiles"
   ]
  },
  {
   "cell_type": "code",
   "execution_count": 6,
   "metadata": {
    "collapsed": false
   },
   "outputs": [],
   "source": [
    "def slow_cascaded_union(tiles):\n",
    "    all_tiles  = copy.deepcopy(tiles)\n",
    "    Utile=tiles[0]\n",
    "    all_tiles.remove(tiles[0])\n",
    "    i=1\n",
    "    loss_tiles = []\n",
    "    while(len(all_tiles)>0):\n",
    "        tile = tiles[i]\n",
    "        try:\n",
    "            Utile = Utile.union(tile)\n",
    "        except(shapely.geos.TopologicalError):\n",
    "            try:\n",
    "                Utile =Utile.buffer(0).union(tile.buffer(0))\n",
    "            except(shapely.geos.TopologicalError):\n",
    "#                 return tile,Utile \n",
    "                #print \"Throwing away:\", tile.area \n",
    "                loss_tiles.append(tile)\n",
    "        all_tiles.remove(tile)\n",
    "        i+=1\n",
    "    try:\n",
    "        Utile=Utile.union(cascaded_union(loss_tiles))\n",
    "    except(shapely.geos.TopologicalError):\n",
    "        try:\n",
    "            Utile=Utile.buffer(9e-13).union(cascaded_union(loss_tiles).buffer(0))\n",
    "        except(shapely.geos.TopologicalError):\n",
    "            loss_area = sum([t.area for t in loss_tiles])\n",
    "            print \"Throwing away:\", loss_area\n",
    "    return loss_tiles,Utile"
   ]
  },
  {
   "cell_type": "code",
   "execution_count": 7,
   "metadata": {
    "collapsed": true
   },
   "outputs": [],
   "source": [
    "def visualizeTilesSeparate(tiles,colorful=True):\n",
    "    plt.figure()\n",
    "    colors=cm.rainbow(np.linspace(0,1,len(tiles)))\n",
    "    for t,i in zip(tiles,range(len(tiles))): \n",
    "#         plt.figure()\n",
    "        if colorful: \n",
    "            c = colors[i]\n",
    "        else: \n",
    "            c=\"lime\"\n",
    "        if type(t)==shapely.geometry.polygon.Polygon:\n",
    "            plot_coords(t,color=c,reverse_xy=True,fill_color=c)\n",
    "        elif type(t)==shapely.geometry.MultiPolygon or type(t)==shapely.geometry.collection:\n",
    "            for region in t:\n",
    "                \n",
    "                if type(t)!=shapely.geometry.LineString:\n",
    "                    plot_coords(region,color=c,reverse_xy=True,fill_color=c)"
   ]
  },
  {
   "cell_type": "code",
   "execution_count": 9,
   "metadata": {
    "collapsed": false
   },
   "outputs": [],
   "source": [
    "def createObjIndicatorMatrix(objid,tiles=\"\",load_existing_tiles_from_file=False, PLOT=False,sampleNworkers=-1,random_state=111,PRINT=False,SAVE=False,EXCLUDE_BBG=True,overlap_threshold=0.8,tile_only=False,tqdm_on=False):\n",
    "\n",
    "    # Ji_tbl (bb_info) is the set of all workers that annotated object i \n",
    "    bb_objects = bb_info[bb_info[\"object_id\"]==objid]\n",
    "    if EXCLUDE_BBG: bb_objects =  bb_objects[bb_objects.worker_id!=3]\n",
    "    # Sampling Data from Ji table \n",
    "    if sampleNworkers>0 and sampleNworkers<len(bb_objects):\n",
    "        bb_objects = bb_objects.sample(n=sampleNworkers,random_state=random_state)\n",
    "    # Create a list of polygons based on worker BBs \n",
    "    xylocs = [list(zip(*process_raw_locs([x,y]))) for x,y in zip(bb_objects[\"x_locs\"],bb_objects[\"y_locs\"])]\n",
    "    BB = []\n",
    "    for xyloc in xylocs:\n",
    "        BB.append(Polygon(xyloc).buffer(0))\n",
    "\n",
    "    #Compute Tiles \n",
    "    if load_existing_tiles_from_file:\n",
    "        tiles = pkl.load(open(\"{0}/tiles{1}.pkl\".format(DATA_DIR,objid),'r'))\n",
    "        #worker_lst= pkl.load(open(\"{0}/worker{1}.pkl\".format(DATA_DIR,objid),'r'))\n",
    "    elif tiles==\"\":\n",
    "        tiles = BB2TileExact(objid,BB,tqdm_on=tqdm_on,save_tiles=SAVE)\n",
    "    if tile_only:\n",
    "    \tif PLOT: visualizeTiles(tiles)\n",
    "    \treturn tiles,0\n",
    "    # Convert set of tiles to indicator matrix for all workers and tiles\n",
    "    # by checking if the worker's BB contains the tile pieces\n",
    "    # The indicator matrix is a (N + 1) X M matrix, \n",
    "    # with first N rows indicator vectors for each annotator and\n",
    "    # the last row being region sizes\n",
    "    worker_lst = list(bb_objects.worker_id)\n",
    "    M = len(tiles)\n",
    "    N = len(worker_lst)\n",
    "    if PRINT: \n",
    "        print \"Number of non-overlapping tile regions (M) : \",M\n",
    "        print \"Number of workers (N) : \",N\n",
    "    indicator_matrix = np.zeros((N+1,M))\n",
    "\n",
    "    for  wi in range(N):\n",
    "        worker_id = worker_lst[wi]\n",
    "        worker_bb_info = bb_objects[bb_objects[\"worker_id\"]==worker_id]\n",
    "        worker_BB_polygon = Polygon(zip(*process_raw_locs([worker_bb_info[\"x_locs\"].values[0],worker_bb_info[\"y_locs\"].values[0]]))).buffer(0)\n",
    "\n",
    "        # Check if worker's polygon contains this tile\n",
    "        for tile_i in range(M):\n",
    "            tile = tiles[tile_i]\n",
    "            if worker_BB_polygon.contains(tile.centroid):\n",
    "                indicator_matrix[wi][tile_i]=1\n",
    "            else:\n",
    "            \ttry:\n",
    "            \t\ttileBB_overlap = tile.intersection(worker_BB_polygon).area/float(tile.area)\n",
    "            \t\tif tileBB_overlap>=overlap_threshold:\n",
    "            \t\t\tindicator_matrix[wi][tile_i]=1\n",
    "            \texcept(shapely.errors.TopologicalError):\n",
    "            \t\tpass\n",
    "\n",
    "    # The last row of the indicator matrix is the tile area\n",
    "    for tile_i in range(M):\n",
    "        tile=tiles[tile_i]\n",
    "        indicator_matrix[-1][tile_i]=tile.area\n",
    "    # Debug plotting all tiles that have not been voted by workers \n",
    "    all_unvoted_tiles=np.where(np.sum(indicator_matrix[:-1],axis=0)==0)[0]\n",
    "    if PRINT:\n",
    "        print \"all unvoted tiles:\",all_unvoted_tiles\n",
    "        print \"all unvoted workers:\",np.where(np.sum(indicator_matrix,axis=1)==0)[0]\n",
    "    if PLOT or PRINT:\n",
    "        print \"Object \",objid\n",
    "        sanity_check(indicator_matrix,PLOT)\n",
    "    if SAVE:\n",
    "    \tpkl.dump(worker_lst,open('../{0}/worker{1}.pkl'.format(DATA_DIR,objid),'w'))\n",
    "    \tpkl.dump(indicator_matrix,open('../{0}/indMat{1}.pkl'.format(DATA_DIR,objid),'w'))\n",
    "    return worker_lst,tiles,indicator_matrix"
   ]
  },
  {
   "cell_type": "code",
   "execution_count": 10,
   "metadata": {
    "collapsed": false
   },
   "outputs": [],
   "source": [
    "# verified_tiles = compute_verfied_tiles_duplication_rate(tiles)"
   ]
  },
  {
   "cell_type": "code",
   "execution_count": 11,
   "metadata": {
    "collapsed": false
   },
   "outputs": [],
   "source": [
    "def visualizeTiles(tiles,colorful=True):\n",
    "    plt.figure()\n",
    "    colormap = plt.cm.Paired\n",
    "    colors = [colormap(i) for i in np.linspace(0, 1,len(tiles))]\n",
    "    for t,i in zip(tiles,range(len(tiles))): \n",
    "        if colorful: \n",
    "            c = colors[i]\n",
    "        else: \n",
    "            c=\"lime\"\n",
    "        if type(t)==shapely.geometry.polygon.Polygon:\n",
    "            plot_coords(t,color=c,reverse_xy=True)\n",
    "        elif type(t)==shapely.geometry.MultiPolygon or type(t)==shapely.geometry.collection:\n",
    "            for region in t:\n",
    "                if type(t)!=shapely.geometry.LineString:\n",
    "                    plot_coords(region,color=c,reverse_xy=True)"
   ]
  },
  {
   "cell_type": "code",
   "execution_count": 140,
   "metadata": {
    "collapsed": false,
    "scrolled": true
   },
   "outputs": [
    {
     "name": "stderr",
     "output_type": "stream",
     "text": [
      "                                     "
     ]
    },
    {
     "name": "stdout",
     "output_type": "stream",
     "text": [
      "------------------------------Adding BB0------------------------------\n",
      "------------------------------Adding BB1------------------------------\n",
      "----------- All tiles before leftover calculation is non-overlapping ---------------\n",
      "Bi-(Bi intersect Uorig_tiles)\n",
      "Adding leftovers starting:  4\n",
      "Finished leftovers starting:  7\n",
      "------------------------------Adding BB2------------------------------\n",
      "----------- All tiles before leftover calculation is non-overlapping ---------------\n",
      "Bi-(Bi intersect Uorig_tiles)\n",
      "Adding leftovers starting: "
     ]
    },
    {
     "name": "stderr",
     "output_type": "stream",
     "text": [
      " 30%|███       | 3/10 [00:00<00:00,  8.96it/s]"
     ]
    },
    {
     "name": "stdout",
     "output_type": "stream",
     "text": [
      " 29\n",
      "Finished leftovers starting:  39\n",
      "------------------------------Adding BB3------------------------------"
     ]
    },
    {
     "name": "stderr",
     "output_type": "stream",
     "text": [
      "                                                "
     ]
    },
    {
     "name": "stdout",
     "output_type": "stream",
     "text": [
      "\n",
      "----------- All tiles before leftover calculation is non-overlapping ---------------\n",
      "Bi-(Bi intersect Uorig_tiles)\n",
      "Adding leftovers starting: "
     ]
    },
    {
     "name": "stderr",
     "output_type": "stream",
     "text": [
      "                                                "
     ]
    },
    {
     "name": "stdout",
     "output_type": "stream",
     "text": [
      " 67\n",
      "Finished leftovers starting:  70\n",
      "------------------------------Adding BB4------------------------------"
     ]
    },
    {
     "name": "stderr",
     "output_type": "stream",
     "text": [
      "                                                "
     ]
    },
    {
     "name": "stdout",
     "output_type": "stream",
     "text": [
      "\n",
      "----------- All tiles before leftover calculation is non-overlapping ---------------"
     ]
    },
    {
     "name": "stderr",
     "output_type": "stream",
     "text": [
      "\r",
      "ERROR:shapely.geos:TopologyException: found non-noded intersection between LINESTRING (535.052 248.345, 536.739 253.071) and LINESTRING (535.052 248.345, 538.045 256.727) at 535.24490154631417 248.8857243296795\n"
     ]
    },
    {
     "name": "stdout",
     "output_type": "stream",
     "text": [
      "\n",
      "Bi-(Bi intersect Uorig_tiles)\n",
      "First toplological error, tile"
     ]
    },
    {
     "name": "stderr",
     "output_type": "stream",
     "text": [
      "ERROR:shapely.geos:TopologyException: found non-noded intersection between LINESTRING (519.692 334.692, 530.182 334.273) and LINESTRING (530.182 334.273, 525.676 334.453) at 529.39189382046516 334.3043242471814\n",
      "ERROR:shapely.geos:TopologyException: found non-noded intersection between LINESTRING (533 246, 527.207 242.276) and LINESTRING (538.045 256.727, 527.207 242.276) at 527.2068965517243 242.27586206896567\n"
     ]
    },
    {
     "name": "stdout",
     "output_type": "stream",
     "text": [
      " 38\n",
      "First toplological error, tile 45\n",
      "First toplological error, tile 55\n",
      "Adding leftovers starting: "
     ]
    },
    {
     "name": "stderr",
     "output_type": "stream",
     "text": [
      "                                                "
     ]
    },
    {
     "name": "stdout",
     "output_type": "stream",
     "text": [
      " 105\n",
      "Finished leftovers starting:  113\n",
      "------------------------------Adding BB5------------------------------"
     ]
    },
    {
     "name": "stderr",
     "output_type": "stream",
     "text": [
      "                                                "
     ]
    },
    {
     "name": "stdout",
     "output_type": "stream",
     "text": [
      "\n",
      "----------- All tiles before leftover calculation is non-overlapping ---------------"
     ]
    },
    {
     "name": "stderr",
     "output_type": "stream",
     "text": [
      "\r",
      "ERROR:shapely.geos:TopologyException: found non-noded intersection between LINESTRING (386.815 260.579, 386.815 260.579) and LINESTRING (385.538 257.038, 386.815 260.579) at 386.81523500810374 260.578606158833\n"
     ]
    },
    {
     "name": "stdout",
     "output_type": "stream",
     "text": [
      "\n",
      "Bi-(Bi intersect Uorig_tiles)\n",
      "First toplological error, tile"
     ]
    },
    {
     "name": "stderr",
     "output_type": "stream",
     "text": [
      "ERROR:shapely.geos:TopologyException: found non-noded intersection between LINESTRING (533.822 280.257, 532.97 283.876) and LINESTRING (532.97 283.876, 538.352 286.268) at 532.97041420118342 283.87573964497039\n"
     ]
    },
    {
     "name": "stdout",
     "output_type": "stream",
     "text": [
      " 114\n",
      "First toplological error, tile 153\n",
      "Adding leftovers starting: "
     ]
    },
    {
     "name": "stderr",
     "output_type": "stream",
     "text": [
      " 60%|██████    | 6/10 [00:11<00:07,  0.52it/s]"
     ]
    },
    {
     "name": "stdout",
     "output_type": "stream",
     "text": [
      " 177\n",
      "Finished leftovers starting:  177\n",
      "------------------------------Adding BB6------------------------------"
     ]
    },
    {
     "name": "stderr",
     "output_type": "stream",
     "text": [
      "                                                 "
     ]
    },
    {
     "name": "stdout",
     "output_type": "stream",
     "text": [
      "\n",
      "----------- All tiles before leftover calculation is non-overlapping ---------------"
     ]
    },
    {
     "name": "stderr",
     "output_type": "stream",
     "text": [
      "\r",
      "ERROR:shapely.geos:TopologyException: found non-noded intersection between LINESTRING (533 282, 535.844 274.281) and LINESTRING (535.84 274.288, 535.844 274.281) at 535.84374999999989 274.28125000000028\n"
     ]
    },
    {
     "name": "stdout",
     "output_type": "stream",
     "text": [
      "\n",
      "Bi-(Bi intersect Uorig_tiles)\n",
      "First toplological error, tile"
     ]
    },
    {
     "name": "stderr",
     "output_type": "stream",
     "text": [
      "ERROR:shapely.geos:TopologyException: found non-noded intersection between LINESTRING (558.061 296.515, 563.548 304.355) and LINESTRING (562 309, 563.548 304.355) at 563.54838709677415 304.35483870967744\n"
     ]
    },
    {
     "name": "stdout",
     "output_type": "stream",
     "text": [
      " 198\n",
      "First toplological error, tile"
     ]
    },
    {
     "name": "stderr",
     "output_type": "stream",
     "text": [
      "ERROR:shapely.geos:TopologyException: found non-noded intersection between LINESTRING (534.776 276.204, 534.14 278.907) and LINESTRING (534.776 276.204, 534.14 278.907) at 534.52119820558312 277.28490762627132\n"
     ]
    },
    {
     "name": "stdout",
     "output_type": "stream",
     "text": [
      " 209\n",
      "First toplological error, tile"
     ]
    },
    {
     "name": "stderr",
     "output_type": "stream",
     "text": [
      "ERROR:shapely.geos:TopologyException: found non-noded intersection between LINESTRING (534.14 278.907, 534.14 278.907) and LINESTRING (534.14 278.907, 534.14 278.907) at 534.13953488372101 278.90697674418578\n"
     ]
    },
    {
     "name": "stdout",
     "output_type": "stream",
     "text": [
      " 225\n",
      "First toplological error, tile 226\n",
      "Adding leftovers starting:  230\n",
      "Finished leftovers starting: "
     ]
    },
    {
     "name": "stderr",
     "output_type": "stream",
     "text": [
      " 89%|████████▉ | 210/236 [00:05<00:00, 37.79it/s]"
     ]
    },
    {
     "name": "stdout",
     "output_type": "stream",
     "text": [
      " 236\n",
      "Duplicate tiles:  230 100 1.0\n",
      "Duplicate tiles: "
     ]
    },
    {
     "name": "stderr",
     "output_type": "stream",
     "text": [
      "\r",
      "                                                 "
     ]
    },
    {
     "name": "stdout",
     "output_type": "stream",
     "text": [
      " 231 84 0.48294965685\n",
      "BAD: BB, continuing but remove duplicates"
     ]
    },
    {
     "name": "stderr",
     "output_type": "stream",
     "text": [
      "                                                 "
     ]
    },
    {
     "name": "stdout",
     "output_type": "stream",
     "text": [
      " 6\n",
      "------------------------------Adding BB7------------------------------\n",
      "----------- All tiles before leftover calculation is non-overlapping ---------------"
     ]
    },
    {
     "name": "stderr",
     "output_type": "stream",
     "text": [
      "\r",
      "ERROR:shapely.geos:TopologyException: found non-noded intersection between LINESTRING (562.455 297, 559.4 291.4) and LINESTRING (560.017 292.53, 559.4 291.4) at 559.54372182793361 291.66349001787842\n"
     ]
    },
    {
     "name": "stdout",
     "output_type": "stream",
     "text": [
      "\n",
      "Bi-(Bi intersect Uorig_tiles)\n",
      "First toplological error, tile"
     ]
    },
    {
     "name": "stderr",
     "output_type": "stream",
     "text": [
      "ERROR:shapely.geos:TopologyException: found non-noded intersection between LINESTRING (559 290.667, 553 286) and LINESTRING (559 290.667, 557 287) at 559 290.66666666666657\n",
      "ERROR:shapely.geos:TopologyException: found non-noded intersection between LINESTRING (565 306, 564.032 301.806) and LINESTRING (564.032 301.806, 564.135 302.784) at 564.0322580645161 301.80645161290323\n",
      "ERROR:shapely.geos:TopologyException: found non-noded intersection between LINESTRING (540.66 258.617, 535.348 249.174) and LINESTRING (535.348 249.174, 537.765 255.941) at 535.3478260869565 249.17391304347831\n"
     ]
    },
    {
     "name": "stdout",
     "output_type": "stream",
     "text": [
      " 28\n",
      "First toplological error, tile 29\n",
      "First toplological error, tile 30\n",
      "First toplological error, tile"
     ]
    },
    {
     "name": "stderr",
     "output_type": "stream",
     "text": [
      "ERROR:shapely.geos:TopologyException: found non-noded intersection between LINESTRING (536.619 266.73, 536.611 266.759) and LINESTRING (536.601 266.796, 538.617 259.404) at 536.61121779966879 266.75886806788151\n"
     ]
    },
    {
     "name": "stdout",
     "output_type": "stream",
     "text": [
      " 46\n",
      "First toplological error, tile"
     ]
    },
    {
     "name": "stderr",
     "output_type": "stream",
     "text": [
      "ERROR:shapely.geos:TopologyException: found non-noded intersection between LINESTRING (536.619 266.73, 536.611 266.759) and LINESTRING (536.601 266.796, 538.617 259.404) at 536.61121779966879 266.75886806788151\n"
     ]
    },
    {
     "name": "stdout",
     "output_type": "stream",
     "text": [
      " 135\n",
      "Throw out later : Topological error #67, tile"
     ]
    },
    {
     "name": "stderr",
     "output_type": "stream",
     "text": [
      "ERROR:shapely.geos:TopologyException: found non-noded intersection between LINESTRING (385 247.895, 385.438 247.434) and LINESTRING (385 247.895, 385.438 247.434) at 385.43603571076608 247.43575188340412\n"
     ]
    },
    {
     "name": "stdout",
     "output_type": "stream",
     "text": [
      " 135\n",
      "First toplological error, tile"
     ]
    },
    {
     "name": "stderr",
     "output_type": "stream",
     "text": [
      "ERROR:shapely.geos:TopologyException: found non-noded intersection between LINESTRING (536.619 266.73, 536.611 266.759) and LINESTRING (536.601 266.796, 538.617 259.404) at 536.61121779966879 266.75886806788151\n"
     ]
    },
    {
     "name": "stdout",
     "output_type": "stream",
     "text": [
      " 136\n",
      "Throw out later : Topological error #67, tile"
     ]
    },
    {
     "name": "stderr",
     "output_type": "stream",
     "text": [
      "ERROR:shapely.geos:TopologyException: found non-noded intersection between LINESTRING (536.619 266.73, 536.611 266.759) and LINESTRING (536.601 266.796, 538.617 259.404) at 536.61121779966879 266.75886806788151\n"
     ]
    },
    {
     "name": "stdout",
     "output_type": "stream",
     "text": [
      " 136\n",
      "First toplological error, tile"
     ]
    },
    {
     "name": "stderr",
     "output_type": "stream",
     "text": [
      "ERROR:shapely.geos:TopologyException: found non-noded intersection between LINESTRING (536.619 266.73, 536.611 266.759) and LINESTRING (536.601 266.796, 538.617 259.404) at 536.61121779966879 266.75886806788151\n"
     ]
    },
    {
     "name": "stdout",
     "output_type": "stream",
     "text": [
      " 137\n",
      "Throw out later : Topological error #67, tile"
     ]
    },
    {
     "name": "stderr",
     "output_type": "stream",
     "text": [
      "ERROR:shapely.geos:TopologyException: found non-noded intersection between LINESTRING (536.619 266.73, 536.611 266.759) and LINESTRING (536.601 266.796, 538.617 259.404) at 536.61121779966879 266.75886806788151\n"
     ]
    },
    {
     "name": "stdout",
     "output_type": "stream",
     "text": [
      " 137\n",
      "First toplological error, tile"
     ]
    },
    {
     "name": "stderr",
     "output_type": "stream",
     "text": [
      "ERROR:shapely.geos:TopologyException: found non-noded intersection between LINESTRING (536.619 266.73, 536.611 266.759) and LINESTRING (536.601 266.796, 538.617 259.404) at 536.61121779966879 266.75886806788151\n"
     ]
    },
    {
     "name": "stdout",
     "output_type": "stream",
     "text": [
      " 138\n",
      "Throw out later : Topological error #67, tile"
     ]
    },
    {
     "name": "stderr",
     "output_type": "stream",
     "text": [
      "ERROR:shapely.geos:TopologyException: found non-noded intersection between LINESTRING (536.619 266.73, 536.611 266.759) and LINESTRING (536.601 266.796, 538.617 259.404) at 536.61121779966879 266.75886806788151\n"
     ]
    },
    {
     "name": "stdout",
     "output_type": "stream",
     "text": [
      " 138\n",
      "First toplological error, tile"
     ]
    },
    {
     "name": "stderr",
     "output_type": "stream",
     "text": [
      "ERROR:shapely.geos:TopologyException: found non-noded intersection between LINESTRING (536.619 266.73, 536.611 266.759) and LINESTRING (536.601 266.796, 538.617 259.404) at 536.61121779966879 266.75886806788151\n"
     ]
    },
    {
     "name": "stdout",
     "output_type": "stream",
     "text": [
      " 139\n",
      "Throw out later : Topological error #67, tile"
     ]
    },
    {
     "name": "stderr",
     "output_type": "stream",
     "text": [
      "ERROR:shapely.geos:TopologyException: found non-noded intersection between LINESTRING (536.619 266.73, 536.611 266.759) and LINESTRING (536.601 266.796, 538.617 259.404) at 536.61121779966879 266.75886806788151\n"
     ]
    },
    {
     "name": "stdout",
     "output_type": "stream",
     "text": [
      " 139\n",
      "First toplological error, tile"
     ]
    },
    {
     "name": "stderr",
     "output_type": "stream",
     "text": [
      "ERROR:shapely.geos:TopologyException: found non-noded intersection between LINESTRING (536.619 266.73, 536.611 266.759) and LINESTRING (536.601 266.796, 538.617 259.404) at 536.61121779966879 266.75886806788151\n"
     ]
    },
    {
     "name": "stdout",
     "output_type": "stream",
     "text": [
      " 140\n",
      "Throw out later : Topological error #67, tile"
     ]
    },
    {
     "name": "stderr",
     "output_type": "stream",
     "text": [
      "ERROR:shapely.geos:TopologyException: found non-noded intersection between LINESTRING (536.619 266.73, 536.611 266.759) and LINESTRING (536.601 266.796, 538.617 259.404) at 536.61121779966879 266.75886806788151\n"
     ]
    },
    {
     "name": "stdout",
     "output_type": "stream",
     "text": [
      " 140\n",
      "First toplological error, tile"
     ]
    },
    {
     "name": "stderr",
     "output_type": "stream",
     "text": [
      "ERROR:shapely.geos:TopologyException: found non-noded intersection between LINESTRING (536.619 266.73, 536.611 266.759) and LINESTRING (536.601 266.796, 538.617 259.404) at 536.61121779966879 266.75886806788151\n"
     ]
    },
    {
     "name": "stdout",
     "output_type": "stream",
     "text": [
      " 141\n",
      "Throw out later : Topological error #67, tile"
     ]
    },
    {
     "name": "stderr",
     "output_type": "stream",
     "text": [
      "ERROR:shapely.geos:TopologyException: found non-noded intersection between LINESTRING (536.619 266.73, 536.611 266.759) and LINESTRING (536.601 266.796, 538.617 259.404) at 536.61121779966879 266.75886806788151\n"
     ]
    },
    {
     "name": "stdout",
     "output_type": "stream",
     "text": [
      " 141\n",
      "First toplological error, tile"
     ]
    },
    {
     "name": "stderr",
     "output_type": "stream",
     "text": [
      "ERROR:shapely.geos:TopologyException: found non-noded intersection between LINESTRING (536.619 266.73, 536.611 266.759) and LINESTRING (536.601 266.796, 538.617 259.404) at 536.61121779966879 266.75886806788151\n"
     ]
    },
    {
     "name": "stdout",
     "output_type": "stream",
     "text": [
      " 142\n",
      "Throw out later : Topological error #67, tile"
     ]
    },
    {
     "name": "stderr",
     "output_type": "stream",
     "text": [
      "ERROR:shapely.geos:TopologyException: found non-noded intersection between LINESTRING (536.619 266.73, 536.611 266.759) and LINESTRING (536.601 266.796, 538.617 259.404) at 536.61121779966879 266.75886806788151\n"
     ]
    },
    {
     "name": "stdout",
     "output_type": "stream",
     "text": [
      " 142\n",
      "First toplological error, tile"
     ]
    },
    {
     "name": "stderr",
     "output_type": "stream",
     "text": [
      "ERROR:shapely.geos:TopologyException: found non-noded intersection between LINESTRING (536.619 266.73, 536.611 266.759) and LINESTRING (536.601 266.796, 538.617 259.404) at 536.61121779966879 266.75886806788151\n"
     ]
    },
    {
     "name": "stdout",
     "output_type": "stream",
     "text": [
      " 143\n",
      "Throw out later : Topological error #67, tile"
     ]
    },
    {
     "name": "stderr",
     "output_type": "stream",
     "text": [
      "ERROR:shapely.geos:TopologyException: found non-noded intersection between LINESTRING (536.619 266.73, 536.611 266.759) and LINESTRING (536.601 266.796, 538.617 259.404) at 536.61121779966879 266.75886806788151\n"
     ]
    },
    {
     "name": "stdout",
     "output_type": "stream",
     "text": [
      " 143\n",
      "First toplological error, tile"
     ]
    },
    {
     "name": "stderr",
     "output_type": "stream",
     "text": [
      "ERROR:shapely.geos:TopologyException: found non-noded intersection between LINESTRING (536.619 266.73, 536.611 266.759) and LINESTRING (536.601 266.796, 538.617 259.404) at 536.61121779966879 266.75886806788151\n"
     ]
    },
    {
     "name": "stdout",
     "output_type": "stream",
     "text": [
      " 144\n",
      "Throw out later : Topological error #67, tile"
     ]
    },
    {
     "name": "stderr",
     "output_type": "stream",
     "text": [
      "ERROR:shapely.geos:TopologyException: found non-noded intersection between LINESTRING (536.619 266.73, 536.611 266.759) and LINESTRING (536.601 266.796, 538.617 259.404) at 536.61121779966879 266.75886806788151\n"
     ]
    },
    {
     "name": "stdout",
     "output_type": "stream",
     "text": [
      " 144\n",
      "First toplological error, tile"
     ]
    },
    {
     "name": "stderr",
     "output_type": "stream",
     "text": [
      "ERROR:shapely.geos:TopologyException: found non-noded intersection between LINESTRING (536.619 266.73, 536.611 266.759) and LINESTRING (536.601 266.796, 538.617 259.404) at 536.61121779966879 266.75886806788151\n"
     ]
    },
    {
     "name": "stdout",
     "output_type": "stream",
     "text": [
      " 145\n",
      "Throw out later : Topological error #67, tile"
     ]
    },
    {
     "name": "stderr",
     "output_type": "stream",
     "text": [
      "ERROR:shapely.geos:TopologyException: found non-noded intersection between LINESTRING (536.619 266.73, 536.611 266.759) and LINESTRING (536.601 266.796, 538.617 259.404) at 536.61121779966879 266.75886806788151\n"
     ]
    },
    {
     "name": "stdout",
     "output_type": "stream",
     "text": [
      " 145\n",
      "First toplological error, tile"
     ]
    },
    {
     "name": "stderr",
     "output_type": "stream",
     "text": [
      "ERROR:shapely.geos:TopologyException: found non-noded intersection between LINESTRING (536.619 266.73, 536.611 266.759) and LINESTRING (536.601 266.796, 538.617 259.404) at 536.61121779966879 266.75886806788151\n"
     ]
    },
    {
     "name": "stdout",
     "output_type": "stream",
     "text": [
      " 146\n",
      "Throw out later : Topological error #67, tile"
     ]
    },
    {
     "name": "stderr",
     "output_type": "stream",
     "text": [
      "ERROR:shapely.geos:TopologyException: found non-noded intersection between LINESTRING (536.619 266.73, 536.611 266.759) and LINESTRING (536.601 266.796, 538.617 259.404) at 536.61121779966879 266.75886806788151\n"
     ]
    },
    {
     "name": "stdout",
     "output_type": "stream",
     "text": [
      " 146\n",
      "First toplological error, tile"
     ]
    },
    {
     "name": "stderr",
     "output_type": "stream",
     "text": [
      "ERROR:shapely.geos:TopologyException: found non-noded intersection between LINESTRING (536.619 266.73, 536.611 266.759) and LINESTRING (536.601 266.796, 538.617 259.404) at 536.61121779966879 266.75886806788151\n"
     ]
    },
    {
     "name": "stdout",
     "output_type": "stream",
     "text": [
      " 147\n",
      "Throw out later : Topological error #67, tile"
     ]
    },
    {
     "name": "stderr",
     "output_type": "stream",
     "text": [
      "ERROR:shapely.geos:TopologyException: found non-noded intersection between LINESTRING (536.619 266.73, 536.611 266.759) and LINESTRING (536.601 266.796, 538.617 259.404) at 536.61121779966879 266.75886806788151\n"
     ]
    },
    {
     "name": "stdout",
     "output_type": "stream",
     "text": [
      " 147\n",
      "First toplological error, tile"
     ]
    },
    {
     "name": "stderr",
     "output_type": "stream",
     "text": [
      "ERROR:shapely.geos:TopologyException: found non-noded intersection between LINESTRING (536.619 266.73, 536.611 266.759) and LINESTRING (536.601 266.796, 538.617 259.404) at 536.61121779966879 266.75886806788151\n"
     ]
    },
    {
     "name": "stdout",
     "output_type": "stream",
     "text": [
      " 148\n",
      "Throw out later : Topological error #67, tile"
     ]
    },
    {
     "name": "stderr",
     "output_type": "stream",
     "text": [
      "ERROR:shapely.geos:TopologyException: found non-noded intersection between LINESTRING (536.619 266.73, 536.611 266.759) and LINESTRING (536.601 266.796, 538.617 259.404) at 536.61121779966879 266.75886806788151\n"
     ]
    },
    {
     "name": "stdout",
     "output_type": "stream",
     "text": [
      " 148\n",
      "First toplological error, tile"
     ]
    },
    {
     "name": "stderr",
     "output_type": "stream",
     "text": [
      "ERROR:shapely.geos:TopologyException: found non-noded intersection between LINESTRING (536.619 266.73, 536.611 266.759) and LINESTRING (536.601 266.796, 538.617 259.404) at 536.61121779966879 266.75886806788151\n"
     ]
    },
    {
     "name": "stdout",
     "output_type": "stream",
     "text": [
      " 149\n",
      "Throw out later : Topological error #67, tile"
     ]
    },
    {
     "name": "stderr",
     "output_type": "stream",
     "text": [
      "ERROR:shapely.geos:TopologyException: found non-noded intersection between LINESTRING (536.619 266.73, 536.611 266.759) and LINESTRING (536.601 266.796, 538.617 259.404) at 536.61121779966879 266.75886806788151\n"
     ]
    },
    {
     "name": "stdout",
     "output_type": "stream",
     "text": [
      " 149\n",
      "First toplological error, tile"
     ]
    },
    {
     "name": "stderr",
     "output_type": "stream",
     "text": [
      "ERROR:shapely.geos:TopologyException: found non-noded intersection between LINESTRING (536.619 266.73, 536.611 266.759) and LINESTRING (536.601 266.796, 538.617 259.404) at 536.61121779966879 266.75886806788151\n"
     ]
    },
    {
     "name": "stdout",
     "output_type": "stream",
     "text": [
      " 150\n",
      "Throw out later : Topological error #67, tile"
     ]
    },
    {
     "name": "stderr",
     "output_type": "stream",
     "text": [
      "ERROR:shapely.geos:TopologyException: found non-noded intersection between LINESTRING (536.619 266.73, 536.611 266.759) and LINESTRING (536.601 266.796, 538.617 259.404) at 536.61121779966879 266.75886806788151\n"
     ]
    },
    {
     "name": "stdout",
     "output_type": "stream",
     "text": [
      " 150\n",
      "First toplological error, tile"
     ]
    },
    {
     "name": "stderr",
     "output_type": "stream",
     "text": [
      "ERROR:shapely.geos:TopologyException: found non-noded intersection between LINESTRING (536.619 266.73, 536.611 266.759) and LINESTRING (536.601 266.796, 538.617 259.404) at 536.61121779966879 266.75886806788151\n"
     ]
    },
    {
     "name": "stdout",
     "output_type": "stream",
     "text": [
      " 151\n",
      "Throw out later : Topological error #67, tile"
     ]
    },
    {
     "name": "stderr",
     "output_type": "stream",
     "text": [
      "ERROR:shapely.geos:TopologyException: found non-noded intersection between LINESTRING (536.619 266.73, 536.611 266.759) and LINESTRING (536.601 266.796, 538.617 259.404) at 536.61121779966879 266.75886806788151\n"
     ]
    },
    {
     "name": "stdout",
     "output_type": "stream",
     "text": [
      " 151\n",
      "First toplological error, tile"
     ]
    },
    {
     "name": "stderr",
     "output_type": "stream",
     "text": [
      "ERROR:shapely.geos:TopologyException: found non-noded intersection between LINESTRING (536.619 266.73, 536.611 266.759) and LINESTRING (536.601 266.796, 538.617 259.404) at 536.61121779966879 266.75886806788151\n"
     ]
    },
    {
     "name": "stdout",
     "output_type": "stream",
     "text": [
      " 152\n",
      "Throw out later : Topological error #67, tile"
     ]
    },
    {
     "name": "stderr",
     "output_type": "stream",
     "text": [
      "ERROR:shapely.geos:TopologyException: found non-noded intersection between LINESTRING (536.619 266.73, 536.611 266.759) and LINESTRING (536.601 266.796, 538.617 259.404) at 536.61121779966879 266.75886806788151\n"
     ]
    },
    {
     "name": "stdout",
     "output_type": "stream",
     "text": [
      " 152\n",
      "First toplological error, tile"
     ]
    },
    {
     "name": "stderr",
     "output_type": "stream",
     "text": [
      "ERROR:shapely.geos:TopologyException: found non-noded intersection between LINESTRING (536.619 266.73, 536.611 266.759) and LINESTRING (536.601 266.796, 538.617 259.404) at 536.61121779966879 266.75886806788151\n"
     ]
    },
    {
     "name": "stdout",
     "output_type": "stream",
     "text": [
      " 153\n",
      "Throw out later : Topological error #67, tile"
     ]
    },
    {
     "name": "stderr",
     "output_type": "stream",
     "text": [
      "ERROR:shapely.geos:TopologyException: found non-noded intersection between LINESTRING (536.619 266.73, 536.611 266.759) and LINESTRING (536.601 266.796, 538.617 259.404) at 536.61121779966879 266.75886806788151\n"
     ]
    },
    {
     "name": "stdout",
     "output_type": "stream",
     "text": [
      " 153\n",
      "First toplological error, tile"
     ]
    },
    {
     "name": "stderr",
     "output_type": "stream",
     "text": [
      "ERROR:shapely.geos:TopologyException: found non-noded intersection between LINESTRING (536.619 266.73, 536.611 266.759) and LINESTRING (536.601 266.796, 538.617 259.404) at 536.61121779966879 266.75886806788151\n"
     ]
    },
    {
     "name": "stdout",
     "output_type": "stream",
     "text": [
      " 154\n",
      "Throw out later : Topological error #67, tile"
     ]
    },
    {
     "name": "stderr",
     "output_type": "stream",
     "text": [
      "ERROR:shapely.geos:TopologyException: found non-noded intersection between LINESTRING (536.619 266.73, 536.611 266.759) and LINESTRING (536.601 266.796, 538.617 259.404) at 536.61121779966879 266.75886806788151\n"
     ]
    },
    {
     "name": "stdout",
     "output_type": "stream",
     "text": [
      " 154\n",
      "First toplological error, tile"
     ]
    },
    {
     "name": "stderr",
     "output_type": "stream",
     "text": [
      "ERROR:shapely.geos:TopologyException: found non-noded intersection between LINESTRING (536.619 266.73, 536.611 266.759) and LINESTRING (536.601 266.796, 538.617 259.404) at 536.61121779966879 266.75886806788151\n"
     ]
    },
    {
     "name": "stdout",
     "output_type": "stream",
     "text": [
      " 155\n",
      "First toplological error, tile"
     ]
    },
    {
     "name": "stderr",
     "output_type": "stream",
     "text": [
      "ERROR:shapely.geos:TopologyException: found non-noded intersection between LINESTRING (536.619 266.73, 536.611 266.759) and LINESTRING (536.601 266.796, 538.617 259.404) at 536.61121779966879 266.75886806788151\n"
     ]
    },
    {
     "name": "stdout",
     "output_type": "stream",
     "text": [
      " 156\n",
      "Throw out later : Topological error #67, tile"
     ]
    },
    {
     "name": "stderr",
     "output_type": "stream",
     "text": [
      "ERROR:shapely.geos:TopologyException: found non-noded intersection between LINESTRING (536.619 266.73, 536.611 266.759) and LINESTRING (536.601 266.796, 538.617 259.404) at 536.61121779966879 266.75886806788151\n"
     ]
    },
    {
     "name": "stdout",
     "output_type": "stream",
     "text": [
      " 156\n",
      "First toplological error, tile"
     ]
    },
    {
     "name": "stderr",
     "output_type": "stream",
     "text": [
      "ERROR:shapely.geos:TopologyException: found non-noded intersection between LINESTRING (536.619 266.73, 536.611 266.759) and LINESTRING (536.601 266.796, 538.617 259.404) at 536.61121779966879 266.75886806788151\n"
     ]
    },
    {
     "name": "stdout",
     "output_type": "stream",
     "text": [
      " 157\n",
      "Throw out later : Topological error #67, tile"
     ]
    },
    {
     "name": "stderr",
     "output_type": "stream",
     "text": [
      "ERROR:shapely.geos:TopologyException: found non-noded intersection between LINESTRING (536.619 266.73, 536.611 266.759) and LINESTRING (536.601 266.796, 538.617 259.404) at 536.61121779966879 266.75886806788151\n"
     ]
    },
    {
     "name": "stdout",
     "output_type": "stream",
     "text": [
      " 157\n",
      "First toplological error, tile"
     ]
    },
    {
     "name": "stderr",
     "output_type": "stream",
     "text": [
      "ERROR:shapely.geos:TopologyException: found non-noded intersection between LINESTRING (536.619 266.73, 536.611 266.759) and LINESTRING (536.601 266.796, 538.617 259.404) at 536.61121779966879 266.75886806788151\n"
     ]
    },
    {
     "name": "stdout",
     "output_type": "stream",
     "text": [
      " 159\n",
      "Throw out later : Topological error #67, tile"
     ]
    },
    {
     "name": "stderr",
     "output_type": "stream",
     "text": [
      "ERROR:shapely.geos:TopologyException: found non-noded intersection between LINESTRING (536.619 266.73, 536.611 266.759) and LINESTRING (536.601 266.796, 538.617 259.404) at 536.61121779966879 266.75886806788151\n"
     ]
    },
    {
     "name": "stdout",
     "output_type": "stream",
     "text": [
      " 159\n",
      "First toplological error, tile"
     ]
    },
    {
     "name": "stderr",
     "output_type": "stream",
     "text": [
      "ERROR:shapely.geos:TopologyException: found non-noded intersection between LINESTRING (536.619 266.73, 536.611 266.759) and LINESTRING (536.601 266.796, 538.617 259.404) at 536.61121779966879 266.75886806788151\n"
     ]
    },
    {
     "name": "stdout",
     "output_type": "stream",
     "text": [
      " 160\n",
      "Throw out later : Topological error #67, tile"
     ]
    },
    {
     "name": "stderr",
     "output_type": "stream",
     "text": [
      "ERROR:shapely.geos:TopologyException: found non-noded intersection between LINESTRING (536.619 266.73, 536.611 266.759) and LINESTRING (536.601 266.796, 538.617 259.404) at 536.61121779966879 266.75886806788151\n"
     ]
    },
    {
     "name": "stdout",
     "output_type": "stream",
     "text": [
      " 160\n",
      "First toplological error, tile"
     ]
    },
    {
     "name": "stderr",
     "output_type": "stream",
     "text": [
      "ERROR:shapely.geos:TopologyException: found non-noded intersection between LINESTRING (536.619 266.73, 536.611 266.759) and LINESTRING (536.601 266.796, 538.617 259.404) at 536.61121779966879 266.75886806788151\n"
     ]
    },
    {
     "name": "stdout",
     "output_type": "stream",
     "text": [
      " 161\n",
      "Throw out later : Topological error #67, tile"
     ]
    },
    {
     "name": "stderr",
     "output_type": "stream",
     "text": [
      "ERROR:shapely.geos:TopologyException: found non-noded intersection between LINESTRING (536.619 266.73, 536.611 266.759) and LINESTRING (536.601 266.796, 538.617 259.404) at 536.61121779966879 266.75886806788151\n"
     ]
    },
    {
     "name": "stdout",
     "output_type": "stream",
     "text": [
      " 161\n",
      "First toplological error, tile"
     ]
    },
    {
     "name": "stderr",
     "output_type": "stream",
     "text": [
      "ERROR:shapely.geos:TopologyException: found non-noded intersection between LINESTRING (536.619 266.73, 536.611 266.759) and LINESTRING (536.601 266.796, 538.617 259.404) at 536.61121779966879 266.75886806788151\n"
     ]
    },
    {
     "name": "stdout",
     "output_type": "stream",
     "text": [
      " 162\n",
      "Throw out later : Topological error #67, tile"
     ]
    },
    {
     "name": "stderr",
     "output_type": "stream",
     "text": [
      "ERROR:shapely.geos:TopologyException: found non-noded intersection between LINESTRING (536.619 266.73, 536.611 266.759) and LINESTRING (536.601 266.796, 538.617 259.404) at 536.61121779966879 266.75886806788151\n"
     ]
    },
    {
     "name": "stdout",
     "output_type": "stream",
     "text": [
      " 162\n",
      "First toplological error, tile"
     ]
    },
    {
     "name": "stderr",
     "output_type": "stream",
     "text": [
      "ERROR:shapely.geos:TopologyException: found non-noded intersection between LINESTRING (536.619 266.73, 536.611 266.759) and LINESTRING (536.601 266.796, 538.617 259.404) at 536.61121779966879 266.75886806788151\n"
     ]
    },
    {
     "name": "stdout",
     "output_type": "stream",
     "text": [
      " 163\n",
      "Throw out later : Topological error #67, tile"
     ]
    },
    {
     "name": "stderr",
     "output_type": "stream",
     "text": [
      "ERROR:shapely.geos:TopologyException: found non-noded intersection between LINESTRING (536.619 266.73, 536.611 266.759) and LINESTRING (536.601 266.796, 538.617 259.404) at 536.61121779966879 266.75886806788151\n"
     ]
    },
    {
     "name": "stdout",
     "output_type": "stream",
     "text": [
      " 163\n",
      "First toplological error, tile"
     ]
    },
    {
     "name": "stderr",
     "output_type": "stream",
     "text": [
      "ERROR:shapely.geos:TopologyException: found non-noded intersection between LINESTRING (536.619 266.73, 536.611 266.759) and LINESTRING (536.601 266.796, 538.617 259.404) at 536.61121779966879 266.75886806788151\n"
     ]
    },
    {
     "name": "stdout",
     "output_type": "stream",
     "text": [
      " 164\n",
      "Throw out later : Topological error #67, tile"
     ]
    },
    {
     "name": "stderr",
     "output_type": "stream",
     "text": [
      "ERROR:shapely.geos:TopologyException: found non-noded intersection between LINESTRING (536.619 266.73, 536.611 266.759) and LINESTRING (536.601 266.796, 538.617 259.404) at 536.61121779966879 266.75886806788151\n"
     ]
    },
    {
     "name": "stdout",
     "output_type": "stream",
     "text": [
      " 164\n",
      "First toplological error, tile"
     ]
    },
    {
     "name": "stderr",
     "output_type": "stream",
     "text": [
      "ERROR:shapely.geos:TopologyException: found non-noded intersection between LINESTRING (536.619 266.73, 536.611 266.759) and LINESTRING (536.601 266.796, 538.617 259.404) at 536.61121779966879 266.75886806788151\n"
     ]
    },
    {
     "name": "stdout",
     "output_type": "stream",
     "text": [
      " 165\n",
      "Throw out later : Topological error #67, tile"
     ]
    },
    {
     "name": "stderr",
     "output_type": "stream",
     "text": [
      "ERROR:shapely.geos:TopologyException: found non-noded intersection between LINESTRING (536.619 266.73, 536.611 266.759) and LINESTRING (536.601 266.796, 538.617 259.404) at 536.61121779966879 266.75886806788151\n"
     ]
    },
    {
     "name": "stdout",
     "output_type": "stream",
     "text": [
      " 165\n",
      "First toplological error, tile"
     ]
    },
    {
     "name": "stderr",
     "output_type": "stream",
     "text": [
      "ERROR:shapely.geos:TopologyException: found non-noded intersection between LINESTRING (536.619 266.73, 536.611 266.759) and LINESTRING (536.601 266.796, 538.617 259.404) at 536.61121779966879 266.75886806788151\n"
     ]
    },
    {
     "name": "stdout",
     "output_type": "stream",
     "text": [
      " 166\n",
      "Throw out later : Topological error #67, tile"
     ]
    },
    {
     "name": "stderr",
     "output_type": "stream",
     "text": [
      "ERROR:shapely.geos:TopologyException: found non-noded intersection between LINESTRING (536.619 266.73, 536.611 266.759) and LINESTRING (536.601 266.796, 538.617 259.404) at 536.61121779966879 266.75886806788151\n"
     ]
    },
    {
     "name": "stdout",
     "output_type": "stream",
     "text": [
      " 166\n",
      "First toplological error, tile"
     ]
    },
    {
     "name": "stderr",
     "output_type": "stream",
     "text": [
      "ERROR:shapely.geos:TopologyException: found non-noded intersection between LINESTRING (536.619 266.73, 536.611 266.759) and LINESTRING (536.601 266.796, 538.617 259.404) at 536.61121779966879 266.75886806788151\n"
     ]
    },
    {
     "name": "stdout",
     "output_type": "stream",
     "text": [
      " 167\n",
      "Throw out later : Topological error #67, tile"
     ]
    },
    {
     "name": "stderr",
     "output_type": "stream",
     "text": [
      "ERROR:shapely.geos:TopologyException: found non-noded intersection between LINESTRING (536.619 266.73, 536.611 266.759) and LINESTRING (536.601 266.796, 538.617 259.404) at 536.61121779966879 266.75886806788151\n"
     ]
    },
    {
     "name": "stdout",
     "output_type": "stream",
     "text": [
      " 167\n",
      "First toplological error, tile"
     ]
    },
    {
     "name": "stderr",
     "output_type": "stream",
     "text": [
      "ERROR:shapely.geos:TopologyException: found non-noded intersection between LINESTRING (536.619 266.73, 536.611 266.759) and LINESTRING (536.601 266.796, 538.617 259.404) at 536.61121779966879 266.75886806788151\n"
     ]
    },
    {
     "name": "stdout",
     "output_type": "stream",
     "text": [
      " 168\n",
      "Throw out later : Topological error #67, tile"
     ]
    },
    {
     "name": "stderr",
     "output_type": "stream",
     "text": [
      "ERROR:shapely.geos:TopologyException: found non-noded intersection between LINESTRING (536.619 266.73, 536.611 266.759) and LINESTRING (536.601 266.796, 538.617 259.404) at 536.61121779966879 266.75886806788151\n"
     ]
    },
    {
     "name": "stdout",
     "output_type": "stream",
     "text": [
      " 168\n",
      "First toplological error, tile"
     ]
    },
    {
     "name": "stderr",
     "output_type": "stream",
     "text": [
      "ERROR:shapely.geos:TopologyException: found non-noded intersection between LINESTRING (536.619 266.73, 536.611 266.759) and LINESTRING (536.601 266.796, 538.617 259.404) at 536.61121779966879 266.75886806788151\n"
     ]
    },
    {
     "name": "stdout",
     "output_type": "stream",
     "text": [
      " 169\n",
      "Throw out later : Topological error #67, tile"
     ]
    },
    {
     "name": "stderr",
     "output_type": "stream",
     "text": [
      "ERROR:shapely.geos:TopologyException: found non-noded intersection between LINESTRING (536.619 266.73, 536.611 266.759) and LINESTRING (536.601 266.796, 538.617 259.404) at 536.61121779966879 266.75886806788151\n"
     ]
    },
    {
     "name": "stdout",
     "output_type": "stream",
     "text": [
      " 169\n",
      "First toplological error, tile"
     ]
    },
    {
     "name": "stderr",
     "output_type": "stream",
     "text": [
      "ERROR:shapely.geos:TopologyException: found non-noded intersection between LINESTRING (536.619 266.73, 536.611 266.759) and LINESTRING (536.601 266.796, 538.617 259.404) at 536.61121779966879 266.75886806788151\n"
     ]
    },
    {
     "name": "stdout",
     "output_type": "stream",
     "text": [
      " 170\n",
      "Throw out later : Topological error #67, tile"
     ]
    },
    {
     "name": "stderr",
     "output_type": "stream",
     "text": [
      "ERROR:shapely.geos:TopologyException: found non-noded intersection between LINESTRING (536.619 266.73, 536.611 266.759) and LINESTRING (536.601 266.796, 538.617 259.404) at 536.61121779966879 266.75886806788151\n"
     ]
    },
    {
     "name": "stdout",
     "output_type": "stream",
     "text": [
      " 170\n",
      "First toplological error, tile"
     ]
    },
    {
     "name": "stderr",
     "output_type": "stream",
     "text": [
      "ERROR:shapely.geos:TopologyException: found non-noded intersection between LINESTRING (536.619 266.73, 536.611 266.759) and LINESTRING (536.601 266.796, 538.617 259.404) at 536.61121779966879 266.75886806788151\n"
     ]
    },
    {
     "name": "stdout",
     "output_type": "stream",
     "text": [
      " 171\n",
      "Throw out later : Topological error #67, tile"
     ]
    },
    {
     "name": "stderr",
     "output_type": "stream",
     "text": [
      "ERROR:shapely.geos:TopologyException: found non-noded intersection between LINESTRING (536.619 266.73, 536.611 266.759) and LINESTRING (536.601 266.796, 538.617 259.404) at 536.61121779966879 266.75886806788151\n"
     ]
    },
    {
     "name": "stdout",
     "output_type": "stream",
     "text": [
      " 171\n",
      "First toplological error, tile"
     ]
    },
    {
     "name": "stderr",
     "output_type": "stream",
     "text": [
      "ERROR:shapely.geos:TopologyException: found non-noded intersection between LINESTRING (536.619 266.73, 536.611 266.759) and LINESTRING (536.601 266.796, 538.617 259.404) at 536.61121779966879 266.75886806788151\n"
     ]
    },
    {
     "name": "stdout",
     "output_type": "stream",
     "text": [
      " 172\n",
      "Throw out later : Topological error #67, tile"
     ]
    },
    {
     "name": "stderr",
     "output_type": "stream",
     "text": [
      "ERROR:shapely.geos:TopologyException: found non-noded intersection between LINESTRING (536.619 266.73, 536.611 266.759) and LINESTRING (536.601 266.796, 538.617 259.404) at 536.61121779966879 266.75886806788151\n"
     ]
    },
    {
     "name": "stdout",
     "output_type": "stream",
     "text": [
      " 172\n",
      "First toplological error, tile"
     ]
    },
    {
     "name": "stderr",
     "output_type": "stream",
     "text": [
      "ERROR:shapely.geos:TopologyException: found non-noded intersection between LINESTRING (536.619 266.73, 536.611 266.759) and LINESTRING (536.601 266.796, 538.617 259.404) at 536.61121779966879 266.75886806788151\n"
     ]
    },
    {
     "name": "stdout",
     "output_type": "stream",
     "text": [
      " 173\n",
      "Throw out later : Topological error #67, tile"
     ]
    },
    {
     "name": "stderr",
     "output_type": "stream",
     "text": [
      "ERROR:shapely.geos:TopologyException: found non-noded intersection between LINESTRING (536.619 266.73, 536.611 266.759) and LINESTRING (536.601 266.796, 538.617 259.404) at 536.61121779966879 266.75886806788151\n"
     ]
    },
    {
     "name": "stdout",
     "output_type": "stream",
     "text": [
      " 173\n",
      "First toplological error, tile"
     ]
    },
    {
     "name": "stderr",
     "output_type": "stream",
     "text": [
      "ERROR:shapely.geos:TopologyException: found non-noded intersection between LINESTRING (536.619 266.73, 536.611 266.759) and LINESTRING (536.601 266.796, 538.617 259.404) at 536.61121779966879 266.75886806788151\n"
     ]
    },
    {
     "name": "stdout",
     "output_type": "stream",
     "text": [
      " 174\n",
      "Throw out later : Topological error #67, tile"
     ]
    },
    {
     "name": "stderr",
     "output_type": "stream",
     "text": [
      "ERROR:shapely.geos:TopologyException: found non-noded intersection between LINESTRING (536.619 266.73, 536.611 266.759) and LINESTRING (536.601 266.796, 538.617 259.404) at 536.61121779966879 266.75886806788151\n"
     ]
    },
    {
     "name": "stdout",
     "output_type": "stream",
     "text": [
      " 174\n",
      "First toplological error, tile"
     ]
    },
    {
     "name": "stderr",
     "output_type": "stream",
     "text": [
      "ERROR:shapely.geos:TopologyException: found non-noded intersection between LINESTRING (536.619 266.73, 536.611 266.759) and LINESTRING (536.601 266.796, 538.617 259.404) at 536.61121779966879 266.75886806788151\n"
     ]
    },
    {
     "name": "stdout",
     "output_type": "stream",
     "text": [
      " 175\n",
      "Throw out later : Topological error #67, tile"
     ]
    },
    {
     "name": "stderr",
     "output_type": "stream",
     "text": [
      "ERROR:shapely.geos:TopologyException: found non-noded intersection between LINESTRING (536.619 266.73, 536.611 266.759) and LINESTRING (536.601 266.796, 538.617 259.404) at 536.61121779966879 266.75886806788151\n"
     ]
    },
    {
     "name": "stdout",
     "output_type": "stream",
     "text": [
      " 175\n",
      "First toplological error, tile"
     ]
    },
    {
     "name": "stderr",
     "output_type": "stream",
     "text": [
      "ERROR:shapely.geos:TopologyException: found non-noded intersection between LINESTRING (536.619 266.73, 536.611 266.759) and LINESTRING (536.601 266.796, 538.617 259.404) at 536.61121779966879 266.75886806788151\n"
     ]
    },
    {
     "name": "stdout",
     "output_type": "stream",
     "text": [
      " 176\n",
      "Throw out later : Topological error #67, tile"
     ]
    },
    {
     "name": "stderr",
     "output_type": "stream",
     "text": [
      "ERROR:shapely.geos:TopologyException: found non-noded intersection between LINESTRING (536.619 266.73, 536.611 266.759) and LINESTRING (536.601 266.796, 538.617 259.404) at 536.61121779966879 266.75886806788151\n"
     ]
    },
    {
     "name": "stdout",
     "output_type": "stream",
     "text": [
      " 176\n",
      "First toplological error, tile"
     ]
    },
    {
     "name": "stderr",
     "output_type": "stream",
     "text": [
      "ERROR:shapely.geos:TopologyException: found non-noded intersection between LINESTRING (536.619 266.73, 536.611 266.759) and LINESTRING (536.601 266.796, 538.617 259.404) at 536.61121779966879 266.75886806788151\n"
     ]
    },
    {
     "name": "stdout",
     "output_type": "stream",
     "text": [
      " 177\n",
      "Throw out later : Topological error #67, tile"
     ]
    },
    {
     "name": "stderr",
     "output_type": "stream",
     "text": [
      "ERROR:shapely.geos:TopologyException: found non-noded intersection between LINESTRING (423.413 331.815, 435.241 337.966) and LINESTRING (429.667 337.222, 435.241 337.966) at 435.2413793103571 337.96551724138095\n"
     ]
    },
    {
     "name": "stdout",
     "output_type": "stream",
     "text": [
      " 177\n",
      "First toplological error, tile"
     ]
    },
    {
     "name": "stderr",
     "output_type": "stream",
     "text": [
      "ERROR:shapely.geos:TopologyException: found non-noded intersection between LINESTRING (536.619 266.73, 536.611 266.759) and LINESTRING (536.601 266.796, 538.617 259.404) at 536.61121779966879 266.75886806788151\n"
     ]
    },
    {
     "name": "stdout",
     "output_type": "stream",
     "text": [
      " 178\n",
      "Throw out later : Topological error #67, tile"
     ]
    },
    {
     "name": "stderr",
     "output_type": "stream",
     "text": [
      "ERROR:shapely.geos:TopologyException: found non-noded intersection between LINESTRING (536.619 266.73, 536.611 266.759) and LINESTRING (536.601 266.796, 538.617 259.404) at 536.61121779966879 266.75886806788151\n"
     ]
    },
    {
     "name": "stdout",
     "output_type": "stream",
     "text": [
      " 178\n",
      "First toplological error, tile"
     ]
    },
    {
     "name": "stderr",
     "output_type": "stream",
     "text": [
      "ERROR:shapely.geos:TopologyException: found non-noded intersection between LINESTRING (536.619 266.73, 536.611 266.759) and LINESTRING (536.601 266.796, 538.617 259.404) at 536.61121779966879 266.75886806788151\n"
     ]
    },
    {
     "name": "stdout",
     "output_type": "stream",
     "text": [
      " 179\n",
      "Throw out later : Topological error #67, tile"
     ]
    },
    {
     "name": "stderr",
     "output_type": "stream",
     "text": [
      "ERROR:shapely.geos:TopologyException: found non-noded intersection between LINESTRING (536.619 266.73, 536.611 266.759) and LINESTRING (536.601 266.796, 538.617 259.404) at 536.61121779966879 266.75886806788151\n"
     ]
    },
    {
     "name": "stdout",
     "output_type": "stream",
     "text": [
      " 179\n",
      "First toplological error, tile"
     ]
    },
    {
     "name": "stderr",
     "output_type": "stream",
     "text": [
      "ERROR:shapely.geos:TopologyException: found non-noded intersection between LINESTRING (536.619 266.73, 536.611 266.759) and LINESTRING (536.601 266.796, 538.617 259.404) at 536.61121779966879 266.75886806788151\n"
     ]
    },
    {
     "name": "stdout",
     "output_type": "stream",
     "text": [
      " 180\n",
      "Throw out later : Topological error #67, tile"
     ]
    },
    {
     "name": "stderr",
     "output_type": "stream",
     "text": [
      "ERROR:shapely.geos:TopologyException: found non-noded intersection between LINESTRING (536.619 266.73, 536.611 266.759) and LINESTRING (536.601 266.796, 538.617 259.404) at 536.61121779966879 266.75886806788151\n"
     ]
    },
    {
     "name": "stdout",
     "output_type": "stream",
     "text": [
      " 180\n",
      "First toplological error, tile"
     ]
    },
    {
     "name": "stderr",
     "output_type": "stream",
     "text": [
      "ERROR:shapely.geos:TopologyException: found non-noded intersection between LINESTRING (536.619 266.73, 536.611 266.759) and LINESTRING (536.601 266.796, 538.617 259.404) at 536.61121779966879 266.75886806788151\n"
     ]
    },
    {
     "name": "stdout",
     "output_type": "stream",
     "text": [
      " 181\n",
      "Throw out later : Topological error #67, tile"
     ]
    },
    {
     "name": "stderr",
     "output_type": "stream",
     "text": [
      "ERROR:shapely.geos:TopologyException: found non-noded intersection between LINESTRING (388 282, 393.068 295.254) and LINESTRING (392.413 293.54, 392.743 295.486) at 392.41253263707574 293.54046997389048\n"
     ]
    },
    {
     "name": "stdout",
     "output_type": "stream",
     "text": [
      " 181\n",
      "First toplological error, tile"
     ]
    },
    {
     "name": "stderr",
     "output_type": "stream",
     "text": [
      "ERROR:shapely.geos:TopologyException: found non-noded intersection between LINESTRING (536.619 266.73, 536.611 266.759) and LINESTRING (536.601 266.796, 538.617 259.404) at 536.61121779966879 266.75886806788151\n"
     ]
    },
    {
     "name": "stdout",
     "output_type": "stream",
     "text": [
      " 182\n",
      "Throw out later : Topological error #67, tile"
     ]
    },
    {
     "name": "stderr",
     "output_type": "stream",
     "text": [
      "ERROR:shapely.geos:TopologyException: found non-noded intersection between LINESTRING (536.619 266.73, 536.611 266.759) and LINESTRING (536.601 266.796, 538.617 259.404) at 536.61121779966879 266.75886806788151\n"
     ]
    },
    {
     "name": "stdout",
     "output_type": "stream",
     "text": [
      " 182\n",
      "First toplological error, tile"
     ]
    },
    {
     "name": "stderr",
     "output_type": "stream",
     "text": [
      "ERROR:shapely.geos:TopologyException: found non-noded intersection between LINESTRING (536.619 266.73, 536.611 266.759) and LINESTRING (536.601 266.796, 538.617 259.404) at 536.61121779966879 266.75886806788151\n"
     ]
    },
    {
     "name": "stdout",
     "output_type": "stream",
     "text": [
      " 183\n",
      "Throw out later : Topological error #67, tile"
     ]
    },
    {
     "name": "stderr",
     "output_type": "stream",
     "text": [
      "ERROR:shapely.geos:TopologyException: found non-noded intersection between LINESTRING (419.524 329.793, 423.413 331.815) and LINESTRING (419.524 329.793, 425.968 335.065) at 419.52439024389128 329.79268292682013\n"
     ]
    },
    {
     "name": "stdout",
     "output_type": "stream",
     "text": [
      " 183\n",
      "First toplological error, tile"
     ]
    },
    {
     "name": "stderr",
     "output_type": "stream",
     "text": [
      "ERROR:shapely.geos:TopologyException: found non-noded intersection between LINESTRING (536.619 266.73, 536.611 266.759) and LINESTRING (536.601 266.796, 538.617 259.404) at 536.61121779966879 266.75886806788151\n"
     ]
    },
    {
     "name": "stdout",
     "output_type": "stream",
     "text": [
      " 184\n",
      "Throw out later : Topological error #67, tile"
     ]
    },
    {
     "name": "stderr",
     "output_type": "stream",
     "text": [
      "ERROR:shapely.geos:TopologyException: found non-noded intersection between LINESTRING (536.619 266.73, 536.611 266.759) and LINESTRING (536.601 266.796, 538.617 259.404) at 536.61121779966879 266.75886806788151\n"
     ]
    },
    {
     "name": "stdout",
     "output_type": "stream",
     "text": [
      " 184\n",
      "First toplological error, tile"
     ]
    },
    {
     "name": "stderr",
     "output_type": "stream",
     "text": [
      "ERROR:shapely.geos:TopologyException: found non-noded intersection between LINESTRING (536.619 266.73, 536.611 266.759) and LINESTRING (536.601 266.796, 538.617 259.404) at 536.61121779966879 266.75886806788151\n"
     ]
    },
    {
     "name": "stdout",
     "output_type": "stream",
     "text": [
      " 185\n",
      "Throw out later : Topological error #67, tile"
     ]
    },
    {
     "name": "stderr",
     "output_type": "stream",
     "text": [
      "ERROR:shapely.geos:TopologyException: found non-noded intersection between LINESTRING (536.619 266.73, 536.611 266.759) and LINESTRING (536.601 266.796, 538.617 259.404) at 536.61121779966879 266.75886806788151\n"
     ]
    },
    {
     "name": "stdout",
     "output_type": "stream",
     "text": [
      " 185\n",
      "First toplological error, tile"
     ]
    },
    {
     "name": "stderr",
     "output_type": "stream",
     "text": [
      "ERROR:shapely.geos:TopologyException: found non-noded intersection between LINESTRING (536.619 266.73, 536.611 266.759) and LINESTRING (536.601 266.796, 538.617 259.404) at 536.61121779966879 266.75886806788151\n"
     ]
    },
    {
     "name": "stdout",
     "output_type": "stream",
     "text": [
      " 186\n",
      "Throw out later : Topological error #67, tile"
     ]
    },
    {
     "name": "stderr",
     "output_type": "stream",
     "text": [
      "ERROR:shapely.geos:TopologyException: found non-noded intersection between LINESTRING (536.619 266.73, 536.611 266.759) and LINESTRING (536.601 266.796, 538.617 259.404) at 536.61121779966879 266.75886806788151\n"
     ]
    },
    {
     "name": "stdout",
     "output_type": "stream",
     "text": [
      " 186\n",
      "First toplological error, tile"
     ]
    },
    {
     "name": "stderr",
     "output_type": "stream",
     "text": [
      "ERROR:shapely.geos:TopologyException: found non-noded intersection between LINESTRING (536.619 266.73, 536.611 266.759) and LINESTRING (536.601 266.796, 538.617 259.404) at 536.61121779966879 266.75886806788151\n"
     ]
    },
    {
     "name": "stdout",
     "output_type": "stream",
     "text": [
      " 187\n",
      "Throw out later : Topological error #67, tile"
     ]
    },
    {
     "name": "stderr",
     "output_type": "stream",
     "text": [
      "ERROR:shapely.geos:TopologyException: found non-noded intersection between LINESTRING (536.619 266.73, 536.611 266.759) and LINESTRING (536.601 266.796, 538.617 259.404) at 536.61121779966879 266.75886806788151\n"
     ]
    },
    {
     "name": "stdout",
     "output_type": "stream",
     "text": [
      " 187\n",
      "First toplological error, tile"
     ]
    },
    {
     "name": "stderr",
     "output_type": "stream",
     "text": [
      "ERROR:shapely.geos:TopologyException: found non-noded intersection between LINESTRING (536.619 266.73, 536.611 266.759) and LINESTRING (536.601 266.796, 538.617 259.404) at 536.61121779966879 266.75886806788151\n"
     ]
    },
    {
     "name": "stdout",
     "output_type": "stream",
     "text": [
      " 188\n",
      "Throw out later : Topological error #67, tile"
     ]
    },
    {
     "name": "stderr",
     "output_type": "stream",
     "text": [
      "ERROR:shapely.geos:TopologyException: found non-noded intersection between LINESTRING (536.619 266.73, 536.611 266.759) and LINESTRING (536.601 266.796, 538.617 259.404) at 536.61121779966879 266.75886806788151\n"
     ]
    },
    {
     "name": "stdout",
     "output_type": "stream",
     "text": [
      " 188\n",
      "First toplological error, tile"
     ]
    },
    {
     "name": "stderr",
     "output_type": "stream",
     "text": [
      "ERROR:shapely.geos:TopologyException: found non-noded intersection between LINESTRING (536.619 266.73, 536.611 266.759) and LINESTRING (536.601 266.796, 538.617 259.404) at 536.61121779966879 266.75886806788151\n"
     ]
    },
    {
     "name": "stdout",
     "output_type": "stream",
     "text": [
      " 189\n",
      "Throw out later : Topological error #67, tile"
     ]
    },
    {
     "name": "stderr",
     "output_type": "stream",
     "text": [
      "ERROR:shapely.geos:TopologyException: found non-noded intersection between LINESTRING (536.619 266.73, 536.611 266.759) and LINESTRING (536.601 266.796, 538.617 259.404) at 536.61121779966879 266.75886806788151\n"
     ]
    },
    {
     "name": "stdout",
     "output_type": "stream",
     "text": [
      " 189\n",
      "First toplological error, tile"
     ]
    },
    {
     "name": "stderr",
     "output_type": "stream",
     "text": [
      "ERROR:shapely.geos:TopologyException: found non-noded intersection between LINESTRING (536.619 266.73, 536.611 266.759) and LINESTRING (536.601 266.796, 538.617 259.404) at 536.61121779966879 266.75886806788151\n"
     ]
    },
    {
     "name": "stdout",
     "output_type": "stream",
     "text": [
      " 190\n",
      "Throw out later : Topological error #67, tile"
     ]
    },
    {
     "name": "stderr",
     "output_type": "stream",
     "text": [
      "ERROR:shapely.geos:TopologyException: found non-noded intersection between LINESTRING (536.619 266.73, 536.611 266.759) and LINESTRING (536.601 266.796, 538.617 259.404) at 536.61121779966879 266.75886806788151\n"
     ]
    },
    {
     "name": "stdout",
     "output_type": "stream",
     "text": [
      " 190\n",
      "First toplological error, tile"
     ]
    },
    {
     "name": "stderr",
     "output_type": "stream",
     "text": [
      "ERROR:shapely.geos:TopologyException: found non-noded intersection between LINESTRING (536.619 266.73, 536.611 266.759) and LINESTRING (536.601 266.796, 538.617 259.404) at 536.61121779966879 266.75886806788151\n"
     ]
    },
    {
     "name": "stdout",
     "output_type": "stream",
     "text": [
      " 191\n",
      "Throw out later : Topological error #67, tile"
     ]
    },
    {
     "name": "stderr",
     "output_type": "stream",
     "text": [
      "ERROR:shapely.geos:TopologyException: found non-noded intersection between LINESTRING (536.619 266.73, 536.611 266.759) and LINESTRING (536.601 266.796, 538.617 259.404) at 536.61121779966879 266.75886806788151\n"
     ]
    },
    {
     "name": "stdout",
     "output_type": "stream",
     "text": [
      " 191\n",
      "First toplological error, tile"
     ]
    },
    {
     "name": "stderr",
     "output_type": "stream",
     "text": [
      "ERROR:shapely.geos:TopologyException: found non-noded intersection between LINESTRING (536.619 266.73, 536.611 266.759) and LINESTRING (536.601 266.796, 538.617 259.404) at 536.61121779966879 266.75886806788151\n"
     ]
    },
    {
     "name": "stdout",
     "output_type": "stream",
     "text": [
      " 192\n",
      "Throw out later : Topological error #67, tile"
     ]
    },
    {
     "name": "stderr",
     "output_type": "stream",
     "text": [
      "ERROR:shapely.geos:TopologyException: found non-noded intersection between LINESTRING (536.619 266.73, 536.611 266.759) and LINESTRING (536.601 266.796, 538.617 259.404) at 536.61121779966879 266.75886806788151\n"
     ]
    },
    {
     "name": "stdout",
     "output_type": "stream",
     "text": [
      " 192\n",
      "First toplological error, tile"
     ]
    },
    {
     "name": "stderr",
     "output_type": "stream",
     "text": [
      "ERROR:shapely.geos:TopologyException: found non-noded intersection between LINESTRING (536.619 266.73, 536.611 266.759) and LINESTRING (536.601 266.796, 538.617 259.404) at 536.61121779966879 266.75886806788151\n"
     ]
    },
    {
     "name": "stdout",
     "output_type": "stream",
     "text": [
      " 193\n",
      "Throw out later : Topological error #67, tile"
     ]
    },
    {
     "name": "stderr",
     "output_type": "stream",
     "text": [
      "ERROR:shapely.geos:TopologyException: found non-noded intersection between LINESTRING (536.619 266.73, 536.611 266.759) and LINESTRING (536.601 266.796, 538.617 259.404) at 536.61121779966879 266.75886806788151\n"
     ]
    },
    {
     "name": "stdout",
     "output_type": "stream",
     "text": [
      " 193\n",
      "First toplological error, tile"
     ]
    },
    {
     "name": "stderr",
     "output_type": "stream",
     "text": [
      "ERROR:shapely.geos:TopologyException: found non-noded intersection between LINESTRING (536.619 266.73, 536.611 266.759) and LINESTRING (536.601 266.796, 538.617 259.404) at 536.61121779966879 266.75886806788151\n"
     ]
    },
    {
     "name": "stdout",
     "output_type": "stream",
     "text": [
      " 194\n",
      "Throw out later : Topological error #67, tile"
     ]
    },
    {
     "name": "stderr",
     "output_type": "stream",
     "text": [
      "ERROR:shapely.geos:TopologyException: found non-noded intersection between LINESTRING (536.619 266.73, 536.611 266.759) and LINESTRING (536.601 266.796, 538.617 259.404) at 536.61121779966879 266.75886806788151\n"
     ]
    },
    {
     "name": "stdout",
     "output_type": "stream",
     "text": [
      " 194\n",
      "First toplological error, tile"
     ]
    },
    {
     "name": "stderr",
     "output_type": "stream",
     "text": [
      "ERROR:shapely.geos:TopologyException: found non-noded intersection between LINESTRING (536.619 266.73, 536.611 266.759) and LINESTRING (536.601 266.796, 538.617 259.404) at 536.61121779966879 266.75886806788151\n"
     ]
    },
    {
     "name": "stdout",
     "output_type": "stream",
     "text": [
      " 195\n",
      "Throw out later : Topological error #67, tile"
     ]
    },
    {
     "name": "stderr",
     "output_type": "stream",
     "text": [
      "ERROR:shapely.geos:TopologyException: found non-noded intersection between LINESTRING (536.619 266.73, 536.611 266.759) and LINESTRING (536.601 266.796, 538.617 259.404) at 536.61121779966879 266.75886806788151\n"
     ]
    },
    {
     "name": "stdout",
     "output_type": "stream",
     "text": [
      " 195\n",
      "First toplological error, tile"
     ]
    },
    {
     "name": "stderr",
     "output_type": "stream",
     "text": [
      "ERROR:shapely.geos:TopologyException: found non-noded intersection between LINESTRING (536.619 266.73, 536.611 266.759) and LINESTRING (536.601 266.796, 538.617 259.404) at 536.61121779966879 266.75886806788151\n"
     ]
    },
    {
     "name": "stdout",
     "output_type": "stream",
     "text": [
      " 196\n",
      "Throw out later : Topological error #67, tile"
     ]
    },
    {
     "name": "stderr",
     "output_type": "stream",
     "text": [
      "ERROR:shapely.geos:TopologyException: found non-noded intersection between LINESTRING (536.619 266.73, 536.611 266.759) and LINESTRING (536.601 266.796, 538.617 259.404) at 536.61121779966879 266.75886806788151\n"
     ]
    },
    {
     "name": "stdout",
     "output_type": "stream",
     "text": [
      " 196\n",
      "First toplological error, tile"
     ]
    },
    {
     "name": "stderr",
     "output_type": "stream",
     "text": [
      "ERROR:shapely.geos:TopologyException: found non-noded intersection between LINESTRING (536.619 266.73, 536.611 266.759) and LINESTRING (536.601 266.796, 538.617 259.404) at 536.61121779966879 266.75886806788151\n"
     ]
    },
    {
     "name": "stdout",
     "output_type": "stream",
     "text": [
      " 197\n",
      "Throw out later : Topological error #67, tile"
     ]
    },
    {
     "name": "stderr",
     "output_type": "stream",
     "text": [
      "ERROR:shapely.geos:TopologyException: found non-noded intersection between LINESTRING (536.619 266.73, 536.611 266.759) and LINESTRING (536.601 266.796, 538.617 259.404) at 536.61121779966879 266.75886806788151\n"
     ]
    },
    {
     "name": "stdout",
     "output_type": "stream",
     "text": [
      " 197\n",
      "First toplological error, tile"
     ]
    },
    {
     "name": "stderr",
     "output_type": "stream",
     "text": [
      "ERROR:shapely.geos:TopologyException: found non-noded intersection between LINESTRING (536.619 266.73, 536.611 266.759) and LINESTRING (536.601 266.796, 538.617 259.404) at 536.61121779966879 266.75886806788151\n"
     ]
    },
    {
     "name": "stdout",
     "output_type": "stream",
     "text": [
      " 198\n",
      "Throw out later : Topological error #67, tile"
     ]
    },
    {
     "name": "stderr",
     "output_type": "stream",
     "text": [
      "ERROR:shapely.geos:TopologyException: found non-noded intersection between LINESTRING (536.619 266.73, 536.611 266.759) and LINESTRING (536.601 266.796, 538.617 259.404) at 536.61121779966879 266.75886806788151\n"
     ]
    },
    {
     "name": "stdout",
     "output_type": "stream",
     "text": [
      " 198\n",
      "First toplological error, tile"
     ]
    },
    {
     "name": "stderr",
     "output_type": "stream",
     "text": [
      "ERROR:shapely.geos:TopologyException: found non-noded intersection between LINESTRING (536.619 266.73, 536.611 266.759) and LINESTRING (536.601 266.796, 538.617 259.404) at 536.61121779966879 266.75886806788151\n"
     ]
    },
    {
     "name": "stdout",
     "output_type": "stream",
     "text": [
      " 199\n",
      "Throw out later : Topological error #67, tile"
     ]
    },
    {
     "name": "stderr",
     "output_type": "stream",
     "text": [
      "ERROR:shapely.geos:TopologyException: found non-noded intersection between LINESTRING (536.619 266.73, 536.611 266.759) and LINESTRING (536.601 266.796, 538.617 259.404) at 536.61121779966879 266.75886806788151\n"
     ]
    },
    {
     "name": "stdout",
     "output_type": "stream",
     "text": [
      " 199\n",
      "First toplological error, tile"
     ]
    },
    {
     "name": "stderr",
     "output_type": "stream",
     "text": [
      "ERROR:shapely.geos:TopologyException: found non-noded intersection between LINESTRING (536.619 266.73, 536.611 266.759) and LINESTRING (536.601 266.796, 538.617 259.404) at 536.61121779966879 266.75886806788151\n"
     ]
    },
    {
     "name": "stdout",
     "output_type": "stream",
     "text": [
      " 200\n",
      "Throw out later : Topological error #67, tile"
     ]
    },
    {
     "name": "stderr",
     "output_type": "stream",
     "text": [
      "ERROR:shapely.geos:TopologyException: found non-noded intersection between LINESTRING (536.619 266.73, 536.611 266.759) and LINESTRING (536.601 266.796, 538.617 259.404) at 536.61121779966879 266.75886806788151\n"
     ]
    },
    {
     "name": "stdout",
     "output_type": "stream",
     "text": [
      " 200\n",
      "First toplological error, tile"
     ]
    },
    {
     "name": "stderr",
     "output_type": "stream",
     "text": [
      "ERROR:shapely.geos:TopologyException: found non-noded intersection between LINESTRING (536.619 266.73, 536.611 266.759) and LINESTRING (536.601 266.796, 538.617 259.404) at 536.61121779966879 266.75886806788151\n"
     ]
    },
    {
     "name": "stdout",
     "output_type": "stream",
     "text": [
      " 201\n",
      "Throw out later : Topological error #67, tile"
     ]
    },
    {
     "name": "stderr",
     "output_type": "stream",
     "text": [
      "ERROR:shapely.geos:TopologyException: found non-noded intersection between LINESTRING (536.619 266.73, 536.611 266.759) and LINESTRING (536.601 266.796, 538.617 259.404) at 536.61121779966879 266.75886806788151\n"
     ]
    },
    {
     "name": "stdout",
     "output_type": "stream",
     "text": [
      " 201\n",
      "First toplological error, tile"
     ]
    },
    {
     "name": "stderr",
     "output_type": "stream",
     "text": [
      "ERROR:shapely.geos:TopologyException: found non-noded intersection between LINESTRING (536.619 266.73, 536.611 266.759) and LINESTRING (536.601 266.796, 538.617 259.404) at 536.61121779966879 266.75886806788151\n"
     ]
    },
    {
     "name": "stdout",
     "output_type": "stream",
     "text": [
      " 202\n",
      "Throw out later : Topological error #67, tile"
     ]
    },
    {
     "name": "stderr",
     "output_type": "stream",
     "text": [
      "ERROR:shapely.geos:TopologyException: found non-noded intersection between LINESTRING (536.619 266.73, 536.611 266.759) and LINESTRING (536.601 266.796, 538.617 259.404) at 536.61121779966879 266.75886806788151\n"
     ]
    },
    {
     "name": "stdout",
     "output_type": "stream",
     "text": [
      " 202\n",
      "First toplological error, tile"
     ]
    },
    {
     "name": "stderr",
     "output_type": "stream",
     "text": [
      "ERROR:shapely.geos:TopologyException: found non-noded intersection between LINESTRING (536.619 266.73, 536.611 266.759) and LINESTRING (536.601 266.796, 538.617 259.404) at 536.61121779966879 266.75886806788151\n"
     ]
    },
    {
     "name": "stdout",
     "output_type": "stream",
     "text": [
      " 203\n",
      "Throw out later : Topological error #67, tile"
     ]
    },
    {
     "name": "stderr",
     "output_type": "stream",
     "text": [
      "ERROR:shapely.geos:TopologyException: found non-noded intersection between LINESTRING (536.619 266.73, 536.611 266.759) and LINESTRING (536.601 266.796, 538.617 259.404) at 536.61121779966879 266.75886806788151\n"
     ]
    },
    {
     "name": "stdout",
     "output_type": "stream",
     "text": [
      " 203\n",
      "First toplological error, tile"
     ]
    },
    {
     "name": "stderr",
     "output_type": "stream",
     "text": [
      "ERROR:shapely.geos:TopologyException: found non-noded intersection between LINESTRING (536.619 266.73, 536.611 266.759) and LINESTRING (536.601 266.796, 538.617 259.404) at 536.61121779966879 266.75886806788151\n"
     ]
    },
    {
     "name": "stdout",
     "output_type": "stream",
     "text": [
      " 204\n",
      "Throw out later : Topological error #67, tile"
     ]
    },
    {
     "name": "stderr",
     "output_type": "stream",
     "text": [
      "ERROR:shapely.geos:TopologyException: found non-noded intersection between LINESTRING (536.619 266.73, 536.611 266.759) and LINESTRING (536.601 266.796, 538.617 259.404) at 536.61121779966879 266.75886806788151\n"
     ]
    },
    {
     "name": "stdout",
     "output_type": "stream",
     "text": [
      " 204\n",
      "First toplological error, tile"
     ]
    },
    {
     "name": "stderr",
     "output_type": "stream",
     "text": [
      "ERROR:shapely.geos:TopologyException: found non-noded intersection between LINESTRING (536.619 266.73, 536.611 266.759) and LINESTRING (536.601 266.796, 538.617 259.404) at 536.61121779966879 266.75886806788151\n"
     ]
    },
    {
     "name": "stdout",
     "output_type": "stream",
     "text": [
      " 205\n",
      "Throw out later : Topological error #67, tile"
     ]
    },
    {
     "name": "stderr",
     "output_type": "stream",
     "text": [
      "ERROR:shapely.geos:TopologyException: found non-noded intersection between LINESTRING (536.619 266.73, 536.611 266.759) and LINESTRING (536.601 266.796, 538.617 259.404) at 536.61121779966879 266.75886806788151\n"
     ]
    },
    {
     "name": "stdout",
     "output_type": "stream",
     "text": [
      " 205\n",
      "First toplological error, tile"
     ]
    },
    {
     "name": "stderr",
     "output_type": "stream",
     "text": [
      "ERROR:shapely.geos:TopologyException: found non-noded intersection between LINESTRING (536.619 266.73, 536.611 266.759) and LINESTRING (536.601 266.796, 538.617 259.404) at 536.61121779966879 266.75886806788151\n"
     ]
    },
    {
     "name": "stdout",
     "output_type": "stream",
     "text": [
      " 206\n",
      "Throw out later : Topological error #67, tile"
     ]
    },
    {
     "name": "stderr",
     "output_type": "stream",
     "text": [
      "ERROR:shapely.geos:TopologyException: found non-noded intersection between LINESTRING (536.619 266.73, 536.611 266.759) and LINESTRING (536.601 266.796, 538.617 259.404) at 536.61121779966879 266.75886806788151\n"
     ]
    },
    {
     "name": "stdout",
     "output_type": "stream",
     "text": [
      " 206\n",
      "First toplological error, tile"
     ]
    },
    {
     "name": "stderr",
     "output_type": "stream",
     "text": [
      "ERROR:shapely.geos:TopologyException: found non-noded intersection between LINESTRING (536.619 266.73, 536.611 266.759) and LINESTRING (536.601 266.796, 538.617 259.404) at 536.61121779966879 266.75886806788151\n"
     ]
    },
    {
     "name": "stdout",
     "output_type": "stream",
     "text": [
      " 207\n",
      "Throw out later : Topological error #67, tile"
     ]
    },
    {
     "name": "stderr",
     "output_type": "stream",
     "text": [
      "ERROR:shapely.geos:TopologyException: found non-noded intersection between LINESTRING (536.619 266.73, 536.611 266.759) and LINESTRING (536.601 266.796, 538.617 259.404) at 536.61121779966879 266.75886806788151\n"
     ]
    },
    {
     "name": "stdout",
     "output_type": "stream",
     "text": [
      " 207\n",
      "First toplological error, tile"
     ]
    },
    {
     "name": "stderr",
     "output_type": "stream",
     "text": [
      "ERROR:shapely.geos:TopologyException: found non-noded intersection between LINESTRING (536.619 266.73, 536.611 266.759) and LINESTRING (536.601 266.796, 538.617 259.404) at 536.61121779966879 266.75886806788151\n"
     ]
    },
    {
     "name": "stdout",
     "output_type": "stream",
     "text": [
      " 208\n",
      "Throw out later : Topological error #67, tile"
     ]
    },
    {
     "name": "stderr",
     "output_type": "stream",
     "text": [
      "ERROR:shapely.geos:TopologyException: found non-noded intersection between LINESTRING (536.619 266.73, 536.611 266.759) and LINESTRING (536.601 266.796, 538.617 259.404) at 536.61121779966879 266.75886806788151\n"
     ]
    },
    {
     "name": "stdout",
     "output_type": "stream",
     "text": [
      " 208\n",
      "First toplological error, tile"
     ]
    },
    {
     "name": "stderr",
     "output_type": "stream",
     "text": [
      "ERROR:shapely.geos:TopologyException: found non-noded intersection between LINESTRING (536.619 266.73, 536.611 266.759) and LINESTRING (536.601 266.796, 538.617 259.404) at 536.61121779966879 266.75886806788151\n"
     ]
    },
    {
     "name": "stdout",
     "output_type": "stream",
     "text": [
      " 209\n",
      "Throw out later : Topological error #67, tile"
     ]
    },
    {
     "name": "stderr",
     "output_type": "stream",
     "text": [
      "ERROR:shapely.geos:TopologyException: found non-noded intersection between LINESTRING (536.619 266.73, 536.611 266.759) and LINESTRING (536.601 266.796, 538.617 259.404) at 536.61121779966879 266.75886806788151\n"
     ]
    },
    {
     "name": "stdout",
     "output_type": "stream",
     "text": [
      " 209\n",
      "First toplological error, tile"
     ]
    },
    {
     "name": "stderr",
     "output_type": "stream",
     "text": [
      "ERROR:shapely.geos:TopologyException: found non-noded intersection between LINESTRING (536.619 266.73, 536.611 266.759) and LINESTRING (536.601 266.796, 538.617 259.404) at 536.61121779966879 266.75886806788151\n"
     ]
    },
    {
     "name": "stdout",
     "output_type": "stream",
     "text": [
      " 210\n",
      "Throw out later : Topological error #67, tile"
     ]
    },
    {
     "name": "stderr",
     "output_type": "stream",
     "text": [
      "ERROR:shapely.geos:TopologyException: found non-noded intersection between LINESTRING (536.619 266.73, 536.611 266.759) and LINESTRING (536.601 266.796, 538.617 259.404) at 536.61121779966879 266.75886806788151\n"
     ]
    },
    {
     "name": "stdout",
     "output_type": "stream",
     "text": [
      " 210\n",
      "First toplological error, tile"
     ]
    },
    {
     "name": "stderr",
     "output_type": "stream",
     "text": [
      "ERROR:shapely.geos:TopologyException: found non-noded intersection between LINESTRING (536.619 266.73, 536.611 266.759) and LINESTRING (536.601 266.796, 538.617 259.404) at 536.61121779966879 266.75886806788151\n"
     ]
    },
    {
     "name": "stdout",
     "output_type": "stream",
     "text": [
      " 211\n",
      "Throw out later : Topological error #67, tile"
     ]
    },
    {
     "name": "stderr",
     "output_type": "stream",
     "text": [
      "ERROR:shapely.geos:TopologyException: found non-noded intersection between LINESTRING (536.619 266.73, 536.611 266.759) and LINESTRING (536.601 266.796, 538.617 259.404) at 536.61121779966879 266.75886806788151\n"
     ]
    },
    {
     "name": "stdout",
     "output_type": "stream",
     "text": [
      " 211\n",
      "First toplological error, tile"
     ]
    },
    {
     "name": "stderr",
     "output_type": "stream",
     "text": [
      "ERROR:shapely.geos:TopologyException: found non-noded intersection between LINESTRING (536.619 266.73, 536.611 266.759) and LINESTRING (536.601 266.796, 538.617 259.404) at 536.61121779966879 266.75886806788151\n"
     ]
    },
    {
     "name": "stdout",
     "output_type": "stream",
     "text": [
      " 212\n",
      "Throw out later : Topological error #67, tile"
     ]
    },
    {
     "name": "stderr",
     "output_type": "stream",
     "text": [
      "ERROR:shapely.geos:TopologyException: found non-noded intersection between LINESTRING (536.619 266.73, 536.611 266.759) and LINESTRING (536.601 266.796, 538.617 259.404) at 536.61121779966879 266.75886806788151\n"
     ]
    },
    {
     "name": "stdout",
     "output_type": "stream",
     "text": [
      " 212\n",
      "First toplological error, tile"
     ]
    },
    {
     "name": "stderr",
     "output_type": "stream",
     "text": [
      "ERROR:shapely.geos:TopologyException: found non-noded intersection between LINESTRING (536.619 266.73, 536.611 266.759) and LINESTRING (536.601 266.796, 538.617 259.404) at 536.61121779966879 266.75886806788151\n"
     ]
    },
    {
     "name": "stdout",
     "output_type": "stream",
     "text": [
      " 213\n",
      "Throw out later : Topological error #67, tile"
     ]
    },
    {
     "name": "stderr",
     "output_type": "stream",
     "text": [
      "ERROR:shapely.geos:TopologyException: found non-noded intersection between LINESTRING (536.619 266.73, 536.611 266.759) and LINESTRING (536.601 266.796, 538.617 259.404) at 536.61121779966879 266.75886806788151\n"
     ]
    },
    {
     "name": "stdout",
     "output_type": "stream",
     "text": [
      " 213\n",
      "First toplological error, tile"
     ]
    },
    {
     "name": "stderr",
     "output_type": "stream",
     "text": [
      "ERROR:shapely.geos:TopologyException: found non-noded intersection between LINESTRING (536.619 266.73, 536.611 266.759) and LINESTRING (536.601 266.796, 538.617 259.404) at 536.61121779966879 266.75886806788151\n"
     ]
    },
    {
     "name": "stdout",
     "output_type": "stream",
     "text": [
      " 214\n",
      "Throw out later : Topological error #67, tile"
     ]
    },
    {
     "name": "stderr",
     "output_type": "stream",
     "text": [
      "ERROR:shapely.geos:TopologyException: found non-noded intersection between LINESTRING (536.619 266.73, 536.611 266.759) and LINESTRING (536.601 266.796, 538.617 259.404) at 536.61121779966879 266.75886806788151\n"
     ]
    },
    {
     "name": "stdout",
     "output_type": "stream",
     "text": [
      " 214\n",
      "First toplological error, tile"
     ]
    },
    {
     "name": "stderr",
     "output_type": "stream",
     "text": [
      "ERROR:shapely.geos:TopologyException: found non-noded intersection between LINESTRING (536.619 266.73, 536.611 266.759) and LINESTRING (536.601 266.796, 538.617 259.404) at 536.61121779966879 266.75886806788151\n"
     ]
    },
    {
     "name": "stdout",
     "output_type": "stream",
     "text": [
      " 215\n",
      "Throw out later : Topological error #67, tile"
     ]
    },
    {
     "name": "stderr",
     "output_type": "stream",
     "text": [
      "ERROR:shapely.geos:TopologyException: found non-noded intersection between LINESTRING (536.619 266.73, 536.611 266.759) and LINESTRING (536.601 266.796, 538.617 259.404) at 536.61121779966879 266.75886806788151\n"
     ]
    },
    {
     "name": "stdout",
     "output_type": "stream",
     "text": [
      " 215\n",
      "First toplological error, tile"
     ]
    },
    {
     "name": "stderr",
     "output_type": "stream",
     "text": [
      "ERROR:shapely.geos:TopologyException: found non-noded intersection between LINESTRING (536.619 266.73, 536.611 266.759) and LINESTRING (536.601 266.796, 538.617 259.404) at 536.61121779966879 266.75886806788151\n"
     ]
    },
    {
     "name": "stdout",
     "output_type": "stream",
     "text": [
      " 216\n",
      "Throw out later : Topological error #67, tile"
     ]
    },
    {
     "name": "stderr",
     "output_type": "stream",
     "text": [
      "ERROR:shapely.geos:TopologyException: found non-noded intersection between LINESTRING (536.619 266.73, 536.611 266.759) and LINESTRING (536.601 266.796, 538.617 259.404) at 536.61121779966879 266.75886806788151\n"
     ]
    },
    {
     "name": "stdout",
     "output_type": "stream",
     "text": [
      " 216\n",
      "First toplological error, tile"
     ]
    },
    {
     "name": "stderr",
     "output_type": "stream",
     "text": [
      "ERROR:shapely.geos:TopologyException: found non-noded intersection between LINESTRING (536.619 266.73, 536.611 266.759) and LINESTRING (536.601 266.796, 538.617 259.404) at 536.61121779966879 266.75886806788151\n"
     ]
    },
    {
     "name": "stdout",
     "output_type": "stream",
     "text": [
      " 217\n",
      "Throw out later : Topological error #67, tile"
     ]
    },
    {
     "name": "stderr",
     "output_type": "stream",
     "text": [
      "ERROR:shapely.geos:TopologyException: found non-noded intersection between LINESTRING (536.619 266.73, 536.611 266.759) and LINESTRING (536.601 266.796, 538.617 259.404) at 536.61121779966879 266.75886806788151\n"
     ]
    },
    {
     "name": "stdout",
     "output_type": "stream",
     "text": [
      " 217\n",
      "First toplological error, tile"
     ]
    },
    {
     "name": "stderr",
     "output_type": "stream",
     "text": [
      "ERROR:shapely.geos:TopologyException: found non-noded intersection between LINESTRING (536.619 266.73, 536.611 266.759) and LINESTRING (536.601 266.796, 538.617 259.404) at 536.61121779966879 266.75886806788151\n"
     ]
    },
    {
     "name": "stdout",
     "output_type": "stream",
     "text": [
      " 218\n",
      "Throw out later : Topological error #67, tile"
     ]
    },
    {
     "name": "stderr",
     "output_type": "stream",
     "text": [
      "ERROR:shapely.geos:TopologyException: found non-noded intersection between LINESTRING (536.619 266.73, 536.611 266.759) and LINESTRING (536.601 266.796, 538.617 259.404) at 536.61121779966879 266.75886806788151\n"
     ]
    },
    {
     "name": "stdout",
     "output_type": "stream",
     "text": [
      " 218\n",
      "First toplological error, tile"
     ]
    },
    {
     "name": "stderr",
     "output_type": "stream",
     "text": [
      "ERROR:shapely.geos:TopologyException: found non-noded intersection between LINESTRING (536.619 266.73, 536.611 266.759) and LINESTRING (536.601 266.796, 538.617 259.404) at 536.61121779966879 266.75886806788151\n"
     ]
    },
    {
     "name": "stdout",
     "output_type": "stream",
     "text": [
      " 219\n",
      "Throw out later : Topological error #67, tile"
     ]
    },
    {
     "name": "stderr",
     "output_type": "stream",
     "text": [
      "ERROR:shapely.geos:TopologyException: found non-noded intersection between LINESTRING (499.553 230.404, 499.553 230.404) and LINESTRING (499.553 230.404, 493 229) at 499.55319148957011 230.40425531919357\n"
     ]
    },
    {
     "name": "stdout",
     "output_type": "stream",
     "text": [
      " 219\n",
      "First toplological error, tile"
     ]
    },
    {
     "name": "stderr",
     "output_type": "stream",
     "text": [
      "ERROR:shapely.geos:TopologyException: found non-noded intersection between LINESTRING (536.619 266.73, 536.611 266.759) and LINESTRING (536.601 266.796, 538.617 259.404) at 536.61121779966879 266.75886806788151\n"
     ]
    },
    {
     "name": "stdout",
     "output_type": "stream",
     "text": [
      " 220\n",
      "Throw out later : Topological error #67, tile"
     ]
    },
    {
     "name": "stderr",
     "output_type": "stream",
     "text": [
      "ERROR:shapely.geos:TopologyException: found non-noded intersection between LINESTRING (499.5 230.375, 500 230.5) and LINESTRING (500 230.5, 500 230.5) at 499.99999999999903 230.49999999999977\n"
     ]
    },
    {
     "name": "stdout",
     "output_type": "stream",
     "text": [
      " 220\n",
      "First toplological error, tile"
     ]
    },
    {
     "name": "stderr",
     "output_type": "stream",
     "text": [
      "ERROR:shapely.geos:TopologyException: found non-noded intersection between LINESTRING (536.619 266.73, 536.611 266.759) and LINESTRING (536.601 266.796, 538.617 259.404) at 536.61121779966879 266.75886806788151\n"
     ]
    },
    {
     "name": "stdout",
     "output_type": "stream",
     "text": [
      " 221\n",
      "Throw out later : Topological error #67, tile"
     ]
    },
    {
     "name": "stderr",
     "output_type": "stream",
     "text": [
      "ERROR:shapely.geos:TopologyException: found non-noded intersection between LINESTRING (536.619 266.73, 536.611 266.759) and LINESTRING (536.601 266.796, 538.617 259.404) at 536.61121779966879 266.75886806788151\n"
     ]
    },
    {
     "name": "stdout",
     "output_type": "stream",
     "text": [
      " 221\n",
      "First toplological error, tile"
     ]
    },
    {
     "name": "stderr",
     "output_type": "stream",
     "text": [
      "ERROR:shapely.geos:TopologyException: found non-noded intersection between LINESTRING (536.619 266.73, 536.611 266.759) and LINESTRING (536.601 266.796, 538.617 259.404) at 536.61121779966879 266.75886806788151\n"
     ]
    },
    {
     "name": "stdout",
     "output_type": "stream",
     "text": [
      " 222\n",
      "Throw out later : Topological error #67, tile"
     ]
    },
    {
     "name": "stderr",
     "output_type": "stream",
     "text": [
      "ERROR:shapely.geos:TopologyException: found non-noded intersection between LINESTRING (536.619 266.73, 536.611 266.759) and LINESTRING (536.601 266.796, 538.617 259.404) at 536.61121779966879 266.75886806788151\n"
     ]
    },
    {
     "name": "stdout",
     "output_type": "stream",
     "text": [
      " 222\n",
      "First toplological error, tile"
     ]
    },
    {
     "name": "stderr",
     "output_type": "stream",
     "text": [
      "ERROR:shapely.geos:TopologyException: found non-noded intersection between LINESTRING (536.619 266.73, 536.611 266.759) and LINESTRING (536.601 266.796, 538.617 259.404) at 536.61121779966879 266.75886806788151\n"
     ]
    },
    {
     "name": "stdout",
     "output_type": "stream",
     "text": [
      " 223\n",
      "Throw out later : Topological error #67, tile"
     ]
    },
    {
     "name": "stderr",
     "output_type": "stream",
     "text": [
      "ERROR:shapely.geos:TopologyException: found non-noded intersection between LINESTRING (536.619 266.73, 536.611 266.759) and LINESTRING (536.601 266.796, 538.617 259.404) at 536.61121779966879 266.75886806788151\n"
     ]
    },
    {
     "name": "stdout",
     "output_type": "stream",
     "text": [
      " 223\n",
      "First toplological error, tile"
     ]
    },
    {
     "name": "stderr",
     "output_type": "stream",
     "text": [
      "ERROR:shapely.geos:TopologyException: found non-noded intersection between LINESTRING (536.619 266.73, 536.611 266.759) and LINESTRING (536.601 266.796, 538.617 259.404) at 536.61121779966879 266.75886806788151\n"
     ]
    },
    {
     "name": "stdout",
     "output_type": "stream",
     "text": [
      " 224\n",
      "Throw out later : Topological error #67, tile"
     ]
    },
    {
     "name": "stderr",
     "output_type": "stream",
     "text": [
      "ERROR:shapely.geos:TopologyException: found non-noded intersection between LINESTRING (536.619 266.73, 536.611 266.759) and LINESTRING (536.601 266.796, 538.617 259.404) at 536.61121779966879 266.75886806788151\n"
     ]
    },
    {
     "name": "stdout",
     "output_type": "stream",
     "text": [
      " 224\n",
      "First toplological error, tile"
     ]
    },
    {
     "name": "stderr",
     "output_type": "stream",
     "text": [
      "ERROR:shapely.geos:TopologyException: found non-noded intersection between LINESTRING (536.619 266.73, 536.611 266.759) and LINESTRING (536.601 266.796, 538.617 259.404) at 536.61121779966879 266.75886806788151\n"
     ]
    },
    {
     "name": "stdout",
     "output_type": "stream",
     "text": [
      " 225\n",
      "Throw out later : Topological error #67, tile"
     ]
    },
    {
     "name": "stderr",
     "output_type": "stream",
     "text": [
      "ERROR:shapely.geos:TopologyException: found non-noded intersection between LINESTRING (536.619 266.73, 536.611 266.759) and LINESTRING (536.601 266.796, 538.617 259.404) at 536.61121779966879 266.75886806788151\n"
     ]
    },
    {
     "name": "stdout",
     "output_type": "stream",
     "text": [
      " 225\n",
      "First toplological error, tile"
     ]
    },
    {
     "name": "stderr",
     "output_type": "stream",
     "text": [
      "ERROR:shapely.geos:TopologyException: found non-noded intersection between LINESTRING (536.619 266.73, 536.611 266.759) and LINESTRING (536.601 266.796, 538.617 259.404) at 536.61121779966879 266.75886806788151\n"
     ]
    },
    {
     "name": "stdout",
     "output_type": "stream",
     "text": [
      " 226\n",
      "Throw out later : Topological error #67, tile"
     ]
    },
    {
     "name": "stderr",
     "output_type": "stream",
     "text": [
      "ERROR:shapely.geos:TopologyException: found non-noded intersection between LINESTRING (536.619 266.73, 536.611 266.759) and LINESTRING (536.601 266.796, 538.617 259.404) at 536.61121779966879 266.75886806788151\n"
     ]
    },
    {
     "name": "stdout",
     "output_type": "stream",
     "text": [
      " 226\n",
      "First toplological error, tile"
     ]
    },
    {
     "name": "stderr",
     "output_type": "stream",
     "text": [
      "ERROR:shapely.geos:TopologyException: found non-noded intersection between LINESTRING (536.619 266.73, 536.611 266.759) and LINESTRING (536.601 266.796, 538.617 259.404) at 536.61121779966879 266.75886806788151\n"
     ]
    },
    {
     "name": "stdout",
     "output_type": "stream",
     "text": [
      " 227\n",
      "Throw out later : Topological error #67, tile"
     ]
    },
    {
     "name": "stderr",
     "output_type": "stream",
     "text": [
      "ERROR:shapely.geos:TopologyException: found non-noded intersection between LINESTRING (536.619 266.73, 536.611 266.759) and LINESTRING (536.601 266.796, 538.617 259.404) at 536.61121779966879 266.75886806788151\n"
     ]
    },
    {
     "name": "stdout",
     "output_type": "stream",
     "text": [
      " 227\n",
      "First toplological error, tile"
     ]
    },
    {
     "name": "stderr",
     "output_type": "stream",
     "text": [
      "ERROR:shapely.geos:TopologyException: found non-noded intersection between LINESTRING (536.619 266.73, 536.611 266.759) and LINESTRING (536.601 266.796, 538.617 259.404) at 536.61121779966879 266.75886806788151\n"
     ]
    },
    {
     "name": "stdout",
     "output_type": "stream",
     "text": [
      " 228\n",
      "Throw out later : Topological error #67, tile"
     ]
    },
    {
     "name": "stderr",
     "output_type": "stream",
     "text": [
      "ERROR:shapely.geos:TopologyException: found non-noded intersection between LINESTRING (536.619 266.73, 536.611 266.759) and LINESTRING (536.601 266.796, 538.617 259.404) at 536.61121779966879 266.75886806788151\n"
     ]
    },
    {
     "name": "stdout",
     "output_type": "stream",
     "text": [
      " 228\n",
      "First toplological error, tile"
     ]
    },
    {
     "name": "stderr",
     "output_type": "stream",
     "text": [
      "ERROR:shapely.geos:TopologyException: found non-noded intersection between LINESTRING (536.619 266.73, 536.611 266.759) and LINESTRING (536.601 266.796, 538.617 259.404) at 536.61121779966879 266.75886806788151\n"
     ]
    },
    {
     "name": "stdout",
     "output_type": "stream",
     "text": [
      " 229\n",
      "Throw out later : Topological error #67, tile"
     ]
    },
    {
     "name": "stderr",
     "output_type": "stream",
     "text": [
      "ERROR:shapely.geos:TopologyException: found non-noded intersection between LINESTRING (388 282, 392.413 293.54) and LINESTRING (392.413 293.54, 386.815 260.579) at 392.41253263707563 293.54046997389008\n"
     ]
    },
    {
     "name": "stdout",
     "output_type": "stream",
     "text": [
      " 229\n",
      "First toplological error, tile"
     ]
    },
    {
     "name": "stderr",
     "output_type": "stream",
     "text": [
      "ERROR:shapely.geos:TopologyException: found non-noded intersection between LINESTRING (536.619 266.73, 536.611 266.759) and LINESTRING (536.601 266.796, 538.617 259.404) at 536.61121779966879 266.75886806788151\n"
     ]
    },
    {
     "name": "stdout",
     "output_type": "stream",
     "text": [
      " 230\n",
      "Throw out later : Topological error #67, tile"
     ]
    },
    {
     "name": "stderr",
     "output_type": "stream",
     "text": [
      "ERROR:shapely.geos:TopologyException: found non-noded intersection between LINESTRING (536.619 266.73, 536.611 266.759) and LINESTRING (536.601 266.796, 538.617 259.404) at 536.61121779966879 266.75886806788151\n"
     ]
    },
    {
     "name": "stdout",
     "output_type": "stream",
     "text": [
      " 230\n",
      "First toplological error, tile"
     ]
    },
    {
     "name": "stderr",
     "output_type": "stream",
     "text": [
      "ERROR:shapely.geos:TopologyException: found non-noded intersection between LINESTRING (536.619 266.73, 536.611 266.759) and LINESTRING (536.601 266.796, 538.617 259.404) at 536.61121779966879 266.75886806788151\n"
     ]
    },
    {
     "name": "stdout",
     "output_type": "stream",
     "text": [
      " 231\n",
      "Throw out later : Topological error #67, tile"
     ]
    },
    {
     "name": "stderr",
     "output_type": "stream",
     "text": [
      "ERROR:shapely.geos:TopologyException: found non-noded intersection between LINESTRING (536.619 266.73, 536.611 266.759) and LINESTRING (536.601 266.796, 538.617 259.404) at 536.61121779966879 266.75886806788151\n"
     ]
    },
    {
     "name": "stdout",
     "output_type": "stream",
     "text": [
      " 231\n",
      "First toplological error, tile"
     ]
    },
    {
     "name": "stderr",
     "output_type": "stream",
     "text": [
      "ERROR:shapely.geos:TopologyException: found non-noded intersection between LINESTRING (536.619 266.73, 536.611 266.759) and LINESTRING (536.601 266.796, 538.617 259.404) at 536.61121779966879 266.75886806788151\n"
     ]
    },
    {
     "name": "stdout",
     "output_type": "stream",
     "text": [
      " 232\n",
      "Throw out later : Topological error #67, tile"
     ]
    },
    {
     "name": "stderr",
     "output_type": "stream",
     "text": [
      "ERROR:shapely.geos:TopologyException: found non-noded intersection between LINESTRING (536.619 266.73, 536.611 266.759) and LINESTRING (536.601 266.796, 538.617 259.404) at 536.61121779966879 266.75886806788151\n"
     ]
    },
    {
     "name": "stdout",
     "output_type": "stream",
     "text": [
      " 232\n",
      "First toplological error, tile"
     ]
    },
    {
     "name": "stderr",
     "output_type": "stream",
     "text": [
      "ERROR:shapely.geos:TopologyException: found non-noded intersection between LINESTRING (536.619 266.73, 536.611 266.759) and LINESTRING (536.601 266.796, 538.617 259.404) at 536.61121779966879 266.75886806788151\n"
     ]
    },
    {
     "name": "stdout",
     "output_type": "stream",
     "text": [
      " 233\n",
      "Throw out later : Topological error #67, tile"
     ]
    },
    {
     "name": "stderr",
     "output_type": "stream",
     "text": [
      "ERROR:shapely.geos:TopologyException: found non-noded intersection between LINESTRING (536.619 266.73, 536.611 266.759) and LINESTRING (536.601 266.796, 538.617 259.404) at 536.61121779966879 266.75886806788151\n"
     ]
    },
    {
     "name": "stdout",
     "output_type": "stream",
     "text": [
      " 233\n",
      "First toplological error, tile"
     ]
    },
    {
     "name": "stderr",
     "output_type": "stream",
     "text": [
      "ERROR:shapely.geos:TopologyException: found non-noded intersection between LINESTRING (536.619 266.73, 536.611 266.759) and LINESTRING (536.601 266.796, 538.617 259.404) at 536.61121779966879 266.75886806788151\n"
     ]
    },
    {
     "name": "stdout",
     "output_type": "stream",
     "text": [
      " 234\n",
      "Throw out later : Topological error #67, tile"
     ]
    },
    {
     "name": "stderr",
     "output_type": "stream",
     "text": [
      "ERROR:shapely.geos:TopologyException: found non-noded intersection between LINESTRING (536.619 266.73, 536.611 266.759) and LINESTRING (536.601 266.796, 538.617 259.404) at 536.61121779966879 266.75886806788151\n"
     ]
    },
    {
     "name": "stdout",
     "output_type": "stream",
     "text": [
      " 234\n",
      "First toplological error, tile"
     ]
    },
    {
     "name": "stderr",
     "output_type": "stream",
     "text": [
      "ERROR:shapely.geos:TopologyException: found non-noded intersection between LINESTRING (536.619 266.73, 536.611 266.759) and LINESTRING (536.601 266.796, 538.617 259.404) at 536.61121779966879 266.75886806788151\n"
     ]
    },
    {
     "name": "stdout",
     "output_type": "stream",
     "text": [
      " 235\n",
      "Throw out later : Topological error #67, tile"
     ]
    },
    {
     "name": "stderr",
     "output_type": "stream",
     "text": [
      "ERROR:shapely.geos:TopologyException: found non-noded intersection between LINESTRING (536.619 266.73, 536.611 266.759) and LINESTRING (536.601 266.796, 538.617 259.404) at 536.61121779966879 266.75886806788151\n"
     ]
    },
    {
     "name": "stdout",
     "output_type": "stream",
     "text": [
      " 235\n",
      "First toplological error, tile"
     ]
    },
    {
     "name": "stderr",
     "output_type": "stream",
     "text": [
      "ERROR:shapely.geos:TopologyException: found non-noded intersection between LINESTRING (536.619 266.73, 536.611 266.759) and LINESTRING (536.601 266.796, 538.617 259.404) at 536.61121779966879 266.75886806788151\n"
     ]
    },
    {
     "name": "stdout",
     "output_type": "stream",
     "text": [
      " 236\n",
      "Throw out later : Topological error #67, tile"
     ]
    },
    {
     "name": "stderr",
     "output_type": "stream",
     "text": [
      "ERROR:shapely.geos:TopologyException: found non-noded intersection between LINESTRING (536.619 266.73, 536.611 266.759) and LINESTRING (536.601 266.796, 538.617 259.404) at 536.61121779966879 266.75886806788151\n"
     ]
    },
    {
     "name": "stdout",
     "output_type": "stream",
     "text": [
      " 236\n",
      "First toplological error, tile"
     ]
    },
    {
     "name": "stderr",
     "output_type": "stream",
     "text": [
      "ERROR:shapely.geos:TopologyException: found non-noded intersection between LINESTRING (536.619 266.73, 536.611 266.759) and LINESTRING (536.601 266.796, 538.617 259.404) at 536.61121779966879 266.75886806788151\n"
     ]
    },
    {
     "name": "stdout",
     "output_type": "stream",
     "text": [
      " 237\n",
      "Throw out later : Topological error #67, tile"
     ]
    },
    {
     "name": "stderr",
     "output_type": "stream",
     "text": [
      "ERROR:shapely.geos:TopologyException: found non-noded intersection between LINESTRING (536.619 266.73, 536.611 266.759) and LINESTRING (536.601 266.796, 538.617 259.404) at 536.61121779966879 266.75886806788151\n"
     ]
    },
    {
     "name": "stdout",
     "output_type": "stream",
     "text": [
      " 237\n",
      "First toplological error, tile"
     ]
    },
    {
     "name": "stderr",
     "output_type": "stream",
     "text": [
      "ERROR:shapely.geos:TopologyException: found non-noded intersection between LINESTRING (536.619 266.73, 536.611 266.759) and LINESTRING (536.601 266.796, 538.617 259.404) at 536.61121779966879 266.75886806788151\n"
     ]
    },
    {
     "name": "stdout",
     "output_type": "stream",
     "text": [
      " 238\n",
      "Throw out later : Topological error #67, tile"
     ]
    },
    {
     "name": "stderr",
     "output_type": "stream",
     "text": [
      "ERROR:shapely.geos:TopologyException: found non-noded intersection between LINESTRING (536.619 266.73, 536.611 266.759) and LINESTRING (536.601 266.796, 538.617 259.404) at 536.61121779966879 266.75886806788151\n"
     ]
    },
    {
     "name": "stdout",
     "output_type": "stream",
     "text": [
      " 238\n",
      "First toplological error, tile"
     ]
    },
    {
     "name": "stderr",
     "output_type": "stream",
     "text": [
      "ERROR:shapely.geos:TopologyException: found non-noded intersection between LINESTRING (536.619 266.73, 536.611 266.759) and LINESTRING (536.601 266.796, 538.617 259.404) at 536.61121779966879 266.75886806788151\n"
     ]
    },
    {
     "name": "stdout",
     "output_type": "stream",
     "text": [
      " 239\n",
      "Throw out later : Topological error #67, tile"
     ]
    },
    {
     "name": "stderr",
     "output_type": "stream",
     "text": [
      "ERROR:shapely.geos:TopologyException: found non-noded intersection between LINESTRING (536.619 266.73, 536.611 266.759) and LINESTRING (536.601 266.796, 538.617 259.404) at 536.61121779966879 266.75886806788151\n"
     ]
    },
    {
     "name": "stdout",
     "output_type": "stream",
     "text": [
      " 239\n",
      "First toplological error, tile"
     ]
    },
    {
     "name": "stderr",
     "output_type": "stream",
     "text": [
      "ERROR:shapely.geos:TopologyException: found non-noded intersection between LINESTRING (536.619 266.73, 536.611 266.759) and LINESTRING (536.601 266.796, 538.617 259.404) at 536.61121779966879 266.75886806788151\n"
     ]
    },
    {
     "name": "stdout",
     "output_type": "stream",
     "text": [
      " 240\n",
      "Throw out later : Topological error #67, tile"
     ]
    },
    {
     "name": "stderr",
     "output_type": "stream",
     "text": [
      "ERROR:shapely.geos:TopologyException: found non-noded intersection between LINESTRING (536.619 266.73, 536.611 266.759) and LINESTRING (536.601 266.796, 538.617 259.404) at 536.61121779966879 266.75886806788151\n"
     ]
    },
    {
     "name": "stdout",
     "output_type": "stream",
     "text": [
      " 240\n",
      "First toplological error, tile"
     ]
    },
    {
     "name": "stderr",
     "output_type": "stream",
     "text": [
      "ERROR:shapely.geos:TopologyException: found non-noded intersection between LINESTRING (536.619 266.73, 536.611 266.759) and LINESTRING (536.601 266.796, 538.617 259.404) at 536.61121779966879 266.75886806788151\n"
     ]
    },
    {
     "name": "stdout",
     "output_type": "stream",
     "text": [
      " 241\n",
      "Throw out later : Topological error #67, tile"
     ]
    },
    {
     "name": "stderr",
     "output_type": "stream",
     "text": [
      "ERROR:shapely.geos:TopologyException: found non-noded intersection between LINESTRING (536.619 266.73, 536.611 266.759) and LINESTRING (536.601 266.796, 538.617 259.404) at 536.61121779966879 266.75886806788151\n"
     ]
    },
    {
     "name": "stdout",
     "output_type": "stream",
     "text": [
      " 241\n",
      "First toplological error, tile"
     ]
    },
    {
     "name": "stderr",
     "output_type": "stream",
     "text": [
      "ERROR:shapely.geos:TopologyException: found non-noded intersection between LINESTRING (536.619 266.73, 536.611 266.759) and LINESTRING (536.601 266.796, 538.617 259.404) at 536.61121779966879 266.75886806788151\n"
     ]
    },
    {
     "name": "stdout",
     "output_type": "stream",
     "text": [
      " 242\n",
      "Throw out later : Topological error #67, tile"
     ]
    },
    {
     "name": "stderr",
     "output_type": "stream",
     "text": [
      "ERROR:shapely.geos:TopologyException: found non-noded intersection between LINESTRING (536.619 266.73, 536.611 266.759) and LINESTRING (536.601 266.796, 538.617 259.404) at 536.61121779966879 266.75886806788151\n"
     ]
    },
    {
     "name": "stdout",
     "output_type": "stream",
     "text": [
      " 242\n",
      "First toplological error, tile"
     ]
    },
    {
     "name": "stderr",
     "output_type": "stream",
     "text": [
      "ERROR:shapely.geos:TopologyException: found non-noded intersection between LINESTRING (536.619 266.73, 536.611 266.759) and LINESTRING (536.601 266.796, 538.617 259.404) at 536.61121779966879 266.75886806788151\n"
     ]
    },
    {
     "name": "stdout",
     "output_type": "stream",
     "text": [
      " 243\n",
      "Throw out later : Topological error #67, tile"
     ]
    },
    {
     "name": "stderr",
     "output_type": "stream",
     "text": [
      "ERROR:shapely.geos:TopologyException: found non-noded intersection between LINESTRING (536.619 266.73, 536.611 266.759) and LINESTRING (536.601 266.796, 538.617 259.404) at 536.61121779966879 266.75886806788151\n"
     ]
    },
    {
     "name": "stdout",
     "output_type": "stream",
     "text": [
      " 243\n",
      "First toplological error, tile"
     ]
    },
    {
     "name": "stderr",
     "output_type": "stream",
     "text": [
      "ERROR:shapely.geos:TopologyException: found non-noded intersection between LINESTRING (536.619 266.73, 536.611 266.759) and LINESTRING (536.601 266.796, 538.617 259.404) at 536.61121779966879 266.75886806788151\n"
     ]
    },
    {
     "name": "stdout",
     "output_type": "stream",
     "text": [
      " 244\n",
      "Throw out later : Topological error #67, tile"
     ]
    },
    {
     "name": "stderr",
     "output_type": "stream",
     "text": [
      "ERROR:shapely.geos:TopologyException: found non-noded intersection between LINESTRING (536.619 266.73, 536.611 266.759) and LINESTRING (536.601 266.796, 538.617 259.404) at 536.61121779966879 266.75886806788151\n"
     ]
    },
    {
     "name": "stdout",
     "output_type": "stream",
     "text": [
      " 244\n",
      "First toplological error, tile"
     ]
    },
    {
     "name": "stderr",
     "output_type": "stream",
     "text": [
      "ERROR:shapely.geos:TopologyException: found non-noded intersection between LINESTRING (536.619 266.73, 536.611 266.759) and LINESTRING (536.601 266.796, 538.617 259.404) at 536.61121779966879 266.75886806788151\n"
     ]
    },
    {
     "name": "stdout",
     "output_type": "stream",
     "text": [
      " 245\n",
      "Throw out later : Topological error #67, tile"
     ]
    },
    {
     "name": "stderr",
     "output_type": "stream",
     "text": [
      "ERROR:shapely.geos:TopologyException: found non-noded intersection between LINESTRING (536.619 266.73, 536.611 266.759) and LINESTRING (536.601 266.796, 538.617 259.404) at 536.61121779966879 266.75886806788151\n"
     ]
    },
    {
     "name": "stdout",
     "output_type": "stream",
     "text": [
      " 245\n",
      "First toplological error, tile"
     ]
    },
    {
     "name": "stderr",
     "output_type": "stream",
     "text": [
      "ERROR:shapely.geos:TopologyException: found non-noded intersection between LINESTRING (536.619 266.73, 536.611 266.759) and LINESTRING (536.601 266.796, 538.617 259.404) at 536.61121779966879 266.75886806788151\n"
     ]
    },
    {
     "name": "stdout",
     "output_type": "stream",
     "text": [
      " 246\n",
      "Throw out later : Topological error #67, tile"
     ]
    },
    {
     "name": "stderr",
     "output_type": "stream",
     "text": [
      "ERROR:shapely.geos:TopologyException: found non-noded intersection between LINESTRING (536.619 266.73, 536.611 266.759) and LINESTRING (536.601 266.796, 538.617 259.404) at 536.61121779966879 266.75886806788151\n"
     ]
    },
    {
     "name": "stdout",
     "output_type": "stream",
     "text": [
      " 246\n",
      "First toplological error, tile"
     ]
    },
    {
     "name": "stderr",
     "output_type": "stream",
     "text": [
      "ERROR:shapely.geos:TopologyException: found non-noded intersection between LINESTRING (536.619 266.73, 536.611 266.759) and LINESTRING (536.601 266.796, 538.617 259.404) at 536.61121779966879 266.75886806788151\n"
     ]
    },
    {
     "name": "stdout",
     "output_type": "stream",
     "text": [
      " 247\n",
      "Throw out later : Topological error #67, tile"
     ]
    },
    {
     "name": "stderr",
     "output_type": "stream",
     "text": [
      "ERROR:shapely.geos:TopologyException: found non-noded intersection between LINESTRING (536.619 266.73, 536.611 266.759) and LINESTRING (536.601 266.796, 538.617 259.404) at 536.61121779966879 266.75886806788151\n"
     ]
    },
    {
     "name": "stdout",
     "output_type": "stream",
     "text": [
      " 247\n",
      "First toplological error, tile"
     ]
    },
    {
     "name": "stderr",
     "output_type": "stream",
     "text": [
      "ERROR:shapely.geos:TopologyException: found non-noded intersection between LINESTRING (536.619 266.73, 536.611 266.759) and LINESTRING (536.601 266.796, 538.617 259.404) at 536.61121779966879 266.75886806788151\n"
     ]
    },
    {
     "name": "stdout",
     "output_type": "stream",
     "text": [
      " 248\n",
      "Throw out later : Topological error #67, tile"
     ]
    },
    {
     "name": "stderr",
     "output_type": "stream",
     "text": [
      "ERROR:shapely.geos:TopologyException: found non-noded intersection between LINESTRING (536.619 266.73, 536.611 266.759) and LINESTRING (536.601 266.796, 538.617 259.404) at 536.61121779966879 266.75886806788151\n"
     ]
    },
    {
     "name": "stdout",
     "output_type": "stream",
     "text": [
      " 248\n",
      "First toplological error, tile"
     ]
    },
    {
     "name": "stderr",
     "output_type": "stream",
     "text": [
      "ERROR:shapely.geos:TopologyException: found non-noded intersection between LINESTRING (536.619 266.73, 536.611 266.759) and LINESTRING (536.601 266.796, 538.617 259.404) at 536.61121779966879 266.75886806788151\n"
     ]
    },
    {
     "name": "stdout",
     "output_type": "stream",
     "text": [
      " 249\n",
      "Throw out later : Topological error #67, tile"
     ]
    },
    {
     "name": "stderr",
     "output_type": "stream",
     "text": [
      "ERROR:shapely.geos:TopologyException: found non-noded intersection between LINESTRING (536.619 266.73, 536.611 266.759) and LINESTRING (536.601 266.796, 538.617 259.404) at 536.61121779966879 266.75886806788151\n"
     ]
    },
    {
     "name": "stdout",
     "output_type": "stream",
     "text": [
      " 249\n",
      "First toplological error, tile"
     ]
    },
    {
     "name": "stderr",
     "output_type": "stream",
     "text": [
      "ERROR:shapely.geos:TopologyException: found non-noded intersection between LINESTRING (536.619 266.73, 536.611 266.759) and LINESTRING (536.601 266.796, 538.617 259.404) at 536.61121779966879 266.75886806788151\n"
     ]
    },
    {
     "name": "stdout",
     "output_type": "stream",
     "text": [
      " 250\n",
      "Throw out later : Topological error #67, tile"
     ]
    },
    {
     "name": "stderr",
     "output_type": "stream",
     "text": [
      "ERROR:shapely.geos:TopologyException: found non-noded intersection between LINESTRING (536.619 266.73, 536.611 266.759) and LINESTRING (536.601 266.796, 538.617 259.404) at 536.61121779966879 266.75886806788151\n"
     ]
    },
    {
     "name": "stdout",
     "output_type": "stream",
     "text": [
      " 250\n",
      "First toplological error, tile"
     ]
    },
    {
     "name": "stderr",
     "output_type": "stream",
     "text": [
      "ERROR:shapely.geos:TopologyException: found non-noded intersection between LINESTRING (536.619 266.73, 536.611 266.759) and LINESTRING (536.601 266.796, 538.617 259.404) at 536.61121779966879 266.75886806788151\n"
     ]
    },
    {
     "name": "stdout",
     "output_type": "stream",
     "text": [
      " 251\n",
      "Throw out later : Topological error #67, tile"
     ]
    },
    {
     "name": "stderr",
     "output_type": "stream",
     "text": [
      "ERROR:shapely.geos:TopologyException: found non-noded intersection between LINESTRING (536.619 266.73, 536.611 266.759) and LINESTRING (536.601 266.796, 538.617 259.404) at 536.61121779966879 266.75886806788151\n"
     ]
    },
    {
     "name": "stdout",
     "output_type": "stream",
     "text": [
      " 251\n",
      "First toplological error, tile"
     ]
    },
    {
     "name": "stderr",
     "output_type": "stream",
     "text": [
      "ERROR:shapely.geos:TopologyException: found non-noded intersection between LINESTRING (536.619 266.73, 536.611 266.759) and LINESTRING (536.601 266.796, 538.617 259.404) at 536.61121779966879 266.75886806788151\n"
     ]
    },
    {
     "name": "stdout",
     "output_type": "stream",
     "text": [
      " 252\n",
      "Throw out later : Topological error #67, tile"
     ]
    },
    {
     "name": "stderr",
     "output_type": "stream",
     "text": [
      "ERROR:shapely.geos:TopologyException: found non-noded intersection between LINESTRING (536.619 266.73, 536.611 266.759) and LINESTRING (536.601 266.796, 538.617 259.404) at 536.61121779966879 266.75886806788151\n"
     ]
    },
    {
     "name": "stdout",
     "output_type": "stream",
     "text": [
      " 252\n",
      "First toplological error, tile"
     ]
    },
    {
     "name": "stderr",
     "output_type": "stream",
     "text": [
      "ERROR:shapely.geos:TopologyException: found non-noded intersection between LINESTRING (536.619 266.73, 536.611 266.759) and LINESTRING (536.601 266.796, 538.617 259.404) at 536.61121779966879 266.75886806788151\n"
     ]
    },
    {
     "name": "stdout",
     "output_type": "stream",
     "text": [
      " 253\n",
      "Throw out later : Topological error #67, tile"
     ]
    },
    {
     "name": "stderr",
     "output_type": "stream",
     "text": [
      "ERROR:shapely.geos:TopologyException: found non-noded intersection between LINESTRING (536.619 266.73, 536.611 266.759) and LINESTRING (536.601 266.796, 538.617 259.404) at 536.61121779966879 266.75886806788151\n"
     ]
    },
    {
     "name": "stdout",
     "output_type": "stream",
     "text": [
      " 253\n",
      "First toplological error, tile"
     ]
    },
    {
     "name": "stderr",
     "output_type": "stream",
     "text": [
      "ERROR:shapely.geos:TopologyException: found non-noded intersection between LINESTRING (536.619 266.73, 536.611 266.759) and LINESTRING (536.601 266.796, 538.617 259.404) at 536.61121779966879 266.75886806788151\n"
     ]
    },
    {
     "name": "stdout",
     "output_type": "stream",
     "text": [
      " 254\n",
      "Throw out later : Topological error #67, tile"
     ]
    },
    {
     "name": "stderr",
     "output_type": "stream",
     "text": [
      "ERROR:shapely.geos:TopologyException: found non-noded intersection between LINESTRING (536.619 266.73, 536.611 266.759) and LINESTRING (536.601 266.796, 538.617 259.404) at 536.61121779966879 266.75886806788151\n"
     ]
    },
    {
     "name": "stdout",
     "output_type": "stream",
     "text": [
      " 254\n",
      "First toplological error, tile"
     ]
    },
    {
     "name": "stderr",
     "output_type": "stream",
     "text": [
      "ERROR:shapely.geos:TopologyException: found non-noded intersection between LINESTRING (536.619 266.73, 536.611 266.759) and LINESTRING (536.601 266.796, 538.617 259.404) at 536.61121779966879 266.75886806788151\n"
     ]
    },
    {
     "name": "stdout",
     "output_type": "stream",
     "text": [
      " 255\n",
      "Throw out later : Topological error #67, tile"
     ]
    },
    {
     "name": "stderr",
     "output_type": "stream",
     "text": [
      "ERROR:shapely.geos:TopologyException: found non-noded intersection between LINESTRING (536.619 266.73, 536.611 266.759) and LINESTRING (536.601 266.796, 538.617 259.404) at 536.61121779966879 266.75886806788151\n"
     ]
    },
    {
     "name": "stdout",
     "output_type": "stream",
     "text": [
      " 255\n",
      "First toplological error, tile"
     ]
    },
    {
     "name": "stderr",
     "output_type": "stream",
     "text": [
      "ERROR:shapely.geos:TopologyException: found non-noded intersection between LINESTRING (536.619 266.73, 536.611 266.759) and LINESTRING (536.601 266.796, 538.617 259.404) at 536.61121779966879 266.75886806788151\n"
     ]
    },
    {
     "name": "stdout",
     "output_type": "stream",
     "text": [
      " 256\n",
      "Throw out later : Topological error #67, tile"
     ]
    },
    {
     "name": "stderr",
     "output_type": "stream",
     "text": [
      "ERROR:shapely.geos:TopologyException: found non-noded intersection between LINESTRING (536.619 266.73, 536.611 266.759) and LINESTRING (536.601 266.796, 538.617 259.404) at 536.61121779966879 266.75886806788151\n"
     ]
    },
    {
     "name": "stdout",
     "output_type": "stream",
     "text": [
      " 256\n",
      "First toplological error, tile"
     ]
    },
    {
     "name": "stderr",
     "output_type": "stream",
     "text": [
      "ERROR:shapely.geos:TopologyException: found non-noded intersection between LINESTRING (536.619 266.73, 536.611 266.759) and LINESTRING (536.601 266.796, 538.617 259.404) at 536.61121779966879 266.75886806788151\n"
     ]
    },
    {
     "name": "stdout",
     "output_type": "stream",
     "text": [
      " 257\n",
      "Throw out later : Topological error #67, tile"
     ]
    },
    {
     "name": "stderr",
     "output_type": "stream",
     "text": [
      "ERROR:shapely.geos:TopologyException: found non-noded intersection between LINESTRING (536.619 266.73, 536.611 266.759) and LINESTRING (536.601 266.796, 538.617 259.404) at 536.61121779966879 266.75886806788151\n"
     ]
    },
    {
     "name": "stdout",
     "output_type": "stream",
     "text": [
      " 257\n",
      "First toplological error, tile"
     ]
    },
    {
     "name": "stderr",
     "output_type": "stream",
     "text": [
      "ERROR:shapely.geos:TopologyException: found non-noded intersection between LINESTRING (536.619 266.73, 536.611 266.759) and LINESTRING (536.601 266.796, 538.617 259.404) at 536.61121779966879 266.75886806788151\n"
     ]
    },
    {
     "name": "stdout",
     "output_type": "stream",
     "text": [
      " 258\n",
      "Throw out later : Topological error #67, tile"
     ]
    },
    {
     "name": "stderr",
     "output_type": "stream",
     "text": [
      "ERROR:shapely.geos:TopologyException: found non-noded intersection between LINESTRING (536.619 266.73, 536.611 266.759) and LINESTRING (536.601 266.796, 538.617 259.404) at 536.61121779966879 266.75886806788151\n"
     ]
    },
    {
     "name": "stdout",
     "output_type": "stream",
     "text": [
      " 258\n",
      "First toplological error, tile"
     ]
    },
    {
     "name": "stderr",
     "output_type": "stream",
     "text": [
      "ERROR:shapely.geos:TopologyException: found non-noded intersection between LINESTRING (536.619 266.73, 536.611 266.759) and LINESTRING (536.601 266.796, 538.617 259.404) at 536.61121779966879 266.75886806788151\n"
     ]
    },
    {
     "name": "stdout",
     "output_type": "stream",
     "text": [
      " 259\n",
      "Throw out later : Topological error #67, tile"
     ]
    },
    {
     "name": "stderr",
     "output_type": "stream",
     "text": [
      "ERROR:shapely.geos:TopologyException: found non-noded intersection between LINESTRING (536.619 266.73, 536.611 266.759) and LINESTRING (536.601 266.796, 538.617 259.404) at 536.61121779966879 266.75886806788151\n"
     ]
    },
    {
     "name": "stdout",
     "output_type": "stream",
     "text": [
      " 259\n",
      "First toplological error, tile"
     ]
    },
    {
     "name": "stderr",
     "output_type": "stream",
     "text": [
      "ERROR:shapely.geos:TopologyException: found non-noded intersection between LINESTRING (536.619 266.73, 536.611 266.759) and LINESTRING (536.601 266.796, 538.617 259.404) at 536.61121779966879 266.75886806788151\n"
     ]
    },
    {
     "name": "stdout",
     "output_type": "stream",
     "text": [
      " 260\n",
      "Throw out later : Topological error #67, tile"
     ]
    },
    {
     "name": "stderr",
     "output_type": "stream",
     "text": [
      "ERROR:shapely.geos:TopologyException: found non-noded intersection between LINESTRING (536.619 266.73, 536.611 266.759) and LINESTRING (536.601 266.796, 538.617 259.404) at 536.61121779966879 266.75886806788151\n"
     ]
    },
    {
     "name": "stdout",
     "output_type": "stream",
     "text": [
      " 260\n",
      "First toplological error, tile"
     ]
    },
    {
     "name": "stderr",
     "output_type": "stream",
     "text": [
      "ERROR:shapely.geos:TopologyException: found non-noded intersection between LINESTRING (536.619 266.73, 536.611 266.759) and LINESTRING (536.601 266.796, 538.617 259.404) at 536.61121779966879 266.75886806788151\n"
     ]
    },
    {
     "name": "stdout",
     "output_type": "stream",
     "text": [
      " 261\n",
      "Throw out later : Topological error #67, tile"
     ]
    },
    {
     "name": "stderr",
     "output_type": "stream",
     "text": [
      "ERROR:shapely.geos:TopologyException: found non-noded intersection between LINESTRING (536.619 266.73, 536.611 266.759) and LINESTRING (536.601 266.796, 538.617 259.404) at 536.61121779966879 266.75886806788151\n"
     ]
    },
    {
     "name": "stdout",
     "output_type": "stream",
     "text": [
      " 261\n",
      "First toplological error, tile"
     ]
    },
    {
     "name": "stderr",
     "output_type": "stream",
     "text": [
      "ERROR:shapely.geos:TopologyException: found non-noded intersection between LINESTRING (536.619 266.73, 536.611 266.759) and LINESTRING (536.601 266.796, 538.617 259.404) at 536.61121779966879 266.75886806788151\n"
     ]
    },
    {
     "name": "stdout",
     "output_type": "stream",
     "text": [
      " 262\n",
      "Throw out later : Topological error #67, tile"
     ]
    },
    {
     "name": "stderr",
     "output_type": "stream",
     "text": [
      "ERROR:shapely.geos:TopologyException: found non-noded intersection between LINESTRING (536.619 266.73, 536.611 266.759) and LINESTRING (536.601 266.796, 538.617 259.404) at 536.61121779966879 266.75886806788151\n"
     ]
    },
    {
     "name": "stdout",
     "output_type": "stream",
     "text": [
      " 262\n",
      "First toplological error, tile"
     ]
    },
    {
     "name": "stderr",
     "output_type": "stream",
     "text": [
      "ERROR:shapely.geos:TopologyException: found non-noded intersection between LINESTRING (536.619 266.73, 536.611 266.759) and LINESTRING (536.601 266.796, 538.617 259.404) at 536.61121779966879 266.75886806788151\n"
     ]
    },
    {
     "name": "stdout",
     "output_type": "stream",
     "text": [
      " 263\n",
      "Throw out later : Topological error #67, tile"
     ]
    },
    {
     "name": "stderr",
     "output_type": "stream",
     "text": [
      "ERROR:shapely.geos:TopologyException: found non-noded intersection between LINESTRING (384.254 245.493, 384.191 245.125) and LINESTRING (384.191 245.125, 384.254 245.493) at 384.19112331738313 245.125503980145\n"
     ]
    },
    {
     "name": "stdout",
     "output_type": "stream",
     "text": [
      " 263\n",
      "First toplological error, tile"
     ]
    },
    {
     "name": "stderr",
     "output_type": "stream",
     "text": [
      "ERROR:shapely.geos:TopologyException: found non-noded intersection between LINESTRING (536.619 266.73, 536.611 266.759) and LINESTRING (536.601 266.796, 538.617 259.404) at 536.61121779966879 266.75886806788151\n"
     ]
    },
    {
     "name": "stdout",
     "output_type": "stream",
     "text": [
      " 264\n",
      "Throw out later : Topological error #67, tile"
     ]
    },
    {
     "name": "stderr",
     "output_type": "stream",
     "text": [
      "ERROR:shapely.geos:TopologyException: found non-noded intersection between LINESTRING (536.619 266.73, 536.611 266.759) and LINESTRING (536.601 266.796, 538.617 259.404) at 536.61121779966879 266.75886806788151\n"
     ]
    },
    {
     "name": "stdout",
     "output_type": "stream",
     "text": [
      " 264\n",
      "First toplological error, tile"
     ]
    },
    {
     "name": "stderr",
     "output_type": "stream",
     "text": [
      "ERROR:shapely.geos:TopologyException: found non-noded intersection between LINESTRING (536.619 266.73, 536.611 266.759) and LINESTRING (536.601 266.796, 538.617 259.404) at 536.61121779966879 266.75886806788151\n"
     ]
    },
    {
     "name": "stdout",
     "output_type": "stream",
     "text": [
      " 265\n",
      "Throw out later : Topological error #67, tile"
     ]
    },
    {
     "name": "stderr",
     "output_type": "stream",
     "text": [
      "ERROR:shapely.geos:TopologyException: found non-noded intersection between LINESTRING (397.195 235.057, 393.383 236.277) and LINESTRING (397.195 235.057, 393.383 236.277) at 393.3836422911308 236.27723446683831\n"
     ]
    },
    {
     "name": "stdout",
     "output_type": "stream",
     "text": [
      " 265\n",
      "First toplological error, tile"
     ]
    },
    {
     "name": "stderr",
     "output_type": "stream",
     "text": [
      "ERROR:shapely.geos:TopologyException: found non-noded intersection between LINESTRING (536.619 266.73, 536.611 266.759) and LINESTRING (536.601 266.796, 538.617 259.404) at 536.61121779966879 266.75886806788151\n"
     ]
    },
    {
     "name": "stdout",
     "output_type": "stream",
     "text": [
      " 266\n",
      "Throw out later : Topological error #67, tile"
     ]
    },
    {
     "name": "stderr",
     "output_type": "stream",
     "text": [
      "ERROR:shapely.geos:TopologyException: found non-noded intersection between LINESTRING (536.619 266.73, 536.611 266.759) and LINESTRING (536.601 266.796, 538.617 259.404) at 536.61121779966879 266.75886806788151\n"
     ]
    },
    {
     "name": "stdout",
     "output_type": "stream",
     "text": [
      " 266\n",
      "First toplological error, tile"
     ]
    },
    {
     "name": "stderr",
     "output_type": "stream",
     "text": [
      "ERROR:shapely.geos:TopologyException: found non-noded intersection between LINESTRING (536.619 266.73, 536.611 266.759) and LINESTRING (536.601 266.796, 538.617 259.404) at 536.61121779966879 266.75886806788151\n"
     ]
    },
    {
     "name": "stdout",
     "output_type": "stream",
     "text": [
      " 267\n",
      "Throw out later : Topological error #67, tile"
     ]
    },
    {
     "name": "stderr",
     "output_type": "stream",
     "text": [
      "ERROR:shapely.geos:TopologyException: found non-noded intersection between LINESTRING (536.619 266.73, 536.611 266.759) and LINESTRING (536.601 266.796, 538.617 259.404) at 536.61121779966879 266.75886806788151\n"
     ]
    },
    {
     "name": "stdout",
     "output_type": "stream",
     "text": [
      " 267\n",
      "First toplological error, tile"
     ]
    },
    {
     "name": "stderr",
     "output_type": "stream",
     "text": [
      "ERROR:shapely.geos:TopologyException: found non-noded intersection between LINESTRING (536.619 266.73, 536.611 266.759) and LINESTRING (536.601 266.796, 538.617 259.404) at 536.61121779966879 266.75886806788151\n"
     ]
    },
    {
     "name": "stdout",
     "output_type": "stream",
     "text": [
      " 268\n",
      "Throw out later : Topological error #67, tile"
     ]
    },
    {
     "name": "stderr",
     "output_type": "stream",
     "text": [
      "ERROR:shapely.geos:TopologyException: found non-noded intersection between LINESTRING (536.619 266.73, 536.611 266.759) and LINESTRING (536.601 266.796, 538.617 259.404) at 536.61121779966879 266.75886806788151\n"
     ]
    },
    {
     "name": "stdout",
     "output_type": "stream",
     "text": [
      " 268\n",
      "First toplological error, tile"
     ]
    },
    {
     "name": "stderr",
     "output_type": "stream",
     "text": [
      "ERROR:shapely.geos:TopologyException: found non-noded intersection between LINESTRING (536.619 266.73, 536.611 266.759) and LINESTRING (536.601 266.796, 538.617 259.404) at 536.61121779966879 266.75886806788151\n"
     ]
    },
    {
     "name": "stdout",
     "output_type": "stream",
     "text": [
      " 269\n",
      "Throw out later : Topological error #67, tile"
     ]
    },
    {
     "name": "stderr",
     "output_type": "stream",
     "text": [
      "ERROR:shapely.geos:TopologyException: found non-noded intersection between LINESTRING (536.619 266.73, 536.611 266.759) and LINESTRING (536.601 266.796, 538.617 259.404) at 536.61121779966879 266.75886806788151\n"
     ]
    },
    {
     "name": "stdout",
     "output_type": "stream",
     "text": [
      " 269\n",
      "First toplological error, tile"
     ]
    },
    {
     "name": "stderr",
     "output_type": "stream",
     "text": [
      "ERROR:shapely.geos:TopologyException: found non-noded intersection between LINESTRING (536.619 266.73, 536.611 266.759) and LINESTRING (536.601 266.796, 538.617 259.404) at 536.61121779966879 266.75886806788151\n"
     ]
    },
    {
     "name": "stdout",
     "output_type": "stream",
     "text": [
      " 270\n",
      "Throw out later : Topological error #67, tile"
     ]
    },
    {
     "name": "stderr",
     "output_type": "stream",
     "text": [
      "ERROR:shapely.geos:TopologyException: found non-noded intersection between LINESTRING (536.619 266.73, 536.611 266.759) and LINESTRING (536.601 266.796, 538.617 259.404) at 536.61121779966879 266.75886806788151\n"
     ]
    },
    {
     "name": "stdout",
     "output_type": "stream",
     "text": [
      " 270\n",
      "First toplological error, tile"
     ]
    },
    {
     "name": "stderr",
     "output_type": "stream",
     "text": [
      "ERROR:shapely.geos:TopologyException: found non-noded intersection between LINESTRING (536.619 266.73, 536.611 266.759) and LINESTRING (536.601 266.796, 538.617 259.404) at 536.61121779966879 266.75886806788151\n"
     ]
    },
    {
     "name": "stdout",
     "output_type": "stream",
     "text": [
      " 271\n",
      "Throw out later : Topological error #67, tile"
     ]
    },
    {
     "name": "stderr",
     "output_type": "stream",
     "text": [
      "ERROR:shapely.geos:TopologyException: found non-noded intersection between LINESTRING (536.619 266.73, 536.611 266.759) and LINESTRING (536.601 266.796, 538.617 259.404) at 536.61121779966879 266.75886806788151\n"
     ]
    },
    {
     "name": "stdout",
     "output_type": "stream",
     "text": [
      " 271\n",
      "First toplological error, tile"
     ]
    },
    {
     "name": "stderr",
     "output_type": "stream",
     "text": [
      "ERROR:shapely.geos:TopologyException: found non-noded intersection between LINESTRING (536.619 266.73, 536.611 266.759) and LINESTRING (536.601 266.796, 538.617 259.404) at 536.61121779966879 266.75886806788151\n"
     ]
    },
    {
     "name": "stdout",
     "output_type": "stream",
     "text": [
      " 272\n",
      "Throw out later : Topological error #67, tile"
     ]
    },
    {
     "name": "stderr",
     "output_type": "stream",
     "text": [
      "ERROR:shapely.geos:TopologyException: found non-noded intersection between LINESTRING (536.619 266.73, 536.611 266.759) and LINESTRING (536.601 266.796, 538.617 259.404) at 536.61121779966879 266.75886806788151\n"
     ]
    },
    {
     "name": "stdout",
     "output_type": "stream",
     "text": [
      " 272\n",
      "First toplological error, tile"
     ]
    },
    {
     "name": "stderr",
     "output_type": "stream",
     "text": [
      "ERROR:shapely.geos:TopologyException: found non-noded intersection between LINESTRING (536.619 266.73, 536.611 266.759) and LINESTRING (536.601 266.796, 538.617 259.404) at 536.61121779966879 266.75886806788151\n"
     ]
    },
    {
     "name": "stdout",
     "output_type": "stream",
     "text": [
      " 273\n",
      "Throw out later : Topological error #67, tile"
     ]
    },
    {
     "name": "stderr",
     "output_type": "stream",
     "text": [
      "ERROR:shapely.geos:TopologyException: found non-noded intersection between LINESTRING (536.619 266.73, 536.611 266.759) and LINESTRING (536.601 266.796, 538.617 259.404) at 536.61121779966879 266.75886806788151\n"
     ]
    },
    {
     "name": "stdout",
     "output_type": "stream",
     "text": [
      " 273\n",
      "First toplological error, tile"
     ]
    },
    {
     "name": "stderr",
     "output_type": "stream",
     "text": [
      "ERROR:shapely.geos:TopologyException: found non-noded intersection between LINESTRING (536.619 266.73, 536.611 266.759) and LINESTRING (536.601 266.796, 538.617 259.404) at 536.61121779966879 266.75886806788151\n"
     ]
    },
    {
     "name": "stdout",
     "output_type": "stream",
     "text": [
      " 274\n",
      "Throw out later : Topological error #67, tile"
     ]
    },
    {
     "name": "stderr",
     "output_type": "stream",
     "text": [
      "ERROR:shapely.geos:TopologyException: found non-noded intersection between LINESTRING (536.619 266.73, 536.611 266.759) and LINESTRING (536.601 266.796, 538.617 259.404) at 536.61121779966879 266.75886806788151\n"
     ]
    },
    {
     "name": "stdout",
     "output_type": "stream",
     "text": [
      " 274\n",
      "First toplological error, tile"
     ]
    },
    {
     "name": "stderr",
     "output_type": "stream",
     "text": [
      "ERROR:shapely.geos:TopologyException: found non-noded intersection between LINESTRING (536.619 266.73, 536.611 266.759) and LINESTRING (536.601 266.796, 538.617 259.404) at 536.61121779966879 266.75886806788151\n"
     ]
    },
    {
     "name": "stdout",
     "output_type": "stream",
     "text": [
      " 275\n",
      "Throw out later : Topological error #67, tile"
     ]
    },
    {
     "name": "stderr",
     "output_type": "stream",
     "text": [
      "ERROR:shapely.geos:TopologyException: found non-noded intersection between LINESTRING (536.619 266.73, 536.611 266.759) and LINESTRING (536.601 266.796, 538.617 259.404) at 536.61121779966879 266.75886806788151\n"
     ]
    },
    {
     "name": "stdout",
     "output_type": "stream",
     "text": [
      " 275\n",
      "First toplological error, tile"
     ]
    },
    {
     "name": "stderr",
     "output_type": "stream",
     "text": [
      "ERROR:shapely.geos:TopologyException: found non-noded intersection between LINESTRING (536.619 266.73, 536.611 266.759) and LINESTRING (536.601 266.796, 538.617 259.404) at 536.61121779966879 266.75886806788151\n"
     ]
    },
    {
     "name": "stdout",
     "output_type": "stream",
     "text": [
      " 276\n",
      "Throw out later : Topological error #67, tile"
     ]
    },
    {
     "name": "stderr",
     "output_type": "stream",
     "text": [
      "ERROR:shapely.geos:TopologyException: found non-noded intersection between LINESTRING (496.727 229.234, 497.31 229.345) and LINESTRING (497.31 229.345, 496.727 229.234) at 497.30945959532625 229.34465897053832\n"
     ]
    },
    {
     "name": "stdout",
     "output_type": "stream",
     "text": [
      " 276\n",
      "First toplological error, tile"
     ]
    },
    {
     "name": "stderr",
     "output_type": "stream",
     "text": [
      "ERROR:shapely.geos:TopologyException: found non-noded intersection between LINESTRING (536.619 266.73, 536.611 266.759) and LINESTRING (536.601 266.796, 538.617 259.404) at 536.61121779966879 266.75886806788151\n"
     ]
    },
    {
     "name": "stdout",
     "output_type": "stream",
     "text": [
      " 277\n",
      "Throw out later : Topological error #67, tile"
     ]
    },
    {
     "name": "stderr",
     "output_type": "stream",
     "text": [
      "ERROR:shapely.geos:TopologyException: found non-noded intersection between LINESTRING (536.619 266.73, 536.611 266.759) and LINESTRING (536.601 266.796, 538.617 259.404) at 536.61121779966879 266.75886806788151\n"
     ]
    },
    {
     "name": "stdout",
     "output_type": "stream",
     "text": [
      " 277\n",
      "First toplological error, tile"
     ]
    },
    {
     "name": "stderr",
     "output_type": "stream",
     "text": [
      "ERROR:shapely.geos:TopologyException: found non-noded intersection between LINESTRING (536.619 266.73, 536.611 266.759) and LINESTRING (536.601 266.796, 538.617 259.404) at 536.61121779966879 266.75886806788151\n"
     ]
    },
    {
     "name": "stdout",
     "output_type": "stream",
     "text": [
      " 278\n",
      "Throw out later : Topological error #67, tile"
     ]
    },
    {
     "name": "stderr",
     "output_type": "stream",
     "text": [
      "ERROR:shapely.geos:TopologyException: found non-noded intersection between LINESTRING (536.619 266.73, 536.611 266.759) and LINESTRING (536.601 266.796, 538.617 259.404) at 536.61121779966879 266.75886806788151\n"
     ]
    },
    {
     "name": "stdout",
     "output_type": "stream",
     "text": [
      " 278\n",
      "First toplological error, tile"
     ]
    },
    {
     "name": "stderr",
     "output_type": "stream",
     "text": [
      "ERROR:shapely.geos:TopologyException: found non-noded intersection between LINESTRING (536.619 266.73, 536.611 266.759) and LINESTRING (536.601 266.796, 538.617 259.404) at 536.61121779966879 266.75886806788151\n"
     ]
    },
    {
     "name": "stdout",
     "output_type": "stream",
     "text": [
      " 279\n",
      "Throw out later : Topological error #67, tile"
     ]
    },
    {
     "name": "stderr",
     "output_type": "stream",
     "text": [
      "ERROR:shapely.geos:TopologyException: found non-noded intersection between LINESTRING (536.619 266.73, 536.611 266.759) and LINESTRING (536.601 266.796, 538.617 259.404) at 536.61121779966879 266.75886806788151\n"
     ]
    },
    {
     "name": "stdout",
     "output_type": "stream",
     "text": [
      " 279\n",
      "First toplological error, tile"
     ]
    },
    {
     "name": "stderr",
     "output_type": "stream",
     "text": [
      "ERROR:shapely.geos:TopologyException: found non-noded intersection between LINESTRING (536.619 266.73, 536.611 266.759) and LINESTRING (536.601 266.796, 538.617 259.404) at 536.61121779966879 266.75886806788151\n"
     ]
    },
    {
     "name": "stdout",
     "output_type": "stream",
     "text": [
      " 280\n",
      "Throw out later : Topological error #67, tile"
     ]
    },
    {
     "name": "stderr",
     "output_type": "stream",
     "text": [
      "ERROR:shapely.geos:TopologyException: found non-noded intersection between LINESTRING (536.619 266.73, 536.611 266.759) and LINESTRING (536.601 266.796, 538.617 259.404) at 536.61121779966879 266.75886806788151\n"
     ]
    },
    {
     "name": "stdout",
     "output_type": "stream",
     "text": [
      " 280\n",
      "First toplological error, tile"
     ]
    },
    {
     "name": "stderr",
     "output_type": "stream",
     "text": [
      "ERROR:shapely.geos:TopologyException: found non-noded intersection between LINESTRING (536.619 266.73, 536.611 266.759) and LINESTRING (536.601 266.796, 538.617 259.404) at 536.61121779966879 266.75886806788151\n"
     ]
    },
    {
     "name": "stdout",
     "output_type": "stream",
     "text": [
      " 281\n",
      "Throw out later : Topological error #67, tile"
     ]
    },
    {
     "name": "stderr",
     "output_type": "stream",
     "text": [
      "ERROR:shapely.geos:TopologyException: found non-noded intersection between LINESTRING (536.619 266.73, 536.611 266.759) and LINESTRING (536.601 266.796, 538.617 259.404) at 536.61121779966879 266.75886806788151\n"
     ]
    },
    {
     "name": "stdout",
     "output_type": "stream",
     "text": [
      " 281\n",
      "First toplological error, tile"
     ]
    },
    {
     "name": "stderr",
     "output_type": "stream",
     "text": [
      "ERROR:shapely.geos:TopologyException: found non-noded intersection between LINESTRING (536.619 266.73, 536.611 266.759) and LINESTRING (536.601 266.796, 538.617 259.404) at 536.61121779966879 266.75886806788151\n"
     ]
    },
    {
     "name": "stdout",
     "output_type": "stream",
     "text": [
      " 282\n",
      "Throw out later : Topological error #67, tile"
     ]
    },
    {
     "name": "stderr",
     "output_type": "stream",
     "text": [
      "ERROR:shapely.geos:TopologyException: found non-noded intersection between LINESTRING (536.619 266.73, 536.611 266.759) and LINESTRING (536.601 266.796, 538.617 259.404) at 536.61121779966879 266.75886806788151\n"
     ]
    },
    {
     "name": "stdout",
     "output_type": "stream",
     "text": [
      " 282\n",
      "First toplological error, tile"
     ]
    },
    {
     "name": "stderr",
     "output_type": "stream",
     "text": [
      "ERROR:shapely.geos:TopologyException: found non-noded intersection between LINESTRING (536.619 266.73, 536.611 266.759) and LINESTRING (536.601 266.796, 538.617 259.404) at 536.61121779966879 266.75886806788151\n"
     ]
    },
    {
     "name": "stdout",
     "output_type": "stream",
     "text": [
      " 283\n",
      "Throw out later : Topological error #67, tile"
     ]
    },
    {
     "name": "stderr",
     "output_type": "stream",
     "text": [
      "ERROR:shapely.geos:TopologyException: found non-noded intersection between LINESTRING (536.619 266.73, 536.611 266.759) and LINESTRING (536.601 266.796, 538.617 259.404) at 536.61121779966879 266.75886806788151\n"
     ]
    },
    {
     "name": "stdout",
     "output_type": "stream",
     "text": [
      " 283\n",
      "First toplological error, tile"
     ]
    },
    {
     "name": "stderr",
     "output_type": "stream",
     "text": [
      "ERROR:shapely.geos:TopologyException: found non-noded intersection between LINESTRING (536.619 266.73, 536.611 266.759) and LINESTRING (536.601 266.796, 538.617 259.404) at 536.61121779966879 266.75886806788151\n"
     ]
    },
    {
     "name": "stdout",
     "output_type": "stream",
     "text": [
      " 284\n",
      "Throw out later : Topological error #67, tile"
     ]
    },
    {
     "name": "stderr",
     "output_type": "stream",
     "text": [
      "ERROR:shapely.geos:TopologyException: found non-noded intersection between LINESTRING (536.619 266.73, 536.611 266.759) and LINESTRING (536.601 266.796, 538.617 259.404) at 536.61121779966879 266.75886806788151\n"
     ]
    },
    {
     "name": "stdout",
     "output_type": "stream",
     "text": [
      " 284\n",
      "First toplological error, tile"
     ]
    },
    {
     "name": "stderr",
     "output_type": "stream",
     "text": [
      "ERROR:shapely.geos:TopologyException: found non-noded intersection between LINESTRING (536.619 266.73, 536.611 266.759) and LINESTRING (536.601 266.796, 538.617 259.404) at 536.61121779966879 266.75886806788151\n"
     ]
    },
    {
     "name": "stdout",
     "output_type": "stream",
     "text": [
      " 285\n",
      "Throw out later : Topological error #67, tile"
     ]
    },
    {
     "name": "stderr",
     "output_type": "stream",
     "text": [
      "ERROR:shapely.geos:TopologyException: found non-noded intersection between LINESTRING (536.619 266.73, 536.611 266.759) and LINESTRING (536.601 266.796, 538.617 259.404) at 536.61121779966879 266.75886806788151\n"
     ]
    },
    {
     "name": "stdout",
     "output_type": "stream",
     "text": [
      " 285\n",
      "First toplological error, tile"
     ]
    },
    {
     "name": "stderr",
     "output_type": "stream",
     "text": [
      "ERROR:shapely.geos:TopologyException: found non-noded intersection between LINESTRING (536.619 266.73, 536.611 266.759) and LINESTRING (536.601 266.796, 538.617 259.404) at 536.61121779966879 266.75886806788151\n"
     ]
    },
    {
     "name": "stdout",
     "output_type": "stream",
     "text": [
      " 286\n",
      "Throw out later : Topological error #67, tile"
     ]
    },
    {
     "name": "stderr",
     "output_type": "stream",
     "text": [
      "ERROR:shapely.geos:TopologyException: found non-noded intersection between LINESTRING (536.619 266.73, 536.611 266.759) and LINESTRING (536.601 266.796, 538.617 259.404) at 536.61121779966879 266.75886806788151\n"
     ]
    },
    {
     "name": "stdout",
     "output_type": "stream",
     "text": [
      " 286\n",
      "First toplological error, tile"
     ]
    },
    {
     "name": "stderr",
     "output_type": "stream",
     "text": [
      "ERROR:shapely.geos:TopologyException: found non-noded intersection between LINESTRING (536.619 266.73, 536.611 266.759) and LINESTRING (536.601 266.796, 538.617 259.404) at 536.61121779966879 266.75886806788151\n"
     ]
    },
    {
     "name": "stdout",
     "output_type": "stream",
     "text": [
      " 287\n",
      "Throw out later : Topological error #67, tile"
     ]
    },
    {
     "name": "stderr",
     "output_type": "stream",
     "text": [
      "ERROR:shapely.geos:TopologyException: found non-noded intersection between LINESTRING (536.619 266.73, 536.611 266.759) and LINESTRING (536.601 266.796, 538.617 259.404) at 536.61121779966879 266.75886806788151\n"
     ]
    },
    {
     "name": "stdout",
     "output_type": "stream",
     "text": [
      " 287\n",
      "First toplological error, tile"
     ]
    },
    {
     "name": "stderr",
     "output_type": "stream",
     "text": [
      "ERROR:shapely.geos:TopologyException: found non-noded intersection between LINESTRING (536.619 266.73, 536.611 266.759) and LINESTRING (536.601 266.796, 538.617 259.404) at 536.61121779966879 266.75886806788151\n"
     ]
    },
    {
     "name": "stdout",
     "output_type": "stream",
     "text": [
      " 288\n",
      "Throw out later : Topological error #67, tile"
     ]
    },
    {
     "name": "stderr",
     "output_type": "stream",
     "text": [
      "ERROR:shapely.geos:TopologyException: found non-noded intersection between LINESTRING (536.619 266.73, 536.611 266.759) and LINESTRING (536.601 266.796, 538.617 259.404) at 536.61121779966879 266.75886806788151\n"
     ]
    },
    {
     "name": "stdout",
     "output_type": "stream",
     "text": [
      " 288\n",
      "First toplological error, tile"
     ]
    },
    {
     "name": "stderr",
     "output_type": "stream",
     "text": [
      "ERROR:shapely.geos:TopologyException: found non-noded intersection between LINESTRING (536.619 266.73, 536.611 266.759) and LINESTRING (536.601 266.796, 538.617 259.404) at 536.61121779966879 266.75886806788151\n"
     ]
    },
    {
     "name": "stdout",
     "output_type": "stream",
     "text": [
      " 289\n",
      "Throw out later : Topological error #67, tile"
     ]
    },
    {
     "name": "stderr",
     "output_type": "stream",
     "text": [
      "ERROR:shapely.geos:TopologyException: found non-noded intersection between LINESTRING (536.619 266.73, 536.611 266.759) and LINESTRING (536.601 266.796, 538.617 259.404) at 536.61121779966879 266.75886806788151\n"
     ]
    },
    {
     "name": "stdout",
     "output_type": "stream",
     "text": [
      " 289\n",
      "First toplological error, tile"
     ]
    },
    {
     "name": "stderr",
     "output_type": "stream",
     "text": [
      "ERROR:shapely.geos:TopologyException: found non-noded intersection between LINESTRING (536.619 266.73, 536.611 266.759) and LINESTRING (536.601 266.796, 538.617 259.404) at 536.61121779966879 266.75886806788151\n"
     ]
    },
    {
     "name": "stdout",
     "output_type": "stream",
     "text": [
      " 290\n",
      "Throw out later : Topological error #67, tile"
     ]
    },
    {
     "name": "stderr",
     "output_type": "stream",
     "text": [
      "ERROR:shapely.geos:TopologyException: found non-noded intersection between LINESTRING (448 340, 446.645 339.486) and LINESTRING (447.749 339.633, 446.645 339.486) at 446.64485981315426 339.48598130842055\n"
     ]
    },
    {
     "name": "stdout",
     "output_type": "stream",
     "text": [
      " 290\n",
      "First toplological error, tile"
     ]
    },
    {
     "name": "stderr",
     "output_type": "stream",
     "text": [
      "ERROR:shapely.geos:TopologyException: found non-noded intersection between LINESTRING (536.619 266.73, 536.611 266.759) and LINESTRING (536.601 266.796, 538.617 259.404) at 536.61121779966879 266.75886806788151\n"
     ]
    },
    {
     "name": "stdout",
     "output_type": "stream",
     "text": [
      " 291\n",
      "Throw out later : Topological error #67, tile"
     ]
    },
    {
     "name": "stderr",
     "output_type": "stream",
     "text": [
      "ERROR:shapely.geos:TopologyException: found non-noded intersection between LINESTRING (536.619 266.73, 536.611 266.759) and LINESTRING (536.601 266.796, 538.617 259.404) at 536.61121779966879 266.75886806788151\n"
     ]
    },
    {
     "name": "stdout",
     "output_type": "stream",
     "text": [
      " 291\n",
      "First toplological error, tile"
     ]
    },
    {
     "name": "stderr",
     "output_type": "stream",
     "text": [
      "ERROR:shapely.geos:TopologyException: found non-noded intersection between LINESTRING (536.619 266.73, 536.611 266.759) and LINESTRING (536.601 266.796, 538.617 259.404) at 536.61121779966879 266.75886806788151\n"
     ]
    },
    {
     "name": "stdout",
     "output_type": "stream",
     "text": [
      " 292\n",
      "Throw out later : Topological error #67, tile"
     ]
    },
    {
     "name": "stderr",
     "output_type": "stream",
     "text": [
      "ERROR:shapely.geos:TopologyException: found non-noded intersection between LINESTRING (536.619 266.73, 536.611 266.759) and LINESTRING (536.601 266.796, 538.617 259.404) at 536.61121779966879 266.75886806788151\n"
     ]
    },
    {
     "name": "stdout",
     "output_type": "stream",
     "text": [
      " 292\n",
      "First toplological error, tile"
     ]
    },
    {
     "name": "stderr",
     "output_type": "stream",
     "text": [
      "ERROR:shapely.geos:TopologyException: found non-noded intersection between LINESTRING (536.619 266.73, 536.611 266.759) and LINESTRING (536.601 266.796, 538.617 259.404) at 536.61121779966879 266.75886806788151\n"
     ]
    },
    {
     "name": "stdout",
     "output_type": "stream",
     "text": [
      " 293\n",
      "Throw out later : Topological error #67, tile"
     ]
    },
    {
     "name": "stderr",
     "output_type": "stream",
     "text": [
      "ERROR:shapely.geos:TopologyException: found non-noded intersection between LINESTRING (536.619 266.73, 536.611 266.759) and LINESTRING (536.601 266.796, 538.617 259.404) at 536.61121779966879 266.75886806788151\n"
     ]
    },
    {
     "name": "stdout",
     "output_type": "stream",
     "text": [
      " 293\n",
      "First toplological error, tile"
     ]
    },
    {
     "name": "stderr",
     "output_type": "stream",
     "text": [
      "ERROR:shapely.geos:TopologyException: found non-noded intersection between LINESTRING (536.619 266.73, 536.611 266.759) and LINESTRING (536.601 266.796, 538.617 259.404) at 536.61121779966879 266.75886806788151\n"
     ]
    },
    {
     "name": "stdout",
     "output_type": "stream",
     "text": [
      " 294\n",
      "Throw out later : Topological error #67, tile"
     ]
    },
    {
     "name": "stderr",
     "output_type": "stream",
     "text": [
      "ERROR:shapely.geos:TopologyException: found non-noded intersection between LINESTRING (536.619 266.73, 536.611 266.759) and LINESTRING (536.601 266.796, 538.617 259.404) at 536.61121779966879 266.75886806788151\n"
     ]
    },
    {
     "name": "stdout",
     "output_type": "stream",
     "text": [
      " 294\n",
      "First toplological error, tile"
     ]
    },
    {
     "name": "stderr",
     "output_type": "stream",
     "text": [
      "ERROR:shapely.geos:TopologyException: found non-noded intersection between LINESTRING (536.619 266.73, 536.611 266.759) and LINESTRING (536.601 266.796, 538.617 259.404) at 536.61121779966879 266.75886806788151\n"
     ]
    },
    {
     "name": "stdout",
     "output_type": "stream",
     "text": [
      " 295\n",
      "Throw out later : Topological error #67, tile"
     ]
    },
    {
     "name": "stderr",
     "output_type": "stream",
     "text": [
      "ERROR:shapely.geos:TopologyException: found non-noded intersection between LINESTRING (536.619 266.73, 536.611 266.759) and LINESTRING (536.601 266.796, 538.617 259.404) at 536.61121779966879 266.75886806788151\n"
     ]
    },
    {
     "name": "stdout",
     "output_type": "stream",
     "text": [
      " 295\n",
      "First toplological error, tile"
     ]
    },
    {
     "name": "stderr",
     "output_type": "stream",
     "text": [
      "ERROR:shapely.geos:TopologyException: found non-noded intersection between LINESTRING (536.619 266.73, 536.611 266.759) and LINESTRING (536.601 266.796, 538.617 259.404) at 536.61121779966879 266.75886806788151\n"
     ]
    },
    {
     "name": "stdout",
     "output_type": "stream",
     "text": [
      " 296\n",
      "Throw out later : Topological error #67, tile"
     ]
    },
    {
     "name": "stderr",
     "output_type": "stream",
     "text": [
      "ERROR:shapely.geos:TopologyException: found non-noded intersection between LINESTRING (536.619 266.73, 536.611 266.759) and LINESTRING (536.601 266.796, 538.617 259.404) at 536.61121779966879 266.75886806788151\n"
     ]
    },
    {
     "name": "stdout",
     "output_type": "stream",
     "text": [
      " 296\n",
      "First toplological error, tile"
     ]
    },
    {
     "name": "stderr",
     "output_type": "stream",
     "text": [
      "ERROR:shapely.geos:TopologyException: found non-noded intersection between LINESTRING (536.619 266.73, 536.611 266.759) and LINESTRING (536.601 266.796, 538.617 259.404) at 536.61121779966879 266.75886806788151\n"
     ]
    },
    {
     "name": "stdout",
     "output_type": "stream",
     "text": [
      " 297\n",
      "Throw out later : Topological error #67, tile"
     ]
    },
    {
     "name": "stderr",
     "output_type": "stream",
     "text": [
      "ERROR:shapely.geos:TopologyException: found non-noded intersection between LINESTRING (536.619 266.73, 536.611 266.759) and LINESTRING (536.601 266.796, 538.617 259.404) at 536.61121779966879 266.75886806788151\n"
     ]
    },
    {
     "name": "stdout",
     "output_type": "stream",
     "text": [
      " 297\n",
      "First toplological error, tile"
     ]
    },
    {
     "name": "stderr",
     "output_type": "stream",
     "text": [
      "ERROR:shapely.geos:TopologyException: found non-noded intersection between LINESTRING (536.619 266.73, 536.611 266.759) and LINESTRING (536.601 266.796, 538.617 259.404) at 536.61121779966879 266.75886806788151\n"
     ]
    },
    {
     "name": "stdout",
     "output_type": "stream",
     "text": [
      " 298\n",
      "Throw out later : Topological error #67, tile"
     ]
    },
    {
     "name": "stderr",
     "output_type": "stream",
     "text": [
      "ERROR:shapely.geos:TopologyException: found non-noded intersection between LINESTRING (536.619 266.73, 536.611 266.759) and LINESTRING (536.601 266.796, 538.617 259.404) at 536.61121779966879 266.75886806788151\n"
     ]
    },
    {
     "name": "stdout",
     "output_type": "stream",
     "text": [
      " 298\n",
      "First toplological error, tile"
     ]
    },
    {
     "name": "stderr",
     "output_type": "stream",
     "text": [
      "ERROR:shapely.geos:TopologyException: found non-noded intersection between LINESTRING (536.619 266.73, 536.611 266.759) and LINESTRING (536.601 266.796, 538.617 259.404) at 536.61121779966879 266.75886806788151\n"
     ]
    },
    {
     "name": "stdout",
     "output_type": "stream",
     "text": [
      " 299\n",
      "Throw out later : Topological error #67, tile"
     ]
    },
    {
     "name": "stderr",
     "output_type": "stream",
     "text": [
      "ERROR:shapely.geos:TopologyException: found non-noded intersection between LINESTRING (536.619 266.73, 536.611 266.759) and LINESTRING (536.601 266.796, 538.617 259.404) at 536.61121779966879 266.75886806788151\n"
     ]
    },
    {
     "name": "stdout",
     "output_type": "stream",
     "text": [
      " 299\n",
      "First toplological error, tile"
     ]
    },
    {
     "name": "stderr",
     "output_type": "stream",
     "text": [
      "ERROR:shapely.geos:TopologyException: found non-noded intersection between LINESTRING (536.619 266.73, 536.611 266.759) and LINESTRING (536.601 266.796, 538.617 259.404) at 536.61121779966879 266.75886806788151\n"
     ]
    },
    {
     "name": "stdout",
     "output_type": "stream",
     "text": [
      " 300\n",
      "Throw out later : Topological error #67, tile"
     ]
    },
    {
     "name": "stderr",
     "output_type": "stream",
     "text": [
      "ERROR:shapely.geos:TopologyException: found non-noded intersection between LINESTRING (536.619 266.73, 536.611 266.759) and LINESTRING (536.601 266.796, 538.617 259.404) at 536.61121779966879 266.75886806788151\n"
     ]
    },
    {
     "name": "stdout",
     "output_type": "stream",
     "text": [
      " 300\n",
      "First toplological error, tile"
     ]
    },
    {
     "name": "stderr",
     "output_type": "stream",
     "text": [
      "ERROR:shapely.geos:TopologyException: found non-noded intersection between LINESTRING (536.619 266.73, 536.611 266.759) and LINESTRING (536.601 266.796, 538.617 259.404) at 536.61121779966879 266.75886806788151\n"
     ]
    },
    {
     "name": "stdout",
     "output_type": "stream",
     "text": [
      " 301\n",
      "Throw out later : Topological error #67, tile"
     ]
    },
    {
     "name": "stderr",
     "output_type": "stream",
     "text": [
      "ERROR:shapely.geos:TopologyException: found non-noded intersection between LINESTRING (536.619 266.73, 536.611 266.759) and LINESTRING (536.601 266.796, 538.617 259.404) at 536.61121779966879 266.75886806788151\n"
     ]
    },
    {
     "name": "stdout",
     "output_type": "stream",
     "text": [
      " 301\n",
      "First toplological error, tile"
     ]
    },
    {
     "name": "stderr",
     "output_type": "stream",
     "text": [
      "ERROR:shapely.geos:TopologyException: found non-noded intersection between LINESTRING (536.619 266.73, 536.611 266.759) and LINESTRING (536.601 266.796, 538.617 259.404) at 536.61121779966879 266.75886806788151\n"
     ]
    },
    {
     "name": "stdout",
     "output_type": "stream",
     "text": [
      " 302\n",
      "Throw out later : Topological error #67, tile"
     ]
    },
    {
     "name": "stderr",
     "output_type": "stream",
     "text": [
      "ERROR:shapely.geos:TopologyException: found non-noded intersection between LINESTRING (536.619 266.73, 536.611 266.759) and LINESTRING (536.601 266.796, 538.617 259.404) at 536.61121779966879 266.75886806788151\n"
     ]
    },
    {
     "name": "stdout",
     "output_type": "stream",
     "text": [
      " 302\n",
      "First toplological error, tile"
     ]
    },
    {
     "name": "stderr",
     "output_type": "stream",
     "text": [
      "ERROR:shapely.geos:TopologyException: found non-noded intersection between LINESTRING (536.619 266.73, 536.611 266.759) and LINESTRING (536.601 266.796, 538.617 259.404) at 536.61121779966879 266.75886806788151\n"
     ]
    },
    {
     "name": "stdout",
     "output_type": "stream",
     "text": [
      " 303\n",
      "Throw out later : Topological error #67, tile"
     ]
    },
    {
     "name": "stderr",
     "output_type": "stream",
     "text": [
      "ERROR:shapely.geos:TopologyException: found non-noded intersection between LINESTRING (536.619 266.73, 536.611 266.759) and LINESTRING (536.601 266.796, 538.617 259.404) at 536.61121779966879 266.75886806788151\n"
     ]
    },
    {
     "name": "stdout",
     "output_type": "stream",
     "text": [
      " 303\n",
      "First toplological error, tile"
     ]
    },
    {
     "name": "stderr",
     "output_type": "stream",
     "text": [
      "ERROR:shapely.geos:TopologyException: found non-noded intersection between LINESTRING (536.619 266.73, 536.611 266.759) and LINESTRING (536.601 266.796, 538.617 259.404) at 536.61121779966879 266.75886806788151\n"
     ]
    },
    {
     "name": "stdout",
     "output_type": "stream",
     "text": [
      " 304\n",
      "Throw out later : Topological error #67, tile"
     ]
    },
    {
     "name": "stderr",
     "output_type": "stream",
     "text": [
      "ERROR:shapely.geos:TopologyException: found non-noded intersection between LINESTRING (536.619 266.73, 536.611 266.759) and LINESTRING (536.601 266.796, 538.617 259.404) at 536.61121779966879 266.75886806788151\n"
     ]
    },
    {
     "name": "stdout",
     "output_type": "stream",
     "text": [
      " 304\n",
      "First toplological error, tile"
     ]
    },
    {
     "name": "stderr",
     "output_type": "stream",
     "text": [
      "ERROR:shapely.geos:TopologyException: found non-noded intersection between LINESTRING (536.619 266.73, 536.611 266.759) and LINESTRING (536.601 266.796, 538.617 259.404) at 536.61121779966879 266.75886806788151\n"
     ]
    },
    {
     "name": "stdout",
     "output_type": "stream",
     "text": [
      " 305\n",
      "Throw out later : Topological error #67, tile"
     ]
    },
    {
     "name": "stderr",
     "output_type": "stream",
     "text": [
      "ERROR:shapely.geos:TopologyException: found non-noded intersection between LINESTRING (536.619 266.73, 536.611 266.759) and LINESTRING (536.601 266.796, 538.617 259.404) at 536.61121779966879 266.75886806788151\n"
     ]
    },
    {
     "name": "stdout",
     "output_type": "stream",
     "text": [
      " 305\n",
      "First toplological error, tile"
     ]
    },
    {
     "name": "stderr",
     "output_type": "stream",
     "text": [
      "ERROR:shapely.geos:TopologyException: found non-noded intersection between LINESTRING (536.619 266.73, 536.611 266.759) and LINESTRING (536.601 266.796, 538.617 259.404) at 536.61121779966879 266.75886806788151\n"
     ]
    },
    {
     "name": "stdout",
     "output_type": "stream",
     "text": [
      " 306\n",
      "Throw out later : Topological error #67, tile"
     ]
    },
    {
     "name": "stderr",
     "output_type": "stream",
     "text": [
      "ERROR:shapely.geos:TopologyException: found non-noded intersection between LINESTRING (536.619 266.73, 536.611 266.759) and LINESTRING (536.601 266.796, 538.617 259.404) at 536.61121779966879 266.75886806788151\n"
     ]
    },
    {
     "name": "stdout",
     "output_type": "stream",
     "text": [
      " 306\n",
      "First toplological error, tile"
     ]
    },
    {
     "name": "stderr",
     "output_type": "stream",
     "text": [
      "ERROR:shapely.geos:TopologyException: found non-noded intersection between LINESTRING (536.619 266.73, 536.611 266.759) and LINESTRING (536.601 266.796, 538.617 259.404) at 536.61121779966879 266.75886806788151\n"
     ]
    },
    {
     "name": "stdout",
     "output_type": "stream",
     "text": [
      " 307\n",
      "Throw out later : Topological error #67, tile"
     ]
    },
    {
     "name": "stderr",
     "output_type": "stream",
     "text": [
      "ERROR:shapely.geos:TopologyException: found non-noded intersection between LINESTRING (536.619 266.73, 536.611 266.759) and LINESTRING (536.601 266.796, 538.617 259.404) at 536.61121779966879 266.75886806788151\n"
     ]
    },
    {
     "name": "stdout",
     "output_type": "stream",
     "text": [
      " 307\n",
      "First toplological error, tile"
     ]
    },
    {
     "name": "stderr",
     "output_type": "stream",
     "text": [
      "ERROR:shapely.geos:TopologyException: found non-noded intersection between LINESTRING (536.619 266.73, 536.611 266.759) and LINESTRING (536.601 266.796, 538.617 259.404) at 536.61121779966879 266.75886806788151\n"
     ]
    },
    {
     "name": "stdout",
     "output_type": "stream",
     "text": [
      " 308\n",
      "Throw out later : Topological error #67, tile"
     ]
    },
    {
     "name": "stderr",
     "output_type": "stream",
     "text": [
      "ERROR:shapely.geos:TopologyException: found non-noded intersection between LINESTRING (536.619 266.73, 536.611 266.759) and LINESTRING (536.601 266.796, 538.617 259.404) at 536.61121779966879 266.75886806788151\n"
     ]
    },
    {
     "name": "stdout",
     "output_type": "stream",
     "text": [
      " 308\n",
      "First toplological error, tile"
     ]
    },
    {
     "name": "stderr",
     "output_type": "stream",
     "text": [
      "ERROR:shapely.geos:TopologyException: found non-noded intersection between LINESTRING (536.619 266.73, 536.611 266.759) and LINESTRING (536.601 266.796, 538.617 259.404) at 536.61121779966879 266.75886806788151\n"
     ]
    },
    {
     "name": "stdout",
     "output_type": "stream",
     "text": [
      " 309\n",
      "Throw out later : Topological error #67, tile"
     ]
    },
    {
     "name": "stderr",
     "output_type": "stream",
     "text": [
      "ERROR:shapely.geos:TopologyException: found non-noded intersection between LINESTRING (536.619 266.73, 536.611 266.759) and LINESTRING (536.601 266.796, 538.617 259.404) at 536.61121779966879 266.75886806788151\n"
     ]
    },
    {
     "name": "stdout",
     "output_type": "stream",
     "text": [
      " 309\n",
      "First toplological error, tile"
     ]
    },
    {
     "name": "stderr",
     "output_type": "stream",
     "text": [
      "ERROR:shapely.geos:TopologyException: found non-noded intersection between LINESTRING (536.619 266.73, 536.611 266.759) and LINESTRING (536.601 266.796, 538.617 259.404) at 536.61121779966879 266.75886806788151\n"
     ]
    },
    {
     "name": "stdout",
     "output_type": "stream",
     "text": [
      " 310\n",
      "Throw out later : Topological error #67, tile"
     ]
    },
    {
     "name": "stderr",
     "output_type": "stream",
     "text": [
      "ERROR:shapely.geos:TopologyException: found non-noded intersection between LINESTRING (536.619 266.73, 536.611 266.759) and LINESTRING (536.601 266.796, 538.617 259.404) at 536.61121779966879 266.75886806788151\n",
      "ERROR:shapely.geos:TopologyException: found non-noded intersection between LINESTRING (536.619 266.73, 536.611 266.759) and LINESTRING (536.601 266.796, 538.617 259.404) at 536.61121779966879 266.75886806788151\n"
     ]
    },
    {
     "name": "stdout",
     "output_type": "stream",
     "text": [
      " 310\n",
      "diffing tile# 0\n",
      "diffing tile# 1\n",
      "diffing tile# 2\n",
      "diffing tile# 3\n",
      "diffing tile# 4\n",
      "diffing tile# 5\n",
      "diffing tile# 6\n",
      "diffing tile# 7\n",
      "diffing tile# 8\n",
      "diffing tile# 9\n",
      "diffing tile# 10\n",
      "diffing tile# 11\n",
      "diffing tile# 12\n",
      "diffing tile# 13\n",
      "diffing tile# 14\n",
      "diffing tile# 15\n",
      "diffing tile# 16\n",
      "diffing tile# 17\n",
      "diffing tile# 18\n",
      "diffing tile# 19\n",
      "diffing tile# 20\n",
      "diffing tile# 21\n",
      "diffing tile# 22\n",
      "diffing tile# 23\n",
      "diffing tile# 24\n",
      "diffing tile# 25\n",
      "diffing tile# 26\n",
      "diffing tile# 27\n",
      "diffing tile# 28\n",
      "diffing tile# 29\n",
      "diffing tile# 30\n",
      "diffing tile# 31\n",
      "diffing tile# 32\n",
      "diffing tile# 33\n",
      "diffing tile# 34\n",
      "diffing tile# 35\n",
      "diffing tile# 36\n",
      "diffing tile# 37\n",
      "diffing tile# 38\n",
      "diffing tile# 39\n",
      "diffing tile# 40\n",
      "diffing tile# 41\n",
      "diffing tile# 42\n",
      "diffing tile# 43\n",
      "diffing tile# 44\n",
      "diffing tile# 45\n",
      "diffing tile# 46\n",
      "diffing tile# 47\n",
      "diffing tile#"
     ]
    },
    {
     "name": "stderr",
     "output_type": "stream",
     "text": [
      "ERROR:shapely.geos:TopologyException: side location conflict at 534.1395348837209 278.90697674418618\n"
     ]
    },
    {
     "name": "stdout",
     "output_type": "stream",
     "text": [
      " 48\n",
      "diffing tile# 49\n",
      "diffing tile# 50\n",
      "diffing tile# 51\n",
      "diffing tile# 52\n",
      "diffing tile# 53\n",
      "diffing tile# 54\n",
      "diffing tile# 55\n",
      "diffing tile# 56\n",
      "diffing tile# 57\n",
      "diffing tile# 58\n",
      "diffing tile# 59\n",
      "diffing tile# 60\n",
      "diffing tile# 61\n",
      "diffing tile# 62\n",
      "diffing tile# 63\n",
      "diffing tile# 64\n",
      "diffing tile# 65\n",
      "diffing tile# 66\n",
      "diffing tile# 67\n",
      "diffing tile# 68\n",
      "diffing tile# 69\n",
      "diffing tile# 70\n",
      "diffing tile# 71\n",
      "diffing tile# 72\n",
      "diffing tile# 73\n",
      "diffing tile# 74\n",
      "diffing tile# 75\n",
      "diffing tile# 76\n",
      "diffing tile# 77\n",
      "diffing tile# 78\n",
      "diffing tile# 79\n",
      "diffing tile# 80\n",
      "diffing tile# 81\n",
      "diffing tile# 82\n",
      "diffing tile# 83\n",
      "diffing tile# 84\n",
      "diffing tile# 85\n",
      "diffing tile# 86\n",
      "diffing tile# 87\n",
      "diffing tile# 88\n",
      "diffing tile# 89\n",
      "diffing tile# 90\n",
      "diffing tile#"
     ]
    },
    {
     "name": "stderr",
     "output_type": "stream",
     "text": [
      "ERROR:shapely.geos:TopologyException: found non-noded intersection between LINESTRING (456.312 343.039, 458.256 343.282) and LINESTRING (458.256 343.282, 448 340) at 458.25641025599981 343.282051282\n",
      "ERROR:shapely.geos:TopologyException: found non-noded intersection between LINESTRING (456.312 343.039, 458.256 343.282) and LINESTRING (458.256 343.282, 448 340) at 458.25641025599981 343.282051282\n"
     ]
    },
    {
     "name": "stdout",
     "output_type": "stream",
     "text": [
      " 91\n",
      "diffing tile# 92\n",
      "diffing tile# 93\n",
      "diffing tile# 94\n",
      "diffing tile# 95\n",
      "diffing tile# 96\n",
      "diffing tile# 97\n",
      "diffing tile# 98\n",
      "diffing tile# 99\n",
      "diffing tile# 100\n",
      "diffing tile# 101\n",
      "diffing tile# 102\n",
      "diffing tile# 103\n",
      "diffing tile# 104\n",
      "diffing tile# 105\n",
      "diffing tile# 106\n",
      "diffing tile# 107\n",
      "diffing tile# 108\n",
      "diffing tile# 109\n",
      "diffing tile# 110\n",
      "diffing tile# 111\n",
      "diffing tile# 112\n",
      "diffing tile# 113\n",
      "diffing tile# 114\n",
      "diffing tile# 115\n",
      "diffing tile# 116\n",
      "diffing tile# 117\n",
      "diffing tile# 118\n",
      "diffing tile# 119\n",
      "diffing tile# 120\n",
      "diffing tile# 121\n",
      "diffing tile# 122\n",
      "diffing tile# 123\n",
      "diffing tile# 124\n",
      "diffing tile# 125\n",
      "diffing tile#"
     ]
    },
    {
     "name": "stderr",
     "output_type": "stream",
     "text": [
      "ERROR:shapely.geos:TopologyException: found non-noded intersection between LINESTRING (384.254 245.493, 384.254 245.493) and LINESTRING (384.254 245.493, 384.254 245.493) at 384.25352112684192 245.49295774631639\n"
     ]
    },
    {
     "name": "stdout",
     "output_type": "stream",
     "text": [
      " 126\n",
      "diffing tile# 127\n",
      "diffing tile# 128\n",
      "diffing tile# 129\n",
      "diffing tile# 130\n",
      "diffing tile# 131\n",
      "diffing tile# 132\n",
      "diffing tile# 133\n",
      "diffing tile# 134\n",
      "diffing tile# 135\n",
      "diffing tile# 136\n",
      "diffing tile# 137\n",
      "diffing tile# 138\n",
      "diffing tile# 139\n",
      "diffing tile# 140\n",
      "diffing tile# 141\n",
      "diffing tile# 142\n",
      "diffing tile# 143\n",
      "diffing tile# 144\n",
      "diffing tile# 145\n",
      "diffing tile# 146\n",
      "diffing tile# 147\n",
      "diffing tile# 148\n",
      "diffing tile# 149\n",
      "diffing tile# 150\n",
      "diffing tile# 151\n",
      "diffing tile# 152\n",
      "diffing tile# 153\n",
      "diffing tile#"
     ]
    },
    {
     "name": "stderr",
     "output_type": "stream",
     "text": [
      "ERROR:shapely.geos:TopologyException: found non-noded intersection between LINESTRING (446.645 339.486, 446.645 339.486) and LINESTRING (446.645 339.486, 446.645 339.486) at 446.64485981462593 339.48598130861683\n"
     ]
    },
    {
     "name": "stdout",
     "output_type": "stream",
     "text": [
      " 154\n",
      "diffing tile# 155\n",
      "diffing tile#"
     ]
    },
    {
     "name": "stderr",
     "output_type": "stream",
     "text": [
      "ERROR:shapely.geos:TopologyException: found non-noded intersection between LINESTRING (385.182 243.636, 386.134 242.604) and LINESTRING (386.889 242.111, 386.134 242.604) at 386.13432835820896 242.6044776119403\n"
     ]
    },
    {
     "name": "stdout",
     "output_type": "stream",
     "text": [
      " 156\n",
      "diffing tile# 157\n",
      "diffing tile# 158\n",
      "diffing tile# 159\n",
      "diffing tile#"
     ]
    },
    {
     "name": "stderr",
     "output_type": "stream",
     "text": [
      "ERROR:shapely.geos:TopologyException: found non-noded intersection between LINESTRING (389 240, 390.081 238.379) and LINESTRING (390.2 238.2, 389 240) at 390.08097928436922 238.37853107344614\n"
     ]
    },
    {
     "name": "stdout",
     "output_type": "stream",
     "text": [
      " 160\n",
      "diffing tile# 161\n",
      "diffing tile# 162\n",
      "diffing tile# 163\n",
      "diffing tile#"
     ]
    },
    {
     "name": "stderr",
     "output_type": "stream",
     "text": [
      "ERROR:shapely.geos:TopologyException: found non-noded intersection between LINESTRING (535.091 282.697, 535.651 280.829) and LINESTRING (535.044 282.681, 537 283.333) at 535.09090909091287 282.69696969697094\n"
     ]
    },
    {
     "name": "stdout",
     "output_type": "stream",
     "text": [
      " 164\n",
      "diffing tile# 165\n",
      "diffing tile# 166\n",
      "diffing tile# 167\n",
      "diffing tile# 168\n",
      "diffing tile# 169\n",
      "diffing tile# 170\n",
      "diffing tile# 171\n",
      "diffing tile# 172\n",
      "diffing tile#"
     ]
    },
    {
     "name": "stderr",
     "output_type": "stream",
     "text": [
      "                                                 "
     ]
    },
    {
     "name": "stdout",
     "output_type": "stream",
     "text": [
      " 173\n",
      "Adding leftovers starting:  311\n",
      "Finished leftovers starting:  311\n",
      "------------------------------Adding BB8------------------------------"
     ]
    },
    {
     "name": "stderr",
     "output_type": "stream",
     "text": [
      "                                                 "
     ]
    },
    {
     "name": "stdout",
     "output_type": "stream",
     "text": [
      "\n",
      "----------- All tiles before leftover calculation is non-overlapping ---------------"
     ]
    },
    {
     "name": "stderr",
     "output_type": "stream",
     "text": [
      "\r",
      "ERROR:shapely.geos:TopologyException: found non-noded intersection between LINESTRING (563.829 303.388, 563.842 303.474) and LINESTRING (563.842 303.474, 563.133 298.867) at 563.84210526315792 303.47368421052624\n"
     ]
    },
    {
     "name": "stdout",
     "output_type": "stream",
     "text": [
      "\n",
      "Bi-(Bi intersect Uorig_tiles)\n",
      "First toplological error, tile"
     ]
    },
    {
     "name": "stderr",
     "output_type": "stream",
     "text": [
      "ERROR:shapely.geos:TopologyException: found non-noded intersection between LINESTRING (496 229, 496.727 229.234) and LINESTRING (488.652 227.696, 496.727 229.234) at 496.7272727272719 229.23376623376606\n"
     ]
    },
    {
     "name": "stdout",
     "output_type": "stream",
     "text": [
      " 113\n",
      "First toplological error, tile"
     ]
    },
    {
     "name": "stderr",
     "output_type": "stream",
     "text": [
      "ERROR:shapely.geos:TopologyException: found non-noded intersection between LINESTRING (535.444 249.444, 536.555 252.553) and LINESTRING (536.587 252.645, 535.444 249.444) at 536.54716256521203 252.53205518259395\n"
     ]
    },
    {
     "name": "stdout",
     "output_type": "stream",
     "text": [
      " 189\n",
      "First toplological error, tile"
     ]
    },
    {
     "name": "stderr",
     "output_type": "stream",
     "text": [
      "ERROR:shapely.geos:TopologyException: found non-noded intersection between LINESTRING (500.87 230.565, 501.581 230.839) and LINESTRING (502 230.929, 498.406 229.773) at 500.86956521739114 230.56521739130429\n"
     ]
    },
    {
     "name": "stdout",
     "output_type": "stream",
     "text": [
      " 200\n",
      "First toplological error, tile"
     ]
    },
    {
     "name": "stderr",
     "output_type": "stream",
     "text": [
      "ERROR:shapely.geos:TopologyException: found non-noded intersection between LINESTRING (500 230.5, 500 230.5) and LINESTRING (500 230.5, 500 230.5) at 499.99999999999903 230.4999999999998\n"
     ]
    },
    {
     "name": "stdout",
     "output_type": "stream",
     "text": [
      " 202\n",
      "First toplological error, tile"
     ]
    },
    {
     "name": "stderr",
     "output_type": "stream",
     "text": [
      "ERROR:shapely.geos:TopologyException: found non-noded intersection between LINESTRING (385.182 243.636, 386.134 242.604) and LINESTRING (386.889 242.111, 385.486 243.029) at 386.13432835820896 242.6044776119403\n"
     ]
    },
    {
     "name": "stdout",
     "output_type": "stream",
     "text": [
      " 208\n",
      "First toplological error, tile"
     ]
    },
    {
     "name": "stderr",
     "output_type": "stream",
     "text": [
      "ERROR:shapely.geos:TopologyException: found non-noded intersection between LINESTRING (534.776 276.204, 534.482 277.451) and LINESTRING (534.14 278.907, 534.776 276.204) at 534.68578346171387 276.58542028771586\n"
     ]
    },
    {
     "name": "stdout",
     "output_type": "stream",
     "text": [
      " 216\n",
      "First toplological error, tile"
     ]
    },
    {
     "name": "stderr",
     "output_type": "stream",
     "text": [
      "ERROR:shapely.geos:TopologyException: found non-noded intersection between LINESTRING (539.605 332.553, 539.348 332.696) and LINESTRING (540.556 332.333, 539.605 332.553) at 539.6052631578948 332.55263157894734\n"
     ]
    },
    {
     "name": "stdout",
     "output_type": "stream",
     "text": [
      " 226\n",
      "First toplological error, tile"
     ]
    },
    {
     "name": "stderr",
     "output_type": "stream",
     "text": [
      "ERROR:shapely.geos:TopologyException: found non-noded intersection between LINESTRING (426.795 335.638, 426.5 335.5) and LINESTRING (425.968 335.065, 426.5 335.5) at 426.50000000000011 335.50000000000006\n"
     ]
    },
    {
     "name": "stdout",
     "output_type": "stream",
     "text": [
      " 231\n",
      "First toplological error, tile"
     ]
    },
    {
     "name": "stderr",
     "output_type": "stream",
     "text": [
      "ERROR:shapely.geos:TopologyException: found non-noded intersection between LINESTRING (462.146 341.553, 466.05 342.073) and LINESTRING (467.266 342.235, 462.146 341.553) at 464.73320845854118 341.8977611278055\n"
     ]
    },
    {
     "name": "stdout",
     "output_type": "stream",
     "text": [
      " 237\n",
      "First toplological error, tile"
     ]
    },
    {
     "name": "stderr",
     "output_type": "stream",
     "text": [
      "ERROR:shapely.geos:TopologyException: found non-noded intersection between LINESTRING (402.312 313.532, 402.783 314.222) and LINESTRING (402.818 314.273, 402.312 313.532) at 402.50194052097669 313.81052845373517\n"
     ]
    },
    {
     "name": "stdout",
     "output_type": "stream",
     "text": [
      " 245\n",
      "First toplological error, tile"
     ]
    },
    {
     "name": "stderr",
     "output_type": "stream",
     "text": [
      "ERROR:shapely.geos:TopologyException: found non-noded intersection between LINESTRING (563.857 305.286, 563.904 304.863) and LINESTRING (563.904 304.863, 563 313) at 563.87712777006425 305.10585006942239\n"
     ]
    },
    {
     "name": "stdout",
     "output_type": "stream",
     "text": [
      " 281\n",
      "First toplological error, tile"
     ]
    },
    {
     "name": "stderr",
     "output_type": "stream",
     "text": [
      "ERROR:shapely.geos:TopologyException: found non-noded intersection between LINESTRING (534.565 276.583, 534.194 277.252) and LINESTRING (534.19 277.257, 535.844 274.281) at 534.22249862294279 277.19950247870275\n"
     ]
    },
    {
     "name": "stdout",
     "output_type": "stream",
     "text": [
      " 286\n",
      "First toplological error, tile"
     ]
    },
    {
     "name": "stderr",
     "output_type": "stream",
     "text": [
      "ERROR:shapely.geos:TopologyException: found non-noded intersection between LINESTRING (533.851 277.868, 533.321 278.821) and LINESTRING (533.321 278.821, 533.321 278.821) at 533.32142857142856 278.82142857142867\n"
     ]
    },
    {
     "name": "stdout",
     "output_type": "stream",
     "text": [
      " 290\n",
      "First toplological error, tile"
     ]
    },
    {
     "name": "stderr",
     "output_type": "stream",
     "text": [
      "ERROR:shapely.geos:TopologyException: found non-noded intersection between LINESTRING (537.4 275, 537.889 272.556) and LINESTRING (537.889 272.556, 537.4 275) at 537.67932521562659 273.6033739218671\n"
     ]
    },
    {
     "name": "stdout",
     "output_type": "stream",
     "text": [
      " 292\n",
      "First toplological error, tile"
     ]
    },
    {
     "name": "stderr",
     "output_type": "stream",
     "text": [
      "ERROR:shapely.geos:TopologyException: side location conflict at 426.62913907284769 335.4503311258278\n"
     ]
    },
    {
     "name": "stdout",
     "output_type": "stream",
     "text": [
      " 303\n",
      "First toplological error, tile"
     ]
    },
    {
     "name": "stderr",
     "output_type": "stream",
     "text": [
      "ERROR:shapely.geos:TopologyException: found non-noded intersection between LINESTRING (435.698 338.203, 435.241 337.966) and LINESTRING (446.645 339.486, 435.241 337.966) at 435.24137931034488 337.9655172413793\n"
     ]
    },
    {
     "name": "stdout",
     "output_type": "stream",
     "text": [
      " 307\n",
      "First toplological error, tile"
     ]
    },
    {
     "name": "stderr",
     "output_type": "stream",
     "text": [
      "ERROR:shapely.geos:TopologyException: found non-noded intersection between LINESTRING (533.321 278.821, 533.94 277.708) and LINESTRING (533.321 278.821, 534.776 276.204) at 533.53260940949383 278.44130306291123\n"
     ]
    },
    {
     "name": "stdout",
     "output_type": "stream",
     "text": [
      " 308\n",
      "First toplological error, tile"
     ]
    },
    {
     "name": "stderr",
     "output_type": "stream",
     "text": [
      "ERROR:shapely.geos:TopologyException: found non-noded intersection between LINESTRING (463 221, 452.581 222.226) and LINESTRING (452.581 222.226, 458 222) at 452.58064516129053 222.2258064516129\n"
     ]
    },
    {
     "name": "stdout",
     "output_type": "stream",
     "text": [
      " 315\n",
      "First toplological error, tile"
     ]
    },
    {
     "name": "stderr",
     "output_type": "stream",
     "text": [
      "ERROR:shapely.geos:TopologyException: found non-noded intersection between LINESTRING (526.304 241.072, 527 242) and LINESTRING (527 242, 526.27 241.027) at 526.45974445367767 241.27965927157018\n"
     ]
    },
    {
     "name": "stdout",
     "output_type": "stream",
     "text": [
      " 318\n",
      "First toplological error, tile"
     ]
    },
    {
     "name": "stderr",
     "output_type": "stream",
     "text": [
      "ERROR:shapely.geos:TopologyException: found non-noded intersection between LINESTRING (537.765 255.941, 537.765 255.941) and LINESTRING (537.765 255.941, 537.765 255.941) at 537.76470588235281 255.94117647058735\n"
     ]
    },
    {
     "name": "stdout",
     "output_type": "stream",
     "text": [
      " 330\n",
      "First toplological error, tile"
     ]
    },
    {
     "name": "stderr",
     "output_type": "stream",
     "text": [
      "ERROR:shapely.geos:TopologyException: found non-noded intersection between LINESTRING (537.765 255.941, 537.765 255.941) and LINESTRING (537.765 255.941, 537.765 255.941) at 537.76470588235281 255.94117647058738\n"
     ]
    },
    {
     "name": "stdout",
     "output_type": "stream",
     "text": [
      " 333\n",
      "First toplological error, tile"
     ]
    },
    {
     "name": "stderr",
     "output_type": "stream",
     "text": [
      "ERROR:shapely.geos:TopologyException: found non-noded intersection between LINESTRING (397.023 305.597, 398.038 308.253) and LINESTRING (397.388 306.336, 397.2 306.062) at 397.20000000000005 306.06153846153853\n"
     ]
    },
    {
     "name": "stdout",
     "output_type": "stream",
     "text": [
      " 335\n",
      "First toplological error, tile"
     ]
    },
    {
     "name": "stderr",
     "output_type": "stream",
     "text": [
      "ERROR:shapely.geos:TopologyException: found non-noded intersection between LINESTRING (465.667 344.333, 465.667 344.333) and LINESTRING (469 344, 465.667 344.333) at 465.6666666666676 344.33333333333326\n"
     ]
    },
    {
     "name": "stdout",
     "output_type": "stream",
     "text": [
      " 354\n",
      "First toplological error, tile"
     ]
    },
    {
     "name": "stderr",
     "output_type": "stream",
     "text": [
      "ERROR:shapely.geos:TopologyException: found non-noded intersection between LINESTRING (495.436 228.475, 496.663 228.947) and LINESTRING (492.12 227.2, 496.663 228.947) at 496.15794532782706 228.75305589531811\n"
     ]
    },
    {
     "name": "stdout",
     "output_type": "stream",
     "text": [
      " 367\n",
      "First toplological error, tile"
     ]
    },
    {
     "name": "stderr",
     "output_type": "stream",
     "text": [
      "ERROR:shapely.geos:TopologyException: found non-noded intersection between LINESTRING (424 225, 433 223.65) and LINESTRING (433 223.65, 426 224) at 432.99999999999994 223.65000000000001\n"
     ]
    },
    {
     "name": "stdout",
     "output_type": "stream",
     "text": [
      " 370\n",
      "First toplological error, tile"
     ]
    },
    {
     "name": "stderr",
     "output_type": "stream",
     "text": [
      "ERROR:shapely.geos:TopologyException: side location conflict at 421.64705882352951 225.35294117647058\n"
     ]
    },
    {
     "name": "stdout",
     "output_type": "stream",
     "text": [
      " 371\n",
      "First toplological error, tile"
     ]
    },
    {
     "name": "stderr",
     "output_type": "stream",
     "text": [
      "ERROR:shapely.geos:TopologyException: found non-noded intersection between LINESTRING (492.12 227.2, 486.759 225.711) and LINESTRING (486.759 225.711, 492.12 227.2) at 489.4395180722891 226.45542168674697\n"
     ]
    },
    {
     "name": "stdout",
     "output_type": "stream",
     "text": [
      " 372\n",
      "First toplological error, tile"
     ]
    },
    {
     "name": "stderr",
     "output_type": "stream",
     "text": [
      "ERROR:shapely.geos:TopologyException: found non-noded intersection between LINESTRING (531.571 248.095, 537.105 255.474) and LINESTRING (536.263 254.35, 534.77 252.36) at 536.04472486857878 254.05963315810504\n"
     ]
    },
    {
     "name": "stdout",
     "output_type": "stream",
     "text": [
      " 376\n",
      "First toplological error, tile"
     ]
    },
    {
     "name": "stderr",
     "output_type": "stream",
     "text": [
      "ERROR:shapely.geos:TopologyException: found non-noded intersection between LINESTRING (508.222 231.889, 503.73 230.568) and LINESTRING (503.73 230.568, 498.075 229.491) at 503.72972972972968 230.56756756756758\n"
     ]
    },
    {
     "name": "stdout",
     "output_type": "stream",
     "text": [
      " 386\n",
      "First toplological error, tile"
     ]
    },
    {
     "name": "stderr",
     "output_type": "stream",
     "text": [
      "ERROR:shapely.geos:TopologyException: side location conflict at 392.99999999999989 234.36363636363643\n"
     ]
    },
    {
     "name": "stdout",
     "output_type": "stream",
     "text": [
      " 388\n",
      "First toplological error, tile"
     ]
    },
    {
     "name": "stderr",
     "output_type": "stream",
     "text": [
      "ERROR:shapely.geos:TopologyException: found non-noded intersection between LINESTRING (545 329.333, 540.011 330.996) and LINESTRING (539.919 331.027, 540.614 330.795) at 540.48927261796484 330.836909127345\n"
     ]
    },
    {
     "name": "stdout",
     "output_type": "stream",
     "text": [
      " 394\n",
      "First toplological error, tile"
     ]
    },
    {
     "name": "stderr",
     "output_type": "stream",
     "text": [
      "ERROR:shapely.geos:TopologyException: found non-noded intersection between LINESTRING (390.623 237.742, 390.2 238.2) and LINESTRING (390.2 238.2, 390.963 237.056) at 390.20000000000016 238.19999999999973\n"
     ]
    },
    {
     "name": "stdout",
     "output_type": "stream",
     "text": [
      " 396\n",
      "First toplological error, tile 402\n",
      "Adding leftovers starting: "
     ]
    },
    {
     "name": "stderr",
     "output_type": "stream",
     "text": [
      " 90%|█████████ | 9/10 [02:12<00:14,  0.07it/s]"
     ]
    },
    {
     "name": "stdout",
     "output_type": "stream",
     "text": [
      " 406\n",
      "Finished leftovers starting:  406\n",
      "------------------------------Adding BB9------------------------------"
     ]
    },
    {
     "name": "stderr",
     "output_type": "stream",
     "text": [
      "                                                 "
     ]
    },
    {
     "name": "stdout",
     "output_type": "stream",
     "text": [
      "\n",
      "----------- All tiles before leftover calculation is non-overlapping ---------------"
     ]
    },
    {
     "name": "stderr",
     "output_type": "stream",
     "text": [
      "\r",
      "ERROR:shapely.geos:TopologyException: found non-noded intersection between LINESTRING (536.095 251.266, 536.095 251.266) and LINESTRING (536.095 251.266, 535.052 248.345) at 536.09493670886104 251.26582278481098\n"
     ]
    },
    {
     "name": "stdout",
     "output_type": "stream",
     "text": [
      "\n",
      "Bi-(Bi intersect Uorig_tiles)\n",
      "First toplological error, tile"
     ]
    },
    {
     "name": "stderr",
     "output_type": "stream",
     "text": [
      "ERROR:shapely.geos:TopologyException: found non-noded intersection between LINESTRING (385.182 243.636, 385.182 243.636) and LINESTRING (385.182 243.636, 385.182 243.636) at 385.1818181818187 243.63636363636311\n"
     ]
    },
    {
     "name": "stdout",
     "output_type": "stream",
     "text": [
      " 162\n",
      "First toplological error, tile"
     ]
    },
    {
     "name": "stderr",
     "output_type": "stream",
     "text": [
      "ERROR:shapely.geos:TopologyException: found non-noded intersection between LINESTRING (534.776 276.204, 534.482 277.451) and LINESTRING (534.14 278.907, 534.776 276.204) at 534.68578346171387 276.58542028771586\n"
     ]
    },
    {
     "name": "stdout",
     "output_type": "stream",
     "text": [
      " 173\n",
      "First toplological error, tile"
     ]
    },
    {
     "name": "stderr",
     "output_type": "stream",
     "text": [
      "ERROR:shapely.geos:TopologyException: found non-noded intersection between LINESTRING (436.195 223.171, 416.5 227.348) and LINESTRING (424.667 226.111, 416.5 227.348) at 416.50000000000892 227.348484848483\n"
     ]
    },
    {
     "name": "stdout",
     "output_type": "stream",
     "text": [
      " 180\n",
      "First toplological error, tile"
     ]
    },
    {
     "name": "stderr",
     "output_type": "stream",
     "text": [
      "ERROR:shapely.geos:TopologyException: found non-noded intersection between LINESTRING (534.253 334.11, 525.953 334.442) and LINESTRING (530.182 334.273, 528 335) at 530.18181818181813 334.27272727272731\n"
     ]
    },
    {
     "name": "stdout",
     "output_type": "stream",
     "text": [
      " 181\n",
      "First toplological error, tile"
     ]
    },
    {
     "name": "stderr",
     "output_type": "stream",
     "text": [
      "ERROR:shapely.geos:TopologyException: found non-noded intersection between LINESTRING (533.851 277.868, 533.321 278.821) and LINESTRING (533.321 278.821, 533.321 278.821) at 533.32142857142856 278.82142857142867\n"
     ]
    },
    {
     "name": "stdout",
     "output_type": "stream",
     "text": [
      " 214\n",
      "First toplological error, tile"
     ]
    },
    {
     "name": "stderr",
     "output_type": "stream",
     "text": [
      "ERROR:shapely.geos:TopologyException: side location conflict at 426.62913907284769 335.4503311258278\n"
     ]
    },
    {
     "name": "stdout",
     "output_type": "stream",
     "text": [
      " 229\n",
      "First toplological error, tile"
     ]
    },
    {
     "name": "stderr",
     "output_type": "stream",
     "text": [
      "ERROR:shapely.geos:TopologyException: found non-noded intersection between LINESTRING (435.698 338.203, 435.241 337.966) and LINESTRING (446.645 339.486, 435.241 337.966) at 435.24137931034488 337.9655172413793\n"
     ]
    },
    {
     "name": "stdout",
     "output_type": "stream",
     "text": [
      " 239\n",
      "First toplological error, tile"
     ]
    },
    {
     "name": "stderr",
     "output_type": "stream",
     "text": [
      "ERROR:shapely.geos:TopologyException: found non-noded intersection between LINESTRING (537.889 272.556, 537.889 272.556) and LINESTRING (537.889 272.556, 537.889 272.556) at 537.88888888888891 272.55555555555537\n"
     ]
    },
    {
     "name": "stdout",
     "output_type": "stream",
     "text": [
      " 240\n",
      "First toplological error, tile"
     ]
    },
    {
     "name": "stderr",
     "output_type": "stream",
     "text": [
      "ERROR:shapely.geos:TopologyException: side location conflict at 524.45901639344288 334.86885245901641\n"
     ]
    },
    {
     "name": "stdout",
     "output_type": "stream",
     "text": [
      " 246\n",
      "First toplological error, tile"
     ]
    },
    {
     "name": "stderr",
     "output_type": "stream",
     "text": [
      "ERROR:shapely.geos:TopologyException: found non-noded intersection between LINESTRING (504.878 231.854, 504.878 231.854) and LINESTRING (502.747 231.089, 504.878 231.854) at 504.8780487804874 231.85365853658521\n"
     ]
    },
    {
     "name": "stdout",
     "output_type": "stream",
     "text": [
      " 316\n",
      "First toplological error, tile"
     ]
    },
    {
     "name": "stderr",
     "output_type": "stream",
     "text": [
      "ERROR:shapely.geos:TopologyException: found non-noded intersection between LINESTRING (387.665 282.585, 387.442 282.105) and LINESTRING (387.665 282.585, 384.788 261.874) at 387.66463414634148 282.58536585365852\n"
     ]
    },
    {
     "name": "stdout",
     "output_type": "stream",
     "text": [
      " 318\n",
      "First toplological error, tile"
     ]
    },
    {
     "name": "stderr",
     "output_type": "stream",
     "text": [
      "ERROR:shapely.geos:TopologyException: found non-noded intersection between LINESTRING (550.961 324.792, 547.742 327.065) and LINESTRING (551.025 323.417, 547.742 327.065) at 547.74193548387109 327.06451612903214\n"
     ]
    },
    {
     "name": "stdout",
     "output_type": "stream",
     "text": [
      " 329\n",
      "First toplological error, tile"
     ]
    },
    {
     "name": "stderr",
     "output_type": "stream",
     "text": [
      "ERROR:shapely.geos:TopologyException: side location conflict at 458.25641025641022 343.28205128205127\n"
     ]
    },
    {
     "name": "stdout",
     "output_type": "stream",
     "text": [
      " 331\n",
      "First toplological error, tile"
     ]
    },
    {
     "name": "stderr",
     "output_type": "stream",
     "text": [
      "ERROR:shapely.geos:TopologyException: found non-noded intersection between LINESTRING (537.895 256.526, 537.105 255.474) and LINESTRING (537.105 255.474, 538.006 256.675) at 537.32456140350882 255.76608187134499\n"
     ]
    },
    {
     "name": "stdout",
     "output_type": "stream",
     "text": [
      " 339\n",
      "First toplological error, tile"
     ]
    },
    {
     "name": "stderr",
     "output_type": "stream",
     "text": [
      "ERROR:shapely.geos:TopologyException: found non-noded intersection between LINESTRING (534.39 249.661, 528.8 244.4) and LINESTRING (534.39 249.661, 531.571 248.095) at 534.3898305084731 249.66101694915173\n"
     ]
    },
    {
     "name": "stdout",
     "output_type": "stream",
     "text": [
      " 344\n",
      "First toplological error, tile"
     ]
    },
    {
     "name": "stderr",
     "output_type": "stream",
     "text": [
      "ERROR:shapely.geos:TopologyException: found non-noded intersection between LINESTRING (559.222 306.389, 560 313) and LINESTRING (559.222 306.389, 561.4 310.2) at 559.22222222222229 306.3888888888892\n"
     ]
    },
    {
     "name": "stdout",
     "output_type": "stream",
     "text": [
      " 345\n",
      "First toplological error, tile"
     ]
    },
    {
     "name": "stderr",
     "output_type": "stream",
     "text": [
      "ERROR:shapely.geos:TopologyException: found non-noded intersection between LINESTRING (557.818 317.364, 557 319) and LINESTRING (557 319, 562.176 313.824) at 557.00000000000011 318.99999999999983\n"
     ]
    },
    {
     "name": "stdout",
     "output_type": "stream",
     "text": [
      " 352\n",
      "First toplological error, tile"
     ]
    },
    {
     "name": "stderr",
     "output_type": "stream",
     "text": [
      "ERROR:shapely.geos:TopologyException: found non-noded intersection between LINESTRING (387.442 282.105, 390.833 289.41) and LINESTRING (390.833 289.41, 388 282) at 390.83333333333314 289.4102564102559\n"
     ]
    },
    {
     "name": "stdout",
     "output_type": "stream",
     "text": [
      " 361\n",
      "First toplological error, tile"
     ]
    },
    {
     "name": "stderr",
     "output_type": "stream",
     "text": [
      "ERROR:shapely.geos:TopologyException: found non-noded intersection between LINESTRING (536.095 251.266, 528.8 244.4) and LINESTRING (528.8 244.4, 530.901 247.201) at 528.80000000000098 244.40000000000134\n"
     ]
    },
    {
     "name": "stdout",
     "output_type": "stream",
     "text": [
      " 383\n",
      "First toplological error, tile"
     ]
    },
    {
     "name": "stderr",
     "output_type": "stream",
     "text": [
      "ERROR:shapely.geos:TopologyException: found non-noded intersection between LINESTRING (528.8 244.4, 528.112 243.753) and LINESTRING (528.112 243.753, 528.112 243.753) at 528.11235955056122 243.75280898876372\n"
     ]
    },
    {
     "name": "stdout",
     "output_type": "stream",
     "text": [
      " 390\n",
      "First toplological error, tile"
     ]
    },
    {
     "name": "stderr",
     "output_type": "stream",
     "text": [
      "ERROR:shapely.geos:TopologyException: found non-noded intersection between LINESTRING (528.8 244.4, 528.8 244.4) and LINESTRING (528.8 244.4, 529.271 245.029) at 528.80000000000098 244.40000000000126\n"
     ]
    },
    {
     "name": "stdout",
     "output_type": "stream",
     "text": [
      " 391\n",
      "First toplological error, tile"
     ]
    },
    {
     "name": "stderr",
     "output_type": "stream",
     "text": [
      "ERROR:shapely.geos:TopologyException: no outgoing dirEdge found at 412.41665339823868 228.21464927916148\n"
     ]
    },
    {
     "name": "stdout",
     "output_type": "stream",
     "text": [
      " 395\n",
      "First toplological error, tile"
     ]
    },
    {
     "name": "stderr",
     "output_type": "stream",
     "text": [
      "ERROR:shapely.geos:TopologyException: found non-noded intersection between LINESTRING (562.093 315.331, 562.093 315.331) and LINESTRING (562.093 315.331, 562.093 315.331) at 562.09271523178813 315.3311258278145\n"
     ]
    },
    {
     "name": "stdout",
     "output_type": "stream",
     "text": [
      " 405\n",
      "First toplological error, tile"
     ]
    },
    {
     "name": "stderr",
     "output_type": "stream",
     "text": [
      "ERROR:shapely.geos:TopologyException: found non-noded intersection between LINESTRING (562.093 315.331, 562.093 315.331) and LINESTRING (562.093 315.331, 562.093 315.331) at 562.09271523178813 315.3311258278145\n"
     ]
    },
    {
     "name": "stdout",
     "output_type": "stream",
     "text": [
      " 418\n",
      "First toplological error, tile"
     ]
    },
    {
     "name": "stderr",
     "output_type": "stream",
     "text": [
      "ERROR:shapely.geos:TopologyException: found non-noded intersection between LINESTRING (433.639 338.831, 434.25 339) and LINESTRING (433.639 338.831, 434.25 339) at 434.12756930499773 338.9662260151718\n"
     ]
    },
    {
     "name": "stdout",
     "output_type": "stream",
     "text": [
      " 420\n",
      "First toplological error, tile"
     ]
    },
    {
     "name": "stderr",
     "output_type": "stream",
     "text": [
      "ERROR:shapely.geos:TopologyException: found non-noded intersection between LINESTRING (524 335, 517.189 336.946) and LINESTRING (515.632 336.842, 517.189 336.946) at 517.18918918918916 336.94594594594594\n"
     ]
    },
    {
     "name": "stdout",
     "output_type": "stream",
     "text": [
      " 421\n",
      "First toplological error, tile"
     ]
    },
    {
     "name": "stderr",
     "output_type": "stream",
     "text": [
      "ERROR:shapely.geos:TopologyException: found non-noded intersection between LINESTRING (534.565 276.583, 534.194 277.252) and LINESTRING (534.19 277.257, 535.844 274.281) at 534.22249862294279 277.19950247870275\n"
     ]
    },
    {
     "name": "stdout",
     "output_type": "stream",
     "text": [
      " 426\n",
      "First toplological error, tile"
     ]
    },
    {
     "name": "stderr",
     "output_type": "stream",
     "text": [
      "ERROR:shapely.geos:TopologyException: found non-noded intersection between LINESTRING (538.629 264.02, 538.784 259.838) and LINESTRING (538.617 259.404, 538.784 259.838) at 538.78378378378375 259.83783783783787\n"
     ]
    },
    {
     "name": "stdout",
     "output_type": "stream",
     "text": [
      " 436\n",
      "First toplological error, tile"
     ]
    },
    {
     "name": "stderr",
     "output_type": "stream",
     "text": [
      "ERROR:shapely.geos:TopologyException: found non-noded intersection between LINESTRING (539.868 262.658, 538.784 259.838) and LINESTRING (539 260.4, 539 262) at 539 260.40000000000015\n"
     ]
    },
    {
     "name": "stdout",
     "output_type": "stream",
     "text": [
      " 437\n",
      "First toplological error, tile"
     ]
    },
    {
     "name": "stderr",
     "output_type": "stream",
     "text": [
      "ERROR:shapely.geos:TopologyException: side location conflict at 536.83333333333337 272.5\n"
     ]
    },
    {
     "name": "stdout",
     "output_type": "stream",
     "text": [
      " 439\n",
      "First toplological error, tile"
     ]
    },
    {
     "name": "stderr",
     "output_type": "stream",
     "text": [
      "ERROR:shapely.geos:TopologyException: found non-noded intersection between LINESTRING (537.4 275, 537.511 274.446) and LINESTRING (537.4 275, 537.653 273.735) at 537.47704162029561 274.61479189852207\n"
     ]
    },
    {
     "name": "stdout",
     "output_type": "stream",
     "text": [
      " 442\n",
      "First toplological error, tile"
     ]
    },
    {
     "name": "stderr",
     "output_type": "stream",
     "text": [
      "ERROR:shapely.geos:TopologyException: found non-noded intersection between LINESTRING (537.889 272.556, 537.757 273.811) and LINESTRING (538 273, 537.739 273.869) at 537.75675675675677 273.81081081081066\n"
     ]
    },
    {
     "name": "stdout",
     "output_type": "stream",
     "text": [
      " 446\n",
      "First toplological error, tile"
     ]
    },
    {
     "name": "stderr",
     "output_type": "stream",
     "text": [
      "ERROR:shapely.geos:TopologyException: found non-noded intersection between LINESTRING (538.25 274.25, 539 269) and LINESTRING (538.267 273.794, 538.25 274.25) at 538.25 274.24999999999994\n"
     ]
    },
    {
     "name": "stdout",
     "output_type": "stream",
     "text": [
      " 448\n",
      "First toplological error, tile"
     ]
    },
    {
     "name": "stderr",
     "output_type": "stream",
     "text": [
      "ERROR:shapely.geos:TopologyException: found non-noded intersection between LINESTRING (537.773 273.137, 538.071 271.646) and LINESTRING (538.409 269.955, 537.889 272.556) at 537.89230701622705 272.53846491886446\n"
     ]
    },
    {
     "name": "stdout",
     "output_type": "stream",
     "text": [
      " 449\n",
      "First toplological error, tile"
     ]
    },
    {
     "name": "stderr",
     "output_type": "stream",
     "text": [
      "ERROR:shapely.geos:TopologyException: found non-noded intersection between LINESTRING (536.095 251.266, 536.095 251.266) and LINESTRING (536.095 251.266, 536.095 251.266) at 536.09493670886104 251.26582278481095\n"
     ]
    },
    {
     "name": "stdout",
     "output_type": "stream",
     "text": [
      " 453\n",
      "First toplological error, tile"
     ]
    },
    {
     "name": "stderr",
     "output_type": "stream",
     "text": [
      "ERROR:shapely.geos:TopologyException: found non-noded intersection between LINESTRING (536.893 252.017, 537.765 255.941) and LINESTRING (536.893 252.017, 537.765 255.941) at 537.64019366119373 255.38087147537169\n"
     ]
    },
    {
     "name": "stdout",
     "output_type": "stream",
     "text": [
      " 462\n",
      "First toplological error, tile"
     ]
    },
    {
     "name": "stderr",
     "output_type": "stream",
     "text": [
      "ERROR:shapely.geos:TopologyException: found non-noded intersection between LINESTRING (434.153 338.973, 434.25 339) and LINESTRING (433.516 338.774, 434.25 339) at 434.24999999999989 339\n"
     ]
    },
    {
     "name": "stdout",
     "output_type": "stream",
     "text": [
      " 463\n",
      "First toplological error, tile"
     ]
    },
    {
     "name": "stderr",
     "output_type": "stream",
     "text": [
      "ERROR:shapely.geos:TopologyException: found non-noded intersection between LINESTRING (438.637 340.21, 440.599 340.751) and LINESTRING (440.599 340.751, 439.341 340.098) at 440.59887005649699 340.75141242937843\n"
     ]
    },
    {
     "name": "stdout",
     "output_type": "stream",
     "text": [
      " 476\n",
      "First toplological error, tile"
     ]
    },
    {
     "name": "stderr",
     "output_type": "stream",
     "text": [
      "ERROR:shapely.geos:TopologyException: found non-noded intersection between LINESTRING (492.665 227.47, 491.741 227.138) and LINESTRING (491.211 226.947, 492.112 227.271) at 492.10954963350326 227.27009474023194\n"
     ]
    },
    {
     "name": "stdout",
     "output_type": "stream",
     "text": [
      " 477\n",
      "First toplological error, tile"
     ]
    },
    {
     "name": "stderr",
     "output_type": "stream",
     "text": [
      "ERROR:shapely.geos:TopologyException: found non-noded intersection between LINESTRING (491.211 226.947, 491.211 226.947) and LINESTRING (491.211 226.947, 491.211 226.947) at 491.21052631578959 226.94736842105266\n"
     ]
    },
    {
     "name": "stdout",
     "output_type": "stream",
     "text": [
      " 483\n",
      "First toplological error, tile"
     ]
    },
    {
     "name": "stderr",
     "output_type": "stream",
     "text": [
      "ERROR:shapely.geos:TopologyException: found non-noded intersection between LINESTRING (496.663 228.947, 495 228.308) and LINESTRING (495 228.308, 496.663 228.947) at 495.49945442875492 228.4997901649057\n"
     ]
    },
    {
     "name": "stdout",
     "output_type": "stream",
     "text": [
      " 485\n",
      "First toplological error, tile"
     ]
    },
    {
     "name": "stderr",
     "output_type": "stream",
     "text": [
      "ERROR:shapely.geos:TopologyException: found non-noded intersection between LINESTRING (384.195 243.872, 384.879 243.037) and LINESTRING (384.195 243.872, 385 243.346) at 384.19548872180451 243.87218045112778\n"
     ]
    },
    {
     "name": "stdout",
     "output_type": "stream",
     "text": [
      " 490\n",
      "First toplological error, tile"
     ]
    },
    {
     "name": "stderr",
     "output_type": "stream",
     "text": [
      "ERROR:shapely.geos:TopologyException: found non-noded intersection between LINESTRING (537.895 256.526, 537.105 255.474) and LINESTRING (537.105 255.474, 537.895 256.526) at 537.2185827386262 255.62477698483488\n"
     ]
    },
    {
     "name": "stdout",
     "output_type": "stream",
     "text": [
      " 497\n",
      "First toplological error, tile"
     ]
    },
    {
     "name": "stderr",
     "output_type": "stream",
     "text": [
      "ERROR:shapely.geos:TopologyException: found non-noded intersection between LINESTRING (537.895 256.526, 537.105 255.474) and LINESTRING (537.105 255.474, 538.006 256.675) at 537.32456140350882 255.76608187134499\n"
     ]
    },
    {
     "name": "stdout",
     "output_type": "stream",
     "text": [
      " 499\n",
      "First toplological error, tile"
     ]
    },
    {
     "name": "stderr",
     "output_type": "stream",
     "text": [
      "ERROR:shapely.geos:TopologyException: found non-noded intersection between LINESTRING (502.747 231.089, 498.543 229.58) and LINESTRING (498.543 229.58, 498.075 229.491) at 498.54347826086962 229.57971014492756\n"
     ]
    },
    {
     "name": "stdout",
     "output_type": "stream",
     "text": [
      " 501\n",
      "First toplological error, tile"
     ]
    },
    {
     "name": "stderr",
     "output_type": "stream",
     "text": [
      "ERROR:shapely.geos:TopologyException: found non-noded intersection between LINESTRING (436.195 223.171, 434.224 223.589) and LINESTRING (434.224 223.589, 443.273 223.136) at 434.22429906542055 223.58878504672899\n"
     ]
    },
    {
     "name": "stdout",
     "output_type": "stream",
     "text": [
      " 502\n",
      "First toplological error, tile"
     ]
    },
    {
     "name": "stderr",
     "output_type": "stream",
     "text": [
      "ERROR:shapely.geos:TopologyException: found non-noded intersection between LINESTRING (449.066 223.262, 455.633 223.405) and LINESTRING (453 223, 455.633 223.405) at 455.63291139240499 223.40506329113924\n"
     ]
    },
    {
     "name": "stdout",
     "output_type": "stream",
     "text": [
      " 506\n",
      "First toplological error, tile"
     ]
    },
    {
     "name": "stderr",
     "output_type": "stream",
     "text": [
      "ERROR:shapely.geos:TopologyException: found non-noded intersection between LINESTRING (480.945 339.655, 480.945 339.655) and LINESTRING (480.945 339.655, 480.945 339.655) at 480.94545454545431 339.65454545454548\n"
     ]
    },
    {
     "name": "stdout",
     "output_type": "stream",
     "text": [
      " 507\n",
      "First toplological error, tile"
     ]
    },
    {
     "name": "stderr",
     "output_type": "stream",
     "text": [
      "ERROR:shapely.geos:TopologyException: found non-noded intersection between LINESTRING (546.269 328.104, 546.269 328.104) and LINESTRING (546.269 328.104, 546.269 328.104) at 546.26865671641781 328.10447761194035\n"
     ]
    },
    {
     "name": "stdout",
     "output_type": "stream",
     "text": [
      " 512\n",
      "First toplological error, tile 515\n",
      "Adding leftovers starting: "
     ]
    },
    {
     "name": "stderr",
     "output_type": "stream",
     "text": [
      " 73%|███████▎  | 377/519 [00:17<00:06, 21.90it/s]ERROR:shapely.geos:TopologyException: found non-noded intersection between LINESTRING (531.571 248.095, 528.452 243.935) and LINESTRING (528.8 244.4, 528.8 244.4) at 528.80000000000018 244.40000000000015\n"
     ]
    },
    {
     "name": "stdout",
     "output_type": "stream",
     "text": [
      " 519\n",
      "Finished leftovers starting:  519\n",
      "Topological Error"
     ]
    },
    {
     "name": "stderr",
     "output_type": "stream",
     "text": [
      "                                              "
     ]
    },
    {
     "name": "stdout",
     "output_type": "stream",
     "text": [
      " 395 297\n"
     ]
    },
    {
     "name": "stderr",
     "output_type": "stream",
     "text": [
      "\r"
     ]
    },
    {
     "data": {
      "image/png": "[encoded data removed]",
      "text/plain": [
       "<matplotlib.figure.Figure at 0x1130e05d0>"
      ]
     },
     "metadata": {},
     "output_type": "display_data"
    },
    {
     "data": {
      "image/png": "[encoded data removed]",
      "text/plain": [
       "<matplotlib.figure.Figure at 0x112d338d0>"
      ]
     },
     "metadata": {},
     "output_type": "display_data"
    }
   ],
   "source": [
    "import copy\n",
    "objid=10\n",
    "sampleNworkers=10\n",
    "bb_objects = bb_info[bb_info[\"object_id\"]==objid]\n",
    "bb_objects =  bb_objects[bb_objects.worker_id!=3]\n",
    "# Sampling Data from Ji table \n",
    "if sampleNworkers>0 and sampleNworkers<len(bb_objects):\n",
    "    bb_objects = bb_objects.sample(n=sampleNworkers,random_state=111)\n",
    "# Create a list of polygons based on worker BBs \n",
    "xylocs = [list(zip(*process_raw_locs([x,y]))) for x,y in zip(bb_objects[\"x_locs\"],bb_objects[\"y_locs\"])]\n",
    "BB = []\n",
    "for xyloc in xylocs:\n",
    "    BB.append(Polygon(xyloc).buffer(0))\n",
    "###################################\n",
    "tqdm_on=True\n",
    "save_tiles=False\n",
    "###################################\n",
    "tiles=[]\n",
    "if tqdm_on: \n",
    "    BB_lst = tqdm(range(len(BB)))\n",
    "else:\n",
    "    BB_lst=range(len(BB))\n",
    "all_tiles=[]\n",
    "for i in BB_lst:\n",
    "    print \"------------------------------Adding BB\"+str(i)+\"------------------------------\"\n",
    "    bi = BB[i]\n",
    "    # base case, when i=0, only 2 polygon intersecting\n",
    "    if i==0:\n",
    "        tiles.append(bi)\n",
    "    else: \n",
    "        xj_lst = []\n",
    "        tiles_tmp =copy.deepcopy(tiles)\n",
    "        for tj in tiles:\n",
    "\n",
    "            try:\n",
    "                xj=tj.intersection(bi)\n",
    "                if xj.area>1e-10:# and overlap(xj,tj)<0.2: #eliminating spurious LineString-looking Polygons \n",
    "                    diff_region = tj.difference(xj)\n",
    "                    if diff_region.area>1e-10:  # If highly overlapping then the differnce would be ~0, don't put in overlapping tiles\n",
    "                        tiles_tmp.remove(tj)\n",
    "                        #print \"Adding intersection starting: \",len(tiles)\n",
    "                        add_object_to_tiles(tiles_tmp,xj)\n",
    "                        #print \"Adding diff_region starting: \",len(tiles)\n",
    "                        add_object_to_tiles(tiles_tmp,diff_region)\n",
    "                        if xj.intersection(diff_region).area>1e-8:\n",
    "                            print \"break #1\"\n",
    "                            break\n",
    "                        if not np.isclose(xj.union(diff_region).area,tj.area,rtol=1e-8):\n",
    "                            print \"break#2\"\n",
    "                            print xj.union(diff_region).area\n",
    "                            print tj.area\n",
    "                            print xj.union(diff_region).area==tj.area\n",
    "                            break\n",
    "                        xj_lst.append(xj)\n",
    "                    else:\n",
    "                        xj_lst.append(tj)\n",
    "            except(shapely.errors.TopologicalError):\n",
    "                print \"xj list last item ignored\"\n",
    "                xj_lst=xj_lst[:-1]\n",
    "                pass\n",
    "\n",
    "        duplicated,uniquify_tiles = compute_unique_tileset(tiles)\n",
    "        \n",
    "        if duplicated:\n",
    "            print \"before leftover BAD: BB,continue\",i\n",
    "            #tiles = uniquify_tiles\n",
    "            break \n",
    "        else:\n",
    "            print \"----------- All tiles before leftover calculation is non-overlapping ---------------\"\n",
    "                  \n",
    "\n",
    "        print \"Bi-(Bi intersect Uorig_tiles)\"\n",
    "        #leftovers = bi.difference(bi.intersection(cascaded_union(tiles))) # causes 2 duplicate tiles\n",
    "        #leftovers = bi.difference(bi.intersection(cascaded_union(tiles_tmp)))\n",
    "        leftovers = bi\n",
    "        throw_out_later = []\n",
    "        for tidx,t in enumerate(tiles_tmp): #tiles cause topolgical error\n",
    "            try:\n",
    "                leftovers = leftovers.difference(t) \n",
    "            except(shapely.geos.TopologicalError):\n",
    "                print \"First toplological error, tile\",tidx\n",
    "                try:\n",
    "                    leftovers = leftovers.difference(t.buffer(-1e-10))\n",
    "                except(shapely.geos.TopologicalError):\n",
    "                    print \"Throw out later : Topological error #67, tile\",tidx\n",
    "                    throw_out_later.append(t)              \n",
    "#             if i==4:\n",
    "#                 uniquify_tiles = compute_unique_tileset(tiles)\n",
    "#                 boolean_uniquify_tiles = len(uniquify_tiles)==len(tiles)\n",
    "#                 if not boolean_uniquify_tiles:\n",
    "#                     print \"doing leftover BAD: BB,continue, tile\",tidx\n",
    "#                     tiles = uniquify_tiles\n",
    "#                     break \n",
    "\n",
    "        for tidx,tile in  enumerate(throw_out_later):\n",
    "            print \"diffing tile#\",tidx\n",
    "            try:\n",
    "                leftovers = leftovers.difference(tile) \n",
    "            except(shapely.geos.TopologicalError):\n",
    "                try:\n",
    "                    leftovers = leftovers.difference(tile.buffer(1e-10))\n",
    "                except(shapely.geos.TopologicalError):\n",
    "                    leftovers = leftovers.buffer(1e-50).difference(tile)\n",
    "#                 try:\n",
    "                    \n",
    "#                 except(shapely.geos.TopologicalError):\n",
    "#                     leftovers = leftovers.buffer(1e-10).difference(tile.buffer(1e-10))\n",
    "        tiles =copy.deepcopy(tiles_tmp)\n",
    "\n",
    "        print \"Adding leftovers starting: \",len(tiles)\n",
    "        add_object_to_tiles(tiles,leftovers)\n",
    "        print \"Finished leftovers starting: \",len(tiles)\n",
    "    all_tiles.append(tiles)\n",
    "    #uniqufy check !!\n",
    "    duplicated,uniquify_tiles = compute_unique_tileset(tiles)\n",
    "    #boolean_uniquify_tiles = len(uniquify_tiles)==len(tiles)\n",
    "    if duplicated:\n",
    "        print \"BAD: BB, continuing but remove duplicates\",i\n",
    "        tiles = uniquify_tiles\n",
    "        #return tiles\n",
    "#         break\n",
    "#     if i ==6:\n",
    "#         break \n",
    "\n",
    "# if save_tiles: pkl.dump(tiles,open('tiles{0}.pkl'.format(objid),'w'))"
   ]
  },
  {
   "cell_type": "code",
   "execution_count": null,
   "metadata": {
    "collapsed": true
   },
   "outputs": [],
   "source": [
    "import copy\n",
    "objid=10\n",
    "sampleNworkers=10\n",
    "bb_objects = bb_info[bb_info[\"object_id\"]==objid]\n",
    "bb_objects =  bb_objects[bb_objects.worker_id!=3]\n",
    "# Sampling Data from Ji table \n",
    "if sampleNworkers>0 and sampleNworkers<len(bb_objects):\n",
    "    bb_objects = bb_objects.sample(n=sampleNworkers,random_state=111)\n",
    "# Create a list of polygons based on worker BBs \n",
    "xylocs = [list(zip(*process_raw_locs([x,y]))) for x,y in zip(bb_objects[\"x_locs\"],bb_objects[\"y_locs\"])]\n",
    "BB = []\n",
    "for xyloc in xylocs:\n",
    "    BB.append(Polygon(xyloc).buffer(0))\n",
    "###################################\n",
    "tqdm_on=True\n",
    "save_tiles=False\n",
    "###################################\n",
    "tiles=[]\n",
    "if tqdm_on: \n",
    "    BB_lst = tqdm(range(len(BB)))\n",
    "else:\n",
    "    BB_lst=range(len(BB))\n",
    "all_tiles=[]\n",
    "for i in BB_lst:\n",
    "    print \"------------------------------Adding BB\"+str(i)+\"------------------------------\"\n",
    "    bi = BB[i]\n",
    "    # base case, when i=0, only 2 polygon intersecting\n",
    "    if i==0:\n",
    "        tiles.append(bi)\n",
    "    else: \n",
    "        xj_lst = []\n",
    "        tiles_tmp =copy.deepcopy(tiles)\n",
    "        for tj in tiles:\n",
    "\n",
    "            try:\n",
    "                xj=tj.intersection(bi)\n",
    "                if xj.area>1e-10:# and overlap(xj,tj)<0.2: #eliminating spurious LineString-looking Polygons \n",
    "                    diff_region = tj.difference(xj)\n",
    "                    if diff_region.area>1e-10:  # If highly overlapping then the differnce would be ~0, don't put in overlapping tiles\n",
    "                        tiles_tmp.remove(tj)\n",
    "                        #print \"Adding intersection starting: \",len(tiles)\n",
    "                        add_object_to_tiles(tiles_tmp,xj)\n",
    "                        #print \"Adding diff_region starting: \",len(tiles)\n",
    "                        add_object_to_tiles(tiles_tmp,diff_region)\n",
    "                        if xj.intersection(diff_region).area>1e-8:\n",
    "                            print \"break #1\"\n",
    "                            break\n",
    "                        if not np.isclose(xj.union(diff_region).area,tj.area,rtol=1e-8):\n",
    "                            print \"break#2\"\n",
    "                            print xj.union(diff_region).area\n",
    "                            print tj.area\n",
    "                            print xj.union(diff_region).area==tj.area\n",
    "                            break\n",
    "                        xj_lst.append(xj)\n",
    "                    else:\n",
    "                        xj_lst.append(tj)\n",
    "            except(shapely.errors.TopologicalError):\n",
    "                print \"xj list last item ignored\"\n",
    "                xj_lst=xj_lst[:-1]\n",
    "                pass\n",
    "\n",
    "        duplicated,uniquify_tiles = compute_unique_tileset(tiles)\n",
    "        \n",
    "        if duplicated:\n",
    "            print \"before leftover BAD: BB,continue\",i\n",
    "            #tiles = uniquify_tiles\n",
    "            break \n",
    "        else:\n",
    "            print \"----------- All tiles before leftover calculation is non-overlapping ---------------\"\n",
    "                  \n",
    "\n",
    "        print \"Bi-(Bi intersect Uorig_tiles)\"\n",
    "        #leftovers = bi.difference(bi.intersection(cascaded_union(tiles))) # causes 2 duplicate tiles\n",
    "        #leftovers = bi.difference(bi.intersection(cascaded_union(tiles_tmp)))\n",
    "        leftovers = bi\n",
    "        throw_out_later = []\n",
    "        for tidx,t in enumerate(tiles_tmp): #tiles cause topolgical error\n",
    "            try:\n",
    "                leftovers = leftovers.difference(t) \n",
    "            except(shapely.geos.TopologicalError):\n",
    "                print \"First toplological error, tile\",tidx\n",
    "                try:\n",
    "                    leftovers = leftovers.difference(t.buffer(-1e-10))\n",
    "                except(shapely.geos.TopologicalError):\n",
    "                    print \"Throw out later : Topological error #67, tile\",tidx\n",
    "                    throw_out_later.append(t)              \n",
    "#             if i==4:\n",
    "#                 uniquify_tiles = compute_unique_tileset(tiles)\n",
    "#                 boolean_uniquify_tiles = len(uniquify_tiles)==len(tiles)\n",
    "#                 if not boolean_uniquify_tiles:\n",
    "#                     print \"doing leftover BAD: BB,continue, tile\",tidx\n",
    "#                     tiles = uniquify_tiles\n",
    "#                     break \n",
    "\n",
    "        for tidx,tile in  enumerate(throw_out_later):\n",
    "            print \"diffing tile#\",tidx\n",
    "            try:\n",
    "                leftovers = leftovers.difference(tile) \n",
    "            except(shapely.geos.TopologicalError):\n",
    "                try:\n",
    "                    leftovers = leftovers.difference(tile.buffer(1e-10))\n",
    "                except(shapely.geos.TopologicalError):\n",
    "                    leftovers = leftovers.buffer(1e-50).difference(tile)\n",
    "#                 try:\n",
    "                    \n",
    "#                 except(shapely.geos.TopologicalError):\n",
    "#                     leftovers = leftovers.buffer(1e-10).difference(tile.buffer(1e-10))\n",
    "        tiles =copy.deepcopy(tiles_tmp)\n",
    "\n",
    "        print \"Adding leftovers starting: \",len(tiles)\n",
    "        add_object_to_tiles(tiles,leftovers)\n",
    "        print \"Finished leftovers starting: \",len(tiles)\n",
    "    all_tiles.append(tiles)\n",
    "    #uniqufy check !!\n",
    "#     duplicated,uniquify_tiles = compute_unique_tileset(tiles)\n",
    "#     #boolean_uniquify_tiles = len(uniquify_tiles)==len(tiles)\n",
    "#     if duplicated:\n",
    "#         print \"BAD: BB, continuing but remove duplicates\",i\n",
    "#         tiles = uniquify_tiles\n",
    "        #return tiles\n",
    "#         break\n",
    "#     if i ==6:\n",
    "#         break \n",
    "\n",
    "# if save_tiles: pkl.dump(tiles,open('tiles{0}.pkl'.format(objid),'w'))"
   ]
  },
  {
   "cell_type": "code",
   "execution_count": null,
   "metadata": {
    "collapsed": true
   },
   "outputs": [],
   "source": []
  },
  {
   "cell_type": "code",
   "execution_count": 137,
   "metadata": {
    "collapsed": false
   },
   "outputs": [
    {
     "name": "stderr",
     "output_type": "stream",
     "text": [
      " 92%|█████████▏| 216/236 [00:05<00:00, 39.56it/s]"
     ]
    },
    {
     "name": "stdout",
     "output_type": "stream",
     "text": [
      "Duplicate tiles:  230 100 1.0\n",
      "Duplicate tiles: "
     ]
    },
    {
     "name": "stderr",
     "output_type": "stream",
     "text": [
      "\r",
      "                                                 "
     ]
    },
    {
     "name": "stdout",
     "output_type": "stream",
     "text": [
      " 231 84 0.48294965685\n"
     ]
    },
    {
     "name": "stderr",
     "output_type": "stream",
     "text": [
      "\r"
     ]
    },
    {
     "data": {
      "image/png": "[encoded data removed]",
      "text/plain": [
       "<matplotlib.figure.Figure at 0x112c61dd0>"
      ]
     },
     "metadata": {},
     "output_type": "display_data"
    },
    {
     "data": {
      "image/png": "[encoded data removed]",
      "text/plain": [
       "<matplotlib.figure.Figure at 0x1131344d0>"
      ]
     },
     "metadata": {},
     "output_type": "display_data"
    }
   ],
   "source": [
    "duplicated,verified_tiles = compute_unique_tileset(tiles)"
   ]
  },
  {
   "cell_type": "code",
   "execution_count": 139,
   "metadata": {
    "collapsed": false
   },
   "outputs": [
    {
     "name": "stderr",
     "output_type": "stream",
     "text": []
    }
   ],
   "source": [
    "duplicated,verified_tiles2 =compute_unique_tileset(verified_tiles)"
   ]
  },
  {
   "cell_type": "code",
   "execution_count": 89,
   "metadata": {
    "collapsed": false
   },
   "outputs": [
    {
     "data": {
      "image/png": "[encoded data removed]",
      "text/plain": [
       "<matplotlib.figure.Figure at 0x112f4a510>"
      ]
     },
     "metadata": {},
     "output_type": "display_data"
    }
   ],
   "source": [
    "plot_coords(tiles[101])\n",
    "plot_coords(tiles[36],color=\"blue\")"
   ]
  },
  {
   "cell_type": "code",
   "execution_count": 86,
   "metadata": {
    "collapsed": false
   },
   "outputs": [
    {
     "data": {
      "image/png": "[encoded data removed]",
      "text/plain": [
       "<matplotlib.figure.Figure at 0x112e27f50>"
      ]
     },
     "metadata": {},
     "output_type": "display_data"
    }
   ],
   "source": [
    "plot_coords(tiles[381])\n",
    "plot_coords(tiles[412],color='blue')"
   ]
  },
  {
   "cell_type": "code",
   "execution_count": 113,
   "metadata": {
    "collapsed": false
   },
   "outputs": [
    {
     "name": "stderr",
     "output_type": "stream",
     "text": [
      " 73%|███████▎  | 390/532 [00:17<00:06, 21.67it/s]ERROR:shapely.geos:TopologyException: found non-noded intersection between LINESTRING (531.571 248.095, 528.452 243.935) and LINESTRING (528.8 244.4, 528.8 244.4) at 528.80000000000018 244.40000000000015\n"
     ]
    },
    {
     "name": "stdout",
     "output_type": "stream",
     "text": [
      "Duplicate tiles:  101 36 1.0\n",
      "Topological Error 402 301\n",
      "Duplicate tiles: "
     ]
    },
    {
     "name": "stderr",
     "output_type": "stream",
     "text": [
      " 98%|█████████▊| 520/532 [00:32<00:00, 16.09it/s]"
     ]
    },
    {
     "name": "stdout",
     "output_type": "stream",
     "text": [
      " 412 381 0.822388219911\n",
      "Duplicate tiles:  530 342 0.980785296569\n"
     ]
    },
    {
     "ename": "ValueError",
     "evalue": "list.remove(x): x not in list",
     "output_type": "error",
     "traceback": [
      "\u001b[0;31m---------------------------------------------------------------------------\u001b[0m",
      "\u001b[0;31mValueError\u001b[0m                                Traceback (most recent call last)",
      "\u001b[0;32m<ipython-input-113-73adb0ca2ada>\u001b[0m in \u001b[0;36m<module>\u001b[0;34m()\u001b[0m\n\u001b[0;32m----> 1\u001b[0;31m \u001b[0mcompute_unique_tileset\u001b[0m\u001b[0;34m(\u001b[0m\u001b[0mtiles\u001b[0m\u001b[0;34m)\u001b[0m\u001b[0;34m\u001b[0m\u001b[0m\n\u001b[0m",
      "\u001b[0;32m<ipython-input-112-e6ece4c321f7>\u001b[0m in \u001b[0;36mcompute_unique_tileset\u001b[0;34m(tiles)\u001b[0m\n\u001b[1;32m     18\u001b[0m                         \u001b[0mverified_tiles\u001b[0m\u001b[0;34m.\u001b[0m\u001b[0mappend\u001b[0m\u001b[0;34m(\u001b[0m\u001b[0mt\u001b[0m\u001b[0;34m)\u001b[0m\u001b[0;34m\u001b[0m\u001b[0m\n\u001b[1;32m     19\u001b[0m                     \u001b[0;32melse\u001b[0m\u001b[0;34m:\u001b[0m\u001b[0;34m\u001b[0m\u001b[0m\n\u001b[0;32m---> 20\u001b[0;31m                         \u001b[0mverified_tiles\u001b[0m\u001b[0;34m.\u001b[0m\u001b[0mremove\u001b[0m\u001b[0;34m(\u001b[0m\u001b[0mt\u001b[0m\u001b[0;34m)\u001b[0m\u001b[0;34m\u001b[0m\u001b[0m\n\u001b[0m\u001b[1;32m     21\u001b[0m                         \u001b[0mnew_t\u001b[0m \u001b[0;34m=\u001b[0m \u001b[0mt\u001b[0m\u001b[0;34m.\u001b[0m\u001b[0mdifference\u001b[0m\u001b[0;34m(\u001b[0m\u001b[0mvt\u001b[0m\u001b[0;34m)\u001b[0m\u001b[0;34m\u001b[0m\u001b[0m\n\u001b[1;32m     22\u001b[0m                         \u001b[0mverified_tiles\u001b[0m\u001b[0;34m.\u001b[0m\u001b[0mappend\u001b[0m\u001b[0;34m(\u001b[0m\u001b[0mnew_t\u001b[0m\u001b[0;34m)\u001b[0m\u001b[0;34m\u001b[0m\u001b[0m\n",
      "\u001b[0;31mValueError\u001b[0m: list.remove(x): x not in list"
     ]
    }
   ],
   "source": [
    "compute_unique_tileset(tiles)"
   ]
  },
  {
   "cell_type": "code",
   "execution_count": 80,
   "metadata": {
    "collapsed": false
   },
   "outputs": [
    {
     "name": "stderr",
     "output_type": "stream",
     "text": [
      " 74%|███████▎  | 392/532 [00:18<00:06, 21.09it/s]ERROR:shapely.geos:TopologyException: found non-noded intersection between LINESTRING (531.571 248.095, 528.452 243.935) and LINESTRING (528.8 244.4, 528.8 244.4) at 528.80000000000018 244.40000000000015\n"
     ]
    },
    {
     "name": "stdout",
     "output_type": "stream",
     "text": [
      "Duplicate tiles:  101 36 1.0\n",
      "Error 402 301\n",
      "Duplicate tiles: "
     ]
    },
    {
     "name": "stderr",
     "output_type": "stream",
     "text": [
      " 95%|█████████▍| 504/532 [00:31<00:01, 16.01it/s]"
     ]
    },
    {
     "name": "stdout",
     "output_type": "stream",
     "text": [
      " 412 381 0.822388219911\n",
      "Duplicate tiles: "
     ]
    },
    {
     "name": "stderr",
     "output_type": "stream",
     "text": [
      "                                                 "
     ]
    },
    {
     "name": "stdout",
     "output_type": "stream",
     "text": [
      " 530 342 0.980785296569\n",
      "Duplication rate:  0.00563909774436\n"
     ]
    },
    {
     "name": "stderr",
     "output_type": "stream",
     "text": [
      "\r"
     ]
    },
    {
     "data": {
      "text/plain": [
       "[<shapely.geometry.polygon.Polygon at 0x112d24150>,\n",
       " <shapely.geometry.polygon.Polygon at 0x112d72c90>,\n",
       " <shapely.geometry.polygon.Polygon at 0x112d72c10>,\n",
       " <shapely.geometry.polygon.Polygon at 0x112d72b50>,\n",
       " <shapely.geometry.polygon.Polygon at 0x112d72cd0>,\n",
       " <shapely.geometry.polygon.Polygon at 0x112d72a90>,\n",
       " <shapely.geometry.polygon.Polygon at 0x112e08b10>,\n",
       " <shapely.geometry.polygon.Polygon at 0x112e08910>,\n",
       " <shapely.geometry.polygon.Polygon at 0x112e087d0>,\n",
       " <shapely.geometry.polygon.Polygon at 0x112e08790>,\n",
       " <shapely.geometry.polygon.Polygon at 0x112e08750>,\n",
       " <shapely.geometry.polygon.Polygon at 0x112e08690>,\n",
       " <shapely.geometry.polygon.Polygon at 0x112e08650>,\n",
       " <shapely.geometry.polygon.Polygon at 0x112e08590>,\n",
       " <shapely.geometry.polygon.Polygon at 0x112e08510>,\n",
       " <shapely.geometry.polygon.Polygon at 0x112e08450>,\n",
       " <shapely.geometry.polygon.Polygon at 0x112e08410>,\n",
       " <shapely.geometry.polygon.Polygon at 0x112e08290>,\n",
       " <shapely.geometry.polygon.Polygon at 0x112e08250>,\n",
       " <shapely.geometry.polygon.Polygon at 0x112e081d0>,\n",
       " <shapely.geometry.polygon.Polygon at 0x112e08190>,\n",
       " <shapely.geometry.polygon.Polygon at 0x112e08110>,\n",
       " <shapely.geometry.polygon.Polygon at 0x112e08b90>,\n",
       " <shapely.geometry.polygon.Polygon at 0x112e08bd0>,\n",
       " <shapely.geometry.polygon.Polygon at 0x112e08050>,\n",
       " <shapely.geometry.polygon.Polygon at 0x112e080d0>,\n",
       " <shapely.geometry.polygon.Polygon at 0x112e08c10>,\n",
       " <shapely.geometry.polygon.Polygon at 0x112e08c50>,\n",
       " <shapely.geometry.polygon.Polygon at 0x112e08c90>,\n",
       " <shapely.geometry.polygon.Polygon at 0x112e08cd0>,\n",
       " <shapely.geometry.polygon.Polygon at 0x112e08d10>,\n",
       " <shapely.geometry.polygon.Polygon at 0x112e08d50>,\n",
       " <shapely.geometry.polygon.Polygon at 0x112e08d90>,\n",
       " <shapely.geometry.polygon.Polygon at 0x112e08dd0>,\n",
       " <shapely.geometry.polygon.Polygon at 0x112e08e10>,\n",
       " <shapely.geometry.polygon.Polygon at 0x112e08e50>,\n",
       " <shapely.geometry.polygon.Polygon at 0x112e08e90>,\n",
       " <shapely.geometry.polygon.Polygon at 0x112e08ed0>,\n",
       " <shapely.geometry.polygon.Polygon at 0x112e08f10>,\n",
       " <shapely.geometry.polygon.Polygon at 0x112e08f50>,\n",
       " <shapely.geometry.polygon.Polygon at 0x112e08f90>,\n",
       " <shapely.geometry.polygon.Polygon at 0x112e08fd0>,\n",
       " <shapely.geometry.polygon.Polygon at 0x112e08ad0>,\n",
       " <shapely.geometry.polygon.Polygon at 0x112e08a90>,\n",
       " <shapely.geometry.polygon.Polygon at 0x112d35090>,\n",
       " <shapely.geometry.polygon.Polygon at 0x112d35110>,\n",
       " <shapely.geometry.polygon.Polygon at 0x112d35150>,\n",
       " <shapely.geometry.polygon.Polygon at 0x112d35190>,\n",
       " <shapely.geometry.polygon.Polygon at 0x112d351d0>,\n",
       " <shapely.geometry.polygon.Polygon at 0x112d35210>,\n",
       " <shapely.geometry.polygon.Polygon at 0x112d35250>,\n",
       " <shapely.geometry.polygon.Polygon at 0x112d35290>,\n",
       " <shapely.geometry.polygon.Polygon at 0x112d352d0>,\n",
       " <shapely.geometry.polygon.Polygon at 0x112d35310>,\n",
       " <shapely.geometry.polygon.Polygon at 0x112d35350>,\n",
       " <shapely.geometry.polygon.Polygon at 0x112d35390>,\n",
       " <shapely.geometry.polygon.Polygon at 0x112d353d0>,\n",
       " <shapely.geometry.polygon.Polygon at 0x112d35410>,\n",
       " <shapely.geometry.polygon.Polygon at 0x112d35450>,\n",
       " <shapely.geometry.polygon.Polygon at 0x112d35490>,\n",
       " <shapely.geometry.polygon.Polygon at 0x112d354d0>,\n",
       " <shapely.geometry.polygon.Polygon at 0x112d35510>,\n",
       " <shapely.geometry.polygon.Polygon at 0x112d35550>,\n",
       " <shapely.geometry.polygon.Polygon at 0x112d35590>,\n",
       " <shapely.geometry.polygon.Polygon at 0x112d355d0>,\n",
       " <shapely.geometry.polygon.Polygon at 0x112d35610>,\n",
       " <shapely.geometry.polygon.Polygon at 0x112d35650>,\n",
       " <shapely.geometry.polygon.Polygon at 0x112d35690>,\n",
       " <shapely.geometry.polygon.Polygon at 0x112d356d0>,\n",
       " <shapely.geometry.polygon.Polygon at 0x112d35710>,\n",
       " <shapely.geometry.polygon.Polygon at 0x112d35750>,\n",
       " <shapely.geometry.polygon.Polygon at 0x112d35790>,\n",
       " <shapely.geometry.polygon.Polygon at 0x112d357d0>,\n",
       " <shapely.geometry.polygon.Polygon at 0x112d35810>,\n",
       " <shapely.geometry.polygon.Polygon at 0x112d35850>,\n",
       " <shapely.geometry.polygon.Polygon at 0x112d35890>,\n",
       " <shapely.geometry.polygon.Polygon at 0x112d358d0>,\n",
       " <shapely.geometry.polygon.Polygon at 0x112d35910>,\n",
       " <shapely.geometry.polygon.Polygon at 0x112d35950>,\n",
       " <shapely.geometry.polygon.Polygon at 0x112d35990>,\n",
       " <shapely.geometry.polygon.Polygon at 0x112d359d0>,\n",
       " <shapely.geometry.polygon.Polygon at 0x112d35a10>,\n",
       " <shapely.geometry.polygon.Polygon at 0x112d35a50>,\n",
       " <shapely.geometry.polygon.Polygon at 0x112d35a90>,\n",
       " <shapely.geometry.polygon.Polygon at 0x112d35ad0>,\n",
       " <shapely.geometry.polygon.Polygon at 0x112d35b10>,\n",
       " <shapely.geometry.polygon.Polygon at 0x112d35b50>,\n",
       " <shapely.geometry.polygon.Polygon at 0x112d35b90>,\n",
       " <shapely.geometry.polygon.Polygon at 0x112d35bd0>,\n",
       " <shapely.geometry.polygon.Polygon at 0x112d35c10>,\n",
       " <shapely.geometry.polygon.Polygon at 0x112d35c50>,\n",
       " <shapely.geometry.polygon.Polygon at 0x112d35c90>,\n",
       " <shapely.geometry.polygon.Polygon at 0x112d35cd0>,\n",
       " <shapely.geometry.polygon.Polygon at 0x112d35d10>,\n",
       " <shapely.geometry.polygon.Polygon at 0x112d35d50>,\n",
       " <shapely.geometry.polygon.Polygon at 0x112d35d90>,\n",
       " <shapely.geometry.polygon.Polygon at 0x112d35dd0>,\n",
       " <shapely.geometry.polygon.Polygon at 0x112d35e10>,\n",
       " <shapely.geometry.polygon.Polygon at 0x112d35e50>,\n",
       " <shapely.geometry.polygon.Polygon at 0x112d35e90>,\n",
       " <shapely.geometry.polygon.Polygon at 0x112d35ed0>,\n",
       " <shapely.geometry.polygon.Polygon at 0x112d35f50>,\n",
       " <shapely.geometry.polygon.Polygon at 0x112d35f90>,\n",
       " <shapely.geometry.polygon.Polygon at 0x112d35fd0>,\n",
       " <shapely.geometry.polygon.Polygon at 0x112d350d0>,\n",
       " <shapely.geometry.polygon.Polygon at 0x112d35050>,\n",
       " <shapely.geometry.polygon.Polygon at 0x112dc2090>,\n",
       " <shapely.geometry.polygon.Polygon at 0x112dc2110>,\n",
       " <shapely.geometry.polygon.Polygon at 0x112dc2150>,\n",
       " <shapely.geometry.polygon.Polygon at 0x112dc2190>,\n",
       " <shapely.geometry.polygon.Polygon at 0x112dc21d0>,\n",
       " <shapely.geometry.polygon.Polygon at 0x112dc2210>,\n",
       " <shapely.geometry.polygon.Polygon at 0x112dc2250>,\n",
       " <shapely.geometry.polygon.Polygon at 0x112dc2290>,\n",
       " <shapely.geometry.polygon.Polygon at 0x112dc22d0>,\n",
       " <shapely.geometry.polygon.Polygon at 0x112dc2310>,\n",
       " <shapely.geometry.polygon.Polygon at 0x112dc2350>,\n",
       " <shapely.geometry.polygon.Polygon at 0x112dc2390>,\n",
       " <shapely.geometry.polygon.Polygon at 0x112dc23d0>,\n",
       " <shapely.geometry.polygon.Polygon at 0x112dc2410>,\n",
       " <shapely.geometry.polygon.Polygon at 0x112dc2450>,\n",
       " <shapely.geometry.polygon.Polygon at 0x112dc2490>,\n",
       " <shapely.geometry.polygon.Polygon at 0x112dc24d0>,\n",
       " <shapely.geometry.polygon.Polygon at 0x112dc2510>,\n",
       " <shapely.geometry.polygon.Polygon at 0x112dc2550>,\n",
       " <shapely.geometry.polygon.Polygon at 0x112dc2590>,\n",
       " <shapely.geometry.polygon.Polygon at 0x112dc25d0>,\n",
       " <shapely.geometry.polygon.Polygon at 0x112dc2610>,\n",
       " <shapely.geometry.polygon.Polygon at 0x112dc2650>,\n",
       " <shapely.geometry.polygon.Polygon at 0x112dc2690>,\n",
       " <shapely.geometry.polygon.Polygon at 0x112dc26d0>,\n",
       " <shapely.geometry.polygon.Polygon at 0x112dc2710>,\n",
       " <shapely.geometry.polygon.Polygon at 0x112dc2750>,\n",
       " <shapely.geometry.polygon.Polygon at 0x112dc2790>,\n",
       " <shapely.geometry.polygon.Polygon at 0x112dc27d0>,\n",
       " <shapely.geometry.polygon.Polygon at 0x112dc2810>,\n",
       " <shapely.geometry.polygon.Polygon at 0x112dc2850>,\n",
       " <shapely.geometry.polygon.Polygon at 0x112dc2890>,\n",
       " <shapely.geometry.polygon.Polygon at 0x112dc28d0>,\n",
       " <shapely.geometry.polygon.Polygon at 0x112dc2910>,\n",
       " <shapely.geometry.polygon.Polygon at 0x112dc2950>,\n",
       " <shapely.geometry.polygon.Polygon at 0x112dc2990>,\n",
       " <shapely.geometry.polygon.Polygon at 0x112dc29d0>,\n",
       " <shapely.geometry.polygon.Polygon at 0x112dc2a10>,\n",
       " <shapely.geometry.polygon.Polygon at 0x112dc2a50>,\n",
       " <shapely.geometry.polygon.Polygon at 0x112dc2a90>,\n",
       " <shapely.geometry.polygon.Polygon at 0x112dc2ad0>,\n",
       " <shapely.geometry.polygon.Polygon at 0x112dc2b10>,\n",
       " <shapely.geometry.polygon.Polygon at 0x112dc2b50>,\n",
       " <shapely.geometry.polygon.Polygon at 0x112dc2b90>,\n",
       " <shapely.geometry.polygon.Polygon at 0x112dc2bd0>,\n",
       " <shapely.geometry.polygon.Polygon at 0x112dc2c10>,\n",
       " <shapely.geometry.polygon.Polygon at 0x112dc2c50>,\n",
       " <shapely.geometry.polygon.Polygon at 0x112dc2c90>,\n",
       " <shapely.geometry.polygon.Polygon at 0x112dc2cd0>,\n",
       " <shapely.geometry.polygon.Polygon at 0x112dc2d10>,\n",
       " <shapely.geometry.polygon.Polygon at 0x112dc2d50>,\n",
       " <shapely.geometry.polygon.Polygon at 0x112dc2d90>,\n",
       " <shapely.geometry.polygon.Polygon at 0x112dc2dd0>,\n",
       " <shapely.geometry.polygon.Polygon at 0x112dc2e10>,\n",
       " <shapely.geometry.polygon.Polygon at 0x112dc2e50>,\n",
       " <shapely.geometry.polygon.Polygon at 0x112dc2e90>,\n",
       " <shapely.geometry.polygon.Polygon at 0x112dc2ed0>,\n",
       " <shapely.geometry.polygon.Polygon at 0x112dc2f10>,\n",
       " <shapely.geometry.polygon.Polygon at 0x112dc2f50>,\n",
       " <shapely.geometry.polygon.Polygon at 0x112dc2f90>,\n",
       " <shapely.geometry.polygon.Polygon at 0x112dc2fd0>,\n",
       " <shapely.geometry.polygon.Polygon at 0x112dc20d0>,\n",
       " <shapely.geometry.polygon.Polygon at 0x112dc2050>,\n",
       " <shapely.geometry.polygon.Polygon at 0x112db5090>,\n",
       " <shapely.geometry.polygon.Polygon at 0x112db5110>,\n",
       " <shapely.geometry.polygon.Polygon at 0x112db5150>,\n",
       " <shapely.geometry.polygon.Polygon at 0x112db5190>,\n",
       " <shapely.geometry.polygon.Polygon at 0x112db51d0>,\n",
       " <shapely.geometry.polygon.Polygon at 0x112db5210>,\n",
       " <shapely.geometry.polygon.Polygon at 0x112db5250>,\n",
       " <shapely.geometry.polygon.Polygon at 0x112db5290>,\n",
       " <shapely.geometry.polygon.Polygon at 0x112db52d0>,\n",
       " <shapely.geometry.polygon.Polygon at 0x112db5310>,\n",
       " <shapely.geometry.polygon.Polygon at 0x112db5350>,\n",
       " <shapely.geometry.polygon.Polygon at 0x112db5390>,\n",
       " <shapely.geometry.polygon.Polygon at 0x112db53d0>,\n",
       " <shapely.geometry.polygon.Polygon at 0x112db5410>,\n",
       " <shapely.geometry.polygon.Polygon at 0x112db5450>,\n",
       " <shapely.geometry.polygon.Polygon at 0x112db5490>,\n",
       " <shapely.geometry.polygon.Polygon at 0x112db54d0>,\n",
       " <shapely.geometry.polygon.Polygon at 0x112db5510>,\n",
       " <shapely.geometry.polygon.Polygon at 0x112db5550>,\n",
       " <shapely.geometry.polygon.Polygon at 0x112db5590>,\n",
       " <shapely.geometry.polygon.Polygon at 0x112db55d0>,\n",
       " <shapely.geometry.polygon.Polygon at 0x112db5610>,\n",
       " <shapely.geometry.polygon.Polygon at 0x112db5650>,\n",
       " <shapely.geometry.polygon.Polygon at 0x112db5690>,\n",
       " <shapely.geometry.polygon.Polygon at 0x112db56d0>,\n",
       " <shapely.geometry.polygon.Polygon at 0x112db5710>,\n",
       " <shapely.geometry.polygon.Polygon at 0x112db5750>,\n",
       " <shapely.geometry.polygon.Polygon at 0x112db5790>,\n",
       " <shapely.geometry.polygon.Polygon at 0x112db57d0>,\n",
       " <shapely.geometry.polygon.Polygon at 0x112db5810>,\n",
       " <shapely.geometry.polygon.Polygon at 0x112db5850>,\n",
       " <shapely.geometry.polygon.Polygon at 0x112db5890>,\n",
       " <shapely.geometry.polygon.Polygon at 0x112db58d0>,\n",
       " <shapely.geometry.polygon.Polygon at 0x112db5910>,\n",
       " <shapely.geometry.polygon.Polygon at 0x112db5950>,\n",
       " <shapely.geometry.polygon.Polygon at 0x112db5990>,\n",
       " <shapely.geometry.polygon.Polygon at 0x112db59d0>,\n",
       " <shapely.geometry.polygon.Polygon at 0x112db5a10>,\n",
       " <shapely.geometry.polygon.Polygon at 0x112db5a50>,\n",
       " <shapely.geometry.polygon.Polygon at 0x112db5a90>,\n",
       " <shapely.geometry.polygon.Polygon at 0x112db5ad0>,\n",
       " <shapely.geometry.polygon.Polygon at 0x112db5b10>,\n",
       " <shapely.geometry.polygon.Polygon at 0x112db5b50>,\n",
       " <shapely.geometry.polygon.Polygon at 0x112db5b90>,\n",
       " <shapely.geometry.polygon.Polygon at 0x112db5bd0>,\n",
       " <shapely.geometry.polygon.Polygon at 0x112db5c10>,\n",
       " <shapely.geometry.polygon.Polygon at 0x112db5c50>,\n",
       " <shapely.geometry.polygon.Polygon at 0x112db5c90>,\n",
       " <shapely.geometry.polygon.Polygon at 0x112db5cd0>,\n",
       " <shapely.geometry.polygon.Polygon at 0x112db5d10>,\n",
       " <shapely.geometry.polygon.Polygon at 0x112db5d50>,\n",
       " <shapely.geometry.polygon.Polygon at 0x112db5d90>,\n",
       " <shapely.geometry.polygon.Polygon at 0x112db5dd0>,\n",
       " <shapely.geometry.polygon.Polygon at 0x112db5e10>,\n",
       " <shapely.geometry.polygon.Polygon at 0x112db5e50>,\n",
       " <shapely.geometry.polygon.Polygon at 0x112db5e90>,\n",
       " <shapely.geometry.polygon.Polygon at 0x112db5ed0>,\n",
       " <shapely.geometry.polygon.Polygon at 0x112db5f10>,\n",
       " <shapely.geometry.polygon.Polygon at 0x112db5f50>,\n",
       " <shapely.geometry.polygon.Polygon at 0x112db5f90>,\n",
       " <shapely.geometry.polygon.Polygon at 0x112db5fd0>,\n",
       " <shapely.geometry.polygon.Polygon at 0x112db50d0>,\n",
       " <shapely.geometry.polygon.Polygon at 0x112db5050>,\n",
       " <shapely.geometry.polygon.Polygon at 0x112e06090>,\n",
       " <shapely.geometry.polygon.Polygon at 0x112e06110>,\n",
       " <shapely.geometry.polygon.Polygon at 0x112e06150>,\n",
       " <shapely.geometry.polygon.Polygon at 0x112e06190>,\n",
       " <shapely.geometry.polygon.Polygon at 0x112e061d0>,\n",
       " <shapely.geometry.polygon.Polygon at 0x112e06210>,\n",
       " <shapely.geometry.polygon.Polygon at 0x112e06250>,\n",
       " <shapely.geometry.polygon.Polygon at 0x112e06290>,\n",
       " <shapely.geometry.polygon.Polygon at 0x112e062d0>,\n",
       " <shapely.geometry.polygon.Polygon at 0x112e06310>,\n",
       " <shapely.geometry.polygon.Polygon at 0x112e06350>,\n",
       " <shapely.geometry.polygon.Polygon at 0x112e06390>,\n",
       " <shapely.geometry.polygon.Polygon at 0x112e063d0>,\n",
       " <shapely.geometry.polygon.Polygon at 0x112e06410>,\n",
       " <shapely.geometry.polygon.Polygon at 0x112e06450>,\n",
       " <shapely.geometry.polygon.Polygon at 0x112e06490>,\n",
       " <shapely.geometry.polygon.Polygon at 0x112e064d0>,\n",
       " <shapely.geometry.polygon.Polygon at 0x112e06510>,\n",
       " <shapely.geometry.polygon.Polygon at 0x112e06550>,\n",
       " <shapely.geometry.polygon.Polygon at 0x112e06590>,\n",
       " <shapely.geometry.polygon.Polygon at 0x112e065d0>,\n",
       " <shapely.geometry.polygon.Polygon at 0x112e06610>,\n",
       " <shapely.geometry.polygon.Polygon at 0x112e06650>,\n",
       " <shapely.geometry.polygon.Polygon at 0x112e06690>,\n",
       " <shapely.geometry.polygon.Polygon at 0x112e066d0>,\n",
       " <shapely.geometry.polygon.Polygon at 0x112e06710>,\n",
       " <shapely.geometry.polygon.Polygon at 0x112e06750>,\n",
       " <shapely.geometry.polygon.Polygon at 0x112e06790>,\n",
       " <shapely.geometry.polygon.Polygon at 0x112e067d0>,\n",
       " <shapely.geometry.polygon.Polygon at 0x112e06810>,\n",
       " <shapely.geometry.polygon.Polygon at 0x112e06850>,\n",
       " <shapely.geometry.polygon.Polygon at 0x112e06890>,\n",
       " <shapely.geometry.polygon.Polygon at 0x112e068d0>,\n",
       " <shapely.geometry.polygon.Polygon at 0x112e06910>,\n",
       " <shapely.geometry.polygon.Polygon at 0x112e06950>,\n",
       " <shapely.geometry.polygon.Polygon at 0x112e06990>,\n",
       " <shapely.geometry.polygon.Polygon at 0x112e069d0>,\n",
       " <shapely.geometry.polygon.Polygon at 0x112e06a10>,\n",
       " <shapely.geometry.polygon.Polygon at 0x112e06a50>,\n",
       " <shapely.geometry.polygon.Polygon at 0x112e06a90>,\n",
       " <shapely.geometry.polygon.Polygon at 0x112e06ad0>,\n",
       " <shapely.geometry.polygon.Polygon at 0x112e06b10>,\n",
       " <shapely.geometry.polygon.Polygon at 0x112e06b50>,\n",
       " <shapely.geometry.polygon.Polygon at 0x112e06b90>,\n",
       " <shapely.geometry.polygon.Polygon at 0x112e06bd0>,\n",
       " <shapely.geometry.polygon.Polygon at 0x112e06c10>,\n",
       " <shapely.geometry.polygon.Polygon at 0x112e06c50>,\n",
       " <shapely.geometry.polygon.Polygon at 0x112e06c90>,\n",
       " <shapely.geometry.polygon.Polygon at 0x112e06cd0>,\n",
       " <shapely.geometry.polygon.Polygon at 0x112e06d10>,\n",
       " <shapely.geometry.polygon.Polygon at 0x112e06d50>,\n",
       " <shapely.geometry.polygon.Polygon at 0x112e06d90>,\n",
       " <shapely.geometry.polygon.Polygon at 0x112e06dd0>,\n",
       " <shapely.geometry.polygon.Polygon at 0x112e06e10>,\n",
       " <shapely.geometry.polygon.Polygon at 0x112e06e50>,\n",
       " <shapely.geometry.polygon.Polygon at 0x112e06e90>,\n",
       " <shapely.geometry.polygon.Polygon at 0x112e06ed0>,\n",
       " <shapely.geometry.polygon.Polygon at 0x112e06f10>,\n",
       " <shapely.geometry.polygon.Polygon at 0x112e06f50>,\n",
       " <shapely.geometry.polygon.Polygon at 0x112e06f90>,\n",
       " <shapely.geometry.polygon.Polygon at 0x112e06fd0>,\n",
       " <shapely.geometry.polygon.Polygon at 0x112e060d0>,\n",
       " <shapely.geometry.polygon.Polygon at 0x112e06050>,\n",
       " <shapely.geometry.polygon.Polygon at 0x112e0e090>,\n",
       " <shapely.geometry.polygon.Polygon at 0x112e0e110>,\n",
       " <shapely.geometry.polygon.Polygon at 0x112e0e150>,\n",
       " <shapely.geometry.polygon.Polygon at 0x112e0e190>,\n",
       " <shapely.geometry.polygon.Polygon at 0x112e0e1d0>,\n",
       " <shapely.geometry.polygon.Polygon at 0x112e0e210>,\n",
       " <shapely.geometry.polygon.Polygon at 0x112e0e250>,\n",
       " <shapely.geometry.polygon.Polygon at 0x112e0e290>,\n",
       " <shapely.geometry.polygon.Polygon at 0x112e0e2d0>,\n",
       " <shapely.geometry.polygon.Polygon at 0x112e0e310>,\n",
       " <shapely.geometry.polygon.Polygon at 0x112e0e350>,\n",
       " <shapely.geometry.polygon.Polygon at 0x112e0e390>,\n",
       " <shapely.geometry.polygon.Polygon at 0x112e0e3d0>,\n",
       " <shapely.geometry.polygon.Polygon at 0x112e0e410>,\n",
       " <shapely.geometry.polygon.Polygon at 0x112e0e450>,\n",
       " <shapely.geometry.polygon.Polygon at 0x112e0e490>,\n",
       " <shapely.geometry.polygon.Polygon at 0x112e0e4d0>,\n",
       " <shapely.geometry.polygon.Polygon at 0x112e0e510>,\n",
       " <shapely.geometry.polygon.Polygon at 0x112e0e550>,\n",
       " <shapely.geometry.polygon.Polygon at 0x112e0e590>,\n",
       " <shapely.geometry.polygon.Polygon at 0x112e0e5d0>,\n",
       " <shapely.geometry.polygon.Polygon at 0x112e0e610>,\n",
       " <shapely.geometry.polygon.Polygon at 0x112e0e650>,\n",
       " <shapely.geometry.polygon.Polygon at 0x112e0e690>,\n",
       " <shapely.geometry.polygon.Polygon at 0x112e0e6d0>,\n",
       " <shapely.geometry.polygon.Polygon at 0x112e0e710>,\n",
       " <shapely.geometry.polygon.Polygon at 0x112e0e750>,\n",
       " <shapely.geometry.polygon.Polygon at 0x112e0e790>,\n",
       " <shapely.geometry.polygon.Polygon at 0x112e0e7d0>,\n",
       " <shapely.geometry.polygon.Polygon at 0x112e0e810>,\n",
       " <shapely.geometry.polygon.Polygon at 0x112e0e850>,\n",
       " <shapely.geometry.polygon.Polygon at 0x112e0e890>,\n",
       " <shapely.geometry.polygon.Polygon at 0x112e0e8d0>,\n",
       " <shapely.geometry.polygon.Polygon at 0x112e0e910>,\n",
       " <shapely.geometry.polygon.Polygon at 0x112e0e950>,\n",
       " <shapely.geometry.polygon.Polygon at 0x112e0e990>,\n",
       " <shapely.geometry.polygon.Polygon at 0x112e0e9d0>,\n",
       " <shapely.geometry.polygon.Polygon at 0x112e0ea10>,\n",
       " <shapely.geometry.polygon.Polygon at 0x112e0ea50>,\n",
       " <shapely.geometry.polygon.Polygon at 0x112e0ea90>,\n",
       " <shapely.geometry.polygon.Polygon at 0x112e0ead0>,\n",
       " <shapely.geometry.polygon.Polygon at 0x112e0eb10>,\n",
       " <shapely.geometry.polygon.Polygon at 0x112e0eb50>,\n",
       " <shapely.geometry.polygon.Polygon at 0x112e0eb90>,\n",
       " <shapely.geometry.polygon.Polygon at 0x112e0ebd0>,\n",
       " <shapely.geometry.polygon.Polygon at 0x112e0ec10>,\n",
       " <shapely.geometry.polygon.Polygon at 0x112e0ec50>,\n",
       " <shapely.geometry.polygon.Polygon at 0x112e0ec90>,\n",
       " <shapely.geometry.polygon.Polygon at 0x112e0ecd0>,\n",
       " <shapely.geometry.polygon.Polygon at 0x112e0ed10>,\n",
       " <shapely.geometry.polygon.Polygon at 0x112e0ed50>,\n",
       " <shapely.geometry.polygon.Polygon at 0x112e0ed90>,\n",
       " <shapely.geometry.polygon.Polygon at 0x112e0edd0>,\n",
       " <shapely.geometry.polygon.Polygon at 0x112e0ee10>,\n",
       " <shapely.geometry.polygon.Polygon at 0x112e0ee50>,\n",
       " <shapely.geometry.polygon.Polygon at 0x112e0ee90>,\n",
       " <shapely.geometry.polygon.Polygon at 0x112e0eed0>,\n",
       " <shapely.geometry.polygon.Polygon at 0x112e0ef10>,\n",
       " <shapely.geometry.polygon.Polygon at 0x112e0ef50>,\n",
       " <shapely.geometry.polygon.Polygon at 0x112e0ef90>,\n",
       " <shapely.geometry.polygon.Polygon at 0x112e0efd0>,\n",
       " <shapely.geometry.polygon.Polygon at 0x112e0e0d0>,\n",
       " <shapely.geometry.polygon.Polygon at 0x112e0e050>,\n",
       " <shapely.geometry.polygon.Polygon at 0x112e16090>,\n",
       " <shapely.geometry.polygon.Polygon at 0x112e16110>,\n",
       " <shapely.geometry.polygon.Polygon at 0x112e16150>,\n",
       " <shapely.geometry.polygon.Polygon at 0x112e16190>,\n",
       " <shapely.geometry.polygon.Polygon at 0x112e161d0>,\n",
       " <shapely.geometry.polygon.Polygon at 0x112e16210>,\n",
       " <shapely.geometry.polygon.Polygon at 0x112e16250>,\n",
       " <shapely.geometry.polygon.Polygon at 0x112e16290>,\n",
       " <shapely.geometry.polygon.Polygon at 0x112e162d0>,\n",
       " <shapely.geometry.polygon.Polygon at 0x112e16310>,\n",
       " <shapely.geometry.polygon.Polygon at 0x112e16350>,\n",
       " <shapely.geometry.polygon.Polygon at 0x112e16390>,\n",
       " <shapely.geometry.polygon.Polygon at 0x112e163d0>,\n",
       " <shapely.geometry.polygon.Polygon at 0x112e16410>,\n",
       " <shapely.geometry.polygon.Polygon at 0x112e16450>,\n",
       " <shapely.geometry.polygon.Polygon at 0x112e16490>,\n",
       " <shapely.geometry.polygon.Polygon at 0x112e164d0>,\n",
       " <shapely.geometry.polygon.Polygon at 0x112e16510>,\n",
       " <shapely.geometry.polygon.Polygon at 0x112e16550>,\n",
       " <shapely.geometry.polygon.Polygon at 0x112e16590>,\n",
       " <shapely.geometry.polygon.Polygon at 0x112e165d0>,\n",
       " <shapely.geometry.polygon.Polygon at 0x112e16610>,\n",
       " <shapely.geometry.polygon.Polygon at 0x112e16650>,\n",
       " <shapely.geometry.polygon.Polygon at 0x112e16690>,\n",
       " <shapely.geometry.polygon.Polygon at 0x112e166d0>,\n",
       " <shapely.geometry.polygon.Polygon at 0x112e16710>,\n",
       " <shapely.geometry.polygon.Polygon at 0x112e16750>,\n",
       " <shapely.geometry.polygon.Polygon at 0x112e16790>,\n",
       " <shapely.geometry.polygon.Polygon at 0x112e167d0>,\n",
       " <shapely.geometry.polygon.Polygon at 0x112e16810>,\n",
       " <shapely.geometry.polygon.Polygon at 0x112e16850>,\n",
       " <shapely.geometry.polygon.Polygon at 0x112e16890>,\n",
       " <shapely.geometry.polygon.Polygon at 0x112e168d0>,\n",
       " <shapely.geometry.polygon.Polygon at 0x112e16910>,\n",
       " <shapely.geometry.polygon.Polygon at 0x112e16950>,\n",
       " <shapely.geometry.polygon.Polygon at 0x112e16990>,\n",
       " <shapely.geometry.polygon.Polygon at 0x112e169d0>,\n",
       " <shapely.geometry.polygon.Polygon at 0x112e16a10>,\n",
       " <shapely.geometry.polygon.Polygon at 0x112e16a50>,\n",
       " <shapely.geometry.polygon.Polygon at 0x112e16a90>,\n",
       " <shapely.geometry.polygon.Polygon at 0x112e16ad0>,\n",
       " <shapely.geometry.polygon.Polygon at 0x112e16b10>,\n",
       " <shapely.geometry.polygon.Polygon at 0x112e16b50>,\n",
       " <shapely.geometry.polygon.Polygon at 0x112e16b90>,\n",
       " <shapely.geometry.polygon.Polygon at 0x112e16bd0>,\n",
       " <shapely.geometry.polygon.Polygon at 0x112e16c10>,\n",
       " <shapely.geometry.polygon.Polygon at 0x112e16c50>,\n",
       " <shapely.geometry.polygon.Polygon at 0x112e16c90>,\n",
       " <shapely.geometry.polygon.Polygon at 0x112e16cd0>,\n",
       " <shapely.geometry.polygon.Polygon at 0x112e16d10>,\n",
       " <shapely.geometry.polygon.Polygon at 0x112e16d50>,\n",
       " <shapely.geometry.polygon.Polygon at 0x112e16d90>,\n",
       " <shapely.geometry.polygon.Polygon at 0x112e16dd0>,\n",
       " <shapely.geometry.polygon.Polygon at 0x112e16e50>,\n",
       " <shapely.geometry.polygon.Polygon at 0x112e16e90>,\n",
       " <shapely.geometry.polygon.Polygon at 0x112e16ed0>,\n",
       " <shapely.geometry.polygon.Polygon at 0x112e16f10>,\n",
       " <shapely.geometry.polygon.Polygon at 0x112e16f50>,\n",
       " <shapely.geometry.polygon.Polygon at 0x112e16f90>,\n",
       " <shapely.geometry.polygon.Polygon at 0x112e16fd0>,\n",
       " <shapely.geometry.polygon.Polygon at 0x112e160d0>,\n",
       " <shapely.geometry.polygon.Polygon at 0x112e16050>,\n",
       " <shapely.geometry.polygon.Polygon at 0x112e1c090>,\n",
       " <shapely.geometry.polygon.Polygon at 0x112e1c110>,\n",
       " <shapely.geometry.polygon.Polygon at 0x112e1c150>,\n",
       " <shapely.geometry.polygon.Polygon at 0x112e1c190>,\n",
       " <shapely.geometry.polygon.Polygon at 0x112e1c1d0>,\n",
       " <shapely.geometry.polygon.Polygon at 0x112e1c210>,\n",
       " <shapely.geometry.polygon.Polygon at 0x112e1c250>,\n",
       " <shapely.geometry.polygon.Polygon at 0x112e1c290>,\n",
       " <shapely.geometry.polygon.Polygon at 0x112e1c2d0>,\n",
       " <shapely.geometry.polygon.Polygon at 0x112e1c310>,\n",
       " <shapely.geometry.polygon.Polygon at 0x112e1c350>,\n",
       " <shapely.geometry.polygon.Polygon at 0x112e1c390>,\n",
       " <shapely.geometry.polygon.Polygon at 0x112e1c3d0>,\n",
       " <shapely.geometry.polygon.Polygon at 0x112e1c410>,\n",
       " <shapely.geometry.polygon.Polygon at 0x112e1c450>,\n",
       " <shapely.geometry.polygon.Polygon at 0x112e1c490>,\n",
       " <shapely.geometry.polygon.Polygon at 0x112e1c4d0>,\n",
       " <shapely.geometry.polygon.Polygon at 0x112e1c510>,\n",
       " <shapely.geometry.polygon.Polygon at 0x112e1c550>,\n",
       " <shapely.geometry.polygon.Polygon at 0x112e1c590>,\n",
       " <shapely.geometry.polygon.Polygon at 0x112e1c5d0>,\n",
       " <shapely.geometry.polygon.Polygon at 0x112e1c610>,\n",
       " <shapely.geometry.polygon.Polygon at 0x112e1c650>,\n",
       " <shapely.geometry.polygon.Polygon at 0x112e1c690>,\n",
       " <shapely.geometry.polygon.Polygon at 0x112e1c6d0>,\n",
       " <shapely.geometry.polygon.Polygon at 0x112e1c710>,\n",
       " <shapely.geometry.polygon.Polygon at 0x112e1c750>,\n",
       " <shapely.geometry.polygon.Polygon at 0x112e1c790>,\n",
       " <shapely.geometry.polygon.Polygon at 0x112e1c7d0>,\n",
       " <shapely.geometry.polygon.Polygon at 0x112e1c810>,\n",
       " <shapely.geometry.polygon.Polygon at 0x112e1c850>,\n",
       " <shapely.geometry.polygon.Polygon at 0x112e1c890>,\n",
       " <shapely.geometry.polygon.Polygon at 0x112e1c8d0>,\n",
       " <shapely.geometry.polygon.Polygon at 0x112e1c910>,\n",
       " <shapely.geometry.polygon.Polygon at 0x112e1c950>,\n",
       " <shapely.geometry.polygon.Polygon at 0x112e1c990>,\n",
       " <shapely.geometry.polygon.Polygon at 0x112e1c9d0>,\n",
       " <shapely.geometry.polygon.Polygon at 0x112e1ca10>,\n",
       " <shapely.geometry.polygon.Polygon at 0x112e1ca50>,\n",
       " <shapely.geometry.polygon.Polygon at 0x112e1ca90>,\n",
       " <shapely.geometry.polygon.Polygon at 0x112e1cad0>,\n",
       " <shapely.geometry.polygon.Polygon at 0x112e1cb10>,\n",
       " <shapely.geometry.polygon.Polygon at 0x112e1cb50>,\n",
       " <shapely.geometry.polygon.Polygon at 0x112e1cb90>,\n",
       " <shapely.geometry.polygon.Polygon at 0x112e1cbd0>,\n",
       " <shapely.geometry.polygon.Polygon at 0x112e1cc10>,\n",
       " <shapely.geometry.polygon.Polygon at 0x112e1cc50>,\n",
       " <shapely.geometry.polygon.Polygon at 0x112e1cc90>,\n",
       " <shapely.geometry.polygon.Polygon at 0x112e1ccd0>,\n",
       " <shapely.geometry.polygon.Polygon at 0x112e1cd10>,\n",
       " <shapely.geometry.polygon.Polygon at 0x112e1cd50>,\n",
       " <shapely.geometry.polygon.Polygon at 0x112e1cd90>,\n",
       " <shapely.geometry.polygon.Polygon at 0x112e1cdd0>,\n",
       " <shapely.geometry.polygon.Polygon at 0x112e1ce10>,\n",
       " <shapely.geometry.polygon.Polygon at 0x112e1ce50>,\n",
       " <shapely.geometry.polygon.Polygon at 0x112e1ce90>,\n",
       " <shapely.geometry.polygon.Polygon at 0x112e1ced0>,\n",
       " <shapely.geometry.polygon.Polygon at 0x112e1cf10>,\n",
       " <shapely.geometry.polygon.Polygon at 0x112e1cf50>,\n",
       " <shapely.geometry.polygon.Polygon at 0x112e1cf90>,\n",
       " <shapely.geometry.polygon.Polygon at 0x112e1cfd0>,\n",
       " <shapely.geometry.polygon.Polygon at 0x112e1c0d0>,\n",
       " <shapely.geometry.polygon.Polygon at 0x112e1c050>,\n",
       " <shapely.geometry.polygon.Polygon at 0x112e27090>,\n",
       " <shapely.geometry.polygon.Polygon at 0x112e27110>,\n",
       " <shapely.geometry.polygon.Polygon at 0x112e27150>,\n",
       " <shapely.geometry.polygon.Polygon at 0x112e27190>,\n",
       " <shapely.geometry.polygon.Polygon at 0x112e271d0>,\n",
       " <shapely.geometry.polygon.Polygon at 0x112e27210>,\n",
       " <shapely.geometry.polygon.Polygon at 0x112e27250>,\n",
       " <shapely.geometry.polygon.Polygon at 0x112e27290>,\n",
       " <shapely.geometry.polygon.Polygon at 0x112e272d0>,\n",
       " <shapely.geometry.polygon.Polygon at 0x112e27310>,\n",
       " <shapely.geometry.polygon.Polygon at 0x112e27350>,\n",
       " <shapely.geometry.polygon.Polygon at 0x112e27390>,\n",
       " <shapely.geometry.polygon.Polygon at 0x112e273d0>,\n",
       " <shapely.geometry.polygon.Polygon at 0x112e27410>,\n",
       " <shapely.geometry.polygon.Polygon at 0x112e27450>,\n",
       " <shapely.geometry.polygon.Polygon at 0x112e27490>,\n",
       " <shapely.geometry.polygon.Polygon at 0x112e274d0>,\n",
       " <shapely.geometry.polygon.Polygon at 0x112e27510>,\n",
       " <shapely.geometry.polygon.Polygon at 0x112e27550>,\n",
       " <shapely.geometry.polygon.Polygon at 0x112e27590>,\n",
       " <shapely.geometry.polygon.Polygon at 0x112e275d0>,\n",
       " <shapely.geometry.polygon.Polygon at 0x112e27610>,\n",
       " <shapely.geometry.polygon.Polygon at 0x112e27650>,\n",
       " <shapely.geometry.polygon.Polygon at 0x112e27690>,\n",
       " <shapely.geometry.polygon.Polygon at 0x112e276d0>,\n",
       " <shapely.geometry.polygon.Polygon at 0x112e27710>,\n",
       " <shapely.geometry.polygon.Polygon at 0x112e27750>,\n",
       " <shapely.geometry.polygon.Polygon at 0x112e27790>,\n",
       " <shapely.geometry.polygon.Polygon at 0x112e277d0>,\n",
       " <shapely.geometry.polygon.Polygon at 0x112e27810>,\n",
       " <shapely.geometry.polygon.Polygon at 0x112e27850>,\n",
       " <shapely.geometry.polygon.Polygon at 0x112e27890>,\n",
       " <shapely.geometry.polygon.Polygon at 0x112e278d0>,\n",
       " <shapely.geometry.polygon.Polygon at 0x112e27910>,\n",
       " <shapely.geometry.polygon.Polygon at 0x112e27950>,\n",
       " <shapely.geometry.polygon.Polygon at 0x112e27990>,\n",
       " <shapely.geometry.polygon.Polygon at 0x112e279d0>,\n",
       " <shapely.geometry.polygon.Polygon at 0x112e27a10>,\n",
       " <shapely.geometry.polygon.Polygon at 0x112e27a50>,\n",
       " <shapely.geometry.polygon.Polygon at 0x112e27a90>,\n",
       " <shapely.geometry.polygon.Polygon at 0x112e27ad0>,\n",
       " <shapely.geometry.polygon.Polygon at 0x112e27b10>,\n",
       " <shapely.geometry.polygon.Polygon at 0x112e27b50>,\n",
       " <shapely.geometry.polygon.Polygon at 0x112e27b90>,\n",
       " <shapely.geometry.polygon.Polygon at 0x112e27bd0>,\n",
       " <shapely.geometry.polygon.Polygon at 0x112e27c50>]"
      ]
     },
     "execution_count": 80,
     "metadata": {},
     "output_type": "execute_result"
    }
   ],
   "source": [
    "compute_verfied_tiles_duplication_rate(tiles)"
   ]
  },
  {
   "cell_type": "code",
   "execution_count": 78,
   "metadata": {
    "collapsed": false
   },
   "outputs": [
    {
     "data": {
      "text/plain": [
       "1247.509176468278"
      ]
     },
     "execution_count": 78,
     "metadata": {},
     "output_type": "execute_result"
    }
   ],
   "source": [
    "leftovers"
   ]
  },
  {
   "cell_type": "code",
   "execution_count": 69,
   "metadata": {
    "collapsed": false
   },
   "outputs": [
    {
     "data": {
      "text/plain": [
       "1254.5398685503408"
      ]
     },
     "execution_count": 69,
     "metadata": {},
     "output_type": "execute_result"
    }
   ],
   "source": [
    "leftovers.area"
   ]
  },
  {
   "cell_type": "code",
   "execution_count": 75,
   "metadata": {
    "collapsed": false
   },
   "outputs": [
    {
     "data": {
      "text/plain": [
       "1251.0533683874687"
      ]
     },
     "execution_count": 75,
     "metadata": {},
     "output_type": "execute_result"
    }
   ],
   "source": [
    "leftovers.buffer(1e-50).area"
   ]
  },
  {
   "cell_type": "code",
   "execution_count": 73,
   "metadata": {
    "collapsed": false
   },
   "outputs": [
    {
     "data": {
      "text/plain": [
       "1247.509176468278"
      ]
     },
     "execution_count": 73,
     "metadata": {},
     "output_type": "execute_result"
    }
   ],
   "source": [
    "leftovers.buffer(1e-50).difference(tile).area"
   ]
  },
  {
   "cell_type": "code",
   "execution_count": 60,
   "metadata": {
    "collapsed": false
   },
   "outputs": [
    {
     "name": "stderr",
     "output_type": "stream",
     "text": [
      "ERROR:shapely.geos:TopologyException: found non-noded intersection between LINESTRING (536.619 266.73, 536.611 266.759) and LINESTRING (536.601 266.796, 538.617 259.404) at 536.61121779966879 266.75886806788151\n"
     ]
    },
    {
     "ename": "TopologicalError",
     "evalue": "This operation could not be performed. Reason: unknown",
     "output_type": "error",
     "traceback": [
      "\u001b[0;31m---------------------------------------------------------------------------\u001b[0m",
      "\u001b[0;31mTopologicalError\u001b[0m                          Traceback (most recent call last)",
      "\u001b[0;32m<ipython-input-60-c224aad069e0>\u001b[0m in \u001b[0;36m<module>\u001b[0;34m()\u001b[0m\n\u001b[0;32m----> 1\u001b[0;31m \u001b[0mleftovers\u001b[0m\u001b[0;34m.\u001b[0m\u001b[0mdifference\u001b[0m\u001b[0;34m(\u001b[0m\u001b[0mtile\u001b[0m\u001b[0;34m)\u001b[0m\u001b[0;34m\u001b[0m\u001b[0m\n\u001b[0m",
      "\u001b[0;32m/Users/dorislee/.virtualenvs/py27dev/lib/python2.7/site-packages/shapely/geometry/base.pyc\u001b[0m in \u001b[0;36mdifference\u001b[0;34m(self, other)\u001b[0m\n\u001b[1;32m    614\u001b[0m     \u001b[0;32mdef\u001b[0m \u001b[0mdifference\u001b[0m\u001b[0;34m(\u001b[0m\u001b[0mself\u001b[0m\u001b[0;34m,\u001b[0m \u001b[0mother\u001b[0m\u001b[0;34m)\u001b[0m\u001b[0;34m:\u001b[0m\u001b[0;34m\u001b[0m\u001b[0m\n\u001b[1;32m    615\u001b[0m         \u001b[0;34m\"\"\"Returns the difference of the geometries\"\"\"\u001b[0m\u001b[0;34m\u001b[0m\u001b[0m\n\u001b[0;32m--> 616\u001b[0;31m         \u001b[0;32mreturn\u001b[0m \u001b[0mgeom_factory\u001b[0m\u001b[0;34m(\u001b[0m\u001b[0mself\u001b[0m\u001b[0;34m.\u001b[0m\u001b[0mimpl\u001b[0m\u001b[0;34m[\u001b[0m\u001b[0;34m'difference'\u001b[0m\u001b[0;34m]\u001b[0m\u001b[0;34m(\u001b[0m\u001b[0mself\u001b[0m\u001b[0;34m,\u001b[0m \u001b[0mother\u001b[0m\u001b[0;34m)\u001b[0m\u001b[0;34m)\u001b[0m\u001b[0;34m\u001b[0m\u001b[0m\n\u001b[0m\u001b[1;32m    617\u001b[0m \u001b[0;34m\u001b[0m\u001b[0m\n\u001b[1;32m    618\u001b[0m     \u001b[0;32mdef\u001b[0m \u001b[0mintersection\u001b[0m\u001b[0;34m(\u001b[0m\u001b[0mself\u001b[0m\u001b[0;34m,\u001b[0m \u001b[0mother\u001b[0m\u001b[0;34m)\u001b[0m\u001b[0;34m:\u001b[0m\u001b[0;34m\u001b[0m\u001b[0m\n",
      "\u001b[0;32m/Users/dorislee/.virtualenvs/py27dev/lib/python2.7/site-packages/shapely/topology.pyc\u001b[0m in \u001b[0;36m__call__\u001b[0;34m(self, this, other, *args)\u001b[0m\n\u001b[1;32m     68\u001b[0m             err = TopologicalError(\n\u001b[1;32m     69\u001b[0m                     \"This operation could not be performed. Reason: unknown\")\n\u001b[0;32m---> 70\u001b[0;31m             \u001b[0mself\u001b[0m\u001b[0;34m.\u001b[0m\u001b[0m_check_topology\u001b[0m\u001b[0;34m(\u001b[0m\u001b[0merr\u001b[0m\u001b[0;34m,\u001b[0m \u001b[0mthis\u001b[0m\u001b[0;34m,\u001b[0m \u001b[0mother\u001b[0m\u001b[0;34m)\u001b[0m\u001b[0;34m\u001b[0m\u001b[0m\n\u001b[0m\u001b[1;32m     71\u001b[0m         \u001b[0;32mreturn\u001b[0m \u001b[0mproduct\u001b[0m\u001b[0;34m\u001b[0m\u001b[0m\n\u001b[1;32m     72\u001b[0m \u001b[0;34m\u001b[0m\u001b[0m\n",
      "\u001b[0;32m/Users/dorislee/.virtualenvs/py27dev/lib/python2.7/site-packages/shapely/topology.pyc\u001b[0m in \u001b[0;36m_check_topology\u001b[0;34m(self, err, *geoms)\u001b[0m\n\u001b[1;32m     37\u001b[0m                     \"Likely cause is invalidity of the geometry %s\" % (\n\u001b[1;32m     38\u001b[0m                         self.fn.__name__, repr(geom)))\n\u001b[0;32m---> 39\u001b[0;31m         \u001b[0;32mraise\u001b[0m \u001b[0merr\u001b[0m\u001b[0;34m\u001b[0m\u001b[0m\n\u001b[0m\u001b[1;32m     40\u001b[0m \u001b[0;34m\u001b[0m\u001b[0m\n\u001b[1;32m     41\u001b[0m \u001b[0;34m\u001b[0m\u001b[0m\n",
      "\u001b[0;31mTopologicalError\u001b[0m: This operation could not be performed. Reason: unknown"
     ]
    }
   ],
   "source": [
    "leftovers.difference(tile)"
   ]
  },
  {
   "cell_type": "code",
   "execution_count": 56,
   "metadata": {
    "collapsed": false
   },
   "outputs": [
    {
     "data": {
      "image/svg+xml": [
       "<svg xmlns=\"http://www.w3.org/2000/svg\" xmlns:xlink=\"http://www.w3.org/1999/xlink\" width=\"100.0\" height=\"100.0\" viewBox=\"423.840701754 223.358245614 22.3010526316 3.57883040936\" preserveAspectRatio=\"xMinYMin meet\"><g transform=\"matrix(1,0,0,-1,0,450.295321637)\"><path fill-rule=\"evenodd\" fill=\"#66cc99\" stroke=\"#555555\" stroke-width=\"0.446021052632\" opacity=\"0.6\" d=\"M 445.315789474,224.596491228 L 435.421052632,224.184210526 L 429.090909091,224.636363636 L 424.666666667,226.111111111 L 432.0,225.0 L 445.315789474,224.596491228 z\" /></g></svg>"
      ],
      "text/plain": [
       "<shapely.geometry.polygon.Polygon at 0x11297b350>"
      ]
     },
     "execution_count": 56,
     "metadata": {},
     "output_type": "execute_result"
    }
   ],
   "source": [
    "tiles[198]"
   ]
  },
  {
   "cell_type": "code",
   "execution_count": 52,
   "metadata": {
    "collapsed": false
   },
   "outputs": [
    {
     "data": {
      "image/svg+xml": [
       "<svg xmlns=\"http://www.w3.org/2000/svg\" xmlns:xlink=\"http://www.w3.org/1999/xlink\" width=\"100.0\" height=\"100.0\" viewBox=\"385.417255633 235.323576562 10.1478910027 7.65674886466\" preserveAspectRatio=\"xMinYMin meet\"><g transform=\"matrix(1,0,0,-1,0,478.303901989)\"><path fill-rule=\"evenodd\" fill=\"#66cc99\" stroke=\"#555555\" stroke-width=\"0.202957820053\" opacity=\"0.6\" d=\"M 391.384279476,236.917030568 L 389.543209877,237.506172839 L 389.543209877,237.506172839 L 389.543209876,237.506172839 L 389.543209876,237.506172839 L 389.543209876,237.506172839 L 389.0,238.0 L 389.0,238.0 L 389.0,238.0 L 389.0,238.0 L 386.428571428,241.142857143 L 386.428571428,241.142857143 L 386.428571428,241.142857143 L 385.793103448,242.413793103 L 385.793103448,242.413793103 L 385.793103448,242.413793103 L 385.793103448,242.413793103 L 385.793103448,242.413793103 L 385.793103448,242.413793103 L 385.793103448,242.413793103 L 385.793103448,242.413793103 L 385.793103448,242.413793103 L 385.793103448,242.413793103 L 385.793103448,242.413793103 L 385.793103448,242.413793104 L 385.793103448,242.413793104 L 385.793103448,242.413793104 L 385.793103448,242.413793104 L 385.793103448,242.413793104 L 385.793103448,242.413793104 L 385.793103448,242.413793104 L 385.793103448,242.413793104 L 385.793103448,242.413793104 L 385.793103448,242.413793104 L 385.793103448,242.413793104 L 385.793103448,242.413793104 L 385.793103448,242.413793104 L 385.793103448,242.413793104 L 385.793103448,242.413793104 L 385.793103448,242.413793104 L 385.793103448,242.413793104 L 387.188679245,241.462264152 L 386.134328358,242.604477612 L 386.134328358,242.604477612 L 386.134328358,242.604477612 L 386.134328358,242.604477612 L 386.134328358,242.604477612 L 386.134328358,242.604477612 L 386.134328358,242.604477612 L 386.134328358,242.604477612 L 386.134328358,242.604477612 L 386.134328358,242.604477612 L 386.134328358,242.604477612 L 386.134328358,242.604477612 L 386.134328358,242.604477612 L 386.134328358,242.604477612 L 386.134328358,242.604477612 L 386.134328358,242.604477612 L 386.134328358,242.604477612 L 386.134328358,242.604477612 L 386.134328358,242.604477612 L 386.134328358,242.604477612 L 386.134328358,242.604477612 L 386.134328358,242.604477612 L 386.134328358,242.604477612 L 386.134328358,242.604477612 L 386.134328358,242.604477612 L 386.134328358,242.604477612 L 386.134328358,242.604477612 L 386.134328358,242.604477612 L 386.134328358,242.604477612 L 386.134328358,242.604477612 L 386.134328358,242.604477612 L 386.134328358,242.604477612 L 386.134328358,242.604477612 L 390.199999999,238.200000001 L 389.0,240.0 L 389.0,240.0 L 389.0,240.0 L 389.0,240.0 L 389.0,240.0 L 389.0,240.0 L 389.0,240.0 L 389.0,240.0 L 389.0,240.0 L 389.0,240.0 L 389.0,240.0 L 389.0,240.0 L 389.0,240.0 L 389.0,240.0 L 389.0,240.0 L 389.0,240.0 L 389.0,240.0 L 389.0,240.0 L 389.0,240.0 L 389.0,240.0 L 389.0,240.0 L 389.0,240.0 L 389.0,240.0 L 389.0,240.0 L 389.0,240.0 L 389.0,240.0 L 389.0,240.0 L 389.0,240.0 L 389.0,240.0 L 389.0,240.0 L 389.0,240.0 L 389.0,240.0 L 389.0,240.0 L 390.966101695,237.050847458 L 395.189298821,235.699424377 L 395.189298821,235.699424377 L 395.189298821,235.699424377 L 395.189298821,235.699424377 L 395.189298821,235.699424377 L 395.189298821,235.699424377 L 395.189298821,235.699424377 L 395.189298821,235.699424377 L 395.189298821,235.699424377 L 395.189298821,235.699424377 L 395.189298821,235.699424377 L 395.189298821,235.699424377 L 395.189298821,235.699424377 L 395.189298821,235.699424377 L 395.189298821,235.699424377 L 395.189298821,235.699424377 L 395.189298821,235.699424377 L 395.189298821,235.699424377 L 395.189298821,235.699424377 L 395.189298821,235.699424377 L 395.189298821,235.699424377 L 395.189298821,235.699424377 L 395.189298821,235.699424377 L 395.189298821,235.699424377 L 395.189298821,235.699424377 L 395.189298821,235.699424377 L 395.189298821,235.699424377 L 395.189298821,235.699424377 L 395.189298821,235.699424377 L 395.189298821,235.699424377 L 395.189298821,235.699424377 L 395.189298821,235.699424377 L 395.189298821,235.699424377 L 391.384279476,236.917030568 z\" /></g></svg>"
      ],
      "text/plain": [
       "<shapely.geometry.polygon.Polygon at 0x112ba8e90>"
      ]
     },
     "execution_count": 52,
     "metadata": {},
     "output_type": "execute_result"
    }
   ],
   "source": [
    "tiles[533]"
   ]
  },
  {
   "cell_type": "code",
   "execution_count": 50,
   "metadata": {
    "collapsed": false
   },
   "outputs": [
    {
     "data": {
      "text/plain": [
       "9.550076285336218e-10"
      ]
     },
     "execution_count": 50,
     "metadata": {},
     "output_type": "execute_result"
    }
   ],
   "source": [
    "tiles[536].difference(tiles[536].buffer(-1e-10)).area"
   ]
  },
  {
   "cell_type": "code",
   "execution_count": 48,
   "metadata": {
    "collapsed": false
   },
   "outputs": [
    {
     "data": {
      "image/svg+xml": [
       "<svg xmlns=\"http://www.w3.org/2000/svg\" xmlns:xlink=\"http://www.w3.org/1999/xlink\" width=\"100.0\" height=\"100.0\" viewBox=\"423.920000001 334.212307693 4.23692307577 2.94461538374\" preserveAspectRatio=\"xMinYMin meet\"><g transform=\"matrix(1,0,0,-1,0,671.369230769)\"><path fill-rule=\"evenodd\" fill=\"#66cc99\" stroke=\"#555555\" stroke-width=\"0.0847384615154\" opacity=\"0.6\" d=\"M 426.5,335.5 L 424.076923077,334.36923077 L 425.0,335.2 L 427.999999999,337.0 L 427.126582278,336.012658228 L 427.126582278,336.012658228 L 426.5,335.5 z\" /></g></svg>"
      ],
      "text/plain": [
       "<shapely.geometry.polygon.Polygon at 0x112ba85d0>"
      ]
     },
     "execution_count": 48,
     "metadata": {},
     "output_type": "execute_result"
    }
   ],
   "source": [
    "tiles[536].buffer(-1e-10)"
   ]
  },
  {
   "cell_type": "code",
   "execution_count": 46,
   "metadata": {
    "collapsed": false
   },
   "outputs": [
    {
     "data": {
      "image/svg+xml": [
       "<svg xmlns=\"http://www.w3.org/2000/svg\" xmlns:xlink=\"http://www.w3.org/1999/xlink\" width=\"100.0\" height=\"100.0\" viewBox=\"385.417255633 235.323576562 10.1478910024 7.65674886444\" preserveAspectRatio=\"xMinYMin meet\"><g transform=\"matrix(1,0,0,-1,0,478.303901989)\"><path fill-rule=\"evenodd\" fill=\"#66cc99\" stroke=\"#555555\" stroke-width=\"0.202957820049\" opacity=\"0.6\" d=\"M 391.384279476,236.917030568 L 389.543209877,237.50617284 L 389.0,238.0 L 386.428571429,241.142857143 L 385.793103448,242.413793103 L 387.188679245,241.462264151 L 386.134328358,242.604477612 L 390.2,238.2 L 389.0,240.0 L 390.966101695,237.050847458 L 395.189298821,235.699424377 L 391.384279476,236.917030568 z\" /></g></svg>"
      ],
      "text/plain": [
       "<shapely.geometry.polygon.Polygon at 0x112daa3d0>"
      ]
     },
     "execution_count": 46,
     "metadata": {},
     "output_type": "execute_result"
    }
   ],
   "source": [
    "tiles[533]"
   ]
  },
  {
   "cell_type": "code",
   "execution_count": null,
   "metadata": {
    "collapsed": false
   },
   "outputs": [],
   "source": [
    "tiles[84]= tiles[84].difference(tiles[232])"
   ]
  },
  {
   "cell_type": "code",
   "execution_count": 22,
   "metadata": {
    "collapsed": false
   },
   "outputs": [
    {
     "data": {
      "text/plain": [
       "False"
      ]
     },
     "execution_count": 22,
     "metadata": {},
     "output_type": "execute_result"
    }
   ],
   "source": [
    "tile = tiles[1]\n",
    "tile.is_closed"
   ]
  },
  {
   "cell_type": "code",
   "execution_count": 25,
   "metadata": {
    "collapsed": false
   },
   "outputs": [
    {
     "data": {
      "text/plain": [
       "True"
      ]
     },
     "execution_count": 25,
     "metadata": {},
     "output_type": "execute_result"
    }
   ],
   "source": [
    "tile.is_valid"
   ]
  },
  {
   "cell_type": "code",
   "execution_count": 26,
   "metadata": {
    "collapsed": false
   },
   "outputs": [
    {
     "data": {
      "text/plain": [
       "True"
      ]
     },
     "execution_count": 26,
     "metadata": {},
     "output_type": "execute_result"
    }
   ],
   "source": [
    "tiles[84].is_valid"
   ]
  },
  {
   "cell_type": "code",
   "execution_count": 29,
   "metadata": {
    "collapsed": false
   },
   "outputs": [],
   "source": [
    "tile = tiles[232]"
   ]
  },
  {
   "cell_type": "code",
   "execution_count": 36,
   "metadata": {
    "collapsed": false
   },
   "outputs": [
    {
     "data": {
      "text/plain": [
       "[<matplotlib.lines.Line2D at 0x112c4ae10>]"
      ]
     },
     "execution_count": 36,
     "metadata": {},
     "output_type": "execute_result"
    },
    {
     "data": {
      "image/png": "[encoded data removed]",
      "text/plain": [
       "<matplotlib.figure.Figure at 0x1128a7e10>"
      ]
     },
     "metadata": {},
     "output_type": "display_data"
    }
   ],
   "source": [
    "plt.plot(tile.boundary.xy[0],tile.boundary.xy[1])"
   ]
  },
  {
   "cell_type": "code",
   "execution_count": 42,
   "metadata": {
    "collapsed": false
   },
   "outputs": [
    {
     "data": {
      "text/plain": [
       "'Valid Geometry'"
      ]
     },
     "execution_count": 42,
     "metadata": {},
     "output_type": "execute_result"
    }
   ],
   "source": [
    "from shapely.validation import explain_validity\n",
    "tile = tiles[232].buffer(-1e-10)\n",
    "explain_validity(tile)"
   ]
  },
  {
   "cell_type": "code",
   "execution_count": 43,
   "metadata": {
    "collapsed": false
   },
   "outputs": [
    {
     "data": {
      "image/svg+xml": [
       "<svg xmlns=\"http://www.w3.org/2000/svg\" xmlns:xlink=\"http://www.w3.org/1999/xlink\" width=\"100.0\" height=\"100.0\" viewBox=\"402.688359241 225.265791595 22.8236269412 6.80750719565\" preserveAspectRatio=\"xMinYMin meet\"><g transform=\"matrix(1,0,0,-1,0,457.339090386)\"><path fill-rule=\"evenodd\" fill=\"#66cc99\" stroke=\"#555555\" stroke-width=\"0.456472538823\" opacity=\"0.6\" d=\"M 403.533678757,231.227979274 L 412.0,229.0 L 412.0,229.0 L 412.0,229.0 L 421.333333333,227.222222222 L 421.333333333,227.222222222 L 421.333333333,227.222222222 L 424.666666666,226.111111111 L 407.345707657,228.73549884 L 406.136800343,229.525938237 L 403.533678757,231.227979274 z\" /></g></svg>"
      ],
      "text/plain": [
       "<shapely.geometry.polygon.Polygon at 0x112bb2a90>"
      ]
     },
     "execution_count": 43,
     "metadata": {},
     "output_type": "execute_result"
    }
   ],
   "source": [
    "tile"
   ]
  },
  {
   "cell_type": "code",
   "execution_count": 16,
   "metadata": {
    "collapsed": false
   },
   "outputs": [
    {
     "data": {
      "image/png": "[encoded data removed]",
      "text/plain": [
       "<matplotlib.figure.Figure at 0x1128ed850>"
      ]
     },
     "metadata": {},
     "output_type": "display_data"
    }
   ],
   "source": [
    "plot_coords(tiles[232])\n",
    "plot_coords(tiles[84],color=\"blue\")"
   ]
  },
  {
   "cell_type": "code",
   "execution_count": 70,
   "metadata": {
    "collapsed": false
   },
   "outputs": [
    {
     "data": {
      "image/png": "[encoded data removed]",
      "text/html": [
       "\n",
       "\n",
       "<style>\n",
       "\n",
       "</style>\n",
       "\n",
       "<div id=\"fig_el2295545886110246286547262\"></div>\n",
       "<script>\n",
       "function mpld3_load_lib(url, callback){\n",
       "  var s = document.createElement('script');\n",
       "  s.src = url;\n",
       "  s.async = true;\n",
       "  s.onreadystatechange = s.onload = callback;\n",
       "  s.onerror = function(){console.warn(\"failed to load library \" + url);};\n",
       "  document.getElementsByTagName(\"head\")[0].appendChild(s);\n",
       "}\n",
       "\n",
       "if(typeof(mpld3) !== \"undefined\" && mpld3._mpld3IsLoaded){\n",
       "   // already loaded: just create the figure\n",
       "   !function(mpld3){\n",
       "       \n",
       "       mpld3.draw_figure(\"fig_el2295545886110246286547262\", {\"axes\": [{\"xlim\": [224.0, 236.0], \"yscale\": \"linear\", \"axesbg\": \"none\", \"texts\": [], \"zoomable\": true, \"images\": [], \"xdomain\": [224.0, 236.0], \"ylim\": [395.0, 430.0], \"paths\": [], \"sharey\": [], \"sharex\": [], \"axesbgalpha\": null, \"axes\": [{\"scale\": \"linear\", \"tickformat\": null, \"grid\": {\"gridOn\": false}, \"fontsize\": 10.0, \"position\": \"bottom\", \"nticks\": 7, \"tickvalues\": null}, {\"scale\": \"linear\", \"tickformat\": null, \"grid\": {\"gridOn\": false}, \"fontsize\": 10.0, \"position\": \"left\", \"nticks\": 8, \"tickvalues\": null}], \"lines\": [{\"color\": \"#FF0000\", \"yindex\": 1, \"coordinates\": \"data\", \"dasharray\": \"10,0\", \"zorder\": 1, \"alpha\": 1, \"xindex\": 0, \"linewidth\": 1.0, \"data\": \"data01\", \"id\": \"el229554589012560\"}, {\"color\": \"#0000FF\", \"yindex\": 1, \"coordinates\": \"data\", \"dasharray\": \"10,0\", \"zorder\": 1, \"alpha\": 1, \"xindex\": 0, \"linewidth\": 1.0, \"data\": \"data02\", \"id\": \"el229554588611664\"}], \"markers\": [], \"id\": \"el229554592640784\", \"ydomain\": [395.0, 430.0], \"collections\": [], \"xscale\": \"linear\", \"bbox\": [0.125, 0.125, 0.77500000000000002, 0.77500000000000002]}], \"height\": 320.0, \"width\": 480.0, \"plugins\": [{\"type\": \"reset\"}, {\"enabled\": false, \"button\": true, \"type\": \"zoom\"}, {\"enabled\": false, \"button\": true, \"type\": \"boxzoom\"}], \"data\": {\"data02\": [[230.0, 413.0], [224.63636363636363, 429.09090909090907], [225.0, 424.0], [227.0, 413.0], [228.21428571428572, 408.1428571428571], [234.7557603686636, 398.13824884792626], [231.2279792746114, 403.53367875647666], [229.0, 412.0], [227.22222222222223, 421.33333333333326], [230.0, 413.0]], \"data01\": [[228.73549883990708, 407.3457076566123], [229.525938237024, 406.136800343375], [231.22797927461, 403.533678756478], [231.22797927461, 403.53367875648], [229.0, 412.0], [227.22222222222, 421.33333333333], [230.0, 413.0], [227.222222222222, 421.333333333333], [226.11111111111128, 424.6666666666662], [228.735498839906, 407.345707656614], [228.73549883990708, 407.3457076566123]]}, \"id\": \"el229554588611024\"});\n",
       "   }(mpld3);\n",
       "}else if(typeof define === \"function\" && define.amd){\n",
       "   // require.js is available: use it to load d3/mpld3\n",
       "   require.config({paths: {d3: \"https://mpld3.github.io/js/d3.v3.min\"}});\n",
       "   require([\"d3\"], function(d3){\n",
       "      window.d3 = d3;\n",
       "      mpld3_load_lib(\"https://mpld3.github.io/js/mpld3.v0.2.js\", function(){\n",
       "         \n",
       "         mpld3.draw_figure(\"fig_el2295545886110246286547262\", {\"axes\": [{\"xlim\": [224.0, 236.0], \"yscale\": \"linear\", \"axesbg\": \"none\", \"texts\": [], \"zoomable\": true, \"images\": [], \"xdomain\": [224.0, 236.0], \"ylim\": [395.0, 430.0], \"paths\": [], \"sharey\": [], \"sharex\": [], \"axesbgalpha\": null, \"axes\": [{\"scale\": \"linear\", \"tickformat\": null, \"grid\": {\"gridOn\": false}, \"fontsize\": 10.0, \"position\": \"bottom\", \"nticks\": 7, \"tickvalues\": null}, {\"scale\": \"linear\", \"tickformat\": null, \"grid\": {\"gridOn\": false}, \"fontsize\": 10.0, \"position\": \"left\", \"nticks\": 8, \"tickvalues\": null}], \"lines\": [{\"color\": \"#FF0000\", \"yindex\": 1, \"coordinates\": \"data\", \"dasharray\": \"10,0\", \"zorder\": 1, \"alpha\": 1, \"xindex\": 0, \"linewidth\": 1.0, \"data\": \"data01\", \"id\": \"el229554589012560\"}, {\"color\": \"#0000FF\", \"yindex\": 1, \"coordinates\": \"data\", \"dasharray\": \"10,0\", \"zorder\": 1, \"alpha\": 1, \"xindex\": 0, \"linewidth\": 1.0, \"data\": \"data02\", \"id\": \"el229554588611664\"}], \"markers\": [], \"id\": \"el229554592640784\", \"ydomain\": [395.0, 430.0], \"collections\": [], \"xscale\": \"linear\", \"bbox\": [0.125, 0.125, 0.77500000000000002, 0.77500000000000002]}], \"height\": 320.0, \"width\": 480.0, \"plugins\": [{\"type\": \"reset\"}, {\"enabled\": false, \"button\": true, \"type\": \"zoom\"}, {\"enabled\": false, \"button\": true, \"type\": \"boxzoom\"}], \"data\": {\"data02\": [[230.0, 413.0], [224.63636363636363, 429.09090909090907], [225.0, 424.0], [227.0, 413.0], [228.21428571428572, 408.1428571428571], [234.7557603686636, 398.13824884792626], [231.2279792746114, 403.53367875647666], [229.0, 412.0], [227.22222222222223, 421.33333333333326], [230.0, 413.0]], \"data01\": [[228.73549883990708, 407.3457076566123], [229.525938237024, 406.136800343375], [231.22797927461, 403.533678756478], [231.22797927461, 403.53367875648], [229.0, 412.0], [227.22222222222, 421.33333333333], [230.0, 413.0], [227.222222222222, 421.333333333333], [226.11111111111128, 424.6666666666662], [228.735498839906, 407.345707656614], [228.73549883990708, 407.3457076566123]]}, \"id\": \"el229554588611024\"});\n",
       "      });\n",
       "    });\n",
       "}else{\n",
       "    // require.js not available: dynamically load d3 & mpld3\n",
       "    mpld3_load_lib(\"https://mpld3.github.io/js/d3.v3.min.js\", function(){\n",
       "         mpld3_load_lib(\"https://mpld3.github.io/js/mpld3.v0.2.js\", function(){\n",
       "                 \n",
       "                 mpld3.draw_figure(\"fig_el2295545886110246286547262\", {\"axes\": [{\"xlim\": [224.0, 236.0], \"yscale\": \"linear\", \"axesbg\": \"none\", \"texts\": [], \"zoomable\": true, \"images\": [], \"xdomain\": [224.0, 236.0], \"ylim\": [395.0, 430.0], \"paths\": [], \"sharey\": [], \"sharex\": [], \"axesbgalpha\": null, \"axes\": [{\"scale\": \"linear\", \"tickformat\": null, \"grid\": {\"gridOn\": false}, \"fontsize\": 10.0, \"position\": \"bottom\", \"nticks\": 7, \"tickvalues\": null}, {\"scale\": \"linear\", \"tickformat\": null, \"grid\": {\"gridOn\": false}, \"fontsize\": 10.0, \"position\": \"left\", \"nticks\": 8, \"tickvalues\": null}], \"lines\": [{\"color\": \"#FF0000\", \"yindex\": 1, \"coordinates\": \"data\", \"dasharray\": \"10,0\", \"zorder\": 1, \"alpha\": 1, \"xindex\": 0, \"linewidth\": 1.0, \"data\": \"data01\", \"id\": \"el229554589012560\"}, {\"color\": \"#0000FF\", \"yindex\": 1, \"coordinates\": \"data\", \"dasharray\": \"10,0\", \"zorder\": 1, \"alpha\": 1, \"xindex\": 0, \"linewidth\": 1.0, \"data\": \"data02\", \"id\": \"el229554588611664\"}], \"markers\": [], \"id\": \"el229554592640784\", \"ydomain\": [395.0, 430.0], \"collections\": [], \"xscale\": \"linear\", \"bbox\": [0.125, 0.125, 0.77500000000000002, 0.77500000000000002]}], \"height\": 320.0, \"width\": 480.0, \"plugins\": [{\"type\": \"reset\"}, {\"enabled\": false, \"button\": true, \"type\": \"zoom\"}, {\"enabled\": false, \"button\": true, \"type\": \"boxzoom\"}], \"data\": {\"data02\": [[230.0, 413.0], [224.63636363636363, 429.09090909090907], [225.0, 424.0], [227.0, 413.0], [228.21428571428572, 408.1428571428571], [234.7557603686636, 398.13824884792626], [231.2279792746114, 403.53367875647666], [229.0, 412.0], [227.22222222222223, 421.33333333333326], [230.0, 413.0]], \"data01\": [[228.73549883990708, 407.3457076566123], [229.525938237024, 406.136800343375], [231.22797927461, 403.533678756478], [231.22797927461, 403.53367875648], [229.0, 412.0], [227.22222222222, 421.33333333333], [230.0, 413.0], [227.222222222222, 421.333333333333], [226.11111111111128, 424.6666666666662], [228.735498839906, 407.345707656614], [228.73549883990708, 407.3457076566123]]}, \"id\": \"el229554588611024\"});\n",
       "            })\n",
       "         });\n",
       "}\n",
       "</script>"
      ],
      "text/plain": [
       "<matplotlib.figure.Figure at 0x11180a5d0>"
      ]
     },
     "metadata": {},
     "output_type": "display_data"
    }
   ],
   "source": [
    "plot_coords(tiles[232])\n",
    "plot_coords(tiles[84],color=\"blue\")"
   ]
  },
  {
   "cell_type": "code",
   "execution_count": 69,
   "metadata": {
    "collapsed": false
   },
   "outputs": [
    {
     "data": {
      "image/png": "[encoded data removed]",
      "text/html": [
       "\n",
       "\n",
       "<style>\n",
       "\n",
       "</style>\n",
       "\n",
       "<div id=\"fig_el2295545961140648591399170\"></div>\n",
       "<script>\n",
       "function mpld3_load_lib(url, callback){\n",
       "  var s = document.createElement('script');\n",
       "  s.src = url;\n",
       "  s.async = true;\n",
       "  s.onreadystatechange = s.onload = callback;\n",
       "  s.onerror = function(){console.warn(\"failed to load library \" + url);};\n",
       "  document.getElementsByTagName(\"head\")[0].appendChild(s);\n",
       "}\n",
       "\n",
       "if(typeof(mpld3) !== \"undefined\" && mpld3._mpld3IsLoaded){\n",
       "   // already loaded: just create the figure\n",
       "   !function(mpld3){\n",
       "       \n",
       "       mpld3.draw_figure(\"fig_el2295545961140648591399170\", {\"axes\": [{\"xlim\": [266.0, 284.0], \"yscale\": \"linear\", \"axesbg\": \"none\", \"texts\": [], \"zoomable\": true, \"images\": [], \"xdomain\": [266.0, 284.0], \"ylim\": [531.0, 537.0], \"paths\": [], \"sharey\": [], \"sharex\": [], \"axesbgalpha\": null, \"axes\": [{\"scale\": \"linear\", \"tickformat\": null, \"grid\": {\"gridOn\": false}, \"fontsize\": 10.0, \"position\": \"bottom\", \"nticks\": 10, \"tickvalues\": null}, {\"scale\": \"linear\", \"tickformat\": null, \"grid\": {\"gridOn\": false}, \"fontsize\": 10.0, \"position\": \"left\", \"nticks\": 7, \"tickvalues\": null}], \"lines\": [{\"color\": \"#FF0000\", \"yindex\": 1, \"coordinates\": \"data\", \"dasharray\": \"10,0\", \"zorder\": 1, \"alpha\": 1, \"xindex\": 0, \"linewidth\": 1.0, \"data\": \"data01\", \"id\": \"el229554588733968\"}, {\"color\": \"#0000FF\", \"yindex\": 1, \"coordinates\": \"data\", \"dasharray\": \"10,0\", \"zorder\": 1, \"alpha\": 1, \"xindex\": 0, \"linewidth\": 1.0, \"data\": \"data02\", \"id\": \"el229554596114704\"}], \"markers\": [], \"id\": \"el229554593557584\", \"ydomain\": [531.0, 537.0], \"collections\": [], \"xscale\": \"linear\", \"bbox\": [0.125, 0.125, 0.77500000000000002, 0.77500000000000002]}], \"height\": 320.0, \"width\": 480.0, \"plugins\": [{\"type\": \"reset\"}, {\"enabled\": false, \"button\": true, \"type\": \"zoom\"}, {\"enabled\": false, \"button\": true, \"type\": \"boxzoom\"}], \"data\": {\"data02\": [[276.204081632296, 534.775510204166], [271.0, 536.0], [266.800000000799, 536.599999999886], [278.821428570657, 533.321428571743], [276.204081632296, 534.775510204166]], \"data01\": [[283.0, 531.0], [276.20408163265313, 534.7755102040816], [271.0, 536.0], [266.8000000000002, 536.6], [278.82142857142856, 533.3214285714286], [283.0, 531.0]]}, \"id\": \"el229554596114064\"});\n",
       "   }(mpld3);\n",
       "}else if(typeof define === \"function\" && define.amd){\n",
       "   // require.js is available: use it to load d3/mpld3\n",
       "   require.config({paths: {d3: \"https://mpld3.github.io/js/d3.v3.min\"}});\n",
       "   require([\"d3\"], function(d3){\n",
       "      window.d3 = d3;\n",
       "      mpld3_load_lib(\"https://mpld3.github.io/js/mpld3.v0.2.js\", function(){\n",
       "         \n",
       "         mpld3.draw_figure(\"fig_el2295545961140648591399170\", {\"axes\": [{\"xlim\": [266.0, 284.0], \"yscale\": \"linear\", \"axesbg\": \"none\", \"texts\": [], \"zoomable\": true, \"images\": [], \"xdomain\": [266.0, 284.0], \"ylim\": [531.0, 537.0], \"paths\": [], \"sharey\": [], \"sharex\": [], \"axesbgalpha\": null, \"axes\": [{\"scale\": \"linear\", \"tickformat\": null, \"grid\": {\"gridOn\": false}, \"fontsize\": 10.0, \"position\": \"bottom\", \"nticks\": 10, \"tickvalues\": null}, {\"scale\": \"linear\", \"tickformat\": null, \"grid\": {\"gridOn\": false}, \"fontsize\": 10.0, \"position\": \"left\", \"nticks\": 7, \"tickvalues\": null}], \"lines\": [{\"color\": \"#FF0000\", \"yindex\": 1, \"coordinates\": \"data\", \"dasharray\": \"10,0\", \"zorder\": 1, \"alpha\": 1, \"xindex\": 0, \"linewidth\": 1.0, \"data\": \"data01\", \"id\": \"el229554588733968\"}, {\"color\": \"#0000FF\", \"yindex\": 1, \"coordinates\": \"data\", \"dasharray\": \"10,0\", \"zorder\": 1, \"alpha\": 1, \"xindex\": 0, \"linewidth\": 1.0, \"data\": \"data02\", \"id\": \"el229554596114704\"}], \"markers\": [], \"id\": \"el229554593557584\", \"ydomain\": [531.0, 537.0], \"collections\": [], \"xscale\": \"linear\", \"bbox\": [0.125, 0.125, 0.77500000000000002, 0.77500000000000002]}], \"height\": 320.0, \"width\": 480.0, \"plugins\": [{\"type\": \"reset\"}, {\"enabled\": false, \"button\": true, \"type\": \"zoom\"}, {\"enabled\": false, \"button\": true, \"type\": \"boxzoom\"}], \"data\": {\"data02\": [[276.204081632296, 534.775510204166], [271.0, 536.0], [266.800000000799, 536.599999999886], [278.821428570657, 533.321428571743], [276.204081632296, 534.775510204166]], \"data01\": [[283.0, 531.0], [276.20408163265313, 534.7755102040816], [271.0, 536.0], [266.8000000000002, 536.6], [278.82142857142856, 533.3214285714286], [283.0, 531.0]]}, \"id\": \"el229554596114064\"});\n",
       "      });\n",
       "    });\n",
       "}else{\n",
       "    // require.js not available: dynamically load d3 & mpld3\n",
       "    mpld3_load_lib(\"https://mpld3.github.io/js/d3.v3.min.js\", function(){\n",
       "         mpld3_load_lib(\"https://mpld3.github.io/js/mpld3.v0.2.js\", function(){\n",
       "                 \n",
       "                 mpld3.draw_figure(\"fig_el2295545961140648591399170\", {\"axes\": [{\"xlim\": [266.0, 284.0], \"yscale\": \"linear\", \"axesbg\": \"none\", \"texts\": [], \"zoomable\": true, \"images\": [], \"xdomain\": [266.0, 284.0], \"ylim\": [531.0, 537.0], \"paths\": [], \"sharey\": [], \"sharex\": [], \"axesbgalpha\": null, \"axes\": [{\"scale\": \"linear\", \"tickformat\": null, \"grid\": {\"gridOn\": false}, \"fontsize\": 10.0, \"position\": \"bottom\", \"nticks\": 10, \"tickvalues\": null}, {\"scale\": \"linear\", \"tickformat\": null, \"grid\": {\"gridOn\": false}, \"fontsize\": 10.0, \"position\": \"left\", \"nticks\": 7, \"tickvalues\": null}], \"lines\": [{\"color\": \"#FF0000\", \"yindex\": 1, \"coordinates\": \"data\", \"dasharray\": \"10,0\", \"zorder\": 1, \"alpha\": 1, \"xindex\": 0, \"linewidth\": 1.0, \"data\": \"data01\", \"id\": \"el229554588733968\"}, {\"color\": \"#0000FF\", \"yindex\": 1, \"coordinates\": \"data\", \"dasharray\": \"10,0\", \"zorder\": 1, \"alpha\": 1, \"xindex\": 0, \"linewidth\": 1.0, \"data\": \"data02\", \"id\": \"el229554596114704\"}], \"markers\": [], \"id\": \"el229554593557584\", \"ydomain\": [531.0, 537.0], \"collections\": [], \"xscale\": \"linear\", \"bbox\": [0.125, 0.125, 0.77500000000000002, 0.77500000000000002]}], \"height\": 320.0, \"width\": 480.0, \"plugins\": [{\"type\": \"reset\"}, {\"enabled\": false, \"button\": true, \"type\": \"zoom\"}, {\"enabled\": false, \"button\": true, \"type\": \"boxzoom\"}], \"data\": {\"data02\": [[276.204081632296, 534.775510204166], [271.0, 536.0], [266.800000000799, 536.599999999886], [278.821428570657, 533.321428571743], [276.204081632296, 534.775510204166]], \"data01\": [[283.0, 531.0], [276.20408163265313, 534.7755102040816], [271.0, 536.0], [266.8000000000002, 536.6], [278.82142857142856, 533.3214285714286], [283.0, 531.0]]}, \"id\": \"el229554596114064\"});\n",
       "            })\n",
       "         });\n",
       "}\n",
       "</script>"
      ],
      "text/plain": [
       "<matplotlib.figure.Figure at 0x111f32290>"
      ]
     },
     "metadata": {},
     "output_type": "display_data"
    }
   ],
   "source": [
    "plot_coords(tiles[100])\n",
    "plot_coords(tiles[229],color=\"blue\")"
   ]
  },
  {
   "cell_type": "code",
   "execution_count": 62,
   "metadata": {
    "collapsed": false
   },
   "outputs": [
    {
     "data": {
      "image/svg+xml": [
       "<svg xmlns=\"http://www.w3.org/2000/svg\" xmlns:xlink=\"http://www.w3.org/1999/xlink\" width=\"100.0\" height=\"100.0\" viewBox=\"379.84 254.84 51.32 85.32\" preserveAspectRatio=\"xMinYMin meet\"><g transform=\"matrix(1,0,0,-1,0,595.0)\"><path fill-rule=\"evenodd\" fill=\"#66cc99\" stroke=\"#555555\" stroke-width=\"1.7064\" opacity=\"0.6\" d=\"M 390.0,290.0 L 388.0,286.0 L 387.142857143,282.0 L 385.0,272.0 L 384.5,268.5 L 383.0,258.0 L 383.0,258.666666667 L 383.0,268.0 L 392.0,303.0 L 408.0,325.0 L 428.0,337.0 L 426.629139073,335.450331126 L 427.126582278,336.012658228 L 425.967741935,335.064516129 L 419.0,331.0 L 413.666666667,325.0 L 411.073170732,322.87804878 L 410.0,322.0 L 401.111111111,312.555555556 L 398.950410798,309.530575117 L 400.2,311.28 L 398.541666667,308.958333333 L 395.0,304.0 L 390.0,290.0 z\" /></g></svg>"
      ],
      "text/plain": [
       "<shapely.geometry.polygon.Polygon at 0x11186cb10>"
      ]
     },
     "execution_count": 62,
     "metadata": {},
     "output_type": "execute_result"
    }
   ],
   "source": [
    "tiles[229]"
   ]
  },
  {
   "cell_type": "code",
   "execution_count": 38,
   "metadata": {
    "collapsed": false
   },
   "outputs": [
    {
     "data": {
      "text/plain": [
       "2.993761038547241"
      ]
     },
     "execution_count": 38,
     "metadata": {},
     "output_type": "execute_result"
    }
   ],
   "source": [
    "throw_out_later[0].area"
   ]
  },
  {
   "cell_type": "markdown",
   "metadata": {},
   "source": [
    "--------------------------------------------------------------------------------------------------------------"
   ]
  },
  {
   "cell_type": "code",
   "execution_count": 22,
   "metadata": {
    "collapsed": true
   },
   "outputs": [],
   "source": [
    "def join_tiles(solutionList,tiles): \n",
    "    '''\n",
    "    Given a solutionList of tile indicies, join the tiles together into a Polygon/MultiPolygon object.\n",
    "    '''\n",
    "    try:\n",
    "        return cascaded_union([tiles[tidx] for tidx in solutionList]),[]\n",
    "    except:\n",
    "        #slow version, run through and exclude problematic solutionset item\n",
    "        Utile=tiles[0]\n",
    "        problematic_tiles =[]\n",
    "        for soln in solutionList:\n",
    "            try:\n",
    "                Utile=Utile.union(tiles[soln])\n",
    "            except(shapely.geos.TopologicalError):\n",
    "                problematic_tiles.append(tiles[soln])\n",
    "        problematic_tiles.append(Utile)\n",
    "        return Utile,problematic_tiles\n",
    "def PR_compare(objid,tiles,sampleNworkers=40):    \n",
    "    os.chdir(\"..\")\n",
    "    # worker_lst,tiles,indicatorMat= createObjIndicatorMatrix(objid,PRINT=True,sampleNworkers=sampleNworkers,tqdm_on=False,tile_only=False)\n",
    "    #worker_lst = pkl.load(open(\"{0}/worker{1}.pkl\".format(DATA_DIR,objid),'r'))\n",
    "    #tiles = pkl.load(open(\"{0}/tiles{1}.pkl\".format(DATA_DIR,objid),'r'))\n",
    "    #objIndicatorMat = pkl.load(open(\"{0}/indMat{1}.pkl\".format(DATA_DIR,objid),'r'))\n",
    "    worker_lst,tiles,indicatorMat= createObjIndicatorMatrix(objid,tiles=tiles,sampleNworkers=sampleNworkers)\n",
    "    os.chdir(DATA_DIR)\n",
    "    \n",
    "    worker_precision_lst,worker_recall_lst = compute_worker_lst_PR_obj(objid,worker_lst)\n",
    "    best_worker =  np.argmax(worker_recall_lst)\n",
    "    print \"Best worker's PR against BBG: \", max(worker_precision_lst),max(worker_recall_lst)\n",
    "\n",
    "    approved_tiles = np.where(indicatorMat[best_worker]==1)[0]\n",
    "    for tidx in approved_tiles:\n",
    "        plot_coords(tiles[tidx],color=\"lime\")\n",
    "\n",
    "    bb_objects = bb_info[bb_info[\"object_id\"]==objid]\n",
    "    bb_objects =  bb_objects[bb_objects.worker_id!=3]\n",
    "    best_worker_id = worker_lst[best_worker]\n",
    "    print best_worker_id\n",
    "    worker_bb_info = bb_objects[bb_objects[\"worker_id\"]==best_worker_id]\n",
    "    worker_BB_polygon = Polygon(zip(*process_raw_locs([worker_bb_info[\"x_locs\"].values[0],worker_bb_info[\"y_locs\"].values[0]])))#.buffer(0)\n",
    "\n",
    "    plot_coords(worker_BB_polygon,linestyle='--',color='#0000ff')\n",
    "    \n",
    "    joined_bb,problematic_tiles = join_tiles(approved_tiles,tiles)\n",
    "    if problematic_tiles==[]:\n",
    "        intersect_area = worker_BB_polygon.intersection(joined_bb).area\n",
    "    else:\n",
    "        intersect_area =0# worker_BB_polygon.intersection(joined_bb).area\n",
    "#         for problematic_tile in problematic_tiles:\n",
    "        for tidx in approved_tiles:\n",
    "            intersect_area +=worker_BB_polygon.intersection(tiles[tidx]).area\n",
    "    precision = intersect_area/joined_bb.area\n",
    "    recall = intersect_area/worker_BB_polygon.area\n",
    "    \n",
    "    if precision>1:\n",
    "        precision=1\n",
    "    if recall>1:\n",
    "        recall=1\n",
    "    print \"Joined BB PR:\", precision,recall    \n",
    "    return precision,recall"
   ]
  },
  {
   "cell_type": "code",
   "execution_count": 20,
   "metadata": {
    "collapsed": false
   },
   "outputs": [
    {
     "name": "stderr",
     "output_type": "stream",
     "text": []
    }
   ],
   "source": [
    "unique_tiles = compute_unique_tileset(tiles)\n",
    "worker_lst,tiles,indicator_matrix= createObjIndicatorMatrix(objid,tiles=unique_tiles,sampleNworkers=10)"
   ]
  },
  {
   "cell_type": "code",
   "execution_count": 23,
   "metadata": {
    "collapsed": false
   },
   "outputs": [
    {
     "name": "stdout",
     "output_type": "stream",
     "text": [
      "Best worker's PR against BBG:  0.973312843473 0.977701312091\n",
      "192"
     ]
    },
    {
     "name": "stderr",
     "output_type": "stream",
     "text": [
      "ERROR:shapely.geos:TopologyException: side location conflict at 299.65753424657532 286.41095890410958\n",
      "ERROR:shapely.geos:TopologyException: EdgeRing::computePoints: found null Directed Edge\n",
      "ERROR:shapely.geos:TopologyException: found non-noded intersection between LINESTRING (385.538 437.692, 377.231 432.154) and LINESTRING (377.231 432.154, 385.538 437.692) at 383.46153846153845 436.30769230769226\n",
      "ERROR:shapely.geos:TopologyException: found non-noded intersection between LINESTRING (306.371 309.486, 306.371 309.486) and LINESTRING (306.371 309.486, 306.371 309.486) at 306.37142857142868 309.48571428571483\n",
      "ERROR:shapely.geos:TopologyException: found non-noded intersection between LINESTRING (306.777 296.9, 339.354 344.487) and LINESTRING (306.777 296.9, 339.354 344.488) at 339.35344297335422 344.48689218656648\n",
      "ERROR:shapely.geos:TopologyException: found non-noded intersection between LINESTRING (305.787 295.326, 306.782 296.773) and LINESTRING (306.777 296.9, 306.869 294.058) at 306.781512605042 296.77310924369749\n",
      "ERROR:shapely.geos:TopologyException: found non-noded intersection between LINESTRING (305.895 292.632, 306.869 294.058) and LINESTRING (306.777 296.9, 306.938 291.938) at 306.86908690869086 294.05830583058304\n",
      "ERROR:shapely.geos:TopologyException: found non-noded intersection between LINESTRING (395.243 441.688, 395.243 441.688) and LINESTRING (395.538 441.308, 395 442) at 395.24257425742576 441.68811881188117\n",
      "ERROR:shapely.geos:TopologyException: found non-noded intersection between LINESTRING (398.5 437.5, 398.45 437.565) and LINESTRING (397.333 439, 398.5 437.5) at 398.50000000000011 437.49999999999983\n",
      "ERROR:shapely.geos:TopologyException: found non-noded intersection between LINESTRING (398.92 428.637, 394.615 422.538) and LINESTRING (394.615 422.538, 394.615 422.538) at 394.61538461538373 422.53846153846024\n",
      "ERROR:shapely.geos:TopologyException: found non-noded intersection between LINESTRING (397.091 439, 398.365 437.443) and LINESTRING (397.549 438.44, 398.579 437.181) at 398.15637693757174 437.6977615207457\n",
      "ERROR:shapely.geos:TopologyException: side location conflict at 399.48837209302326 436.06976744186051\n",
      "ERROR:shapely.geos:TopologyException: found non-noded intersection between LINESTRING (313.728 332.845, 315.5 335.25) and LINESTRING (313.728 332.845, 313.124 331.872) at 313.72803347000013 332.84518828000017\n",
      "ERROR:shapely.geos:TopologyException: found non-noded intersection between LINESTRING (305.292 305.48, 305.358 306.045) and LINESTRING (305.358 306.045, 305.358 306.045) at 305.35820895522386 306.04477611940285\n",
      "ERROR:shapely.geos:TopologyException: found non-noded intersection between LINESTRING (385.75 409.25, 385.75 409.25) and LINESTRING (385.75 409.25, 398.935 428.52) at 385.75000000000063 409.25000000000091\n",
      "ERROR:shapely.geos:TopologyException: found non-noded intersection between LINESTRING (331 328, 342.345 344.207) and LINESTRING (336 334, 342.345 344.207) at 342.34482758620641 344.20689655172339\n"
     ]
    },
    {
     "name": "stdout",
     "output_type": "stream",
     "text": [
      "\n",
      "Joined BB PR: 1 0.950162450091\n"
     ]
    },
    {
     "data": {
      "image/png": "[encoded data removed]",
      "text/plain": [
       "<matplotlib.figure.Figure at 0x1114e1050>"
      ]
     },
     "metadata": {},
     "output_type": "display_data"
    }
   ],
   "source": [
    "p,r=PR_compare(objid,unique_tiles,sampleNworkers=5)"
   ]
  },
  {
   "cell_type": "code",
   "execution_count": 111,
   "metadata": {
    "collapsed": false
   },
   "outputs": [],
   "source": [
    "# leftovers = bi\n",
    "# for tidx,t in enumerate(tiles_tmp): #tiles cause topolgical error\n",
    "#     leftovers = leftovers.difference(t)   \n",
    "#     print leftovers"
   ]
  },
  {
   "cell_type": "code",
   "execution_count": 189,
   "metadata": {
    "collapsed": false
   },
   "outputs": [
    {
     "name": "stdout",
     "output_type": "stream",
     "text": [
      "Intersect before: True\n",
      "2864.80421431\n",
      "Intersect after: True\n",
      "1.62136593675e-13\n",
      "44.2252198076\n",
      "2839.51615882\n"
     ]
    },
    {
     "data": {
      "image/svg+xml": [
       "<svg xmlns=\"http://www.w3.org/2000/svg\" xmlns:xlink=\"http://www.w3.org/1999/xlink\" width=\"114.32\" height=\"166.32\" viewBox=\"293.84 281.84 114.32 166.32\" preserveAspectRatio=\"xMinYMin meet\"><g transform=\"matrix(1,0,0,-1,0,730.0)\"><path fill-rule=\"evenodd\" fill=\"#66cc99\" stroke=\"#555555\" stroke-width=\"2.0\" opacity=\"0.6\" d=\"M 300.0,288.0 L 305.0,318.0 L 335.0,366.0 L 373.0,430.0 L 395.0,442.0 L 402.0,431.0 L 377.0,396.0 L 338.0,341.0 L 319.0,312.0 L 308.0,293.0 L 300.0,288.0 z M 305.782141534,295.446461652 L 305.782141534,295.446461652 L 305.902367942,292.440801457 L 310.872037915,299.369668246 L 314.0,305.0 L 325.0,323.0 L 331.689320388,333.291262136 L 305.782141534,295.446461652 z M 331.689320388,333.291262136 L 355.935483871,368.709677419 L 354.0,366.0 L 338.0,343.0 L 331.689320388,333.291262136 z M 355.935483871,368.709677419 L 364.0,380.0 L 377.0,398.0 L 397.0,425.0 L 397.350697674,429.208372093 L 355.935483871,368.709677419 z M 305.34375,306.40625 L 306.0,311.0 L 307.611111111,316.638888889 L 309.0,309.0 L 307.237573715,318.693344566 L 306.445505618,317.385955056 L 305.149038462,311.274038462 L 305.34375,306.40625 z M 307.237573715,318.693344566 L 307.0,320.0 L 306.445505618,317.385955056 L 307.237573715,318.693344566 z M 300.9,291.242857143 L 302.6875,294.5625 L 303.5,303.5 L 300.9,291.242857143 z M 311.647058824,327.882352941 L 311.0,327.0 L 310.965517241,326.689655172 L 310.714754098,324.432786885 L 318.305343511,336.961832061 L 311.647058824,327.882352941 L 311.647058824,327.882352941 z\" /></g></svg>"
      ],
      "text/plain": [
       "<shapely.geometry.polygon.Polygon at 0x11028b790>"
      ]
     },
     "execution_count": 189,
     "metadata": {},
     "output_type": "execute_result"
    }
   ],
   "source": [
    "# leftovers = bi\n",
    "# i=0\n",
    "print \"Intersect before:\" , leftovers.intersects(tiles_tmp[i])\n",
    "print leftovers.area\n",
    "leftovers = leftovers.difference(tiles_tmp[i])   \n",
    "print \"Intersect after:\" ,  leftovers.intersects(tiles_tmp[i])\n",
    "print leftovers.intersection(tiles_tmp[i]).area\n",
    "print tiles_tmp[i].area\n",
    "print leftovers.area\n",
    "i+=1\n",
    "\n",
    "\n",
    "leftovers\n"
   ]
  },
  {
   "cell_type": "code",
   "execution_count": null,
   "metadata": {
    "collapsed": false
   },
   "outputs": [],
   "source": [
    "# plt.figure()\n",
    "# if  type(leftovers)==shapely.geometry.MultiPolygon:\n",
    "#     visualizeTilesSeparate(leftovers)\n",
    "# else:\n",
    "#     plot_coords(leftovers)\n",
    "# plot_coords(t,color=\"#32cd32\")"
   ]
  },
  {
   "cell_type": "code",
   "execution_count": null,
   "metadata": {
    "collapsed": true
   },
   "outputs": [],
   "source": []
  }
 ],
 "metadata": {
  "kernelspec": {
   "display_name": "Python 2",
   "language": "python",
   "name": "python2"
  },
  "language_info": {
   "codemirror_mode": {
    "name": "ipython",
    "version": 2
   },
   "file_extension": ".py",
   "mimetype": "text/x-python",
   "name": "python",
   "nbconvert_exporter": "python",
   "pygments_lexer": "ipython2",
   "version": "2.7.10"
  }
 },
 "nbformat": 4,
 "nbformat_minor": 0
}
