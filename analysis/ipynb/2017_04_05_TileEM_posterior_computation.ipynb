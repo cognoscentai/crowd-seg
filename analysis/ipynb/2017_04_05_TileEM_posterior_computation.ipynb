{
 "cells": [
  {
   "cell_type": "code",
   "execution_count": 5,
   "metadata": {
    "collapsed": false
   },
   "outputs": [
    {
     "name": "stdout",
     "output_type": "stream",
     "text": [
      "/Users/dorislee/Desktop/Research/seg/crowd-seg/analysis/TileEM\n"
     ]
    }
   ],
   "source": [
    "cd ../TileEM/"
   ]
  },
  {
   "cell_type": "code",
   "execution_count": 6,
   "metadata": {
    "collapsed": false
   },
   "outputs": [
    {
     "name": "stdout",
     "output_type": "stream",
     "text": [
      "Populating the interactive namespace from numpy and matplotlib\n"
     ]
    }
   ],
   "source": [
    "%pylab inline"
   ]
  },
  {
   "cell_type": "code",
   "execution_count": 3,
   "metadata": {
    "collapsed": false
   },
   "outputs": [],
   "source": [
    "# Compute Qj given ground truth T"
   ]
  },
  {
   "cell_type": "code",
   "execution_count": 17,
   "metadata": {
    "collapsed": true
   },
   "outputs": [],
   "source": [
    "import pandas as pd \n",
    "from qualityBaseline import *\n",
    "import pickle as pkl"
   ]
  },
  {
   "cell_type": "code",
   "execution_count": 11,
   "metadata": {
    "collapsed": false
   },
   "outputs": [],
   "source": [
    "object_id = 10\n",
    "my_BBG  = pd.read_csv(\"my_ground_truth.csv\")\n",
    "ground_truth_match = my_BBG[my_BBG.object_id==object_id]\n",
    "x_locs,y_locs =  process_raw_locs([ground_truth_match[\"x_locs\"].iloc[0],ground_truth_match[\"y_locs\"].iloc[0]])"
   ]
  },
  {
   "cell_type": "code",
   "execution_count": 37,
   "metadata": {
    "collapsed": false
   },
   "outputs": [],
   "source": [
    "T = Polygon(zip(x_locs,y_locs))"
   ]
  },
  {
   "cell_type": "code",
   "execution_count": 33,
   "metadata": {
    "collapsed": false
   },
   "outputs": [],
   "source": [
    "DATA_DIR =\"output\"\n",
    "tiles = pkl.load(open(DATA_DIR+\"/tiles{}.pkl\".format(object_id)))\n",
    "indMat = pkl.load(open(DATA_DIR+\"/indMat{}.pkl\".format(object_id)))\n",
    "workers = pkl.load(open(DATA_DIR+\"/worker{}.pkl\".format(object_id)))"
   ]
  },
  {
   "cell_type": "code",
   "execution_count": 28,
   "metadata": {
    "collapsed": false
   },
   "outputs": [
    {
     "data": {
      "text/plain": [
       "(42, 5143)"
      ]
     },
     "execution_count": 28,
     "metadata": {},
     "output_type": "execute_result"
    }
   ],
   "source": [
    "shape(indMat)"
   ]
  },
  {
   "cell_type": "code",
   "execution_count": 31,
   "metadata": {
    "collapsed": false
   },
   "outputs": [
    {
     "data": {
      "text/plain": [
       "(5143,)"
      ]
     },
     "execution_count": 31,
     "metadata": {},
     "output_type": "execute_result"
    }
   ],
   "source": [
    "shape(indMat[j][k])"
   ]
  },
  {
   "cell_type": "code",
   "execution_count": 26,
   "metadata": {
    "collapsed": true
   },
   "outputs": [],
   "source": [
    "tk=tiles[0]"
   ]
  },
  {
   "cell_type": "code",
   "execution_count": 56,
   "metadata": {
    "collapsed": false
   },
   "outputs": [],
   "source": [
    "Qj = []\n",
    "for j in range(len(workers)):\n",
    "    Ncorrect=0\n",
    "    Nwrong = 0\n",
    "    for k in range(len(tiles)): \n",
    "        tk = tiles[k]\n",
    "        ljk = indMat[j][k]\n",
    "        tjkInT = T.contains(tk)\n",
    "        if (ljk ==1 and tjkInT) or (ljk ==0 and (not tjkInT)):\n",
    "            Ncorrect+=1\n",
    "        elif (ljk ==1 and (not tjkInT)) or (ljk ==0 and tjkInT):\n",
    "            Nwrong+=1\n",
    "    Qj.append(Ncorrect/float(Ncorrect+Nwrong))"
   ]
  },
  {
   "cell_type": "code",
   "execution_count": null,
   "metadata": {
    "collapsed": true
   },
   "outputs": [],
   "source": []
  }
 ],
 "metadata": {
  "kernelspec": {
   "display_name": "Python 2",
   "language": "python",
   "name": "python2"
  },
  "language_info": {
   "codemirror_mode": {
    "name": "ipython",
    "version": 2
   },
   "file_extension": ".py",
   "mimetype": "text/x-python",
   "name": "python",
   "nbconvert_exporter": "python",
   "pygments_lexer": "ipython2",
   "version": "2.7.10"
  }
 },
 "nbformat": 4,
 "nbformat_minor": 0
}
