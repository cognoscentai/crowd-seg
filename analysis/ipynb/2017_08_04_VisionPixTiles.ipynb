{
 "cells": [
  {
   "cell_type": "code",
   "execution_count": 1,
   "metadata": {},
   "outputs": [
    {
     "name": "stdout",
     "output_type": "stream",
     "text": [
      "Populating the interactive namespace from numpy and matplotlib\n"
     ]
    }
   ],
   "source": [
    "%pylab inline"
   ]
  },
  {
   "cell_type": "code",
   "execution_count": 4,
   "metadata": {
    "collapsed": true
   },
   "outputs": [],
   "source": [
    "from scipy import misc"
   ]
  },
  {
   "cell_type": "code",
   "execution_count": 20,
   "metadata": {},
   "outputs": [],
   "source": [
    "img = scipy.misc.imread(\"../TileEM/COCO_train2014_000000000643.png\")"
   ]
  },
  {
   "cell_type": "code",
   "execution_count": 21,
   "metadata": {},
   "outputs": [
    {
     "data": {
      "text/plain": [
       "(375, 500, 3)"
      ]
     },
     "execution_count": 21,
     "metadata": {},
     "output_type": "execute_result"
    }
   ],
   "source": [
    "shape(img)"
   ]
  },
  {
   "cell_type": "code",
   "execution_count": 24,
   "metadata": {},
   "outputs": [],
   "source": [
    "r,g,b = img[(43,23)]"
   ]
  },
  {
   "cell_type": "code",
   "execution_count": 91,
   "metadata": {},
   "outputs": [],
   "source": [
    "unique_vals = []\n",
    "for x,y in zip(range(shape(img)[0]),range(shape(img)[1])):\n",
    "    r,g,b = img[x,y,0],img[x,y,1],img[x,y,2]\n",
    "    if [r,g,b] not in unique_vals:\n",
    "        unique_vals.append([r,g,b])"
   ]
  },
  {
   "cell_type": "code",
   "execution_count": 121,
   "metadata": {},
   "outputs": [],
   "source": [
    "tiles=[]\n",
    "for i in range(len(unique_vals)):\n",
    "    r,g,b = unique_vals[i]\n",
    "    idx = np.where((img[:,:,0]==r)&(img[:,:,1]==g)&(img[:,:,2]==b))\n",
    "    tiles.append(zip(*idx))\n",
    "    #print \"Check all PixTile unique:\", len(np.unique(img[idx[0],idx[1]]))==3"
   ]
  },
  {
   "cell_type": "code",
   "execution_count": 135,
   "metadata": {},
   "outputs": [],
   "source": [
    "np.random.shuffle(tiles)"
   ]
  },
  {
   "cell_type": "code",
   "execution_count": 136,
   "metadata": {},
   "outputs": [],
   "source": [
    "mask = np.zeros(shape(img)[:2])\n",
    "for tidx in range(len(tiles)):\n",
    "    for i in list(tiles[tidx]):\n",
    "        mask[i]=tidx"
   ]
  },
  {
   "cell_type": "code",
   "execution_count": 137,
   "metadata": {},
   "outputs": [
    {
     "data": {
      "text/plain": [
       "<matplotlib.colorbar.Colorbar at 0x9649490>"
      ]
     },
     "execution_count": 137,
     "metadata": {},
     "output_type": "execute_result"
    },
    {
     "data": {
      "image/png": "[encoded data removed]",
      "text/plain": [
       "<matplotlib.figure.Figure at 0x91fad50>"
      ]
     },
     "metadata": {},
     "output_type": "display_data"
    }
   ],
   "source": [
    "plt.imshow(mask)\n",
    "plt.colorbar()"
   ]
  },
  {
   "cell_type": "code",
   "execution_count": 139,
   "metadata": {},
   "outputs": [
    {
     "name": "stdout",
     "output_type": "stream",
     "text": [
      "1. Set union of all index of all tiles is same as size of original image: False\n",
      "2. None of the pixels lie in multiple tiles:  True\n"
     ]
    }
   ],
   "source": [
    "all_tidxs=set()\n",
    "check2=True\n",
    "for tidxs in tiles:\n",
    "    if len(all_tidxs.intersection(tidxs))!=0:\n",
    "        check2=False\n",
    "    all_tidxs= all_tidxs.union(tidxs)\n",
    "check1 =  len(all_tidxs)==np.prod(np.shape(img))\n",
    "\n",
    "print \"1. Set union of all index of all tiles is same as size of original image:\",check1\n",
    "print \"2. None of the pixels lie in multiple tiles: \",check2"
   ]
  },
  {
   "cell_type": "code",
   "execution_count": null,
   "metadata": {
    "collapsed": true
   },
   "outputs": [],
   "source": []
  }
 ],
 "metadata": {
  "kernelspec": {
   "display_name": "Python 2",
   "language": "python",
   "name": "python2"
  },
  "language_info": {
   "codemirror_mode": {
    "name": "ipython",
    "version": 2
   },
   "file_extension": ".py",
   "mimetype": "text/x-python",
   "name": "python",
   "nbconvert_exporter": "python",
   "pygments_lexer": "ipython2",
   "version": "2.7.6"
  }
 },
 "nbformat": 4,
 "nbformat_minor": 2
}
