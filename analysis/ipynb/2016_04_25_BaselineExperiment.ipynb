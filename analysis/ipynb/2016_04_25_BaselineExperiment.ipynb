{
 "cells": [
  {
   "cell_type": "code",
   "execution_count": 1,
   "metadata": {
    "collapsed": false
   },
   "outputs": [
    {
     "name": "stdout",
     "output_type": "stream",
     "text": [
      "Populating the interactive namespace from numpy and matplotlib\n"
     ]
    }
   ],
   "source": [
    "%pylab inline"
   ]
  },
  {
   "cell_type": "code",
   "execution_count": 2,
   "metadata": {
    "collapsed": false
   },
   "outputs": [
    {
     "name": "stdout",
     "output_type": "stream",
     "text": [
      "/Users/dorislee/Desktop/Research/seg/crowd-seg/analysis/TileEM\n"
     ]
    }
   ],
   "source": [
    "cd ../TileEM/"
   ]
  },
  {
   "cell_type": "code",
   "execution_count": 3,
   "metadata": {
    "collapsed": false
   },
   "outputs": [],
   "source": [
    "from TileEM_plot_toolbox import *\n",
    "from qualityBaseline import *"
   ]
  },
  {
   "cell_type": "code",
   "execution_count": 4,
   "metadata": {
    "collapsed": false
   },
   "outputs": [],
   "source": [
    "my_BBG  = pd.read_csv(\"my_ground_truth.csv\")\n",
    "object_lst = list(object_tbl.id)\n",
    "objid=12\n",
    "ground_truth_match = my_BBG[my_BBG.object_id==objid]\n",
    "x_locs,y_locs =  process_raw_locs([ground_truth_match[\"x_locs\"].iloc[0],ground_truth_match[\"y_locs\"].iloc[0]])\n",
    "BBG = shapely.geometry.Polygon(zip(x_locs,y_locs))"
   ]
  },
  {
   "cell_type": "code",
   "execution_count": 5,
   "metadata": {
    "collapsed": false
   },
   "outputs": [
    {
     "data": {
      "image/svg+xml": [
       "<svg xmlns=\"http://www.w3.org/2000/svg\" xmlns:xlink=\"http://www.w3.org/1999/xlink\" width=\"110.08\" height=\"163.08\" viewBox=\"297.96 285.96 110.08 163.08\" preserveAspectRatio=\"xMinYMin meet\"><g transform=\"matrix(1,0,0,-1,0,735.0)\"><path fill-rule=\"evenodd\" fill=\"#66cc99\" stroke=\"#555555\" stroke-width=\"2.0\" opacity=\"0.6\" d=\"M 304.0,292.0 L 307.0,311.0 L 308.0,323.0 L 381.0,439.0 L 394.0,443.0 L 402.0,440.0 L 402.0,431.0 L 310.0,301.0 L 304.0,292.0 z\" /></g></svg>"
      ],
      "text/plain": [
       "<shapely.geometry.polygon.Polygon at 0x10feba350>"
      ]
     },
     "execution_count": 5,
     "metadata": {},
     "output_type": "execute_result"
    }
   ],
   "source": [
    "BBG"
   ]
  },
  {
   "cell_type": "code",
   "execution_count": 6,
   "metadata": {
    "collapsed": true
   },
   "outputs": [],
   "source": [
    "def precision(obj_x_locs,obj_y_locs):\n",
    "    worker_bb = Polygon(zip(obj_x_locs[0],obj_y_locs[0]))\n",
    "    worker_bb_area  = worker_bb.area"
   ]
  },
  {
   "cell_type": "markdown",
   "metadata": {},
   "source": [
    "# Summarization-Based Method "
   ]
  },
  {
   "cell_type": "code",
   "execution_count": 41,
   "metadata": {
    "collapsed": true
   },
   "outputs": [],
   "source": [
    "# Creating 2 empty precision recall table containing P,R for each metric used \n",
    "cols = [u'Num Points',u'Area Ratio',u'Jaccard [Self]', u'Precision [Self]', u'Recall [Self]']\n",
    "index = list(set(df.object_id))\n",
    "\n",
    "precision_df = pd.DataFrame(index=index,columns=cols)\n",
    "recall_df = pd.DataFrame(index=index,columns=cols)"
   ]
  },
  {
   "cell_type": "code",
   "execution_count": 49,
   "metadata": {
    "collapsed": false
   },
   "outputs": [
    {
     "name": "stdout",
     "output_type": "stream",
     "text": [
      "Num Points\n",
      "53\n",
      "53\n",
      "Precision [Self]\n",
      "64\n",
      "64\n",
      "Recall [Self]\n",
      "70\n",
      "70\n"
     ]
    }
   ],
   "source": [
    "from collections import OrderedDict\n",
    "df = pd.read_csv(\"../computed_my_COCO_BBvals.csv\",index_col=0)\n",
    "df_noBBG = df[~(df[\"worker_id\"].isin([1,2,3]))] #Filter our ground truth workers\n",
    "#attr=\"Jaccard [Self]\"# select best BB based on the worker with the highest scoring  atttr metric\n",
    "\n",
    "for attr in cols: \n",
    "    idx = df_noBBG.groupby(\"object_id\")[attr].transform(max) == df_noBBG[attr]\n",
    "    best_BBs = df_noBBG[idx] #best BBs based on these metrics\n",
    "    best_BBs_recall = list(best_BBs[\"Recall [Self]\"])\n",
    "    best_BBs_precision =  list(best_BBs[\"Precision [Self]\"])\n",
    "    try:\n",
    "        #add it to the large table \n",
    "        precision_df[attr] = best_BBs_precision\n",
    "        recall_df[attr] = best_BBs_recall\n",
    "    except(ValueError):\n",
    "        print attr\n",
    "        print len(best_BBs_recall)\n",
    "        print len(best_BBs_precision)"
   ]
  },
  {
   "cell_type": "code",
   "execution_count": 50,
   "metadata": {
    "collapsed": false
   },
   "outputs": [
    {
     "data": {
      "text/html": [
       "<div>\n",
       "<table border=\"1\" class=\"dataframe\">\n",
       "  <thead>\n",
       "    <tr style=\"text-align: right;\">\n",
       "      <th></th>\n",
       "      <th>Num Points</th>\n",
       "      <th>Area Ratio</th>\n",
       "      <th>Jaccard [Self]</th>\n",
       "      <th>Precision [Self]</th>\n",
       "      <th>Recall [Self]</th>\n",
       "    </tr>\n",
       "  </thead>\n",
       "  <tbody>\n",
       "    <tr>\n",
       "      <th>1</th>\n",
       "      <td>NaN</td>\n",
       "      <td>0.754620</td>\n",
       "      <td>0.975932</td>\n",
       "      <td>NaN</td>\n",
       "      <td>NaN</td>\n",
       "    </tr>\n",
       "    <tr>\n",
       "      <th>2</th>\n",
       "      <td>NaN</td>\n",
       "      <td>0.000000</td>\n",
       "      <td>0.955878</td>\n",
       "      <td>NaN</td>\n",
       "      <td>NaN</td>\n",
       "    </tr>\n",
       "    <tr>\n",
       "      <th>3</th>\n",
       "      <td>NaN</td>\n",
       "      <td>0.000000</td>\n",
       "      <td>0.926036</td>\n",
       "      <td>NaN</td>\n",
       "      <td>NaN</td>\n",
       "    </tr>\n",
       "    <tr>\n",
       "      <th>4</th>\n",
       "      <td>NaN</td>\n",
       "      <td>0.721348</td>\n",
       "      <td>0.936799</td>\n",
       "      <td>NaN</td>\n",
       "      <td>NaN</td>\n",
       "    </tr>\n",
       "    <tr>\n",
       "      <th>5</th>\n",
       "      <td>NaN</td>\n",
       "      <td>0.696978</td>\n",
       "      <td>0.970107</td>\n",
       "      <td>NaN</td>\n",
       "      <td>NaN</td>\n",
       "    </tr>\n",
       "    <tr>\n",
       "      <th>6</th>\n",
       "      <td>NaN</td>\n",
       "      <td>0.856261</td>\n",
       "      <td>0.941545</td>\n",
       "      <td>NaN</td>\n",
       "      <td>NaN</td>\n",
       "    </tr>\n",
       "    <tr>\n",
       "      <th>7</th>\n",
       "      <td>NaN</td>\n",
       "      <td>0.584433</td>\n",
       "      <td>0.976273</td>\n",
       "      <td>NaN</td>\n",
       "      <td>NaN</td>\n",
       "    </tr>\n",
       "    <tr>\n",
       "      <th>8</th>\n",
       "      <td>NaN</td>\n",
       "      <td>0.653773</td>\n",
       "      <td>0.927926</td>\n",
       "      <td>NaN</td>\n",
       "      <td>NaN</td>\n",
       "    </tr>\n",
       "    <tr>\n",
       "      <th>9</th>\n",
       "      <td>NaN</td>\n",
       "      <td>0.941104</td>\n",
       "      <td>0.977930</td>\n",
       "      <td>NaN</td>\n",
       "      <td>NaN</td>\n",
       "    </tr>\n",
       "    <tr>\n",
       "      <th>10</th>\n",
       "      <td>NaN</td>\n",
       "      <td>0.228644</td>\n",
       "      <td>0.906796</td>\n",
       "      <td>NaN</td>\n",
       "      <td>NaN</td>\n",
       "    </tr>\n",
       "    <tr>\n",
       "      <th>11</th>\n",
       "      <td>NaN</td>\n",
       "      <td>0.860538</td>\n",
       "      <td>0.912178</td>\n",
       "      <td>NaN</td>\n",
       "      <td>NaN</td>\n",
       "    </tr>\n",
       "    <tr>\n",
       "      <th>12</th>\n",
       "      <td>NaN</td>\n",
       "      <td>0.763140</td>\n",
       "      <td>0.985686</td>\n",
       "      <td>NaN</td>\n",
       "      <td>NaN</td>\n",
       "    </tr>\n",
       "    <tr>\n",
       "      <th>13</th>\n",
       "      <td>NaN</td>\n",
       "      <td>0.843106</td>\n",
       "      <td>0.968061</td>\n",
       "      <td>NaN</td>\n",
       "      <td>NaN</td>\n",
       "    </tr>\n",
       "    <tr>\n",
       "      <th>14</th>\n",
       "      <td>NaN</td>\n",
       "      <td>0.596845</td>\n",
       "      <td>0.944169</td>\n",
       "      <td>NaN</td>\n",
       "      <td>NaN</td>\n",
       "    </tr>\n",
       "    <tr>\n",
       "      <th>15</th>\n",
       "      <td>NaN</td>\n",
       "      <td>0.895230</td>\n",
       "      <td>0.839449</td>\n",
       "      <td>NaN</td>\n",
       "      <td>NaN</td>\n",
       "    </tr>\n",
       "    <tr>\n",
       "      <th>16</th>\n",
       "      <td>NaN</td>\n",
       "      <td>0.853736</td>\n",
       "      <td>0.986341</td>\n",
       "      <td>NaN</td>\n",
       "      <td>NaN</td>\n",
       "    </tr>\n",
       "    <tr>\n",
       "      <th>17</th>\n",
       "      <td>NaN</td>\n",
       "      <td>0.174196</td>\n",
       "      <td>0.926995</td>\n",
       "      <td>NaN</td>\n",
       "      <td>NaN</td>\n",
       "    </tr>\n",
       "    <tr>\n",
       "      <th>18</th>\n",
       "      <td>NaN</td>\n",
       "      <td>0.779129</td>\n",
       "      <td>0.980279</td>\n",
       "      <td>NaN</td>\n",
       "      <td>NaN</td>\n",
       "    </tr>\n",
       "    <tr>\n",
       "      <th>19</th>\n",
       "      <td>NaN</td>\n",
       "      <td>0.912343</td>\n",
       "      <td>0.991909</td>\n",
       "      <td>NaN</td>\n",
       "      <td>NaN</td>\n",
       "    </tr>\n",
       "    <tr>\n",
       "      <th>20</th>\n",
       "      <td>NaN</td>\n",
       "      <td>0.000000</td>\n",
       "      <td>0.975329</td>\n",
       "      <td>NaN</td>\n",
       "      <td>NaN</td>\n",
       "    </tr>\n",
       "    <tr>\n",
       "      <th>21</th>\n",
       "      <td>NaN</td>\n",
       "      <td>0.704417</td>\n",
       "      <td>0.986150</td>\n",
       "      <td>NaN</td>\n",
       "      <td>NaN</td>\n",
       "    </tr>\n",
       "    <tr>\n",
       "      <th>22</th>\n",
       "      <td>NaN</td>\n",
       "      <td>0.269113</td>\n",
       "      <td>0.983574</td>\n",
       "      <td>NaN</td>\n",
       "      <td>NaN</td>\n",
       "    </tr>\n",
       "    <tr>\n",
       "      <th>23</th>\n",
       "      <td>NaN</td>\n",
       "      <td>0.898016</td>\n",
       "      <td>0.919958</td>\n",
       "      <td>NaN</td>\n",
       "      <td>NaN</td>\n",
       "    </tr>\n",
       "    <tr>\n",
       "      <th>24</th>\n",
       "      <td>NaN</td>\n",
       "      <td>0.172299</td>\n",
       "      <td>0.977166</td>\n",
       "      <td>NaN</td>\n",
       "      <td>NaN</td>\n",
       "    </tr>\n",
       "    <tr>\n",
       "      <th>25</th>\n",
       "      <td>NaN</td>\n",
       "      <td>0.023324</td>\n",
       "      <td>0.932789</td>\n",
       "      <td>NaN</td>\n",
       "      <td>NaN</td>\n",
       "    </tr>\n",
       "    <tr>\n",
       "      <th>26</th>\n",
       "      <td>NaN</td>\n",
       "      <td>0.630442</td>\n",
       "      <td>0.989853</td>\n",
       "      <td>NaN</td>\n",
       "      <td>NaN</td>\n",
       "    </tr>\n",
       "    <tr>\n",
       "      <th>27</th>\n",
       "      <td>NaN</td>\n",
       "      <td>0.000000</td>\n",
       "      <td>0.971351</td>\n",
       "      <td>NaN</td>\n",
       "      <td>NaN</td>\n",
       "    </tr>\n",
       "    <tr>\n",
       "      <th>28</th>\n",
       "      <td>NaN</td>\n",
       "      <td>0.671919</td>\n",
       "      <td>0.937853</td>\n",
       "      <td>NaN</td>\n",
       "      <td>NaN</td>\n",
       "    </tr>\n",
       "    <tr>\n",
       "      <th>29</th>\n",
       "      <td>NaN</td>\n",
       "      <td>0.750820</td>\n",
       "      <td>0.992423</td>\n",
       "      <td>NaN</td>\n",
       "      <td>NaN</td>\n",
       "    </tr>\n",
       "    <tr>\n",
       "      <th>30</th>\n",
       "      <td>NaN</td>\n",
       "      <td>0.299551</td>\n",
       "      <td>0.871708</td>\n",
       "      <td>NaN</td>\n",
       "      <td>NaN</td>\n",
       "    </tr>\n",
       "    <tr>\n",
       "      <th>31</th>\n",
       "      <td>NaN</td>\n",
       "      <td>0.905090</td>\n",
       "      <td>0.938147</td>\n",
       "      <td>NaN</td>\n",
       "      <td>NaN</td>\n",
       "    </tr>\n",
       "    <tr>\n",
       "      <th>32</th>\n",
       "      <td>NaN</td>\n",
       "      <td>0.000000</td>\n",
       "      <td>0.972279</td>\n",
       "      <td>NaN</td>\n",
       "      <td>NaN</td>\n",
       "    </tr>\n",
       "    <tr>\n",
       "      <th>33</th>\n",
       "      <td>NaN</td>\n",
       "      <td>0.805516</td>\n",
       "      <td>0.965992</td>\n",
       "      <td>NaN</td>\n",
       "      <td>NaN</td>\n",
       "    </tr>\n",
       "    <tr>\n",
       "      <th>34</th>\n",
       "      <td>NaN</td>\n",
       "      <td>0.826427</td>\n",
       "      <td>0.997939</td>\n",
       "      <td>NaN</td>\n",
       "      <td>NaN</td>\n",
       "    </tr>\n",
       "    <tr>\n",
       "      <th>35</th>\n",
       "      <td>NaN</td>\n",
       "      <td>0.145328</td>\n",
       "      <td>0.944299</td>\n",
       "      <td>NaN</td>\n",
       "      <td>NaN</td>\n",
       "    </tr>\n",
       "    <tr>\n",
       "      <th>36</th>\n",
       "      <td>NaN</td>\n",
       "      <td>0.858543</td>\n",
       "      <td>0.979189</td>\n",
       "      <td>NaN</td>\n",
       "      <td>NaN</td>\n",
       "    </tr>\n",
       "    <tr>\n",
       "      <th>37</th>\n",
       "      <td>NaN</td>\n",
       "      <td>0.453951</td>\n",
       "      <td>0.904922</td>\n",
       "      <td>NaN</td>\n",
       "      <td>NaN</td>\n",
       "    </tr>\n",
       "    <tr>\n",
       "      <th>38</th>\n",
       "      <td>NaN</td>\n",
       "      <td>0.968428</td>\n",
       "      <td>0.955486</td>\n",
       "      <td>NaN</td>\n",
       "      <td>NaN</td>\n",
       "    </tr>\n",
       "    <tr>\n",
       "      <th>39</th>\n",
       "      <td>NaN</td>\n",
       "      <td>0.739309</td>\n",
       "      <td>0.985569</td>\n",
       "      <td>NaN</td>\n",
       "      <td>NaN</td>\n",
       "    </tr>\n",
       "    <tr>\n",
       "      <th>40</th>\n",
       "      <td>NaN</td>\n",
       "      <td>0.517270</td>\n",
       "      <td>0.937722</td>\n",
       "      <td>NaN</td>\n",
       "      <td>NaN</td>\n",
       "    </tr>\n",
       "    <tr>\n",
       "      <th>41</th>\n",
       "      <td>NaN</td>\n",
       "      <td>0.018692</td>\n",
       "      <td>0.986704</td>\n",
       "      <td>NaN</td>\n",
       "      <td>NaN</td>\n",
       "    </tr>\n",
       "    <tr>\n",
       "      <th>42</th>\n",
       "      <td>NaN</td>\n",
       "      <td>0.423254</td>\n",
       "      <td>0.930085</td>\n",
       "      <td>NaN</td>\n",
       "      <td>NaN</td>\n",
       "    </tr>\n",
       "    <tr>\n",
       "      <th>43</th>\n",
       "      <td>NaN</td>\n",
       "      <td>0.676265</td>\n",
       "      <td>0.959520</td>\n",
       "      <td>NaN</td>\n",
       "      <td>NaN</td>\n",
       "    </tr>\n",
       "    <tr>\n",
       "      <th>44</th>\n",
       "      <td>NaN</td>\n",
       "      <td>0.597132</td>\n",
       "      <td>0.972413</td>\n",
       "      <td>NaN</td>\n",
       "      <td>NaN</td>\n",
       "    </tr>\n",
       "    <tr>\n",
       "      <th>45</th>\n",
       "      <td>NaN</td>\n",
       "      <td>0.144248</td>\n",
       "      <td>0.903400</td>\n",
       "      <td>NaN</td>\n",
       "      <td>NaN</td>\n",
       "    </tr>\n",
       "    <tr>\n",
       "      <th>46</th>\n",
       "      <td>NaN</td>\n",
       "      <td>0.702430</td>\n",
       "      <td>0.981585</td>\n",
       "      <td>NaN</td>\n",
       "      <td>NaN</td>\n",
       "    </tr>\n",
       "    <tr>\n",
       "      <th>47</th>\n",
       "      <td>NaN</td>\n",
       "      <td>0.956957</td>\n",
       "      <td>0.976388</td>\n",
       "      <td>NaN</td>\n",
       "      <td>NaN</td>\n",
       "    </tr>\n",
       "  </tbody>\n",
       "</table>\n",
       "</div>"
      ],
      "text/plain": [
       "   Num Points  Area Ratio  Jaccard [Self] Precision [Self] Recall [Self]\n",
       "1         NaN    0.754620        0.975932              NaN           NaN\n",
       "2         NaN    0.000000        0.955878              NaN           NaN\n",
       "3         NaN    0.000000        0.926036              NaN           NaN\n",
       "4         NaN    0.721348        0.936799              NaN           NaN\n",
       "5         NaN    0.696978        0.970107              NaN           NaN\n",
       "6         NaN    0.856261        0.941545              NaN           NaN\n",
       "7         NaN    0.584433        0.976273              NaN           NaN\n",
       "8         NaN    0.653773        0.927926              NaN           NaN\n",
       "9         NaN    0.941104        0.977930              NaN           NaN\n",
       "10        NaN    0.228644        0.906796              NaN           NaN\n",
       "11        NaN    0.860538        0.912178              NaN           NaN\n",
       "12        NaN    0.763140        0.985686              NaN           NaN\n",
       "13        NaN    0.843106        0.968061              NaN           NaN\n",
       "14        NaN    0.596845        0.944169              NaN           NaN\n",
       "15        NaN    0.895230        0.839449              NaN           NaN\n",
       "16        NaN    0.853736        0.986341              NaN           NaN\n",
       "17        NaN    0.174196        0.926995              NaN           NaN\n",
       "18        NaN    0.779129        0.980279              NaN           NaN\n",
       "19        NaN    0.912343        0.991909              NaN           NaN\n",
       "20        NaN    0.000000        0.975329              NaN           NaN\n",
       "21        NaN    0.704417        0.986150              NaN           NaN\n",
       "22        NaN    0.269113        0.983574              NaN           NaN\n",
       "23        NaN    0.898016        0.919958              NaN           NaN\n",
       "24        NaN    0.172299        0.977166              NaN           NaN\n",
       "25        NaN    0.023324        0.932789              NaN           NaN\n",
       "26        NaN    0.630442        0.989853              NaN           NaN\n",
       "27        NaN    0.000000        0.971351              NaN           NaN\n",
       "28        NaN    0.671919        0.937853              NaN           NaN\n",
       "29        NaN    0.750820        0.992423              NaN           NaN\n",
       "30        NaN    0.299551        0.871708              NaN           NaN\n",
       "31        NaN    0.905090        0.938147              NaN           NaN\n",
       "32        NaN    0.000000        0.972279              NaN           NaN\n",
       "33        NaN    0.805516        0.965992              NaN           NaN\n",
       "34        NaN    0.826427        0.997939              NaN           NaN\n",
       "35        NaN    0.145328        0.944299              NaN           NaN\n",
       "36        NaN    0.858543        0.979189              NaN           NaN\n",
       "37        NaN    0.453951        0.904922              NaN           NaN\n",
       "38        NaN    0.968428        0.955486              NaN           NaN\n",
       "39        NaN    0.739309        0.985569              NaN           NaN\n",
       "40        NaN    0.517270        0.937722              NaN           NaN\n",
       "41        NaN    0.018692        0.986704              NaN           NaN\n",
       "42        NaN    0.423254        0.930085              NaN           NaN\n",
       "43        NaN    0.676265        0.959520              NaN           NaN\n",
       "44        NaN    0.597132        0.972413              NaN           NaN\n",
       "45        NaN    0.144248        0.903400              NaN           NaN\n",
       "46        NaN    0.702430        0.981585              NaN           NaN\n",
       "47        NaN    0.956957        0.976388              NaN           NaN"
      ]
     },
     "execution_count": 50,
     "metadata": {},
     "output_type": "execute_result"
    }
   ],
   "source": [
    "precision_df"
   ]
  },
  {
   "cell_type": "code",
   "execution_count": 46,
   "metadata": {
    "collapsed": false
   },
   "outputs": [
    {
     "name": "stderr",
     "output_type": "stream",
     "text": []
    }
   ],
   "source": [
    "# for bb in tqdm(list(best_BBs.iterrows())):\n",
    "#     objid = bb[1][\"object_id\"]\n",
    "#     ground_truth_match = my_BBG[my_BBG.object_id==objid]\n",
    "#     x_locs,y_locs =  process_raw_locs([ground_truth_match[\"x_locs\"].iloc[0],ground_truth_match[\"y_locs\"].iloc[0]])\n",
    "\n",
    "#     bbx_path= bb[1][\"x_locs\"]\n",
    "#     bby_path= bb[1][\"y_locs\"]\n",
    "#     worker_x_locs,worker_y_locs= process_raw_locs([bbx_path,bby_path])\n",
    "#     worker_x_locs,worker_y_locs = zip(*list(OrderedDict.fromkeys(zip(worker_x_locs,worker_y_locs))))\n",
    "    \n",
    "# #     p_lst.append(precision([worker_x_locs,x_locs],[worker_y_locs,y_locs]))\n",
    "# #     r_lst.append(recall([worker_x_locs,x_locs],[worker_y_locs,y_locs]))"
   ]
  },
  {
   "cell_type": "code",
   "execution_count": 19,
   "metadata": {
    "collapsed": false
   },
   "outputs": [],
   "source": [
    "# best_BBs[\"Precision\"] = p_lst\n",
    "# best_BBs[\"Recall\"] = r_lst"
   ]
  },
  {
   "cell_type": "code",
   "execution_count": 20,
   "metadata": {
    "collapsed": false
   },
   "outputs": [],
   "source": [
    "# best_BBs[\"Precision [Self]\"][best_BBs[\"Precision [Self]\"]>1]=1\n",
    "# best_BBs[\"Recall [Self]\"][best_BBs[\"Recall [Self]\"]>1]=1"
   ]
  },
  {
   "cell_type": "code",
   "execution_count": 21,
   "metadata": {
    "collapsed": true
   },
   "outputs": [],
   "source": [
    "precision_tbl = []"
   ]
  },
  {
   "cell_type": "code",
   "execution_count": 22,
   "metadata": {
    "collapsed": false
   },
   "outputs": [],
   "source": [
    "best_BBs_recall = list(best_BBs[\"Recall [Self]\"])\n",
    "best_BBs_precision =  list(best_BBs[\"Precision [Self]\"])"
   ]
  },
  {
   "cell_type": "code",
   "execution_count": 23,
   "metadata": {
    "collapsed": false
   },
   "outputs": [
    {
     "data": {
      "text/plain": [
       "47"
      ]
     },
     "execution_count": 23,
     "metadata": {},
     "output_type": "execute_result"
    }
   ],
   "source": [
    "len(list(set(df.object_id)))"
   ]
  },
  {
   "cell_type": "code",
   "execution_count": 24,
   "metadata": {
    "collapsed": false
   },
   "outputs": [
    {
     "data": {
      "text/plain": [
       "47"
      ]
     },
     "execution_count": 24,
     "metadata": {},
     "output_type": "execute_result"
    }
   ],
   "source": [
    "len(best_BBs_recall)"
   ]
  },
  {
   "cell_type": "code",
   "execution_count": 39,
   "metadata": {
    "collapsed": false
   },
   "outputs": [],
   "source": [
    "precision_df[attr] = best_BBs_precision\n",
    "recall_df[attr] = best_BBs_recall"
   ]
  },
  {
   "cell_type": "code",
   "execution_count": null,
   "metadata": {
    "collapsed": true
   },
   "outputs": [],
   "source": []
  }
 ],
 "metadata": {
  "kernelspec": {
   "display_name": "Python 2",
   "language": "python",
   "name": "python2"
  },
  "language_info": {
   "codemirror_mode": {
    "name": "ipython",
    "version": 2
   },
   "file_extension": ".py",
   "mimetype": "text/x-python",
   "name": "python",
   "nbconvert_exporter": "python",
   "pygments_lexer": "ipython2",
   "version": "2.7.10"
  }
 },
 "nbformat": 4,
 "nbformat_minor": 0
}
