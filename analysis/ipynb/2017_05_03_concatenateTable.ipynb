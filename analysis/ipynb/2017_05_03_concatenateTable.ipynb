{
 "cells": [
  {
   "cell_type": "code",
   "execution_count": 1,
   "metadata": {},
   "outputs": [
    {
     "name": "stdout",
     "output_type": "stream",
     "text": [
      "/home/jlee782/crowd-seg/analysis/TileEM\n"
     ]
    }
   ],
   "source": [
    "cd ../TileEM/"
   ]
  },
  {
   "cell_type": "code",
   "execution_count": 2,
   "metadata": {},
   "outputs": [
    {
     "name": "stdout",
     "output_type": "stream",
     "text": [
      "Populating the interactive namespace from numpy and matplotlib\n"
     ]
    }
   ],
   "source": [
    "%pylab inline"
   ]
  },
  {
   "cell_type": "code",
   "execution_count": 3,
   "metadata": {},
   "outputs": [
    {
     "name": "stdout",
     "output_type": "stream",
     "text": [
      "/home/jlee782/crowd-seg/analysis/TileEM/stored_ptk_run\n"
     ]
    }
   ],
   "source": [
    "cd ../TileEM/stored_ptk_run"
   ]
  },
  {
   "cell_type": "code",
   "execution_count": 11,
   "metadata": {
    "collapsed": true
   },
   "outputs": [],
   "source": [
    "import pandas as pd\n",
    "import pickle as pkl\n",
    "from TileEM_plot_toolbox import *\n",
    "from qualityBaseline import *\n",
    "from glob import glob\n",
    "from collections import OrderedDict\n",
    "from bad_vtiles import *\n",
    "from calc_Tstar import *\n",
    "import time"
   ]
  },
  {
   "cell_type": "code",
   "execution_count": 22,
   "metadata": {},
   "outputs": [
    {
     "data": {
      "text/plain": [
       "u'/home/jlee782/crowd-seg/analysis/TileEM'"
      ]
     },
     "execution_count": 22,
     "metadata": {},
     "output_type": "execute_result"
    }
   ],
   "source": [
    "pwd"
   ]
  },
  {
   "cell_type": "code",
   "execution_count": 23,
   "metadata": {
    "collapsed": true
   },
   "outputs": [],
   "source": [
    "discard_obj_lst = [35,40,41]"
   ]
  },
  {
   "cell_type": "code",
   "execution_count": 28,
   "metadata": {
    "scrolled": true
   },
   "outputs": [
    {
     "name": "stdout",
     "output_type": "stream",
     "text": [
      "Working on worker =  5\n",
      "Working on worker =  10\n",
      "Working on worker =  15\n",
      "Working on worker =  20\n",
      "Working on worker =  25\n",
      "Working on worker =  30\n"
     ]
    }
   ],
   "source": [
    "worker_Nbatches={5:10,10:8,15:6,20:4,25:2,30:1}\n",
    "sampleN_lst=worker_Nbatches.keys()\n",
    "base_dir= \"stored_ptk_run\"\n",
    "mode =\"concatenate_sample_table\"\n",
    "\n",
    "sampleN_lst=sorted(worker_Nbatches.keys())\n",
    "for Nworker in sampleN_lst:\n",
    "    print \"Working on worker = \",Nworker\n",
    "    batch_all_data=[]\n",
    "    for batch_num in range(worker_Nbatches[Nworker]):\n",
    "        dir_name = \"{0}/{1}worker_rand{2}\".format(base_dir,Nworker,batch_num)\n",
    "        batch_i_data=pd.read_csv(dir_name+\"/PR_tbl_all.csv\",index_col=0)\n",
    "        #Drop the object rows where the objects have bad vtiles to begin with\n",
    "        bad_vtile_objs = list(problematic[(problematic[\"Nworker\"]==Nworker)&(problematic[\"batch_num\"]==batch_num)].objid)\n",
    "        bad_vtile_objs.extend(discard_obj_lst) # Discard ambiguous objects\n",
    "        batch_i_data=batch_i_data.drop(bad_vtile_objs,errors='ignore')\n",
    "\n",
    "        batch_all_data.append(batch_i_data)\n",
    "    try:\n",
    "        batch_all_data = pd.concat(batch_all_data, axis=0, join='outer', join_axes=None, ignore_index=False,\n",
    "          keys=None, levels=None, names=None, verify_integrity=False,\n",
    "          copy=True)\n",
    "        batch_all_data.to_csv(\"concat_sample{}_PR.csv\".format(Nworker))\n",
    "    except(ZeroDivisionError):\n",
    "        print \"No data for worker=\",Nworker"
   ]
  },
  {
   "cell_type": "code",
   "execution_count": 29,
   "metadata": {},
   "outputs": [],
   "source": [
    "table= pd.read_csv(\"concat_sample5_PR.csv\",index_col=0)"
   ]
  },
  {
   "cell_type": "code",
   "execution_count": 31,
   "metadata": {},
   "outputs": [
    {
     "data": {
      "text/plain": [
       "P [TileEM thres=-40]    0.904520\n",
       "R [TileEM thres=-40]    1.022946\n",
       "P [TileEM thres=-20]    0.911689\n",
       "R [TileEM thres=-20]    1.018451\n",
       "P [TileEM thres=0]      0.917484\n",
       "R [TileEM thres=0]      1.008118\n",
       "P [TileEM thres=20]     0.926314\n",
       "R [TileEM thres=20]     0.992045\n",
       "P [TileEM thres=40]     0.932203\n",
       "R [TileEM thres=40]     0.980790\n",
       "dtype: float64"
      ]
     },
     "execution_count": 31,
     "metadata": {},
     "output_type": "execute_result"
    }
   ],
   "source": [
    "table.filter(regex=\"TileEM\").mean()"
   ]
  },
  {
   "cell_type": "code",
   "execution_count": null,
   "metadata": {
    "collapsed": true
   },
   "outputs": [],
   "source": []
  }
 ],
 "metadata": {
  "kernelspec": {
   "display_name": "Python 2",
   "language": "python",
   "name": "python2"
  },
  "language_info": {
   "codemirror_mode": {
    "name": "ipython",
    "version": 2
   },
   "file_extension": ".py",
   "mimetype": "text/x-python",
   "name": "python",
   "nbconvert_exporter": "python",
   "pygments_lexer": "ipython2",
   "version": "2.7.6"
  }
 },
 "nbformat": 4,
 "nbformat_minor": 2
}
