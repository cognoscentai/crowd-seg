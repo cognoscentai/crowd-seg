{
 "cells": [
  {
   "cell_type": "code",
   "execution_count": 1,
   "metadata": {
    "collapsed": false
   },
   "outputs": [
    {
     "name": "stdout",
     "output_type": "stream",
     "text": [
      "Populating the interactive namespace from numpy and matplotlib\n"
     ]
    }
   ],
   "source": [
    "%pylab inline"
   ]
  },
  {
   "cell_type": "code",
   "execution_count": 2,
   "metadata": {
    "collapsed": false
   },
   "outputs": [
    {
     "name": "stdout",
     "output_type": "stream",
     "text": [
      "/Users/dorislee/Desktop/Research/seg/crowd-seg/analysis/TileEM\n"
     ]
    }
   ],
   "source": [
    "cd ../TileEM/"
   ]
  },
  {
   "cell_type": "code",
   "execution_count": 14,
   "metadata": {
    "collapsed": false
   },
   "outputs": [
    {
     "name": "stdout",
     "output_type": "stream",
     "text": [
      "/Users/dorislee/Desktop/Research/seg/crowd-seg/analysis/TileEM\n"
     ]
    }
   ],
   "source": [
    "cd analysis/TileEM/"
   ]
  },
  {
   "cell_type": "code",
   "execution_count": 3,
   "metadata": {
    "collapsed": true
   },
   "outputs": [],
   "source": [
    "from TileEM_plot_toolbox import *\n",
    "from qualityBaseline import *\n",
    "from glob import glob"
   ]
  },
  {
   "cell_type": "code",
   "execution_count": 4,
   "metadata": {
    "collapsed": true
   },
   "outputs": [],
   "source": [
    "worker_Nbatches={5:10,10:8,15:6,20:4,25:2,30:1}\n",
    "sampleN_lst=worker_Nbatches.keys()"
   ]
  },
  {
   "cell_type": "code",
   "execution_count": 16,
   "metadata": {
    "collapsed": false
   },
   "outputs": [],
   "source": [
    "from collections import OrderedDict\n",
    "df = pd.read_csv(\"../computed_my_COCO_BBvals.csv\",index_col=0)"
   ]
  },
  {
   "cell_type": "code",
   "execution_count": 94,
   "metadata": {
    "collapsed": false
   },
   "outputs": [
    {
     "name": "stdout",
     "output_type": "stream",
     "text": [
      "/Users/dorislee/Desktop/Research/seg/crowd-seg/analysis/TileEM\n"
     ]
    }
   ],
   "source": [
    "cd .."
   ]
  },
  {
   "cell_type": "code",
   "execution_count": 95,
   "metadata": {
    "collapsed": false
   },
   "outputs": [
    {
     "name": "stdout",
     "output_type": "stream",
     "text": [
      "5worker_rand1\n",
      "5worker_rand2\n",
      "5worker_rand3\n",
      "5worker_rand4\n",
      "5worker_rand5\n",
      "5worker_rand6\n",
      "5worker_rand7\n",
      "5worker_rand8\n"
     ]
    },
    {
     "ename": "IOError",
     "evalue": "[Errno 2] No such file or directory: 'worker8.pkl'",
     "output_type": "error",
     "traceback": [
      "\u001b[0;31m---------------------------------------------------------------------------\u001b[0m",
      "\u001b[0;31mIOError\u001b[0m                                   Traceback (most recent call last)",
      "\u001b[0;32m<ipython-input-95-f0513e7517b4>\u001b[0m in \u001b[0;36m<module>\u001b[0;34m()\u001b[0m\n\u001b[1;32m     17\u001b[0m             \u001b[0mtbl\u001b[0m\u001b[0;34m=\u001b[0m\u001b[0;34m[\u001b[0m\u001b[0;34m]\u001b[0m\u001b[0;34m\u001b[0m\u001b[0m\n\u001b[1;32m     18\u001b[0m             \u001b[0;32mfor\u001b[0m \u001b[0mobjid\u001b[0m \u001b[0;32min\u001b[0m \u001b[0mobject_lst\u001b[0m\u001b[0;34m:\u001b[0m\u001b[0;34m\u001b[0m\u001b[0m\n\u001b[0;32m---> 19\u001b[0;31m                 \u001b[0mworkers\u001b[0m\u001b[0;34m=\u001b[0m\u001b[0mpkl\u001b[0m\u001b[0;34m.\u001b[0m\u001b[0mload\u001b[0m\u001b[0;34m(\u001b[0m\u001b[0mopen\u001b[0m\u001b[0;34m(\u001b[0m\u001b[0;34m\"worker{}.pkl\"\u001b[0m\u001b[0;34m.\u001b[0m\u001b[0mformat\u001b[0m\u001b[0;34m(\u001b[0m\u001b[0mobjid\u001b[0m\u001b[0;34m)\u001b[0m\u001b[0;34m)\u001b[0m\u001b[0;34m)\u001b[0m\u001b[0;34m\u001b[0m\u001b[0m\n\u001b[0m\u001b[1;32m     20\u001b[0m                 \u001b[0mfiltered_df\u001b[0m \u001b[0;34m=\u001b[0m \u001b[0mdf\u001b[0m\u001b[0;34m[\u001b[0m\u001b[0;34m(\u001b[0m\u001b[0mdf\u001b[0m\u001b[0;34m[\u001b[0m\u001b[0;34m\"worker_id\"\u001b[0m\u001b[0;34m]\u001b[0m\u001b[0;34m.\u001b[0m\u001b[0misin\u001b[0m\u001b[0;34m(\u001b[0m\u001b[0mworkers\u001b[0m\u001b[0;34m)\u001b[0m\u001b[0;34m)\u001b[0m\u001b[0;34m&\u001b[0m\u001b[0;34m(\u001b[0m\u001b[0mdf\u001b[0m\u001b[0;34m[\u001b[0m\u001b[0;34m\"object_id\"\u001b[0m\u001b[0;34m]\u001b[0m\u001b[0;34m==\u001b[0m\u001b[0mobjid\u001b[0m\u001b[0;34m)\u001b[0m\u001b[0;34m]\u001b[0m \u001b[0;31m#only look at summarization scores of sampled workers\u001b[0m\u001b[0;34m\u001b[0m\u001b[0m\n\u001b[1;32m     21\u001b[0m                 \u001b[0mbest_worker_BB\u001b[0m \u001b[0;34m=\u001b[0m \u001b[0mfiltered_df\u001b[0m\u001b[0;34m[\u001b[0m\u001b[0mfiltered_df\u001b[0m\u001b[0;34m[\u001b[0m\u001b[0mattr\u001b[0m\u001b[0;34m]\u001b[0m\u001b[0;34m==\u001b[0m\u001b[0mfiltered_df\u001b[0m\u001b[0;34m[\u001b[0m\u001b[0mattr\u001b[0m\u001b[0;34m]\u001b[0m\u001b[0;34m.\u001b[0m\u001b[0mmax\u001b[0m\u001b[0;34m(\u001b[0m\u001b[0;34m)\u001b[0m\u001b[0;34m]\u001b[0m\u001b[0;34m\u001b[0m\u001b[0m\n",
      "\u001b[0;31mIOError\u001b[0m: [Errno 2] No such file or directory: 'worker8.pkl'"
     ]
    }
   ],
   "source": [
    "for Nworker in sampleN_lst:\n",
    "    for batch_num in range(1,worker_Nbatches[Nworker]):\n",
    "        dir_name = \"{0}worker_rand{1}\".format(Nworker,batch_num)\n",
    "        #print dir_name\n",
    "        os.chdir(\"sample/\"+dir_name)\n",
    "        # Summarization-Based Method \n",
    "        # Creating 2 empty precision recall table containing P,R for each metric used \n",
    "        cols = [u'Num Points',u'Area Ratio',u'Jaccard [Self]', u'Precision [Self]', u'Recall [Self]']\n",
    "\n",
    "        precision_df = pd.DataFrame(index=object_lst,columns=cols)\n",
    "        recall_df = pd.DataFrame(index=object_lst,columns=cols)\n",
    "\n",
    "        df.ix[df[\"Precision [Self]\"]>1,\"Precision [Self]\"]=1\n",
    "        df.ix[df[\"Recall [Self]\"]>1,\"Recall [Self]\"]=1\n",
    "        df = df[~(df[\"worker_id\"].isin([1,2,3]))] #Filter our ground truth workers\n",
    "        for attr in precision_df.keys():\n",
    "            tbl=[]\n",
    "            for objid in object_lst:\n",
    "                workers=pkl.load(open(\"worker{}.pkl\".format(objid)))\n",
    "                filtered_df = df[(df[\"worker_id\"].isin(workers))&(df[\"object_id\"]==objid)] #only look at summarization scores of sampled workers\n",
    "                best_worker_BB = filtered_df[filtered_df[attr]==filtered_df[attr].max()]\n",
    "                tbl.append([objid,best_worker_BB[\"Precision [Self]\"].values[0],best_worker_BB[\"Recall [Self]\"].values[0]])\n",
    "            PR_tbl = pd.DataFrame(tbl,columns=[\"objid\",\"Precision\",\"Recall\"])\n",
    "            precision_df[attr]=PR_tbl[\"Precision\"]\n",
    "            recall_df[attr]=PR_tbl[\"Recall\"]\n",
    "        precision_df.to_csv(\"precision_df.csv\")\n",
    "        recall_df.to_csv(\"recall_df.csv\")\n",
    "        os.chdir(\"../..\")"
   ]
  },
  {
   "cell_type": "code",
   "execution_count": 93,
   "metadata": {
    "collapsed": false
   },
   "outputs": [
    {
     "data": {
      "text/plain": [
       "u'/Users/dorislee/Desktop/Research/seg/crowd-seg/analysis/TileEM/sample'"
      ]
     },
     "execution_count": 93,
     "metadata": {},
     "output_type": "execute_result"
    }
   ],
   "source": [
    "pwd"
   ]
  },
  {
   "cell_type": "code",
   "execution_count": 96,
   "metadata": {
    "collapsed": true
   },
   "outputs": [],
   "source": [
    "visionPR = pd.read_csv(\"../../Image-Segmentation/Vision-stuff/vision-baseline/PR.csv\")"
   ]
  },
  {
   "cell_type": "code",
   "execution_count": 97,
   "metadata": {
    "collapsed": true
   },
   "outputs": [],
   "source": [
    "precision_df[\"Vision\"] = visionPR[\"precision\"]\n",
    "recall_df[\"Vision\"] = visionPR[\"recall\"]"
   ]
  },
  {
   "cell_type": "code",
   "execution_count": 101,
   "metadata": {
    "collapsed": false
   },
   "outputs": [
    {
     "data": {
      "text/plain": [
       "Num Points          0.707535\n",
       "Area Ratio          0.559025\n",
       "Jaccard [Self]      0.954470\n",
       "Precision [Self]    0.979881\n",
       "Recall [Self]       0.729465\n",
       "Vision              0.905204\n",
       "dtype: float64"
      ]
     },
     "execution_count": 101,
     "metadata": {},
     "output_type": "execute_result"
    }
   ],
   "source": [
    "precision_df.mean()"
   ]
  },
  {
   "cell_type": "code",
   "execution_count": 99,
   "metadata": {
    "collapsed": false
   },
   "outputs": [
    {
     "data": {
      "text/plain": [
       "Num Points          0.843395\n",
       "Area Ratio          0.870589\n",
       "Jaccard [Self]      0.950287\n",
       "Precision [Self]    0.757573\n",
       "Recall [Self]       0.989135\n",
       "Vision              0.736919\n",
       "dtype: float64"
      ]
     },
     "execution_count": 99,
     "metadata": {},
     "output_type": "execute_result"
    }
   ],
   "source": [
    "recall_df.mean()"
   ]
  },
  {
   "cell_type": "code",
   "execution_count": 103,
   "metadata": {
    "collapsed": true
   },
   "outputs": [],
   "source": [
    "from tabulate import tabulate"
   ]
  },
  {
   "cell_type": "code",
   "execution_count": 134,
   "metadata": {
    "collapsed": false
   },
   "outputs": [
    {
     "name": "stdout",
     "output_type": "stream",
     "text": [
      "[[0.70753547589361709, 0.5590247110212766, 0.95446982951063797, 0.97988143444680853, 0.72946534988747957, 0.90520449921850243], [0.84339502145744694, 0.87058918721276601, 0.95028722610638316, 0.75757326877912845, 0.98913499846808495, 0.73691887132975531]]\n"
     ]
    }
   ],
   "source": [
    "print [list(precision_df.mean().as_matrix()),list(recall_df.mean().as_matrix())]"
   ]
  },
  {
   "cell_type": "code",
   "execution_count": 143,
   "metadata": {
    "collapsed": true
   },
   "outputs": [],
   "source": [
    "tbl = pd.DataFrame([list(precision_df.mean().as_matrix()),list(recall_df.mean().as_matrix())],columns=precision_df.keys(),index=[\"Precision\",\"Recall\"])"
   ]
  },
  {
   "cell_type": "code",
   "execution_count": 146,
   "metadata": {
    "collapsed": false
   },
   "outputs": [
    {
     "data": {
      "text/html": [
       "<div>\n",
       "<table border=\"1\" class=\"dataframe\">\n",
       "  <thead>\n",
       "    <tr style=\"text-align: right;\">\n",
       "      <th></th>\n",
       "      <th>Num Points</th>\n",
       "      <th>Area Ratio</th>\n",
       "      <th>Jaccard [Self]</th>\n",
       "      <th>Precision [Self]</th>\n",
       "      <th>Recall [Self]</th>\n",
       "      <th>Vision</th>\n",
       "    </tr>\n",
       "  </thead>\n",
       "  <tbody>\n",
       "    <tr>\n",
       "      <th>Precision</th>\n",
       "      <td>0.707535</td>\n",
       "      <td>0.559025</td>\n",
       "      <td>0.954470</td>\n",
       "      <td>0.979881</td>\n",
       "      <td>0.729465</td>\n",
       "      <td>0.905204</td>\n",
       "    </tr>\n",
       "    <tr>\n",
       "      <th>Recall</th>\n",
       "      <td>0.843395</td>\n",
       "      <td>0.870589</td>\n",
       "      <td>0.950287</td>\n",
       "      <td>0.757573</td>\n",
       "      <td>0.989135</td>\n",
       "      <td>0.736919</td>\n",
       "    </tr>\n",
       "  </tbody>\n",
       "</table>\n",
       "</div>"
      ],
      "text/plain": [
       "           Num Points  Area Ratio  Jaccard [Self]  Precision [Self]  \\\n",
       "Precision    0.707535    0.559025        0.954470          0.979881   \n",
       "Recall       0.843395    0.870589        0.950287          0.757573   \n",
       "\n",
       "           Recall [Self]    Vision  \n",
       "Precision       0.729465  0.905204  \n",
       "Recall          0.989135  0.736919  "
      ]
     },
     "execution_count": 146,
     "metadata": {},
     "output_type": "execute_result"
    }
   ],
   "source": [
    "tbl"
   ]
  },
  {
   "cell_type": "code",
   "execution_count": 144,
   "metadata": {
    "collapsed": true
   },
   "outputs": [],
   "source": [
    "# keys = list(precision_df.keys())\n",
    "# keys.insert(0,\"Metric\")\n",
    "# p_lst = list(precision_df.mean().as_matrix())\n",
    "# p_lst.insert(0,\"Precision\")\n",
    "# r_lst = list(recall_df.mean().as_matrix())\n",
    "# r_lst.insert(0,\"Recall\")\n",
    "# tbl=[keys,p_lst,r_lst]\n",
    "# print tabulate(tbl,tablefmt='latex',floatfmt='.2f')"
   ]
  },
  {
   "cell_type": "code",
   "execution_count": 123,
   "metadata": {
    "collapsed": true
   },
   "outputs": [],
   "source": [
    "# tabulate(grouped_ji_fit[idx],showindex=\"False\",headers='keys',tablefmt='latex',floatfmt='.2f')"
   ]
  },
  {
   "cell_type": "code",
   "execution_count": 147,
   "metadata": {
    "collapsed": false
   },
   "outputs": [
    {
     "name": "stdout",
     "output_type": "stream",
     "text": [
      "\\begin{tabular}{lrrrrrr}\n",
      "\\hline\n",
      "           &   Num Points &   Area Ratio &   Jaccard [Self] &   Precision [Self] &   Recall [Self] &   Vision \\\\\n",
      "\\hline\n",
      " Precision &         0.71 &         0.56 &             0.95 &               0.98 &            0.73 &     0.91 \\\\\n",
      " Recall    &         0.84 &         0.87 &             0.95 &               0.76 &            0.99 &     0.74 \\\\\n",
      "\\hline\n",
      "\\end{tabular}\n"
     ]
    }
   ],
   "source": [
    "print tabulate(tbl,tablefmt='latex',headers='keys',floatfmt='.2f')"
   ]
  },
  {
   "cell_type": "markdown",
   "metadata": {},
   "source": [
    "# Need to modify so that these are computed based on the selected sampled workers!"
   ]
  },
  {
   "cell_type": "code",
   "execution_count": null,
   "metadata": {
    "collapsed": true
   },
   "outputs": [],
   "source": []
  }
 ],
 "metadata": {
  "kernelspec": {
   "display_name": "Python 2",
   "language": "python",
   "name": "python2"
  },
  "language_info": {
   "codemirror_mode": {
    "name": "ipython",
    "version": 2
   },
   "file_extension": ".py",
   "mimetype": "text/x-python",
   "name": "python",
   "nbconvert_exporter": "python",
   "pygments_lexer": "ipython2",
   "version": "2.7.10"
  }
 },
 "nbformat": 4,
 "nbformat_minor": 1
}
