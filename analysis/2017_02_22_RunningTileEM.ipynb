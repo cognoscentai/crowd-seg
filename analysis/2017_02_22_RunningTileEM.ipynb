{
 "cells": [
  {
   "cell_type": "code",
   "execution_count": 1,
   "metadata": {
    "collapsed": false
   },
   "outputs": [
    {
     "name": "stdout",
     "output_type": "stream",
     "text": [
      "Populating the interactive namespace from numpy and matplotlib\n"
     ]
    }
   ],
   "source": [
    "%pylab inline\n",
    "from BB2tile import *"
   ]
  },
  {
   "cell_type": "code",
   "execution_count": 2,
   "metadata": {
    "collapsed": false
   },
   "outputs": [],
   "source": [
    "# objIndicatorMat = createObjIndicatorMatrix(46)\n",
    "# sanity_check(objIndicatorMat)"
   ]
  },
  {
   "cell_type": "code",
   "execution_count": 3,
   "metadata": {
    "collapsed": true
   },
   "outputs": [],
   "source": [
    "from analysis_toolbox import *\n",
    "from qualityBaseline import *\n",
    "img_info,object_tbl,bb_info,hit_info = load_info()\n",
    "obj_lst = list(set(object_tbl.object_id))"
   ]
  },
  {
   "cell_type": "code",
   "execution_count": 4,
   "metadata": {
    "collapsed": false
   },
   "outputs": [
    {
     "name": "stdout",
     "output_type": "stream",
     "text": [
      "/Users/dorislee/Desktop/Research/seg/crowd-seg/analysis\n"
     ]
    }
   ],
   "source": [
    "cd ../../BoundingBoxArchive/Code/"
   ]
  },
  {
   "cell_type": "code",
   "execution_count": 5,
   "metadata": {
    "collapsed": true
   },
   "outputs": [],
   "source": [
    "from greedy import *\n",
    "from data import *\n",
    "from experiment import *\n",
    "import pandas as pd "
   ]
  },
  {
   "cell_type": "code",
   "execution_count": 6,
   "metadata": {
    "collapsed": false
   },
   "outputs": [],
   "source": [
    "objIndicatorMat = createObjIndicatorMatrix(46)"
   ]
  },
  {
   "cell_type": "code",
   "execution_count": 7,
   "metadata": {
    "collapsed": true
   },
   "outputs": [],
   "source": [
    "annotator_lst = gen_data2(objIndicatorMat)"
   ]
  },
  {
   "cell_type": "code",
   "execution_count": 8,
   "metadata": {
    "collapsed": false
   },
   "outputs": [],
   "source": [
    "annotator = annotator_lst[0]"
   ]
  },
  {
   "cell_type": "code",
   "execution_count": 10,
   "metadata": {
    "collapsed": false
   },
   "outputs": [
    {
     "data": {
      "text/plain": [
       "131"
      ]
     },
     "execution_count": 10,
     "metadata": {},
     "output_type": "execute_result"
    }
   ],
   "source": [
    "annotator.regions.size"
   ]
  },
  {
   "cell_type": "markdown",
   "metadata": {},
   "source": [
    "Annotator regions are simply areas of all tiles of that object"
   ]
  },
  {
   "cell_type": "code",
   "execution_count": 10,
   "metadata": {
    "collapsed": true
   },
   "outputs": [],
   "source": [
    "raw_data = objIndicatorMat"
   ]
  },
  {
   "cell_type": "code",
   "execution_count": null,
   "metadata": {
    "collapsed": false
   },
   "outputs": [],
   "source": [
    "T, L, solutionList = experiment_exhaustive(1, raw_data)\n",
    "print \"Exhaustive Search Completed\"\n",
    "print \"--------------------------\"\n",
    "print \"Solution list is \" + str(solutionList)\n",
    "print \"Log-likelihood is \" + str(np.log(max(L)))\n",
    "print \"Area is \" + str(T[L.index(max(L))])\n",
    "print \"---------------------------*---------------*--------------------------------\"\n"
   ]
  },
  {
   "cell_type": "markdown",
   "metadata": {},
   "source": [
    "##### Local search takes a long time (2+hr unfinished)"
   ]
  },
  {
   "cell_type": "code",
   "execution_count": null,
   "metadata": {
    "collapsed": false
   },
   "outputs": [],
   "source": [
    "T, L, solutionList = experiment_local(1, raw_data)\n",
    "print \"Local Search Completed\"\n",
    "print \"--------------------------\"\n",
    "print \"Solution list is \" + str(solutionList)\n",
    "print \"Log-likelihood is \" + str(np.log(L))\n",
    "print \"Area is \" + str(T)\n",
    "print \"---------------------------*---------------*--------------------------------\""
   ]
  },
  {
   "cell_type": "code",
   "execution_count": 21,
   "metadata": {
    "collapsed": false
   },
   "outputs": [
    {
     "name": "stdout",
     "output_type": "stream",
     "text": [
      "Starting Median Experiment with T value 10.2\n",
      "--------------------------\n",
      "Median Solution Completed\n",
      "--------------------------\n",
      "Solution list is [20, 22, 32, 36, 39, 42, 44, 45, 48, 50, 52, 53, 54, 55, 56, 58, 59, 60, 61, 66, 67, 68, 69, 70, 71, 73, 76, 79, 81, 83, 85, 86, 87, 88, 89, 90, 91, 92, 93, 94, 95, 96, 97, 98, 99, 100, 101, 103, 104, 105, 106, 110, 111, 113, 114, 115, 116, 118, 119, 121, 122, 123, 124, 125, 126, 127, 128, 129, 6, 9, 10, 11, 12, 13, 15, 16, 19, 23, 24, 28, 31, 33, 35, 37, 49, 63, 109]\n",
      "Log-likelihood is inf\n",
      "Area is 10.2\n",
      "---------------------------*---------------*--------------------------------\n"
     ]
    }
   ],
   "source": [
    "T, L, solutionList = experiment_median(raw_data)\n",
    "print \"Median Solution Completed\"\n",
    "print \"--------------------------\"\n",
    "print \"Solution list is \" + str(solutionList)\n",
    "print \"Log-likelihood is \" + str(np.log(L))\n",
    "print \"Area is \" + str(T)\n",
    "print \"---------------------------*---------------*--------------------------------\""
   ]
  },
  {
   "cell_type": "code",
   "execution_count": 22,
   "metadata": {
    "collapsed": false
   },
   "outputs": [
    {
     "name": "stdout",
     "output_type": "stream",
     "text": [
      "Starting Average Experiment with T value 6.26341463415\n",
      "--------------------------\n",
      "Average Solution Completed\n",
      "--------------------------\n",
      "Solution list is [20, 22, 32, 36, 39, 42, 44, 45, 48, 50, 52, 53, 54, 55, 56, 58, 59, 60, 61, 66, 67, 68, 69, 70, 71, 73, 76, 79, 81, 83, 85, 86, 87, 88, 89, 90, 91, 92, 93, 94, 95, 96, 97, 98, 99, 100, 101, 103, 104, 105, 106, 110, 111, 113, 114, 115, 116, 118, 119, 121, 122, 123, 124, 125, 126, 127, 128, 129, 6, 9, 10, 11, 12, 13, 15, 16, 19, 23, 24, 28, 31, 33, 35, 37, 49, 63, 109]\n",
      "Log-likelihood is inf\n",
      "Area is 6.26341463415\n",
      "---------------------------*---------------*--------------------------------\n",
      "**************************\n"
     ]
    }
   ],
   "source": [
    "T, L, solutionList = experiment_avg(raw_data)\n",
    "print \"Average Solution Completed\"\n",
    "print \"--------------------------\"\n",
    "print \"Solution list is \" + str(solutionList)\n",
    "print \"Log-likelihood is \" + str(np.log(L))\n",
    "print \"Area is \" + str(T)\n",
    "print \"---------------------------*---------------*--------------------------------\"\n",
    "\n",
    "print \"**************************\""
   ]
  },
  {
   "cell_type": "code",
   "execution_count": null,
   "metadata": {
    "collapsed": true
   },
   "outputs": [],
   "source": []
  }
 ],
 "metadata": {
  "kernelspec": {
   "display_name": "Python 2",
   "language": "python",
   "name": "python2"
  },
  "language_info": {
   "codemirror_mode": {
    "name": "ipython",
    "version": 2
   },
   "file_extension": ".py",
   "mimetype": "text/x-python",
   "name": "python",
   "nbconvert_exporter": "python",
   "pygments_lexer": "ipython2",
   "version": "2.7.10"
  }
 },
 "nbformat": 4,
 "nbformat_minor": 0
}
