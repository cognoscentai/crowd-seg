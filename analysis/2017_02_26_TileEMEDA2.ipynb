{
 "cells": [
  {
   "cell_type": "code",
   "execution_count": 1,
   "metadata": {
    "collapsed": false
   },
   "outputs": [],
   "source": [
    "cd TileEM/"
   ]
  },
  {
   "cell_type": "code",
   "execution_count": 2,
   "metadata": {
    "collapsed": false
   },
   "outputs": [
    {
     "name": "stdout",
     "output_type": "stream",
     "text": [
      "Populating the interactive namespace from numpy and matplotlib\n"
     ]
    }
   ],
   "source": [
    "%pylab inline\n",
    "from BB2tile import *\n",
    "# from dataset import Dataset"
   ]
  },
  {
   "cell_type": "markdown",
   "metadata": {},
   "source": [
    "throw away worker responses that contain all-zero rrows (they probably did not draw any important region since nothing they drew agreed with others )"
   ]
  },
  {
   "cell_type": "code",
   "execution_count": 3,
   "metadata": {
    "collapsed": false
   },
   "outputs": [
    {
     "ename": "NameError",
     "evalue": "name 'objIndicatorMat' is not defined",
     "output_type": "error",
     "traceback": [
      "\u001b[0;31m---------------------------------------------------------------------------\u001b[0m",
      "\u001b[0;31mNameError\u001b[0m                                 Traceback (most recent call last)",
      "\u001b[0;32m<ipython-input-3-4419fb66c3ca>\u001b[0m in \u001b[0;36m<module>\u001b[0;34m()\u001b[0m\n\u001b[0;32m----> 1\u001b[0;31m \u001b[0mshape\u001b[0m\u001b[0;34m(\u001b[0m\u001b[0mobjIndicatorMat\u001b[0m\u001b[0;34m)\u001b[0m\u001b[0;34m\u001b[0m\u001b[0m\n\u001b[0m",
      "\u001b[0;31mNameError\u001b[0m: name 'objIndicatorMat' is not defined"
     ]
    }
   ],
   "source": [
    "shape(objIndicatorMat)"
   ]
  },
  {
   "cell_type": "code",
   "execution_count": 7,
   "metadata": {
    "collapsed": false
   },
   "outputs": [
    {
     "name": "stdout",
     "output_type": "stream",
     "text": [
      "Number of non-overlapping tile regions (M) :  0\n",
      "Number of workers (N) :  0\n",
      "Check that there are no all-zero rows in indicator matrix: True\n"
     ]
    },
    {
     "ename": "IndexError",
     "evalue": "index -1 is out of bounds for axis 0 with size 0",
     "output_type": "error",
     "traceback": [
      "\u001b[0;31m---------------------------------------------------------------------------\u001b[0m",
      "\u001b[0;31mIndexError\u001b[0m                                Traceback (most recent call last)",
      "\u001b[0;32m<ipython-input-7-76140b433b2e>\u001b[0m in \u001b[0;36m<module>\u001b[0;34m()\u001b[0m\n\u001b[1;32m      1\u001b[0m \u001b[0mobject_id\u001b[0m \u001b[0;34m=\u001b[0m \u001b[0;36m1\u001b[0m\u001b[0;34m\u001b[0m\u001b[0m\n\u001b[1;32m      2\u001b[0m \u001b[0mtiles\u001b[0m\u001b[0;34m,\u001b[0m \u001b[0mobjIndicatorMat\u001b[0m \u001b[0;34m=\u001b[0m \u001b[0mcreateObjIndicatorMatrix\u001b[0m\u001b[0;34m(\u001b[0m\u001b[0mobject_id\u001b[0m\u001b[0;34m,\u001b[0m\u001b[0msampleNworkers\u001b[0m\u001b[0;34m=\u001b[0m\u001b[0;36m40\u001b[0m\u001b[0;34m,\u001b[0m\u001b[0mPRINT\u001b[0m\u001b[0;34m=\u001b[0m\u001b[0mTrue\u001b[0m\u001b[0;34m)\u001b[0m\u001b[0;34m\u001b[0m\u001b[0m\n\u001b[0;32m----> 3\u001b[0;31m \u001b[0msanity_check\u001b[0m\u001b[0;34m(\u001b[0m\u001b[0mobjIndicatorMat\u001b[0m\u001b[0;34m)\u001b[0m\u001b[0;34m\u001b[0m\u001b[0m\n\u001b[0m",
      "\u001b[0;32mBB2tile.pyc\u001b[0m in \u001b[0;36msanity_check\u001b[0;34m(indicator_matrix)\u001b[0m\n",
      "\u001b[0;31mIndexError\u001b[0m: index -1 is out of bounds for axis 0 with size 0"
     ]
    },
    {
     "data": {
      "image/png": "[encoded data removed]",
      "text/plain": [
       "<matplotlib.figure.Figure at 0x1097014d0>"
      ]
     },
     "metadata": {},
     "output_type": "display_data"
    }
   ],
   "source": [
    "object_id = 1\n",
    "tiles, objIndicatorMat = createObjIndicatorMatrix(object_id,sampleNworkers=40,PRINT=True)\n",
    "sanity_check(objIndicatorMat)"
   ]
  },
  {
   "cell_type": "code",
   "execution_count": 6,
   "metadata": {
    "collapsed": false
   },
   "outputs": [
    {
     "name": "stdout",
     "output_type": "stream",
     "text": [
      "Number of non-overlapping tile regions (M) :  101\n",
      "Number of workers (N) :  40\n",
      "Check that there are no all-zero rows in indicator matrix: True\n"
     ]
    },
    {
     "data": {
      "image/png": "[encoded data removed]",
      "text/plain": [
       "<matplotlib.figure.Figure at 0x1097c5850>"
      ]
     },
     "metadata": {},
     "output_type": "display_data"
    },
    {
     "data": {
      "image/png": "[encoded data removed]",
      "text/plain": [
       "<matplotlib.figure.Figure at 0x106f22810>"
      ]
     },
     "metadata": {},
     "output_type": "display_data"
    }
   ],
   "source": [
    "object_id = 38\n",
    "tiles, objIndicatorMat = createObjIndicatorMatrix(object_id,sampleNworkers=40,PRINT=True)\n",
    "sanity_check(objIndicatorMat)"
   ]
  },
  {
   "cell_type": "code",
   "execution_count": 6,
   "metadata": {
    "collapsed": false
   },
   "outputs": [],
   "source": [
    "arr = np.diag([1,2,3])"
   ]
  },
  {
   "cell_type": "code",
   "execution_count": 10,
   "metadata": {
    "collapsed": false
   },
   "outputs": [
    {
     "data": {
      "text/plain": [
       "array([[1, 0, 0],\n",
       "       [0, 2, 0],\n",
       "       [0, 0, 3]])"
      ]
     },
     "execution_count": 10,
     "metadata": {},
     "output_type": "execute_result"
    }
   ],
   "source": [
    "arr"
   ]
  },
  {
   "cell_type": "code",
   "execution_count": 15,
   "metadata": {
    "collapsed": true
   },
   "outputs": [],
   "source": [
    "l = [1,2,3]"
   ]
  },
  {
   "cell_type": "code",
   "execution_count": 22,
   "metadata": {
    "collapsed": true
   },
   "outputs": [],
   "source": [
    "delete_tile_idx=[0]"
   ]
  },
  {
   "cell_type": "code",
   "execution_count": 23,
   "metadata": {
    "collapsed": false
   },
   "outputs": [],
   "source": [
    "for i in delete_tile_idx:l.pop(i)"
   ]
  },
  {
   "cell_type": "code",
   "execution_count": 24,
   "metadata": {
    "collapsed": false
   },
   "outputs": [
    {
     "data": {
      "text/plain": [
       "[2, 3]"
      ]
     },
     "execution_count": 24,
     "metadata": {},
     "output_type": "execute_result"
    }
   ],
   "source": [
    "l"
   ]
  },
  {
   "cell_type": "code",
   "execution_count": 14,
   "metadata": {
    "collapsed": false
   },
   "outputs": [
    {
     "data": {
      "text/plain": [
       "array([[0],\n",
       "       [2],\n",
       "       [0]])"
      ]
     },
     "execution_count": 14,
     "metadata": {},
     "output_type": "execute_result"
    }
   ],
   "source": [
    "np.delete(arr,(0,2),axis=1)"
   ]
  },
  {
   "cell_type": "code",
   "execution_count": 31,
   "metadata": {
    "collapsed": false
   },
   "outputs": [
    {
     "data": {
      "text/plain": [
       "(array([], dtype=int64),)"
      ]
     },
     "execution_count": 31,
     "metadata": {},
     "output_type": "execute_result"
    }
   ],
   "source": [
    "np.where(np.sum(objIndicatorMat,axis=1)==0)"
   ]
  },
  {
   "cell_type": "code",
   "execution_count": 27,
   "metadata": {
    "collapsed": false
   },
   "outputs": [
    {
     "name": "stdout",
     "output_type": "stream",
     "text": [
      "Number of non-overlapping tile regions (M) :  118\n",
      "Number of workers (N) :  10\n",
      "39523.42\n",
      "4.82\n",
      "2.62\n",
      "2.62\n",
      "0.82\n",
      "0.22\n",
      "0.02\n",
      "0.22\n",
      "0.42\n",
      "0.82\n",
      "0.22\n",
      "4.22\n",
      "4.22\n",
      "0.02\n",
      "0.02\n",
      "0.02\n",
      "0.02\n",
      "0.02\n",
      "0.02\n",
      "0.02\n",
      "0.22\n",
      "0.02\n",
      "0.02\n",
      "13.22\n",
      "1.42\n",
      "0.22\n",
      "0.62\n",
      "0.42\n",
      "6.02\n",
      "2.42\n",
      "0.22\n",
      "0.02\n",
      "17.42\n",
      "8.62\n",
      "0.02\n",
      "1.02\n",
      "0.22\n",
      "0.02\n",
      "0.22\n",
      "8.22\n",
      "6.22\n",
      "2.82\n",
      "36.22\n",
      "34.02\n",
      "0.82\n",
      "0.22\n",
      "20.62\n",
      "74.82\n",
      "135.42\n",
      "0.42\n",
      "5.02\n",
      "1.22\n",
      "0.62\n",
      "0.62\n",
      "6.22\n",
      "0.02\n",
      "0.02\n",
      "2.42\n",
      "0.22\n",
      "0.22\n",
      "0.42\n",
      "8.62\n",
      "0.02\n",
      "1.42\n",
      "0.02\n",
      "4.62\n",
      "178.02\n",
      "0.02\n",
      "51.22\n",
      "0.02\n",
      "55.22\n",
      "0.22\n",
      "0.02\n",
      "6.02\n",
      "57.22\n",
      "0.22\n",
      "0.22\n",
      "0.42\n",
      "3.62\n",
      "22.22\n",
      "0.82\n",
      "43.42\n",
      "0.42\n",
      "41.42\n",
      "1.02\n",
      "3.62\n",
      "12.22\n",
      "1.82\n",
      "54.42\n",
      "0.02\n",
      "0.22\n",
      "1.62\n",
      "0.42\n",
      "4.22\n",
      "0.42\n",
      "0.62\n",
      "0.22\n",
      "18.62\n",
      "0.62\n",
      "1.02\n",
      "8.22\n",
      "10.82\n",
      "7.42\n",
      "118.82\n",
      "10.02\n",
      "47.22\n",
      "0.42\n",
      "0.42\n",
      "0.22\n",
      "0.22\n",
      "1.02\n",
      "0.42\n",
      "65.62\n",
      "0.02\n",
      "31.02\n",
      "0.02\n",
      "2.62\n",
      "36675.62\n",
      "[4, 5, 6, 7, 8, 9, 10, 13, 14, 15, 16, 17, 18, 19, 20, 21, 22, 25, 26, 27, 30, 31, 34, 36, 37, 38, 44, 45, 49, 52, 53, 55, 56, 58, 59, 60, 62, 64, 67, 69, 71, 72, 75, 76, 77, 80, 82, 89, 90, 92, 94, 95, 96, 98, 106, 107, 108, 109, 111, 113, 115]\n",
      "2.62\n",
      "deleted tile # 2\n",
      "Check that there are no all-zero rows in indicator matrix: True\n"
     ]
    },
    {
     "data": {
      "image/png": "[encoded data removed]",
      "text/plain": [
       "<matplotlib.figure.Figure at 0x113de70d0>"
      ]
     },
     "metadata": {},
     "output_type": "display_data"
    },
    {
     "data": {
      "image/png": "[encoded data removed]",
      "text/plain": [
       "<matplotlib.figure.Figure at 0x113f150d0>"
      ]
     },
     "metadata": {},
     "output_type": "display_data"
    }
   ],
   "source": [
    "object_id = 38\n",
    "tiles, objIndicatorMat = createObjIndicatorMatrix(object_id,sampleNworkers=10,PRINT=True)\n",
    "sanity_check(objIndicatorMat)"
   ]
  },
  {
   "cell_type": "code",
   "execution_count": 3,
   "metadata": {
    "collapsed": false
   },
   "outputs": [
    {
     "ename": "NameError",
     "evalue": "name 'objIndicatorMat' is not defined",
     "output_type": "error",
     "traceback": [
      "\u001b[0;31m---------------------------------------------------------------------------\u001b[0m",
      "\u001b[0;31mNameError\u001b[0m                                 Traceback (most recent call last)",
      "\u001b[0;32m<ipython-input-3-19584c26e1d7>\u001b[0m in \u001b[0;36m<module>\u001b[0;34m()\u001b[0m\n\u001b[0;32m----> 1\u001b[0;31m \u001b[0mnp\u001b[0m\u001b[0;34m.\u001b[0m\u001b[0mwhere\u001b[0m\u001b[0;34m(\u001b[0m\u001b[0mnp\u001b[0m\u001b[0;34m.\u001b[0m\u001b[0msum\u001b[0m\u001b[0;34m(\u001b[0m\u001b[0mobjIndicatorMat\u001b[0m\u001b[0;34m,\u001b[0m\u001b[0maxis\u001b[0m\u001b[0;34m=\u001b[0m\u001b[0;36m1\u001b[0m\u001b[0;34m)\u001b[0m\u001b[0;34m==\u001b[0m\u001b[0;36m0\u001b[0m\u001b[0;34m)\u001b[0m\u001b[0;34m[\u001b[0m\u001b[0;36m0\u001b[0m\u001b[0;34m]\u001b[0m\u001b[0;34m\u001b[0m\u001b[0m\n\u001b[0m",
      "\u001b[0;31mNameError\u001b[0m: name 'objIndicatorMat' is not defined"
     ]
    }
   ],
   "source": [
    "np.where(np.sum(objIndicatorMat,axis=1)==0)[0]"
   ]
  },
  {
   "cell_type": "code",
   "execution_count": null,
   "metadata": {
    "collapsed": false
   },
   "outputs": [],
   "source": [
    "len(np.where(np.sum(objIndicatorMat,axis=1)==0)[0])==0"
   ]
  },
  {
   "cell_type": "code",
   "execution_count": 3,
   "metadata": {
    "collapsed": false
   },
   "outputs": [],
   "source": [
    "# Generate M regions; Each region belongs to k annotators of a total of N\n",
    "TestSet = SimulateSingleObject(N=10,M=50,IntersectionArea=10,MaxAreaOfOtherRegions=100)\n",
    "TestSet.createNewMapping()"
   ]
  },
  {
   "cell_type": "code",
   "execution_count": 4,
   "metadata": {
    "collapsed": false
   },
   "outputs": [],
   "source": [
    "ind = np.array(gen_data(10,100,10,100,10,100))"
   ]
  },
  {
   "cell_type": "code",
   "execution_count": 5,
   "metadata": {
    "collapsed": false
   },
   "outputs": [
    {
     "data": {
      "text/plain": [
       "array([[ 0,  0,  1, ...,  1,  1,  1],\n",
       "       [ 0,  1,  1, ...,  1,  1,  1],\n",
       "       [ 1,  1,  0, ...,  1,  1,  1],\n",
       "       ..., \n",
       "       [ 0,  0,  0, ...,  0,  0,  0],\n",
       "       [ 1,  1,  1, ...,  1,  1,  1],\n",
       "       [35, 43, 90, ..., 95, 21, 79]])"
      ]
     },
     "execution_count": 5,
     "metadata": {},
     "output_type": "execute_result"
    }
   ],
   "source": [
    "ind"
   ]
  },
  {
   "cell_type": "code",
   "execution_count": 7,
   "metadata": {
    "collapsed": false
   },
   "outputs": [
    {
     "name": "stdout",
     "output_type": "stream",
     "text": [
      "Check that there are no all-zero rows in indicator matrix: True\n"
     ]
    },
    {
     "data": {
      "image/png": "[encoded data removed]",
      "text/plain": [
       "<matplotlib.figure.Figure at 0x1126ecc10>"
      ]
     },
     "metadata": {},
     "output_type": "display_data"
    },
    {
     "data": {
      "image/png": "[encoded data removed]",
      "text/plain": [
       "<matplotlib.figure.Figure at 0x112851e90>"
      ]
     },
     "metadata": {},
     "output_type": "display_data"
    }
   ],
   "source": [
    "sanity_check(ind)"
   ]
  },
  {
   "cell_type": "code",
   "execution_count": 3,
   "metadata": {
    "collapsed": false
   },
   "outputs": [
    {
     "name": "stdout",
     "output_type": "stream",
     "text": [
      "Number of non-overlapping tile regions (M) :  118\n",
      "Number of workers (N) :  10\n",
      "2.62\n",
      "0.82\n",
      "Check that there are no all-zero rows in indicator matrix: False\n"
     ]
    },
    {
     "ename": "ValueError",
     "evalue": "Data has no positive values, and therefore can not be log-scaled.",
     "output_type": "error",
     "traceback": [
      "\u001b[0;31m---------------------------------------------------------------------------\u001b[0m",
      "\u001b[0;31mValueError\u001b[0m                                Traceback (most recent call last)",
      "\u001b[0;32m<ipython-input-3-c62915003fe0>\u001b[0m in \u001b[0;36m<module>\u001b[0;34m()\u001b[0m\n\u001b[1;32m      1\u001b[0m \u001b[0mobject_id\u001b[0m \u001b[0;34m=\u001b[0m \u001b[0;36m38\u001b[0m\u001b[0;34m\u001b[0m\u001b[0m\n\u001b[1;32m      2\u001b[0m \u001b[0mtiles\u001b[0m\u001b[0;34m,\u001b[0m \u001b[0mobjIndicatorMat\u001b[0m \u001b[0;34m=\u001b[0m \u001b[0mcreateObjIndicatorMatrix\u001b[0m\u001b[0;34m(\u001b[0m\u001b[0mobject_id\u001b[0m\u001b[0;34m,\u001b[0m\u001b[0msampleNworkers\u001b[0m\u001b[0;34m=\u001b[0m\u001b[0;36m10\u001b[0m\u001b[0;34m,\u001b[0m\u001b[0mPRINT\u001b[0m\u001b[0;34m=\u001b[0m\u001b[0mTrue\u001b[0m\u001b[0;34m)\u001b[0m\u001b[0;34m\u001b[0m\u001b[0m\n\u001b[0;32m----> 3\u001b[0;31m \u001b[0msanity_check\u001b[0m\u001b[0;34m(\u001b[0m\u001b[0mobjIndicatorMat\u001b[0m\u001b[0;34m)\u001b[0m\u001b[0;34m\u001b[0m\u001b[0m\n\u001b[0m",
      "\u001b[0;32mBB2tile.py\u001b[0m in \u001b[0;36msanity_check\u001b[0;34m(indicator_matrix)\u001b[0m\n",
      "\u001b[0;32m/Users/dorislee/.virtualenvs/py27dev/lib/python2.7/site-packages/matplotlib/pyplot.pyc\u001b[0m in \u001b[0;36msemilogy\u001b[0;34m(*args, **kwargs)\u001b[0m\n\u001b[1;32m   3121\u001b[0m         \u001b[0max\u001b[0m\u001b[0;34m.\u001b[0m\u001b[0mhold\u001b[0m\u001b[0;34m(\u001b[0m\u001b[0mhold\u001b[0m\u001b[0;34m)\u001b[0m\u001b[0;34m\u001b[0m\u001b[0m\n\u001b[1;32m   3122\u001b[0m     \u001b[0;32mtry\u001b[0m\u001b[0;34m:\u001b[0m\u001b[0;34m\u001b[0m\u001b[0m\n\u001b[0;32m-> 3123\u001b[0;31m         \u001b[0mret\u001b[0m \u001b[0;34m=\u001b[0m \u001b[0max\u001b[0m\u001b[0;34m.\u001b[0m\u001b[0msemilogy\u001b[0m\u001b[0;34m(\u001b[0m\u001b[0;34m*\u001b[0m\u001b[0margs\u001b[0m\u001b[0;34m,\u001b[0m \u001b[0;34m**\u001b[0m\u001b[0mkwargs\u001b[0m\u001b[0;34m)\u001b[0m\u001b[0;34m\u001b[0m\u001b[0m\n\u001b[0m\u001b[1;32m   3124\u001b[0m         \u001b[0mdraw_if_interactive\u001b[0m\u001b[0;34m(\u001b[0m\u001b[0;34m)\u001b[0m\u001b[0;34m\u001b[0m\u001b[0m\n\u001b[1;32m   3125\u001b[0m     \u001b[0;32mfinally\u001b[0m\u001b[0;34m:\u001b[0m\u001b[0;34m\u001b[0m\u001b[0m\n",
      "\u001b[0;32m/Users/dorislee/.virtualenvs/py27dev/lib/python2.7/site-packages/matplotlib/axes.pyc\u001b[0m in \u001b[0;36msemilogy\u001b[0;34m(self, *args, **kwargs)\u001b[0m\n\u001b[1;32m   4375\u001b[0m         \u001b[0mb\u001b[0m \u001b[0;34m=\u001b[0m \u001b[0mself\u001b[0m\u001b[0;34m.\u001b[0m\u001b[0m_hold\u001b[0m\u001b[0;34m\u001b[0m\u001b[0m\n\u001b[1;32m   4376\u001b[0m         \u001b[0mself\u001b[0m\u001b[0;34m.\u001b[0m\u001b[0m_hold\u001b[0m \u001b[0;34m=\u001b[0m \u001b[0mTrue\u001b[0m  \u001b[0;31m# we've already processed the hold\u001b[0m\u001b[0;34m\u001b[0m\u001b[0m\n\u001b[0;32m-> 4377\u001b[0;31m         \u001b[0ml\u001b[0m \u001b[0;34m=\u001b[0m \u001b[0mself\u001b[0m\u001b[0;34m.\u001b[0m\u001b[0mplot\u001b[0m\u001b[0;34m(\u001b[0m\u001b[0;34m*\u001b[0m\u001b[0margs\u001b[0m\u001b[0;34m,\u001b[0m \u001b[0;34m**\u001b[0m\u001b[0mkwargs\u001b[0m\u001b[0;34m)\u001b[0m\u001b[0;34m\u001b[0m\u001b[0m\n\u001b[0m\u001b[1;32m   4378\u001b[0m         \u001b[0mself\u001b[0m\u001b[0;34m.\u001b[0m\u001b[0m_hold\u001b[0m \u001b[0;34m=\u001b[0m \u001b[0mb\u001b[0m  \u001b[0;31m# restore the hold\u001b[0m\u001b[0;34m\u001b[0m\u001b[0m\n\u001b[1;32m   4379\u001b[0m \u001b[0;34m\u001b[0m\u001b[0m\n",
      "\u001b[0;32m/Users/dorislee/.virtualenvs/py27dev/lib/python2.7/site-packages/matplotlib/axes.pyc\u001b[0m in \u001b[0;36mplot\u001b[0;34m(self, *args, **kwargs)\u001b[0m\n\u001b[1;32m   4139\u001b[0m             \u001b[0mlines\u001b[0m\u001b[0;34m.\u001b[0m\u001b[0mappend\u001b[0m\u001b[0;34m(\u001b[0m\u001b[0mline\u001b[0m\u001b[0;34m)\u001b[0m\u001b[0;34m\u001b[0m\u001b[0m\n\u001b[1;32m   4140\u001b[0m \u001b[0;34m\u001b[0m\u001b[0m\n\u001b[0;32m-> 4141\u001b[0;31m         \u001b[0mself\u001b[0m\u001b[0;34m.\u001b[0m\u001b[0mautoscale_view\u001b[0m\u001b[0;34m(\u001b[0m\u001b[0mscalex\u001b[0m\u001b[0;34m=\u001b[0m\u001b[0mscalex\u001b[0m\u001b[0;34m,\u001b[0m \u001b[0mscaley\u001b[0m\u001b[0;34m=\u001b[0m\u001b[0mscaley\u001b[0m\u001b[0;34m)\u001b[0m\u001b[0;34m\u001b[0m\u001b[0m\n\u001b[0m\u001b[1;32m   4142\u001b[0m         \u001b[0;32mreturn\u001b[0m \u001b[0mlines\u001b[0m\u001b[0;34m\u001b[0m\u001b[0m\n\u001b[1;32m   4143\u001b[0m \u001b[0;34m\u001b[0m\u001b[0m\n",
      "\u001b[0;32m/Users/dorislee/.virtualenvs/py27dev/lib/python2.7/site-packages/matplotlib/axes.pyc\u001b[0m in \u001b[0;36mautoscale_view\u001b[0;34m(self, tight, scalex, scaley)\u001b[0m\n\u001b[1;32m   1961\u001b[0m                 \u001b[0my1\u001b[0m \u001b[0;34m+=\u001b[0m \u001b[0mdelta\u001b[0m\u001b[0;34m\u001b[0m\u001b[0m\n\u001b[1;32m   1962\u001b[0m             \u001b[0;32mif\u001b[0m \u001b[0;32mnot\u001b[0m \u001b[0m_tight\u001b[0m\u001b[0;34m:\u001b[0m\u001b[0;34m\u001b[0m\u001b[0m\n\u001b[0;32m-> 1963\u001b[0;31m                 \u001b[0my0\u001b[0m\u001b[0;34m,\u001b[0m \u001b[0my1\u001b[0m \u001b[0;34m=\u001b[0m \u001b[0mylocator\u001b[0m\u001b[0;34m.\u001b[0m\u001b[0mview_limits\u001b[0m\u001b[0;34m(\u001b[0m\u001b[0my0\u001b[0m\u001b[0;34m,\u001b[0m \u001b[0my1\u001b[0m\u001b[0;34m)\u001b[0m\u001b[0;34m\u001b[0m\u001b[0m\n\u001b[0m\u001b[1;32m   1964\u001b[0m             \u001b[0mself\u001b[0m\u001b[0;34m.\u001b[0m\u001b[0mset_ybound\u001b[0m\u001b[0;34m(\u001b[0m\u001b[0my0\u001b[0m\u001b[0;34m,\u001b[0m \u001b[0my1\u001b[0m\u001b[0;34m)\u001b[0m\u001b[0;34m\u001b[0m\u001b[0m\n\u001b[1;32m   1965\u001b[0m \u001b[0;34m\u001b[0m\u001b[0m\n",
      "\u001b[0;32m/Users/dorislee/.virtualenvs/py27dev/lib/python2.7/site-packages/matplotlib/ticker.pyc\u001b[0m in \u001b[0;36mview_limits\u001b[0;34m(self, vmin, vmax)\u001b[0m\n\u001b[1;32m   1483\u001b[0m         \u001b[0;32mif\u001b[0m \u001b[0mminpos\u001b[0m \u001b[0;34m<=\u001b[0m \u001b[0;36m0\u001b[0m \u001b[0;32mor\u001b[0m \u001b[0;32mnot\u001b[0m \u001b[0mnp\u001b[0m\u001b[0;34m.\u001b[0m\u001b[0misfinite\u001b[0m\u001b[0;34m(\u001b[0m\u001b[0mminpos\u001b[0m\u001b[0;34m)\u001b[0m\u001b[0;34m:\u001b[0m\u001b[0;34m\u001b[0m\u001b[0m\n\u001b[1;32m   1484\u001b[0m             raise ValueError(\n\u001b[0;32m-> 1485\u001b[0;31m                 \u001b[0;34m\"Data has no positive values, and therefore can not be \"\u001b[0m\u001b[0;34m\u001b[0m\u001b[0m\n\u001b[0m\u001b[1;32m   1486\u001b[0m                 \"log-scaled.\")\n\u001b[1;32m   1487\u001b[0m \u001b[0;34m\u001b[0m\u001b[0m\n",
      "\u001b[0;31mValueError\u001b[0m: Data has no positive values, and therefore can not be log-scaled."
     ]
    },
    {
     "data": {
      "image/png": "[encoded data removed]",
      "text/plain": [
       "<matplotlib.figure.Figure at 0x112768390>"
      ]
     },
     "metadata": {},
     "output_type": "display_data"
    }
   ],
   "source": [
    "object_id = 38\n",
    "tiles, objIndicatorMat = createObjIndicatorMatrix(object_id,sampleNworkers=10,PRINT=True)\n",
    "sanity_check(objIndicatorMat)"
   ]
  },
  {
   "cell_type": "code",
   "execution_count": 4,
   "metadata": {
    "collapsed": false
   },
   "outputs": [
    {
     "name": "stdout",
     "output_type": "stream",
     "text": [
      "Number of non-overlapping tile regions (M) :  118\n",
      "Number of workers (N) :  10\n",
      "Check that there are no all-zero rows in indicator matrix: True\n"
     ]
    },
    {
     "data": {
      "image/png": "[encoded data removed]",
      "text/plain": [
       "<matplotlib.figure.Figure at 0x116bc7b50>"
      ]
     },
     "metadata": {},
     "output_type": "display_data"
    },
    {
     "data": {
      "image/png": "[encoded data removed]",
      "text/plain": [
       "<matplotlib.figure.Figure at 0x1185eb650>"
      ]
     },
     "metadata": {},
     "output_type": "display_data"
    }
   ],
   "source": [
    "object_id = 38\n",
    "tiles, objIndicatorMat = createObjIndicatorMatrix(object_id,sampleNworkers=10,PRINT=True)\n",
    "sanity_check(objIndicatorMat)"
   ]
  },
  {
   "cell_type": "code",
   "execution_count": 3,
   "metadata": {
    "collapsed": false
   },
   "outputs": [
    {
     "name": "stdout",
     "output_type": "stream",
     "text": [
      "Number of non-overlapping tile regions (M) :  118\n",
      "Number of workers (N) :  10\n",
      "Check that there are no all-zero rows in indicator matrix: False\n"
     ]
    },
    {
     "data": {
      "image/png": "[encoded data removed]",
      "text/plain": [
       "<matplotlib.figure.Figure at 0x1104ddc90>"
      ]
     },
     "metadata": {},
     "output_type": "display_data"
    },
    {
     "data": {
      "image/png": "[encoded data removed]",
      "text/plain": [
       "<matplotlib.figure.Figure at 0x111e48710>"
      ]
     },
     "metadata": {},
     "output_type": "display_data"
    }
   ],
   "source": [
    "object_id = 38\n",
    "tiles, objIndicatorMat = createObjIndicatorMatrix(object_id,sampleNworkers=10,PRINT=True)\n",
    "sanity_check(objIndicatorMat)"
   ]
  },
  {
   "cell_type": "code",
   "execution_count": 4,
   "metadata": {
    "collapsed": false
   },
   "outputs": [],
   "source": [
    "def plot_tile_i(tiles,i):\n",
    "    plot_coords(Polygon(zip(tiles[i][:,1],tiles[i][:,0])))"
   ]
  },
  {
   "cell_type": "code",
   "execution_count": 5,
   "metadata": {
    "collapsed": false
   },
   "outputs": [],
   "source": [
    "img_info,object_tbl,bb_info,hit_info = load_info()\n",
    "obj_lst = list(set(object_tbl.object_id))\n",
    "my_BBG  = pd.read_csv(\"my_ground_truth.csv\")"
   ]
  },
  {
   "cell_type": "code",
   "execution_count": 4,
   "metadata": {
    "collapsed": false
   },
   "outputs": [
    {
     "name": "stdout",
     "output_type": "stream",
     "text": [
      "Starting Median Experiment with T value 0.0\n",
      "--------------------------\n",
      "inf [[ 0.95364843]\n",
      " [ 0.95364843]\n",
      " [ 0.95364843]\n",
      " [ 0.95364843]\n",
      " [ 0.95364843]\n",
      " [ 0.95364843]\n",
      " [ 0.95364843]\n",
      " [ 0.95364843]\n",
      " [ 0.95364843]\n",
      " [ 0.95364843]\n",
      " [ 0.95364843]\n",
      " [ 0.95364843]\n",
      " [ 0.95364843]\n",
      " [ 0.95364843]\n",
      " [ 0.95364843]\n",
      " [ 0.95364843]\n",
      " [ 0.95364843]\n",
      " [ 0.95364843]\n",
      " [ 0.95364843]\n",
      " [ 0.95364843]\n",
      " [ 0.95364843]\n",
      " [ 0.95364843]\n",
      " [ 0.95364843]\n",
      " [ 0.95364843]\n",
      " [ 0.95364843]\n",
      " [ 0.95364843]\n",
      " [ 0.95364843]\n",
      " [ 0.95364843]\n",
      " [ 0.95364843]\n",
      " [ 0.95364843]\n",
      " [ 0.95364843]\n",
      " [ 0.95364843]\n",
      " [ 0.95364843]\n",
      " [ 0.95364843]\n",
      " [ 0.95364843]\n",
      " [ 0.95364843]\n",
      " [ 0.95364843]\n",
      " [ 0.95364843]\n",
      " [ 0.95364843]\n",
      " [ 0.95364843]\n",
      " [ 0.95364843]\n",
      " [ 0.95364843]\n",
      " [ 0.95364843]\n",
      " [ 0.95364843]\n",
      " [ 0.95364843]\n",
      " [ 0.95364843]\n",
      " [ 0.95364843]\n",
      " [ 0.95364843]\n",
      " [ 0.95364843]\n",
      " [ 0.95364843]\n",
      " [ 0.95364843]\n",
      " [ 0.95364843]\n",
      " [ 0.95364843]\n",
      " [ 0.95364843]\n",
      " [ 0.95364843]\n",
      " [ 0.95364843]\n",
      " [ 0.95364843]\n",
      " [ 0.95364843]\n",
      " [ 0.95364843]\n",
      " [ 0.95364843]\n",
      " [ 0.95364843]\n",
      " [ 0.95364843]\n",
      " [ 0.95364843]\n",
      " [ 0.95364843]\n",
      " [ 0.95364843]\n",
      " [ 0.95364843]\n",
      " [ 0.95364843]\n",
      " [ 0.95364843]\n",
      " [ 0.95364843]\n",
      " [ 0.95364843]\n",
      " [ 0.95364843]\n",
      " [ 0.95364843]\n",
      " [ 0.95364843]\n",
      " [ 0.95364843]\n",
      " [ 0.95364843]\n",
      " [ 0.95364843]\n",
      " [ 0.95364843]\n",
      " [ 0.95364843]\n",
      " [ 0.95364843]\n",
      " [ 0.95364843]\n",
      " [ 0.95364843]\n",
      " [ 0.95364843]\n",
      " [ 0.95364843]\n",
      " [ 0.95364843]\n",
      " [ 0.95364843]\n",
      " [ 0.95364843]\n",
      " [ 0.95364843]\n",
      " [ 0.95364843]\n",
      " [ 0.95364843]\n",
      " [ 0.95364843]\n",
      " [ 0.95364843]\n",
      " [ 0.95364843]\n",
      " [ 0.95364843]\n",
      " [ 0.95364843]\n",
      " [ 0.95364843]\n",
      " [ 0.95364843]\n",
      " [ 0.95364843]\n",
      " [ 0.95364843]\n",
      " [ 0.95364843]\n",
      " [ 0.95364843]\n",
      " [ 0.95364843]\n",
      " [ 0.95364843]\n",
      " [ 0.95364843]\n",
      " [ 0.95364843]\n",
      " [ 0.95364843]\n",
      " [ 0.95364843]\n",
      " [ 0.95364843]\n",
      " [ 0.95364843]\n",
      " [ 0.95364843]\n",
      " [ 0.95364843]\n",
      " [ 0.95364843]\n",
      " [ 0.95364843]\n",
      " [ 0.95364843]\n",
      " [ 0.95364843]\n",
      " [ 0.95364843]\n",
      " [ 0.95364843]\n",
      " [ 0.95364843]\n",
      " [ 0.95364843]]\n"
     ]
    }
   ],
   "source": [
    "# Ta, La, ga, solutionLista = experiment_avg(objIndicatorMat)\n",
    "Tm, Lm, gm, solutionListm = experiment_median(objIndicatorMat)\n",
    "# Tl, Ll, gl, solutionListl = experiment_local(1, objIndicatorMat)"
   ]
  },
  {
   "cell_type": "markdown",
   "metadata": {},
   "source": [
    "- Sampling Ji responses"
   ]
  },
  {
   "cell_type": "code",
   "execution_count": 6,
   "metadata": {
    "collapsed": false
   },
   "outputs": [
    {
     "name": "stdout",
     "output_type": "stream",
     "text": [
      "Number of non-overlapping tile regions (M) :  26\n",
      "Number of workers (N) :  10\n"
     ]
    }
   ],
   "source": [
    "object_id = 40\n",
    "tiles, objIndicatorMat = createObjIndicatorMatrix(object_id,sampleNworkers=10,PRINT=True)"
   ]
  },
  {
   "cell_type": "code",
   "execution_count": 28,
   "metadata": {
    "collapsed": true
   },
   "outputs": [],
   "source": [
    "from tqdm import tqdm "
   ]
  },
  {
   "cell_type": "code",
   "execution_count": 29,
   "metadata": {
    "collapsed": false
   },
   "outputs": [
    {
     "name": "stderr",
     "output_type": "stream",
     "text": []
    }
   ],
   "source": [
    "all_sampleN_lst=[]\n",
    "for sampleN in tqdm(range(0,41,5)[1:]):\n",
    "    sampleN_lst=[]\n",
    "    for object_id in obj_lst:     \n",
    "        tiles, objIndicatorMat = createObjIndicatorMatrix(object_id,sampleNworkers=sampleN,PRINT=False)\n",
    "        sampleN_lst.append(len(tiles))\n",
    "    all_sampleN_lst.append(sampleN_lst)"
   ]
  },
  {
   "cell_type": "code",
   "execution_count": 32,
   "metadata": {
    "collapsed": false
   },
   "outputs": [
    {
     "data": {
      "image/png": "[encoded data removed]",
      "text/plain": [
       "<matplotlib.figure.Figure at 0x118f41390>"
      ]
     },
     "metadata": {},
     "output_type": "display_data"
    }
   ],
   "source": [
    "plt.title(\"Worker-based sampling of tile region\",fontsize=14)\n",
    "plt.xlabel(\"Number of Workers Sampled\",fontsize=12)\n",
    "plt.ylabel(\"Number of Non-overlapping Tiles\",fontsize=12)\n",
    "plt.plot(range(0,41,5)[1:],np.mean(all_sampleN_lst,axis=1))\n",
    "plt.savefig(\"sampletile.pdf\")"
   ]
  },
  {
   "cell_type": "code",
   "execution_count": 3,
   "metadata": {
    "collapsed": false
   },
   "outputs": [
    {
     "name": "stdout",
     "output_type": "stream",
     "text": [
      "Number of non-overlapping tile regions (M) :  27\n",
      "Number of workers (N) :  20\n"
     ]
    }
   ],
   "source": [
    "object_id = 40\n",
    "tiles, objIndicatorMat = createObjIndicatorMatrix(object_id,sampleNworkers=20,PRINT=True)"
   ]
  },
  {
   "cell_type": "code",
   "execution_count": 5,
   "metadata": {
    "collapsed": false
   },
   "outputs": [
    {
     "name": "stdout",
     "output_type": "stream",
     "text": [
      "Starting Average Experiment with T value 774.336\n",
      "--------------------------\n",
      "0 + 2 * log(var68.T * [[ 0.]\n",
      " [ 0.]\n",
      " [ 0.]\n",
      " [ 0.]\n",
      " [ 0.]\n",
      " [ 0.]\n",
      " [ 0.]\n",
      " [ 0.]\n",
      " [ 0.]\n",
      " [ 0.]\n",
      " [ 0.]\n",
      " [ 0.]\n",
      " [ 0.]\n",
      " [ 0.]\n",
      " [ 0.]\n",
      " [ 0.]\n",
      " [ 0.]\n",
      " [ 0.]\n",
      " [ 0.]\n",
      " [ 0.]\n",
      " [ 0.]\n",
      " [ 0.]\n",
      " [ 0.]\n",
      " [ 0.]\n",
      " [ 0.]\n",
      " [ 0.]\n",
      " [ 0.]]) + -log(0.0) + -log(774.336) + 2 * log(var68.T * [[ 0.]\n",
      " [ 0.]\n",
      " [ 0.]\n",
      " [ 0.]\n",
      " [ 0.]\n",
      " [ 0.]\n",
      " [ 0.]\n",
      " [ 0.]\n",
      " [ 0.]\n",
      " [ 0.]\n",
      " [ 0.]\n",
      " [ 0.]\n",
      " [ 0.]\n",
      " [ 0.]\n",
      " [ 0.]\n",
      " [ 0.]\n",
      " [ 0.]\n",
      " [ 0.]\n",
      " [ 0.]\n",
      " [ 0.]\n",
      " [ 0.]\n",
      " [ 0.]\n",
      " [ 0.]\n",
      " [ 0.]\n",
      " [ 0.]\n",
      " [ 0.]\n",
      " [ 0.]]) + -log(0.0) + -log(774.336) + 2 * log(var68.T * [[    0.  ]\n",
      " [    0.  ]\n",
      " [    0.  ]\n",
      " [    0.  ]\n",
      " [    0.  ]\n",
      " [    0.  ]\n",
      " [    0.  ]\n",
      " [    0.  ]\n",
      " [    0.  ]\n",
      " [    0.  ]\n",
      " [    0.  ]\n",
      " [    0.  ]\n",
      " [    0.  ]\n",
      " [    0.  ]\n",
      " [    0.  ]\n",
      " [    0.  ]\n",
      " [    0.  ]\n",
      " [    0.  ]\n",
      " [    0.  ]\n",
      " [    0.  ]\n",
      " [    0.  ]\n",
      " [    0.  ]\n",
      " [    0.  ]\n",
      " [    0.  ]\n",
      " [ 2004.22]\n",
      " [    0.  ]\n",
      " [ 1859.42]]) + -log(3863.64) + -log(774.336) + 2 * log(var68.T * [[ 0.]\n",
      " [ 0.]\n",
      " [ 0.]\n",
      " [ 0.]\n",
      " [ 0.]\n",
      " [ 0.]\n",
      " [ 0.]\n",
      " [ 0.]\n",
      " [ 0.]\n",
      " [ 0.]\n",
      " [ 0.]\n",
      " [ 0.]\n",
      " [ 0.]\n",
      " [ 0.]\n",
      " [ 0.]\n",
      " [ 0.]\n",
      " [ 0.]\n",
      " [ 0.]\n",
      " [ 0.]\n",
      " [ 0.]\n",
      " [ 0.]\n",
      " [ 0.]\n",
      " [ 0.]\n",
      " [ 0.]\n",
      " [ 0.]\n",
      " [ 0.]\n",
      " [ 0.]]) + -log(0.0) + -log(774.336) + 2 * log(var68.T * [[ 0.]\n",
      " [ 0.]\n",
      " [ 0.]\n",
      " [ 0.]\n",
      " [ 0.]\n",
      " [ 0.]\n",
      " [ 0.]\n",
      " [ 0.]\n",
      " [ 0.]\n",
      " [ 0.]\n",
      " [ 0.]\n",
      " [ 0.]\n",
      " [ 0.]\n",
      " [ 0.]\n",
      " [ 0.]\n",
      " [ 0.]\n",
      " [ 0.]\n",
      " [ 0.]\n",
      " [ 0.]\n",
      " [ 0.]\n",
      " [ 0.]\n",
      " [ 0.]\n",
      " [ 0.]\n",
      " [ 0.]\n",
      " [ 0.]\n",
      " [ 0.]\n",
      " [ 0.]]) + -log(0.0) + -log(774.336) + 2 * log(var68.T * [[ 0.]\n",
      " [ 0.]\n",
      " [ 0.]\n",
      " [ 0.]\n",
      " [ 0.]\n",
      " [ 0.]\n",
      " [ 0.]\n",
      " [ 0.]\n",
      " [ 0.]\n",
      " [ 0.]\n",
      " [ 0.]\n",
      " [ 0.]\n",
      " [ 0.]\n",
      " [ 0.]\n",
      " [ 0.]\n",
      " [ 0.]\n",
      " [ 0.]\n",
      " [ 0.]\n",
      " [ 0.]\n",
      " [ 0.]\n",
      " [ 0.]\n",
      " [ 0.]\n",
      " [ 0.]\n",
      " [ 0.]\n",
      " [ 0.]\n",
      " [ 0.]\n",
      " [ 0.]]) + -log(0.0) + -log(774.336) + 2 * log(var68.T * [[ 0.]\n",
      " [ 0.]\n",
      " [ 0.]\n",
      " [ 0.]\n",
      " [ 0.]\n",
      " [ 0.]\n",
      " [ 0.]\n",
      " [ 0.]\n",
      " [ 0.]\n",
      " [ 0.]\n",
      " [ 0.]\n",
      " [ 0.]\n",
      " [ 0.]\n",
      " [ 0.]\n",
      " [ 0.]\n",
      " [ 0.]\n",
      " [ 0.]\n",
      " [ 0.]\n",
      " [ 0.]\n",
      " [ 0.]\n",
      " [ 0.]\n",
      " [ 0.]\n",
      " [ 0.]\n",
      " [ 0.]\n",
      " [ 0.]\n",
      " [ 0.]\n",
      " [ 0.]]) + -log(0.0) + -log(774.336) + 2 * log(var68.T * [[ 0.]\n",
      " [ 0.]\n",
      " [ 0.]\n",
      " [ 0.]\n",
      " [ 0.]\n",
      " [ 0.]\n",
      " [ 0.]\n",
      " [ 0.]\n",
      " [ 0.]\n",
      " [ 0.]\n",
      " [ 0.]\n",
      " [ 0.]\n",
      " [ 0.]\n",
      " [ 0.]\n",
      " [ 0.]\n",
      " [ 0.]\n",
      " [ 0.]\n",
      " [ 0.]\n",
      " [ 0.]\n",
      " [ 0.]\n",
      " [ 0.]\n",
      " [ 0.]\n",
      " [ 0.]\n",
      " [ 0.]\n",
      " [ 0.]\n",
      " [ 0.]\n",
      " [ 0.]]) + -log(0.0) + -log(774.336) + 2 * log(var68.T * [[ 0.]\n",
      " [ 0.]\n",
      " [ 0.]\n",
      " [ 0.]\n",
      " [ 0.]\n",
      " [ 0.]\n",
      " [ 0.]\n",
      " [ 0.]\n",
      " [ 0.]\n",
      " [ 0.]\n",
      " [ 0.]\n",
      " [ 0.]\n",
      " [ 0.]\n",
      " [ 0.]\n",
      " [ 0.]\n",
      " [ 0.]\n",
      " [ 0.]\n",
      " [ 0.]\n",
      " [ 0.]\n",
      " [ 0.]\n",
      " [ 0.]\n",
      " [ 0.]\n",
      " [ 0.]\n",
      " [ 0.]\n",
      " [ 0.]\n",
      " [ 0.]\n",
      " [ 0.]]) + -log(0.0) + -log(774.336) + 2 * log(var68.T * [[ 0.]\n",
      " [ 0.]\n",
      " [ 0.]\n",
      " [ 0.]\n",
      " [ 0.]\n",
      " [ 0.]\n",
      " [ 0.]\n",
      " [ 0.]\n",
      " [ 0.]\n",
      " [ 0.]\n",
      " [ 0.]\n",
      " [ 0.]\n",
      " [ 0.]\n",
      " [ 0.]\n",
      " [ 0.]\n",
      " [ 0.]\n",
      " [ 0.]\n",
      " [ 0.]\n",
      " [ 0.]\n",
      " [ 0.]\n",
      " [ 0.]\n",
      " [ 0.]\n",
      " [ 0.]\n",
      " [ 0.]\n",
      " [ 0.]\n",
      " [ 0.]\n",
      " [ 0.]]) + -log(0.0) + -log(774.336) + 2 * log(var68.T * [[ 0.]\n",
      " [ 0.]\n",
      " [ 0.]\n",
      " [ 0.]\n",
      " [ 0.]\n",
      " [ 0.]\n",
      " [ 0.]\n",
      " [ 0.]\n",
      " [ 0.]\n",
      " [ 0.]\n",
      " [ 0.]\n",
      " [ 0.]\n",
      " [ 0.]\n",
      " [ 0.]\n",
      " [ 0.]\n",
      " [ 0.]\n",
      " [ 0.]\n",
      " [ 0.]\n",
      " [ 0.]\n",
      " [ 0.]\n",
      " [ 0.]\n",
      " [ 0.]\n",
      " [ 0.]\n",
      " [ 0.]\n",
      " [ 0.]\n",
      " [ 0.]\n",
      " [ 0.]]) + -log(0.0) + -log(774.336) + 2 * log(var68.T * [[ 0.]\n",
      " [ 0.]\n",
      " [ 0.]\n",
      " [ 0.]\n",
      " [ 0.]\n",
      " [ 0.]\n",
      " [ 0.]\n",
      " [ 0.]\n",
      " [ 0.]\n",
      " [ 0.]\n",
      " [ 0.]\n",
      " [ 0.]\n",
      " [ 0.]\n",
      " [ 0.]\n",
      " [ 0.]\n",
      " [ 0.]\n",
      " [ 0.]\n",
      " [ 0.]\n",
      " [ 0.]\n",
      " [ 0.]\n",
      " [ 0.]\n",
      " [ 0.]\n",
      " [ 0.]\n",
      " [ 0.]\n",
      " [ 0.]\n",
      " [ 0.]\n",
      " [ 0.]]) + -log(0.0) + -log(774.336) + 2 * log(var68.T * [[ 0.]\n",
      " [ 0.]\n",
      " [ 0.]\n",
      " [ 0.]\n",
      " [ 0.]\n",
      " [ 0.]\n",
      " [ 0.]\n",
      " [ 0.]\n",
      " [ 0.]\n",
      " [ 0.]\n",
      " [ 0.]\n",
      " [ 0.]\n",
      " [ 0.]\n",
      " [ 0.]\n",
      " [ 0.]\n",
      " [ 0.]\n",
      " [ 0.]\n",
      " [ 0.]\n",
      " [ 0.]\n",
      " [ 0.]\n",
      " [ 0.]\n",
      " [ 0.]\n",
      " [ 0.]\n",
      " [ 0.]\n",
      " [ 0.]\n",
      " [ 0.]\n",
      " [ 0.]]) + -log(0.0) + -log(774.336) + 2 * log(var68.T * [[  0.00000000e+00]\n",
      " [  0.00000000e+00]\n",
      " [  0.00000000e+00]\n",
      " [  0.00000000e+00]\n",
      " [  0.00000000e+00]\n",
      " [  0.00000000e+00]\n",
      " [  8.82000000e+00]\n",
      " [  2.20000000e-01]\n",
      " [  2.00000000e-02]\n",
      " [  2.00000000e-02]\n",
      " [  0.00000000e+00]\n",
      " [  2.00000000e-02]\n",
      " [  0.00000000e+00]\n",
      " [  0.00000000e+00]\n",
      " [  1.31000000e+00]\n",
      " [  0.00000000e+00]\n",
      " [  4.62000000e+00]\n",
      " [  0.00000000e+00]\n",
      " [  0.00000000e+00]\n",
      " [  0.00000000e+00]\n",
      " [  0.00000000e+00]\n",
      " [  0.00000000e+00]\n",
      " [  0.00000000e+00]\n",
      " [  1.25100000e+01]\n",
      " [  2.00422000e+03]\n",
      " [  0.00000000e+00]\n",
      " [  1.85942000e+03]]) + -log(3891.18) + -log(774.336) + 2 * log(var68.T * [[ 0.]\n",
      " [ 0.]\n",
      " [ 0.]\n",
      " [ 0.]\n",
      " [ 0.]\n",
      " [ 0.]\n",
      " [ 0.]\n",
      " [ 0.]\n",
      " [ 0.]\n",
      " [ 0.]\n",
      " [ 0.]\n",
      " [ 0.]\n",
      " [ 0.]\n",
      " [ 0.]\n",
      " [ 0.]\n",
      " [ 0.]\n",
      " [ 0.]\n",
      " [ 0.]\n",
      " [ 0.]\n",
      " [ 0.]\n",
      " [ 0.]\n",
      " [ 0.]\n",
      " [ 0.]\n",
      " [ 0.]\n",
      " [ 0.]\n",
      " [ 0.]\n",
      " [ 0.]]) + -log(0.0) + -log(774.336) + 2 * log(var68.T * [[    0.  ]\n",
      " [    0.  ]\n",
      " [    0.  ]\n",
      " [    0.  ]\n",
      " [    0.  ]\n",
      " [    0.  ]\n",
      " [    0.  ]\n",
      " [    0.  ]\n",
      " [    0.  ]\n",
      " [    0.  ]\n",
      " [    0.  ]\n",
      " [    0.  ]\n",
      " [    0.  ]\n",
      " [    0.  ]\n",
      " [    0.  ]\n",
      " [    0.  ]\n",
      " [    4.62]\n",
      " [    0.  ]\n",
      " [    0.  ]\n",
      " [    0.  ]\n",
      " [    0.  ]\n",
      " [    0.  ]\n",
      " [    0.  ]\n",
      " [    0.  ]\n",
      " [ 2004.22]\n",
      " [    0.  ]\n",
      " [ 1859.42]]) + -log(3868.26) + -log(774.336) + 2 * log(var68.T * [[ 0.]\n",
      " [ 0.]\n",
      " [ 0.]\n",
      " [ 0.]\n",
      " [ 0.]\n",
      " [ 0.]\n",
      " [ 0.]\n",
      " [ 0.]\n",
      " [ 0.]\n",
      " [ 0.]\n",
      " [ 0.]\n",
      " [ 0.]\n",
      " [ 0.]\n",
      " [ 0.]\n",
      " [ 0.]\n",
      " [ 0.]\n",
      " [ 0.]\n",
      " [ 0.]\n",
      " [ 0.]\n",
      " [ 0.]\n",
      " [ 0.]\n",
      " [ 0.]\n",
      " [ 0.]\n",
      " [ 0.]\n",
      " [ 0.]\n",
      " [ 0.]\n",
      " [ 0.]]) + -log(0.0) + -log(774.336) + 2 * log(var68.T * [[    0.  ]\n",
      " [    0.  ]\n",
      " [    0.  ]\n",
      " [    0.  ]\n",
      " [    0.  ]\n",
      " [    0.  ]\n",
      " [    0.  ]\n",
      " [    0.  ]\n",
      " [    0.  ]\n",
      " [    0.  ]\n",
      " [    0.  ]\n",
      " [    0.  ]\n",
      " [    0.  ]\n",
      " [    0.  ]\n",
      " [    0.  ]\n",
      " [    0.  ]\n",
      " [    0.  ]\n",
      " [    0.  ]\n",
      " [    0.  ]\n",
      " [    0.  ]\n",
      " [    0.  ]\n",
      " [    0.  ]\n",
      " [    0.  ]\n",
      " [    0.  ]\n",
      " [ 2004.22]\n",
      " [    0.  ]\n",
      " [ 1859.42]]) + -log(3863.64) + -log(774.336) + 2 * log(var68.T * [[ 0.]\n",
      " [ 0.]\n",
      " [ 0.]\n",
      " [ 0.]\n",
      " [ 0.]\n",
      " [ 0.]\n",
      " [ 0.]\n",
      " [ 0.]\n",
      " [ 0.]\n",
      " [ 0.]\n",
      " [ 0.]\n",
      " [ 0.]\n",
      " [ 0.]\n",
      " [ 0.]\n",
      " [ 0.]\n",
      " [ 0.]\n",
      " [ 0.]\n",
      " [ 0.]\n",
      " [ 0.]\n",
      " [ 0.]\n",
      " [ 0.]\n",
      " [ 0.]\n",
      " [ 0.]\n",
      " [ 0.]\n",
      " [ 0.]\n",
      " [ 0.]\n",
      " [ 0.]]) + -log(0.0) + -log(774.336) + 2 * log(var68.T * [[ 0.]\n",
      " [ 0.]\n",
      " [ 0.]\n",
      " [ 0.]\n",
      " [ 0.]\n",
      " [ 0.]\n",
      " [ 0.]\n",
      " [ 0.]\n",
      " [ 0.]\n",
      " [ 0.]\n",
      " [ 0.]\n",
      " [ 0.]\n",
      " [ 0.]\n",
      " [ 0.]\n",
      " [ 0.]\n",
      " [ 0.]\n",
      " [ 0.]\n",
      " [ 0.]\n",
      " [ 0.]\n",
      " [ 0.]\n",
      " [ 0.]\n",
      " [ 0.]\n",
      " [ 0.]\n",
      " [ 0.]\n",
      " [ 0.]\n",
      " [ 0.]\n",
      " [ 0.]]) + -log(0.0) + -log(774.336)\n"
     ]
    }
   ],
   "source": [
    "Ta, La, ga, solutionLista = experiment_avg(objIndicatorMat)"
   ]
  },
  {
   "cell_type": "code",
   "execution_count": 17,
   "metadata": {
    "collapsed": false
   },
   "outputs": [],
   "source": [
    "N1,M = shape(objIndicatorMat)"
   ]
  },
  {
   "cell_type": "code",
   "execution_count": 11,
   "metadata": {
    "collapsed": false
   },
   "outputs": [
    {
     "data": {
      "text/plain": [
       "(27,)"
      ]
     },
     "execution_count": 11,
     "metadata": {},
     "output_type": "execute_result"
    }
   ],
   "source": [
    "shape(objIndicatorMat[-1])"
   ]
  },
  {
   "cell_type": "code",
   "execution_count": 19,
   "metadata": {
    "collapsed": false
   },
   "outputs": [],
   "source": [
    "regions = objIndicatorMat[-1]"
   ]
  },
  {
   "cell_type": "code",
   "execution_count": 31,
   "metadata": {
    "collapsed": false
   },
   "outputs": [
    {
     "data": {
      "text/plain": [
       "(array([ 2,  2, 13, 13, 13, 13, 13, 13, 13, 13, 13, 13, 15, 15, 15, 17, 17]),\n",
       " array([24, 26,  6,  7,  8,  9, 11, 14, 16, 23, 24, 26, 16, 24, 26, 24, 26]))"
      ]
     },
     "execution_count": 31,
     "metadata": {},
     "output_type": "execute_result"
    }
   ],
   "source": [
    "np.where(objIndicatorMat[:-1]!=0)"
   ]
  },
  {
   "cell_type": "code",
   "execution_count": 36,
   "metadata": {
    "collapsed": false
   },
   "outputs": [],
   "source": [
    "gammas = ga"
   ]
  },
  {
   "cell_type": "markdown",
   "metadata": {},
   "source": [
    "The reason why we were getting inf in the log likelihood is because for some of the indicators, the whole indicator vector is zero, so then when you do the matmul, the argument in the log is zero, log(0)=error -->inf. Inituitvely, because each worker made a BB he must have at least 1 non-zero entry in his indicator, i.e his bounding box must contain at least one of his tiles, or small set of his tile. So that mean there is something wrong with the BB2Tile construction of the indicator matrix. "
   ]
  },
  {
   "cell_type": "code",
   "execution_count": 39,
   "metadata": {
    "collapsed": false
   },
   "outputs": [
    {
     "data": {
      "text/plain": [
       "matrix([[ -7.76818815e-03,   1.61914224e-01,  -4.22916425e-08,\n",
       "          -4.30767920e-08,  -5.76193395e-07,  -4.03460469e-07,\n",
       "           9.99535492e-01,   1.00001363e+00,   1.00002475e+00,\n",
       "           1.00002475e+00,   4.68699136e-01,   1.00002475e+00,\n",
       "          -7.81117464e-07,  -6.55493513e-07,   9.99953033e-01,\n",
       "          -4.39801044e-05,   9.99512606e-01,  -3.40351807e-06,\n",
       "           4.68699136e-01,   1.61914224e-01,  -6.71685207e-06,\n",
       "          -2.77841160e-04,  -7.32579099e-03,   9.99330336e-01,\n",
       "           5.54923308e-01,  -7.04583010e-06,   5.87079785e-01]])"
      ]
     },
     "execution_count": 39,
     "metadata": {},
     "output_type": "execute_result"
    }
   ],
   "source": [
    "gammas.T"
   ]
  },
  {
   "cell_type": "code",
   "execution_count": 37,
   "metadata": {
    "collapsed": false
   },
   "outputs": [
    {
     "ename": "ValueError",
     "evalue": "shapes (1,27) and (1,27) not aligned: 27 (dim 1) != 1 (dim 0)",
     "output_type": "error",
     "traceback": [
      "\u001b[0;31m---------------------------------------------------------------------------\u001b[0m",
      "\u001b[0;31mValueError\u001b[0m                                Traceback (most recent call last)",
      "\u001b[0;32m<ipython-input-37-76674b5e769b>\u001b[0m in \u001b[0;36m<module>\u001b[0;34m()\u001b[0m\n\u001b[1;32m      2\u001b[0m \u001b[0;32mfor\u001b[0m \u001b[0mi\u001b[0m \u001b[0;32min\u001b[0m \u001b[0mrange\u001b[0m\u001b[0;34m(\u001b[0m\u001b[0mM\u001b[0m\u001b[0;34m)\u001b[0m\u001b[0;34m:\u001b[0m\u001b[0;34m\u001b[0m\u001b[0m\n\u001b[1;32m      3\u001b[0m     \u001b[0mindicators\u001b[0m \u001b[0;34m=\u001b[0m \u001b[0mobjIndicatorMat\u001b[0m\u001b[0;34m[\u001b[0m\u001b[0mi\u001b[0m\u001b[0;34m]\u001b[0m\u001b[0;34m\u001b[0m\u001b[0m\n\u001b[0;32m----> 4\u001b[0;31m     \u001b[0mterm\u001b[0m \u001b[0;34m=\u001b[0m \u001b[0;36m2\u001b[0m \u001b[0;34m*\u001b[0m \u001b[0mnp\u001b[0m\u001b[0;34m.\u001b[0m\u001b[0mlog\u001b[0m\u001b[0;34m(\u001b[0m\u001b[0mgammas\u001b[0m\u001b[0;34m.\u001b[0m\u001b[0mT\u001b[0m \u001b[0;34m*\u001b[0m \u001b[0mnp\u001b[0m\u001b[0;34m.\u001b[0m\u001b[0mmultiply\u001b[0m\u001b[0;34m(\u001b[0m\u001b[0mregions\u001b[0m\u001b[0;34m,\u001b[0m \u001b[0mindicators\u001b[0m\u001b[0;34m)\u001b[0m\u001b[0;34m)\u001b[0m             \u001b[0;34m-\u001b[0m \u001b[0mnp\u001b[0m\u001b[0;34m.\u001b[0m\u001b[0mlog\u001b[0m\u001b[0;34m(\u001b[0m\u001b[0mnp\u001b[0m\u001b[0;34m.\u001b[0m\u001b[0mdot\u001b[0m\u001b[0;34m(\u001b[0m\u001b[0mregions\u001b[0m\u001b[0;34m,\u001b[0m \u001b[0mindicators\u001b[0m\u001b[0;34m)\u001b[0m\u001b[0;34m)\u001b[0m \u001b[0;34m-\u001b[0m \u001b[0mcvx\u001b[0m\u001b[0;34m.\u001b[0m\u001b[0mlog\u001b[0m\u001b[0;34m(\u001b[0m\u001b[0mT\u001b[0m\u001b[0;34m)\u001b[0m\u001b[0;34m\u001b[0m\u001b[0m\n\u001b[0m\u001b[1;32m      5\u001b[0m     \u001b[0mf\u001b[0m \u001b[0;34m=\u001b[0m \u001b[0mf\u001b[0m \u001b[0;34m+\u001b[0m \u001b[0mterm\u001b[0m\u001b[0;34m\u001b[0m\u001b[0m\n",
      "\u001b[0;32m/Users/dorislee/.virtualenvs/py27dev/lib/python2.7/site-packages/numpy/matrixlib/defmatrix.pyc\u001b[0m in \u001b[0;36m__mul__\u001b[0;34m(self, other)\u001b[0m\n\u001b[1;32m    341\u001b[0m         \u001b[0;32mif\u001b[0m \u001b[0misinstance\u001b[0m\u001b[0;34m(\u001b[0m\u001b[0mother\u001b[0m\u001b[0;34m,\u001b[0m \u001b[0;34m(\u001b[0m\u001b[0mN\u001b[0m\u001b[0;34m.\u001b[0m\u001b[0mndarray\u001b[0m\u001b[0;34m,\u001b[0m \u001b[0mlist\u001b[0m\u001b[0;34m,\u001b[0m \u001b[0mtuple\u001b[0m\u001b[0;34m)\u001b[0m\u001b[0;34m)\u001b[0m \u001b[0;34m:\u001b[0m\u001b[0;34m\u001b[0m\u001b[0m\n\u001b[1;32m    342\u001b[0m             \u001b[0;31m# This promotes 1-D vectors to row vectors\u001b[0m\u001b[0;34m\u001b[0m\u001b[0;34m\u001b[0m\u001b[0m\n\u001b[0;32m--> 343\u001b[0;31m             \u001b[0;32mreturn\u001b[0m \u001b[0mN\u001b[0m\u001b[0;34m.\u001b[0m\u001b[0mdot\u001b[0m\u001b[0;34m(\u001b[0m\u001b[0mself\u001b[0m\u001b[0;34m,\u001b[0m \u001b[0masmatrix\u001b[0m\u001b[0;34m(\u001b[0m\u001b[0mother\u001b[0m\u001b[0;34m)\u001b[0m\u001b[0;34m)\u001b[0m\u001b[0;34m\u001b[0m\u001b[0m\n\u001b[0m\u001b[1;32m    344\u001b[0m         \u001b[0;32mif\u001b[0m \u001b[0misscalar\u001b[0m\u001b[0;34m(\u001b[0m\u001b[0mother\u001b[0m\u001b[0;34m)\u001b[0m \u001b[0;32mor\u001b[0m \u001b[0;32mnot\u001b[0m \u001b[0mhasattr\u001b[0m\u001b[0;34m(\u001b[0m\u001b[0mother\u001b[0m\u001b[0;34m,\u001b[0m \u001b[0;34m'__rmul__'\u001b[0m\u001b[0;34m)\u001b[0m \u001b[0;34m:\u001b[0m\u001b[0;34m\u001b[0m\u001b[0m\n\u001b[1;32m    345\u001b[0m             \u001b[0;32mreturn\u001b[0m \u001b[0mN\u001b[0m\u001b[0;34m.\u001b[0m\u001b[0mdot\u001b[0m\u001b[0;34m(\u001b[0m\u001b[0mself\u001b[0m\u001b[0;34m,\u001b[0m \u001b[0mother\u001b[0m\u001b[0;34m)\u001b[0m\u001b[0;34m\u001b[0m\u001b[0m\n",
      "\u001b[0;31mValueError\u001b[0m: shapes (1,27) and (1,27) not aligned: 27 (dim 1) != 1 (dim 0)"
     ]
    }
   ],
   "source": [
    "f = 0\n",
    "for i in range(M):\n",
    "    indicators = objIndicatorMat[i]\n",
    "    term = 2 * np.log(gammas.T * np.multiply(regions, indicators)) \\\n",
    "            - np.log(np.dot(regions, indicators)) - cvx.log(T)\n",
    "    f = f + term "
   ]
  },
  {
   "cell_type": "code",
   "execution_count": 5,
   "metadata": {
    "collapsed": false
   },
   "outputs": [
    {
     "name": "stdout",
     "output_type": "stream",
     "text": [
      "Starting Average Experiment with T value 774.336\n",
      "--------------------------\n",
      "Starting Median Experiment with T value 0.0\n",
      "--------------------------\n",
      "Starting Local Search with T values between 1 and 200518.06\n",
      "--------------------------\n"
     ]
    }
   ],
   "source": [
    "Ta, La, ga, solutionLista = experiment_avg(objIndicatorMat)\n",
    "Tm, Lm, gm, solutionListm = experiment_median(objIndicatorMat)\n",
    "Tl, Ll, gl, solutionListl = experiment_local(1, objIndicatorMat)"
   ]
  },
  {
   "cell_type": "code",
   "execution_count": 8,
   "metadata": {
    "collapsed": false
   },
   "outputs": [
    {
     "data": {
      "text/plain": [
       "inf"
      ]
     },
     "execution_count": 8,
     "metadata": {},
     "output_type": "execute_result"
    }
   ],
   "source": [
    "La"
   ]
  },
  {
   "cell_type": "code",
   "execution_count": 50,
   "metadata": {
    "collapsed": false
   },
   "outputs": [],
   "source": [
    "#Exhaustive search is a bit buggy because convex solver yields likelihood as inf \n",
    "# Te, Le, ge, solutionListe = experiment_exhaustive(1, objIndicatorMat,step_size=500)"
   ]
  },
  {
   "cell_type": "code",
   "execution_count": null,
   "metadata": {
    "collapsed": true
   },
   "outputs": [],
   "source": [
    "tile_dataset = Dataset(tiles,objIndicatorMat,100)\n",
    "solution = greedySearch(tile_dataset)\n",
    "solution.printSolution()"
   ]
  },
  {
   "cell_type": "code",
   "execution_count": null,
   "metadata": {
    "collapsed": true
   },
   "outputs": [],
   "source": [
    "Compare with "
   ]
  },
  {
   "cell_type": "markdown",
   "metadata": {},
   "source": [
    "------------------------"
   ]
  },
  {
   "cell_type": "code",
   "execution_count": 4,
   "metadata": {
    "collapsed": false
   },
   "outputs": [],
   "source": [
    "object_id = 18\n",
    "ground_truth_match = my_BBG[my_BBG.object_id==object_id]\n",
    "BBG =  Polygon(zip(*process_raw_locs([ground_truth_match[\"x_locs\"].iloc[0],ground_truth_match[\"y_locs\"].iloc[0]])))\n",
    "tiles, objIndicatorMat = createObjIndicatorMatrix(object_id)\n",
    "T_true =BBG.area"
   ]
  },
  {
   "cell_type": "code",
   "execution_count": 5,
   "metadata": {
    "collapsed": false
   },
   "outputs": [],
   "source": []
  },
  {
   "cell_type": "code",
   "execution_count": 6,
   "metadata": {
    "collapsed": false
   },
   "outputs": [],
   "source": []
  },
  {
   "cell_type": "code",
   "execution_count": 8,
   "metadata": {
    "collapsed": false
   },
   "outputs": [
    {
     "ename": "NameError",
     "evalue": "name 'experiment_avg' is not defined",
     "output_type": "error",
     "traceback": [
      "\u001b[0;31m---------------------------------------------------------------------------\u001b[0m",
      "\u001b[0;31mNameError\u001b[0m                                 Traceback (most recent call last)",
      "\u001b[0;32m<ipython-input-8-6a7fa259c6c0>\u001b[0m in \u001b[0;36m<module>\u001b[0;34m()\u001b[0m\n\u001b[0;32m----> 1\u001b[0;31m \u001b[0mTa\u001b[0m\u001b[0;34m,\u001b[0m \u001b[0mLa\u001b[0m\u001b[0;34m,\u001b[0m \u001b[0msolutionLista\u001b[0m \u001b[0;34m=\u001b[0m \u001b[0mexperiment_avg\u001b[0m\u001b[0;34m(\u001b[0m\u001b[0mobjIndicatorMat\u001b[0m\u001b[0;34m)\u001b[0m\u001b[0;34m\u001b[0m\u001b[0m\n\u001b[0m\u001b[1;32m      2\u001b[0m \u001b[0;31m# Tm, Lm, solutionListm = experiment_median(objIndicatorMat)\u001b[0m\u001b[0;34m\u001b[0m\u001b[0;34m\u001b[0m\u001b[0m\n\u001b[1;32m      3\u001b[0m \u001b[0;31m# Tl, Ll, solutionListl = experiment_local(5000, objIndicatorMat)\u001b[0m\u001b[0;34m\u001b[0m\u001b[0;34m\u001b[0m\u001b[0m\n",
      "\u001b[0;31mNameError\u001b[0m: name 'experiment_avg' is not defined"
     ]
    }
   ],
   "source": [
    "Ta, La, solutionLista = experiment_avg(objIndicatorMat)\n",
    "# Tm, Lm, solutionListm = experiment_median(objIndicatorMat)\n",
    "# Tl, Ll, solutionListl = experiment_local(5000, objIndicatorMat)"
   ]
  },
  {
   "cell_type": "code",
   "execution_count": 10,
   "metadata": {
    "collapsed": true
   },
   "outputs": [],
   "source": [
    "from shapely.ops import cascaded_union"
   ]
  },
  {
   "cell_type": "code",
   "execution_count": 11,
   "metadata": {
    "collapsed": false
   },
   "outputs": [],
   "source": [
    "def join_tiles(solutionList,tiles):\n",
    "    return cascaded_union([Polygon(tiles[tidx]) for tidx in solutionList])"
   ]
  },
  {
   "cell_type": "code",
   "execution_count": 35,
   "metadata": {
    "collapsed": false
   },
   "outputs": [
    {
     "data": {
      "image/svg+xml": [
       "<svg xmlns=\"http://www.w3.org/2000/svg\" xmlns:xlink=\"http://www.w3.org/1999/xlink\" width=\"202.176\" height=\"108.176\" viewBox=\"260.412 71.412 202.176 108.176\" preserveAspectRatio=\"xMinYMin meet\"><g transform=\"matrix(1,0,0,-1,0,251.0)\"><g><path fill-rule=\"evenodd\" fill=\"#66cc99\" stroke=\"#555555\" stroke-width=\"2.0\" opacity=\"0.6\" d=\"M 358.9,83.0 L 359.0,83.1 L 360.0,83.1 L 361.0,83.1 L 362.0,83.1 L 362.1,83.0 L 363.0,82.1 L 364.0,82.1 L 365.0,82.1 L 365.1,82.0 L 365.0,81.9 L 364.0,81.9 L 363.0,81.9 L 362.0,81.9 L 361.0,81.9 L 360.9,82.0 L 360.0,82.9 L 359.0,82.9 L 358.9,83.0 z\" /><path fill-rule=\"evenodd\" fill=\"#66cc99\" stroke=\"#555555\" stroke-width=\"2.0\" opacity=\"0.6\" d=\"M 387.9,84.0 L 388.0,84.1 L 389.0,84.1 L 390.0,84.1 L 390.1,84.0 L 390.0,83.9 L 389.0,83.9 L 388.0,83.9 L 387.9,84.0 z\" /><path fill-rule=\"evenodd\" fill=\"#66cc99\" stroke=\"#555555\" stroke-width=\"2.0\" opacity=\"0.6\" d=\"M 339.9,87.0 L 340.0,87.1 L 340.1,87.0 L 340.0,86.9 L 339.9,87.0 z\" /><path fill-rule=\"evenodd\" fill=\"#66cc99\" stroke=\"#555555\" stroke-width=\"2.0\" opacity=\"0.6\" d=\"M 340.9,87.0 L 341.0,87.1 L 342.0,87.1 L 343.0,87.1 L 344.0,87.1 L 344.1,87.0 L 344.0,86.9 L 343.0,86.9 L 342.0,86.9 L 341.0,86.9 L 340.9,87.0 z\" /><path fill-rule=\"evenodd\" fill=\"#66cc99\" stroke=\"#555555\" stroke-width=\"2.0\" opacity=\"0.6\" d=\"M 351.9,85.0 L 352.0,85.1 L 353.0,85.1 L 353.1,85.0 L 353.0,84.9 L 352.0,84.9 L 351.9,85.0 z\" /><path fill-rule=\"evenodd\" fill=\"#66cc99\" stroke=\"#555555\" stroke-width=\"2.0\" opacity=\"0.6\" d=\"M 344.9,86.0 L 345.0,86.1 L 346.0,86.1 L 346.1,86.0 L 346.0,85.9 L 345.0,85.9 L 344.9,86.0 z\" /><path fill-rule=\"evenodd\" fill=\"#66cc99\" stroke=\"#555555\" stroke-width=\"2.0\" opacity=\"0.6\" d=\"M 346.9,86.0 L 347.0,86.1 L 348.0,86.1 L 348.1,86.0 L 348.0,85.9 L 347.0,85.9 L 346.9,86.0 z\" /><path fill-rule=\"evenodd\" fill=\"#66cc99\" stroke=\"#555555\" stroke-width=\"2.0\" opacity=\"0.6\" d=\"M 353.9,85.0 L 354.0,85.1 L 355.0,85.1 L 355.1,85.0 L 355.0,84.9 L 354.0,84.9 L 353.9,85.0 z\" /><path fill-rule=\"evenodd\" fill=\"#66cc99\" stroke=\"#555555\" stroke-width=\"2.0\" opacity=\"0.6\" d=\"M 391.9,85.0 L 391.9,86.0 L 392.0,86.1 L 393.0,86.1 L 394.0,86.1 L 394.1,86.0 L 394.0,85.9 L 393.1,85.0 L 393.0,84.9 L 392.0,84.9 L 391.9,85.0 z\" /><path fill-rule=\"evenodd\" fill=\"#66cc99\" stroke=\"#555555\" stroke-width=\"2.0\" opacity=\"0.6\" d=\"M 348.9,86.0 L 349.0,86.1 L 350.0,86.1 L 351.0,86.1 L 351.1,86.0 L 351.0,85.9 L 350.0,85.9 L 349.0,85.9 L 348.9,86.0 z\" /><path fill-rule=\"evenodd\" fill=\"#66cc99\" stroke=\"#555555\" stroke-width=\"2.0\" opacity=\"0.6\" d=\"M 351.9,86.0 L 352.0,86.1 L 352.1,86.0 L 352.0,85.9 L 351.9,86.0 z\" /><path fill-rule=\"evenodd\" fill=\"#66cc99\" stroke=\"#555555\" stroke-width=\"2.0\" opacity=\"0.6\" d=\"M 392.9,87.0 L 393.0,87.1 L 393.9,88.0 L 394.0,88.1 L 395.0,88.1 L 395.1,88.0 L 395.0,87.9 L 394.1,87.0 L 394.0,86.9 L 393.0,86.9 L 392.9,87.0 z\" /><path fill-rule=\"evenodd\" fill=\"#66cc99\" stroke=\"#555555\" stroke-width=\"2.0\" opacity=\"0.6\" d=\"M 384.9,85.0 L 385.0,85.1 L 386.0,85.1 L 387.0,85.1 L 388.0,85.1 L 388.9,86.0 L 389.0,86.1 L 390.0,86.1 L 390.9,87.0 L 391.0,87.1 L 392.0,87.1 L 392.1,87.0 L 392.0,86.9 L 391.1,86.0 L 391.1,85.0 L 391.0,84.9 L 390.0,84.9 L 389.0,84.9 L 388.0,84.9 L 387.0,84.9 L 386.0,84.9 L 385.0,84.9 L 384.9,85.0 z\" /><path fill-rule=\"evenodd\" fill=\"#66cc99\" stroke=\"#555555\" stroke-width=\"2.0\" opacity=\"0.6\" d=\"M 347.9,87.0 L 348.0,87.1 L 348.1,87.0 L 348.0,86.9 L 347.9,87.0 z\" /><path fill-rule=\"evenodd\" fill=\"#66cc99\" stroke=\"#555555\" stroke-width=\"2.0\" opacity=\"0.6\" d=\"M 431.9,89.0 L 432.0,89.1 L 433.0,89.1 L 434.0,89.1 L 434.1,89.0 L 434.0,88.9 L 433.0,88.9 L 432.0,88.9 L 431.9,89.0 z\" /><path fill-rule=\"evenodd\" fill=\"#66cc99\" stroke=\"#555555\" stroke-width=\"2.0\" opacity=\"0.6\" d=\"M 331.9,90.0 L 332.0,90.1 L 332.1,90.0 L 332.0,89.9 L 331.9,90.0 z\" /><path fill-rule=\"evenodd\" fill=\"#66cc99\" stroke=\"#555555\" stroke-width=\"2.0\" opacity=\"0.6\" d=\"M 385.9,82.0 L 386.0,82.1 L 386.9,83.0 L 387.0,83.1 L 388.0,83.1 L 389.0,83.1 L 390.0,83.1 L 390.9,84.0 L 391.0,84.1 L 392.0,84.1 L 393.0,84.1 L 393.9,85.0 L 394.0,85.1 L 394.9,86.0 L 394.9,87.0 L 395.0,87.1 L 395.9,88.0 L 396.0,88.1 L 397.0,88.1 L 398.0,88.1 L 399.0,88.1 L 400.0,88.1 L 401.0,88.1 L 402.0,88.1 L 403.0,88.1 L 404.0,88.1 L 405.0,88.1 L 406.0,88.1 L 407.0,88.1 L 408.0,88.1 L 409.0,88.1 L 410.0,88.1 L 411.0,88.1 L 412.0,88.1 L 413.0,88.1 L 414.0,88.1 L 415.0,88.1 L 416.0,88.1 L 416.9,89.0 L 417.0,89.1 L 418.0,89.1 L 419.0,89.1 L 420.0,89.1 L 421.0,89.1 L 422.0,89.1 L 422.1,89.0 L 423.0,88.1 L 424.0,88.1 L 424.1,88.0 L 424.0,87.9 L 423.0,87.9 L 422.0,87.9 L 421.0,87.9 L 420.1,87.0 L 420.0,86.9 L 419.0,86.9 L 418.0,86.9 L 417.1,86.0 L 417.0,85.9 L 416.0,85.9 L 415.0,85.9 L 414.1,85.0 L 414.0,84.9 L 413.0,84.9 L 412.0,84.9 L 411.0,84.9 L 410.1,84.0 L 410.0,83.9 L 409.0,83.9 L 408.0,83.9 L 407.1,83.0 L 407.0,82.9 L 406.0,82.9 L 405.0,82.9 L 404.1,82.0 L 404.0,81.9 L 403.0,81.9 L 402.0,81.9 L 401.1,81.0 L 401.0,80.9 L 400.0,80.9 L 399.0,80.9 L 398.0,80.9 L 397.1,80.0 L 397.0,79.9 L 396.0,79.9 L 395.0,79.9 L 394.1,79.0 L 394.0,78.9 L 393.0,78.9 L 392.0,78.9 L 391.9,79.0 L 391.0,79.9 L 390.0,79.9 L 389.9,80.0 L 389.0,80.9 L 388.0,80.9 L 387.9,81.0 L 387.0,81.9 L 386.0,81.9 L 385.9,82.0 z\" /><path fill-rule=\"evenodd\" fill=\"#66cc99\" stroke=\"#555555\" stroke-width=\"2.0\" opacity=\"0.6\" d=\"M 422.9,89.0 L 423.0,89.1 L 424.0,89.1 L 425.0,89.1 L 426.0,89.1 L 427.0,89.1 L 428.0,89.1 L 429.0,89.1 L 430.0,89.1 L 431.0,89.1 L 431.1,89.0 L 431.1,88.0 L 431.0,87.9 L 430.1,87.0 L 430.0,86.9 L 429.0,86.9 L 428.9,87.0 L 428.0,87.9 L 427.0,87.9 L 426.0,87.9 L 425.9,88.0 L 425.0,88.9 L 424.0,88.9 L 423.0,88.9 L 422.9,89.0 z\" /><path fill-rule=\"evenodd\" fill=\"#66cc99\" stroke=\"#555555\" stroke-width=\"2.0\" opacity=\"0.6\" d=\"M 270.9,119.0 L 271.0,119.1 L 271.1,119.0 L 271.0,118.9 L 270.9,119.0 z\" /><path fill-rule=\"evenodd\" fill=\"#66cc99\" stroke=\"#555555\" stroke-width=\"2.0\" opacity=\"0.6\" d=\"M 272.9,117.0 L 273.0,117.1 L 273.1,117.0 L 273.0,116.9 L 272.9,117.0 z\" /><path fill-rule=\"evenodd\" fill=\"#66cc99\" stroke=\"#555555\" stroke-width=\"2.0\" opacity=\"0.6\" d=\"M 271.9,118.0 L 272.0,118.1 L 272.1,118.0 L 272.0,117.9 L 271.9,118.0 z\" /><path fill-rule=\"evenodd\" fill=\"#66cc99\" stroke=\"#555555\" stroke-width=\"2.0\" opacity=\"0.6\" d=\"M 274.9,113.0 L 274.9,114.0 L 274.9,115.0 L 274.9,116.0 L 275.0,116.1 L 275.1,116.0 L 275.1,115.0 L 275.1,114.0 L 276.0,113.1 L 276.1,113.0 L 276.0,112.9 L 275.0,112.9 L 274.9,113.0 z\" /><path fill-rule=\"evenodd\" fill=\"#66cc99\" stroke=\"#555555\" stroke-width=\"2.0\" opacity=\"0.6\" d=\"M 273.9,116.0 L 274.0,116.1 L 274.1,116.0 L 274.0,115.9 L 273.9,116.0 z\" /><path fill-rule=\"evenodd\" fill=\"#66cc99\" stroke=\"#555555\" stroke-width=\"2.0\" opacity=\"0.6\" d=\"M 273.9,118.0 L 274.0,118.1 L 274.1,118.0 L 274.0,117.9 L 273.9,118.0 z\" /><path fill-rule=\"evenodd\" fill=\"#66cc99\" stroke=\"#555555\" stroke-width=\"2.0\" opacity=\"0.6\" d=\"M 411.9,121.0 L 412.0,121.1 L 412.1,121.0 L 412.0,120.9 L 411.9,121.0 z\" /><path fill-rule=\"evenodd\" fill=\"#66cc99\" stroke=\"#555555\" stroke-width=\"2.0\" opacity=\"0.6\" d=\"M 392.9,131.0 L 393.0,131.1 L 393.1,131.0 L 393.0,130.9 L 392.9,131.0 z\" /><path fill-rule=\"evenodd\" fill=\"#66cc99\" stroke=\"#555555\" stroke-width=\"2.0\" opacity=\"0.6\" d=\"M 413.9,120.0 L 414.0,120.1 L 414.1,120.0 L 414.0,119.9 L 413.9,120.0 z\" /><path fill-rule=\"evenodd\" fill=\"#66cc99\" stroke=\"#555555\" stroke-width=\"2.0\" opacity=\"0.6\" d=\"M 366.9,158.0 L 367.0,158.1 L 367.1,158.0 L 367.0,157.9 L 366.9,158.0 z\" /><path fill-rule=\"evenodd\" fill=\"#66cc99\" stroke=\"#555555\" stroke-width=\"2.0\" opacity=\"0.6\" d=\"M 355.9,170.0 L 355.9,171.0 L 356.0,171.1 L 356.1,171.0 L 356.1,170.0 L 356.0,169.9 L 355.9,170.0 z\" /><path fill-rule=\"evenodd\" fill=\"#66cc99\" stroke=\"#555555\" stroke-width=\"2.0\" opacity=\"0.6\" d=\"M 351.9,172.0 L 352.0,172.1 L 353.0,172.1 L 353.1,172.0 L 353.0,171.9 L 352.0,171.9 L 351.9,172.0 z\" /><path fill-rule=\"evenodd\" fill=\"#66cc99\" stroke=\"#555555\" stroke-width=\"2.0\" opacity=\"0.6\" d=\"M 345.9,172.0 L 346.0,172.1 L 347.0,172.1 L 348.0,172.1 L 349.0,172.1 L 350.0,172.1 L 350.1,172.0 L 350.0,171.9 L 349.0,171.9 L 348.0,171.9 L 347.0,171.9 L 346.0,171.9 L 345.9,172.0 z\" /><path fill-rule=\"evenodd\" fill=\"#66cc99\" stroke=\"#555555\" stroke-width=\"2.0\" opacity=\"0.6\" d=\"M 342.9,170.0 L 343.0,170.1 L 344.0,170.1 L 345.0,170.1 L 345.1,170.0 L 345.0,169.9 L 344.0,169.9 L 343.0,169.9 L 342.9,170.0 z\" /><path fill-rule=\"evenodd\" fill=\"#66cc99\" stroke=\"#555555\" stroke-width=\"2.0\" opacity=\"0.6\" d=\"M 365.9,159.0 L 366.0,159.1 L 366.1,159.0 L 366.0,158.9 L 365.9,159.0 z\" /><path fill-rule=\"evenodd\" fill=\"#66cc99\" stroke=\"#555555\" stroke-width=\"2.0\" opacity=\"0.6\" d=\"M 332.9,163.0 L 333.0,163.1 L 333.9,164.0 L 334.0,164.1 L 334.1,164.0 L 334.1,163.0 L 334.0,162.9 L 333.0,162.9 L 332.9,163.0 z\" /><path fill-rule=\"evenodd\" fill=\"#66cc99\" stroke=\"#555555\" stroke-width=\"2.0\" opacity=\"0.6\" d=\"M 334.9,164.0 L 335.0,164.1 L 335.1,164.0 L 335.0,163.9 L 334.9,164.0 z\" /><path fill-rule=\"evenodd\" fill=\"#66cc99\" stroke=\"#555555\" stroke-width=\"2.0\" opacity=\"0.6\" d=\"M 335.9,165.0 L 336.0,165.1 L 336.1,165.0 L 336.0,164.9 L 335.9,165.0 z\" /><path fill-rule=\"evenodd\" fill=\"#66cc99\" stroke=\"#555555\" stroke-width=\"2.0\" opacity=\"0.6\" d=\"M 334.9,165.0 L 335.0,165.1 L 335.1,165.0 L 335.0,164.9 L 334.9,165.0 z\" /><path fill-rule=\"evenodd\" fill=\"#66cc99\" stroke=\"#555555\" stroke-width=\"2.0\" opacity=\"0.6\" d=\"M 327.9,158.0 L 327.9,159.0 L 327.9,160.0 L 327.9,161.0 L 327.9,162.0 L 327.9,163.0 L 328.0,163.1 L 328.9,164.0 L 329.0,164.1 L 329.9,165.0 L 330.0,165.1 L 330.9,166.0 L 331.0,166.1 L 331.9,167.0 L 332.0,167.1 L 332.9,168.0 L 333.0,168.1 L 334.0,168.1 L 335.0,168.1 L 336.0,168.1 L 336.1,168.0 L 336.0,167.9 L 335.1,167.0 L 335.1,166.0 L 335.0,165.9 L 334.1,165.0 L 334.0,164.9 L 333.1,164.0 L 333.0,163.9 L 332.1,163.0 L 332.1,162.0 L 332.0,161.9 L 331.1,161.0 L 331.0,160.9 L 330.1,160.0 L 330.0,159.9 L 329.1,159.0 L 329.0,158.9 L 328.1,158.0 L 328.0,157.9 L 327.9,158.0 z\" /><path fill-rule=\"evenodd\" fill=\"#66cc99\" stroke=\"#555555\" stroke-width=\"2.0\" opacity=\"0.6\" d=\"M 336.9,166.0 L 337.0,166.1 L 337.9,167.0 L 338.0,167.1 L 339.0,167.1 L 340.0,167.1 L 340.1,167.0 L 340.0,166.9 L 339.0,166.9 L 338.1,166.0 L 338.0,165.9 L 337.0,165.9 L 336.9,166.0 z\" /><path fill-rule=\"evenodd\" fill=\"#66cc99\" stroke=\"#555555\" stroke-width=\"2.0\" opacity=\"0.6\" d=\"M 335.9,166.0 L 335.9,167.0 L 336.0,167.1 L 336.9,168.0 L 337.0,168.1 L 337.9,169.0 L 338.0,169.1 L 339.0,169.1 L 340.0,169.1 L 341.0,169.1 L 342.0,169.1 L 343.0,169.1 L 344.0,169.1 L 345.0,169.1 L 345.1,169.0 L 345.0,168.9 L 344.0,168.9 L 343.1,168.0 L 343.0,167.9 L 342.0,167.9 L 341.0,167.9 L 340.0,167.9 L 339.0,167.9 L 338.0,167.9 L 337.1,167.0 L 337.0,166.9 L 336.1,166.0 L 336.0,165.9 L 335.9,166.0 z\" /><path fill-rule=\"evenodd\" fill=\"#66cc99\" stroke=\"#555555\" stroke-width=\"2.0\" opacity=\"0.6\" d=\"M 357.9,167.0 L 357.9,168.0 L 358.0,168.1 L 358.1,168.0 L 358.1,167.0 L 358.0,166.9 L 357.9,167.0 z\" /><path fill-rule=\"evenodd\" fill=\"#66cc99\" stroke=\"#555555\" stroke-width=\"2.0\" opacity=\"0.6\" d=\"M 350.9,168.0 L 351.0,168.1 L 352.0,168.1 L 352.1,168.0 L 352.0,167.9 L 351.0,167.9 L 350.9,168.0 z\" /><path fill-rule=\"evenodd\" fill=\"#66cc99\" stroke=\"#555555\" stroke-width=\"2.0\" opacity=\"0.6\" d=\"M 335.9,169.0 L 336.0,169.1 L 336.9,170.0 L 337.0,170.1 L 338.0,170.1 L 338.9,171.0 L 339.0,171.1 L 339.9,172.0 L 340.0,172.1 L 341.0,172.1 L 342.0,172.1 L 343.0,172.1 L 344.0,172.1 L 344.1,172.0 L 345.0,171.1 L 346.0,171.1 L 347.0,171.1 L 348.0,171.1 L 349.0,171.1 L 350.0,171.1 L 350.1,171.0 L 350.1,170.0 L 350.0,169.9 L 349.0,169.9 L 348.0,169.9 L 347.0,169.9 L 346.0,169.9 L 345.9,170.0 L 345.0,170.9 L 344.0,170.9 L 343.0,170.9 L 342.1,170.0 L 342.0,169.9 L 341.0,169.9 L 340.0,169.9 L 339.0,169.9 L 338.0,169.9 L 337.1,169.0 L 337.0,168.9 L 336.0,168.9 L 335.9,169.0 z\" /><path fill-rule=\"evenodd\" fill=\"#66cc99\" stroke=\"#555555\" stroke-width=\"2.0\" opacity=\"0.6\" d=\"M 267.9,129.0 L 267.9,130.0 L 267.9,131.0 L 267.9,132.0 L 267.9,133.0 L 267.9,134.0 L 267.9,135.0 L 268.0,135.1 L 268.1,135.0 L 268.1,134.0 L 268.1,133.0 L 269.0,132.1 L 269.1,132.0 L 269.1,131.0 L 269.1,130.0 L 270.0,129.1 L 270.1,129.0 L 270.1,128.0 L 271.0,127.1 L 271.1,127.0 L 271.1,126.0 L 271.1,125.0 L 272.0,124.1 L 272.1,124.0 L 272.1,123.0 L 272.1,122.0 L 273.0,121.1 L 273.1,121.0 L 273.1,120.0 L 273.1,119.0 L 273.1,118.0 L 273.0,117.9 L 272.9,118.0 L 272.0,118.9 L 271.9,119.0 L 271.0,119.9 L 270.9,120.0 L 270.0,120.9 L 269.9,121.0 L 269.9,122.0 L 269.9,123.0 L 269.0,123.9 L 268.9,124.0 L 268.9,125.0 L 268.9,126.0 L 268.9,127.0 L 268.9,128.0 L 268.0,128.9 L 267.9,129.0 z\" /><path fill-rule=\"evenodd\" fill=\"#66cc99\" stroke=\"#555555\" stroke-width=\"2.0\" opacity=\"0.6\" d=\"M 273.9,149.0 L 274.0,149.1 L 274.9,150.0 L 274.9,151.0 L 275.0,151.1 L 276.0,151.1 L 276.1,151.0 L 276.0,150.9 L 275.1,150.0 L 275.1,149.0 L 275.0,148.9 L 274.0,148.9 L 273.9,149.0 z\" /><path fill-rule=\"evenodd\" fill=\"#66cc99\" stroke=\"#555555\" stroke-width=\"2.0\" opacity=\"0.6\" d=\"M 269.9,138.0 L 269.9,139.0 L 269.9,140.0 L 269.9,141.0 L 269.9,142.0 L 269.9,143.0 L 269.9,144.0 L 269.9,145.0 L 269.9,146.0 L 269.9,147.0 L 270.0,147.1 L 271.0,147.1 L 271.9,148.0 L 272.0,148.1 L 273.0,148.1 L 274.0,148.1 L 274.1,148.0 L 274.1,147.0 L 274.0,146.9 L 273.1,146.0 L 273.0,145.9 L 272.1,145.0 L 272.0,144.9 L 271.1,144.0 L 271.0,143.9 L 270.1,143.0 L 270.1,142.0 L 270.1,141.0 L 271.0,140.1 L 271.1,140.0 L 271.0,139.9 L 270.1,139.0 L 270.1,138.0 L 270.0,137.9 L 269.9,138.0 z\" /><path fill-rule=\"evenodd\" fill=\"#66cc99\" stroke=\"#555555\" stroke-width=\"2.0\" opacity=\"0.6\" d=\"M 272.9,145.0 L 273.0,145.1 L 273.1,145.0 L 273.0,144.9 L 272.9,145.0 z\" /><path fill-rule=\"evenodd\" fill=\"#66cc99\" stroke=\"#555555\" stroke-width=\"2.0\" opacity=\"0.6\" d=\"M 280.9,153.0 L 281.0,153.1 L 281.1,153.0 L 281.0,152.9 L 280.9,153.0 z\" /><path fill-rule=\"evenodd\" fill=\"#66cc99\" stroke=\"#555555\" stroke-width=\"2.0\" opacity=\"0.6\" d=\"M 281.9,154.0 L 282.0,154.1 L 282.1,154.0 L 282.0,153.9 L 281.9,154.0 z\" /><path fill-rule=\"evenodd\" fill=\"#66cc99\" stroke=\"#555555\" stroke-width=\"2.0\" opacity=\"0.6\" d=\"M 374.9,140.0 L 375.0,140.1 L 375.1,140.0 L 375.0,139.9 L 374.9,140.0 z\" /><path fill-rule=\"evenodd\" fill=\"#66cc99\" stroke=\"#555555\" stroke-width=\"2.0\" opacity=\"0.6\" d=\"M 293.9,155.0 L 294.0,155.1 L 295.0,155.1 L 295.9,156.0 L 296.0,156.1 L 297.0,156.1 L 298.0,156.1 L 298.9,157.0 L 299.0,157.1 L 300.0,157.1 L 300.9,158.0 L 301.0,158.1 L 302.0,158.1 L 303.0,158.1 L 303.1,158.0 L 304.0,157.1 L 305.0,157.1 L 306.0,157.1 L 306.1,157.0 L 307.0,156.1 L 308.0,156.1 L 309.0,156.1 L 309.1,156.0 L 310.0,155.1 L 311.0,155.1 L 312.0,155.1 L 312.1,155.0 L 313.0,154.1 L 314.0,154.1 L 315.0,154.1 L 316.0,154.1 L 316.1,154.0 L 317.0,153.1 L 318.0,153.1 L 319.0,153.1 L 319.1,153.0 L 320.0,152.1 L 321.0,152.1 L 322.0,152.1 L 322.1,152.0 L 322.0,151.9 L 321.0,151.9 L 320.1,151.0 L 320.0,150.9 L 319.1,150.0 L 319.0,149.9 L 318.0,149.9 L 317.1,149.0 L 317.0,148.9 L 316.0,148.9 L 315.9,149.0 L 315.0,149.9 L 314.0,149.9 L 313.0,149.9 L 312.0,149.9 L 311.9,150.0 L 311.0,150.9 L 310.0,150.9 L 309.0,150.9 L 308.9,151.0 L 308.0,151.9 L 307.0,151.9 L 306.0,151.9 L 305.9,152.0 L 305.0,152.9 L 304.0,152.9 L 303.0,152.9 L 302.0,152.9 L 301.9,153.0 L 301.0,153.9 L 300.0,153.9 L 299.0,153.9 L 298.9,154.0 L 298.0,154.9 L 297.0,154.9 L 296.0,154.9 L 295.0,154.9 L 294.0,154.9 L 293.9,155.0 z\" /><path fill-rule=\"evenodd\" fill=\"#66cc99\" stroke=\"#555555\" stroke-width=\"2.0\" opacity=\"0.6\" d=\"M 316.9,154.0 L 317.0,154.1 L 318.0,154.1 L 318.1,154.0 L 318.0,153.9 L 317.0,153.9 L 316.9,154.0 z\" /><path fill-rule=\"evenodd\" fill=\"#66cc99\" stroke=\"#555555\" stroke-width=\"2.0\" opacity=\"0.6\" d=\"M 282.9,154.0 L 283.0,154.1 L 283.9,155.0 L 284.0,155.1 L 284.9,156.0 L 285.0,156.1 L 286.0,156.1 L 287.0,156.1 L 288.0,156.1 L 289.0,156.1 L 289.1,156.0 L 290.0,155.1 L 290.1,155.0 L 290.0,154.9 L 289.0,154.9 L 288.0,154.9 L 287.0,154.9 L 286.1,154.0 L 286.0,153.9 L 285.0,153.9 L 284.0,153.9 L 283.0,153.9 L 282.9,154.0 z\" /><path fill-rule=\"evenodd\" fill=\"#66cc99\" stroke=\"#555555\" stroke-width=\"2.0\" opacity=\"0.6\" d=\"M 290.9,155.0 L 291.0,155.1 L 292.0,155.1 L 293.0,155.1 L 293.1,155.0 L 293.0,154.9 L 292.0,154.9 L 291.0,154.9 L 290.9,155.0 z\" /><path fill-rule=\"evenodd\" fill=\"#66cc99\" stroke=\"#555555\" stroke-width=\"2.0\" opacity=\"0.6\" d=\"M 290.9,154.0 L 291.0,154.1 L 291.1,154.0 L 291.0,153.9 L 290.9,154.0 z\" /><path fill-rule=\"evenodd\" fill=\"#66cc99\" stroke=\"#555555\" stroke-width=\"2.0\" opacity=\"0.6\" d=\"M 318.9,154.0 L 319.0,154.1 L 319.9,155.0 L 320.0,155.1 L 321.0,155.1 L 321.9,156.0 L 322.0,156.1 L 322.9,157.0 L 323.0,157.1 L 324.0,157.1 L 324.9,158.0 L 325.0,158.1 L 325.9,159.0 L 326.0,159.1 L 327.0,159.1 L 327.1,159.0 L 327.1,158.0 L 327.1,157.0 L 327.0,156.9 L 326.1,156.0 L 326.0,155.9 L 325.1,155.0 L 325.0,154.9 L 324.1,154.0 L 324.0,153.9 L 323.1,153.0 L 323.0,152.9 L 322.0,152.9 L 321.0,152.9 L 320.0,152.9 L 319.9,153.0 L 319.0,153.9 L 318.9,154.0 z\" /><path fill-rule=\"evenodd\" fill=\"#66cc99\" stroke=\"#555555\" stroke-width=\"2.0\" opacity=\"0.6\" d=\"M 348.9,169.0 L 349.0,169.1 L 350.0,169.1 L 351.0,169.1 L 352.0,169.1 L 353.0,169.1 L 354.0,169.1 L 355.0,169.1 L 355.1,169.0 L 356.0,168.1 L 356.1,168.0 L 357.0,167.1 L 357.1,167.0 L 358.0,166.1 L 358.1,166.0 L 359.0,165.1 L 359.1,165.0 L 360.0,164.1 L 360.1,164.0 L 361.0,163.1 L 361.1,163.0 L 362.0,162.1 L 362.1,162.0 L 363.0,161.1 L 363.1,161.0 L 364.0,160.1 L 364.1,160.0 L 365.0,159.1 L 365.1,159.0 L 366.0,158.1 L 366.1,158.0 L 367.0,157.1 L 367.1,157.0 L 368.0,156.1 L 368.1,156.0 L 369.0,155.1 L 369.1,155.0 L 370.0,154.1 L 370.1,154.0 L 371.0,153.1 L 371.1,153.0 L 372.0,152.1 L 372.1,152.0 L 373.0,151.1 L 373.1,151.0 L 374.0,150.1 L 374.1,150.0 L 375.0,149.1 L 375.1,149.0 L 376.0,148.1 L 376.1,148.0 L 377.0,147.1 L 377.1,147.0 L 378.0,146.1 L 378.1,146.0 L 379.0,145.1 L 379.1,145.0 L 380.0,144.1 L 380.1,144.0 L 381.0,143.1 L 381.1,143.0 L 382.0,142.1 L 382.1,142.0 L 383.0,141.1 L 383.1,141.0 L 384.0,140.1 L 384.1,140.0 L 385.0,139.1 L 385.1,139.0 L 386.0,138.1 L 386.1,138.0 L 387.0,137.1 L 387.1,137.0 L 388.0,136.1 L 388.1,136.0 L 389.0,135.1 L 389.1,135.0 L 390.0,134.1 L 390.1,134.0 L 391.0,133.1 L 391.1,133.0 L 392.0,132.1 L 392.1,132.0 L 392.0,131.9 L 391.0,131.9 L 390.9,132.0 L 390.0,132.9 L 389.9,133.0 L 389.0,133.9 L 388.0,133.9 L 387.9,134.0 L 387.0,134.9 L 386.0,134.9 L 385.9,135.0 L 385.0,135.9 L 384.0,135.9 L 383.9,136.0 L 383.0,136.9 L 382.0,136.9 L 381.9,137.0 L 381.0,137.9 L 380.0,137.9 L 379.9,138.0 L 379.0,138.9 L 378.0,138.9 L 377.9,139.0 L 377.0,139.9 L 376.0,139.9 L 375.9,140.0 L 375.0,140.9 L 374.0,140.9 L 373.9,141.0 L 373.0,141.9 L 372.0,141.9 L 371.9,142.0 L 371.0,142.9 L 370.9,143.0 L 370.0,143.9 L 369.9,144.0 L 369.0,144.9 L 368.9,145.0 L 368.0,145.9 L 367.9,146.0 L 367.9,147.0 L 367.0,147.9 L 366.9,148.0 L 366.9,149.0 L 366.0,149.9 L 365.9,150.0 L 365.9,151.0 L 365.0,151.9 L 364.9,152.0 L 364.9,153.0 L 364.0,153.9 L 363.9,154.0 L 363.9,155.0 L 363.0,155.9 L 362.9,156.0 L 362.0,156.9 L 361.9,157.0 L 361.9,158.0 L 361.0,158.9 L 360.9,159.0 L 360.9,160.0 L 360.0,160.9 L 359.9,161.0 L 359.9,162.0 L 359.0,162.9 L 358.9,163.0 L 358.9,164.0 L 358.0,164.9 L 357.9,165.0 L 357.0,165.9 L 356.0,165.9 L 355.9,166.0 L 355.0,166.9 L 354.0,166.9 L 353.9,167.0 L 353.0,167.9 L 352.9,168.0 L 352.0,168.9 L 351.0,168.9 L 350.0,168.9 L 349.0,168.9 L 348.9,169.0 z\" /><path fill-rule=\"evenodd\" fill=\"#66cc99\" stroke=\"#555555\" stroke-width=\"2.0\" opacity=\"0.6\" d=\"M 315.9,104.0 L 315.9,105.0 L 316.0,105.1 L 316.1,105.0 L 317.0,104.1 L 318.0,104.1 L 318.1,104.0 L 319.0,103.1 L 319.1,103.0 L 319.0,102.9 L 318.0,102.9 L 317.9,103.0 L 317.0,103.9 L 316.0,103.9 L 315.9,104.0 z\" /><path fill-rule=\"evenodd\" fill=\"#66cc99\" stroke=\"#555555\" stroke-width=\"2.0\" opacity=\"0.6\" d=\"M 283.9,109.0 L 284.0,109.1 L 284.1,109.0 L 284.0,108.9 L 283.9,109.0 z\" /><path fill-rule=\"evenodd\" fill=\"#66cc99\" stroke=\"#555555\" stroke-width=\"2.0\" opacity=\"0.6\" d=\"M 286.9,107.0 L 287.0,107.1 L 287.9,108.0 L 288.0,108.1 L 289.0,108.1 L 290.0,108.1 L 290.1,108.0 L 291.0,107.1 L 292.0,107.1 L 293.0,107.1 L 294.0,107.1 L 295.0,107.1 L 295.1,107.0 L 296.0,106.1 L 297.0,106.1 L 298.0,106.1 L 299.0,106.1 L 299.1,106.0 L 300.0,105.1 L 301.0,105.1 L 302.0,105.1 L 303.0,105.1 L 304.0,105.1 L 305.0,105.1 L 306.0,105.1 L 306.9,106.0 L 307.0,106.1 L 308.0,106.1 L 309.0,106.1 L 310.0,106.1 L 311.0,106.1 L 312.0,106.1 L 313.0,106.1 L 314.0,106.1 L 315.0,106.1 L 315.1,106.0 L 315.1,105.0 L 315.0,104.9 L 314.0,104.9 L 313.1,104.0 L 313.0,103.9 L 312.0,103.9 L 311.1,103.0 L 311.0,102.9 L 310.0,102.9 L 309.9,103.0 L 309.0,103.9 L 308.0,103.9 L 307.0,103.9 L 306.9,104.0 L 306.0,104.9 L 305.0,104.9 L 304.0,104.9 L 303.0,104.9 L 302.0,104.9 L 301.0,104.9 L 300.0,104.9 L 299.0,104.9 L 298.0,104.9 L 297.0,104.9 L 296.0,104.9 L 295.0,104.9 L 294.0,104.9 L 293.0,104.9 L 292.0,104.9 L 291.0,104.9 L 290.0,104.9 L 289.9,105.0 L 289.0,105.9 L 288.0,105.9 L 287.9,106.0 L 287.0,106.9 L 286.9,107.0 z\" /><path fill-rule=\"evenodd\" fill=\"#66cc99\" stroke=\"#555555\" stroke-width=\"2.0\" opacity=\"0.6\" d=\"M 299.9,106.0 L 300.0,106.1 L 301.0,106.1 L 302.0,106.1 L 303.0,106.1 L 304.0,106.1 L 305.0,106.1 L 306.0,106.1 L 306.1,106.0 L 306.0,105.9 L 305.0,105.9 L 304.0,105.9 L 303.0,105.9 L 302.0,105.9 L 301.0,105.9 L 300.0,105.9 L 299.9,106.0 z\" /><path fill-rule=\"evenodd\" fill=\"#66cc99\" stroke=\"#555555\" stroke-width=\"2.0\" opacity=\"0.6\" d=\"M 313.9,107.0 L 314.0,107.1 L 315.0,107.1 L 316.0,107.1 L 317.0,107.1 L 317.1,107.0 L 318.0,106.1 L 318.1,106.0 L 318.0,105.9 L 317.0,105.9 L 316.0,105.9 L 315.9,106.0 L 315.0,106.9 L 314.0,106.9 L 313.9,107.0 z\" /><path fill-rule=\"evenodd\" fill=\"#66cc99\" stroke=\"#555555\" stroke-width=\"2.0\" opacity=\"0.6\" d=\"M 308.9,107.0 L 309.0,107.1 L 310.0,107.1 L 311.0,107.1 L 312.0,107.1 L 313.0,107.1 L 313.1,107.0 L 313.0,106.9 L 312.0,106.9 L 311.0,106.9 L 310.0,106.9 L 309.0,106.9 L 308.9,107.0 z\" /><path fill-rule=\"evenodd\" fill=\"#66cc99\" stroke=\"#555555\" stroke-width=\"2.0\" opacity=\"0.6\" d=\"M 295.9,107.0 L 296.0,107.1 L 296.1,107.0 L 296.0,106.9 L 295.9,107.0 z\" /><path fill-rule=\"evenodd\" fill=\"#66cc99\" stroke=\"#555555\" stroke-width=\"2.0\" opacity=\"0.6\" d=\"M 290.9,108.0 L 291.0,108.1 L 291.9,109.0 L 292.0,109.1 L 293.0,109.1 L 293.1,109.0 L 294.0,108.1 L 295.0,108.1 L 295.1,108.0 L 295.0,107.9 L 294.0,107.9 L 293.0,107.9 L 292.0,107.9 L 291.0,107.9 L 290.9,108.0 z\" /><path fill-rule=\"evenodd\" fill=\"#66cc99\" stroke=\"#555555\" stroke-width=\"2.0\" opacity=\"0.6\" d=\"M 278.9,110.0 L 278.9,111.0 L 279.0,111.1 L 279.1,111.0 L 280.0,110.1 L 281.0,110.1 L 282.0,110.1 L 282.1,110.0 L 283.0,109.1 L 283.1,109.0 L 284.0,108.1 L 285.0,108.1 L 285.1,108.0 L 286.0,107.1 L 286.1,107.0 L 287.0,106.1 L 287.1,106.0 L 287.0,105.9 L 286.0,105.9 L 285.0,105.9 L 284.0,105.9 L 283.0,105.9 L 282.9,106.0 L 282.0,106.9 L 281.9,107.0 L 281.0,107.9 L 280.9,108.0 L 280.0,108.9 L 279.9,109.0 L 279.0,109.9 L 278.9,110.0 z\" /><path fill-rule=\"evenodd\" fill=\"#66cc99\" stroke=\"#555555\" stroke-width=\"2.0\" opacity=\"0.6\" d=\"M 309.9,108.0 L 309.9,109.0 L 310.0,109.1 L 311.0,109.1 L 312.0,109.1 L 313.0,109.1 L 314.0,109.1 L 315.0,109.1 L 315.1,109.0 L 316.0,108.1 L 316.1,108.0 L 316.0,107.9 L 315.0,107.9 L 314.0,107.9 L 313.0,107.9 L 312.0,107.9 L 311.0,107.9 L 310.0,107.9 L 309.9,108.0 z\" /><path fill-rule=\"evenodd\" fill=\"#66cc99\" stroke=\"#555555\" stroke-width=\"2.0\" opacity=\"0.6\" d=\"M 288.9,110.0 L 289.0,110.1 L 290.0,110.1 L 291.0,110.1 L 292.0,110.1 L 292.1,110.0 L 292.0,109.9 L 291.0,109.9 L 290.0,109.9 L 289.0,109.9 L 288.9,110.0 z\" /><path fill-rule=\"evenodd\" fill=\"#66cc99\" stroke=\"#555555\" stroke-width=\"2.0\" opacity=\"0.6\" d=\"M 284.9,111.0 L 285.0,111.1 L 286.0,111.1 L 287.0,111.1 L 288.0,111.1 L 288.1,111.0 L 288.0,110.9 L 287.0,110.9 L 286.0,110.9 L 285.0,110.9 L 284.9,111.0 z\" /><path fill-rule=\"evenodd\" fill=\"#66cc99\" stroke=\"#555555\" stroke-width=\"2.0\" opacity=\"0.6\" d=\"M 323.9,95.0 L 324.0,95.1 L 324.1,95.0 L 324.0,94.9 L 323.9,95.0 z\" /><path fill-rule=\"evenodd\" fill=\"#66cc99\" stroke=\"#555555\" stroke-width=\"2.0\" opacity=\"0.6\" d=\"M 328.9,95.0 L 329.0,95.1 L 329.1,95.0 L 329.0,94.9 L 328.9,95.0 z\" /><path fill-rule=\"evenodd\" fill=\"#66cc99\" stroke=\"#555555\" stroke-width=\"2.0\" opacity=\"0.6\" d=\"M 326.9,97.0 L 327.0,97.1 L 327.1,97.0 L 327.0,96.9 L 326.9,97.0 z\" /><path fill-rule=\"evenodd\" fill=\"#66cc99\" stroke=\"#555555\" stroke-width=\"2.0\" opacity=\"0.6\" d=\"M 325.9,99.0 L 326.0,99.1 L 326.1,99.0 L 326.0,98.9 L 325.9,99.0 z\" /><path fill-rule=\"evenodd\" fill=\"#66cc99\" stroke=\"#555555\" stroke-width=\"2.0\" opacity=\"0.6\" d=\"M 443.9,99.0 L 444.0,99.1 L 444.1,99.0 L 444.0,98.9 L 443.9,99.0 z\" /><path fill-rule=\"evenodd\" fill=\"#66cc99\" stroke=\"#555555\" stroke-width=\"2.0\" opacity=\"0.6\" d=\"M 444.9,100.0 L 445.0,100.1 L 445.1,100.0 L 445.0,99.9 L 444.9,100.0 z\" /><path fill-rule=\"evenodd\" fill=\"#66cc99\" stroke=\"#555555\" stroke-width=\"2.0\" opacity=\"0.6\" d=\"M 324.9,100.0 L 325.0,100.1 L 325.1,100.0 L 325.0,99.9 L 324.9,100.0 z\" /><path fill-rule=\"evenodd\" fill=\"#66cc99\" stroke=\"#555555\" stroke-width=\"2.0\" opacity=\"0.6\" d=\"M 445.9,101.0 L 446.0,101.1 L 446.1,101.0 L 446.0,100.9 L 445.9,101.0 z\" /><path fill-rule=\"evenodd\" fill=\"#66cc99\" stroke=\"#555555\" stroke-width=\"2.0\" opacity=\"0.6\" d=\"M 439.9,101.0 L 440.0,101.1 L 440.1,101.0 L 440.0,100.9 L 439.9,101.0 z\" /><path fill-rule=\"evenodd\" fill=\"#66cc99\" stroke=\"#555555\" stroke-width=\"2.0\" opacity=\"0.6\" d=\"M 441.9,96.0 L 442.0,96.1 L 442.1,96.0 L 442.0,95.9 L 441.9,96.0 z\" /><path fill-rule=\"evenodd\" fill=\"#66cc99\" stroke=\"#555555\" stroke-width=\"2.0\" opacity=\"0.6\" d=\"M 327.9,96.0 L 328.0,96.1 L 328.1,96.0 L 328.0,95.9 L 327.9,96.0 z\" /><path fill-rule=\"evenodd\" fill=\"#66cc99\" stroke=\"#555555\" stroke-width=\"2.0\" opacity=\"0.6\" d=\"M 437.9,95.0 L 437.9,96.0 L 437.9,97.0 L 438.0,97.1 L 438.9,98.0 L 438.9,99.0 L 439.0,99.1 L 439.9,100.0 L 440.0,100.1 L 440.9,101.0 L 440.9,102.0 L 441.0,102.1 L 441.9,103.0 L 441.9,104.0 L 442.0,104.1 L 442.9,105.0 L 442.9,106.0 L 443.0,106.1 L 443.9,107.0 L 443.9,108.0 L 444.0,108.1 L 444.9,109.0 L 444.0,109.9 L 443.0,109.9 L 442.0,109.9 L 441.9,110.0 L 442.0,110.1 L 442.9,111.0 L 443.0,111.1 L 443.9,112.0 L 444.0,112.1 L 444.9,113.0 L 444.9,114.0 L 445.0,114.1 L 445.9,115.0 L 446.0,115.1 L 446.9,116.0 L 447.0,116.1 L 447.9,117.0 L 448.0,117.1 L 448.1,117.0 L 449.0,116.1 L 449.1,116.0 L 449.1,115.0 L 450.0,114.1 L 450.1,114.0 L 451.0,113.1 L 451.1,113.0 L 451.1,112.0 L 452.0,111.1 L 452.1,111.0 L 453.0,110.1 L 453.1,110.0 L 453.1,109.0 L 454.0,108.1 L 454.1,108.0 L 454.1,107.0 L 455.0,106.1 L 455.1,106.0 L 455.1,105.0 L 455.0,104.9 L 454.0,104.9 L 453.1,104.0 L 453.0,103.9 L 452.0,103.9 L 451.0,103.9 L 450.1,103.0 L 450.0,102.9 L 449.0,102.9 L 448.0,102.9 L 447.1,102.0 L 447.0,101.9 L 446.0,101.9 L 445.1,101.0 L 445.0,100.9 L 444.1,100.0 L 444.0,99.9 L 443.1,99.0 L 443.1,98.0 L 443.0,97.9 L 442.1,97.0 L 442.0,96.9 L 441.1,96.0 L 441.0,95.9 L 440.1,95.0 L 440.0,94.9 L 439.0,94.9 L 438.0,94.9 L 437.9,95.0 z\" /><path fill-rule=\"evenodd\" fill=\"#66cc99\" stroke=\"#555555\" stroke-width=\"2.0\" opacity=\"0.6\" d=\"M 315.9,109.0 L 316.0,109.1 L 317.0,109.1 L 318.0,109.1 L 318.1,109.0 L 319.0,108.1 L 320.0,108.1 L 321.0,108.1 L 321.1,108.0 L 321.1,107.0 L 322.0,106.1 L 322.1,106.0 L 322.1,105.0 L 323.0,104.1 L 323.1,104.0 L 323.1,103.0 L 324.0,102.1 L 324.1,102.0 L 324.1,101.0 L 324.0,100.9 L 323.9,101.0 L 323.0,101.9 L 322.9,102.0 L 322.0,102.9 L 321.9,103.0 L 321.0,103.9 L 320.9,104.0 L 320.0,104.9 L 319.9,105.0 L 319.0,105.9 L 318.9,106.0 L 318.0,106.9 L 317.9,107.0 L 317.0,107.9 L 316.9,108.0 L 316.0,108.9 L 315.9,109.0 z\" /><path fill-rule=\"evenodd\" fill=\"#66cc99\" stroke=\"#555555\" stroke-width=\"2.0\" opacity=\"0.6\" d=\"M 394.9,89.0 L 395.0,89.1 L 396.0,89.1 L 396.9,90.0 L 397.0,90.1 L 398.0,90.1 L 398.9,91.0 L 399.0,91.1 L 400.0,91.1 L 400.9,92.0 L 401.0,92.1 L 402.0,92.1 L 403.0,92.1 L 404.0,92.1 L 405.0,92.1 L 406.0,92.1 L 407.0,92.1 L 408.0,92.1 L 409.0,92.1 L 410.0,92.1 L 411.0,92.1 L 412.0,92.1 L 413.0,92.1 L 414.0,92.1 L 415.0,92.1 L 416.0,92.1 L 417.0,92.1 L 418.0,92.1 L 419.0,92.1 L 420.0,92.1 L 421.0,92.1 L 421.9,93.0 L 422.0,93.1 L 423.0,93.1 L 424.0,93.1 L 425.0,93.1 L 425.9,94.0 L 426.0,94.1 L 427.0,94.1 L 428.0,94.1 L 429.0,94.1 L 429.9,95.0 L 430.0,95.1 L 431.0,95.1 L 431.1,95.0 L 432.0,94.1 L 433.0,94.1 L 434.0,94.1 L 435.0,94.1 L 436.0,94.1 L 436.9,95.0 L 437.0,95.1 L 437.1,95.0 L 437.1,94.0 L 437.1,93.0 L 437.1,92.0 L 437.1,91.0 L 437.1,90.0 L 437.0,89.9 L 436.0,89.9 L 435.0,89.9 L 434.0,89.9 L 433.0,89.9 L 432.0,89.9 L 431.0,89.9 L 430.0,89.9 L 429.0,89.9 L 428.0,89.9 L 427.0,89.9 L 426.0,89.9 L 425.0,89.9 L 424.0,89.9 L 423.0,89.9 L 422.0,89.9 L 421.0,89.9 L 420.0,89.9 L 419.0,89.9 L 418.0,89.9 L 417.0,89.9 L 416.1,89.0 L 416.0,88.9 L 415.0,88.9 L 414.0,88.9 L 413.0,88.9 L 412.0,88.9 L 411.0,88.9 L 410.0,88.9 L 409.0,88.9 L 408.0,88.9 L 407.0,88.9 L 406.0,88.9 L 405.0,88.9 L 404.0,88.9 L 403.0,88.9 L 402.0,88.9 L 401.0,88.9 L 400.0,88.9 L 399.0,88.9 L 398.0,88.9 L 397.0,88.9 L 396.0,88.9 L 395.0,88.9 L 394.9,89.0 z\" /><path fill-rule=\"evenodd\" fill=\"#66cc99\" stroke=\"#555555\" stroke-width=\"2.0\" opacity=\"0.6\" d=\"M 448.9,117.0 L 448.9,118.0 L 449.0,118.1 L 449.9,119.0 L 450.0,119.1 L 450.1,119.0 L 450.1,118.0 L 450.1,117.0 L 450.1,116.0 L 450.1,115.0 L 450.0,114.9 L 449.9,115.0 L 449.9,116.0 L 449.0,116.9 L 448.9,117.0 z\" /><path fill-rule=\"evenodd\" fill=\"#66cc99\" stroke=\"#555555\" stroke-width=\"2.0\" opacity=\"0.6\" d=\"M 418.9,117.0 L 419.0,117.1 L 419.1,117.0 L 419.0,116.9 L 418.9,117.0 z\" /><path fill-rule=\"evenodd\" fill=\"#66cc99\" stroke=\"#555555\" stroke-width=\"2.0\" opacity=\"0.6\" d=\"M 375.9,139.0 L 376.0,139.1 L 377.0,139.1 L 377.1,139.0 L 378.0,138.1 L 379.0,138.1 L 379.1,138.0 L 380.0,137.1 L 381.0,137.1 L 381.1,137.0 L 382.0,136.1 L 383.0,136.1 L 383.1,136.0 L 384.0,135.1 L 385.0,135.1 L 385.1,135.0 L 386.0,134.1 L 387.0,134.1 L 387.1,134.0 L 388.0,133.1 L 389.0,133.1 L 389.1,133.0 L 390.0,132.1 L 390.1,132.0 L 391.0,131.1 L 392.0,131.1 L 392.1,131.0 L 393.0,130.1 L 394.0,130.1 L 394.1,130.0 L 395.0,129.1 L 396.0,129.1 L 396.1,129.0 L 397.0,128.1 L 398.0,128.1 L 398.1,128.0 L 399.0,127.1 L 400.0,127.1 L 400.1,127.0 L 401.0,126.1 L 402.0,126.1 L 402.1,126.0 L 403.0,125.1 L 404.0,125.1 L 404.1,125.0 L 405.0,124.1 L 405.1,124.0 L 406.0,123.1 L 407.0,123.1 L 407.1,123.0 L 408.0,122.1 L 409.0,122.1 L 409.1,122.0 L 410.0,121.1 L 411.0,121.1 L 411.1,121.0 L 412.0,120.1 L 413.0,120.1 L 413.1,120.0 L 414.0,119.1 L 415.0,119.1 L 415.1,119.0 L 416.0,118.1 L 417.0,118.1 L 417.1,118.0 L 418.0,117.1 L 418.1,117.0 L 419.0,116.1 L 420.0,116.1 L 420.1,116.0 L 421.0,115.1 L 422.0,115.1 L 422.1,115.0 L 423.0,114.1 L 424.0,114.1 L 424.1,114.0 L 425.0,113.1 L 426.0,113.1 L 426.1,113.0 L 427.0,112.1 L 428.0,112.1 L 428.1,112.0 L 429.0,111.1 L 430.0,111.1 L 430.1,111.0 L 431.0,110.1 L 432.0,110.1 L 432.1,110.0 L 433.0,109.1 L 434.0,109.1 L 435.0,109.1 L 436.0,109.1 L 437.0,109.1 L 438.0,109.1 L 439.0,109.1 L 440.0,109.1 L 441.0,109.1 L 442.0,109.1 L 443.0,109.1 L 444.0,109.1 L 444.1,109.0 L 444.0,108.9 L 443.1,108.0 L 443.1,107.0 L 443.0,106.9 L 442.1,106.0 L 442.1,105.0 L 442.0,104.9 L 441.1,104.0 L 441.1,103.0 L 441.0,102.9 L 440.1,102.0 L 440.0,101.9 L 439.1,101.0 L 439.1,100.0 L 439.0,99.9 L 438.1,99.0 L 438.1,98.0 L 438.0,97.9 L 437.1,97.0 L 437.1,96.0 L 437.0,95.9 L 436.1,95.0 L 436.0,94.9 L 435.0,94.9 L 434.0,94.9 L 433.0,94.9 L 432.0,94.9 L 431.9,95.0 L 431.9,96.0 L 431.9,97.0 L 432.0,97.1 L 432.9,98.0 L 432.9,99.0 L 432.9,100.0 L 432.9,101.0 L 433.0,101.1 L 433.9,102.0 L 433.9,103.0 L 433.9,104.0 L 434.0,104.1 L 434.9,105.0 L 434.9,106.0 L 434.0,106.9 L 433.0,106.9 L 432.9,107.0 L 432.0,107.9 L 431.0,107.9 L 430.0,107.9 L 429.0,107.9 L 428.9,108.0 L 428.0,108.9 L 427.0,108.9 L 426.0,108.9 L 425.0,108.9 L 424.9,109.0 L 424.0,109.9 L 423.0,109.9 L 422.9,110.0 L 422.0,110.9 L 421.0,110.9 L 420.9,111.0 L 420.0,111.9 L 419.9,112.0 L 419.0,112.9 L 418.0,112.9 L 417.9,113.0 L 417.0,113.9 L 416.9,114.0 L 416.0,114.9 L 415.0,114.9 L 414.9,115.0 L 414.0,115.9 L 413.9,116.0 L 413.0,116.9 L 412.0,116.9 L 411.9,117.0 L 411.0,117.9 L 410.0,117.9 L 409.9,118.0 L 409.0,118.9 L 408.0,118.9 L 407.9,119.0 L 407.0,119.9 L 406.0,119.9 L 405.9,120.0 L 405.0,120.9 L 404.0,120.9 L 403.9,121.0 L 403.0,121.9 L 402.0,121.9 L 401.9,122.0 L 401.0,122.9 L 400.0,122.9 L 399.9,123.0 L 399.0,123.9 L 398.0,123.9 L 397.9,124.0 L 397.0,124.9 L 396.0,124.9 L 395.9,125.0 L 395.0,125.9 L 394.9,126.0 L 394.0,126.9 L 393.0,126.9 L 392.9,127.0 L 392.0,127.9 L 391.9,128.0 L 391.0,128.9 L 390.0,128.9 L 389.9,129.0 L 389.0,129.9 L 388.9,130.0 L 388.0,130.9 L 387.0,130.9 L 386.9,131.0 L 386.0,131.9 L 385.0,131.9 L 384.9,132.0 L 384.0,132.9 L 383.9,133.0 L 383.0,133.9 L 382.0,133.9 L 381.9,134.0 L 381.0,134.9 L 380.9,135.0 L 380.0,135.9 L 379.0,135.9 L 378.9,136.0 L 378.0,136.9 L 377.9,137.0 L 377.0,137.9 L 376.9,138.0 L 376.0,138.9 L 375.9,139.0 z\" /><path fill-rule=\"evenodd\" fill=\"#66cc99\" stroke=\"#555555\" stroke-width=\"2.0\" opacity=\"0.6\" d=\"M 367.9,157.0 L 368.0,157.1 L 369.0,157.1 L 369.1,157.0 L 370.0,156.1 L 370.1,156.0 L 371.0,155.1 L 372.0,155.1 L 372.1,155.0 L 373.0,154.1 L 373.1,154.0 L 374.0,153.1 L 375.0,153.1 L 375.1,153.0 L 376.0,152.1 L 377.0,152.1 L 377.1,152.0 L 378.0,151.1 L 378.1,151.0 L 379.0,150.1 L 380.0,150.1 L 380.1,150.0 L 381.0,149.1 L 381.1,149.0 L 382.0,148.1 L 383.0,148.1 L 383.1,148.0 L 384.0,147.1 L 384.1,147.0 L 385.0,146.1 L 386.0,146.1 L 386.1,146.0 L 387.0,145.1 L 387.1,145.0 L 388.0,144.1 L 389.0,144.1 L 389.1,144.0 L 390.0,143.1 L 390.1,143.0 L 391.0,142.1 L 392.0,142.1 L 392.1,142.0 L 393.0,141.1 L 394.0,141.1 L 394.1,141.0 L 395.0,140.1 L 395.1,140.0 L 396.0,139.1 L 397.0,139.1 L 397.1,139.0 L 398.0,138.1 L 398.1,138.0 L 399.0,137.1 L 400.0,137.1 L 400.1,137.0 L 401.0,136.1 L 401.1,136.0 L 402.0,135.1 L 403.0,135.1 L 403.1,135.0 L 404.0,134.1 L 404.1,134.0 L 405.0,133.1 L 406.0,133.1 L 406.1,133.0 L 407.0,132.1 L 408.0,132.1 L 408.1,132.0 L 409.0,131.1 L 409.1,131.0 L 410.0,130.1 L 411.0,130.1 L 411.1,130.0 L 412.0,129.1 L 412.1,129.0 L 413.0,128.1 L 414.0,128.1 L 414.1,128.0 L 415.0,127.1 L 415.1,127.0 L 416.0,126.1 L 417.0,126.1 L 417.1,126.0 L 418.0,125.1 L 418.1,125.0 L 419.0,124.1 L 420.0,124.1 L 420.1,124.0 L 421.0,123.1 L 421.1,123.0 L 422.0,122.1 L 423.0,122.1 L 423.1,122.0 L 424.0,121.1 L 425.0,121.1 L 425.1,121.0 L 426.0,120.1 L 426.1,120.0 L 427.0,119.1 L 428.0,119.1 L 428.1,119.0 L 429.0,118.1 L 429.1,118.0 L 430.0,117.1 L 431.0,117.1 L 431.1,117.0 L 432.0,116.1 L 432.1,116.0 L 433.0,115.1 L 434.0,115.1 L 434.1,115.0 L 435.0,114.1 L 435.1,114.0 L 436.0,113.1 L 437.0,113.1 L 437.1,113.0 L 438.0,112.1 L 438.1,112.0 L 439.0,111.1 L 439.1,111.0 L 439.0,110.9 L 438.0,110.9 L 437.9,111.0 L 437.0,111.9 L 436.0,111.9 L 435.0,111.9 L 434.0,111.9 L 433.0,111.9 L 432.0,111.9 L 431.9,112.0 L 431.0,112.9 L 430.0,112.9 L 429.0,112.9 L 428.0,112.9 L 427.0,112.9 L 426.9,113.0 L 426.0,113.9 L 425.0,113.9 L 424.9,114.0 L 424.0,114.9 L 423.0,114.9 L 422.9,115.0 L 422.0,115.9 L 421.0,115.9 L 420.9,116.0 L 420.0,116.9 L 419.9,117.0 L 419.0,117.9 L 418.0,117.9 L 417.9,118.0 L 417.0,118.9 L 416.0,118.9 L 415.9,119.0 L 415.0,119.9 L 414.9,120.0 L 414.0,120.9 L 413.0,120.9 L 412.9,121.0 L 412.0,121.9 L 411.0,121.9 L 410.0,121.9 L 409.9,122.0 L 409.0,122.9 L 408.0,122.9 L 407.9,123.0 L 407.0,123.9 L 406.0,123.9 L 405.9,124.0 L 405.0,124.9 L 404.9,125.0 L 404.0,125.9 L 403.0,125.9 L 402.9,126.0 L 402.0,126.9 L 401.0,126.9 L 400.9,127.0 L 400.0,127.9 L 399.0,127.9 L 398.9,128.0 L 398.0,128.9 L 397.0,128.9 L 396.9,129.0 L 396.0,129.9 L 395.0,129.9 L 394.9,130.0 L 394.0,130.9 L 393.9,131.0 L 393.0,131.9 L 392.9,132.0 L 392.0,132.9 L 391.9,133.0 L 391.0,133.9 L 390.9,134.0 L 390.0,134.9 L 389.9,135.0 L 389.0,135.9 L 388.9,136.0 L 388.0,136.9 L 387.9,137.0 L 387.0,137.9 L 386.9,138.0 L 386.0,138.9 L 385.9,139.0 L 385.0,139.9 L 384.9,140.0 L 384.0,140.9 L 383.9,141.0 L 383.0,141.9 L 382.9,142.0 L 382.0,142.9 L 381.9,143.0 L 381.0,143.9 L 380.9,144.0 L 380.0,144.9 L 379.9,145.0 L 379.0,145.9 L 378.9,146.0 L 378.0,146.9 L 377.9,147.0 L 377.0,147.9 L 376.9,148.0 L 376.0,148.9 L 375.9,149.0 L 375.0,149.9 L 374.9,150.0 L 374.0,150.9 L 373.9,151.0 L 373.0,151.9 L 372.9,152.0 L 372.0,152.9 L 371.9,153.0 L 371.0,153.9 L 370.9,154.0 L 370.0,154.9 L 369.9,155.0 L 369.0,155.9 L 368.9,156.0 L 368.0,156.9 L 367.9,157.0 z\" /></g></g></svg>"
      ],
      "text/plain": [
       "<shapely.geometry.multipolygon.MultiPolygon at 0x108494f10>"
      ]
     },
     "execution_count": 35,
     "metadata": {},
     "output_type": "execute_result"
    }
   ],
   "source": [
    "join_tiles(solutionLista,tiles)"
   ]
  },
  {
   "cell_type": "code",
   "execution_count": 39,
   "metadata": {
    "collapsed": false
   },
   "outputs": [
    {
     "data": {
      "image/svg+xml": [
       "<svg xmlns=\"http://www.w3.org/2000/svg\" xmlns:xlink=\"http://www.w3.org/1999/xlink\" width=\"202.176\" height=\"108.176\" viewBox=\"260.412 71.412 202.176 108.176\" preserveAspectRatio=\"xMinYMin meet\"><g transform=\"matrix(1,0,0,-1,0,251.0)\"><g><path fill-rule=\"evenodd\" fill=\"#66cc99\" stroke=\"#555555\" stroke-width=\"2.0\" opacity=\"0.6\" d=\"M 358.9,83.0 L 359.0,83.1 L 360.0,83.1 L 361.0,83.1 L 362.0,83.1 L 362.1,83.0 L 363.0,82.1 L 364.0,82.1 L 365.0,82.1 L 365.1,82.0 L 365.0,81.9 L 364.0,81.9 L 363.0,81.9 L 362.0,81.9 L 361.0,81.9 L 360.9,82.0 L 360.0,82.9 L 359.0,82.9 L 358.9,83.0 z\" /><path fill-rule=\"evenodd\" fill=\"#66cc99\" stroke=\"#555555\" stroke-width=\"2.0\" opacity=\"0.6\" d=\"M 387.9,84.0 L 388.0,84.1 L 389.0,84.1 L 390.0,84.1 L 390.1,84.0 L 390.0,83.9 L 389.0,83.9 L 388.0,83.9 L 387.9,84.0 z\" /><path fill-rule=\"evenodd\" fill=\"#66cc99\" stroke=\"#555555\" stroke-width=\"2.0\" opacity=\"0.6\" d=\"M 339.9,87.0 L 340.0,87.1 L 340.1,87.0 L 340.0,86.9 L 339.9,87.0 z\" /><path fill-rule=\"evenodd\" fill=\"#66cc99\" stroke=\"#555555\" stroke-width=\"2.0\" opacity=\"0.6\" d=\"M 340.9,87.0 L 341.0,87.1 L 342.0,87.1 L 343.0,87.1 L 344.0,87.1 L 344.1,87.0 L 344.0,86.9 L 343.0,86.9 L 342.0,86.9 L 341.0,86.9 L 340.9,87.0 z\" /><path fill-rule=\"evenodd\" fill=\"#66cc99\" stroke=\"#555555\" stroke-width=\"2.0\" opacity=\"0.6\" d=\"M 351.9,85.0 L 352.0,85.1 L 353.0,85.1 L 353.1,85.0 L 353.0,84.9 L 352.0,84.9 L 351.9,85.0 z\" /><path fill-rule=\"evenodd\" fill=\"#66cc99\" stroke=\"#555555\" stroke-width=\"2.0\" opacity=\"0.6\" d=\"M 344.9,86.0 L 345.0,86.1 L 346.0,86.1 L 346.1,86.0 L 346.0,85.9 L 345.0,85.9 L 344.9,86.0 z\" /><path fill-rule=\"evenodd\" fill=\"#66cc99\" stroke=\"#555555\" stroke-width=\"2.0\" opacity=\"0.6\" d=\"M 346.9,86.0 L 347.0,86.1 L 348.0,86.1 L 348.1,86.0 L 348.0,85.9 L 347.0,85.9 L 346.9,86.0 z\" /><path fill-rule=\"evenodd\" fill=\"#66cc99\" stroke=\"#555555\" stroke-width=\"2.0\" opacity=\"0.6\" d=\"M 353.9,85.0 L 354.0,85.1 L 355.0,85.1 L 355.1,85.0 L 355.0,84.9 L 354.0,84.9 L 353.9,85.0 z\" /><path fill-rule=\"evenodd\" fill=\"#66cc99\" stroke=\"#555555\" stroke-width=\"2.0\" opacity=\"0.6\" d=\"M 391.9,85.0 L 391.9,86.0 L 392.0,86.1 L 393.0,86.1 L 394.0,86.1 L 394.1,86.0 L 394.0,85.9 L 393.1,85.0 L 393.0,84.9 L 392.0,84.9 L 391.9,85.0 z\" /><path fill-rule=\"evenodd\" fill=\"#66cc99\" stroke=\"#555555\" stroke-width=\"2.0\" opacity=\"0.6\" d=\"M 348.9,86.0 L 349.0,86.1 L 350.0,86.1 L 351.0,86.1 L 351.1,86.0 L 351.0,85.9 L 350.0,85.9 L 349.0,85.9 L 348.9,86.0 z\" /><path fill-rule=\"evenodd\" fill=\"#66cc99\" stroke=\"#555555\" stroke-width=\"2.0\" opacity=\"0.6\" d=\"M 351.9,86.0 L 352.0,86.1 L 352.1,86.0 L 352.0,85.9 L 351.9,86.0 z\" /><path fill-rule=\"evenodd\" fill=\"#66cc99\" stroke=\"#555555\" stroke-width=\"2.0\" opacity=\"0.6\" d=\"M 392.9,87.0 L 393.0,87.1 L 393.9,88.0 L 394.0,88.1 L 395.0,88.1 L 395.1,88.0 L 395.0,87.9 L 394.1,87.0 L 394.0,86.9 L 393.0,86.9 L 392.9,87.0 z\" /><path fill-rule=\"evenodd\" fill=\"#66cc99\" stroke=\"#555555\" stroke-width=\"2.0\" opacity=\"0.6\" d=\"M 384.9,85.0 L 385.0,85.1 L 386.0,85.1 L 387.0,85.1 L 388.0,85.1 L 388.9,86.0 L 389.0,86.1 L 390.0,86.1 L 390.9,87.0 L 391.0,87.1 L 392.0,87.1 L 392.1,87.0 L 392.0,86.9 L 391.1,86.0 L 391.1,85.0 L 391.0,84.9 L 390.0,84.9 L 389.0,84.9 L 388.0,84.9 L 387.0,84.9 L 386.0,84.9 L 385.0,84.9 L 384.9,85.0 z\" /><path fill-rule=\"evenodd\" fill=\"#66cc99\" stroke=\"#555555\" stroke-width=\"2.0\" opacity=\"0.6\" d=\"M 347.9,87.0 L 348.0,87.1 L 348.1,87.0 L 348.0,86.9 L 347.9,87.0 z\" /><path fill-rule=\"evenodd\" fill=\"#66cc99\" stroke=\"#555555\" stroke-width=\"2.0\" opacity=\"0.6\" d=\"M 431.9,89.0 L 432.0,89.1 L 433.0,89.1 L 434.0,89.1 L 434.1,89.0 L 434.0,88.9 L 433.0,88.9 L 432.0,88.9 L 431.9,89.0 z\" /><path fill-rule=\"evenodd\" fill=\"#66cc99\" stroke=\"#555555\" stroke-width=\"2.0\" opacity=\"0.6\" d=\"M 331.9,90.0 L 332.0,90.1 L 332.1,90.0 L 332.0,89.9 L 331.9,90.0 z\" /><path fill-rule=\"evenodd\" fill=\"#66cc99\" stroke=\"#555555\" stroke-width=\"2.0\" opacity=\"0.6\" d=\"M 385.9,82.0 L 386.0,82.1 L 386.9,83.0 L 387.0,83.1 L 388.0,83.1 L 389.0,83.1 L 390.0,83.1 L 390.9,84.0 L 391.0,84.1 L 392.0,84.1 L 393.0,84.1 L 393.9,85.0 L 394.0,85.1 L 394.9,86.0 L 394.9,87.0 L 395.0,87.1 L 395.9,88.0 L 396.0,88.1 L 397.0,88.1 L 398.0,88.1 L 399.0,88.1 L 400.0,88.1 L 401.0,88.1 L 402.0,88.1 L 403.0,88.1 L 404.0,88.1 L 405.0,88.1 L 406.0,88.1 L 407.0,88.1 L 408.0,88.1 L 409.0,88.1 L 410.0,88.1 L 411.0,88.1 L 412.0,88.1 L 413.0,88.1 L 414.0,88.1 L 415.0,88.1 L 416.0,88.1 L 416.9,89.0 L 417.0,89.1 L 418.0,89.1 L 419.0,89.1 L 420.0,89.1 L 421.0,89.1 L 422.0,89.1 L 422.1,89.0 L 423.0,88.1 L 424.0,88.1 L 424.1,88.0 L 424.0,87.9 L 423.0,87.9 L 422.0,87.9 L 421.0,87.9 L 420.1,87.0 L 420.0,86.9 L 419.0,86.9 L 418.0,86.9 L 417.1,86.0 L 417.0,85.9 L 416.0,85.9 L 415.0,85.9 L 414.1,85.0 L 414.0,84.9 L 413.0,84.9 L 412.0,84.9 L 411.0,84.9 L 410.1,84.0 L 410.0,83.9 L 409.0,83.9 L 408.0,83.9 L 407.1,83.0 L 407.0,82.9 L 406.0,82.9 L 405.0,82.9 L 404.1,82.0 L 404.0,81.9 L 403.0,81.9 L 402.0,81.9 L 401.1,81.0 L 401.0,80.9 L 400.0,80.9 L 399.0,80.9 L 398.0,80.9 L 397.1,80.0 L 397.0,79.9 L 396.0,79.9 L 395.0,79.9 L 394.1,79.0 L 394.0,78.9 L 393.0,78.9 L 392.0,78.9 L 391.9,79.0 L 391.0,79.9 L 390.0,79.9 L 389.9,80.0 L 389.0,80.9 L 388.0,80.9 L 387.9,81.0 L 387.0,81.9 L 386.0,81.9 L 385.9,82.0 z\" /><path fill-rule=\"evenodd\" fill=\"#66cc99\" stroke=\"#555555\" stroke-width=\"2.0\" opacity=\"0.6\" d=\"M 422.9,89.0 L 423.0,89.1 L 424.0,89.1 L 425.0,89.1 L 426.0,89.1 L 427.0,89.1 L 428.0,89.1 L 429.0,89.1 L 430.0,89.1 L 431.0,89.1 L 431.1,89.0 L 431.1,88.0 L 431.0,87.9 L 430.1,87.0 L 430.0,86.9 L 429.0,86.9 L 428.9,87.0 L 428.0,87.9 L 427.0,87.9 L 426.0,87.9 L 425.9,88.0 L 425.0,88.9 L 424.0,88.9 L 423.0,88.9 L 422.9,89.0 z\" /><path fill-rule=\"evenodd\" fill=\"#66cc99\" stroke=\"#555555\" stroke-width=\"2.0\" opacity=\"0.6\" d=\"M 270.9,119.0 L 271.0,119.1 L 271.1,119.0 L 271.0,118.9 L 270.9,119.0 z\" /><path fill-rule=\"evenodd\" fill=\"#66cc99\" stroke=\"#555555\" stroke-width=\"2.0\" opacity=\"0.6\" d=\"M 272.9,117.0 L 273.0,117.1 L 273.1,117.0 L 273.0,116.9 L 272.9,117.0 z\" /><path fill-rule=\"evenodd\" fill=\"#66cc99\" stroke=\"#555555\" stroke-width=\"2.0\" opacity=\"0.6\" d=\"M 271.9,118.0 L 272.0,118.1 L 272.1,118.0 L 272.0,117.9 L 271.9,118.0 z\" /><path fill-rule=\"evenodd\" fill=\"#66cc99\" stroke=\"#555555\" stroke-width=\"2.0\" opacity=\"0.6\" d=\"M 274.9,113.0 L 274.9,114.0 L 274.9,115.0 L 274.9,116.0 L 275.0,116.1 L 275.1,116.0 L 275.1,115.0 L 275.1,114.0 L 276.0,113.1 L 276.1,113.0 L 276.0,112.9 L 275.0,112.9 L 274.9,113.0 z\" /><path fill-rule=\"evenodd\" fill=\"#66cc99\" stroke=\"#555555\" stroke-width=\"2.0\" opacity=\"0.6\" d=\"M 273.9,116.0 L 274.0,116.1 L 274.1,116.0 L 274.0,115.9 L 273.9,116.0 z\" /><path fill-rule=\"evenodd\" fill=\"#66cc99\" stroke=\"#555555\" stroke-width=\"2.0\" opacity=\"0.6\" d=\"M 273.9,118.0 L 274.0,118.1 L 274.1,118.0 L 274.0,117.9 L 273.9,118.0 z\" /><path fill-rule=\"evenodd\" fill=\"#66cc99\" stroke=\"#555555\" stroke-width=\"2.0\" opacity=\"0.6\" d=\"M 411.9,121.0 L 412.0,121.1 L 412.1,121.0 L 412.0,120.9 L 411.9,121.0 z\" /><path fill-rule=\"evenodd\" fill=\"#66cc99\" stroke=\"#555555\" stroke-width=\"2.0\" opacity=\"0.6\" d=\"M 392.9,131.0 L 393.0,131.1 L 393.1,131.0 L 393.0,130.9 L 392.9,131.0 z\" /><path fill-rule=\"evenodd\" fill=\"#66cc99\" stroke=\"#555555\" stroke-width=\"2.0\" opacity=\"0.6\" d=\"M 413.9,120.0 L 414.0,120.1 L 414.1,120.0 L 414.0,119.9 L 413.9,120.0 z\" /><path fill-rule=\"evenodd\" fill=\"#66cc99\" stroke=\"#555555\" stroke-width=\"2.0\" opacity=\"0.6\" d=\"M 366.9,158.0 L 367.0,158.1 L 367.1,158.0 L 367.0,157.9 L 366.9,158.0 z\" /><path fill-rule=\"evenodd\" fill=\"#66cc99\" stroke=\"#555555\" stroke-width=\"2.0\" opacity=\"0.6\" d=\"M 355.9,170.0 L 355.9,171.0 L 356.0,171.1 L 356.1,171.0 L 356.1,170.0 L 356.0,169.9 L 355.9,170.0 z\" /><path fill-rule=\"evenodd\" fill=\"#66cc99\" stroke=\"#555555\" stroke-width=\"2.0\" opacity=\"0.6\" d=\"M 351.9,172.0 L 352.0,172.1 L 353.0,172.1 L 353.1,172.0 L 353.0,171.9 L 352.0,171.9 L 351.9,172.0 z\" /><path fill-rule=\"evenodd\" fill=\"#66cc99\" stroke=\"#555555\" stroke-width=\"2.0\" opacity=\"0.6\" d=\"M 345.9,172.0 L 346.0,172.1 L 347.0,172.1 L 348.0,172.1 L 349.0,172.1 L 350.0,172.1 L 350.1,172.0 L 350.0,171.9 L 349.0,171.9 L 348.0,171.9 L 347.0,171.9 L 346.0,171.9 L 345.9,172.0 z\" /><path fill-rule=\"evenodd\" fill=\"#66cc99\" stroke=\"#555555\" stroke-width=\"2.0\" opacity=\"0.6\" d=\"M 342.9,170.0 L 343.0,170.1 L 344.0,170.1 L 345.0,170.1 L 345.1,170.0 L 345.0,169.9 L 344.0,169.9 L 343.0,169.9 L 342.9,170.0 z\" /><path fill-rule=\"evenodd\" fill=\"#66cc99\" stroke=\"#555555\" stroke-width=\"2.0\" opacity=\"0.6\" d=\"M 365.9,159.0 L 366.0,159.1 L 366.1,159.0 L 366.0,158.9 L 365.9,159.0 z\" /><path fill-rule=\"evenodd\" fill=\"#66cc99\" stroke=\"#555555\" stroke-width=\"2.0\" opacity=\"0.6\" d=\"M 332.9,163.0 L 333.0,163.1 L 333.9,164.0 L 334.0,164.1 L 334.1,164.0 L 334.1,163.0 L 334.0,162.9 L 333.0,162.9 L 332.9,163.0 z\" /><path fill-rule=\"evenodd\" fill=\"#66cc99\" stroke=\"#555555\" stroke-width=\"2.0\" opacity=\"0.6\" d=\"M 334.9,164.0 L 335.0,164.1 L 335.1,164.0 L 335.0,163.9 L 334.9,164.0 z\" /><path fill-rule=\"evenodd\" fill=\"#66cc99\" stroke=\"#555555\" stroke-width=\"2.0\" opacity=\"0.6\" d=\"M 335.9,165.0 L 336.0,165.1 L 336.1,165.0 L 336.0,164.9 L 335.9,165.0 z\" /><path fill-rule=\"evenodd\" fill=\"#66cc99\" stroke=\"#555555\" stroke-width=\"2.0\" opacity=\"0.6\" d=\"M 334.9,165.0 L 335.0,165.1 L 335.1,165.0 L 335.0,164.9 L 334.9,165.0 z\" /><path fill-rule=\"evenodd\" fill=\"#66cc99\" stroke=\"#555555\" stroke-width=\"2.0\" opacity=\"0.6\" d=\"M 327.9,158.0 L 327.9,159.0 L 327.9,160.0 L 327.9,161.0 L 327.9,162.0 L 327.9,163.0 L 328.0,163.1 L 328.9,164.0 L 329.0,164.1 L 329.9,165.0 L 330.0,165.1 L 330.9,166.0 L 331.0,166.1 L 331.9,167.0 L 332.0,167.1 L 332.9,168.0 L 333.0,168.1 L 334.0,168.1 L 335.0,168.1 L 336.0,168.1 L 336.1,168.0 L 336.0,167.9 L 335.1,167.0 L 335.1,166.0 L 335.0,165.9 L 334.1,165.0 L 334.0,164.9 L 333.1,164.0 L 333.0,163.9 L 332.1,163.0 L 332.1,162.0 L 332.0,161.9 L 331.1,161.0 L 331.0,160.9 L 330.1,160.0 L 330.0,159.9 L 329.1,159.0 L 329.0,158.9 L 328.1,158.0 L 328.0,157.9 L 327.9,158.0 z\" /><path fill-rule=\"evenodd\" fill=\"#66cc99\" stroke=\"#555555\" stroke-width=\"2.0\" opacity=\"0.6\" d=\"M 336.9,166.0 L 337.0,166.1 L 337.9,167.0 L 338.0,167.1 L 339.0,167.1 L 340.0,167.1 L 340.1,167.0 L 340.0,166.9 L 339.0,166.9 L 338.1,166.0 L 338.0,165.9 L 337.0,165.9 L 336.9,166.0 z\" /><path fill-rule=\"evenodd\" fill=\"#66cc99\" stroke=\"#555555\" stroke-width=\"2.0\" opacity=\"0.6\" d=\"M 335.9,166.0 L 335.9,167.0 L 336.0,167.1 L 336.9,168.0 L 337.0,168.1 L 337.9,169.0 L 338.0,169.1 L 339.0,169.1 L 340.0,169.1 L 341.0,169.1 L 342.0,169.1 L 343.0,169.1 L 344.0,169.1 L 345.0,169.1 L 345.1,169.0 L 345.0,168.9 L 344.0,168.9 L 343.1,168.0 L 343.0,167.9 L 342.0,167.9 L 341.0,167.9 L 340.0,167.9 L 339.0,167.9 L 338.0,167.9 L 337.1,167.0 L 337.0,166.9 L 336.1,166.0 L 336.0,165.9 L 335.9,166.0 z\" /><path fill-rule=\"evenodd\" fill=\"#66cc99\" stroke=\"#555555\" stroke-width=\"2.0\" opacity=\"0.6\" d=\"M 357.9,167.0 L 357.9,168.0 L 358.0,168.1 L 358.1,168.0 L 358.1,167.0 L 358.0,166.9 L 357.9,167.0 z\" /><path fill-rule=\"evenodd\" fill=\"#66cc99\" stroke=\"#555555\" stroke-width=\"2.0\" opacity=\"0.6\" d=\"M 350.9,168.0 L 351.0,168.1 L 352.0,168.1 L 352.1,168.0 L 352.0,167.9 L 351.0,167.9 L 350.9,168.0 z\" /><path fill-rule=\"evenodd\" fill=\"#66cc99\" stroke=\"#555555\" stroke-width=\"2.0\" opacity=\"0.6\" d=\"M 335.9,169.0 L 336.0,169.1 L 336.9,170.0 L 337.0,170.1 L 338.0,170.1 L 338.9,171.0 L 339.0,171.1 L 339.9,172.0 L 340.0,172.1 L 341.0,172.1 L 342.0,172.1 L 343.0,172.1 L 344.0,172.1 L 344.1,172.0 L 345.0,171.1 L 346.0,171.1 L 347.0,171.1 L 348.0,171.1 L 349.0,171.1 L 350.0,171.1 L 350.1,171.0 L 350.1,170.0 L 350.0,169.9 L 349.0,169.9 L 348.0,169.9 L 347.0,169.9 L 346.0,169.9 L 345.9,170.0 L 345.0,170.9 L 344.0,170.9 L 343.0,170.9 L 342.1,170.0 L 342.0,169.9 L 341.0,169.9 L 340.0,169.9 L 339.0,169.9 L 338.0,169.9 L 337.1,169.0 L 337.0,168.9 L 336.0,168.9 L 335.9,169.0 z\" /><path fill-rule=\"evenodd\" fill=\"#66cc99\" stroke=\"#555555\" stroke-width=\"2.0\" opacity=\"0.6\" d=\"M 267.9,129.0 L 267.9,130.0 L 267.9,131.0 L 267.9,132.0 L 267.9,133.0 L 267.9,134.0 L 267.9,135.0 L 268.0,135.1 L 268.1,135.0 L 268.1,134.0 L 268.1,133.0 L 269.0,132.1 L 269.1,132.0 L 269.1,131.0 L 269.1,130.0 L 270.0,129.1 L 270.1,129.0 L 270.1,128.0 L 271.0,127.1 L 271.1,127.0 L 271.1,126.0 L 271.1,125.0 L 272.0,124.1 L 272.1,124.0 L 272.1,123.0 L 272.1,122.0 L 273.0,121.1 L 273.1,121.0 L 273.1,120.0 L 273.1,119.0 L 273.1,118.0 L 273.0,117.9 L 272.9,118.0 L 272.0,118.9 L 271.9,119.0 L 271.0,119.9 L 270.9,120.0 L 270.0,120.9 L 269.9,121.0 L 269.9,122.0 L 269.9,123.0 L 269.0,123.9 L 268.9,124.0 L 268.9,125.0 L 268.9,126.0 L 268.9,127.0 L 268.9,128.0 L 268.0,128.9 L 267.9,129.0 z\" /><path fill-rule=\"evenodd\" fill=\"#66cc99\" stroke=\"#555555\" stroke-width=\"2.0\" opacity=\"0.6\" d=\"M 273.9,149.0 L 274.0,149.1 L 274.9,150.0 L 274.9,151.0 L 275.0,151.1 L 276.0,151.1 L 276.1,151.0 L 276.0,150.9 L 275.1,150.0 L 275.1,149.0 L 275.0,148.9 L 274.0,148.9 L 273.9,149.0 z\" /><path fill-rule=\"evenodd\" fill=\"#66cc99\" stroke=\"#555555\" stroke-width=\"2.0\" opacity=\"0.6\" d=\"M 269.9,138.0 L 269.9,139.0 L 269.9,140.0 L 269.9,141.0 L 269.9,142.0 L 269.9,143.0 L 269.9,144.0 L 269.9,145.0 L 269.9,146.0 L 269.9,147.0 L 270.0,147.1 L 271.0,147.1 L 271.9,148.0 L 272.0,148.1 L 273.0,148.1 L 274.0,148.1 L 274.1,148.0 L 274.1,147.0 L 274.0,146.9 L 273.1,146.0 L 273.0,145.9 L 272.1,145.0 L 272.0,144.9 L 271.1,144.0 L 271.0,143.9 L 270.1,143.0 L 270.1,142.0 L 270.1,141.0 L 271.0,140.1 L 271.1,140.0 L 271.0,139.9 L 270.1,139.0 L 270.1,138.0 L 270.0,137.9 L 269.9,138.0 z\" /><path fill-rule=\"evenodd\" fill=\"#66cc99\" stroke=\"#555555\" stroke-width=\"2.0\" opacity=\"0.6\" d=\"M 272.9,145.0 L 273.0,145.1 L 273.1,145.0 L 273.0,144.9 L 272.9,145.0 z\" /><path fill-rule=\"evenodd\" fill=\"#66cc99\" stroke=\"#555555\" stroke-width=\"2.0\" opacity=\"0.6\" d=\"M 280.9,153.0 L 281.0,153.1 L 281.1,153.0 L 281.0,152.9 L 280.9,153.0 z\" /><path fill-rule=\"evenodd\" fill=\"#66cc99\" stroke=\"#555555\" stroke-width=\"2.0\" opacity=\"0.6\" d=\"M 281.9,154.0 L 282.0,154.1 L 282.1,154.0 L 282.0,153.9 L 281.9,154.0 z\" /><path fill-rule=\"evenodd\" fill=\"#66cc99\" stroke=\"#555555\" stroke-width=\"2.0\" opacity=\"0.6\" d=\"M 374.9,140.0 L 375.0,140.1 L 375.1,140.0 L 375.0,139.9 L 374.9,140.0 z\" /><path fill-rule=\"evenodd\" fill=\"#66cc99\" stroke=\"#555555\" stroke-width=\"2.0\" opacity=\"0.6\" d=\"M 293.9,155.0 L 294.0,155.1 L 295.0,155.1 L 295.9,156.0 L 296.0,156.1 L 297.0,156.1 L 298.0,156.1 L 298.9,157.0 L 299.0,157.1 L 300.0,157.1 L 300.9,158.0 L 301.0,158.1 L 302.0,158.1 L 303.0,158.1 L 303.1,158.0 L 304.0,157.1 L 305.0,157.1 L 306.0,157.1 L 306.1,157.0 L 307.0,156.1 L 308.0,156.1 L 309.0,156.1 L 309.1,156.0 L 310.0,155.1 L 311.0,155.1 L 312.0,155.1 L 312.1,155.0 L 313.0,154.1 L 314.0,154.1 L 315.0,154.1 L 316.0,154.1 L 316.1,154.0 L 317.0,153.1 L 318.0,153.1 L 319.0,153.1 L 319.1,153.0 L 320.0,152.1 L 321.0,152.1 L 322.0,152.1 L 322.1,152.0 L 322.0,151.9 L 321.0,151.9 L 320.1,151.0 L 320.0,150.9 L 319.1,150.0 L 319.0,149.9 L 318.0,149.9 L 317.1,149.0 L 317.0,148.9 L 316.0,148.9 L 315.9,149.0 L 315.0,149.9 L 314.0,149.9 L 313.0,149.9 L 312.0,149.9 L 311.9,150.0 L 311.0,150.9 L 310.0,150.9 L 309.0,150.9 L 308.9,151.0 L 308.0,151.9 L 307.0,151.9 L 306.0,151.9 L 305.9,152.0 L 305.0,152.9 L 304.0,152.9 L 303.0,152.9 L 302.0,152.9 L 301.9,153.0 L 301.0,153.9 L 300.0,153.9 L 299.0,153.9 L 298.9,154.0 L 298.0,154.9 L 297.0,154.9 L 296.0,154.9 L 295.0,154.9 L 294.0,154.9 L 293.9,155.0 z\" /><path fill-rule=\"evenodd\" fill=\"#66cc99\" stroke=\"#555555\" stroke-width=\"2.0\" opacity=\"0.6\" d=\"M 316.9,154.0 L 317.0,154.1 L 318.0,154.1 L 318.1,154.0 L 318.0,153.9 L 317.0,153.9 L 316.9,154.0 z\" /><path fill-rule=\"evenodd\" fill=\"#66cc99\" stroke=\"#555555\" stroke-width=\"2.0\" opacity=\"0.6\" d=\"M 282.9,154.0 L 283.0,154.1 L 283.9,155.0 L 284.0,155.1 L 284.9,156.0 L 285.0,156.1 L 286.0,156.1 L 287.0,156.1 L 288.0,156.1 L 289.0,156.1 L 289.1,156.0 L 290.0,155.1 L 290.1,155.0 L 290.0,154.9 L 289.0,154.9 L 288.0,154.9 L 287.0,154.9 L 286.1,154.0 L 286.0,153.9 L 285.0,153.9 L 284.0,153.9 L 283.0,153.9 L 282.9,154.0 z\" /><path fill-rule=\"evenodd\" fill=\"#66cc99\" stroke=\"#555555\" stroke-width=\"2.0\" opacity=\"0.6\" d=\"M 290.9,155.0 L 291.0,155.1 L 292.0,155.1 L 293.0,155.1 L 293.1,155.0 L 293.0,154.9 L 292.0,154.9 L 291.0,154.9 L 290.9,155.0 z\" /><path fill-rule=\"evenodd\" fill=\"#66cc99\" stroke=\"#555555\" stroke-width=\"2.0\" opacity=\"0.6\" d=\"M 290.9,154.0 L 291.0,154.1 L 291.1,154.0 L 291.0,153.9 L 290.9,154.0 z\" /><path fill-rule=\"evenodd\" fill=\"#66cc99\" stroke=\"#555555\" stroke-width=\"2.0\" opacity=\"0.6\" d=\"M 318.9,154.0 L 319.0,154.1 L 319.9,155.0 L 320.0,155.1 L 321.0,155.1 L 321.9,156.0 L 322.0,156.1 L 322.9,157.0 L 323.0,157.1 L 324.0,157.1 L 324.9,158.0 L 325.0,158.1 L 325.9,159.0 L 326.0,159.1 L 327.0,159.1 L 327.1,159.0 L 327.1,158.0 L 327.1,157.0 L 327.0,156.9 L 326.1,156.0 L 326.0,155.9 L 325.1,155.0 L 325.0,154.9 L 324.1,154.0 L 324.0,153.9 L 323.1,153.0 L 323.0,152.9 L 322.0,152.9 L 321.0,152.9 L 320.0,152.9 L 319.9,153.0 L 319.0,153.9 L 318.9,154.0 z\" /><path fill-rule=\"evenodd\" fill=\"#66cc99\" stroke=\"#555555\" stroke-width=\"2.0\" opacity=\"0.6\" d=\"M 348.9,169.0 L 349.0,169.1 L 350.0,169.1 L 351.0,169.1 L 352.0,169.1 L 353.0,169.1 L 354.0,169.1 L 355.0,169.1 L 355.1,169.0 L 356.0,168.1 L 356.1,168.0 L 357.0,167.1 L 357.1,167.0 L 358.0,166.1 L 358.1,166.0 L 359.0,165.1 L 359.1,165.0 L 360.0,164.1 L 360.1,164.0 L 361.0,163.1 L 361.1,163.0 L 362.0,162.1 L 362.1,162.0 L 363.0,161.1 L 363.1,161.0 L 364.0,160.1 L 364.1,160.0 L 365.0,159.1 L 365.1,159.0 L 366.0,158.1 L 366.1,158.0 L 367.0,157.1 L 367.1,157.0 L 368.0,156.1 L 368.1,156.0 L 369.0,155.1 L 369.1,155.0 L 370.0,154.1 L 370.1,154.0 L 371.0,153.1 L 371.1,153.0 L 372.0,152.1 L 372.1,152.0 L 373.0,151.1 L 373.1,151.0 L 374.0,150.1 L 374.1,150.0 L 375.0,149.1 L 375.1,149.0 L 376.0,148.1 L 376.1,148.0 L 377.0,147.1 L 377.1,147.0 L 378.0,146.1 L 378.1,146.0 L 379.0,145.1 L 379.1,145.0 L 380.0,144.1 L 380.1,144.0 L 381.0,143.1 L 381.1,143.0 L 382.0,142.1 L 382.1,142.0 L 383.0,141.1 L 383.1,141.0 L 384.0,140.1 L 384.1,140.0 L 385.0,139.1 L 385.1,139.0 L 386.0,138.1 L 386.1,138.0 L 387.0,137.1 L 387.1,137.0 L 388.0,136.1 L 388.1,136.0 L 389.0,135.1 L 389.1,135.0 L 390.0,134.1 L 390.1,134.0 L 391.0,133.1 L 391.1,133.0 L 392.0,132.1 L 392.1,132.0 L 392.0,131.9 L 391.0,131.9 L 390.9,132.0 L 390.0,132.9 L 389.9,133.0 L 389.0,133.9 L 388.0,133.9 L 387.9,134.0 L 387.0,134.9 L 386.0,134.9 L 385.9,135.0 L 385.0,135.9 L 384.0,135.9 L 383.9,136.0 L 383.0,136.9 L 382.0,136.9 L 381.9,137.0 L 381.0,137.9 L 380.0,137.9 L 379.9,138.0 L 379.0,138.9 L 378.0,138.9 L 377.9,139.0 L 377.0,139.9 L 376.0,139.9 L 375.9,140.0 L 375.0,140.9 L 374.0,140.9 L 373.9,141.0 L 373.0,141.9 L 372.0,141.9 L 371.9,142.0 L 371.0,142.9 L 370.9,143.0 L 370.0,143.9 L 369.9,144.0 L 369.0,144.9 L 368.9,145.0 L 368.0,145.9 L 367.9,146.0 L 367.9,147.0 L 367.0,147.9 L 366.9,148.0 L 366.9,149.0 L 366.0,149.9 L 365.9,150.0 L 365.9,151.0 L 365.0,151.9 L 364.9,152.0 L 364.9,153.0 L 364.0,153.9 L 363.9,154.0 L 363.9,155.0 L 363.0,155.9 L 362.9,156.0 L 362.0,156.9 L 361.9,157.0 L 361.9,158.0 L 361.0,158.9 L 360.9,159.0 L 360.9,160.0 L 360.0,160.9 L 359.9,161.0 L 359.9,162.0 L 359.0,162.9 L 358.9,163.0 L 358.9,164.0 L 358.0,164.9 L 357.9,165.0 L 357.0,165.9 L 356.0,165.9 L 355.9,166.0 L 355.0,166.9 L 354.0,166.9 L 353.9,167.0 L 353.0,167.9 L 352.9,168.0 L 352.0,168.9 L 351.0,168.9 L 350.0,168.9 L 349.0,168.9 L 348.9,169.0 z\" /><path fill-rule=\"evenodd\" fill=\"#66cc99\" stroke=\"#555555\" stroke-width=\"2.0\" opacity=\"0.6\" d=\"M 315.9,104.0 L 315.9,105.0 L 316.0,105.1 L 316.1,105.0 L 317.0,104.1 L 318.0,104.1 L 318.1,104.0 L 319.0,103.1 L 319.1,103.0 L 319.0,102.9 L 318.0,102.9 L 317.9,103.0 L 317.0,103.9 L 316.0,103.9 L 315.9,104.0 z\" /><path fill-rule=\"evenodd\" fill=\"#66cc99\" stroke=\"#555555\" stroke-width=\"2.0\" opacity=\"0.6\" d=\"M 283.9,109.0 L 284.0,109.1 L 284.1,109.0 L 284.0,108.9 L 283.9,109.0 z\" /><path fill-rule=\"evenodd\" fill=\"#66cc99\" stroke=\"#555555\" stroke-width=\"2.0\" opacity=\"0.6\" d=\"M 286.9,107.0 L 287.0,107.1 L 287.9,108.0 L 288.0,108.1 L 289.0,108.1 L 290.0,108.1 L 290.1,108.0 L 291.0,107.1 L 292.0,107.1 L 293.0,107.1 L 294.0,107.1 L 295.0,107.1 L 295.1,107.0 L 296.0,106.1 L 297.0,106.1 L 298.0,106.1 L 299.0,106.1 L 299.1,106.0 L 300.0,105.1 L 301.0,105.1 L 302.0,105.1 L 303.0,105.1 L 304.0,105.1 L 305.0,105.1 L 306.0,105.1 L 306.9,106.0 L 307.0,106.1 L 308.0,106.1 L 309.0,106.1 L 310.0,106.1 L 311.0,106.1 L 312.0,106.1 L 313.0,106.1 L 314.0,106.1 L 315.0,106.1 L 315.1,106.0 L 315.1,105.0 L 315.0,104.9 L 314.0,104.9 L 313.1,104.0 L 313.0,103.9 L 312.0,103.9 L 311.1,103.0 L 311.0,102.9 L 310.0,102.9 L 309.9,103.0 L 309.0,103.9 L 308.0,103.9 L 307.0,103.9 L 306.9,104.0 L 306.0,104.9 L 305.0,104.9 L 304.0,104.9 L 303.0,104.9 L 302.0,104.9 L 301.0,104.9 L 300.0,104.9 L 299.0,104.9 L 298.0,104.9 L 297.0,104.9 L 296.0,104.9 L 295.0,104.9 L 294.0,104.9 L 293.0,104.9 L 292.0,104.9 L 291.0,104.9 L 290.0,104.9 L 289.9,105.0 L 289.0,105.9 L 288.0,105.9 L 287.9,106.0 L 287.0,106.9 L 286.9,107.0 z\" /><path fill-rule=\"evenodd\" fill=\"#66cc99\" stroke=\"#555555\" stroke-width=\"2.0\" opacity=\"0.6\" d=\"M 299.9,106.0 L 300.0,106.1 L 301.0,106.1 L 302.0,106.1 L 303.0,106.1 L 304.0,106.1 L 305.0,106.1 L 306.0,106.1 L 306.1,106.0 L 306.0,105.9 L 305.0,105.9 L 304.0,105.9 L 303.0,105.9 L 302.0,105.9 L 301.0,105.9 L 300.0,105.9 L 299.9,106.0 z\" /><path fill-rule=\"evenodd\" fill=\"#66cc99\" stroke=\"#555555\" stroke-width=\"2.0\" opacity=\"0.6\" d=\"M 313.9,107.0 L 314.0,107.1 L 315.0,107.1 L 316.0,107.1 L 317.0,107.1 L 317.1,107.0 L 318.0,106.1 L 318.1,106.0 L 318.0,105.9 L 317.0,105.9 L 316.0,105.9 L 315.9,106.0 L 315.0,106.9 L 314.0,106.9 L 313.9,107.0 z\" /><path fill-rule=\"evenodd\" fill=\"#66cc99\" stroke=\"#555555\" stroke-width=\"2.0\" opacity=\"0.6\" d=\"M 308.9,107.0 L 309.0,107.1 L 310.0,107.1 L 311.0,107.1 L 312.0,107.1 L 313.0,107.1 L 313.1,107.0 L 313.0,106.9 L 312.0,106.9 L 311.0,106.9 L 310.0,106.9 L 309.0,106.9 L 308.9,107.0 z\" /><path fill-rule=\"evenodd\" fill=\"#66cc99\" stroke=\"#555555\" stroke-width=\"2.0\" opacity=\"0.6\" d=\"M 295.9,107.0 L 296.0,107.1 L 296.1,107.0 L 296.0,106.9 L 295.9,107.0 z\" /><path fill-rule=\"evenodd\" fill=\"#66cc99\" stroke=\"#555555\" stroke-width=\"2.0\" opacity=\"0.6\" d=\"M 290.9,108.0 L 291.0,108.1 L 291.9,109.0 L 292.0,109.1 L 293.0,109.1 L 293.1,109.0 L 294.0,108.1 L 295.0,108.1 L 295.1,108.0 L 295.0,107.9 L 294.0,107.9 L 293.0,107.9 L 292.0,107.9 L 291.0,107.9 L 290.9,108.0 z\" /><path fill-rule=\"evenodd\" fill=\"#66cc99\" stroke=\"#555555\" stroke-width=\"2.0\" opacity=\"0.6\" d=\"M 278.9,110.0 L 278.9,111.0 L 279.0,111.1 L 279.1,111.0 L 280.0,110.1 L 281.0,110.1 L 282.0,110.1 L 282.1,110.0 L 283.0,109.1 L 283.1,109.0 L 284.0,108.1 L 285.0,108.1 L 285.1,108.0 L 286.0,107.1 L 286.1,107.0 L 287.0,106.1 L 287.1,106.0 L 287.0,105.9 L 286.0,105.9 L 285.0,105.9 L 284.0,105.9 L 283.0,105.9 L 282.9,106.0 L 282.0,106.9 L 281.9,107.0 L 281.0,107.9 L 280.9,108.0 L 280.0,108.9 L 279.9,109.0 L 279.0,109.9 L 278.9,110.0 z\" /><path fill-rule=\"evenodd\" fill=\"#66cc99\" stroke=\"#555555\" stroke-width=\"2.0\" opacity=\"0.6\" d=\"M 309.9,108.0 L 309.9,109.0 L 310.0,109.1 L 311.0,109.1 L 312.0,109.1 L 313.0,109.1 L 314.0,109.1 L 315.0,109.1 L 315.1,109.0 L 316.0,108.1 L 316.1,108.0 L 316.0,107.9 L 315.0,107.9 L 314.0,107.9 L 313.0,107.9 L 312.0,107.9 L 311.0,107.9 L 310.0,107.9 L 309.9,108.0 z\" /><path fill-rule=\"evenodd\" fill=\"#66cc99\" stroke=\"#555555\" stroke-width=\"2.0\" opacity=\"0.6\" d=\"M 288.9,110.0 L 289.0,110.1 L 290.0,110.1 L 291.0,110.1 L 292.0,110.1 L 292.1,110.0 L 292.0,109.9 L 291.0,109.9 L 290.0,109.9 L 289.0,109.9 L 288.9,110.0 z\" /><path fill-rule=\"evenodd\" fill=\"#66cc99\" stroke=\"#555555\" stroke-width=\"2.0\" opacity=\"0.6\" d=\"M 284.9,111.0 L 285.0,111.1 L 286.0,111.1 L 287.0,111.1 L 288.0,111.1 L 288.1,111.0 L 288.0,110.9 L 287.0,110.9 L 286.0,110.9 L 285.0,110.9 L 284.9,111.0 z\" /><path fill-rule=\"evenodd\" fill=\"#66cc99\" stroke=\"#555555\" stroke-width=\"2.0\" opacity=\"0.6\" d=\"M 323.9,95.0 L 324.0,95.1 L 324.1,95.0 L 324.0,94.9 L 323.9,95.0 z\" /><path fill-rule=\"evenodd\" fill=\"#66cc99\" stroke=\"#555555\" stroke-width=\"2.0\" opacity=\"0.6\" d=\"M 328.9,95.0 L 329.0,95.1 L 329.1,95.0 L 329.0,94.9 L 328.9,95.0 z\" /><path fill-rule=\"evenodd\" fill=\"#66cc99\" stroke=\"#555555\" stroke-width=\"2.0\" opacity=\"0.6\" d=\"M 326.9,97.0 L 327.0,97.1 L 327.1,97.0 L 327.0,96.9 L 326.9,97.0 z\" /><path fill-rule=\"evenodd\" fill=\"#66cc99\" stroke=\"#555555\" stroke-width=\"2.0\" opacity=\"0.6\" d=\"M 325.9,99.0 L 326.0,99.1 L 326.1,99.0 L 326.0,98.9 L 325.9,99.0 z\" /><path fill-rule=\"evenodd\" fill=\"#66cc99\" stroke=\"#555555\" stroke-width=\"2.0\" opacity=\"0.6\" d=\"M 443.9,99.0 L 444.0,99.1 L 444.1,99.0 L 444.0,98.9 L 443.9,99.0 z\" /><path fill-rule=\"evenodd\" fill=\"#66cc99\" stroke=\"#555555\" stroke-width=\"2.0\" opacity=\"0.6\" d=\"M 444.9,100.0 L 445.0,100.1 L 445.1,100.0 L 445.0,99.9 L 444.9,100.0 z\" /><path fill-rule=\"evenodd\" fill=\"#66cc99\" stroke=\"#555555\" stroke-width=\"2.0\" opacity=\"0.6\" d=\"M 324.9,100.0 L 325.0,100.1 L 325.1,100.0 L 325.0,99.9 L 324.9,100.0 z\" /><path fill-rule=\"evenodd\" fill=\"#66cc99\" stroke=\"#555555\" stroke-width=\"2.0\" opacity=\"0.6\" d=\"M 445.9,101.0 L 446.0,101.1 L 446.1,101.0 L 446.0,100.9 L 445.9,101.0 z\" /><path fill-rule=\"evenodd\" fill=\"#66cc99\" stroke=\"#555555\" stroke-width=\"2.0\" opacity=\"0.6\" d=\"M 439.9,101.0 L 440.0,101.1 L 440.1,101.0 L 440.0,100.9 L 439.9,101.0 z\" /><path fill-rule=\"evenodd\" fill=\"#66cc99\" stroke=\"#555555\" stroke-width=\"2.0\" opacity=\"0.6\" d=\"M 441.9,96.0 L 442.0,96.1 L 442.1,96.0 L 442.0,95.9 L 441.9,96.0 z\" /><path fill-rule=\"evenodd\" fill=\"#66cc99\" stroke=\"#555555\" stroke-width=\"2.0\" opacity=\"0.6\" d=\"M 327.9,96.0 L 328.0,96.1 L 328.1,96.0 L 328.0,95.9 L 327.9,96.0 z\" /><path fill-rule=\"evenodd\" fill=\"#66cc99\" stroke=\"#555555\" stroke-width=\"2.0\" opacity=\"0.6\" d=\"M 437.9,95.0 L 437.9,96.0 L 437.9,97.0 L 438.0,97.1 L 438.9,98.0 L 438.9,99.0 L 439.0,99.1 L 439.9,100.0 L 440.0,100.1 L 440.9,101.0 L 440.9,102.0 L 441.0,102.1 L 441.9,103.0 L 441.9,104.0 L 442.0,104.1 L 442.9,105.0 L 442.9,106.0 L 443.0,106.1 L 443.9,107.0 L 443.9,108.0 L 444.0,108.1 L 444.9,109.0 L 444.0,109.9 L 443.0,109.9 L 442.0,109.9 L 441.9,110.0 L 442.0,110.1 L 442.9,111.0 L 443.0,111.1 L 443.9,112.0 L 444.0,112.1 L 444.9,113.0 L 444.9,114.0 L 445.0,114.1 L 445.9,115.0 L 446.0,115.1 L 446.9,116.0 L 447.0,116.1 L 447.9,117.0 L 448.0,117.1 L 448.1,117.0 L 449.0,116.1 L 449.1,116.0 L 449.1,115.0 L 450.0,114.1 L 450.1,114.0 L 451.0,113.1 L 451.1,113.0 L 451.1,112.0 L 452.0,111.1 L 452.1,111.0 L 453.0,110.1 L 453.1,110.0 L 453.1,109.0 L 454.0,108.1 L 454.1,108.0 L 454.1,107.0 L 455.0,106.1 L 455.1,106.0 L 455.1,105.0 L 455.0,104.9 L 454.0,104.9 L 453.1,104.0 L 453.0,103.9 L 452.0,103.9 L 451.0,103.9 L 450.1,103.0 L 450.0,102.9 L 449.0,102.9 L 448.0,102.9 L 447.1,102.0 L 447.0,101.9 L 446.0,101.9 L 445.1,101.0 L 445.0,100.9 L 444.1,100.0 L 444.0,99.9 L 443.1,99.0 L 443.1,98.0 L 443.0,97.9 L 442.1,97.0 L 442.0,96.9 L 441.1,96.0 L 441.0,95.9 L 440.1,95.0 L 440.0,94.9 L 439.0,94.9 L 438.0,94.9 L 437.9,95.0 z\" /><path fill-rule=\"evenodd\" fill=\"#66cc99\" stroke=\"#555555\" stroke-width=\"2.0\" opacity=\"0.6\" d=\"M 315.9,109.0 L 316.0,109.1 L 317.0,109.1 L 318.0,109.1 L 318.1,109.0 L 319.0,108.1 L 320.0,108.1 L 321.0,108.1 L 321.1,108.0 L 321.1,107.0 L 322.0,106.1 L 322.1,106.0 L 322.1,105.0 L 323.0,104.1 L 323.1,104.0 L 323.1,103.0 L 324.0,102.1 L 324.1,102.0 L 324.1,101.0 L 324.0,100.9 L 323.9,101.0 L 323.0,101.9 L 322.9,102.0 L 322.0,102.9 L 321.9,103.0 L 321.0,103.9 L 320.9,104.0 L 320.0,104.9 L 319.9,105.0 L 319.0,105.9 L 318.9,106.0 L 318.0,106.9 L 317.9,107.0 L 317.0,107.9 L 316.9,108.0 L 316.0,108.9 L 315.9,109.0 z\" /><path fill-rule=\"evenodd\" fill=\"#66cc99\" stroke=\"#555555\" stroke-width=\"2.0\" opacity=\"0.6\" d=\"M 394.9,89.0 L 395.0,89.1 L 396.0,89.1 L 396.9,90.0 L 397.0,90.1 L 398.0,90.1 L 398.9,91.0 L 399.0,91.1 L 400.0,91.1 L 400.9,92.0 L 401.0,92.1 L 402.0,92.1 L 403.0,92.1 L 404.0,92.1 L 405.0,92.1 L 406.0,92.1 L 407.0,92.1 L 408.0,92.1 L 409.0,92.1 L 410.0,92.1 L 411.0,92.1 L 412.0,92.1 L 413.0,92.1 L 414.0,92.1 L 415.0,92.1 L 416.0,92.1 L 417.0,92.1 L 418.0,92.1 L 419.0,92.1 L 420.0,92.1 L 421.0,92.1 L 421.9,93.0 L 422.0,93.1 L 423.0,93.1 L 424.0,93.1 L 425.0,93.1 L 425.9,94.0 L 426.0,94.1 L 427.0,94.1 L 428.0,94.1 L 429.0,94.1 L 429.9,95.0 L 430.0,95.1 L 431.0,95.1 L 431.1,95.0 L 432.0,94.1 L 433.0,94.1 L 434.0,94.1 L 435.0,94.1 L 436.0,94.1 L 436.9,95.0 L 437.0,95.1 L 437.1,95.0 L 437.1,94.0 L 437.1,93.0 L 437.1,92.0 L 437.1,91.0 L 437.1,90.0 L 437.0,89.9 L 436.0,89.9 L 435.0,89.9 L 434.0,89.9 L 433.0,89.9 L 432.0,89.9 L 431.0,89.9 L 430.0,89.9 L 429.0,89.9 L 428.0,89.9 L 427.0,89.9 L 426.0,89.9 L 425.0,89.9 L 424.0,89.9 L 423.0,89.9 L 422.0,89.9 L 421.0,89.9 L 420.0,89.9 L 419.0,89.9 L 418.0,89.9 L 417.0,89.9 L 416.1,89.0 L 416.0,88.9 L 415.0,88.9 L 414.0,88.9 L 413.0,88.9 L 412.0,88.9 L 411.0,88.9 L 410.0,88.9 L 409.0,88.9 L 408.0,88.9 L 407.0,88.9 L 406.0,88.9 L 405.0,88.9 L 404.0,88.9 L 403.0,88.9 L 402.0,88.9 L 401.0,88.9 L 400.0,88.9 L 399.0,88.9 L 398.0,88.9 L 397.0,88.9 L 396.0,88.9 L 395.0,88.9 L 394.9,89.0 z\" /><path fill-rule=\"evenodd\" fill=\"#66cc99\" stroke=\"#555555\" stroke-width=\"2.0\" opacity=\"0.6\" d=\"M 448.9,117.0 L 448.9,118.0 L 449.0,118.1 L 449.9,119.0 L 450.0,119.1 L 450.1,119.0 L 450.1,118.0 L 450.1,117.0 L 450.1,116.0 L 450.1,115.0 L 450.0,114.9 L 449.9,115.0 L 449.9,116.0 L 449.0,116.9 L 448.9,117.0 z\" /><path fill-rule=\"evenodd\" fill=\"#66cc99\" stroke=\"#555555\" stroke-width=\"2.0\" opacity=\"0.6\" d=\"M 418.9,117.0 L 419.0,117.1 L 419.1,117.0 L 419.0,116.9 L 418.9,117.0 z\" /><path fill-rule=\"evenodd\" fill=\"#66cc99\" stroke=\"#555555\" stroke-width=\"2.0\" opacity=\"0.6\" d=\"M 375.9,139.0 L 376.0,139.1 L 377.0,139.1 L 377.1,139.0 L 378.0,138.1 L 379.0,138.1 L 379.1,138.0 L 380.0,137.1 L 381.0,137.1 L 381.1,137.0 L 382.0,136.1 L 383.0,136.1 L 383.1,136.0 L 384.0,135.1 L 385.0,135.1 L 385.1,135.0 L 386.0,134.1 L 387.0,134.1 L 387.1,134.0 L 388.0,133.1 L 389.0,133.1 L 389.1,133.0 L 390.0,132.1 L 390.1,132.0 L 391.0,131.1 L 392.0,131.1 L 392.1,131.0 L 393.0,130.1 L 394.0,130.1 L 394.1,130.0 L 395.0,129.1 L 396.0,129.1 L 396.1,129.0 L 397.0,128.1 L 398.0,128.1 L 398.1,128.0 L 399.0,127.1 L 400.0,127.1 L 400.1,127.0 L 401.0,126.1 L 402.0,126.1 L 402.1,126.0 L 403.0,125.1 L 404.0,125.1 L 404.1,125.0 L 405.0,124.1 L 405.1,124.0 L 406.0,123.1 L 407.0,123.1 L 407.1,123.0 L 408.0,122.1 L 409.0,122.1 L 409.1,122.0 L 410.0,121.1 L 411.0,121.1 L 411.1,121.0 L 412.0,120.1 L 413.0,120.1 L 413.1,120.0 L 414.0,119.1 L 415.0,119.1 L 415.1,119.0 L 416.0,118.1 L 417.0,118.1 L 417.1,118.0 L 418.0,117.1 L 418.1,117.0 L 419.0,116.1 L 420.0,116.1 L 420.1,116.0 L 421.0,115.1 L 422.0,115.1 L 422.1,115.0 L 423.0,114.1 L 424.0,114.1 L 424.1,114.0 L 425.0,113.1 L 426.0,113.1 L 426.1,113.0 L 427.0,112.1 L 428.0,112.1 L 428.1,112.0 L 429.0,111.1 L 430.0,111.1 L 430.1,111.0 L 431.0,110.1 L 432.0,110.1 L 432.1,110.0 L 433.0,109.1 L 434.0,109.1 L 435.0,109.1 L 436.0,109.1 L 437.0,109.1 L 438.0,109.1 L 439.0,109.1 L 440.0,109.1 L 441.0,109.1 L 442.0,109.1 L 443.0,109.1 L 444.0,109.1 L 444.1,109.0 L 444.0,108.9 L 443.1,108.0 L 443.1,107.0 L 443.0,106.9 L 442.1,106.0 L 442.1,105.0 L 442.0,104.9 L 441.1,104.0 L 441.1,103.0 L 441.0,102.9 L 440.1,102.0 L 440.0,101.9 L 439.1,101.0 L 439.1,100.0 L 439.0,99.9 L 438.1,99.0 L 438.1,98.0 L 438.0,97.9 L 437.1,97.0 L 437.1,96.0 L 437.0,95.9 L 436.1,95.0 L 436.0,94.9 L 435.0,94.9 L 434.0,94.9 L 433.0,94.9 L 432.0,94.9 L 431.9,95.0 L 431.9,96.0 L 431.9,97.0 L 432.0,97.1 L 432.9,98.0 L 432.9,99.0 L 432.9,100.0 L 432.9,101.0 L 433.0,101.1 L 433.9,102.0 L 433.9,103.0 L 433.9,104.0 L 434.0,104.1 L 434.9,105.0 L 434.9,106.0 L 434.0,106.9 L 433.0,106.9 L 432.9,107.0 L 432.0,107.9 L 431.0,107.9 L 430.0,107.9 L 429.0,107.9 L 428.9,108.0 L 428.0,108.9 L 427.0,108.9 L 426.0,108.9 L 425.0,108.9 L 424.9,109.0 L 424.0,109.9 L 423.0,109.9 L 422.9,110.0 L 422.0,110.9 L 421.0,110.9 L 420.9,111.0 L 420.0,111.9 L 419.9,112.0 L 419.0,112.9 L 418.0,112.9 L 417.9,113.0 L 417.0,113.9 L 416.9,114.0 L 416.0,114.9 L 415.0,114.9 L 414.9,115.0 L 414.0,115.9 L 413.9,116.0 L 413.0,116.9 L 412.0,116.9 L 411.9,117.0 L 411.0,117.9 L 410.0,117.9 L 409.9,118.0 L 409.0,118.9 L 408.0,118.9 L 407.9,119.0 L 407.0,119.9 L 406.0,119.9 L 405.9,120.0 L 405.0,120.9 L 404.0,120.9 L 403.9,121.0 L 403.0,121.9 L 402.0,121.9 L 401.9,122.0 L 401.0,122.9 L 400.0,122.9 L 399.9,123.0 L 399.0,123.9 L 398.0,123.9 L 397.9,124.0 L 397.0,124.9 L 396.0,124.9 L 395.9,125.0 L 395.0,125.9 L 394.9,126.0 L 394.0,126.9 L 393.0,126.9 L 392.9,127.0 L 392.0,127.9 L 391.9,128.0 L 391.0,128.9 L 390.0,128.9 L 389.9,129.0 L 389.0,129.9 L 388.9,130.0 L 388.0,130.9 L 387.0,130.9 L 386.9,131.0 L 386.0,131.9 L 385.0,131.9 L 384.9,132.0 L 384.0,132.9 L 383.9,133.0 L 383.0,133.9 L 382.0,133.9 L 381.9,134.0 L 381.0,134.9 L 380.9,135.0 L 380.0,135.9 L 379.0,135.9 L 378.9,136.0 L 378.0,136.9 L 377.9,137.0 L 377.0,137.9 L 376.9,138.0 L 376.0,138.9 L 375.9,139.0 z\" /><path fill-rule=\"evenodd\" fill=\"#66cc99\" stroke=\"#555555\" stroke-width=\"2.0\" opacity=\"0.6\" d=\"M 367.9,157.0 L 368.0,157.1 L 369.0,157.1 L 369.1,157.0 L 370.0,156.1 L 370.1,156.0 L 371.0,155.1 L 372.0,155.1 L 372.1,155.0 L 373.0,154.1 L 373.1,154.0 L 374.0,153.1 L 375.0,153.1 L 375.1,153.0 L 376.0,152.1 L 377.0,152.1 L 377.1,152.0 L 378.0,151.1 L 378.1,151.0 L 379.0,150.1 L 380.0,150.1 L 380.1,150.0 L 381.0,149.1 L 381.1,149.0 L 382.0,148.1 L 383.0,148.1 L 383.1,148.0 L 384.0,147.1 L 384.1,147.0 L 385.0,146.1 L 386.0,146.1 L 386.1,146.0 L 387.0,145.1 L 387.1,145.0 L 388.0,144.1 L 389.0,144.1 L 389.1,144.0 L 390.0,143.1 L 390.1,143.0 L 391.0,142.1 L 392.0,142.1 L 392.1,142.0 L 393.0,141.1 L 394.0,141.1 L 394.1,141.0 L 395.0,140.1 L 395.1,140.0 L 396.0,139.1 L 397.0,139.1 L 397.1,139.0 L 398.0,138.1 L 398.1,138.0 L 399.0,137.1 L 400.0,137.1 L 400.1,137.0 L 401.0,136.1 L 401.1,136.0 L 402.0,135.1 L 403.0,135.1 L 403.1,135.0 L 404.0,134.1 L 404.1,134.0 L 405.0,133.1 L 406.0,133.1 L 406.1,133.0 L 407.0,132.1 L 408.0,132.1 L 408.1,132.0 L 409.0,131.1 L 409.1,131.0 L 410.0,130.1 L 411.0,130.1 L 411.1,130.0 L 412.0,129.1 L 412.1,129.0 L 413.0,128.1 L 414.0,128.1 L 414.1,128.0 L 415.0,127.1 L 415.1,127.0 L 416.0,126.1 L 417.0,126.1 L 417.1,126.0 L 418.0,125.1 L 418.1,125.0 L 419.0,124.1 L 420.0,124.1 L 420.1,124.0 L 421.0,123.1 L 421.1,123.0 L 422.0,122.1 L 423.0,122.1 L 423.1,122.0 L 424.0,121.1 L 425.0,121.1 L 425.1,121.0 L 426.0,120.1 L 426.1,120.0 L 427.0,119.1 L 428.0,119.1 L 428.1,119.0 L 429.0,118.1 L 429.1,118.0 L 430.0,117.1 L 431.0,117.1 L 431.1,117.0 L 432.0,116.1 L 432.1,116.0 L 433.0,115.1 L 434.0,115.1 L 434.1,115.0 L 435.0,114.1 L 435.1,114.0 L 436.0,113.1 L 437.0,113.1 L 437.1,113.0 L 438.0,112.1 L 438.1,112.0 L 439.0,111.1 L 439.1,111.0 L 439.0,110.9 L 438.0,110.9 L 437.9,111.0 L 437.0,111.9 L 436.0,111.9 L 435.0,111.9 L 434.0,111.9 L 433.0,111.9 L 432.0,111.9 L 431.9,112.0 L 431.0,112.9 L 430.0,112.9 L 429.0,112.9 L 428.0,112.9 L 427.0,112.9 L 426.9,113.0 L 426.0,113.9 L 425.0,113.9 L 424.9,114.0 L 424.0,114.9 L 423.0,114.9 L 422.9,115.0 L 422.0,115.9 L 421.0,115.9 L 420.9,116.0 L 420.0,116.9 L 419.9,117.0 L 419.0,117.9 L 418.0,117.9 L 417.9,118.0 L 417.0,118.9 L 416.0,118.9 L 415.9,119.0 L 415.0,119.9 L 414.9,120.0 L 414.0,120.9 L 413.0,120.9 L 412.9,121.0 L 412.0,121.9 L 411.0,121.9 L 410.0,121.9 L 409.9,122.0 L 409.0,122.9 L 408.0,122.9 L 407.9,123.0 L 407.0,123.9 L 406.0,123.9 L 405.9,124.0 L 405.0,124.9 L 404.9,125.0 L 404.0,125.9 L 403.0,125.9 L 402.9,126.0 L 402.0,126.9 L 401.0,126.9 L 400.9,127.0 L 400.0,127.9 L 399.0,127.9 L 398.9,128.0 L 398.0,128.9 L 397.0,128.9 L 396.9,129.0 L 396.0,129.9 L 395.0,129.9 L 394.9,130.0 L 394.0,130.9 L 393.9,131.0 L 393.0,131.9 L 392.9,132.0 L 392.0,132.9 L 391.9,133.0 L 391.0,133.9 L 390.9,134.0 L 390.0,134.9 L 389.9,135.0 L 389.0,135.9 L 388.9,136.0 L 388.0,136.9 L 387.9,137.0 L 387.0,137.9 L 386.9,138.0 L 386.0,138.9 L 385.9,139.0 L 385.0,139.9 L 384.9,140.0 L 384.0,140.9 L 383.9,141.0 L 383.0,141.9 L 382.9,142.0 L 382.0,142.9 L 381.9,143.0 L 381.0,143.9 L 380.9,144.0 L 380.0,144.9 L 379.9,145.0 L 379.0,145.9 L 378.9,146.0 L 378.0,146.9 L 377.9,147.0 L 377.0,147.9 L 376.9,148.0 L 376.0,148.9 L 375.9,149.0 L 375.0,149.9 L 374.9,150.0 L 374.0,150.9 L 373.9,151.0 L 373.0,151.9 L 372.9,152.0 L 372.0,152.9 L 371.9,153.0 L 371.0,153.9 L 370.9,154.0 L 370.0,154.9 L 369.9,155.0 L 369.0,155.9 L 368.9,156.0 L 368.0,156.9 L 367.9,157.0 z\" /></g></g></svg>"
      ],
      "text/plain": [
       "<shapely.geometry.multipolygon.MultiPolygon at 0x108494e90>"
      ]
     },
     "execution_count": 39,
     "metadata": {},
     "output_type": "execute_result"
    }
   ],
   "source": [
    "join_tiles(solutionListm,tiles)"
   ]
  },
  {
   "cell_type": "markdown",
   "metadata": {},
   "source": [
    "# Plotting $\\gamma$ probabilities for each tile"
   ]
  },
  {
   "cell_type": "code",
   "execution_count": 1,
   "metadata": {
    "collapsed": false
   },
   "outputs": [
    {
     "ename": "NameError",
     "evalue": "name 'La' is not defined",
     "output_type": "error",
     "traceback": [
      "\u001b[0;31m---------------------------------------------------------------------------\u001b[0m",
      "\u001b[0;31mNameError\u001b[0m                                 Traceback (most recent call last)",
      "\u001b[0;32m<ipython-input-1-65b04bcbad73>\u001b[0m in \u001b[0;36m<module>\u001b[0;34m()\u001b[0m\n\u001b[0;32m----> 1\u001b[0;31m \u001b[0mLa\u001b[0m\u001b[0;34m\u001b[0m\u001b[0m\n\u001b[0m",
      "\u001b[0;31mNameError\u001b[0m: name 'La' is not defined"
     ]
    }
   ],
   "source": [
    "La"
   ]
  },
  {
   "cell_type": "code",
   "execution_count": null,
   "metadata": {
    "collapsed": true
   },
   "outputs": [],
   "source": []
  }
 ],
 "metadata": {
  "kernelspec": {
   "display_name": "Python 2",
   "language": "python",
   "name": "python2"
  },
  "language_info": {
   "codemirror_mode": {
    "name": "ipython",
    "version": 2
   },
   "file_extension": ".py",
   "mimetype": "text/x-python",
   "name": "python",
   "nbconvert_exporter": "python",
   "pygments_lexer": "ipython2",
   "version": "2.7.10"
  }
 },
 "nbformat": 4,
 "nbformat_minor": 0
}
