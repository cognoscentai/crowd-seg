{
 "cells": [
  {
   "cell_type": "code",
   "execution_count": 1,
   "metadata": {
    "collapsed": false
   },
   "outputs": [
    {
     "name": "stdout",
     "output_type": "stream",
     "text": [
      "Populating the interactive namespace from numpy and matplotlib\n"
     ]
    }
   ],
   "source": [
    "%pylab inline\n",
    "from analysis_toolbox import *\n",
    "from qualityBaseline import *\n",
    "import pandas as pd \n",
    "from scipy.optimize import minimize\n",
    "bb_info = pd.read_csv('../../crowd-seg/analysis/computed_my_COCO_BBvals.csv')\n",
    "obj_sorted_tbl =  bb_info[bb_info['Jaccard [COCO]']!=-1][bb_info['Jaccard [COCO]']!=0][bb_info['Jaccard [Self]']!=0].sort('object_id')\n",
    "object_id_lst  = list(set(obj_sorted_tbl.object_id))\n",
    "img_info,object_tbl,bb_info,hit_info = load_info()"
   ]
  },
  {
   "cell_type": "code",
   "execution_count": 2,
   "metadata": {
    "collapsed": true
   },
   "outputs": [],
   "source": [
    "def abslogN(param):\n",
    "    '''\n",
    "    Drawing from normal distribution with prior (std) as param, with mean centered at 0\n",
    "    log without nan; nan if value <0\n",
    "    '''\n",
    "    return log(abs(random.normal(0,param)))\n",
    "def compute_phii(metric):\n",
    "    '''\n",
    "    phi value compared to ground truth \n",
    "    '''\n",
    "    if metric in ['Precision [COCO]','Recall [COCO]','Jaccard [COCO]',\"NME [COCO]\",\\\n",
    "       'Precision [Self]','Recall [Self]','Jaccard [Self]',\"NME [Self]\"]:\n",
    "        return 1\n",
    "    elif metric in [\"Num Points\",\"Area Ratio\"]:\n",
    "        return 0"
   ]
  },
  {
   "cell_type": "code",
   "execution_count": 27,
   "metadata": {
    "collapsed": false
   },
   "outputs": [],
   "source": [
    "# T = total number of tasks\n",
    "# n = number of points in bounding box\n",
    "# m = number of metric functions of interest\n",
    "# W = total number of workers \n",
    "#metric functions of interest \n",
    "#metrics_lst = ['Precision [COCO]','Recall [COCO]','Jaccard [COCO]',\"NME [COCO]\",\"Num Points\",\\\n",
    "#               'Precision [Self]','Recall [Self]','Jaccard [Self]',\"NME [Self]\",\"Area Ratio\"]\n",
    "metrics_lst = ['Precision [COCO]','Recall [COCO]']\n",
    "worker_lst = unique(bb_info.worker_id)\n",
    "#Parameters: Priors\n",
    "beta,gamma,theta = [1,1,1]\n",
    "# Hidden variables \n",
    "m = len(metrics_lst)\n",
    "T = len(img_info)\n",
    "W = len(worker_lst)\n",
    "z = np.ones((50,T))# n x T\n",
    "D = np.zeros((m,T))# m x T\n",
    "b = np.zeros((m,W))# m x W\n",
    "c = np.zeros((m,W))# m x W"
   ]
  },
  {
   "cell_type": "code",
   "execution_count": 28,
   "metadata": {
    "collapsed": false
   },
   "outputs": [],
   "source": [
    "# equally weigh Di and cj\n",
    "w1=0.5\n",
    "w2=0.5"
   ]
  },
  {
   "cell_type": "code",
   "execution_count": 29,
   "metadata": {
    "collapsed": false
   },
   "outputs": [],
   "source": [
    "def Q(params):\n",
    "    beta,gamma,theta = params\n",
    "    loglikelihood=[]\n",
    "    # Loop through all Phi metrics \n",
    "    for k in range(m):\n",
    "        #Loop through all task\n",
    "        logpD_lst =[]\n",
    "        for j in range(W):\n",
    "            logpD_lst.append(abslogN(theta))\n",
    "        logpD =sum(logpD_lst)\n",
    "        #Loop through all workers\n",
    "        worker_quality_prob=[]\n",
    "        for i in range(T):\n",
    "            worker_quality_prob.append(abslogN(beta)+ abslogN(gamma))\n",
    "            logphiij_lst = []\n",
    "            # Ji is the list of workers that annotated object i\n",
    "            Ji = list(obj_sorted_tbl[obj_sorted_tbl[\"object_id\"]==i].worker_id)\n",
    "            for j in Ji : \n",
    "                j = int(np.where(worker_lst==j)[0])\n",
    "                phii=compute_phii(metrics_lst[k])\n",
    "                mu = phii-b[k][j]\n",
    "                sig = sqrt(w1*D[k][i]**2+w2*c[k][j]**2)\n",
    "                if sig==0: sig=1e-5\n",
    "                logphiij_lst.append(log(abs(random.normal(mu,sig))))\n",
    "        logphiij = sum(logphiij_lst)\n",
    "        loglikelihood.append(sum(worker_quality_prob)+logphiij+logpD)\n",
    "    # sum of likelihood over all the Phi_k functions \n",
    "    return -sum(loglikelihood)"
   ]
  },
  {
   "cell_type": "markdown",
   "metadata": {},
   "source": [
    "In the M step you maximize the posterior by minimizing the -log likelihood. Then using the maximized parameters $\\theta^\\prime$, update hidden var Di,bj,cj, by drawing your distribution based on those maximized parameters. zi will not be updated."
   ]
  },
  {
   "cell_type": "code",
   "execution_count": 25,
   "metadata": {
    "collapsed": false
   },
   "outputs": [
    {
     "data": {
      "text/plain": [
       "306.01358064382237"
      ]
     },
     "execution_count": 25,
     "metadata": {},
     "output_type": "execute_result"
    }
   ],
   "source": [
    "Q([beta,gamma,theta])"
   ]
  },
  {
   "cell_type": "code",
   "execution_count": 9,
   "metadata": {
    "collapsed": false
   },
   "outputs": [],
   "source": [
    "bnds= ((0, None), (0, None),(0, None))\n",
    "results = minimize(Q,[200,200,200],method='tnc',bounds=bnds)#, options={'factr' : 1e7})"
   ]
  },
  {
   "cell_type": "code",
   "execution_count": 10,
   "metadata": {
    "collapsed": false
   },
   "outputs": [
    {
     "data": {
      "text/plain": [
       "     fun: -1022.1637989726872\n",
       "     jac: array([ -2.58093526e+09,  -2.42682874e+09,  -2.99862097e+09])\n",
       " message: 'Converged (|x_n-x_(n-1)| ~= 0)'\n",
       "    nfev: 5\n",
       "     nit: 1\n",
       "  status: 2\n",
       " success: True\n",
       "       x: array([ 199.99999989,  200.00000157,  200.00000095])"
      ]
     },
     "execution_count": 10,
     "metadata": {},
     "output_type": "execute_result"
    }
   ],
   "source": [
    "results"
   ]
  },
  {
   "cell_type": "markdown",
   "metadata": {},
   "source": [
    "this is a bit weird because the optimized parameters are always very close to the initial conditions "
   ]
  },
  {
   "cell_type": "code",
   "execution_count": 13,
   "metadata": {
    "collapsed": false
   },
   "outputs": [],
   "source": [
    "bnds= ((0, None), (0, None),(0, None))\n",
    "N_iter = 50 #numebr of iterations \n",
    "negloglikelihood_lst = []\n",
    "for i in range(N_iter): \n",
    "    print \"\"\n",
    "    # E step \n",
    "    negloglikelihood = Q([beta,gamma,theta])\n",
    "    negloglikelihood_lst.append(negloglikelihood)\n",
    "    # M step\n",
    "    results = minimize(Q,[200,200,200],method='tnc',bounds=bnds)#, options={'factr' : 1e7})\n",
    "    beta,gamma,theta = results.x"
   ]
  },
  {
   "cell_type": "code",
   "execution_count": 18,
   "metadata": {
    "collapsed": false
   },
   "outputs": [
    {
     "data": {
      "text/plain": [
       "     fun: -1022.3961879225614\n",
       "     jac: array([  5.82187234e+09,   2.77439877e+09,   4.41009234e+09])\n",
       " message: 'Converged (|x_n-x_(n-1)| ~= 0)'\n",
       "    nfev: 4\n",
       "     nit: 1\n",
       "  status: 2\n",
       " success: True\n",
       "       x: array([ 200.00000011,  200.00000012,  200.00000021])"
      ]
     },
     "execution_count": 18,
     "metadata": {},
     "output_type": "execute_result"
    }
   ],
   "source": [
    "results"
   ]
  },
  {
   "cell_type": "code",
   "execution_count": 17,
   "metadata": {
    "collapsed": false
   },
   "outputs": [
    {
     "data": {
      "text/plain": [
       "[<matplotlib.lines.Line2D at 0x10ee09f10>]"
      ]
     },
     "execution_count": 17,
     "metadata": {},
     "output_type": "execute_result"
    },
    {
     "data": {
      "image/png": "[encoded data removed]",
      "text/plain": [
       "<matplotlib.figure.Figure at 0x10ed2ed90>"
      ]
     },
     "metadata": {},
     "output_type": "display_data"
    }
   ],
   "source": [
    "plt.plot(negloglikelihood_lst)"
   ]
  },
  {
   "cell_type": "code",
   "execution_count": null,
   "metadata": {
    "collapsed": true
   },
   "outputs": [],
   "source": []
  },
  {
   "cell_type": "code",
   "execution_count": null,
   "metadata": {
    "collapsed": true
   },
   "outputs": [],
   "source": []
  },
  {
   "cell_type": "code",
   "execution_count": null,
   "metadata": {
    "collapsed": true
   },
   "outputs": [],
   "source": []
  }
 ],
 "metadata": {
  "kernelspec": {
   "display_name": "Python 2",
   "language": "python",
   "name": "python2"
  },
  "language_info": {
   "codemirror_mode": {
    "name": "ipython",
    "version": 2
   },
   "file_extension": ".py",
   "mimetype": "text/x-python",
   "name": "python",
   "nbconvert_exporter": "python",
   "pygments_lexer": "ipython2",
   "version": "2.7.10"
  }
 },
 "nbformat": 4,
 "nbformat_minor": 0
}
